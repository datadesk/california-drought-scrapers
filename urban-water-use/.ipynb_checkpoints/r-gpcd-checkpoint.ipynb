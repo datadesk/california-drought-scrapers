{
 "cells": [
  {
   "cell_type": "code",
   "execution_count": 56,
   "id": "89e6bf97-56dc-449a-862e-426bda299ee5",
   "metadata": {},
   "outputs": [],
   "source": [
    "import pandas as pd\n",
    "import altair as alt\n",
    "import altair_latimes as lat"
   ]
  },
  {
   "cell_type": "code",
   "execution_count": 57,
   "id": "87ee398f-dd06-4471-90d8-74d2ad7f7a45",
   "metadata": {},
   "outputs": [
    {
     "data": {
      "text/plain": [
       "ThemeRegistry.enable('latimes')"
      ]
     },
     "execution_count": 57,
     "metadata": {},
     "output_type": "execute_result"
    }
   ],
   "source": [
    "alt.themes.register('latimes', lat.theme)\n",
    "alt.themes.enable('latimes')"
   ]
  },
  {
   "cell_type": "markdown",
   "id": "9965cc79-7807-43bb-af0e-6840e511ebeb",
   "metadata": {},
   "source": [
    "### Import"
   ]
  },
  {
   "cell_type": "markdown",
   "id": "f19c51b2-d04a-43cb-ac02-bb8267917aac",
   "metadata": {},
   "source": [
    "Monthly reports timeseries"
   ]
  },
  {
   "cell_type": "code",
   "execution_count": 58,
   "id": "c03b3f41-de7d-4d3f-8b89-1e114979b829",
   "metadata": {},
   "outputs": [],
   "source": [
    "# df = pd.read_csv(\"../data/raw/uw-usage.csv\", parse_dates=[\"Reporting Month\"])\n",
    "df = pd.read_csv(\n",
    "    \"data/latest.csv\", \n",
    "    parse_dates=[\"report_period_start_date\", \"report_period_end_date\"]\n",
    ")"
   ]
  },
  {
   "cell_type": "code",
   "execution_count": 59,
   "id": "3f26c3dc-4e93-4a61-987e-5bdc63f7758d",
   "metadata": {},
   "outputs": [],
   "source": [
    "# clean_names = pd.read_csv(\"data/metadata/urban-water-suppliers-clean-names.csv\")"
   ]
  },
  {
   "cell_type": "code",
   "execution_count": 60,
   "id": "6eccad0c-29e0-4515-aaae-ed743d186a5d",
   "metadata": {},
   "outputs": [],
   "source": [
    "crosswalk = pd.read_csv(\"data/metadata/crosswalk.csv\")"
   ]
  },
  {
   "cell_type": "markdown",
   "id": "5ee352c7-fbb1-4cdd-990f-575dcf1b4889",
   "metadata": {},
   "source": [
    "### Clean"
   ]
  },
  {
   "cell_type": "markdown",
   "id": "1a329783-20cc-4d4a-b71c-b2d4e9e984d5",
   "metadata": {},
   "source": [
    "Remove any whitespace from column names"
   ]
  },
  {
   "cell_type": "code",
   "execution_count": 61,
   "id": "f1ed09d0-380d-4f9d-91ad-cdd52ea22fb9",
   "metadata": {
    "tags": []
   },
   "outputs": [],
   "source": [
    "df.columns = df.columns.str.strip(' ').str.replace(\"-\",\"_\")"
   ]
  },
  {
   "cell_type": "markdown",
   "id": "9b698ae0-bb21-406e-968c-3ccc8051b00b",
   "metadata": {},
   "source": [
    "Eliminate double spaces in supplier names"
   ]
  },
  {
   "cell_type": "code",
   "execution_count": 62,
   "id": "e9d8434b-11e4-4322-9f69-e8d20de3a2e1",
   "metadata": {},
   "outputs": [],
   "source": [
    "df.supplier_name = df.supplier_name.str.replace(\"  \", \" \")"
   ]
  },
  {
   "cell_type": "code",
   "execution_count": 63,
   "id": "899a1318-fc81-4ccd-a982-e3234e3bec01",
   "metadata": {
    "tags": []
   },
   "outputs": [],
   "source": [
    "df['supplier_name'] = df['supplier_name'].str.strip()"
   ]
  },
  {
   "cell_type": "code",
   "execution_count": 64,
   "id": "c7894a80-8cd4-4d62-9b72-bf1b91f9b0d2",
   "metadata": {},
   "outputs": [],
   "source": [
    "df['county'] = df.county.str.title()"
   ]
  },
  {
   "cell_type": "markdown",
   "id": "b2bc306e-548b-47cf-9fcf-26b20a578872",
   "metadata": {},
   "source": [
    "### Merge clean names"
   ]
  },
  {
   "cell_type": "code",
   "execution_count": 65,
   "id": "5183df9a-100b-4132-9bec-90efc4a95f04",
   "metadata": {},
   "outputs": [],
   "source": [
    "merge_names_df = pd.merge(\n",
    "    df,\n",
    "    crosswalk[['org_id', 'longitude', 'latitude', 'main_county']],\n",
    "    how=\"left\",\n",
    "    on=\"org_id\"\n",
    ")"
   ]
  },
  {
   "cell_type": "markdown",
   "id": "76f78a3d-d908-4daa-966e-181667fc5b1b",
   "metadata": {},
   "source": [
    "### Trim"
   ]
  },
  {
   "cell_type": "markdown",
   "id": "d07ff870-11ef-4fe5-92a0-f1aeb4a8f0d2",
   "metadata": {},
   "source": [
    "Remove flagged `r-gpcd` values"
   ]
  },
  {
   "cell_type": "code",
   "execution_count": 66,
   "id": "87684038-ef51-4a8e-b2df-d080a08bc6ce",
   "metadata": {},
   "outputs": [],
   "source": [
    "remove_flagged = merge_names_df[merge_names_df.res_flag != 'Flagged']"
   ]
  },
  {
   "cell_type": "markdown",
   "id": "adcda64d-3e18-4fd7-b1a8-fa47eca21300",
   "metadata": {},
   "source": [
    "Trim this down to just the columns we need"
   ]
  },
  {
   "cell_type": "code",
   "execution_count": 67,
   "id": "255bd05a-9a48-44d8-b53a-c6123e56c1de",
   "metadata": {},
   "outputs": [],
   "source": [
    "keeps = [\n",
    "    'org_id',\n",
    "    'supplier_name', \n",
    "    # 'display_name',\n",
    "    'water_system_id', \n",
    "    'report_period_start_date', \n",
    "    'report_period_end_date',\n",
    "    'main_county',\n",
    "    'hydro_region', \n",
    "    # 'climate_zone', \n",
    "    'pop_report_period',\n",
    "    'potable_supply_minus_sold_minus_ag_gal',\n",
    "    'potable_supply_minus_sold_minus_ag_gal_flag',\n",
    "    'r_gpcd', \n",
    "    'res_flag',\n",
    "    'latitude',\n",
    "    'longitude'\n",
    "]"
   ]
  },
  {
   "cell_type": "code",
   "execution_count": 68,
   "id": "b0a6705a-00fd-4b96-98a2-e4deba47e94e",
   "metadata": {},
   "outputs": [
    {
     "ename": "KeyError",
     "evalue": "\"['clat', 'clon'] not in index\"",
     "output_type": "error",
     "traceback": [
      "\u001b[0;31m---------------------------------------------------------------------------\u001b[0m",
      "\u001b[0;31mKeyError\u001b[0m                                  Traceback (most recent call last)",
      "Cell \u001b[0;32mIn[68], line 1\u001b[0m\n\u001b[0;32m----> 1\u001b[0m trim_df \u001b[38;5;241m=\u001b[39m \u001b[43mremove_flagged\u001b[49m\u001b[43m[\u001b[49m\u001b[43mkeeps\u001b[49m\u001b[43m]\u001b[49m\n",
      "File \u001b[0;32m~/.local/share/virtualenvs/california-drought-scrapers-ZgUZUkcJ/lib/python3.9/site-packages/pandas/core/frame.py:4096\u001b[0m, in \u001b[0;36mDataFrame.__getitem__\u001b[0;34m(self, key)\u001b[0m\n\u001b[1;32m   4094\u001b[0m     \u001b[38;5;28;01mif\u001b[39;00m is_iterator(key):\n\u001b[1;32m   4095\u001b[0m         key \u001b[38;5;241m=\u001b[39m \u001b[38;5;28mlist\u001b[39m(key)\n\u001b[0;32m-> 4096\u001b[0m     indexer \u001b[38;5;241m=\u001b[39m \u001b[38;5;28;43mself\u001b[39;49m\u001b[38;5;241;43m.\u001b[39;49m\u001b[43mcolumns\u001b[49m\u001b[38;5;241;43m.\u001b[39;49m\u001b[43m_get_indexer_strict\u001b[49m\u001b[43m(\u001b[49m\u001b[43mkey\u001b[49m\u001b[43m,\u001b[49m\u001b[43m \u001b[49m\u001b[38;5;124;43m\"\u001b[39;49m\u001b[38;5;124;43mcolumns\u001b[39;49m\u001b[38;5;124;43m\"\u001b[39;49m\u001b[43m)\u001b[49m[\u001b[38;5;241m1\u001b[39m]\n\u001b[1;32m   4098\u001b[0m \u001b[38;5;66;03m# take() does not accept boolean indexers\u001b[39;00m\n\u001b[1;32m   4099\u001b[0m \u001b[38;5;28;01mif\u001b[39;00m \u001b[38;5;28mgetattr\u001b[39m(indexer, \u001b[38;5;124m\"\u001b[39m\u001b[38;5;124mdtype\u001b[39m\u001b[38;5;124m\"\u001b[39m, \u001b[38;5;28;01mNone\u001b[39;00m) \u001b[38;5;241m==\u001b[39m \u001b[38;5;28mbool\u001b[39m:\n",
      "File \u001b[0;32m~/.local/share/virtualenvs/california-drought-scrapers-ZgUZUkcJ/lib/python3.9/site-packages/pandas/core/indexes/base.py:6200\u001b[0m, in \u001b[0;36mIndex._get_indexer_strict\u001b[0;34m(self, key, axis_name)\u001b[0m\n\u001b[1;32m   6197\u001b[0m \u001b[38;5;28;01melse\u001b[39;00m:\n\u001b[1;32m   6198\u001b[0m     keyarr, indexer, new_indexer \u001b[38;5;241m=\u001b[39m \u001b[38;5;28mself\u001b[39m\u001b[38;5;241m.\u001b[39m_reindex_non_unique(keyarr)\n\u001b[0;32m-> 6200\u001b[0m \u001b[38;5;28;43mself\u001b[39;49m\u001b[38;5;241;43m.\u001b[39;49m\u001b[43m_raise_if_missing\u001b[49m\u001b[43m(\u001b[49m\u001b[43mkeyarr\u001b[49m\u001b[43m,\u001b[49m\u001b[43m \u001b[49m\u001b[43mindexer\u001b[49m\u001b[43m,\u001b[49m\u001b[43m \u001b[49m\u001b[43maxis_name\u001b[49m\u001b[43m)\u001b[49m\n\u001b[1;32m   6202\u001b[0m keyarr \u001b[38;5;241m=\u001b[39m \u001b[38;5;28mself\u001b[39m\u001b[38;5;241m.\u001b[39mtake(indexer)\n\u001b[1;32m   6203\u001b[0m \u001b[38;5;28;01mif\u001b[39;00m \u001b[38;5;28misinstance\u001b[39m(key, Index):\n\u001b[1;32m   6204\u001b[0m     \u001b[38;5;66;03m# GH 42790 - Preserve name from an Index\u001b[39;00m\n",
      "File \u001b[0;32m~/.local/share/virtualenvs/california-drought-scrapers-ZgUZUkcJ/lib/python3.9/site-packages/pandas/core/indexes/base.py:6252\u001b[0m, in \u001b[0;36mIndex._raise_if_missing\u001b[0;34m(self, key, indexer, axis_name)\u001b[0m\n\u001b[1;32m   6249\u001b[0m     \u001b[38;5;28;01mraise\u001b[39;00m \u001b[38;5;167;01mKeyError\u001b[39;00m(\u001b[38;5;124mf\u001b[39m\u001b[38;5;124m\"\u001b[39m\u001b[38;5;124mNone of [\u001b[39m\u001b[38;5;132;01m{\u001b[39;00mkey\u001b[38;5;132;01m}\u001b[39;00m\u001b[38;5;124m] are in the [\u001b[39m\u001b[38;5;132;01m{\u001b[39;00maxis_name\u001b[38;5;132;01m}\u001b[39;00m\u001b[38;5;124m]\u001b[39m\u001b[38;5;124m\"\u001b[39m)\n\u001b[1;32m   6251\u001b[0m not_found \u001b[38;5;241m=\u001b[39m \u001b[38;5;28mlist\u001b[39m(ensure_index(key)[missing_mask\u001b[38;5;241m.\u001b[39mnonzero()[\u001b[38;5;241m0\u001b[39m]]\u001b[38;5;241m.\u001b[39munique())\n\u001b[0;32m-> 6252\u001b[0m \u001b[38;5;28;01mraise\u001b[39;00m \u001b[38;5;167;01mKeyError\u001b[39;00m(\u001b[38;5;124mf\u001b[39m\u001b[38;5;124m\"\u001b[39m\u001b[38;5;132;01m{\u001b[39;00mnot_found\u001b[38;5;132;01m}\u001b[39;00m\u001b[38;5;124m not in index\u001b[39m\u001b[38;5;124m\"\u001b[39m)\n",
      "\u001b[0;31mKeyError\u001b[0m: \"['clat', 'clon'] not in index\""
     ]
    }
   ],
   "source": [
    "trim_df = remove_flagged[keeps]"
   ]
  },
  {
   "cell_type": "markdown",
   "id": "6fab0f67-bcd7-4d7a-96cf-892e42666973",
   "metadata": {},
   "source": [
    "### Calculate"
   ]
  },
  {
   "cell_type": "markdown",
   "id": "dfaa37cd-e45d-431f-a56b-5d8c0cff3c59",
   "metadata": {},
   "source": [
    "Calculate population-weighted r-gpcd for hydrologic regions"
   ]
  },
  {
   "cell_type": "code",
   "execution_count": null,
   "id": "58616d3c-ddb6-4e7c-9d11-f677b9a06a01",
   "metadata": {},
   "outputs": [],
   "source": [
    "def regional_calcs(df, gals, rgpcd, pop, geography):\n",
    "    val = df[rgpcd]\n",
    "    wt = df[pop]\n",
    "    wt_avg = (val * wt).sum() / wt.sum()\n",
    "    #return (val * wt).sum() / wt.sum()\n",
    "    total_gals = df[gals].sum()\n",
    "    total_pop = df[pop].sum()\n",
    "    return pd.Series([total_pop, total_gals, wt_avg], index=['total_pop', 'total_gallons', f'{geography}_pop_weighted_rgpcd'])"
   ]
  },
  {
   "cell_type": "code",
   "execution_count": null,
   "id": "a260af2e-b9f6-44cd-85e5-730bd8aa88f3",
   "metadata": {},
   "outputs": [],
   "source": [
    "region_df = trim_df.groupby(\n",
    "    ['report_period_start_date','hydro_region']\n",
    ").apply(\n",
    "    regional_calcs,\n",
    "    \"potable_supply_minus_sold_minus_ag_gal\",\n",
    "    'r_gpcd', \n",
    "    'pop_report_period', \n",
    "    'region',\n",
    "    include_groups=False\n",
    ").reset_index()"
   ]
  },
  {
   "cell_type": "code",
   "execution_count": null,
   "id": "e26dd38f-1cbd-4e9c-9951-ca7c68f03a36",
   "metadata": {},
   "outputs": [],
   "source": [
    "county_df = trim_df.groupby(\n",
    "    ['report_period_start_date','main_county']\n",
    ").apply(\n",
    "    regional_calcs,\n",
    "    \"potable_supply_minus_sold_minus_ag_gal\",\n",
    "    'r_gpcd', \n",
    "    'pop_report_period', \n",
    "    'county',\n",
    "    include_groups=False\n",
    ").reset_index()"
   ]
  },
  {
   "cell_type": "code",
   "execution_count": null,
   "id": "239e3f6c-87f4-43eb-abb7-1c292e4d60d8",
   "metadata": {},
   "outputs": [],
   "source": [
    "len(county_df[county_df.report_period_start_date == county_df.report_period_start_date.max()])"
   ]
  },
  {
   "cell_type": "code",
   "execution_count": null,
   "id": "321c3f6d-16de-4097-b3c7-5712270e4d84",
   "metadata": {},
   "outputs": [],
   "source": [
    "len(county_df.main_county.unique())"
   ]
  },
  {
   "cell_type": "code",
   "execution_count": null,
   "id": "2b869da1-d3d7-4cba-8fd7-4448286e1352",
   "metadata": {},
   "outputs": [],
   "source": [
    "# county_df[county_df.report_period_start_date == county_df.report_period_start_date.max()]\\\n",
    "#     .sort_values('pop_weighted_rgpcd', ascending=False)"
   ]
  },
  {
   "cell_type": "markdown",
   "id": "344c6f73-4f27-46dc-8231-ded9c6482b19",
   "metadata": {},
   "source": [
    "Now do it for the entire state"
   ]
  },
  {
   "cell_type": "code",
   "execution_count": null,
   "id": "4dde5b0c-fd6f-4444-a69a-e5e1316185f5",
   "metadata": {},
   "outputs": [],
   "source": [
    "statewide_df = trim_df.groupby(\n",
    "    ['report_period_start_date']\n",
    ").apply(\n",
    "    regional_calcs,\n",
    "    \"potable_supply_minus_sold_minus_ag_gal\",\n",
    "    'r_gpcd', \n",
    "    'pop_report_period',\n",
    "    'state',\n",
    "    include_groups=False\n",
    ").reset_index()"
   ]
  },
  {
   "cell_type": "markdown",
   "id": "ae62cf35-d702-4622-bc74-1671ae386b4a",
   "metadata": {},
   "source": [
    "### Remove duplicates"
   ]
  },
  {
   "cell_type": "code",
   "execution_count": null,
   "id": "e962d5f8-30c9-445f-b227-59a1f2a0624b",
   "metadata": {},
   "outputs": [],
   "source": [
    "len(trim_df)"
   ]
  },
  {
   "cell_type": "code",
   "execution_count": null,
   "id": "13ef0b30-dbd8-425d-8836-cdba90269185",
   "metadata": {},
   "outputs": [],
   "source": [
    "tmp = trim_df.set_index(['supplier_name', 'report_period_start_date'])"
   ]
  },
  {
   "cell_type": "code",
   "execution_count": null,
   "id": "a5906293-389e-4272-a692-e85e7ed0c76a",
   "metadata": {},
   "outputs": [],
   "source": [
    "remove_duplicates = tmp[~tmp.index.duplicated()].reset_index().copy()"
   ]
  },
  {
   "cell_type": "code",
   "execution_count": null,
   "id": "395618d0-2f38-40e7-a435-3394ca4b4298",
   "metadata": {},
   "outputs": [],
   "source": [
    "len(remove_duplicates)"
   ]
  },
  {
   "cell_type": "markdown",
   "id": "a8fcea73-84a4-448f-9f20-330d7b185e9c",
   "metadata": {
    "tags": []
   },
   "source": [
    "### Backfill missing dates"
   ]
  },
  {
   "cell_type": "code",
   "execution_count": null,
   "id": "e64c810c-03af-4f8c-8f9c-db59ca6fb586",
   "metadata": {},
   "outputs": [],
   "source": [
    "min_date = trim_df.report_period_start_date.min()\n",
    "min_date"
   ]
  },
  {
   "cell_type": "code",
   "execution_count": null,
   "id": "740c4b54-bce0-4abf-9f00-b070e755e246",
   "metadata": {},
   "outputs": [],
   "source": [
    "max_date = trim_df.report_period_start_date.max()\n",
    "max_date"
   ]
  },
  {
   "cell_type": "code",
   "execution_count": null,
   "id": "fb1e4aab-8d35-4e0e-8ec9-797d941846bc",
   "metadata": {},
   "outputs": [],
   "source": [
    "def backfill(agency_group):\n",
    "    \"\"\"\n",
    "    Backfills empty dates in the provided county group.\n",
    "\n",
    "    Runs from the earliest date in the group to the latest.\n",
    "\n",
    "    Filled in dates are given the previous day's case count with an `ffill` technique.\n",
    "\n",
    "    The expanded group is returned.\n",
    "    \"\"\"\n",
    "    agency_df = agency_group.sort_values([\"supplier_name\", \"report_period_start_date\"]).set_index(\n",
    "        [\"supplier_name\", \"report_period_start_date\"]\n",
    "    )\n",
    "\n",
    "    # Backfill the daterange\n",
    "    ## Get the full range of values from the extent of dates in the dataframe\n",
    "    date_range = pd.date_range(\n",
    "        min_date,\n",
    "        max_date,\n",
    "        freq=pd.DateOffset(months=1, day=1),\n",
    "    )\n",
    "    ## Get the full range of unique place names\n",
    "    name_range = agency_df.index.unique(level=\"supplier_name\")\n",
    "    ## Create a new index that has an entry for every place on every date\n",
    "    namedate_index = pd.MultiIndex.from_product(\n",
    "        iterables=[name_range, date_range], names=[\"supplier_name\", \"report_period_start_date\"]\n",
    "    )\n",
    "    ## Reindex the dataframe using that complete list of places and dates\n",
    "    backfilled_df = agency_df.reindex(namedate_index)\n",
    "\n",
    "    # Zero out missing data\n",
    "    # backfilled_df.r_gpcd.fillna(0, inplace=True)\n",
    "    backfilled_df.fillna({'r_gpcd': 0}, inplace=True)\n",
    "    # backfilled_df.potable_supply_minus_sold_minus_ag_gal.fillna(0, inplace=True)\n",
    "    backfilled_df.fillna({'potable_supply_minus_sold_minus_ag_gal': 0}, inplace=True)\n",
    "\n",
    "    # Foward-fill the other remaining columns\n",
    "    backfilled_df = backfilled_df.groupby(\"supplier_name\").ffill()\n",
    "\n",
    "    # Reset it\n",
    "    reset_df = backfilled_df.reset_index()\n",
    "\n",
    "    # Return it\n",
    "    return reset_df"
   ]
  },
  {
   "cell_type": "code",
   "execution_count": null,
   "id": "8f6069fe-46c8-45df-a0a3-1c75544bdf51",
   "metadata": {},
   "outputs": [],
   "source": [
    "backfilled_df = (\n",
    "    remove_duplicates.groupby(\"supplier_name\").apply(backfill).reset_index(drop=True)\n",
    ")"
   ]
  },
  {
   "cell_type": "code",
   "execution_count": null,
   "id": "f5306280-5a13-443b-9007-83599cddd178",
   "metadata": {},
   "outputs": [],
   "source": [
    "len(backfilled_df)"
   ]
  },
  {
   "cell_type": "markdown",
   "id": "4455cc8f-4ed8-42ae-ab20-fd1b6737c686",
   "metadata": {},
   "source": [
    "### Merge regional r-gpcd values to district df"
   ]
  },
  {
   "cell_type": "code",
   "execution_count": null,
   "id": "f91b7953-4566-4eaa-82d0-42942069fa85",
   "metadata": {},
   "outputs": [],
   "source": [
    "merge_regions_df = pd.merge(\n",
    "    remove_duplicates, \n",
    "    region_df[[\"hydro_region\",\"report_period_start_date\",\"region_pop_weighted_rgpcd\"]], \n",
    "    how=\"left\", \n",
    "    on=[\"hydro_region\",\"report_period_start_date\"]\n",
    ").merge(county_df[[\"main_county\",\"report_period_start_date\",\"county_pop_weighted_rgpcd\"]], how=\"left\", on=[\"main_county\",\"report_period_start_date\"])"
   ]
  },
  {
   "cell_type": "code",
   "execution_count": null,
   "id": "e3a4a761-4a84-45c0-b513-6fb285b9ccb4",
   "metadata": {},
   "outputs": [],
   "source": [
    "merge_regions_df.head()"
   ]
  },
  {
   "cell_type": "markdown",
   "id": "b5537552-f28b-4635-9168-ec1e095de488",
   "metadata": {},
   "source": [
    "### Round water use figures to save space"
   ]
  },
  {
   "cell_type": "code",
   "execution_count": null,
   "id": "77f75027-b95a-40b2-af61-81a070f2696c",
   "metadata": {},
   "outputs": [],
   "source": [
    "merge_regions_df[\"potable_supply_minus_sold_minus_ag_gal\"] = merge_regions_df[\"potable_supply_minus_sold_minus_ag_gal\"].round(0)"
   ]
  },
  {
   "cell_type": "code",
   "execution_count": null,
   "id": "a5990e82-b3d2-443b-8028-70f4c1dfed45",
   "metadata": {},
   "outputs": [],
   "source": [
    "merge_regions_df[\"r_gpcd\"] = merge_regions_df[\"r_gpcd\"].round(1)"
   ]
  },
  {
   "cell_type": "code",
   "execution_count": null,
   "id": "327906a7-6ccf-4581-966e-588ab7240729",
   "metadata": {},
   "outputs": [],
   "source": [
    "merge_regions_df[\"region_pop_weighted_rgpcd\"] = merge_regions_df[\"region_pop_weighted_rgpcd\"].round(1)"
   ]
  },
  {
   "cell_type": "code",
   "execution_count": null,
   "id": "e12afd00-bbea-4987-bf8c-dcb383832696",
   "metadata": {},
   "outputs": [],
   "source": [
    "merge_regions_df[\"county_pop_weighted_rgpcd\"] = merge_regions_df[\"county_pop_weighted_rgpcd\"].round(1)"
   ]
  },
  {
   "cell_type": "code",
   "execution_count": null,
   "id": "74940a54-90de-4194-a800-a9cf32dccf80",
   "metadata": {},
   "outputs": [],
   "source": [
    "statewide_df[\"state_pop_weighted_rgpcd\"] = statewide_df[\"state_pop_weighted_rgpcd\"].round(1)"
   ]
  },
  {
   "cell_type": "markdown",
   "id": "6f05400a-a942-4bf6-8a79-ef6236cda6c3",
   "metadata": {},
   "source": [
    "### Rename columns for clarity and brevity"
   ]
  },
  {
   "cell_type": "code",
   "execution_count": null,
   "id": "a7347354-69b3-4352-b8a3-06bbc7e2fd86",
   "metadata": {},
   "outputs": [],
   "source": [
    "rename_df = merge_regions_df.rename(columns={\n",
    "    \"water_system_id\": \"pwsid\",\n",
    "    \"report_period_start_date\": \"reporting_month\",\n",
    "    \"pop_report_period\": \"population\",\n",
    "    \"dwr_standard_level\": \"dwr_stage\",\n",
    "    \"potable_supply_minus_sold_minus_ag_gal\": \"total_water_production\",\n",
    "    \"r_gpcd\": \"r_gpcd\",\n",
    "    \"region_pop_weighted_rgpcd\": \"regional_r_gpcd\",\n",
    "    \"county_pop_weighted_rgpcd\": \"county_r_gpcd\"\n",
    "})"
   ]
  },
  {
   "cell_type": "markdown",
   "id": "aa4e6755-4aa0-4349-a371-ca068512caf9",
   "metadata": {},
   "source": [
    "### Chart"
   ]
  },
  {
   "cell_type": "code",
   "execution_count": null,
   "id": "f8ab2886-45b0-425b-ad77-cf32fc55b581",
   "metadata": {},
   "outputs": [],
   "source": [
    "melt = pd.melt(\n",
    "    rename_df, \n",
    "    id_vars=[\"supplier_name\",\"main_county\",\"reporting_month\"], \n",
    "    value_vars=[\"r_gpcd\",\"county_r_gpcd\"]\n",
    ")"
   ]
  },
  {
   "cell_type": "code",
   "execution_count": null,
   "id": "7c47fc97-51f6-4cf8-ab67-a18c9ad03113",
   "metadata": {},
   "outputs": [],
   "source": [
    "# melt[(melt.hydro_region == 'South Coast') & (melt.supplier_name.str.contains('Los Angeles'))].supplier_name.unique()"
   ]
  },
  {
   "cell_type": "code",
   "execution_count": null,
   "id": "58042a8b-1b8f-4e6a-9d09-c6bfe95f6dc9",
   "metadata": {},
   "outputs": [],
   "source": [
    "agency_name = \"Los Angeles City Department of Water And Power\"\n",
    "# agency_name = \"East Bay Municipal Utility District\"\n",
    "\n",
    "base = alt.Chart(\n",
    "    rename_df[\n",
    "        (rename_df.supplier_name == agency_name)\n",
    "    ].head(12)\n",
    ").encode(\n",
    "    x=alt.X(\"yearmonth(reporting_month):O\").axis(title=\"\"),\n",
    "    tooltip=[\"r_gpcd\",\"reporting_month\"]\n",
    ")\n",
    "\n",
    "bar = base.mark_bar(color=\"#83c6e0\").encode(\n",
    "    y=alt.Y(\"r_gpcd\", stack=None).axis(title=\"Residential gallons per capita per day\"),\n",
    "    text=\"r_gpcd\"\n",
    ")\n",
    "\n",
    "avg_line = base.mark_line(interpolate='step', color='#1281aa').encode(\n",
    "    y=alt.Y(\"county_r_gpcd\"),\n",
    "    text=\"county_r_gpcd\"\n",
    ")\n",
    "\n",
    "# goal_line = alt.Chart(pd.DataFrame({'y': [80]})).mark_rule(color=\"#b75a36\",strokeDash=[10,11]).encode(y='y')\n",
    "\n",
    "(\n",
    "    bar + \n",
    "    avg_line + \n",
    "    bar.mark_text(align='center', dy=-7) +\n",
    "    avg_line.mark_text(align='center', dy=-7)\n",
    ").properties(title=f\"{agency_name} residential water usage compared to county average\", width=600)"
   ]
  },
  {
   "cell_type": "code",
   "execution_count": null,
   "id": "1d7626ea",
   "metadata": {},
   "outputs": [],
   "source": [
    "base = alt.Chart(\n",
    "    statewide_df.tail(12)\n",
    ").encode(\n",
    "    x=alt.X(\"yearmonth(report_period_start_date):O\").axis(title=\"\"),\n",
    "    tooltip=[\"state_pop_weighted_rgpcd\",\"report_period_start_date\"]\n",
    ")\n",
    "\n",
    "bar = base.mark_bar(color=\"#83c6e0\").encode(\n",
    "    y=alt.Y(\"state_pop_weighted_rgpcd\", stack=None).axis(title=\"Residential gallons per capita per day\"),\n",
    "    text=\"state_pop_weighted_rgpcd\"\n",
    ")\n",
    "\n",
    "# avg_line = base.mark_line(interpolate='step', color='#1281aa').encode(\n",
    "#     y=alt.Y(\"regional_r_gpcd\"),\n",
    "#     text=\"regional_r_gpcd\"\n",
    "# )\n",
    "\n",
    "# goal_line = alt.Chart(pd.DataFrame({'y': [80]})).mark_rule(color=\"#b75a36\",strokeDash=[10,11]).encode(y='y')\n",
    "\n",
    "(\n",
    "    bar + \n",
    "    # avg_line + \n",
    "    bar.mark_text(align='center', dy=-7) \n",
    "    # avg_line.mark_text(align='center', dy=-7)\n",
    ").properties(title=f\"Statewide residential water usage\", width=600)"
   ]
  },
  {
   "cell_type": "markdown",
   "id": "0ba26fc7-525a-4a1d-b244-ab0d51de64c1",
   "metadata": {},
   "source": [
    "### Sort data"
   ]
  },
  {
   "cell_type": "code",
   "execution_count": null,
   "id": "b7891244-418d-460c-b03f-8723fdfdf60b",
   "metadata": {},
   "outputs": [],
   "source": [
    "sort_district_df = rename_df.sort_values([\"reporting_month\",\"supplier_name\"])"
   ]
  },
  {
   "cell_type": "code",
   "execution_count": null,
   "id": "e2528b46-80ad-4a8e-9906-4ec81bdfdb29",
   "metadata": {},
   "outputs": [],
   "source": [
    "sort_region_df = region_df.rename(columns={\"report_period_start_date\":\"reporting_month\"}).sort_values([\"reporting_month\",\"hydro_region\"])"
   ]
  },
  {
   "cell_type": "code",
   "execution_count": null,
   "id": "ee2cb957-0f64-45e6-8123-bf5b5ee4d60c",
   "metadata": {},
   "outputs": [],
   "source": [
    "sort_county_df = county_df.rename(columns={\"report_period_start_date\":\"reporting_month\"}).sort_values([\"reporting_month\",\"main_county\"])"
   ]
  },
  {
   "cell_type": "code",
   "execution_count": null,
   "id": "470088cc-862a-422b-9a64-40269a67cb50",
   "metadata": {},
   "outputs": [],
   "source": [
    "sort_state_df = statewide_df.rename(columns={\"report_period_start_date\":\"reporting_month\"}).sort_values([\"reporting_month\"])"
   ]
  },
  {
   "cell_type": "markdown",
   "id": "80577211-2977-4025-ae3e-3e166ded9cbb",
   "metadata": {},
   "source": [
    "### Filter dataframe to be a bit more manageable"
   ]
  },
  {
   "cell_type": "code",
   "execution_count": null,
   "id": "738e9911-f5cc-4f73-ab9d-c49792ee4109",
   "metadata": {},
   "outputs": [],
   "source": [
    "#filtered_district_df = sort_district_df[sort_district_df.reporting_month >= \"2021-01-15\"]"
   ]
  },
  {
   "cell_type": "code",
   "execution_count": null,
   "id": "1f5275ce-400d-48f6-8b72-ace7f07db5af",
   "metadata": {},
   "outputs": [],
   "source": [
    "last_twelve_months_df = sort_district_df.sort_values('reporting_month').groupby('pwsid').tail(12)"
   ]
  },
  {
   "cell_type": "code",
   "execution_count": null,
   "id": "5c94fd5f-daa3-4c03-94ac-4f81f0f92967",
   "metadata": {},
   "outputs": [],
   "source": [
    "latest_df = sort_district_df[\n",
    "    (sort_district_df.r_gpcd > 0)\n",
    "].sort_values('reporting_month').groupby('pwsid').tail(1)"
   ]
  },
  {
   "cell_type": "markdown",
   "id": "d3c9f03c-169e-4267-9c81-69ef4326c8de",
   "metadata": {},
   "source": [
    "### Export"
   ]
  },
  {
   "cell_type": "code",
   "execution_count": null,
   "id": "5bfd784b-cc8c-4c34-a887-4a69d0f87e5d",
   "metadata": {},
   "outputs": [],
   "source": [
    "last_twelve_months_df.to_csv(\"data/processed/district-level-residential-use.csv\", index=False)"
   ]
  },
  {
   "cell_type": "code",
   "execution_count": null,
   "id": "611e9f73-98a9-4b68-9c5c-5d26fa499127",
   "metadata": {},
   "outputs": [],
   "source": [
    "latest_df.to_csv(\"data/processed/latest-district-level-residential-use.csv\", index=False)"
   ]
  },
  {
   "cell_type": "code",
   "execution_count": null,
   "id": "57397d09-6f0d-4171-b658-6bb8ef49f758",
   "metadata": {},
   "outputs": [],
   "source": [
    "sort_region_df.to_csv(\"data/processed/regional-residential-usage.csv\", index=False)"
   ]
  },
  {
   "cell_type": "code",
   "execution_count": null,
   "id": "a5b34a2c-74f8-45a2-a3cd-22e90deea336",
   "metadata": {},
   "outputs": [],
   "source": [
    "sort_region_df[\n",
    "    sort_region_df.reporting_month == sort_district_df.reporting_month.max()\n",
    "].to_csv(\"data/processed/latest-regional-residential-use.csv\", index=False)"
   ]
  },
  {
   "cell_type": "code",
   "execution_count": null,
   "id": "809820d5-41ab-421d-a291-b0f531aefc51",
   "metadata": {},
   "outputs": [],
   "source": [
    "sort_county_df.to_csv(\"data/processed/county-residential-usage.csv\", index=False)"
   ]
  },
  {
   "cell_type": "code",
   "execution_count": null,
   "id": "ea3042ab-0fd1-4d38-ac0c-bd56b60b6bc1",
   "metadata": {},
   "outputs": [],
   "source": [
    "sort_county_df[\n",
    "    sort_county_df.reporting_month == sort_county_df.reporting_month.max()\n",
    "].to_csv(\"data/processed/latest-county-residential-use.csv\", index=False)"
   ]
  },
  {
   "cell_type": "code",
   "execution_count": null,
   "id": "fc2a1e72-ccd2-45a0-a068-48df279c6af8",
   "metadata": {},
   "outputs": [],
   "source": [
    "sort_state_df.to_csv(\"data/processed/statewide-residential-usage.csv\", index=False)"
   ]
  },
  {
   "cell_type": "code",
   "execution_count": null,
   "id": "f006f28e-326f-4535-806b-c995e41459ab",
   "metadata": {},
   "outputs": [],
   "source": [
    "sort_state_df[\n",
    "    sort_state_df.reporting_month == sort_district_df.reporting_month.max()\n",
    "].to_csv(\"data/processed/latest-statewide-level-residential-use.csv\", index=False)"
   ]
  }
 ],
 "metadata": {
  "kernelspec": {
   "display_name": "Python 3 (ipykernel)",
   "language": "python",
   "name": "python3"
  },
  "language_info": {
   "codemirror_mode": {
    "name": "ipython",
    "version": 3
   },
   "file_extension": ".py",
   "mimetype": "text/x-python",
   "name": "python",
   "nbconvert_exporter": "python",
   "pygments_lexer": "ipython3",
   "version": "3.9.6"
  }
 },
 "nbformat": 4,
 "nbformat_minor": 5
}
