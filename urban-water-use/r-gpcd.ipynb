{
 "cells": [
  {
   "cell_type": "code",
   "execution_count": 148,
   "id": "89e6bf97-56dc-449a-862e-426bda299ee5",
   "metadata": {},
   "outputs": [],
   "source": [
    "import pandas as pd\n",
    "import altair as alt\n",
    "import altair_latimes as lat"
   ]
  },
  {
   "cell_type": "code",
   "execution_count": 149,
   "id": "87ee398f-dd06-4471-90d8-74d2ad7f7a45",
   "metadata": {},
   "outputs": [
    {
     "data": {
      "text/plain": [
       "ThemeRegistry.enable('latimes')"
      ]
     },
     "execution_count": 149,
     "metadata": {},
     "output_type": "execute_result"
    }
   ],
   "source": [
    "alt.themes.register('latimes', lat.theme)\n",
    "alt.themes.enable('latimes')"
   ]
  },
  {
   "cell_type": "markdown",
   "id": "9965cc79-7807-43bb-af0e-6840e511ebeb",
   "metadata": {},
   "source": [
    "### Import"
   ]
  },
  {
   "cell_type": "markdown",
   "id": "f19c51b2-d04a-43cb-ac02-bb8267917aac",
   "metadata": {},
   "source": [
    "Monthly reports timeseries"
   ]
  },
  {
   "cell_type": "code",
   "execution_count": 150,
   "id": "c03b3f41-de7d-4d3f-8b89-1e114979b829",
   "metadata": {},
   "outputs": [],
   "source": [
    "# df = pd.read_csv(\"../data/raw/uw-usage.csv\", parse_dates=[\"Reporting Month\"])\n",
    "df = pd.read_csv(\n",
    "    \"data/latest.csv\", \n",
    "    parse_dates=[\"report_period_start_date\", \"report_period_end_date\"]\n",
    ")"
   ]
  },
  {
   "cell_type": "code",
   "execution_count": 151,
   "id": "e710cfa0-fd39-4297-822b-1b8fb575f5f1",
   "metadata": {},
   "outputs": [
    {
     "data": {
      "text/html": [
       "<div>\n",
       "<style scoped>\n",
       "    .dataframe tbody tr th:only-of-type {\n",
       "        vertical-align: middle;\n",
       "    }\n",
       "\n",
       "    .dataframe tbody tr th {\n",
       "        vertical-align: top;\n",
       "    }\n",
       "\n",
       "    .dataframe thead th {\n",
       "        text-align: right;\n",
       "    }\n",
       "</style>\n",
       "<table border=\"1\" class=\"dataframe\">\n",
       "  <thead>\n",
       "    <tr style=\"text-align: right;\">\n",
       "      <th></th>\n",
       "      <th>org_id</th>\n",
       "      <th>supplier_name</th>\n",
       "      <th>water_system_id</th>\n",
       "      <th>county</th>\n",
       "      <th>hydro_region</th>\n",
       "      <th>climate_zone</th>\n",
       "      <th>report_period_start_date</th>\n",
       "      <th>report_period_end_date</th>\n",
       "      <th>pop_report_period</th>\n",
       "      <th>dwr_standard_level</th>\n",
       "      <th>...</th>\n",
       "      <th>potable_demand_o_gal</th>\n",
       "      <th>potable_demand_prelim_est</th>\n",
       "      <th>recycled_demand_gal</th>\n",
       "      <th>non_potable_demand_prelim_est</th>\n",
       "      <th>potable_supply_minus_sold_minus_ag_gal</th>\n",
       "      <th>potable_supply_minus_sold_minus_ag_gal_flag</th>\n",
       "      <th>potable_supply_minus_sold_zscore</th>\n",
       "      <th>potable_demand_res_zscore</th>\n",
       "      <th>r-gpcd_zscore</th>\n",
       "      <th>potable_supply_minus_sold_minus_ag_zscore</th>\n",
       "    </tr>\n",
       "  </thead>\n",
       "  <tbody>\n",
       "    <tr>\n",
       "      <th>40925</th>\n",
       "      <td>2469</td>\n",
       "      <td>City of Thousand Oaks</td>\n",
       "      <td>CA5610020</td>\n",
       "      <td>VENTURA</td>\n",
       "      <td>South Coast</td>\n",
       "      <td>9</td>\n",
       "      <td>2024-04-01</td>\n",
       "      <td>2024-04-30</td>\n",
       "      <td>53157</td>\n",
       "      <td>1 (Less than 10% Shortage)</td>\n",
       "      <td>...</td>\n",
       "      <td>1496.10</td>\n",
       "      <td>NaN</td>\n",
       "      <td>0.0</td>\n",
       "      <td>NaN</td>\n",
       "      <td>167845850.1</td>\n",
       "      <td>NaN</td>\n",
       "      <td>-1.53</td>\n",
       "      <td>-1.85</td>\n",
       "      <td>-1.87</td>\n",
       "      <td>-1.53</td>\n",
       "    </tr>\n",
       "    <tr>\n",
       "      <th>40926</th>\n",
       "      <td>2469</td>\n",
       "      <td>City of Thousand Oaks</td>\n",
       "      <td>CA5610020</td>\n",
       "      <td>VENTURA</td>\n",
       "      <td>South Coast</td>\n",
       "      <td>9</td>\n",
       "      <td>2024-03-01</td>\n",
       "      <td>2024-03-31</td>\n",
       "      <td>53157</td>\n",
       "      <td>1 (Less than 10% Shortage)</td>\n",
       "      <td>...</td>\n",
       "      <td>47127.28</td>\n",
       "      <td>NaN</td>\n",
       "      <td>0.0</td>\n",
       "      <td>NaN</td>\n",
       "      <td>145916077.8</td>\n",
       "      <td>NaN</td>\n",
       "      <td>-1.91</td>\n",
       "      <td>-1.51</td>\n",
       "      <td>-1.63</td>\n",
       "      <td>-1.91</td>\n",
       "    </tr>\n",
       "    <tr>\n",
       "      <th>40927</th>\n",
       "      <td>2469</td>\n",
       "      <td>City of Thousand Oaks</td>\n",
       "      <td>CA5610020</td>\n",
       "      <td>VENTURA</td>\n",
       "      <td>South Coast</td>\n",
       "      <td>9</td>\n",
       "      <td>2024-02-01</td>\n",
       "      <td>2024-02-29</td>\n",
       "      <td>53157</td>\n",
       "      <td>1 (Less than 10% Shortage)</td>\n",
       "      <td>...</td>\n",
       "      <td>9724.68</td>\n",
       "      <td>NaN</td>\n",
       "      <td>0.0</td>\n",
       "      <td>NaN</td>\n",
       "      <td>117860306.7</td>\n",
       "      <td>NaN</td>\n",
       "      <td>-1.19</td>\n",
       "      <td>-1.04</td>\n",
       "      <td>-0.94</td>\n",
       "      <td>-1.19</td>\n",
       "    </tr>\n",
       "    <tr>\n",
       "      <th>40928</th>\n",
       "      <td>2469</td>\n",
       "      <td>City of Thousand Oaks</td>\n",
       "      <td>CA5610020</td>\n",
       "      <td>VENTURA</td>\n",
       "      <td>South Coast</td>\n",
       "      <td>9</td>\n",
       "      <td>2024-01-01</td>\n",
       "      <td>2024-01-31</td>\n",
       "      <td>53157</td>\n",
       "      <td>1 (Less than 10% Shortage)</td>\n",
       "      <td>...</td>\n",
       "      <td>53111.69</td>\n",
       "      <td>NaN</td>\n",
       "      <td>0.0</td>\n",
       "      <td>NaN</td>\n",
       "      <td>152400512.7</td>\n",
       "      <td>NaN</td>\n",
       "      <td>-0.60</td>\n",
       "      <td>1.83</td>\n",
       "      <td>1.66</td>\n",
       "      <td>-0.60</td>\n",
       "    </tr>\n",
       "    <tr>\n",
       "      <th>40929</th>\n",
       "      <td>2469</td>\n",
       "      <td>City of Thousand Oaks</td>\n",
       "      <td>CA5610020</td>\n",
       "      <td>VENTURA</td>\n",
       "      <td>South Coast</td>\n",
       "      <td>9</td>\n",
       "      <td>2023-12-01</td>\n",
       "      <td>2023-12-31</td>\n",
       "      <td>53157</td>\n",
       "      <td>1 (Less than 10% Shortage)</td>\n",
       "      <td>...</td>\n",
       "      <td>0.00</td>\n",
       "      <td>NaN</td>\n",
       "      <td>0.0</td>\n",
       "      <td>NaN</td>\n",
       "      <td>190850930.7</td>\n",
       "      <td>NaN</td>\n",
       "      <td>0.05</td>\n",
       "      <td>-0.38</td>\n",
       "      <td>-0.47</td>\n",
       "      <td>0.05</td>\n",
       "    </tr>\n",
       "    <tr>\n",
       "      <th>...</th>\n",
       "      <td>...</td>\n",
       "      <td>...</td>\n",
       "      <td>...</td>\n",
       "      <td>...</td>\n",
       "      <td>...</td>\n",
       "      <td>...</td>\n",
       "      <td>...</td>\n",
       "      <td>...</td>\n",
       "      <td>...</td>\n",
       "      <td>...</td>\n",
       "      <td>...</td>\n",
       "      <td>...</td>\n",
       "      <td>...</td>\n",
       "      <td>...</td>\n",
       "      <td>...</td>\n",
       "      <td>...</td>\n",
       "      <td>...</td>\n",
       "      <td>...</td>\n",
       "      <td>...</td>\n",
       "      <td>...</td>\n",
       "      <td>...</td>\n",
       "    </tr>\n",
       "    <tr>\n",
       "      <th>41039</th>\n",
       "      <td>2469</td>\n",
       "      <td>City of Thousand Oaks</td>\n",
       "      <td>CA5610020</td>\n",
       "      <td>VENTURA</td>\n",
       "      <td>South Coast</td>\n",
       "      <td>9</td>\n",
       "      <td>2014-10-01</td>\n",
       "      <td>2014-10-31</td>\n",
       "      <td>51609</td>\n",
       "      <td>NaN</td>\n",
       "      <td>...</td>\n",
       "      <td>NaN</td>\n",
       "      <td>NaN</td>\n",
       "      <td>NaN</td>\n",
       "      <td>NaN</td>\n",
       "      <td>351267378.0</td>\n",
       "      <td>NaN</td>\n",
       "      <td>1.29</td>\n",
       "      <td>1.62</td>\n",
       "      <td>1.57</td>\n",
       "      <td>1.29</td>\n",
       "    </tr>\n",
       "    <tr>\n",
       "      <th>41040</th>\n",
       "      <td>2469</td>\n",
       "      <td>City of Thousand Oaks</td>\n",
       "      <td>CA5610020</td>\n",
       "      <td>VENTURA</td>\n",
       "      <td>South Coast</td>\n",
       "      <td>9</td>\n",
       "      <td>2014-09-01</td>\n",
       "      <td>2014-09-30</td>\n",
       "      <td>51609</td>\n",
       "      <td>NaN</td>\n",
       "      <td>...</td>\n",
       "      <td>NaN</td>\n",
       "      <td>NaN</td>\n",
       "      <td>NaN</td>\n",
       "      <td>NaN</td>\n",
       "      <td>368179044.9</td>\n",
       "      <td>NaN</td>\n",
       "      <td>1.60</td>\n",
       "      <td>1.05</td>\n",
       "      <td>1.25</td>\n",
       "      <td>1.60</td>\n",
       "    </tr>\n",
       "    <tr>\n",
       "      <th>41041</th>\n",
       "      <td>2469</td>\n",
       "      <td>City of Thousand Oaks</td>\n",
       "      <td>CA5610020</td>\n",
       "      <td>VENTURA</td>\n",
       "      <td>South Coast</td>\n",
       "      <td>9</td>\n",
       "      <td>2014-08-01</td>\n",
       "      <td>2014-08-31</td>\n",
       "      <td>51609</td>\n",
       "      <td>NaN</td>\n",
       "      <td>...</td>\n",
       "      <td>NaN</td>\n",
       "      <td>NaN</td>\n",
       "      <td>NaN</td>\n",
       "      <td>NaN</td>\n",
       "      <td>390695349.0</td>\n",
       "      <td>NaN</td>\n",
       "      <td>1.24</td>\n",
       "      <td>1.68</td>\n",
       "      <td>2.24</td>\n",
       "      <td>1.24</td>\n",
       "    </tr>\n",
       "    <tr>\n",
       "      <th>41042</th>\n",
       "      <td>2469</td>\n",
       "      <td>City of Thousand Oaks</td>\n",
       "      <td>CA5610020</td>\n",
       "      <td>VENTURA</td>\n",
       "      <td>South Coast</td>\n",
       "      <td>9</td>\n",
       "      <td>2014-07-01</td>\n",
       "      <td>2014-07-31</td>\n",
       "      <td>51609</td>\n",
       "      <td>NaN</td>\n",
       "      <td>...</td>\n",
       "      <td>NaN</td>\n",
       "      <td>NaN</td>\n",
       "      <td>NaN</td>\n",
       "      <td>NaN</td>\n",
       "      <td>402751836.0</td>\n",
       "      <td>NaN</td>\n",
       "      <td>1.49</td>\n",
       "      <td>0.12</td>\n",
       "      <td>0.08</td>\n",
       "      <td>1.49</td>\n",
       "    </tr>\n",
       "    <tr>\n",
       "      <th>41043</th>\n",
       "      <td>2469</td>\n",
       "      <td>City of Thousand Oaks</td>\n",
       "      <td>CA5610020</td>\n",
       "      <td>VENTURA</td>\n",
       "      <td>South Coast</td>\n",
       "      <td>9</td>\n",
       "      <td>2014-06-01</td>\n",
       "      <td>2014-06-30</td>\n",
       "      <td>51609</td>\n",
       "      <td>NaN</td>\n",
       "      <td>...</td>\n",
       "      <td>NaN</td>\n",
       "      <td>NaN</td>\n",
       "      <td>NaN</td>\n",
       "      <td>NaN</td>\n",
       "      <td>390695349.0</td>\n",
       "      <td>NaN</td>\n",
       "      <td>1.24</td>\n",
       "      <td>-0.11</td>\n",
       "      <td>0.10</td>\n",
       "      <td>1.24</td>\n",
       "    </tr>\n",
       "  </tbody>\n",
       "</table>\n",
       "<p>119 rows × 34 columns</p>\n",
       "</div>"
      ],
      "text/plain": [
       "       org_id          supplier_name water_system_id   county hydro_region  \\\n",
       "40925    2469  City of Thousand Oaks       CA5610020  VENTURA  South Coast   \n",
       "40926    2469  City of Thousand Oaks       CA5610020  VENTURA  South Coast   \n",
       "40927    2469  City of Thousand Oaks       CA5610020  VENTURA  South Coast   \n",
       "40928    2469  City of Thousand Oaks       CA5610020  VENTURA  South Coast   \n",
       "40929    2469  City of Thousand Oaks       CA5610020  VENTURA  South Coast   \n",
       "...       ...                    ...             ...      ...          ...   \n",
       "41039    2469  City of Thousand Oaks       CA5610020  VENTURA  South Coast   \n",
       "41040    2469  City of Thousand Oaks       CA5610020  VENTURA  South Coast   \n",
       "41041    2469  City of Thousand Oaks       CA5610020  VENTURA  South Coast   \n",
       "41042    2469  City of Thousand Oaks       CA5610020  VENTURA  South Coast   \n",
       "41043    2469  City of Thousand Oaks       CA5610020  VENTURA  South Coast   \n",
       "\n",
       "       climate_zone report_period_start_date report_period_end_date  \\\n",
       "40925             9               2024-04-01             2024-04-30   \n",
       "40926             9               2024-03-01             2024-03-31   \n",
       "40927             9               2024-02-01             2024-02-29   \n",
       "40928             9               2024-01-01             2024-01-31   \n",
       "40929             9               2023-12-01             2023-12-31   \n",
       "...             ...                      ...                    ...   \n",
       "41039             9               2014-10-01             2014-10-31   \n",
       "41040             9               2014-09-01             2014-09-30   \n",
       "41041             9               2014-08-01             2014-08-31   \n",
       "41042             9               2014-07-01             2014-07-31   \n",
       "41043             9               2014-06-01             2014-06-30   \n",
       "\n",
       "        pop_report_period           dwr_standard_level  ...  \\\n",
       "40925                53157  1 (Less than 10% Shortage)  ...   \n",
       "40926                53157  1 (Less than 10% Shortage)  ...   \n",
       "40927                53157  1 (Less than 10% Shortage)  ...   \n",
       "40928                53157  1 (Less than 10% Shortage)  ...   \n",
       "40929                53157  1 (Less than 10% Shortage)  ...   \n",
       "...                    ...                         ...  ...   \n",
       "41039                51609                         NaN  ...   \n",
       "41040                51609                         NaN  ...   \n",
       "41041                51609                         NaN  ...   \n",
       "41042                51609                         NaN  ...   \n",
       "41043                51609                         NaN  ...   \n",
       "\n",
       "      potable_demand_o_gal  potable_demand_prelim_est recycled_demand_gal  \\\n",
       "40925              1496.10                        NaN                 0.0   \n",
       "40926             47127.28                        NaN                 0.0   \n",
       "40927              9724.68                        NaN                 0.0   \n",
       "40928             53111.69                        NaN                 0.0   \n",
       "40929                 0.00                        NaN                 0.0   \n",
       "...                    ...                        ...                 ...   \n",
       "41039                  NaN                        NaN                 NaN   \n",
       "41040                  NaN                        NaN                 NaN   \n",
       "41041                  NaN                        NaN                 NaN   \n",
       "41042                  NaN                        NaN                 NaN   \n",
       "41043                  NaN                        NaN                 NaN   \n",
       "\n",
       "       non_potable_demand_prelim_est  potable_supply_minus_sold_minus_ag_gal  \\\n",
       "40925                            NaN                             167845850.1   \n",
       "40926                            NaN                             145916077.8   \n",
       "40927                            NaN                             117860306.7   \n",
       "40928                            NaN                             152400512.7   \n",
       "40929                            NaN                             190850930.7   \n",
       "...                              ...                                     ...   \n",
       "41039                            NaN                             351267378.0   \n",
       "41040                            NaN                             368179044.9   \n",
       "41041                            NaN                             390695349.0   \n",
       "41042                            NaN                             402751836.0   \n",
       "41043                            NaN                             390695349.0   \n",
       "\n",
       "      potable_supply_minus_sold_minus_ag_gal_flag  \\\n",
       "40925                                         NaN   \n",
       "40926                                         NaN   \n",
       "40927                                         NaN   \n",
       "40928                                         NaN   \n",
       "40929                                         NaN   \n",
       "...                                           ...   \n",
       "41039                                         NaN   \n",
       "41040                                         NaN   \n",
       "41041                                         NaN   \n",
       "41042                                         NaN   \n",
       "41043                                         NaN   \n",
       "\n",
       "       potable_supply_minus_sold_zscore  potable_demand_res_zscore  \\\n",
       "40925                             -1.53                      -1.85   \n",
       "40926                             -1.91                      -1.51   \n",
       "40927                             -1.19                      -1.04   \n",
       "40928                             -0.60                       1.83   \n",
       "40929                              0.05                      -0.38   \n",
       "...                                 ...                        ...   \n",
       "41039                              1.29                       1.62   \n",
       "41040                              1.60                       1.05   \n",
       "41041                              1.24                       1.68   \n",
       "41042                              1.49                       0.12   \n",
       "41043                              1.24                      -0.11   \n",
       "\n",
       "      r-gpcd_zscore potable_supply_minus_sold_minus_ag_zscore  \n",
       "40925         -1.87                                     -1.53  \n",
       "40926         -1.63                                     -1.91  \n",
       "40927         -0.94                                     -1.19  \n",
       "40928          1.66                                     -0.60  \n",
       "40929         -0.47                                      0.05  \n",
       "...             ...                                       ...  \n",
       "41039          1.57                                      1.29  \n",
       "41040          1.25                                      1.60  \n",
       "41041          2.24                                      1.24  \n",
       "41042          0.08                                      1.49  \n",
       "41043          0.10                                      1.24  \n",
       "\n",
       "[119 rows x 34 columns]"
      ]
     },
     "execution_count": 151,
     "metadata": {},
     "output_type": "execute_result"
    }
   ],
   "source": [
    "df[ df.supplier_name == 'City of Thousand Oaks' ]"
   ]
  },
  {
   "cell_type": "code",
   "execution_count": 152,
   "id": "3f26c3dc-4e93-4a61-987e-5bdc63f7758d",
   "metadata": {},
   "outputs": [],
   "source": [
    "# clean_names = pd.read_csv(\"data/metadata/urban-water-suppliers-clean-names.csv\")"
   ]
  },
  {
   "cell_type": "code",
   "execution_count": 153,
   "id": "6eccad0c-29e0-4515-aaae-ed743d186a5d",
   "metadata": {},
   "outputs": [],
   "source": [
    "crosswalk = pd.read_csv(\"data/metadata/crosswalk.csv\")"
   ]
  },
  {
   "cell_type": "markdown",
   "id": "5ee352c7-fbb1-4cdd-990f-575dcf1b4889",
   "metadata": {},
   "source": [
    "### Clean"
   ]
  },
  {
   "cell_type": "markdown",
   "id": "1a329783-20cc-4d4a-b71c-b2d4e9e984d5",
   "metadata": {},
   "source": [
    "Remove any whitespace from column names"
   ]
  },
  {
   "cell_type": "code",
   "execution_count": 154,
   "id": "f1ed09d0-380d-4f9d-91ad-cdd52ea22fb9",
   "metadata": {
    "tags": []
   },
   "outputs": [],
   "source": [
    "df.columns = df.columns.str.strip(' ').str.replace(\"-\",\"_\")"
   ]
  },
  {
   "cell_type": "markdown",
   "id": "9b698ae0-bb21-406e-968c-3ccc8051b00b",
   "metadata": {},
   "source": [
    "Eliminate double spaces in supplier names"
   ]
  },
  {
   "cell_type": "code",
   "execution_count": 155,
   "id": "e9d8434b-11e4-4322-9f69-e8d20de3a2e1",
   "metadata": {},
   "outputs": [],
   "source": [
    "df.supplier_name = df.supplier_name.str.replace(\"  \", \" \")"
   ]
  },
  {
   "cell_type": "code",
   "execution_count": 156,
   "id": "899a1318-fc81-4ccd-a982-e3234e3bec01",
   "metadata": {
    "tags": []
   },
   "outputs": [],
   "source": [
    "df['supplier_name'] = df['supplier_name'].str.strip()"
   ]
  },
  {
   "cell_type": "code",
   "execution_count": 157,
   "id": "c7894a80-8cd4-4d62-9b72-bf1b91f9b0d2",
   "metadata": {},
   "outputs": [],
   "source": [
    "df['county'] = df.county.str.title()"
   ]
  },
  {
   "cell_type": "markdown",
   "id": "b2bc306e-548b-47cf-9fcf-26b20a578872",
   "metadata": {},
   "source": [
    "### Merge clean names"
   ]
  },
  {
   "cell_type": "code",
   "execution_count": 158,
   "id": "5183df9a-100b-4132-9bec-90efc4a95f04",
   "metadata": {},
   "outputs": [],
   "source": [
    "merge_names_df = pd.merge(\n",
    "    df,\n",
    "    crosswalk[['org_id', 'longitude', 'latitude', 'main_county']],\n",
    "    how=\"left\",\n",
    "    on=\"org_id\"\n",
    ")"
   ]
  },
  {
   "cell_type": "markdown",
   "id": "76f78a3d-d908-4daa-966e-181667fc5b1b",
   "metadata": {},
   "source": [
    "### Trim"
   ]
  },
  {
   "cell_type": "markdown",
   "id": "d07ff870-11ef-4fe5-92a0-f1aeb4a8f0d2",
   "metadata": {},
   "source": [
    "Remove flagged `r-gpcd` values"
   ]
  },
  {
   "cell_type": "code",
   "execution_count": 159,
   "id": "87684038-ef51-4a8e-b2df-d080a08bc6ce",
   "metadata": {},
   "outputs": [],
   "source": [
    "remove_flagged = merge_names_df[merge_names_df.res_flag != 'Flagged']"
   ]
  },
  {
   "cell_type": "markdown",
   "id": "adcda64d-3e18-4fd7-b1a8-fa47eca21300",
   "metadata": {},
   "source": [
    "Trim this down to just the columns we need"
   ]
  },
  {
   "cell_type": "code",
   "execution_count": 160,
   "id": "255bd05a-9a48-44d8-b53a-c6123e56c1de",
   "metadata": {},
   "outputs": [],
   "source": [
    "keeps = [\n",
    "    'org_id',\n",
    "    'supplier_name', \n",
    "    # 'display_name',\n",
    "    'water_system_id', \n",
    "    'report_period_start_date', \n",
    "    'report_period_end_date',\n",
    "    'main_county',\n",
    "    'hydro_region', \n",
    "    # 'climate_zone', \n",
    "    'pop_report_period',\n",
    "    'potable_supply_minus_sold_minus_ag_gal',\n",
    "    'potable_supply_minus_sold_minus_ag_gal_flag',\n",
    "    'r_gpcd', \n",
    "    'res_flag',\n",
    "    'latitude',\n",
    "    'longitude'\n",
    "]"
   ]
  },
  {
   "cell_type": "code",
   "execution_count": 161,
   "id": "b0a6705a-00fd-4b96-98a2-e4deba47e94e",
   "metadata": {},
   "outputs": [],
   "source": [
    "trim_df = remove_flagged[keeps]"
   ]
  },
  {
   "cell_type": "markdown",
   "id": "6fab0f67-bcd7-4d7a-96cf-892e42666973",
   "metadata": {},
   "source": [
    "### Calculate"
   ]
  },
  {
   "cell_type": "markdown",
   "id": "dfaa37cd-e45d-431f-a56b-5d8c0cff3c59",
   "metadata": {},
   "source": [
    "Calculate population-weighted r-gpcd for hydrologic regions"
   ]
  },
  {
   "cell_type": "code",
   "execution_count": 162,
   "id": "58616d3c-ddb6-4e7c-9d11-f677b9a06a01",
   "metadata": {},
   "outputs": [],
   "source": [
    "def regional_calcs(df, gals, rgpcd, pop, geography):\n",
    "    val = df[rgpcd]\n",
    "    wt = df[pop]\n",
    "    wt_avg = (val * wt).sum() / wt.sum()\n",
    "    #return (val * wt).sum() / wt.sum()\n",
    "    total_gals = df[gals].sum()\n",
    "    total_pop = df[pop].sum()\n",
    "    return pd.Series([total_pop, total_gals, wt_avg], index=['total_pop', 'total_gallons', f'{geography}_pop_weighted_rgpcd'])"
   ]
  },
  {
   "cell_type": "code",
   "execution_count": 163,
   "id": "a260af2e-b9f6-44cd-85e5-730bd8aa88f3",
   "metadata": {},
   "outputs": [],
   "source": [
    "region_df = trim_df.groupby(\n",
    "    ['report_period_start_date','hydro_region']\n",
    ").apply(\n",
    "    regional_calcs,\n",
    "    \"potable_supply_minus_sold_minus_ag_gal\",\n",
    "    'r_gpcd', \n",
    "    'pop_report_period', \n",
    "    'region',\n",
    "    include_groups=False\n",
    ").reset_index()"
   ]
  },
  {
   "cell_type": "code",
   "execution_count": 164,
   "id": "e26dd38f-1cbd-4e9c-9951-ca7c68f03a36",
   "metadata": {},
   "outputs": [],
   "source": [
    "county_df = trim_df.groupby(\n",
    "    ['report_period_start_date','main_county']\n",
    ").apply(\n",
    "    regional_calcs,\n",
    "    \"potable_supply_minus_sold_minus_ag_gal\",\n",
    "    'r_gpcd', \n",
    "    'pop_report_period', \n",
    "    'county',\n",
    "    include_groups=False\n",
    ").reset_index()"
   ]
  },
  {
   "cell_type": "code",
   "execution_count": 165,
   "id": "239e3f6c-87f4-43eb-abb7-1c292e4d60d8",
   "metadata": {},
   "outputs": [
    {
     "data": {
      "text/plain": [
       "46"
      ]
     },
     "execution_count": 165,
     "metadata": {},
     "output_type": "execute_result"
    }
   ],
   "source": [
    "len(county_df[county_df.report_period_start_date == county_df.report_period_start_date.max()])"
   ]
  },
  {
   "cell_type": "code",
   "execution_count": 166,
   "id": "321c3f6d-16de-4097-b3c7-5712270e4d84",
   "metadata": {},
   "outputs": [
    {
     "data": {
      "text/plain": [
       "48"
      ]
     },
     "execution_count": 166,
     "metadata": {},
     "output_type": "execute_result"
    }
   ],
   "source": [
    "len(county_df.main_county.unique())"
   ]
  },
  {
   "cell_type": "code",
   "execution_count": 167,
   "id": "2b869da1-d3d7-4cba-8fd7-4448286e1352",
   "metadata": {},
   "outputs": [],
   "source": [
    "# county_df[county_df.report_period_start_date == county_df.report_period_start_date.max()]\\\n",
    "#     .sort_values('pop_weighted_rgpcd', ascending=False)"
   ]
  },
  {
   "cell_type": "markdown",
   "id": "344c6f73-4f27-46dc-8231-ded9c6482b19",
   "metadata": {},
   "source": [
    "Now do it for the entire state"
   ]
  },
  {
   "cell_type": "code",
   "execution_count": 168,
   "id": "4dde5b0c-fd6f-4444-a69a-e5e1316185f5",
   "metadata": {},
   "outputs": [],
   "source": [
    "statewide_df = trim_df.groupby(\n",
    "    ['report_period_start_date']\n",
    ").apply(\n",
    "    regional_calcs,\n",
    "    \"potable_supply_minus_sold_minus_ag_gal\",\n",
    "    'r_gpcd', \n",
    "    'pop_report_period',\n",
    "    'state',\n",
    "    include_groups=False\n",
    ").reset_index()"
   ]
  },
  {
   "cell_type": "code",
   "execution_count": 169,
   "id": "60b4894c-36eb-4baa-85ad-5514deb7c284",
   "metadata": {},
   "outputs": [
    {
     "data": {
      "text/plain": [
       "37169224.0"
      ]
     },
     "execution_count": 169,
     "metadata": {},
     "output_type": "execute_result"
    }
   ],
   "source": [
    "statewide_df.total_pop.max()"
   ]
  },
  {
   "cell_type": "markdown",
   "id": "ae62cf35-d702-4622-bc74-1671ae386b4a",
   "metadata": {},
   "source": [
    "### Remove duplicates"
   ]
  },
  {
   "cell_type": "code",
   "execution_count": 170,
   "id": "e962d5f8-30c9-445f-b227-59a1f2a0624b",
   "metadata": {},
   "outputs": [
    {
     "data": {
      "text/plain": [
       "45875"
      ]
     },
     "execution_count": 170,
     "metadata": {},
     "output_type": "execute_result"
    }
   ],
   "source": [
    "len(trim_df)"
   ]
  },
  {
   "cell_type": "code",
   "execution_count": 171,
   "id": "13ef0b30-dbd8-425d-8836-cdba90269185",
   "metadata": {},
   "outputs": [],
   "source": [
    "tmp = trim_df.set_index(['supplier_name', 'report_period_start_date'])"
   ]
  },
  {
   "cell_type": "code",
   "execution_count": 172,
   "id": "a5906293-389e-4272-a692-e85e7ed0c76a",
   "metadata": {},
   "outputs": [],
   "source": [
    "remove_duplicates = tmp[~tmp.index.duplicated()].reset_index().copy()"
   ]
  },
  {
   "cell_type": "code",
   "execution_count": 173,
   "id": "395618d0-2f38-40e7-a435-3394ca4b4298",
   "metadata": {},
   "outputs": [
    {
     "data": {
      "text/plain": [
       "45875"
      ]
     },
     "execution_count": 173,
     "metadata": {},
     "output_type": "execute_result"
    }
   ],
   "source": [
    "len(remove_duplicates)"
   ]
  },
  {
   "cell_type": "markdown",
   "id": "a8fcea73-84a4-448f-9f20-330d7b185e9c",
   "metadata": {
    "tags": []
   },
   "source": [
    "### Backfill missing dates"
   ]
  },
  {
   "cell_type": "code",
   "execution_count": 174,
   "id": "e64c810c-03af-4f8c-8f9c-db59ca6fb586",
   "metadata": {},
   "outputs": [
    {
     "data": {
      "text/plain": [
       "Timestamp('2014-06-01 00:00:00')"
      ]
     },
     "execution_count": 174,
     "metadata": {},
     "output_type": "execute_result"
    }
   ],
   "source": [
    "min_date = trim_df.report_period_start_date.min()\n",
    "min_date"
   ]
  },
  {
   "cell_type": "code",
   "execution_count": 175,
   "id": "740c4b54-bce0-4abf-9f00-b070e755e246",
   "metadata": {},
   "outputs": [
    {
     "data": {
      "text/plain": [
       "Timestamp('2024-04-01 00:00:00')"
      ]
     },
     "execution_count": 175,
     "metadata": {},
     "output_type": "execute_result"
    }
   ],
   "source": [
    "max_date = trim_df.report_period_start_date.max()\n",
    "max_date"
   ]
  },
  {
   "cell_type": "code",
   "execution_count": 176,
   "id": "fb1e4aab-8d35-4e0e-8ec9-797d941846bc",
   "metadata": {},
   "outputs": [],
   "source": [
    "def backfill(agency_group):\n",
    "    \"\"\"\n",
    "    Backfills empty dates in the provided county group.\n",
    "\n",
    "    Runs from the earliest date in the group to the latest.\n",
    "\n",
    "    Filled in dates are given the previous day's case count with an `ffill` technique.\n",
    "\n",
    "    The expanded group is returned.\n",
    "    \"\"\"\n",
    "    agency_df = agency_group.sort_values([\"supplier_name\", \"report_period_start_date\"]).set_index(\n",
    "        [\"supplier_name\", \"report_period_start_date\"]\n",
    "    )\n",
    "\n",
    "    # Backfill the daterange\n",
    "    ## Get the full range of values from the extent of dates in the dataframe\n",
    "    date_range = pd.date_range(\n",
    "        min_date,\n",
    "        max_date,\n",
    "        freq=pd.DateOffset(months=1, day=1),\n",
    "    )\n",
    "    ## Get the full range of unique place names\n",
    "    name_range = agency_df.index.unique(level=\"supplier_name\")\n",
    "    ## Create a new index that has an entry for every place on every date\n",
    "    namedate_index = pd.MultiIndex.from_product(\n",
    "        iterables=[name_range, date_range], names=[\"supplier_name\", \"report_period_start_date\"]\n",
    "    )\n",
    "    ## Reindex the dataframe using that complete list of places and dates\n",
    "    backfilled_df = agency_df.reindex(namedate_index)\n",
    "\n",
    "    # Zero out missing data\n",
    "    # backfilled_df.r_gpcd.fillna(0, inplace=True)\n",
    "    backfilled_df.fillna({'r_gpcd': 0}, inplace=True)\n",
    "    # backfilled_df.potable_supply_minus_sold_minus_ag_gal.fillna(0, inplace=True)\n",
    "    backfilled_df.fillna({'potable_supply_minus_sold_minus_ag_gal': 0}, inplace=True)\n",
    "\n",
    "    # Foward-fill the other remaining columns\n",
    "    backfilled_df = backfilled_df.groupby(\"supplier_name\").ffill()\n",
    "\n",
    "    # Reset it\n",
    "    reset_df = backfilled_df.reset_index()\n",
    "\n",
    "    # Return it\n",
    "    return reset_df"
   ]
  },
  {
   "cell_type": "code",
   "execution_count": 177,
   "id": "8f6069fe-46c8-45df-a0a3-1c75544bdf51",
   "metadata": {},
   "outputs": [
    {
     "name": "stderr",
     "output_type": "stream",
     "text": [
      "/var/folders/fh/xklx_96541l_glf7cpxtt24m0000gq/T/ipykernel_55431/535621734.py:2: DeprecationWarning: DataFrameGroupBy.apply operated on the grouping columns. This behavior is deprecated, and in a future version of pandas the grouping columns will be excluded from the operation. Either pass `include_groups=False` to exclude the groupings or explicitly select the grouping columns after groupby to silence this warning.\n",
      "  remove_duplicates.groupby(\"supplier_name\").apply(backfill).reset_index(drop=True)\n"
     ]
    }
   ],
   "source": [
    "backfilled_df = (\n",
    "    remove_duplicates.groupby(\"supplier_name\").apply(backfill).reset_index(drop=True)\n",
    ")"
   ]
  },
  {
   "cell_type": "code",
   "execution_count": 178,
   "id": "f5306280-5a13-443b-9007-83599cddd178",
   "metadata": {},
   "outputs": [
    {
     "data": {
      "text/plain": [
       "48195"
      ]
     },
     "execution_count": 178,
     "metadata": {},
     "output_type": "execute_result"
    }
   ],
   "source": [
    "len(backfilled_df)"
   ]
  },
  {
   "cell_type": "markdown",
   "id": "4455cc8f-4ed8-42ae-ab20-fd1b6737c686",
   "metadata": {},
   "source": [
    "### Merge regional r-gpcd values to district df"
   ]
  },
  {
   "cell_type": "code",
   "execution_count": 179,
   "id": "f91b7953-4566-4eaa-82d0-42942069fa85",
   "metadata": {},
   "outputs": [],
   "source": [
    "merge_regions_df = pd.merge(\n",
    "    remove_duplicates, \n",
    "    region_df[[\"hydro_region\",\"report_period_start_date\",\"region_pop_weighted_rgpcd\"]], \n",
    "    how=\"left\", \n",
    "    on=[\"hydro_region\",\"report_period_start_date\"]\n",
    ").merge(county_df[[\"main_county\",\"report_period_start_date\",\"county_pop_weighted_rgpcd\"]], how=\"left\", on=[\"main_county\",\"report_period_start_date\"])"
   ]
  },
  {
   "cell_type": "code",
   "execution_count": 180,
   "id": "e3a4a761-4a84-45c0-b513-6fb285b9ccb4",
   "metadata": {},
   "outputs": [
    {
     "data": {
      "text/html": [
       "<div>\n",
       "<style scoped>\n",
       "    .dataframe tbody tr th:only-of-type {\n",
       "        vertical-align: middle;\n",
       "    }\n",
       "\n",
       "    .dataframe tbody tr th {\n",
       "        vertical-align: top;\n",
       "    }\n",
       "\n",
       "    .dataframe thead th {\n",
       "        text-align: right;\n",
       "    }\n",
       "</style>\n",
       "<table border=\"1\" class=\"dataframe\">\n",
       "  <thead>\n",
       "    <tr style=\"text-align: right;\">\n",
       "      <th></th>\n",
       "      <th>supplier_name</th>\n",
       "      <th>report_period_start_date</th>\n",
       "      <th>org_id</th>\n",
       "      <th>water_system_id</th>\n",
       "      <th>report_period_end_date</th>\n",
       "      <th>main_county</th>\n",
       "      <th>hydro_region</th>\n",
       "      <th>pop_report_period</th>\n",
       "      <th>potable_supply_minus_sold_minus_ag_gal</th>\n",
       "      <th>potable_supply_minus_sold_minus_ag_gal_flag</th>\n",
       "      <th>r_gpcd</th>\n",
       "      <th>res_flag</th>\n",
       "      <th>latitude</th>\n",
       "      <th>longitude</th>\n",
       "      <th>region_pop_weighted_rgpcd</th>\n",
       "      <th>county_pop_weighted_rgpcd</th>\n",
       "    </tr>\n",
       "  </thead>\n",
       "  <tbody>\n",
       "    <tr>\n",
       "      <th>0</th>\n",
       "      <td>City of Adelanto</td>\n",
       "      <td>2024-04-01</td>\n",
       "      <td>13</td>\n",
       "      <td>CA3610001</td>\n",
       "      <td>2024-04-30</td>\n",
       "      <td>San Bernardino</td>\n",
       "      <td>South Lahontan</td>\n",
       "      <td>39930</td>\n",
       "      <td>1.116257e+08</td>\n",
       "      <td>NaN</td>\n",
       "      <td>59.67</td>\n",
       "      <td>NaN</td>\n",
       "      <td>34.582</td>\n",
       "      <td>-117.419</td>\n",
       "      <td>71.394218</td>\n",
       "      <td>72.595237</td>\n",
       "    </tr>\n",
       "    <tr>\n",
       "      <th>1</th>\n",
       "      <td>City of Adelanto</td>\n",
       "      <td>2024-03-01</td>\n",
       "      <td>13</td>\n",
       "      <td>CA3610001</td>\n",
       "      <td>2024-03-31</td>\n",
       "      <td>San Bernardino</td>\n",
       "      <td>South Lahontan</td>\n",
       "      <td>39930</td>\n",
       "      <td>1.073494e+08</td>\n",
       "      <td>NaN</td>\n",
       "      <td>41.33</td>\n",
       "      <td>NaN</td>\n",
       "      <td>34.582</td>\n",
       "      <td>-117.419</td>\n",
       "      <td>52.337422</td>\n",
       "      <td>62.583979</td>\n",
       "    </tr>\n",
       "    <tr>\n",
       "      <th>2</th>\n",
       "      <td>City of Adelanto</td>\n",
       "      <td>2024-02-01</td>\n",
       "      <td>13</td>\n",
       "      <td>CA3610001</td>\n",
       "      <td>2024-02-29</td>\n",
       "      <td>San Bernardino</td>\n",
       "      <td>South Lahontan</td>\n",
       "      <td>39930</td>\n",
       "      <td>7.141906e+07</td>\n",
       "      <td>NaN</td>\n",
       "      <td>41.65</td>\n",
       "      <td>NaN</td>\n",
       "      <td>34.582</td>\n",
       "      <td>-117.419</td>\n",
       "      <td>65.945242</td>\n",
       "      <td>67.664387</td>\n",
       "    </tr>\n",
       "    <tr>\n",
       "      <th>3</th>\n",
       "      <td>City of Adelanto</td>\n",
       "      <td>2024-01-01</td>\n",
       "      <td>13</td>\n",
       "      <td>CA3610001</td>\n",
       "      <td>2024-01-31</td>\n",
       "      <td>San Bernardino</td>\n",
       "      <td>South Lahontan</td>\n",
       "      <td>39930</td>\n",
       "      <td>7.002864e+07</td>\n",
       "      <td>NaN</td>\n",
       "      <td>43.01</td>\n",
       "      <td>NaN</td>\n",
       "      <td>34.582</td>\n",
       "      <td>-117.419</td>\n",
       "      <td>69.937341</td>\n",
       "      <td>77.570275</td>\n",
       "    </tr>\n",
       "    <tr>\n",
       "      <th>4</th>\n",
       "      <td>City of Adelanto</td>\n",
       "      <td>2023-12-01</td>\n",
       "      <td>13</td>\n",
       "      <td>CA3610001</td>\n",
       "      <td>2023-12-31</td>\n",
       "      <td>San Bernardino</td>\n",
       "      <td>South Lahontan</td>\n",
       "      <td>39930</td>\n",
       "      <td>1.068639e+08</td>\n",
       "      <td>NaN</td>\n",
       "      <td>44.39</td>\n",
       "      <td>NaN</td>\n",
       "      <td>34.582</td>\n",
       "      <td>-117.419</td>\n",
       "      <td>70.857960</td>\n",
       "      <td>81.129522</td>\n",
       "    </tr>\n",
       "  </tbody>\n",
       "</table>\n",
       "</div>"
      ],
      "text/plain": [
       "      supplier_name report_period_start_date  org_id water_system_id  \\\n",
       "0  City of Adelanto               2024-04-01      13       CA3610001   \n",
       "1  City of Adelanto               2024-03-01      13       CA3610001   \n",
       "2  City of Adelanto               2024-02-01      13       CA3610001   \n",
       "3  City of Adelanto               2024-01-01      13       CA3610001   \n",
       "4  City of Adelanto               2023-12-01      13       CA3610001   \n",
       "\n",
       "  report_period_end_date     main_county    hydro_region  pop_report_period  \\\n",
       "0             2024-04-30  San Bernardino  South Lahontan              39930   \n",
       "1             2024-03-31  San Bernardino  South Lahontan              39930   \n",
       "2             2024-02-29  San Bernardino  South Lahontan              39930   \n",
       "3             2024-01-31  San Bernardino  South Lahontan              39930   \n",
       "4             2023-12-31  San Bernardino  South Lahontan              39930   \n",
       "\n",
       "   potable_supply_minus_sold_minus_ag_gal  \\\n",
       "0                            1.116257e+08   \n",
       "1                            1.073494e+08   \n",
       "2                            7.141906e+07   \n",
       "3                            7.002864e+07   \n",
       "4                            1.068639e+08   \n",
       "\n",
       "  potable_supply_minus_sold_minus_ag_gal_flag  r_gpcd res_flag  latitude  \\\n",
       "0                                         NaN   59.67      NaN    34.582   \n",
       "1                                         NaN   41.33      NaN    34.582   \n",
       "2                                         NaN   41.65      NaN    34.582   \n",
       "3                                         NaN   43.01      NaN    34.582   \n",
       "4                                         NaN   44.39      NaN    34.582   \n",
       "\n",
       "   longitude  region_pop_weighted_rgpcd  county_pop_weighted_rgpcd  \n",
       "0   -117.419                  71.394218                  72.595237  \n",
       "1   -117.419                  52.337422                  62.583979  \n",
       "2   -117.419                  65.945242                  67.664387  \n",
       "3   -117.419                  69.937341                  77.570275  \n",
       "4   -117.419                  70.857960                  81.129522  "
      ]
     },
     "execution_count": 180,
     "metadata": {},
     "output_type": "execute_result"
    }
   ],
   "source": [
    "merge_regions_df.head()"
   ]
  },
  {
   "cell_type": "markdown",
   "id": "b5537552-f28b-4635-9168-ec1e095de488",
   "metadata": {},
   "source": [
    "### Round water use figures to save space"
   ]
  },
  {
   "cell_type": "code",
   "execution_count": 181,
   "id": "77f75027-b95a-40b2-af61-81a070f2696c",
   "metadata": {},
   "outputs": [],
   "source": [
    "merge_regions_df[\"potable_supply_minus_sold_minus_ag_gal\"] = merge_regions_df[\"potable_supply_minus_sold_minus_ag_gal\"].round(0)"
   ]
  },
  {
   "cell_type": "code",
   "execution_count": 182,
   "id": "a5990e82-b3d2-443b-8028-70f4c1dfed45",
   "metadata": {},
   "outputs": [],
   "source": [
    "merge_regions_df[\"r_gpcd\"] = merge_regions_df[\"r_gpcd\"].round(1)"
   ]
  },
  {
   "cell_type": "code",
   "execution_count": 183,
   "id": "327906a7-6ccf-4581-966e-588ab7240729",
   "metadata": {},
   "outputs": [],
   "source": [
    "merge_regions_df[\"region_pop_weighted_rgpcd\"] = merge_regions_df[\"region_pop_weighted_rgpcd\"].round(1)"
   ]
  },
  {
   "cell_type": "code",
   "execution_count": 184,
   "id": "e12afd00-bbea-4987-bf8c-dcb383832696",
   "metadata": {},
   "outputs": [],
   "source": [
    "merge_regions_df[\"county_pop_weighted_rgpcd\"] = merge_regions_df[\"county_pop_weighted_rgpcd\"].round(1)"
   ]
  },
  {
   "cell_type": "code",
   "execution_count": 185,
   "id": "74940a54-90de-4194-a800-a9cf32dccf80",
   "metadata": {},
   "outputs": [],
   "source": [
    "statewide_df[\"state_pop_weighted_rgpcd\"] = statewide_df[\"state_pop_weighted_rgpcd\"].round(1)"
   ]
  },
  {
   "cell_type": "markdown",
   "id": "6f05400a-a942-4bf6-8a79-ef6236cda6c3",
   "metadata": {},
   "source": [
    "### Rename columns for clarity and brevity"
   ]
  },
  {
   "cell_type": "code",
   "execution_count": 186,
   "id": "a7347354-69b3-4352-b8a3-06bbc7e2fd86",
   "metadata": {},
   "outputs": [],
   "source": [
    "rename_df = merge_regions_df.rename(columns={\n",
    "    \"water_system_id\": \"pwsid\",\n",
    "    \"report_period_start_date\": \"reporting_month\",\n",
    "    \"pop_report_period\": \"population\",\n",
    "    \"dwr_standard_level\": \"dwr_stage\",\n",
    "    \"potable_supply_minus_sold_minus_ag_gal\": \"total_water_production\",\n",
    "    \"r_gpcd\": \"r_gpcd\",\n",
    "    \"region_pop_weighted_rgpcd\": \"regional_r_gpcd\",\n",
    "    \"county_pop_weighted_rgpcd\": \"county_r_gpcd\"\n",
    "})"
   ]
  },
  {
   "cell_type": "markdown",
   "id": "aa4e6755-4aa0-4349-a371-ca068512caf9",
   "metadata": {},
   "source": [
    "### Chart"
   ]
  },
  {
   "cell_type": "code",
   "execution_count": 187,
   "id": "f8ab2886-45b0-425b-ad77-cf32fc55b581",
   "metadata": {},
   "outputs": [],
   "source": [
    "melt = pd.melt(\n",
    "    rename_df, \n",
    "    id_vars=[\"supplier_name\",\"main_county\",\"reporting_month\"], \n",
    "    value_vars=[\"r_gpcd\",\"county_r_gpcd\"]\n",
    ")"
   ]
  },
  {
   "cell_type": "code",
   "execution_count": 188,
   "id": "7c47fc97-51f6-4cf8-ab67-a18c9ad03113",
   "metadata": {},
   "outputs": [],
   "source": [
    "# melt[(melt.hydro_region == 'South Coast') & (melt.supplier_name.str.contains('Los Angeles'))].supplier_name.unique()"
   ]
  },
  {
   "cell_type": "code",
   "execution_count": 189,
   "id": "58042a8b-1b8f-4e6a-9d09-c6bfe95f6dc9",
   "metadata": {},
   "outputs": [
    {
     "data": {
      "text/html": [
       "\n",
       "<style>\n",
       "  #altair-viz-2e4b47e7719e4436b859fc8d4efe5fef.vega-embed {\n",
       "    width: 100%;\n",
       "    display: flex;\n",
       "  }\n",
       "\n",
       "  #altair-viz-2e4b47e7719e4436b859fc8d4efe5fef.vega-embed details,\n",
       "  #altair-viz-2e4b47e7719e4436b859fc8d4efe5fef.vega-embed details summary {\n",
       "    position: relative;\n",
       "  }\n",
       "</style>\n",
       "<div id=\"altair-viz-2e4b47e7719e4436b859fc8d4efe5fef\"></div>\n",
       "<script type=\"text/javascript\">\n",
       "  var VEGA_DEBUG = (typeof VEGA_DEBUG == \"undefined\") ? {} : VEGA_DEBUG;\n",
       "  (function(spec, embedOpt){\n",
       "    let outputDiv = document.currentScript.previousElementSibling;\n",
       "    if (outputDiv.id !== \"altair-viz-2e4b47e7719e4436b859fc8d4efe5fef\") {\n",
       "      outputDiv = document.getElementById(\"altair-viz-2e4b47e7719e4436b859fc8d4efe5fef\");\n",
       "    }\n",
       "    const paths = {\n",
       "      \"vega\": \"https://cdn.jsdelivr.net/npm/vega@5?noext\",\n",
       "      \"vega-lib\": \"https://cdn.jsdelivr.net/npm/vega-lib?noext\",\n",
       "      \"vega-lite\": \"https://cdn.jsdelivr.net/npm/vega-lite@5.16.3?noext\",\n",
       "      \"vega-embed\": \"https://cdn.jsdelivr.net/npm/vega-embed@6?noext\",\n",
       "    };\n",
       "\n",
       "    function maybeLoadScript(lib, version) {\n",
       "      var key = `${lib.replace(\"-\", \"\")}_version`;\n",
       "      return (VEGA_DEBUG[key] == version) ?\n",
       "        Promise.resolve(paths[lib]) :\n",
       "        new Promise(function(resolve, reject) {\n",
       "          var s = document.createElement('script');\n",
       "          document.getElementsByTagName(\"head\")[0].appendChild(s);\n",
       "          s.async = true;\n",
       "          s.onload = () => {\n",
       "            VEGA_DEBUG[key] = version;\n",
       "            return resolve(paths[lib]);\n",
       "          };\n",
       "          s.onerror = () => reject(`Error loading script: ${paths[lib]}`);\n",
       "          s.src = paths[lib];\n",
       "        });\n",
       "    }\n",
       "\n",
       "    function showError(err) {\n",
       "      outputDiv.innerHTML = `<div class=\"error\" style=\"color:red;\">${err}</div>`;\n",
       "      throw err;\n",
       "    }\n",
       "\n",
       "    function displayChart(vegaEmbed) {\n",
       "      vegaEmbed(outputDiv, spec, embedOpt)\n",
       "        .catch(err => showError(`Javascript Error: ${err.message}<br>This usually means there's a typo in your chart specification. See the javascript console for the full traceback.`));\n",
       "    }\n",
       "\n",
       "    if(typeof define === \"function\" && define.amd) {\n",
       "      requirejs.config({paths});\n",
       "      require([\"vega-embed\"], displayChart, err => showError(`Error loading script: ${err.message}`));\n",
       "    } else {\n",
       "      maybeLoadScript(\"vega\", \"5\")\n",
       "        .then(() => maybeLoadScript(\"vega-lite\", \"5.16.3\"))\n",
       "        .then(() => maybeLoadScript(\"vega-embed\", \"6\"))\n",
       "        .catch(showError)\n",
       "        .then(() => displayChart(vegaEmbed));\n",
       "    }\n",
       "  })({\"config\": {\"view\": {\"width\": 800, \"height\": 450}, \"background\": \"#ffffff\", \"title\": {\"anchor\": \"start\", \"font\": \"BentonGothic-Bold, sans\", \"fontColor\": \"#000000\", \"fontSize\": 22, \"fontWeight\": \"normal\"}, \"arc\": {\"fill\": \"#82c6df\"}, \"area\": {\"fill\": \"#82c6df\"}, \"line\": {\"stroke\": \"#82c6df\", \"strokeWidth\": 3}, \"path\": {\"stroke\": \"#82c6df\"}, \"rect\": {\"fill\": \"#82c6df\"}, \"shape\": {\"stroke\": \"#82c6df\"}, \"bar\": {\"fill\": \"#82c6df\"}, \"point\": {\"stroke\": \"#82c6df\"}, \"symbol\": {\"fill\": \"#82c6df\", \"size\": 30}, \"axis\": {\"titleFont\": \"BentonGothic-Bold, sans\", \"titleFontSize\": 14, \"titleFontWeight\": \"normal\", \"labelFont\": \"BentonGothic, sans\", \"labelFontSize\": 12, \"labelFontWeight\": \"normal\"}, \"axisX\": {\"labelAngle\": 0, \"labelPadding\": 4, \"tickSize\": 3}, \"axisY\": {\"labelBaseline\": \"middle\", \"maxExtent\": 45, \"minExtent\": 45, \"tickSize\": 2, \"titleAlign\": \"left\", \"titleAngle\": 0, \"titleX\": -45, \"titleY\": -11}, \"legend\": {\"titleFont\": \"BentonGothic-Bold, sans\", \"titleFontSize\": 14, \"titleFontWeight\": \"normal\", \"symbolType\": \"square\", \"labelFont\": \"BentonGothic, sans\", \"labelFontSize\": 13}, \"range\": {\"category\": [\"#3580b1\", \"#ec8431\", \"#ab7fb4\", \"#c89d29\", \"#adc839\", \"#829eb1\"], \"diverging\": [\"#e68a4f\", \"#f4bb6a\", \"#f9e39c\", \"#dadfe2\", \"#a6b7c6\", \"#849eae\"], \"heatmap\": [\"#fbf2c7\", \"#f9e39c\", \"#f8d36e\", \"#f4bb6a\", \"#e68a4f\", \"#d15a40\", \"#ab4232\"], \"ordinal\": [\"#fbf2c7\", \"#f9e39c\", \"#f8d36e\", \"#f4bb6a\", \"#e68a4f\", \"#d15a40\", \"#ab4232\"], \"ramp\": [\"#fbf2c7\", \"#f9e39c\", \"#f8d36e\", \"#f4bb6a\", \"#e68a4f\", \"#d15a40\", \"#ab4232\"]}}, \"layer\": [{\"mark\": {\"type\": \"bar\", \"color\": \"#83c6e0\"}, \"encoding\": {\"text\": {\"field\": \"r_gpcd\", \"type\": \"quantitative\"}, \"tooltip\": [{\"field\": \"r_gpcd\", \"type\": \"quantitative\"}, {\"field\": \"reporting_month\", \"type\": \"temporal\"}], \"x\": {\"axis\": {\"title\": \"\"}, \"field\": \"reporting_month\", \"timeUnit\": \"yearmonth\", \"type\": \"ordinal\"}, \"y\": {\"axis\": {\"title\": \"Residential gallons per capita per day\"}, \"field\": \"r_gpcd\", \"stack\": null, \"type\": \"quantitative\"}}}, {\"mark\": {\"type\": \"line\", \"color\": \"#1281aa\", \"interpolate\": \"step\"}, \"encoding\": {\"text\": {\"field\": \"county_r_gpcd\", \"type\": \"quantitative\"}, \"tooltip\": [{\"field\": \"r_gpcd\", \"type\": \"quantitative\"}, {\"field\": \"reporting_month\", \"type\": \"temporal\"}], \"x\": {\"axis\": {\"title\": \"\"}, \"field\": \"reporting_month\", \"timeUnit\": \"yearmonth\", \"type\": \"ordinal\"}, \"y\": {\"field\": \"county_r_gpcd\", \"type\": \"quantitative\"}}}, {\"mark\": {\"type\": \"text\", \"align\": \"center\", \"dy\": -7}, \"encoding\": {\"text\": {\"field\": \"r_gpcd\", \"type\": \"quantitative\"}, \"tooltip\": [{\"field\": \"r_gpcd\", \"type\": \"quantitative\"}, {\"field\": \"reporting_month\", \"type\": \"temporal\"}], \"x\": {\"axis\": {\"title\": \"\"}, \"field\": \"reporting_month\", \"timeUnit\": \"yearmonth\", \"type\": \"ordinal\"}, \"y\": {\"axis\": {\"title\": \"Residential gallons per capita per day\"}, \"field\": \"r_gpcd\", \"stack\": null, \"type\": \"quantitative\"}}}, {\"mark\": {\"type\": \"text\", \"align\": \"center\", \"dy\": -7}, \"encoding\": {\"text\": {\"field\": \"county_r_gpcd\", \"type\": \"quantitative\"}, \"tooltip\": [{\"field\": \"r_gpcd\", \"type\": \"quantitative\"}, {\"field\": \"reporting_month\", \"type\": \"temporal\"}], \"x\": {\"axis\": {\"title\": \"\"}, \"field\": \"reporting_month\", \"timeUnit\": \"yearmonth\", \"type\": \"ordinal\"}, \"y\": {\"field\": \"county_r_gpcd\", \"type\": \"quantitative\"}}}], \"data\": {\"name\": \"data-d37d0b90489ee1e23d2e15613ceed85b\"}, \"title\": \"Los Angeles City Department of Water And Power residential water usage compared to county average\", \"width\": 600, \"$schema\": \"https://vega.github.io/schema/vega-lite/v5.16.3.json\", \"datasets\": {\"data-d37d0b90489ee1e23d2e15613ceed85b\": [{\"supplier_name\": \"Los Angeles City Department of Water And Power\", \"reporting_month\": \"2024-04-01T00:00:00\", \"org_id\": 1473, \"pwsid\": \"CA1910067\", \"report_period_end_date\": \"2024-04-30T00:00:00\", \"main_county\": \"Los Angeles\", \"hydro_region\": \"South Coast\", \"population\": 3868811, \"total_water_production\": 10779343332.0, \"potable_supply_minus_sold_minus_ag_gal_flag\": NaN, \"r_gpcd\": 53.8, \"res_flag\": NaN, \"latitude\": 34.115, \"longitude\": -118.407, \"regional_r_gpcd\": 59.2, \"county_r_gpcd\": 56.5}, {\"supplier_name\": \"Los Angeles City Department of Water And Power\", \"reporting_month\": \"2024-03-01T00:00:00\", \"org_id\": 1473, \"pwsid\": \"CA1910067\", \"report_period_end_date\": \"2024-03-31T00:00:00\", \"main_county\": \"Los Angeles\", \"hydro_region\": \"South Coast\", \"population\": 3868811, \"total_water_production\": 10249027347.0, \"potable_supply_minus_sold_minus_ag_gal_flag\": NaN, \"r_gpcd\": 54.1, \"res_flag\": NaN, \"latitude\": 34.115, \"longitude\": -118.407, \"regional_r_gpcd\": 56.9, \"county_r_gpcd\": 53.6}, {\"supplier_name\": \"Los Angeles City Department of Water And Power\", \"reporting_month\": \"2024-02-01T00:00:00\", \"org_id\": 1473, \"pwsid\": \"CA1910067\", \"report_period_end_date\": \"2024-02-29T00:00:00\", \"main_county\": \"Los Angeles\", \"hydro_region\": \"South Coast\", \"population\": 3868811, \"total_water_production\": 10973840535.0, \"potable_supply_minus_sold_minus_ag_gal_flag\": NaN, \"r_gpcd\": 60.0, \"res_flag\": NaN, \"latitude\": 34.115, \"longitude\": -118.407, \"regional_r_gpcd\": 62.8, \"county_r_gpcd\": 60.7}, {\"supplier_name\": \"Los Angeles City Department of Water And Power\", \"reporting_month\": \"2024-01-01T00:00:00\", \"org_id\": 1473, \"pwsid\": \"CA1910067\", \"report_period_end_date\": \"2024-01-31T00:00:00\", \"main_county\": \"Los Angeles\", \"hydro_region\": \"South Coast\", \"population\": 3868811, \"total_water_production\": 8437191514.0, \"potable_supply_minus_sold_minus_ag_gal_flag\": NaN, \"r_gpcd\": 67.6, \"res_flag\": NaN, \"latitude\": 34.115, \"longitude\": -118.407, \"regional_r_gpcd\": 67.9, \"county_r_gpcd\": 65.4}, {\"supplier_name\": \"Los Angeles City Department of Water And Power\", \"reporting_month\": \"2023-12-01T00:00:00\", \"org_id\": 1473, \"pwsid\": \"CA1910067\", \"report_period_end_date\": \"2023-12-31T00:00:00\", \"main_county\": \"Los Angeles\", \"hydro_region\": \"South Coast\", \"population\": 3868811, \"total_water_production\": 11529224238.0, \"potable_supply_minus_sold_minus_ag_gal_flag\": NaN, \"r_gpcd\": 67.6, \"res_flag\": NaN, \"latitude\": 34.115, \"longitude\": -118.407, \"regional_r_gpcd\": 73.0, \"county_r_gpcd\": 69.6}, {\"supplier_name\": \"Los Angeles City Department of Water And Power\", \"reporting_month\": \"2023-11-01T00:00:00\", \"org_id\": 1473, \"pwsid\": \"CA1910067\", \"report_period_end_date\": \"2023-11-30T00:00:00\", \"main_county\": \"Los Angeles\", \"hydro_region\": \"South Coast\", \"population\": 3868811, \"total_water_production\": 11973492750.0, \"potable_supply_minus_sold_minus_ag_gal_flag\": NaN, \"r_gpcd\": 72.3, \"res_flag\": NaN, \"latitude\": 34.115, \"longitude\": -118.407, \"regional_r_gpcd\": 82.4, \"county_r_gpcd\": 74.6}, {\"supplier_name\": \"Los Angeles City Department of Water And Power\", \"reporting_month\": \"2023-10-01T00:00:00\", \"org_id\": 1473, \"pwsid\": \"CA1910067\", \"report_period_end_date\": \"2023-10-31T00:00:00\", \"main_county\": \"Los Angeles\", \"hydro_region\": \"South Coast\", \"population\": 3868811, \"total_water_production\": 13088186661.0, \"potable_supply_minus_sold_minus_ag_gal_flag\": NaN, \"r_gpcd\": 69.4, \"res_flag\": NaN, \"latitude\": 34.115, \"longitude\": -118.407, \"regional_r_gpcd\": 81.1, \"county_r_gpcd\": 75.4}, {\"supplier_name\": \"Los Angeles City Department of Water And Power\", \"reporting_month\": \"2023-09-01T00:00:00\", \"org_id\": 1473, \"pwsid\": \"CA1910067\", \"report_period_end_date\": \"2023-09-30T00:00:00\", \"main_county\": \"Los Angeles\", \"hydro_region\": \"South Coast\", \"population\": 3868811, \"total_water_production\": 13823756191.0, \"potable_supply_minus_sold_minus_ag_gal_flag\": NaN, \"r_gpcd\": 74.5, \"res_flag\": NaN, \"latitude\": 34.115, \"longitude\": -118.407, \"regional_r_gpcd\": 90.9, \"county_r_gpcd\": 81.7}, {\"supplier_name\": \"Los Angeles City Department of Water And Power\", \"reporting_month\": \"2023-08-01T00:00:00\", \"org_id\": 1473, \"pwsid\": \"CA1910067\", \"report_period_end_date\": \"2023-08-31T00:00:00\", \"main_county\": \"Los Angeles\", \"hydro_region\": \"South Coast\", \"population\": 3953941, \"total_water_production\": 13700809350.0, \"potable_supply_minus_sold_minus_ag_gal_flag\": NaN, \"r_gpcd\": 70.5, \"res_flag\": NaN, \"latitude\": 34.115, \"longitude\": -118.407, \"regional_r_gpcd\": 92.8, \"county_r_gpcd\": 82.9}, {\"supplier_name\": \"Los Angeles City Department of Water And Power\", \"reporting_month\": \"2023-07-01T00:00:00\", \"org_id\": 1473, \"pwsid\": \"CA1910067\", \"report_period_end_date\": \"2023-07-31T00:00:00\", \"main_county\": \"Los Angeles\", \"hydro_region\": \"South Coast\", \"population\": 3953941, \"total_water_production\": 13562531355.0, \"potable_supply_minus_sold_minus_ag_gal_flag\": NaN, \"r_gpcd\": 66.7, \"res_flag\": NaN, \"latitude\": 34.115, \"longitude\": -118.407, \"regional_r_gpcd\": 84.6, \"county_r_gpcd\": 76.4}, {\"supplier_name\": \"Los Angeles City Department of Water And Power\", \"reporting_month\": \"2023-06-01T00:00:00\", \"org_id\": 1473, \"pwsid\": \"CA1910067\", \"report_period_end_date\": \"2023-06-30T00:00:00\", \"main_county\": \"Los Angeles\", \"hydro_region\": \"South Coast\", \"population\": 3953941, \"total_water_production\": 12053290402.0, \"potable_supply_minus_sold_minus_ag_gal_flag\": NaN, \"r_gpcd\": 67.5, \"res_flag\": NaN, \"latitude\": 34.115, \"longitude\": -118.407, \"regional_r_gpcd\": 82.4, \"county_r_gpcd\": 74.1}, {\"supplier_name\": \"Los Angeles City Department of Water And Power\", \"reporting_month\": \"2023-05-01T00:00:00\", \"org_id\": 1473, \"pwsid\": \"CA1910067\", \"report_period_end_date\": \"2023-05-31T00:00:00\", \"main_county\": \"Los Angeles\", \"hydro_region\": \"South Coast\", \"population\": 3953941, \"total_water_production\": 11892649117.0, \"potable_supply_minus_sold_minus_ag_gal_flag\": NaN, \"r_gpcd\": 63.1, \"res_flag\": NaN, \"latitude\": 34.115, \"longitude\": -118.407, \"regional_r_gpcd\": 72.6, \"county_r_gpcd\": 67.1}]}}, {\"mode\": \"vega-lite\"});\n",
       "</script>"
      ],
      "text/plain": [
       "alt.LayerChart(...)"
      ]
     },
     "execution_count": 189,
     "metadata": {},
     "output_type": "execute_result"
    }
   ],
   "source": [
    "agency_name = \"Los Angeles City Department of Water And Power\"\n",
    "# agency_name = \"East Bay Municipal Utility District\"\n",
    "\n",
    "base = alt.Chart(\n",
    "    rename_df[\n",
    "        (rename_df.supplier_name == agency_name)\n",
    "    ].head(12)\n",
    ").encode(\n",
    "    x=alt.X(\"yearmonth(reporting_month):O\").axis(title=\"\"),\n",
    "    tooltip=[\"r_gpcd\",\"reporting_month\"]\n",
    ")\n",
    "\n",
    "bar = base.mark_bar(color=\"#83c6e0\").encode(\n",
    "    y=alt.Y(\"r_gpcd\", stack=None).axis(title=\"Residential gallons per capita per day\"),\n",
    "    text=\"r_gpcd\"\n",
    ")\n",
    "\n",
    "avg_line = base.mark_line(interpolate='step', color='#1281aa').encode(\n",
    "    y=alt.Y(\"county_r_gpcd\"),\n",
    "    text=\"county_r_gpcd\"\n",
    ")\n",
    "\n",
    "# goal_line = alt.Chart(pd.DataFrame({'y': [80]})).mark_rule(color=\"#b75a36\",strokeDash=[10,11]).encode(y='y')\n",
    "\n",
    "(\n",
    "    bar + \n",
    "    avg_line + \n",
    "    bar.mark_text(align='center', dy=-7) +\n",
    "    avg_line.mark_text(align='center', dy=-7)\n",
    ").properties(title=f\"{agency_name} residential water usage compared to county average\", width=600)"
   ]
  },
  {
   "cell_type": "code",
   "execution_count": 190,
   "id": "1d7626ea",
   "metadata": {},
   "outputs": [
    {
     "data": {
      "text/html": [
       "\n",
       "<style>\n",
       "  #altair-viz-cbe50f2cf0384deea6e70296392783bc.vega-embed {\n",
       "    width: 100%;\n",
       "    display: flex;\n",
       "  }\n",
       "\n",
       "  #altair-viz-cbe50f2cf0384deea6e70296392783bc.vega-embed details,\n",
       "  #altair-viz-cbe50f2cf0384deea6e70296392783bc.vega-embed details summary {\n",
       "    position: relative;\n",
       "  }\n",
       "</style>\n",
       "<div id=\"altair-viz-cbe50f2cf0384deea6e70296392783bc\"></div>\n",
       "<script type=\"text/javascript\">\n",
       "  var VEGA_DEBUG = (typeof VEGA_DEBUG == \"undefined\") ? {} : VEGA_DEBUG;\n",
       "  (function(spec, embedOpt){\n",
       "    let outputDiv = document.currentScript.previousElementSibling;\n",
       "    if (outputDiv.id !== \"altair-viz-cbe50f2cf0384deea6e70296392783bc\") {\n",
       "      outputDiv = document.getElementById(\"altair-viz-cbe50f2cf0384deea6e70296392783bc\");\n",
       "    }\n",
       "    const paths = {\n",
       "      \"vega\": \"https://cdn.jsdelivr.net/npm/vega@5?noext\",\n",
       "      \"vega-lib\": \"https://cdn.jsdelivr.net/npm/vega-lib?noext\",\n",
       "      \"vega-lite\": \"https://cdn.jsdelivr.net/npm/vega-lite@5.16.3?noext\",\n",
       "      \"vega-embed\": \"https://cdn.jsdelivr.net/npm/vega-embed@6?noext\",\n",
       "    };\n",
       "\n",
       "    function maybeLoadScript(lib, version) {\n",
       "      var key = `${lib.replace(\"-\", \"\")}_version`;\n",
       "      return (VEGA_DEBUG[key] == version) ?\n",
       "        Promise.resolve(paths[lib]) :\n",
       "        new Promise(function(resolve, reject) {\n",
       "          var s = document.createElement('script');\n",
       "          document.getElementsByTagName(\"head\")[0].appendChild(s);\n",
       "          s.async = true;\n",
       "          s.onload = () => {\n",
       "            VEGA_DEBUG[key] = version;\n",
       "            return resolve(paths[lib]);\n",
       "          };\n",
       "          s.onerror = () => reject(`Error loading script: ${paths[lib]}`);\n",
       "          s.src = paths[lib];\n",
       "        });\n",
       "    }\n",
       "\n",
       "    function showError(err) {\n",
       "      outputDiv.innerHTML = `<div class=\"error\" style=\"color:red;\">${err}</div>`;\n",
       "      throw err;\n",
       "    }\n",
       "\n",
       "    function displayChart(vegaEmbed) {\n",
       "      vegaEmbed(outputDiv, spec, embedOpt)\n",
       "        .catch(err => showError(`Javascript Error: ${err.message}<br>This usually means there's a typo in your chart specification. See the javascript console for the full traceback.`));\n",
       "    }\n",
       "\n",
       "    if(typeof define === \"function\" && define.amd) {\n",
       "      requirejs.config({paths});\n",
       "      require([\"vega-embed\"], displayChart, err => showError(`Error loading script: ${err.message}`));\n",
       "    } else {\n",
       "      maybeLoadScript(\"vega\", \"5\")\n",
       "        .then(() => maybeLoadScript(\"vega-lite\", \"5.16.3\"))\n",
       "        .then(() => maybeLoadScript(\"vega-embed\", \"6\"))\n",
       "        .catch(showError)\n",
       "        .then(() => displayChart(vegaEmbed));\n",
       "    }\n",
       "  })({\"config\": {\"view\": {\"width\": 800, \"height\": 450}, \"background\": \"#ffffff\", \"title\": {\"anchor\": \"start\", \"font\": \"BentonGothic-Bold, sans\", \"fontColor\": \"#000000\", \"fontSize\": 22, \"fontWeight\": \"normal\"}, \"arc\": {\"fill\": \"#82c6df\"}, \"area\": {\"fill\": \"#82c6df\"}, \"line\": {\"stroke\": \"#82c6df\", \"strokeWidth\": 3}, \"path\": {\"stroke\": \"#82c6df\"}, \"rect\": {\"fill\": \"#82c6df\"}, \"shape\": {\"stroke\": \"#82c6df\"}, \"bar\": {\"fill\": \"#82c6df\"}, \"point\": {\"stroke\": \"#82c6df\"}, \"symbol\": {\"fill\": \"#82c6df\", \"size\": 30}, \"axis\": {\"titleFont\": \"BentonGothic-Bold, sans\", \"titleFontSize\": 14, \"titleFontWeight\": \"normal\", \"labelFont\": \"BentonGothic, sans\", \"labelFontSize\": 12, \"labelFontWeight\": \"normal\"}, \"axisX\": {\"labelAngle\": 0, \"labelPadding\": 4, \"tickSize\": 3}, \"axisY\": {\"labelBaseline\": \"middle\", \"maxExtent\": 45, \"minExtent\": 45, \"tickSize\": 2, \"titleAlign\": \"left\", \"titleAngle\": 0, \"titleX\": -45, \"titleY\": -11}, \"legend\": {\"titleFont\": \"BentonGothic-Bold, sans\", \"titleFontSize\": 14, \"titleFontWeight\": \"normal\", \"symbolType\": \"square\", \"labelFont\": \"BentonGothic, sans\", \"labelFontSize\": 13}, \"range\": {\"category\": [\"#3580b1\", \"#ec8431\", \"#ab7fb4\", \"#c89d29\", \"#adc839\", \"#829eb1\"], \"diverging\": [\"#e68a4f\", \"#f4bb6a\", \"#f9e39c\", \"#dadfe2\", \"#a6b7c6\", \"#849eae\"], \"heatmap\": [\"#fbf2c7\", \"#f9e39c\", \"#f8d36e\", \"#f4bb6a\", \"#e68a4f\", \"#d15a40\", \"#ab4232\"], \"ordinal\": [\"#fbf2c7\", \"#f9e39c\", \"#f8d36e\", \"#f4bb6a\", \"#e68a4f\", \"#d15a40\", \"#ab4232\"], \"ramp\": [\"#fbf2c7\", \"#f9e39c\", \"#f8d36e\", \"#f4bb6a\", \"#e68a4f\", \"#d15a40\", \"#ab4232\"]}}, \"layer\": [{\"mark\": {\"type\": \"bar\", \"color\": \"#83c6e0\"}, \"encoding\": {\"text\": {\"field\": \"state_pop_weighted_rgpcd\", \"type\": \"quantitative\"}, \"tooltip\": [{\"field\": \"state_pop_weighted_rgpcd\", \"type\": \"quantitative\"}, {\"field\": \"report_period_start_date\", \"type\": \"temporal\"}], \"x\": {\"axis\": {\"title\": \"\"}, \"field\": \"report_period_start_date\", \"timeUnit\": \"yearmonth\", \"type\": \"ordinal\"}, \"y\": {\"axis\": {\"title\": \"Residential gallons per capita per day\"}, \"field\": \"state_pop_weighted_rgpcd\", \"stack\": null, \"type\": \"quantitative\"}}}, {\"mark\": {\"type\": \"text\", \"align\": \"center\", \"dy\": -7}, \"encoding\": {\"text\": {\"field\": \"state_pop_weighted_rgpcd\", \"type\": \"quantitative\"}, \"tooltip\": [{\"field\": \"state_pop_weighted_rgpcd\", \"type\": \"quantitative\"}, {\"field\": \"report_period_start_date\", \"type\": \"temporal\"}], \"x\": {\"axis\": {\"title\": \"\"}, \"field\": \"report_period_start_date\", \"timeUnit\": \"yearmonth\", \"type\": \"ordinal\"}, \"y\": {\"axis\": {\"title\": \"Residential gallons per capita per day\"}, \"field\": \"state_pop_weighted_rgpcd\", \"stack\": null, \"type\": \"quantitative\"}}}], \"data\": {\"name\": \"data-9aec7742135b7091069f6447fc26ee7e\"}, \"title\": \"Statewide residential water usage\", \"width\": 600, \"$schema\": \"https://vega.github.io/schema/vega-lite/v5.16.3.json\", \"datasets\": {\"data-9aec7742135b7091069f6447fc26ee7e\": [{\"report_period_start_date\": \"2023-05-01T00:00:00\", \"total_pop\": 36487877.0, \"total_gallons\": 158692749952.40997, \"state_pop_weighted_rgpcd\": 74.8}, {\"report_period_start_date\": \"2023-06-01T00:00:00\", \"total_pop\": 36637523.0, \"total_gallons\": 170084460702.97, \"state_pop_weighted_rgpcd\": 89.8}, {\"report_period_start_date\": \"2023-07-01T00:00:00\", \"total_pop\": 35262336.0, \"total_gallons\": -1821577998524.7498, \"state_pop_weighted_rgpcd\": 95.2}, {\"report_period_start_date\": \"2023-08-01T00:00:00\", \"total_pop\": 36638668.0, \"total_gallons\": -10684469224397.088, \"state_pop_weighted_rgpcd\": 101.1}, {\"report_period_start_date\": \"2023-09-01T00:00:00\", \"total_pop\": 37169224.0, \"total_gallons\": 166033517381.28, \"state_pop_weighted_rgpcd\": 96.3}, {\"report_period_start_date\": \"2023-10-01T00:00:00\", \"total_pop\": 35221477.0, \"total_gallons\": 155071742880.33002, \"state_pop_weighted_rgpcd\": 85.7}, {\"report_period_start_date\": \"2023-11-01T00:00:00\", \"total_pop\": 36249158.0, \"total_gallons\": 132675997809.60002, \"state_pop_weighted_rgpcd\": 82.3}, {\"report_period_start_date\": \"2023-12-01T00:00:00\", \"total_pop\": 36182200.0, \"total_gallons\": 91443650999.51001, \"state_pop_weighted_rgpcd\": 69.9}, {\"report_period_start_date\": \"2024-01-01T00:00:00\", \"total_pop\": 34141573.0, \"total_gallons\": 95938006793.93, \"state_pop_weighted_rgpcd\": 64.6}, {\"report_period_start_date\": \"2024-02-01T00:00:00\", \"total_pop\": 34138745.0, \"total_gallons\": 87701679275.62, \"state_pop_weighted_rgpcd\": 61.0}, {\"report_period_start_date\": \"2024-03-01T00:00:00\", \"total_pop\": 35631609.0, \"total_gallons\": 105736099117.29, \"state_pop_weighted_rgpcd\": 55.4}, {\"report_period_start_date\": \"2024-04-01T00:00:00\", \"total_pop\": 31266350.0, \"total_gallons\": 99006510945.51999, \"state_pop_weighted_rgpcd\": 61.4}]}}, {\"mode\": \"vega-lite\"});\n",
       "</script>"
      ],
      "text/plain": [
       "alt.LayerChart(...)"
      ]
     },
     "execution_count": 190,
     "metadata": {},
     "output_type": "execute_result"
    }
   ],
   "source": [
    "base = alt.Chart(\n",
    "    statewide_df.tail(12)\n",
    ").encode(\n",
    "    x=alt.X(\"yearmonth(report_period_start_date):O\").axis(title=\"\"),\n",
    "    tooltip=[\"state_pop_weighted_rgpcd\",\"report_period_start_date\"]\n",
    ")\n",
    "\n",
    "bar = base.mark_bar(color=\"#83c6e0\").encode(\n",
    "    y=alt.Y(\"state_pop_weighted_rgpcd\", stack=None).axis(title=\"Residential gallons per capita per day\"),\n",
    "    text=\"state_pop_weighted_rgpcd\"\n",
    ")\n",
    "\n",
    "# avg_line = base.mark_line(interpolate='step', color='#1281aa').encode(\n",
    "#     y=alt.Y(\"regional_r_gpcd\"),\n",
    "#     text=\"regional_r_gpcd\"\n",
    "# )\n",
    "\n",
    "# goal_line = alt.Chart(pd.DataFrame({'y': [80]})).mark_rule(color=\"#b75a36\",strokeDash=[10,11]).encode(y='y')\n",
    "\n",
    "(\n",
    "    bar + \n",
    "    # avg_line + \n",
    "    bar.mark_text(align='center', dy=-7) \n",
    "    # avg_line.mark_text(align='center', dy=-7)\n",
    ").properties(title=f\"Statewide residential water usage\", width=600)"
   ]
  },
  {
   "cell_type": "markdown",
   "id": "0ba26fc7-525a-4a1d-b244-ab0d51de64c1",
   "metadata": {},
   "source": [
    "### Sort data"
   ]
  },
  {
   "cell_type": "code",
   "execution_count": 191,
   "id": "b7891244-418d-460c-b03f-8723fdfdf60b",
   "metadata": {},
   "outputs": [],
   "source": [
    "sort_district_df = rename_df.sort_values([\"reporting_month\",\"main_county\",\"supplier_name\"])"
   ]
  },
  {
   "cell_type": "code",
   "execution_count": 192,
   "id": "e2528b46-80ad-4a8e-9906-4ec81bdfdb29",
   "metadata": {},
   "outputs": [],
   "source": [
    "sort_region_df = region_df.rename(columns={\"report_period_start_date\":\"reporting_month\"}).sort_values([\"reporting_month\",\"hydro_region\"])"
   ]
  },
  {
   "cell_type": "code",
   "execution_count": 193,
   "id": "ee2cb957-0f64-45e6-8123-bf5b5ee4d60c",
   "metadata": {},
   "outputs": [],
   "source": [
    "sort_county_df = county_df.rename(columns={\"report_period_start_date\":\"reporting_month\"}).sort_values([\"reporting_month\",\"main_county\"])"
   ]
  },
  {
   "cell_type": "code",
   "execution_count": 194,
   "id": "470088cc-862a-422b-9a64-40269a67cb50",
   "metadata": {},
   "outputs": [],
   "source": [
    "sort_state_df = statewide_df.rename(columns={\"report_period_start_date\":\"reporting_month\"}).sort_values([\"reporting_month\"])"
   ]
  },
  {
   "cell_type": "markdown",
   "id": "80577211-2977-4025-ae3e-3e166ded9cbb",
   "metadata": {},
   "source": [
    "### Filter dataframe to be a bit more manageable"
   ]
  },
  {
   "cell_type": "code",
   "execution_count": 195,
   "id": "738e9911-f5cc-4f73-ab9d-c49792ee4109",
   "metadata": {},
   "outputs": [],
   "source": [
    "#filtered_district_df = sort_district_df[sort_district_df.reporting_month >= \"2021-01-15\"]"
   ]
  },
  {
   "cell_type": "code",
   "execution_count": 196,
   "id": "1f5275ce-400d-48f6-8b72-ace7f07db5af",
   "metadata": {},
   "outputs": [],
   "source": [
    "last_twelve_months_df = sort_district_df.sort_values('reporting_month').groupby('pwsid').tail(12)"
   ]
  },
  {
   "cell_type": "code",
   "execution_count": 198,
   "id": "5c94fd5f-daa3-4c03-94ac-4f81f0f92967",
   "metadata": {},
   "outputs": [],
   "source": [
    "latest_df = sort_district_df[\n",
    "    (sort_district_df.r_gpcd > 0)\n",
    "].sort_values('reporting_month').groupby('pwsid').tail(1)"
   ]
  },
  {
   "cell_type": "markdown",
   "id": "d3c9f03c-169e-4267-9c81-69ef4326c8de",
   "metadata": {},
   "source": [
    "### Export"
   ]
  },
  {
   "cell_type": "code",
   "execution_count": 199,
   "id": "5bfd784b-cc8c-4c34-a887-4a69d0f87e5d",
   "metadata": {},
   "outputs": [],
   "source": [
    "last_twelve_months_df.to_csv(\"data/processed/district-level-residential-use.csv\", index=False)"
   ]
  },
  {
   "cell_type": "code",
   "execution_count": 200,
   "id": "611e9f73-98a9-4b68-9c5c-5d26fa499127",
   "metadata": {},
   "outputs": [],
   "source": [
    "latest_df.to_csv(\"data/processed/latest-district-level-residential-use.csv\", index=False)"
   ]
  },
  {
   "cell_type": "code",
   "execution_count": 201,
   "id": "57397d09-6f0d-4171-b658-6bb8ef49f758",
   "metadata": {},
   "outputs": [],
   "source": [
    "sort_region_df.to_csv(\"data/processed/regional-residential-usage.csv\", index=False)"
   ]
  },
  {
   "cell_type": "code",
   "execution_count": 202,
   "id": "a5b34a2c-74f8-45a2-a3cd-22e90deea336",
   "metadata": {},
   "outputs": [],
   "source": [
    "sort_region_df[\n",
    "    sort_region_df.reporting_month == sort_district_df.reporting_month.max()\n",
    "].to_csv(\"data/processed/latest-regional-residential-use.csv\", index=False)"
   ]
  },
  {
   "cell_type": "code",
   "execution_count": 203,
   "id": "809820d5-41ab-421d-a291-b0f531aefc51",
   "metadata": {},
   "outputs": [],
   "source": [
    "sort_county_df.to_csv(\"data/processed/county-residential-usage.csv\", index=False)"
   ]
  },
  {
   "cell_type": "code",
   "execution_count": 204,
   "id": "ea3042ab-0fd1-4d38-ac0c-bd56b60b6bc1",
   "metadata": {},
   "outputs": [],
   "source": [
    "sort_county_df[\n",
    "    sort_county_df.reporting_month == sort_county_df.reporting_month.max()\n",
    "].to_csv(\"data/processed/latest-county-residential-use.csv\", index=False)"
   ]
  },
  {
   "cell_type": "code",
   "execution_count": 205,
   "id": "fc2a1e72-ccd2-45a0-a068-48df279c6af8",
   "metadata": {},
   "outputs": [],
   "source": [
    "sort_state_df.to_csv(\"data/processed/statewide-residential-usage.csv\", index=False)"
   ]
  },
  {
   "cell_type": "code",
   "execution_count": 206,
   "id": "f006f28e-326f-4535-806b-c995e41459ab",
   "metadata": {},
   "outputs": [],
   "source": [
    "sort_state_df[\n",
    "    sort_state_df.reporting_month == sort_district_df.reporting_month.max()\n",
    "].to_csv(\"data/processed/latest-statewide-level-residential-use.csv\", index=False)"
   ]
  }
 ],
 "metadata": {
  "kernelspec": {
   "display_name": "Python 3 (ipykernel)",
   "language": "python",
   "name": "python3"
  },
  "language_info": {
   "codemirror_mode": {
    "name": "ipython",
    "version": 3
   },
   "file_extension": ".py",
   "mimetype": "text/x-python",
   "name": "python",
   "nbconvert_exporter": "python",
   "pygments_lexer": "ipython3",
   "version": "3.9.6"
  }
 },
 "nbformat": 4,
 "nbformat_minor": 5
}
