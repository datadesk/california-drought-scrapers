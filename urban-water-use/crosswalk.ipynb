{
 "cells": [
  {
   "cell_type": "code",
   "execution_count": 1,
   "id": "48b52f17-8a3d-4588-b430-72495d2ed8ea",
   "metadata": {},
   "outputs": [],
   "source": [
    "import pandas as pd"
   ]
  },
  {
   "cell_type": "code",
   "execution_count": 7,
   "id": "d67f27aa-b817-47bc-805e-3e8f4353a7f0",
   "metadata": {},
   "outputs": [],
   "source": [
    "df = pd.read_excel(\"data/metadata/cw_monthly.xlsx\", sheet_name=\"Aggregated\")"
   ]
  },
  {
   "cell_type": "code",
   "execution_count": 9,
   "id": "ef5ca59f-04f0-414b-a88a-262e2a1f9a44",
   "metadata": {},
   "outputs": [],
   "source": [
    "df.columns = df.columns.str.lower().str.replace(\" \",\"_\")"
   ]
  },
  {
   "cell_type": "code",
   "execution_count": 16,
   "id": "31953968-5d8c-4b85-a0a5-5063299168b3",
   "metadata": {},
   "outputs": [],
   "source": [
    "crosswalk = df[['org_id','supplier_name','water_system_id', 'hydrologic_region', 'main_county', 'clon', 'clat']].rename(\n",
    "    columns={\n",
    "        'water_system_id': 'pwsid',\n",
    "        'clon': 'longitude',\n",
    "        'clat': 'latitude'\n",
    "    }\n",
    ")"
   ]
  },
  {
   "cell_type": "code",
   "execution_count": 21,
   "id": "01ab3f18-a16d-4e56-b95c-8038a2ff10ac",
   "metadata": {},
   "outputs": [],
   "source": [
    "crosswalk_sort = crosswalk.sort_values([\"main_county\",\"supplier_name\"])"
   ]
  },
  {
   "cell_type": "code",
   "execution_count": 22,
   "id": "1bac2d0d-96d5-4301-8424-ff7aab0cc3da",
   "metadata": {},
   "outputs": [],
   "source": [
    "crosswalk_sort.to_csv('data/metadata/crosswalk.csv', index=False)"
   ]
  }
 ],
 "metadata": {
  "kernelspec": {
   "display_name": "Python 3 (ipykernel)",
   "language": "python",
   "name": "python3"
  },
  "language_info": {
   "codemirror_mode": {
    "name": "ipython",
    "version": 3
   },
   "file_extension": ".py",
   "mimetype": "text/x-python",
   "name": "python",
   "nbconvert_exporter": "python",
   "pygments_lexer": "ipython3",
   "version": "3.9.6"
  }
 },
 "nbformat": 4,
 "nbformat_minor": 5
}
