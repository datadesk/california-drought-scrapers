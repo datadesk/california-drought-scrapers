{
 "cells": [
  {
   "cell_type": "code",
   "execution_count": 1,
   "id": "b63e27bd-0545-447c-849b-463a2c2519bd",
   "metadata": {},
   "outputs": [],
   "source": [
    "import pandas as pd\n",
    "import datetime\n",
    "from datetime import date\n",
    "import requests\n",
    "from bs4 import BeautifulSoup\n",
    "import regex as re"
   ]
  },
  {
   "cell_type": "code",
   "execution_count": 2,
   "id": "4ef1da3d-ca4b-455d-bc4b-108e439a133a",
   "metadata": {},
   "outputs": [],
   "source": [
    "from requests.packages.urllib3.exceptions import InsecureRequestWarning\n",
    "requests.packages.urllib3.disable_warnings(InsecureRequestWarning)"
   ]
  },
  {
   "cell_type": "markdown",
   "id": "1df16cba-87f8-4f61-8d38-f09c98d32baf",
   "metadata": {},
   "source": [
    "### Download the water board's web page"
   ]
  },
  {
   "cell_type": "code",
   "execution_count": 3,
   "id": "58dadcb9-83f0-4cb5-909f-80c708225fd5",
   "metadata": {},
   "outputs": [],
   "source": [
    "url = \"https://www.waterboards.ca.gov/water_issues/programs/conservation_portal/conservation_reporting.html\""
   ]
  },
  {
   "cell_type": "code",
   "execution_count": 4,
   "id": "cfb42433-3498-4d4b-b1b8-b7c3c1d51d1d",
   "metadata": {},
   "outputs": [],
   "source": [
    "page = requests.get(url, verify=False)"
   ]
  },
  {
   "cell_type": "code",
   "execution_count": 5,
   "id": "9a27901d-1af9-4adc-9992-c19c58f797a3",
   "metadata": {},
   "outputs": [],
   "source": [
    "soup = BeautifulSoup(page.content, \"html.parser\")"
   ]
  },
  {
   "cell_type": "code",
   "execution_count": 6,
   "id": "bfeb2123-dadc-4155-86fa-450ab4f7a459",
   "metadata": {},
   "outputs": [],
   "source": [
    "content = soup.find(\"div\", {\"id\": \"main-content\"})"
   ]
  },
  {
   "cell_type": "markdown",
   "id": "464d4b7e-78fd-404d-a7aa-ee9cfff35c7c",
   "metadata": {},
   "source": [
    "### Find the link to the monthly conservation report (a excel file)"
   ]
  },
  {
   "cell_type": "code",
   "execution_count": 7,
   "id": "62f96caa-4f2a-4509-a690-efe3a4ab4d97",
   "metadata": {},
   "outputs": [],
   "source": [
    "#Urban Water Supplier Monthly Reports"
   ]
  },
  {
   "cell_type": "code",
   "execution_count": 8,
   "id": "6ecc836c-519b-4b7f-8990-26887041479f",
   "metadata": {},
   "outputs": [
    {
     "data": {
      "text/plain": [
       "'docs/2022/uw-supplier-data060722.xlsx'"
      ]
     },
     "execution_count": 8,
     "metadata": {},
     "output_type": "execute_result"
    }
   ],
   "source": [
    "file_path = content.find(\"a\", href=re.compile(\"uw[---_]supplier[---_]data\"))['href']\n",
    "file_path"
   ]
  },
  {
   "cell_type": "code",
   "execution_count": 9,
   "id": "062b6c0d-0813-462d-a861-c7aacc9767a9",
   "metadata": {},
   "outputs": [],
   "source": [
    "download_url = f\"https://www.waterboards.ca.gov/water_issues/programs/conservation_portal/{file_path}\""
   ]
  },
  {
   "cell_type": "code",
   "execution_count": 10,
   "id": "087a4acf-7b0b-4053-a27f-5afc416f2e48",
   "metadata": {},
   "outputs": [],
   "source": [
    "excel_file = file_path.replace(f'docs/{date.today().year}/', '')"
   ]
  },
  {
   "cell_type": "code",
   "execution_count": 11,
   "id": "e712bec5-9215-43de-b718-9e5eae2c134c",
   "metadata": {},
   "outputs": [],
   "source": [
    "slugified_excel_file = excel_file.replace(\"_\",\"-\")"
   ]
  },
  {
   "cell_type": "code",
   "execution_count": 12,
   "id": "77690f57-4407-4155-bc31-9ebddd805221",
   "metadata": {},
   "outputs": [
    {
     "data": {
      "text/plain": [
       "'uw-supplier-data060722.xlsx'"
      ]
     },
     "execution_count": 12,
     "metadata": {},
     "output_type": "execute_result"
    }
   ],
   "source": [
    "slugified_excel_file"
   ]
  },
  {
   "cell_type": "markdown",
   "id": "b9ecd9c8-483a-4bb5-aca9-85cce844f059",
   "metadata": {},
   "source": [
    "### Save Excel file"
   ]
  },
  {
   "cell_type": "code",
   "execution_count": 13,
   "id": "02bb822e-25ce-4975-b569-3ff584424556",
   "metadata": {},
   "outputs": [],
   "source": [
    "with open(f\"../data/raw/uw_monthly_reports/{slugified_excel_file}\", \"wb\") as handler:\n",
    "    handler.write(requests.get(download_url).content)"
   ]
  }
 ],
 "metadata": {
  "kernelspec": {
   "display_name": "Python 3 (ipykernel)",
   "language": "python",
   "name": "python3"
  },
  "language_info": {
   "codemirror_mode": {
    "name": "ipython",
    "version": 3
   },
   "file_extension": ".py",
   "mimetype": "text/x-python",
   "name": "python",
   "nbconvert_exporter": "python",
   "pygments_lexer": "ipython3",
   "version": "3.9.6"
  }
 },
 "nbformat": 4,
 "nbformat_minor": 5
}
