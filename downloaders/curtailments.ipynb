{
 "cells": [
  {
   "cell_type": "code",
   "execution_count": 1,
   "id": "47e3eb4f-4f35-4d13-8668-e967fab56fcc",
   "metadata": {},
   "outputs": [],
   "source": [
    "import os\n",
    "import requests\n",
    "import regex as re\n",
    "from bs4 import BeautifulSoup\n",
    "from datetime import datetime"
   ]
  },
  {
   "cell_type": "code",
   "execution_count": 2,
   "id": "f97f9158-db1f-41fc-8372-24936a529575",
   "metadata": {},
   "outputs": [],
   "source": [
    "from requests.packages.urllib3.exceptions import InsecureRequestWarning\n",
    "requests.packages.urllib3.disable_warnings(InsecureRequestWarning)"
   ]
  },
  {
   "cell_type": "markdown",
   "id": "9f3c70f7-016a-4c3a-93a6-684cfd9fbee3",
   "metadata": {},
   "source": [
    "### Download the water board's web page"
   ]
  },
  {
   "cell_type": "code",
   "execution_count": 3,
   "id": "b398ca22-dac4-46f2-939a-84a74a2c257f",
   "metadata": {},
   "outputs": [],
   "source": [
    "url = \"https://www.waterboards.ca.gov/drought/delta/\""
   ]
  },
  {
   "cell_type": "code",
   "execution_count": 4,
   "id": "7a20386f-1448-476a-9cef-a83bc2dc8bf9",
   "metadata": {},
   "outputs": [],
   "source": [
    "page = requests.get(url, verify=False)"
   ]
  },
  {
   "cell_type": "code",
   "execution_count": 5,
   "id": "a4930e0a-63c3-4852-a22e-92858a2e70db",
   "metadata": {},
   "outputs": [],
   "source": [
    "soup = BeautifulSoup(page.content, \"html.parser\")"
   ]
  },
  {
   "cell_type": "code",
   "execution_count": 6,
   "id": "71282324-1309-49df-b05e-376842b8952d",
   "metadata": {},
   "outputs": [],
   "source": [
    "content = soup.find(\"div\", {\"id\": \"DWCSL-accordion\"})"
   ]
  },
  {
   "cell_type": "markdown",
   "id": "bb418ed3-06d8-4988-9a13-7196f908a1ea",
   "metadata": {},
   "source": [
    "### Parse curtailment lists"
   ]
  },
  {
   "cell_type": "code",
   "execution_count": 7,
   "id": "87e1bbeb-79c6-4f1c-a1a8-5cd428e3ab24",
   "metadata": {},
   "outputs": [],
   "source": [
    "y2022 = content.find(\"div\", { \"id\": \"collapse-2022\"}).find(\"ul\")"
   ]
  },
  {
   "cell_type": "code",
   "execution_count": 8,
   "id": "31b1ff5c-7efb-42bd-9ee8-cc2d5181875f",
   "metadata": {},
   "outputs": [],
   "source": [
    "list_2022 = y2022.find_all(\"li\")"
   ]
  },
  {
   "cell_type": "code",
   "execution_count": 9,
   "id": "cbb057f5-4f2a-4a89-962b-0a6b438327a3",
   "metadata": {},
   "outputs": [],
   "source": [
    "y2021 = content.find(\"div\", { \"id\": \"collapse-2021\"}).find(\"ul\")"
   ]
  },
  {
   "cell_type": "code",
   "execution_count": 10,
   "id": "a06d3ecf-5f6d-4476-bf2b-8d5eea87edb2",
   "metadata": {},
   "outputs": [],
   "source": [
    "list_2021 = y2021.find_all(\"li\")"
   ]
  },
  {
   "cell_type": "markdown",
   "id": "3e57438c-ab62-4ce8-af58-1ed5fe996384",
   "metadata": {},
   "source": [
    "Concatenate"
   ]
  },
  {
   "cell_type": "code",
   "execution_count": 11,
   "id": "9ac440fd-e1b3-4de4-b5a3-ab96f61faec6",
   "metadata": {},
   "outputs": [],
   "source": [
    "list_items = list_2022 + list_2021"
   ]
  },
  {
   "cell_type": "code",
   "execution_count": 19,
   "id": "b07e717f-d5a8-487e-82cb-bb7f8fbb494b",
   "metadata": {},
   "outputs": [],
   "source": [
    "dict_list = []\n",
    "for li in list_items:\n",
    "    text = li.text\n",
    "    date = re.split(\"– | -\", text)[0]\n",
    "    url = li.find_all(\"a\", href=True)[1][\"href\"]\n",
    "    d = dict(\n",
    "        text = li.text,\n",
    "        date = re.split(\"– | -\", text)[0],\n",
    "        url = li.find_all(\"a\", href=True)[1][\"href\"],\n",
    "    )\n",
    "    dict_list.append(d)"
   ]
  },
  {
   "cell_type": "code",
   "execution_count": 23,
   "id": "6db3285c-e0ca-4ec3-8ef9-b8131f9d53b3",
   "metadata": {},
   "outputs": [
    {
     "data": {
      "text/plain": [
       "49"
      ]
     },
     "execution_count": 23,
     "metadata": {},
     "output_type": "execute_result"
    }
   ],
   "source": [
    "len(dict_list)"
   ]
  },
  {
   "cell_type": "markdown",
   "id": "da439a87-3618-47f0-a1f2-bf24b897fc03",
   "metadata": {},
   "source": [
    "### Download each Excel file"
   ]
  },
  {
   "cell_type": "code",
   "execution_count": 21,
   "id": "da6412b6-ae45-4d90-aa5b-5cfacbf489e8",
   "metadata": {},
   "outputs": [],
   "source": [
    "path = '../data/raw/curtailments'"
   ]
  },
  {
   "cell_type": "code",
   "execution_count": 57,
   "id": "1b71b8a3-96a9-46a6-bf92-2d30198f10a6",
   "metadata": {},
   "outputs": [],
   "source": [
    "for item in dict_list:\n",
    "    try:\n",
    "        response = requests.get('https://www.waterboards.ca.gov/drought/delta/' + item[\"url\"])\n",
    "        datestr = item[\"date\"].strip()\n",
    "        dateslug = datetime.strptime(datestr, '%B %d, %Y').strftime('%Y-%m-%d')\n",
    "        open(os.path.join(path, f'{dateslug}.xlsx'), 'wb').write(response.content)\n",
    "    except:\n",
    "        print(\"fail: \" + item[\"date\"])"
   ]
  }
 ],
 "metadata": {
  "kernelspec": {
   "display_name": "Python 3 (ipykernel)",
   "language": "python",
   "name": "python3"
  },
  "language_info": {
   "codemirror_mode": {
    "name": "ipython",
    "version": 3
   },
   "file_extension": ".py",
   "mimetype": "text/x-python",
   "name": "python",
   "nbconvert_exporter": "python",
   "pygments_lexer": "ipython3",
   "version": "3.9.6"
  }
 },
 "nbformat": 4,
 "nbformat_minor": 5
}
