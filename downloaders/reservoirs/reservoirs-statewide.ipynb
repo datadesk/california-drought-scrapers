{
 "cells": [
  {
   "cell_type": "code",
   "execution_count": 1,
   "id": "66826526-4ecc-429b-b8db-bef7ef39e7d6",
   "metadata": {},
   "outputs": [],
   "source": [
    "import pytz\n",
    "import requests\n",
    "import pandas as pd\n",
    "from datetime import datetime, date, timedelta\n",
    "from bs4 import BeautifulSoup"
   ]
  },
  {
   "cell_type": "markdown",
   "id": "9bf7dc0d-659e-4d9a-a46e-324d3c90a760",
   "metadata": {},
   "source": [
    "### Download current data"
   ]
  },
  {
   "cell_type": "markdown",
   "id": "a7212506-1e62-49bc-b8a9-a48a678a7b2b",
   "metadata": {},
   "source": [
    "Get current date"
   ]
  },
  {
   "cell_type": "code",
   "execution_count": 2,
   "id": "b8dac93a-1a9d-46f0-b252-a9384a540c6b",
   "metadata": {},
   "outputs": [],
   "source": [
    "tz = pytz.timezone(\"America/Los_Angeles\")"
   ]
  },
  {
   "cell_type": "code",
   "execution_count": 3,
   "id": "96ef4f6f-8b05-4fbd-bcd9-a74ba57cc02d",
   "metadata": {
    "tags": []
   },
   "outputs": [
    {
     "data": {
      "text/plain": [
       "datetime.date(2023, 5, 12)"
      ]
     },
     "execution_count": 3,
     "metadata": {},
     "output_type": "execute_result"
    }
   ],
   "source": [
    "today = datetime.now(tz).date()\n",
    "today"
   ]
  },
  {
   "cell_type": "markdown",
   "id": "d58fbb25-8c65-444b-8b6f-a7f09863a68f",
   "metadata": {},
   "source": [
    "Set start date for this dataset, which we know is 10/01/2021"
   ]
  },
  {
   "cell_type": "code",
   "execution_count": 4,
   "id": "27f5a687-372c-4d29-8a23-2fa4ba6abe98",
   "metadata": {},
   "outputs": [
    {
     "data": {
      "text/plain": [
       "datetime.date(2021, 10, 1)"
      ]
     },
     "execution_count": 4,
     "metadata": {},
     "output_type": "execute_result"
    }
   ],
   "source": [
    "start_date = pd.to_datetime(\"2021-10-01\").date()\n",
    "start_date"
   ]
  },
  {
   "cell_type": "markdown",
   "id": "53412a47-1a39-45e0-8bbf-12bfa011a745",
   "metadata": {},
   "source": [
    "Query this URL for the statewide estimate of water storage. This number represents 154 reservoirs."
   ]
  },
  {
   "cell_type": "code",
   "execution_count": 5,
   "id": "606ddde5-9868-4025-83cb-f17b2a211ab7",
   "metadata": {},
   "outputs": [],
   "source": [
    "url = f\"https://cdec.water.ca.gov/dynamicapp/req/CSVDataServlet?Stations=SWV&SensorNums=15&dur_code=D&Start={start_date}&End={today}\""
   ]
  },
  {
   "cell_type": "code",
   "execution_count": 6,
   "id": "89bebde0-e3f6-4ae0-a93a-16ec40b9a0bf",
   "metadata": {},
   "outputs": [
    {
     "data": {
      "text/plain": [
       "'https://cdec.water.ca.gov/dynamicapp/req/CSVDataServlet?Stations=SWV&SensorNums=15&dur_code=D&Start=2021-10-01&End=2023-05-12'"
      ]
     },
     "execution_count": 6,
     "metadata": {},
     "output_type": "execute_result"
    }
   ],
   "source": [
    "url"
   ]
  },
  {
   "cell_type": "code",
   "execution_count": 8,
   "id": "e4085143-ba0d-47ba-93d7-34e4ccd34e42",
   "metadata": {},
   "outputs": [],
   "source": [
    "df = pd.read_csv(url, parse_dates=[\"DATE TIME\"])"
   ]
  },
  {
   "cell_type": "markdown",
   "id": "c3e4cadd-9487-4140-be2b-46ec92559102",
   "metadata": {},
   "source": [
    "### Export"
   ]
  },
  {
   "cell_type": "code",
   "execution_count": 22,
   "id": "d7a11ed3-cd5a-4e19-b454-19060fd5f89c",
   "metadata": {},
   "outputs": [],
   "source": [
    "df.to_csv(\"../../data/raw/reservoirs/statewide/timeseries.csv\", index=False)"
   ]
  }
 ],
 "metadata": {
  "kernelspec": {
   "display_name": "Python 3 (ipykernel)",
   "language": "python",
   "name": "python3"
  },
  "language_info": {
   "codemirror_mode": {
    "name": "ipython",
    "version": 3
   },
   "file_extension": ".py",
   "mimetype": "text/x-python",
   "name": "python",
   "nbconvert_exporter": "python",
   "pygments_lexer": "ipython3",
   "version": "3.9.16"
  }
 },
 "nbformat": 4,
 "nbformat_minor": 5
}
