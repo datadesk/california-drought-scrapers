{
 "cells": [
  {
   "cell_type": "code",
   "execution_count": 5,
   "id": "42f43950-211b-406c-8ce1-533d6423911f",
   "metadata": {},
   "outputs": [],
   "source": [
    "import requests\n",
    "import pandas as pd\n",
    "from bs4 import BeautifulSoup\n",
    "from datetime import datetime, date, timedelta\n",
    "from tableauscraper import TableauScraper as TS\n",
    "import altair as alt\n",
    "import altair_latimes as lat"
   ]
  },
  {
   "cell_type": "markdown",
   "id": "8d79e39d-23f0-4738-b33e-c021f15059ff",
   "metadata": {},
   "source": [
    "### Download the tableau dashboard"
   ]
  },
  {
   "cell_type": "code",
   "execution_count": 6,
   "id": "5d85b9bc-2866-4766-9a9c-32ca3de19666",
   "metadata": {},
   "outputs": [],
   "source": [
    "url = \"https://public.tableau.com/views/CaliforniaUrbanWaterProduction_15785959527960/StatewideUseandProduction\""
   ]
  },
  {
   "cell_type": "code",
   "execution_count": 7,
   "id": "0bef33e1-8bc9-44a1-94e7-e7521243a0aa",
   "metadata": {},
   "outputs": [],
   "source": [
    "ts = TS()\n",
    "ts.loads(url)\n",
    "workbook = ts.getWorkbook()"
   ]
  },
  {
   "cell_type": "code",
   "execution_count": 8,
   "id": "c4b4ad11-46ac-4c87-afcd-45c1be9171f5",
   "metadata": {},
   "outputs": [
    {
     "name": "stdout",
     "output_type": "stream",
     "text": [
      "worksheet name : Savings by Hydro\n",
      "         Region-value       Region-alias Strmonth-value Strmonth-alias  \\\n",
      "0               %all%              %all%     Cumulative     Cumulative   \n",
      "1         Tulare Lake        Tulare Lake     Cumulative     Cumulative   \n",
      "2      South Lahontan     South Lahontan     Cumulative     Cumulative   \n",
      "3         South Coast        South Coast     Cumulative     Cumulative   \n",
      "4   San Joaquin River  San Joaquin River     Cumulative     Cumulative   \n",
      "5   San Francisco Bay  San Francisco Bay     Cumulative     Cumulative   \n",
      "6    Sacramento River   Sacramento River     Cumulative     Cumulative   \n",
      "7      North Lahontan     North Lahontan     Cumulative     Cumulative   \n",
      "8         North Coast        North Coast     Cumulative     Cumulative   \n",
      "9      Colorado River     Colorado River     Cumulative     Cumulative   \n",
      "10      Central Coast      Central Coast     Cumulative     Cumulative   \n",
      "11              %all%              %all%            Apr          April   \n",
      "12        Tulare Lake        Tulare Lake            Apr          April   \n",
      "13     South Lahontan     South Lahontan            Apr          April   \n",
      "14        South Coast        South Coast            Apr          April   \n",
      "15  San Joaquin River  San Joaquin River            Apr          April   \n",
      "16  San Francisco Bay  San Francisco Bay            Apr          April   \n",
      "17   Sacramento River   Sacramento River            Apr          April   \n",
      "18     North Lahontan     North Lahontan            Apr          April   \n",
      "19        North Coast        North Coast            Apr          April   \n",
      "20     Colorado River     Colorado River            Apr          April   \n",
      "21      Central Coast      Central Coast            Apr          April   \n",
      "22              %all%              %all%            Mar          March   \n",
      "23        Tulare Lake        Tulare Lake            Mar          March   \n",
      "24     South Lahontan     South Lahontan            Mar          March   \n",
      "25        South Coast        South Coast            Mar          March   \n",
      "26  San Joaquin River  San Joaquin River            Mar          March   \n",
      "27  San Francisco Bay  San Francisco Bay            Mar          March   \n",
      "28   Sacramento River   Sacramento River            Mar          March   \n",
      "29     North Lahontan     North Lahontan            Mar          March   \n",
      "30        North Coast        North Coast            Mar          March   \n",
      "31     Colorado River     Colorado River            Mar          March   \n",
      "32      Central Coast      Central Coast            Mar          March   \n",
      "33              %all%              %all%            Feb       February   \n",
      "34        Tulare Lake        Tulare Lake            Feb       February   \n",
      "35     South Lahontan     South Lahontan            Feb       February   \n",
      "36        South Coast        South Coast            Feb       February   \n",
      "37  San Joaquin River  San Joaquin River            Feb       February   \n",
      "38  San Francisco Bay  San Francisco Bay            Feb       February   \n",
      "39   Sacramento River   Sacramento River            Feb       February   \n",
      "40     North Lahontan     North Lahontan            Feb       February   \n",
      "41        North Coast        North Coast            Feb       February   \n",
      "42     Colorado River     Colorado River            Feb       February   \n",
      "43      Central Coast      Central Coast            Feb       February   \n",
      "\n",
      "   SUM(Baseline)-alias SUM(count_supplier)-alias SUM(Current)-alias  \\\n",
      "0    1,355,058,116,940                       328  1,327,591,437,722   \n",
      "1      108,802,005,270                        27    107,602,527,664   \n",
      "2       32,754,725,236                        13     32,721,896,059   \n",
      "3      699,052,587,123                       141    700,089,575,336   \n",
      "4       73,964,623,228                        22     72,253,069,338   \n",
      "5      203,452,108,123                        37    186,441,878,307   \n",
      "6      138,120,953,104                        39    130,266,800,805   \n",
      "7        3,303,905,365                         4      3,037,442,426   \n",
      "8       11,991,899,594                        12     10,343,158,089   \n",
      "9       49,769,623,203                        10     51,540,364,319   \n",
      "10      33,845,686,693                        23     33,294,725,380   \n",
      "11     112,287,425,653                       362    132,008,219,277   \n",
      "12       8,631,076,620                        29     10,334,245,010   \n",
      "13       2,867,226,733                        16      3,573,903,168   \n",
      "14      56,230,594,859                       153     70,631,016,695   \n",
      "15       6,931,184,683                        26      7,559,406,400   \n",
      "16      17,997,974,516                        40     17,989,623,745   \n",
      "17      11,334,449,824                        41     11,579,495,639   \n",
      "18         246,256,129                         5        221,893,577   \n",
      "19       1,091,202,016                        13        938,709,250   \n",
      "20       4,035,752,998                        12      5,678,823,361   \n",
      "21       2,921,707,276                        27      3,501,102,433   \n",
      "22     112,285,215,721                       392    133,591,647,455   \n",
      "23       8,379,498,608                        31      8,974,770,745   \n",
      "24       2,598,100,356                        16      3,205,330,722   \n",
      "25      57,931,086,077                       170     73,594,404,812   \n",
      "26       6,200,856,942                        26      7,057,235,313   \n",
      "27      18,403,257,415                        45     18,869,659,070   \n",
      "28      10,691,708,409                        43     12,273,205,607   \n",
      "29         235,814,594                         5        237,376,917   \n",
      "30       1,025,596,111                        14        981,107,846   \n",
      "31       3,683,541,152                        13      4,630,885,632   \n",
      "32       3,135,756,056                        29      3,767,670,790   \n",
      "33     114,924,439,744                       395    114,968,953,314   \n",
      "34       7,552,726,879                        31      7,420,207,691   \n",
      "35       2,695,312,605                        15      2,413,989,444   \n",
      "36      64,495,861,939                       171     64,693,345,213   \n",
      "37       5,668,191,889                        29      5,839,250,184   \n",
      "38      16,918,170,851                        46     16,208,071,884   \n",
      "39       9,242,731,352                        43      9,854,818,017   \n",
      "40         198,861,106                         4        198,231,663   \n",
      "41         906,192,103                        14        852,605,633   \n",
      "42       4,090,453,753                        14      4,253,974,731   \n",
      "43       3,155,937,267                        28      3,234,458,855   \n",
      "\n",
      "   SUM(Total Population Served)-alias ATTR(Year)-alias  \\\n",
      "0                            33716958           %null%   \n",
      "1                             1897723           %null%   \n",
      "2                              705858           %null%   \n",
      "3                            18462325           %null%   \n",
      "4                             1522129           %null%   \n",
      "5                             6415447           %null%   \n",
      "6                             2576752           %null%   \n",
      "7                               80888           %null%   \n",
      "8                              389318           %null%   \n",
      "9                              614718           %null%   \n",
      "10                            1051800           %null%   \n",
      "11                           34986871             2022   \n",
      "12                            1936127             2022   \n",
      "13                             842767             2022   \n",
      "14                           19124299             2022   \n",
      "15                            1659209             2022   \n",
      "16                            6510359             2022   \n",
      "17                            2632376             2022   \n",
      "18                              88699             2022   \n",
      "19                             400348             2022   \n",
      "20                             673253             2022   \n",
      "21                            1119434             2022   \n",
      "22                           36434981             2022   \n",
      "23                            1979268             2022   \n",
      "24                             837117             2022   \n",
      "25                           20106199             2022   \n",
      "26                            1639208             2022   \n",
      "27                            6668801             2022   \n",
      "28                            2770645             2022   \n",
      "29                              91426             2022   \n",
      "30                             408395             2022   \n",
      "31                             712332             2022   \n",
      "32                            1221590             2022   \n",
      "33                           36541510             2022   \n",
      "34                            1976291             2022   \n",
      "35                             817356             2022   \n",
      "36                           20165451             2022   \n",
      "37                            1711829             2022   \n",
      "38                            6695849             2022   \n",
      "39                            2750572             2022   \n",
      "40                              83547             2022   \n",
      "41                             408171             2022   \n",
      "42                             731083             2022   \n",
      "43                            1201361             2022   \n",
      "\n",
      "   ATTR(Hydrologic Region)-alias AGG(Savings_calc)-alias  \n",
      "0                  %many-values%                -0.02027  \n",
      "1                    Tulare Lake               -0.011024  \n",
      "2                 South Lahontan               -0.001002  \n",
      "3                    South Coast                0.001483  \n",
      "4              San Joaquin River                -0.02314  \n",
      "5              San Francisco Bay               -0.083608  \n",
      "6               Sacramento River               -0.056864  \n",
      "7                 North Lahontan               -0.080651  \n",
      "8                    North Coast               -0.137488  \n",
      "9                 Colorado River                0.035579  \n",
      "10                 Central Coast               -0.016279  \n",
      "11                 %many-values%                0.175628  \n",
      "12                   Tulare Lake                 0.19733  \n",
      "13                South Lahontan                0.246467  \n",
      "14                   South Coast                0.256096  \n",
      "15             San Joaquin River                0.090637  \n",
      "16             San Francisco Bay               -0.000464  \n",
      "17              Sacramento River                 0.02162  \n",
      "18                North Lahontan               -0.098932  \n",
      "19                   North Coast               -0.139748  \n",
      "20                Colorado River                0.407129  \n",
      "21                 Central Coast                0.198307  \n",
      "22                 %many-values%                0.189753  \n",
      "23                   Tulare Lake                0.071039  \n",
      "24                South Lahontan                0.233721  \n",
      "25                   South Coast                0.270378  \n",
      "26             San Joaquin River                0.138106  \n",
      "27             San Francisco Bay                0.025343  \n",
      "28              Sacramento River                0.147918  \n",
      "29                North Lahontan                0.006625  \n",
      "30                   North Coast               -0.043378  \n",
      "31                Colorado River                0.257183  \n",
      "32                 Central Coast                0.201519  \n",
      "33                 %many-values%                0.000387  \n",
      "34                   Tulare Lake               -0.017546  \n",
      "35                South Lahontan               -0.104375  \n",
      "36                   South Coast                0.003062  \n",
      "37             San Joaquin River                0.030179  \n",
      "38             San Francisco Bay               -0.041973  \n",
      "39              Sacramento River                0.066224  \n",
      "40                North Lahontan               -0.003165  \n",
      "41                   North Coast               -0.059134  \n",
      "42                Colorado River                0.039976  \n",
      "43                 Central Coast                0.024881  \n",
      "worksheet name : Savings Map\n",
      "    AVG(Latitude)-value AVG(Latitude)-alias AVG(Longitude)-value  \\\n",
      "0             34.033154              34.033          -117.055743   \n",
      "1                39.135              39.135             -121.625   \n",
      "2                 33.89              33.890             -117.777   \n",
      "3                38.676              38.676             -121.765   \n",
      "4                38.543              38.543             -122.804   \n",
      "..                  ...                 ...                  ...   \n",
      "350              33.838              33.838             -117.859   \n",
      "351              38.382              38.382             -120.794   \n",
      "352              34.084              34.084             -118.136   \n",
      "353              37.538              37.538             -122.021   \n",
      "354              34.582              34.582             -117.419   \n",
      "\n",
      "    AVG(Longitude)-alias            Supplier Name-alias  \\\n",
      "0               -117.056  Yucaipa Valley Water District   \n",
      "1               -121.625             Yuba City  City of   \n",
      "2               -117.777     Yorba Linda Water District   \n",
      "3               -121.765              Woodland  City of   \n",
      "4               -122.804               Windsor, Town of   \n",
      "..                   ...                            ...   \n",
      "350             -117.859               Anaheim  City of   \n",
      "351             -120.794            Amador Water Agency   \n",
      "352             -118.136              Alhambra  City of   \n",
      "353             -122.021  Alameda County Water District   \n",
      "354             -117.419               Adelanto City of   \n",
      "\n",
      "    SUM(2020 (copy))-alias SUM(2021 (copy))-alias  \\\n",
      "0                183930000              283300000   \n",
      "1                321110000              360440000   \n",
      "2             361404602.61        516151918.88227   \n",
      "3                227285824              228505991   \n",
      "4           81277121.43661          68168118.5284   \n",
      "..                     ...                    ...   \n",
      "350         1136569777.376         1520096906.955   \n",
      "351               72650000               77960000   \n",
      "352        213207847.20037        228431625.86981   \n",
      "353             1009100000             1031500000   \n",
      "354       102228174.927183          122692496.832   \n",
      "\n",
      "    SUM(Total Population Served)-alias ATTR(Year)-alias ATTR(Strmonth)-alias  \\\n",
      "0                                51801             2022                April   \n",
      "1                                71922             2022                April   \n",
      "2                                80540             2022                April   \n",
      "3                                60978             2022                April   \n",
      "4                                28397             2022                April   \n",
      "..                                 ...              ...                  ...   \n",
      "350                             369033             2022                April   \n",
      "351                              23509             2022                April   \n",
      "352                              85168             2022                April   \n",
      "353                             355877             2022                April   \n",
      "354                              31221             2022                April   \n",
      "\n",
      "    AGG(Savings_calc)-value AGG(Savings_calc)-alias  \n",
      "0                   0.54026                 0.54026  \n",
      "1                  0.122481                0.122481  \n",
      "2                  0.428183                0.428183  \n",
      "3                  0.005368                0.005368  \n",
      "4                 -0.161288               -0.161288  \n",
      "..                      ...                     ...  \n",
      "350                0.337443                0.337443  \n",
      "351                 0.07309                 0.07309  \n",
      "352                0.071403                0.071403  \n",
      "353                0.022198                0.022198  \n",
      "354                0.200183                0.200183  \n",
      "\n",
      "[355 rows x 12 columns]\n"
     ]
    }
   ],
   "source": [
    "conservation = workbook.goToSheet(\"Cumulative Savings \")\n",
    "for t in conservation.worksheets:\n",
    "    print(f\"worksheet name : {t.name}\")  # show worksheet name\n",
    "    print(t.data)  # show dataframe for this worksheet"
   ]
  },
  {
   "cell_type": "markdown",
   "id": "9f5f19ef-8f61-413b-9270-ecfc5e2e439d",
   "metadata": {},
   "source": [
    "Get the conservation figures for hydrologic regions and districts"
   ]
  },
  {
   "cell_type": "code",
   "execution_count": 23,
   "id": "1d7128e0-407e-4dc2-ab9a-b0d22a52d1b5",
   "metadata": {},
   "outputs": [
    {
     "name": "stderr",
     "output_type": "stream",
     "text": [
      "2022-06-04 19:17:13,256 - tableauScraper - WARNING - no data dictionary present in response\n",
      "2022-06-04 19:17:13,256 - tableauScraper - WARNING - no data dictionary present in response\n",
      "2022-06-04 19:17:13,993 - tableauScraper - WARNING - no data dictionary present in response\n",
      "2022-06-04 19:17:13,993 - tableauScraper - WARNING - no data dictionary present in response\n",
      "2022-06-04 19:17:14,685 - tableauScraper - WARNING - no data dictionary present in response\n",
      "2022-06-04 19:17:14,685 - tableauScraper - WARNING - no data dictionary present in response\n",
      "2022-06-04 19:17:15,407 - tableauScraper - WARNING - no data dictionary present in response\n",
      "2022-06-04 19:17:15,407 - tableauScraper - WARNING - no data dictionary present in response\n"
     ]
    }
   ],
   "source": [
    "conservation = workbook.goToSheet(\"Cumulative Savings \")\n",
    "for t in conservation.worksheets:\n",
    "    if t.name == \"Savings by Hydro\":\n",
    "        \n",
    "        filters = t.getFilters()\n",
    "        #print(filters)\n",
    "        filter_values = filters[0]['values']\n",
    "        df_list = []\n",
    "        for v in filter_values:\n",
    "            wb = t.setFilter('Strmonth', v)\n",
    "            monthlyWs = wb.getWorksheet(\"Savings by Hydro\")\n",
    "            #print(monthlyWs.data)\n",
    "            monthly_df = monthlyWs.data\n",
    "            #monthly_df[\"month\"] = m\n",
    "            df_list.append(monthly_df)\n",
    "    # elif t.name == \"Savings Map\":\n",
    "    #     district_df = t.data\n",
    "    else:\n",
    "        pass"
   ]
  },
  {
   "cell_type": "code",
   "execution_count": 24,
   "id": "73d0ab1c-f2e2-4c78-8c42-9a630e035e12",
   "metadata": {},
   "outputs": [
    {
     "data": {
      "text/plain": [
       "10"
      ]
     },
     "execution_count": 24,
     "metadata": {},
     "output_type": "execute_result"
    }
   ],
   "source": [
    "len(df_list)"
   ]
  },
  {
   "cell_type": "code",
   "execution_count": 25,
   "id": "67f32883-c645-46c0-9ecd-eee571622963",
   "metadata": {},
   "outputs": [],
   "source": [
    "hydro_df = pd.concat(df_list)"
   ]
  },
  {
   "cell_type": "markdown",
   "id": "c7882d8f-2d6a-4c93-bef0-9c2065ec62de",
   "metadata": {},
   "source": [
    "---\n",
    "### Clean up dataframe"
   ]
  },
  {
   "cell_type": "code",
   "execution_count": 26,
   "id": "8b20892b-3b86-42e1-af13-1ed28e2d5833",
   "metadata": {},
   "outputs": [
    {
     "data": {
      "text/plain": [
       "Index(['Region-value', 'Region-alias', 'Strmonth-value', 'Strmonth-alias',\n",
       "       'SUM(Baseline)-alias', 'SUM(count_supplier)-alias',\n",
       "       'SUM(Current)-alias', 'SUM(Total Population Served)-alias',\n",
       "       'ATTR(Year)-alias', 'ATTR(Hydrologic Region)-alias',\n",
       "       'AGG(Savings_calc)-alias'],\n",
       "      dtype='object')"
      ]
     },
     "execution_count": 26,
     "metadata": {},
     "output_type": "execute_result"
    }
   ],
   "source": [
    "hydro_df.columns"
   ]
  },
  {
   "cell_type": "code",
   "execution_count": 27,
   "id": "2142e1e1-ef5f-4e5a-ae02-cbfec6364c5f",
   "metadata": {},
   "outputs": [],
   "source": [
    "keeps = ['Region-value', 'Strmonth-alias',\n",
    "       'SUM(Baseline)-alias', 'SUM(count_supplier)-alias',\n",
    "       'SUM(Current)-alias', 'SUM(Total Population Served)-alias',\n",
    "       'ATTR(Year)-alias', 'AGG(Savings_calc)-alias']"
   ]
  },
  {
   "cell_type": "code",
   "execution_count": 28,
   "id": "1a9914c8-74ce-47c8-a044-15d853b3cc7c",
   "metadata": {},
   "outputs": [],
   "source": [
    "hydro_trim = hydro_df[keeps]"
   ]
  },
  {
   "cell_type": "code",
   "execution_count": 29,
   "id": "8e93578b-78b0-407b-bef0-1fd17d19140a",
   "metadata": {},
   "outputs": [],
   "source": [
    "rename = {\n",
    "    'Region-value': 'hydrologic_region', \n",
    "    'Strmonth-alias': 'month', \n",
    "    'SUM(Baseline)-alias': 'water_use_baseline',\n",
    "    'SUM(count_supplier)-alias': 'supplier_count',\n",
    "    'SUM(Current)-alias': 'water_use_current',\n",
    "    'SUM(Total Population Served)-alias': 'total_population_served', \n",
    "    'ATTR(Year)-alias' :'year',\n",
    "    'AGG(Savings_calc)-alias': 'pct_savings'  \n",
    "}"
   ]
  },
  {
   "cell_type": "code",
   "execution_count": 30,
   "id": "15855950-c3d5-4544-ae56-a2bcda42f0d4",
   "metadata": {},
   "outputs": [],
   "source": [
    "hydro_rename = hydro_trim.rename(columns=rename)"
   ]
  },
  {
   "cell_type": "code",
   "execution_count": 31,
   "id": "19e5d4d9-e6c8-4809-99fa-0e88edefa5e7",
   "metadata": {},
   "outputs": [],
   "source": [
    "hydro_rename['water_use_baseline'] = hydro_rename['water_use_baseline'].str.replace(\",\",\"\").astype(int)"
   ]
  },
  {
   "cell_type": "code",
   "execution_count": 32,
   "id": "545410c7-52c2-46ac-a0e7-174e0202f1bf",
   "metadata": {},
   "outputs": [],
   "source": [
    "hydro_rename['water_use_current'] = hydro_rename['water_use_current'].str.replace(\",\",\"\").astype(int)"
   ]
  },
  {
   "cell_type": "code",
   "execution_count": 33,
   "id": "613881fc-7385-44ee-aea4-c3e5ed49486b",
   "metadata": {},
   "outputs": [],
   "source": [
    "hydro_rename.loc[(hydro_rename.hydrologic_region == \"%all%\"), \"hydrologic_region\"] = \"Statewide\""
   ]
  },
  {
   "cell_type": "code",
   "execution_count": 34,
   "id": "5d529ee5-cfd6-4baf-821c-cbc2162b36f1",
   "metadata": {},
   "outputs": [],
   "source": [
    "hydro_rename.loc[(hydro_rename.year == \"%null%\"), \"year\"] = \"Cumulative\""
   ]
  },
  {
   "cell_type": "code",
   "execution_count": 35,
   "id": "69de6d34-1d0a-42f9-8c80-b31d19b3107a",
   "metadata": {},
   "outputs": [],
   "source": [
    "statewide_df = hydro_rename[hydro_rename.hydrologic_region == \"Statewide\"]"
   ]
  },
  {
   "cell_type": "code",
   "execution_count": 36,
   "id": "82bbb3e1-2cc4-495f-9095-503425b97110",
   "metadata": {},
   "outputs": [],
   "source": [
    "region_df = hydro_rename[hydro_rename.hydrologic_region != \"Statewide\"]"
   ]
  },
  {
   "cell_type": "markdown",
   "id": "6278d439-65f1-4422-92d1-3b423df36de9",
   "metadata": {},
   "source": [
    "### Output"
   ]
  },
  {
   "cell_type": "code",
   "execution_count": 37,
   "id": "e0bd56c3-f388-408e-9863-e4c643d4fe88",
   "metadata": {},
   "outputs": [],
   "source": [
    "statewide_df.to_csv(\"../data/raw/statewide-conservation.csv\", index=False)"
   ]
  },
  {
   "cell_type": "code",
   "execution_count": 38,
   "id": "db39aa55-b5a5-4063-a030-57549aecfd97",
   "metadata": {},
   "outputs": [],
   "source": [
    "region_df.to_csv(\"../data/raw/regional-conservation.csv\", index=False)"
   ]
  }
 ],
 "metadata": {
  "kernelspec": {
   "display_name": "Python 3 (ipykernel)",
   "language": "python",
   "name": "python3"
  },
  "language_info": {
   "codemirror_mode": {
    "name": "ipython",
    "version": 3
   },
   "file_extension": ".py",
   "mimetype": "text/x-python",
   "name": "python",
   "nbconvert_exporter": "python",
   "pygments_lexer": "ipython3",
   "version": "3.9.6"
  }
 },
 "nbformat": 4,
 "nbformat_minor": 5
}
