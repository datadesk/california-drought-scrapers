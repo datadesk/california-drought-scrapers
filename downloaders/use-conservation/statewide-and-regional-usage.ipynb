{
 "cells": [
  {
   "cell_type": "code",
   "execution_count": 35,
   "id": "42f43950-211b-406c-8ce1-533d6423911f",
   "metadata": {},
   "outputs": [],
   "source": [
    "import requests\n",
    "import pandas as pd\n",
    "from bs4 import BeautifulSoup\n",
    "from datetime import datetime, date, timedelta\n",
    "from tableauscraper import TableauScraper as TS"
   ]
  },
  {
   "cell_type": "markdown",
   "id": "8d79e39d-23f0-4738-b33e-c021f15059ff",
   "metadata": {},
   "source": [
    "### Download the tableau dashboard"
   ]
  },
  {
   "cell_type": "code",
   "execution_count": 36,
   "id": "5d85b9bc-2866-4766-9a9c-32ca3de19666",
   "metadata": {},
   "outputs": [],
   "source": [
    "url = \"https://public.tableau.com/views/CaliforniaUrbanWaterProduction_15785959527960/StatewideUseandProduction\""
   ]
  },
  {
   "cell_type": "code",
   "execution_count": 37,
   "id": "0bef33e1-8bc9-44a1-94e7-e7521243a0aa",
   "metadata": {},
   "outputs": [],
   "source": [
    "ts = TS()\n",
    "ts.loads(url)\n",
    "workbook = ts.getWorkbook()"
   ]
  },
  {
   "cell_type": "code",
   "execution_count": 38,
   "id": "2315341f-8f75-47c3-a306-6aa0e1db367b",
   "metadata": {},
   "outputs": [],
   "source": [
    "for t in workbook.worksheets:\n",
    "    if t.name == \"RGPCD_HYDRO\":\n",
    "        total_hydro_df = t.data\n",
    "    elif t.name == \"Total_Production\":\n",
    "        total_df = t.data\n",
    "    else:\n",
    "        pass"
   ]
  },
  {
   "cell_type": "code",
   "execution_count": 39,
   "id": "eab66bb1-7e54-46c3-84a4-17aa17d62b8f",
   "metadata": {},
   "outputs": [],
   "source": [
    "months = [1, 2, 3, 4, 5, 6, 7, 8, 9, 10, 11, 12]"
   ]
  },
  {
   "cell_type": "code",
   "execution_count": 40,
   "id": "9f90d37f-62b6-4a7a-bd5c-0fdf8ac99b2d",
   "metadata": {},
   "outputs": [],
   "source": [
    "ws = ts.getWorksheet(\"RGPCD_HYDRO\")"
   ]
  },
  {
   "cell_type": "code",
   "execution_count": 41,
   "id": "d243e666-33ab-4c4c-a215-40d0191fd27c",
   "metadata": {},
   "outputs": [
    {
     "name": "stderr",
     "output_type": "stream",
     "text": [
      "2022-06-01 10:56:25,227 - tableauScraper - WARNING - no data dictionary present in response\n",
      "2022-06-01 10:56:25,227 - tableauScraper - WARNING - no data dictionary present in response\n",
      "2022-06-01 10:56:25,227 - tableauScraper - WARNING - no data dictionary present in response\n",
      "2022-06-01 10:56:32,107 - tableauScraper - WARNING - no data dictionary present in response\n",
      "2022-06-01 10:56:32,107 - tableauScraper - WARNING - no data dictionary present in response\n",
      "2022-06-01 10:56:32,107 - tableauScraper - WARNING - no data dictionary present in response\n"
     ]
    }
   ],
   "source": [
    "df_list = []\n",
    "for m in months:\n",
    "    wb = ws.setFilter('MONTH(Reporting Month)', m)\n",
    "    monthlyWs = wb.getWorksheet('RGPCD_HYDRO')\n",
    "    monthly_df = monthlyWs.data\n",
    "    monthly_df[\"month\"] = m\n",
    "    df_list.append(monthly_df)"
   ]
  },
  {
   "cell_type": "code",
   "execution_count": 42,
   "id": "590f5192-7dd1-4cf5-9601-79b5170bcfd5",
   "metadata": {},
   "outputs": [],
   "source": [
    "df = pd.concat(df_list)"
   ]
  },
  {
   "cell_type": "code",
   "execution_count": 43,
   "id": "c316c09a-5374-4c9c-a85d-a773e9eea4de",
   "metadata": {},
   "outputs": [],
   "source": [
    "pivot = df.pivot(index=['Region-value','month'], columns='YEAR(Reporting Month)-alias', values='AGG(Pop_Weighted_RGPCD)-alias').reset_index()"
   ]
  },
  {
   "cell_type": "code",
   "execution_count": 44,
   "id": "52f12e7e-24b5-4b1b-bdc3-77132d060855",
   "metadata": {},
   "outputs": [],
   "source": [
    "trim_cols = ['Region-value', 'AGG(NumReporting)-alias', 'month',\n",
    "       'YEAR(Reporting Month)-alias',\n",
    "       'AGG(Pop_Weighted_RGPCD)-alias']"
   ]
  },
  {
   "cell_type": "code",
   "execution_count": 45,
   "id": "0debf204-116a-4301-9372-8d159833ce24",
   "metadata": {},
   "outputs": [],
   "source": [
    "df_trim = df[trim_cols]"
   ]
  },
  {
   "cell_type": "code",
   "execution_count": 46,
   "id": "b69346ac-fc40-44c7-8037-5989f945f832",
   "metadata": {},
   "outputs": [],
   "source": [
    "df_rename = df_trim.rename(columns={\n",
    "    'Region-value':'hydrologic_region', \n",
    "    'AGG(NumReporting)-alias': 'agencies_reporting', \n",
    "    'YEAR(Reporting Month)-alias': 'year',\n",
    "    'AGG(Pop_Weighted_RGPCD)-alias': 'pop_weighted_rgpcd'\n",
    "})"
   ]
  },
  {
   "cell_type": "code",
   "execution_count": 47,
   "id": "cbc09654-83fe-4f68-b3c5-dbe23abdb208",
   "metadata": {},
   "outputs": [],
   "source": [
    "df_rename.loc[(df_rename.hydrologic_region == \"%all%\"), \"hydrologic_region\"] = \"Statewide\""
   ]
  },
  {
   "cell_type": "code",
   "execution_count": 48,
   "id": "15be355f-f181-4726-b320-0bafaf800e53",
   "metadata": {},
   "outputs": [],
   "source": [
    "df_rename.to_csv(\"../data/raw/regional-usage.csv\", index=False)"
   ]
  }
 ],
 "metadata": {
  "kernelspec": {
   "display_name": "Python 3 (ipykernel)",
   "language": "python",
   "name": "python3"
  },
  "language_info": {
   "codemirror_mode": {
    "name": "ipython",
    "version": 3
   },
   "file_extension": ".py",
   "mimetype": "text/x-python",
   "name": "python",
   "nbconvert_exporter": "python",
   "pygments_lexer": "ipython3",
   "version": "3.9.6"
  }
 },
 "nbformat": 4,
 "nbformat_minor": 5
}
