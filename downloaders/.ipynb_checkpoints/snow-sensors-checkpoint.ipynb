{
 "cells": [
  {
   "cell_type": "code",
   "execution_count": 57,
   "id": "a3066eaa-6997-45e0-8d28-76ade15bfa34",
   "metadata": {},
   "outputs": [],
   "source": [
    "import pytz\n",
    "import requests\n",
    "import pandas as pd\n",
    "from datetime import datetime, date, timedelta\n",
    "import altair as alt"
   ]
  },
  {
   "cell_type": "markdown",
   "id": "eba888e0-0736-4f12-9843-3982a4d87588",
   "metadata": {},
   "source": [
    "### Import metadta"
   ]
  },
  {
   "cell_type": "code",
   "execution_count": 58,
   "id": "cadcabf4-0576-4d82-b7bc-c9d0c8cbe3e5",
   "metadata": {},
   "outputs": [],
   "source": [
    "meta_df = pd.read_csv(\"../data/metadata/snow-stations.csv\")"
   ]
  },
  {
   "cell_type": "code",
   "execution_count": 77,
   "id": "46166479-2fbb-4e0e-8e44-2819a5030667",
   "metadata": {},
   "outputs": [],
   "source": [
    "all_stations = ','.join(list(meta_df.STATION_ID.unique()))"
   ]
  },
  {
   "cell_type": "markdown",
   "id": "c9f77814-0570-493d-ab11-582b3e9a3092",
   "metadata": {},
   "source": [
    "### Download snow water content levels from CDEC's 106 monitoring stations\n",
    "[Source](https://cdec.water.ca.gov/dynamicapp/wsSensorData)"
   ]
  },
  {
   "cell_type": "markdown",
   "id": "efb26c6b-bff2-4763-9aff-671307888acd",
   "metadata": {},
   "source": [
    "Get current date"
   ]
  },
  {
   "cell_type": "code",
   "execution_count": 44,
   "id": "9b7af785-4003-4d94-9f8a-0843797fd68b",
   "metadata": {},
   "outputs": [
    {
     "data": {
      "text/plain": [
       "datetime.date(2023, 3, 21)"
      ]
     },
     "execution_count": 44,
     "metadata": {},
     "output_type": "execute_result"
    }
   ],
   "source": [
    "tz = pytz.timezone(\"America/Los_Angeles\")\n",
    "today = datetime.now(tz).date()\n",
    "today"
   ]
  },
  {
   "cell_type": "markdown",
   "id": "957fe8d4-ce04-4a8d-81a4-31450112ac3d",
   "metadata": {},
   "source": [
    "List all stations within the three regions"
   ]
  },
  {
   "cell_type": "code",
   "execution_count": 45,
   "id": "c8c7b718-df46-47b1-ba5d-7fc94c43e500",
   "metadata": {},
   "outputs": [],
   "source": [
    "# NORTH: (Trinity through Feather & Truckee)\n",
    "north_stations = 'ADM,BFL,BKL,BMW,BNK,CDP,DSS,FOR,GOL,GRZ,HIG,HMB,IDC,IDP,INN,LLP,MED,MUM,NLS,PET,PLP,RRM,RTL,SDF,SHM,SLT,SNM,SQV,TK2'"
   ]
  },
  {
   "cell_type": "code",
   "execution_count": 46,
   "id": "8c423377-2d98-488e-bc75-e4ef60a76738",
   "metadata": {},
   "outputs": [],
   "source": [
    "# CENTRAL: (Yuba & Tahoe through Merced & Walker)\n",
    "central_stations = 'ALP,BLC,BLK,BLS,BSK,CAP,CSL,CXS,DAN,DDM,EBB,EP5,FDC,FLL,GIN,GKS,GNL,HGM,HOR,HRS,HVN,HYS,KIB,LBD,LVM,LVT,MDW,MNT,MRL,MSK,PDS,PSN,RBB,RBP,REL,RP2,SDW,SIL,SLI,SPS,SPT,STR,TCC,TNY,TUM,VRG,VVL,WC3,WHW'"
   ]
  },
  {
   "cell_type": "code",
   "execution_count": 47,
   "id": "742600b6-98b6-4f0f-bce0-bc0a8ab1ecd2",
   "metadata": {},
   "outputs": [],
   "source": [
    "# SOUTH: (San Joaquin & Mono through Kern)\n",
    "south_stations = 'BCH,BGP,CBT,CHM,CHP,CRL,CSV,CWD,DPO,FRW,GNF,GRM,GRV,KSP,MHP,MTM,PSC,PSR,RCK,SLK,STL,SWM,TMR,TUN,UBC,UTY,VLC,WTM,WWC'"
   ]
  },
  {
   "cell_type": "markdown",
   "id": "5782fca0-7dfe-40fa-bbce-ff44339d3d54",
   "metadata": {},
   "source": [
    "Query CDEC by region"
   ]
  },
  {
   "cell_type": "markdown",
   "id": "d13acbcd-3c59-4c61-8f37-7cb869b5247d",
   "metadata": {},
   "source": [
    "Different sensor numbers correspond to different metrics. \n",
    "- 3 = daily snow water content\n",
    "- 30 = avg air temp\n",
    "- 31 = max air temp\n",
    "- 32 = min air temp\n",
    "- **82 = daily snow water content, adjusted**"
   ]
  },
  {
   "cell_type": "code",
   "execution_count": 48,
   "id": "5eb9aebf-7eae-439c-9ee4-c50dabdaa7b4",
   "metadata": {},
   "outputs": [],
   "source": [
    "def queryByRegion(stations, region_name, sensor_number, duration):\n",
    "    # build query\n",
    "    stations = stations.replace(\",\",\"%2C\")\n",
    "    # sensor number -- 3 = daily snow water equivalent\n",
    "    end_date = today\n",
    "\n",
    "    # url\n",
    "    url = f\"https://cdec.water.ca.gov/dynamicapp/req/CSVDataServlet?Stations={stations}&SensorNums={sensor_number}&dur_code={duration}&Start=1800-01&End={end_date}\"\n",
    "\n",
    "    # to df\n",
    "    df = pd.read_csv(url, parse_dates=[\"DATE TIME\", \"OBS DATE\"])\n",
    "    df[\"region\"] = region_name\n",
    "    \n",
    "    return df"
   ]
  },
  {
   "cell_type": "markdown",
   "id": "d3523022-260e-4243-a4a3-8999afa50574",
   "metadata": {},
   "source": [
    "### Create dataframes and that we have each station"
   ]
  },
  {
   "cell_type": "code",
   "execution_count": 49,
   "id": "bc7026b1-ccc1-459d-8d58-6164aca920cc",
   "metadata": {},
   "outputs": [],
   "source": [
    "north_df = queryByRegion(north_stations, \"north\", 82, \"D\")"
   ]
  },
  {
   "cell_type": "code",
   "execution_count": 50,
   "id": "2b0fdc62-a1e7-4354-9b9e-c14b14742a2c",
   "metadata": {},
   "outputs": [],
   "source": [
    "assert len(north_stations.split(\",\")) == len(north_df[\"STATION_ID\"].unique()), \"Missing station(s)\""
   ]
  },
  {
   "cell_type": "code",
   "execution_count": 51,
   "id": "a76bf5c9-0d14-4d73-bdcb-09631cb85dcc",
   "metadata": {},
   "outputs": [],
   "source": [
    "central_df = queryByRegion(central_stations, \"central\", 82, \"D\")"
   ]
  },
  {
   "cell_type": "code",
   "execution_count": 52,
   "id": "cfbf4ae8-e15b-4d77-9c9a-fdc2fec943e9",
   "metadata": {},
   "outputs": [],
   "source": [
    "assert len(central_stations.split(\",\")) == len(central_df[\"STATION_ID\"].unique()), \"Missing station(s)\""
   ]
  },
  {
   "cell_type": "code",
   "execution_count": 53,
   "id": "e13236fb-c736-42b2-a348-1f42b3d98a7b",
   "metadata": {},
   "outputs": [],
   "source": [
    "south_df = queryByRegion(south_stations, \"south\", 82, \"D\")"
   ]
  },
  {
   "cell_type": "code",
   "execution_count": 54,
   "id": "95755c0b-3036-416d-873f-229efb3bd853",
   "metadata": {},
   "outputs": [],
   "source": [
    "assert len(south_stations.split(\",\")) == len(south_df[\"STATION_ID\"].unique()), \"Missing station(s)\""
   ]
  },
  {
   "cell_type": "code",
   "execution_count": 79,
   "id": "1d1fbad5-4483-4e23-acee-386e816d0c76",
   "metadata": {},
   "outputs": [],
   "source": [
    "all_df = queryByRegion(all_stations, \"all\", 82, \"D\")"
   ]
  },
  {
   "cell_type": "markdown",
   "id": "239ee5d2-a0eb-4ac4-b799-4e922f74b40f",
   "metadata": {},
   "source": [
    "### Concat"
   ]
  },
  {
   "cell_type": "code",
   "execution_count": 55,
   "id": "a6315312-da3a-4b4c-af74-91db5aa8a1a3",
   "metadata": {},
   "outputs": [],
   "source": [
    "concat_df = pd.concat(\n",
    "    [north_df, central_df, south_df]\n",
    ")"
   ]
  },
  {
   "cell_type": "markdown",
   "id": "476f739d-8fde-4a77-a14b-e07c93a4b401",
   "metadata": {},
   "source": [
    "### Export"
   ]
  },
  {
   "cell_type": "code",
   "execution_count": 56,
   "id": "00fa384e-d2ca-4c18-ac5e-369cd31d950f",
   "metadata": {},
   "outputs": [],
   "source": [
    "concat_df.to_csv(\"../data/raw/snow/timeseries.csv\", index=False)"
   ]
  },
  {
   "cell_type": "code",
   "execution_count": 81,
   "id": "9758c439-2592-4703-88f2-758417dabcc7",
   "metadata": {},
   "outputs": [],
   "source": [
    "all_df.to_csv(\"../data/raw/snow/all-timeseries.csv\", index=False)"
   ]
  }
 ],
 "metadata": {
  "kernelspec": {
   "display_name": "Python 3 (ipykernel)",
   "language": "python",
   "name": "python3"
  },
  "language_info": {
   "codemirror_mode": {
    "name": "ipython",
    "version": 3
   },
   "file_extension": ".py",
   "mimetype": "text/x-python",
   "name": "python",
   "nbconvert_exporter": "python",
   "pygments_lexer": "ipython3",
   "version": "3.9.16"
  }
 },
 "nbformat": 4,
 "nbformat_minor": 5
}
