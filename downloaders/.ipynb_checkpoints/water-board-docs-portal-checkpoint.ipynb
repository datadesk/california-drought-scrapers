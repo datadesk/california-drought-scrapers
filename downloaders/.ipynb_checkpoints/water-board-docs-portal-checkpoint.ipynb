{
 "cells": [
  {
   "cell_type": "code",
   "execution_count": 1,
   "id": "24f1ee08-650b-4447-83ce-1ff5415b5594",
   "metadata": {},
   "outputs": [],
   "source": [
    "import datetime\n",
    "import pandas as pd\n",
    "import requests as re\n",
    "from bs4 import BeautifulSoup"
   ]
  },
  {
   "cell_type": "code",
   "execution_count": 2,
   "id": "33109b04-80f3-466a-80ca-9e8f819c5acf",
   "metadata": {},
   "outputs": [],
   "source": [
    "pd.set_option('display.max_colwidth', None)"
   ]
  },
  {
   "cell_type": "markdown",
   "id": "cbf0e93d-d653-4c65-ae62-c75d30afc6df",
   "metadata": {},
   "source": [
    "Get current year to navigate the water board's docs portal"
   ]
  },
  {
   "cell_type": "code",
   "execution_count": 3,
   "id": "aab32eaa-b634-4331-9305-f61da21efe87",
   "metadata": {},
   "outputs": [
    {
     "data": {
      "text/plain": [
       "2023"
      ]
     },
     "execution_count": 3,
     "metadata": {},
     "output_type": "execute_result"
    }
   ],
   "source": [
    "year = datetime.date.today().year\n",
    "year"
   ]
  },
  {
   "cell_type": "markdown",
   "id": "ec1eb179-b9ac-4841-a90e-e92ad301d6d9",
   "metadata": {},
   "source": [
    "Open the docs portal and pull the file directory into a dataframe"
   ]
  },
  {
   "cell_type": "code",
   "execution_count": 4,
   "id": "3b6eeb55-e017-4c8c-a7f9-09cd291c6138",
   "metadata": {},
   "outputs": [],
   "source": [
    "url = f\"https://www.waterboards.ca.gov/water_issues/programs/conservation_portal/docs/{year}/\""
   ]
  },
  {
   "cell_type": "code",
   "execution_count": 5,
   "id": "0affa9aa-6a45-4613-ba75-19c2c3615f93",
   "metadata": {},
   "outputs": [],
   "source": [
    "page = re.get(url)"
   ]
  },
  {
   "cell_type": "code",
   "execution_count": 6,
   "id": "c9492dc6-fc50-4412-ad95-f32a39cceded",
   "metadata": {},
   "outputs": [],
   "source": [
    "soup = BeautifulSoup(page.content, \"html.parser\")"
   ]
  },
  {
   "cell_type": "code",
   "execution_count": 7,
   "id": "a5d66222-4edc-4145-b00c-4f5077db9c9f",
   "metadata": {},
   "outputs": [],
   "source": [
    "table = soup.find(\"table\")"
   ]
  },
  {
   "cell_type": "code",
   "execution_count": 8,
   "id": "db4f1866-622c-404c-8f62-bba492e2fc5a",
   "metadata": {},
   "outputs": [],
   "source": [
    "rows = table.find_all(\"tr\")"
   ]
  },
  {
   "cell_type": "code",
   "execution_count": 14,
   "id": "fbb83fe7-486e-4b8a-ac14-16f649005872",
   "metadata": {},
   "outputs": [
    {
     "name": "stdout",
     "output_type": "stream",
     "text": [
      "{'name': 'Parent Directory ', 'url': '/water_issues/programs/conservation_portal/docs/', 'date_modified': '\\xa0', 'size': '  - ', 'description': '\\xa0'}\n",
      "{'name': 'data-quality-questio..>', 'url': 'data-quality-questionnaire-summary.docx', 'date_modified': '2023-07-05 16:20  ', 'size': ' 16K', 'description': '\\xa0'}\n",
      "{'name': 'making-conservation-..>', 'url': 'making-conservation-a-way-of-life-fact-sheet-esp.pdf', 'date_modified': '2023-06-30 11:35  ', 'size': '332K', 'description': '\\xa0'}\n",
      "{'name': 'pressure-management-..>', 'url': 'pressure-management-questionnaire-summary.docx', 'date_modified': '2023-07-05 16:20  ', 'size': ' 15K', 'description': '\\xa0'}\n",
      "{'name': 'standards-to-release..>', 'url': 'standards-to-release-06-02-2023.xlsx', 'date_modified': '2023-06-05 08:57  ', 'size': '182K', 'description': '\\xa0'}\n",
      "{'name': 'uw_drought_response0..>', 'url': 'uw_drought_response051623.xlsx', 'date_modified': '2023-05-19 07:31  ', 'size': '2.1M', 'description': '\\xa0'}\n",
      "{'name': 'uw_drought_response0..>', 'url': 'uw_drought_response071423.xlsx', 'date_modified': '2023-07-17 09:16  ', 'size': '2.2M', 'description': '\\xa0'}\n",
      "{'name': 'uw_supplier_data0515..>', 'url': 'uw_supplier_data051523.xlsx', 'date_modified': '2023-05-19 07:31  ', 'size': '5.2M', 'description': '\\xa0'}\n",
      "{'name': 'uw_supplier_data0714..>', 'url': 'uw_supplier_data071423.xlsx', 'date_modified': '2023-07-17 09:16  ', 'size': '5.3M', 'description': '\\xa0'}\n"
     ]
    }
   ],
   "source": [
    "dict_list = []\n",
    "for tr in rows:\n",
    "    td = tr.find_all('td')\n",
    "    if td:\n",
    "        row = dict(\n",
    "            name = td[1].text,\n",
    "            url = td[1].find('a', href=True)['href'],\n",
    "            date_modified = td[2].text,\n",
    "            size = td[3].text,\n",
    "            description = td[4].text\n",
    "        )\n",
    "        print(row)\n",
    "        dict_list.append(row)"
   ]
  },
  {
   "cell_type": "code",
   "execution_count": null,
   "id": "b17c9141-ca38-45cb-86e8-54c4efd87e23",
   "metadata": {},
   "outputs": [],
   "source": [
    "df = pd.read_html(str(table))[0]"
   ]
  },
  {
   "cell_type": "markdown",
   "id": "cf6c8130-f270-4fd3-a1a4-0489d31754ee",
   "metadata": {},
   "source": [
    "Clean"
   ]
  },
  {
   "cell_type": "code",
   "execution_count": null,
   "id": "fa429fa7-ee9d-4533-8e2e-2a55036c91a8",
   "metadata": {},
   "outputs": [],
   "source": [
    "df = df[~df.Name.isna()]"
   ]
  },
  {
   "cell_type": "code",
   "execution_count": null,
   "id": "4bd838ff-57fe-44e0-b83f-cefe1f6e4f7a",
   "metadata": {},
   "outputs": [],
   "source": [
    "df = df.loc[:,~df.columns.str.startswith('Unnamed')]"
   ]
  },
  {
   "cell_type": "code",
   "execution_count": null,
   "id": "a48de2de-339d-4916-9dc5-28f03dd412b5",
   "metadata": {},
   "outputs": [],
   "source": [
    "df"
   ]
  },
  {
   "cell_type": "code",
   "execution_count": null,
   "id": "ccf44ac7-50a7-4709-9618-8a7ef76c2a62",
   "metadata": {},
   "outputs": [],
   "source": []
  }
 ],
 "metadata": {
  "kernelspec": {
   "display_name": "Python 3 (ipykernel)",
   "language": "python",
   "name": "python3"
  },
  "language_info": {
   "codemirror_mode": {
    "name": "ipython",
    "version": 3
   },
   "file_extension": ".py",
   "mimetype": "text/x-python",
   "name": "python",
   "nbconvert_exporter": "python",
   "pygments_lexer": "ipython3",
   "version": "3.9.16"
  }
 },
 "nbformat": 4,
 "nbformat_minor": 5
}
