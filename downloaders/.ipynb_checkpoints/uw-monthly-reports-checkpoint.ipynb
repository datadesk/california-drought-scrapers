{
 "cells": [
  {
   "cell_type": "code",
   "execution_count": 1,
   "id": "b63e27bd-0545-447c-849b-463a2c2519bd",
   "metadata": {},
   "outputs": [],
   "source": [
    "import pandas as pd\n",
    "import datetime\n",
    "from datetime import date\n",
    "import requests\n",
    "from bs4 import BeautifulSoup\n",
    "import regex as re"
   ]
  },
  {
   "cell_type": "code",
   "execution_count": 2,
   "id": "4ef1da3d-ca4b-455d-bc4b-108e439a133a",
   "metadata": {},
   "outputs": [],
   "source": [
    "from requests.packages.urllib3.exceptions import InsecureRequestWarning\n",
    "requests.packages.urllib3.disable_warnings(InsecureRequestWarning)"
   ]
  },
  {
   "cell_type": "markdown",
   "id": "1df16cba-87f8-4f61-8d38-f09c98d32baf",
   "metadata": {},
   "source": [
    "### Download the water board's web page"
   ]
  },
  {
   "cell_type": "code",
   "execution_count": 3,
   "id": "58dadcb9-83f0-4cb5-909f-80c708225fd5",
   "metadata": {},
   "outputs": [],
   "source": [
    "url = \"https://www.waterboards.ca.gov/water_issues/programs/conservation_portal/conservation_reporting.html\""
   ]
  },
  {
   "cell_type": "code",
   "execution_count": 4,
   "id": "cfb42433-3498-4d4b-b1b8-b7c3c1d51d1d",
   "metadata": {},
   "outputs": [],
   "source": [
    "page = requests.get(url, verify=False)"
   ]
  },
  {
   "cell_type": "code",
   "execution_count": 5,
   "id": "9a27901d-1af9-4adc-9992-c19c58f797a3",
   "metadata": {},
   "outputs": [],
   "source": [
    "soup = BeautifulSoup(page.content, \"html.parser\")"
   ]
  },
  {
   "cell_type": "code",
   "execution_count": 6,
   "id": "bfeb2123-dadc-4155-86fa-450ab4f7a459",
   "metadata": {},
   "outputs": [],
   "source": [
    "content = soup.find(\"div\", {\"id\": \"main-content\"})"
   ]
  },
  {
   "cell_type": "markdown",
   "id": "464d4b7e-78fd-404d-a7aa-ee9cfff35c7c",
   "metadata": {},
   "source": [
    "### Find the link to the monthly conservation report (a excel file)"
   ]
  },
  {
   "cell_type": "code",
   "execution_count": 7,
   "id": "62f96caa-4f2a-4509-a690-efe3a4ab4d97",
   "metadata": {},
   "outputs": [],
   "source": [
    "#Urban Water Supplier Monthly Reports"
   ]
  },
  {
   "cell_type": "code",
   "execution_count": 8,
   "id": "6ecc836c-519b-4b7f-8990-26887041479f",
   "metadata": {},
   "outputs": [
    {
     "data": {
      "text/plain": [
       "'docs/2022/uw-supplier-data070822.xlsx'"
      ]
     },
     "execution_count": 8,
     "metadata": {},
     "output_type": "execute_result"
    }
   ],
   "source": [
    "file_path = content.find(\"a\", href=re.compile(\"uw[---_]supplier[---_]data\"))['href']\n",
    "file_path"
   ]
  },
  {
   "cell_type": "code",
   "execution_count": 13,
   "id": "e7aa5b52-9de0-440f-b9e2-f351f5a189ba",
   "metadata": {},
   "outputs": [],
   "source": [
    "def download_excel_file(file_path, data_dir):\n",
    "    download_url = f\"https://www.waterboards.ca.gov/water_issues/programs/conservation_portal/{file_path}\"\n",
    "    excel_file = file_path.replace(f'docs/{date.today().year}/', '')\n",
    "    slugified_excel_file = excel_file.replace(\"_\",\"-\")\n",
    "    with open(f\"../data/raw/{data_dir}/{slugified_excel_file}\", \"wb\") as handler:\n",
    "        handler.write(requests.get(download_url).content)\n",
    "    print(f\"`{slugified_excel_file}` file written to `../data/raw/{data_dir}`\")"
   ]
  },
  {
   "cell_type": "code",
   "execution_count": 14,
   "id": "5bc96d97-427b-4646-b2a6-ae5d0b7eb543",
   "metadata": {},
   "outputs": [
    {
     "name": "stdout",
     "output_type": "stream",
     "text": [
      "`uw-supplier-data070822.xlsx` file written to `../data/raw/uw_monthly_reports`\n"
     ]
    }
   ],
   "source": [
    "download_excel_file(file_path, 'uw_monthly_reports')"
   ]
  },
  {
   "cell_type": "markdown",
   "id": "2675f479-2741-4162-afe7-b70d9d87ebc7",
   "metadata": {},
   "source": [
    "### Now get drought response data"
   ]
  },
  {
   "cell_type": "code",
   "execution_count": 17,
   "id": "0cbbb202-0b31-4a84-9c61-6f36d0ea57be",
   "metadata": {},
   "outputs": [
    {
     "data": {
      "text/plain": [
       "'docs/2022/uw-drought-response070822.xlsx'"
      ]
     },
     "execution_count": 17,
     "metadata": {},
     "output_type": "execute_result"
    }
   ],
   "source": [
    "drought_response_file_path = content.find(\"a\", href=re.compile(\"uw[---_]drought[---_]response\"))['href']\n",
    "drought_response_file_path"
   ]
  },
  {
   "cell_type": "code",
   "execution_count": 18,
   "id": "a47dfe15-655d-451b-864e-55d0c84a4a5c",
   "metadata": {},
   "outputs": [
    {
     "name": "stdout",
     "output_type": "stream",
     "text": [
      "`uw-drought-response070822.xlsx` file written to `../data/raw/uw_drought_response_actions`\n"
     ]
    }
   ],
   "source": [
    "download_excel_file(drought_response_file_path, 'uw_drought_response_actions')"
   ]
  }
 ],
 "metadata": {
  "kernelspec": {
   "display_name": "Python 3 (ipykernel)",
   "language": "python",
   "name": "python3"
  },
  "language_info": {
   "codemirror_mode": {
    "name": "ipython",
    "version": 3
   },
   "file_extension": ".py",
   "mimetype": "text/x-python",
   "name": "python",
   "nbconvert_exporter": "python",
   "pygments_lexer": "ipython3",
   "version": "3.9.6"
  }
 },
 "nbformat": 4,
 "nbformat_minor": 5
}
