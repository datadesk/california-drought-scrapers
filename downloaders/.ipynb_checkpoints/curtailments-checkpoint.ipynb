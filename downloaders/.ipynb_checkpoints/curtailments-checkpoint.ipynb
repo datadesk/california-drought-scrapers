{
 "cells": [
  {
   "cell_type": "code",
   "execution_count": 39,
   "id": "42f43950-211b-406c-8ce1-533d6423911f",
   "metadata": {},
   "outputs": [],
   "source": [
    "import requests\n",
    "import pandas as pd\n",
    "from bs4 import BeautifulSoup\n",
    "from datetime import datetime, date, timedelta\n",
    "from tableauscraper import TableauScraper as TS\n",
    "import altair as alt\n",
    "import altair_latimes as lat"
   ]
  },
  {
   "cell_type": "markdown",
   "id": "8d79e39d-23f0-4738-b33e-c021f15059ff",
   "metadata": {},
   "source": [
    "### Download the tableau dashboard"
   ]
  },
  {
   "cell_type": "code",
   "execution_count": 40,
   "id": "5d85b9bc-2866-4766-9a9c-32ca3de19666",
   "metadata": {},
   "outputs": [],
   "source": [
    "url = \"https://public.tableau.com/views/CaliforniaUrbanWaterProduction_15785959527960/StatewideUseandProduction\""
   ]
  },
  {
   "cell_type": "code",
   "execution_count": 41,
   "id": "0bef33e1-8bc9-44a1-94e7-e7521243a0aa",
   "metadata": {},
   "outputs": [],
   "source": [
    "ts = TS()\n",
    "ts.loads(url)\n",
    "workbook = ts.getWorkbook()"
   ]
  },
  {
   "cell_type": "markdown",
   "id": "9f5f19ef-8f61-413b-9270-ecfc5e2e439d",
   "metadata": {},
   "source": [
    "Get the conservation figures for hydrologic regions and districts"
   ]
  },
  {
   "cell_type": "code",
   "execution_count": 23,
   "id": "1d7128e0-407e-4dc2-ab9a-b0d22a52d1b5",
   "metadata": {},
   "outputs": [
    {
     "name": "stderr",
     "output_type": "stream",
     "text": [
      "2022-06-04 19:17:13,256 - tableauScraper - WARNING - no data dictionary present in response\n",
      "2022-06-04 19:17:13,256 - tableauScraper - WARNING - no data dictionary present in response\n",
      "2022-06-04 19:17:13,993 - tableauScraper - WARNING - no data dictionary present in response\n",
      "2022-06-04 19:17:13,993 - tableauScraper - WARNING - no data dictionary present in response\n",
      "2022-06-04 19:17:14,685 - tableauScraper - WARNING - no data dictionary present in response\n",
      "2022-06-04 19:17:14,685 - tableauScraper - WARNING - no data dictionary present in response\n",
      "2022-06-04 19:17:15,407 - tableauScraper - WARNING - no data dictionary present in response\n",
      "2022-06-04 19:17:15,407 - tableauScraper - WARNING - no data dictionary present in response\n"
     ]
    }
   ],
   "source": [
    "conservation = workbook.goToSheet(\"Cumulative Savings \")\n",
    "for t in conservation.worksheets:\n",
    "    if t.name == \"Savings by Hydro\":\n",
    "        \n",
    "        filters = t.getFilters()\n",
    "        #print(filters)\n",
    "        filter_values = filters[0]['values']\n",
    "        df_list = []\n",
    "        for v in filter_values:\n",
    "            wb = t.setFilter('Strmonth', v)\n",
    "            monthlyWs = wb.getWorksheet(\"Savings by Hydro\")\n",
    "            #print(monthlyWs.data)\n",
    "            monthly_df = monthlyWs.data\n",
    "            #monthly_df[\"month\"] = m\n",
    "            df_list.append(monthly_df)\n",
    "    # elif t.name == \"Savings Map\":\n",
    "    #     district_df = t.data\n",
    "    else:\n",
    "        pass"
   ]
  },
  {
   "cell_type": "code",
   "execution_count": 24,
   "id": "73d0ab1c-f2e2-4c78-8c42-9a630e035e12",
   "metadata": {},
   "outputs": [
    {
     "data": {
      "text/plain": [
       "10"
      ]
     },
     "execution_count": 24,
     "metadata": {},
     "output_type": "execute_result"
    }
   ],
   "source": [
    "len(df_list)"
   ]
  },
  {
   "cell_type": "code",
   "execution_count": 25,
   "id": "67f32883-c645-46c0-9ecd-eee571622963",
   "metadata": {},
   "outputs": [],
   "source": [
    "hydro_df = pd.concat(df_list)"
   ]
  },
  {
   "cell_type": "markdown",
   "id": "c7882d8f-2d6a-4c93-bef0-9c2065ec62de",
   "metadata": {},
   "source": [
    "---\n",
    "### Clean up dataframe"
   ]
  },
  {
   "cell_type": "code",
   "execution_count": 26,
   "id": "8b20892b-3b86-42e1-af13-1ed28e2d5833",
   "metadata": {},
   "outputs": [
    {
     "data": {
      "text/plain": [
       "Index(['Region-value', 'Region-alias', 'Strmonth-value', 'Strmonth-alias',\n",
       "       'SUM(Baseline)-alias', 'SUM(count_supplier)-alias',\n",
       "       'SUM(Current)-alias', 'SUM(Total Population Served)-alias',\n",
       "       'ATTR(Year)-alias', 'ATTR(Hydrologic Region)-alias',\n",
       "       'AGG(Savings_calc)-alias'],\n",
       "      dtype='object')"
      ]
     },
     "execution_count": 26,
     "metadata": {},
     "output_type": "execute_result"
    }
   ],
   "source": [
    "hydro_df.columns"
   ]
  },
  {
   "cell_type": "code",
   "execution_count": 27,
   "id": "2142e1e1-ef5f-4e5a-ae02-cbfec6364c5f",
   "metadata": {},
   "outputs": [],
   "source": [
    "keeps = ['Region-value', 'Strmonth-alias',\n",
    "       'SUM(Baseline)-alias', 'SUM(count_supplier)-alias',\n",
    "       'SUM(Current)-alias', 'SUM(Total Population Served)-alias',\n",
    "       'ATTR(Year)-alias', 'AGG(Savings_calc)-alias']"
   ]
  },
  {
   "cell_type": "code",
   "execution_count": 28,
   "id": "1a9914c8-74ce-47c8-a044-15d853b3cc7c",
   "metadata": {},
   "outputs": [],
   "source": [
    "hydro_trim = hydro_df[keeps]"
   ]
  },
  {
   "cell_type": "code",
   "execution_count": 29,
   "id": "8e93578b-78b0-407b-bef0-1fd17d19140a",
   "metadata": {},
   "outputs": [],
   "source": [
    "rename = {\n",
    "    'Region-value': 'hydrologic_region', \n",
    "    'Strmonth-alias': 'month', \n",
    "    'SUM(Baseline)-alias': 'water_use_baseline',\n",
    "    'SUM(count_supplier)-alias': 'supplier_count',\n",
    "    'SUM(Current)-alias': 'water_use_current',\n",
    "    'SUM(Total Population Served)-alias': 'total_population_served', \n",
    "    'ATTR(Year)-alias' :'year',\n",
    "    'AGG(Savings_calc)-alias': 'pct_savings'  \n",
    "}"
   ]
  },
  {
   "cell_type": "code",
   "execution_count": 30,
   "id": "15855950-c3d5-4544-ae56-a2bcda42f0d4",
   "metadata": {},
   "outputs": [],
   "source": [
    "hydro_rename = hydro_trim.rename(columns=rename)"
   ]
  },
  {
   "cell_type": "code",
   "execution_count": 31,
   "id": "19e5d4d9-e6c8-4809-99fa-0e88edefa5e7",
   "metadata": {},
   "outputs": [],
   "source": [
    "hydro_rename['water_use_baseline'] = hydro_rename['water_use_baseline'].str.replace(\",\",\"\").astype(int)"
   ]
  },
  {
   "cell_type": "code",
   "execution_count": 32,
   "id": "545410c7-52c2-46ac-a0e7-174e0202f1bf",
   "metadata": {},
   "outputs": [],
   "source": [
    "hydro_rename['water_use_current'] = hydro_rename['water_use_current'].str.replace(\",\",\"\").astype(int)"
   ]
  },
  {
   "cell_type": "code",
   "execution_count": 33,
   "id": "613881fc-7385-44ee-aea4-c3e5ed49486b",
   "metadata": {},
   "outputs": [],
   "source": [
    "hydro_rename.loc[(hydro_rename.hydrologic_region == \"%all%\"), \"hydrologic_region\"] = \"Statewide\""
   ]
  },
  {
   "cell_type": "code",
   "execution_count": 34,
   "id": "5d529ee5-cfd6-4baf-821c-cbc2162b36f1",
   "metadata": {},
   "outputs": [],
   "source": [
    "hydro_rename.loc[(hydro_rename.year == \"%null%\"), \"year\"] = \"Cumulative\""
   ]
  },
  {
   "cell_type": "code",
   "execution_count": 35,
   "id": "69de6d34-1d0a-42f9-8c80-b31d19b3107a",
   "metadata": {},
   "outputs": [],
   "source": [
    "statewide_df = hydro_rename[hydro_rename.hydrologic_region == \"Statewide\"]"
   ]
  },
  {
   "cell_type": "code",
   "execution_count": 36,
   "id": "82bbb3e1-2cc4-495f-9095-503425b97110",
   "metadata": {},
   "outputs": [],
   "source": [
    "region_df = hydro_rename[hydro_rename.hydrologic_region != \"Statewide\"]"
   ]
  },
  {
   "cell_type": "markdown",
   "id": "6278d439-65f1-4422-92d1-3b423df36de9",
   "metadata": {},
   "source": [
    "### Output"
   ]
  },
  {
   "cell_type": "code",
   "execution_count": 37,
   "id": "e0bd56c3-f388-408e-9863-e4c643d4fe88",
   "metadata": {},
   "outputs": [],
   "source": [
    "statewide_df.to_csv(\"../data/raw/statewide-conservation.csv\", index=False)"
   ]
  },
  {
   "cell_type": "code",
   "execution_count": 38,
   "id": "db39aa55-b5a5-4063-a030-57549aecfd97",
   "metadata": {},
   "outputs": [],
   "source": [
    "region_df.to_csv(\"../data/raw/regional-conservation.csv\", index=False)"
   ]
  }
 ],
 "metadata": {
  "kernelspec": {
   "display_name": "Python 3 (ipykernel)",
   "language": "python",
   "name": "python3"
  },
  "language_info": {
   "codemirror_mode": {
    "name": "ipython",
    "version": 3
   },
   "file_extension": ".py",
   "mimetype": "text/x-python",
   "name": "python",
   "nbconvert_exporter": "python",
   "pygments_lexer": "ipython3",
   "version": "3.9.6"
  }
 },
 "nbformat": 4,
 "nbformat_minor": 5
}
