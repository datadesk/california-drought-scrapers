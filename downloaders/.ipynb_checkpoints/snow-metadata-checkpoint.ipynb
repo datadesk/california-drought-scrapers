{
 "cells": [
  {
   "cell_type": "code",
   "execution_count": 3,
   "id": "92b7a127-6f2e-478f-800f-eb0a95f2e2d4",
   "metadata": {},
   "outputs": [],
   "source": [
    "import pytz\n",
    "import requests\n",
    "import pandas as pd\n",
    "from datetime import datetime, date, timedelta"
   ]
  },
  {
   "cell_type": "markdown",
   "id": "c271f72b-840f-4326-b30e-292218cf623e",
   "metadata": {},
   "source": [
    "### Download metadata for all of CDEC's snow monitoring stations"
   ]
  },
  {
   "cell_type": "markdown",
   "id": "22ac3ffc-b467-4e53-9fd3-4c54affedc34",
   "metadata": {},
   "source": [
    "List out the station IDs by region. *[Source](https://cdec.water.ca.gov/snowapp/sweq.action)*"
   ]
  },
  {
   "cell_type": "code",
   "execution_count": 2,
   "id": "6b9e197e-3ddb-4694-97f2-c676f640477f",
   "metadata": {},
   "outputs": [],
   "source": [
    "north_stations = \"ADM,BFL,BKL,BMW,BNK,CDP,DSS,FOR,GOL,GRZ,HIG,HMB,IDC,IDP,INN,LLP,MED,MUM,NLS,PET,PLP,RRM,RTL,SDF,SHM,SLT,SNM,SQV,TK2\""
   ]
  },
  {
   "cell_type": "code",
   "execution_count": 3,
   "id": "b717f726-0387-460f-889a-3fbd06f1335a",
   "metadata": {},
   "outputs": [],
   "source": [
    "central_stations = \"ALP,BLC,BLK,BLS,BSK,CAP,CSL,CXS,DAN,DDM,EBB,EP5,FDC,FLL,GIN,GKS,HGM,HOR,HRS,HVN,HYS,KIB,LBD,LVM,LVT,MDW,MNT,MRL,MSK,PDS,PSN,RBB,RBP,REL,RP2,SDW,SIL,SLI,SPS,SPT,STR,TCC,TNY,TUM,VRG,WC3,WHW\""
   ]
  },
  {
   "cell_type": "code",
   "execution_count": 4,
   "id": "b072762c-8fc1-486f-9256-a97638a9089a",
   "metadata": {},
   "outputs": [],
   "source": [
    "south_stations = \"BCH,BGP,CBT,CHM,CHP,CRL,CSV,CWD,DPO,FRW,GNF,GRM,GRV,KSP,MHP,MTM,PSC,PSR,QUA,RCK,SLK,STL,SWM,TMR,TUN,UBC,UTY,VLC,WTM,WWC\""
   ]
  },
  {
   "cell_type": "markdown",
   "id": "4c624367-3091-4707-9679-7294665d0ae6",
   "metadata": {},
   "source": [
    "Combine"
   ]
  },
  {
   "cell_type": "code",
   "execution_count": 5,
   "id": "3e8702a4-7190-4732-97f9-7ff3a10becca",
   "metadata": {},
   "outputs": [],
   "source": [
    "all_stations = north_stations.split(\",\") + central_stations.split(\",\") + south_stations.split(\",\")"
   ]
  },
  {
   "cell_type": "markdown",
   "id": "1e64cc0f-47ff-4da1-b02f-3d56fa4ff80b",
   "metadata": {},
   "source": [
    "Loop through station IDs"
   ]
  },
  {
   "cell_type": "code",
   "execution_count": 6,
   "id": "ea58d6bb-9cf4-4312-83a7-84e2ff2b1557",
   "metadata": {},
   "outputs": [],
   "source": [
    "df_list = []\n",
    "for s in all_stations:\n",
    "    url = f\"https://cdec.water.ca.gov/CDECStationServices/CDecServlet/getStationInfo?stationID={s}\"\n",
    "    response = requests.get(url)\n",
    "    data = response.json()['result']\n",
    "    snow_adj_filter = [x for x in data if x['SENS_SHORT_NAME'] == 'SNO ADJ']\n",
    "    df = pd.DataFrame(snow_adj_filter)\n",
    "    df_list.append(df)"
   ]
  },
  {
   "cell_type": "code",
   "execution_count": 7,
   "id": "b5d59197-a1c6-4c61-bca5-7339b83c093d",
   "metadata": {},
   "outputs": [],
   "source": [
    "df = pd.concat(df_list)"
   ]
  },
  {
   "cell_type": "markdown",
   "id": "3f1f18d8-8dc9-41a0-aa15-fa4faddb3a27",
   "metadata": {},
   "source": [
    "### Compile metadata"
   ]
  },
  {
   "cell_type": "markdown",
   "id": "1df913cc-34ef-4f33-8730-a0ec5f79bc6c",
   "metadata": {},
   "source": [
    "Filter results to those that provide daily readings"
   ]
  },
  {
   "cell_type": "code",
   "execution_count": 39,
   "id": "7858e30e-3653-4176-9742-a8a34147f558",
   "metadata": {},
   "outputs": [],
   "source": [
    "daily = df[df.DUR_CODE == \"D\"]"
   ]
  },
  {
   "cell_type": "markdown",
   "id": "818d9af3-b052-4a26-b676-0026f7cd9efd",
   "metadata": {},
   "source": [
    "Import April 1 averages. *[Source](https://cdec.water.ca.gov/reportapp/javareports?name=PAGE6), copied March 14, 2023*"
   ]
  },
  {
   "cell_type": "code",
   "execution_count": 40,
   "id": "f166218b-9b46-410b-bde0-93eed8a3fb33",
   "metadata": {},
   "outputs": [],
   "source": [
    "april_df = pd.read_csv(\"../data/metadata/snow-april-1-averages.csv\")"
   ]
  },
  {
   "cell_type": "code",
   "execution_count": 41,
   "id": "a9fc10cc-eb50-4255-9abe-07be3b5eca48",
   "metadata": {},
   "outputs": [],
   "source": [
    "april_df.columns = april_df.columns.str.upper()"
   ]
  },
  {
   "cell_type": "markdown",
   "id": "5d13f7c2-fc80-4778-9461-ace03e60f924",
   "metadata": {},
   "source": [
    "Merge April 1 averages to other station metadata"
   ]
  },
  {
   "cell_type": "code",
   "execution_count": 45,
   "id": "07a3e198-1f5b-4c13-b5c0-de07f0d493cd",
   "metadata": {},
   "outputs": [],
   "source": [
    "merge_df = pd.merge(\n",
    "    daily, april_df[[\"STATION_ID\",\"APRIL_1_AVG_IN\"]],\n",
    "    how=\"left\", on=\"STATION_ID\"\n",
    ")"
   ]
  },
  {
   "cell_type": "markdown",
   "id": "86862a43-93ab-4f9b-9b84-6e6aeca631c8",
   "metadata": {},
   "source": [
    "### Export"
   ]
  },
  {
   "cell_type": "code",
   "execution_count": 47,
   "id": "0d513518-3861-4fcb-8199-37f4df9d1ae4",
   "metadata": {},
   "outputs": [],
   "source": [
    "merge_df.to_csv(\"../data/metadata/snow-stations.csv\", index=False)"
   ]
  }
 ],
 "metadata": {
  "kernelspec": {
   "display_name": "Python 3 (ipykernel)",
   "language": "python",
   "name": "python3"
  },
  "language_info": {
   "codemirror_mode": {
    "name": "ipython",
    "version": 3
   },
   "file_extension": ".py",
   "mimetype": "text/x-python",
   "name": "python",
   "nbconvert_exporter": "python",
   "pygments_lexer": "ipython3",
   "version": "3.9.16"
  }
 },
 "nbformat": 4,
 "nbformat_minor": 5
}
