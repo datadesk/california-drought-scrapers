{
 "cells": [
  {
   "cell_type": "code",
   "execution_count": 130,
   "id": "66826526-4ecc-429b-b8db-bef7ef39e7d6",
   "metadata": {},
   "outputs": [],
   "source": [
    "import pytz\n",
    "import requests\n",
    "import pandas as pd\n",
    "from bs4 import BeautifulSoup\n",
    "from playwright.async_api import async_playwright\n",
    "from datetime import datetime, date, timedelta"
   ]
  },
  {
   "cell_type": "code",
   "execution_count": 131,
   "id": "61c64214-6033-43d8-b967-7f3b50d1d7e0",
   "metadata": {},
   "outputs": [],
   "source": [
    "from requests.packages.urllib3.exceptions import InsecureRequestWarning\n",
    "requests.packages.urllib3.disable_warnings(InsecureRequestWarning)"
   ]
  },
  {
   "cell_type": "markdown",
   "id": "b06ffbe3-26da-413c-9d00-05c73d8e4469",
   "metadata": {},
   "source": [
    "---"
   ]
  },
  {
   "cell_type": "code",
   "execution_count": 132,
   "id": "4c6569e8-7aa7-4b00-9e2f-7808da8c613a",
   "metadata": {},
   "outputs": [],
   "source": [
    "major_reservoir_list = [\n",
    "\"ATN\",\n",
    "\"CCH\",\n",
    "\"GBL\",\n",
    "\"NCM\",\n",
    "\"SLN\",\n",
    "\"WHR\",\n",
    "\"CLE\",\n",
    "\"COY\",\n",
    "\"DRE\",\n",
    "\"LEW\",\n",
    "\"LPY\",\n",
    "\"WRS\",\n",
    "\"BDP\",\n",
    "\"BOC\",\n",
    "\"PRS\",\n",
    "\"STP\",\n",
    "\"THC\",\n",
    "\"ALM\",\n",
    "\"ANT\",\n",
    "\"BCL\",\n",
    "\"BER\",\n",
    "\"BIT\",\n",
    "\"BLB\",\n",
    "\"BTV\",\n",
    "\"BUL\",\n",
    "\"BWN\",\n",
    "\"CFW\",\n",
    "\"CLA\",\n",
    "\"CPL\",\n",
    "\"DAV\",\n",
    "\"ENG\",\n",
    "\"EPK\",\n",
    "\"FMD\",\n",
    "\"FOL\",\n",
    "\"FRD\",\n",
    "\"FRL\",\n",
    "\"HHL\",\n",
    "\"ICH\",\n",
    "\"INV\",\n",
    "\"IRC\",\n",
    "\"JCK\",\n",
    "\"KES\",\n",
    "\"LGV\",\n",
    "\"LON\",\n",
    "\"MCO\",\n",
    "\"MMW\",\n",
    "\"NAT\",\n",
    "\"ORO\",\n",
    "\"PT6\",\n",
    "\"PT7\",\n",
    "\"RLL\",\n",
    "\"SFL\",\n",
    "\"SHA\",\n",
    "\"SLB\",\n",
    "\"SLC\",\n",
    "\"BWS\",\n",
    "\"STG\",\n",
    "\"TMT\",\n",
    "\"UNV\",\n",
    "\"WHI\",\n",
    "\"APN\",\n",
    "\"BIO\",\n",
    "\"CHB\",\n",
    "\"CRY\",\n",
    "\"CVE\",\n",
    "\"CYC\",\n",
    "\"DLV\",\n",
    "\"HNN\",\n",
    "\"KNT\",\n",
    "\"LNG\",\n",
    "\"LRA\",\n",
    "\"NCA\",\n",
    "\"SAT\",\n",
    "\"SLJ\",\n",
    "\"SNN\",\n",
    "\"SPB\",\n",
    "\"USL\",\n",
    "\"BRD\",\n",
    "\"BUC\",\n",
    "\"CHV\",\n",
    "\"CMN\",\n",
    "\"CNV\",\n",
    "\"DNP\",\n",
    "\"DON\",\n",
    "\"ENR\",\n",
    "\"EXC\",\n",
    "\"FLR\",\n",
    "\"HID\",\n",
    "\"HNT\",\n",
    "\"HTH\",\n",
    "\"JNK\",\n",
    "\"LBS\",\n",
    "\"LVQ\",\n",
    "\"LWB\",\n",
    "\"MDO\",\n",
    "\"MIL\",\n",
    "\"MPL\",\n",
    "\"NHG\",\n",
    "\"NML\",\n",
    "\"ONF\",\n",
    "\"PAR\",\n",
    "\"RDN\",\n",
    "\"RLF\",\n",
    "\"SHV\",\n",
    "\"SLS\",\n",
    "\"SNL\",\n",
    "\"SPM\",\n",
    "\"SWB\",\n",
    "\"TAE\",\n",
    "\"TLC\",\n",
    "\"TUL\",\n",
    "\"BRT\",\n",
    "\"BRV\",\n",
    "\"CAS\",\n",
    "\"CGS\",\n",
    "\"CSI\",\n",
    "\"CUY\",\n",
    "\"ELC\",\n",
    "\"HDG\",\n",
    "\"HMT\",\n",
    "\"HNS\",\n",
    "\"JNN\",\n",
    "\"LOT\",\n",
    "\"LVD\",\n",
    "\"MAT\",\n",
    "\"MHW\",\n",
    "\"MMR\",\n",
    "\"MOR\",\n",
    "\"MRR\",\n",
    "\"PRR\",\n",
    "\"PRU\",\n",
    "\"PYM\",\n",
    "\"RLC\",\n",
    "\"SGB\",\n",
    "\"SGC\",\n",
    "\"SKN\",\n",
    "\"STD\",\n",
    "\"SVT\",\n",
    "\"SW3\",\n",
    "\"VIL\",\n",
    "\"CRW\",\n",
    "\"GLK\",\n",
    "\"GNT\",\n",
    "\"HWE\",\n",
    "\"SDB\",\n",
    "\"SKR\",\n",
    "\"SLW\",\n",
    "\"TNM\",\n",
    "\"CTG\",\n",
    "\"ISB\",\n",
    "\"PNF\",\n",
    "\"SCC\",\n",
    "\"TRM\",\n",
    "\"WSN\",\n",
    "#interstate reservoirs\n",
    "\"HVS\",\"MEA\",\"MHV\",\"PWL\",\"CLK\",\"GBR\",\"KLM\"\n",
    "]"
   ]
  },
  {
   "cell_type": "markdown",
   "id": "58aa2a30-38f9-4a8b-b71d-e2215a17afad",
   "metadata": {},
   "source": [
    "Scrape historical averages for major reservoirs\n",
    "\n",
    "Example: https://cdec.water.ca.gov/dynamicapp/profile?s=ORO&type=res"
   ]
  },
  {
   "cell_type": "code",
   "execution_count": 133,
   "id": "8062c474-fbe4-43bb-bddc-3d3cbf9958c1",
   "metadata": {},
   "outputs": [],
   "source": [
    "dict_list = []\n",
    "\n",
    "df_list = []\n",
    "\n",
    "for r in major_reservoir_list:\n",
    "    # query each info page\n",
    "    url = f\"https://cdec.water.ca.gov/dynamicapp/profile?s={r}&type=res\"\n",
    "    \n",
    "    # parse the soup\n",
    "    page = requests.get(url, verify=False)\n",
    "    soup = BeautifulSoup(page.content, \"html.parser\")\n",
    "    content = soup.find(id=\"main_content\")\n",
    "    \n",
    "    # get the two tables\n",
    "    tables = content.find_all(\"table\")\n",
    "    \n",
    "    # first table: basic reservoir information\n",
    "    reservoir_information_table = tables[0]\n",
    "    \n",
    "    # second table: monthly 30-year averages\n",
    "    monthly_averages_table = tables[1]\n",
    "    \n",
    "    # parse first table\n",
    "    table1_cells = tables[0].find_all(\"td\")\n",
    "\n",
    "    d = dict(\n",
    "        reservoir_id = table1_cells[1].text,\n",
    "        dam_name = table1_cells[3].text,\n",
    "        lake_name = table1_cells[5].text,\n",
    "        stream_name = table1_cells[7].text,\n",
    "        capacity = table1_cells[9].text,\n",
    "        year_built = table1_cells[11].text,\n",
    "        year_fill = table1_cells[13].text,\n",
    "        start_year_avg = table1_cells[15].text,\n",
    "        end_year_avg = table1_cells[17].text,\n",
    "    )\n",
    "    dict_list.append(d)\n",
    "    \n",
    "    # dump it into a dataframe\n",
    "    meta_df = pd.DataFrame(dict_list)\n",
    "        \n",
    "    # dump second table into a dataframe\n",
    "    avgs_df = pd.read_html(str(tables[1]))[0]\n",
    "    \n",
    "    # name the columns\n",
    "    avgs_df.columns = ['month', 'average_storage']\n",
    "    \n",
    "    # append reservoir id\n",
    "    avgs_df['reservoir_id'] = table1_cells[1].text\n",
    "    \n",
    "    # drop empty cells\n",
    "    avgs_df = avgs_df.dropna(subset=['month', 'average_storage'])\n",
    "    \n",
    "    # append to list\n",
    "    df_list.append(avgs_df)    "
   ]
  },
  {
   "cell_type": "code",
   "execution_count": 148,
   "id": "9c17e001-2725-41a0-962b-bed396cb25e9",
   "metadata": {},
   "outputs": [
    {
     "data": {
      "text/plain": [
       "161"
      ]
     },
     "execution_count": 148,
     "metadata": {},
     "output_type": "execute_result"
    }
   ],
   "source": [
    "len(meta_df)"
   ]
  },
  {
   "cell_type": "markdown",
   "id": "7534ae3c-9f9f-428e-bd14-5556fdf94aa5",
   "metadata": {},
   "source": [
    "Check if all the start years are 1991 and all the end years are 2020"
   ]
  },
  {
   "cell_type": "code",
   "execution_count": null,
   "id": "b3ca5c1d-ff0a-4212-a050-67cc87279ae3",
   "metadata": {},
   "outputs": [],
   "source": [
    "meta_df.start_year_avg.unique()"
   ]
  },
  {
   "cell_type": "code",
   "execution_count": 142,
   "id": "515bbb8b-0ba3-42a8-accc-4dd94e1f20a5",
   "metadata": {},
   "outputs": [],
   "source": [
    "#meta_df[meta_df.start_year_avg == \"1973\"]"
   ]
  },
  {
   "cell_type": "code",
   "execution_count": 136,
   "id": "ca7db264-2ce6-4d06-aa6b-bf513e2fe95c",
   "metadata": {},
   "outputs": [
    {
     "data": {
      "text/plain": [
       "array(['2020'], dtype=object)"
      ]
     },
     "execution_count": 136,
     "metadata": {},
     "output_type": "execute_result"
    }
   ],
   "source": [
    "meta_df.end_year_avg.unique()"
   ]
  },
  {
   "cell_type": "code",
   "execution_count": 143,
   "id": "43de4f8f-0574-4fed-b895-adbcf45e540d",
   "metadata": {},
   "outputs": [],
   "source": [
    "#meta_df[meta_df.end_year_avg == \"1992\"]"
   ]
  },
  {
   "cell_type": "code",
   "execution_count": 157,
   "id": "a53ec1e9-face-4106-82e7-71084051e222",
   "metadata": {},
   "outputs": [
    {
     "data": {
      "text/plain": [
       "161"
      ]
     },
     "execution_count": 157,
     "metadata": {},
     "output_type": "execute_result"
    }
   ],
   "source": [
    "len(meta_df[meta_df.capacity.str.contains(\"af\")])"
   ]
  },
  {
   "cell_type": "markdown",
   "id": "8f8817dc-ba48-4ce1-b7be-82a8f8bbedde",
   "metadata": {},
   "source": [
    "Make sure all capacity values are in acre feet"
   ]
  },
  {
   "cell_type": "code",
   "execution_count": 160,
   "id": "05d01359-081f-4ff4-b2f8-6c57ed786f2d",
   "metadata": {},
   "outputs": [],
   "source": [
    "meta_df[\"capacity_value\"] = meta_df[\"capacity\"].str.split(\" \").str[0]"
   ]
  },
  {
   "cell_type": "code",
   "execution_count": 162,
   "id": "8391cb80-8b94-466d-835c-693d34ba1f78",
   "metadata": {},
   "outputs": [],
   "source": [
    "meta_df[\"capacity_unit\"] = meta_df[\"capacity\"].str.split(\" \").str[1]"
   ]
  },
  {
   "cell_type": "code",
   "execution_count": 164,
   "id": "5fa1ffb3-81a8-4cf8-bfe2-d8aeb50e9eb3",
   "metadata": {},
   "outputs": [
    {
     "data": {
      "text/plain": [
       "array(['af'], dtype=object)"
      ]
     },
     "execution_count": 164,
     "metadata": {},
     "output_type": "execute_result"
    }
   ],
   "source": [
    "meta_df.capacity_unit.unique()"
   ]
  },
  {
   "cell_type": "markdown",
   "id": "b7765e96-1e8e-4da9-b08b-482ca489e646",
   "metadata": {},
   "source": [
    "Clean capacity value column"
   ]
  },
  {
   "cell_type": "code",
   "execution_count": 166,
   "id": "78ea8960-7f43-4b62-902f-2e2abe1391eb",
   "metadata": {},
   "outputs": [],
   "source": [
    "meta_df[\"capacity_value\"] = pd.to_numeric(meta_df[\"capacity_value\"].str.replace(\",\",\"\"))"
   ]
  },
  {
   "cell_type": "markdown",
   "id": "99e52057-b3c9-4cdb-b25d-a31ee2f12670",
   "metadata": {},
   "source": [
    "Mark interstate reservoirs"
   ]
  },
  {
   "cell_type": "code",
   "execution_count": 200,
   "id": "4f445aa5-b959-404f-b44f-e05280aa2fdd",
   "metadata": {},
   "outputs": [],
   "source": [
    "meta_df[\"is_interstate\"] = False"
   ]
  },
  {
   "cell_type": "code",
   "execution_count": 201,
   "id": "e9cec102-7508-4bf0-a4ae-869843f3ca8e",
   "metadata": {},
   "outputs": [],
   "source": [
    "meta_df.loc[\n",
    "    meta_df.reservoir_id.isin([\"HVS\",\"MEA\",\"MHV\",\"PWL\",\"CLK\",\"GBR\",\"KLM\"]),\n",
    "    \"is_interstate\"\n",
    "] = True"
   ]
  },
  {
   "cell_type": "code",
   "execution_count": 202,
   "id": "f54a9ef7-7e92-462f-b26b-e29b85eebd8a",
   "metadata": {},
   "outputs": [
    {
     "data": {
      "text/plain": [
       "38118021"
      ]
     },
     "execution_count": 202,
     "metadata": {},
     "output_type": "execute_result"
    }
   ],
   "source": [
    "meta_df[meta_df.is_interstate == False ].capacity_value.sum()"
   ]
  },
  {
   "cell_type": "code",
   "execution_count": 138,
   "id": "cad4be01-70be-4a32-a6e4-8b1ba953dbca",
   "metadata": {},
   "outputs": [],
   "source": [
    "historical_averages_df = pd.concat(df_list)"
   ]
  },
  {
   "cell_type": "markdown",
   "id": "0e527516-528d-479b-9264-fd618e40d63c",
   "metadata": {},
   "source": [
    "Make sure all capacity values are in acre feet"
   ]
  },
  {
   "cell_type": "code",
   "execution_count": 174,
   "id": "1cd88f43-7ab5-4a66-a452-ce5951af0e3c",
   "metadata": {},
   "outputs": [],
   "source": [
    "historical_averages_df[\"average_storage_value\"] = historical_averages_df[\"average_storage\"].str.split(\" \").str[0]"
   ]
  },
  {
   "cell_type": "code",
   "execution_count": 178,
   "id": "c8573e01-2005-4025-9eda-0a622ca5ac4d",
   "metadata": {},
   "outputs": [],
   "source": [
    "historical_averages_df[\"average_storage_unit\"] = historical_averages_df[\"average_storage\"].str.split(\" \").str[1]"
   ]
  },
  {
   "cell_type": "code",
   "execution_count": 180,
   "id": "09b830b4-bc0a-4720-956d-d4232e0a3c0d",
   "metadata": {},
   "outputs": [
    {
     "data": {
      "text/plain": [
       "array(['af'], dtype=object)"
      ]
     },
     "execution_count": 180,
     "metadata": {},
     "output_type": "execute_result"
    }
   ],
   "source": [
    "historical_averages_df.average_storage_unit.unique()"
   ]
  },
  {
   "cell_type": "markdown",
   "id": "787bb92d-41fd-413a-bf70-83953cfe90c3",
   "metadata": {},
   "source": [
    "Clean capacity value column"
   ]
  },
  {
   "cell_type": "code",
   "execution_count": 181,
   "id": "99c3659c-ab6c-4e81-8e96-a54eb0e56fff",
   "metadata": {},
   "outputs": [],
   "source": [
    "historical_averages_df[\"average_storage_value\"] = pd.to_numeric(historical_averages_df[\"average_storage_value\"].str.replace(\",\",\"\"))"
   ]
  },
  {
   "cell_type": "markdown",
   "id": "60cf6df9-7623-4d90-b12d-730ff8ad772d",
   "metadata": {},
   "source": [
    "Mark intrastate reservoirs, such as those on the Colorado River and some near/in Oregon"
   ]
  },
  {
   "cell_type": "code",
   "execution_count": 195,
   "id": "2642bd86-7517-4dca-9f2c-0104f87fe14d",
   "metadata": {},
   "outputs": [],
   "source": [
    "intrastate_res = historical_averages_df[\n",
    "    ~historical_averages_df.reservoir_id.isin([\"HVS\",\"MEA\",\"MHV\",\"PWL\",\"CLK\",\"GBR\",\"KLM\"])\n",
    "]"
   ]
  },
  {
   "cell_type": "code",
   "execution_count": 204,
   "id": "a33a354d-de30-413e-8829-f6d7cf6dd67b",
   "metadata": {},
   "outputs": [
    {
     "data": {
      "text/plain": [
       "27902990"
      ]
     },
     "execution_count": 204,
     "metadata": {},
     "output_type": "execute_result"
    }
   ],
   "source": [
    "intrastate_res[intrastate_res.month == \"June\"].average_storage_value.sum()"
   ]
  },
  {
   "cell_type": "code",
   "execution_count": 205,
   "id": "e0470b45-cab8-4cf8-958d-5ec3317be5c7",
   "metadata": {},
   "outputs": [],
   "source": [
    "meta_df[\"url\"] = \"https://cdec.water.ca.gov/dynamicapp/profile?s=\" + meta_df[\"reservoir_id\"] + \"&type=res\""
   ]
  },
  {
   "cell_type": "code",
   "execution_count": 206,
   "id": "f9a7fa57-7f31-4ccf-bd59-57a73171b374",
   "metadata": {},
   "outputs": [],
   "source": [
    "meta_df.to_csv(\"../data/metadata/reservoirs-details.csv\", index=False)"
   ]
  },
  {
   "cell_type": "code",
   "execution_count": 207,
   "id": "155ba3bc-14a5-411c-bb08-34d47cd4144a",
   "metadata": {},
   "outputs": [],
   "source": [
    "historical_averages_df.to_csv(\"../data/metadata/reservoirs-historical-averages.csv\", index=False)"
   ]
  }
 ],
 "metadata": {
  "kernelspec": {
   "display_name": "Python 3 (ipykernel)",
   "language": "python",
   "name": "python3"
  },
  "language_info": {
   "codemirror_mode": {
    "name": "ipython",
    "version": 3
   },
   "file_extension": ".py",
   "mimetype": "text/x-python",
   "name": "python",
   "nbconvert_exporter": "python",
   "pygments_lexer": "ipython3",
   "version": "3.9.6"
  }
 },
 "nbformat": 4,
 "nbformat_minor": 5
}
