{
 "cells": [
  {
   "cell_type": "code",
   "execution_count": 1,
   "id": "66826526-4ecc-429b-b8db-bef7ef39e7d6",
   "metadata": {},
   "outputs": [],
   "source": [
    "import pytz\n",
    "import requests\n",
    "import pandas as pd\n",
    "from bs4 import BeautifulSoup\n",
    "from playwright.async_api import async_playwright\n",
    "from datetime import datetime, date, timedelta\n",
    "import altair as alt\n",
    "import altair_latimes as lat"
   ]
  },
  {
   "cell_type": "code",
   "execution_count": 2,
   "id": "61c64214-6033-43d8-b967-7f3b50d1d7e0",
   "metadata": {},
   "outputs": [],
   "source": [
    "from requests.packages.urllib3.exceptions import InsecureRequestWarning\n",
    "requests.packages.urllib3.disable_warnings(InsecureRequestWarning)"
   ]
  },
  {
   "cell_type": "markdown",
   "id": "b06ffbe3-26da-413c-9d00-05c73d8e4469",
   "metadata": {},
   "source": [
    "---"
   ]
  },
  {
   "cell_type": "markdown",
   "id": "58aa2a30-38f9-4a8b-b71d-e2215a17afad",
   "metadata": {},
   "source": [
    "Scrape metadata of reservoirs serving California from https://cdec.water.ca.gov/reportapp/javareports?name=ResInfo"
   ]
  },
  {
   "cell_type": "code",
   "execution_count": 3,
   "id": "43de4f8f-0574-4fed-b895-adbcf45e540d",
   "metadata": {},
   "outputs": [],
   "source": [
    "url = \"https://cdec.water.ca.gov/reportapp/javareports?name=ResInfo\""
   ]
  },
  {
   "cell_type": "code",
   "execution_count": 4,
   "id": "f254b1ce-53cc-4f12-9973-5bfdab9dbaed",
   "metadata": {},
   "outputs": [],
   "source": [
    "page = requests.get(url, verify=False)"
   ]
  },
  {
   "cell_type": "code",
   "execution_count": 5,
   "id": "1c41bf55-d005-407d-ab2b-cc300d7fe452",
   "metadata": {},
   "outputs": [],
   "source": [
    "soup = BeautifulSoup(page.content, \"html.parser\")"
   ]
  },
  {
   "cell_type": "code",
   "execution_count": 6,
   "id": "78d287c8-3bb1-4b4f-b68e-adab2b8bd693",
   "metadata": {},
   "outputs": [],
   "source": [
    "table = soup.find(id='RESINFO_LIST')"
   ]
  },
  {
   "cell_type": "code",
   "execution_count": 7,
   "id": "beb116d8-a274-440b-8fde-0b6cbd9f5eca",
   "metadata": {},
   "outputs": [],
   "source": [
    "def safetxt(element):\n",
    "    v = element.text.strip()\n",
    "    v = v.replace(\"\\u200b\", \"\")\n",
    "    return v"
   ]
  },
  {
   "cell_type": "code",
   "execution_count": 8,
   "id": "16837197-bffa-473f-b63d-066867eb9551",
   "metadata": {},
   "outputs": [],
   "source": [
    "def safenumber(element):\n",
    "    v = safetxt(element)\n",
    "    v = v.replace(\",\", \"\")\n",
    "    v = v.replace(\" \", \"\")\n",
    "    return v"
   ]
  },
  {
   "cell_type": "code",
   "execution_count": 9,
   "id": "812295e4-0303-43f2-9f14-75f7ad8bdfb5",
   "metadata": {},
   "outputs": [],
   "source": [
    "def parse_table(soup):\n",
    "    #tbody = soup.tbody\n",
    "    row_list = table.find_all(\"tr\")[1:]\n",
    "    dict_list = []\n",
    "    for row in row_list:\n",
    "        cell_list = row.find_all(\"td\")\n",
    "        d = dict(\n",
    "            id=safetxt(cell_list[0]),\n",
    "            dam=safetxt(cell_list[1]),\n",
    "            lake=safetxt(cell_list[2]),\n",
    "            stream=safetxt(cell_list[3]),\n",
    "            capacity=safenumber(cell_list[4]),\n",
    "        )\n",
    "        dict_list.append(d)\n",
    "    df = pd.DataFrame(dict_list)\n",
    "    df[\"date\"] = latest_date\n",
    "    return df"
   ]
  },
  {
   "cell_type": "code",
   "execution_count": 10,
   "id": "5b6358c9-f387-48b8-ad3a-5a89a0147c30",
   "metadata": {},
   "outputs": [],
   "source": [
    "row_list = table.find_all(\"tr\")[2:]\n",
    "dict_list = []\n",
    "for row in row_list:\n",
    "    cell_list = row.find_all(\"td\")\n",
    "    d = dict(\n",
    "        id=safetxt(cell_list[0]),\n",
    "        name=safetxt(cell_list[1]),\n",
    "        lake=safetxt(cell_list[2]),\n",
    "        stream=safetxt(cell_list[3]),\n",
    "        capacity=safenumber(cell_list[4]),\n",
    "    )\n",
    "    dict_list.append(d)"
   ]
  },
  {
   "cell_type": "code",
   "execution_count": 11,
   "id": "b700f110-5478-4b64-9e74-cb9a9870a77e",
   "metadata": {},
   "outputs": [],
   "source": [
    "metadata_df = pd.DataFrame(dict_list)"
   ]
  },
  {
   "cell_type": "code",
   "execution_count": 12,
   "id": "e0470b45-cab8-4cf8-958d-5ec3317be5c7",
   "metadata": {},
   "outputs": [],
   "source": [
    "metadata_df[\"url\"] = \"https://cdec.water.ca.gov/dynamicapp/staMeta?station_id=\" + metadata_df[\"id\"]"
   ]
  },
  {
   "cell_type": "code",
   "execution_count": 13,
   "id": "f9a7fa57-7f31-4ccf-bd59-57a73171b374",
   "metadata": {},
   "outputs": [],
   "source": [
    "metadata_df.to_csv(\"../data/metadata/reservoirs-metadata.csv\", index=False)"
   ]
  },
  {
   "cell_type": "markdown",
   "id": "1c233c35-c538-446b-92b4-500931d75890",
   "metadata": {},
   "source": [
    "---\n",
    "Scrape detail pages for each reservoir"
   ]
  },
  {
   "cell_type": "code",
   "execution_count": 14,
   "id": "82076e2d-0ff6-4d2b-8b3b-05c61eb2224e",
   "metadata": {},
   "outputs": [],
   "source": [
    "reservoir_urls = list(metadata_df.url)"
   ]
  },
  {
   "cell_type": "code",
   "execution_count": 15,
   "id": "abdf279a-0b22-4e75-9ef9-cae9e96b1daa",
   "metadata": {},
   "outputs": [
    {
     "name": "stdout",
     "output_type": "stream",
     "text": [
      "APN\n",
      "ANT\n",
      "AST\n",
      "BRT\n",
      "BAR\n",
      "BRV\n",
      "BRD\n",
      "BTH\n",
      "BLB\n",
      "BOC\n",
      "BMP\n",
      "BQC\n",
      "BWN\n",
      "BWS\n",
      "BDP\n",
      "BIO\n",
      "BHC\n",
      "BUC\n",
      "BIL\n",
      "BCL\n",
      "BTV\n",
      "CCH\n",
      "CVE\n",
      "CRO\n",
      "CMN\n",
      "CMI\n",
      "CFW\n",
      "ALM\n",
      "CPL\n",
      "CSI\n",
      "CAS\n",
      "SLW\n",
      "CHB\n",
      "CHV\n",
      "JNN\n",
      "CLK\n",
      "CLA\n",
      "CLC\n",
      "CGS\n",
      "CMB\n",
      "CTG\n",
      "CYC\n",
      "COY\n",
      "CNV\n",
      "CUY\n",
      "MHV\n",
      "DLV\n",
      "DMV\n",
      "DNP\n",
      "DON\n",
      "DNN\n",
      "DNL\n",
      "DRE\n",
      "EPK\n",
      "ELC\n",
      "ENR\n",
      "EJC\n",
      "ENG\n",
      "FRM\n",
      "FLR\n",
      "FOL\n",
      "FRL\n",
      "FMD\n",
      "FRD\n",
      "MIL\n",
      "GLK\n",
      "GBR\n",
      "GLL\n",
      "GBL\n",
      "PWL\n",
      "GDW\n",
      "GNT\n",
      "DAV\n",
      "GDR\n",
      "HWE\n",
      "HNS\n",
      "HID\n",
      "MEA\n",
      "HNT\n",
      "ICH\n",
      "INP\n",
      "INL\n",
      "MMW\n",
      "INV\n",
      "IRC\n",
      "ISB\n",
      "JCK\n",
      "ATN\n",
      "LNG\n",
      "JML\n",
      "JNC\n",
      "KNT\n",
      "KKR\n",
      "KES\n",
      "LGR\n",
      "LFY\n",
      "LGT\n",
      "LEA\n",
      "LKF\n",
      "HMT\n",
      "HNN\n",
      "HDG\n",
      "LVD\n",
      "THC\n",
      "LVY\n",
      "LRA\n",
      "LEW\n",
      "LGV\n",
      "LRK\n",
      "CRW\n",
      "LON\n",
      "LOP\n",
      "LBS\n",
      "LVQ\n",
      "LWB\n",
      "CRY\n",
      "HHL\n",
      "LYS\n",
      "SWB\n",
      "MPL\n",
      "MAR\n",
      "EDN\n",
      "MRT\n",
      "MAT\n",
      "MHW\n",
      "MCO\n",
      "MCS\n",
      "MMR\n",
      "MDO\n",
      "BER\n",
      "MOR\n",
      "MRR\n",
      "NCM\n",
      "NAT\n",
      "BUL\n",
      "EXC\n",
      "NHG\n",
      "NML\n",
      "SPM\n",
      "NWL\n",
      "NCA\n",
      "ONF\n",
      "HTH\n",
      "OLH\n",
      "ORO\n",
      "LOT\n",
      "OWN\n",
      "PAR\n",
      "HVS\n",
      "PRR\n",
      "LPY\n",
      "PNF\n",
      "PT6\n",
      "PT7\n",
      "BIT\n",
      "PVP\n",
      "PRA\n",
      "PRS\n",
      "PYM\n",
      "QUL\n",
      "RLC\n",
      "RDN\n",
      "RLF\n",
      "RLL\n",
      "RBL\n",
      "RTD\n",
      "SDB\n",
      "SLN\n",
      "SLS\n",
      "SNN\n",
      "SAT\n",
      "SGB\n",
      "SNL\n",
      "LUS\n",
      "SLF\n",
      "SPB\n",
      "SVT\n",
      "PRU\n",
      "SGC\n",
      "SCD\n",
      "SFL\n",
      "SVO\n",
      "SHA\n",
      "SHV\n",
      "SIV\n",
      "SKN\n",
      "SLB\n",
      "SLC\n",
      "JNK\n",
      "SOL\n",
      "SLJ\n",
      "SKR\n",
      "SLK\n",
      "SPG\n",
      "SPC\n",
      "STP\n",
      "SWV\n",
      "SEC\n",
      "STG\n",
      "SCC\n",
      "STD\n",
      "SW3\n",
      "TRM\n",
      "TAB\n",
      "TMT\n",
      "THD\n",
      "TNM\n",
      "CLE\n",
      "TUL\n",
      "TLC\n",
      "TWT\n",
      "UNV\n",
      "KLM\n",
      "SJT\n",
      "USL\n",
      "UTI\n",
      "UVA\n",
      "VIL\n",
      "VAR\n",
      "TAE\n",
      "EDN\n",
      "VLP\n",
      "WRS\n",
      "WHR\n",
      "WHI\n",
      "WSN\n"
     ]
    }
   ],
   "source": [
    "dict_list = []\n",
    "for url in reservoir_urls:\n",
    "    page = requests.get(url, verify=False)\n",
    "    soup = BeautifulSoup(page.content, \"html.parser\")\n",
    "    # lol\n",
    "    table = soup.find(border='1')\n",
    "    try:\n",
    "        cell_list = table.find_all(\"td\")\n",
    "        print(safetxt(cell_list[1]))        \n",
    "        d = dict(\n",
    "            id=safetxt(cell_list[1]),\n",
    "            elevation=safenumber(cell_list[3]),\n",
    "            basin=safetxt(cell_list[5]),\n",
    "            county=safetxt(cell_list[7]),\n",
    "            hydrologic_region=safetxt(cell_list[9]),\n",
    "            nearby_city=safetxt(cell_list[11]),\n",
    "            lat=safetxt(cell_list[13]),\n",
    "            lon=safetxt(cell_list[15]),\n",
    "            operator=safetxt(cell_list[17]),\n",
    "            maintenance=safetxt(cell_list[19]),\n",
    "        )\n",
    "        dict_list.append(d)\n",
    "    \n",
    "    except AttributeError:\n",
    "        pass"
   ]
  },
  {
   "cell_type": "code",
   "execution_count": 16,
   "id": "002247ef-8b3e-4de6-9140-56fb1fc54c90",
   "metadata": {},
   "outputs": [
    {
     "data": {
      "text/plain": [
       "226"
      ]
     },
     "execution_count": 16,
     "metadata": {},
     "output_type": "execute_result"
    }
   ],
   "source": [
    "len(dict_list)"
   ]
  },
  {
   "cell_type": "code",
   "execution_count": 17,
   "id": "52c01c26-f43c-4633-a964-6c9c5e6033a3",
   "metadata": {},
   "outputs": [],
   "source": [
    "df_list = []\n",
    "for d in dict_list:\n",
    "    df = pd.DataFrame(d, index=[0])\n",
    "    df_list.append(df)"
   ]
  },
  {
   "cell_type": "code",
   "execution_count": 18,
   "id": "31b3e516-7905-415d-95f9-04ce113b3b52",
   "metadata": {},
   "outputs": [],
   "source": [
    "df_details = pd.concat(df_list)"
   ]
  },
  {
   "cell_type": "code",
   "execution_count": 19,
   "id": "5868a85f-35ed-44ec-976f-1d49dcb7626d",
   "metadata": {},
   "outputs": [],
   "source": [
    "df_details.to_csv(\"../data/metadata/reservoirs-details.csv\", index=False)"
   ]
  },
  {
   "cell_type": "markdown",
   "id": "2dbef754-871a-4adb-84f2-aa7ec578a22e",
   "metadata": {},
   "source": [
    "---\n",
    "### Merge"
   ]
  },
  {
   "cell_type": "code",
   "execution_count": 20,
   "id": "f32b53c5-8c2d-45ae-b104-e9ada6ddc182",
   "metadata": {},
   "outputs": [],
   "source": [
    "merge = pd.merge(metadata_df, df_details, how=\"left\", on=\"id\")"
   ]
  },
  {
   "cell_type": "code",
   "execution_count": 21,
   "id": "78672954-09c7-422d-863e-33cc557f7e08",
   "metadata": {},
   "outputs": [
    {
     "data": {
      "text/plain": [
       "227"
      ]
     },
     "execution_count": 21,
     "metadata": {},
     "output_type": "execute_result"
    }
   ],
   "source": [
    "len(metadata_df)"
   ]
  },
  {
   "cell_type": "code",
   "execution_count": 24,
   "id": "5f931325-1999-42d1-8000-379e4be17e81",
   "metadata": {},
   "outputs": [
    {
     "data": {
      "text/plain": [
       "226"
      ]
     },
     "execution_count": 24,
     "metadata": {},
     "output_type": "execute_result"
    }
   ],
   "source": [
    "len(df_details)"
   ]
  },
  {
   "cell_type": "code",
   "execution_count": 30,
   "id": "0e7ee830-65cc-4d16-85e8-4dd93172b821",
   "metadata": {},
   "outputs": [
    {
     "data": {
      "text/html": [
       "<div>\n",
       "<style scoped>\n",
       "    .dataframe tbody tr th:only-of-type {\n",
       "        vertical-align: middle;\n",
       "    }\n",
       "\n",
       "    .dataframe tbody tr th {\n",
       "        vertical-align: top;\n",
       "    }\n",
       "\n",
       "    .dataframe thead th {\n",
       "        text-align: right;\n",
       "    }\n",
       "</style>\n",
       "<table border=\"1\" class=\"dataframe\">\n",
       "  <thead>\n",
       "    <tr style=\"text-align: right;\">\n",
       "      <th></th>\n",
       "      <th>id</th>\n",
       "      <th>name</th>\n",
       "      <th>lake</th>\n",
       "      <th>stream</th>\n",
       "      <th>capacity</th>\n",
       "      <th>url</th>\n",
       "      <th>elevation</th>\n",
       "      <th>basin</th>\n",
       "      <th>county</th>\n",
       "      <th>hydrologic_region</th>\n",
       "      <th>nearby_city</th>\n",
       "      <th>lat</th>\n",
       "      <th>lon</th>\n",
       "      <th>operator</th>\n",
       "      <th>maintenance</th>\n",
       "    </tr>\n",
       "  </thead>\n",
       "  <tbody>\n",
       "    <tr>\n",
       "      <th>136</th>\n",
       "      <td>MCR</td>\n",
       "      <td>New Exchequer</td>\n",
       "      <td>Lake McClure</td>\n",
       "      <td>Merced River</td>\n",
       "      <td>1024600</td>\n",
       "      <td>https://cdec.water.ca.gov/dynamicapp/staMeta?s...</td>\n",
       "      <td>NaN</td>\n",
       "      <td>NaN</td>\n",
       "      <td>NaN</td>\n",
       "      <td>NaN</td>\n",
       "      <td>NaN</td>\n",
       "      <td>NaN</td>\n",
       "      <td>NaN</td>\n",
       "      <td>NaN</td>\n",
       "      <td>NaN</td>\n",
       "    </tr>\n",
       "    <tr>\n",
       "      <th>222</th>\n",
       "      <td>EDS</td>\n",
       "      <td>Vermillion Valley</td>\n",
       "      <td>Thomas A. Edison Lake</td>\n",
       "      <td>S Fork San Joaquin River</td>\n",
       "      <td>125000</td>\n",
       "      <td>https://cdec.water.ca.gov/dynamicapp/staMeta?s...</td>\n",
       "      <td>NaN</td>\n",
       "      <td>NaN</td>\n",
       "      <td>NaN</td>\n",
       "      <td>NaN</td>\n",
       "      <td>NaN</td>\n",
       "      <td>NaN</td>\n",
       "      <td>NaN</td>\n",
       "      <td>NaN</td>\n",
       "      <td>NaN</td>\n",
       "    </tr>\n",
       "  </tbody>\n",
       "</table>\n",
       "</div>"
      ],
      "text/plain": [
       "      id               name                   lake                    stream  \\\n",
       "136  MCR      New Exchequer           Lake McClure              Merced River   \n",
       "222  EDS  Vermillion Valley  Thomas A. Edison Lake  S Fork San Joaquin River   \n",
       "\n",
       "    capacity                                                url elevation  \\\n",
       "136  1024600  https://cdec.water.ca.gov/dynamicapp/staMeta?s...       NaN   \n",
       "222   125000  https://cdec.water.ca.gov/dynamicapp/staMeta?s...       NaN   \n",
       "\n",
       "    basin county hydrologic_region nearby_city  lat  lon operator maintenance  \n",
       "136   NaN    NaN               NaN         NaN  NaN  NaN      NaN         NaN  \n",
       "222   NaN    NaN               NaN         NaN  NaN  NaN      NaN         NaN  "
      ]
     },
     "execution_count": 30,
     "metadata": {},
     "output_type": "execute_result"
    }
   ],
   "source": [
    "merge[merge.hydrologic_region.isna()]"
   ]
  },
  {
   "cell_type": "code",
   "execution_count": 31,
   "id": "1510f778-b21a-4340-ae44-3998cd85491d",
   "metadata": {},
   "outputs": [],
   "source": [
    "merge.to_csv(\"../data/metadata/reservoirs-metadata-details.csv\", index=False)"
   ]
  }
 ],
 "metadata": {
  "kernelspec": {
   "display_name": "Python 3 (ipykernel)",
   "language": "python",
   "name": "python3"
  },
  "language_info": {
   "codemirror_mode": {
    "name": "ipython",
    "version": 3
   },
   "file_extension": ".py",
   "mimetype": "text/x-python",
   "name": "python",
   "nbconvert_exporter": "python",
   "pygments_lexer": "ipython3",
   "version": "3.9.6"
  }
 },
 "nbformat": 4,
 "nbformat_minor": 5
}
