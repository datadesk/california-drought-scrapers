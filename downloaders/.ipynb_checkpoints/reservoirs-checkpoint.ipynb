{
 "cells": [
  {
   "cell_type": "code",
   "execution_count": 101,
   "id": "66826526-4ecc-429b-b8db-bef7ef39e7d6",
   "metadata": {},
   "outputs": [],
   "source": [
    "import pytz\n",
    "import requests\n",
    "import pandas as pd\n",
    "from playwright.async_api import async_playwright\n",
    "from datetime import datetime, date, timedelta\n",
    "import altair as alt\n",
    "import altair_latimes as lat"
   ]
  },
  {
   "cell_type": "markdown",
   "id": "58aa2a30-38f9-4a8b-b71d-e2215a17afad",
   "metadata": {},
   "source": [
    "Scrape storage data of major reservoirs from https://cdec.water.ca.gov/dynamicapp/QueryDaily"
   ]
  },
  {
   "cell_type": "markdown",
   "id": "b06ffbe3-26da-413c-9d00-05c73d8e4469",
   "metadata": {},
   "source": [
    "---"
   ]
  },
  {
   "cell_type": "markdown",
   "id": "0debe4c7-63f1-4ef2-9486-7a706c355362",
   "metadata": {},
   "source": [
    "List of reservoir IDs"
   ]
  },
  {
   "cell_type": "code",
   "execution_count": 102,
   "id": "24011a21-79cf-4726-ad90-0a4c4c4c5fac",
   "metadata": {},
   "outputs": [],
   "source": [
    "reservoir_list = [\n",
    "    \"SHA\", # Shasta\n",
    "    \"ORO\", # Oroville\n",
    "    \"BUL\", # New Bullards Bar\n",
    "    \"FOL\", # Folsom\n",
    "    \"CLE\", # Trinity\n",
    "    \"CMN\", # Camanche\n",
    "    \"WRS\", # Sonoma\n",
    "    \"SNL\", #San Luis\n",
    "    \"NML\", # New Melones\n",
    "    \"DNP\", # Don Pedro\n",
    "    \"CCH\", # Cachuma\n",
    "    \"CSI\", # Casitas\n",
    "    \"EXC\", # McClur\n",
    "    \"MIL\", # Millerton\n",
    "    \"PNF\", # Pine Flat\n",
    "    \"CAS\", # Castaic\n",
    "    \"DMV\", # Diamond Valley Lake\n",
    "    #\"MHW\", # Lake Matthews\n",
    "    #\"SLW\", # Silverwood Lake\n",
    "    #\"SKN\", # Lake Skinner\n",
    "    #\"PRR\", # Lake Perris\n",
    "]"
   ]
  },
  {
   "cell_type": "markdown",
   "id": "a7212506-1e62-49bc-b8a9-a48a678a7b2b",
   "metadata": {},
   "source": [
    "Get current date"
   ]
  },
  {
   "cell_type": "code",
   "execution_count": 103,
   "id": "b8dac93a-1a9d-46f0-b252-a9384a540c6b",
   "metadata": {},
   "outputs": [],
   "source": [
    "tz = pytz.timezone(\"America/Los_Angeles\")"
   ]
  },
  {
   "cell_type": "code",
   "execution_count": 104,
   "id": "96ef4f6f-8b05-4fbd-bcd9-a74ba57cc02d",
   "metadata": {},
   "outputs": [],
   "source": [
    "today = datetime.now(tz).date()"
   ]
  },
  {
   "cell_type": "code",
   "execution_count": 105,
   "id": "58624e2d-52f6-4aa1-b57e-acbd039ea5fe",
   "metadata": {},
   "outputs": [
    {
     "name": "stdout",
     "output_type": "stream",
     "text": [
      "Downloading data for SHASTA DAM  (USBR) (SHA) from https://cdec.water.ca.gov/dynamicapp/QueryDaily?s=SHA&end=2022-05-27\n",
      "Done!\n",
      "Downloading data for OROVILLE DAM (ORO) from https://cdec.water.ca.gov/dynamicapp/QueryDaily?s=ORO&end=2022-05-27\n",
      "Done!\n",
      "Downloading data for NEW BULLARDS BAR (BUL) from https://cdec.water.ca.gov/dynamicapp/QueryDaily?s=BUL&end=2022-05-27\n",
      "Done!\n",
      "Downloading data for FOLSOM LAKE (FOL) from https://cdec.water.ca.gov/dynamicapp/QueryDaily?s=FOL&end=2022-05-27\n",
      "Done!\n",
      "Downloading data for TRINITY LAKE (CLE) from https://cdec.water.ca.gov/dynamicapp/QueryDaily?s=CLE&end=2022-05-27\n",
      "Done!\n",
      "Downloading data for CAMANCHE RESERVOIR (CMN) from https://cdec.water.ca.gov/dynamicapp/QueryDaily?s=CMN&end=2022-05-27\n",
      "Done!\n",
      "Downloading data for WARM SPRINGS (USACE) (WRS) from https://cdec.water.ca.gov/dynamicapp/QueryDaily?s=WRS&end=2022-05-27\n",
      "Done!\n",
      "Downloading data for SAN LUIS RESERVOIR (SNL) from https://cdec.water.ca.gov/dynamicapp/QueryDaily?s=SNL&end=2022-05-27\n",
      "Done!\n",
      "Downloading data for NEW MELONES RESERVOIR (NML) from https://cdec.water.ca.gov/dynamicapp/QueryDaily?s=NML&end=2022-05-27\n",
      "Done!\n",
      "Downloading data for DON PEDRO RESERVOIR (DNP) from https://cdec.water.ca.gov/dynamicapp/QueryDaily?s=DNP&end=2022-05-27\n",
      "Done!\n",
      "Downloading data for CACHUMA LAKE (CCH) from https://cdec.water.ca.gov/dynamicapp/QueryDaily?s=CCH&end=2022-05-27\n",
      "Done!\n",
      "Downloading data for CASITAS (CSI) from https://cdec.water.ca.gov/dynamicapp/QueryDaily?s=CSI&end=2022-05-27\n",
      "Done!\n",
      "Downloading data for NEW EXCHEQUER-LK MCCLURE (EXC) from https://cdec.water.ca.gov/dynamicapp/QueryDaily?s=EXC&end=2022-05-27\n",
      "Done!\n",
      "Downloading data for FRIANT DAM (MILLERTON) (MIL) from https://cdec.water.ca.gov/dynamicapp/QueryDaily?s=MIL&end=2022-05-27\n",
      "Done!\n",
      "Downloading data for PINE FLAT DAM (PNF) from https://cdec.water.ca.gov/dynamicapp/QueryDaily?s=PNF&end=2022-05-27\n",
      "Done!\n",
      "Downloading data for CASTAIC (CAS) from https://cdec.water.ca.gov/dynamicapp/QueryDaily?s=CAS&end=2022-05-27\n",
      "Done!\n",
      "Downloading data for DIAMOND VALLEY (DMV) from https://cdec.water.ca.gov/dynamicapp/QueryDaily?s=DMV&end=2022-05-27\n",
      "Done!\n"
     ]
    }
   ],
   "source": [
    "async with async_playwright() as playwright:\n",
    "    browser = await playwright.chromium.launch()\n",
    "    context = await browser.new_context(accept_downloads=True)\n",
    "\n",
    "    # Open new page\n",
    "    page = await context.new_page()\n",
    "\n",
    "    df_list = []\n",
    "\n",
    "    # Query database\n",
    "    for res in reservoir_list:\n",
    "        \n",
    "        # url to query\n",
    "        url = await page.goto(f\"https://cdec.water.ca.gov/dynamicapp/QueryDaily?s={res}&end={today}\")\n",
    "\n",
    "        # get CSV download\n",
    "        download_csv_button = \"button.buttons-csv\"\n",
    "        await page.wait_for_selector(download_csv_button)\n",
    "        await page.wait_for_function(\n",
    "            f\"document.querySelector('{download_csv_button}').textContent\"\n",
    "        )\n",
    "        \n",
    "        # get reservoir name\n",
    "        header = \"h1\"\n",
    "        res_name = await page.text_content(header)  # .split(\": \")[1]\n",
    "        print(f\"Downloading data for {res_name} from {url.url}\")\n",
    "        await page.wait_for_timeout(5000)\n",
    "        \n",
    "        # download!\n",
    "        async with page.expect_download() as download_info:\n",
    "            await page.click(download_csv_button)\n",
    "        download = await download_info.value\n",
    "        \n",
    "        # make dataframe\n",
    "        path = await download.path()\n",
    "        df = pd.read_csv(path)\n",
    "        df.insert(0, \"reservoir_name\", res_name.split(\" (\")[0])\n",
    "        df.insert(1, \"reservoir_id\", res)\n",
    "\n",
    "        # append\n",
    "        df_list.append(df)\n",
    "        \n",
    "        print(\"Done!\")\n",
    "\n",
    "    # Close context\n",
    "    await context.close()\n",
    "    # Close browser\n",
    "    await browser.close() "
   ]
  },
  {
   "cell_type": "code",
   "execution_count": 106,
   "id": "0d7896fc-448a-4d71-a893-0ca1d6f72007",
   "metadata": {},
   "outputs": [],
   "source": [
    "concat = pd.concat(df_list)"
   ]
  },
  {
   "cell_type": "code",
   "execution_count": 107,
   "id": "1fc97006-711d-43cb-ac81-1b4c2ef7df1d",
   "metadata": {},
   "outputs": [],
   "source": [
    "concat.drop(df.columns[df.columns.str.contains('unnamed',case = False)],axis = 1, inplace = True)"
   ]
  },
  {
   "cell_type": "code",
   "execution_count": 108,
   "id": "0e11f5cf-d7ac-4096-a6ae-be34d128ba88",
   "metadata": {},
   "outputs": [],
   "source": [
    "trim = concat[[\"reservoir_name\", \"DATE / TIME (PST)\", \"STORAGE AF\"]] "
   ]
  },
  {
   "cell_type": "code",
   "execution_count": 109,
   "id": "1707decc-356b-424e-8e49-9a0ac6c7ba30",
   "metadata": {},
   "outputs": [],
   "source": [
    "trim.columns = [\"reservoir_name\", \"date\", \"storage_af\"]"
   ]
  },
  {
   "cell_type": "code",
   "execution_count": 110,
   "id": "51cc3d07-855b-47ed-afe3-7e7938598e03",
   "metadata": {},
   "outputs": [
    {
     "name": "stderr",
     "output_type": "stream",
     "text": [
      "/var/folders/7p/v902smb50m50mm_swb_lj1rh0000gn/T/ipykernel_17341/149300627.py:1: SettingWithCopyWarning: \n",
      "A value is trying to be set on a copy of a slice from a DataFrame.\n",
      "Try using .loc[row_indexer,col_indexer] = value instead\n",
      "\n",
      "See the caveats in the documentation: https://pandas.pydata.org/pandas-docs/stable/user_guide/indexing.html#returning-a-view-versus-a-copy\n",
      "  trim[\"date\"] = pd.to_datetime(trim[\"date\"])\n"
     ]
    }
   ],
   "source": [
    "trim[\"date\"] = pd.to_datetime(trim[\"date\"])"
   ]
  },
  {
   "cell_type": "code",
   "execution_count": 113,
   "id": "ca3df02b-681d-4b97-91f3-0872f29d569e",
   "metadata": {},
   "outputs": [
    {
     "name": "stderr",
     "output_type": "stream",
     "text": [
      "/var/folders/7p/v902smb50m50mm_swb_lj1rh0000gn/T/ipykernel_17341/3119204950.py:1: SettingWithCopyWarning: \n",
      "A value is trying to be set on a copy of a slice from a DataFrame.\n",
      "Try using .loc[row_indexer,col_indexer] = value instead\n",
      "\n",
      "See the caveats in the documentation: https://pandas.pydata.org/pandas-docs/stable/user_guide/indexing.html#returning-a-view-versus-a-copy\n",
      "  trim[\"storage_af\"] = trim[\"storage_af\"].str.replace(\",\",\"\")\n"
     ]
    }
   ],
   "source": [
    "trim[\"storage_af\"] = trim[\"storage_af\"].str.replace(\",\",\"\")"
   ]
  }
 ],
 "metadata": {
  "kernelspec": {
   "display_name": "Python 3 (ipykernel)",
   "language": "python",
   "name": "python3"
  },
  "language_info": {
   "codemirror_mode": {
    "name": "ipython",
    "version": 3
   },
   "file_extension": ".py",
   "mimetype": "text/x-python",
   "name": "python",
   "nbconvert_exporter": "python",
   "pygments_lexer": "ipython3",
   "version": "3.9.6"
  }
 },
 "nbformat": 4,
 "nbformat_minor": 5
}
