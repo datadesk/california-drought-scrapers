{
 "cells": [
  {
   "cell_type": "code",
   "execution_count": 101,
   "id": "66826526-4ecc-429b-b8db-bef7ef39e7d6",
   "metadata": {},
   "outputs": [],
   "source": [
    "import pytz\n",
    "import requests\n",
    "import pandas as pd\n",
    "from playwright.async_api import async_playwright\n",
    "from datetime import datetime, date, timedelta\n",
    "import altair as alt\n",
    "import altair_latimes as lat"
   ]
  },
  {
   "cell_type": "markdown",
   "id": "58aa2a30-38f9-4a8b-b71d-e2215a17afad",
   "metadata": {},
   "source": [
    "Scrape storage data of major reservoirs from https://cdec.water.ca.gov/dynamicapp/QueryDaily"
   ]
  },
  {
   "cell_type": "markdown",
   "id": "b06ffbe3-26da-413c-9d00-05c73d8e4469",
   "metadata": {},
   "source": [
    "---"
   ]
  },
  {
   "cell_type": "markdown",
   "id": "0debe4c7-63f1-4ef2-9486-7a706c355362",
   "metadata": {},
   "source": [
    "List of reservoir IDs"
   ]
  },
  {
   "cell_type": "code",
   "execution_count": 102,
   "id": "24011a21-79cf-4726-ad90-0a4c4c4c5fac",
   "metadata": {},
   "outputs": [],
   "source": [
    "reservoir_list = [\n",
    "    \"SHA\", # Shasta\n",
    "    \"ORO\", # Oroville\n",
    "    \"BUL\", # New Bullards Bar\n",
    "    \"FOL\", # Folsom\n",
    "    \"CLE\", # Trinity\n",
    "    \"CMN\", # Camanche\n",
    "    \"WRS\", # Sonoma\n",
    "    \"SNL\", #San Luis\n",
    "    \"NML\", # New Melones\n",
    "    \"DNP\", # Don Pedro\n",
    "    \"CCH\", # Cachuma\n",
    "    \"CSI\", # Casitas\n",
    "    \"EXC\", # McClur\n",
    "    \"MIL\", # Millerton\n",
    "    \"PNF\", # Pine Flat\n",
    "    \"CAS\", # Castaic\n",
    "    \"DMV\", # Diamond Valley Lake\n",
    "    #\"MHW\", # Lake Matthews\n",
    "    #\"SLW\", # Silverwood Lake\n",
    "    #\"SKN\", # Lake Skinner\n",
    "    #\"PRR\", # Lake Perris\n",
    "]"
   ]
  },
  {
   "cell_type": "markdown",
   "id": "a7212506-1e62-49bc-b8a9-a48a678a7b2b",
   "metadata": {},
   "source": [
    "Get current date"
   ]
  },
  {
   "cell_type": "code",
   "execution_count": 103,
   "id": "b8dac93a-1a9d-46f0-b252-a9384a540c6b",
   "metadata": {},
   "outputs": [],
   "source": [
    "tz = pytz.timezone(\"America/Los_Angeles\")"
   ]
  },
  {
   "cell_type": "code",
   "execution_count": 104,
   "id": "96ef4f6f-8b05-4fbd-bcd9-a74ba57cc02d",
   "metadata": {},
   "outputs": [],
   "source": [
    "today = datetime.now(tz).date()"
   ]
  },
  {
   "cell_type": "code",
   "execution_count": 105,
   "id": "58624e2d-52f6-4aa1-b57e-acbd039ea5fe",
   "metadata": {},
   "outputs": [
    {
     "name": "stdout",
     "output_type": "stream",
     "text": [
      "Downloading data for SHASTA DAM  (USBR) (SHA) from https://cdec.water.ca.gov/dynamicapp/QueryDaily?s=SHA&end=2022-05-27\n",
      "Done!\n",
      "Downloading data for OROVILLE DAM (ORO) from https://cdec.water.ca.gov/dynamicapp/QueryDaily?s=ORO&end=2022-05-27\n",
      "Done!\n",
      "Downloading data for NEW BULLARDS BAR (BUL) from https://cdec.water.ca.gov/dynamicapp/QueryDaily?s=BUL&end=2022-05-27\n",
      "Done!\n",
      "Downloading data for FOLSOM LAKE (FOL) from https://cdec.water.ca.gov/dynamicapp/QueryDaily?s=FOL&end=2022-05-27\n",
      "Done!\n",
      "Downloading data for TRINITY LAKE (CLE) from https://cdec.water.ca.gov/dynamicapp/QueryDaily?s=CLE&end=2022-05-27\n",
      "Done!\n",
      "Downloading data for CAMANCHE RESERVOIR (CMN) from https://cdec.water.ca.gov/dynamicapp/QueryDaily?s=CMN&end=2022-05-27\n",
      "Done!\n",
      "Downloading data for WARM SPRINGS (USACE) (WRS) from https://cdec.water.ca.gov/dynamicapp/QueryDaily?s=WRS&end=2022-05-27\n",
      "Done!\n",
      "Downloading data for SAN LUIS RESERVOIR (SNL) from https://cdec.water.ca.gov/dynamicapp/QueryDaily?s=SNL&end=2022-05-27\n",
      "Done!\n",
      "Downloading data for NEW MELONES RESERVOIR (NML) from https://cdec.water.ca.gov/dynamicapp/QueryDaily?s=NML&end=2022-05-27\n",
      "Done!\n",
      "Downloading data for DON PEDRO RESERVOIR (DNP) from https://cdec.water.ca.gov/dynamicapp/QueryDaily?s=DNP&end=2022-05-27\n",
      "Done!\n",
      "Downloading data for CACHUMA LAKE (CCH) from https://cdec.water.ca.gov/dynamicapp/QueryDaily?s=CCH&end=2022-05-27\n",
      "Done!\n",
      "Downloading data for CASITAS (CSI) from https://cdec.water.ca.gov/dynamicapp/QueryDaily?s=CSI&end=2022-05-27\n",
      "Done!\n",
      "Downloading data for NEW EXCHEQUER-LK MCCLURE (EXC) from https://cdec.water.ca.gov/dynamicapp/QueryDaily?s=EXC&end=2022-05-27\n",
      "Done!\n",
      "Downloading data for FRIANT DAM (MILLERTON) (MIL) from https://cdec.water.ca.gov/dynamicapp/QueryDaily?s=MIL&end=2022-05-27\n",
      "Done!\n",
      "Downloading data for PINE FLAT DAM (PNF) from https://cdec.water.ca.gov/dynamicapp/QueryDaily?s=PNF&end=2022-05-27\n",
      "Done!\n",
      "Downloading data for CASTAIC (CAS) from https://cdec.water.ca.gov/dynamicapp/QueryDaily?s=CAS&end=2022-05-27\n",
      "Done!\n",
      "Downloading data for DIAMOND VALLEY (DMV) from https://cdec.water.ca.gov/dynamicapp/QueryDaily?s=DMV&end=2022-05-27\n",
      "Done!\n"
     ]
    }
   ],
   "source": [
    "async with async_playwright() as playwright:\n",
    "    browser = await playwright.chromium.launch()\n",
    "    context = await browser.new_context(accept_downloads=True)\n",
    "\n",
    "    # Open new page\n",
    "    page = await context.new_page()\n",
    "\n",
    "    df_list = []\n",
    "\n",
    "    # Query database\n",
    "    for res in reservoir_list:\n",
    "        \n",
    "        # url to query\n",
    "        url = await page.goto(f\"https://cdec.water.ca.gov/dynamicapp/QueryDaily?s={res}&end={today}\")\n",
    "\n",
    "        # get CSV download\n",
    "        download_csv_button = \"button.buttons-csv\"\n",
    "        await page.wait_for_selector(download_csv_button)\n",
    "        await page.wait_for_function(\n",
    "            f\"document.querySelector('{download_csv_button}').textContent\"\n",
    "        )\n",
    "        \n",
    "        # get reservoir name\n",
    "        header = \"h1\"\n",
    "        res_name = await page.text_content(header)  # .split(\": \")[1]\n",
    "        print(f\"Downloading data for {res_name} from {url.url}\")\n",
    "        await page.wait_for_timeout(5000)\n",
    "        \n",
    "        # download!\n",
    "        async with page.expect_download() as download_info:\n",
    "            await page.click(download_csv_button)\n",
    "        download = await download_info.value\n",
    "        \n",
    "        # make dataframe\n",
    "        path = await download.path()\n",
    "        df = pd.read_csv(path)\n",
    "        df.insert(0, \"reservoir_name\", res_name.split(\" (\")[0])\n",
    "        df.insert(1, \"reservoir_id\", res)\n",
    "\n",
    "        # append\n",
    "        df_list.append(df)\n",
    "        \n",
    "        print(\"Done!\")\n",
    "\n",
    "    # Close context\n",
    "    await context.close()\n",
    "    # Close browser\n",
    "    await browser.close() "
   ]
  },
  {
   "cell_type": "code",
   "execution_count": 106,
   "id": "0d7896fc-448a-4d71-a893-0ca1d6f72007",
   "metadata": {},
   "outputs": [],
   "source": [
    "concat = pd.concat(df_list)"
   ]
  },
  {
   "cell_type": "code",
   "execution_count": 107,
   "id": "1fc97006-711d-43cb-ac81-1b4c2ef7df1d",
   "metadata": {},
   "outputs": [],
   "source": [
    "concat.drop(df.columns[df.columns.str.contains('unnamed',case = False)],axis = 1, inplace = True)"
   ]
  },
  {
   "cell_type": "code",
   "execution_count": 108,
   "id": "0e11f5cf-d7ac-4096-a6ae-be34d128ba88",
   "metadata": {},
   "outputs": [],
   "source": [
    "trim = concat[[\"reservoir_name\", \"DATE / TIME (PST)\", \"STORAGE AF\"]] "
   ]
  },
  {
   "cell_type": "code",
   "execution_count": 109,
   "id": "1707decc-356b-424e-8e49-9a0ac6c7ba30",
   "metadata": {},
   "outputs": [],
   "source": [
    "trim.columns = [\"reservoir_name\", \"date\", \"storage_af\"]"
   ]
  },
  {
   "cell_type": "code",
   "execution_count": 110,
   "id": "51cc3d07-855b-47ed-afe3-7e7938598e03",
   "metadata": {},
   "outputs": [
    {
     "name": "stderr",
     "output_type": "stream",
     "text": [
      "/var/folders/7p/v902smb50m50mm_swb_lj1rh0000gn/T/ipykernel_17341/149300627.py:1: SettingWithCopyWarning: \n",
      "A value is trying to be set on a copy of a slice from a DataFrame.\n",
      "Try using .loc[row_indexer,col_indexer] = value instead\n",
      "\n",
      "See the caveats in the documentation: https://pandas.pydata.org/pandas-docs/stable/user_guide/indexing.html#returning-a-view-versus-a-copy\n",
      "  trim[\"date\"] = pd.to_datetime(trim[\"date\"])\n"
     ]
    }
   ],
   "source": [
    "trim[\"date\"] = pd.to_datetime(trim[\"date\"])"
   ]
  },
  {
   "cell_type": "code",
   "execution_count": 111,
   "id": "9a0b2de3-83ad-4e98-9f3f-71e4a35ded4c",
   "metadata": {},
   "outputs": [
    {
     "data": {
      "text/html": [
       "<div>\n",
       "<style scoped>\n",
       "    .dataframe tbody tr th:only-of-type {\n",
       "        vertical-align: middle;\n",
       "    }\n",
       "\n",
       "    .dataframe tbody tr th {\n",
       "        vertical-align: top;\n",
       "    }\n",
       "\n",
       "    .dataframe thead th {\n",
       "        text-align: right;\n",
       "    }\n",
       "</style>\n",
       "<table border=\"1\" class=\"dataframe\">\n",
       "  <thead>\n",
       "    <tr style=\"text-align: right;\">\n",
       "      <th></th>\n",
       "      <th>reservoir_name</th>\n",
       "      <th>date</th>\n",
       "      <th>storage_af</th>\n",
       "    </tr>\n",
       "  </thead>\n",
       "  <tbody>\n",
       "    <tr>\n",
       "      <th>29</th>\n",
       "      <td>SHASTA DAM</td>\n",
       "      <td>2022-05-26</td>\n",
       "      <td>1,819,482</td>\n",
       "    </tr>\n",
       "    <tr>\n",
       "      <th>29</th>\n",
       "      <td>OROVILLE DAM</td>\n",
       "      <td>2022-05-26</td>\n",
       "      <td>1,923,094</td>\n",
       "    </tr>\n",
       "    <tr>\n",
       "      <th>29</th>\n",
       "      <td>NEW BULLARDS BAR</td>\n",
       "      <td>2022-05-26</td>\n",
       "      <td>862,603</td>\n",
       "    </tr>\n",
       "    <tr>\n",
       "      <th>29</th>\n",
       "      <td>FOLSOM LAKE</td>\n",
       "      <td>2022-05-26</td>\n",
       "      <td>860,561</td>\n",
       "    </tr>\n",
       "    <tr>\n",
       "      <th>29</th>\n",
       "      <td>TRINITY LAKE</td>\n",
       "      <td>2022-05-26</td>\n",
       "      <td>742,191</td>\n",
       "    </tr>\n",
       "    <tr>\n",
       "      <th>29</th>\n",
       "      <td>CAMANCHE RESERVOIR</td>\n",
       "      <td>2022-05-26</td>\n",
       "      <td>213,360</td>\n",
       "    </tr>\n",
       "    <tr>\n",
       "      <th>29</th>\n",
       "      <td>WARM SPRINGS</td>\n",
       "      <td>2022-05-26</td>\n",
       "      <td>139,875</td>\n",
       "    </tr>\n",
       "    <tr>\n",
       "      <th>29</th>\n",
       "      <td>SAN LUIS RESERVOIR</td>\n",
       "      <td>2022-05-26</td>\n",
       "      <td>928,092</td>\n",
       "    </tr>\n",
       "    <tr>\n",
       "      <th>29</th>\n",
       "      <td>NEW MELONES RESERVOIR</td>\n",
       "      <td>2022-05-26</td>\n",
       "      <td>877,423</td>\n",
       "    </tr>\n",
       "    <tr>\n",
       "      <th>29</th>\n",
       "      <td>DON PEDRO RESERVOIR</td>\n",
       "      <td>2022-05-26</td>\n",
       "      <td>1,347,419</td>\n",
       "    </tr>\n",
       "    <tr>\n",
       "      <th>29</th>\n",
       "      <td>CACHUMA LAKE</td>\n",
       "      <td>2022-05-26</td>\n",
       "      <td>85,143</td>\n",
       "    </tr>\n",
       "    <tr>\n",
       "      <th>29</th>\n",
       "      <td>CASITAS</td>\n",
       "      <td>2022-05-26</td>\n",
       "      <td>79,972</td>\n",
       "    </tr>\n",
       "    <tr>\n",
       "      <th>29</th>\n",
       "      <td>NEW EXCHEQUER-LK MCCLURE</td>\n",
       "      <td>2022-05-26</td>\n",
       "      <td>450,159</td>\n",
       "    </tr>\n",
       "    <tr>\n",
       "      <th>29</th>\n",
       "      <td>FRIANT DAM</td>\n",
       "      <td>2022-05-26</td>\n",
       "      <td>373,070</td>\n",
       "    </tr>\n",
       "    <tr>\n",
       "      <th>29</th>\n",
       "      <td>PINE FLAT DAM</td>\n",
       "      <td>2022-05-26</td>\n",
       "      <td>610,641</td>\n",
       "    </tr>\n",
       "    <tr>\n",
       "      <th>29</th>\n",
       "      <td>CASTAIC</td>\n",
       "      <td>2022-05-26</td>\n",
       "      <td>144,433</td>\n",
       "    </tr>\n",
       "    <tr>\n",
       "      <th>29</th>\n",
       "      <td>DIAMOND VALLEY</td>\n",
       "      <td>2022-05-26</td>\n",
       "      <td>--</td>\n",
       "    </tr>\n",
       "  </tbody>\n",
       "</table>\n",
       "</div>"
      ],
      "text/plain": [
       "              reservoir_name       date storage_af\n",
       "29               SHASTA DAM  2022-05-26  1,819,482\n",
       "29              OROVILLE DAM 2022-05-26  1,923,094\n",
       "29          NEW BULLARDS BAR 2022-05-26    862,603\n",
       "29               FOLSOM LAKE 2022-05-26    860,561\n",
       "29              TRINITY LAKE 2022-05-26    742,191\n",
       "29        CAMANCHE RESERVOIR 2022-05-26    213,360\n",
       "29              WARM SPRINGS 2022-05-26    139,875\n",
       "29        SAN LUIS RESERVOIR 2022-05-26    928,092\n",
       "29     NEW MELONES RESERVOIR 2022-05-26    877,423\n",
       "29       DON PEDRO RESERVOIR 2022-05-26  1,347,419\n",
       "29              CACHUMA LAKE 2022-05-26     85,143\n",
       "29                   CASITAS 2022-05-26     79,972\n",
       "29  NEW EXCHEQUER-LK MCCLURE 2022-05-26    450,159\n",
       "29                FRIANT DAM 2022-05-26    373,070\n",
       "29             PINE FLAT DAM 2022-05-26    610,641\n",
       "29                   CASTAIC 2022-05-26    144,433\n",
       "29            DIAMOND VALLEY 2022-05-26         --"
      ]
     },
     "execution_count": 111,
     "metadata": {},
     "output_type": "execute_result"
    }
   ],
   "source": [
    "trim[trim[\"date\"] == \"2022-05-26\"]"
   ]
  },
  {
   "cell_type": "code",
   "execution_count": null,
   "id": "31b3e516-7905-415d-95f9-04ce113b3b52",
   "metadata": {},
   "outputs": [],
   "source": []
  }
 ],
 "metadata": {
  "kernelspec": {
   "display_name": "Python 3 (ipykernel)",
   "language": "python",
   "name": "python3"
  },
  "language_info": {
   "codemirror_mode": {
    "name": "ipython",
    "version": 3
   },
   "file_extension": ".py",
   "mimetype": "text/x-python",
   "name": "python",
   "nbconvert_exporter": "python",
   "pygments_lexer": "ipython3",
   "version": "3.9.6"
  }
 },
 "nbformat": 4,
 "nbformat_minor": 5
}
