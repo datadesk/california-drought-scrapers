{
 "cells": [
  {
   "cell_type": "code",
   "execution_count": 23,
   "id": "66826526-4ecc-429b-b8db-bef7ef39e7d6",
   "metadata": {},
   "outputs": [],
   "source": [
    "import pytz\n",
    "import requests\n",
    "import pandas as pd\n",
    "from playwright.async_api import async_playwright\n",
    "from datetime import datetime, date, timedelta\n",
    "import altair as alt\n",
    "import altair_latimes as lat"
   ]
  },
  {
   "cell_type": "markdown",
   "id": "58aa2a30-38f9-4a8b-b71d-e2215a17afad",
   "metadata": {},
   "source": [
    "Scrape storage data of reservoirs of interest from `https://cdec.water.ca.gov/dynamicapp/QueryDaily`"
   ]
  },
  {
   "cell_type": "markdown",
   "id": "b06ffbe3-26da-413c-9d00-05c73d8e4469",
   "metadata": {},
   "source": [
    "---"
   ]
  },
  {
   "cell_type": "markdown",
   "id": "0debe4c7-63f1-4ef2-9486-7a706c355362",
   "metadata": {},
   "source": [
    "List of reservoir IDs"
   ]
  },
  {
   "cell_type": "code",
   "execution_count": 49,
   "id": "24011a21-79cf-4726-ad90-0a4c4c4c5fac",
   "metadata": {},
   "outputs": [],
   "source": [
    "reservoir_list = [\n",
    "    \"CAS\", # Castaic\n",
    "    \"DMV\", # Diamond Valley Lake\n",
    "    \"MHW\", # Lake Matthews\n",
    "    \"SLW\", # Silverwood Lake\n",
    "    \"SKN\", # Lake Skinner\n",
    "    \"PRR\", # Lake Perris\n",
    "]"
   ]
  },
  {
   "cell_type": "markdown",
   "id": "a7212506-1e62-49bc-b8a9-a48a678a7b2b",
   "metadata": {},
   "source": [
    "Get current date"
   ]
  },
  {
   "cell_type": "code",
   "execution_count": 51,
   "id": "b8dac93a-1a9d-46f0-b252-a9384a540c6b",
   "metadata": {},
   "outputs": [],
   "source": [
    "tz = pytz.timezone(\"America/Los_Angeles\")"
   ]
  },
  {
   "cell_type": "code",
   "execution_count": 52,
   "id": "96ef4f6f-8b05-4fbd-bcd9-a74ba57cc02d",
   "metadata": {},
   "outputs": [],
   "source": [
    "today = datetime.now(tz).date()"
   ]
  },
  {
   "cell_type": "code",
   "execution_count": 74,
   "id": "58624e2d-52f6-4aa1-b57e-acbd039ea5fe",
   "metadata": {},
   "outputs": [
    {
     "name": "stdout",
     "output_type": "stream",
     "text": [
      "Downloading data for CASTAIC (CAS) from https://cdec.water.ca.gov/dynamicapp/QueryDaily?s=CAS&end=2022-05-24\n",
      "Done!\n",
      "Downloading data for LAKE SILVERWOOD (SLW) from https://cdec.water.ca.gov/dynamicapp/QueryDaily?s=SLW&end=2022-05-24\n",
      "Done!\n",
      "Downloading data for PERRIS (PRR) from https://cdec.water.ca.gov/dynamicapp/QueryDaily?s=PRR&end=2022-05-24\n",
      "Done!\n"
     ]
    }
   ],
   "source": [
    "async with async_playwright() as playwright:\n",
    "    browser = await playwright.chromium.launch()\n",
    "    context = await browser.new_context(accept_downloads=True)\n",
    "\n",
    "    # Open new page\n",
    "    page = await context.new_page()\n",
    "\n",
    "    df_list = []\n",
    "\n",
    "    # Query database\n",
    "    for res in reservoir_list:\n",
    "        \n",
    "        # url to query\n",
    "        url = await page.goto(f\"https://cdec.water.ca.gov/dynamicapp/QueryDaily?s={res}&end={today}\")\n",
    "\n",
    "        # get CSV download\n",
    "        download_csv_button = \"button.buttons-csv\"\n",
    "        await page.wait_for_selector(download_csv_button)\n",
    "        await page.wait_for_function(\n",
    "            f\"document.querySelector('{download_csv_button}').textContent\"\n",
    "        )\n",
    "        \n",
    "        # get reservoir name\n",
    "        header = \"h1\"\n",
    "        res_name = await page.text_content(header)  # .split(\": \")[1]\n",
    "        print(f\"Downloading data for {res_name} from {url.url}\")\n",
    "        await page.wait_for_timeout(5000)\n",
    "        \n",
    "        # download!\n",
    "        async with page.expect_download() as download_info:\n",
    "            await page.click(download_csv_button)\n",
    "        download = await download_info.value\n",
    "        \n",
    "        # make dataframe\n",
    "        path = await download.path()\n",
    "        df = pd.read_csv(path)\n",
    "        df.insert(0, \"reservoir_name\", res_name.split(\" (\")[0])\n",
    "        df.insert(1, \"reservoir_id\", res)\n",
    "\n",
    "        # append\n",
    "        df_list.append(df)\n",
    "        \n",
    "        print(\"Done!\")\n",
    "\n",
    "    # Close context\n",
    "    await context.close()\n",
    "    # Close browser\n",
    "    await browser.close() "
   ]
  },
  {
   "cell_type": "code",
   "execution_count": 75,
   "id": "0d7896fc-448a-4d71-a893-0ca1d6f72007",
   "metadata": {},
   "outputs": [],
   "source": [
    "concat = pd.concat(df_list)"
   ]
  },
  {
   "cell_type": "code",
   "execution_count": 76,
   "id": "1fc97006-711d-43cb-ac81-1b4c2ef7df1d",
   "metadata": {},
   "outputs": [],
   "source": [
    "concat.drop(df.columns[df.columns.str.contains('unnamed',case = False)],axis = 1, inplace = True)"
   ]
  },
  {
   "cell_type": "code",
   "execution_count": 77,
   "id": "0e11f5cf-d7ac-4096-a6ae-be34d128ba88",
   "metadata": {},
   "outputs": [
    {
     "data": {
      "text/html": [
       "<div>\n",
       "<style scoped>\n",
       "    .dataframe tbody tr th:only-of-type {\n",
       "        vertical-align: middle;\n",
       "    }\n",
       "\n",
       "    .dataframe tbody tr th {\n",
       "        vertical-align: top;\n",
       "    }\n",
       "\n",
       "    .dataframe thead th {\n",
       "        text-align: right;\n",
       "    }\n",
       "</style>\n",
       "<table border=\"1\" class=\"dataframe\">\n",
       "  <thead>\n",
       "    <tr style=\"text-align: right;\">\n",
       "      <th></th>\n",
       "      <th>reservoir_name</th>\n",
       "      <th>reservoir_id</th>\n",
       "      <th>DATE / TIME (PST)</th>\n",
       "      <th>RES ELE FEET</th>\n",
       "      <th>STORAGE AF</th>\n",
       "      <th>RES CHG AF</th>\n",
       "      <th>PPT INC INCHES</th>\n",
       "    </tr>\n",
       "  </thead>\n",
       "  <tbody>\n",
       "    <tr>\n",
       "      <th>0</th>\n",
       "      <td>CASTAIC</td>\n",
       "      <td>CAS</td>\n",
       "      <td>04/24/2022</td>\n",
       "      <td>1435.22</td>\n",
       "      <td>172,169</td>\n",
       "      <td>-1,414</td>\n",
       "      <td>NaN</td>\n",
       "    </tr>\n",
       "    <tr>\n",
       "      <th>1</th>\n",
       "      <td>CASTAIC</td>\n",
       "      <td>CAS</td>\n",
       "      <td>04/25/2022</td>\n",
       "      <td>1434.47</td>\n",
       "      <td>170,983</td>\n",
       "      <td>-1,186</td>\n",
       "      <td>NaN</td>\n",
       "    </tr>\n",
       "    <tr>\n",
       "      <th>2</th>\n",
       "      <td>CASTAIC</td>\n",
       "      <td>CAS</td>\n",
       "      <td>04/26/2022</td>\n",
       "      <td>1435.24</td>\n",
       "      <td>172,201</td>\n",
       "      <td>1,218</td>\n",
       "      <td>NaN</td>\n",
       "    </tr>\n",
       "    <tr>\n",
       "      <th>3</th>\n",
       "      <td>CASTAIC</td>\n",
       "      <td>CAS</td>\n",
       "      <td>04/27/2022</td>\n",
       "      <td>1436.54</td>\n",
       "      <td>174,268</td>\n",
       "      <td>2,067</td>\n",
       "      <td>NaN</td>\n",
       "    </tr>\n",
       "    <tr>\n",
       "      <th>4</th>\n",
       "      <td>CASTAIC</td>\n",
       "      <td>CAS</td>\n",
       "      <td>04/28/2022</td>\n",
       "      <td>1436.29</td>\n",
       "      <td>173,869</td>\n",
       "      <td>-399</td>\n",
       "      <td>NaN</td>\n",
       "    </tr>\n",
       "    <tr>\n",
       "      <th>...</th>\n",
       "      <td>...</td>\n",
       "      <td>...</td>\n",
       "      <td>...</td>\n",
       "      <td>...</td>\n",
       "      <td>...</td>\n",
       "      <td>...</td>\n",
       "      <td>...</td>\n",
       "    </tr>\n",
       "    <tr>\n",
       "      <th>26</th>\n",
       "      <td>PERRIS</td>\n",
       "      <td>PRR</td>\n",
       "      <td>05/20/2022</td>\n",
       "      <td>1576.74</td>\n",
       "      <td>102,027</td>\n",
       "      <td>-169</td>\n",
       "      <td>0.00</td>\n",
       "    </tr>\n",
       "    <tr>\n",
       "      <th>27</th>\n",
       "      <td>PERRIS</td>\n",
       "      <td>PRR</td>\n",
       "      <td>05/21/2022</td>\n",
       "      <td>1576.72</td>\n",
       "      <td>101,985</td>\n",
       "      <td>-42</td>\n",
       "      <td>0.00</td>\n",
       "    </tr>\n",
       "    <tr>\n",
       "      <th>28</th>\n",
       "      <td>PERRIS</td>\n",
       "      <td>PRR</td>\n",
       "      <td>05/22/2022</td>\n",
       "      <td>1576.76</td>\n",
       "      <td>102,069</td>\n",
       "      <td>84</td>\n",
       "      <td>0.00</td>\n",
       "    </tr>\n",
       "    <tr>\n",
       "      <th>29</th>\n",
       "      <td>PERRIS</td>\n",
       "      <td>PRR</td>\n",
       "      <td>05/23/2022</td>\n",
       "      <td>1576.72</td>\n",
       "      <td>101,985</td>\n",
       "      <td>-84</td>\n",
       "      <td>0.00</td>\n",
       "    </tr>\n",
       "    <tr>\n",
       "      <th>30</th>\n",
       "      <td>PERRIS</td>\n",
       "      <td>PRR</td>\n",
       "      <td>05/24/2022</td>\n",
       "      <td>--</td>\n",
       "      <td>--</td>\n",
       "      <td>--</td>\n",
       "      <td>--</td>\n",
       "    </tr>\n",
       "  </tbody>\n",
       "</table>\n",
       "<p>93 rows × 7 columns</p>\n",
       "</div>"
      ],
      "text/plain": [
       "   reservoir_name reservoir_id DATE / TIME (PST) RES ELE FEET STORAGE AF  \\\n",
       "0         CASTAIC          CAS        04/24/2022      1435.22    172,169   \n",
       "1         CASTAIC          CAS        04/25/2022      1434.47    170,983   \n",
       "2         CASTAIC          CAS        04/26/2022      1435.24    172,201   \n",
       "3         CASTAIC          CAS        04/27/2022      1436.54    174,268   \n",
       "4         CASTAIC          CAS        04/28/2022      1436.29    173,869   \n",
       "..            ...          ...               ...          ...        ...   \n",
       "26         PERRIS          PRR        05/20/2022      1576.74    102,027   \n",
       "27         PERRIS          PRR        05/21/2022      1576.72    101,985   \n",
       "28         PERRIS          PRR        05/22/2022      1576.76    102,069   \n",
       "29         PERRIS          PRR        05/23/2022      1576.72    101,985   \n",
       "30         PERRIS          PRR        05/24/2022           --         --   \n",
       "\n",
       "   RES CHG AF PPT INC INCHES  \n",
       "0      -1,414            NaN  \n",
       "1      -1,186            NaN  \n",
       "2       1,218            NaN  \n",
       "3       2,067            NaN  \n",
       "4        -399            NaN  \n",
       "..        ...            ...  \n",
       "26       -169           0.00  \n",
       "27        -42           0.00  \n",
       "28         84           0.00  \n",
       "29        -84           0.00  \n",
       "30         --             --  \n",
       "\n",
       "[93 rows x 7 columns]"
      ]
     },
     "execution_count": 77,
     "metadata": {},
     "output_type": "execute_result"
    }
   ],
   "source": [
    "concat"
   ]
  },
  {
   "cell_type": "code",
   "execution_count": null,
   "id": "1707decc-356b-424e-8e49-9a0ac6c7ba30",
   "metadata": {},
   "outputs": [],
   "source": []
  }
 ],
 "metadata": {
  "kernelspec": {
   "display_name": "Python 3 (ipykernel)",
   "language": "python",
   "name": "python3"
  },
  "language_info": {
   "codemirror_mode": {
    "name": "ipython",
    "version": 3
   },
   "file_extension": ".py",
   "mimetype": "text/x-python",
   "name": "python",
   "nbconvert_exporter": "python",
   "pygments_lexer": "ipython3",
   "version": "3.9.6"
  }
 },
 "nbformat": 4,
 "nbformat_minor": 5
}
