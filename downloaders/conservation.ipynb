{
 "cells": [
  {
   "cell_type": "code",
   "execution_count": 19,
   "id": "42f43950-211b-406c-8ce1-533d6423911f",
   "metadata": {},
   "outputs": [],
   "source": [
    "import requests\n",
    "import pandas as pd\n",
    "from bs4 import BeautifulSoup\n",
    "from datetime import datetime, date, timedelta\n",
    "from tableauscraper import TableauScraper as TS\n",
    "import altair as alt\n",
    "import altair_latimes as lat"
   ]
  },
  {
   "cell_type": "markdown",
   "id": "8d79e39d-23f0-4738-b33e-c021f15059ff",
   "metadata": {},
   "source": [
    "### Download the tableau dashboard"
   ]
  },
  {
   "cell_type": "code",
   "execution_count": 20,
   "id": "5d85b9bc-2866-4766-9a9c-32ca3de19666",
   "metadata": {},
   "outputs": [],
   "source": [
    "url = \"https://public.tableau.com/views/CaliforniaUrbanWaterProduction_15785959527960/StatewideUseandProduction\""
   ]
  },
  {
   "cell_type": "code",
   "execution_count": 21,
   "id": "0bef33e1-8bc9-44a1-94e7-e7521243a0aa",
   "metadata": {},
   "outputs": [],
   "source": [
    "ts = TS()\n",
    "ts.loads(url)\n",
    "workbook = ts.getWorkbook()"
   ]
  },
  {
   "cell_type": "markdown",
   "id": "9f5f19ef-8f61-413b-9270-ecfc5e2e439d",
   "metadata": {},
   "source": [
    "Get the conservation figures for hydrologic regions and districts"
   ]
  },
  {
   "cell_type": "code",
   "execution_count": 22,
   "id": "1d7128e0-407e-4dc2-ab9a-b0d22a52d1b5",
   "metadata": {},
   "outputs": [
    {
     "name": "stderr",
     "output_type": "stream",
     "text": [
      "2022-05-19 10:54:04,050 - tableauScraper - WARNING - no data dictionary present in response\n",
      "2022-05-19 10:54:04,050 - tableauScraper - WARNING - no data dictionary present in response\n",
      "2022-05-19 10:54:04,799 - tableauScraper - WARNING - no data dictionary present in response\n",
      "2022-05-19 10:54:04,799 - tableauScraper - WARNING - no data dictionary present in response\n",
      "2022-05-19 10:54:05,467 - tableauScraper - WARNING - no data dictionary present in response\n",
      "2022-05-19 10:54:05,467 - tableauScraper - WARNING - no data dictionary present in response\n",
      "2022-05-19 10:54:06,256 - tableauScraper - WARNING - no data dictionary present in response\n",
      "2022-05-19 10:54:06,256 - tableauScraper - WARNING - no data dictionary present in response\n"
     ]
    }
   ],
   "source": [
    "conservation = workbook.goToSheet(\"Cumulative Savings \")\n",
    "for t in conservation.worksheets:\n",
    "    if t.name == \"Savings by Hydro\":\n",
    "        \n",
    "        filters = t.getFilters()\n",
    "        #print(filters)\n",
    "        filter_values = filters[0]['values']\n",
    "        df_list = []\n",
    "        for v in filter_values:\n",
    "            wb = t.setFilter('Strmonth', v)\n",
    "            monthlyWs = wb.getWorksheet(\"Savings by Hydro\")\n",
    "            #print(monthlyWs.data)\n",
    "            monthly_df = monthlyWs.data\n",
    "            #monthly_df[\"month\"] = m\n",
    "            df_list.append(monthly_df)\n",
    "    # elif t.name == \"Savings Map\":\n",
    "    #     district_df = t.data\n",
    "    else:\n",
    "        pass"
   ]
  },
  {
   "cell_type": "code",
   "execution_count": 23,
   "id": "73d0ab1c-f2e2-4c78-8c42-9a630e035e12",
   "metadata": {},
   "outputs": [
    {
     "data": {
      "text/plain": [
       "10"
      ]
     },
     "execution_count": 23,
     "metadata": {},
     "output_type": "execute_result"
    }
   ],
   "source": [
    "len(df_list)"
   ]
  },
  {
   "cell_type": "code",
   "execution_count": 24,
   "id": "67f32883-c645-46c0-9ecd-eee571622963",
   "metadata": {},
   "outputs": [],
   "source": [
    "hydro_df = pd.concat(df_list)"
   ]
  },
  {
   "cell_type": "markdown",
   "id": "c7882d8f-2d6a-4c93-bef0-9c2065ec62de",
   "metadata": {},
   "source": [
    "---\n",
    "### Clean up dataframe"
   ]
  },
  {
   "cell_type": "code",
   "execution_count": 7,
   "id": "8b20892b-3b86-42e1-af13-1ed28e2d5833",
   "metadata": {},
   "outputs": [
    {
     "data": {
      "text/plain": [
       "Index(['Region-value', 'Region-alias', 'Strmonth-value', 'Strmonth-alias',\n",
       "       'SUM(Baseline)-alias', 'SUM(count_supplier)-alias',\n",
       "       'SUM(Current)-alias', 'SUM(Total Population Served)-alias',\n",
       "       'ATTR(Year)-alias', 'ATTR(Hydrologic Region)-alias',\n",
       "       'AGG(Savings_calc)-alias'],\n",
       "      dtype='object')"
      ]
     },
     "execution_count": 7,
     "metadata": {},
     "output_type": "execute_result"
    }
   ],
   "source": [
    "hydro_df.columns"
   ]
  },
  {
   "cell_type": "code",
   "execution_count": 8,
   "id": "2142e1e1-ef5f-4e5a-ae02-cbfec6364c5f",
   "metadata": {},
   "outputs": [],
   "source": [
    "keeps = ['Region-value', 'Strmonth-alias',\n",
    "       'SUM(Baseline)-alias', 'SUM(count_supplier)-alias',\n",
    "       'SUM(Current)-alias', 'SUM(Total Population Served)-alias',\n",
    "       'ATTR(Year)-alias', 'AGG(Savings_calc)-alias']"
   ]
  },
  {
   "cell_type": "code",
   "execution_count": 9,
   "id": "1a9914c8-74ce-47c8-a044-15d853b3cc7c",
   "metadata": {},
   "outputs": [],
   "source": [
    "hydro_trim = hydro_df[keeps]"
   ]
  },
  {
   "cell_type": "code",
   "execution_count": 10,
   "id": "8e93578b-78b0-407b-bef0-1fd17d19140a",
   "metadata": {},
   "outputs": [],
   "source": [
    "rename = {\n",
    "    'Region-value': 'hydrologic_region', \n",
    "    'Strmonth-alias': 'month', \n",
    "    'SUM(Baseline)-alias': 'water_use_baseline',\n",
    "    'SUM(count_supplier)-alias': 'supplier_count',\n",
    "    'SUM(Current)-alias': 'water_use_current',\n",
    "    'SUM(Total Population Served)-alias': 'total_population_served', \n",
    "    'ATTR(Year)-alias' :'year',\n",
    "    'AGG(Savings_calc)-alias': 'pct_savings'  \n",
    "}"
   ]
  },
  {
   "cell_type": "code",
   "execution_count": 11,
   "id": "15855950-c3d5-4544-ae56-a2bcda42f0d4",
   "metadata": {},
   "outputs": [],
   "source": [
    "hydro_rename = hydro_trim.rename(columns=rename)"
   ]
  },
  {
   "cell_type": "code",
   "execution_count": 12,
   "id": "19e5d4d9-e6c8-4809-99fa-0e88edefa5e7",
   "metadata": {},
   "outputs": [],
   "source": [
    "hydro_rename['water_use_baseline'] = hydro_rename['water_use_baseline'].str.replace(\",\",\"\").astype(int)"
   ]
  },
  {
   "cell_type": "code",
   "execution_count": 13,
   "id": "545410c7-52c2-46ac-a0e7-174e0202f1bf",
   "metadata": {},
   "outputs": [],
   "source": [
    "hydro_rename['water_use_current'] = hydro_rename['water_use_current'].str.replace(\",\",\"\").astype(int)"
   ]
  },
  {
   "cell_type": "code",
   "execution_count": 14,
   "id": "613881fc-7385-44ee-aea4-c3e5ed49486b",
   "metadata": {},
   "outputs": [],
   "source": [
    "hydro_rename.loc[(hydro_rename.hydrologic_region == \"%all%\"), \"hydrologic_region\"] = \"Statewide\""
   ]
  },
  {
   "cell_type": "code",
   "execution_count": 15,
   "id": "5d529ee5-cfd6-4baf-821c-cbc2162b36f1",
   "metadata": {},
   "outputs": [],
   "source": [
    "hydro_rename.loc[(hydro_rename.year == \"%null%\"), \"year\"] = \"Cumulative\""
   ]
  },
  {
   "cell_type": "code",
   "execution_count": 16,
   "id": "69de6d34-1d0a-42f9-8c80-b31d19b3107a",
   "metadata": {},
   "outputs": [
    {
     "data": {
      "text/html": [
       "<div>\n",
       "<style scoped>\n",
       "    .dataframe tbody tr th:only-of-type {\n",
       "        vertical-align: middle;\n",
       "    }\n",
       "\n",
       "    .dataframe tbody tr th {\n",
       "        vertical-align: top;\n",
       "    }\n",
       "\n",
       "    .dataframe thead th {\n",
       "        text-align: right;\n",
       "    }\n",
       "</style>\n",
       "<table border=\"1\" class=\"dataframe\">\n",
       "  <thead>\n",
       "    <tr style=\"text-align: right;\">\n",
       "      <th></th>\n",
       "      <th>hydrologic_region</th>\n",
       "      <th>month</th>\n",
       "      <th>water_use_baseline</th>\n",
       "      <th>supplier_count</th>\n",
       "      <th>water_use_current</th>\n",
       "      <th>total_population_served</th>\n",
       "      <th>year</th>\n",
       "      <th>pct_savings</th>\n",
       "    </tr>\n",
       "  </thead>\n",
       "  <tbody>\n",
       "    <tr>\n",
       "      <th>0</th>\n",
       "      <td>Statewide</td>\n",
       "      <td>July</td>\n",
       "      <td>204221072888</td>\n",
       "      <td>410</td>\n",
       "      <td>200511267287</td>\n",
       "      <td>36968289</td>\n",
       "      <td>2021</td>\n",
       "      <td>-0.018166</td>\n",
       "    </tr>\n",
       "    <tr>\n",
       "      <th>0</th>\n",
       "      <td>Statewide</td>\n",
       "      <td>August</td>\n",
       "      <td>207674317632</td>\n",
       "      <td>407</td>\n",
       "      <td>197358551096</td>\n",
       "      <td>37045016</td>\n",
       "      <td>2021</td>\n",
       "      <td>-0.049673</td>\n",
       "    </tr>\n",
       "    <tr>\n",
       "      <th>0</th>\n",
       "      <td>Statewide</td>\n",
       "      <td>September</td>\n",
       "      <td>188005313236</td>\n",
       "      <td>409</td>\n",
       "      <td>180684670905</td>\n",
       "      <td>37020222</td>\n",
       "      <td>2021</td>\n",
       "      <td>-0.038938</td>\n",
       "    </tr>\n",
       "    <tr>\n",
       "      <th>0</th>\n",
       "      <td>Statewide</td>\n",
       "      <td>October</td>\n",
       "      <td>175983659543</td>\n",
       "      <td>406</td>\n",
       "      <td>152705229271</td>\n",
       "      <td>36933245</td>\n",
       "      <td>2021</td>\n",
       "      <td>-0.132276</td>\n",
       "    </tr>\n",
       "    <tr>\n",
       "      <th>0</th>\n",
       "      <td>Statewide</td>\n",
       "      <td>November</td>\n",
       "      <td>139726695385</td>\n",
       "      <td>408</td>\n",
       "      <td>129757391024</td>\n",
       "      <td>36735851</td>\n",
       "      <td>2021</td>\n",
       "      <td>-0.071349</td>\n",
       "    </tr>\n",
       "    <tr>\n",
       "      <th>0</th>\n",
       "      <td>Statewide</td>\n",
       "      <td>December</td>\n",
       "      <td>129628463322</td>\n",
       "      <td>406</td>\n",
       "      <td>109347218497</td>\n",
       "      <td>36929788</td>\n",
       "      <td>2021</td>\n",
       "      <td>-0.156457</td>\n",
       "    </tr>\n",
       "    <tr>\n",
       "      <th>0</th>\n",
       "      <td>Statewide</td>\n",
       "      <td>January</td>\n",
       "      <td>105864952892</td>\n",
       "      <td>393</td>\n",
       "      <td>108703127024</td>\n",
       "      <td>36408458</td>\n",
       "      <td>2022</td>\n",
       "      <td>0.026809</td>\n",
       "    </tr>\n",
       "    <tr>\n",
       "      <th>0</th>\n",
       "      <td>Statewide</td>\n",
       "      <td>February</td>\n",
       "      <td>113897908663</td>\n",
       "      <td>389</td>\n",
       "      <td>114002707099</td>\n",
       "      <td>36271500</td>\n",
       "      <td>2022</td>\n",
       "      <td>0.00092</td>\n",
       "    </tr>\n",
       "    <tr>\n",
       "      <th>0</th>\n",
       "      <td>Statewide</td>\n",
       "      <td>March</td>\n",
       "      <td>109872620466</td>\n",
       "      <td>371</td>\n",
       "      <td>130606010581</td>\n",
       "      <td>35678809</td>\n",
       "      <td>2022</td>\n",
       "      <td>0.188704</td>\n",
       "    </tr>\n",
       "    <tr>\n",
       "      <th>0</th>\n",
       "      <td>Statewide</td>\n",
       "      <td>Cumulative</td>\n",
       "      <td>1285432557390</td>\n",
       "      <td>341</td>\n",
       "      <td>1238005199083</td>\n",
       "      <td>34531625</td>\n",
       "      <td>Cumulative</td>\n",
       "      <td>-0.036896</td>\n",
       "    </tr>\n",
       "  </tbody>\n",
       "</table>\n",
       "</div>"
      ],
      "text/plain": [
       "  hydrologic_region       month  water_use_baseline supplier_count  \\\n",
       "0         Statewide        July        204221072888            410   \n",
       "0         Statewide      August        207674317632            407   \n",
       "0         Statewide   September        188005313236            409   \n",
       "0         Statewide     October        175983659543            406   \n",
       "0         Statewide    November        139726695385            408   \n",
       "0         Statewide    December        129628463322            406   \n",
       "0         Statewide     January        105864952892            393   \n",
       "0         Statewide    February        113897908663            389   \n",
       "0         Statewide       March        109872620466            371   \n",
       "0         Statewide  Cumulative       1285432557390            341   \n",
       "\n",
       "   water_use_current total_population_served        year pct_savings  \n",
       "0       200511267287                36968289        2021   -0.018166  \n",
       "0       197358551096                37045016        2021   -0.049673  \n",
       "0       180684670905                37020222        2021   -0.038938  \n",
       "0       152705229271                36933245        2021   -0.132276  \n",
       "0       129757391024                36735851        2021   -0.071349  \n",
       "0       109347218497                36929788        2021   -0.156457  \n",
       "0       108703127024                36408458        2022    0.026809  \n",
       "0       114002707099                36271500        2022     0.00092  \n",
       "0       130606010581                35678809        2022    0.188704  \n",
       "0      1238005199083                34531625  Cumulative   -0.036896  "
      ]
     },
     "execution_count": 16,
     "metadata": {},
     "output_type": "execute_result"
    }
   ],
   "source": [
    "hydro_rename[hydro_rename.hydrologic_region == \"Statewide\"]"
   ]
  },
  {
   "cell_type": "markdown",
   "id": "6278d439-65f1-4422-92d1-3b423df36de9",
   "metadata": {},
   "source": [
    "### Output"
   ]
  },
  {
   "cell_type": "code",
   "execution_count": 18,
   "id": "db39aa55-b5a5-4063-a030-57549aecfd97",
   "metadata": {},
   "outputs": [],
   "source": [
    "hydro_rename.to_csv(\"data/raw/water-conservation-by-region.csv\", index=False)"
   ]
  }
 ],
 "metadata": {
  "kernelspec": {
   "display_name": "Python 3 (ipykernel)",
   "language": "python",
   "name": "python3"
  },
  "language_info": {
   "codemirror_mode": {
    "name": "ipython",
    "version": 3
   },
   "file_extension": ".py",
   "mimetype": "text/x-python",
   "name": "python",
   "nbconvert_exporter": "python",
   "pygments_lexer": "ipython3",
   "version": "3.9.6"
  }
 },
 "nbformat": 4,
 "nbformat_minor": 5
}
