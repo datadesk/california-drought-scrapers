{
 "cells": [
  {
   "cell_type": "code",
   "execution_count": 75,
   "id": "66826526-4ecc-429b-b8db-bef7ef39e7d6",
   "metadata": {},
   "outputs": [],
   "source": [
    "import pytz\n",
    "import requests\n",
    "import pandas as pd\n",
    "from datetime import datetime, date, timedelta\n",
    "from bs4 import BeautifulSoup"
   ]
  },
  {
   "cell_type": "markdown",
   "id": "9bf7dc0d-659e-4d9a-a46e-324d3c90a760",
   "metadata": {},
   "source": [
    "### Download current data"
   ]
  },
  {
   "cell_type": "markdown",
   "id": "a7212506-1e62-49bc-b8a9-a48a678a7b2b",
   "metadata": {},
   "source": [
    "Get current date"
   ]
  },
  {
   "cell_type": "code",
   "execution_count": 76,
   "id": "b8dac93a-1a9d-46f0-b252-a9384a540c6b",
   "metadata": {},
   "outputs": [],
   "source": [
    "tz = pytz.timezone(\"America/Los_Angeles\")"
   ]
  },
  {
   "cell_type": "code",
   "execution_count": 77,
   "id": "96ef4f6f-8b05-4fbd-bcd9-a74ba57cc02d",
   "metadata": {},
   "outputs": [
    {
     "data": {
      "text/plain": [
       "datetime.date(2022, 7, 7)"
      ]
     },
     "execution_count": 77,
     "metadata": {},
     "output_type": "execute_result"
    }
   ],
   "source": [
    "today = datetime.now(tz).date()\n",
    "today"
   ]
  },
  {
   "cell_type": "markdown",
   "id": "d58fbb25-8c65-444b-8b6f-a7f09863a68f",
   "metadata": {},
   "source": [
    "Set start date for this dataset, which we know is 10/01/2021"
   ]
  },
  {
   "cell_type": "code",
   "execution_count": 78,
   "id": "27f5a687-372c-4d29-8a23-2fa4ba6abe98",
   "metadata": {},
   "outputs": [
    {
     "data": {
      "text/plain": [
       "datetime.date(2021, 10, 1)"
      ]
     },
     "execution_count": 78,
     "metadata": {},
     "output_type": "execute_result"
    }
   ],
   "source": [
    "start_date = pd.to_datetime(\"2021-10-01\").date()\n",
    "start_date"
   ]
  },
  {
   "cell_type": "markdown",
   "id": "53412a47-1a39-45e0-8bbf-12bfa011a745",
   "metadata": {},
   "source": [
    "Query this URL for the statewide estimate of water storage. This number represents 154 reservoirs."
   ]
  },
  {
   "cell_type": "code",
   "execution_count": 79,
   "id": "606ddde5-9868-4025-83cb-f17b2a211ab7",
   "metadata": {},
   "outputs": [],
   "source": [
    "url = f\"https://cdec.water.ca.gov/dynamicapp/req/CSVDataServlet?Stations=SWV&SensorNums=15&dur_code=D&Start={start_date}&End={today}\""
   ]
  },
  {
   "cell_type": "code",
   "execution_count": 80,
   "id": "89bebde0-e3f6-4ae0-a93a-16ec40b9a0bf",
   "metadata": {},
   "outputs": [
    {
     "data": {
      "text/plain": [
       "'https://cdec.water.ca.gov/dynamicapp/req/CSVDataServlet?Stations=SWV&SensorNums=15&dur_code=D&Start=2021-10-01&End=2022-07-07'"
      ]
     },
     "execution_count": 80,
     "metadata": {},
     "output_type": "execute_result"
    }
   ],
   "source": [
    "url"
   ]
  },
  {
   "cell_type": "code",
   "execution_count": 81,
   "id": "e4085143-ba0d-47ba-93d7-34e4ccd34e42",
   "metadata": {},
   "outputs": [],
   "source": [
    "df = pd.read_csv(url, parse_dates=[\"DATE TIME\"])"
   ]
  },
  {
   "cell_type": "markdown",
   "id": "ac86ec6d-2282-4216-958e-b908afc8b896",
   "metadata": {},
   "source": [
    "### Download statewide data"
   ]
  },
  {
   "cell_type": "code",
   "execution_count": 82,
   "id": "54eaa0b3-5806-47d8-b069-cc9ef9ac3c29",
   "metadata": {},
   "outputs": [],
   "source": [
    "# meta_url = \"https://cdec.water.ca.gov/dynamicapp/profile?s=SWV&type=res\""
   ]
  },
  {
   "cell_type": "markdown",
   "id": "b219bb60-6f8a-4a37-a5e1-a44259a4c31a",
   "metadata": {},
   "source": [
    "Get the page"
   ]
  },
  {
   "cell_type": "code",
   "execution_count": 83,
   "id": "bac8bd57-2aa3-4f0f-b3f3-dd370f034a5f",
   "metadata": {},
   "outputs": [],
   "source": [
    "# page = requests.get(meta_url, verify=False)\n",
    "# soup = BeautifulSoup(page.content, \"html.parser\")\n",
    "# content = soup.find(id=\"main-content\")"
   ]
  },
  {
   "cell_type": "markdown",
   "id": "3e515a05-a860-40f2-bedc-d9723edfb27f",
   "metadata": {},
   "source": [
    "Get both tables"
   ]
  },
  {
   "cell_type": "code",
   "execution_count": 84,
   "id": "35286b1f-c3f5-465e-ae1c-e9a9675e80b8",
   "metadata": {},
   "outputs": [],
   "source": [
    "# tables = content.find_all(\"table\")"
   ]
  },
  {
   "cell_type": "markdown",
   "id": "c04247b3-fc5e-43a7-b361-b0d83f717f0f",
   "metadata": {},
   "source": [
    "Parse first table containing total capacity"
   ]
  },
  {
   "cell_type": "code",
   "execution_count": 85,
   "id": "1fe1494a-a1cc-4c9f-97e1-33ce17709c8c",
   "metadata": {},
   "outputs": [],
   "source": [
    "# reservoir_information_table = tables[0]"
   ]
  },
  {
   "cell_type": "code",
   "execution_count": 86,
   "id": "65060181-703d-42a1-89aa-677a266b0c1a",
   "metadata": {},
   "outputs": [],
   "source": [
    "# table1_cells = tables[0].find_all(\"td\")"
   ]
  },
  {
   "cell_type": "code",
   "execution_count": 87,
   "id": "ebf9af6a-6deb-491d-a312-df5909751227",
   "metadata": {},
   "outputs": [],
   "source": [
    "# d = dict(\n",
    "#     reservoir_id = table1_cells[1].text,\n",
    "#     dam_name = table1_cells[3].text,\n",
    "#     lake_name = table1_cells[5].text,\n",
    "#     stream_name = table1_cells[7].text,\n",
    "#     capacity = table1_cells[9].text,\n",
    "#     year_built = table1_cells[11].text,\n",
    "#     year_fill = table1_cells[13].text,\n",
    "#     start_year_avg = table1_cells[15].text,\n",
    "#     end_year_avg = table1_cells[17].text,\n",
    "# )"
   ]
  },
  {
   "cell_type": "code",
   "execution_count": 88,
   "id": "29942e85-01d4-4144-83c9-4fe3c441758b",
   "metadata": {},
   "outputs": [],
   "source": [
    "# meta_df = pd.DataFrame(d, index=[0])"
   ]
  },
  {
   "cell_type": "markdown",
   "id": "b762fe1b-c252-4c80-8560-7644d0aa96d5",
   "metadata": {},
   "source": [
    "Extract count of dams from the name field"
   ]
  },
  {
   "cell_type": "code",
   "execution_count": 89,
   "id": "1f5d5995-5d9a-421a-981d-f81a48549996",
   "metadata": {},
   "outputs": [],
   "source": [
    "# meta_df[\"number_of_dams\"] = meta_df.dam_name.str.extract('(\\d+)')"
   ]
  },
  {
   "cell_type": "markdown",
   "id": "9e331dd5-12e8-41b6-a869-95fb985e5356",
   "metadata": {},
   "source": [
    "Clean up capacity column"
   ]
  },
  {
   "cell_type": "code",
   "execution_count": 90,
   "id": "c2acd686-098b-4c12-98c4-4ca0694ebe79",
   "metadata": {},
   "outputs": [],
   "source": [
    "# meta_df['capacity'] = meta_df['capacity'].str.replace(\",\",\"\").str.replace(\" af\",\"\")"
   ]
  },
  {
   "cell_type": "markdown",
   "id": "a2ecc9ee-0aea-42f9-8e31-1695f77c7bba",
   "metadata": {},
   "source": [
    "Dump second table straight into a dataframe"
   ]
  },
  {
   "cell_type": "code",
   "execution_count": 91,
   "id": "0a31e017-22b2-46e2-ac42-e1b9b069c7e3",
   "metadata": {},
   "outputs": [],
   "source": [
    "# avgs_df = pd.read_html(str(tables[1]))[0]"
   ]
  },
  {
   "cell_type": "markdown",
   "id": "35b08864-3af1-440a-98d6-9b2fcb9def00",
   "metadata": {},
   "source": [
    "Name columns"
   ]
  },
  {
   "cell_type": "code",
   "execution_count": 92,
   "id": "cd10f093-716f-4a89-8d7c-d860bc70054d",
   "metadata": {},
   "outputs": [],
   "source": [
    "# avgs_df.columns = ['month', 'average_storage']"
   ]
  },
  {
   "cell_type": "markdown",
   "id": "b42cd395-0149-4bc6-991e-30e577c6d72e",
   "metadata": {},
   "source": [
    "Append reservoir id"
   ]
  },
  {
   "cell_type": "code",
   "execution_count": 93,
   "id": "69f2284c-1847-4a27-9208-821380662f4c",
   "metadata": {},
   "outputs": [],
   "source": [
    "# avgs_df['reservoir_id'] = table1_cells[1].text"
   ]
  },
  {
   "cell_type": "code",
   "execution_count": 94,
   "id": "2d53ff61-17ff-4dd9-b736-b12de301a4a1",
   "metadata": {},
   "outputs": [],
   "source": [
    "# avgs_df['average_storage'] = avgs_df['average_storage'].str.replace(\",\",\"\").str.replace(\" af\",\"\")"
   ]
  },
  {
   "cell_type": "markdown",
   "id": "c3e4cadd-9487-4140-be2b-46ec92559102",
   "metadata": {},
   "source": [
    "### Export"
   ]
  },
  {
   "cell_type": "code",
   "execution_count": 95,
   "id": "d7a11ed3-cd5a-4e19-b454-19060fd5f89c",
   "metadata": {},
   "outputs": [],
   "source": [
    "df.to_csv(\"../data/raw/reservoirs/statewide/timeseries.csv\", index=False)"
   ]
  },
  {
   "cell_type": "code",
   "execution_count": 96,
   "id": "8a21bb72-375d-44bf-b14f-051053ccd1af",
   "metadata": {},
   "outputs": [],
   "source": [
    "# meta_df.to_csv(\"../data/metadata/reservoirs-statewide-details.csv\", index=False)"
   ]
  },
  {
   "cell_type": "code",
   "execution_count": 97,
   "id": "616fc156-03c2-4936-ac5b-3ad4ad3433c7",
   "metadata": {},
   "outputs": [],
   "source": [
    "# avgs_df.to_csv(\"../data/metadata/reservoirs-statewide-historical-averages.csv\", index=False)"
   ]
  }
 ],
 "metadata": {
  "kernelspec": {
   "display_name": "Python 3 (ipykernel)",
   "language": "python",
   "name": "python3"
  },
  "language_info": {
   "codemirror_mode": {
    "name": "ipython",
    "version": 3
   },
   "file_extension": ".py",
   "mimetype": "text/x-python",
   "name": "python",
   "nbconvert_exporter": "python",
   "pygments_lexer": "ipython3",
   "version": "3.9.6"
  }
 },
 "nbformat": 4,
 "nbformat_minor": 5
}
