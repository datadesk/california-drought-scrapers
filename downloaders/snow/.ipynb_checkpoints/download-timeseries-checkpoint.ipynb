{
 "cells": [
  {
   "cell_type": "code",
   "execution_count": 1,
   "id": "a3066eaa-6997-45e0-8d28-76ade15bfa34",
   "metadata": {},
   "outputs": [
    {
     "name": "stderr",
     "output_type": "stream",
     "text": [
      "/Users/sgreene/.local/share/virtualenvs/california-drought-scrapers-ZgUZUkcJ/lib/python3.9/site-packages/urllib3/__init__.py:35: NotOpenSSLWarning: urllib3 v2 only supports OpenSSL 1.1.1+, currently the 'ssl' module is compiled with 'LibreSSL 2.8.3'. See: https://github.com/urllib3/urllib3/issues/3020\n",
      "  warnings.warn(\n"
     ]
    }
   ],
   "source": [
    "import pytz\n",
    "import requests\n",
    "import pandas as pd\n",
    "from datetime import datetime, date, timedelta"
   ]
  },
  {
   "cell_type": "code",
   "execution_count": 2,
   "id": "27a0c06d-0fa1-4ff9-965a-2c77e23efa0a",
   "metadata": {},
   "outputs": [
    {
     "data": {
      "text/plain": [
       "datetime.date(2024, 3, 12)"
      ]
     },
     "execution_count": 2,
     "metadata": {},
     "output_type": "execute_result"
    }
   ],
   "source": [
    "tz = pytz.timezone(\"America/Los_Angeles\")\n",
    "today = datetime.now(tz).date()\n",
    "today"
   ]
  },
  {
   "cell_type": "markdown",
   "id": "4df04659-2f4d-4416-aa42-79c19a6884be",
   "metadata": {},
   "source": [
    "### Download normals\n",
    "Source: [California Water Watch](https://cww.water.ca.gov/)"
   ]
  },
  {
   "cell_type": "code",
   "execution_count": 3,
   "id": "b874ff7d-bd4c-491c-b0cc-b2ff34adc06a",
   "metadata": {},
   "outputs": [],
   "source": [
    "cww_avgs = requests.get(\"https://cww.water.ca.gov/service/snow-data\").json()['avg']"
   ]
  },
  {
   "cell_type": "code",
   "execution_count": 4,
   "id": "121fbba3-0ebe-4041-99ca-c4a7167f6a04",
   "metadata": {},
   "outputs": [],
   "source": [
    "avgs = pd.DataFrame.from_records(cww_avgs)"
   ]
  },
  {
   "cell_type": "code",
   "execution_count": 5,
   "id": "fa8546c1-8d21-4e34-8ab5-cae496b17729",
   "metadata": {},
   "outputs": [],
   "source": [
    "avgs.to_csv(\"../../data/processed/snow/normal-swc.csv\", index=False)"
   ]
  },
  {
   "cell_type": "markdown",
   "id": "68e9109f-c56c-4309-8472-f6e1a8ac4e8c",
   "metadata": {},
   "source": [
    "### Download basin and statewide summaries\n",
    "Source: [California Data Exchange Center](https://cdec.water.ca.gov/querySWC.html)"
   ]
  },
  {
   "cell_type": "code",
   "execution_count": 6,
   "id": "5eb9aebf-7eae-439c-9ee4-c50dabdaa7b4",
   "metadata": {},
   "outputs": [],
   "source": [
    "def queryCDEC(stations, sensor_number, duration):\n",
    "    # build query\n",
    "    stations = stations.replace(\",\",\"%2C\")\n",
    "    # sensor number -- 3 = daily snow water equivalent\n",
    "    end_date = today\n",
    "\n",
    "    # url\n",
    "    url = f\"https://cdec.water.ca.gov/dynamicapp/req/CSVDataServlet?Stations={stations}&SensorNums={sensor_number}&dur_code={duration}&Start=1800-01&End={end_date}\"\n",
    "\n",
    "    # to df\n",
    "    df = pd.read_csv(url, parse_dates=[\"DATE TIME\", \"OBS DATE\"])\n",
    "    \n",
    "    return df"
   ]
  },
  {
   "cell_type": "markdown",
   "id": "bc3a1738-659b-4fa9-8647-11323ea01178",
   "metadata": {
    "tags": []
   },
   "source": [
    "Sensor codes:\n",
    "- 304: average snow water content\n",
    "- 305: percent of April 1 average\n",
    "- 306: percent of normal"
   ]
  },
  {
   "cell_type": "code",
   "execution_count": 7,
   "id": "cd39b351-906c-497d-911e-2362a2c35377",
   "metadata": {
    "tags": []
   },
   "outputs": [],
   "source": [
    "#NOR = North, CEN = Central, SOT = South, SWD = Statewide\n",
    "#regions = \"NOR,CEN,SOT\""
   ]
  },
  {
   "cell_type": "code",
   "execution_count": 8,
   "id": "b11619bd-1943-46aa-8209-4c76cfb7e2da",
   "metadata": {
    "tags": []
   },
   "outputs": [],
   "source": [
    "#swc_regions_df = queryCDEC(regions, 304, \"D\")"
   ]
  },
  {
   "cell_type": "code",
   "execution_count": 9,
   "id": "5a512eee-104a-4b54-9492-6edc001a0e45",
   "metadata": {
    "tags": []
   },
   "outputs": [],
   "source": [
    "#apr1_regions_df = queryCDEC(regions, 305, \"D\")"
   ]
  },
  {
   "cell_type": "code",
   "execution_count": 10,
   "id": "c090b6da-310c-412b-b556-688790384f2e",
   "metadata": {
    "tags": []
   },
   "outputs": [],
   "source": [
    "swc_state_df = queryCDEC(\"SWD\", 304, \"D\")"
   ]
  },
  {
   "cell_type": "code",
   "execution_count": 11,
   "id": "fe498225-41a7-4b9b-9910-9d2ad170b8e0",
   "metadata": {
    "tags": []
   },
   "outputs": [],
   "source": [
    "apr1_state_df = queryCDEC(\"SWD\", 305, \"D\")"
   ]
  },
  {
   "cell_type": "code",
   "execution_count": 12,
   "id": "0fec9b45-9e17-4cf9-9fa5-daf66604dc44",
   "metadata": {},
   "outputs": [],
   "source": [
    "normal_state_df = queryCDEC(\"SWD\", 306, \"D\")"
   ]
  },
  {
   "cell_type": "code",
   "execution_count": 13,
   "id": "6d2efd20-c125-47b3-ae87-6ab1d327028d",
   "metadata": {},
   "outputs": [
    {
     "data": {
      "text/plain": [
       "Timestamp('2024-03-12 00:00:00')"
      ]
     },
     "execution_count": 13,
     "metadata": {},
     "output_type": "execute_result"
    }
   ],
   "source": [
    "swc_state_df[swc_state_df[\"DATE TIME\"] == swc_state_df[\"DATE TIME\"].max()].iloc[0][\"DATE TIME\"]"
   ]
  },
  {
   "cell_type": "markdown",
   "id": "80649276-977e-4af8-8f62-389808fc99cb",
   "metadata": {},
   "source": [
    "### Clean"
   ]
  },
  {
   "cell_type": "code",
   "execution_count": 14,
   "id": "0f132e9f-41e9-42f5-8390-4fe979cbec9c",
   "metadata": {
    "tags": []
   },
   "outputs": [],
   "source": [
    "def cleanTimeseries(df):\n",
    "    \n",
    "    # tests\n",
    "    assert len(df.SENSOR_TYPE.unique()) == 1, \"Error: multiple sensor types\"\n",
    "    assert len(df.UNITS.unique()) == 1, \"Error: more than one unit\"\n",
    "    assert df.DURATION.unique()[0] == \"D\", \"Error: not all daily data\"\n",
    "    \n",
    "    # remove empty values\n",
    "    clean_df = df[(df.VALUE != \"---\") & (df.DATA_FLAG != \"N\")].copy()\n",
    "    \n",
    "    # convert to float\n",
    "    clean_df[\"VALUE\"] = clean_df[\"VALUE\"].astype(float)\n",
    "    \n",
    "    # convert to proper %s\n",
    "    unit = clean_df.iloc[0][\"UNITS\"]\n",
    "    if unit == \"%\":\n",
    "        clean_df[\"VALUE\"] = clean_df[\"VALUE\"] / 100\n",
    "        \n",
    "    clean_df[ clean_df[\"VALUE\"] >= 0]\n",
    "    \n",
    "    # lowercase columns\n",
    "    clean_df.columns = clean_df.columns.str.lower()\n",
    "    clean_df.columns = clean_df.columns.str.replace(\" \",\"_\")\n",
    "\n",
    "    # rename value column with sensor type and date time col\n",
    "    sensor_type = clean_df.iloc[0]['sensor_type'].lower().replace(\" \",\"_\")\n",
    "    \n",
    "    clean_df = clean_df.rename(columns={\"value\": sensor_type, \"date_time\": \"date\"})\n",
    "\n",
    "    \n",
    "    # trim\n",
    "    trim_df = clean_df[['station_id','date',sensor_type]]\n",
    "    \n",
    "    return trim_df"
   ]
  },
  {
   "cell_type": "code",
   "execution_count": 15,
   "id": "57ba95d0-7a05-42f2-aabd-bc462a755ddc",
   "metadata": {
    "tags": []
   },
   "outputs": [],
   "source": [
    "#swc_regions_df_clean = cleanTimeseries(swc_regions_df)"
   ]
  },
  {
   "cell_type": "code",
   "execution_count": 16,
   "id": "60820bc4-1a3c-4b5f-b49d-81d1aa2fc8d5",
   "metadata": {
    "tags": []
   },
   "outputs": [],
   "source": [
    "#apr1_regions_df_clean = cleanTimeseries(apr1_regions_df)"
   ]
  },
  {
   "cell_type": "code",
   "execution_count": 17,
   "id": "de94f239-4e1f-4cf6-aaa7-e57f69da77a4",
   "metadata": {
    "tags": []
   },
   "outputs": [],
   "source": [
    "swc_state_df_clean = cleanTimeseries(swc_state_df)"
   ]
  },
  {
   "cell_type": "code",
   "execution_count": 18,
   "id": "af2fc047-9f5d-4335-a7d1-50592ea76191",
   "metadata": {
    "tags": []
   },
   "outputs": [],
   "source": [
    "apr1_state_df_clean = cleanTimeseries(apr1_state_df)"
   ]
  },
  {
   "cell_type": "code",
   "execution_count": 19,
   "id": "7453f819-b86d-4b4f-a6ee-8939522b0078",
   "metadata": {},
   "outputs": [],
   "source": [
    "normal_state_df_clean = cleanTimeseries(normal_state_df)"
   ]
  },
  {
   "cell_type": "markdown",
   "id": "41cf62ce-125b-489d-bf2e-12ddf29c03be",
   "metadata": {},
   "source": [
    "### Merge"
   ]
  },
  {
   "cell_type": "code",
   "execution_count": 20,
   "id": "ffd470b1-7318-4cbe-a862-9bf9dca0ff91",
   "metadata": {
    "tags": []
   },
   "outputs": [],
   "source": [
    "# regions_merge_swc_apr1 = pd.merge(\n",
    "#     swc_regions_df_clean, \n",
    "#     apr1_regions_df_clean, \n",
    "#     on=[\"station_id\",\"date\"], \n",
    "#     how=\"outer\",\n",
    "#     suffixes=(\"_swc\",\"_apr1\")\n",
    "# )"
   ]
  },
  {
   "cell_type": "code",
   "execution_count": 21,
   "id": "211eaa81-a426-47f1-849b-7baf71b17217",
   "metadata": {
    "tags": []
   },
   "outputs": [],
   "source": [
    "# print(len(regions_merge_swc_apr1), len(swc_regions_df_clean), len(apr1_regions_df_clean) )"
   ]
  },
  {
   "cell_type": "code",
   "execution_count": 22,
   "id": "259425ec-f3e5-4c13-9a8d-db5935df1d30",
   "metadata": {
    "tags": []
   },
   "outputs": [],
   "source": [
    "state_merge_swc_normal = pd.merge(\n",
    "    swc_state_df_clean, \n",
    "    normal_state_df_clean, \n",
    "    on=[\"station_id\",\"date\"], \n",
    "    how=\"outer\",\n",
    ")"
   ]
  },
  {
   "cell_type": "code",
   "execution_count": 23,
   "id": "bd57a5dd-e9a5-44bd-89bb-ab359c0207b3",
   "metadata": {},
   "outputs": [],
   "source": [
    "state_merge_normal_apr1 = pd.merge(\n",
    "    state_merge_swc_normal, \n",
    "    apr1_state_df_clean, \n",
    "    on=[\"station_id\",\"date\"], \n",
    "    how=\"outer\",\n",
    ")"
   ]
  },
  {
   "cell_type": "code",
   "execution_count": 25,
   "id": "ed428068-2acf-47d8-b2a1-649a1d775146",
   "metadata": {
    "tags": []
   },
   "outputs": [],
   "source": [
    "assert len(swc_state_df_clean) == len(state_merge_swc_normal) == len(state_merge_normal_apr1)"
   ]
  },
  {
   "cell_type": "markdown",
   "id": "476f739d-8fde-4a77-a14b-e07c93a4b401",
   "metadata": {},
   "source": [
    "### Export"
   ]
  },
  {
   "cell_type": "code",
   "execution_count": 26,
   "id": "6bde0f95-c785-408f-b4a6-28265440dd09",
   "metadata": {
    "tags": []
   },
   "outputs": [],
   "source": [
    "#regions_merge_swc_apr1.to_csv(\"../../data/raw/snow/regions-timeseries.csv\", index=False)"
   ]
  },
  {
   "cell_type": "code",
   "execution_count": 27,
   "id": "51d9c2e2-966b-4e09-88c0-30a708c044b6",
   "metadata": {
    "tags": []
   },
   "outputs": [],
   "source": [
    "state_merge_normal_apr1.to_csv(\"../../data/raw/snow/statewide-timeseries.csv\", index=False)"
   ]
  },
  {
   "cell_type": "code",
   "execution_count": 28,
   "id": "9c3028cd-4bd3-4efa-8bfc-f429b5a936b8",
   "metadata": {},
   "outputs": [],
   "source": [
    "normal_state_df_clean.to_csv(\"../../data/raw/snow/statewide-normals.csv\", index=False)"
   ]
  }
 ],
 "metadata": {
  "kernelspec": {
   "display_name": "Python 3 (ipykernel)",
   "language": "python",
   "name": "python3"
  },
  "language_info": {
   "codemirror_mode": {
    "name": "ipython",
    "version": 3
   },
   "file_extension": ".py",
   "mimetype": "text/x-python",
   "name": "python",
   "nbconvert_exporter": "python",
   "pygments_lexer": "ipython3",
   "version": "3.9.6"
  }
 },
 "nbformat": 4,
 "nbformat_minor": 5
}
