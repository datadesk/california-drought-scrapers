{
 "cells": [
  {
   "cell_type": "code",
   "execution_count": 121,
   "id": "edcca902-4c31-4ea8-be78-a0a396409eec",
   "metadata": {},
   "outputs": [],
   "source": [
    "import pandas as pd\n",
    "import altair as alt\n",
    "import altair_latimes as lat\n",
    "from pandas.tseries.offsets import MonthEnd"
   ]
  },
  {
   "cell_type": "code",
   "execution_count": 122,
   "id": "36ffc5e1-1fe9-412f-b7ec-d4a3a1f2ef11",
   "metadata": {},
   "outputs": [
    {
     "data": {
      "text/plain": [
       "ThemeRegistry.enable('latimes')"
      ]
     },
     "execution_count": 122,
     "metadata": {},
     "output_type": "execute_result"
    }
   ],
   "source": [
    "alt.themes.register('latimes', lat.theme)\n",
    "alt.themes.enable('latimes')"
   ]
  },
  {
   "cell_type": "code",
   "execution_count": 123,
   "id": "981fa6df-76a7-4c97-9572-068d6b767f5b",
   "metadata": {},
   "outputs": [],
   "source": [
    "pd.set_option('display.float_format', lambda x: '%.3f' % x)"
   ]
  },
  {
   "cell_type": "markdown",
   "id": "0aab5e92-9ad5-4110-8c24-5508ac230fcb",
   "metadata": {},
   "source": [
    "### Import"
   ]
  },
  {
   "cell_type": "code",
   "execution_count": 124,
   "id": "eada2996-4a8c-4bbb-8c34-1738cd882bb3",
   "metadata": {},
   "outputs": [],
   "source": [
    "df = pd.read_csv(\"../data/raw/uw-usage.csv\", parse_dates=[\"Reporting Month\"])"
   ]
  },
  {
   "cell_type": "code",
   "execution_count": 125,
   "id": "f31f3525-724e-455f-97f3-09c8c4a9019b",
   "metadata": {},
   "outputs": [],
   "source": [
    "baselines_df = pd.read_csv(\"../data/raw/uw-2020-baseline-values.csv\")"
   ]
  },
  {
   "cell_type": "code",
   "execution_count": 126,
   "id": "7e552f6c-6897-423a-90b4-dfb1fec6f96b",
   "metadata": {},
   "outputs": [],
   "source": [
    "clean_district_names = pd.read_csv(\"../data/metadata/urban-water-suppliers-clean-names.csv\")"
   ]
  },
  {
   "cell_type": "markdown",
   "id": "074a5d31-8da2-4c29-86fd-0ce4d6f51bcc",
   "metadata": {},
   "source": [
    "### Clean"
   ]
  },
  {
   "cell_type": "markdown",
   "id": "d47314c4-45a6-4090-b556-64726ea87e7c",
   "metadata": {},
   "source": [
    "Remove junk from column names"
   ]
  },
  {
   "cell_type": "code",
   "execution_count": 127,
   "id": "f1ed09d0-380d-4f9d-91ad-cdd52ea22fb9",
   "metadata": {},
   "outputs": [],
   "source": [
    "df.columns = df.columns.str.replace(\" \",\"_\").str.replace(\"-\",\"_\").str.replace(r'[#,@,&,(,)]', '', regex=True).str.lower()"
   ]
  },
  {
   "cell_type": "markdown",
   "id": "bc4b0f34-de5a-4d80-bb47-113d4b86da65",
   "metadata": {},
   "source": [
    "Eliminate double spaces in supplier names"
   ]
  },
  {
   "cell_type": "code",
   "execution_count": 128,
   "id": "e9d8434b-11e4-4322-9f69-e8d20de3a2e1",
   "metadata": {},
   "outputs": [],
   "source": [
    "df.supplier_name = df.supplier_name.str.replace(\"  \", \" \")"
   ]
  },
  {
   "cell_type": "markdown",
   "id": "86e2c103-e0e3-4b56-9cd0-710bebd4e584",
   "metadata": {},
   "source": [
    "Clean up baselines column names as we did in the previous notebook"
   ]
  },
  {
   "cell_type": "code",
   "execution_count": 129,
   "id": "c6693671-6764-4568-89e2-941aa3c4aee8",
   "metadata": {},
   "outputs": [],
   "source": [
    "baselines_df.columns = baselines_df.columns.str.replace(\" \",\"_\").str.replace(\"-\",\"_\").str.replace(r'[#,@,&,(,)]', '', regex=True).str.lower()"
   ]
  },
  {
   "cell_type": "code",
   "execution_count": 130,
   "id": "8f4ac90a-fa77-4297-bed0-600c9d4946b8",
   "metadata": {},
   "outputs": [],
   "source": [
    "baselines_df.supplier_name = baselines_df.supplier_name.str.replace(\"  \", \" \")"
   ]
  },
  {
   "cell_type": "code",
   "execution_count": 131,
   "id": "c5ee2af5-4037-409d-8b11-7aca8ab0142e",
   "metadata": {},
   "outputs": [],
   "source": [
    "baselines_trimmed_df = baselines_df[[\n",
    "    'supplier_name', \n",
    "    'public_water_system_id', \n",
    "    'month', \n",
    "    #'original_units',\n",
    "    # 'total_potable_production_original_units',\n",
    "    # 'potable_commercial_agriculture_original_units',\n",
    "    'total_potable_production_minus_ag_gallons', \n",
    "    # 'staff_notes'\n",
    "]].copy()"
   ]
  },
  {
   "cell_type": "markdown",
   "id": "313fe135-d3dd-4401-9f07-21db0dbd95e1",
   "metadata": {},
   "source": [
    "Get rid of some unnecessary columns"
   ]
  },
  {
   "cell_type": "code",
   "execution_count": 132,
   "id": "19d3208a-ce06-4087-be21-7258221ba9cf",
   "metadata": {},
   "outputs": [],
   "source": [
    "trim_df = df[[\n",
    "    'supplier_name', \n",
    "    'public_water_system_id', \n",
    "    'reporting_month', \n",
    "    'county',\n",
    "    'hydrologic_region', \n",
    "    'climate_zone', \n",
    "    'total_population_served',\n",
    "    'calculated_total_potable_water_production_gallons_ag_excluded',\n",
    "    'calculated_r_gpcd', \n",
    "    # 'month'\n",
    "]].copy()"
   ]
  },
  {
   "cell_type": "markdown",
   "id": "9be6cdae-69ad-4b69-ac93-2ef56a86cdde",
   "metadata": {},
   "source": [
    "### Get populations by supplier, hydrologic region and state total"
   ]
  },
  {
   "cell_type": "markdown",
   "id": "e8b67aa8-7e50-442a-bdfa-c6c23aa5526a",
   "metadata": {},
   "source": [
    "Using populations from the beginning of the drought emergency"
   ]
  },
  {
   "cell_type": "code",
   "execution_count": 133,
   "id": "5ccb8e5c-db4f-40e5-954f-72acc03e60b4",
   "metadata": {},
   "outputs": [],
   "source": [
    "pops_by_supplier = df[\n",
    "    df.reporting_month == \"2021-07-15\"\n",
    "][[\"supplier_name\",\"hydrologic_region\",\"total_population_served\"]]"
   ]
  },
  {
   "cell_type": "code",
   "execution_count": 134,
   "id": "12a2b496-ec84-4462-b929-1148a0b82f2a",
   "metadata": {},
   "outputs": [],
   "source": [
    "pops_by_region = pops_by_supplier.groupby(\n",
    "    [\"hydrologic_region\"]\n",
    ")[\"total_population_served\"].sum().reset_index()"
   ]
  },
  {
   "cell_type": "code",
   "execution_count": 135,
   "id": "d0e6b0c5-8c3d-4cd0-838b-6d614f482059",
   "metadata": {},
   "outputs": [
    {
     "data": {
      "text/plain": [
       "37110227"
      ]
     },
     "execution_count": 135,
     "metadata": {},
     "output_type": "execute_result"
    }
   ],
   "source": [
    "pop_state = pops_by_region.total_population_served.sum()\n",
    "pop_state"
   ]
  },
  {
   "cell_type": "markdown",
   "id": "e243cc84-9ae7-477a-8fda-552735e50641",
   "metadata": {},
   "source": [
    "### Merge"
   ]
  },
  {
   "cell_type": "markdown",
   "id": "d818f238-e884-4919-b63c-54132e7736a6",
   "metadata": {},
   "source": [
    "Filter df to July 2021 and later"
   ]
  },
  {
   "cell_type": "code",
   "execution_count": 136,
   "id": "2e8b7b2d-8d14-4c13-a91d-d84b563583f2",
   "metadata": {},
   "outputs": [],
   "source": [
    "filter_df = trim_df[\n",
    "    (trim_df.reporting_month >= \"2021-07-15\")\n",
    "].copy()"
   ]
  },
  {
   "cell_type": "markdown",
   "id": "0e593742-54f6-44d2-8614-d27ddf994a30",
   "metadata": {},
   "source": [
    "Remove -999999999"
   ]
  },
  {
   "cell_type": "code",
   "execution_count": 137,
   "id": "1b244cee-ad69-41ec-9ee5-41c61ef851c2",
   "metadata": {},
   "outputs": [],
   "source": [
    "filter_df = filter_df[filter_df.calculated_total_potable_water_production_gallons_ag_excluded != -999999999]"
   ]
  },
  {
   "cell_type": "markdown",
   "id": "cd5f1dca-1f9d-4a4f-a4bd-feb4703a1dbb",
   "metadata": {},
   "source": [
    "Make a month column to merge with baselines"
   ]
  },
  {
   "cell_type": "code",
   "execution_count": 138,
   "id": "6a81a262-3a0e-4e43-82dd-c6bfb07d733e",
   "metadata": {},
   "outputs": [],
   "source": [
    "filter_df[\"month\"] = filter_df[\"reporting_month\"].dt.month"
   ]
  },
  {
   "cell_type": "code",
   "execution_count": 139,
   "id": "1a6d11a1-8664-4426-ac53-4b3d6f794a19",
   "metadata": {},
   "outputs": [],
   "source": [
    "merge_df = pd.merge(\n",
    "    filter_df, \n",
    "    baselines_trimmed_df, \n",
    "    how=\"left\", \n",
    "    on=[\"supplier_name\", \"public_water_system_id\", \"month\"]\n",
    ").rename(\n",
    "    columns={\n",
    "        \"calculated_total_potable_water_production_gallons_ag_excluded\": \"total_gallons_current\",\n",
    "        \"total_potable_production_minus_ag_gallons\": \"total_gallons_baseline\"\n",
    "    }\n",
    ").drop(\"month\", axis=1)"
   ]
  },
  {
   "cell_type": "markdown",
   "id": "6c4f99ce-7759-4c14-8a49-aa81f579393d",
   "metadata": {},
   "source": [
    "### Remove duplicates"
   ]
  },
  {
   "cell_type": "code",
   "execution_count": 140,
   "id": "10fd4ac4-e017-471a-af48-033e4b6884f6",
   "metadata": {},
   "outputs": [],
   "source": [
    "tmp = merge_df.set_index(['supplier_name', 'reporting_month'])"
   ]
  },
  {
   "cell_type": "code",
   "execution_count": 141,
   "id": "4fbed164-1d6a-4c0e-ae2c-244afa6b56ba",
   "metadata": {},
   "outputs": [],
   "source": [
    "merge_df = tmp[~tmp.index.duplicated()].reset_index()"
   ]
  },
  {
   "cell_type": "markdown",
   "id": "477ee8c6-0628-4afc-9507-1fcf667cb2ad",
   "metadata": {},
   "source": [
    "### Calculate percent changes by month"
   ]
  },
  {
   "cell_type": "code",
   "execution_count": 142,
   "id": "547a5c98-1953-4b25-8e5a-f0d74096468e",
   "metadata": {},
   "outputs": [],
   "source": [
    "def pct_change(new, old):\n",
    "    return (new - old) / old"
   ]
  },
  {
   "cell_type": "markdown",
   "id": "73f58d13-7448-4883-bc4b-7c300bfac1b7",
   "metadata": {},
   "source": [
    "By supplier"
   ]
  },
  {
   "cell_type": "code",
   "execution_count": 143,
   "id": "6d7c46a4-610b-46c8-a6d1-be000255b9d5",
   "metadata": {},
   "outputs": [],
   "source": [
    "merge_df[\"gallons_pct_change\"] = merge_df.apply(lambda x: pct_change(x.total_gallons_current, x.total_gallons_baseline), axis=1)"
   ]
  },
  {
   "cell_type": "markdown",
   "id": "26aeabcf-9b4d-4954-a76c-8b6ec97f1970",
   "metadata": {},
   "source": [
    "Filter out outliers"
   ]
  },
  {
   "cell_type": "code",
   "execution_count": 144,
   "id": "3eee4eca-2625-469e-85a5-27d1fddfdf49",
   "metadata": {},
   "outputs": [],
   "source": [
    "# lower_thresh=-0.5\n",
    "# upper_thresh=1.3"
   ]
  },
  {
   "cell_type": "code",
   "execution_count": 145,
   "id": "0a050e9f-017d-4d3e-a62c-306f14c29c2d",
   "metadata": {},
   "outputs": [],
   "source": [
    "# districts_filtered = merge_df[\n",
    "#     (merge_df['gallons_pct_change']<upper_thresh)&(merge_df['gallons_pct_change']>lower_thresh)\n",
    "# ]"
   ]
  },
  {
   "cell_type": "markdown",
   "id": "840ec757-a50c-47fd-a191-c2738ac8f830",
   "metadata": {},
   "source": [
    "By region"
   ]
  },
  {
   "cell_type": "code",
   "execution_count": 146,
   "id": "b3fdf17e-2b00-4cf6-8ec3-71eb75c5ff5a",
   "metadata": {},
   "outputs": [],
   "source": [
    "regions_df = merge_df.groupby(\n",
    "    [\"hydrologic_region\", \"reporting_month\"]\n",
    ")[[\"total_gallons_current\",\"total_gallons_baseline\", \"supplier_name\"]].agg({\n",
    "    \"total_gallons_current\":\"sum\",\n",
    "    \"total_gallons_baseline\":\"sum\",\n",
    "    \"supplier_name\":\"size\"\n",
    "}).reset_index()"
   ]
  },
  {
   "cell_type": "code",
   "execution_count": 147,
   "id": "530710c3-aa12-4277-8a76-e7ee2d799122",
   "metadata": {},
   "outputs": [],
   "source": [
    "regions_df[\"gallons_pct_change\"] = regions_df.apply(lambda x: pct_change(x.total_gallons_current, x.total_gallons_baseline), axis=1)"
   ]
  },
  {
   "cell_type": "markdown",
   "id": "6cf4c99e-6d33-4c60-b6c9-4afe709878dc",
   "metadata": {},
   "source": [
    "Statewide"
   ]
  },
  {
   "cell_type": "code",
   "execution_count": 148,
   "id": "e42a3f85-65c6-495a-8a1d-6ceb08936574",
   "metadata": {},
   "outputs": [],
   "source": [
    "merge_df[\"state\"] = \"Statewide\""
   ]
  },
  {
   "cell_type": "code",
   "execution_count": 149,
   "id": "01e16002-172a-4deb-9462-4e2e59456279",
   "metadata": {},
   "outputs": [],
   "source": [
    "statewide_df = merge_df.groupby([\"state\", \"reporting_month\"])[[\"total_gallons_current\",\"total_gallons_baseline\"]].sum().reset_index()"
   ]
  },
  {
   "cell_type": "code",
   "execution_count": 150,
   "id": "929ddd2e-3ec5-4c35-a0a9-55656fade625",
   "metadata": {},
   "outputs": [],
   "source": [
    "statewide_df[\"gallons_pct_change\"] = statewide_df.apply(lambda x: pct_change(x.total_gallons_current, x.total_gallons_baseline), axis=1)"
   ]
  },
  {
   "cell_type": "markdown",
   "id": "7be6d8d0-0069-4c62-826d-3a39b54469c6",
   "metadata": {},
   "source": [
    "### Calculate cumulative savings since July 2021"
   ]
  },
  {
   "cell_type": "markdown",
   "id": "d3eacd7a-9c98-41f1-a9c5-d5b8c2cd8bd2",
   "metadata": {},
   "source": [
    "Set up some vars and function"
   ]
  },
  {
   "cell_type": "code",
   "execution_count": 151,
   "id": "2ccb4ec6-1c75-415a-8a62-2a71b642d7a5",
   "metadata": {},
   "outputs": [],
   "source": [
    "def month_diff(a, b):\n",
    "    return 12 * (a.year - b.year) + (a.month - b.month)"
   ]
  },
  {
   "cell_type": "code",
   "execution_count": 152,
   "id": "f0cdd3f7-db26-4276-b16e-e682a3e9db03",
   "metadata": {},
   "outputs": [],
   "source": [
    "def gallons_per_unit(gallons, baseline, population, time):\n",
    "    return ((baseline - gallons) / population) / time"
   ]
  },
  {
   "cell_type": "code",
   "execution_count": 153,
   "id": "7b8ab4a8-a3c7-4137-acfc-b4858a45898f",
   "metadata": {},
   "outputs": [
    {
     "data": {
      "text/plain": [
       "Timestamp('2021-07-01 00:00:00')"
      ]
     },
     "execution_count": 153,
     "metadata": {},
     "output_type": "execute_result"
    }
   ],
   "source": [
    "# voluntary_reductions_begin = pd.to_datetime('2021-07-08')\n",
    "voluntary_reductions_begin = pd.to_datetime('2021-07-01')\n",
    "voluntary_reductions_begin"
   ]
  },
  {
   "cell_type": "code",
   "execution_count": 154,
   "id": "c35ab06b-845c-46d4-a6b0-222fabb7a0cf",
   "metadata": {},
   "outputs": [
    {
     "data": {
      "text/plain": [
       "Timestamp('2023-03-31 00:00:00')"
      ]
     },
     "execution_count": 154,
     "metadata": {},
     "output_type": "execute_result"
    }
   ],
   "source": [
    "latest_month = statewide_df[\n",
    "    statewide_df.reporting_month == statewide_df.reporting_month.max()\n",
    "].iloc[0]['reporting_month']\n",
    "\n",
    "latest_month = pd.to_datetime(latest_month, format=\"%Y%m\") + MonthEnd(0)\n",
    "\n",
    "latest_month"
   ]
  },
  {
   "cell_type": "code",
   "execution_count": 155,
   "id": "7a6e532d-234e-4418-a1f8-f1299ee4095b",
   "metadata": {},
   "outputs": [
    {
     "data": {
      "text/plain": [
       "20"
      ]
     },
     "execution_count": 155,
     "metadata": {},
     "output_type": "execute_result"
    }
   ],
   "source": [
    "months_since_reductions_begin = month_diff(latest_month, voluntary_reductions_begin)\n",
    "months_since_reductions_begin"
   ]
  },
  {
   "cell_type": "code",
   "execution_count": 156,
   "id": "478023d7-e6cf-4a3d-92f5-33eb47020ff2",
   "metadata": {},
   "outputs": [
    {
     "data": {
      "text/plain": [
       "638"
      ]
     },
     "execution_count": 156,
     "metadata": {},
     "output_type": "execute_result"
    }
   ],
   "source": [
    "days_since_reductions = (latest_month - voluntary_reductions_begin).days\n",
    "days_since_reductions"
   ]
  },
  {
   "cell_type": "markdown",
   "id": "b594b9f1-2a9e-45a8-b22d-a711cb8dce61",
   "metadata": {},
   "source": [
    "Get date of this monthly report"
   ]
  },
  {
   "cell_type": "code",
   "execution_count": 157,
   "id": "593a6542-2a3a-46d2-a22f-9c3b87499874",
   "metadata": {},
   "outputs": [],
   "source": [
    "date = statewide_df[\n",
    "    (statewide_df.reporting_month==statewide_df.reporting_month.max())\n",
    "].iloc[0][\"reporting_month\"]"
   ]
  },
  {
   "cell_type": "markdown",
   "id": "c0af84a1-c724-478e-b3f4-e65084cd6106",
   "metadata": {},
   "source": [
    "Drop suppliers with missing data"
   ]
  },
  {
   "cell_type": "code",
   "execution_count": 158,
   "id": "91ad7df8-1947-49e0-b51a-9a53eef5476c",
   "metadata": {},
   "outputs": [],
   "source": [
    "counts = merge_df.groupby(\"supplier_name\")[\"reporting_month\"].count().reset_index()"
   ]
  },
  {
   "cell_type": "code",
   "execution_count": 159,
   "id": "4742cbb7-c054-4a53-8967-a4236fe775af",
   "metadata": {},
   "outputs": [
    {
     "data": {
      "text/plain": [
       "21"
      ]
     },
     "execution_count": 159,
     "metadata": {},
     "output_type": "execute_result"
    }
   ],
   "source": [
    "max_count = max(counts.reporting_month)\n",
    "max_count"
   ]
  },
  {
   "cell_type": "code",
   "execution_count": 160,
   "id": "46c6f88e-0e3e-46cc-b9d8-534daea8dc0e",
   "metadata": {},
   "outputs": [],
   "source": [
    "suppliers_with_complete_data = list(counts[counts.reporting_month == max_count].supplier_name)"
   ]
  },
  {
   "cell_type": "code",
   "execution_count": 161,
   "id": "f7944f71-e872-47af-bc3b-db052dded625",
   "metadata": {},
   "outputs": [],
   "source": [
    "complete_data = merge_df[merge_df.supplier_name.isin(suppliers_with_complete_data)].copy()"
   ]
  },
  {
   "cell_type": "code",
   "execution_count": 162,
   "id": "c28ba5f9-12ec-43cf-82a7-ae6c7aea0334",
   "metadata": {},
   "outputs": [],
   "source": [
    "#complete_data[complete_data.reporting_month == \"2023-03-15\"]"
   ]
  },
  {
   "cell_type": "markdown",
   "id": "e5625ab4-9fab-412a-a7a3-9dba0b865b8a",
   "metadata": {},
   "source": [
    "By district"
   ]
  },
  {
   "cell_type": "code",
   "execution_count": 163,
   "id": "74c85995-7aad-4faf-9812-6d49ec99d2a5",
   "metadata": {},
   "outputs": [],
   "source": [
    "district_cumulative_savings_df = complete_data.groupby(\n",
    "    [\"supplier_name\",\"hydrologic_region\"]\n",
    ")[[\"total_gallons_current\",\"total_gallons_baseline\"]].sum().reset_index()"
   ]
  },
  {
   "cell_type": "code",
   "execution_count": 164,
   "id": "eb73c4d8-a2cf-4433-8802-9a2b93878a57",
   "metadata": {},
   "outputs": [],
   "source": [
    "district_cumulative_savings_df = pd.merge(\n",
    "    district_cumulative_savings_df,\n",
    "    pops_by_supplier[[\"supplier_name\",\"hydrologic_region\",\"total_population_served\"]],\n",
    "    how=\"left\",\n",
    "    on=[\"supplier_name\",\"hydrologic_region\"]\n",
    ")"
   ]
  },
  {
   "cell_type": "code",
   "execution_count": 165,
   "id": "93ee251c-3781-43f5-892d-dc0366612a43",
   "metadata": {},
   "outputs": [],
   "source": [
    "district_cumulative_savings_df[\"cumulative_pct_change\"] = district_cumulative_savings_df.apply(lambda x: pct_change(x.total_gallons_current, x.total_gallons_baseline), axis=1)"
   ]
  },
  {
   "cell_type": "code",
   "execution_count": 166,
   "id": "a011f93b-7b2a-45bc-95ff-de9ed49f1574",
   "metadata": {},
   "outputs": [],
   "source": [
    "district_cumulative_savings_df['date'] = date"
   ]
  },
  {
   "cell_type": "code",
   "execution_count": 167,
   "id": "36fe107e-9e14-425e-8887-674e1501ff6c",
   "metadata": {},
   "outputs": [],
   "source": [
    "district_cumulative_savings_df['months_since'] = months_since_reductions_begin\n",
    "district_cumulative_savings_df['days_since'] = days_since_reductions"
   ]
  },
  {
   "cell_type": "code",
   "execution_count": 168,
   "id": "5b73f8a7-dd71-4b52-9af1-b8f3a644264c",
   "metadata": {},
   "outputs": [],
   "source": [
    "district_cumulative_savings_df['gallons_saved_per_month'] = district_cumulative_savings_df.apply(\n",
    "    lambda x: gallons_per_unit(\n",
    "        x.total_gallons_current, x.total_gallons_baseline, x.total_population_served, x.months_since\n",
    "    ), axis=1\n",
    ")"
   ]
  },
  {
   "cell_type": "code",
   "execution_count": 169,
   "id": "0d8b9256-d49c-4cd0-baed-90f27d58a716",
   "metadata": {},
   "outputs": [],
   "source": [
    "district_cumulative_savings_df['gallons_saved_per_day'] = district_cumulative_savings_df.apply(\n",
    "    lambda x: gallons_per_unit(\n",
    "        x.total_gallons_current, x.total_gallons_baseline, x.total_population_served, x.days_since\n",
    "    ), axis=1\n",
    ")"
   ]
  },
  {
   "cell_type": "code",
   "execution_count": 171,
   "id": "598fb066-21cd-43dc-86a5-d64f6bd853ff",
   "metadata": {},
   "outputs": [
    {
     "data": {
      "text/html": [
       "<div>\n",
       "<style scoped>\n",
       "    .dataframe tbody tr th:only-of-type {\n",
       "        vertical-align: middle;\n",
       "    }\n",
       "\n",
       "    .dataframe tbody tr th {\n",
       "        vertical-align: top;\n",
       "    }\n",
       "\n",
       "    .dataframe thead th {\n",
       "        text-align: right;\n",
       "    }\n",
       "</style>\n",
       "<table border=\"1\" class=\"dataframe\">\n",
       "  <thead>\n",
       "    <tr style=\"text-align: right;\">\n",
       "      <th></th>\n",
       "      <th>supplier_name</th>\n",
       "      <th>hydrologic_region</th>\n",
       "      <th>total_gallons_current</th>\n",
       "      <th>total_gallons_baseline</th>\n",
       "      <th>total_population_served</th>\n",
       "      <th>cumulative_pct_change</th>\n",
       "      <th>date</th>\n",
       "      <th>months_since</th>\n",
       "      <th>days_since</th>\n",
       "      <th>gallons_saved_per_month</th>\n",
       "      <th>gallons_saved_per_day</th>\n",
       "    </tr>\n",
       "  </thead>\n",
       "  <tbody>\n",
       "    <tr>\n",
       "      <th>320</th>\n",
       "      <td>Vernon City of</td>\n",
       "      <td>South Coast</td>\n",
       "      <td>3471293961.510</td>\n",
       "      <td>3870557378.473</td>\n",
       "      <td>112</td>\n",
       "      <td>-0.103</td>\n",
       "      <td>2023-03-15</td>\n",
       "      <td>20</td>\n",
       "      <td>638</td>\n",
       "      <td>178242.597</td>\n",
       "      <td>5587.542</td>\n",
       "    </tr>\n",
       "    <tr>\n",
       "      <th>143</th>\n",
       "      <td>Humboldt Bay Municipal Water District</td>\n",
       "      <td>North Coast</td>\n",
       "      <td>102519000.000</td>\n",
       "      <td>174266000.000</td>\n",
       "      <td>602</td>\n",
       "      <td>-0.412</td>\n",
       "      <td>2023-03-15</td>\n",
       "      <td>20</td>\n",
       "      <td>638</td>\n",
       "      <td>5959.053</td>\n",
       "      <td>186.804</td>\n",
       "    </tr>\n",
       "    <tr>\n",
       "      <th>170</th>\n",
       "      <td>Livingston City of</td>\n",
       "      <td>San Joaquin River</td>\n",
       "      <td>3819717000.000</td>\n",
       "      <td>4834329000.000</td>\n",
       "      <td>15052</td>\n",
       "      <td>-0.210</td>\n",
       "      <td>2023-03-15</td>\n",
       "      <td>20</td>\n",
       "      <td>638</td>\n",
       "      <td>3370.356</td>\n",
       "      <td>105.654</td>\n",
       "    </tr>\n",
       "    <tr>\n",
       "      <th>50</th>\n",
       "      <td>California Water Service Company Westlake</td>\n",
       "      <td>South Coast</td>\n",
       "      <td>3208296360.900</td>\n",
       "      <td>4020289456.673</td>\n",
       "      <td>19489</td>\n",
       "      <td>-0.202</td>\n",
       "      <td>2023-03-15</td>\n",
       "      <td>20</td>\n",
       "      <td>638</td>\n",
       "      <td>2083.209</td>\n",
       "      <td>65.304</td>\n",
       "    </tr>\n",
       "    <tr>\n",
       "      <th>325</th>\n",
       "      <td>West Kern Water District</td>\n",
       "      <td>Tulare Lake</td>\n",
       "      <td>7804089089.370</td>\n",
       "      <td>8552860276.011</td>\n",
       "      <td>22113</td>\n",
       "      <td>-0.088</td>\n",
       "      <td>2023-03-15</td>\n",
       "      <td>20</td>\n",
       "      <td>638</td>\n",
       "      <td>1693.057</td>\n",
       "      <td>53.074</td>\n",
       "    </tr>\n",
       "    <tr>\n",
       "      <th>...</th>\n",
       "      <td>...</td>\n",
       "      <td>...</td>\n",
       "      <td>...</td>\n",
       "      <td>...</td>\n",
       "      <td>...</td>\n",
       "      <td>...</td>\n",
       "      <td>...</td>\n",
       "      <td>...</td>\n",
       "      <td>...</td>\n",
       "      <td>...</td>\n",
       "      <td>...</td>\n",
       "    </tr>\n",
       "    <tr>\n",
       "      <th>207</th>\n",
       "      <td>Oildale Mutual Water Company</td>\n",
       "      <td>Tulare Lake</td>\n",
       "      <td>5082317598.060</td>\n",
       "      <td>4955180289.703</td>\n",
       "      <td>34133</td>\n",
       "      <td>0.026</td>\n",
       "      <td>2023-03-15</td>\n",
       "      <td>20</td>\n",
       "      <td>638</td>\n",
       "      <td>-186.238</td>\n",
       "      <td>-5.838</td>\n",
       "    </tr>\n",
       "    <tr>\n",
       "      <th>69</th>\n",
       "      <td>Coachella City of</td>\n",
       "      <td>Colorado River</td>\n",
       "      <td>4247720000.000</td>\n",
       "      <td>4062500000.000</td>\n",
       "      <td>45635</td>\n",
       "      <td>0.046</td>\n",
       "      <td>2023-03-15</td>\n",
       "      <td>20</td>\n",
       "      <td>638</td>\n",
       "      <td>-202.936</td>\n",
       "      <td>-6.362</td>\n",
       "    </tr>\n",
       "    <tr>\n",
       "      <th>93</th>\n",
       "      <td>El Centro City of</td>\n",
       "      <td>Colorado River</td>\n",
       "      <td>4641609000.000</td>\n",
       "      <td>4268718000.000</td>\n",
       "      <td>46364</td>\n",
       "      <td>0.087</td>\n",
       "      <td>2023-03-15</td>\n",
       "      <td>20</td>\n",
       "      <td>638</td>\n",
       "      <td>-402.134</td>\n",
       "      <td>-12.606</td>\n",
       "    </tr>\n",
       "    <tr>\n",
       "      <th>96</th>\n",
       "      <td>El Segundo City of</td>\n",
       "      <td>South Coast</td>\n",
       "      <td>3948353853.412</td>\n",
       "      <td>3157502538.939</td>\n",
       "      <td>16654</td>\n",
       "      <td>0.250</td>\n",
       "      <td>2023-03-15</td>\n",
       "      <td>20</td>\n",
       "      <td>638</td>\n",
       "      <td>-2374.358</td>\n",
       "      <td>-74.431</td>\n",
       "    </tr>\n",
       "    <tr>\n",
       "      <th>217</th>\n",
       "      <td>Paradise Irrigation District</td>\n",
       "      <td>Sacramento River</td>\n",
       "      <td>2290700000.000</td>\n",
       "      <td>2143130000.000</td>\n",
       "      <td>3000</td>\n",
       "      <td>0.069</td>\n",
       "      <td>2023-03-15</td>\n",
       "      <td>20</td>\n",
       "      <td>638</td>\n",
       "      <td>-2459.500</td>\n",
       "      <td>-77.100</td>\n",
       "    </tr>\n",
       "  </tbody>\n",
       "</table>\n",
       "<p>336 rows × 11 columns</p>\n",
       "</div>"
      ],
      "text/plain": [
       "                                 supplier_name  hydrologic_region  \\\n",
       "320                             Vernon City of        South Coast   \n",
       "143      Humboldt Bay Municipal Water District        North Coast   \n",
       "170                         Livingston City of  San Joaquin River   \n",
       "50   California Water Service Company Westlake        South Coast   \n",
       "325                   West Kern Water District        Tulare Lake   \n",
       "..                                         ...                ...   \n",
       "207               Oildale Mutual Water Company        Tulare Lake   \n",
       "69                           Coachella City of     Colorado River   \n",
       "93                           El Centro City of     Colorado River   \n",
       "96                          El Segundo City of        South Coast   \n",
       "217               Paradise Irrigation District   Sacramento River   \n",
       "\n",
       "     total_gallons_current  total_gallons_baseline  total_population_served  \\\n",
       "320         3471293961.510          3870557378.473                      112   \n",
       "143          102519000.000           174266000.000                      602   \n",
       "170         3819717000.000          4834329000.000                    15052   \n",
       "50          3208296360.900          4020289456.673                    19489   \n",
       "325         7804089089.370          8552860276.011                    22113   \n",
       "..                     ...                     ...                      ...   \n",
       "207         5082317598.060          4955180289.703                    34133   \n",
       "69          4247720000.000          4062500000.000                    45635   \n",
       "93          4641609000.000          4268718000.000                    46364   \n",
       "96          3948353853.412          3157502538.939                    16654   \n",
       "217         2290700000.000          2143130000.000                     3000   \n",
       "\n",
       "     cumulative_pct_change       date  months_since  days_since  \\\n",
       "320                 -0.103 2023-03-15            20         638   \n",
       "143                 -0.412 2023-03-15            20         638   \n",
       "170                 -0.210 2023-03-15            20         638   \n",
       "50                  -0.202 2023-03-15            20         638   \n",
       "325                 -0.088 2023-03-15            20         638   \n",
       "..                     ...        ...           ...         ...   \n",
       "207                  0.026 2023-03-15            20         638   \n",
       "69                   0.046 2023-03-15            20         638   \n",
       "93                   0.087 2023-03-15            20         638   \n",
       "96                   0.250 2023-03-15            20         638   \n",
       "217                  0.069 2023-03-15            20         638   \n",
       "\n",
       "     gallons_saved_per_month  gallons_saved_per_day  \n",
       "320               178242.597               5587.542  \n",
       "143                 5959.053                186.804  \n",
       "170                 3370.356                105.654  \n",
       "50                  2083.209                 65.304  \n",
       "325                 1693.057                 53.074  \n",
       "..                       ...                    ...  \n",
       "207                 -186.238                 -5.838  \n",
       "69                  -202.936                 -6.362  \n",
       "93                  -402.134                -12.606  \n",
       "96                 -2374.358                -74.431  \n",
       "217                -2459.500                -77.100  \n",
       "\n",
       "[336 rows x 11 columns]"
      ]
     },
     "execution_count": 171,
     "metadata": {},
     "output_type": "execute_result"
    }
   ],
   "source": [
    "district_cumulative_savings_df.sort_values(\"gallons_saved_per_day\", ascending=False)"
   ]
  },
  {
   "cell_type": "code",
   "execution_count": 172,
   "id": "b4e721da-18cb-4062-812c-a83e35332af9",
   "metadata": {},
   "outputs": [
    {
     "data": {
      "text/html": [
       "\n",
       "<div id=\"altair-viz-f2380bff10f04d0ca926d06af442fe03\"></div>\n",
       "<script type=\"text/javascript\">\n",
       "  var VEGA_DEBUG = (typeof VEGA_DEBUG == \"undefined\") ? {} : VEGA_DEBUG;\n",
       "  (function(spec, embedOpt){\n",
       "    let outputDiv = document.currentScript.previousElementSibling;\n",
       "    if (outputDiv.id !== \"altair-viz-f2380bff10f04d0ca926d06af442fe03\") {\n",
       "      outputDiv = document.getElementById(\"altair-viz-f2380bff10f04d0ca926d06af442fe03\");\n",
       "    }\n",
       "    const paths = {\n",
       "      \"vega\": \"https://cdn.jsdelivr.net/npm//vega@5?noext\",\n",
       "      \"vega-lib\": \"https://cdn.jsdelivr.net/npm//vega-lib?noext\",\n",
       "      \"vega-lite\": \"https://cdn.jsdelivr.net/npm//vega-lite@4.17.0?noext\",\n",
       "      \"vega-embed\": \"https://cdn.jsdelivr.net/npm//vega-embed@6?noext\",\n",
       "    };\n",
       "\n",
       "    function maybeLoadScript(lib, version) {\n",
       "      var key = `${lib.replace(\"-\", \"\")}_version`;\n",
       "      return (VEGA_DEBUG[key] == version) ?\n",
       "        Promise.resolve(paths[lib]) :\n",
       "        new Promise(function(resolve, reject) {\n",
       "          var s = document.createElement('script');\n",
       "          document.getElementsByTagName(\"head\")[0].appendChild(s);\n",
       "          s.async = true;\n",
       "          s.onload = () => {\n",
       "            VEGA_DEBUG[key] = version;\n",
       "            return resolve(paths[lib]);\n",
       "          };\n",
       "          s.onerror = () => reject(`Error loading script: ${paths[lib]}`);\n",
       "          s.src = paths[lib];\n",
       "        });\n",
       "    }\n",
       "\n",
       "    function showError(err) {\n",
       "      outputDiv.innerHTML = `<div class=\"error\" style=\"color:red;\">${err}</div>`;\n",
       "      throw err;\n",
       "    }\n",
       "\n",
       "    function displayChart(vegaEmbed) {\n",
       "      vegaEmbed(outputDiv, spec, embedOpt)\n",
       "        .catch(err => showError(`Javascript Error: ${err.message}<br>This usually means there's a typo in your chart specification. See the javascript console for the full traceback.`));\n",
       "    }\n",
       "\n",
       "    if(typeof define === \"function\" && define.amd) {\n",
       "      requirejs.config({paths});\n",
       "      require([\"vega-embed\"], displayChart, err => showError(`Error loading script: ${err.message}`));\n",
       "    } else {\n",
       "      maybeLoadScript(\"vega\", \"5\")\n",
       "        .then(() => maybeLoadScript(\"vega-lite\", \"4.17.0\"))\n",
       "        .then(() => maybeLoadScript(\"vega-embed\", \"6\"))\n",
       "        .catch(showError)\n",
       "        .then(() => displayChart(vegaEmbed));\n",
       "    }\n",
       "  })({\"config\": {\"view\": {\"width\": 800, \"height\": 450}, \"background\": \"#ffffff\", \"title\": {\"anchor\": \"start\", \"font\": \"BentonGothic-Bold, sans\", \"fontColor\": \"#000000\", \"fontSize\": 22, \"fontWeight\": \"normal\"}, \"arc\": {\"fill\": \"#82c6df\"}, \"area\": {\"fill\": \"#82c6df\"}, \"line\": {\"stroke\": \"#82c6df\", \"strokeWidth\": 3}, \"path\": {\"stroke\": \"#82c6df\"}, \"rect\": {\"fill\": \"#82c6df\"}, \"shape\": {\"stroke\": \"#82c6df\"}, \"bar\": {\"fill\": \"#82c6df\"}, \"point\": {\"stroke\": \"#82c6df\"}, \"symbol\": {\"fill\": \"#82c6df\", \"size\": 30}, \"axis\": {\"titleFont\": \"BentonGothic-Bold, sans\", \"titleFontSize\": 14, \"titleFontWeight\": \"normal\", \"labelFont\": \"BentonGothic, sans\", \"labelFontSize\": 12, \"labelFontWeight\": \"normal\"}, \"axisX\": {\"labelAngle\": 0, \"labelPadding\": 4, \"tickSize\": 3}, \"axisY\": {\"labelBaseline\": \"middle\", \"maxExtent\": 45, \"minExtent\": 45, \"tickSize\": 2, \"titleAlign\": \"left\", \"titleAngle\": 0, \"titleX\": -45, \"titleY\": -11}, \"legend\": {\"titleFont\": \"BentonGothic-Bold, sans\", \"titleFontSize\": 14, \"titleFontWeight\": \"normal\", \"symbolType\": \"square\", \"labelFont\": \"BentonGothic, sans\", \"labelFontSize\": 13}, \"range\": {\"category\": [\"#3580b1\", \"#ec8431\", \"#ab7fb4\", \"#c89d29\", \"#adc839\", \"#829eb1\"], \"diverging\": [\"#e68a4f\", \"#f4bb6a\", \"#f9e39c\", \"#dadfe2\", \"#a6b7c6\", \"#849eae\"], \"heatmap\": [\"#fbf2c7\", \"#f9e39c\", \"#f8d36e\", \"#f4bb6a\", \"#e68a4f\", \"#d15a40\", \"#ab4232\"], \"ordinal\": [\"#fbf2c7\", \"#f9e39c\", \"#f8d36e\", \"#f4bb6a\", \"#e68a4f\", \"#d15a40\", \"#ab4232\"], \"ramp\": [\"#fbf2c7\", \"#f9e39c\", \"#f8d36e\", \"#f4bb6a\", \"#e68a4f\", \"#d15a40\", \"#ab4232\"]}}, \"data\": {\"name\": \"data-fb642e2a852cb9c3b035a4374b3e48f5\"}, \"mark\": \"bar\", \"encoding\": {\"color\": {\"condition\": {\"value\": \"#e6ae56\", \"test\": \"(datum.gallons_pct_change > 0)\"}, \"value\": \"#83c6e0\"}, \"tooltip\": [{\"field\": \"reporting_month\", \"type\": \"temporal\"}, {\"field\": \"gallons_pct_change\", \"type\": \"quantitative\"}], \"x\": {\"axis\": {\"title\": \"Reporting month\"}, \"field\": \"reporting_month\", \"timeUnit\": \"yearmonth\", \"type\": \"temporal\"}, \"y\": {\"axis\": {\"format\": \"%\", \"title\": \"Percent change in gallons used\"}, \"field\": \"gallons_pct_change\", \"type\": \"quantitative\"}}, \"title\": \"Monthly water conservation in El Segundo City of\", \"width\": 600, \"$schema\": \"https://vega.github.io/schema/vega-lite/v4.17.0.json\", \"datasets\": {\"data-fb642e2a852cb9c3b035a4374b3e48f5\": [{\"supplier_name\": \"El Segundo City of\", \"reporting_month\": \"2023-03-15T00:00:00\", \"public_water_system_id\": \"CA1910040\", \"county\": \"Los Angeles\", \"hydrologic_region\": \"South Coast\", \"climate_zone\": 6, \"total_population_served\": 17272, \"total_gallons_current\": 145618794.528, \"calculated_r_gpcd\": 40.7948, \"total_gallons_baseline\": 150698269.0622693, \"gallons_pct_change\": -0.03370625665362114, \"state\": \"Statewide\"}, {\"supplier_name\": \"El Segundo City of\", \"reporting_month\": \"2023-02-15T00:00:00\", \"public_water_system_id\": \"CA1910040\", \"county\": \"Los Angeles\", \"hydrologic_region\": \"South Coast\", \"climate_zone\": 6, \"total_population_served\": 17272, \"total_gallons_current\": 164317850.372, \"calculated_r_gpcd\": 50.9654, \"total_gallons_baseline\": 154798347.5552766, \"gallons_pct_change\": 0.061496152685506594, \"state\": \"Statewide\"}, {\"supplier_name\": \"El Segundo City of\", \"reporting_month\": \"2023-01-15T00:00:00\", \"public_water_system_id\": \"CA1910040\", \"county\": \"Los Angeles\", \"hydrologic_region\": \"South Coast\", \"climate_zone\": 6, \"total_population_served\": 17272, \"total_gallons_current\": 124894013.868, \"calculated_r_gpcd\": 34.9888, \"total_gallons_baseline\": 131497992.711235, \"gallons_pct_change\": -0.0502211380346855, \"state\": \"Statewide\"}, {\"supplier_name\": \"El Segundo City of\", \"reporting_month\": \"2022-12-15T00:00:00\", \"public_water_system_id\": \"CA1910040\", \"county\": \"Los Angeles\", \"hydrologic_region\": \"South Coast\", \"climate_zone\": 6, \"total_population_served\": 16654, \"total_gallons_current\": 138185401.804, \"calculated_r_gpcd\": 40.1489, \"total_gallons_baseline\": 142885603.53025535, \"gallons_pct_change\": -0.032894858615060626, \"state\": \"Statewide\"}, {\"supplier_name\": \"El Segundo City of\", \"reporting_month\": \"2022-11-15T00:00:00\", \"public_water_system_id\": \"CA1910040\", \"county\": \"Los Angeles\", \"hydrologic_region\": \"South Coast\", \"climate_zone\": 6, \"total_population_served\": 17272, \"total_gallons_current\": 143610274.908, \"calculated_r_gpcd\": 41.5731, \"total_gallons_baseline\": 132855708.90623744, \"gallons_pct_change\": 0.080949219949235, \"state\": \"Statewide\"}, {\"supplier_name\": \"El Segundo City of\", \"reporting_month\": \"2022-10-15T00:00:00\", \"public_water_system_id\": \"CA1910040\", \"county\": \"Los Angeles\", \"hydrologic_region\": \"South Coast\", \"climate_zone\": 6, \"total_population_served\": 17272, \"total_gallons_current\": 158422452.56, \"calculated_r_gpcd\": 44.3817, \"total_gallons_baseline\": 168794419.18530157, \"gallons_pct_change\": -0.061447331466067505, \"state\": \"Statewide\"}, {\"supplier_name\": \"El Segundo City of\", \"reporting_month\": \"2022-09-15T00:00:00\", \"public_water_system_id\": \"CA1910040\", \"county\": \"Los Angeles\", \"hydrologic_region\": \"South Coast\", \"climate_zone\": 6, \"total_population_served\": 17272, \"total_gallons_current\": 171000946.94, \"calculated_r_gpcd\": 49.5024, \"total_gallons_baseline\": 171916792.4073072, \"gallons_pct_change\": -0.005327260091831975, \"state\": \"Statewide\"}, {\"supplier_name\": \"El Segundo City of\", \"reporting_month\": \"2022-08-15T00:00:00\", \"public_water_system_id\": \"CA1910040\", \"county\": \"Los Angeles\", \"hydrologic_region\": \"South Coast\", \"climate_zone\": 6, \"total_population_served\": 17272, \"total_gallons_current\": 193432034.212, \"calculated_r_gpcd\": 54.1895, \"total_gallons_baseline\": 189604505.5923388, \"gallons_pct_change\": 0.02018690751943749, \"state\": \"Statewide\"}, {\"supplier_name\": \"El Segundo City of\", \"reporting_month\": \"2022-07-15T00:00:00\", \"public_water_system_id\": \"CA1910040\", \"county\": \"Los Angeles\", \"hydrologic_region\": \"South Coast\", \"climate_zone\": 6, \"total_population_served\": 16654, \"total_gallons_current\": 150897049.44, \"calculated_r_gpcd\": 43.8421, \"total_gallons_baseline\": 132647002.119237, \"gallons_pct_change\": 0.13758356411521416, \"state\": \"Statewide\"}, {\"supplier_name\": \"El Segundo City of\", \"reporting_month\": \"2022-06-15T00:00:00\", \"public_water_system_id\": \"CA1910040\", \"county\": \"Los Angeles\", \"hydrologic_region\": \"South Coast\", \"climate_zone\": 6, \"total_population_served\": 16654, \"total_gallons_current\": 212416845.92, \"calculated_r_gpcd\": 63.7735, \"total_gallons_baseline\": 134143856.17223968, \"gallons_pct_change\": 0.5835003702835141, \"state\": \"Statewide\"}, {\"supplier_name\": \"El Segundo City of\", \"reporting_month\": \"2022-05-15T00:00:00\", \"public_water_system_id\": \"CA1910040\", \"county\": \"Los Angeles\", \"hydrologic_region\": \"South Coast\", \"climate_zone\": 6, \"total_population_served\": 16654, \"total_gallons_current\": 186889571.42, \"calculated_r_gpcd\": 54.2995, \"total_gallons_baseline\": 131661068.2652353, \"gallons_pct_change\": 0.41947482184714735, \"state\": \"Statewide\"}, {\"supplier_name\": \"El Segundo City of\", \"reporting_month\": \"2022-04-15T00:00:00\", \"public_water_system_id\": \"CA1910040\", \"county\": \"Los Angeles\", \"hydrologic_region\": \"South Coast\", \"climate_zone\": 6, \"total_population_served\": 16654, \"total_gallons_current\": 189523462.512, \"calculated_r_gpcd\": 73.591, \"total_gallons_baseline\": 140300332.36225072, \"gallons_pct_change\": 0.3508411514140738, \"state\": \"Statewide\"}, {\"supplier_name\": \"El Segundo City of\", \"reporting_month\": \"2022-03-15T00:00:00\", \"public_water_system_id\": \"CA1910040\", \"county\": \"Los Angeles\", \"hydrologic_region\": \"South Coast\", \"climate_zone\": 6, \"total_population_served\": 16654, \"total_gallons_current\": 197713135.808, \"calculated_r_gpcd\": 67.0183, \"total_gallons_baseline\": 150698269.0622693, \"gallons_pct_change\": 0.31198013778316136, \"state\": \"Statewide\"}, {\"supplier_name\": \"El Segundo City of\", \"reporting_month\": \"2022-02-15T00:00:00\", \"public_water_system_id\": \"CA1910040\", \"county\": \"Los Angeles\", \"hydrologic_region\": \"South Coast\", \"climate_zone\": 6, \"total_population_served\": 16654, \"total_gallons_current\": 147168758.272, \"calculated_r_gpcd\": 71.9571, \"total_gallons_baseline\": 154798347.5552766, \"gallons_pct_change\": -0.049287278603230275, \"state\": \"Statewide\"}, {\"supplier_name\": \"El Segundo City of\", \"reporting_month\": \"2022-01-15T00:00:00\", \"public_water_system_id\": \"CA1910040\", \"county\": \"Los Angeles\", \"hydrologic_region\": \"South Coast\", \"climate_zone\": 6, \"total_population_served\": 16654, \"total_gallons_current\": 155966597.844, \"calculated_r_gpcd\": 63.4411, \"total_gallons_baseline\": 131497992.711235, \"gallons_pct_change\": 0.1860758831999604, \"state\": \"Statewide\"}, {\"supplier_name\": \"El Segundo City of\", \"reporting_month\": \"2021-12-15T00:00:00\", \"public_water_system_id\": \"CA1910040\", \"county\": \"Los Angeles\", \"hydrologic_region\": \"South Coast\", \"climate_zone\": 6, \"total_population_served\": 16654, \"total_gallons_current\": 168608676.644, \"calculated_r_gpcd\": 71.8493, \"total_gallons_baseline\": 142885603.53025535, \"gallons_pct_change\": 0.18002564623872627, \"state\": \"Statewide\"}, {\"supplier_name\": \"El Segundo City of\", \"reporting_month\": \"2021-11-15T00:00:00\", \"public_water_system_id\": \"CA1910040\", \"county\": \"Los Angeles\", \"hydrologic_region\": \"South Coast\", \"climate_zone\": 6, \"total_population_served\": 16654, \"total_gallons_current\": 251198853.808, \"calculated_r_gpcd\": 75.417, \"total_gallons_baseline\": 132855708.90623744, \"gallons_pct_change\": 0.8907644682795146, \"state\": \"Statewide\"}, {\"supplier_name\": \"El Segundo City of\", \"reporting_month\": \"2021-10-15T00:00:00\", \"public_water_system_id\": \"CA1910040\", \"county\": \"Los Angeles\", \"hydrologic_region\": \"South Coast\", \"climate_zone\": 6, \"total_population_served\": 16654, \"total_gallons_current\": 272585660.488, \"calculated_r_gpcd\": 79.198, \"total_gallons_baseline\": 168794419.18530157, \"gallons_pct_change\": 0.6148973514862299, \"state\": \"Statewide\"}, {\"supplier_name\": \"El Segundo City of\", \"reporting_month\": \"2021-09-15T00:00:00\", \"public_water_system_id\": \"CA1910040\", \"county\": \"Los Angeles\", \"hydrologic_region\": \"South Coast\", \"climate_zone\": 6, \"total_population_served\": 16654, \"total_gallons_current\": 275538221.732, \"calculated_r_gpcd\": 82.7243, \"total_gallons_baseline\": 171916792.4073072, \"gallons_pct_change\": 0.6027417559024235, \"state\": \"Statewide\"}, {\"supplier_name\": \"El Segundo City of\", \"reporting_month\": \"2021-08-15T00:00:00\", \"public_water_system_id\": \"CA1910040\", \"county\": \"Los Angeles\", \"hydrologic_region\": \"South Coast\", \"climate_zone\": 6, \"total_population_served\": 16654, \"total_gallons_current\": 326194059.016, \"calculated_r_gpcd\": 88.4553, \"total_gallons_baseline\": 189604505.5923388, \"gallons_pct_change\": 0.7203919178868935, \"state\": \"Statewide\"}, {\"supplier_name\": \"El Segundo City of\", \"reporting_month\": \"2021-07-15T00:00:00\", \"public_water_system_id\": \"CA1910040\", \"county\": \"Los Angeles\", \"hydrologic_region\": \"South Coast\", \"climate_zone\": 6, \"total_population_served\": 16654, \"total_gallons_current\": 174171191.316, \"calculated_r_gpcd\": 84.3405, \"total_gallons_baseline\": 132647002.119237, \"gallons_pct_change\": 0.31304280182251476, \"state\": \"Statewide\"}]}}, {\"mode\": \"vega-lite\"});\n",
       "</script>"
      ],
      "text/plain": [
       "alt.Chart(...)"
      ]
     },
     "execution_count": 172,
     "metadata": {},
     "output_type": "execute_result"
    }
   ],
   "source": [
    "chart_data = complete_data[complete_data.supplier_name.str.contains(\"El Segundo\")]\n",
    "name = chart_data.iloc[0][\"supplier_name\"]\n",
    "\n",
    "alt.Chart(\n",
    "    chart_data\n",
    ").mark_bar().encode(\n",
    "    x=alt.X('yearmonth(reporting_month):T', axis=alt.Axis(title=\"Reporting month\")),\n",
    "    y=alt.Y(\"gallons_pct_change:Q\", axis=alt.Axis(format=\"%\", title=\"Percent change in gallons used\")),\n",
    "    color=alt.condition(\n",
    "        alt.datum.gallons_pct_change > 0,\n",
    "        alt.value(\"#e6ae56\"),  # The positive color\n",
    "        alt.value(\"#83c6e0\")  # The negative color\n",
    "    ),\n",
    "    tooltip=[\"reporting_month\",\"gallons_pct_change\"]\n",
    ").properties(title=f\"Monthly water conservation in {name}\", width=600)"
   ]
  },
  {
   "cell_type": "code",
   "execution_count": 176,
   "id": "72dfdf11-4fbc-469f-b8ca-d59343091b0e",
   "metadata": {},
   "outputs": [
    {
     "data": {
      "text/html": [
       "<div>\n",
       "<style scoped>\n",
       "    .dataframe tbody tr th:only-of-type {\n",
       "        vertical-align: middle;\n",
       "    }\n",
       "\n",
       "    .dataframe tbody tr th {\n",
       "        vertical-align: top;\n",
       "    }\n",
       "\n",
       "    .dataframe thead th {\n",
       "        text-align: right;\n",
       "    }\n",
       "</style>\n",
       "<table border=\"1\" class=\"dataframe\">\n",
       "  <thead>\n",
       "    <tr style=\"text-align: right;\">\n",
       "      <th></th>\n",
       "      <th>supplier_name</th>\n",
       "      <th>total_gallons_current</th>\n",
       "      <th>total_gallons_baseline</th>\n",
       "    </tr>\n",
       "  </thead>\n",
       "  <tbody>\n",
       "    <tr>\n",
       "      <th>0</th>\n",
       "      <td>El Segundo City of</td>\n",
       "      <td>3622159794.396</td>\n",
       "      <td>2967898033.346</td>\n",
       "    </tr>\n",
       "  </tbody>\n",
       "</table>\n",
       "</div>"
      ],
      "text/plain": [
       "        supplier_name  total_gallons_current  total_gallons_baseline\n",
       "0  El Segundo City of         3622159794.396          2967898033.346"
      ]
     },
     "execution_count": 176,
     "metadata": {},
     "output_type": "execute_result"
    }
   ],
   "source": [
    "complete_data[\n",
    "    (complete_data.supplier_name==\"El Segundo City of\")&\n",
    "    (complete_data.reporting_month >= \"2021-07-15\") &\n",
    "    (complete_data.reporting_month != \"2021-08-15\")\n",
    "].groupby(\"supplier_name\")[[\"total_gallons_current\",\"total_gallons_baseline\"]].sum().reset_index()"
   ]
  },
  {
   "cell_type": "code",
   "execution_count": 177,
   "id": "40312d61-2f25-49ed-b203-60a8f50a29be",
   "metadata": {},
   "outputs": [
    {
     "data": {
      "text/html": [
       "\n",
       "<div id=\"altair-viz-0feb18a0c67942babe64931c72397549\"></div>\n",
       "<script type=\"text/javascript\">\n",
       "  var VEGA_DEBUG = (typeof VEGA_DEBUG == \"undefined\") ? {} : VEGA_DEBUG;\n",
       "  (function(spec, embedOpt){\n",
       "    let outputDiv = document.currentScript.previousElementSibling;\n",
       "    if (outputDiv.id !== \"altair-viz-0feb18a0c67942babe64931c72397549\") {\n",
       "      outputDiv = document.getElementById(\"altair-viz-0feb18a0c67942babe64931c72397549\");\n",
       "    }\n",
       "    const paths = {\n",
       "      \"vega\": \"https://cdn.jsdelivr.net/npm//vega@5?noext\",\n",
       "      \"vega-lib\": \"https://cdn.jsdelivr.net/npm//vega-lib?noext\",\n",
       "      \"vega-lite\": \"https://cdn.jsdelivr.net/npm//vega-lite@4.17.0?noext\",\n",
       "      \"vega-embed\": \"https://cdn.jsdelivr.net/npm//vega-embed@6?noext\",\n",
       "    };\n",
       "\n",
       "    function maybeLoadScript(lib, version) {\n",
       "      var key = `${lib.replace(\"-\", \"\")}_version`;\n",
       "      return (VEGA_DEBUG[key] == version) ?\n",
       "        Promise.resolve(paths[lib]) :\n",
       "        new Promise(function(resolve, reject) {\n",
       "          var s = document.createElement('script');\n",
       "          document.getElementsByTagName(\"head\")[0].appendChild(s);\n",
       "          s.async = true;\n",
       "          s.onload = () => {\n",
       "            VEGA_DEBUG[key] = version;\n",
       "            return resolve(paths[lib]);\n",
       "          };\n",
       "          s.onerror = () => reject(`Error loading script: ${paths[lib]}`);\n",
       "          s.src = paths[lib];\n",
       "        });\n",
       "    }\n",
       "\n",
       "    function showError(err) {\n",
       "      outputDiv.innerHTML = `<div class=\"error\" style=\"color:red;\">${err}</div>`;\n",
       "      throw err;\n",
       "    }\n",
       "\n",
       "    function displayChart(vegaEmbed) {\n",
       "      vegaEmbed(outputDiv, spec, embedOpt)\n",
       "        .catch(err => showError(`Javascript Error: ${err.message}<br>This usually means there's a typo in your chart specification. See the javascript console for the full traceback.`));\n",
       "    }\n",
       "\n",
       "    if(typeof define === \"function\" && define.amd) {\n",
       "      requirejs.config({paths});\n",
       "      require([\"vega-embed\"], displayChart, err => showError(`Error loading script: ${err.message}`));\n",
       "    } else {\n",
       "      maybeLoadScript(\"vega\", \"5\")\n",
       "        .then(() => maybeLoadScript(\"vega-lite\", \"4.17.0\"))\n",
       "        .then(() => maybeLoadScript(\"vega-embed\", \"6\"))\n",
       "        .catch(showError)\n",
       "        .then(() => displayChart(vegaEmbed));\n",
       "    }\n",
       "  })({\"config\": {\"view\": {\"width\": 800, \"height\": 450}, \"background\": \"#ffffff\", \"title\": {\"anchor\": \"start\", \"font\": \"BentonGothic-Bold, sans\", \"fontColor\": \"#000000\", \"fontSize\": 22, \"fontWeight\": \"normal\"}, \"arc\": {\"fill\": \"#82c6df\"}, \"area\": {\"fill\": \"#82c6df\"}, \"line\": {\"stroke\": \"#82c6df\", \"strokeWidth\": 3}, \"path\": {\"stroke\": \"#82c6df\"}, \"rect\": {\"fill\": \"#82c6df\"}, \"shape\": {\"stroke\": \"#82c6df\"}, \"bar\": {\"fill\": \"#82c6df\"}, \"point\": {\"stroke\": \"#82c6df\"}, \"symbol\": {\"fill\": \"#82c6df\", \"size\": 30}, \"axis\": {\"titleFont\": \"BentonGothic-Bold, sans\", \"titleFontSize\": 14, \"titleFontWeight\": \"normal\", \"labelFont\": \"BentonGothic, sans\", \"labelFontSize\": 12, \"labelFontWeight\": \"normal\"}, \"axisX\": {\"labelAngle\": 0, \"labelPadding\": 4, \"tickSize\": 3}, \"axisY\": {\"labelBaseline\": \"middle\", \"maxExtent\": 45, \"minExtent\": 45, \"tickSize\": 2, \"titleAlign\": \"left\", \"titleAngle\": 0, \"titleX\": -45, \"titleY\": -11}, \"legend\": {\"titleFont\": \"BentonGothic-Bold, sans\", \"titleFontSize\": 14, \"titleFontWeight\": \"normal\", \"symbolType\": \"square\", \"labelFont\": \"BentonGothic, sans\", \"labelFontSize\": 13}, \"range\": {\"category\": [\"#3580b1\", \"#ec8431\", \"#ab7fb4\", \"#c89d29\", \"#adc839\", \"#829eb1\"], \"diverging\": [\"#e68a4f\", \"#f4bb6a\", \"#f9e39c\", \"#dadfe2\", \"#a6b7c6\", \"#849eae\"], \"heatmap\": [\"#fbf2c7\", \"#f9e39c\", \"#f8d36e\", \"#f4bb6a\", \"#e68a4f\", \"#d15a40\", \"#ab4232\"], \"ordinal\": [\"#fbf2c7\", \"#f9e39c\", \"#f8d36e\", \"#f4bb6a\", \"#e68a4f\", \"#d15a40\", \"#ab4232\"], \"ramp\": [\"#fbf2c7\", \"#f9e39c\", \"#f8d36e\", \"#f4bb6a\", \"#e68a4f\", \"#d15a40\", \"#ab4232\"]}}, \"data\": {\"name\": \"data-89ec09c6b74277216cc2d95426d02ece\"}, \"mark\": \"bar\", \"encoding\": {\"color\": {\"condition\": {\"value\": \"#e6ae56\", \"test\": \"(datum.gallons_pct_change > 0)\"}, \"value\": \"#83c6e0\"}, \"tooltip\": [{\"field\": \"reporting_month\", \"type\": \"temporal\"}, {\"field\": \"gallons_pct_change\", \"type\": \"quantitative\"}], \"x\": {\"axis\": {\"title\": \"Reporting month\"}, \"field\": \"reporting_month\", \"timeUnit\": \"yearmonth\", \"type\": \"temporal\"}, \"y\": {\"axis\": {\"format\": \"%\", \"title\": \"Percent change in gallons used\"}, \"field\": \"gallons_pct_change\", \"type\": \"quantitative\"}}, \"title\": \"Monthly water conservation in Los Angeles Department of Water and Power\", \"width\": 600, \"$schema\": \"https://vega.github.io/schema/vega-lite/v4.17.0.json\", \"datasets\": {\"data-89ec09c6b74277216cc2d95426d02ece\": [{\"supplier_name\": \"Los Angeles Department of Water and Power\", \"reporting_month\": \"2023-03-15T00:00:00\", \"public_water_system_id\": \"CA1910067\", \"county\": \"Los Angeles\", \"hydrologic_region\": \"South Coast\", \"climate_zone\": 9, \"total_population_served\": 3790307, \"total_gallons_current\": 9785305530.0, \"calculated_r_gpcd\": 56.3387, \"total_gallons_baseline\": 10716601731.176004, \"gallons_pct_change\": -0.08690219386120707, \"state\": \"Statewide\"}, {\"supplier_name\": \"Los Angeles Department of Water and Power\", \"reporting_month\": \"2023-02-15T00:00:00\", \"public_water_system_id\": \"CA1910067\", \"county\": \"Los Angeles\", \"hydrologic_region\": \"South Coast\", \"climate_zone\": 9, \"total_population_served\": 3795914, \"total_gallons_current\": 9972669855.0, \"calculated_r_gpcd\": 62.6591, \"total_gallons_baseline\": 11483981841.761002, \"gallons_pct_change\": -0.131601739499899, \"state\": \"Statewide\"}, {\"supplier_name\": \"Los Angeles Department of Water and Power\", \"reporting_month\": \"2023-01-15T00:00:00\", \"public_water_system_id\": \"CA1910067\", \"county\": \"Los Angeles\", \"hydrologic_region\": \"South Coast\", \"climate_zone\": 9, \"total_population_served\": 3802522, \"total_gallons_current\": 10237260867.0, \"calculated_r_gpcd\": 64.4746, \"total_gallons_baseline\": 11076341706.583996, \"gallons_pct_change\": -0.07575432952607715, \"state\": \"Statewide\"}, {\"supplier_name\": \"Los Angeles Department of Water and Power\", \"reporting_month\": \"2022-12-15T00:00:00\", \"public_water_system_id\": \"CA1910067\", \"county\": \"Los Angeles\", \"hydrologic_region\": \"South Coast\", \"climate_zone\": 9, \"total_population_served\": 3807129, \"total_gallons_current\": 10668361740.0, \"calculated_r_gpcd\": 65.9152, \"total_gallons_baseline\": 12717981195.81, \"gallons_pct_change\": -0.16115918275498445, \"state\": \"Statewide\"}, {\"supplier_name\": \"Los Angeles Department of Water and Power\", \"reporting_month\": \"2022-11-15T00:00:00\", \"public_water_system_id\": \"CA1910067\", \"county\": \"Los Angeles\", \"hydrologic_region\": \"South Coast\", \"climate_zone\": 9, \"total_population_served\": 3812737, \"total_gallons_current\": 11435414994.0, \"calculated_r_gpcd\": 74.6418, \"total_gallons_baseline\": 13125621330.987, \"gallons_pct_change\": -0.1287715296948843, \"state\": \"Statewide\"}, {\"supplier_name\": \"Los Angeles Department of Water and Power\", \"reporting_month\": \"2022-10-15T00:00:00\", \"public_water_system_id\": \"CA1910067\", \"county\": \"Los Angeles\", \"hydrologic_region\": \"South Coast\", \"climate_zone\": 9, \"total_population_served\": 3818344, \"total_gallons_current\": 12956813313.0, \"calculated_r_gpcd\": 70.4933, \"total_gallons_baseline\": 14749664843.155, \"gallons_pct_change\": -0.12155201824718236, \"state\": \"Statewide\"}, {\"supplier_name\": \"Los Angeles Department of Water and Power\", \"reporting_month\": \"2022-09-15T00:00:00\", \"public_water_system_id\": \"CA1910067\", \"county\": \"Los Angeles\", \"hydrologic_region\": \"South Coast\", \"climate_zone\": 9, \"total_population_served\": 3823951, \"total_gallons_current\": 13332193665.0, \"calculated_r_gpcd\": 76.2614, \"total_gallons_baseline\": 14951041025.040998, \"gallons_pct_change\": -0.10827656464386963, \"state\": \"Statewide\"}, {\"supplier_name\": \"Los Angeles Department of Water and Power\", \"reporting_month\": \"2022-08-15T00:00:00\", \"public_water_system_id\": \"CA1910067\", \"county\": \"Los Angeles\", \"hydrologic_region\": \"South Coast\", \"climate_zone\": 9, \"total_population_served\": 3829559, \"total_gallons_current\": 14033099166.0, \"calculated_r_gpcd\": 73.4421, \"total_gallons_baseline\": 15705387078.546, \"gallons_pct_change\": -0.10647861808069614, \"state\": \"Statewide\"}, {\"supplier_name\": \"Los Angeles Department of Water and Power\", \"reporting_month\": \"2022-07-15T00:00:00\", \"public_water_system_id\": \"CA1910067\", \"county\": \"Los Angeles\", \"hydrologic_region\": \"South Coast\", \"climate_zone\": 9, \"total_population_served\": 3835166, \"total_gallons_current\": 13649898390.0, \"calculated_r_gpcd\": 73.9843, \"total_gallons_baseline\": 15248543377.892, \"gallons_pct_change\": -0.10483919337566269, \"state\": \"Statewide\"}, {\"supplier_name\": \"Los Angeles Department of Water and Power\", \"reporting_month\": \"2022-06-15T00:00:00\", \"public_water_system_id\": \"CA1910067\", \"county\": \"Los Angeles\", \"hydrologic_region\": \"South Coast\", \"climate_zone\": 9, \"total_population_served\": 3899649, \"total_gallons_current\": 13064344143.0, \"calculated_r_gpcd\": 71.7376, \"total_gallons_baseline\": 14122074994.753, \"gallons_pct_change\": -0.07489911023316304, \"state\": \"Statewide\"}, {\"supplier_name\": \"Los Angeles Department of Water and Power\", \"reporting_month\": \"2022-05-15T00:00:00\", \"public_water_system_id\": \"CA1910067\", \"county\": \"Los Angeles\", \"hydrologic_region\": \"South Coast\", \"climate_zone\": 9, \"total_population_served\": 3902842, \"total_gallons_current\": 13540738305.0, \"calculated_r_gpcd\": 66.4346, \"total_gallons_baseline\": 13683478974.010998, \"gallons_pct_change\": -0.01043160655869058, \"state\": \"Statewide\"}, {\"supplier_name\": \"Los Angeles Department of Water and Power\", \"reporting_month\": \"2022-04-15T00:00:00\", \"public_water_system_id\": \"CA1910067\", \"county\": \"Los Angeles\", \"hydrologic_region\": \"South Coast\", \"climate_zone\": 9, \"total_population_served\": 3906036, \"total_gallons_current\": 13366733871.0, \"calculated_r_gpcd\": 67.894, \"total_gallons_baseline\": 10929056861.58, \"gallons_pct_change\": 0.22304550523379638, \"state\": \"Statewide\"}, {\"supplier_name\": \"Los Angeles Department of Water and Power\", \"reporting_month\": \"2022-03-15T00:00:00\", \"public_water_system_id\": \"CA1910067\", \"county\": \"Los Angeles\", \"hydrologic_region\": \"South Coast\", \"climate_zone\": 9, \"total_population_served\": 3909230, \"total_gallons_current\": 13088782968.0, \"calculated_r_gpcd\": 64.231, \"total_gallons_baseline\": 10716601731.176004, \"gallons_pct_change\": 0.22135573349926854, \"state\": \"Statewide\"}, {\"supplier_name\": \"Los Angeles Department of Water and Power\", \"reporting_month\": \"2022-02-15T00:00:00\", \"public_water_system_id\": \"CA1910067\", \"county\": \"Los Angeles\", \"hydrologic_region\": \"South Coast\", \"climate_zone\": 9, \"total_population_served\": 3912423, \"total_gallons_current\": 11377413516.0, \"calculated_r_gpcd\": 67.165, \"total_gallons_baseline\": 11483981841.761002, \"gallons_pct_change\": -0.009279736526007948, \"state\": \"Statewide\"}, {\"supplier_name\": \"Los Angeles Department of Water and Power\", \"reporting_month\": \"2022-01-15T00:00:00\", \"public_water_system_id\": \"CA1910067\", \"county\": \"Los Angeles\", \"hydrologic_region\": \"South Coast\", \"climate_zone\": 9, \"total_population_served\": 3915617, \"total_gallons_current\": 11392076811.0, \"calculated_r_gpcd\": 67.7702, \"total_gallons_baseline\": 11076341706.583996, \"gallons_pct_change\": 0.02850535969184889, \"state\": \"Statewide\"}, {\"supplier_name\": \"Los Angeles Department of Water and Power\", \"reporting_month\": \"2021-12-15T00:00:00\", \"public_water_system_id\": \"CA1910067\", \"county\": \"Los Angeles\", \"hydrologic_region\": \"South Coast\", \"climate_zone\": 9, \"total_population_served\": 3918811, \"total_gallons_current\": 11209600251.0, \"calculated_r_gpcd\": 70.432, \"total_gallons_baseline\": 12717981195.81, \"gallons_pct_change\": -0.11860223109206537, \"state\": \"Statewide\"}, {\"supplier_name\": \"Los Angeles Department of Water and Power\", \"reporting_month\": \"2021-11-15T00:00:00\", \"public_water_system_id\": \"CA1910067\", \"county\": \"Los Angeles\", \"hydrologic_region\": \"South Coast\", \"climate_zone\": 9, \"total_population_served\": 3922004, \"total_gallons_current\": 12894575772.0, \"calculated_r_gpcd\": 74.928, \"total_gallons_baseline\": 13125621330.987, \"gallons_pct_change\": -0.017602637860772853, \"state\": \"Statewide\"}, {\"supplier_name\": \"Los Angeles Department of Water and Power\", \"reporting_month\": \"2021-10-15T00:00:00\", \"public_water_system_id\": \"CA1910067\", \"county\": \"Los Angeles\", \"hydrologic_region\": \"South Coast\", \"climate_zone\": 9, \"total_population_served\": 3925198, \"total_gallons_current\": 13771766664.0, \"calculated_r_gpcd\": 79.0897, \"total_gallons_baseline\": 14749664843.155, \"gallons_pct_change\": -0.06629968813215589, \"state\": \"Statewide\"}, {\"supplier_name\": \"Los Angeles Department of Water and Power\", \"reporting_month\": \"2021-09-15T00:00:00\", \"public_water_system_id\": \"CA1910067\", \"county\": \"Los Angeles\", \"hydrologic_region\": \"South Coast\", \"climate_zone\": 9, \"total_population_served\": 3928392, \"total_gallons_current\": 14653193619.0, \"calculated_r_gpcd\": 88.092, \"total_gallons_baseline\": 14951041025.040998, \"gallons_pct_change\": -0.019921516203597046, \"state\": \"Statewide\"}, {\"supplier_name\": \"Los Angeles Department of Water and Power\", \"reporting_month\": \"2021-08-15T00:00:00\", \"public_water_system_id\": \"CA1910067\", \"county\": \"Los Angeles\", \"hydrologic_region\": \"South Coast\", \"climate_zone\": 9, \"total_population_served\": 3931585, \"total_gallons_current\": 15610869708.0, \"calculated_r_gpcd\": 82.3971, \"total_gallons_baseline\": 15705387078.546, \"gallons_pct_change\": -0.00601814970069174, \"state\": \"Statewide\"}, {\"supplier_name\": \"Los Angeles Department of Water and Power\", \"reporting_month\": \"2021-07-15T00:00:00\", \"public_water_system_id\": \"CA1910067\", \"county\": \"Los Angeles\", \"hydrologic_region\": \"South Coast\", \"climate_zone\": 9, \"total_population_served\": 3934779, \"total_gallons_current\": 15351818163.0, \"calculated_r_gpcd\": 78.4091, \"total_gallons_baseline\": 15248543377.892, \"gallons_pct_change\": 0.0067727639649654715, \"state\": \"Statewide\"}]}}, {\"mode\": \"vega-lite\"});\n",
       "</script>"
      ],
      "text/plain": [
       "alt.Chart(...)"
      ]
     },
     "execution_count": 177,
     "metadata": {},
     "output_type": "execute_result"
    }
   ],
   "source": [
    "chart_data = complete_data[complete_data.supplier_name == \"Los Angeles Department of Water and Power\"]\n",
    "name = chart_data.iloc[0][\"supplier_name\"]\n",
    "\n",
    "alt.Chart(\n",
    "    chart_data\n",
    ").mark_bar().encode(\n",
    "    x=alt.X('yearmonth(reporting_month):T', axis=alt.Axis(title=\"Reporting month\")),\n",
    "    y=alt.Y(\"gallons_pct_change:Q\", axis=alt.Axis(format=\"%\", title=\"Percent change in gallons used\")),\n",
    "    color=alt.condition(\n",
    "        alt.datum.gallons_pct_change > 0,\n",
    "        alt.value(\"#e6ae56\"),  # The positive color\n",
    "        alt.value(\"#83c6e0\")  # The negative color\n",
    "    ),\n",
    "    tooltip=[\"reporting_month\",\"gallons_pct_change\"]\n",
    ").properties(title=f\"Monthly water conservation in {name}\", width=600)"
   ]
  },
  {
   "cell_type": "code",
   "execution_count": 178,
   "id": "eb754bfb-c3af-4244-a194-6e66ec1b4c32",
   "metadata": {},
   "outputs": [
    {
     "data": {
      "text/html": [
       "\n",
       "<div id=\"altair-viz-f5026002927a404ab311c705b15fe069\"></div>\n",
       "<script type=\"text/javascript\">\n",
       "  var VEGA_DEBUG = (typeof VEGA_DEBUG == \"undefined\") ? {} : VEGA_DEBUG;\n",
       "  (function(spec, embedOpt){\n",
       "    let outputDiv = document.currentScript.previousElementSibling;\n",
       "    if (outputDiv.id !== \"altair-viz-f5026002927a404ab311c705b15fe069\") {\n",
       "      outputDiv = document.getElementById(\"altair-viz-f5026002927a404ab311c705b15fe069\");\n",
       "    }\n",
       "    const paths = {\n",
       "      \"vega\": \"https://cdn.jsdelivr.net/npm//vega@5?noext\",\n",
       "      \"vega-lib\": \"https://cdn.jsdelivr.net/npm//vega-lib?noext\",\n",
       "      \"vega-lite\": \"https://cdn.jsdelivr.net/npm//vega-lite@4.17.0?noext\",\n",
       "      \"vega-embed\": \"https://cdn.jsdelivr.net/npm//vega-embed@6?noext\",\n",
       "    };\n",
       "\n",
       "    function maybeLoadScript(lib, version) {\n",
       "      var key = `${lib.replace(\"-\", \"\")}_version`;\n",
       "      return (VEGA_DEBUG[key] == version) ?\n",
       "        Promise.resolve(paths[lib]) :\n",
       "        new Promise(function(resolve, reject) {\n",
       "          var s = document.createElement('script');\n",
       "          document.getElementsByTagName(\"head\")[0].appendChild(s);\n",
       "          s.async = true;\n",
       "          s.onload = () => {\n",
       "            VEGA_DEBUG[key] = version;\n",
       "            return resolve(paths[lib]);\n",
       "          };\n",
       "          s.onerror = () => reject(`Error loading script: ${paths[lib]}`);\n",
       "          s.src = paths[lib];\n",
       "        });\n",
       "    }\n",
       "\n",
       "    function showError(err) {\n",
       "      outputDiv.innerHTML = `<div class=\"error\" style=\"color:red;\">${err}</div>`;\n",
       "      throw err;\n",
       "    }\n",
       "\n",
       "    function displayChart(vegaEmbed) {\n",
       "      vegaEmbed(outputDiv, spec, embedOpt)\n",
       "        .catch(err => showError(`Javascript Error: ${err.message}<br>This usually means there's a typo in your chart specification. See the javascript console for the full traceback.`));\n",
       "    }\n",
       "\n",
       "    if(typeof define === \"function\" && define.amd) {\n",
       "      requirejs.config({paths});\n",
       "      require([\"vega-embed\"], displayChart, err => showError(`Error loading script: ${err.message}`));\n",
       "    } else {\n",
       "      maybeLoadScript(\"vega\", \"5\")\n",
       "        .then(() => maybeLoadScript(\"vega-lite\", \"4.17.0\"))\n",
       "        .then(() => maybeLoadScript(\"vega-embed\", \"6\"))\n",
       "        .catch(showError)\n",
       "        .then(() => displayChart(vegaEmbed));\n",
       "    }\n",
       "  })({\"config\": {\"view\": {\"width\": 800, \"height\": 450}, \"background\": \"#ffffff\", \"title\": {\"anchor\": \"start\", \"font\": \"BentonGothic-Bold, sans\", \"fontColor\": \"#000000\", \"fontSize\": 22, \"fontWeight\": \"normal\"}, \"arc\": {\"fill\": \"#82c6df\"}, \"area\": {\"fill\": \"#82c6df\"}, \"line\": {\"stroke\": \"#82c6df\", \"strokeWidth\": 3}, \"path\": {\"stroke\": \"#82c6df\"}, \"rect\": {\"fill\": \"#82c6df\"}, \"shape\": {\"stroke\": \"#82c6df\"}, \"bar\": {\"fill\": \"#82c6df\"}, \"point\": {\"stroke\": \"#82c6df\"}, \"symbol\": {\"fill\": \"#82c6df\", \"size\": 30}, \"axis\": {\"titleFont\": \"BentonGothic-Bold, sans\", \"titleFontSize\": 14, \"titleFontWeight\": \"normal\", \"labelFont\": \"BentonGothic, sans\", \"labelFontSize\": 12, \"labelFontWeight\": \"normal\"}, \"axisX\": {\"labelAngle\": 0, \"labelPadding\": 4, \"tickSize\": 3}, \"axisY\": {\"labelBaseline\": \"middle\", \"maxExtent\": 45, \"minExtent\": 45, \"tickSize\": 2, \"titleAlign\": \"left\", \"titleAngle\": 0, \"titleX\": -45, \"titleY\": -11}, \"legend\": {\"titleFont\": \"BentonGothic-Bold, sans\", \"titleFontSize\": 14, \"titleFontWeight\": \"normal\", \"symbolType\": \"square\", \"labelFont\": \"BentonGothic, sans\", \"labelFontSize\": 13}, \"range\": {\"category\": [\"#3580b1\", \"#ec8431\", \"#ab7fb4\", \"#c89d29\", \"#adc839\", \"#829eb1\"], \"diverging\": [\"#e68a4f\", \"#f4bb6a\", \"#f9e39c\", \"#dadfe2\", \"#a6b7c6\", \"#849eae\"], \"heatmap\": [\"#fbf2c7\", \"#f9e39c\", \"#f8d36e\", \"#f4bb6a\", \"#e68a4f\", \"#d15a40\", \"#ab4232\"], \"ordinal\": [\"#fbf2c7\", \"#f9e39c\", \"#f8d36e\", \"#f4bb6a\", \"#e68a4f\", \"#d15a40\", \"#ab4232\"], \"ramp\": [\"#fbf2c7\", \"#f9e39c\", \"#f8d36e\", \"#f4bb6a\", \"#e68a4f\", \"#d15a40\", \"#ab4232\"]}}, \"data\": {\"name\": \"data-fb642e2a852cb9c3b035a4374b3e48f5\"}, \"mark\": \"bar\", \"encoding\": {\"tooltip\": [{\"field\": \"reporting_month\", \"type\": \"temporal\"}], \"x\": {\"field\": \"reporting_month\", \"timeUnit\": \"yearmonth\", \"type\": \"temporal\"}, \"y\": {\"field\": \"total_gallons_current\", \"type\": \"quantitative\"}}, \"width\": 600, \"$schema\": \"https://vega.github.io/schema/vega-lite/v4.17.0.json\", \"datasets\": {\"data-fb642e2a852cb9c3b035a4374b3e48f5\": [{\"supplier_name\": \"El Segundo City of\", \"reporting_month\": \"2023-03-15T00:00:00\", \"public_water_system_id\": \"CA1910040\", \"county\": \"Los Angeles\", \"hydrologic_region\": \"South Coast\", \"climate_zone\": 6, \"total_population_served\": 17272, \"total_gallons_current\": 145618794.528, \"calculated_r_gpcd\": 40.7948, \"total_gallons_baseline\": 150698269.0622693, \"gallons_pct_change\": -0.03370625665362114, \"state\": \"Statewide\"}, {\"supplier_name\": \"El Segundo City of\", \"reporting_month\": \"2023-02-15T00:00:00\", \"public_water_system_id\": \"CA1910040\", \"county\": \"Los Angeles\", \"hydrologic_region\": \"South Coast\", \"climate_zone\": 6, \"total_population_served\": 17272, \"total_gallons_current\": 164317850.372, \"calculated_r_gpcd\": 50.9654, \"total_gallons_baseline\": 154798347.5552766, \"gallons_pct_change\": 0.061496152685506594, \"state\": \"Statewide\"}, {\"supplier_name\": \"El Segundo City of\", \"reporting_month\": \"2023-01-15T00:00:00\", \"public_water_system_id\": \"CA1910040\", \"county\": \"Los Angeles\", \"hydrologic_region\": \"South Coast\", \"climate_zone\": 6, \"total_population_served\": 17272, \"total_gallons_current\": 124894013.868, \"calculated_r_gpcd\": 34.9888, \"total_gallons_baseline\": 131497992.711235, \"gallons_pct_change\": -0.0502211380346855, \"state\": \"Statewide\"}, {\"supplier_name\": \"El Segundo City of\", \"reporting_month\": \"2022-12-15T00:00:00\", \"public_water_system_id\": \"CA1910040\", \"county\": \"Los Angeles\", \"hydrologic_region\": \"South Coast\", \"climate_zone\": 6, \"total_population_served\": 16654, \"total_gallons_current\": 138185401.804, \"calculated_r_gpcd\": 40.1489, \"total_gallons_baseline\": 142885603.53025535, \"gallons_pct_change\": -0.032894858615060626, \"state\": \"Statewide\"}, {\"supplier_name\": \"El Segundo City of\", \"reporting_month\": \"2022-11-15T00:00:00\", \"public_water_system_id\": \"CA1910040\", \"county\": \"Los Angeles\", \"hydrologic_region\": \"South Coast\", \"climate_zone\": 6, \"total_population_served\": 17272, \"total_gallons_current\": 143610274.908, \"calculated_r_gpcd\": 41.5731, \"total_gallons_baseline\": 132855708.90623744, \"gallons_pct_change\": 0.080949219949235, \"state\": \"Statewide\"}, {\"supplier_name\": \"El Segundo City of\", \"reporting_month\": \"2022-10-15T00:00:00\", \"public_water_system_id\": \"CA1910040\", \"county\": \"Los Angeles\", \"hydrologic_region\": \"South Coast\", \"climate_zone\": 6, \"total_population_served\": 17272, \"total_gallons_current\": 158422452.56, \"calculated_r_gpcd\": 44.3817, \"total_gallons_baseline\": 168794419.18530157, \"gallons_pct_change\": -0.061447331466067505, \"state\": \"Statewide\"}, {\"supplier_name\": \"El Segundo City of\", \"reporting_month\": \"2022-09-15T00:00:00\", \"public_water_system_id\": \"CA1910040\", \"county\": \"Los Angeles\", \"hydrologic_region\": \"South Coast\", \"climate_zone\": 6, \"total_population_served\": 17272, \"total_gallons_current\": 171000946.94, \"calculated_r_gpcd\": 49.5024, \"total_gallons_baseline\": 171916792.4073072, \"gallons_pct_change\": -0.005327260091831975, \"state\": \"Statewide\"}, {\"supplier_name\": \"El Segundo City of\", \"reporting_month\": \"2022-08-15T00:00:00\", \"public_water_system_id\": \"CA1910040\", \"county\": \"Los Angeles\", \"hydrologic_region\": \"South Coast\", \"climate_zone\": 6, \"total_population_served\": 17272, \"total_gallons_current\": 193432034.212, \"calculated_r_gpcd\": 54.1895, \"total_gallons_baseline\": 189604505.5923388, \"gallons_pct_change\": 0.02018690751943749, \"state\": \"Statewide\"}, {\"supplier_name\": \"El Segundo City of\", \"reporting_month\": \"2022-07-15T00:00:00\", \"public_water_system_id\": \"CA1910040\", \"county\": \"Los Angeles\", \"hydrologic_region\": \"South Coast\", \"climate_zone\": 6, \"total_population_served\": 16654, \"total_gallons_current\": 150897049.44, \"calculated_r_gpcd\": 43.8421, \"total_gallons_baseline\": 132647002.119237, \"gallons_pct_change\": 0.13758356411521416, \"state\": \"Statewide\"}, {\"supplier_name\": \"El Segundo City of\", \"reporting_month\": \"2022-06-15T00:00:00\", \"public_water_system_id\": \"CA1910040\", \"county\": \"Los Angeles\", \"hydrologic_region\": \"South Coast\", \"climate_zone\": 6, \"total_population_served\": 16654, \"total_gallons_current\": 212416845.92, \"calculated_r_gpcd\": 63.7735, \"total_gallons_baseline\": 134143856.17223968, \"gallons_pct_change\": 0.5835003702835141, \"state\": \"Statewide\"}, {\"supplier_name\": \"El Segundo City of\", \"reporting_month\": \"2022-05-15T00:00:00\", \"public_water_system_id\": \"CA1910040\", \"county\": \"Los Angeles\", \"hydrologic_region\": \"South Coast\", \"climate_zone\": 6, \"total_population_served\": 16654, \"total_gallons_current\": 186889571.42, \"calculated_r_gpcd\": 54.2995, \"total_gallons_baseline\": 131661068.2652353, \"gallons_pct_change\": 0.41947482184714735, \"state\": \"Statewide\"}, {\"supplier_name\": \"El Segundo City of\", \"reporting_month\": \"2022-04-15T00:00:00\", \"public_water_system_id\": \"CA1910040\", \"county\": \"Los Angeles\", \"hydrologic_region\": \"South Coast\", \"climate_zone\": 6, \"total_population_served\": 16654, \"total_gallons_current\": 189523462.512, \"calculated_r_gpcd\": 73.591, \"total_gallons_baseline\": 140300332.36225072, \"gallons_pct_change\": 0.3508411514140738, \"state\": \"Statewide\"}, {\"supplier_name\": \"El Segundo City of\", \"reporting_month\": \"2022-03-15T00:00:00\", \"public_water_system_id\": \"CA1910040\", \"county\": \"Los Angeles\", \"hydrologic_region\": \"South Coast\", \"climate_zone\": 6, \"total_population_served\": 16654, \"total_gallons_current\": 197713135.808, \"calculated_r_gpcd\": 67.0183, \"total_gallons_baseline\": 150698269.0622693, \"gallons_pct_change\": 0.31198013778316136, \"state\": \"Statewide\"}, {\"supplier_name\": \"El Segundo City of\", \"reporting_month\": \"2022-02-15T00:00:00\", \"public_water_system_id\": \"CA1910040\", \"county\": \"Los Angeles\", \"hydrologic_region\": \"South Coast\", \"climate_zone\": 6, \"total_population_served\": 16654, \"total_gallons_current\": 147168758.272, \"calculated_r_gpcd\": 71.9571, \"total_gallons_baseline\": 154798347.5552766, \"gallons_pct_change\": -0.049287278603230275, \"state\": \"Statewide\"}, {\"supplier_name\": \"El Segundo City of\", \"reporting_month\": \"2022-01-15T00:00:00\", \"public_water_system_id\": \"CA1910040\", \"county\": \"Los Angeles\", \"hydrologic_region\": \"South Coast\", \"climate_zone\": 6, \"total_population_served\": 16654, \"total_gallons_current\": 155966597.844, \"calculated_r_gpcd\": 63.4411, \"total_gallons_baseline\": 131497992.711235, \"gallons_pct_change\": 0.1860758831999604, \"state\": \"Statewide\"}, {\"supplier_name\": \"El Segundo City of\", \"reporting_month\": \"2021-12-15T00:00:00\", \"public_water_system_id\": \"CA1910040\", \"county\": \"Los Angeles\", \"hydrologic_region\": \"South Coast\", \"climate_zone\": 6, \"total_population_served\": 16654, \"total_gallons_current\": 168608676.644, \"calculated_r_gpcd\": 71.8493, \"total_gallons_baseline\": 142885603.53025535, \"gallons_pct_change\": 0.18002564623872627, \"state\": \"Statewide\"}, {\"supplier_name\": \"El Segundo City of\", \"reporting_month\": \"2021-11-15T00:00:00\", \"public_water_system_id\": \"CA1910040\", \"county\": \"Los Angeles\", \"hydrologic_region\": \"South Coast\", \"climate_zone\": 6, \"total_population_served\": 16654, \"total_gallons_current\": 251198853.808, \"calculated_r_gpcd\": 75.417, \"total_gallons_baseline\": 132855708.90623744, \"gallons_pct_change\": 0.8907644682795146, \"state\": \"Statewide\"}, {\"supplier_name\": \"El Segundo City of\", \"reporting_month\": \"2021-10-15T00:00:00\", \"public_water_system_id\": \"CA1910040\", \"county\": \"Los Angeles\", \"hydrologic_region\": \"South Coast\", \"climate_zone\": 6, \"total_population_served\": 16654, \"total_gallons_current\": 272585660.488, \"calculated_r_gpcd\": 79.198, \"total_gallons_baseline\": 168794419.18530157, \"gallons_pct_change\": 0.6148973514862299, \"state\": \"Statewide\"}, {\"supplier_name\": \"El Segundo City of\", \"reporting_month\": \"2021-09-15T00:00:00\", \"public_water_system_id\": \"CA1910040\", \"county\": \"Los Angeles\", \"hydrologic_region\": \"South Coast\", \"climate_zone\": 6, \"total_population_served\": 16654, \"total_gallons_current\": 275538221.732, \"calculated_r_gpcd\": 82.7243, \"total_gallons_baseline\": 171916792.4073072, \"gallons_pct_change\": 0.6027417559024235, \"state\": \"Statewide\"}, {\"supplier_name\": \"El Segundo City of\", \"reporting_month\": \"2021-08-15T00:00:00\", \"public_water_system_id\": \"CA1910040\", \"county\": \"Los Angeles\", \"hydrologic_region\": \"South Coast\", \"climate_zone\": 6, \"total_population_served\": 16654, \"total_gallons_current\": 326194059.016, \"calculated_r_gpcd\": 88.4553, \"total_gallons_baseline\": 189604505.5923388, \"gallons_pct_change\": 0.7203919178868935, \"state\": \"Statewide\"}, {\"supplier_name\": \"El Segundo City of\", \"reporting_month\": \"2021-07-15T00:00:00\", \"public_water_system_id\": \"CA1910040\", \"county\": \"Los Angeles\", \"hydrologic_region\": \"South Coast\", \"climate_zone\": 6, \"total_population_served\": 16654, \"total_gallons_current\": 174171191.316, \"calculated_r_gpcd\": 84.3405, \"total_gallons_baseline\": 132647002.119237, \"gallons_pct_change\": 0.31304280182251476, \"state\": \"Statewide\"}]}}, {\"mode\": \"vega-lite\"});\n",
       "</script>"
      ],
      "text/plain": [
       "alt.Chart(...)"
      ]
     },
     "execution_count": 178,
     "metadata": {},
     "output_type": "execute_result"
    }
   ],
   "source": [
    "alt.Chart(\n",
    "    complete_data[complete_data.supplier_name.str.contains(\"El Segundo\")]\n",
    ").mark_bar().encode(\n",
    "    x=alt.X('yearmonth(reporting_month):T'),\n",
    "    y=\"total_gallons_current\",\n",
    "    tooltip=[\"reporting_month\"]\n",
    ").properties(width=600)"
   ]
  },
  {
   "cell_type": "markdown",
   "id": "693bb4d4-e9cf-4a57-93da-f057c0acc5c2",
   "metadata": {},
   "source": [
    "Drop districts for which we can't calculate a percentage change"
   ]
  },
  {
   "cell_type": "code",
   "execution_count": 179,
   "id": "9e615ba4-e4fa-47ee-b25e-0df84fa7431e",
   "metadata": {},
   "outputs": [],
   "source": [
    "drop_na_districts = district_cumulative_savings_df.dropna(subset=\"cumulative_pct_change\")"
   ]
  },
  {
   "cell_type": "markdown",
   "id": "a02ff471-69b1-40f8-b729-918135f67ec7",
   "metadata": {},
   "source": [
    "By region"
   ]
  },
  {
   "cell_type": "code",
   "execution_count": 180,
   "id": "93332cfd-62e7-4160-849e-0c720a405410",
   "metadata": {},
   "outputs": [],
   "source": [
    "regions_cumulative_savings_df = district_cumulative_savings_df.groupby(\n",
    "    [\"hydrologic_region\"]\n",
    ")[\n",
    "    [\"total_gallons_current\",\"total_gallons_baseline\",\"supplier_name\"]\n",
    "].agg(\n",
    "    {\"total_gallons_current\":\"sum\",\"total_gallons_baseline\":\"sum\",\"supplier_name\":\"size\"}\n",
    ").reset_index().rename(\n",
    "    columns={\"supplier_name\": \"total_reports\"}\n",
    ")"
   ]
  },
  {
   "cell_type": "code",
   "execution_count": 181,
   "id": "cc6609d5-0936-4601-b664-fa3f38cdffa9",
   "metadata": {},
   "outputs": [],
   "source": [
    "regions_cumulative_savings_df = pd.merge(\n",
    "    regions_cumulative_savings_df,\n",
    "    pops_by_region[[\"hydrologic_region\",\"total_population_served\"]],\n",
    "    how=\"left\",\n",
    "    on=\"hydrologic_region\"\n",
    ")"
   ]
  },
  {
   "cell_type": "code",
   "execution_count": 182,
   "id": "eb5ece03-d99a-4134-9b46-aa0d3ecd042d",
   "metadata": {},
   "outputs": [],
   "source": [
    "regions_cumulative_savings_df[\"cumulative_pct_change\"] = regions_cumulative_savings_df.apply(lambda x: pct_change(x.total_gallons_current, x.total_gallons_baseline), axis=1)"
   ]
  },
  {
   "cell_type": "code",
   "execution_count": 183,
   "id": "f84062e3-c56f-4ddd-8b24-53a8ffc443af",
   "metadata": {},
   "outputs": [],
   "source": [
    "regions_cumulative_savings_df['date'] = date"
   ]
  },
  {
   "cell_type": "code",
   "execution_count": 184,
   "id": "527adebb-7d35-43bf-82ba-5ab765dc38c7",
   "metadata": {},
   "outputs": [],
   "source": [
    "regions_cumulative_savings_df['months_since'] = months_since_reductions_begin\n",
    "regions_cumulative_savings_df['days_since'] = days_since_reductions"
   ]
  },
  {
   "cell_type": "code",
   "execution_count": 185,
   "id": "77913a53-510d-4d45-a128-865dc72987d1",
   "metadata": {},
   "outputs": [],
   "source": [
    "regions_cumulative_savings_df['gallons_saved_per_month'] = regions_cumulative_savings_df.apply(\n",
    "    lambda x: gallons_per_unit(\n",
    "        x.total_gallons_current, x.total_gallons_baseline, x.total_population_served, x.months_since\n",
    "    ), axis=1\n",
    ")"
   ]
  },
  {
   "cell_type": "code",
   "execution_count": 186,
   "id": "21df1629-b984-4fea-8411-4c323f80992f",
   "metadata": {},
   "outputs": [],
   "source": [
    "regions_cumulative_savings_df['gallons_saved_per_day'] = regions_cumulative_savings_df.apply(\n",
    "    lambda x: gallons_per_unit(\n",
    "        x.total_gallons_current, x.total_gallons_baseline, x.total_population_served, x.days_since\n",
    "    ), axis=1\n",
    ")"
   ]
  },
  {
   "cell_type": "code",
   "execution_count": 187,
   "id": "c7935977-0db3-4abb-9587-45b9a0a8e393",
   "metadata": {},
   "outputs": [
    {
     "data": {
      "text/html": [
       "<div>\n",
       "<style scoped>\n",
       "    .dataframe tbody tr th:only-of-type {\n",
       "        vertical-align: middle;\n",
       "    }\n",
       "\n",
       "    .dataframe tbody tr th {\n",
       "        vertical-align: top;\n",
       "    }\n",
       "\n",
       "    .dataframe thead th {\n",
       "        text-align: right;\n",
       "    }\n",
       "</style>\n",
       "<table border=\"1\" class=\"dataframe\">\n",
       "  <thead>\n",
       "    <tr style=\"text-align: right;\">\n",
       "      <th></th>\n",
       "      <th>hydrologic_region</th>\n",
       "      <th>total_gallons_current</th>\n",
       "      <th>total_gallons_baseline</th>\n",
       "      <th>total_reports</th>\n",
       "      <th>total_population_served</th>\n",
       "      <th>cumulative_pct_change</th>\n",
       "      <th>date</th>\n",
       "      <th>months_since</th>\n",
       "      <th>days_since</th>\n",
       "      <th>gallons_saved_per_month</th>\n",
       "      <th>gallons_saved_per_day</th>\n",
       "    </tr>\n",
       "  </thead>\n",
       "  <tbody>\n",
       "    <tr>\n",
       "      <th>0</th>\n",
       "      <td>Central Coast</td>\n",
       "      <td>69234811310.229</td>\n",
       "      <td>73365423757.949</td>\n",
       "      <td>25</td>\n",
       "      <td>1293270</td>\n",
       "      <td>-0.056</td>\n",
       "      <td>2023-03-15</td>\n",
       "      <td>20</td>\n",
       "      <td>638</td>\n",
       "      <td>159.696</td>\n",
       "      <td>5.006</td>\n",
       "    </tr>\n",
       "    <tr>\n",
       "      <th>1</th>\n",
       "      <td>Colorado River</td>\n",
       "      <td>112284871247.764</td>\n",
       "      <td>115008590870.304</td>\n",
       "      <td>12</td>\n",
       "      <td>780308</td>\n",
       "      <td>-0.024</td>\n",
       "      <td>2023-03-15</td>\n",
       "      <td>20</td>\n",
       "      <td>638</td>\n",
       "      <td>174.528</td>\n",
       "      <td>5.471</td>\n",
       "    </tr>\n",
       "    <tr>\n",
       "      <th>2</th>\n",
       "      <td>North Coast</td>\n",
       "      <td>22283199241.799</td>\n",
       "      <td>25925047982.229</td>\n",
       "      <td>14</td>\n",
       "      <td>414740</td>\n",
       "      <td>-0.140</td>\n",
       "      <td>2023-03-15</td>\n",
       "      <td>20</td>\n",
       "      <td>638</td>\n",
       "      <td>439.052</td>\n",
       "      <td>13.763</td>\n",
       "    </tr>\n",
       "    <tr>\n",
       "      <th>3</th>\n",
       "      <td>North Lahontan</td>\n",
       "      <td>7288338736.000</td>\n",
       "      <td>7922874968.000</td>\n",
       "      <td>4</td>\n",
       "      <td>103768</td>\n",
       "      <td>-0.080</td>\n",
       "      <td>2023-03-15</td>\n",
       "      <td>20</td>\n",
       "      <td>638</td>\n",
       "      <td>305.748</td>\n",
       "      <td>9.585</td>\n",
       "    </tr>\n",
       "    <tr>\n",
       "      <th>4</th>\n",
       "      <td>Sacramento River</td>\n",
       "      <td>288271664942.155</td>\n",
       "      <td>314840012362.537</td>\n",
       "      <td>39</td>\n",
       "      <td>2843842</td>\n",
       "      <td>-0.084</td>\n",
       "      <td>2023-03-15</td>\n",
       "      <td>20</td>\n",
       "      <td>638</td>\n",
       "      <td>467.121</td>\n",
       "      <td>14.643</td>\n",
       "    </tr>\n",
       "    <tr>\n",
       "      <th>5</th>\n",
       "      <td>San Francisco Bay</td>\n",
       "      <td>387008527009.307</td>\n",
       "      <td>439153980464.404</td>\n",
       "      <td>39</td>\n",
       "      <td>6671142</td>\n",
       "      <td>-0.119</td>\n",
       "      <td>2023-03-15</td>\n",
       "      <td>20</td>\n",
       "      <td>638</td>\n",
       "      <td>390.829</td>\n",
       "      <td>12.252</td>\n",
       "    </tr>\n",
       "    <tr>\n",
       "      <th>6</th>\n",
       "      <td>San Joaquin River</td>\n",
       "      <td>151971956648.874</td>\n",
       "      <td>161235222659.375</td>\n",
       "      <td>23</td>\n",
       "      <td>1706054</td>\n",
       "      <td>-0.057</td>\n",
       "      <td>2023-03-15</td>\n",
       "      <td>20</td>\n",
       "      <td>638</td>\n",
       "      <td>271.482</td>\n",
       "      <td>8.510</td>\n",
       "    </tr>\n",
       "    <tr>\n",
       "      <th>7</th>\n",
       "      <td>South Coast</td>\n",
       "      <td>1437785153127.757</td>\n",
       "      <td>1531408638988.147</td>\n",
       "      <td>143</td>\n",
       "      <td>20450766</td>\n",
       "      <td>-0.061</td>\n",
       "      <td>2023-03-15</td>\n",
       "      <td>20</td>\n",
       "      <td>638</td>\n",
       "      <td>228.900</td>\n",
       "      <td>7.176</td>\n",
       "    </tr>\n",
       "    <tr>\n",
       "      <th>8</th>\n",
       "      <td>South Lahontan</td>\n",
       "      <td>66377056982.152</td>\n",
       "      <td>71314821747.303</td>\n",
       "      <td>13</td>\n",
       "      <td>863361</td>\n",
       "      <td>-0.069</td>\n",
       "      <td>2023-03-15</td>\n",
       "      <td>20</td>\n",
       "      <td>638</td>\n",
       "      <td>285.962</td>\n",
       "      <td>8.964</td>\n",
       "    </tr>\n",
       "    <tr>\n",
       "      <th>9</th>\n",
       "      <td>Tulare Lake</td>\n",
       "      <td>218989689443.312</td>\n",
       "      <td>228780298585.595</td>\n",
       "      <td>24</td>\n",
       "      <td>1982976</td>\n",
       "      <td>-0.043</td>\n",
       "      <td>2023-03-15</td>\n",
       "      <td>20</td>\n",
       "      <td>638</td>\n",
       "      <td>246.867</td>\n",
       "      <td>7.739</td>\n",
       "    </tr>\n",
       "  </tbody>\n",
       "</table>\n",
       "</div>"
      ],
      "text/plain": [
       "   hydrologic_region  total_gallons_current  total_gallons_baseline  \\\n",
       "0      Central Coast        69234811310.229         73365423757.949   \n",
       "1     Colorado River       112284871247.764        115008590870.304   \n",
       "2        North Coast        22283199241.799         25925047982.229   \n",
       "3     North Lahontan         7288338736.000          7922874968.000   \n",
       "4   Sacramento River       288271664942.155        314840012362.537   \n",
       "5  San Francisco Bay       387008527009.307        439153980464.404   \n",
       "6  San Joaquin River       151971956648.874        161235222659.375   \n",
       "7        South Coast      1437785153127.757       1531408638988.147   \n",
       "8     South Lahontan        66377056982.152         71314821747.303   \n",
       "9        Tulare Lake       218989689443.312        228780298585.595   \n",
       "\n",
       "   total_reports  total_population_served  cumulative_pct_change       date  \\\n",
       "0             25                  1293270                 -0.056 2023-03-15   \n",
       "1             12                   780308                 -0.024 2023-03-15   \n",
       "2             14                   414740                 -0.140 2023-03-15   \n",
       "3              4                   103768                 -0.080 2023-03-15   \n",
       "4             39                  2843842                 -0.084 2023-03-15   \n",
       "5             39                  6671142                 -0.119 2023-03-15   \n",
       "6             23                  1706054                 -0.057 2023-03-15   \n",
       "7            143                 20450766                 -0.061 2023-03-15   \n",
       "8             13                   863361                 -0.069 2023-03-15   \n",
       "9             24                  1982976                 -0.043 2023-03-15   \n",
       "\n",
       "   months_since  days_since  gallons_saved_per_month  gallons_saved_per_day  \n",
       "0            20         638                  159.696                  5.006  \n",
       "1            20         638                  174.528                  5.471  \n",
       "2            20         638                  439.052                 13.763  \n",
       "3            20         638                  305.748                  9.585  \n",
       "4            20         638                  467.121                 14.643  \n",
       "5            20         638                  390.829                 12.252  \n",
       "6            20         638                  271.482                  8.510  \n",
       "7            20         638                  228.900                  7.176  \n",
       "8            20         638                  285.962                  8.964  \n",
       "9            20         638                  246.867                  7.739  "
      ]
     },
     "execution_count": 187,
     "metadata": {},
     "output_type": "execute_result"
    }
   ],
   "source": [
    "regions_cumulative_savings_df"
   ]
  },
  {
   "cell_type": "code",
   "execution_count": 188,
   "id": "e9b127e4-6f8a-48ff-a660-31aa8e9bfb84",
   "metadata": {},
   "outputs": [
    {
     "data": {
      "text/html": [
       "\n",
       "<div id=\"altair-viz-6edf6beed2ed4b4e87c243669bafd2fe\"></div>\n",
       "<script type=\"text/javascript\">\n",
       "  var VEGA_DEBUG = (typeof VEGA_DEBUG == \"undefined\") ? {} : VEGA_DEBUG;\n",
       "  (function(spec, embedOpt){\n",
       "    let outputDiv = document.currentScript.previousElementSibling;\n",
       "    if (outputDiv.id !== \"altair-viz-6edf6beed2ed4b4e87c243669bafd2fe\") {\n",
       "      outputDiv = document.getElementById(\"altair-viz-6edf6beed2ed4b4e87c243669bafd2fe\");\n",
       "    }\n",
       "    const paths = {\n",
       "      \"vega\": \"https://cdn.jsdelivr.net/npm//vega@5?noext\",\n",
       "      \"vega-lib\": \"https://cdn.jsdelivr.net/npm//vega-lib?noext\",\n",
       "      \"vega-lite\": \"https://cdn.jsdelivr.net/npm//vega-lite@4.17.0?noext\",\n",
       "      \"vega-embed\": \"https://cdn.jsdelivr.net/npm//vega-embed@6?noext\",\n",
       "    };\n",
       "\n",
       "    function maybeLoadScript(lib, version) {\n",
       "      var key = `${lib.replace(\"-\", \"\")}_version`;\n",
       "      return (VEGA_DEBUG[key] == version) ?\n",
       "        Promise.resolve(paths[lib]) :\n",
       "        new Promise(function(resolve, reject) {\n",
       "          var s = document.createElement('script');\n",
       "          document.getElementsByTagName(\"head\")[0].appendChild(s);\n",
       "          s.async = true;\n",
       "          s.onload = () => {\n",
       "            VEGA_DEBUG[key] = version;\n",
       "            return resolve(paths[lib]);\n",
       "          };\n",
       "          s.onerror = () => reject(`Error loading script: ${paths[lib]}`);\n",
       "          s.src = paths[lib];\n",
       "        });\n",
       "    }\n",
       "\n",
       "    function showError(err) {\n",
       "      outputDiv.innerHTML = `<div class=\"error\" style=\"color:red;\">${err}</div>`;\n",
       "      throw err;\n",
       "    }\n",
       "\n",
       "    function displayChart(vegaEmbed) {\n",
       "      vegaEmbed(outputDiv, spec, embedOpt)\n",
       "        .catch(err => showError(`Javascript Error: ${err.message}<br>This usually means there's a typo in your chart specification. See the javascript console for the full traceback.`));\n",
       "    }\n",
       "\n",
       "    if(typeof define === \"function\" && define.amd) {\n",
       "      requirejs.config({paths});\n",
       "      require([\"vega-embed\"], displayChart, err => showError(`Error loading script: ${err.message}`));\n",
       "    } else {\n",
       "      maybeLoadScript(\"vega\", \"5\")\n",
       "        .then(() => maybeLoadScript(\"vega-lite\", \"4.17.0\"))\n",
       "        .then(() => maybeLoadScript(\"vega-embed\", \"6\"))\n",
       "        .catch(showError)\n",
       "        .then(() => displayChart(vegaEmbed));\n",
       "    }\n",
       "  })({\"config\": {\"view\": {\"width\": 800, \"height\": 450}, \"background\": \"#ffffff\", \"title\": {\"anchor\": \"start\", \"font\": \"BentonGothic-Bold, sans\", \"fontColor\": \"#000000\", \"fontSize\": 22, \"fontWeight\": \"normal\"}, \"arc\": {\"fill\": \"#82c6df\"}, \"area\": {\"fill\": \"#82c6df\"}, \"line\": {\"stroke\": \"#82c6df\", \"strokeWidth\": 3}, \"path\": {\"stroke\": \"#82c6df\"}, \"rect\": {\"fill\": \"#82c6df\"}, \"shape\": {\"stroke\": \"#82c6df\"}, \"bar\": {\"fill\": \"#82c6df\"}, \"point\": {\"stroke\": \"#82c6df\"}, \"symbol\": {\"fill\": \"#82c6df\", \"size\": 30}, \"axis\": {\"titleFont\": \"BentonGothic-Bold, sans\", \"titleFontSize\": 14, \"titleFontWeight\": \"normal\", \"labelFont\": \"BentonGothic, sans\", \"labelFontSize\": 12, \"labelFontWeight\": \"normal\"}, \"axisX\": {\"labelAngle\": 0, \"labelPadding\": 4, \"tickSize\": 3}, \"axisY\": {\"labelBaseline\": \"middle\", \"maxExtent\": 45, \"minExtent\": 45, \"tickSize\": 2, \"titleAlign\": \"left\", \"titleAngle\": 0, \"titleX\": -45, \"titleY\": -11}, \"legend\": {\"titleFont\": \"BentonGothic-Bold, sans\", \"titleFontSize\": 14, \"titleFontWeight\": \"normal\", \"symbolType\": \"square\", \"labelFont\": \"BentonGothic, sans\", \"labelFontSize\": 13}, \"range\": {\"category\": [\"#3580b1\", \"#ec8431\", \"#ab7fb4\", \"#c89d29\", \"#adc839\", \"#829eb1\"], \"diverging\": [\"#e68a4f\", \"#f4bb6a\", \"#f9e39c\", \"#dadfe2\", \"#a6b7c6\", \"#849eae\"], \"heatmap\": [\"#fbf2c7\", \"#f9e39c\", \"#f8d36e\", \"#f4bb6a\", \"#e68a4f\", \"#d15a40\", \"#ab4232\"], \"ordinal\": [\"#fbf2c7\", \"#f9e39c\", \"#f8d36e\", \"#f4bb6a\", \"#e68a4f\", \"#d15a40\", \"#ab4232\"], \"ramp\": [\"#fbf2c7\", \"#f9e39c\", \"#f8d36e\", \"#f4bb6a\", \"#e68a4f\", \"#d15a40\", \"#ab4232\"]}}, \"data\": {\"name\": \"data-d7228e0464b73de5b0c2146c9a451335\"}, \"mark\": \"bar\", \"encoding\": {\"color\": {\"condition\": {\"value\": \"#e6ae56\", \"test\": \"(datum.gallons_pct_change > 0)\"}, \"value\": \"#83c6e0\"}, \"tooltip\": [{\"field\": \"reporting_month\", \"type\": \"temporal\"}, {\"field\": \"gallons_pct_change\", \"type\": \"quantitative\"}], \"x\": {\"field\": \"reporting_month\", \"timeUnit\": \"yearmonth\", \"type\": \"temporal\"}, \"y\": {\"field\": \"gallons_pct_change\", \"type\": \"quantitative\"}}, \"title\": \"Monthly water conservation in South Coast\", \"width\": 600, \"$schema\": \"https://vega.github.io/schema/vega-lite/v4.17.0.json\", \"datasets\": {\"data-d7228e0464b73de5b0c2146c9a451335\": [{\"hydrologic_region\": \"South Coast\", \"reporting_month\": \"2021-07-15T00:00:00\", \"total_gallons_current\": 99311076526.22488, \"total_gallons_baseline\": 99409393516.80699, \"supplier_name\": 174, \"gallons_pct_change\": -0.000989011069315952}, {\"hydrologic_region\": \"South Coast\", \"reporting_month\": \"2021-08-15T00:00:00\", \"total_gallons_current\": 99455323077.41368, \"total_gallons_baseline\": 102567602606.37209, \"supplier_name\": 174, \"gallons_pct_change\": -0.030343689916420568}, {\"hydrologic_region\": \"South Coast\", \"reporting_month\": \"2021-09-15T00:00:00\", \"total_gallons_current\": 91750318456.72672, \"total_gallons_baseline\": 95735431027.20618, \"supplier_name\": 174, \"gallons_pct_change\": -0.04162630833454929}, {\"hydrologic_region\": \"South Coast\", \"reporting_month\": \"2021-10-15T00:00:00\", \"total_gallons_current\": 80548177857.378, \"total_gallons_baseline\": 91797430912.18082, \"supplier_name\": 174, \"gallons_pct_change\": -0.12254431243903277}, {\"hydrologic_region\": \"South Coast\", \"reporting_month\": \"2021-11-15T00:00:00\", \"total_gallons_current\": 76358530011.25008, \"total_gallons_baseline\": 76109690496.63905, \"supplier_name\": 174, \"gallons_pct_change\": 0.0032694853045291457}, {\"hydrologic_region\": \"South Coast\", \"reporting_month\": \"2021-12-15T00:00:00\", \"total_gallons_current\": 61108317050.13908, \"total_gallons_baseline\": 75093299854.46666, \"supplier_name\": 174, \"gallons_pct_change\": -0.18623476170884687}, {\"hydrologic_region\": \"South Coast\", \"reporting_month\": \"2022-01-15T00:00:00\", \"total_gallons_current\": 62719742288.51424, \"total_gallons_baseline\": 61672984325.646164, \"supplier_name\": 173, \"gallons_pct_change\": 0.016972714622353495}, {\"hydrologic_region\": \"South Coast\", \"reporting_month\": \"2022-02-15T00:00:00\", \"total_gallons_current\": 65740475943.671425, \"total_gallons_baseline\": 65587007747.9049, \"supplier_name\": 174, \"gallons_pct_change\": 0.002339917630583286}, {\"hydrologic_region\": \"South Coast\", \"reporting_month\": \"2022-03-15T00:00:00\", \"total_gallons_current\": 75101684042.70795, \"total_gallons_baseline\": 59112345411.256584, \"supplier_name\": 174, \"gallons_pct_change\": 0.2704906821106537}, {\"hydrologic_region\": \"South Coast\", \"reporting_month\": \"2022-04-15T00:00:00\", \"total_gallons_current\": 76571198782.60756, \"total_gallons_baseline\": 60727628405.961685, \"supplier_name\": 173, \"gallons_pct_change\": 0.2608955889193015}, {\"hydrologic_region\": \"South Coast\", \"reporting_month\": \"2022-05-15T00:00:00\", \"total_gallons_current\": 84312457380.89728, \"total_gallons_baseline\": 86095451192.98773, \"supplier_name\": 173, \"gallons_pct_change\": -0.020709500762052743}, {\"hydrologic_region\": \"South Coast\", \"reporting_month\": \"2022-06-15T00:00:00\", \"total_gallons_current\": 85682468983.76204, \"total_gallons_baseline\": 90965609689.24153, \"supplier_name\": 174, \"gallons_pct_change\": -0.058078440011866676}, {\"hydrologic_region\": \"South Coast\", \"reporting_month\": \"2022-07-15T00:00:00\", \"total_gallons_current\": 90178617228.94849, \"total_gallons_baseline\": 98768248249.0418, \"supplier_name\": 172, \"gallons_pct_change\": -0.08696753432778069}, {\"hydrologic_region\": \"South Coast\", \"reporting_month\": \"2022-08-15T00:00:00\", \"total_gallons_current\": 92062957820.8442, \"total_gallons_baseline\": 101737005037.9891, \"supplier_name\": 172, \"gallons_pct_change\": -0.09508877535300528}, {\"hydrologic_region\": \"South Coast\", \"reporting_month\": \"2022-09-15T00:00:00\", \"total_gallons_current\": 84439426023.43903, \"total_gallons_baseline\": 95614865999.21619, \"supplier_name\": 173, \"gallons_pct_change\": -0.11687973265442607}, {\"hydrologic_region\": \"South Coast\", \"reporting_month\": \"2022-10-15T00:00:00\", \"total_gallons_current\": 78476608230.0964, \"total_gallons_baseline\": 91568781032.97931, \"supplier_name\": 171, \"gallons_pct_change\": -0.14297637966991875}, {\"hydrologic_region\": \"South Coast\", \"reporting_month\": \"2022-11-15T00:00:00\", \"total_gallons_current\": 63951698365.35708, \"total_gallons_baseline\": 74245972317.91951, \"supplier_name\": 167, \"gallons_pct_change\": -0.13865094133972133}, {\"hydrologic_region\": \"South Coast\", \"reporting_month\": \"2022-12-15T00:00:00\", \"total_gallons_current\": 59421062626.65964, \"total_gallons_baseline\": 74399046019.88728, \"supplier_name\": 170, \"gallons_pct_change\": -0.20131956247428154}, {\"hydrologic_region\": \"South Coast\", \"reporting_month\": \"2023-01-15T00:00:00\", \"total_gallons_current\": 52252067705.32367, \"total_gallons_baseline\": 61247818389.57242, \"supplier_name\": 169, \"gallons_pct_change\": -0.14687463032610312}, {\"hydrologic_region\": \"South Coast\", \"reporting_month\": \"2023-02-15T00:00:00\", \"total_gallons_current\": 52684147123.41097, \"total_gallons_baseline\": 64424513228.25665, \"supplier_name\": 165, \"gallons_pct_change\": -0.1822344557458968}, {\"hydrologic_region\": \"South Coast\", \"reporting_month\": \"2023-03-15T00:00:00\", \"total_gallons_current\": 47246164949.12986, \"total_gallons_baseline\": 55281359739.68874, \"supplier_name\": 152, \"gallons_pct_change\": -0.14535088913144242}]}}, {\"mode\": \"vega-lite\"});\n",
       "</script>"
      ],
      "text/plain": [
       "alt.Chart(...)"
      ]
     },
     "execution_count": 188,
     "metadata": {},
     "output_type": "execute_result"
    }
   ],
   "source": [
    "chart_data = regions_df[regions_df.hydrologic_region==\"South Coast\"]\n",
    "name = chart_data.iloc[0][\"hydrologic_region\"]\n",
    "\n",
    "alt.Chart(\n",
    "    chart_data\n",
    ").mark_bar().encode(\n",
    "    x=alt.X('yearmonth(reporting_month):T'),\n",
    "    y=\"gallons_pct_change:Q\",\n",
    "    color=alt.condition(\n",
    "        alt.datum.gallons_pct_change > 0,\n",
    "        alt.value(\"#e6ae56\"),  # The positive color\n",
    "        alt.value(\"#83c6e0\")  # The negative color\n",
    "    ),\n",
    "    tooltip=[\"reporting_month\",\"gallons_pct_change\"]\n",
    ").properties(title=f\"Monthly water conservation in {name}\", width=600)"
   ]
  },
  {
   "cell_type": "markdown",
   "id": "8b1f50c9-e21c-4553-8771-c08b37a6cec3",
   "metadata": {},
   "source": [
    "Statewide"
   ]
  },
  {
   "cell_type": "code",
   "execution_count": 189,
   "id": "2eab363e-5dff-42f2-96e1-2cec18e8377c",
   "metadata": {},
   "outputs": [],
   "source": [
    "district_cumulative_savings_df[\"state\"] = \"California\""
   ]
  },
  {
   "cell_type": "code",
   "execution_count": 190,
   "id": "74cea2d2-d886-4851-8511-83bfeb60969a",
   "metadata": {},
   "outputs": [],
   "source": [
    "statewide_cumulative_savings_df = district_cumulative_savings_df.groupby(\n",
    "    [\"state\"]\n",
    ")[\n",
    "    [\"total_gallons_current\",\"total_gallons_baseline\", \"supplier_name\"]\n",
    "].agg({\n",
    "    \"total_gallons_current\": \"sum\",\n",
    "    \"total_gallons_baseline\": \"sum\",\n",
    "    \"supplier_name\": \"size\"\n",
    "}).reset_index().rename(\n",
    "    columns={\"supplier_name\": \"total_reports\"}\n",
    ")"
   ]
  },
  {
   "cell_type": "code",
   "execution_count": 191,
   "id": "7e2cc8ce-7220-421b-ae45-62af7f44d16e",
   "metadata": {},
   "outputs": [],
   "source": [
    "#statewide_cumulative_savings_df[\"total_reports\"] = statewide_cumulative_savings_df[\"total_reports\"]"
   ]
  },
  {
   "cell_type": "code",
   "execution_count": 192,
   "id": "a9f202a3-4cef-433f-9157-fda0dd859840",
   "metadata": {},
   "outputs": [],
   "source": [
    "statewide_cumulative_savings_df[\"total_population_served\"] = pop_state"
   ]
  },
  {
   "cell_type": "code",
   "execution_count": 193,
   "id": "15d9b1b2-1343-4f51-87fa-aa28a3fa9ab6",
   "metadata": {},
   "outputs": [],
   "source": [
    "statewide_cumulative_savings_df[\"cumulative_pct_change\"] = statewide_cumulative_savings_df.apply(lambda x: pct_change(x.total_gallons_current, x.total_gallons_baseline), axis=1)"
   ]
  },
  {
   "cell_type": "code",
   "execution_count": 194,
   "id": "b5f23a2b-ad48-4fe9-a494-94c7f4977769",
   "metadata": {},
   "outputs": [],
   "source": [
    "statewide_cumulative_savings_df['date'] = date"
   ]
  },
  {
   "cell_type": "code",
   "execution_count": 195,
   "id": "3afd57f9-88e0-4f79-b04c-c66613e29d11",
   "metadata": {},
   "outputs": [],
   "source": [
    "statewide_cumulative_savings_df['months_since'] = months_since_reductions_begin\n",
    "statewide_cumulative_savings_df['days_since'] = days_since_reductions"
   ]
  },
  {
   "cell_type": "code",
   "execution_count": 196,
   "id": "b3e2c408-135b-43e6-9a47-916506f7288c",
   "metadata": {},
   "outputs": [],
   "source": [
    "statewide_cumulative_savings_df['gallons_saved_per_month'] = regions_cumulative_savings_df.apply(\n",
    "    lambda x: gallons_per_unit(\n",
    "        x.total_gallons_current, x.total_gallons_baseline, x.total_population_served, x.months_since\n",
    "    ), axis=1\n",
    ")"
   ]
  },
  {
   "cell_type": "code",
   "execution_count": 197,
   "id": "460f972e-675c-4ac0-96ce-c5f8feca786b",
   "metadata": {},
   "outputs": [],
   "source": [
    "statewide_cumulative_savings_df['gallons_saved_per_day'] = statewide_cumulative_savings_df.apply(\n",
    "    lambda x: gallons_per_unit(\n",
    "        x.total_gallons_current, x.total_gallons_baseline, x.total_population_served, x.days_since\n",
    "    ), axis=1\n",
    ")"
   ]
  },
  {
   "cell_type": "code",
   "execution_count": 198,
   "id": "1ade952d-dcaa-42a5-b57a-2094254d94d5",
   "metadata": {},
   "outputs": [
    {
     "data": {
      "text/html": [
       "<div>\n",
       "<style scoped>\n",
       "    .dataframe tbody tr th:only-of-type {\n",
       "        vertical-align: middle;\n",
       "    }\n",
       "\n",
       "    .dataframe tbody tr th {\n",
       "        vertical-align: top;\n",
       "    }\n",
       "\n",
       "    .dataframe thead th {\n",
       "        text-align: right;\n",
       "    }\n",
       "</style>\n",
       "<table border=\"1\" class=\"dataframe\">\n",
       "  <thead>\n",
       "    <tr style=\"text-align: right;\">\n",
       "      <th></th>\n",
       "      <th>state</th>\n",
       "      <th>total_gallons_current</th>\n",
       "      <th>total_gallons_baseline</th>\n",
       "      <th>total_reports</th>\n",
       "      <th>total_population_served</th>\n",
       "      <th>cumulative_pct_change</th>\n",
       "      <th>date</th>\n",
       "      <th>months_since</th>\n",
       "      <th>days_since</th>\n",
       "      <th>gallons_saved_per_month</th>\n",
       "      <th>gallons_saved_per_day</th>\n",
       "    </tr>\n",
       "  </thead>\n",
       "  <tbody>\n",
       "    <tr>\n",
       "      <th>0</th>\n",
       "      <td>California</td>\n",
       "      <td>2761495268689.350</td>\n",
       "      <td>2968954912385.844</td>\n",
       "      <td>336</td>\n",
       "      <td>37110227</td>\n",
       "      <td>-0.070</td>\n",
       "      <td>2023-03-15</td>\n",
       "      <td>20</td>\n",
       "      <td>638</td>\n",
       "      <td>159.696</td>\n",
       "      <td>8.762</td>\n",
       "    </tr>\n",
       "  </tbody>\n",
       "</table>\n",
       "</div>"
      ],
      "text/plain": [
       "        state  total_gallons_current  total_gallons_baseline  total_reports  \\\n",
       "0  California      2761495268689.350       2968954912385.844            336   \n",
       "\n",
       "   total_population_served  cumulative_pct_change       date  months_since  \\\n",
       "0                 37110227                 -0.070 2023-03-15            20   \n",
       "\n",
       "   days_since  gallons_saved_per_month  gallons_saved_per_day  \n",
       "0         638                  159.696                  8.762  "
      ]
     },
     "execution_count": 198,
     "metadata": {},
     "output_type": "execute_result"
    }
   ],
   "source": [
    "statewide_cumulative_savings_df"
   ]
  },
  {
   "cell_type": "code",
   "execution_count": 199,
   "id": "ef29a75e-dfec-4147-94cb-2930318b78b7",
   "metadata": {},
   "outputs": [
    {
     "data": {
      "text/html": [
       "\n",
       "<div id=\"altair-viz-84c90beb7bcb41cf9122fb162e0cf743\"></div>\n",
       "<script type=\"text/javascript\">\n",
       "  var VEGA_DEBUG = (typeof VEGA_DEBUG == \"undefined\") ? {} : VEGA_DEBUG;\n",
       "  (function(spec, embedOpt){\n",
       "    let outputDiv = document.currentScript.previousElementSibling;\n",
       "    if (outputDiv.id !== \"altair-viz-84c90beb7bcb41cf9122fb162e0cf743\") {\n",
       "      outputDiv = document.getElementById(\"altair-viz-84c90beb7bcb41cf9122fb162e0cf743\");\n",
       "    }\n",
       "    const paths = {\n",
       "      \"vega\": \"https://cdn.jsdelivr.net/npm//vega@5?noext\",\n",
       "      \"vega-lib\": \"https://cdn.jsdelivr.net/npm//vega-lib?noext\",\n",
       "      \"vega-lite\": \"https://cdn.jsdelivr.net/npm//vega-lite@4.17.0?noext\",\n",
       "      \"vega-embed\": \"https://cdn.jsdelivr.net/npm//vega-embed@6?noext\",\n",
       "    };\n",
       "\n",
       "    function maybeLoadScript(lib, version) {\n",
       "      var key = `${lib.replace(\"-\", \"\")}_version`;\n",
       "      return (VEGA_DEBUG[key] == version) ?\n",
       "        Promise.resolve(paths[lib]) :\n",
       "        new Promise(function(resolve, reject) {\n",
       "          var s = document.createElement('script');\n",
       "          document.getElementsByTagName(\"head\")[0].appendChild(s);\n",
       "          s.async = true;\n",
       "          s.onload = () => {\n",
       "            VEGA_DEBUG[key] = version;\n",
       "            return resolve(paths[lib]);\n",
       "          };\n",
       "          s.onerror = () => reject(`Error loading script: ${paths[lib]}`);\n",
       "          s.src = paths[lib];\n",
       "        });\n",
       "    }\n",
       "\n",
       "    function showError(err) {\n",
       "      outputDiv.innerHTML = `<div class=\"error\" style=\"color:red;\">${err}</div>`;\n",
       "      throw err;\n",
       "    }\n",
       "\n",
       "    function displayChart(vegaEmbed) {\n",
       "      vegaEmbed(outputDiv, spec, embedOpt)\n",
       "        .catch(err => showError(`Javascript Error: ${err.message}<br>This usually means there's a typo in your chart specification. See the javascript console for the full traceback.`));\n",
       "    }\n",
       "\n",
       "    if(typeof define === \"function\" && define.amd) {\n",
       "      requirejs.config({paths});\n",
       "      require([\"vega-embed\"], displayChart, err => showError(`Error loading script: ${err.message}`));\n",
       "    } else {\n",
       "      maybeLoadScript(\"vega\", \"5\")\n",
       "        .then(() => maybeLoadScript(\"vega-lite\", \"4.17.0\"))\n",
       "        .then(() => maybeLoadScript(\"vega-embed\", \"6\"))\n",
       "        .catch(showError)\n",
       "        .then(() => displayChart(vegaEmbed));\n",
       "    }\n",
       "  })({\"config\": {\"view\": {\"width\": 800, \"height\": 450}, \"background\": \"#ffffff\", \"title\": {\"anchor\": \"start\", \"font\": \"BentonGothic-Bold, sans\", \"fontColor\": \"#000000\", \"fontSize\": 22, \"fontWeight\": \"normal\"}, \"arc\": {\"fill\": \"#82c6df\"}, \"area\": {\"fill\": \"#82c6df\"}, \"line\": {\"stroke\": \"#82c6df\", \"strokeWidth\": 3}, \"path\": {\"stroke\": \"#82c6df\"}, \"rect\": {\"fill\": \"#82c6df\"}, \"shape\": {\"stroke\": \"#82c6df\"}, \"bar\": {\"fill\": \"#82c6df\"}, \"point\": {\"stroke\": \"#82c6df\"}, \"symbol\": {\"fill\": \"#82c6df\", \"size\": 30}, \"axis\": {\"titleFont\": \"BentonGothic-Bold, sans\", \"titleFontSize\": 14, \"titleFontWeight\": \"normal\", \"labelFont\": \"BentonGothic, sans\", \"labelFontSize\": 12, \"labelFontWeight\": \"normal\"}, \"axisX\": {\"labelAngle\": 0, \"labelPadding\": 4, \"tickSize\": 3}, \"axisY\": {\"labelBaseline\": \"middle\", \"maxExtent\": 45, \"minExtent\": 45, \"tickSize\": 2, \"titleAlign\": \"left\", \"titleAngle\": 0, \"titleX\": -45, \"titleY\": -11}, \"legend\": {\"titleFont\": \"BentonGothic-Bold, sans\", \"titleFontSize\": 14, \"titleFontWeight\": \"normal\", \"symbolType\": \"square\", \"labelFont\": \"BentonGothic, sans\", \"labelFontSize\": 13}, \"range\": {\"category\": [\"#3580b1\", \"#ec8431\", \"#ab7fb4\", \"#c89d29\", \"#adc839\", \"#829eb1\"], \"diverging\": [\"#e68a4f\", \"#f4bb6a\", \"#f9e39c\", \"#dadfe2\", \"#a6b7c6\", \"#849eae\"], \"heatmap\": [\"#fbf2c7\", \"#f9e39c\", \"#f8d36e\", \"#f4bb6a\", \"#e68a4f\", \"#d15a40\", \"#ab4232\"], \"ordinal\": [\"#fbf2c7\", \"#f9e39c\", \"#f8d36e\", \"#f4bb6a\", \"#e68a4f\", \"#d15a40\", \"#ab4232\"], \"ramp\": [\"#fbf2c7\", \"#f9e39c\", \"#f8d36e\", \"#f4bb6a\", \"#e68a4f\", \"#d15a40\", \"#ab4232\"]}}, \"data\": {\"name\": \"data-3da0b58bb0c2794821b6736431869b6f\"}, \"mark\": \"bar\", \"encoding\": {\"color\": {\"condition\": {\"value\": \"#e6ae56\", \"test\": \"(datum.gallons_pct_change > 0)\"}, \"value\": \"#83c6e0\"}, \"tooltip\": [{\"field\": \"reporting_month\", \"type\": \"temporal\"}, {\"field\": \"gallons_pct_change\", \"type\": \"quantitative\"}], \"x\": {\"axis\": {\"title\": \"Reporting month\"}, \"field\": \"reporting_month\", \"timeUnit\": \"yearmonth\", \"type\": \"temporal\"}, \"y\": {\"axis\": {\"format\": \"%\", \"title\": \"Percent change in gallons used\"}, \"field\": \"gallons_pct_change\", \"type\": \"quantitative\"}}, \"title\": \"Monthly water conservation in California\", \"width\": 600, \"$schema\": \"https://vega.github.io/schema/vega-lite/v4.17.0.json\", \"datasets\": {\"data-3da0b58bb0c2794821b6736431869b6f\": [{\"state\": \"Statewide\", \"reporting_month\": \"2021-07-15T00:00:00\", \"total_gallons_current\": 201114710812.92548, \"total_gallons_baseline\": 204880879964.95627, \"gallons_pct_change\": -0.01838223826779236}, {\"state\": \"Statewide\", \"reporting_month\": \"2021-08-15T00:00:00\", \"total_gallons_current\": 197898146018.3175, \"total_gallons_baseline\": 208350293178.24832, \"gallons_pct_change\": -0.05016622247317296}, {\"state\": \"Statewide\", \"reporting_month\": \"2021-09-15T00:00:00\", \"total_gallons_current\": 181142881860.3917, \"total_gallons_baseline\": 188439677388.41742, \"gallons_pct_change\": -0.038722182234399376}, {\"state\": \"Statewide\", \"reporting_month\": \"2021-10-15T00:00:00\", \"total_gallons_current\": 153363423989.17325, \"total_gallons_baseline\": 176820951757.97623, \"gallons_pct_change\": -0.1326626032468736}, {\"state\": \"Statewide\", \"reporting_month\": \"2021-11-15T00:00:00\", \"total_gallons_current\": 130814323920.73003, \"total_gallons_baseline\": 141326508090.00266, \"gallons_pct_change\": -0.07438225362914952}, {\"state\": \"Statewide\", \"reporting_month\": \"2021-12-15T00:00:00\", \"total_gallons_current\": 109946446138.05128, \"total_gallons_baseline\": 130537859094.38206, \"gallons_pct_change\": -0.157742842568321}, {\"state\": \"Statewide\", \"reporting_month\": \"2022-01-15T00:00:00\", \"total_gallons_current\": 111064480322.35104, \"total_gallons_baseline\": 108108290914.89359, \"gallons_pct_change\": 0.027344705780102178}, {\"state\": \"Statewide\", \"reporting_month\": \"2022-02-15T00:00:00\", \"total_gallons_current\": 116950472604.37575, \"total_gallons_baseline\": 116963644869.51862, \"gallons_pct_change\": -0.00011261845642346948}, {\"state\": \"Statewide\", \"reporting_month\": \"2022-03-15T00:00:00\", \"total_gallons_current\": 136537218104.76208, \"total_gallons_baseline\": 114730653774.08244, \"gallons_pct_change\": 0.19006746334435798}, {\"state\": \"Statewide\", \"reporting_month\": \"2022-04-15T00:00:00\", \"total_gallons_current\": 141509506164.631, \"total_gallons_baseline\": 120088497238.37772, \"gallons_pct_change\": 0.178376858890425}, {\"state\": \"Statewide\", \"reporting_month\": \"2022-05-15T00:00:00\", \"total_gallons_current\": 163941601975.93683, \"total_gallons_baseline\": 169757197177.98138, \"gallons_pct_change\": -0.03425831304193373}, {\"state\": \"Statewide\", \"reporting_month\": \"2022-06-15T00:00:00\", \"total_gallons_current\": 172637062903.5164, \"total_gallons_baseline\": 186369556722.3868, \"gallons_pct_change\": -0.07368421141509786}, {\"state\": \"Statewide\", \"reporting_month\": \"2022-07-15T00:00:00\", \"total_gallons_current\": 182323164146.232, \"total_gallons_baseline\": 203486829113.34106, \"gallons_pct_change\": -0.10400508504322421}, {\"state\": \"Statewide\", \"reporting_month\": \"2022-08-15T00:00:00\", \"total_gallons_current\": 185934453872.95517, \"total_gallons_baseline\": 207475781609.86533, \"gallons_pct_change\": -0.10382574568349466}, {\"state\": \"Statewide\", \"reporting_month\": \"2022-09-15T00:00:00\", \"total_gallons_current\": 168210798154.62576, \"total_gallons_baseline\": 188138683186.153, \"gallons_pct_change\": -0.10592125284415695}, {\"state\": \"Statewide\", \"reporting_month\": \"2022-10-15T00:00:00\", \"total_gallons_current\": 153584275272.4694, \"total_gallons_baseline\": 175712933340.44418, \"gallons_pct_change\": -0.1259364216810408}, {\"state\": \"Statewide\", \"reporting_month\": \"2022-11-15T00:00:00\", \"total_gallons_current\": 118862110068.33885, \"total_gallons_baseline\": 138759935404.48343, \"gallons_pct_change\": -0.14339748197592245}, {\"state\": \"Statewide\", \"reporting_month\": \"2022-12-15T00:00:00\", \"total_gallons_current\": 107413464143.67143, \"total_gallons_baseline\": 129375010253.10727, \"gallons_pct_change\": -0.16975106758616373}, {\"state\": \"Statewide\", \"reporting_month\": \"2023-01-15T00:00:00\", \"total_gallons_current\": 96842796869.30925, \"total_gallons_baseline\": 107080251569.73268, \"gallons_pct_change\": -0.09560544124942225}, {\"state\": \"Statewide\", \"reporting_month\": \"2023-02-15T00:00:00\", \"total_gallons_current\": 93322336567.3168, \"total_gallons_baseline\": 113871115886.00127, \"gallons_pct_change\": -0.18045646746147875}, {\"state\": \"Statewide\", \"reporting_month\": \"2023-03-15T00:00:00\", \"total_gallons_current\": 89742524335.5829, \"total_gallons_baseline\": 108229426437.5002, \"gallons_pct_change\": -0.17081215996827834}]}}, {\"mode\": \"vega-lite\"});\n",
       "</script>"
      ],
      "text/plain": [
       "alt.Chart(...)"
      ]
     },
     "execution_count": 199,
     "metadata": {},
     "output_type": "execute_result"
    }
   ],
   "source": [
    "alt.Chart(\n",
    "    statewide_df\n",
    ").mark_bar().encode(\n",
    "    x=alt.X('yearmonth(reporting_month):T', axis=alt.Axis(title=\"Reporting month\")),\n",
    "    y=alt.Y(\"gallons_pct_change:Q\", axis=alt.Axis(format=\"%\", title=\"Percent change in gallons used\")),\n",
    "    color=alt.condition(\n",
    "        alt.datum.gallons_pct_change > 0,\n",
    "        alt.value(\"#e6ae56\"),  # The positive color\n",
    "        alt.value(\"#83c6e0\")  # The negative color\n",
    "    ),\n",
    "    tooltip=[\"reporting_month\",\"gallons_pct_change\"]\n",
    ").properties(title=f\"Monthly water conservation in California\", width=600)"
   ]
  },
  {
   "cell_type": "markdown",
   "id": "9e4b01c8-f932-4032-a117-a4782fb24005",
   "metadata": {},
   "source": [
    "### Merge clean names"
   ]
  },
  {
   "cell_type": "code",
   "execution_count": 200,
   "id": "f3add035-fdf1-440e-aa3e-fa41d417f1dd",
   "metadata": {},
   "outputs": [],
   "source": [
    "district_cumulative_savings_df_clean_names = pd.merge(\n",
    "    district_cumulative_savings_df,\n",
    "    clean_district_names,\n",
    "    how=\"left\",\n",
    "    on=\"supplier_name\"\n",
    ")"
   ]
  },
  {
   "cell_type": "code",
   "execution_count": 201,
   "id": "f1a278b6-4841-494f-af7a-2e766d204cca",
   "metadata": {},
   "outputs": [],
   "source": [
    "district_cumulative_savings_df_clean_names.loc[\n",
    "    (district_cumulative_savings_df_clean_names.supplier_name == 'Covina City of '),\n",
    "    \"display_name\"\n",
    "] = \"City of Covina\""
   ]
  },
  {
   "cell_type": "code",
   "execution_count": 202,
   "id": "d25a0b8a-c67e-40c6-b5e2-94dd6d0d41b6",
   "metadata": {},
   "outputs": [
    {
     "data": {
      "text/html": [
       "<div>\n",
       "<style scoped>\n",
       "    .dataframe tbody tr th:only-of-type {\n",
       "        vertical-align: middle;\n",
       "    }\n",
       "\n",
       "    .dataframe tbody tr th {\n",
       "        vertical-align: top;\n",
       "    }\n",
       "\n",
       "    .dataframe thead th {\n",
       "        text-align: right;\n",
       "    }\n",
       "</style>\n",
       "<table border=\"1\" class=\"dataframe\">\n",
       "  <thead>\n",
       "    <tr style=\"text-align: right;\">\n",
       "      <th></th>\n",
       "      <th>supplier_name</th>\n",
       "      <th>hydrologic_region</th>\n",
       "      <th>total_gallons_current</th>\n",
       "      <th>total_gallons_baseline</th>\n",
       "      <th>total_population_served</th>\n",
       "      <th>cumulative_pct_change</th>\n",
       "      <th>date</th>\n",
       "      <th>months_since</th>\n",
       "      <th>days_since</th>\n",
       "      <th>gallons_saved_per_month</th>\n",
       "      <th>gallons_saved_per_day</th>\n",
       "      <th>state</th>\n",
       "      <th>id</th>\n",
       "      <th>display_name</th>\n",
       "    </tr>\n",
       "  </thead>\n",
       "  <tbody>\n",
       "  </tbody>\n",
       "</table>\n",
       "</div>"
      ],
      "text/plain": [
       "Empty DataFrame\n",
       "Columns: [supplier_name, hydrologic_region, total_gallons_current, total_gallons_baseline, total_population_served, cumulative_pct_change, date, months_since, days_since, gallons_saved_per_month, gallons_saved_per_day, state, id, display_name]\n",
       "Index: []"
      ]
     },
     "execution_count": 202,
     "metadata": {},
     "output_type": "execute_result"
    }
   ],
   "source": [
    "district_cumulative_savings_df_clean_names[\n",
    "    district_cumulative_savings_df_clean_names.display_name.isna()\n",
    "]"
   ]
  },
  {
   "cell_type": "code",
   "execution_count": 203,
   "id": "6aa7becd-8702-42f4-9a14-c4a598920d90",
   "metadata": {},
   "outputs": [],
   "source": [
    "clean_columns = [\n",
    "    \"display_name\",\n",
    "    \"hydrologic_region\",\n",
    "    \"total_population_served\",\n",
    "    \"cumulative_pct_change\",\n",
    "    \"gallons_saved_per_month\",\n",
    "    \"gallons_saved_per_day\"\n",
    "]"
   ]
  },
  {
   "cell_type": "code",
   "execution_count": 204,
   "id": "537e7d40-6f9e-4a32-9412-676043e33528",
   "metadata": {},
   "outputs": [],
   "source": [
    "districts_trim = district_cumulative_savings_df_clean_names[clean_columns]"
   ]
  },
  {
   "cell_type": "code",
   "execution_count": 205,
   "id": "f60ef8c0-03cd-4bc7-bcf3-d10f5b2fe142",
   "metadata": {},
   "outputs": [
    {
     "data": {
      "text/plain": [
       "17"
      ]
     },
     "execution_count": 205,
     "metadata": {},
     "output_type": "execute_result"
    }
   ],
   "source": [
    "len(districts_trim[districts_trim.gallons_saved_per_day<0])"
   ]
  },
  {
   "cell_type": "markdown",
   "id": "975529b7-c7e6-48ea-864c-e53c686552ea",
   "metadata": {},
   "source": [
    "### Export"
   ]
  },
  {
   "cell_type": "code",
   "execution_count": 206,
   "id": "3449fe30-6748-43d8-9f8e-af84e68dfc37",
   "metadata": {},
   "outputs": [],
   "source": [
    "statewide_cumulative_savings_df.to_csv(\n",
    "    \"../data/processed/cumulative-conservation/cumulative-savings/statewide-cumulative-savings.csv\",\n",
    "    index=False\n",
    ")"
   ]
  },
  {
   "cell_type": "code",
   "execution_count": 207,
   "id": "e3bfad85-aabc-4347-a526-1c85beb3a120",
   "metadata": {},
   "outputs": [],
   "source": [
    "regions_cumulative_savings_df.to_csv(\n",
    "    \"../data/processed/cumulative-conservation/cumulative-savings/regional-cumulative-savings.csv\",\n",
    "    index=False\n",
    ")"
   ]
  },
  {
   "cell_type": "code",
   "execution_count": 208,
   "id": "2101f492-4626-45d6-be57-97d65a86e808",
   "metadata": {},
   "outputs": [],
   "source": [
    "districts_trim.to_csv(\n",
    "    \"../data/processed/cumulative-conservation/cumulative-savings/district-cumulative-savings.csv\",\n",
    "    index=False\n",
    ")"
   ]
  }
 ],
 "metadata": {
  "kernelspec": {
   "display_name": "Python 3 (ipykernel)",
   "language": "python",
   "name": "python3"
  },
  "language_info": {
   "codemirror_mode": {
    "name": "ipython",
    "version": 3
   },
   "file_extension": ".py",
   "mimetype": "text/x-python",
   "name": "python",
   "nbconvert_exporter": "python",
   "pygments_lexer": "ipython3",
   "version": "3.9.16"
  }
 },
 "nbformat": 4,
 "nbformat_minor": 5
}
