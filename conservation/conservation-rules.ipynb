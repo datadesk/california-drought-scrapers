{
 "cells": [
  {
   "cell_type": "code",
   "execution_count": 114,
   "id": "398110c3-ac26-4a73-a5a4-a07992bd0fd9",
   "metadata": {},
   "outputs": [],
   "source": [
    "import pandas as pd\n",
    "import altair as alt"
   ]
  },
  {
   "cell_type": "markdown",
   "id": "ee809850-b991-47ba-8020-d55ac1848ef3",
   "metadata": {},
   "source": [
    "Import downloaded Excel sheet from [dashboard](https://www.waterboards.ca.gov/water_issues/programs/conservation_portal/water-use-explorer/) site "
   ]
  },
  {
   "cell_type": "code",
   "execution_count": 52,
   "id": "d0a7d993-378c-4411-b35a-2319cc74ee6d",
   "metadata": {},
   "outputs": [],
   "source": [
    "df = pd.read_excel(\n",
    "    'data/raw/provisional-data-impacts-for-making-conservation-a-way-of-life.xlsx',\n",
    "    sheet_name='Averaged Data and Bins'\n",
    ")"
   ]
  },
  {
   "cell_type": "markdown",
   "id": "a80d5b1a-d7e4-459c-9a05-cce868056980",
   "metadata": {},
   "source": [
    "Clean `Agency` column"
   ]
  },
  {
   "cell_type": "code",
   "execution_count": 53,
   "id": "66325eda-948c-4536-b2b9-178152eb1fe2",
   "metadata": {},
   "outputs": [],
   "source": [
    "df['Agency'] = df['Agency'].str.replace('  ', ', ')\\\n",
    "    .str.replace(' Of', ' of')"
   ]
  },
  {
   "cell_type": "markdown",
   "id": "7d2210e2-d79d-4a39-aa58-015682342461",
   "metadata": {},
   "source": [
    "Correct typo"
   ]
  },
  {
   "cell_type": "code",
   "execution_count": 169,
   "id": "df62d1e3-8b5a-4782-8078-79f8ab5e9260",
   "metadata": {},
   "outputs": [],
   "source": [
    "df.loc[df.Agency == 'Westminister, City of', 'Agency'] = 'Westminster, City of'"
   ]
  },
  {
   "cell_type": "markdown",
   "id": "cfa250ed-b127-4841-aec6-e531f5137645",
   "metadata": {},
   "source": [
    "Trim columns"
   ]
  },
  {
   "cell_type": "code",
   "execution_count": 170,
   "id": "2f825ce1-da6d-4566-9303-16a27f6b1032",
   "metadata": {},
   "outputs": [],
   "source": [
    "trim_df = df[[\n",
    "    'Agency',\n",
    "    'Reductions needed to meet the objective based on 2025 standards, relative to the subset of urban uses subject to standards',\n",
    "    '2025 Objective Reductions Bin',\n",
    "    'Reductions needed to meet the objective based on 2030 standards, relative to the subset of urban uses subject to standards',\n",
    "    '2030 Objective Reductions Bin',\n",
    "    'Reductions needed to meet the objective based on 2035 standards, relative to the subset of urban uses subject to standards',\n",
    "    '2035 Objective Reductions Bin',\n",
    "    'Reductions needed to meet the objective based on 2040 standards, relative to the subset of urban uses subject to standards',\n",
    "    '2040 Objective Reductions Bin'\n",
    "]]"
   ]
  },
  {
   "cell_type": "code",
   "execution_count": 171,
   "id": "d39036fe-85a8-440c-92aa-73ac4ae5fce3",
   "metadata": {},
   "outputs": [
    {
     "data": {
      "text/html": [
       "<div>\n",
       "<style scoped>\n",
       "    .dataframe tbody tr th:only-of-type {\n",
       "        vertical-align: middle;\n",
       "    }\n",
       "\n",
       "    .dataframe tbody tr th {\n",
       "        vertical-align: top;\n",
       "    }\n",
       "\n",
       "    .dataframe thead th {\n",
       "        text-align: right;\n",
       "    }\n",
       "</style>\n",
       "<table border=\"1\" class=\"dataframe\">\n",
       "  <thead>\n",
       "    <tr style=\"text-align: right;\">\n",
       "      <th></th>\n",
       "      <th>Agency</th>\n",
       "      <th>Reductions needed to meet the objective based on 2025 standards, relative to the subset of urban uses subject to standards</th>\n",
       "      <th>2025 Objective Reductions Bin</th>\n",
       "      <th>Reductions needed to meet the objective based on 2030 standards, relative to the subset of urban uses subject to standards</th>\n",
       "      <th>2030 Objective Reductions Bin</th>\n",
       "      <th>Reductions needed to meet the objective based on 2035 standards, relative to the subset of urban uses subject to standards</th>\n",
       "      <th>2035 Objective Reductions Bin</th>\n",
       "      <th>Reductions needed to meet the objective based on 2040 standards, relative to the subset of urban uses subject to standards</th>\n",
       "      <th>2040 Objective Reductions Bin</th>\n",
       "    </tr>\n",
       "  </thead>\n",
       "  <tbody>\n",
       "    <tr>\n",
       "      <th>0</th>\n",
       "      <td>Adelanto, City of</td>\n",
       "      <td>-0.080126</td>\n",
       "      <td>5-10% Reduction</td>\n",
       "      <td>-0.134278</td>\n",
       "      <td>10-20% Reduction</td>\n",
       "      <td>-0.202074</td>\n",
       "      <td>20-30% Reduction</td>\n",
       "      <td>-0.233978</td>\n",
       "      <td>20-30% Reduction</td>\n",
       "    </tr>\n",
       "    <tr>\n",
       "      <th>1</th>\n",
       "      <td>Alameda County Water District</td>\n",
       "      <td>0.000000</td>\n",
       "      <td>No Reduction</td>\n",
       "      <td>0.000000</td>\n",
       "      <td>No Reduction</td>\n",
       "      <td>-0.022461</td>\n",
       "      <td>Less Than 5% Reduction</td>\n",
       "      <td>-0.056130</td>\n",
       "      <td>5-10% Reduction</td>\n",
       "    </tr>\n",
       "    <tr>\n",
       "      <th>2</th>\n",
       "      <td>Alco Water Service</td>\n",
       "      <td>-0.162633</td>\n",
       "      <td>10-20% Reduction</td>\n",
       "      <td>-0.210086</td>\n",
       "      <td>20-30% Reduction</td>\n",
       "      <td>-0.259557</td>\n",
       "      <td>20-30% Reduction</td>\n",
       "      <td>-0.282837</td>\n",
       "      <td>20-30% Reduction</td>\n",
       "    </tr>\n",
       "    <tr>\n",
       "      <th>3</th>\n",
       "      <td>Alhambra, City of</td>\n",
       "      <td>-0.060470</td>\n",
       "      <td>5-10% Reduction</td>\n",
       "      <td>-0.124691</td>\n",
       "      <td>10-20% Reduction</td>\n",
       "      <td>-0.179862</td>\n",
       "      <td>10-20% Reduction</td>\n",
       "      <td>-0.205826</td>\n",
       "      <td>20-30% Reduction</td>\n",
       "    </tr>\n",
       "    <tr>\n",
       "      <th>4</th>\n",
       "      <td>Amador Water Agency</td>\n",
       "      <td>0.000000</td>\n",
       "      <td>No Reduction</td>\n",
       "      <td>0.000000</td>\n",
       "      <td>No Reduction</td>\n",
       "      <td>0.000000</td>\n",
       "      <td>No Reduction</td>\n",
       "      <td>0.000000</td>\n",
       "      <td>No Reduction</td>\n",
       "    </tr>\n",
       "    <tr>\n",
       "      <th>...</th>\n",
       "      <td>...</td>\n",
       "      <td>...</td>\n",
       "      <td>...</td>\n",
       "      <td>...</td>\n",
       "      <td>...</td>\n",
       "      <td>...</td>\n",
       "      <td>...</td>\n",
       "      <td>...</td>\n",
       "      <td>...</td>\n",
       "    </tr>\n",
       "    <tr>\n",
       "      <th>391</th>\n",
       "      <td>Yuba City</td>\n",
       "      <td>0.000000</td>\n",
       "      <td>No Reduction</td>\n",
       "      <td>-0.012563</td>\n",
       "      <td>Less Than 5% Reduction</td>\n",
       "      <td>-0.108530</td>\n",
       "      <td>10-20% Reduction</td>\n",
       "      <td>-0.153690</td>\n",
       "      <td>10-20% Reduction</td>\n",
       "    </tr>\n",
       "    <tr>\n",
       "      <th>392</th>\n",
       "      <td>Yucaipa Valley Water District</td>\n",
       "      <td>0.000000</td>\n",
       "      <td>No Reduction</td>\n",
       "      <td>0.000000</td>\n",
       "      <td>No Reduction</td>\n",
       "      <td>0.000000</td>\n",
       "      <td>No Reduction</td>\n",
       "      <td>-0.048620</td>\n",
       "      <td>Less Than 5% Reduction</td>\n",
       "    </tr>\n",
       "    <tr>\n",
       "      <th>393</th>\n",
       "      <td>Chowchilla, City of</td>\n",
       "      <td>-0.156339</td>\n",
       "      <td>10-20% Reduction</td>\n",
       "      <td>-0.190892</td>\n",
       "      <td>10-20% Reduction</td>\n",
       "      <td>-0.270763</td>\n",
       "      <td>20-30% Reduction</td>\n",
       "      <td>-0.308350</td>\n",
       "      <td>Greater Than 30% Reduction</td>\n",
       "    </tr>\n",
       "    <tr>\n",
       "      <th>394</th>\n",
       "      <td>Mountain House Community Services District</td>\n",
       "      <td>-0.326492</td>\n",
       "      <td>Greater Than 30% Reduction</td>\n",
       "      <td>-0.357461</td>\n",
       "      <td>Greater Than 30% Reduction</td>\n",
       "      <td>-0.393124</td>\n",
       "      <td>Greater Than 30% Reduction</td>\n",
       "      <td>-0.409907</td>\n",
       "      <td>Greater Than 30% Reduction</td>\n",
       "    </tr>\n",
       "    <tr>\n",
       "      <th>395</th>\n",
       "      <td>Santa Clarita Water Company</td>\n",
       "      <td>-0.045018</td>\n",
       "      <td>Less Than 5% Reduction</td>\n",
       "      <td>-0.073300</td>\n",
       "      <td>5-10% Reduction</td>\n",
       "      <td>-0.154877</td>\n",
       "      <td>10-20% Reduction</td>\n",
       "      <td>-0.193266</td>\n",
       "      <td>10-20% Reduction</td>\n",
       "    </tr>\n",
       "  </tbody>\n",
       "</table>\n",
       "<p>396 rows × 9 columns</p>\n",
       "</div>"
      ],
      "text/plain": [
       "                                         Agency  \\\n",
       "0                             Adelanto, City of   \n",
       "1                 Alameda County Water District   \n",
       "2                            Alco Water Service   \n",
       "3                             Alhambra, City of   \n",
       "4                           Amador Water Agency   \n",
       "..                                          ...   \n",
       "391                                   Yuba City   \n",
       "392               Yucaipa Valley Water District   \n",
       "393                         Chowchilla, City of   \n",
       "394  Mountain House Community Services District   \n",
       "395                 Santa Clarita Water Company   \n",
       "\n",
       "     Reductions needed to meet the objective based on 2025 standards, relative to the subset of urban uses subject to standards  \\\n",
       "0                                            -0.080126                                                                            \n",
       "1                                             0.000000                                                                            \n",
       "2                                            -0.162633                                                                            \n",
       "3                                            -0.060470                                                                            \n",
       "4                                             0.000000                                                                            \n",
       "..                                                 ...                                                                            \n",
       "391                                           0.000000                                                                            \n",
       "392                                           0.000000                                                                            \n",
       "393                                          -0.156339                                                                            \n",
       "394                                          -0.326492                                                                            \n",
       "395                                          -0.045018                                                                            \n",
       "\n",
       "    2025 Objective Reductions Bin  \\\n",
       "0                 5-10% Reduction   \n",
       "1                    No Reduction   \n",
       "2                10-20% Reduction   \n",
       "3                 5-10% Reduction   \n",
       "4                    No Reduction   \n",
       "..                            ...   \n",
       "391                  No Reduction   \n",
       "392                  No Reduction   \n",
       "393              10-20% Reduction   \n",
       "394    Greater Than 30% Reduction   \n",
       "395        Less Than 5% Reduction   \n",
       "\n",
       "     Reductions needed to meet the objective based on 2030 standards, relative to the subset of urban uses subject to standards  \\\n",
       "0                                            -0.134278                                                                            \n",
       "1                                             0.000000                                                                            \n",
       "2                                            -0.210086                                                                            \n",
       "3                                            -0.124691                                                                            \n",
       "4                                             0.000000                                                                            \n",
       "..                                                 ...                                                                            \n",
       "391                                          -0.012563                                                                            \n",
       "392                                           0.000000                                                                            \n",
       "393                                          -0.190892                                                                            \n",
       "394                                          -0.357461                                                                            \n",
       "395                                          -0.073300                                                                            \n",
       "\n",
       "    2030 Objective Reductions Bin  \\\n",
       "0                10-20% Reduction   \n",
       "1                    No Reduction   \n",
       "2                20-30% Reduction   \n",
       "3                10-20% Reduction   \n",
       "4                    No Reduction   \n",
       "..                            ...   \n",
       "391        Less Than 5% Reduction   \n",
       "392                  No Reduction   \n",
       "393              10-20% Reduction   \n",
       "394    Greater Than 30% Reduction   \n",
       "395               5-10% Reduction   \n",
       "\n",
       "     Reductions needed to meet the objective based on 2035 standards, relative to the subset of urban uses subject to standards  \\\n",
       "0                                            -0.202074                                                                            \n",
       "1                                            -0.022461                                                                            \n",
       "2                                            -0.259557                                                                            \n",
       "3                                            -0.179862                                                                            \n",
       "4                                             0.000000                                                                            \n",
       "..                                                 ...                                                                            \n",
       "391                                          -0.108530                                                                            \n",
       "392                                           0.000000                                                                            \n",
       "393                                          -0.270763                                                                            \n",
       "394                                          -0.393124                                                                            \n",
       "395                                          -0.154877                                                                            \n",
       "\n",
       "    2035 Objective Reductions Bin  \\\n",
       "0                20-30% Reduction   \n",
       "1          Less Than 5% Reduction   \n",
       "2                20-30% Reduction   \n",
       "3                10-20% Reduction   \n",
       "4                    No Reduction   \n",
       "..                            ...   \n",
       "391              10-20% Reduction   \n",
       "392                  No Reduction   \n",
       "393              20-30% Reduction   \n",
       "394    Greater Than 30% Reduction   \n",
       "395              10-20% Reduction   \n",
       "\n",
       "     Reductions needed to meet the objective based on 2040 standards, relative to the subset of urban uses subject to standards  \\\n",
       "0                                            -0.233978                                                                            \n",
       "1                                            -0.056130                                                                            \n",
       "2                                            -0.282837                                                                            \n",
       "3                                            -0.205826                                                                            \n",
       "4                                             0.000000                                                                            \n",
       "..                                                 ...                                                                            \n",
       "391                                          -0.153690                                                                            \n",
       "392                                          -0.048620                                                                            \n",
       "393                                          -0.308350                                                                            \n",
       "394                                          -0.409907                                                                            \n",
       "395                                          -0.193266                                                                            \n",
       "\n",
       "    2040 Objective Reductions Bin  \n",
       "0                20-30% Reduction  \n",
       "1                 5-10% Reduction  \n",
       "2                20-30% Reduction  \n",
       "3                20-30% Reduction  \n",
       "4                    No Reduction  \n",
       "..                            ...  \n",
       "391              10-20% Reduction  \n",
       "392        Less Than 5% Reduction  \n",
       "393    Greater Than 30% Reduction  \n",
       "394    Greater Than 30% Reduction  \n",
       "395              10-20% Reduction  \n",
       "\n",
       "[396 rows x 9 columns]"
      ]
     },
     "execution_count": 171,
     "metadata": {},
     "output_type": "execute_result"
    }
   ],
   "source": [
    "trim_df"
   ]
  },
  {
   "cell_type": "markdown",
   "id": "e48dcc04-bb66-4b71-8fc8-d71521b15c3f",
   "metadata": {},
   "source": [
    "Count number of agencies in each reduction category, or bin"
   ]
  },
  {
   "cell_type": "code",
   "execution_count": 172,
   "id": "7d0282bc-41e9-49f5-9055-a79df0e0c6cc",
   "metadata": {},
   "outputs": [],
   "source": [
    "bins_columns = ['Agency','2025 Objective Reductions Bin','2030 Objective Reductions Bin','2035 Objective Reductions Bin','2040 Objective Reductions Bin']"
   ]
  },
  {
   "cell_type": "code",
   "execution_count": 173,
   "id": "e2c18a74-8f38-4fd3-9ae7-c687d8247b7c",
   "metadata": {},
   "outputs": [],
   "source": [
    "melt_bins = pd.melt(trim_df[bins_columns], id_vars='Agency')"
   ]
  },
  {
   "cell_type": "code",
   "execution_count": 174,
   "id": "91e11a6c-e021-4ba4-b629-dbabb6d71306",
   "metadata": {},
   "outputs": [],
   "source": [
    "table = pd.pivot_table(melt_bins, index=['value'],\n",
    "                       columns=['variable'], aggfunc=\"count\").reset_index()"
   ]
  },
  {
   "cell_type": "code",
   "execution_count": 175,
   "id": "7e6edf51-7f9a-438e-8e7f-0a98acde6371",
   "metadata": {},
   "outputs": [],
   "source": [
    "table.columns = table.columns.droplevel()"
   ]
  },
  {
   "cell_type": "code",
   "execution_count": 176,
   "id": "cc54d3b4-5431-4b9a-b04f-d2cd9e55af9a",
   "metadata": {},
   "outputs": [],
   "source": [
    "table = table.rename(columns={'': 'Category'})"
   ]
  },
  {
   "cell_type": "code",
   "execution_count": 177,
   "id": "854cff02-f99c-4c78-8bda-4b81702536a6",
   "metadata": {},
   "outputs": [],
   "source": [
    "table['Category'] = pd.Categorical(\n",
    "    table['Category'], \n",
    "    [\n",
    "        'No Reduction', \n",
    "        'Less Than 5% Reduction',  \n",
    "        '5-10% Reduction',\n",
    "        '10-20% Reduction', \n",
    "        '20-30% Reduction', \n",
    "        'Greater Than 30% Reduction'        \n",
    "    ]\n",
    ")"
   ]
  },
  {
   "cell_type": "code",
   "execution_count": 178,
   "id": "d7ede824-4729-4f20-924d-99537de52711",
   "metadata": {},
   "outputs": [],
   "source": [
    "table = table.sort_values('Category')"
   ]
  },
  {
   "cell_type": "code",
   "execution_count": 179,
   "id": "80c6f89b-25b1-4f21-b634-2a1d8e441959",
   "metadata": {},
   "outputs": [],
   "source": [
    "table.columns = table.columns.str.strip(' Objective Reductions Bin')"
   ]
  },
  {
   "cell_type": "code",
   "execution_count": 180,
   "id": "39564f5b-1064-418f-a974-c88fc551a419",
   "metadata": {},
   "outputs": [
    {
     "data": {
      "text/html": [
       "<div>\n",
       "<style scoped>\n",
       "    .dataframe tbody tr th:only-of-type {\n",
       "        vertical-align: middle;\n",
       "    }\n",
       "\n",
       "    .dataframe tbody tr th {\n",
       "        vertical-align: top;\n",
       "    }\n",
       "\n",
       "    .dataframe thead th {\n",
       "        text-align: right;\n",
       "    }\n",
       "</style>\n",
       "<table border=\"1\" class=\"dataframe\">\n",
       "  <thead>\n",
       "    <tr style=\"text-align: right;\">\n",
       "      <th>variable</th>\n",
       "      <th>Category</th>\n",
       "      <th>2025</th>\n",
       "      <th>2030</th>\n",
       "      <th>2035</th>\n",
       "      <th>2040</th>\n",
       "    </tr>\n",
       "  </thead>\n",
       "  <tbody>\n",
       "    <tr>\n",
       "      <th>5</th>\n",
       "      <td>No Reduction</td>\n",
       "      <td>258</td>\n",
       "      <td>227</td>\n",
       "      <td>150</td>\n",
       "      <td>124</td>\n",
       "    </tr>\n",
       "    <tr>\n",
       "      <th>4</th>\n",
       "      <td>Less Than 5% Reduction</td>\n",
       "      <td>39</td>\n",
       "      <td>43</td>\n",
       "      <td>45</td>\n",
       "      <td>33</td>\n",
       "    </tr>\n",
       "    <tr>\n",
       "      <th>2</th>\n",
       "      <td>5-10% Reduction</td>\n",
       "      <td>25</td>\n",
       "      <td>31</td>\n",
       "      <td>49</td>\n",
       "      <td>50</td>\n",
       "    </tr>\n",
       "    <tr>\n",
       "      <th>0</th>\n",
       "      <td>10-20% Reduction</td>\n",
       "      <td>43</td>\n",
       "      <td>52</td>\n",
       "      <td>69</td>\n",
       "      <td>83</td>\n",
       "    </tr>\n",
       "    <tr>\n",
       "      <th>1</th>\n",
       "      <td>20-30% Reduction</td>\n",
       "      <td>25</td>\n",
       "      <td>33</td>\n",
       "      <td>48</td>\n",
       "      <td>60</td>\n",
       "    </tr>\n",
       "    <tr>\n",
       "      <th>3</th>\n",
       "      <td>Greater Than 30% Reduction</td>\n",
       "      <td>6</td>\n",
       "      <td>10</td>\n",
       "      <td>35</td>\n",
       "      <td>46</td>\n",
       "    </tr>\n",
       "  </tbody>\n",
       "</table>\n",
       "</div>"
      ],
      "text/plain": [
       "variable                    Category  2025  2030  2035  2040\n",
       "5                       No Reduction   258   227   150   124\n",
       "4             Less Than 5% Reduction    39    43    45    33\n",
       "2                    5-10% Reduction    25    31    49    50\n",
       "0                   10-20% Reduction    43    52    69    83\n",
       "1                   20-30% Reduction    25    33    48    60\n",
       "3         Greater Than 30% Reduction     6    10    35    46"
      ]
     },
     "execution_count": 180,
     "metadata": {},
     "output_type": "execute_result"
    }
   ],
   "source": [
    "table"
   ]
  },
  {
   "cell_type": "code",
   "execution_count": 181,
   "id": "cc0102b7-e4e2-494c-8782-d1f519fddfc6",
   "metadata": {},
   "outputs": [
    {
     "data": {
      "text/plain": [
       "0.6035353535353535"
      ]
     },
     "execution_count": 181,
     "metadata": {},
     "output_type": "execute_result"
    }
   ],
   "source": [
    "table[~table.Category.isin(['No Reduction','Less Than 5% Reduction'])]['2040'].sum() / table['2040'].sum()"
   ]
  },
  {
   "cell_type": "code",
   "execution_count": 182,
   "id": "31faf112-86fe-436d-82f8-662c53e8b980",
   "metadata": {},
   "outputs": [],
   "source": [
    "table.to_csv('data/processed/summary-by-reduction-category.csv', index=False)"
   ]
  },
  {
   "cell_type": "markdown",
   "id": "093f7c27-20e1-4cb1-9e4c-521a393a1d0b",
   "metadata": {},
   "source": [
    "Create a dataframe of agencies and reduction targets for lookup table"
   ]
  },
  {
   "cell_type": "code",
   "execution_count": 183,
   "id": "c3b29c76-9b33-4871-b8f6-52227963d39d",
   "metadata": {},
   "outputs": [],
   "source": [
    "agency_df = trim_df[[\n",
    "    'Agency',\n",
    "    'Reductions needed to meet the objective based on 2025 standards, relative to the subset of urban uses subject to standards',\n",
    "    'Reductions needed to meet the objective based on 2030 standards, relative to the subset of urban uses subject to standards',\n",
    "    'Reductions needed to meet the objective based on 2035 standards, relative to the subset of urban uses subject to standards',\n",
    "    'Reductions needed to meet the objective based on 2040 standards, relative to the subset of urban uses subject to standards',\n",
    "]].copy()"
   ]
  },
  {
   "cell_type": "code",
   "execution_count": 184,
   "id": "3ef36c9c-6a33-4e30-b99b-1272010bb2a7",
   "metadata": {},
   "outputs": [],
   "source": [
    "agency_df.columns = ['Agency', '2025', '2030', '2035', '2040']"
   ]
  },
  {
   "cell_type": "markdown",
   "id": "bead8f88-f807-43a0-8e79-d5022d543223",
   "metadata": {},
   "source": [
    "Multiply percentages by 100"
   ]
  },
  {
   "cell_type": "code",
   "execution_count": 185,
   "id": "381e99e2-c34e-4315-b30b-0a07ad0ed87d",
   "metadata": {},
   "outputs": [],
   "source": [
    "agency_df[['2025', '2030', '2035', '2040']] = agency_df[['2025', '2030', '2035', '2040']] * 100"
   ]
  },
  {
   "cell_type": "code",
   "execution_count": 186,
   "id": "da8586dd-a7a8-4892-b64c-62cd27377482",
   "metadata": {},
   "outputs": [],
   "source": [
    "agency_df.to_csv('data/processed/agency-table.csv', index=False)"
   ]
  }
 ],
 "metadata": {
  "kernelspec": {
   "display_name": "Python 3 (ipykernel)",
   "language": "python",
   "name": "python3"
  },
  "language_info": {
   "codemirror_mode": {
    "name": "ipython",
    "version": 3
   },
   "file_extension": ".py",
   "mimetype": "text/x-python",
   "name": "python",
   "nbconvert_exporter": "python",
   "pygments_lexer": "ipython3",
   "version": "3.9.6"
  }
 },
 "nbformat": 4,
 "nbformat_minor": 5
}
