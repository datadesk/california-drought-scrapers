{
 "cells": [
  {
   "cell_type": "code",
   "execution_count": 82,
   "id": "edcca902-4c31-4ea8-be78-a0a396409eec",
   "metadata": {},
   "outputs": [],
   "source": [
    "import pandas as pd\n",
    "import altair as alt\n",
    "import altair_latimes as lat"
   ]
  },
  {
   "cell_type": "code",
   "execution_count": 83,
   "id": "36ffc5e1-1fe9-412f-b7ec-d4a3a1f2ef11",
   "metadata": {},
   "outputs": [
    {
     "data": {
      "text/plain": [
       "ThemeRegistry.enable('latimes')"
      ]
     },
     "execution_count": 83,
     "metadata": {},
     "output_type": "execute_result"
    }
   ],
   "source": [
    "alt.themes.register('latimes', lat.theme)\n",
    "alt.themes.enable('latimes')"
   ]
  },
  {
   "cell_type": "code",
   "execution_count": 145,
   "id": "197b1bdf-b1ba-444a-8b9a-6345bb12fcdf",
   "metadata": {},
   "outputs": [],
   "source": [
    "pd.set_option('display.float_format', lambda x: '%.3f' % x)"
   ]
  },
  {
   "cell_type": "markdown",
   "id": "0aab5e92-9ad5-4110-8c24-5508ac230fcb",
   "metadata": {},
   "source": [
    "### Import"
   ]
  },
  {
   "cell_type": "code",
   "execution_count": 146,
   "id": "eada2996-4a8c-4bbb-8c34-1738cd882bb3",
   "metadata": {},
   "outputs": [],
   "source": [
    "df = pd.read_csv(\"../data/processed/district-level-residential-use.csv\", parse_dates=[\"reporting_month\"])"
   ]
  },
  {
   "cell_type": "code",
   "execution_count": 147,
   "id": "f31f3525-724e-455f-97f3-09c8c4a9019b",
   "metadata": {},
   "outputs": [],
   "source": [
    "baselines_df = pd.read_csv(\"../data/raw/uw-2020-baseline-values.csv\")"
   ]
  },
  {
   "cell_type": "markdown",
   "id": "b8acda33-a463-4231-9f17-554021e6b131",
   "metadata": {},
   "source": [
    "### Clean"
   ]
  },
  {
   "cell_type": "markdown",
   "id": "86e2c103-e0e3-4b56-9cd0-710bebd4e584",
   "metadata": {},
   "source": [
    "Clean up baselines column names as we did in the previous notebook"
   ]
  },
  {
   "cell_type": "code",
   "execution_count": 148,
   "id": "c6693671-6764-4568-89e2-941aa3c4aee8",
   "metadata": {},
   "outputs": [],
   "source": [
    "baselines_df.columns = baselines_df.columns.str.replace(\" \",\"_\").str.replace(\"-\",\"_\").str.replace(r'[#,@,&,(,)]', '', regex=True).str.lower()"
   ]
  },
  {
   "cell_type": "code",
   "execution_count": 149,
   "id": "8f4ac90a-fa77-4297-bed0-600c9d4946b8",
   "metadata": {},
   "outputs": [],
   "source": [
    "baselines_df.supplier_name = baselines_df.supplier_name.str.replace(\"  \", \" \")"
   ]
  },
  {
   "cell_type": "code",
   "execution_count": 150,
   "id": "c5ee2af5-4037-409d-8b11-7aca8ab0142e",
   "metadata": {},
   "outputs": [],
   "source": [
    "baselines_trimmed_df = baselines_df[[\n",
    "    'supplier_name', \n",
    "    'public_water_system_id', \n",
    "    'month', \n",
    "    #'original_units',\n",
    "    # 'total_potable_production_original_units',\n",
    "    # 'potable_commercial_agriculture_original_units',\n",
    "    'total_potable_production_minus_ag_gallons', \n",
    "    # 'staff_notes'\n",
    "]].copy()"
   ]
  },
  {
   "cell_type": "code",
   "execution_count": 151,
   "id": "19d3208a-ce06-4087-be21-7258221ba9cf",
   "metadata": {},
   "outputs": [],
   "source": [
    "trim_df = df[[\n",
    "    'supplier_name', \n",
    "    'public_water_system_id', \n",
    "    'reporting_month', \n",
    "    'county',\n",
    "    'hydrologic_region', \n",
    "    # 'climate_zone', \n",
    "    'total_population_served',\n",
    "    'calculated_total_potable_water_production_gallons_ag_excluded',\n",
    "    # 'calculated_r_gpcd', \n",
    "    # 'pop_weighted_rgpcd', \n",
    "    # 'month'\n",
    "]].copy()"
   ]
  },
  {
   "cell_type": "markdown",
   "id": "e243cc84-9ae7-477a-8fda-552735e50641",
   "metadata": {},
   "source": [
    "### Merge"
   ]
  },
  {
   "cell_type": "markdown",
   "id": "d818f238-e884-4919-b63c-54132e7736a6",
   "metadata": {},
   "source": [
    "Filter df to July 2021 and later"
   ]
  },
  {
   "cell_type": "code",
   "execution_count": 152,
   "id": "2e8b7b2d-8d14-4c13-a91d-d84b563583f2",
   "metadata": {},
   "outputs": [],
   "source": [
    "filter_df = trim_df[trim_df.reporting_month >= \"2021-07-15\"].copy()"
   ]
  },
  {
   "cell_type": "markdown",
   "id": "cd5f1dca-1f9d-4a4f-a4bd-feb4703a1dbb",
   "metadata": {},
   "source": [
    "Make a month column to merge with baselines"
   ]
  },
  {
   "cell_type": "code",
   "execution_count": 153,
   "id": "6a81a262-3a0e-4e43-82dd-c6bfb07d733e",
   "metadata": {},
   "outputs": [],
   "source": [
    "filter_df[\"month\"] = filter_df[\"reporting_month\"].dt.month"
   ]
  },
  {
   "cell_type": "code",
   "execution_count": 154,
   "id": "1a6d11a1-8664-4426-ac53-4b3d6f794a19",
   "metadata": {},
   "outputs": [],
   "source": [
    "merge_df = pd.merge(\n",
    "    filter_df, \n",
    "    baselines_trimmed_df, \n",
    "    how=\"left\", \n",
    "    on=[\"supplier_name\", \"public_water_system_id\", \"month\"]\n",
    ").rename(\n",
    "    columns={\n",
    "        \"calculated_total_potable_water_production_gallons_ag_excluded\": \"total_gallons_current\",\n",
    "        \"total_potable_production_minus_ag_gallons\": \"total_gallons_baseline\"\n",
    "    }\n",
    ").drop(\"month\", axis=1)"
   ]
  },
  {
   "cell_type": "code",
   "execution_count": 156,
   "id": "c3bfd477-7163-435a-afb9-c2b63eebebf5",
   "metadata": {},
   "outputs": [
    {
     "data": {
      "text/html": [
       "<div>\n",
       "<style scoped>\n",
       "    .dataframe tbody tr th:only-of-type {\n",
       "        vertical-align: middle;\n",
       "    }\n",
       "\n",
       "    .dataframe tbody tr th {\n",
       "        vertical-align: top;\n",
       "    }\n",
       "\n",
       "    .dataframe thead th {\n",
       "        text-align: right;\n",
       "    }\n",
       "</style>\n",
       "<table border=\"1\" class=\"dataframe\">\n",
       "  <thead>\n",
       "    <tr style=\"text-align: right;\">\n",
       "      <th></th>\n",
       "      <th>supplier_name</th>\n",
       "      <th>public_water_system_id</th>\n",
       "      <th>reporting_month</th>\n",
       "      <th>county</th>\n",
       "      <th>hydrologic_region</th>\n",
       "      <th>total_population_served</th>\n",
       "      <th>total_gallons_current</th>\n",
       "      <th>total_gallons_baseline</th>\n",
       "    </tr>\n",
       "  </thead>\n",
       "  <tbody>\n",
       "    <tr>\n",
       "      <th>0</th>\n",
       "      <td>Adelanto City of</td>\n",
       "      <td>CA3610001</td>\n",
       "      <td>2021-07-15</td>\n",
       "      <td>San Bernardino</td>\n",
       "      <td>South Lahontan</td>\n",
       "      <td>30743</td>\n",
       "      <td>150480384.476</td>\n",
       "      <td>170230680.945</td>\n",
       "    </tr>\n",
       "    <tr>\n",
       "      <th>1</th>\n",
       "      <td>Alameda County Water District</td>\n",
       "      <td>CA0110001</td>\n",
       "      <td>2021-07-15</td>\n",
       "      <td>Alameda</td>\n",
       "      <td>San Francisco Bay</td>\n",
       "      <td>356823</td>\n",
       "      <td>1455800000.000</td>\n",
       "      <td>1545900000.000</td>\n",
       "    </tr>\n",
       "    <tr>\n",
       "      <th>2</th>\n",
       "      <td>Alco Water Service</td>\n",
       "      <td>CA2710001</td>\n",
       "      <td>2021-07-15</td>\n",
       "      <td>Monterey</td>\n",
       "      <td>Central Coast</td>\n",
       "      <td>30509</td>\n",
       "      <td>131292000.000</td>\n",
       "      <td>135785000.000</td>\n",
       "    </tr>\n",
       "    <tr>\n",
       "      <th>3</th>\n",
       "      <td>Alhambra City of</td>\n",
       "      <td>CA1910001</td>\n",
       "      <td>2021-07-15</td>\n",
       "      <td>Los Angeles</td>\n",
       "      <td>South Coast</td>\n",
       "      <td>85168</td>\n",
       "      <td>289886825.130</td>\n",
       "      <td>294292716.295</td>\n",
       "    </tr>\n",
       "    <tr>\n",
       "      <th>4</th>\n",
       "      <td>Amador Water Agency</td>\n",
       "      <td>CA0310002,CA0310019,CA0310012,CA0310021,CA0310003</td>\n",
       "      <td>2021-07-15</td>\n",
       "      <td>Amador</td>\n",
       "      <td>San Joaquin River</td>\n",
       "      <td>22468</td>\n",
       "      <td>148380000.000</td>\n",
       "      <td>149450000.000</td>\n",
       "    </tr>\n",
       "    <tr>\n",
       "      <th>...</th>\n",
       "      <td>...</td>\n",
       "      <td>...</td>\n",
       "      <td>...</td>\n",
       "      <td>...</td>\n",
       "      <td>...</td>\n",
       "      <td>...</td>\n",
       "      <td>...</td>\n",
       "      <td>...</td>\n",
       "    </tr>\n",
       "    <tr>\n",
       "      <th>3614</th>\n",
       "      <td>Whittier City of</td>\n",
       "      <td>CA1910173</td>\n",
       "      <td>2022-03-15</td>\n",
       "      <td>Los Angeles</td>\n",
       "      <td>South Coast</td>\n",
       "      <td>49954</td>\n",
       "      <td>183802773.570</td>\n",
       "      <td>150217507.847</td>\n",
       "    </tr>\n",
       "    <tr>\n",
       "      <th>3615</th>\n",
       "      <td>Windsor, Town of</td>\n",
       "      <td>CA4910017</td>\n",
       "      <td>2022-03-15</td>\n",
       "      <td>Sonoma</td>\n",
       "      <td>North Coast</td>\n",
       "      <td>28397</td>\n",
       "      <td>67777008.000</td>\n",
       "      <td>77150213.114</td>\n",
       "    </tr>\n",
       "    <tr>\n",
       "      <th>3616</th>\n",
       "      <td>Woodland City of</td>\n",
       "      <td>CA5710006</td>\n",
       "      <td>2022-03-15</td>\n",
       "      <td>Yolo</td>\n",
       "      <td>Sacramento River</td>\n",
       "      <td>60978</td>\n",
       "      <td>229077909.000</td>\n",
       "      <td>203351955.000</td>\n",
       "    </tr>\n",
       "    <tr>\n",
       "      <th>3617</th>\n",
       "      <td>Yorba Linda Water District</td>\n",
       "      <td>CA3010037</td>\n",
       "      <td>2022-03-15</td>\n",
       "      <td>Orange</td>\n",
       "      <td>South Coast</td>\n",
       "      <td>80540</td>\n",
       "      <td>488998078.680</td>\n",
       "      <td>368889400.080</td>\n",
       "    </tr>\n",
       "    <tr>\n",
       "      <th>3618</th>\n",
       "      <td>Yuba City City of</td>\n",
       "      <td>CA5110002</td>\n",
       "      <td>2022-03-15</td>\n",
       "      <td>Sutter</td>\n",
       "      <td>Sacramento River</td>\n",
       "      <td>71922</td>\n",
       "      <td>361920000.000</td>\n",
       "      <td>295120000.000</td>\n",
       "    </tr>\n",
       "  </tbody>\n",
       "</table>\n",
       "<p>3619 rows × 8 columns</p>\n",
       "</div>"
      ],
      "text/plain": [
       "                      supplier_name  \\\n",
       "0                  Adelanto City of   \n",
       "1     Alameda County Water District   \n",
       "2                Alco Water Service   \n",
       "3                  Alhambra City of   \n",
       "4               Amador Water Agency   \n",
       "...                             ...   \n",
       "3614               Whittier City of   \n",
       "3615               Windsor, Town of   \n",
       "3616               Woodland City of   \n",
       "3617     Yorba Linda Water District   \n",
       "3618              Yuba City City of   \n",
       "\n",
       "                                 public_water_system_id reporting_month  \\\n",
       "0                                             CA3610001      2021-07-15   \n",
       "1                                             CA0110001      2021-07-15   \n",
       "2                                             CA2710001      2021-07-15   \n",
       "3                                             CA1910001      2021-07-15   \n",
       "4     CA0310002,CA0310019,CA0310012,CA0310021,CA0310003      2021-07-15   \n",
       "...                                                 ...             ...   \n",
       "3614                                          CA1910173      2022-03-15   \n",
       "3615                                          CA4910017      2022-03-15   \n",
       "3616                                          CA5710006      2022-03-15   \n",
       "3617                                          CA3010037      2022-03-15   \n",
       "3618                                          CA5110002      2022-03-15   \n",
       "\n",
       "              county  hydrologic_region  total_population_served  \\\n",
       "0     San Bernardino     South Lahontan                    30743   \n",
       "1            Alameda  San Francisco Bay                   356823   \n",
       "2           Monterey      Central Coast                    30509   \n",
       "3        Los Angeles        South Coast                    85168   \n",
       "4             Amador  San Joaquin River                    22468   \n",
       "...              ...                ...                      ...   \n",
       "3614     Los Angeles        South Coast                    49954   \n",
       "3615          Sonoma        North Coast                    28397   \n",
       "3616            Yolo   Sacramento River                    60978   \n",
       "3617          Orange        South Coast                    80540   \n",
       "3618          Sutter   Sacramento River                    71922   \n",
       "\n",
       "      total_gallons_current  total_gallons_baseline  \n",
       "0             150480384.476           170230680.945  \n",
       "1            1455800000.000          1545900000.000  \n",
       "2             131292000.000           135785000.000  \n",
       "3             289886825.130           294292716.295  \n",
       "4             148380000.000           149450000.000  \n",
       "...                     ...                     ...  \n",
       "3614          183802773.570           150217507.847  \n",
       "3615           67777008.000            77150213.114  \n",
       "3616          229077909.000           203351955.000  \n",
       "3617          488998078.680           368889400.080  \n",
       "3618          361920000.000           295120000.000  \n",
       "\n",
       "[3619 rows x 8 columns]"
      ]
     },
     "execution_count": 156,
     "metadata": {},
     "output_type": "execute_result"
    }
   ],
   "source": [
    "merge_df"
   ]
  },
  {
   "cell_type": "markdown",
   "id": "477ee8c6-0628-4afc-9507-1fcf667cb2ad",
   "metadata": {},
   "source": [
    "### Calculate percent changes by month"
   ]
  },
  {
   "cell_type": "code",
   "execution_count": 157,
   "id": "547a5c98-1953-4b25-8e5a-f0d74096468e",
   "metadata": {},
   "outputs": [],
   "source": [
    "def pct_change(new, old):\n",
    "    return (new - old) / old"
   ]
  },
  {
   "cell_type": "markdown",
   "id": "73f58d13-7448-4883-bc4b-7c300bfac1b7",
   "metadata": {},
   "source": [
    "By district"
   ]
  },
  {
   "cell_type": "code",
   "execution_count": 158,
   "id": "6d7c46a4-610b-46c8-a6d1-be000255b9d5",
   "metadata": {},
   "outputs": [],
   "source": [
    "merge_df[\"gallons_pct_change\"] = merge_df.apply(lambda x: pct_change(x.total_gallons_current, x.total_gallons_baseline), axis=1)"
   ]
  },
  {
   "cell_type": "markdown",
   "id": "840ec757-a50c-47fd-a191-c2738ac8f830",
   "metadata": {},
   "source": [
    "By region"
   ]
  },
  {
   "cell_type": "code",
   "execution_count": 159,
   "id": "b3fdf17e-2b00-4cf6-8ec3-71eb75c5ff5a",
   "metadata": {},
   "outputs": [],
   "source": [
    "regions_df = merge_df.groupby([\"hydrologic_region\", \"reporting_month\"])[[\"total_gallons_current\",\"total_gallons_baseline\"]].sum().reset_index()"
   ]
  },
  {
   "cell_type": "code",
   "execution_count": 160,
   "id": "530710c3-aa12-4277-8a76-e7ee2d799122",
   "metadata": {},
   "outputs": [],
   "source": [
    "regions_df[\"gallons_pct_change\"] = regions_df.apply(lambda x: pct_change(x.total_gallons_current, x.total_gallons_baseline), axis=1)"
   ]
  },
  {
   "cell_type": "code",
   "execution_count": 97,
   "id": "f0a059a4-fd40-4d25-9af1-b91a30bd335f",
   "metadata": {},
   "outputs": [
    {
     "data": {
      "text/html": [
       "<div>\n",
       "<style scoped>\n",
       "    .dataframe tbody tr th:only-of-type {\n",
       "        vertical-align: middle;\n",
       "    }\n",
       "\n",
       "    .dataframe tbody tr th {\n",
       "        vertical-align: top;\n",
       "    }\n",
       "\n",
       "    .dataframe thead th {\n",
       "        text-align: right;\n",
       "    }\n",
       "</style>\n",
       "<table border=\"1\" class=\"dataframe\">\n",
       "  <thead>\n",
       "    <tr style=\"text-align: right;\">\n",
       "      <th></th>\n",
       "      <th>hydrologic_region</th>\n",
       "      <th>reporting_month</th>\n",
       "      <th>0</th>\n",
       "    </tr>\n",
       "  </thead>\n",
       "  <tbody>\n",
       "    <tr>\n",
       "      <th>63</th>\n",
       "      <td>South Coast</td>\n",
       "      <td>2021-07-15</td>\n",
       "      <td>175</td>\n",
       "    </tr>\n",
       "    <tr>\n",
       "      <th>64</th>\n",
       "      <td>South Coast</td>\n",
       "      <td>2021-08-15</td>\n",
       "      <td>176</td>\n",
       "    </tr>\n",
       "    <tr>\n",
       "      <th>65</th>\n",
       "      <td>South Coast</td>\n",
       "      <td>2021-09-15</td>\n",
       "      <td>176</td>\n",
       "    </tr>\n",
       "    <tr>\n",
       "      <th>66</th>\n",
       "      <td>South Coast</td>\n",
       "      <td>2021-10-15</td>\n",
       "      <td>175</td>\n",
       "    </tr>\n",
       "    <tr>\n",
       "      <th>67</th>\n",
       "      <td>South Coast</td>\n",
       "      <td>2021-11-15</td>\n",
       "      <td>175</td>\n",
       "    </tr>\n",
       "    <tr>\n",
       "      <th>68</th>\n",
       "      <td>South Coast</td>\n",
       "      <td>2021-12-15</td>\n",
       "      <td>173</td>\n",
       "    </tr>\n",
       "    <tr>\n",
       "      <th>69</th>\n",
       "      <td>South Coast</td>\n",
       "      <td>2022-01-15</td>\n",
       "      <td>168</td>\n",
       "    </tr>\n",
       "    <tr>\n",
       "      <th>70</th>\n",
       "      <td>South Coast</td>\n",
       "      <td>2022-02-15</td>\n",
       "      <td>167</td>\n",
       "    </tr>\n",
       "    <tr>\n",
       "      <th>71</th>\n",
       "      <td>South Coast</td>\n",
       "      <td>2022-03-15</td>\n",
       "      <td>164</td>\n",
       "    </tr>\n",
       "  </tbody>\n",
       "</table>\n",
       "</div>"
      ],
      "text/plain": [
       "   hydrologic_region reporting_month    0\n",
       "63       South Coast      2021-07-15  175\n",
       "64       South Coast      2021-08-15  176\n",
       "65       South Coast      2021-09-15  176\n",
       "66       South Coast      2021-10-15  175\n",
       "67       South Coast      2021-11-15  175\n",
       "68       South Coast      2021-12-15  173\n",
       "69       South Coast      2022-01-15  168\n",
       "70       South Coast      2022-02-15  167\n",
       "71       South Coast      2022-03-15  164"
      ]
     },
     "execution_count": 97,
     "metadata": {},
     "output_type": "execute_result"
    }
   ],
   "source": [
    "test = merge_df.groupby(\n",
    "    [\"hydrologic_region\", \"reporting_month\"]\n",
    ")[[\"supplier_name\"]].size().reset_index()\n",
    "test[test.hydrologic_region==\"South Coast\"]"
   ]
  },
  {
   "cell_type": "markdown",
   "id": "6cf4c99e-6d33-4c60-b6c9-4afe709878dc",
   "metadata": {},
   "source": [
    "Statewide"
   ]
  },
  {
   "cell_type": "code",
   "execution_count": 98,
   "id": "01e16002-172a-4deb-9462-4e2e59456279",
   "metadata": {},
   "outputs": [],
   "source": [
    "statewide_df = merge_df.groupby([\"hydrologic_region\"])[[\"total_gallons_current\",\"total_gallons_baseline\"]].sum().reset_index()"
   ]
  },
  {
   "cell_type": "code",
   "execution_count": 99,
   "id": "929ddd2e-3ec5-4c35-a0a9-55656fade625",
   "metadata": {},
   "outputs": [],
   "source": [
    "statewide_df[\"gallons_pct_change\"] = statewide_df.apply(lambda x: pct_change(x.total_gallons_current, x.total_gallons_baseline), axis=1)"
   ]
  },
  {
   "cell_type": "markdown",
   "id": "7be6d8d0-0069-4c62-826d-3a39b54469c6",
   "metadata": {},
   "source": [
    "### Calculate cumulative savings since July 2021"
   ]
  },
  {
   "cell_type": "markdown",
   "id": "c0af84a1-c724-478e-b3f4-e65084cd6106",
   "metadata": {},
   "source": [
    "Drop suppliers with missing data"
   ]
  },
  {
   "cell_type": "code",
   "execution_count": 164,
   "id": "91ad7df8-1947-49e0-b51a-9a53eef5476c",
   "metadata": {},
   "outputs": [],
   "source": [
    "counts = merge_df.groupby(\"supplier_name\")[\"reporting_month\"].count().reset_index()"
   ]
  },
  {
   "cell_type": "code",
   "execution_count": 165,
   "id": "4742cbb7-c054-4a53-8967-a4236fe775af",
   "metadata": {},
   "outputs": [],
   "source": [
    "max_count = max(counts.reporting_month)"
   ]
  },
  {
   "cell_type": "code",
   "execution_count": 166,
   "id": "46c6f88e-0e3e-46cc-b9d8-534daea8dc0e",
   "metadata": {},
   "outputs": [],
   "source": [
    "suppliers_with_complete_data = list(counts[counts.reporting_month == max_count].supplier_name)"
   ]
  },
  {
   "cell_type": "code",
   "execution_count": 167,
   "id": "f7944f71-e872-47af-bc3b-db052dded625",
   "metadata": {},
   "outputs": [],
   "source": [
    "complete_data = merge_df[merge_df.supplier_name.isin(suppliers_with_complete_data)].copy()"
   ]
  },
  {
   "cell_type": "code",
   "execution_count": 178,
   "id": "367c04a8-4971-4ba1-8ddf-571d215a00ac",
   "metadata": {},
   "outputs": [
    {
     "data": {
      "text/plain": [
       "3619"
      ]
     },
     "execution_count": 178,
     "metadata": {},
     "output_type": "execute_result"
    }
   ],
   "source": [
    "len(merge_df)"
   ]
  },
  {
   "cell_type": "code",
   "execution_count": 177,
   "id": "dad763a0-ba0a-40ba-af47-8514fc5fd049",
   "metadata": {},
   "outputs": [
    {
     "data": {
      "text/plain": [
       "3195"
      ]
     },
     "execution_count": 177,
     "metadata": {},
     "output_type": "execute_result"
    }
   ],
   "source": [
    "len(complete_data)"
   ]
  },
  {
   "cell_type": "markdown",
   "id": "e5625ab4-9fab-412a-a7a3-9dba0b865b8a",
   "metadata": {},
   "source": [
    "By district"
   ]
  },
  {
   "cell_type": "code",
   "execution_count": 168,
   "id": "74c85995-7aad-4faf-9812-6d49ec99d2a5",
   "metadata": {},
   "outputs": [],
   "source": [
    "district_cumulative_savings_df = complete_data.groupby([\"supplier_name\",\"hydrologic_region\"])[[\"total_gallons_current\",\"total_gallons_baseline\"]].sum().reset_index()"
   ]
  },
  {
   "cell_type": "code",
   "execution_count": 169,
   "id": "93ee251c-3781-43f5-892d-dc0366612a43",
   "metadata": {},
   "outputs": [],
   "source": [
    "district_cumulative_savings_df[\"cumulative_pct_change\"] = complete_data.apply(lambda x: pct_change(x.total_gallons_current, x.total_gallons_baseline), axis=1)"
   ]
  },
  {
   "cell_type": "code",
   "execution_count": 170,
   "id": "9e615ba4-e4fa-47ee-b25e-0df84fa7431e",
   "metadata": {},
   "outputs": [
    {
     "data": {
      "text/html": [
       "<div>\n",
       "<style scoped>\n",
       "    .dataframe tbody tr th:only-of-type {\n",
       "        vertical-align: middle;\n",
       "    }\n",
       "\n",
       "    .dataframe tbody tr th {\n",
       "        vertical-align: top;\n",
       "    }\n",
       "\n",
       "    .dataframe thead th {\n",
       "        text-align: right;\n",
       "    }\n",
       "</style>\n",
       "<table border=\"1\" class=\"dataframe\">\n",
       "  <thead>\n",
       "    <tr style=\"text-align: right;\">\n",
       "      <th></th>\n",
       "      <th>supplier_name</th>\n",
       "      <th>hydrologic_region</th>\n",
       "      <th>total_gallons_current</th>\n",
       "      <th>total_gallons_baseline</th>\n",
       "      <th>cumulative_pct_change</th>\n",
       "    </tr>\n",
       "  </thead>\n",
       "  <tbody>\n",
       "    <tr>\n",
       "      <th>0</th>\n",
       "      <td>Adelanto City of</td>\n",
       "      <td>South Lahontan</td>\n",
       "      <td>1088699171.708</td>\n",
       "      <td>1111940389.640</td>\n",
       "      <td>-0.116</td>\n",
       "    </tr>\n",
       "    <tr>\n",
       "      <th>1</th>\n",
       "      <td>Alameda County Water District</td>\n",
       "      <td>San Francisco Bay</td>\n",
       "      <td>9937000000.000</td>\n",
       "      <td>10712200000.000</td>\n",
       "      <td>-0.058</td>\n",
       "    </tr>\n",
       "    <tr>\n",
       "      <th>2</th>\n",
       "      <td>Alco Water Service</td>\n",
       "      <td>Central Coast</td>\n",
       "      <td>959821000.000</td>\n",
       "      <td>982522000.000</td>\n",
       "      <td>-0.033</td>\n",
       "    </tr>\n",
       "    <tr>\n",
       "      <th>3</th>\n",
       "      <td>Alhambra City of</td>\n",
       "      <td>South Coast</td>\n",
       "      <td>2234203174.153</td>\n",
       "      <td>2314721455.351</td>\n",
       "      <td>-0.015</td>\n",
       "    </tr>\n",
       "    <tr>\n",
       "      <th>4</th>\n",
       "      <td>Amador Water Agency</td>\n",
       "      <td>San Joaquin River</td>\n",
       "      <td>880510000.000</td>\n",
       "      <td>923830000.000</td>\n",
       "      <td>-0.007</td>\n",
       "    </tr>\n",
       "    <tr>\n",
       "      <th>...</th>\n",
       "      <td>...</td>\n",
       "      <td>...</td>\n",
       "      <td>...</td>\n",
       "      <td>...</td>\n",
       "      <td>...</td>\n",
       "    </tr>\n",
       "    <tr>\n",
       "      <th>350</th>\n",
       "      <td>Westminster City of</td>\n",
       "      <td>South Coast</td>\n",
       "      <td>2625218581.500</td>\n",
       "      <td>2640211187.267</td>\n",
       "      <td>-0.044</td>\n",
       "    </tr>\n",
       "    <tr>\n",
       "      <th>351</th>\n",
       "      <td>Windsor, Town of</td>\n",
       "      <td>North Coast</td>\n",
       "      <td>684948251.679</td>\n",
       "      <td>900886002.147</td>\n",
       "      <td>0.003</td>\n",
       "    </tr>\n",
       "    <tr>\n",
       "      <th>352</th>\n",
       "      <td>Woodland City of</td>\n",
       "      <td>Sacramento River</td>\n",
       "      <td>2309280939.000</td>\n",
       "      <td>2473074091.000</td>\n",
       "      <td>0.009</td>\n",
       "    </tr>\n",
       "    <tr>\n",
       "      <th>353</th>\n",
       "      <td>Yorba Linda Water District</td>\n",
       "      <td>South Coast</td>\n",
       "      <td>4708618637.220</td>\n",
       "      <td>4928294347.380</td>\n",
       "      <td>-0.015</td>\n",
       "    </tr>\n",
       "    <tr>\n",
       "      <th>354</th>\n",
       "      <td>Yuba City City of</td>\n",
       "      <td>Sacramento River</td>\n",
       "      <td>3418760000.000</td>\n",
       "      <td>3352160000.000</td>\n",
       "      <td>-0.073</td>\n",
       "    </tr>\n",
       "  </tbody>\n",
       "</table>\n",
       "<p>355 rows × 5 columns</p>\n",
       "</div>"
      ],
      "text/plain": [
       "                     supplier_name  hydrologic_region  total_gallons_current  \\\n",
       "0                 Adelanto City of     South Lahontan         1088699171.708   \n",
       "1    Alameda County Water District  San Francisco Bay         9937000000.000   \n",
       "2               Alco Water Service      Central Coast          959821000.000   \n",
       "3                 Alhambra City of        South Coast         2234203174.153   \n",
       "4              Amador Water Agency  San Joaquin River          880510000.000   \n",
       "..                             ...                ...                    ...   \n",
       "350            Westminster City of        South Coast         2625218581.500   \n",
       "351               Windsor, Town of        North Coast          684948251.679   \n",
       "352               Woodland City of   Sacramento River         2309280939.000   \n",
       "353     Yorba Linda Water District        South Coast         4708618637.220   \n",
       "354              Yuba City City of   Sacramento River         3418760000.000   \n",
       "\n",
       "     total_gallons_baseline  cumulative_pct_change  \n",
       "0            1111940389.640                 -0.116  \n",
       "1           10712200000.000                 -0.058  \n",
       "2             982522000.000                 -0.033  \n",
       "3            2314721455.351                 -0.015  \n",
       "4             923830000.000                 -0.007  \n",
       "..                      ...                    ...  \n",
       "350          2640211187.267                 -0.044  \n",
       "351           900886002.147                  0.003  \n",
       "352          2473074091.000                  0.009  \n",
       "353          4928294347.380                 -0.015  \n",
       "354          3352160000.000                 -0.073  \n",
       "\n",
       "[355 rows x 5 columns]"
      ]
     },
     "execution_count": 170,
     "metadata": {},
     "output_type": "execute_result"
    }
   ],
   "source": [
    "district_cumulative_savings_df"
   ]
  },
  {
   "cell_type": "markdown",
   "id": "a02ff471-69b1-40f8-b729-918135f67ec7",
   "metadata": {},
   "source": [
    "By region"
   ]
  },
  {
   "cell_type": "code",
   "execution_count": 187,
   "id": "93332cfd-62e7-4160-849e-0c720a405410",
   "metadata": {},
   "outputs": [],
   "source": [
    "regions_cumulative_savings_df = district_cumulative_savings_df.groupby(\n",
    "    [\"hydrologic_region\"]\n",
    ")[\n",
    "    [\"total_gallons_current\",\"total_gallons_baseline\",\"supplier_name\"]\n",
    "].agg(\n",
    "    {\"total_gallons_current\":\"sum\",\"total_gallons_baseline\":\"sum\",\"supplier_name\":\"size\"}\n",
    ").reset_index().rename(\n",
    "    columns={\"supplier_name\": \"total_reports\"}\n",
    ")"
   ]
  },
  {
   "cell_type": "code",
   "execution_count": 188,
   "id": "eb5ece03-d99a-4134-9b46-aa0d3ecd042d",
   "metadata": {},
   "outputs": [],
   "source": [
    "regions_cumulative_savings_df[\"cumulative_pct_change\"] = regions_cumulative_savings_df.apply(lambda x: pct_change(x.total_gallons_current, x.total_gallons_baseline), axis=1)"
   ]
  },
  {
   "cell_type": "code",
   "execution_count": 189,
   "id": "f84062e3-c56f-4ddd-8b24-53a8ffc443af",
   "metadata": {},
   "outputs": [
    {
     "data": {
      "text/html": [
       "<div>\n",
       "<style scoped>\n",
       "    .dataframe tbody tr th:only-of-type {\n",
       "        vertical-align: middle;\n",
       "    }\n",
       "\n",
       "    .dataframe tbody tr th {\n",
       "        vertical-align: top;\n",
       "    }\n",
       "\n",
       "    .dataframe thead th {\n",
       "        text-align: right;\n",
       "    }\n",
       "</style>\n",
       "<table border=\"1\" class=\"dataframe\">\n",
       "  <thead>\n",
       "    <tr style=\"text-align: right;\">\n",
       "      <th></th>\n",
       "      <th>hydrologic_region</th>\n",
       "      <th>total_gallons_current</th>\n",
       "      <th>total_gallons_baseline</th>\n",
       "      <th>total_reports</th>\n",
       "      <th>cumulative_pct_change</th>\n",
       "    </tr>\n",
       "  </thead>\n",
       "  <tbody>\n",
       "    <tr>\n",
       "      <th>0</th>\n",
       "      <td>Central Coast</td>\n",
       "      <td>32716146255.220</td>\n",
       "      <td>33921509720.741</td>\n",
       "      <td>25</td>\n",
       "      <td>-0.036</td>\n",
       "    </tr>\n",
       "    <tr>\n",
       "      <th>1</th>\n",
       "      <td>Colorado River</td>\n",
       "      <td>43090468285.583</td>\n",
       "      <td>42623037214.570</td>\n",
       "      <td>9</td>\n",
       "      <td>0.011</td>\n",
       "    </tr>\n",
       "    <tr>\n",
       "      <th>2</th>\n",
       "      <td>North Coast</td>\n",
       "      <td>9937324703.702</td>\n",
       "      <td>11661837276.164</td>\n",
       "      <td>15</td>\n",
       "      <td>-0.148</td>\n",
       "    </tr>\n",
       "    <tr>\n",
       "      <th>3</th>\n",
       "      <td>North Lahontan</td>\n",
       "      <td>2847018849.000</td>\n",
       "      <td>3107029236.000</td>\n",
       "      <td>4</td>\n",
       "      <td>-0.084</td>\n",
       "    </tr>\n",
       "    <tr>\n",
       "      <th>4</th>\n",
       "      <td>Sacramento River</td>\n",
       "      <td>127382599515.306</td>\n",
       "      <td>135689555285.983</td>\n",
       "      <td>41</td>\n",
       "      <td>-0.061</td>\n",
       "    </tr>\n",
       "    <tr>\n",
       "      <th>5</th>\n",
       "      <td>San Francisco Bay</td>\n",
       "      <td>172520482717.071</td>\n",
       "      <td>190363704001.582</td>\n",
       "      <td>42</td>\n",
       "      <td>-0.094</td>\n",
       "    </tr>\n",
       "    <tr>\n",
       "      <th>6</th>\n",
       "      <td>San Joaquin River</td>\n",
       "      <td>66289272428.412</td>\n",
       "      <td>68350510847.275</td>\n",
       "      <td>22</td>\n",
       "      <td>-0.030</td>\n",
       "    </tr>\n",
       "    <tr>\n",
       "      <th>7</th>\n",
       "      <td>South Coast</td>\n",
       "      <td>670950012339.830</td>\n",
       "      <td>677788954393.601</td>\n",
       "      <td>156</td>\n",
       "      <td>-0.010</td>\n",
       "    </tr>\n",
       "    <tr>\n",
       "      <th>8</th>\n",
       "      <td>South Lahontan</td>\n",
       "      <td>29647408404.087</td>\n",
       "      <td>30298866287.834</td>\n",
       "      <td>13</td>\n",
       "      <td>-0.022</td>\n",
       "    </tr>\n",
       "    <tr>\n",
       "      <th>9</th>\n",
       "      <td>Tulare Lake</td>\n",
       "      <td>98771652596.003</td>\n",
       "      <td>101693050661.585</td>\n",
       "      <td>28</td>\n",
       "      <td>-0.029</td>\n",
       "    </tr>\n",
       "  </tbody>\n",
       "</table>\n",
       "</div>"
      ],
      "text/plain": [
       "   hydrologic_region  total_gallons_current  total_gallons_baseline  \\\n",
       "0      Central Coast        32716146255.220         33921509720.741   \n",
       "1     Colorado River        43090468285.583         42623037214.570   \n",
       "2        North Coast         9937324703.702         11661837276.164   \n",
       "3     North Lahontan         2847018849.000          3107029236.000   \n",
       "4   Sacramento River       127382599515.306        135689555285.983   \n",
       "5  San Francisco Bay       172520482717.071        190363704001.582   \n",
       "6  San Joaquin River        66289272428.412         68350510847.275   \n",
       "7        South Coast       670950012339.830        677788954393.601   \n",
       "8     South Lahontan        29647408404.087         30298866287.834   \n",
       "9        Tulare Lake        98771652596.003        101693050661.585   \n",
       "\n",
       "   total_reports  cumulative_pct_change  \n",
       "0             25                 -0.036  \n",
       "1              9                  0.011  \n",
       "2             15                 -0.148  \n",
       "3              4                 -0.084  \n",
       "4             41                 -0.061  \n",
       "5             42                 -0.094  \n",
       "6             22                 -0.030  \n",
       "7            156                 -0.010  \n",
       "8             13                 -0.022  \n",
       "9             28                 -0.029  "
      ]
     },
     "execution_count": 189,
     "metadata": {},
     "output_type": "execute_result"
    }
   ],
   "source": [
    "regions_cumulative_savings_df"
   ]
  },
  {
   "cell_type": "markdown",
   "id": "8b1f50c9-e21c-4553-8771-c08b37a6cec3",
   "metadata": {},
   "source": [
    "Statewide"
   ]
  },
  {
   "cell_type": "code",
   "execution_count": 111,
   "id": "2eab363e-5dff-42f2-96e1-2cec18e8377c",
   "metadata": {},
   "outputs": [],
   "source": [
    "complete_data[\"state\"] = \"California\""
   ]
  },
  {
   "cell_type": "code",
   "execution_count": 112,
   "id": "74cea2d2-d886-4851-8511-83bfeb60969a",
   "metadata": {},
   "outputs": [],
   "source": [
    "statewide_cumulative_savings_df = complete_data.groupby(\n",
    "    [\"state\"]\n",
    ")[\n",
    "    [\"total_gallons_current\",\"total_gallons_baseline\", \"supplier_name\"]\n",
    "].agg({\n",
    "    \"total_gallons_current\": \"sum\",\n",
    "    \"total_gallons_baseline\": \"sum\",\n",
    "    \"supplier_name\": \"size\"\n",
    "}).reset_index().rename(\n",
    "    columns={\"supplier_name\": \"total_reports\"}\n",
    ")"
   ]
  },
  {
   "cell_type": "code",
   "execution_count": 113,
   "id": "7e2cc8ce-7220-421b-ae45-62af7f44d16e",
   "metadata": {},
   "outputs": [],
   "source": [
    "statewide_cumulative_savings_df[\"total_reports\"] = statewide_cumulative_savings_df[\"total_reports\"]/9"
   ]
  },
  {
   "cell_type": "code",
   "execution_count": 114,
   "id": "15d9b1b2-1343-4f51-87fa-aa28a3fa9ab6",
   "metadata": {},
   "outputs": [],
   "source": [
    "statewide_cumulative_savings_df[\"cumulative_pct_change\"] = statewide_cumulative_savings_df.apply(lambda x: pct_change(x.total_gallons_current, x.total_gallons_baseline), axis=1)"
   ]
  },
  {
   "cell_type": "code",
   "execution_count": 115,
   "id": "b5f23a2b-ad48-4fe9-a494-94c7f4977769",
   "metadata": {},
   "outputs": [
    {
     "data": {
      "text/html": [
       "<div>\n",
       "<style scoped>\n",
       "    .dataframe tbody tr th:only-of-type {\n",
       "        vertical-align: middle;\n",
       "    }\n",
       "\n",
       "    .dataframe tbody tr th {\n",
       "        vertical-align: top;\n",
       "    }\n",
       "\n",
       "    .dataframe thead th {\n",
       "        text-align: right;\n",
       "    }\n",
       "</style>\n",
       "<table border=\"1\" class=\"dataframe\">\n",
       "  <thead>\n",
       "    <tr style=\"text-align: right;\">\n",
       "      <th></th>\n",
       "      <th>state</th>\n",
       "      <th>total_gallons_current</th>\n",
       "      <th>total_gallons_baseline</th>\n",
       "      <th>total_reports</th>\n",
       "      <th>cumulative_pct_change</th>\n",
       "    </tr>\n",
       "  </thead>\n",
       "  <tbody>\n",
       "    <tr>\n",
       "      <th>0</th>\n",
       "      <td>California</td>\n",
       "      <td>1.254152e+12</td>\n",
       "      <td>1.295498e+12</td>\n",
       "      <td>355.0</td>\n",
       "      <td>-0.031915</td>\n",
       "    </tr>\n",
       "  </tbody>\n",
       "</table>\n",
       "</div>"
      ],
      "text/plain": [
       "        state  total_gallons_current  total_gallons_baseline  total_reports  \\\n",
       "0  California           1.254152e+12            1.295498e+12          355.0   \n",
       "\n",
       "   cumulative_pct_change  \n",
       "0              -0.031915  "
      ]
     },
     "execution_count": 115,
     "metadata": {},
     "output_type": "execute_result"
    }
   ],
   "source": [
    "statewide_cumulative_savings_df"
   ]
  },
  {
   "cell_type": "markdown",
   "id": "794aa6ba-4ecf-4f6e-aef9-0988a1774d1e",
   "metadata": {},
   "source": [
    "### Charts"
   ]
  },
  {
   "cell_type": "code",
   "execution_count": 116,
   "id": "ef29a75e-dfec-4147-94cb-2930318b78b7",
   "metadata": {},
   "outputs": [
    {
     "data": {
      "text/html": [
       "\n",
       "<div id=\"altair-viz-ec0ad7ee0e8444f8bde961eeb8f85470\"></div>\n",
       "<script type=\"text/javascript\">\n",
       "  var VEGA_DEBUG = (typeof VEGA_DEBUG == \"undefined\") ? {} : VEGA_DEBUG;\n",
       "  (function(spec, embedOpt){\n",
       "    let outputDiv = document.currentScript.previousElementSibling;\n",
       "    if (outputDiv.id !== \"altair-viz-ec0ad7ee0e8444f8bde961eeb8f85470\") {\n",
       "      outputDiv = document.getElementById(\"altair-viz-ec0ad7ee0e8444f8bde961eeb8f85470\");\n",
       "    }\n",
       "    const paths = {\n",
       "      \"vega\": \"https://cdn.jsdelivr.net/npm//vega@5?noext\",\n",
       "      \"vega-lib\": \"https://cdn.jsdelivr.net/npm//vega-lib?noext\",\n",
       "      \"vega-lite\": \"https://cdn.jsdelivr.net/npm//vega-lite@4.17.0?noext\",\n",
       "      \"vega-embed\": \"https://cdn.jsdelivr.net/npm//vega-embed@6?noext\",\n",
       "    };\n",
       "\n",
       "    function maybeLoadScript(lib, version) {\n",
       "      var key = `${lib.replace(\"-\", \"\")}_version`;\n",
       "      return (VEGA_DEBUG[key] == version) ?\n",
       "        Promise.resolve(paths[lib]) :\n",
       "        new Promise(function(resolve, reject) {\n",
       "          var s = document.createElement('script');\n",
       "          document.getElementsByTagName(\"head\")[0].appendChild(s);\n",
       "          s.async = true;\n",
       "          s.onload = () => {\n",
       "            VEGA_DEBUG[key] = version;\n",
       "            return resolve(paths[lib]);\n",
       "          };\n",
       "          s.onerror = () => reject(`Error loading script: ${paths[lib]}`);\n",
       "          s.src = paths[lib];\n",
       "        });\n",
       "    }\n",
       "\n",
       "    function showError(err) {\n",
       "      outputDiv.innerHTML = `<div class=\"error\" style=\"color:red;\">${err}</div>`;\n",
       "      throw err;\n",
       "    }\n",
       "\n",
       "    function displayChart(vegaEmbed) {\n",
       "      vegaEmbed(outputDiv, spec, embedOpt)\n",
       "        .catch(err => showError(`Javascript Error: ${err.message}<br>This usually means there's a typo in your chart specification. See the javascript console for the full traceback.`));\n",
       "    }\n",
       "\n",
       "    if(typeof define === \"function\" && define.amd) {\n",
       "      requirejs.config({paths});\n",
       "      require([\"vega-embed\"], displayChart, err => showError(`Error loading script: ${err.message}`));\n",
       "    } else {\n",
       "      maybeLoadScript(\"vega\", \"5\")\n",
       "        .then(() => maybeLoadScript(\"vega-lite\", \"4.17.0\"))\n",
       "        .then(() => maybeLoadScript(\"vega-embed\", \"6\"))\n",
       "        .catch(showError)\n",
       "        .then(() => displayChart(vegaEmbed));\n",
       "    }\n",
       "  })({\"config\": {\"view\": {\"width\": 800, \"height\": 450}, \"background\": \"#ffffff\", \"title\": {\"anchor\": \"start\", \"font\": \"BentonGothic-Bold, sans\", \"fontColor\": \"#000000\", \"fontSize\": 22, \"fontWeight\": \"normal\"}, \"arc\": {\"fill\": \"#82c6df\"}, \"area\": {\"fill\": \"#82c6df\"}, \"line\": {\"stroke\": \"#82c6df\", \"strokeWidth\": 3}, \"path\": {\"stroke\": \"#82c6df\"}, \"rect\": {\"fill\": \"#82c6df\"}, \"shape\": {\"stroke\": \"#82c6df\"}, \"bar\": {\"fill\": \"#82c6df\"}, \"point\": {\"stroke\": \"#82c6df\"}, \"symbol\": {\"fill\": \"#82c6df\", \"size\": 30}, \"axis\": {\"titleFont\": \"BentonGothic-Bold, sans\", \"titleFontSize\": 14, \"titleFontWeight\": \"normal\", \"labelFont\": \"BentonGothic, sans\", \"labelFontSize\": 12, \"labelFontWeight\": \"normal\"}, \"axisX\": {\"labelAngle\": 0, \"labelPadding\": 4, \"tickSize\": 3}, \"axisY\": {\"labelBaseline\": \"middle\", \"maxExtent\": 45, \"minExtent\": 45, \"tickSize\": 2, \"titleAlign\": \"left\", \"titleAngle\": 0, \"titleX\": -45, \"titleY\": -11}, \"legend\": {\"titleFont\": \"BentonGothic-Bold, sans\", \"titleFontSize\": 14, \"titleFontWeight\": \"normal\", \"symbolType\": \"square\", \"labelFont\": \"BentonGothic, sans\", \"labelFontSize\": 13}, \"range\": {\"category\": [\"#3580b1\", \"#ec8431\", \"#ab7fb4\", \"#c89d29\", \"#adc839\", \"#829eb1\"], \"diverging\": [\"#e68a4f\", \"#f4bb6a\", \"#f9e39c\", \"#dadfe2\", \"#a6b7c6\", \"#849eae\"], \"heatmap\": [\"#fbf2c7\", \"#f9e39c\", \"#f8d36e\", \"#f4bb6a\", \"#e68a4f\", \"#d15a40\", \"#ab4232\"], \"ordinal\": [\"#fbf2c7\", \"#f9e39c\", \"#f8d36e\", \"#f4bb6a\", \"#e68a4f\", \"#d15a40\", \"#ab4232\"], \"ramp\": [\"#fbf2c7\", \"#f9e39c\", \"#f8d36e\", \"#f4bb6a\", \"#e68a4f\", \"#d15a40\", \"#ab4232\"]}}, \"data\": {\"name\": \"data-03ef420bf1805da88b630246114cde2f\"}, \"mark\": \"bar\", \"encoding\": {\"color\": {\"condition\": {\"value\": \"#e6ae56\", \"test\": \"(datum.gallons_pct_change > 0)\"}, \"value\": \"#83c6e0\"}, \"tooltip\": [{\"field\": \"gallons_pct_change\", \"type\": \"quantitative\"}], \"x\": {\"field\": \"reporting_month\", \"type\": \"ordinal\"}, \"y\": {\"field\": \"gallons_pct_change\", \"type\": \"quantitative\"}}, \"title\": \"Monthly water conservation in the South Coast\", \"width\": 600, \"$schema\": \"https://vega.github.io/schema/vega-lite/v4.17.0.json\", \"datasets\": {\"data-03ef420bf1805da88b630246114cde2f\": [{\"hydrologic_region\": \"South Coast\", \"reporting_month\": \"2021-07-15T00:00:00\", \"total_gallons_current\": 98840547682.22488, \"total_gallons_baseline\": 98231994555.6279, \"gallons_pct_change\": 0.0061950602688044445}, {\"hydrologic_region\": \"South Coast\", \"reporting_month\": \"2021-08-15T00:00:00\", \"total_gallons_current\": 99534276774.71368, \"total_gallons_baseline\": 101674411259.82239, \"gallons_pct_change\": -0.021048899704368372}, {\"hydrologic_region\": \"South Coast\", \"reporting_month\": \"2021-09-15T00:00:00\", \"total_gallons_current\": 91814533261.59473, \"total_gallons_baseline\": 94897438912.39027, \"gallons_pct_change\": -0.032486710770368625}, {\"hydrologic_region\": \"South Coast\", \"reporting_month\": \"2021-10-15T00:00:00\", \"total_gallons_current\": 80644440759.798, \"total_gallons_baseline\": 90861162006.98172, \"gallons_pct_change\": -0.11244321579773181}, {\"hydrologic_region\": \"South Coast\", \"reporting_month\": \"2021-11-15T00:00:00\", \"total_gallons_current\": 76030984586.05008, \"total_gallons_baseline\": 74797486800.11005, \"gallons_pct_change\": 0.016491166197020114}, {\"hydrologic_region\": \"South Coast\", \"reporting_month\": \"2021-12-15T00:00:00\", \"total_gallons_current\": 60816667800.13908, \"total_gallons_baseline\": 74019981000.88707, \"gallons_pct_change\": -0.17837498770216872}, {\"hydrologic_region\": \"South Coast\", \"reporting_month\": \"2022-01-15T00:00:00\", \"total_gallons_current\": 61447605343.39824, \"total_gallons_baseline\": 59998217456.72261, \"gallons_pct_change\": 0.02415718246498054}, {\"hydrologic_region\": \"South Coast\", \"reporting_month\": \"2022-02-15T00:00:00\", \"total_gallons_current\": 63965355832.248344, \"total_gallons_baseline\": 63116859652.23186, \"gallons_pct_change\": 0.013443257232562325}, {\"hydrologic_region\": \"South Coast\", \"reporting_month\": \"2022-03-15T00:00:00\", \"total_gallons_current\": 72247093556.11844, \"total_gallons_baseline\": 56449514888.18767, \"gallons_pct_change\": 0.27985322281726976}]}}, {\"mode\": \"vega-lite\"});\n",
       "</script>"
      ],
      "text/plain": [
       "alt.Chart(...)"
      ]
     },
     "execution_count": 116,
     "metadata": {},
     "output_type": "execute_result"
    }
   ],
   "source": [
    "alt.Chart(\n",
    "    regions_df[regions_df.hydrologic_region==\"South Coast\"]\n",
    ").mark_bar().encode(\n",
    "    x=\"reporting_month:O\",\n",
    "    y=\"gallons_pct_change:Q\",\n",
    "    color=alt.condition(\n",
    "        alt.datum.gallons_pct_change > 0,\n",
    "        alt.value(\"#e6ae56\"),  # The positive color\n",
    "        alt.value(\"#83c6e0\")  # The negative color\n",
    "    ),\n",
    "    tooltip=[\"gallons_pct_change\"]\n",
    ").properties(title=\"Monthly water conservation in the South Coast\", width=600)"
   ]
  },
  {
   "cell_type": "markdown",
   "id": "975529b7-c7e6-48ea-864c-e53c686552ea",
   "metadata": {},
   "source": [
    "### Export"
   ]
  },
  {
   "cell_type": "markdown",
   "id": "82949d34-32b2-48c4-be3b-abb99e823a89",
   "metadata": {},
   "source": [
    "Monthly"
   ]
  },
  {
   "cell_type": "code",
   "execution_count": 193,
   "id": "49b42cb4-fa6d-43d6-8ffe-ec35149c48aa",
   "metadata": {},
   "outputs": [],
   "source": [
    "statewide_df.to_csv(\"../data/processed/monthly-conservation/statewide-conservation-monthly.csv\", index=False)"
   ]
  },
  {
   "cell_type": "code",
   "execution_count": 194,
   "id": "fd815256-63a0-49bc-8ad5-56611b364977",
   "metadata": {},
   "outputs": [],
   "source": [
    "regions_df.to_csv(\"../data/processed/monthly-conservation/regional-conservation-monthly.csv\", index=False)"
   ]
  },
  {
   "cell_type": "code",
   "execution_count": 196,
   "id": "ab571d8a-20fd-4fd0-8991-51f7879622f3",
   "metadata": {},
   "outputs": [],
   "source": [
    "merge_df.to_csv(\"../data/processed/monthly-conservation/district-level-conservation-monthly.csv\", index=False)"
   ]
  },
  {
   "cell_type": "markdown",
   "id": "f49b44a7-4670-46ab-bdc8-6ed993199245",
   "metadata": {},
   "source": [
    "Cumulative"
   ]
  },
  {
   "cell_type": "code",
   "execution_count": 197,
   "id": "ae8b9b72-961d-4328-ac7d-f00523b9a83d",
   "metadata": {},
   "outputs": [],
   "source": [
    "statewide_cumulative_savings_df.to_csv(\"../data/processed/cumulative-conservation/statewide-conservation-cumulative.csv\", index=False)"
   ]
  },
  {
   "cell_type": "code",
   "execution_count": 198,
   "id": "b493afa0-34e8-4d36-8159-03aceb26d256",
   "metadata": {},
   "outputs": [],
   "source": [
    "regions_cumulative_savings_df.to_csv(\"../data/processed/cumulative-conservation/monthly-conservation-cumulative.csv\", index=False)"
   ]
  },
  {
   "cell_type": "code",
   "execution_count": 199,
   "id": "f37055f4-a11d-4a20-8df3-3a1d45eb0c2d",
   "metadata": {},
   "outputs": [],
   "source": [
    "district_cumulative_savings_df.to_csv(\"../data/processed/cumulative-conservation/district-level-conservation-cumulative.csv\", index=False)"
   ]
  }
 ],
 "metadata": {
  "kernelspec": {
   "display_name": "Python 3 (ipykernel)",
   "language": "python",
   "name": "python3"
  },
  "language_info": {
   "codemirror_mode": {
    "name": "ipython",
    "version": 3
   },
   "file_extension": ".py",
   "mimetype": "text/x-python",
   "name": "python",
   "nbconvert_exporter": "python",
   "pygments_lexer": "ipython3",
   "version": "3.9.6"
  }
 },
 "nbformat": 4,
 "nbformat_minor": 5
}
