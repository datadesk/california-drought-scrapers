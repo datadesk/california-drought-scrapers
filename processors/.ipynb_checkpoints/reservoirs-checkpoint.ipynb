{
 "cells": [
  {
   "cell_type": "code",
   "execution_count": 268,
   "id": "a8f68e43-feaa-4996-8d5a-ecc52ce8bf66",
   "metadata": {},
   "outputs": [],
   "source": [
    "import pytz\n",
    "from datetime import datetime, date, timedelta\n",
    "import pandas as pd\n",
    "import altair as alt\n",
    "import altair_latimes as lat"
   ]
  },
  {
   "cell_type": "code",
   "execution_count": 269,
   "id": "7f08691a-275f-4165-b2a5-dc7a70e2c3a6",
   "metadata": {},
   "outputs": [
    {
     "data": {
      "text/plain": [
       "ThemeRegistry.enable('latimes')"
      ]
     },
     "execution_count": 269,
     "metadata": {},
     "output_type": "execute_result"
    }
   ],
   "source": [
    "alt.themes.register('latimes', lat.theme)\n",
    "alt.themes.enable('latimes')"
   ]
  },
  {
   "cell_type": "code",
   "execution_count": 270,
   "id": "154fda82-e6f3-4a42-86c8-578b4fc0d2cb",
   "metadata": {},
   "outputs": [],
   "source": [
    "pd.set_option('display.float_format', lambda x: '%.3f' % x)"
   ]
  },
  {
   "cell_type": "markdown",
   "id": "0cfcb7f3-6169-489d-a054-1b801988d626",
   "metadata": {},
   "source": [
    "### Import"
   ]
  },
  {
   "cell_type": "code",
   "execution_count": 271,
   "id": "81973009-6e4c-4b44-8db8-17ec118ecd88",
   "metadata": {},
   "outputs": [],
   "source": [
    "df = pd.read_csv(\n",
    "    \"../data/raw/reservoirs/major-reservoir-scrape-latest.csv\", \n",
    "    parse_dates=[\"DATE TIME\", \"OBS DATE\"]\n",
    ")"
   ]
  },
  {
   "cell_type": "code",
   "execution_count": 272,
   "id": "592ce46b-5c36-44bb-94cd-4a2ad733a55c",
   "metadata": {},
   "outputs": [],
   "source": [
    "hist_df = pd.read_csv(\n",
    "    \"../data/metadata/reservoirs-historical-averages.csv\"\n",
    ")"
   ]
  },
  {
   "cell_type": "code",
   "execution_count": 273,
   "id": "284a5f3e-4391-4685-808d-f40e64511e7b",
   "metadata": {},
   "outputs": [],
   "source": [
    "details_df = pd.read_csv(\n",
    "    \"../data/metadata/reservoirs-details.csv\"\n",
    ")"
   ]
  },
  {
   "cell_type": "markdown",
   "id": "66364b79-8a94-4d02-abfa-9a83aabf5d27",
   "metadata": {},
   "source": [
    "### Clean"
   ]
  },
  {
   "cell_type": "code",
   "execution_count": 274,
   "id": "7b763bc7-8495-424c-8e82-916bdde9e4b3",
   "metadata": {},
   "outputs": [
    {
     "name": "stdout",
     "output_type": "stream",
     "text": [
      "<class 'pandas.core.frame.DataFrame'>\n",
      "RangeIndex: 6496 entries, 0 to 6495\n",
      "Data columns (total 9 columns):\n",
      " #   Column         Non-Null Count  Dtype         \n",
      "---  ------         --------------  -----         \n",
      " 0   STATION_ID     6496 non-null   object        \n",
      " 1   DURATION       6496 non-null   object        \n",
      " 2   SENSOR_NUMBER  6496 non-null   int64         \n",
      " 3   SENSOR_TYPE    6496 non-null   object        \n",
      " 4   DATE TIME      6496 non-null   datetime64[ns]\n",
      " 5   OBS DATE       6496 non-null   datetime64[ns]\n",
      " 6   VALUE          6496 non-null   object        \n",
      " 7   DATA_FLAG      6496 non-null   object        \n",
      " 8   UNITS          6496 non-null   object        \n",
      "dtypes: datetime64[ns](2), int64(1), object(6)\n",
      "memory usage: 456.9+ KB\n"
     ]
    }
   ],
   "source": [
    "df.info()"
   ]
  },
  {
   "cell_type": "code",
   "execution_count": 275,
   "id": "3bcf2dc4-c020-41b4-becf-3e4c43c425d1",
   "metadata": {},
   "outputs": [],
   "source": [
    "df.columns = df.columns.str.lower()"
   ]
  },
  {
   "cell_type": "code",
   "execution_count": 276,
   "id": "2e0088a1-012e-474f-b5da-fb9fdfe75b78",
   "metadata": {},
   "outputs": [],
   "source": [
    "df.columns = df.columns.str.replace(\" \",\"_\")"
   ]
  },
  {
   "cell_type": "code",
   "execution_count": 277,
   "id": "5b1ca206-03bd-4d33-b39b-689a4c971190",
   "metadata": {},
   "outputs": [],
   "source": [
    "df = df.rename(columns={\n",
    "    \"station_id\": \"reservoir_id\",\n",
    "    \"date_time\": \"date\",\n",
    "    \"value\": \"storage_af\"\n",
    "})"
   ]
  },
  {
   "cell_type": "code",
   "execution_count": 278,
   "id": "64908a28-1883-49a9-8c73-2a7570d381e3",
   "metadata": {},
   "outputs": [
    {
     "data": {
      "text/html": [
       "<div>\n",
       "<style scoped>\n",
       "    .dataframe tbody tr th:only-of-type {\n",
       "        vertical-align: middle;\n",
       "    }\n",
       "\n",
       "    .dataframe tbody tr th {\n",
       "        vertical-align: top;\n",
       "    }\n",
       "\n",
       "    .dataframe thead th {\n",
       "        text-align: right;\n",
       "    }\n",
       "</style>\n",
       "<table border=\"1\" class=\"dataframe\">\n",
       "  <thead>\n",
       "    <tr style=\"text-align: right;\">\n",
       "      <th></th>\n",
       "      <th>reservoir_id</th>\n",
       "      <th>duration</th>\n",
       "      <th>sensor_number</th>\n",
       "      <th>sensor_type</th>\n",
       "      <th>date</th>\n",
       "      <th>obs_date</th>\n",
       "      <th>storage_af</th>\n",
       "      <th>data_flag</th>\n",
       "      <th>units</th>\n",
       "    </tr>\n",
       "  </thead>\n",
       "  <tbody>\n",
       "    <tr>\n",
       "      <th>4160</th>\n",
       "      <td>CLA</td>\n",
       "      <td>D</td>\n",
       "      <td>15</td>\n",
       "      <td>STORAGE</td>\n",
       "      <td>2022-05-14</td>\n",
       "      <td>2022-05-14</td>\n",
       "      <td>5955</td>\n",
       "      <td></td>\n",
       "      <td>AF</td>\n",
       "    </tr>\n",
       "    <tr>\n",
       "      <th>4161</th>\n",
       "      <td>CLA</td>\n",
       "      <td>D</td>\n",
       "      <td>15</td>\n",
       "      <td>STORAGE</td>\n",
       "      <td>2022-05-15</td>\n",
       "      <td>2022-05-15</td>\n",
       "      <td>5161</td>\n",
       "      <td></td>\n",
       "      <td>AF</td>\n",
       "    </tr>\n",
       "    <tr>\n",
       "      <th>4162</th>\n",
       "      <td>CLA</td>\n",
       "      <td>D</td>\n",
       "      <td>15</td>\n",
       "      <td>STORAGE</td>\n",
       "      <td>2022-05-16</td>\n",
       "      <td>2022-05-16</td>\n",
       "      <td>4764</td>\n",
       "      <td></td>\n",
       "      <td>AF</td>\n",
       "    </tr>\n",
       "    <tr>\n",
       "      <th>4163</th>\n",
       "      <td>CLA</td>\n",
       "      <td>D</td>\n",
       "      <td>15</td>\n",
       "      <td>STORAGE</td>\n",
       "      <td>2022-05-17</td>\n",
       "      <td>2022-05-17</td>\n",
       "      <td>5161</td>\n",
       "      <td></td>\n",
       "      <td>AF</td>\n",
       "    </tr>\n",
       "    <tr>\n",
       "      <th>4164</th>\n",
       "      <td>CLA</td>\n",
       "      <td>D</td>\n",
       "      <td>15</td>\n",
       "      <td>STORAGE</td>\n",
       "      <td>2022-05-18</td>\n",
       "      <td>2022-05-18</td>\n",
       "      <td>3970</td>\n",
       "      <td></td>\n",
       "      <td>AF</td>\n",
       "    </tr>\n",
       "    <tr>\n",
       "      <th>4165</th>\n",
       "      <td>CLA</td>\n",
       "      <td>D</td>\n",
       "      <td>15</td>\n",
       "      <td>STORAGE</td>\n",
       "      <td>2022-05-19</td>\n",
       "      <td>2022-05-19</td>\n",
       "      <td>1985</td>\n",
       "      <td></td>\n",
       "      <td>AF</td>\n",
       "    </tr>\n",
       "    <tr>\n",
       "      <th>4166</th>\n",
       "      <td>CLA</td>\n",
       "      <td>D</td>\n",
       "      <td>15</td>\n",
       "      <td>STORAGE</td>\n",
       "      <td>2022-05-20</td>\n",
       "      <td>2022-05-20</td>\n",
       "      <td>3573</td>\n",
       "      <td></td>\n",
       "      <td>AF</td>\n",
       "    </tr>\n",
       "    <tr>\n",
       "      <th>4167</th>\n",
       "      <td>CLA</td>\n",
       "      <td>D</td>\n",
       "      <td>15</td>\n",
       "      <td>STORAGE</td>\n",
       "      <td>2022-05-21</td>\n",
       "      <td>2022-05-21</td>\n",
       "      <td>2779</td>\n",
       "      <td></td>\n",
       "      <td>AF</td>\n",
       "    </tr>\n",
       "    <tr>\n",
       "      <th>4168</th>\n",
       "      <td>CLA</td>\n",
       "      <td>D</td>\n",
       "      <td>15</td>\n",
       "      <td>STORAGE</td>\n",
       "      <td>2022-05-22</td>\n",
       "      <td>2022-05-22</td>\n",
       "      <td>2382</td>\n",
       "      <td></td>\n",
       "      <td>AF</td>\n",
       "    </tr>\n",
       "    <tr>\n",
       "      <th>4169</th>\n",
       "      <td>CLA</td>\n",
       "      <td>D</td>\n",
       "      <td>15</td>\n",
       "      <td>STORAGE</td>\n",
       "      <td>2022-05-23</td>\n",
       "      <td>2022-05-23</td>\n",
       "      <td>1588</td>\n",
       "      <td></td>\n",
       "      <td>AF</td>\n",
       "    </tr>\n",
       "    <tr>\n",
       "      <th>4170</th>\n",
       "      <td>CLA</td>\n",
       "      <td>D</td>\n",
       "      <td>15</td>\n",
       "      <td>STORAGE</td>\n",
       "      <td>2022-05-24</td>\n",
       "      <td>2022-05-24</td>\n",
       "      <td>1588</td>\n",
       "      <td></td>\n",
       "      <td>AF</td>\n",
       "    </tr>\n",
       "    <tr>\n",
       "      <th>4171</th>\n",
       "      <td>CLA</td>\n",
       "      <td>D</td>\n",
       "      <td>15</td>\n",
       "      <td>STORAGE</td>\n",
       "      <td>2022-05-25</td>\n",
       "      <td>2022-05-25</td>\n",
       "      <td>1191</td>\n",
       "      <td></td>\n",
       "      <td>AF</td>\n",
       "    </tr>\n",
       "    <tr>\n",
       "      <th>4172</th>\n",
       "      <td>CLA</td>\n",
       "      <td>D</td>\n",
       "      <td>15</td>\n",
       "      <td>STORAGE</td>\n",
       "      <td>2022-05-26</td>\n",
       "      <td>2022-05-26</td>\n",
       "      <td>794</td>\n",
       "      <td></td>\n",
       "      <td>AF</td>\n",
       "    </tr>\n",
       "    <tr>\n",
       "      <th>4173</th>\n",
       "      <td>CLA</td>\n",
       "      <td>D</td>\n",
       "      <td>15</td>\n",
       "      <td>STORAGE</td>\n",
       "      <td>2022-05-27</td>\n",
       "      <td>2022-05-27</td>\n",
       "      <td>0</td>\n",
       "      <td></td>\n",
       "      <td>AF</td>\n",
       "    </tr>\n",
       "    <tr>\n",
       "      <th>4174</th>\n",
       "      <td>CLA</td>\n",
       "      <td>D</td>\n",
       "      <td>15</td>\n",
       "      <td>STORAGE</td>\n",
       "      <td>2022-05-28</td>\n",
       "      <td>2022-05-28</td>\n",
       "      <td>0</td>\n",
       "      <td></td>\n",
       "      <td>AF</td>\n",
       "    </tr>\n",
       "    <tr>\n",
       "      <th>4175</th>\n",
       "      <td>CLA</td>\n",
       "      <td>D</td>\n",
       "      <td>15</td>\n",
       "      <td>STORAGE</td>\n",
       "      <td>2022-05-29</td>\n",
       "      <td>2022-05-29</td>\n",
       "      <td>0</td>\n",
       "      <td></td>\n",
       "      <td>AF</td>\n",
       "    </tr>\n",
       "    <tr>\n",
       "      <th>4176</th>\n",
       "      <td>CLA</td>\n",
       "      <td>D</td>\n",
       "      <td>15</td>\n",
       "      <td>STORAGE</td>\n",
       "      <td>2022-05-30</td>\n",
       "      <td>2022-05-30</td>\n",
       "      <td>0</td>\n",
       "      <td></td>\n",
       "      <td>AF</td>\n",
       "    </tr>\n",
       "    <tr>\n",
       "      <th>4177</th>\n",
       "      <td>CLA</td>\n",
       "      <td>D</td>\n",
       "      <td>15</td>\n",
       "      <td>STORAGE</td>\n",
       "      <td>2022-05-31</td>\n",
       "      <td>2022-05-31</td>\n",
       "      <td>0</td>\n",
       "      <td></td>\n",
       "      <td>AF</td>\n",
       "    </tr>\n",
       "    <tr>\n",
       "      <th>4178</th>\n",
       "      <td>CLA</td>\n",
       "      <td>D</td>\n",
       "      <td>15</td>\n",
       "      <td>STORAGE</td>\n",
       "      <td>2022-06-01</td>\n",
       "      <td>2022-06-01</td>\n",
       "      <td>0</td>\n",
       "      <td></td>\n",
       "      <td>AF</td>\n",
       "    </tr>\n",
       "    <tr>\n",
       "      <th>4179</th>\n",
       "      <td>CLA</td>\n",
       "      <td>D</td>\n",
       "      <td>15</td>\n",
       "      <td>STORAGE</td>\n",
       "      <td>2022-06-02</td>\n",
       "      <td>2022-06-02</td>\n",
       "      <td>0</td>\n",
       "      <td></td>\n",
       "      <td>AF</td>\n",
       "    </tr>\n",
       "    <tr>\n",
       "      <th>4180</th>\n",
       "      <td>CLA</td>\n",
       "      <td>D</td>\n",
       "      <td>15</td>\n",
       "      <td>STORAGE</td>\n",
       "      <td>2022-06-03</td>\n",
       "      <td>2022-06-03</td>\n",
       "      <td>0</td>\n",
       "      <td></td>\n",
       "      <td>AF</td>\n",
       "    </tr>\n",
       "    <tr>\n",
       "      <th>4181</th>\n",
       "      <td>CLA</td>\n",
       "      <td>D</td>\n",
       "      <td>15</td>\n",
       "      <td>STORAGE</td>\n",
       "      <td>2022-06-04</td>\n",
       "      <td>2022-06-04</td>\n",
       "      <td>0</td>\n",
       "      <td></td>\n",
       "      <td>AF</td>\n",
       "    </tr>\n",
       "    <tr>\n",
       "      <th>4182</th>\n",
       "      <td>CLA</td>\n",
       "      <td>D</td>\n",
       "      <td>15</td>\n",
       "      <td>STORAGE</td>\n",
       "      <td>2022-06-05</td>\n",
       "      <td>2022-06-05</td>\n",
       "      <td>0</td>\n",
       "      <td></td>\n",
       "      <td>AF</td>\n",
       "    </tr>\n",
       "    <tr>\n",
       "      <th>4183</th>\n",
       "      <td>CLA</td>\n",
       "      <td>D</td>\n",
       "      <td>15</td>\n",
       "      <td>STORAGE</td>\n",
       "      <td>2022-06-06</td>\n",
       "      <td>2022-06-06</td>\n",
       "      <td>0</td>\n",
       "      <td></td>\n",
       "      <td>AF</td>\n",
       "    </tr>\n",
       "    <tr>\n",
       "      <th>4184</th>\n",
       "      <td>CLA</td>\n",
       "      <td>D</td>\n",
       "      <td>15</td>\n",
       "      <td>STORAGE</td>\n",
       "      <td>2022-06-07</td>\n",
       "      <td>2022-06-07</td>\n",
       "      <td>0</td>\n",
       "      <td></td>\n",
       "      <td>AF</td>\n",
       "    </tr>\n",
       "    <tr>\n",
       "      <th>4185</th>\n",
       "      <td>CLA</td>\n",
       "      <td>D</td>\n",
       "      <td>15</td>\n",
       "      <td>STORAGE</td>\n",
       "      <td>2022-06-08</td>\n",
       "      <td>2022-06-08</td>\n",
       "      <td>0</td>\n",
       "      <td></td>\n",
       "      <td>AF</td>\n",
       "    </tr>\n",
       "    <tr>\n",
       "      <th>4186</th>\n",
       "      <td>CLA</td>\n",
       "      <td>D</td>\n",
       "      <td>15</td>\n",
       "      <td>STORAGE</td>\n",
       "      <td>2022-06-09</td>\n",
       "      <td>2022-06-09</td>\n",
       "      <td>0</td>\n",
       "      <td></td>\n",
       "      <td>AF</td>\n",
       "    </tr>\n",
       "    <tr>\n",
       "      <th>4187</th>\n",
       "      <td>CLA</td>\n",
       "      <td>D</td>\n",
       "      <td>15</td>\n",
       "      <td>STORAGE</td>\n",
       "      <td>2022-06-10</td>\n",
       "      <td>2022-06-10</td>\n",
       "      <td>0</td>\n",
       "      <td></td>\n",
       "      <td>AF</td>\n",
       "    </tr>\n",
       "    <tr>\n",
       "      <th>4188</th>\n",
       "      <td>CLA</td>\n",
       "      <td>D</td>\n",
       "      <td>15</td>\n",
       "      <td>STORAGE</td>\n",
       "      <td>2022-06-11</td>\n",
       "      <td>2022-06-11</td>\n",
       "      <td>0</td>\n",
       "      <td></td>\n",
       "      <td>AF</td>\n",
       "    </tr>\n",
       "    <tr>\n",
       "      <th>4189</th>\n",
       "      <td>CLA</td>\n",
       "      <td>D</td>\n",
       "      <td>15</td>\n",
       "      <td>STORAGE</td>\n",
       "      <td>2022-06-12</td>\n",
       "      <td>2022-06-12</td>\n",
       "      <td>0</td>\n",
       "      <td></td>\n",
       "      <td>AF</td>\n",
       "    </tr>\n",
       "    <tr>\n",
       "      <th>4190</th>\n",
       "      <td>CLA</td>\n",
       "      <td>D</td>\n",
       "      <td>15</td>\n",
       "      <td>STORAGE</td>\n",
       "      <td>2022-06-13</td>\n",
       "      <td>2022-06-13</td>\n",
       "      <td>0</td>\n",
       "      <td></td>\n",
       "      <td>AF</td>\n",
       "    </tr>\n",
       "    <tr>\n",
       "      <th>4191</th>\n",
       "      <td>CLA</td>\n",
       "      <td>D</td>\n",
       "      <td>15</td>\n",
       "      <td>STORAGE</td>\n",
       "      <td>2022-06-14</td>\n",
       "      <td>2022-06-14</td>\n",
       "      <td>0</td>\n",
       "      <td></td>\n",
       "      <td>AF</td>\n",
       "    </tr>\n",
       "  </tbody>\n",
       "</table>\n",
       "</div>"
      ],
      "text/plain": [
       "     reservoir_id duration  sensor_number sensor_type       date   obs_date  \\\n",
       "4160          CLA        D             15     STORAGE 2022-05-14 2022-05-14   \n",
       "4161          CLA        D             15     STORAGE 2022-05-15 2022-05-15   \n",
       "4162          CLA        D             15     STORAGE 2022-05-16 2022-05-16   \n",
       "4163          CLA        D             15     STORAGE 2022-05-17 2022-05-17   \n",
       "4164          CLA        D             15     STORAGE 2022-05-18 2022-05-18   \n",
       "4165          CLA        D             15     STORAGE 2022-05-19 2022-05-19   \n",
       "4166          CLA        D             15     STORAGE 2022-05-20 2022-05-20   \n",
       "4167          CLA        D             15     STORAGE 2022-05-21 2022-05-21   \n",
       "4168          CLA        D             15     STORAGE 2022-05-22 2022-05-22   \n",
       "4169          CLA        D             15     STORAGE 2022-05-23 2022-05-23   \n",
       "4170          CLA        D             15     STORAGE 2022-05-24 2022-05-24   \n",
       "4171          CLA        D             15     STORAGE 2022-05-25 2022-05-25   \n",
       "4172          CLA        D             15     STORAGE 2022-05-26 2022-05-26   \n",
       "4173          CLA        D             15     STORAGE 2022-05-27 2022-05-27   \n",
       "4174          CLA        D             15     STORAGE 2022-05-28 2022-05-28   \n",
       "4175          CLA        D             15     STORAGE 2022-05-29 2022-05-29   \n",
       "4176          CLA        D             15     STORAGE 2022-05-30 2022-05-30   \n",
       "4177          CLA        D             15     STORAGE 2022-05-31 2022-05-31   \n",
       "4178          CLA        D             15     STORAGE 2022-06-01 2022-06-01   \n",
       "4179          CLA        D             15     STORAGE 2022-06-02 2022-06-02   \n",
       "4180          CLA        D             15     STORAGE 2022-06-03 2022-06-03   \n",
       "4181          CLA        D             15     STORAGE 2022-06-04 2022-06-04   \n",
       "4182          CLA        D             15     STORAGE 2022-06-05 2022-06-05   \n",
       "4183          CLA        D             15     STORAGE 2022-06-06 2022-06-06   \n",
       "4184          CLA        D             15     STORAGE 2022-06-07 2022-06-07   \n",
       "4185          CLA        D             15     STORAGE 2022-06-08 2022-06-08   \n",
       "4186          CLA        D             15     STORAGE 2022-06-09 2022-06-09   \n",
       "4187          CLA        D             15     STORAGE 2022-06-10 2022-06-10   \n",
       "4188          CLA        D             15     STORAGE 2022-06-11 2022-06-11   \n",
       "4189          CLA        D             15     STORAGE 2022-06-12 2022-06-12   \n",
       "4190          CLA        D             15     STORAGE 2022-06-13 2022-06-13   \n",
       "4191          CLA        D             15     STORAGE 2022-06-14 2022-06-14   \n",
       "\n",
       "     storage_af data_flag units  \n",
       "4160       5955              AF  \n",
       "4161       5161              AF  \n",
       "4162       4764              AF  \n",
       "4163       5161              AF  \n",
       "4164       3970              AF  \n",
       "4165       1985              AF  \n",
       "4166       3573              AF  \n",
       "4167       2779              AF  \n",
       "4168       2382              AF  \n",
       "4169       1588              AF  \n",
       "4170       1588              AF  \n",
       "4171       1191              AF  \n",
       "4172        794              AF  \n",
       "4173          0              AF  \n",
       "4174          0              AF  \n",
       "4175          0              AF  \n",
       "4176          0              AF  \n",
       "4177          0              AF  \n",
       "4178          0              AF  \n",
       "4179          0              AF  \n",
       "4180          0              AF  \n",
       "4181          0              AF  \n",
       "4182          0              AF  \n",
       "4183          0              AF  \n",
       "4184          0              AF  \n",
       "4185          0              AF  \n",
       "4186          0              AF  \n",
       "4187          0              AF  \n",
       "4188          0              AF  \n",
       "4189          0              AF  \n",
       "4190          0              AF  \n",
       "4191          0              AF  "
      ]
     },
     "execution_count": 278,
     "metadata": {},
     "output_type": "execute_result"
    }
   ],
   "source": [
    "df[df[\"reservoir_id\"] == \"CLA\"]"
   ]
  },
  {
   "cell_type": "code",
   "execution_count": 279,
   "id": "db224586-5249-46ab-b4e6-f8a6d10d340f",
   "metadata": {},
   "outputs": [],
   "source": [
    "df[\"storage_af\"] = df[\"storage_af\"].str.replace(\"---\",\"\")"
   ]
  },
  {
   "cell_type": "code",
   "execution_count": 280,
   "id": "69e887d1-7a69-461c-95a6-7fa88ff67e2f",
   "metadata": {},
   "outputs": [],
   "source": [
    "df[\"storage_af\"] = pd.to_numeric(df[\"storage_af\"])"
   ]
  },
  {
   "cell_type": "code",
   "execution_count": 281,
   "id": "2bd306aa-4f49-49f7-a640-f660c0181f9f",
   "metadata": {},
   "outputs": [],
   "source": [
    "#df = df.dropna(subset=\"storage_af\")"
   ]
  },
  {
   "cell_type": "markdown",
   "id": "b47722e1-1ba9-4a6c-ae48-c5cb740c3390",
   "metadata": {},
   "source": [
    "### Check out latest data"
   ]
  },
  {
   "cell_type": "code",
   "execution_count": 282,
   "id": "ab88d8d6-dd9e-4710-b3c0-d78a666b7453",
   "metadata": {},
   "outputs": [],
   "source": [
    "tz = pytz.timezone(\"America/Los_Angeles\")"
   ]
  },
  {
   "cell_type": "code",
   "execution_count": 283,
   "id": "440c84d0-3fa3-4188-b51f-9a13d62499ab",
   "metadata": {},
   "outputs": [
    {
     "data": {
      "text/plain": [
       "datetime.date(2022, 6, 14)"
      ]
     },
     "execution_count": 283,
     "metadata": {},
     "output_type": "execute_result"
    }
   ],
   "source": [
    "today = datetime.now(tz).date()\n",
    "today"
   ]
  },
  {
   "cell_type": "code",
   "execution_count": 284,
   "id": "7a44016c-b20d-471d-b261-c254eef5bd5d",
   "metadata": {},
   "outputs": [
    {
     "data": {
      "text/plain": [
       "datetime.date(2022, 6, 13)"
      ]
     },
     "execution_count": 284,
     "metadata": {},
     "output_type": "execute_result"
    }
   ],
   "source": [
    "yesterday = (today - pd.DateOffset(days=1)).date()\n",
    "yesterday"
   ]
  },
  {
   "cell_type": "code",
   "execution_count": 285,
   "id": "390653d1-395b-46e2-ae3f-ed594f229b1a",
   "metadata": {},
   "outputs": [],
   "source": [
    "latest_df = df[df.date == pd.to_datetime(yesterday)].copy()"
   ]
  },
  {
   "cell_type": "code",
   "execution_count": 286,
   "id": "6d72c3f2-c99d-4b30-9058-23099672c5e7",
   "metadata": {},
   "outputs": [
    {
     "data": {
      "text/plain": [
       "203"
      ]
     },
     "execution_count": 286,
     "metadata": {},
     "output_type": "execute_result"
    }
   ],
   "source": [
    "len(latest_df)"
   ]
  },
  {
   "cell_type": "code",
   "execution_count": 287,
   "id": "14bf9f50-3ddc-47d3-b8e8-69a95a49b4af",
   "metadata": {},
   "outputs": [
    {
     "data": {
      "text/plain": [
       "19893430.0"
      ]
     },
     "execution_count": 287,
     "metadata": {},
     "output_type": "execute_result"
    }
   ],
   "source": [
    "latest_df.storage_af.sum()"
   ]
  },
  {
   "cell_type": "markdown",
   "id": "45bdc35a-8e5f-43e8-9b3a-9078e6a1158a",
   "metadata": {},
   "source": [
    "### Merge historical average"
   ]
  },
  {
   "cell_type": "markdown",
   "id": "f193e506-35eb-49d8-8110-43ac386fe12b",
   "metadata": {},
   "source": [
    "Create month column for merging"
   ]
  },
  {
   "cell_type": "code",
   "execution_count": 288,
   "id": "5c5019e6-921a-43a1-a610-16c64e9840a5",
   "metadata": {},
   "outputs": [],
   "source": [
    "latest_df[\"month\"] = pd.DatetimeIndex(latest_df.date).month"
   ]
  },
  {
   "cell_type": "code",
   "execution_count": 289,
   "id": "3b4a73bb-fbba-44e8-97be-90512bc13bf7",
   "metadata": {},
   "outputs": [],
   "source": [
    "hist_df[\"month\"] = pd.to_datetime(hist_df[\"month\"], format='%B').dt.month"
   ]
  },
  {
   "cell_type": "code",
   "execution_count": 290,
   "id": "2aa5e555-78f7-46d7-ae10-a480eb8b1cfe",
   "metadata": {},
   "outputs": [],
   "source": [
    "merge_historical = pd.merge(\n",
    "    latest_df[[\"reservoir_id\",\"date\",\"month\",\"storage_af\",\"units\"]],\n",
    "    hist_df[[\"reservoir_id\", \"month\", \"average_storage_value\", \"average_storage_unit\"]],\n",
    "    how=\"left\",\n",
    "    on=[\"reservoir_id\",\"month\"]\n",
    ")"
   ]
  },
  {
   "cell_type": "code",
   "execution_count": 301,
   "id": "c84fe492-1e78-4498-a85b-88380620fa20",
   "metadata": {},
   "outputs": [],
   "source": [
    "merge_details = pd.merge(\n",
    "    merge_historical,\n",
    "    details_df[[\"reservoir_id\", \"lake_name\", \"capacity_value\", \"capacity_unit\"]],\n",
    "    how=\"left\",\n",
    "    on=[\"reservoir_id\"]               \n",
    ")"
   ]
  },
  {
   "cell_type": "code",
   "execution_count": 302,
   "id": "897c6953-6eb0-4f39-b478-da0ff55e6231",
   "metadata": {},
   "outputs": [
    {
     "data": {
      "text/html": [
       "<div>\n",
       "<style scoped>\n",
       "    .dataframe tbody tr th:only-of-type {\n",
       "        vertical-align: middle;\n",
       "    }\n",
       "\n",
       "    .dataframe tbody tr th {\n",
       "        vertical-align: top;\n",
       "    }\n",
       "\n",
       "    .dataframe thead th {\n",
       "        text-align: right;\n",
       "    }\n",
       "</style>\n",
       "<table border=\"1\" class=\"dataframe\">\n",
       "  <thead>\n",
       "    <tr style=\"text-align: right;\">\n",
       "      <th></th>\n",
       "      <th>month</th>\n",
       "      <th>storage_af</th>\n",
       "      <th>average_storage_value</th>\n",
       "      <th>capacity_value</th>\n",
       "    </tr>\n",
       "  </thead>\n",
       "  <tbody>\n",
       "    <tr>\n",
       "      <th>count</th>\n",
       "      <td>203.000</td>\n",
       "      <td>151.000</td>\n",
       "      <td>154.000</td>\n",
       "      <td>154.000</td>\n",
       "    </tr>\n",
       "    <tr>\n",
       "      <th>mean</th>\n",
       "      <td>6.000</td>\n",
       "      <td>131744.570</td>\n",
       "      <td>181188.247</td>\n",
       "      <td>247519.617</td>\n",
       "    </tr>\n",
       "    <tr>\n",
       "      <th>std</th>\n",
       "      <td>0.000</td>\n",
       "      <td>288363.902</td>\n",
       "      <td>450820.364</td>\n",
       "      <td>602094.926</td>\n",
       "    </tr>\n",
       "    <tr>\n",
       "      <th>min</th>\n",
       "      <td>6.000</td>\n",
       "      <td>0.000</td>\n",
       "      <td>750.000</td>\n",
       "      <td>1800.000</td>\n",
       "    </tr>\n",
       "    <tr>\n",
       "      <th>25%</th>\n",
       "      <td>6.000</td>\n",
       "      <td>11597.000</td>\n",
       "      <td>20043.000</td>\n",
       "      <td>29581.000</td>\n",
       "    </tr>\n",
       "    <tr>\n",
       "      <th>50%</th>\n",
       "      <td>6.000</td>\n",
       "      <td>36823.000</td>\n",
       "      <td>46578.500</td>\n",
       "      <td>64728.000</td>\n",
       "    </tr>\n",
       "    <tr>\n",
       "      <th>75%</th>\n",
       "      <td>6.000</td>\n",
       "      <td>97200.500</td>\n",
       "      <td>115561.750</td>\n",
       "      <td>157500.000</td>\n",
       "    </tr>\n",
       "    <tr>\n",
       "      <th>max</th>\n",
       "      <td>6.000</td>\n",
       "      <td>1858646.000</td>\n",
       "      <td>3539810.000</td>\n",
       "      <td>4552000.000</td>\n",
       "    </tr>\n",
       "  </tbody>\n",
       "</table>\n",
       "</div>"
      ],
      "text/plain": [
       "        month  storage_af  average_storage_value  capacity_value\n",
       "count 203.000     151.000                154.000         154.000\n",
       "mean    6.000  131744.570             181188.247      247519.617\n",
       "std     0.000  288363.902             450820.364      602094.926\n",
       "min     6.000       0.000                750.000        1800.000\n",
       "25%     6.000   11597.000              20043.000       29581.000\n",
       "50%     6.000   36823.000              46578.500       64728.000\n",
       "75%     6.000   97200.500             115561.750      157500.000\n",
       "max     6.000 1858646.000            3539810.000     4552000.000"
      ]
     },
     "execution_count": 302,
     "metadata": {},
     "output_type": "execute_result"
    }
   ],
   "source": [
    "merge_details.describe()"
   ]
  },
  {
   "cell_type": "code",
   "execution_count": 303,
   "id": "e3125780-94ea-49a3-ae88-b9119646602c",
   "metadata": {},
   "outputs": [],
   "source": [
    "largest_50_pct = merge_details[merge_details.capacity_value >= 64728.000]"
   ]
  },
  {
   "cell_type": "markdown",
   "id": "245a2e31-efcd-48bf-9ac1-73d56f22190c",
   "metadata": {},
   "source": [
    "Drop missing values"
   ]
  },
  {
   "cell_type": "code",
   "execution_count": 304,
   "id": "84f0e900-824e-4cd3-8593-90f6b6b23159",
   "metadata": {},
   "outputs": [],
   "source": [
    "drop_na = largest_50_pct.dropna(subset=[\"storage_af\",\"average_storage_value\"])"
   ]
  },
  {
   "cell_type": "code",
   "execution_count": 333,
   "id": "ffdd0e72-a387-41a4-8fb5-bc6fe196d66f",
   "metadata": {},
   "outputs": [
    {
     "data": {
      "text/plain": [
       "68"
      ]
     },
     "execution_count": 333,
     "metadata": {},
     "output_type": "execute_result"
    }
   ],
   "source": [
    "len(drop_na)"
   ]
  },
  {
   "cell_type": "code",
   "execution_count": 310,
   "id": "7e181eeb-82c6-49e4-a6d4-e398860fb852",
   "metadata": {},
   "outputs": [],
   "source": [
    "melt=pd.melt(drop_na, id_vars=\"reservoir_id\", value_vars=[\"storage_af\", \"average_storage_value\", \"capacity_value\"])"
   ]
  },
  {
   "cell_type": "code",
   "execution_count": 324,
   "id": "683e57e6-d902-42c8-b8ed-90daff0e22da",
   "metadata": {},
   "outputs": [],
   "source": [
    "bar_order = {\n",
    "    \"storage_af\": 1, \n",
    "    \"average_storage_value\": 2, \n",
    "    \"capacity_value\":3            \n",
    "}"
   ]
  },
  {
   "cell_type": "code",
   "execution_count": 325,
   "id": "2d535d8f-5141-47bd-b988-f02e435c128a",
   "metadata": {},
   "outputs": [],
   "source": [
    "melt[\"bar_order\"] = melt.variable.map(bar_order)"
   ]
  },
  {
   "cell_type": "code",
   "execution_count": 332,
   "id": "d2af6d05-c390-4a8b-9f53-a9e0d272da79",
   "metadata": {},
   "outputs": [
    {
     "data": {
      "text/html": [
       "\n",
       "<div id=\"altair-viz-aab07734dac944a48ebf66af9dc99903\"></div>\n",
       "<script type=\"text/javascript\">\n",
       "  var VEGA_DEBUG = (typeof VEGA_DEBUG == \"undefined\") ? {} : VEGA_DEBUG;\n",
       "  (function(spec, embedOpt){\n",
       "    let outputDiv = document.currentScript.previousElementSibling;\n",
       "    if (outputDiv.id !== \"altair-viz-aab07734dac944a48ebf66af9dc99903\") {\n",
       "      outputDiv = document.getElementById(\"altair-viz-aab07734dac944a48ebf66af9dc99903\");\n",
       "    }\n",
       "    const paths = {\n",
       "      \"vega\": \"https://cdn.jsdelivr.net/npm//vega@5?noext\",\n",
       "      \"vega-lib\": \"https://cdn.jsdelivr.net/npm//vega-lib?noext\",\n",
       "      \"vega-lite\": \"https://cdn.jsdelivr.net/npm//vega-lite@4.17.0?noext\",\n",
       "      \"vega-embed\": \"https://cdn.jsdelivr.net/npm//vega-embed@6?noext\",\n",
       "    };\n",
       "\n",
       "    function maybeLoadScript(lib, version) {\n",
       "      var key = `${lib.replace(\"-\", \"\")}_version`;\n",
       "      return (VEGA_DEBUG[key] == version) ?\n",
       "        Promise.resolve(paths[lib]) :\n",
       "        new Promise(function(resolve, reject) {\n",
       "          var s = document.createElement('script');\n",
       "          document.getElementsByTagName(\"head\")[0].appendChild(s);\n",
       "          s.async = true;\n",
       "          s.onload = () => {\n",
       "            VEGA_DEBUG[key] = version;\n",
       "            return resolve(paths[lib]);\n",
       "          };\n",
       "          s.onerror = () => reject(`Error loading script: ${paths[lib]}`);\n",
       "          s.src = paths[lib];\n",
       "        });\n",
       "    }\n",
       "\n",
       "    function showError(err) {\n",
       "      outputDiv.innerHTML = `<div class=\"error\" style=\"color:red;\">${err}</div>`;\n",
       "      throw err;\n",
       "    }\n",
       "\n",
       "    function displayChart(vegaEmbed) {\n",
       "      vegaEmbed(outputDiv, spec, embedOpt)\n",
       "        .catch(err => showError(`Javascript Error: ${err.message}<br>This usually means there's a typo in your chart specification. See the javascript console for the full traceback.`));\n",
       "    }\n",
       "\n",
       "    if(typeof define === \"function\" && define.amd) {\n",
       "      requirejs.config({paths});\n",
       "      require([\"vega-embed\"], displayChart, err => showError(`Error loading script: ${err.message}`));\n",
       "    } else {\n",
       "      maybeLoadScript(\"vega\", \"5\")\n",
       "        .then(() => maybeLoadScript(\"vega-lite\", \"4.17.0\"))\n",
       "        .then(() => maybeLoadScript(\"vega-embed\", \"6\"))\n",
       "        .catch(showError)\n",
       "        .then(() => displayChart(vegaEmbed));\n",
       "    }\n",
       "  })({\"config\": {\"view\": {\"width\": 800, \"height\": 450}, \"background\": \"#ffffff\", \"title\": {\"anchor\": \"start\", \"font\": \"BentonGothic-Bold, sans\", \"fontColor\": \"#000000\", \"fontSize\": 22, \"fontWeight\": \"normal\"}, \"arc\": {\"fill\": \"#82c6df\"}, \"area\": {\"fill\": \"#82c6df\"}, \"line\": {\"stroke\": \"#82c6df\", \"strokeWidth\": 3}, \"path\": {\"stroke\": \"#82c6df\"}, \"rect\": {\"fill\": \"#82c6df\"}, \"shape\": {\"stroke\": \"#82c6df\"}, \"bar\": {\"fill\": \"#82c6df\"}, \"point\": {\"stroke\": \"#82c6df\"}, \"symbol\": {\"fill\": \"#82c6df\", \"size\": 30}, \"axis\": {\"titleFont\": \"BentonGothic-Bold, sans\", \"titleFontSize\": 14, \"titleFontWeight\": \"normal\", \"labelFont\": \"BentonGothic, sans\", \"labelFontSize\": 12, \"labelFontWeight\": \"normal\"}, \"axisX\": {\"labelAngle\": 0, \"labelPadding\": 4, \"tickSize\": 3}, \"axisY\": {\"labelBaseline\": \"middle\", \"maxExtent\": 45, \"minExtent\": 45, \"tickSize\": 2, \"titleAlign\": \"left\", \"titleAngle\": 0, \"titleX\": -45, \"titleY\": -11}, \"legend\": {\"titleFont\": \"BentonGothic-Bold, sans\", \"titleFontSize\": 14, \"titleFontWeight\": \"normal\", \"symbolType\": \"square\", \"labelFont\": \"BentonGothic, sans\", \"labelFontSize\": 13}, \"range\": {\"category\": [\"#3580b1\", \"#ec8431\", \"#ab7fb4\", \"#c89d29\", \"#adc839\", \"#829eb1\"], \"diverging\": [\"#e68a4f\", \"#f4bb6a\", \"#f9e39c\", \"#dadfe2\", \"#a6b7c6\", \"#849eae\"], \"heatmap\": [\"#fbf2c7\", \"#f9e39c\", \"#f8d36e\", \"#f4bb6a\", \"#e68a4f\", \"#d15a40\", \"#ab4232\"], \"ordinal\": [\"#fbf2c7\", \"#f9e39c\", \"#f8d36e\", \"#f4bb6a\", \"#e68a4f\", \"#d15a40\", \"#ab4232\"], \"ramp\": [\"#fbf2c7\", \"#f9e39c\", \"#f8d36e\", \"#f4bb6a\", \"#e68a4f\", \"#d15a40\", \"#ab4232\"]}}, \"data\": {\"name\": \"data-aa65fe29e343a09b3885bc7479e68d70\"}, \"mark\": \"bar\", \"encoding\": {\"color\": {\"field\": \"variable\", \"scale\": {\"domain\": [\"capacity_value\", \"average_storage_value\", \"storage_af\"], \"range\": [\"#ddd\", \"#83c6e0\", \"#1281aa\"]}, \"type\": \"nominal\"}, \"order\": {\"field\": \"bar_order\", \"type\": \"quantitative\"}, \"tooltip\": [{\"field\": \"reservoir_id\", \"type\": \"nominal\"}], \"x\": {\"axis\": {\"labels\": false}, \"field\": \"reservoir_id\", \"type\": \"nominal\"}, \"y\": {\"field\": \"value\", \"stack\": \"normalize\", \"type\": \"quantitative\"}}, \"title\": \"California's largest reservoirs\", \"$schema\": \"https://vega.github.io/schema/vega-lite/v4.17.0.json\", \"datasets\": {\"data-aa65fe29e343a09b3885bc7479e68d70\": [{\"reservoir_id\": \"CLE\", \"variable\": \"storage_af\", \"value\": 733499.0, \"bar_order\": 1}, {\"reservoir_id\": \"LPY\", \"variable\": \"storage_af\", \"value\": 54499.0, \"bar_order\": 1}, {\"reservoir_id\": \"COY\", \"variable\": \"storage_af\", \"value\": 50507.0, \"bar_order\": 1}, {\"reservoir_id\": \"WRS\", \"variable\": \"storage_af\", \"value\": 136038.0, \"bar_order\": 1}, {\"reservoir_id\": \"BIO\", \"variable\": \"storage_af\", \"value\": 57440.0, \"bar_order\": 1}, {\"reservoir_id\": \"DLV\", \"variable\": \"storage_af\", \"value\": 39632.0, \"bar_order\": 1}, {\"reservoir_id\": \"CVE\", \"variable\": \"storage_af\", \"value\": 61681.0, \"bar_order\": 1}, {\"reservoir_id\": \"LRA\", \"variable\": \"storage_af\", \"value\": 3468.0, \"bar_order\": 1}, {\"reservoir_id\": \"CRY\", \"variable\": \"storage_af\", \"value\": 50691.0, \"bar_order\": 1}, {\"reservoir_id\": \"ATN\", \"variable\": \"storage_af\", \"value\": 36162.0, \"bar_order\": 1}, {\"reservoir_id\": \"NCM\", \"variable\": \"storage_af\", \"value\": 92698.0, \"bar_order\": 1}, {\"reservoir_id\": \"CCH\", \"variable\": \"storage_af\", \"value\": 83742.0, \"bar_order\": 1}, {\"reservoir_id\": \"CSI\", \"variable\": \"storage_af\", \"value\": 79308.0, \"bar_order\": 1}, {\"reservoir_id\": \"PYM\", \"variable\": \"storage_af\", \"value\": 168357.0, \"bar_order\": 1}, {\"reservoir_id\": \"CAS\", \"variable\": \"storage_af\", \"value\": 126035.0, \"bar_order\": 1}, {\"reservoir_id\": \"PRU\", \"variable\": \"storage_af\", \"value\": 19127.0, \"bar_order\": 1}, {\"reservoir_id\": \"MHW\", \"variable\": \"storage_af\", \"value\": 136249.0, \"bar_order\": 1}, {\"reservoir_id\": \"PRR\", \"variable\": \"storage_af\", \"value\": 100992.0, \"bar_order\": 1}, {\"reservoir_id\": \"SVT\", \"variable\": \"storage_af\", \"value\": 135272.0, \"bar_order\": 1}, {\"reservoir_id\": \"ELC\", \"variable\": \"storage_af\", \"value\": 26640.0, \"bar_order\": 1}, {\"reservoir_id\": \"SHA\", \"variable\": \"storage_af\", \"value\": 1811104.0, \"bar_order\": 1}, {\"reservoir_id\": \"WHI\", \"variable\": \"storage_af\", \"value\": 238023.0, \"bar_order\": 1}, {\"reservoir_id\": \"BLB\", \"variable\": \"storage_af\", \"value\": 76742.0, \"bar_order\": 1}, {\"reservoir_id\": \"ALM\", \"variable\": \"storage_af\", \"value\": 878297.0, \"bar_order\": 1}, {\"reservoir_id\": \"BCL\", \"variable\": \"storage_af\", \"value\": 103392.0, \"bar_order\": 1}, {\"reservoir_id\": \"DAV\", \"variable\": \"storage_af\", \"value\": 48751.0, \"bar_order\": 1}, {\"reservoir_id\": \"ORO\", \"variable\": \"storage_af\", \"value\": 1858646.0, \"bar_order\": 1}, {\"reservoir_id\": \"JCK\", \"variable\": \"storage_af\", \"value\": 68982.0, \"bar_order\": 1}, {\"reservoir_id\": \"BWN\", \"variable\": \"storage_af\", \"value\": 68301.0, \"bar_order\": 1}, {\"reservoir_id\": \"BUL\", \"variable\": \"storage_af\", \"value\": 867212.0, \"bar_order\": 1}, {\"reservoir_id\": \"ENG\", \"variable\": \"storage_af\", \"value\": 68114.0, \"bar_order\": 1}, {\"reservoir_id\": \"RLL\", \"variable\": \"storage_af\", \"value\": 64032.0, \"bar_order\": 1}, {\"reservoir_id\": \"CFW\", \"variable\": \"storage_af\", \"value\": 88474.0, \"bar_order\": 1}, {\"reservoir_id\": \"FMD\", \"variable\": \"storage_af\", \"value\": 113752.0, \"bar_order\": 1}, {\"reservoir_id\": \"HHL\", \"variable\": \"storage_af\", \"value\": 168871.0, \"bar_order\": 1}, {\"reservoir_id\": \"LON\", \"variable\": \"storage_af\", \"value\": 67977.0, \"bar_order\": 1}, {\"reservoir_id\": \"UNV\", \"variable\": \"storage_af\", \"value\": 263841.0, \"bar_order\": 1}, {\"reservoir_id\": \"FOL\", \"variable\": \"storage_af\", \"value\": 863945.0, \"bar_order\": 1}, {\"reservoir_id\": \"INV\", \"variable\": \"storage_af\", \"value\": 50031.0, \"bar_order\": 1}, {\"reservoir_id\": \"CLA\", \"variable\": \"storage_af\", \"value\": 0.0, \"bar_order\": 1}, {\"reservoir_id\": \"SLS\", \"variable\": \"storage_af\", \"value\": 137650.0, \"bar_order\": 1}, {\"reservoir_id\": \"PAR\", \"variable\": \"storage_af\", \"value\": 200080.0, \"bar_order\": 1}, {\"reservoir_id\": \"CMN\", \"variable\": \"storage_af\", \"value\": 216460.0, \"bar_order\": 1}, {\"reservoir_id\": \"NHG\", \"variable\": \"storage_af\", \"value\": 113652.0, \"bar_order\": 1}, {\"reservoir_id\": \"SPM\", \"variable\": \"storage_af\", \"value\": 129172.0, \"bar_order\": 1}, {\"reservoir_id\": \"BRD\", \"variable\": \"storage_af\", \"value\": 93409.0, \"bar_order\": 1}, {\"reservoir_id\": \"NML\", \"variable\": \"storage_af\", \"value\": 826572.0, \"bar_order\": 1}, {\"reservoir_id\": \"TUL\", \"variable\": \"storage_af\", \"value\": 64686.0, \"bar_order\": 1}, {\"reservoir_id\": \"CHV\", \"variable\": \"storage_af\", \"value\": 268569.0, \"bar_order\": 1}, {\"reservoir_id\": \"HTH\", \"variable\": \"storage_af\", \"value\": 361746.0, \"bar_order\": 1}, {\"reservoir_id\": \"DNP\", \"variable\": \"storage_af\", \"value\": 1348737.0, \"bar_order\": 1}, {\"reservoir_id\": \"EXC\", \"variable\": \"storage_af\", \"value\": 436256.0, \"bar_order\": 1}, {\"reservoir_id\": \"BUC\", \"variable\": \"storage_af\", \"value\": 15383.0, \"bar_order\": 1}, {\"reservoir_id\": \"HID\", \"variable\": \"storage_af\", \"value\": 17951.0, \"bar_order\": 1}, {\"reservoir_id\": \"TAE\", \"variable\": \"storage_af\", \"value\": 42407.0, \"bar_order\": 1}, {\"reservoir_id\": \"MPL\", \"variable\": \"storage_af\", \"value\": 107071.0, \"bar_order\": 1}, {\"reservoir_id\": \"HNT\", \"variable\": \"storage_af\", \"value\": 87404.0, \"bar_order\": 1}, {\"reservoir_id\": \"SHV\", \"variable\": \"storage_af\", \"value\": 86119.0, \"bar_order\": 1}, {\"reservoir_id\": \"MIL\", \"variable\": \"storage_af\", \"value\": 367148.0, \"bar_order\": 1}, {\"reservoir_id\": \"SNL\", \"variable\": \"storage_af\", \"value\": 868045.0, \"bar_order\": 1}, {\"reservoir_id\": \"PNF\", \"variable\": \"storage_af\", \"value\": 613666.0, \"bar_order\": 1}, {\"reservoir_id\": \"TRM\", \"variable\": \"storage_af\", \"value\": 112080.0, \"bar_order\": 1}, {\"reservoir_id\": \"SCC\", \"variable\": \"storage_af\", \"value\": 31258.0, \"bar_order\": 1}, {\"reservoir_id\": \"ISB\", \"variable\": \"storage_af\", \"value\": 77081.0, \"bar_order\": 1}, {\"reservoir_id\": \"STP\", \"variable\": \"storage_af\", \"value\": 124861.0, \"bar_order\": 1}, {\"reservoir_id\": \"THC\", \"variable\": \"storage_af\", \"value\": 184253.0, \"bar_order\": 1}, {\"reservoir_id\": \"CRW\", \"variable\": \"storage_af\", \"value\": 121882.0, \"bar_order\": 1}, {\"reservoir_id\": \"SLW\", \"variable\": \"storage_af\", \"value\": 67983.0, \"bar_order\": 1}, {\"reservoir_id\": \"CLE\", \"variable\": \"average_storage_value\", \"value\": 1882223.0, \"bar_order\": 2}, {\"reservoir_id\": \"LPY\", \"variable\": \"average_storage_value\", \"value\": 63413.0, \"bar_order\": 2}, {\"reservoir_id\": \"COY\", \"variable\": \"average_storage_value\", \"value\": 78531.0, \"bar_order\": 2}, {\"reservoir_id\": \"WRS\", \"variable\": \"average_storage_value\", \"value\": 228117.0, \"bar_order\": 2}, {\"reservoir_id\": \"BIO\", \"variable\": \"average_storage_value\", \"value\": 55636.0, \"bar_order\": 2}, {\"reservoir_id\": \"DLV\", \"variable\": \"average_storage_value\", \"value\": 39001.0, \"bar_order\": 2}, {\"reservoir_id\": \"CVE\", \"variable\": \"average_storage_value\", \"value\": 50286.0, \"bar_order\": 2}, {\"reservoir_id\": \"LRA\", \"variable\": \"average_storage_value\", \"value\": 56952.0, \"bar_order\": 2}, {\"reservoir_id\": \"CRY\", \"variable\": \"average_storage_value\", \"value\": 50615.0, \"bar_order\": 2}, {\"reservoir_id\": \"ATN\", \"variable\": \"average_storage_value\", \"value\": 184416.0, \"bar_order\": 2}, {\"reservoir_id\": \"NCM\", \"variable\": \"average_storage_value\", \"value\": 211658.0, \"bar_order\": 2}, {\"reservoir_id\": \"CCH\", \"variable\": \"average_storage_value\", \"value\": 144299.0, \"bar_order\": 2}, {\"reservoir_id\": \"CSI\", \"variable\": \"average_storage_value\", \"value\": 192450.0, \"bar_order\": 2}, {\"reservoir_id\": \"PYM\", \"variable\": \"average_storage_value\", \"value\": 162747.0, \"bar_order\": 2}, {\"reservoir_id\": \"CAS\", \"variable\": \"average_storage_value\", \"value\": 280108.0, \"bar_order\": 2}, {\"reservoir_id\": \"PRU\", \"variable\": \"average_storage_value\", \"value\": 55311.0, \"bar_order\": 2}, {\"reservoir_id\": \"MHW\", \"variable\": \"average_storage_value\", \"value\": 150372.0, \"bar_order\": 2}, {\"reservoir_id\": \"PRR\", \"variable\": \"average_storage_value\", \"value\": 97261.0, \"bar_order\": 2}, {\"reservoir_id\": \"SVT\", \"variable\": \"average_storage_value\", \"value\": 88796.0, \"bar_order\": 2}, {\"reservoir_id\": \"ELC\", \"variable\": \"average_storage_value\", \"value\": 56061.0, \"bar_order\": 2}, {\"reservoir_id\": \"SHA\", \"variable\": \"average_storage_value\", \"value\": 3539810.0, \"bar_order\": 2}, {\"reservoir_id\": \"WHI\", \"variable\": \"average_storage_value\", \"value\": 237971.0, \"bar_order\": 2}, {\"reservoir_id\": \"BLB\", \"variable\": \"average_storage_value\", \"value\": 91171.0, \"bar_order\": 2}, {\"reservoir_id\": \"ALM\", \"variable\": \"average_storage_value\", \"value\": 1000156.0, \"bar_order\": 2}, {\"reservoir_id\": \"BCL\", \"variable\": \"average_storage_value\", \"value\": 94850.0, \"bar_order\": 2}, {\"reservoir_id\": \"DAV\", \"variable\": \"average_storage_value\", \"value\": 60971.0, \"bar_order\": 2}, {\"reservoir_id\": \"ORO\", \"variable\": \"average_storage_value\", \"value\": 2687874.0, \"bar_order\": 2}, {\"reservoir_id\": \"JCK\", \"variable\": \"average_storage_value\", \"value\": 62081.0, \"bar_order\": 2}, {\"reservoir_id\": \"BWN\", \"variable\": \"average_storage_value\", \"value\": 60905.0, \"bar_order\": 2}, {\"reservoir_id\": \"BUL\", \"variable\": \"average_storage_value\", \"value\": 831313.0, \"bar_order\": 2}, {\"reservoir_id\": \"ENG\", \"variable\": \"average_storage_value\", \"value\": 65951.0, \"bar_order\": 2}, {\"reservoir_id\": \"RLL\", \"variable\": \"average_storage_value\", \"value\": 63839.0, \"bar_order\": 2}, {\"reservoir_id\": \"CFW\", \"variable\": \"average_storage_value\", \"value\": 83147.0, \"bar_order\": 2}, {\"reservoir_id\": \"FMD\", \"variable\": \"average_storage_value\", \"value\": 112690.0, \"bar_order\": 2}, {\"reservoir_id\": \"HHL\", \"variable\": \"average_storage_value\", \"value\": 170228.0, \"bar_order\": 2}, {\"reservoir_id\": \"LON\", \"variable\": \"average_storage_value\", \"value\": 66957.0, \"bar_order\": 2}, {\"reservoir_id\": \"UNV\", \"variable\": \"average_storage_value\", \"value\": 242997.0, \"bar_order\": 2}, {\"reservoir_id\": \"FOL\", \"variable\": \"average_storage_value\", \"value\": 756266.0, \"bar_order\": 2}, {\"reservoir_id\": \"INV\", \"variable\": \"average_storage_value\", \"value\": 157941.0, \"bar_order\": 2}, {\"reservoir_id\": \"CLA\", \"variable\": \"average_storage_value\", \"value\": 197870.0, \"bar_order\": 2}, {\"reservoir_id\": \"SLS\", \"variable\": \"average_storage_value\", \"value\": 125896.0, \"bar_order\": 2}, {\"reservoir_id\": \"PAR\", \"variable\": \"average_storage_value\", \"value\": 193915.0, \"bar_order\": 2}, {\"reservoir_id\": \"CMN\", \"variable\": \"average_storage_value\", \"value\": 305377.0, \"bar_order\": 2}, {\"reservoir_id\": \"NHG\", \"variable\": \"average_storage_value\", \"value\": 162018.0, \"bar_order\": 2}, {\"reservoir_id\": \"SPM\", \"variable\": \"average_storage_value\", \"value\": 150932.0, \"bar_order\": 2}, {\"reservoir_id\": \"BRD\", \"variable\": \"average_storage_value\", \"value\": 83920.0, \"bar_order\": 2}, {\"reservoir_id\": \"NML\", \"variable\": \"average_storage_value\", \"value\": 1507818.0, \"bar_order\": 2}, {\"reservoir_id\": \"TUL\", \"variable\": \"average_storage_value\", \"value\": 65222.0, \"bar_order\": 2}, {\"reservoir_id\": \"CHV\", \"variable\": \"average_storage_value\", \"value\": 245232.0, \"bar_order\": 2}, {\"reservoir_id\": \"HTH\", \"variable\": \"average_storage_value\", \"value\": 348576.0, \"bar_order\": 2}, {\"reservoir_id\": \"DNP\", \"variable\": \"average_storage_value\", \"value\": 1671693.0, \"bar_order\": 2}, {\"reservoir_id\": \"EXC\", \"variable\": \"average_storage_value\", \"value\": 729672.0, \"bar_order\": 2}, {\"reservoir_id\": \"BUC\", \"variable\": \"average_storage_value\", \"value\": 76044.0, \"bar_order\": 2}, {\"reservoir_id\": \"HID\", \"variable\": \"average_storage_value\", \"value\": 41848.0, \"bar_order\": 2}, {\"reservoir_id\": \"TAE\", \"variable\": \"average_storage_value\", \"value\": 85385.0, \"bar_order\": 2}, {\"reservoir_id\": \"MPL\", \"variable\": \"average_storage_value\", \"value\": 106374.0, \"bar_order\": 2}, {\"reservoir_id\": \"HNT\", \"variable\": \"average_storage_value\", \"value\": 84766.0, \"bar_order\": 2}, {\"reservoir_id\": \"SHV\", \"variable\": \"average_storage_value\", \"value\": 114802.0, \"bar_order\": 2}, {\"reservoir_id\": \"MIL\", \"variable\": \"average_storage_value\", \"value\": 432481.0, \"bar_order\": 2}, {\"reservoir_id\": \"SNL\", \"variable\": \"average_storage_value\", \"value\": 1105632.0, \"bar_order\": 2}, {\"reservoir_id\": \"PNF\", \"variable\": \"average_storage_value\", \"value\": 670674.0, \"bar_order\": 2}, {\"reservoir_id\": \"TRM\", \"variable\": \"average_storage_value\", \"value\": 115815.0, \"bar_order\": 2}, {\"reservoir_id\": \"SCC\", \"variable\": \"average_storage_value\", \"value\": 45174.0, \"bar_order\": 2}, {\"reservoir_id\": \"ISB\", \"variable\": \"average_storage_value\", \"value\": 281326.0, \"bar_order\": 2}, {\"reservoir_id\": \"STP\", \"variable\": \"average_storage_value\", \"value\": 163525.0, \"bar_order\": 2}, {\"reservoir_id\": \"THC\", \"variable\": \"average_storage_value\", \"value\": 397657.0, \"bar_order\": 2}, {\"reservoir_id\": \"CRW\", \"variable\": \"average_storage_value\", \"value\": 128405.0, \"bar_order\": 2}, {\"reservoir_id\": \"SLW\", \"variable\": \"average_storage_value\", \"value\": 68636.0, \"bar_order\": 2}, {\"reservoir_id\": \"CLE\", \"variable\": \"capacity_value\", \"value\": 2447650.0, \"bar_order\": 3}, {\"reservoir_id\": \"LPY\", \"variable\": \"capacity_value\", \"value\": 80500.0, \"bar_order\": 3}, {\"reservoir_id\": \"COY\", \"variable\": \"capacity_value\", \"value\": 122400.0, \"bar_order\": 3}, {\"reservoir_id\": \"WRS\", \"variable\": \"capacity_value\", \"value\": 381000.0, \"bar_order\": 3}, {\"reservoir_id\": \"BIO\", \"variable\": \"capacity_value\", \"value\": 67520.0, \"bar_order\": 3}, {\"reservoir_id\": \"DLV\", \"variable\": \"capacity_value\", \"value\": 77100.0, \"bar_order\": 3}, {\"reservoir_id\": \"CVE\", \"variable\": \"capacity_value\", \"value\": 100000.0, \"bar_order\": 3}, {\"reservoir_id\": \"LRA\", \"variable\": \"capacity_value\", \"value\": 89278.0, \"bar_order\": 3}, {\"reservoir_id\": \"CRY\", \"variable\": \"capacity_value\", \"value\": 68865.0, \"bar_order\": 3}, {\"reservoir_id\": \"ATN\", \"variable\": \"capacity_value\", \"value\": 331060.0, \"bar_order\": 3}, {\"reservoir_id\": \"NCM\", \"variable\": \"capacity_value\", \"value\": 382770.0, \"bar_order\": 3}, {\"reservoir_id\": \"CCH\", \"variable\": \"capacity_value\", \"value\": 193305.0, \"bar_order\": 3}, {\"reservoir_id\": \"CSI\", \"variable\": \"capacity_value\", \"value\": 254000.0, \"bar_order\": 3}, {\"reservoir_id\": \"PYM\", \"variable\": \"capacity_value\", \"value\": 180000.0, \"bar_order\": 3}, {\"reservoir_id\": \"CAS\", \"variable\": \"capacity_value\", \"value\": 325000.0, \"bar_order\": 3}, {\"reservoir_id\": \"PRU\", \"variable\": \"capacity_value\", \"value\": 83244.0, \"bar_order\": 3}, {\"reservoir_id\": \"MHW\", \"variable\": \"capacity_value\", \"value\": 179300.0, \"bar_order\": 3}, {\"reservoir_id\": \"PRR\", \"variable\": \"capacity_value\", \"value\": 131452.0, \"bar_order\": 3}, {\"reservoir_id\": \"SVT\", \"variable\": \"capacity_value\", \"value\": 249358.0, \"bar_order\": 3}, {\"reservoir_id\": \"ELC\", \"variable\": \"capacity_value\", \"value\": 112807.0, \"bar_order\": 3}, {\"reservoir_id\": \"SHA\", \"variable\": \"capacity_value\", \"value\": 4552000.0, \"bar_order\": 3}, {\"reservoir_id\": \"WHI\", \"variable\": \"capacity_value\", \"value\": 241100.0, \"bar_order\": 3}, {\"reservoir_id\": \"BLB\", \"variable\": \"capacity_value\", \"value\": 143700.0, \"bar_order\": 3}, {\"reservoir_id\": \"ALM\", \"variable\": \"capacity_value\", \"value\": 1308000.0, \"bar_order\": 3}, {\"reservoir_id\": \"BCL\", \"variable\": \"capacity_value\", \"value\": 103000.0, \"bar_order\": 3}, {\"reservoir_id\": \"DAV\", \"variable\": \"capacity_value\", \"value\": 83000.0, \"bar_order\": 3}, {\"reservoir_id\": \"ORO\", \"variable\": \"capacity_value\", \"value\": 3537577.0, \"bar_order\": 3}, {\"reservoir_id\": \"JCK\", \"variable\": \"capacity_value\", \"value\": 69205.0, \"bar_order\": 3}, {\"reservoir_id\": \"BWN\", \"variable\": \"capacity_value\", \"value\": 68510.0, \"bar_order\": 3}, {\"reservoir_id\": \"BUL\", \"variable\": \"capacity_value\", \"value\": 966000.0, \"bar_order\": 3}, {\"reservoir_id\": \"ENG\", \"variable\": \"capacity_value\", \"value\": 70000.0, \"bar_order\": 3}, {\"reservoir_id\": \"RLL\", \"variable\": \"capacity_value\", \"value\": 66000.0, \"bar_order\": 3}, {\"reservoir_id\": \"CFW\", \"variable\": \"capacity_value\", \"value\": 104500.0, \"bar_order\": 3}, {\"reservoir_id\": \"FMD\", \"variable\": \"capacity_value\", \"value\": 136400.0, \"bar_order\": 3}, {\"reservoir_id\": \"HHL\", \"variable\": \"capacity_value\", \"value\": 207600.0, \"bar_order\": 3}, {\"reservoir_id\": \"LON\", \"variable\": \"capacity_value\", \"value\": 69306.0, \"bar_order\": 3}, {\"reservoir_id\": \"UNV\", \"variable\": \"capacity_value\", \"value\": 266369.0, \"bar_order\": 3}, {\"reservoir_id\": \"FOL\", \"variable\": \"capacity_value\", \"value\": 977000.0, \"bar_order\": 3}, {\"reservoir_id\": \"INV\", \"variable\": \"capacity_value\", \"value\": 300000.0, \"bar_order\": 3}, {\"reservoir_id\": \"CLA\", \"variable\": \"capacity_value\", \"value\": 313000.0, \"bar_order\": 3}, {\"reservoir_id\": \"SLS\", \"variable\": \"capacity_value\", \"value\": 141900.0, \"bar_order\": 3}, {\"reservoir_id\": \"PAR\", \"variable\": \"capacity_value\", \"value\": 203795.0, \"bar_order\": 3}, {\"reservoir_id\": \"CMN\", \"variable\": \"capacity_value\", \"value\": 417120.0, \"bar_order\": 3}, {\"reservoir_id\": \"NHG\", \"variable\": \"capacity_value\", \"value\": 317000.0, \"bar_order\": 3}, {\"reservoir_id\": \"SPM\", \"variable\": \"capacity_value\", \"value\": 189000.0, \"bar_order\": 3}, {\"reservoir_id\": \"BRD\", \"variable\": \"capacity_value\", \"value\": 97800.0, \"bar_order\": 3}, {\"reservoir_id\": \"NML\", \"variable\": \"capacity_value\", \"value\": 2400000.0, \"bar_order\": 3}, {\"reservoir_id\": \"TUL\", \"variable\": \"capacity_value\", \"value\": 67000.0, \"bar_order\": 3}, {\"reservoir_id\": \"CHV\", \"variable\": \"capacity_value\", \"value\": 273500.0, \"bar_order\": 3}, {\"reservoir_id\": \"HTH\", \"variable\": \"capacity_value\", \"value\": 360000.0, \"bar_order\": 3}, {\"reservoir_id\": \"DNP\", \"variable\": \"capacity_value\", \"value\": 2030000.0, \"bar_order\": 3}, {\"reservoir_id\": \"EXC\", \"variable\": \"capacity_value\", \"value\": 1024600.0, \"bar_order\": 3}, {\"reservoir_id\": \"BUC\", \"variable\": \"capacity_value\", \"value\": 150000.0, \"bar_order\": 3}, {\"reservoir_id\": \"HID\", \"variable\": \"capacity_value\", \"value\": 90000.0, \"bar_order\": 3}, {\"reservoir_id\": \"TAE\", \"variable\": \"capacity_value\", \"value\": 125000.0, \"bar_order\": 3}, {\"reservoir_id\": \"MPL\", \"variable\": \"capacity_value\", \"value\": 123000.0, \"bar_order\": 3}, {\"reservoir_id\": \"HNT\", \"variable\": \"capacity_value\", \"value\": 89800.0, \"bar_order\": 3}, {\"reservoir_id\": \"SHV\", \"variable\": \"capacity_value\", \"value\": 135283.0, \"bar_order\": 3}, {\"reservoir_id\": \"MIL\", \"variable\": \"capacity_value\", \"value\": 520500.0, \"bar_order\": 3}, {\"reservoir_id\": \"SNL\", \"variable\": \"capacity_value\", \"value\": 2041000.0, \"bar_order\": 3}, {\"reservoir_id\": \"PNF\", \"variable\": \"capacity_value\", \"value\": 1000000.0, \"bar_order\": 3}, {\"reservoir_id\": \"TRM\", \"variable\": \"capacity_value\", \"value\": 185600.0, \"bar_order\": 3}, {\"reservoir_id\": \"SCC\", \"variable\": \"capacity_value\", \"value\": 82300.0, \"bar_order\": 3}, {\"reservoir_id\": \"ISB\", \"variable\": \"capacity_value\", \"value\": 568000.0, \"bar_order\": 3}, {\"reservoir_id\": \"STP\", \"variable\": \"capacity_value\", \"value\": 226500.0, \"bar_order\": 3}, {\"reservoir_id\": \"THC\", \"variable\": \"capacity_value\", \"value\": 732000.0, \"bar_order\": 3}, {\"reservoir_id\": \"CRW\", \"variable\": \"capacity_value\", \"value\": 183465.0, \"bar_order\": 3}, {\"reservoir_id\": \"SLW\", \"variable\": \"capacity_value\", \"value\": 78000.0, \"bar_order\": 3}]}}, {\"mode\": \"vega-lite\"});\n",
       "</script>"
      ],
      "text/plain": [
       "alt.Chart(...)"
      ]
     },
     "execution_count": 332,
     "metadata": {},
     "output_type": "execute_result"
    }
   ],
   "source": [
    "domain = [\"capacity_value\", \"average_storage_value\", \"storage_af\", ]\n",
    "range_ = ['#ddd', '#83c6e0', '#1281aa', ]\n",
    "\n",
    "alt.Chart(melt).mark_bar().encode(\n",
    "    x=alt.X('reservoir_id', axis=alt.Axis(labels=False)),\n",
    "    y=alt.Y('value',stack=\"normalize\"),\n",
    "    order=\"bar_order\",\n",
    "    color=alt.Color(\n",
    "        'variable', \n",
    "        scale=alt.Scale(domain=domain, range=range_), \n",
    "        #sort='descending'\n",
    "    ),\n",
    "    tooltip=[\"reservoir_id\"]\n",
    ").properties(title=\"California's largest reservoirs\")"
   ]
  },
  {
   "cell_type": "code",
   "execution_count": 337,
   "id": "dfe87068-cfd2-4a93-b3d8-9650000607f5",
   "metadata": {},
   "outputs": [
    {
     "data": {
      "text/html": [
       "\n",
       "<div id=\"altair-viz-734bc3e9b53946ab9b135afc30bb8378\"></div>\n",
       "<script type=\"text/javascript\">\n",
       "  var VEGA_DEBUG = (typeof VEGA_DEBUG == \"undefined\") ? {} : VEGA_DEBUG;\n",
       "  (function(spec, embedOpt){\n",
       "    let outputDiv = document.currentScript.previousElementSibling;\n",
       "    if (outputDiv.id !== \"altair-viz-734bc3e9b53946ab9b135afc30bb8378\") {\n",
       "      outputDiv = document.getElementById(\"altair-viz-734bc3e9b53946ab9b135afc30bb8378\");\n",
       "    }\n",
       "    const paths = {\n",
       "      \"vega\": \"https://cdn.jsdelivr.net/npm//vega@5?noext\",\n",
       "      \"vega-lib\": \"https://cdn.jsdelivr.net/npm//vega-lib?noext\",\n",
       "      \"vega-lite\": \"https://cdn.jsdelivr.net/npm//vega-lite@4.17.0?noext\",\n",
       "      \"vega-embed\": \"https://cdn.jsdelivr.net/npm//vega-embed@6?noext\",\n",
       "    };\n",
       "\n",
       "    function maybeLoadScript(lib, version) {\n",
       "      var key = `${lib.replace(\"-\", \"\")}_version`;\n",
       "      return (VEGA_DEBUG[key] == version) ?\n",
       "        Promise.resolve(paths[lib]) :\n",
       "        new Promise(function(resolve, reject) {\n",
       "          var s = document.createElement('script');\n",
       "          document.getElementsByTagName(\"head\")[0].appendChild(s);\n",
       "          s.async = true;\n",
       "          s.onload = () => {\n",
       "            VEGA_DEBUG[key] = version;\n",
       "            return resolve(paths[lib]);\n",
       "          };\n",
       "          s.onerror = () => reject(`Error loading script: ${paths[lib]}`);\n",
       "          s.src = paths[lib];\n",
       "        });\n",
       "    }\n",
       "\n",
       "    function showError(err) {\n",
       "      outputDiv.innerHTML = `<div class=\"error\" style=\"color:red;\">${err}</div>`;\n",
       "      throw err;\n",
       "    }\n",
       "\n",
       "    function displayChart(vegaEmbed) {\n",
       "      vegaEmbed(outputDiv, spec, embedOpt)\n",
       "        .catch(err => showError(`Javascript Error: ${err.message}<br>This usually means there's a typo in your chart specification. See the javascript console for the full traceback.`));\n",
       "    }\n",
       "\n",
       "    if(typeof define === \"function\" && define.amd) {\n",
       "      requirejs.config({paths});\n",
       "      require([\"vega-embed\"], displayChart, err => showError(`Error loading script: ${err.message}`));\n",
       "    } else {\n",
       "      maybeLoadScript(\"vega\", \"5\")\n",
       "        .then(() => maybeLoadScript(\"vega-lite\", \"4.17.0\"))\n",
       "        .then(() => maybeLoadScript(\"vega-embed\", \"6\"))\n",
       "        .catch(showError)\n",
       "        .then(() => displayChart(vegaEmbed));\n",
       "    }\n",
       "  })({\"config\": {\"view\": {\"width\": 800, \"height\": 450}, \"background\": \"#ffffff\", \"title\": {\"anchor\": \"start\", \"font\": \"BentonGothic-Bold, sans\", \"fontColor\": \"#000000\", \"fontSize\": 22, \"fontWeight\": \"normal\"}, \"arc\": {\"fill\": \"#82c6df\"}, \"area\": {\"fill\": \"#82c6df\"}, \"line\": {\"stroke\": \"#82c6df\", \"strokeWidth\": 3}, \"path\": {\"stroke\": \"#82c6df\"}, \"rect\": {\"fill\": \"#82c6df\"}, \"shape\": {\"stroke\": \"#82c6df\"}, \"bar\": {\"fill\": \"#82c6df\"}, \"point\": {\"stroke\": \"#82c6df\"}, \"symbol\": {\"fill\": \"#82c6df\", \"size\": 30}, \"axis\": {\"titleFont\": \"BentonGothic-Bold, sans\", \"titleFontSize\": 14, \"titleFontWeight\": \"normal\", \"labelFont\": \"BentonGothic, sans\", \"labelFontSize\": 12, \"labelFontWeight\": \"normal\"}, \"axisX\": {\"labelAngle\": 0, \"labelPadding\": 4, \"tickSize\": 3}, \"axisY\": {\"labelBaseline\": \"middle\", \"maxExtent\": 45, \"minExtent\": 45, \"tickSize\": 2, \"titleAlign\": \"left\", \"titleAngle\": 0, \"titleX\": -45, \"titleY\": -11}, \"legend\": {\"titleFont\": \"BentonGothic-Bold, sans\", \"titleFontSize\": 14, \"titleFontWeight\": \"normal\", \"symbolType\": \"square\", \"labelFont\": \"BentonGothic, sans\", \"labelFontSize\": 13}, \"range\": {\"category\": [\"#3580b1\", \"#ec8431\", \"#ab7fb4\", \"#c89d29\", \"#adc839\", \"#829eb1\"], \"diverging\": [\"#e68a4f\", \"#f4bb6a\", \"#f9e39c\", \"#dadfe2\", \"#a6b7c6\", \"#849eae\"], \"heatmap\": [\"#fbf2c7\", \"#f9e39c\", \"#f8d36e\", \"#f4bb6a\", \"#e68a4f\", \"#d15a40\", \"#ab4232\"], \"ordinal\": [\"#fbf2c7\", \"#f9e39c\", \"#f8d36e\", \"#f4bb6a\", \"#e68a4f\", \"#d15a40\", \"#ab4232\"], \"ramp\": [\"#fbf2c7\", \"#f9e39c\", \"#f8d36e\", \"#f4bb6a\", \"#e68a4f\", \"#d15a40\", \"#ab4232\"]}}, \"data\": {\"name\": \"data-e5b5ec14056b088ae16d2699d78c6817\"}, \"mark\": \"bar\", \"encoding\": {\"color\": {\"field\": \"variable\", \"scale\": {\"domain\": [\"capacity_value\", \"average_storage_value\", \"storage_af\"], \"range\": [\"#ddd\", \"#83c6e0\", \"#1281aa\"]}, \"type\": \"nominal\"}, \"order\": {\"field\": \"bar_order\", \"type\": \"quantitative\"}, \"tooltip\": [{\"field\": \"reservoir_id\", \"type\": \"nominal\"}], \"x\": {\"axis\": {\"labels\": false}, \"field\": \"reservoir_id\", \"type\": \"nominal\"}, \"y\": {\"field\": \"value\", \"stack\": \"normalize\", \"type\": \"quantitative\"}}, \"title\": \"Lake Oroville\", \"width\": 150, \"$schema\": \"https://vega.github.io/schema/vega-lite/v4.17.0.json\", \"datasets\": {\"data-e5b5ec14056b088ae16d2699d78c6817\": [{\"reservoir_id\": \"ORO\", \"variable\": \"storage_af\", \"value\": 1858646.0, \"bar_order\": 1}, {\"reservoir_id\": \"ORO\", \"variable\": \"average_storage_value\", \"value\": 2687874.0, \"bar_order\": 2}, {\"reservoir_id\": \"ORO\", \"variable\": \"capacity_value\", \"value\": 3537577.0, \"bar_order\": 3}]}}, {\"mode\": \"vega-lite\"});\n",
       "</script>"
      ],
      "text/plain": [
       "alt.Chart(...)"
      ]
     },
     "execution_count": 337,
     "metadata": {},
     "output_type": "execute_result"
    }
   ],
   "source": [
    "domain = [\"capacity_value\", \"average_storage_value\", \"storage_af\", ]\n",
    "range_ = ['#ddd', '#83c6e0', '#1281aa', ]\n",
    "\n",
    "alt.Chart(melt[melt.reservoir_id==\"ORO\"]).mark_bar().encode(\n",
    "    x=alt.X('reservoir_id', axis=alt.Axis(labels=False)),\n",
    "    y=alt.Y('value',stack=\"normalize\"),\n",
    "    order=\"bar_order\",\n",
    "    color=alt.Color(\n",
    "        'variable', \n",
    "        scale=alt.Scale(domain=domain, range=range_), \n",
    "        #sort='descending'\n",
    "    ),\n",
    "    tooltip=[\"reservoir_id\"]\n",
    ").properties(title=\"Lake Oroville\", width=150)"
   ]
  },
  {
   "cell_type": "markdown",
   "id": "6609fded-c565-490f-b1da-7142a4cdb7ab",
   "metadata": {},
   "source": [
    "### Export"
   ]
  },
  {
   "cell_type": "markdown",
   "id": "5507842a-f54d-46b2-a3bf-2574b38b7d91",
   "metadata": {},
   "source": [
    "Assertion tests to make sure no data comes through with mixed units"
   ]
  },
  {
   "cell_type": "code",
   "execution_count": 341,
   "id": "e83423e3-1336-4e8e-9c1d-022ee77222af",
   "metadata": {},
   "outputs": [],
   "source": [
    "assert len(drop_na.units.unique()) == 1"
   ]
  },
  {
   "cell_type": "code",
   "execution_count": 343,
   "id": "03dc8028-ed7b-41a5-9117-722d865c3d0f",
   "metadata": {},
   "outputs": [],
   "source": [
    "assert len(drop_na.average_storage_unit.unique()) == 1"
   ]
  },
  {
   "cell_type": "code",
   "execution_count": 342,
   "id": "5abb5ecb-8a2f-43fc-94cf-85718390df45",
   "metadata": {},
   "outputs": [],
   "source": [
    "assert len(drop_na.capacity_unit.unique()) == 1"
   ]
  },
  {
   "cell_type": "markdown",
   "id": "1b8ba812-b32b-427a-b12c-d2e69e29a121",
   "metadata": {},
   "source": [
    "Trim and rename for export"
   ]
  },
  {
   "cell_type": "code",
   "execution_count": 348,
   "id": "0382b468-1563-44a0-b6f9-8e90848aa966",
   "metadata": {},
   "outputs": [],
   "source": [
    "export_df = drop_na[\n",
    "    ['reservoir_id','lake_name', 'date', 'storage_af', 'average_storage_value', 'capacity_value', ]\n",
    "].rename(columns={\n",
    "    'lake_name': 'reservoir_name',\n",
    "    'average_storage_value': 'historical_average',\n",
    "    'capacity_value': 'total_capacity'\n",
    "})"
   ]
  },
  {
   "cell_type": "code",
   "execution_count": 349,
   "id": "c1a87530-4991-454d-a5a1-28940376182d",
   "metadata": {},
   "outputs": [],
   "source": [
    "export_df.to_csv(\"../data/processed/reservoirs/reservoirs-latest.csv\")"
   ]
  },
  {
   "cell_type": "code",
   "execution_count": 350,
   "id": "5a6a888e-55bc-47d7-9152-bf1ef0f680e3",
   "metadata": {},
   "outputs": [],
   "source": [
    "export_df.to_csv(f\"../data/processed/reservoirs/reservoirs-{today}.csv\")"
   ]
  }
 ],
 "metadata": {
  "kernelspec": {
   "display_name": "Python 3 (ipykernel)",
   "language": "python",
   "name": "python3"
  },
  "language_info": {
   "codemirror_mode": {
    "name": "ipython",
    "version": 3
   },
   "file_extension": ".py",
   "mimetype": "text/x-python",
   "name": "python",
   "nbconvert_exporter": "python",
   "pygments_lexer": "ipython3",
   "version": "3.9.6"
  }
 },
 "nbformat": 4,
 "nbformat_minor": 5
}
