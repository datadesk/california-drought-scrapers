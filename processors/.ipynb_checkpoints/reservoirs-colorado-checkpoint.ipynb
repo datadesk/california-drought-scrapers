{
 "cells": [
  {
   "cell_type": "code",
   "execution_count": 1,
   "id": "a8f68e43-feaa-4996-8d5a-ecc52ce8bf66",
   "metadata": {},
   "outputs": [],
   "source": [
    "import pytz\n",
    "from datetime import datetime, date, timedelta\n",
    "import pandas as pd\n",
    "import altair as alt\n",
    "import altair_latimes as lat"
   ]
  },
  {
   "cell_type": "code",
   "execution_count": 2,
   "id": "7f08691a-275f-4165-b2a5-dc7a70e2c3a6",
   "metadata": {},
   "outputs": [
    {
     "data": {
      "text/plain": [
       "ThemeRegistry.enable('latimes')"
      ]
     },
     "execution_count": 2,
     "metadata": {},
     "output_type": "execute_result"
    }
   ],
   "source": [
    "alt.themes.register('latimes', lat.theme)\n",
    "alt.themes.enable('latimes')"
   ]
  },
  {
   "cell_type": "code",
   "execution_count": 3,
   "id": "154fda82-e6f3-4a42-86c8-578b4fc0d2cb",
   "metadata": {},
   "outputs": [],
   "source": [
    "pd.set_option('display.float_format', lambda x: '%.3f' % x)"
   ]
  },
  {
   "cell_type": "markdown",
   "id": "0cfcb7f3-6169-489d-a054-1b801988d626",
   "metadata": {},
   "source": [
    "### Import"
   ]
  },
  {
   "cell_type": "code",
   "execution_count": 6,
   "id": "81973009-6e4c-4b44-8db8-17ec118ecd88",
   "metadata": {},
   "outputs": [],
   "source": [
    "df = pd.read_csv(\n",
    "    \"../data/raw/reservoirs/colorado-river-reservoir-scrape-timeseries.csv\", \n",
    "    parse_dates=[\"DATE TIME\", \"OBS DATE\"]\n",
    ")"
   ]
  },
  {
   "cell_type": "code",
   "execution_count": 7,
   "id": "592ce46b-5c36-44bb-94cd-4a2ad733a55c",
   "metadata": {},
   "outputs": [],
   "source": [
    "hist_df = pd.read_csv(\n",
    "    \"../data/metadata/reservoirs-historical-averages.csv\"\n",
    ")"
   ]
  },
  {
   "cell_type": "code",
   "execution_count": 46,
   "id": "284a5f3e-4391-4685-808d-f40e64511e7b",
   "metadata": {},
   "outputs": [],
   "source": [
    "details_df = pd.read_csv(\n",
    "    \"../data/metadata/reservoirs-metadata-details.csv\"\n",
    ")"
   ]
  },
  {
   "cell_type": "markdown",
   "id": "66364b79-8a94-4d02-abfa-9a83aabf5d27",
   "metadata": {},
   "source": [
    "### Clean"
   ]
  },
  {
   "cell_type": "code",
   "execution_count": 47,
   "id": "7b763bc7-8495-424c-8e82-916bdde9e4b3",
   "metadata": {},
   "outputs": [
    {
     "name": "stdout",
     "output_type": "stream",
     "text": [
      "<class 'pandas.core.frame.DataFrame'>\n",
      "RangeIndex: 240 entries, 0 to 239\n",
      "Data columns (total 9 columns):\n",
      " #   Column         Non-Null Count  Dtype         \n",
      "---  ------         --------------  -----         \n",
      " 0   reservoir_id   240 non-null    object        \n",
      " 1   duration       240 non-null    object        \n",
      " 2   sensor_number  240 non-null    int64         \n",
      " 3   sensor_type    240 non-null    object        \n",
      " 4   date           240 non-null    datetime64[ns]\n",
      " 5   obs_date       240 non-null    datetime64[ns]\n",
      " 6   storage_af     236 non-null    float64       \n",
      " 7   data_flag      231 non-null    object        \n",
      " 8   units          240 non-null    object        \n",
      "dtypes: datetime64[ns](2), float64(1), int64(1), object(5)\n",
      "memory usage: 17.0+ KB\n"
     ]
    }
   ],
   "source": [
    "df.info()"
   ]
  },
  {
   "cell_type": "code",
   "execution_count": 48,
   "id": "3bcf2dc4-c020-41b4-becf-3e4c43c425d1",
   "metadata": {},
   "outputs": [],
   "source": [
    "df.columns = df.columns.str.lower()"
   ]
  },
  {
   "cell_type": "code",
   "execution_count": 49,
   "id": "2e0088a1-012e-474f-b5da-fb9fdfe75b78",
   "metadata": {},
   "outputs": [],
   "source": [
    "df.columns = df.columns.str.replace(\" \",\"_\")"
   ]
  },
  {
   "cell_type": "code",
   "execution_count": 50,
   "id": "5b1ca206-03bd-4d33-b39b-689a4c971190",
   "metadata": {},
   "outputs": [],
   "source": [
    "df = df.rename(columns={\n",
    "    \"station_id\": \"reservoir_id\",\n",
    "    \"date_time\": \"date\",\n",
    "    \"value\": \"storage_af\"\n",
    "})"
   ]
  },
  {
   "cell_type": "code",
   "execution_count": 55,
   "id": "64908a28-1883-49a9-8c73-2a7570d381e3",
   "metadata": {},
   "outputs": [
    {
     "data": {
      "text/html": [
       "<div>\n",
       "<style scoped>\n",
       "    .dataframe tbody tr th:only-of-type {\n",
       "        vertical-align: middle;\n",
       "    }\n",
       "\n",
       "    .dataframe tbody tr th {\n",
       "        vertical-align: top;\n",
       "    }\n",
       "\n",
       "    .dataframe thead th {\n",
       "        text-align: right;\n",
       "    }\n",
       "</style>\n",
       "<table border=\"1\" class=\"dataframe\">\n",
       "  <thead>\n",
       "    <tr style=\"text-align: right;\">\n",
       "      <th></th>\n",
       "      <th>reservoir_id</th>\n",
       "      <th>duration</th>\n",
       "      <th>sensor_number</th>\n",
       "      <th>sensor_type</th>\n",
       "      <th>date</th>\n",
       "      <th>obs_date</th>\n",
       "      <th>storage_af</th>\n",
       "      <th>data_flag</th>\n",
       "      <th>units</th>\n",
       "    </tr>\n",
       "  </thead>\n",
       "  <tbody>\n",
       "    <tr>\n",
       "      <th>235</th>\n",
       "      <td>HVS</td>\n",
       "      <td>M</td>\n",
       "      <td>15</td>\n",
       "      <td>STORAGE</td>\n",
       "      <td>2022-02-01</td>\n",
       "      <td>2022-02-01</td>\n",
       "      <td>562800.000</td>\n",
       "      <td></td>\n",
       "      <td>AF</td>\n",
       "    </tr>\n",
       "    <tr>\n",
       "      <th>236</th>\n",
       "      <td>HVS</td>\n",
       "      <td>M</td>\n",
       "      <td>15</td>\n",
       "      <td>STORAGE</td>\n",
       "      <td>2022-03-01</td>\n",
       "      <td>2022-03-01</td>\n",
       "      <td>580400.000</td>\n",
       "      <td></td>\n",
       "      <td>AF</td>\n",
       "    </tr>\n",
       "    <tr>\n",
       "      <th>237</th>\n",
       "      <td>HVS</td>\n",
       "      <td>M</td>\n",
       "      <td>15</td>\n",
       "      <td>STORAGE</td>\n",
       "      <td>2022-04-01</td>\n",
       "      <td>2022-04-01</td>\n",
       "      <td>567000.000</td>\n",
       "      <td></td>\n",
       "      <td>AF</td>\n",
       "    </tr>\n",
       "    <tr>\n",
       "      <th>238</th>\n",
       "      <td>HVS</td>\n",
       "      <td>M</td>\n",
       "      <td>15</td>\n",
       "      <td>STORAGE</td>\n",
       "      <td>2022-05-01</td>\n",
       "      <td>2022-05-01</td>\n",
       "      <td>593200.000</td>\n",
       "      <td></td>\n",
       "      <td>AF</td>\n",
       "    </tr>\n",
       "    <tr>\n",
       "      <th>239</th>\n",
       "      <td>HVS</td>\n",
       "      <td>M</td>\n",
       "      <td>15</td>\n",
       "      <td>STORAGE</td>\n",
       "      <td>2022-06-01</td>\n",
       "      <td>2022-06-01</td>\n",
       "      <td>NaN</td>\n",
       "      <td></td>\n",
       "      <td>AF</td>\n",
       "    </tr>\n",
       "  </tbody>\n",
       "</table>\n",
       "</div>"
      ],
      "text/plain": [
       "    reservoir_id duration  sensor_number sensor_type       date   obs_date  \\\n",
       "235          HVS        M             15     STORAGE 2022-02-01 2022-02-01   \n",
       "236          HVS        M             15     STORAGE 2022-03-01 2022-03-01   \n",
       "237          HVS        M             15     STORAGE 2022-04-01 2022-04-01   \n",
       "238          HVS        M             15     STORAGE 2022-05-01 2022-05-01   \n",
       "239          HVS        M             15     STORAGE 2022-06-01 2022-06-01   \n",
       "\n",
       "     storage_af data_flag units  \n",
       "235  562800.000              AF  \n",
       "236  580400.000              AF  \n",
       "237  567000.000              AF  \n",
       "238  593200.000              AF  \n",
       "239         NaN              AF  "
      ]
     },
     "execution_count": 55,
     "metadata": {},
     "output_type": "execute_result"
    }
   ],
   "source": [
    "df.tail()"
   ]
  },
  {
   "cell_type": "code",
   "execution_count": 56,
   "id": "db224586-5249-46ab-b4e6-f8a6d10d340f",
   "metadata": {},
   "outputs": [],
   "source": [
    "#df[\"storage_af\"] = df[\"storage_af\"].str.replace(\"---\",\"\")"
   ]
  },
  {
   "cell_type": "code",
   "execution_count": 57,
   "id": "69e887d1-7a69-461c-95a6-7fa88ff67e2f",
   "metadata": {},
   "outputs": [],
   "source": [
    "df[\"storage_af\"] = pd.to_numeric(df[\"storage_af\"])"
   ]
  },
  {
   "cell_type": "code",
   "execution_count": 58,
   "id": "2bd306aa-4f49-49f7-a640-f660c0181f9f",
   "metadata": {},
   "outputs": [],
   "source": [
    "#df = df.dropna(subset=\"storage_af\")"
   ]
  },
  {
   "cell_type": "markdown",
   "id": "b47722e1-1ba9-4a6c-ae48-c5cb740c3390",
   "metadata": {},
   "source": [
    "### Check out latest data"
   ]
  },
  {
   "cell_type": "markdown",
   "id": "2f472dbe-81ae-491e-aeac-0e68ee65472b",
   "metadata": {},
   "source": [
    "Drop na first"
   ]
  },
  {
   "cell_type": "code",
   "execution_count": 59,
   "id": "ead8f51c-ec41-4335-97c5-f90c82b7edc9",
   "metadata": {},
   "outputs": [],
   "source": [
    "drop_na = df.dropna(subset=[\"storage_af\"])"
   ]
  },
  {
   "cell_type": "code",
   "execution_count": 60,
   "id": "14bf9f50-3ddc-47d3-b8e8-69a95a49b4af",
   "metadata": {},
   "outputs": [],
   "source": [
    "latest_df = drop_na[drop_na.date == drop_na.date.max()].copy()"
   ]
  },
  {
   "cell_type": "code",
   "execution_count": 61,
   "id": "c94fc6f4-58d3-4165-a975-4307627f8cbf",
   "metadata": {},
   "outputs": [
    {
     "data": {
      "text/plain": [
       "16164400.0"
      ]
     },
     "execution_count": 61,
     "metadata": {},
     "output_type": "execute_result"
    }
   ],
   "source": [
    "latest_df.storage_af.sum()"
   ]
  },
  {
   "cell_type": "markdown",
   "id": "45bdc35a-8e5f-43e8-9b3a-9078e6a1158a",
   "metadata": {},
   "source": [
    "### Merge historical average"
   ]
  },
  {
   "cell_type": "markdown",
   "id": "f193e506-35eb-49d8-8110-43ac386fe12b",
   "metadata": {},
   "source": [
    "Create month column for merging"
   ]
  },
  {
   "cell_type": "code",
   "execution_count": 62,
   "id": "5c5019e6-921a-43a1-a610-16c64e9840a5",
   "metadata": {},
   "outputs": [],
   "source": [
    "latest_df[\"month\"] = pd.DatetimeIndex(latest_df.date).month"
   ]
  },
  {
   "cell_type": "code",
   "execution_count": 65,
   "id": "13661178-ff0f-4a5d-a835-e02a736f9cd0",
   "metadata": {},
   "outputs": [
    {
     "data": {
      "text/html": [
       "<div>\n",
       "<style scoped>\n",
       "    .dataframe tbody tr th:only-of-type {\n",
       "        vertical-align: middle;\n",
       "    }\n",
       "\n",
       "    .dataframe tbody tr th {\n",
       "        vertical-align: top;\n",
       "    }\n",
       "\n",
       "    .dataframe thead th {\n",
       "        text-align: right;\n",
       "    }\n",
       "</style>\n",
       "<table border=\"1\" class=\"dataframe\">\n",
       "  <thead>\n",
       "    <tr style=\"text-align: right;\">\n",
       "      <th></th>\n",
       "      <th>reservoir_id</th>\n",
       "      <th>duration</th>\n",
       "      <th>sensor_number</th>\n",
       "      <th>sensor_type</th>\n",
       "      <th>date</th>\n",
       "      <th>obs_date</th>\n",
       "      <th>storage_af</th>\n",
       "      <th>data_flag</th>\n",
       "      <th>units</th>\n",
       "      <th>month</th>\n",
       "    </tr>\n",
       "  </thead>\n",
       "  <tbody>\n",
       "    <tr>\n",
       "      <th>58</th>\n",
       "      <td>MHV</td>\n",
       "      <td>M</td>\n",
       "      <td>15</td>\n",
       "      <td>STORAGE</td>\n",
       "      <td>2022-05-01</td>\n",
       "      <td>2022-05-01</td>\n",
       "      <td>1708200.000</td>\n",
       "      <td></td>\n",
       "      <td>AF</td>\n",
       "      <td>5</td>\n",
       "    </tr>\n",
       "    <tr>\n",
       "      <th>118</th>\n",
       "      <td>PWL</td>\n",
       "      <td>M</td>\n",
       "      <td>15</td>\n",
       "      <td>STORAGE</td>\n",
       "      <td>2022-05-01</td>\n",
       "      <td>2022-05-01</td>\n",
       "      <td>6346000.000</td>\n",
       "      <td></td>\n",
       "      <td>AF</td>\n",
       "      <td>5</td>\n",
       "    </tr>\n",
       "    <tr>\n",
       "      <th>178</th>\n",
       "      <td>MEA</td>\n",
       "      <td>M</td>\n",
       "      <td>15</td>\n",
       "      <td>STORAGE</td>\n",
       "      <td>2022-05-01</td>\n",
       "      <td>2022-05-01</td>\n",
       "      <td>7517000.000</td>\n",
       "      <td></td>\n",
       "      <td>AF</td>\n",
       "      <td>5</td>\n",
       "    </tr>\n",
       "    <tr>\n",
       "      <th>238</th>\n",
       "      <td>HVS</td>\n",
       "      <td>M</td>\n",
       "      <td>15</td>\n",
       "      <td>STORAGE</td>\n",
       "      <td>2022-05-01</td>\n",
       "      <td>2022-05-01</td>\n",
       "      <td>593200.000</td>\n",
       "      <td></td>\n",
       "      <td>AF</td>\n",
       "      <td>5</td>\n",
       "    </tr>\n",
       "  </tbody>\n",
       "</table>\n",
       "</div>"
      ],
      "text/plain": [
       "    reservoir_id duration  sensor_number sensor_type       date   obs_date  \\\n",
       "58           MHV        M             15     STORAGE 2022-05-01 2022-05-01   \n",
       "118          PWL        M             15     STORAGE 2022-05-01 2022-05-01   \n",
       "178          MEA        M             15     STORAGE 2022-05-01 2022-05-01   \n",
       "238          HVS        M             15     STORAGE 2022-05-01 2022-05-01   \n",
       "\n",
       "     storage_af data_flag units  month  \n",
       "58  1708200.000              AF      5  \n",
       "118 6346000.000              AF      5  \n",
       "178 7517000.000              AF      5  \n",
       "238  593200.000              AF      5  "
      ]
     },
     "execution_count": 65,
     "metadata": {},
     "output_type": "execute_result"
    }
   ],
   "source": [
    "latest_df"
   ]
  },
  {
   "cell_type": "code",
   "execution_count": 64,
   "id": "ca6d72e0-d89d-4cd4-b1d3-6e753583ea58",
   "metadata": {},
   "outputs": [
    {
     "data": {
      "text/html": [
       "<div>\n",
       "<style scoped>\n",
       "    .dataframe tbody tr th:only-of-type {\n",
       "        vertical-align: middle;\n",
       "    }\n",
       "\n",
       "    .dataframe tbody tr th {\n",
       "        vertical-align: top;\n",
       "    }\n",
       "\n",
       "    .dataframe thead th {\n",
       "        text-align: right;\n",
       "    }\n",
       "</style>\n",
       "<table border=\"1\" class=\"dataframe\">\n",
       "  <thead>\n",
       "    <tr style=\"text-align: right;\">\n",
       "      <th></th>\n",
       "      <th>month</th>\n",
       "      <th>average_storage</th>\n",
       "      <th>reservoir_id</th>\n",
       "      <th>average_storage_value</th>\n",
       "      <th>average_storage_unit</th>\n",
       "    </tr>\n",
       "  </thead>\n",
       "  <tbody>\n",
       "    <tr>\n",
       "      <th>0</th>\n",
       "      <td>1</td>\n",
       "      <td>165,874 af</td>\n",
       "      <td>ATN</td>\n",
       "      <td>165874</td>\n",
       "      <td>af</td>\n",
       "    </tr>\n",
       "    <tr>\n",
       "      <th>1</th>\n",
       "      <td>2</td>\n",
       "      <td>180,481 af</td>\n",
       "      <td>ATN</td>\n",
       "      <td>180481</td>\n",
       "      <td>af</td>\n",
       "    </tr>\n",
       "    <tr>\n",
       "      <th>2</th>\n",
       "      <td>3</td>\n",
       "      <td>194,157 af</td>\n",
       "      <td>ATN</td>\n",
       "      <td>194157</td>\n",
       "      <td>af</td>\n",
       "    </tr>\n",
       "    <tr>\n",
       "      <th>3</th>\n",
       "      <td>4</td>\n",
       "      <td>197,293 af</td>\n",
       "      <td>ATN</td>\n",
       "      <td>197293</td>\n",
       "      <td>af</td>\n",
       "    </tr>\n",
       "    <tr>\n",
       "      <th>4</th>\n",
       "      <td>5</td>\n",
       "      <td>193,537 af</td>\n",
       "      <td>ATN</td>\n",
       "      <td>193537</td>\n",
       "      <td>af</td>\n",
       "    </tr>\n",
       "    <tr>\n",
       "      <th>...</th>\n",
       "      <td>...</td>\n",
       "      <td>...</td>\n",
       "      <td>...</td>\n",
       "      <td>...</td>\n",
       "      <td>...</td>\n",
       "    </tr>\n",
       "    <tr>\n",
       "      <th>1927</th>\n",
       "      <td>8</td>\n",
       "      <td>212,098 af</td>\n",
       "      <td>KLM</td>\n",
       "      <td>212098</td>\n",
       "      <td>af</td>\n",
       "    </tr>\n",
       "    <tr>\n",
       "      <th>1928</th>\n",
       "      <td>9</td>\n",
       "      <td>171,318 af</td>\n",
       "      <td>KLM</td>\n",
       "      <td>171318</td>\n",
       "      <td>af</td>\n",
       "    </tr>\n",
       "    <tr>\n",
       "      <th>1929</th>\n",
       "      <td>10</td>\n",
       "      <td>177,005 af</td>\n",
       "      <td>KLM</td>\n",
       "      <td>177005</td>\n",
       "      <td>af</td>\n",
       "    </tr>\n",
       "    <tr>\n",
       "      <th>1930</th>\n",
       "      <td>11</td>\n",
       "      <td>212,214 af</td>\n",
       "      <td>KLM</td>\n",
       "      <td>212214</td>\n",
       "      <td>af</td>\n",
       "    </tr>\n",
       "    <tr>\n",
       "      <th>1931</th>\n",
       "      <td>12</td>\n",
       "      <td>270,005 af</td>\n",
       "      <td>KLM</td>\n",
       "      <td>270005</td>\n",
       "      <td>af</td>\n",
       "    </tr>\n",
       "  </tbody>\n",
       "</table>\n",
       "<p>1932 rows × 5 columns</p>\n",
       "</div>"
      ],
      "text/plain": [
       "      month average_storage reservoir_id  average_storage_value  \\\n",
       "0         1      165,874 af          ATN                 165874   \n",
       "1         2      180,481 af          ATN                 180481   \n",
       "2         3      194,157 af          ATN                 194157   \n",
       "3         4      197,293 af          ATN                 197293   \n",
       "4         5      193,537 af          ATN                 193537   \n",
       "...     ...             ...          ...                    ...   \n",
       "1927      8      212,098 af          KLM                 212098   \n",
       "1928      9      171,318 af          KLM                 171318   \n",
       "1929     10      177,005 af          KLM                 177005   \n",
       "1930     11      212,214 af          KLM                 212214   \n",
       "1931     12      270,005 af          KLM                 270005   \n",
       "\n",
       "     average_storage_unit  \n",
       "0                      af  \n",
       "1                      af  \n",
       "2                      af  \n",
       "3                      af  \n",
       "4                      af  \n",
       "...                   ...  \n",
       "1927                   af  \n",
       "1928                   af  \n",
       "1929                   af  \n",
       "1930                   af  \n",
       "1931                   af  \n",
       "\n",
       "[1932 rows x 5 columns]"
      ]
     },
     "execution_count": 64,
     "metadata": {},
     "output_type": "execute_result"
    }
   ],
   "source": [
    "hist_df"
   ]
  },
  {
   "cell_type": "code",
   "execution_count": 66,
   "id": "3b4a73bb-fbba-44e8-97be-90512bc13bf7",
   "metadata": {},
   "outputs": [],
   "source": [
    "#hist_df[\"month\"] = pd.to_datetime(hist_df[\"month\"], format='%B').dt.month"
   ]
  },
  {
   "cell_type": "code",
   "execution_count": 67,
   "id": "2aa5e555-78f7-46d7-ae10-a480eb8b1cfe",
   "metadata": {},
   "outputs": [],
   "source": [
    "merge_historical = pd.merge(\n",
    "    latest_df[[\"reservoir_id\",\"date\",\"month\",\"storage_af\",\"units\"]],\n",
    "    hist_df[[\"reservoir_id\", \"month\", \"average_storage_value\", \"average_storage_unit\"]],\n",
    "    how=\"left\",\n",
    "    on=[\"reservoir_id\",\"month\"]\n",
    ")"
   ]
  },
  {
   "cell_type": "code",
   "execution_count": 71,
   "id": "c84fe492-1e78-4498-a85b-88380620fa20",
   "metadata": {},
   "outputs": [],
   "source": [
    "merge_details = pd.merge(\n",
    "    merge_historical,\n",
    "    details_df[[\"id\", \"lake\", \"capacity\"]],\n",
    "    how=\"left\",\n",
    "    left_on=[\"reservoir_id\"],\n",
    "    right_on=[\"id\"]\n",
    ")"
   ]
  },
  {
   "cell_type": "markdown",
   "id": "a9200178-e440-4545-99ea-0fc81e7182b4",
   "metadata": {},
   "source": [
    "### Calculate percentages"
   ]
  },
  {
   "cell_type": "code",
   "execution_count": 73,
   "id": "425b72be-98c0-4b15-9222-664b29588e2c",
   "metadata": {},
   "outputs": [],
   "source": [
    "merge_details[\"current_level_pct_of_total\"] = merge_details[\"storage_af\"] / merge_details[\"capacity\"]"
   ]
  },
  {
   "cell_type": "code",
   "execution_count": 74,
   "id": "86c5850e-6f00-4087-8ea7-d9dbae910a39",
   "metadata": {},
   "outputs": [],
   "source": [
    "merge_details[\"average_level_pct_of_total\"] = merge_details[\"average_storage_value\"] / merge_details[\"capacity\"]"
   ]
  },
  {
   "cell_type": "code",
   "execution_count": 76,
   "id": "787733db-9e5d-445d-a4db-a4f4f558c77d",
   "metadata": {},
   "outputs": [],
   "source": [
    "merge_details[\"current_level_pct_of_avg\"] = merge_details[\"storage_af\"] / merge_details[\"average_storage_value\"]"
   ]
  },
  {
   "cell_type": "code",
   "execution_count": 77,
   "id": "2e7e8648-efde-4069-ae9f-5676cdd6f7dd",
   "metadata": {},
   "outputs": [
    {
     "data": {
      "text/html": [
       "<div>\n",
       "<style scoped>\n",
       "    .dataframe tbody tr th:only-of-type {\n",
       "        vertical-align: middle;\n",
       "    }\n",
       "\n",
       "    .dataframe tbody tr th {\n",
       "        vertical-align: top;\n",
       "    }\n",
       "\n",
       "    .dataframe thead th {\n",
       "        text-align: right;\n",
       "    }\n",
       "</style>\n",
       "<table border=\"1\" class=\"dataframe\">\n",
       "  <thead>\n",
       "    <tr style=\"text-align: right;\">\n",
       "      <th></th>\n",
       "      <th>reservoir_id</th>\n",
       "      <th>date</th>\n",
       "      <th>month</th>\n",
       "      <th>storage_af</th>\n",
       "      <th>units</th>\n",
       "      <th>average_storage_value</th>\n",
       "      <th>average_storage_unit</th>\n",
       "      <th>id</th>\n",
       "      <th>lake</th>\n",
       "      <th>capacity</th>\n",
       "      <th>current_level_pct_of_total</th>\n",
       "      <th>average_level_pct_of_total</th>\n",
       "      <th>current_level_pct_of_avg</th>\n",
       "    </tr>\n",
       "  </thead>\n",
       "  <tbody>\n",
       "    <tr>\n",
       "      <th>0</th>\n",
       "      <td>MHV</td>\n",
       "      <td>2022-05-01</td>\n",
       "      <td>5</td>\n",
       "      <td>1708200.000</td>\n",
       "      <td>AF</td>\n",
       "      <td>1715533</td>\n",
       "      <td>af</td>\n",
       "      <td>MHV</td>\n",
       "      <td>Lake Mohave</td>\n",
       "      <td>1810000.000</td>\n",
       "      <td>0.944</td>\n",
       "      <td>0.948</td>\n",
       "      <td>0.996</td>\n",
       "    </tr>\n",
       "    <tr>\n",
       "      <th>1</th>\n",
       "      <td>PWL</td>\n",
       "      <td>2022-05-01</td>\n",
       "      <td>5</td>\n",
       "      <td>6346000.000</td>\n",
       "      <td>AF</td>\n",
       "      <td>15119302</td>\n",
       "      <td>af</td>\n",
       "      <td>PWL</td>\n",
       "      <td>Lake Powell</td>\n",
       "      <td>24322000.000</td>\n",
       "      <td>0.261</td>\n",
       "      <td>0.622</td>\n",
       "      <td>0.420</td>\n",
       "    </tr>\n",
       "    <tr>\n",
       "      <th>2</th>\n",
       "      <td>MEA</td>\n",
       "      <td>2022-05-01</td>\n",
       "      <td>5</td>\n",
       "      <td>7517000.000</td>\n",
       "      <td>AF</td>\n",
       "      <td>15790500</td>\n",
       "      <td>af</td>\n",
       "      <td>MEA</td>\n",
       "      <td>Lake Mead</td>\n",
       "      <td>26159008.000</td>\n",
       "      <td>0.287</td>\n",
       "      <td>0.604</td>\n",
       "      <td>0.476</td>\n",
       "    </tr>\n",
       "    <tr>\n",
       "      <th>3</th>\n",
       "      <td>HVS</td>\n",
       "      <td>2022-05-01</td>\n",
       "      <td>5</td>\n",
       "      <td>593200.000</td>\n",
       "      <td>AF</td>\n",
       "      <td>593833</td>\n",
       "      <td>af</td>\n",
       "      <td>HVS</td>\n",
       "      <td>Lake Havasu</td>\n",
       "      <td>648000.000</td>\n",
       "      <td>0.915</td>\n",
       "      <td>0.916</td>\n",
       "      <td>0.999</td>\n",
       "    </tr>\n",
       "  </tbody>\n",
       "</table>\n",
       "</div>"
      ],
      "text/plain": [
       "  reservoir_id       date  month  storage_af units  average_storage_value  \\\n",
       "0          MHV 2022-05-01      5 1708200.000    AF                1715533   \n",
       "1          PWL 2022-05-01      5 6346000.000    AF               15119302   \n",
       "2          MEA 2022-05-01      5 7517000.000    AF               15790500   \n",
       "3          HVS 2022-05-01      5  593200.000    AF                 593833   \n",
       "\n",
       "  average_storage_unit   id         lake     capacity  \\\n",
       "0                   af  MHV  Lake Mohave  1810000.000   \n",
       "1                   af  PWL  Lake Powell 24322000.000   \n",
       "2                   af  MEA    Lake Mead 26159008.000   \n",
       "3                   af  HVS  Lake Havasu   648000.000   \n",
       "\n",
       "   current_level_pct_of_total  average_level_pct_of_total  \\\n",
       "0                       0.944                       0.948   \n",
       "1                       0.261                       0.622   \n",
       "2                       0.287                       0.604   \n",
       "3                       0.915                       0.916   \n",
       "\n",
       "   current_level_pct_of_avg  \n",
       "0                     0.996  \n",
       "1                     0.420  \n",
       "2                     0.476  \n",
       "3                     0.999  "
      ]
     },
     "execution_count": 77,
     "metadata": {},
     "output_type": "execute_result"
    }
   ],
   "source": [
    "merge_details"
   ]
  },
  {
   "cell_type": "markdown",
   "id": "245a2e31-efcd-48bf-9ac1-73d56f22190c",
   "metadata": {},
   "source": [
    "Drop missing values"
   ]
  },
  {
   "cell_type": "code",
   "execution_count": 78,
   "id": "84f0e900-824e-4cd3-8593-90f6b6b23159",
   "metadata": {},
   "outputs": [],
   "source": [
    "#drop_na = major_reservoirs.dropna(subset=[\"storage_af\",\"average_storage_value\"])"
   ]
  },
  {
   "cell_type": "code",
   "execution_count": 79,
   "id": "ffdd0e72-a387-41a4-8fb5-bc6fe196d66f",
   "metadata": {},
   "outputs": [],
   "source": [
    "#len(drop_na)"
   ]
  },
  {
   "cell_type": "code",
   "execution_count": 80,
   "id": "7e181eeb-82c6-49e4-a6d4-e398860fb852",
   "metadata": {},
   "outputs": [],
   "source": [
    "melt=pd.melt(merge_details, id_vars=\"reservoir_id\", value_vars=[\"storage_af\", \"average_storage_value\", \"capacity\"])"
   ]
  },
  {
   "cell_type": "code",
   "execution_count": 81,
   "id": "683e57e6-d902-42c8-b8ed-90daff0e22da",
   "metadata": {},
   "outputs": [],
   "source": [
    "bar_order = {\n",
    "    \"storage_af\": 1, \n",
    "    \"average_storage_value\": 2, \n",
    "    \"capacity\":3            \n",
    "}"
   ]
  },
  {
   "cell_type": "code",
   "execution_count": 82,
   "id": "2d535d8f-5141-47bd-b988-f02e435c128a",
   "metadata": {},
   "outputs": [],
   "source": [
    "melt[\"bar_order\"] = melt.variable.map(bar_order)"
   ]
  },
  {
   "cell_type": "code",
   "execution_count": 84,
   "id": "d2af6d05-c390-4a8b-9f53-a9e0d272da79",
   "metadata": {},
   "outputs": [
    {
     "data": {
      "text/html": [
       "\n",
       "<div id=\"altair-viz-3753ee0fc9b7491ab8980676ade537c2\"></div>\n",
       "<script type=\"text/javascript\">\n",
       "  var VEGA_DEBUG = (typeof VEGA_DEBUG == \"undefined\") ? {} : VEGA_DEBUG;\n",
       "  (function(spec, embedOpt){\n",
       "    let outputDiv = document.currentScript.previousElementSibling;\n",
       "    if (outputDiv.id !== \"altair-viz-3753ee0fc9b7491ab8980676ade537c2\") {\n",
       "      outputDiv = document.getElementById(\"altair-viz-3753ee0fc9b7491ab8980676ade537c2\");\n",
       "    }\n",
       "    const paths = {\n",
       "      \"vega\": \"https://cdn.jsdelivr.net/npm//vega@5?noext\",\n",
       "      \"vega-lib\": \"https://cdn.jsdelivr.net/npm//vega-lib?noext\",\n",
       "      \"vega-lite\": \"https://cdn.jsdelivr.net/npm//vega-lite@4.17.0?noext\",\n",
       "      \"vega-embed\": \"https://cdn.jsdelivr.net/npm//vega-embed@6?noext\",\n",
       "    };\n",
       "\n",
       "    function maybeLoadScript(lib, version) {\n",
       "      var key = `${lib.replace(\"-\", \"\")}_version`;\n",
       "      return (VEGA_DEBUG[key] == version) ?\n",
       "        Promise.resolve(paths[lib]) :\n",
       "        new Promise(function(resolve, reject) {\n",
       "          var s = document.createElement('script');\n",
       "          document.getElementsByTagName(\"head\")[0].appendChild(s);\n",
       "          s.async = true;\n",
       "          s.onload = () => {\n",
       "            VEGA_DEBUG[key] = version;\n",
       "            return resolve(paths[lib]);\n",
       "          };\n",
       "          s.onerror = () => reject(`Error loading script: ${paths[lib]}`);\n",
       "          s.src = paths[lib];\n",
       "        });\n",
       "    }\n",
       "\n",
       "    function showError(err) {\n",
       "      outputDiv.innerHTML = `<div class=\"error\" style=\"color:red;\">${err}</div>`;\n",
       "      throw err;\n",
       "    }\n",
       "\n",
       "    function displayChart(vegaEmbed) {\n",
       "      vegaEmbed(outputDiv, spec, embedOpt)\n",
       "        .catch(err => showError(`Javascript Error: ${err.message}<br>This usually means there's a typo in your chart specification. See the javascript console for the full traceback.`));\n",
       "    }\n",
       "\n",
       "    if(typeof define === \"function\" && define.amd) {\n",
       "      requirejs.config({paths});\n",
       "      require([\"vega-embed\"], displayChart, err => showError(`Error loading script: ${err.message}`));\n",
       "    } else {\n",
       "      maybeLoadScript(\"vega\", \"5\")\n",
       "        .then(() => maybeLoadScript(\"vega-lite\", \"4.17.0\"))\n",
       "        .then(() => maybeLoadScript(\"vega-embed\", \"6\"))\n",
       "        .catch(showError)\n",
       "        .then(() => displayChart(vegaEmbed));\n",
       "    }\n",
       "  })({\"config\": {\"view\": {\"width\": 800, \"height\": 450}, \"background\": \"#ffffff\", \"title\": {\"anchor\": \"start\", \"font\": \"BentonGothic-Bold, sans\", \"fontColor\": \"#000000\", \"fontSize\": 22, \"fontWeight\": \"normal\"}, \"arc\": {\"fill\": \"#82c6df\"}, \"area\": {\"fill\": \"#82c6df\"}, \"line\": {\"stroke\": \"#82c6df\", \"strokeWidth\": 3}, \"path\": {\"stroke\": \"#82c6df\"}, \"rect\": {\"fill\": \"#82c6df\"}, \"shape\": {\"stroke\": \"#82c6df\"}, \"bar\": {\"fill\": \"#82c6df\"}, \"point\": {\"stroke\": \"#82c6df\"}, \"symbol\": {\"fill\": \"#82c6df\", \"size\": 30}, \"axis\": {\"titleFont\": \"BentonGothic-Bold, sans\", \"titleFontSize\": 14, \"titleFontWeight\": \"normal\", \"labelFont\": \"BentonGothic, sans\", \"labelFontSize\": 12, \"labelFontWeight\": \"normal\"}, \"axisX\": {\"labelAngle\": 0, \"labelPadding\": 4, \"tickSize\": 3}, \"axisY\": {\"labelBaseline\": \"middle\", \"maxExtent\": 45, \"minExtent\": 45, \"tickSize\": 2, \"titleAlign\": \"left\", \"titleAngle\": 0, \"titleX\": -45, \"titleY\": -11}, \"legend\": {\"titleFont\": \"BentonGothic-Bold, sans\", \"titleFontSize\": 14, \"titleFontWeight\": \"normal\", \"symbolType\": \"square\", \"labelFont\": \"BentonGothic, sans\", \"labelFontSize\": 13}, \"range\": {\"category\": [\"#3580b1\", \"#ec8431\", \"#ab7fb4\", \"#c89d29\", \"#adc839\", \"#829eb1\"], \"diverging\": [\"#e68a4f\", \"#f4bb6a\", \"#f9e39c\", \"#dadfe2\", \"#a6b7c6\", \"#849eae\"], \"heatmap\": [\"#fbf2c7\", \"#f9e39c\", \"#f8d36e\", \"#f4bb6a\", \"#e68a4f\", \"#d15a40\", \"#ab4232\"], \"ordinal\": [\"#fbf2c7\", \"#f9e39c\", \"#f8d36e\", \"#f4bb6a\", \"#e68a4f\", \"#d15a40\", \"#ab4232\"], \"ramp\": [\"#fbf2c7\", \"#f9e39c\", \"#f8d36e\", \"#f4bb6a\", \"#e68a4f\", \"#d15a40\", \"#ab4232\"]}}, \"data\": {\"name\": \"data-6a8b08a3e1ee1bb80524164620c0a627\"}, \"mark\": \"bar\", \"encoding\": {\"color\": {\"field\": \"variable\", \"scale\": {\"domain\": [\"capacity\", \"average_storage_value\", \"storage_af\"], \"range\": [\"#ddd\", \"#83c6e0\", \"#1281aa\"]}, \"type\": \"nominal\"}, \"order\": {\"field\": \"bar_order\", \"type\": \"quantitative\"}, \"tooltip\": [{\"field\": \"reservoir_id\", \"type\": \"nominal\"}], \"x\": {\"axis\": {\"labels\": false}, \"field\": \"reservoir_id\", \"type\": \"nominal\"}, \"y\": {\"field\": \"value\", \"stack\": \"normalize\", \"type\": \"quantitative\"}}, \"title\": \"Reservoirs of the lower Colorado River Basin\", \"$schema\": \"https://vega.github.io/schema/vega-lite/v4.17.0.json\", \"datasets\": {\"data-6a8b08a3e1ee1bb80524164620c0a627\": [{\"reservoir_id\": \"MHV\", \"variable\": \"storage_af\", \"value\": 1708200.0, \"bar_order\": 1}, {\"reservoir_id\": \"PWL\", \"variable\": \"storage_af\", \"value\": 6346000.0, \"bar_order\": 1}, {\"reservoir_id\": \"MEA\", \"variable\": \"storage_af\", \"value\": 7517000.0, \"bar_order\": 1}, {\"reservoir_id\": \"HVS\", \"variable\": \"storage_af\", \"value\": 593200.0, \"bar_order\": 1}, {\"reservoir_id\": \"MHV\", \"variable\": \"average_storage_value\", \"value\": 1715533.0, \"bar_order\": 2}, {\"reservoir_id\": \"PWL\", \"variable\": \"average_storage_value\", \"value\": 15119302.0, \"bar_order\": 2}, {\"reservoir_id\": \"MEA\", \"variable\": \"average_storage_value\", \"value\": 15790500.0, \"bar_order\": 2}, {\"reservoir_id\": \"HVS\", \"variable\": \"average_storage_value\", \"value\": 593833.0, \"bar_order\": 2}, {\"reservoir_id\": \"MHV\", \"variable\": \"capacity\", \"value\": 1810000.0, \"bar_order\": 3}, {\"reservoir_id\": \"PWL\", \"variable\": \"capacity\", \"value\": 24322000.0, \"bar_order\": 3}, {\"reservoir_id\": \"MEA\", \"variable\": \"capacity\", \"value\": 26159008.0, \"bar_order\": 3}, {\"reservoir_id\": \"HVS\", \"variable\": \"capacity\", \"value\": 648000.0, \"bar_order\": 3}]}}, {\"mode\": \"vega-lite\"});\n",
       "</script>"
      ],
      "text/plain": [
       "alt.Chart(...)"
      ]
     },
     "execution_count": 84,
     "metadata": {},
     "output_type": "execute_result"
    }
   ],
   "source": [
    "domain = [\"capacity\", \"average_storage_value\", \"storage_af\", ]\n",
    "range_ = ['#ddd', '#83c6e0', '#1281aa', ]\n",
    "\n",
    "alt.Chart(melt).mark_bar().encode(\n",
    "    x=alt.X('reservoir_id', axis=alt.Axis(labels=False)),\n",
    "    y=alt.Y('value',stack=\"normalize\"),\n",
    "    order=\"bar_order\",\n",
    "    color=alt.Color(\n",
    "        'variable', \n",
    "        scale=alt.Scale(domain=domain, range=range_), \n",
    "        #sort='descending'\n",
    "    ),\n",
    "    tooltip=[\"reservoir_id\"]\n",
    ").properties(title=\"Reservoirs of the lower Colorado River Basin\")"
   ]
  },
  {
   "cell_type": "code",
   "execution_count": 89,
   "id": "4509bf84-6855-443c-9ec1-01c63d2ffc8d",
   "metadata": {},
   "outputs": [
    {
     "data": {
      "text/html": [
       "\n",
       "<div id=\"altair-viz-3472d3f452fd4f7dbc203c15d9d61f8e\"></div>\n",
       "<script type=\"text/javascript\">\n",
       "  var VEGA_DEBUG = (typeof VEGA_DEBUG == \"undefined\") ? {} : VEGA_DEBUG;\n",
       "  (function(spec, embedOpt){\n",
       "    let outputDiv = document.currentScript.previousElementSibling;\n",
       "    if (outputDiv.id !== \"altair-viz-3472d3f452fd4f7dbc203c15d9d61f8e\") {\n",
       "      outputDiv = document.getElementById(\"altair-viz-3472d3f452fd4f7dbc203c15d9d61f8e\");\n",
       "    }\n",
       "    const paths = {\n",
       "      \"vega\": \"https://cdn.jsdelivr.net/npm//vega@5?noext\",\n",
       "      \"vega-lib\": \"https://cdn.jsdelivr.net/npm//vega-lib?noext\",\n",
       "      \"vega-lite\": \"https://cdn.jsdelivr.net/npm//vega-lite@4.17.0?noext\",\n",
       "      \"vega-embed\": \"https://cdn.jsdelivr.net/npm//vega-embed@6?noext\",\n",
       "    };\n",
       "\n",
       "    function maybeLoadScript(lib, version) {\n",
       "      var key = `${lib.replace(\"-\", \"\")}_version`;\n",
       "      return (VEGA_DEBUG[key] == version) ?\n",
       "        Promise.resolve(paths[lib]) :\n",
       "        new Promise(function(resolve, reject) {\n",
       "          var s = document.createElement('script');\n",
       "          document.getElementsByTagName(\"head\")[0].appendChild(s);\n",
       "          s.async = true;\n",
       "          s.onload = () => {\n",
       "            VEGA_DEBUG[key] = version;\n",
       "            return resolve(paths[lib]);\n",
       "          };\n",
       "          s.onerror = () => reject(`Error loading script: ${paths[lib]}`);\n",
       "          s.src = paths[lib];\n",
       "        });\n",
       "    }\n",
       "\n",
       "    function showError(err) {\n",
       "      outputDiv.innerHTML = `<div class=\"error\" style=\"color:red;\">${err}</div>`;\n",
       "      throw err;\n",
       "    }\n",
       "\n",
       "    function displayChart(vegaEmbed) {\n",
       "      vegaEmbed(outputDiv, spec, embedOpt)\n",
       "        .catch(err => showError(`Javascript Error: ${err.message}<br>This usually means there's a typo in your chart specification. See the javascript console for the full traceback.`));\n",
       "    }\n",
       "\n",
       "    if(typeof define === \"function\" && define.amd) {\n",
       "      requirejs.config({paths});\n",
       "      require([\"vega-embed\"], displayChart, err => showError(`Error loading script: ${err.message}`));\n",
       "    } else {\n",
       "      maybeLoadScript(\"vega\", \"5\")\n",
       "        .then(() => maybeLoadScript(\"vega-lite\", \"4.17.0\"))\n",
       "        .then(() => maybeLoadScript(\"vega-embed\", \"6\"))\n",
       "        .catch(showError)\n",
       "        .then(() => displayChart(vegaEmbed));\n",
       "    }\n",
       "  })({\"config\": {\"view\": {\"width\": 800, \"height\": 450}, \"background\": \"#ffffff\", \"title\": {\"anchor\": \"start\", \"font\": \"BentonGothic-Bold, sans\", \"fontColor\": \"#000000\", \"fontSize\": 22, \"fontWeight\": \"normal\"}, \"arc\": {\"fill\": \"#82c6df\"}, \"area\": {\"fill\": \"#82c6df\"}, \"line\": {\"stroke\": \"#82c6df\", \"strokeWidth\": 3}, \"path\": {\"stroke\": \"#82c6df\"}, \"rect\": {\"fill\": \"#82c6df\"}, \"shape\": {\"stroke\": \"#82c6df\"}, \"bar\": {\"fill\": \"#82c6df\"}, \"point\": {\"stroke\": \"#82c6df\"}, \"symbol\": {\"fill\": \"#82c6df\", \"size\": 30}, \"axis\": {\"titleFont\": \"BentonGothic-Bold, sans\", \"titleFontSize\": 14, \"titleFontWeight\": \"normal\", \"labelFont\": \"BentonGothic, sans\", \"labelFontSize\": 12, \"labelFontWeight\": \"normal\"}, \"axisX\": {\"labelAngle\": 0, \"labelPadding\": 4, \"tickSize\": 3}, \"axisY\": {\"labelBaseline\": \"middle\", \"maxExtent\": 45, \"minExtent\": 45, \"tickSize\": 2, \"titleAlign\": \"left\", \"titleAngle\": 0, \"titleX\": -45, \"titleY\": -11}, \"legend\": {\"titleFont\": \"BentonGothic-Bold, sans\", \"titleFontSize\": 14, \"titleFontWeight\": \"normal\", \"symbolType\": \"square\", \"labelFont\": \"BentonGothic, sans\", \"labelFontSize\": 13}, \"range\": {\"category\": [\"#3580b1\", \"#ec8431\", \"#ab7fb4\", \"#c89d29\", \"#adc839\", \"#829eb1\"], \"diverging\": [\"#e68a4f\", \"#f4bb6a\", \"#f9e39c\", \"#dadfe2\", \"#a6b7c6\", \"#849eae\"], \"heatmap\": [\"#fbf2c7\", \"#f9e39c\", \"#f8d36e\", \"#f4bb6a\", \"#e68a4f\", \"#d15a40\", \"#ab4232\"], \"ordinal\": [\"#fbf2c7\", \"#f9e39c\", \"#f8d36e\", \"#f4bb6a\", \"#e68a4f\", \"#d15a40\", \"#ab4232\"], \"ramp\": [\"#fbf2c7\", \"#f9e39c\", \"#f8d36e\", \"#f4bb6a\", \"#e68a4f\", \"#d15a40\", \"#ab4232\"]}}, \"data\": {\"name\": \"data-6a8b08a3e1ee1bb80524164620c0a627\"}, \"mark\": \"bar\", \"encoding\": {\"color\": {\"field\": \"variable\", \"scale\": {\"domain\": [\"capacity\", \"average_storage_value\", \"storage_af\"], \"range\": [\"#ddd\", \"#83c6e0\", \"#1281aa\"]}, \"type\": \"nominal\"}, \"order\": {\"field\": \"bar_order\", \"type\": \"quantitative\"}, \"tooltip\": [{\"field\": \"reservoir_id\", \"type\": \"nominal\"}], \"x\": {\"axis\": {\"labels\": false}, \"field\": \"reservoir_id\", \"type\": \"nominal\"}, \"y\": {\"field\": \"value\", \"stack\": \"normalize\", \"type\": \"quantitative\"}}, \"title\": \"Reservoirs of the lower Colorado River Basin\", \"$schema\": \"https://vega.github.io/schema/vega-lite/v4.17.0.json\", \"datasets\": {\"data-6a8b08a3e1ee1bb80524164620c0a627\": [{\"reservoir_id\": \"MHV\", \"variable\": \"storage_af\", \"value\": 1708200.0, \"bar_order\": 1}, {\"reservoir_id\": \"PWL\", \"variable\": \"storage_af\", \"value\": 6346000.0, \"bar_order\": 1}, {\"reservoir_id\": \"MEA\", \"variable\": \"storage_af\", \"value\": 7517000.0, \"bar_order\": 1}, {\"reservoir_id\": \"HVS\", \"variable\": \"storage_af\", \"value\": 593200.0, \"bar_order\": 1}, {\"reservoir_id\": \"MHV\", \"variable\": \"average_storage_value\", \"value\": 1715533.0, \"bar_order\": 2}, {\"reservoir_id\": \"PWL\", \"variable\": \"average_storage_value\", \"value\": 15119302.0, \"bar_order\": 2}, {\"reservoir_id\": \"MEA\", \"variable\": \"average_storage_value\", \"value\": 15790500.0, \"bar_order\": 2}, {\"reservoir_id\": \"HVS\", \"variable\": \"average_storage_value\", \"value\": 593833.0, \"bar_order\": 2}, {\"reservoir_id\": \"MHV\", \"variable\": \"capacity\", \"value\": 1810000.0, \"bar_order\": 3}, {\"reservoir_id\": \"PWL\", \"variable\": \"capacity\", \"value\": 24322000.0, \"bar_order\": 3}, {\"reservoir_id\": \"MEA\", \"variable\": \"capacity\", \"value\": 26159008.0, \"bar_order\": 3}, {\"reservoir_id\": \"HVS\", \"variable\": \"capacity\", \"value\": 648000.0, \"bar_order\": 3}]}}, {\"mode\": \"vega-lite\"});\n",
       "</script>"
      ],
      "text/plain": [
       "alt.Chart(...)"
      ]
     },
     "execution_count": 89,
     "metadata": {},
     "output_type": "execute_result"
    }
   ],
   "source": [
    "domain = [\"capacity\", \"average_storage_value\", \"storage_af\", ]\n",
    "range_ = ['#ddd', '#83c6e0', '#1281aa', ]\n",
    "\n",
    "alt.Chart(melt[melt.variable != \"capacity_value\"]).mark_bar().encode(\n",
    "    x=alt.X('reservoir_id', axis=alt.Axis(labels=False)),\n",
    "    y=alt.Y('value',stack=\"normalize\"),\n",
    "    order=\"bar_order\",\n",
    "    color=alt.Color(\n",
    "        'variable', \n",
    "        scale=alt.Scale(domain=domain, range=range_), \n",
    "        #sort='descending'\n",
    "    ),\n",
    "    tooltip=[\"reservoir_id\"]\n",
    ").properties(title=\"Reservoirs of the lower Colorado River Basin\")"
   ]
  },
  {
   "cell_type": "code",
   "execution_count": 88,
   "id": "dfe87068-cfd2-4a93-b3d8-9650000607f5",
   "metadata": {},
   "outputs": [
    {
     "data": {
      "text/html": [
       "\n",
       "<div id=\"altair-viz-1257c04d331e472bafdd2decfa988566\"></div>\n",
       "<script type=\"text/javascript\">\n",
       "  var VEGA_DEBUG = (typeof VEGA_DEBUG == \"undefined\") ? {} : VEGA_DEBUG;\n",
       "  (function(spec, embedOpt){\n",
       "    let outputDiv = document.currentScript.previousElementSibling;\n",
       "    if (outputDiv.id !== \"altair-viz-1257c04d331e472bafdd2decfa988566\") {\n",
       "      outputDiv = document.getElementById(\"altair-viz-1257c04d331e472bafdd2decfa988566\");\n",
       "    }\n",
       "    const paths = {\n",
       "      \"vega\": \"https://cdn.jsdelivr.net/npm//vega@5?noext\",\n",
       "      \"vega-lib\": \"https://cdn.jsdelivr.net/npm//vega-lib?noext\",\n",
       "      \"vega-lite\": \"https://cdn.jsdelivr.net/npm//vega-lite@4.17.0?noext\",\n",
       "      \"vega-embed\": \"https://cdn.jsdelivr.net/npm//vega-embed@6?noext\",\n",
       "    };\n",
       "\n",
       "    function maybeLoadScript(lib, version) {\n",
       "      var key = `${lib.replace(\"-\", \"\")}_version`;\n",
       "      return (VEGA_DEBUG[key] == version) ?\n",
       "        Promise.resolve(paths[lib]) :\n",
       "        new Promise(function(resolve, reject) {\n",
       "          var s = document.createElement('script');\n",
       "          document.getElementsByTagName(\"head\")[0].appendChild(s);\n",
       "          s.async = true;\n",
       "          s.onload = () => {\n",
       "            VEGA_DEBUG[key] = version;\n",
       "            return resolve(paths[lib]);\n",
       "          };\n",
       "          s.onerror = () => reject(`Error loading script: ${paths[lib]}`);\n",
       "          s.src = paths[lib];\n",
       "        });\n",
       "    }\n",
       "\n",
       "    function showError(err) {\n",
       "      outputDiv.innerHTML = `<div class=\"error\" style=\"color:red;\">${err}</div>`;\n",
       "      throw err;\n",
       "    }\n",
       "\n",
       "    function displayChart(vegaEmbed) {\n",
       "      vegaEmbed(outputDiv, spec, embedOpt)\n",
       "        .catch(err => showError(`Javascript Error: ${err.message}<br>This usually means there's a typo in your chart specification. See the javascript console for the full traceback.`));\n",
       "    }\n",
       "\n",
       "    if(typeof define === \"function\" && define.amd) {\n",
       "      requirejs.config({paths});\n",
       "      require([\"vega-embed\"], displayChart, err => showError(`Error loading script: ${err.message}`));\n",
       "    } else {\n",
       "      maybeLoadScript(\"vega\", \"5\")\n",
       "        .then(() => maybeLoadScript(\"vega-lite\", \"4.17.0\"))\n",
       "        .then(() => maybeLoadScript(\"vega-embed\", \"6\"))\n",
       "        .catch(showError)\n",
       "        .then(() => displayChart(vegaEmbed));\n",
       "    }\n",
       "  })({\"config\": {\"view\": {\"width\": 800, \"height\": 450}, \"background\": \"#ffffff\", \"title\": {\"anchor\": \"start\", \"font\": \"BentonGothic-Bold, sans\", \"fontColor\": \"#000000\", \"fontSize\": 22, \"fontWeight\": \"normal\"}, \"arc\": {\"fill\": \"#82c6df\"}, \"area\": {\"fill\": \"#82c6df\"}, \"line\": {\"stroke\": \"#82c6df\", \"strokeWidth\": 3}, \"path\": {\"stroke\": \"#82c6df\"}, \"rect\": {\"fill\": \"#82c6df\"}, \"shape\": {\"stroke\": \"#82c6df\"}, \"bar\": {\"fill\": \"#82c6df\"}, \"point\": {\"stroke\": \"#82c6df\"}, \"symbol\": {\"fill\": \"#82c6df\", \"size\": 30}, \"axis\": {\"titleFont\": \"BentonGothic-Bold, sans\", \"titleFontSize\": 14, \"titleFontWeight\": \"normal\", \"labelFont\": \"BentonGothic, sans\", \"labelFontSize\": 12, \"labelFontWeight\": \"normal\"}, \"axisX\": {\"labelAngle\": 0, \"labelPadding\": 4, \"tickSize\": 3}, \"axisY\": {\"labelBaseline\": \"middle\", \"maxExtent\": 45, \"minExtent\": 45, \"tickSize\": 2, \"titleAlign\": \"left\", \"titleAngle\": 0, \"titleX\": -45, \"titleY\": -11}, \"legend\": {\"titleFont\": \"BentonGothic-Bold, sans\", \"titleFontSize\": 14, \"titleFontWeight\": \"normal\", \"symbolType\": \"square\", \"labelFont\": \"BentonGothic, sans\", \"labelFontSize\": 13}, \"range\": {\"category\": [\"#3580b1\", \"#ec8431\", \"#ab7fb4\", \"#c89d29\", \"#adc839\", \"#829eb1\"], \"diverging\": [\"#e68a4f\", \"#f4bb6a\", \"#f9e39c\", \"#dadfe2\", \"#a6b7c6\", \"#849eae\"], \"heatmap\": [\"#fbf2c7\", \"#f9e39c\", \"#f8d36e\", \"#f4bb6a\", \"#e68a4f\", \"#d15a40\", \"#ab4232\"], \"ordinal\": [\"#fbf2c7\", \"#f9e39c\", \"#f8d36e\", \"#f4bb6a\", \"#e68a4f\", \"#d15a40\", \"#ab4232\"], \"ramp\": [\"#fbf2c7\", \"#f9e39c\", \"#f8d36e\", \"#f4bb6a\", \"#e68a4f\", \"#d15a40\", \"#ab4232\"]}}, \"data\": {\"name\": \"data-24b2a5d85a635e2e96ad26153ff3eeee\"}, \"mark\": \"bar\", \"encoding\": {\"color\": {\"field\": \"variable\", \"scale\": {\"domain\": [\"capacity\", \"average_storage_value\", \"storage_af\"], \"range\": [\"#ddd\", \"#83c6e0\", \"#1281aa\"]}, \"type\": \"nominal\"}, \"order\": {\"field\": \"bar_order\", \"type\": \"quantitative\"}, \"tooltip\": [{\"field\": \"reservoir_id\", \"type\": \"nominal\"}], \"x\": {\"axis\": {\"labels\": false}, \"field\": \"reservoir_id\", \"type\": \"nominal\"}, \"y\": {\"field\": \"value\", \"stack\": \"normalize\", \"type\": \"quantitative\"}}, \"title\": \"Lake Mead\", \"width\": 150, \"$schema\": \"https://vega.github.io/schema/vega-lite/v4.17.0.json\", \"datasets\": {\"data-24b2a5d85a635e2e96ad26153ff3eeee\": [{\"reservoir_id\": \"MEA\", \"variable\": \"storage_af\", \"value\": 7517000.0, \"bar_order\": 1}, {\"reservoir_id\": \"MEA\", \"variable\": \"average_storage_value\", \"value\": 15790500.0, \"bar_order\": 2}, {\"reservoir_id\": \"MEA\", \"variable\": \"capacity\", \"value\": 26159008.0, \"bar_order\": 3}]}}, {\"mode\": \"vega-lite\"});\n",
       "</script>"
      ],
      "text/plain": [
       "alt.Chart(...)"
      ]
     },
     "execution_count": 88,
     "metadata": {},
     "output_type": "execute_result"
    }
   ],
   "source": [
    "domain = [\"capacity\", \"average_storage_value\", \"storage_af\", ]\n",
    "range_ = ['#ddd', '#83c6e0', '#1281aa', ]\n",
    "\n",
    "alt.Chart(melt[melt.reservoir_id==\"MEA\"]).mark_bar().encode(\n",
    "    x=alt.X('reservoir_id', axis=alt.Axis(labels=False)),\n",
    "    y=alt.Y('value',stack=\"normalize\"),\n",
    "    order=\"bar_order\",\n",
    "    color=alt.Color(\n",
    "        'variable', \n",
    "        scale=alt.Scale(domain=domain, range=range_), \n",
    "        #sort='descending'\n",
    "    ),\n",
    "    tooltip=[\"reservoir_id\"]\n",
    ").properties(title=\"Lake Mead\", width=150)"
   ]
  },
  {
   "cell_type": "code",
   "execution_count": 92,
   "id": "f696f52a-44ad-410a-8879-614427a4e627",
   "metadata": {},
   "outputs": [
    {
     "data": {
      "text/html": [
       "\n",
       "<div id=\"altair-viz-014d7c201b8b45b49d4d504f5de6a9d1\"></div>\n",
       "<script type=\"text/javascript\">\n",
       "  var VEGA_DEBUG = (typeof VEGA_DEBUG == \"undefined\") ? {} : VEGA_DEBUG;\n",
       "  (function(spec, embedOpt){\n",
       "    let outputDiv = document.currentScript.previousElementSibling;\n",
       "    if (outputDiv.id !== \"altair-viz-014d7c201b8b45b49d4d504f5de6a9d1\") {\n",
       "      outputDiv = document.getElementById(\"altair-viz-014d7c201b8b45b49d4d504f5de6a9d1\");\n",
       "    }\n",
       "    const paths = {\n",
       "      \"vega\": \"https://cdn.jsdelivr.net/npm//vega@5?noext\",\n",
       "      \"vega-lib\": \"https://cdn.jsdelivr.net/npm//vega-lib?noext\",\n",
       "      \"vega-lite\": \"https://cdn.jsdelivr.net/npm//vega-lite@4.17.0?noext\",\n",
       "      \"vega-embed\": \"https://cdn.jsdelivr.net/npm//vega-embed@6?noext\",\n",
       "    };\n",
       "\n",
       "    function maybeLoadScript(lib, version) {\n",
       "      var key = `${lib.replace(\"-\", \"\")}_version`;\n",
       "      return (VEGA_DEBUG[key] == version) ?\n",
       "        Promise.resolve(paths[lib]) :\n",
       "        new Promise(function(resolve, reject) {\n",
       "          var s = document.createElement('script');\n",
       "          document.getElementsByTagName(\"head\")[0].appendChild(s);\n",
       "          s.async = true;\n",
       "          s.onload = () => {\n",
       "            VEGA_DEBUG[key] = version;\n",
       "            return resolve(paths[lib]);\n",
       "          };\n",
       "          s.onerror = () => reject(`Error loading script: ${paths[lib]}`);\n",
       "          s.src = paths[lib];\n",
       "        });\n",
       "    }\n",
       "\n",
       "    function showError(err) {\n",
       "      outputDiv.innerHTML = `<div class=\"error\" style=\"color:red;\">${err}</div>`;\n",
       "      throw err;\n",
       "    }\n",
       "\n",
       "    function displayChart(vegaEmbed) {\n",
       "      vegaEmbed(outputDiv, spec, embedOpt)\n",
       "        .catch(err => showError(`Javascript Error: ${err.message}<br>This usually means there's a typo in your chart specification. See the javascript console for the full traceback.`));\n",
       "    }\n",
       "\n",
       "    if(typeof define === \"function\" && define.amd) {\n",
       "      requirejs.config({paths});\n",
       "      require([\"vega-embed\"], displayChart, err => showError(`Error loading script: ${err.message}`));\n",
       "    } else {\n",
       "      maybeLoadScript(\"vega\", \"5\")\n",
       "        .then(() => maybeLoadScript(\"vega-lite\", \"4.17.0\"))\n",
       "        .then(() => maybeLoadScript(\"vega-embed\", \"6\"))\n",
       "        .catch(showError)\n",
       "        .then(() => displayChart(vegaEmbed));\n",
       "    }\n",
       "  })({\"config\": {\"view\": {\"width\": 800, \"height\": 450}, \"background\": \"#ffffff\", \"title\": {\"anchor\": \"start\", \"font\": \"BentonGothic-Bold, sans\", \"fontColor\": \"#000000\", \"fontSize\": 22, \"fontWeight\": \"normal\"}, \"arc\": {\"fill\": \"#82c6df\"}, \"area\": {\"fill\": \"#82c6df\"}, \"line\": {\"stroke\": \"#82c6df\", \"strokeWidth\": 3}, \"path\": {\"stroke\": \"#82c6df\"}, \"rect\": {\"fill\": \"#82c6df\"}, \"shape\": {\"stroke\": \"#82c6df\"}, \"bar\": {\"fill\": \"#82c6df\"}, \"point\": {\"stroke\": \"#82c6df\"}, \"symbol\": {\"fill\": \"#82c6df\", \"size\": 30}, \"axis\": {\"titleFont\": \"BentonGothic-Bold, sans\", \"titleFontSize\": 14, \"titleFontWeight\": \"normal\", \"labelFont\": \"BentonGothic, sans\", \"labelFontSize\": 12, \"labelFontWeight\": \"normal\"}, \"axisX\": {\"labelAngle\": 0, \"labelPadding\": 4, \"tickSize\": 3}, \"axisY\": {\"labelBaseline\": \"middle\", \"maxExtent\": 45, \"minExtent\": 45, \"tickSize\": 2, \"titleAlign\": \"left\", \"titleAngle\": 0, \"titleX\": -45, \"titleY\": -11}, \"legend\": {\"titleFont\": \"BentonGothic-Bold, sans\", \"titleFontSize\": 14, \"titleFontWeight\": \"normal\", \"symbolType\": \"square\", \"labelFont\": \"BentonGothic, sans\", \"labelFontSize\": 13}, \"range\": {\"category\": [\"#3580b1\", \"#ec8431\", \"#ab7fb4\", \"#c89d29\", \"#adc839\", \"#829eb1\"], \"diverging\": [\"#e68a4f\", \"#f4bb6a\", \"#f9e39c\", \"#dadfe2\", \"#a6b7c6\", \"#849eae\"], \"heatmap\": [\"#fbf2c7\", \"#f9e39c\", \"#f8d36e\", \"#f4bb6a\", \"#e68a4f\", \"#d15a40\", \"#ab4232\"], \"ordinal\": [\"#fbf2c7\", \"#f9e39c\", \"#f8d36e\", \"#f4bb6a\", \"#e68a4f\", \"#d15a40\", \"#ab4232\"], \"ramp\": [\"#fbf2c7\", \"#f9e39c\", \"#f8d36e\", \"#f4bb6a\", \"#e68a4f\", \"#d15a40\", \"#ab4232\"]}}, \"data\": {\"name\": \"data-8edc16c53b8cb1640acdf273cfbc7e0b\"}, \"mark\": \"bar\", \"encoding\": {\"color\": {\"field\": \"variable\", \"scale\": {\"domain\": [\"capacity\", \"average_storage_value\", \"storage_af\"], \"range\": [\"#ddd\", \"#83c6e0\", \"#1281aa\"]}, \"type\": \"nominal\"}, \"order\": {\"field\": \"bar_order\", \"type\": \"quantitative\"}, \"tooltip\": [{\"field\": \"reservoir_id\", \"type\": \"nominal\"}], \"x\": {\"axis\": {\"labels\": false}, \"field\": \"reservoir_id\", \"type\": \"nominal\"}, \"y\": {\"field\": \"value\", \"stack\": \"normalize\", \"type\": \"quantitative\"}}, \"title\": \"Lake Powell\", \"width\": 150, \"$schema\": \"https://vega.github.io/schema/vega-lite/v4.17.0.json\", \"datasets\": {\"data-8edc16c53b8cb1640acdf273cfbc7e0b\": [{\"reservoir_id\": \"PWL\", \"variable\": \"storage_af\", \"value\": 6346000.0, \"bar_order\": 1}, {\"reservoir_id\": \"PWL\", \"variable\": \"average_storage_value\", \"value\": 15119302.0, \"bar_order\": 2}, {\"reservoir_id\": \"PWL\", \"variable\": \"capacity\", \"value\": 24322000.0, \"bar_order\": 3}]}}, {\"mode\": \"vega-lite\"});\n",
       "</script>"
      ],
      "text/plain": [
       "alt.Chart(...)"
      ]
     },
     "execution_count": 92,
     "metadata": {},
     "output_type": "execute_result"
    }
   ],
   "source": [
    "domain = [\"capacity\", \"average_storage_value\", \"storage_af\", ]\n",
    "range_ = ['#ddd', '#83c6e0', '#1281aa', ]\n",
    "\n",
    "alt.Chart(melt[melt.reservoir_id==\"PWL\"]).mark_bar().encode(\n",
    "    x=alt.X('reservoir_id', axis=alt.Axis(labels=False)),\n",
    "    y=alt.Y('value',stack=\"normalize\"),\n",
    "    order=\"bar_order\",\n",
    "    color=alt.Color(\n",
    "        'variable', \n",
    "        scale=alt.Scale(domain=domain, range=range_), \n",
    "        #sort='descending'\n",
    "    ),\n",
    "    tooltip=[\"reservoir_id\"]\n",
    ").properties(title=\"Lake Powell\", width=150)"
   ]
  },
  {
   "cell_type": "markdown",
   "id": "6609fded-c565-490f-b1da-7142a4cdb7ab",
   "metadata": {},
   "source": [
    "### Export"
   ]
  },
  {
   "cell_type": "markdown",
   "id": "5507842a-f54d-46b2-a3bf-2574b38b7d91",
   "metadata": {},
   "source": [
    "Assertion tests to make sure no data comes through with mixed units"
   ]
  },
  {
   "cell_type": "code",
   "execution_count": 189,
   "id": "e83423e3-1336-4e8e-9c1d-022ee77222af",
   "metadata": {},
   "outputs": [],
   "source": [
    "assert len(drop_na.units.unique()) == 1"
   ]
  },
  {
   "cell_type": "code",
   "execution_count": 190,
   "id": "03dc8028-ed7b-41a5-9117-722d865c3d0f",
   "metadata": {},
   "outputs": [],
   "source": [
    "assert len(drop_na.average_storage_unit.unique()) == 1"
   ]
  },
  {
   "cell_type": "code",
   "execution_count": 191,
   "id": "5abb5ecb-8a2f-43fc-94cf-85718390df45",
   "metadata": {},
   "outputs": [],
   "source": [
    "assert len(drop_na.capacity_unit.unique()) == 1"
   ]
  },
  {
   "cell_type": "markdown",
   "id": "1b8ba812-b32b-427a-b12c-d2e69e29a121",
   "metadata": {},
   "source": [
    "Trim and rename for export"
   ]
  },
  {
   "cell_type": "code",
   "execution_count": 192,
   "id": "0382b468-1563-44a0-b6f9-8e90848aa966",
   "metadata": {},
   "outputs": [],
   "source": [
    "export_df = drop_na[\n",
    "    ['reservoir_id','lake_name', 'date', 'storage_af', 'average_storage_value', 'capacity_value', 'current_level_pct_of_total',\n",
    "       'average_level_pct_of_total', 'current_level_pct_of_avg' ]\n",
    "].rename(columns={\n",
    "    'lake_name': 'reservoir_name',\n",
    "    'average_storage_value': 'historical_average',\n",
    "    'capacity_value': 'total_capacity'\n",
    "})"
   ]
  },
  {
   "cell_type": "code",
   "execution_count": 193,
   "id": "c1a87530-4991-454d-a5a1-28940376182d",
   "metadata": {},
   "outputs": [],
   "source": [
    "export_df.to_csv(\"../data/processed/reservoirs/reservoirs-latest.csv\", index=False)"
   ]
  },
  {
   "cell_type": "code",
   "execution_count": 194,
   "id": "5a6a888e-55bc-47d7-9152-bf1ef0f680e3",
   "metadata": {},
   "outputs": [],
   "source": [
    "export_df.to_csv(f\"../data/processed/reservoirs/reservoirs-{today}.csv\", index=False)"
   ]
  },
  {
   "cell_type": "markdown",
   "id": "02e056ca-7d5b-4abc-90f2-d89868ede9e0",
   "metadata": {},
   "source": [
    "---"
   ]
  },
  {
   "cell_type": "markdown",
   "id": "29c21bc6-3264-4006-ac55-d01a3811894e",
   "metadata": {},
   "source": [
    "### Merge geo data"
   ]
  },
  {
   "cell_type": "code",
   "execution_count": 195,
   "id": "65a5d7c1-6b06-4702-ac29-36910f27cf22",
   "metadata": {},
   "outputs": [],
   "source": [
    "metadata_df = pd.read_csv(\"../data/metadata/reservoirs-metadata-details.csv\")"
   ]
  },
  {
   "cell_type": "code",
   "execution_count": 196,
   "id": "b8d4832e-3eb4-47ed-be82-c273e80f80ea",
   "metadata": {},
   "outputs": [],
   "source": [
    "metadata_df[\"lat\"] = metadata_df[\"lat\"].str.replace(\"°\",\"\")\n",
    "metadata_df[\"lon\"] = metadata_df[\"lon\"].str.replace(\"°\",\"\")"
   ]
  },
  {
   "cell_type": "code",
   "execution_count": 197,
   "id": "197054bb-f69a-4fe9-aaab-16cb4f554296",
   "metadata": {},
   "outputs": [],
   "source": [
    "merge_coords = pd.merge(\n",
    "    drop_na,\n",
    "    metadata_df[[\"id\",\"lat\",\"lon\"]],\n",
    "    how=\"left\",\n",
    "    left_on=[\"reservoir_id\"],\n",
    "    right_on=[\"id\"]\n",
    ").drop([\"id\",\"month\",\"units\",\"average_storage_unit\",\"capacity_unit\"], axis=1)"
   ]
  },
  {
   "cell_type": "code",
   "execution_count": 198,
   "id": "6836210d-fb2c-4866-9729-169134b5eea0",
   "metadata": {},
   "outputs": [],
   "source": [
    "merge_coords.lake_name = merge_coords.lake_name.str.strip()"
   ]
  },
  {
   "cell_type": "code",
   "execution_count": 201,
   "id": "74f432fd-95c0-4068-b846-55e89e9077fd",
   "metadata": {},
   "outputs": [
    {
     "data": {
      "text/plain": [
       "15"
      ]
     },
     "execution_count": 201,
     "metadata": {},
     "output_type": "execute_result"
    }
   ],
   "source": [
    "len(merge_coords)"
   ]
  },
  {
   "cell_type": "code",
   "execution_count": 202,
   "id": "894bc0af-34b0-484f-a37a-9ba6c6a46fce",
   "metadata": {},
   "outputs": [
    {
     "data": {
      "text/html": [
       "<div>\n",
       "<style scoped>\n",
       "    .dataframe tbody tr th:only-of-type {\n",
       "        vertical-align: middle;\n",
       "    }\n",
       "\n",
       "    .dataframe tbody tr th {\n",
       "        vertical-align: top;\n",
       "    }\n",
       "\n",
       "    .dataframe thead th {\n",
       "        text-align: right;\n",
       "    }\n",
       "</style>\n",
       "<table border=\"1\" class=\"dataframe\">\n",
       "  <thead>\n",
       "    <tr style=\"text-align: right;\">\n",
       "      <th></th>\n",
       "      <th>reservoir_id</th>\n",
       "      <th>date</th>\n",
       "      <th>storage_af</th>\n",
       "      <th>average_storage_value</th>\n",
       "      <th>lake_name</th>\n",
       "      <th>capacity_value</th>\n",
       "      <th>current_level_pct_of_total</th>\n",
       "      <th>average_level_pct_of_total</th>\n",
       "      <th>current_level_pct_of_avg</th>\n",
       "      <th>lat</th>\n",
       "      <th>lon</th>\n",
       "    </tr>\n",
       "  </thead>\n",
       "  <tbody>\n",
       "    <tr>\n",
       "      <th>0</th>\n",
       "      <td>CLE</td>\n",
       "      <td>2022-06-17</td>\n",
       "      <td>729324.000</td>\n",
       "      <td>1882223.000</td>\n",
       "      <td>Trinity Lake</td>\n",
       "      <td>2447650.000</td>\n",
       "      <td>0.298</td>\n",
       "      <td>0.769</td>\n",
       "      <td>0.387</td>\n",
       "      <td>40.801000</td>\n",
       "      <td>-122.762000</td>\n",
       "    </tr>\n",
       "    <tr>\n",
       "      <th>1</th>\n",
       "      <td>WRS</td>\n",
       "      <td>2022-06-17</td>\n",
       "      <td>134533.000</td>\n",
       "      <td>228117.000</td>\n",
       "      <td>Warm Springs Reservoir</td>\n",
       "      <td>381000.000</td>\n",
       "      <td>0.353</td>\n",
       "      <td>0.599</td>\n",
       "      <td>0.590</td>\n",
       "      <td>38.723000</td>\n",
       "      <td>-123.010000</td>\n",
       "    </tr>\n",
       "    <tr>\n",
       "      <th>2</th>\n",
       "      <td>CCH</td>\n",
       "      <td>2022-06-17</td>\n",
       "      <td>83427.000</td>\n",
       "      <td>144299.000</td>\n",
       "      <td>Cachuma Lake</td>\n",
       "      <td>193305.000</td>\n",
       "      <td>0.432</td>\n",
       "      <td>0.746</td>\n",
       "      <td>0.578</td>\n",
       "      <td>34.583000</td>\n",
       "      <td>-119.980000</td>\n",
       "    </tr>\n",
       "    <tr>\n",
       "      <th>3</th>\n",
       "      <td>CSI</td>\n",
       "      <td>2022-06-17</td>\n",
       "      <td>79009.000</td>\n",
       "      <td>192450.000</td>\n",
       "      <td>Lake Casitas</td>\n",
       "      <td>254000.000</td>\n",
       "      <td>0.311</td>\n",
       "      <td>0.758</td>\n",
       "      <td>0.411</td>\n",
       "      <td>34.373000</td>\n",
       "      <td>-119.332000</td>\n",
       "    </tr>\n",
       "    <tr>\n",
       "      <th>4</th>\n",
       "      <td>CAS</td>\n",
       "      <td>2022-06-17</td>\n",
       "      <td>123162.000</td>\n",
       "      <td>280108.000</td>\n",
       "      <td>Castaic Lake</td>\n",
       "      <td>325000.000</td>\n",
       "      <td>0.379</td>\n",
       "      <td>0.862</td>\n",
       "      <td>0.440</td>\n",
       "      <td>34.515200</td>\n",
       "      <td>-118.610100</td>\n",
       "    </tr>\n",
       "    <tr>\n",
       "      <th>5</th>\n",
       "      <td>SHA</td>\n",
       "      <td>2022-06-17</td>\n",
       "      <td>1801651.000</td>\n",
       "      <td>3539810.000</td>\n",
       "      <td>Lake Shasta</td>\n",
       "      <td>4552000.000</td>\n",
       "      <td>0.396</td>\n",
       "      <td>0.778</td>\n",
       "      <td>0.509</td>\n",
       "      <td>40.718000</td>\n",
       "      <td>-122.420000</td>\n",
       "    </tr>\n",
       "    <tr>\n",
       "      <th>6</th>\n",
       "      <td>ORO</td>\n",
       "      <td>2022-06-17</td>\n",
       "      <td>1829337.000</td>\n",
       "      <td>2687874.000</td>\n",
       "      <td>Lake Oroville</td>\n",
       "      <td>3537577.000</td>\n",
       "      <td>0.517</td>\n",
       "      <td>0.760</td>\n",
       "      <td>0.681</td>\n",
       "      <td>39.540000</td>\n",
       "      <td>-121.493000</td>\n",
       "    </tr>\n",
       "    <tr>\n",
       "      <th>7</th>\n",
       "      <td>BUL</td>\n",
       "      <td>2022-06-17</td>\n",
       "      <td>866877.000</td>\n",
       "      <td>831313.000</td>\n",
       "      <td>Bullards Bar Reservoir</td>\n",
       "      <td>966000.000</td>\n",
       "      <td>0.897</td>\n",
       "      <td>0.861</td>\n",
       "      <td>1.043</td>\n",
       "      <td>39.393000</td>\n",
       "      <td>-121.140000</td>\n",
       "    </tr>\n",
       "    <tr>\n",
       "      <th>8</th>\n",
       "      <td>FOL</td>\n",
       "      <td>2022-06-17</td>\n",
       "      <td>858975.000</td>\n",
       "      <td>756266.000</td>\n",
       "      <td>Folsom Lake</td>\n",
       "      <td>977000.000</td>\n",
       "      <td>0.879</td>\n",
       "      <td>0.774</td>\n",
       "      <td>1.136</td>\n",
       "      <td>38.683000</td>\n",
       "      <td>-121.183000</td>\n",
       "    </tr>\n",
       "    <tr>\n",
       "      <th>9</th>\n",
       "      <td>NML</td>\n",
       "      <td>2022-06-17</td>\n",
       "      <td>816710.000</td>\n",
       "      <td>1507818.000</td>\n",
       "      <td>New Melones Reservoir</td>\n",
       "      <td>2400000.000</td>\n",
       "      <td>0.340</td>\n",
       "      <td>0.628</td>\n",
       "      <td>0.542</td>\n",
       "      <td>37.948100</td>\n",
       "      <td>-120.525000</td>\n",
       "    </tr>\n",
       "    <tr>\n",
       "      <th>10</th>\n",
       "      <td>DNP</td>\n",
       "      <td>2022-06-17</td>\n",
       "      <td>1341835.000</td>\n",
       "      <td>1671693.000</td>\n",
       "      <td>New Don Pedro Reservoir</td>\n",
       "      <td>2030000.000</td>\n",
       "      <td>0.661</td>\n",
       "      <td>0.823</td>\n",
       "      <td>0.803</td>\n",
       "      <td>37.702000</td>\n",
       "      <td>-120.421000</td>\n",
       "    </tr>\n",
       "    <tr>\n",
       "      <th>11</th>\n",
       "      <td>EXC</td>\n",
       "      <td>2022-06-17</td>\n",
       "      <td>429404.000</td>\n",
       "      <td>729672.000</td>\n",
       "      <td>Lake McClure</td>\n",
       "      <td>1024600.000</td>\n",
       "      <td>0.419</td>\n",
       "      <td>0.712</td>\n",
       "      <td>0.588</td>\n",
       "      <td>37.585000</td>\n",
       "      <td>-120.270000</td>\n",
       "    </tr>\n",
       "    <tr>\n",
       "      <th>12</th>\n",
       "      <td>MIL</td>\n",
       "      <td>2022-06-17</td>\n",
       "      <td>365464.000</td>\n",
       "      <td>432481.000</td>\n",
       "      <td>Millerton Lake</td>\n",
       "      <td>520500.000</td>\n",
       "      <td>0.702</td>\n",
       "      <td>0.831</td>\n",
       "      <td>0.845</td>\n",
       "      <td>37.001000</td>\n",
       "      <td>-119.705000</td>\n",
       "    </tr>\n",
       "    <tr>\n",
       "      <th>13</th>\n",
       "      <td>SNL</td>\n",
       "      <td>2022-06-17</td>\n",
       "      <td>848554.000</td>\n",
       "      <td>1105632.000</td>\n",
       "      <td>San Luis Reservoir</td>\n",
       "      <td>2041000.000</td>\n",
       "      <td>0.416</td>\n",
       "      <td>0.542</td>\n",
       "      <td>0.767</td>\n",
       "      <td>37.033000</td>\n",
       "      <td>-121.133000</td>\n",
       "    </tr>\n",
       "    <tr>\n",
       "      <th>14</th>\n",
       "      <td>PNF</td>\n",
       "      <td>2022-06-17</td>\n",
       "      <td>587917.000</td>\n",
       "      <td>670674.000</td>\n",
       "      <td>Pine Flat Dam</td>\n",
       "      <td>1000000.000</td>\n",
       "      <td>0.588</td>\n",
       "      <td>0.671</td>\n",
       "      <td>0.877</td>\n",
       "      <td>36.833000</td>\n",
       "      <td>-119.325000</td>\n",
       "    </tr>\n",
       "  </tbody>\n",
       "</table>\n",
       "</div>"
      ],
      "text/plain": [
       "   reservoir_id       date  storage_af  average_storage_value  \\\n",
       "0           CLE 2022-06-17  729324.000            1882223.000   \n",
       "1           WRS 2022-06-17  134533.000             228117.000   \n",
       "2           CCH 2022-06-17   83427.000             144299.000   \n",
       "3           CSI 2022-06-17   79009.000             192450.000   \n",
       "4           CAS 2022-06-17  123162.000             280108.000   \n",
       "5           SHA 2022-06-17 1801651.000            3539810.000   \n",
       "6           ORO 2022-06-17 1829337.000            2687874.000   \n",
       "7           BUL 2022-06-17  866877.000             831313.000   \n",
       "8           FOL 2022-06-17  858975.000             756266.000   \n",
       "9           NML 2022-06-17  816710.000            1507818.000   \n",
       "10          DNP 2022-06-17 1341835.000            1671693.000   \n",
       "11          EXC 2022-06-17  429404.000             729672.000   \n",
       "12          MIL 2022-06-17  365464.000             432481.000   \n",
       "13          SNL 2022-06-17  848554.000            1105632.000   \n",
       "14          PNF 2022-06-17  587917.000             670674.000   \n",
       "\n",
       "                  lake_name  capacity_value  current_level_pct_of_total  \\\n",
       "0              Trinity Lake     2447650.000                       0.298   \n",
       "1    Warm Springs Reservoir      381000.000                       0.353   \n",
       "2              Cachuma Lake      193305.000                       0.432   \n",
       "3              Lake Casitas      254000.000                       0.311   \n",
       "4              Castaic Lake      325000.000                       0.379   \n",
       "5               Lake Shasta     4552000.000                       0.396   \n",
       "6             Lake Oroville     3537577.000                       0.517   \n",
       "7    Bullards Bar Reservoir      966000.000                       0.897   \n",
       "8               Folsom Lake      977000.000                       0.879   \n",
       "9     New Melones Reservoir     2400000.000                       0.340   \n",
       "10  New Don Pedro Reservoir     2030000.000                       0.661   \n",
       "11             Lake McClure     1024600.000                       0.419   \n",
       "12           Millerton Lake      520500.000                       0.702   \n",
       "13       San Luis Reservoir     2041000.000                       0.416   \n",
       "14            Pine Flat Dam     1000000.000                       0.588   \n",
       "\n",
       "    average_level_pct_of_total  current_level_pct_of_avg        lat  \\\n",
       "0                        0.769                     0.387  40.801000   \n",
       "1                        0.599                     0.590  38.723000   \n",
       "2                        0.746                     0.578  34.583000   \n",
       "3                        0.758                     0.411  34.373000   \n",
       "4                        0.862                     0.440  34.515200   \n",
       "5                        0.778                     0.509  40.718000   \n",
       "6                        0.760                     0.681  39.540000   \n",
       "7                        0.861                     1.043  39.393000   \n",
       "8                        0.774                     1.136  38.683000   \n",
       "9                        0.628                     0.542  37.948100   \n",
       "10                       0.823                     0.803  37.702000   \n",
       "11                       0.712                     0.588  37.585000   \n",
       "12                       0.831                     0.845  37.001000   \n",
       "13                       0.542                     0.767  37.033000   \n",
       "14                       0.671                     0.877  36.833000   \n",
       "\n",
       "            lon  \n",
       "0   -122.762000  \n",
       "1   -123.010000  \n",
       "2   -119.980000  \n",
       "3   -119.332000  \n",
       "4   -118.610100  \n",
       "5   -122.420000  \n",
       "6   -121.493000  \n",
       "7   -121.140000  \n",
       "8   -121.183000  \n",
       "9   -120.525000  \n",
       "10  -120.421000  \n",
       "11  -120.270000  \n",
       "12  -119.705000  \n",
       "13  -121.133000  \n",
       "14  -119.325000  "
      ]
     },
     "execution_count": 202,
     "metadata": {},
     "output_type": "execute_result"
    }
   ],
   "source": [
    "merge_coords#[merge_coords.lake_name==\"Lake Shasta\"]"
   ]
  },
  {
   "cell_type": "code",
   "execution_count": 200,
   "id": "7c0f24de-72b1-4fcf-807e-b23806090549",
   "metadata": {},
   "outputs": [],
   "source": [
    "merge_coords.to_csv(\"../data/processed/reservoirs/reservoirs-with-points.csv\", index=False)"
   ]
  }
 ],
 "metadata": {
  "kernelspec": {
   "display_name": "Python 3 (ipykernel)",
   "language": "python",
   "name": "python3"
  },
  "language_info": {
   "codemirror_mode": {
    "name": "ipython",
    "version": 3
   },
   "file_extension": ".py",
   "mimetype": "text/x-python",
   "name": "python",
   "nbconvert_exporter": "python",
   "pygments_lexer": "ipython3",
   "version": "3.9.6"
  }
 },
 "nbformat": 4,
 "nbformat_minor": 5
}
