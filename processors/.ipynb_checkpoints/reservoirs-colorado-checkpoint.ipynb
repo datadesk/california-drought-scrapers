{
 "cells": [
  {
   "cell_type": "code",
   "execution_count": 97,
   "id": "a8f68e43-feaa-4996-8d5a-ecc52ce8bf66",
   "metadata": {},
   "outputs": [],
   "source": [
    "import pytz\n",
    "from datetime import datetime, date, timedelta\n",
    "import pandas as pd\n",
    "import altair as alt\n",
    "import altair_latimes as lat"
   ]
  },
  {
   "cell_type": "code",
   "execution_count": 98,
   "id": "7f08691a-275f-4165-b2a5-dc7a70e2c3a6",
   "metadata": {},
   "outputs": [
    {
     "data": {
      "text/plain": [
       "ThemeRegistry.enable('latimes')"
      ]
     },
     "execution_count": 98,
     "metadata": {},
     "output_type": "execute_result"
    }
   ],
   "source": [
    "alt.themes.register('latimes', lat.theme)\n",
    "alt.themes.enable('latimes')"
   ]
  },
  {
   "cell_type": "code",
   "execution_count": 99,
   "id": "154fda82-e6f3-4a42-86c8-578b4fc0d2cb",
   "metadata": {},
   "outputs": [],
   "source": [
    "pd.set_option('display.float_format', lambda x: '%.3f' % x)"
   ]
  },
  {
   "cell_type": "markdown",
   "id": "0cfcb7f3-6169-489d-a054-1b801988d626",
   "metadata": {},
   "source": [
    "### Import"
   ]
  },
  {
   "cell_type": "code",
   "execution_count": 100,
   "id": "81973009-6e4c-4b44-8db8-17ec118ecd88",
   "metadata": {},
   "outputs": [],
   "source": [
    "# df = pd.read_csv(\n",
    "#     \"../data/raw/reservoirs/colorado-river-reservoir-scrape-timeseries.csv\", \n",
    "#     parse_dates=[\"DATE TIME\", \"OBS DATE\"]\n",
    "# )"
   ]
  },
  {
   "cell_type": "code",
   "execution_count": 101,
   "id": "f38f17f5-bb72-4268-9072-fc16ce65af26",
   "metadata": {},
   "outputs": [],
   "source": [
    "df = pd.read_csv(\n",
    "    \"../data/raw/reservoirs/colorado-river-reservoir-bor-timeseries.csv\", \n",
    "    parse_dates=[\"date\"]\n",
    ")"
   ]
  },
  {
   "cell_type": "code",
   "execution_count": 102,
   "id": "592ce46b-5c36-44bb-94cd-4a2ad733a55c",
   "metadata": {},
   "outputs": [],
   "source": [
    "hist_df = pd.read_csv(\n",
    "    \"../data/metadata/reservoirs-historical-averages.csv\"\n",
    ")"
   ]
  },
  {
   "cell_type": "code",
   "execution_count": 103,
   "id": "284a5f3e-4391-4685-808d-f40e64511e7b",
   "metadata": {},
   "outputs": [],
   "source": [
    "details_df = pd.read_csv(\n",
    "    \"../data/metadata/reservoirs-metadata-details.csv\"\n",
    ")"
   ]
  },
  {
   "cell_type": "markdown",
   "id": "66364b79-8a94-4d02-abfa-9a83aabf5d27",
   "metadata": {},
   "source": [
    "### Clean"
   ]
  },
  {
   "cell_type": "code",
   "execution_count": 104,
   "id": "3bcf2dc4-c020-41b4-becf-3e4c43c425d1",
   "metadata": {},
   "outputs": [],
   "source": [
    "df.columns = df.columns.str.lower()"
   ]
  },
  {
   "cell_type": "code",
   "execution_count": 105,
   "id": "2e0088a1-012e-474f-b5da-fb9fdfe75b78",
   "metadata": {},
   "outputs": [],
   "source": [
    "df.columns = df.columns.str.replace(\" \",\"_\")"
   ]
  },
  {
   "cell_type": "code",
   "execution_count": 106,
   "id": "5b1ca206-03bd-4d33-b39b-689a4c971190",
   "metadata": {},
   "outputs": [],
   "source": [
    "df = df.rename(columns={\n",
    "    \"station_id\": \"reservoir_id\",\n",
    "    \"date_time\": \"date\",\n",
    "    #\"value\": \"storage_af\"\n",
    "    \"storage\": \"storage_af\"\n",
    "})"
   ]
  },
  {
   "cell_type": "code",
   "execution_count": 107,
   "id": "db224586-5249-46ab-b4e6-f8a6d10d340f",
   "metadata": {},
   "outputs": [],
   "source": [
    "#df[\"storage_af\"] = df[\"storage_af\"].str.replace(\"---\",\"\")"
   ]
  },
  {
   "cell_type": "code",
   "execution_count": 108,
   "id": "69e887d1-7a69-461c-95a6-7fa88ff67e2f",
   "metadata": {},
   "outputs": [],
   "source": [
    "#df[\"storage_af\"] = pd.to_numeric(df[\"storage_af\"])"
   ]
  },
  {
   "cell_type": "code",
   "execution_count": 109,
   "id": "2bd306aa-4f49-49f7-a640-f660c0181f9f",
   "metadata": {},
   "outputs": [],
   "source": [
    "# details_df[\"lat\"] = details_df[\"lat\"].str.replace(\"°\",\"\")\n",
    "# details_df[\"lon\"] = details_df[\"lon\"].str.replace(\"°\",\"\")"
   ]
  },
  {
   "cell_type": "code",
   "execution_count": 110,
   "id": "ca2c53da-b22d-4138-ab49-4ee0d65747aa",
   "metadata": {},
   "outputs": [
    {
     "data": {
      "text/html": [
       "<div>\n",
       "<style scoped>\n",
       "    .dataframe tbody tr th:only-of-type {\n",
       "        vertical-align: middle;\n",
       "    }\n",
       "\n",
       "    .dataframe tbody tr th {\n",
       "        vertical-align: top;\n",
       "    }\n",
       "\n",
       "    .dataframe thead th {\n",
       "        text-align: right;\n",
       "    }\n",
       "</style>\n",
       "<table border=\"1\" class=\"dataframe\">\n",
       "  <thead>\n",
       "    <tr style=\"text-align: right;\">\n",
       "      <th></th>\n",
       "      <th>reservoir_id</th>\n",
       "      <th>reservoir_name</th>\n",
       "      <th>date</th>\n",
       "      <th>storage_af</th>\n",
       "    </tr>\n",
       "  </thead>\n",
       "  <tbody>\n",
       "    <tr>\n",
       "      <th>0</th>\n",
       "      <td>MHV</td>\n",
       "      <td>Lake Mohave</td>\n",
       "      <td>1950-02-02</td>\n",
       "      <td>220200.000</td>\n",
       "    </tr>\n",
       "    <tr>\n",
       "      <th>1</th>\n",
       "      <td>MHV</td>\n",
       "      <td>Lake Mohave</td>\n",
       "      <td>1950-02-03</td>\n",
       "      <td>224700.000</td>\n",
       "    </tr>\n",
       "    <tr>\n",
       "      <th>2</th>\n",
       "      <td>MHV</td>\n",
       "      <td>Lake Mohave</td>\n",
       "      <td>1950-02-04</td>\n",
       "      <td>223500.000</td>\n",
       "    </tr>\n",
       "    <tr>\n",
       "      <th>3</th>\n",
       "      <td>MHV</td>\n",
       "      <td>Lake Mohave</td>\n",
       "      <td>1950-02-05</td>\n",
       "      <td>218000.000</td>\n",
       "    </tr>\n",
       "    <tr>\n",
       "      <th>4</th>\n",
       "      <td>MHV</td>\n",
       "      <td>Lake Mohave</td>\n",
       "      <td>1950-02-06</td>\n",
       "      <td>219200.000</td>\n",
       "    </tr>\n",
       "    <tr>\n",
       "      <th>...</th>\n",
       "      <td>...</td>\n",
       "      <td>...</td>\n",
       "      <td>...</td>\n",
       "      <td>...</td>\n",
       "    </tr>\n",
       "    <tr>\n",
       "      <th>109688</th>\n",
       "      <td>HVS</td>\n",
       "      <td>Lake Havasu</td>\n",
       "      <td>2022-07-02</td>\n",
       "      <td>587022.800</td>\n",
       "    </tr>\n",
       "    <tr>\n",
       "      <th>109689</th>\n",
       "      <td>HVS</td>\n",
       "      <td>Lake Havasu</td>\n",
       "      <td>2022-07-03</td>\n",
       "      <td>589195.600</td>\n",
       "    </tr>\n",
       "    <tr>\n",
       "      <th>109690</th>\n",
       "      <td>HVS</td>\n",
       "      <td>Lake Havasu</td>\n",
       "      <td>2022-07-04</td>\n",
       "      <td>589215.000</td>\n",
       "    </tr>\n",
       "    <tr>\n",
       "      <th>109691</th>\n",
       "      <td>HVS</td>\n",
       "      <td>Lake Havasu</td>\n",
       "      <td>2022-07-05</td>\n",
       "      <td>591834.000</td>\n",
       "    </tr>\n",
       "    <tr>\n",
       "      <th>109692</th>\n",
       "      <td>HVS</td>\n",
       "      <td>Lake Havasu</td>\n",
       "      <td>2022-07-06</td>\n",
       "      <td>589273.200</td>\n",
       "    </tr>\n",
       "  </tbody>\n",
       "</table>\n",
       "<p>109693 rows × 4 columns</p>\n",
       "</div>"
      ],
      "text/plain": [
       "       reservoir_id reservoir_name       date  storage_af\n",
       "0               MHV    Lake Mohave 1950-02-02  220200.000\n",
       "1               MHV    Lake Mohave 1950-02-03  224700.000\n",
       "2               MHV    Lake Mohave 1950-02-04  223500.000\n",
       "3               MHV    Lake Mohave 1950-02-05  218000.000\n",
       "4               MHV    Lake Mohave 1950-02-06  219200.000\n",
       "...             ...            ...        ...         ...\n",
       "109688          HVS    Lake Havasu 2022-07-02  587022.800\n",
       "109689          HVS    Lake Havasu 2022-07-03  589195.600\n",
       "109690          HVS    Lake Havasu 2022-07-04  589215.000\n",
       "109691          HVS    Lake Havasu 2022-07-05  591834.000\n",
       "109692          HVS    Lake Havasu 2022-07-06  589273.200\n",
       "\n",
       "[109693 rows x 4 columns]"
      ]
     },
     "execution_count": 110,
     "metadata": {},
     "output_type": "execute_result"
    }
   ],
   "source": [
    "df"
   ]
  },
  {
   "cell_type": "markdown",
   "id": "45bdc35a-8e5f-43e8-9b3a-9078e6a1158a",
   "metadata": {},
   "source": [
    "### Merge historical average"
   ]
  },
  {
   "cell_type": "markdown",
   "id": "f193e506-35eb-49d8-8110-43ac386fe12b",
   "metadata": {},
   "source": [
    "Create month column for merging"
   ]
  },
  {
   "cell_type": "code",
   "execution_count": 111,
   "id": "5c5019e6-921a-43a1-a610-16c64e9840a5",
   "metadata": {},
   "outputs": [],
   "source": [
    "df[\"month\"] = pd.DatetimeIndex(df.date).month"
   ]
  },
  {
   "cell_type": "code",
   "execution_count": 112,
   "id": "3b4a73bb-fbba-44e8-97be-90512bc13bf7",
   "metadata": {},
   "outputs": [],
   "source": [
    "hist_df[\"month\"] = pd.to_datetime(hist_df[\"month\"], format='%B').dt.month"
   ]
  },
  {
   "cell_type": "code",
   "execution_count": 113,
   "id": "2aa5e555-78f7-46d7-ae10-a480eb8b1cfe",
   "metadata": {},
   "outputs": [],
   "source": [
    "merge_historical = pd.merge(\n",
    "    df[[\"reservoir_id\",\"date\",\"month\",\"storage_af\"]],\n",
    "    hist_df[[\"reservoir_id\", \"month\", \"average_storage_value\", \"average_storage_unit\"]],\n",
    "    how=\"left\",\n",
    "    on=[\"reservoir_id\",\"month\"]\n",
    ")"
   ]
  },
  {
   "cell_type": "code",
   "execution_count": 114,
   "id": "c84fe492-1e78-4498-a85b-88380620fa20",
   "metadata": {},
   "outputs": [],
   "source": [
    "merge_details = pd.merge(\n",
    "    merge_historical,\n",
    "    details_df[[\"id\", \"lake\", \"capacity\", \"lat\", \"lon\"]],\n",
    "    how=\"left\",\n",
    "    left_on=[\"reservoir_id\"],\n",
    "    right_on=[\"id\"]\n",
    ").drop([\"id\", \"average_storage_unit\"], axis=1)"
   ]
  },
  {
   "cell_type": "markdown",
   "id": "a9200178-e440-4545-99ea-0fc81e7182b4",
   "metadata": {},
   "source": [
    "### Calculate percentages"
   ]
  },
  {
   "cell_type": "code",
   "execution_count": 115,
   "id": "425b72be-98c0-4b15-9222-664b29588e2c",
   "metadata": {},
   "outputs": [],
   "source": [
    "merge_details[\"current_level_pct_of_total\"] = merge_details[\"storage_af\"] / merge_details[\"capacity\"]"
   ]
  },
  {
   "cell_type": "code",
   "execution_count": 116,
   "id": "86c5850e-6f00-4087-8ea7-d9dbae910a39",
   "metadata": {},
   "outputs": [],
   "source": [
    "merge_details[\"average_level_pct_of_total\"] = merge_details[\"average_storage_value\"] / merge_details[\"capacity\"]"
   ]
  },
  {
   "cell_type": "code",
   "execution_count": 117,
   "id": "787733db-9e5d-445d-a4db-a4f4f558c77d",
   "metadata": {},
   "outputs": [],
   "source": [
    "merge_details[\"current_level_pct_of_avg\"] = merge_details[\"storage_af\"] / merge_details[\"average_storage_value\"]"
   ]
  },
  {
   "cell_type": "markdown",
   "id": "b47722e1-1ba9-4a6c-ae48-c5cb740c3390",
   "metadata": {},
   "source": [
    "### Check out latest data"
   ]
  },
  {
   "cell_type": "markdown",
   "id": "2f472dbe-81ae-491e-aeac-0e68ee65472b",
   "metadata": {},
   "source": [
    "Drop na first"
   ]
  },
  {
   "cell_type": "code",
   "execution_count": 118,
   "id": "ead8f51c-ec41-4335-97c5-f90c82b7edc9",
   "metadata": {},
   "outputs": [],
   "source": [
    "drop_na = merge_details.dropna(subset=[\"storage_af\"])"
   ]
  },
  {
   "cell_type": "code",
   "execution_count": 119,
   "id": "14bf9f50-3ddc-47d3-b8e8-69a95a49b4af",
   "metadata": {},
   "outputs": [],
   "source": [
    "latest_df = drop_na[drop_na.date == drop_na.date.max()].copy()"
   ]
  },
  {
   "cell_type": "code",
   "execution_count": 120,
   "id": "6d31132d-1674-49d6-b031-cdcf4f49a13a",
   "metadata": {},
   "outputs": [
    {
     "data": {
      "text/html": [
       "<div>\n",
       "<style scoped>\n",
       "    .dataframe tbody tr th:only-of-type {\n",
       "        vertical-align: middle;\n",
       "    }\n",
       "\n",
       "    .dataframe tbody tr th {\n",
       "        vertical-align: top;\n",
       "    }\n",
       "\n",
       "    .dataframe thead th {\n",
       "        text-align: right;\n",
       "    }\n",
       "</style>\n",
       "<table border=\"1\" class=\"dataframe\">\n",
       "  <thead>\n",
       "    <tr style=\"text-align: right;\">\n",
       "      <th></th>\n",
       "      <th>reservoir_id</th>\n",
       "      <th>date</th>\n",
       "      <th>month</th>\n",
       "      <th>storage_af</th>\n",
       "      <th>average_storage_value</th>\n",
       "      <th>lake</th>\n",
       "      <th>capacity</th>\n",
       "      <th>lat</th>\n",
       "      <th>lon</th>\n",
       "      <th>current_level_pct_of_total</th>\n",
       "      <th>average_level_pct_of_total</th>\n",
       "      <th>current_level_pct_of_avg</th>\n",
       "    </tr>\n",
       "  </thead>\n",
       "  <tbody>\n",
       "    <tr>\n",
       "      <th>26452</th>\n",
       "      <td>MHV</td>\n",
       "      <td>2022-07-06</td>\n",
       "      <td>7</td>\n",
       "      <td>1688462.500</td>\n",
       "      <td>1664313</td>\n",
       "      <td>Lake Mohave</td>\n",
       "      <td>1810000.000</td>\n",
       "      <td>35.197000°</td>\n",
       "      <td>-114.567000°</td>\n",
       "      <td>0.933</td>\n",
       "      <td>0.920</td>\n",
       "      <td>1.015</td>\n",
       "    </tr>\n",
       "    <tr>\n",
       "      <th>48011</th>\n",
       "      <td>PWL</td>\n",
       "      <td>2022-07-06</td>\n",
       "      <td>7</td>\n",
       "      <td>6425671.340</td>\n",
       "      <td>16179921</td>\n",
       "      <td>Lake Powell</td>\n",
       "      <td>24322000.000</td>\n",
       "      <td>36.937000°</td>\n",
       "      <td>-111.493000°</td>\n",
       "      <td>0.264</td>\n",
       "      <td>0.665</td>\n",
       "      <td>0.397</td>\n",
       "    </tr>\n",
       "    <tr>\n",
       "      <th>79097</th>\n",
       "      <td>MEA</td>\n",
       "      <td>2022-07-06</td>\n",
       "      <td>7</td>\n",
       "      <td>7154989.720</td>\n",
       "      <td>15536432</td>\n",
       "      <td>Lake Mead</td>\n",
       "      <td>26159008.000</td>\n",
       "      <td>36.016000°</td>\n",
       "      <td>-114.736000°</td>\n",
       "      <td>0.274</td>\n",
       "      <td>0.594</td>\n",
       "      <td>0.461</td>\n",
       "    </tr>\n",
       "    <tr>\n",
       "      <th>109692</th>\n",
       "      <td>HVS</td>\n",
       "      <td>2022-07-06</td>\n",
       "      <td>7</td>\n",
       "      <td>589273.200</td>\n",
       "      <td>582876</td>\n",
       "      <td>Lake Havasu</td>\n",
       "      <td>648000.000</td>\n",
       "      <td>34.317000°</td>\n",
       "      <td>-114.156000°</td>\n",
       "      <td>0.909</td>\n",
       "      <td>0.899</td>\n",
       "      <td>1.011</td>\n",
       "    </tr>\n",
       "  </tbody>\n",
       "</table>\n",
       "</div>"
      ],
      "text/plain": [
       "       reservoir_id       date  month  storage_af  average_storage_value  \\\n",
       "26452           MHV 2022-07-06      7 1688462.500                1664313   \n",
       "48011           PWL 2022-07-06      7 6425671.340               16179921   \n",
       "79097           MEA 2022-07-06      7 7154989.720               15536432   \n",
       "109692          HVS 2022-07-06      7  589273.200                 582876   \n",
       "\n",
       "               lake     capacity         lat           lon  \\\n",
       "26452   Lake Mohave  1810000.000  35.197000°  -114.567000°   \n",
       "48011   Lake Powell 24322000.000  36.937000°  -111.493000°   \n",
       "79097     Lake Mead 26159008.000  36.016000°  -114.736000°   \n",
       "109692  Lake Havasu   648000.000  34.317000°  -114.156000°   \n",
       "\n",
       "        current_level_pct_of_total  average_level_pct_of_total  \\\n",
       "26452                        0.933                       0.920   \n",
       "48011                        0.264                       0.665   \n",
       "79097                        0.274                       0.594   \n",
       "109692                       0.909                       0.899   \n",
       "\n",
       "        current_level_pct_of_avg  \n",
       "26452                      1.015  \n",
       "48011                      0.397  \n",
       "79097                      0.461  \n",
       "109692                     1.011  "
      ]
     },
     "execution_count": 120,
     "metadata": {},
     "output_type": "execute_result"
    }
   ],
   "source": [
    "latest_df"
   ]
  },
  {
   "cell_type": "code",
   "execution_count": 121,
   "id": "7e181eeb-82c6-49e4-a6d4-e398860fb852",
   "metadata": {},
   "outputs": [],
   "source": [
    "melt=pd.melt(latest_df, id_vars=\"reservoir_id\", value_vars=[\"storage_af\", \"average_storage_value\", \"capacity\"])"
   ]
  },
  {
   "cell_type": "code",
   "execution_count": 122,
   "id": "683e57e6-d902-42c8-b8ed-90daff0e22da",
   "metadata": {},
   "outputs": [],
   "source": [
    "bar_order = {\n",
    "    \"storage_af\": 1, \n",
    "    \"average_storage_value\": 2, \n",
    "    \"capacity\":3            \n",
    "}"
   ]
  },
  {
   "cell_type": "code",
   "execution_count": 123,
   "id": "2d535d8f-5141-47bd-b988-f02e435c128a",
   "metadata": {},
   "outputs": [],
   "source": [
    "melt[\"bar_order\"] = melt.variable.map(bar_order)"
   ]
  },
  {
   "cell_type": "code",
   "execution_count": 124,
   "id": "d2af6d05-c390-4a8b-9f53-a9e0d272da79",
   "metadata": {},
   "outputs": [
    {
     "data": {
      "text/html": [
       "\n",
       "<div id=\"altair-viz-3fe8a9873b30457b95d310009be463c3\"></div>\n",
       "<script type=\"text/javascript\">\n",
       "  var VEGA_DEBUG = (typeof VEGA_DEBUG == \"undefined\") ? {} : VEGA_DEBUG;\n",
       "  (function(spec, embedOpt){\n",
       "    let outputDiv = document.currentScript.previousElementSibling;\n",
       "    if (outputDiv.id !== \"altair-viz-3fe8a9873b30457b95d310009be463c3\") {\n",
       "      outputDiv = document.getElementById(\"altair-viz-3fe8a9873b30457b95d310009be463c3\");\n",
       "    }\n",
       "    const paths = {\n",
       "      \"vega\": \"https://cdn.jsdelivr.net/npm//vega@5?noext\",\n",
       "      \"vega-lib\": \"https://cdn.jsdelivr.net/npm//vega-lib?noext\",\n",
       "      \"vega-lite\": \"https://cdn.jsdelivr.net/npm//vega-lite@4.17.0?noext\",\n",
       "      \"vega-embed\": \"https://cdn.jsdelivr.net/npm//vega-embed@6?noext\",\n",
       "    };\n",
       "\n",
       "    function maybeLoadScript(lib, version) {\n",
       "      var key = `${lib.replace(\"-\", \"\")}_version`;\n",
       "      return (VEGA_DEBUG[key] == version) ?\n",
       "        Promise.resolve(paths[lib]) :\n",
       "        new Promise(function(resolve, reject) {\n",
       "          var s = document.createElement('script');\n",
       "          document.getElementsByTagName(\"head\")[0].appendChild(s);\n",
       "          s.async = true;\n",
       "          s.onload = () => {\n",
       "            VEGA_DEBUG[key] = version;\n",
       "            return resolve(paths[lib]);\n",
       "          };\n",
       "          s.onerror = () => reject(`Error loading script: ${paths[lib]}`);\n",
       "          s.src = paths[lib];\n",
       "        });\n",
       "    }\n",
       "\n",
       "    function showError(err) {\n",
       "      outputDiv.innerHTML = `<div class=\"error\" style=\"color:red;\">${err}</div>`;\n",
       "      throw err;\n",
       "    }\n",
       "\n",
       "    function displayChart(vegaEmbed) {\n",
       "      vegaEmbed(outputDiv, spec, embedOpt)\n",
       "        .catch(err => showError(`Javascript Error: ${err.message}<br>This usually means there's a typo in your chart specification. See the javascript console for the full traceback.`));\n",
       "    }\n",
       "\n",
       "    if(typeof define === \"function\" && define.amd) {\n",
       "      requirejs.config({paths});\n",
       "      require([\"vega-embed\"], displayChart, err => showError(`Error loading script: ${err.message}`));\n",
       "    } else {\n",
       "      maybeLoadScript(\"vega\", \"5\")\n",
       "        .then(() => maybeLoadScript(\"vega-lite\", \"4.17.0\"))\n",
       "        .then(() => maybeLoadScript(\"vega-embed\", \"6\"))\n",
       "        .catch(showError)\n",
       "        .then(() => displayChart(vegaEmbed));\n",
       "    }\n",
       "  })({\"config\": {\"view\": {\"width\": 800, \"height\": 450}, \"background\": \"#ffffff\", \"title\": {\"anchor\": \"start\", \"font\": \"BentonGothic-Bold, sans\", \"fontColor\": \"#000000\", \"fontSize\": 22, \"fontWeight\": \"normal\"}, \"arc\": {\"fill\": \"#82c6df\"}, \"area\": {\"fill\": \"#82c6df\"}, \"line\": {\"stroke\": \"#82c6df\", \"strokeWidth\": 3}, \"path\": {\"stroke\": \"#82c6df\"}, \"rect\": {\"fill\": \"#82c6df\"}, \"shape\": {\"stroke\": \"#82c6df\"}, \"bar\": {\"fill\": \"#82c6df\"}, \"point\": {\"stroke\": \"#82c6df\"}, \"symbol\": {\"fill\": \"#82c6df\", \"size\": 30}, \"axis\": {\"titleFont\": \"BentonGothic-Bold, sans\", \"titleFontSize\": 14, \"titleFontWeight\": \"normal\", \"labelFont\": \"BentonGothic, sans\", \"labelFontSize\": 12, \"labelFontWeight\": \"normal\"}, \"axisX\": {\"labelAngle\": 0, \"labelPadding\": 4, \"tickSize\": 3}, \"axisY\": {\"labelBaseline\": \"middle\", \"maxExtent\": 45, \"minExtent\": 45, \"tickSize\": 2, \"titleAlign\": \"left\", \"titleAngle\": 0, \"titleX\": -45, \"titleY\": -11}, \"legend\": {\"titleFont\": \"BentonGothic-Bold, sans\", \"titleFontSize\": 14, \"titleFontWeight\": \"normal\", \"symbolType\": \"square\", \"labelFont\": \"BentonGothic, sans\", \"labelFontSize\": 13}, \"range\": {\"category\": [\"#3580b1\", \"#ec8431\", \"#ab7fb4\", \"#c89d29\", \"#adc839\", \"#829eb1\"], \"diverging\": [\"#e68a4f\", \"#f4bb6a\", \"#f9e39c\", \"#dadfe2\", \"#a6b7c6\", \"#849eae\"], \"heatmap\": [\"#fbf2c7\", \"#f9e39c\", \"#f8d36e\", \"#f4bb6a\", \"#e68a4f\", \"#d15a40\", \"#ab4232\"], \"ordinal\": [\"#fbf2c7\", \"#f9e39c\", \"#f8d36e\", \"#f4bb6a\", \"#e68a4f\", \"#d15a40\", \"#ab4232\"], \"ramp\": [\"#fbf2c7\", \"#f9e39c\", \"#f8d36e\", \"#f4bb6a\", \"#e68a4f\", \"#d15a40\", \"#ab4232\"]}}, \"data\": {\"name\": \"data-4c3e9405fb9265fdafffde0fa0afd4f0\"}, \"mark\": \"bar\", \"encoding\": {\"color\": {\"field\": \"variable\", \"scale\": {\"domain\": [\"capacity\", \"average_storage_value\", \"storage_af\"], \"range\": [\"#ddd\", \"#83c6e0\", \"#1281aa\"]}, \"type\": \"nominal\"}, \"order\": {\"field\": \"bar_order\", \"type\": \"quantitative\"}, \"tooltip\": [{\"field\": \"reservoir_id\", \"type\": \"nominal\"}], \"x\": {\"axis\": {\"labels\": false}, \"field\": \"reservoir_id\", \"type\": \"nominal\"}, \"y\": {\"field\": \"value\", \"stack\": \"normalize\", \"type\": \"quantitative\"}}, \"title\": \"Reservoirs of the lower Colorado River Basin\", \"$schema\": \"https://vega.github.io/schema/vega-lite/v4.17.0.json\", \"datasets\": {\"data-4c3e9405fb9265fdafffde0fa0afd4f0\": [{\"reservoir_id\": \"MHV\", \"variable\": \"storage_af\", \"value\": 1688462.5, \"bar_order\": 1}, {\"reservoir_id\": \"PWL\", \"variable\": \"storage_af\", \"value\": 6425671.34, \"bar_order\": 1}, {\"reservoir_id\": \"MEA\", \"variable\": \"storage_af\", \"value\": 7154989.72, \"bar_order\": 1}, {\"reservoir_id\": \"HVS\", \"variable\": \"storage_af\", \"value\": 589273.2, \"bar_order\": 1}, {\"reservoir_id\": \"MHV\", \"variable\": \"average_storage_value\", \"value\": 1664313.0, \"bar_order\": 2}, {\"reservoir_id\": \"PWL\", \"variable\": \"average_storage_value\", \"value\": 16179921.0, \"bar_order\": 2}, {\"reservoir_id\": \"MEA\", \"variable\": \"average_storage_value\", \"value\": 15536432.0, \"bar_order\": 2}, {\"reservoir_id\": \"HVS\", \"variable\": \"average_storage_value\", \"value\": 582876.0, \"bar_order\": 2}, {\"reservoir_id\": \"MHV\", \"variable\": \"capacity\", \"value\": 1810000.0, \"bar_order\": 3}, {\"reservoir_id\": \"PWL\", \"variable\": \"capacity\", \"value\": 24322000.0, \"bar_order\": 3}, {\"reservoir_id\": \"MEA\", \"variable\": \"capacity\", \"value\": 26159008.0, \"bar_order\": 3}, {\"reservoir_id\": \"HVS\", \"variable\": \"capacity\", \"value\": 648000.0, \"bar_order\": 3}]}}, {\"mode\": \"vega-lite\"});\n",
       "</script>"
      ],
      "text/plain": [
       "alt.Chart(...)"
      ]
     },
     "execution_count": 124,
     "metadata": {},
     "output_type": "execute_result"
    }
   ],
   "source": [
    "domain = [\"capacity\", \"average_storage_value\", \"storage_af\", ]\n",
    "range_ = ['#ddd', '#83c6e0', '#1281aa', ]\n",
    "\n",
    "alt.Chart(melt).mark_bar().encode(\n",
    "    x=alt.X('reservoir_id', axis=alt.Axis(labels=False)),\n",
    "    y=alt.Y('value',stack=\"normalize\"),\n",
    "    order=\"bar_order\",\n",
    "    color=alt.Color(\n",
    "        'variable', \n",
    "        scale=alt.Scale(domain=domain, range=range_), \n",
    "        #sort='descending'\n",
    "    ),\n",
    "    tooltip=[\"reservoir_id\"]\n",
    ").properties(title=\"Reservoirs of the lower Colorado River Basin\")"
   ]
  },
  {
   "cell_type": "markdown",
   "id": "6609fded-c565-490f-b1da-7142a4cdb7ab",
   "metadata": {},
   "source": [
    "### Export"
   ]
  },
  {
   "cell_type": "markdown",
   "id": "1b8ba812-b32b-427a-b12c-d2e69e29a121",
   "metadata": {},
   "source": [
    "Trim and rename for export"
   ]
  },
  {
   "cell_type": "code",
   "execution_count": 125,
   "id": "0382b468-1563-44a0-b6f9-8e90848aa966",
   "metadata": {},
   "outputs": [],
   "source": [
    "export_df = latest_df[\n",
    "    ['reservoir_id','lake', 'date', 'storage_af', 'average_storage_value', 'capacity', 'current_level_pct_of_total',\n",
    "       'average_level_pct_of_total', 'current_level_pct_of_avg', 'lat', 'lon' ]\n",
    "].rename(columns={\n",
    "    'lake': 'reservoir_name',\n",
    "    'average_storage_value': 'historical_average',\n",
    "    'capacity': 'total_capacity'\n",
    "}).sort_values(\"total_capacity\", ascending=False)"
   ]
  },
  {
   "cell_type": "code",
   "execution_count": 126,
   "id": "c1a87530-4991-454d-a5a1-28940376182d",
   "metadata": {},
   "outputs": [],
   "source": [
    "export_df.to_csv(\"../data/processed/reservoirs/colorado-river-reservoirs-latest.csv\", index=False)"
   ]
  }
 ],
 "metadata": {
  "kernelspec": {
   "display_name": "Python 3 (ipykernel)",
   "language": "python",
   "name": "python3"
  },
  "language_info": {
   "codemirror_mode": {
    "name": "ipython",
    "version": 3
   },
   "file_extension": ".py",
   "mimetype": "text/x-python",
   "name": "python",
   "nbconvert_exporter": "python",
   "pygments_lexer": "ipython3",
   "version": "3.9.6"
  }
 },
 "nbformat": 4,
 "nbformat_minor": 5
}
