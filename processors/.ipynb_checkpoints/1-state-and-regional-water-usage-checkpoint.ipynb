{
 "cells": [
  {
   "cell_type": "code",
   "execution_count": 1,
   "id": "f5cb932e-b754-43a2-bbc6-61045c6bd70c",
   "metadata": {},
   "outputs": [],
   "source": [
    "import pandas as pd\n",
    "import altair as alt\n",
    "import altair_latimes as lat"
   ]
  },
  {
   "cell_type": "code",
   "execution_count": 2,
   "id": "72888e3e-1b46-43d7-b1b8-1c0b9932bd90",
   "metadata": {},
   "outputs": [
    {
     "data": {
      "text/plain": [
       "ThemeRegistry.enable('latimes')"
      ]
     },
     "execution_count": 2,
     "metadata": {},
     "output_type": "execute_result"
    }
   ],
   "source": [
    "alt.themes.register('latimes', lat.theme)\n",
    "alt.themes.enable('latimes')"
   ]
  },
  {
   "cell_type": "markdown",
   "id": "28057c08-e382-41d5-b75a-283e7794d4c8",
   "metadata": {},
   "source": [
    "### Import"
   ]
  },
  {
   "cell_type": "markdown",
   "id": "88772dbc-0f6d-4fec-b594-5359fbb9678b",
   "metadata": {},
   "source": [
    "Regional data scraped from dashboard "
   ]
  },
  {
   "cell_type": "code",
   "execution_count": 4,
   "id": "d9eb2ab1-88ce-4939-bd7e-6f85c30071b9",
   "metadata": {},
   "outputs": [],
   "source": [
    "regional_usage = pd.read_csv(\"../data/raw/regional-usage.csv\")"
   ]
  },
  {
   "cell_type": "markdown",
   "id": "6ef069bb-ea4c-4357-82a2-478cd1de427c",
   "metadata": {},
   "source": [
    "### Clean"
   ]
  },
  {
   "cell_type": "code",
   "execution_count": 10,
   "id": "47c62c24-b4d3-4501-8e60-4aafb512bc40",
   "metadata": {},
   "outputs": [],
   "source": [
    "regional_usage[\"reporting_month\"] = pd.to_datetime( \n",
    "    regional_usage[\"year\"].astype(str) + \"-\" + regional_usage[\"month\"].astype(str) + \"-15\"\n",
    ")"
   ]
  },
  {
   "cell_type": "code",
   "execution_count": 20,
   "id": "c3b3e810-a937-471a-9415-f196ad7090ef",
   "metadata": {},
   "outputs": [],
   "source": [
    "sort_df = regional_usage.sort_values([\"reporting_month\",\"hydrologic_region\"])"
   ]
  },
  {
   "cell_type": "code",
   "execution_count": 18,
   "id": "80046c5c-9619-4fdf-8925-9d933cd0a25d",
   "metadata": {},
   "outputs": [],
   "source": [
    "trim_df = sort_df[['hydrologic_region', 'reporting_month', 'agencies_reporting', 'pop_weighted_rgpcd']]"
   ]
  },
  {
   "cell_type": "code",
   "execution_count": 22,
   "id": "db041d43-f2ea-40cb-973b-c9e3c9dcc3b3",
   "metadata": {},
   "outputs": [],
   "source": [
    "statewide_df = trim_df[trim_df[\"hydrologic_region\"] == \"Statewide\" ]"
   ]
  },
  {
   "cell_type": "code",
   "execution_count": 24,
   "id": "0b3cf75b-0a86-4322-b571-c0b102bfa85c",
   "metadata": {},
   "outputs": [],
   "source": [
    "regional_df = trim_df[trim_df[\"hydrologic_region\"] != \"Statewide\" ]"
   ]
  },
  {
   "cell_type": "markdown",
   "id": "74e3628f-ab6a-4451-8ca8-40eb675874a4",
   "metadata": {},
   "source": [
    "### Export"
   ]
  },
  {
   "cell_type": "code",
   "execution_count": 25,
   "id": "63b5cac9-e3f9-4a42-aedd-85f2dbb91cb3",
   "metadata": {},
   "outputs": [],
   "source": [
    "statewide_df.to_csv(\"../data/processed/statewide-residential-usage.csv\", index=False)"
   ]
  },
  {
   "cell_type": "code",
   "execution_count": 26,
   "id": "f02d7364-d80d-48b5-ab29-be11e9907a36",
   "metadata": {},
   "outputs": [],
   "source": [
    "regional_df.to_csv(\"../data/processed/regional-residential-usage.csv\", index=False)"
   ]
  }
 ],
 "metadata": {
  "kernelspec": {
   "display_name": "Python 3 (ipykernel)",
   "language": "python",
   "name": "python3"
  },
  "language_info": {
   "codemirror_mode": {
    "name": "ipython",
    "version": 3
   },
   "file_extension": ".py",
   "mimetype": "text/x-python",
   "name": "python",
   "nbconvert_exporter": "python",
   "pygments_lexer": "ipython3",
   "version": "3.9.6"
  }
 },
 "nbformat": 4,
 "nbformat_minor": 5
}
