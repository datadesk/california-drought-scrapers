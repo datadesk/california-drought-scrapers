{
 "cells": [
  {
   "cell_type": "code",
   "execution_count": 12,
   "id": "b008b7a1-8294-439f-83cf-e36a4715f2da",
   "metadata": {},
   "outputs": [],
   "source": [
    "import pandas as pd\n",
    "import datetime"
   ]
  },
  {
   "cell_type": "markdown",
   "id": "82ae7baa-37e4-4a8b-9f78-2e51ba9ee2a4",
   "metadata": {},
   "source": [
    "Fact sheet: https://data.cnra.ca.gov/dataset/calgw-live/resource/9c58b42b-dc7d-438c-8225-3d5dbf9bc20d\n",
    "\n",
    "The dashboard identifies the density of \"susceptible” domestic wells per square mile based on recent groundwater level measurements and modeled future depth to water.\n",
    "\n",
    "This dashboard and the underlying analysis provide a density map of domestic wells that are susceptible to going dry if recent groundwater trends continue. The map can be used to evaluate the relative density distribution within groundwater basins. However, the map should not be used to estimate the absolute number of domestic wells that are susceptible to going dry for any area or groundwater level scenario. \n",
    "\n",
    "Susceptibility is identified based on recent groundwater level measurements and potential **5-year water level decline**."
   ]
  },
  {
   "cell_type": "markdown",
   "id": "ba93cafd-e3be-4446-afea-20a3ec1ce273",
   "metadata": {},
   "source": [
    "### Read and clean data"
   ]
  },
  {
   "cell_type": "code",
   "execution_count": 13,
   "id": "3a834904-2fc8-4961-be37-add8d7cd5d7a",
   "metadata": {},
   "outputs": [],
   "source": [
    "df = pd.read_csv(\"../data/raw/well-shortage-vulnerability.csv\")"
   ]
  },
  {
   "cell_type": "code",
   "execution_count": 15,
   "id": "78b024cd-f127-4e3e-bc72-194fc8ce347b",
   "metadata": {},
   "outputs": [
    {
     "data": {
      "text/plain": [
       "Index(['OBJECTID', 'County_Name', 'MTRS', 'DomWellCount',\n",
       "       'rRC2j_Percent_Farmed', 'rRC2g_Groundwater_Decline',\n",
       "       'RC2f_Critically_Overdrafted', 'rRC2i_SWRCB_Water_Quality_Ris',\n",
       "       'rRC3a_Well_Susceptibility', 'RC3a_Well_Susceptibility',\n",
       "       'RC2g_Min_WSE_Change', 'RC5a_Household_Water_Outage', 'Shape__Area',\n",
       "       'Date_Last_Modified'],\n",
       "      dtype='object')"
      ]
     },
     "execution_count": 15,
     "metadata": {},
     "output_type": "execute_result"
    }
   ],
   "source": [
    "df.columns"
   ]
  },
  {
   "cell_type": "code",
   "execution_count": 17,
   "id": "6c46d333-bd69-4bf0-ac6a-98c760b0224f",
   "metadata": {},
   "outputs": [],
   "source": [
    "df.rename(columns={\n",
    "    'OBJECTID': \"object_id\", \n",
    "    'County_Name': \"county\", \n",
    "    'MTRS': \"mtrs\", \n",
    "    'DomWellCount': \"domestic_well_count\",\n",
    "    'rRC2j_Percent_Farmed': \"percent_farmed\", \n",
    "    'rRC2g_Groundwater_Decline' :\"groundwater_decline\",\n",
    "    'RC2f_Critically_Overdrafted': \"critically_overdrafted\", \n",
    "    'rRC2i_SWRCB_Water_Quality_Ris': \"water_quality\",\n",
    "    'rRC3a_Well_Susceptibility': \"sus_well_score\", \n",
    "    'RC3a_Well_Susceptibility': \"sus_well_adj_count\",\n",
    "    'RC2g_Min_WSE_Change': \"min_wse_change\", \n",
    "    'RC5a_Household_Water_Outage': \"household_water_outage\", \n",
    "    'Shape__Area': \"area\",\n",
    "    'Date_Last_Modified': \"date\"\n",
    "}, inplace=True)"
   ]
  },
  {
   "cell_type": "code",
   "execution_count": 20,
   "id": "999f409d-2c08-4cd2-af3a-264bb058a34c",
   "metadata": {},
   "outputs": [],
   "source": [
    "df['date'] = pd.to_datetime(df['date'], unit='ms')"
   ]
  },
  {
   "cell_type": "code",
   "execution_count": 21,
   "id": "bd1dc445-7bd1-4d28-9f9a-103de0828766",
   "metadata": {},
   "outputs": [
    {
     "data": {
      "text/html": [
       "<div>\n",
       "<style scoped>\n",
       "    .dataframe tbody tr th:only-of-type {\n",
       "        vertical-align: middle;\n",
       "    }\n",
       "\n",
       "    .dataframe tbody tr th {\n",
       "        vertical-align: top;\n",
       "    }\n",
       "\n",
       "    .dataframe thead th {\n",
       "        text-align: right;\n",
       "    }\n",
       "</style>\n",
       "<table border=\"1\" class=\"dataframe\">\n",
       "  <thead>\n",
       "    <tr style=\"text-align: right;\">\n",
       "      <th></th>\n",
       "      <th>object_id</th>\n",
       "      <th>county</th>\n",
       "      <th>mtrs</th>\n",
       "      <th>domestic_well_count</th>\n",
       "      <th>percent_farmed</th>\n",
       "      <th>groundwater_decline</th>\n",
       "      <th>critically_overdrafted</th>\n",
       "      <th>water_quality</th>\n",
       "      <th>sus_well_score</th>\n",
       "      <th>sus_well_adj_count</th>\n",
       "      <th>min_wse_change</th>\n",
       "      <th>household_water_outage</th>\n",
       "      <th>area</th>\n",
       "      <th>date</th>\n",
       "    </tr>\n",
       "  </thead>\n",
       "  <tbody>\n",
       "    <tr>\n",
       "      <th>0</th>\n",
       "      <td>1</td>\n",
       "      <td>Napa</td>\n",
       "      <td>BAY/DELTA</td>\n",
       "      <td>NaN</td>\n",
       "      <td>0.0</td>\n",
       "      <td>0.0</td>\n",
       "      <td>No</td>\n",
       "      <td>NaN</td>\n",
       "      <td>0.0</td>\n",
       "      <td>NaN</td>\n",
       "      <td>NaN</td>\n",
       "      <td>No</td>\n",
       "      <td>7.859067e+06</td>\n",
       "      <td>2022-09-29</td>\n",
       "    </tr>\n",
       "    <tr>\n",
       "      <th>1</th>\n",
       "      <td>2</td>\n",
       "      <td>Sonoma</td>\n",
       "      <td>BAY/DELTA</td>\n",
       "      <td>NaN</td>\n",
       "      <td>0.0</td>\n",
       "      <td>0.0</td>\n",
       "      <td>No</td>\n",
       "      <td>NaN</td>\n",
       "      <td>0.0</td>\n",
       "      <td>NaN</td>\n",
       "      <td>NaN</td>\n",
       "      <td>No</td>\n",
       "      <td>6.115084e+07</td>\n",
       "      <td>2022-09-29</td>\n",
       "    </tr>\n",
       "    <tr>\n",
       "      <th>2</th>\n",
       "      <td>3</td>\n",
       "      <td>Marin</td>\n",
       "      <td>BAY/DELTA</td>\n",
       "      <td>NaN</td>\n",
       "      <td>0.0</td>\n",
       "      <td>0.0</td>\n",
       "      <td>No</td>\n",
       "      <td>NaN</td>\n",
       "      <td>0.0</td>\n",
       "      <td>NaN</td>\n",
       "      <td>NaN</td>\n",
       "      <td>No</td>\n",
       "      <td>7.826793e+04</td>\n",
       "      <td>2022-09-29</td>\n",
       "    </tr>\n",
       "    <tr>\n",
       "      <th>3</th>\n",
       "      <td>4</td>\n",
       "      <td>Santa Clara</td>\n",
       "      <td>BAY/DELTA</td>\n",
       "      <td>NaN</td>\n",
       "      <td>0.0</td>\n",
       "      <td>0.0</td>\n",
       "      <td>No</td>\n",
       "      <td>NaN</td>\n",
       "      <td>0.0</td>\n",
       "      <td>NaN</td>\n",
       "      <td>NaN</td>\n",
       "      <td>No</td>\n",
       "      <td>1.982955e+07</td>\n",
       "      <td>2022-09-29</td>\n",
       "    </tr>\n",
       "    <tr>\n",
       "      <th>4</th>\n",
       "      <td>5</td>\n",
       "      <td>Sacramento</td>\n",
       "      <td>BAY/DELTA</td>\n",
       "      <td>NaN</td>\n",
       "      <td>0.0</td>\n",
       "      <td>0.0</td>\n",
       "      <td>No</td>\n",
       "      <td>NaN</td>\n",
       "      <td>0.0</td>\n",
       "      <td>NaN</td>\n",
       "      <td>NaN</td>\n",
       "      <td>No</td>\n",
       "      <td>5.211623e+07</td>\n",
       "      <td>2022-09-29</td>\n",
       "    </tr>\n",
       "  </tbody>\n",
       "</table>\n",
       "</div>"
      ],
      "text/plain": [
       "   object_id       county       mtrs  domestic_well_count  percent_farmed  \\\n",
       "0          1         Napa  BAY/DELTA                  NaN             0.0   \n",
       "1          2       Sonoma  BAY/DELTA                  NaN             0.0   \n",
       "2          3        Marin  BAY/DELTA                  NaN             0.0   \n",
       "3          4  Santa Clara  BAY/DELTA                  NaN             0.0   \n",
       "4          5   Sacramento  BAY/DELTA                  NaN             0.0   \n",
       "\n",
       "   groundwater_decline critically_overdrafted  water_quality  sus_well_score  \\\n",
       "0                  0.0                     No            NaN             0.0   \n",
       "1                  0.0                     No            NaN             0.0   \n",
       "2                  0.0                     No            NaN             0.0   \n",
       "3                  0.0                     No            NaN             0.0   \n",
       "4                  0.0                     No            NaN             0.0   \n",
       "\n",
       "   sus_well_adj_count  min_wse_change household_water_outage          area  \\\n",
       "0                 NaN             NaN                     No  7.859067e+06   \n",
       "1                 NaN             NaN                     No  6.115084e+07   \n",
       "2                 NaN             NaN                     No  7.826793e+04   \n",
       "3                 NaN             NaN                     No  1.982955e+07   \n",
       "4                 NaN             NaN                     No  5.211623e+07   \n",
       "\n",
       "        date  \n",
       "0 2022-09-29  \n",
       "1 2022-09-29  \n",
       "2 2022-09-29  \n",
       "3 2022-09-29  \n",
       "4 2022-09-29  "
      ]
     },
     "execution_count": 21,
     "metadata": {},
     "output_type": "execute_result"
    }
   ],
   "source": [
    "df.head()"
   ]
  },
  {
   "cell_type": "code",
   "execution_count": 26,
   "id": "46d207ce-6125-4d4d-aa45-260dec126044",
   "metadata": {},
   "outputs": [],
   "source": [
    "df.to_csv(\"../data/processed/wells/well-shortage-vulnerability-clean.csv\", index=False)"
   ]
  },
  {
   "cell_type": "markdown",
   "id": "7b4b465a-c2ce-4d5d-960a-fc95f899e172",
   "metadata": {},
   "source": [
    "### Analysis"
   ]
  },
  {
   "cell_type": "code",
   "execution_count": 29,
   "id": "9853bcc5-d848-41a8-911b-eb9d4c8bbd10",
   "metadata": {},
   "outputs": [
    {
     "data": {
      "text/plain": [
       "369767.0"
      ]
     },
     "execution_count": 29,
     "metadata": {},
     "output_type": "execute_result"
    }
   ],
   "source": [
    "# Total number of domestic wells\n",
    "df.domestic_well_count.sum()"
   ]
  },
  {
   "cell_type": "markdown",
   "id": "63ac4ceb-b309-4f4e-8538-ea44d438afcb",
   "metadata": {},
   "source": [
    "#### Count of wells susceptible to going dry in the next 5df.sus_well_adj_count.sum() years if conditions persist"
   ]
  },
  {
   "cell_type": "code",
   "execution_count": 19,
   "id": "3143dad8-552e-4f0e-870b-8c7ade346b33",
   "metadata": {},
   "outputs": [
    {
     "data": {
      "text/plain": [
       "15064.0"
      ]
     },
     "execution_count": 19,
     "metadata": {},
     "output_type": "execute_result"
    }
   ],
   "source": [
    "# Total number of susceptible wells\n",
    "df.sus_well_adj_count.sum()"
   ]
  },
  {
   "cell_type": "code",
   "execution_count": 30,
   "id": "dcdbef16-051e-4efd-a4cd-d9fbacc6de0c",
   "metadata": {},
   "outputs": [
    {
     "data": {
      "text/plain": [
       "0.040739168178880215"
      ]
     },
     "execution_count": 30,
     "metadata": {},
     "output_type": "execute_result"
    }
   ],
   "source": [
    "# Percent of susceptible wells\n",
    "df.sus_well_adj_count.sum() / df.domestic_well_count.sum()"
   ]
  },
  {
   "cell_type": "code",
   "execution_count": 24,
   "id": "e56b084f-998f-48d6-8f9f-a71918db05e0",
   "metadata": {},
   "outputs": [],
   "source": [
    "county_group = df.groupby(\"county\").sus_well_adj_count.sum().reset_index(name=\"sus_wells\").sort_values(\"sus_wells\", ascending=False)"
   ]
  },
  {
   "cell_type": "code",
   "execution_count": 25,
   "id": "f411d6ed-0b24-4c35-bd74-9206070e9fb4",
   "metadata": {},
   "outputs": [
    {
     "data": {
      "text/html": [
       "<div>\n",
       "<style scoped>\n",
       "    .dataframe tbody tr th:only-of-type {\n",
       "        vertical-align: middle;\n",
       "    }\n",
       "\n",
       "    .dataframe tbody tr th {\n",
       "        vertical-align: top;\n",
       "    }\n",
       "\n",
       "    .dataframe thead th {\n",
       "        text-align: right;\n",
       "    }\n",
       "</style>\n",
       "<table border=\"1\" class=\"dataframe\">\n",
       "  <thead>\n",
       "    <tr style=\"text-align: right;\">\n",
       "      <th></th>\n",
       "      <th>county</th>\n",
       "      <th>sus_wells</th>\n",
       "    </tr>\n",
       "  </thead>\n",
       "  <tbody>\n",
       "    <tr>\n",
       "      <th>9</th>\n",
       "      <td>Fresno</td>\n",
       "      <td>2501.0</td>\n",
       "    </tr>\n",
       "    <tr>\n",
       "      <th>53</th>\n",
       "      <td>Tulare</td>\n",
       "      <td>1576.0</td>\n",
       "    </tr>\n",
       "    <tr>\n",
       "      <th>19</th>\n",
       "      <td>Madera</td>\n",
       "      <td>1374.0</td>\n",
       "    </tr>\n",
       "    <tr>\n",
       "      <th>51</th>\n",
       "      <td>Tehama</td>\n",
       "      <td>1098.0</td>\n",
       "    </tr>\n",
       "    <tr>\n",
       "      <th>48</th>\n",
       "      <td>Sonoma</td>\n",
       "      <td>1078.0</td>\n",
       "    </tr>\n",
       "  </tbody>\n",
       "</table>\n",
       "</div>"
      ],
      "text/plain": [
       "    county  sus_wells\n",
       "9   Fresno     2501.0\n",
       "53  Tulare     1576.0\n",
       "19  Madera     1374.0\n",
       "51  Tehama     1098.0\n",
       "48  Sonoma     1078.0"
      ]
     },
     "execution_count": 25,
     "metadata": {},
     "output_type": "execute_result"
    }
   ],
   "source": [
    "county_group.head()"
   ]
  },
  {
   "cell_type": "code",
   "execution_count": 27,
   "id": "05106d22-7ed3-43f2-b9bf-b30030232aa8",
   "metadata": {},
   "outputs": [],
   "source": [
    "county_group.to_csv(\"../data/processed/wells/well-shortage-vulnerability-county.csv\", index=False)"
   ]
  },
  {
   "cell_type": "markdown",
   "id": "9d89aa0a-1800-4909-9515-9d52f89c074d",
   "metadata": {},
   "source": [
    "#### Water quality"
   ]
  },
  {
   "cell_type": "code",
   "execution_count": 28,
   "id": "85d3ea4b-38b9-40fa-bee0-a5a0e51574a8",
   "metadata": {},
   "outputs": [
    {
     "data": {
      "text/plain": [
       "array([nan, 0. , 1. , 0.5])"
      ]
     },
     "execution_count": 28,
     "metadata": {},
     "output_type": "execute_result"
    }
   ],
   "source": [
    "df.water_quality.unique()"
   ]
  },
  {
   "cell_type": "code",
   "execution_count": null,
   "id": "a2a6aa6f-4e94-4643-b6c1-2fee3fdd5504",
   "metadata": {},
   "outputs": [],
   "source": []
  }
 ],
 "metadata": {
  "kernelspec": {
   "display_name": "Python 3 (ipykernel)",
   "language": "python",
   "name": "python3"
  },
  "language_info": {
   "codemirror_mode": {
    "name": "ipython",
    "version": 3
   },
   "file_extension": ".py",
   "mimetype": "text/x-python",
   "name": "python",
   "nbconvert_exporter": "python",
   "pygments_lexer": "ipython3",
   "version": "3.9.12"
  }
 },
 "nbformat": 4,
 "nbformat_minor": 5
}
