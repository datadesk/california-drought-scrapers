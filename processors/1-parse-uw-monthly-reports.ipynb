{
 "cells": [
  {
   "cell_type": "code",
   "execution_count": 16,
   "id": "2fbf26dd-c3bb-41fd-917b-d3c5e1a1373a",
   "metadata": {},
   "outputs": [],
   "source": [
    "import pandas as pd\n",
    "import glob\n",
    "import datetime"
   ]
  },
  {
   "cell_type": "markdown",
   "id": "59cfb325-7b9c-44f0-8d13-a9cd46bf134b",
   "metadata": {},
   "source": [
    "### Rube Goldberg to find the latest file"
   ]
  },
  {
   "cell_type": "code",
   "execution_count": 17,
   "id": "c54e5bfc-4bf8-4a56-a2bf-11eff423a111",
   "metadata": {},
   "outputs": [],
   "source": [
    "file_list = glob.glob(\"../data/raw/uw_monthly_reports/*.xlsx\")"
   ]
  },
  {
   "cell_type": "code",
   "execution_count": 18,
   "id": "75a09e4e-f369-4090-9c74-e1f76b945595",
   "metadata": {},
   "outputs": [],
   "source": [
    "date_list = []\n",
    "for f in file_list:\n",
    "    raw_name = f.replace(\"../data/raw/uw_monthly_reports/\",\"\").replace(\".xlsx\",\"\")\n",
    "    clean_name = raw_name.replace(\"_\",\"-\")\n",
    "    # ignore revision notes\n",
    "    trim_name = clean_name.split(\"-rev\")[0]\n",
    "    # get file date\n",
    "    file_date = trim_name.split(\"data\")[1]  \n",
    "    try:\n",
    "        parsed_date = datetime.datetime.strptime(file_date, '%m%d%y')\n",
    "    except ValueError:\n",
    "        print(f\"skip ```{raw_name}``` invalid date\")\n",
    "    \n",
    "    date_list.append(parsed_date)"
   ]
  },
  {
   "cell_type": "code",
   "execution_count": 19,
   "id": "d3576f63-87b3-4593-97d5-bb5d0b0d1f60",
   "metadata": {},
   "outputs": [
    {
     "data": {
      "text/plain": [
       "datetime.datetime(2022, 5, 10, 0, 0)"
      ]
     },
     "execution_count": 19,
     "metadata": {},
     "output_type": "execute_result"
    }
   ],
   "source": [
    "latest = max(date_list)\n",
    "latest"
   ]
  },
  {
   "cell_type": "code",
   "execution_count": 20,
   "id": "3d2493d9-db76-40e9-9e29-6e28b41aaf95",
   "metadata": {},
   "outputs": [
    {
     "data": {
      "text/plain": [
       "'../data/raw/uw_monthly_reports/uw_supplier_data051022.xlsx'"
      ]
     },
     "execution_count": 20,
     "metadata": {},
     "output_type": "execute_result"
    }
   ],
   "source": [
    "latest_xl_file = f\"../data/raw/uw_monthly_reports/uw_supplier_data{latest.strftime('%m%d%y')}.xlsx\"\n",
    "latest_xl_file"
   ]
  },
  {
   "cell_type": "markdown",
   "id": "283fc0c5-9cf9-4d07-ae86-f0347e6b7759",
   "metadata": {},
   "source": [
    "### Parse"
   ]
  },
  {
   "cell_type": "code",
   "execution_count": 21,
   "id": "70b2fec0-935f-4b52-8fcb-2c109f5d19e2",
   "metadata": {},
   "outputs": [],
   "source": [
    "xls = pd.ExcelFile(latest_xl_file)"
   ]
  },
  {
   "cell_type": "code",
   "execution_count": 22,
   "id": "543b170f-4ce7-417a-8c0e-21af1da739d8",
   "metadata": {},
   "outputs": [
    {
     "data": {
      "text/plain": [
       "['Jun14-Mar22 Conservation Data',\n",
       " '2020 Baseline Values',\n",
       " 'Jul21-Mar22 relative to 2020']"
      ]
     },
     "execution_count": 22,
     "metadata": {},
     "output_type": "execute_result"
    }
   ],
   "source": [
    "xls.sheet_names"
   ]
  },
  {
   "cell_type": "code",
   "execution_count": 23,
   "id": "5019a3c8-d5b1-42c6-9f2f-62031ed83f37",
   "metadata": {},
   "outputs": [],
   "source": [
    "sheet_to_df_map = pd.read_excel(latest_xl_file, sheet_name=None)"
   ]
  },
  {
   "cell_type": "markdown",
   "id": "81c63dc9-8bcf-4a77-97f5-965a856aab55",
   "metadata": {},
   "source": [
    "First sheet contains residential water usage by supplier"
   ]
  },
  {
   "cell_type": "code",
   "execution_count": 24,
   "id": "4c62ae4f-bb13-441b-98b1-ca0159f78e05",
   "metadata": {},
   "outputs": [],
   "source": [
    "usage_df = sheet_to_df_map[xls.sheet_names[0]]"
   ]
  },
  {
   "cell_type": "markdown",
   "id": "4f37218e-bef2-4349-be5b-6b2751cc6e9b",
   "metadata": {},
   "source": [
    "Second sheet contains 2020 baselines"
   ]
  },
  {
   "cell_type": "code",
   "execution_count": 25,
   "id": "ee64c567-8946-4914-b0c7-2299fcb37f48",
   "metadata": {},
   "outputs": [],
   "source": [
    "baselines_df = sheet_to_df_map[xls.sheet_names[1]]"
   ]
  },
  {
   "cell_type": "markdown",
   "id": "675cc537-e552-4e39-9467-0aab349773cb",
   "metadata": {},
   "source": [
    "Save this sheet's name for baseline filename in case it changes for some reason"
   ]
  },
  {
   "cell_type": "code",
   "execution_count": 26,
   "id": "db585b50-2016-4bc1-b8b1-cba729951428",
   "metadata": {},
   "outputs": [],
   "source": [
    "baselines_name = xls.sheet_names[1].replace(\" \",\"-\").lower()"
   ]
  },
  {
   "cell_type": "markdown",
   "id": "930797c6-a79f-4ba9-80b2-e76403af65e4",
   "metadata": {},
   "source": [
    "Third sheet conntains monthly usage and pct changes relative to 2020"
   ]
  },
  {
   "cell_type": "code",
   "execution_count": 27,
   "id": "8d71fd96-6b6b-4fe4-a597-11978eaeb6cb",
   "metadata": {},
   "outputs": [],
   "source": [
    "change_df = sheet_to_df_map[xls.sheet_names[2]]"
   ]
  },
  {
   "cell_type": "markdown",
   "id": "128bcfc1-dfe4-45e2-b87c-100661db598b",
   "metadata": {},
   "source": [
    "### Export"
   ]
  },
  {
   "cell_type": "code",
   "execution_count": 28,
   "id": "8d8d14c6-c357-47bf-912e-7c2535b1db9d",
   "metadata": {},
   "outputs": [],
   "source": [
    "usage_df.to_csv(\"../data/raw/uw-usage.csv\", index=False)"
   ]
  },
  {
   "cell_type": "code",
   "execution_count": 29,
   "id": "a0577d72-e13d-4fb8-9a95-f03e7351284d",
   "metadata": {},
   "outputs": [],
   "source": [
    "baselines_df.to_csv(f\"../data/raw/uw-{baselines_name}.csv\", index=False)"
   ]
  },
  {
   "cell_type": "code",
   "execution_count": 30,
   "id": "31f5d2e0-35c6-41b6-92e6-4799ef6e7b97",
   "metadata": {},
   "outputs": [],
   "source": [
    "change_df.to_csv(\"../data/raw/uw-change-from-baseline.csv\", index=False)"
   ]
  }
 ],
 "metadata": {
  "kernelspec": {
   "display_name": "Python 3 (ipykernel)",
   "language": "python",
   "name": "python3"
  },
  "language_info": {
   "codemirror_mode": {
    "name": "ipython",
    "version": 3
   },
   "file_extension": ".py",
   "mimetype": "text/x-python",
   "name": "python",
   "nbconvert_exporter": "python",
   "pygments_lexer": "ipython3",
   "version": "3.9.6"
  }
 },
 "nbformat": 4,
 "nbformat_minor": 5
}
