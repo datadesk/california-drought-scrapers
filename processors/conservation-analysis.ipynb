{
 "cells": [
  {
   "cell_type": "code",
   "execution_count": 81,
   "id": "edcca902-4c31-4ea8-be78-a0a396409eec",
   "metadata": {},
   "outputs": [],
   "source": [
    "import pandas as pd\n",
    "import altair as alt\n",
    "import altair_latimes as lat"
   ]
  },
  {
   "cell_type": "code",
   "execution_count": 82,
   "id": "36ffc5e1-1fe9-412f-b7ec-d4a3a1f2ef11",
   "metadata": {},
   "outputs": [
    {
     "data": {
      "text/plain": [
       "ThemeRegistry.enable('latimes')"
      ]
     },
     "execution_count": 82,
     "metadata": {},
     "output_type": "execute_result"
    }
   ],
   "source": [
    "alt.themes.register('latimes', lat.theme)\n",
    "alt.themes.enable('latimes')"
   ]
  },
  {
   "cell_type": "markdown",
   "id": "0aab5e92-9ad5-4110-8c24-5508ac230fcb",
   "metadata": {},
   "source": [
    "### Import"
   ]
  },
  {
   "cell_type": "code",
   "execution_count": 83,
   "id": "eada2996-4a8c-4bbb-8c34-1738cd882bb3",
   "metadata": {},
   "outputs": [],
   "source": [
    "df = pd.read_csv(\"../data/raw/uw-usage.csv\", parse_dates=[\"Reporting Month\"])"
   ]
  },
  {
   "cell_type": "code",
   "execution_count": 84,
   "id": "f31f3525-724e-455f-97f3-09c8c4a9019b",
   "metadata": {},
   "outputs": [],
   "source": [
    "baselines_df = pd.read_csv(\"../data/raw/uw-2020-baseline-values.csv\")"
   ]
  },
  {
   "cell_type": "markdown",
   "id": "074a5d31-8da2-4c29-86fd-0ce4d6f51bcc",
   "metadata": {},
   "source": [
    "### Clean"
   ]
  },
  {
   "cell_type": "markdown",
   "id": "d47314c4-45a6-4090-b556-64726ea87e7c",
   "metadata": {},
   "source": [
    "Remove junk from column names"
   ]
  },
  {
   "cell_type": "code",
   "execution_count": 85,
   "id": "f1ed09d0-380d-4f9d-91ad-cdd52ea22fb9",
   "metadata": {},
   "outputs": [],
   "source": [
    "df.columns = df.columns.str.replace(\" \",\"_\").str.replace(\"-\",\"_\").str.replace(r'[#,@,&,(,)]', '', regex=True).str.lower()"
   ]
  },
  {
   "cell_type": "markdown",
   "id": "bc4b0f34-de5a-4d80-bb47-113d4b86da65",
   "metadata": {},
   "source": [
    "Eliminate double spaces in supplier names"
   ]
  },
  {
   "cell_type": "code",
   "execution_count": 86,
   "id": "e9d8434b-11e4-4322-9f69-e8d20de3a2e1",
   "metadata": {},
   "outputs": [],
   "source": [
    "df.supplier_name = df.supplier_name.str.replace(\"  \", \" \")"
   ]
  },
  {
   "cell_type": "markdown",
   "id": "86e2c103-e0e3-4b56-9cd0-710bebd4e584",
   "metadata": {},
   "source": [
    "Clean up baselines column names as we did in the previous notebook"
   ]
  },
  {
   "cell_type": "code",
   "execution_count": 87,
   "id": "c6693671-6764-4568-89e2-941aa3c4aee8",
   "metadata": {},
   "outputs": [],
   "source": [
    "baselines_df.columns = baselines_df.columns.str.replace(\" \",\"_\").str.replace(\"-\",\"_\").str.replace(r'[#,@,&,(,)]', '', regex=True).str.lower()"
   ]
  },
  {
   "cell_type": "code",
   "execution_count": 88,
   "id": "8f4ac90a-fa77-4297-bed0-600c9d4946b8",
   "metadata": {},
   "outputs": [],
   "source": [
    "baselines_df.supplier_name = baselines_df.supplier_name.str.replace(\"  \", \" \")"
   ]
  },
  {
   "cell_type": "code",
   "execution_count": 89,
   "id": "c5ee2af5-4037-409d-8b11-7aca8ab0142e",
   "metadata": {},
   "outputs": [],
   "source": [
    "baselines_trimmed_df = baselines_df[[\n",
    "    'supplier_name', \n",
    "    'public_water_system_id', \n",
    "    'month', \n",
    "    #'original_units',\n",
    "    # 'total_potable_production_original_units',\n",
    "    # 'potable_commercial_agriculture_original_units',\n",
    "    'total_potable_production_minus_ag_gallons', \n",
    "    # 'staff_notes'\n",
    "]].copy()"
   ]
  },
  {
   "cell_type": "markdown",
   "id": "313fe135-d3dd-4401-9f07-21db0dbd95e1",
   "metadata": {},
   "source": [
    "Get rid of some unnecessary columns"
   ]
  },
  {
   "cell_type": "code",
   "execution_count": 90,
   "id": "19d3208a-ce06-4087-be21-7258221ba9cf",
   "metadata": {},
   "outputs": [],
   "source": [
    "trim_df = df[[\n",
    "    'supplier_name', \n",
    "    'public_water_system_id', \n",
    "    'reporting_month', \n",
    "    'county',\n",
    "    'hydrologic_region', \n",
    "    'climate_zone', \n",
    "    'total_population_served',\n",
    "    'calculated_total_potable_water_production_gallons_ag_excluded',\n",
    "    'calculated_r_gpcd', \n",
    "    # 'month'\n",
    "]].copy()"
   ]
  },
  {
   "cell_type": "markdown",
   "id": "e243cc84-9ae7-477a-8fda-552735e50641",
   "metadata": {},
   "source": [
    "### Merge"
   ]
  },
  {
   "cell_type": "markdown",
   "id": "d818f238-e884-4919-b63c-54132e7736a6",
   "metadata": {},
   "source": [
    "Filter df to July 2021 and later"
   ]
  },
  {
   "cell_type": "code",
   "execution_count": 91,
   "id": "2e8b7b2d-8d14-4c13-a91d-d84b563583f2",
   "metadata": {},
   "outputs": [],
   "source": [
    "filter_df = trim_df[trim_df.reporting_month >= \"2021-07-15\"].copy()"
   ]
  },
  {
   "cell_type": "markdown",
   "id": "0e593742-54f6-44d2-8614-d27ddf994a30",
   "metadata": {},
   "source": [
    "Remove -999999999"
   ]
  },
  {
   "cell_type": "code",
   "execution_count": 92,
   "id": "1b244cee-ad69-41ec-9ee5-41c61ef851c2",
   "metadata": {},
   "outputs": [],
   "source": [
    "filter_df = filter_df[filter_df.calculated_total_potable_water_production_gallons_ag_excluded != -999999999]"
   ]
  },
  {
   "cell_type": "markdown",
   "id": "cd5f1dca-1f9d-4a4f-a4bd-feb4703a1dbb",
   "metadata": {},
   "source": [
    "Make a month column to merge with baselines"
   ]
  },
  {
   "cell_type": "code",
   "execution_count": 93,
   "id": "6a81a262-3a0e-4e43-82dd-c6bfb07d733e",
   "metadata": {},
   "outputs": [],
   "source": [
    "filter_df[\"month\"] = filter_df[\"reporting_month\"].dt.month"
   ]
  },
  {
   "cell_type": "code",
   "execution_count": 94,
   "id": "1a6d11a1-8664-4426-ac53-4b3d6f794a19",
   "metadata": {},
   "outputs": [],
   "source": [
    "merge_df = pd.merge(\n",
    "    filter_df, \n",
    "    baselines_trimmed_df, \n",
    "    how=\"left\", \n",
    "    on=[\"supplier_name\", \"public_water_system_id\", \"month\"]\n",
    ").rename(\n",
    "    columns={\n",
    "        \"calculated_total_potable_water_production_gallons_ag_excluded\": \"total_gallons_current\",\n",
    "        \"total_potable_production_minus_ag_gallons\": \"total_gallons_baseline\"\n",
    "    }\n",
    ").drop(\"month\", axis=1)"
   ]
  },
  {
   "cell_type": "markdown",
   "id": "6c4f99ce-7759-4c14-8a49-aa81f579393d",
   "metadata": {},
   "source": [
    "### Remove duplicates"
   ]
  },
  {
   "cell_type": "code",
   "execution_count": 95,
   "id": "10fd4ac4-e017-471a-af48-033e4b6884f6",
   "metadata": {},
   "outputs": [],
   "source": [
    "tmp = merge_df.set_index(['supplier_name', 'reporting_month'])"
   ]
  },
  {
   "cell_type": "code",
   "execution_count": 96,
   "id": "4fbed164-1d6a-4c0e-ae2c-244afa6b56ba",
   "metadata": {},
   "outputs": [],
   "source": [
    "merge_df = tmp[~tmp.index.duplicated()].reset_index()"
   ]
  },
  {
   "cell_type": "markdown",
   "id": "477ee8c6-0628-4afc-9507-1fcf667cb2ad",
   "metadata": {},
   "source": [
    "### Calculate percent changes by month..."
   ]
  },
  {
   "cell_type": "code",
   "execution_count": 97,
   "id": "547a5c98-1953-4b25-8e5a-f0d74096468e",
   "metadata": {},
   "outputs": [],
   "source": [
    "def pct_change(new, old):\n",
    "    return (new - old) / old"
   ]
  },
  {
   "cell_type": "markdown",
   "id": "73f58d13-7448-4883-bc4b-7c300bfac1b7",
   "metadata": {},
   "source": [
    "### ...by district"
   ]
  },
  {
   "cell_type": "code",
   "execution_count": 98,
   "id": "6d7c46a4-610b-46c8-a6d1-be000255b9d5",
   "metadata": {},
   "outputs": [],
   "source": [
    "merge_df[\"gallons_pct_change\"] = merge_df.apply(lambda x: pct_change(x.total_gallons_current, x.total_gallons_baseline), axis=1)"
   ]
  },
  {
   "cell_type": "markdown",
   "id": "26aeabcf-9b4d-4954-a76c-8b6ec97f1970",
   "metadata": {},
   "source": [
    "Filter out outliers"
   ]
  },
  {
   "cell_type": "code",
   "execution_count": 99,
   "id": "3eee4eca-2625-469e-85a5-27d1fddfdf49",
   "metadata": {},
   "outputs": [],
   "source": [
    "# lower_thresh=-0.5\n",
    "# upper_thresh=1.3"
   ]
  },
  {
   "cell_type": "code",
   "execution_count": 100,
   "id": "0a050e9f-017d-4d3e-a62c-306f14c29c2d",
   "metadata": {},
   "outputs": [],
   "source": [
    "# districts_filtered = merge_df[\n",
    "#     (merge_df['gallons_pct_change']<upper_thresh)&(merge_df['gallons_pct_change']>lower_thresh)\n",
    "# ]"
   ]
  },
  {
   "cell_type": "markdown",
   "id": "840ec757-a50c-47fd-a191-c2738ac8f830",
   "metadata": {},
   "source": [
    "### ...by region"
   ]
  },
  {
   "cell_type": "code",
   "execution_count": 101,
   "id": "b3fdf17e-2b00-4cf6-8ec3-71eb75c5ff5a",
   "metadata": {},
   "outputs": [],
   "source": [
    "regions_df = merge_df.groupby(\n",
    "    [\"hydrologic_region\", \"reporting_month\"]\n",
    ")[[\"total_gallons_current\",\"total_gallons_baseline\", \"supplier_name\"]].agg({\n",
    "    \"total_gallons_current\":\"sum\",\n",
    "    \"total_gallons_baseline\":\"sum\",\n",
    "    \"supplier_name\":\"size\"\n",
    "}).reset_index()"
   ]
  },
  {
   "cell_type": "code",
   "execution_count": 102,
   "id": "530710c3-aa12-4277-8a76-e7ee2d799122",
   "metadata": {},
   "outputs": [],
   "source": [
    "regions_df[\"gallons_pct_change\"] = regions_df.apply(lambda x: pct_change(x.total_gallons_current, x.total_gallons_baseline), axis=1)"
   ]
  },
  {
   "cell_type": "code",
   "execution_count": 103,
   "id": "f0a059a4-fd40-4d25-9af1-b91a30bd335f",
   "metadata": {},
   "outputs": [],
   "source": [
    "# regions_df[\n",
    "#     (regions_df.reporting_month==regions_df.reporting_month.max())\n",
    "# ]"
   ]
  },
  {
   "cell_type": "markdown",
   "id": "6cf4c99e-6d33-4c60-b6c9-4afe709878dc",
   "metadata": {},
   "source": [
    "### ...and statewide"
   ]
  },
  {
   "cell_type": "code",
   "execution_count": 104,
   "id": "e42a3f85-65c6-495a-8a1d-6ceb08936574",
   "metadata": {},
   "outputs": [],
   "source": [
    "merge_df[\"state\"] = \"Statewide\""
   ]
  },
  {
   "cell_type": "code",
   "execution_count": 105,
   "id": "01e16002-172a-4deb-9462-4e2e59456279",
   "metadata": {},
   "outputs": [],
   "source": [
    "statewide_df = merge_df.groupby([\"state\", \"reporting_month\"])[[\"total_gallons_current\",\"total_gallons_baseline\"]].sum().reset_index()"
   ]
  },
  {
   "cell_type": "code",
   "execution_count": 106,
   "id": "929ddd2e-3ec5-4c35-a0a9-55656fade625",
   "metadata": {},
   "outputs": [],
   "source": [
    "statewide_df[\"gallons_pct_change\"] = statewide_df.apply(lambda x: pct_change(x.total_gallons_current, x.total_gallons_baseline), axis=1)"
   ]
  },
  {
   "cell_type": "markdown",
   "id": "7be6d8d0-0069-4c62-826d-3a39b54469c6",
   "metadata": {},
   "source": [
    "### Calculate cumulative savings since July 2021"
   ]
  },
  {
   "cell_type": "markdown",
   "id": "d3eacd7a-9c98-41f1-a9c5-d5b8c2cd8bd2",
   "metadata": {},
   "source": [
    "Set up some vars and function"
   ]
  },
  {
   "cell_type": "code",
   "execution_count": 107,
   "id": "2ccb4ec6-1c75-415a-8a62-2a71b642d7a5",
   "metadata": {},
   "outputs": [],
   "source": [
    "def month_diff(a, b):\n",
    "    return 12 * (a.year - b.year) + (a.month - b.month)"
   ]
  },
  {
   "cell_type": "code",
   "execution_count": 108,
   "id": "f0cdd3f7-db26-4276-b16e-e682a3e9db03",
   "metadata": {},
   "outputs": [],
   "source": [
    "def gallons_per_unit(gallons, baseline, population, time):\n",
    "    return (baseline - gallons) / population / time"
   ]
  },
  {
   "cell_type": "code",
   "execution_count": 109,
   "id": "7b8ab4a8-a3c7-4137-acfc-b4858a45898f",
   "metadata": {},
   "outputs": [
    {
     "data": {
      "text/plain": [
       "Timestamp('2021-07-15 00:00:00')"
      ]
     },
     "execution_count": 109,
     "metadata": {},
     "output_type": "execute_result"
    }
   ],
   "source": [
    "voluntary_reductions_begin = pd.to_datetime('2021-07-15')\n",
    "voluntary_reductions_begin"
   ]
  },
  {
   "cell_type": "code",
   "execution_count": 110,
   "id": "c35ab06b-845c-46d4-a6b0-222fabb7a0cf",
   "metadata": {},
   "outputs": [],
   "source": [
    "latest_month = statewide_df[statewide_df.reporting_month ==statewide_df.reporting_month.max() ].iloc[0]['reporting_month']"
   ]
  },
  {
   "cell_type": "code",
   "execution_count": 111,
   "id": "7a6e532d-234e-4418-a1f8-f1299ee4095b",
   "metadata": {},
   "outputs": [
    {
     "data": {
      "text/plain": [
       "18"
      ]
     },
     "execution_count": 111,
     "metadata": {},
     "output_type": "execute_result"
    }
   ],
   "source": [
    "months_since_reductions_begin = month_diff(latest_month, voluntary_reductions_begin)\n",
    "months_since_reductions_begin"
   ]
  },
  {
   "cell_type": "code",
   "execution_count": 112,
   "id": "478023d7-e6cf-4a3d-92f5-33eb47020ff2",
   "metadata": {},
   "outputs": [
    {
     "data": {
      "text/plain": [
       "549"
      ]
     },
     "execution_count": 112,
     "metadata": {},
     "output_type": "execute_result"
    }
   ],
   "source": [
    "days_since_reductions = (latest_month - voluntary_reductions_begin).days\n",
    "days_since_reductions"
   ]
  },
  {
   "cell_type": "markdown",
   "id": "b594b9f1-2a9e-45a8-b22d-a711cb8dce61",
   "metadata": {},
   "source": [
    "Get date of this monthly report"
   ]
  },
  {
   "cell_type": "code",
   "execution_count": 113,
   "id": "593a6542-2a3a-46d2-a22f-9c3b87499874",
   "metadata": {},
   "outputs": [],
   "source": [
    "date = statewide_df[\n",
    "    (statewide_df.reporting_month==statewide_df.reporting_month.max())\n",
    "].iloc[0][\"reporting_month\"]"
   ]
  },
  {
   "cell_type": "markdown",
   "id": "c0af84a1-c724-478e-b3f4-e65084cd6106",
   "metadata": {},
   "source": [
    "Drop suppliers with missing data"
   ]
  },
  {
   "cell_type": "code",
   "execution_count": 114,
   "id": "91ad7df8-1947-49e0-b51a-9a53eef5476c",
   "metadata": {},
   "outputs": [],
   "source": [
    "counts = merge_df.groupby(\"supplier_name\")[\"reporting_month\"].count().reset_index()"
   ]
  },
  {
   "cell_type": "code",
   "execution_count": 115,
   "id": "4742cbb7-c054-4a53-8967-a4236fe775af",
   "metadata": {},
   "outputs": [
    {
     "data": {
      "text/plain": [
       "19"
      ]
     },
     "execution_count": 115,
     "metadata": {},
     "output_type": "execute_result"
    }
   ],
   "source": [
    "max_count = max(counts.reporting_month)\n",
    "max_count"
   ]
  },
  {
   "cell_type": "code",
   "execution_count": 116,
   "id": "46c6f88e-0e3e-46cc-b9d8-534daea8dc0e",
   "metadata": {},
   "outputs": [],
   "source": [
    "suppliers_with_complete_data = list(counts[counts.reporting_month == max_count].supplier_name)"
   ]
  },
  {
   "cell_type": "code",
   "execution_count": 117,
   "id": "f7944f71-e872-47af-bc3b-db052dded625",
   "metadata": {},
   "outputs": [],
   "source": [
    "complete_data = merge_df[merge_df.supplier_name.isin(suppliers_with_complete_data)].copy()"
   ]
  },
  {
   "cell_type": "markdown",
   "id": "e5625ab4-9fab-412a-a7a3-9dba0b865b8a",
   "metadata": {},
   "source": [
    "By district"
   ]
  },
  {
   "cell_type": "code",
   "execution_count": 118,
   "id": "74c85995-7aad-4faf-9812-6d49ec99d2a5",
   "metadata": {},
   "outputs": [],
   "source": [
    "district_cumulative_savings_df = complete_data.groupby(\n",
    "    [\"supplier_name\",\"hydrologic_region\"]\n",
    ")[[\"total_gallons_current\",\"total_gallons_baseline\", \"total_population_served\"]].sum().reset_index()"
   ]
  },
  {
   "cell_type": "code",
   "execution_count": 119,
   "id": "93ee251c-3781-43f5-892d-dc0366612a43",
   "metadata": {},
   "outputs": [],
   "source": [
    "district_cumulative_savings_df[\"cumulative_pct_change\"] = complete_data.apply(lambda x: pct_change(x.total_gallons_current, x.total_gallons_baseline), axis=1)"
   ]
  },
  {
   "cell_type": "markdown",
   "id": "693bb4d4-e9cf-4a57-93da-f057c0acc5c2",
   "metadata": {},
   "source": [
    "Drop districts for which we can't calculate a percentage change"
   ]
  },
  {
   "cell_type": "code",
   "execution_count": 120,
   "id": "9e615ba4-e4fa-47ee-b25e-0df84fa7431e",
   "metadata": {},
   "outputs": [],
   "source": [
    "drop_na_districts = district_cumulative_savings_df.dropna(subset=\"cumulative_pct_change\")"
   ]
  },
  {
   "cell_type": "markdown",
   "id": "a02ff471-69b1-40f8-b729-918135f67ec7",
   "metadata": {},
   "source": [
    "By region"
   ]
  },
  {
   "cell_type": "code",
   "execution_count": 158,
   "id": "93332cfd-62e7-4160-849e-0c720a405410",
   "metadata": {},
   "outputs": [],
   "source": [
    "regions_cumulative_savings_df = district_cumulative_savings_df.groupby(\n",
    "    [\"hydrologic_region\"]\n",
    ")[\n",
    "    [\"total_gallons_current\",\"total_gallons_baseline\",\"total_population_served\",\"supplier_name\"]\n",
    "].agg(\n",
    "    {\"total_gallons_current\":\"sum\",\"total_gallons_baseline\":\"sum\",\"total_population_served\":\"mean\",\"supplier_name\":\"size\"}\n",
    ").reset_index().rename(\n",
    "    columns={\"supplier_name\": \"total_reports\"}\n",
    ")"
   ]
  },
  {
   "cell_type": "code",
   "execution_count": 159,
   "id": "eb5ece03-d99a-4134-9b46-aa0d3ecd042d",
   "metadata": {},
   "outputs": [],
   "source": [
    "regions_cumulative_savings_df[\"cumulative_pct_change\"] = regions_cumulative_savings_df.apply(lambda x: pct_change(x.total_gallons_current, x.total_gallons_baseline), axis=1)"
   ]
  },
  {
   "cell_type": "code",
   "execution_count": 160,
   "id": "f84062e3-c56f-4ddd-8b24-53a8ffc443af",
   "metadata": {},
   "outputs": [],
   "source": [
    "regions_cumulative_savings_df['date'] = date"
   ]
  },
  {
   "cell_type": "code",
   "execution_count": 161,
   "id": "527adebb-7d35-43bf-82ba-5ab765dc38c7",
   "metadata": {},
   "outputs": [],
   "source": [
    "regions_cumulative_savings_df['months_since'] = months_since_reductions_begin\n",
    "regions_cumulative_savings_df['days_since'] = days_since_reductions"
   ]
  },
  {
   "cell_type": "code",
   "execution_count": 162,
   "id": "77913a53-510d-4d45-a128-865dc72987d1",
   "metadata": {},
   "outputs": [],
   "source": [
    "regions_cumulative_savings_df['gallons_saved_per_month'] = regions_cumulative_savings_df.apply(\n",
    "    lambda x: gallons_per_unit(\n",
    "        x.total_gallons_current, x.total_gallons_baseline, x.total_population_served, x.months_since\n",
    "    ), axis=1\n",
    ")"
   ]
  },
  {
   "cell_type": "code",
   "execution_count": 163,
   "id": "21df1629-b984-4fea-8411-4c323f80992f",
   "metadata": {},
   "outputs": [],
   "source": [
    "regions_cumulative_savings_df['gallons_saved_per_day'] = regions_cumulative_savings_df.apply(\n",
    "    lambda x: gallons_per_unit(\n",
    "        x.total_gallons_current, x.total_gallons_baseline, x.total_population_served, x.days_since\n",
    "    ), axis=1\n",
    ")"
   ]
  },
  {
   "cell_type": "code",
   "execution_count": 164,
   "id": "e9b127e4-6f8a-48ff-a660-31aa8e9bfb84",
   "metadata": {},
   "outputs": [
    {
     "data": {
      "text/html": [
       "<div>\n",
       "<style scoped>\n",
       "    .dataframe tbody tr th:only-of-type {\n",
       "        vertical-align: middle;\n",
       "    }\n",
       "\n",
       "    .dataframe tbody tr th {\n",
       "        vertical-align: top;\n",
       "    }\n",
       "\n",
       "    .dataframe thead th {\n",
       "        text-align: right;\n",
       "    }\n",
       "</style>\n",
       "<table border=\"1\" class=\"dataframe\">\n",
       "  <thead>\n",
       "    <tr style=\"text-align: right;\">\n",
       "      <th></th>\n",
       "      <th>hydrologic_region</th>\n",
       "      <th>total_gallons_current</th>\n",
       "      <th>total_gallons_baseline</th>\n",
       "      <th>total_population_served</th>\n",
       "      <th>total_reports</th>\n",
       "      <th>cumulative_pct_change</th>\n",
       "      <th>date</th>\n",
       "      <th>months_since</th>\n",
       "      <th>days_since</th>\n",
       "      <th>gallons_saved_per_month</th>\n",
       "      <th>gallons_saved_per_day</th>\n",
       "    </tr>\n",
       "  </thead>\n",
       "  <tbody>\n",
       "    <tr>\n",
       "      <th>0</th>\n",
       "      <td>Central Coast</td>\n",
       "      <td>7.140871e+10</td>\n",
       "      <td>7.487851e+10</td>\n",
       "      <td>8.102742e+05</td>\n",
       "      <td>27</td>\n",
       "      <td>-0.046339</td>\n",
       "      <td>2023-01-15</td>\n",
       "      <td>18</td>\n",
       "      <td>549</td>\n",
       "      <td>237.903007</td>\n",
       "      <td>7.800099</td>\n",
       "    </tr>\n",
       "    <tr>\n",
       "      <th>1</th>\n",
       "      <td>Colorado River</td>\n",
       "      <td>1.011012e+11</td>\n",
       "      <td>1.028715e+11</td>\n",
       "      <td>1.145109e+06</td>\n",
       "      <td>11</td>\n",
       "      <td>-0.017209</td>\n",
       "      <td>2023-01-15</td>\n",
       "      <td>18</td>\n",
       "      <td>549</td>\n",
       "      <td>85.887807</td>\n",
       "      <td>2.815994</td>\n",
       "    </tr>\n",
       "    <tr>\n",
       "      <th>2</th>\n",
       "      <td>North Coast</td>\n",
       "      <td>1.675706e+10</td>\n",
       "      <td>2.008155e+10</td>\n",
       "      <td>5.221559e+05</td>\n",
       "      <td>12</td>\n",
       "      <td>-0.165550</td>\n",
       "      <td>2023-01-15</td>\n",
       "      <td>18</td>\n",
       "      <td>549</td>\n",
       "      <td>353.714359</td>\n",
       "      <td>11.597192</td>\n",
       "    </tr>\n",
       "    <tr>\n",
       "      <th>3</th>\n",
       "      <td>North Lahontan</td>\n",
       "      <td>7.430619e+09</td>\n",
       "      <td>8.155529e+09</td>\n",
       "      <td>3.544258e+05</td>\n",
       "      <td>5</td>\n",
       "      <td>-0.088886</td>\n",
       "      <td>2023-01-15</td>\n",
       "      <td>18</td>\n",
       "      <td>549</td>\n",
       "      <td>113.628155</td>\n",
       "      <td>3.725513</td>\n",
       "    </tr>\n",
       "    <tr>\n",
       "      <th>4</th>\n",
       "      <td>Sacramento River</td>\n",
       "      <td>2.820053e+11</td>\n",
       "      <td>3.050502e+11</td>\n",
       "      <td>1.313972e+06</td>\n",
       "      <td>40</td>\n",
       "      <td>-0.075544</td>\n",
       "      <td>2023-01-15</td>\n",
       "      <td>18</td>\n",
       "      <td>549</td>\n",
       "      <td>974.350365</td>\n",
       "      <td>31.945914</td>\n",
       "    </tr>\n",
       "    <tr>\n",
       "      <th>5</th>\n",
       "      <td>San Francisco Bay</td>\n",
       "      <td>3.494246e+11</td>\n",
       "      <td>3.935982e+11</td>\n",
       "      <td>3.187859e+06</td>\n",
       "      <td>37</td>\n",
       "      <td>-0.112230</td>\n",
       "      <td>2023-01-15</td>\n",
       "      <td>18</td>\n",
       "      <td>549</td>\n",
       "      <td>769.823427</td>\n",
       "      <td>25.240112</td>\n",
       "    </tr>\n",
       "    <tr>\n",
       "      <th>6</th>\n",
       "      <td>San Joaquin River</td>\n",
       "      <td>1.287306e+11</td>\n",
       "      <td>1.356984e+11</td>\n",
       "      <td>1.244461e+06</td>\n",
       "      <td>21</td>\n",
       "      <td>-0.051347</td>\n",
       "      <td>2023-01-15</td>\n",
       "      <td>18</td>\n",
       "      <td>549</td>\n",
       "      <td>311.056293</td>\n",
       "      <td>10.198567</td>\n",
       "    </tr>\n",
       "    <tr>\n",
       "      <th>7</th>\n",
       "      <td>South Coast</td>\n",
       "      <td>1.397174e+12</td>\n",
       "      <td>1.473347e+12</td>\n",
       "      <td>2.459906e+06</td>\n",
       "      <td>149</td>\n",
       "      <td>-0.051701</td>\n",
       "      <td>2023-01-15</td>\n",
       "      <td>18</td>\n",
       "      <td>549</td>\n",
       "      <td>1720.330169</td>\n",
       "      <td>56.404268</td>\n",
       "    </tr>\n",
       "    <tr>\n",
       "      <th>8</th>\n",
       "      <td>South Lahontan</td>\n",
       "      <td>6.252400e+10</td>\n",
       "      <td>6.688708e+10</td>\n",
       "      <td>1.030816e+06</td>\n",
       "      <td>13</td>\n",
       "      <td>-0.065230</td>\n",
       "      <td>2023-01-15</td>\n",
       "      <td>18</td>\n",
       "      <td>549</td>\n",
       "      <td>235.146737</td>\n",
       "      <td>7.709729</td>\n",
       "    </tr>\n",
       "    <tr>\n",
       "      <th>9</th>\n",
       "      <td>Tulare Lake</td>\n",
       "      <td>2.079847e+11</td>\n",
       "      <td>2.149136e+11</td>\n",
       "      <td>1.434569e+06</td>\n",
       "      <td>24</td>\n",
       "      <td>-0.032241</td>\n",
       "      <td>2023-01-15</td>\n",
       "      <td>18</td>\n",
       "      <td>549</td>\n",
       "      <td>268.332445</td>\n",
       "      <td>8.797785</td>\n",
       "    </tr>\n",
       "  </tbody>\n",
       "</table>\n",
       "</div>"
      ],
      "text/plain": [
       "   hydrologic_region  total_gallons_current  total_gallons_baseline  \\\n",
       "0      Central Coast           7.140871e+10            7.487851e+10   \n",
       "1     Colorado River           1.011012e+11            1.028715e+11   \n",
       "2        North Coast           1.675706e+10            2.008155e+10   \n",
       "3     North Lahontan           7.430619e+09            8.155529e+09   \n",
       "4   Sacramento River           2.820053e+11            3.050502e+11   \n",
       "5  San Francisco Bay           3.494246e+11            3.935982e+11   \n",
       "6  San Joaquin River           1.287306e+11            1.356984e+11   \n",
       "7        South Coast           1.397174e+12            1.473347e+12   \n",
       "8     South Lahontan           6.252400e+10            6.688708e+10   \n",
       "9        Tulare Lake           2.079847e+11            2.149136e+11   \n",
       "\n",
       "   total_population_served  total_reports  cumulative_pct_change       date  \\\n",
       "0             8.102742e+05             27              -0.046339 2023-01-15   \n",
       "1             1.145109e+06             11              -0.017209 2023-01-15   \n",
       "2             5.221559e+05             12              -0.165550 2023-01-15   \n",
       "3             3.544258e+05              5              -0.088886 2023-01-15   \n",
       "4             1.313972e+06             40              -0.075544 2023-01-15   \n",
       "5             3.187859e+06             37              -0.112230 2023-01-15   \n",
       "6             1.244461e+06             21              -0.051347 2023-01-15   \n",
       "7             2.459906e+06            149              -0.051701 2023-01-15   \n",
       "8             1.030816e+06             13              -0.065230 2023-01-15   \n",
       "9             1.434569e+06             24              -0.032241 2023-01-15   \n",
       "\n",
       "   months_since  days_since  gallons_saved_per_month  gallons_saved_per_day  \n",
       "0            18         549               237.903007               7.800099  \n",
       "1            18         549                85.887807               2.815994  \n",
       "2            18         549               353.714359              11.597192  \n",
       "3            18         549               113.628155               3.725513  \n",
       "4            18         549               974.350365              31.945914  \n",
       "5            18         549               769.823427              25.240112  \n",
       "6            18         549               311.056293              10.198567  \n",
       "7            18         549              1720.330169              56.404268  \n",
       "8            18         549               235.146737               7.709729  \n",
       "9            18         549               268.332445               8.797785  "
      ]
     },
     "execution_count": 164,
     "metadata": {},
     "output_type": "execute_result"
    }
   ],
   "source": [
    "regions_cumulative_savings_df"
   ]
  },
  {
   "cell_type": "markdown",
   "id": "8b1f50c9-e21c-4553-8771-c08b37a6cec3",
   "metadata": {},
   "source": [
    "Statewide"
   ]
  },
  {
   "cell_type": "code",
   "execution_count": 128,
   "id": "2eab363e-5dff-42f2-96e1-2cec18e8377c",
   "metadata": {},
   "outputs": [],
   "source": [
    "district_cumulative_savings_df[\"state\"] = \"California\""
   ]
  },
  {
   "cell_type": "code",
   "execution_count": 173,
   "id": "74cea2d2-d886-4851-8511-83bfeb60969a",
   "metadata": {},
   "outputs": [],
   "source": [
    "statewide_cumulative_savings_df = district_cumulative_savings_df.groupby(\n",
    "    [\"state\"]\n",
    ")[\n",
    "    [\"total_gallons_current\",\"total_gallons_baseline\", \"supplier_name\", \"total_population_served\"]\n",
    "].agg({\n",
    "    \"total_gallons_current\": \"sum\",\n",
    "    \"total_gallons_baseline\": \"sum\",\n",
    "    \"total_population_served\": \"sum\",\n",
    "    \"supplier_name\": \"size\"\n",
    "}).reset_index().rename(\n",
    "    columns={\"supplier_name\": \"total_reports\"}\n",
    ")"
   ]
  },
  {
   "cell_type": "code",
   "execution_count": 174,
   "id": "7e2cc8ce-7220-421b-ae45-62af7f44d16e",
   "metadata": {},
   "outputs": [],
   "source": [
    "#statewide_cumulative_savings_df[\"total_reports\"] = statewide_cumulative_savings_df[\"total_reports\"]"
   ]
  },
  {
   "cell_type": "code",
   "execution_count": 175,
   "id": "15d9b1b2-1343-4f51-87fa-aa28a3fa9ab6",
   "metadata": {},
   "outputs": [],
   "source": [
    "statewide_cumulative_savings_df[\"cumulative_pct_change\"] = statewide_cumulative_savings_df.apply(lambda x: pct_change(x.total_gallons_current, x.total_gallons_baseline), axis=1)"
   ]
  },
  {
   "cell_type": "code",
   "execution_count": 176,
   "id": "b5f23a2b-ad48-4fe9-a494-94c7f4977769",
   "metadata": {},
   "outputs": [],
   "source": [
    "statewide_cumulative_savings_df['date'] = date"
   ]
  },
  {
   "cell_type": "code",
   "execution_count": 177,
   "id": "3afd57f9-88e0-4f79-b04c-c66613e29d11",
   "metadata": {},
   "outputs": [],
   "source": [
    "statewide_cumulative_savings_df['months_since'] = months_since_reductions_begin\n",
    "statewide_cumulative_savings_df['days_since'] = days_since_reductions"
   ]
  },
  {
   "cell_type": "code",
   "execution_count": 178,
   "id": "b3e2c408-135b-43e6-9a47-916506f7288c",
   "metadata": {},
   "outputs": [],
   "source": [
    "statewide_cumulative_savings_df['gallons_saved_per_month'] = regions_cumulative_savings_df.apply(\n",
    "    lambda x: gallons_per_unit(\n",
    "        x.total_gallons_current, x.total_gallons_baseline, x.total_population_served, x.months_since\n",
    "    ), axis=1\n",
    ")"
   ]
  },
  {
   "cell_type": "code",
   "execution_count": 179,
   "id": "460f972e-675c-4ac0-96ce-c5f8feca786b",
   "metadata": {},
   "outputs": [],
   "source": [
    "statewide_cumulative_savings_df['gallons_saved_per_day'] = statewide_cumulative_savings_df.apply(\n",
    "    lambda x: gallons_per_unit(\n",
    "        x.total_gallons_current, x.total_gallons_baseline, x.total_population_served, x.days_since\n",
    "    ), axis=1\n",
    ")"
   ]
  },
  {
   "cell_type": "code",
   "execution_count": 180,
   "id": "1ade952d-dcaa-42a5-b57a-2094254d94d5",
   "metadata": {},
   "outputs": [
    {
     "data": {
      "text/html": [
       "<div>\n",
       "<style scoped>\n",
       "    .dataframe tbody tr th:only-of-type {\n",
       "        vertical-align: middle;\n",
       "    }\n",
       "\n",
       "    .dataframe tbody tr th {\n",
       "        vertical-align: top;\n",
       "    }\n",
       "\n",
       "    .dataframe thead th {\n",
       "        text-align: right;\n",
       "    }\n",
       "</style>\n",
       "<table border=\"1\" class=\"dataframe\">\n",
       "  <thead>\n",
       "    <tr style=\"text-align: right;\">\n",
       "      <th></th>\n",
       "      <th>state</th>\n",
       "      <th>total_gallons_current</th>\n",
       "      <th>total_gallons_baseline</th>\n",
       "      <th>total_population_served</th>\n",
       "      <th>total_reports</th>\n",
       "      <th>cumulative_pct_change</th>\n",
       "      <th>date</th>\n",
       "      <th>months_since</th>\n",
       "      <th>days_since</th>\n",
       "      <th>gallons_saved_per_month</th>\n",
       "      <th>gallons_saved_per_day</th>\n",
       "    </tr>\n",
       "  </thead>\n",
       "  <tbody>\n",
       "    <tr>\n",
       "      <th>0</th>\n",
       "      <td>California</td>\n",
       "      <td>2.624541e+12</td>\n",
       "      <td>2.795482e+12</td>\n",
       "      <td>653511233</td>\n",
       "      <td>339</td>\n",
       "      <td>-0.061149</td>\n",
       "      <td>2023-01-15</td>\n",
       "      <td>18</td>\n",
       "      <td>549</td>\n",
       "      <td>237.903007</td>\n",
       "      <td>0.476454</td>\n",
       "    </tr>\n",
       "  </tbody>\n",
       "</table>\n",
       "</div>"
      ],
      "text/plain": [
       "        state  total_gallons_current  total_gallons_baseline  \\\n",
       "0  California           2.624541e+12            2.795482e+12   \n",
       "\n",
       "   total_population_served  total_reports  cumulative_pct_change       date  \\\n",
       "0                653511233            339              -0.061149 2023-01-15   \n",
       "\n",
       "   months_since  days_since  gallons_saved_per_month  gallons_saved_per_day  \n",
       "0            18         549               237.903007               0.476454  "
      ]
     },
     "execution_count": 180,
     "metadata": {},
     "output_type": "execute_result"
    }
   ],
   "source": [
    "statewide_cumulative_savings_df"
   ]
  },
  {
   "cell_type": "markdown",
   "id": "b128928e-b9d4-45a6-b2bd-7c4e7006ce0e",
   "metadata": {},
   "source": [
    "### Round numbers"
   ]
  },
  {
   "cell_type": "code",
   "execution_count": 137,
   "id": "0afa61d0-dc1d-4b12-936d-4e094e926cca",
   "metadata": {},
   "outputs": [],
   "source": [
    "statewide_cumulative_savings_df[\"total_gallons_current\"] = statewide_cumulative_savings_df[\"total_gallons_current\"].round(0)\n",
    "statewide_cumulative_savings_df[\"total_gallons_baseline\"] = statewide_cumulative_savings_df[\"total_gallons_baseline\"].round(0)"
   ]
  },
  {
   "cell_type": "code",
   "execution_count": 138,
   "id": "243e01c1-c8ab-4641-b578-9ad8eb854247",
   "metadata": {},
   "outputs": [],
   "source": [
    "statewide_cumulative_savings_df[\"cumulative_pct_change\"] = statewide_cumulative_savings_df[\"cumulative_pct_change\"].round(3)"
   ]
  },
  {
   "cell_type": "code",
   "execution_count": 139,
   "id": "be1eec66-8b5f-4a06-a1b7-7db9b58f0738",
   "metadata": {},
   "outputs": [],
   "source": [
    "regions_cumulative_savings_df[\"total_gallons_current\"] = regions_cumulative_savings_df[\"total_gallons_current\"].round(0)\n",
    "regions_cumulative_savings_df[\"total_gallons_baseline\"] = regions_cumulative_savings_df[\"total_gallons_baseline\"].round(0)"
   ]
  },
  {
   "cell_type": "code",
   "execution_count": 140,
   "id": "7b2eb44b-f76e-4e17-8b0a-b298efc16f6a",
   "metadata": {},
   "outputs": [],
   "source": [
    "regions_cumulative_savings_df[\"cumulative_pct_change\"] = regions_cumulative_savings_df[\"cumulative_pct_change\"].round(3)"
   ]
  },
  {
   "cell_type": "markdown",
   "id": "794aa6ba-4ecf-4f6e-aef9-0988a1774d1e",
   "metadata": {},
   "source": [
    "### Charts"
   ]
  },
  {
   "cell_type": "code",
   "execution_count": 141,
   "id": "ef29a75e-dfec-4147-94cb-2930318b78b7",
   "metadata": {},
   "outputs": [],
   "source": [
    "# alt.Chart(\n",
    "#     regions_df[regions_df.hydrologic_region==\"South Coast\"]\n",
    "# ).mark_bar().encode(\n",
    "#     x=\"reporting_month:O\",\n",
    "#     y=\"gallons_pct_change:Q\",\n",
    "#     color=alt.condition(\n",
    "#         alt.datum.gallons_pct_change > 0,\n",
    "#         alt.value(\"#e6ae56\"),  # The positive color\n",
    "#         alt.value(\"#83c6e0\")  # The negative color\n",
    "#     ),\n",
    "#     tooltip=[\"gallons_pct_change\"]\n",
    "# ).properties(title=\"Monthly water conservation in the South Coast\", width=600)"
   ]
  },
  {
   "cell_type": "markdown",
   "id": "975529b7-c7e6-48ea-864c-e53c686552ea",
   "metadata": {},
   "source": [
    "### Export"
   ]
  },
  {
   "cell_type": "markdown",
   "id": "82949d34-32b2-48c4-be3b-abb99e823a89",
   "metadata": {},
   "source": [
    "Monthly"
   ]
  },
  {
   "cell_type": "code",
   "execution_count": 142,
   "id": "49b42cb4-fa6d-43d6-8ffe-ec35149c48aa",
   "metadata": {},
   "outputs": [],
   "source": [
    "statewide_df.to_csv(\"../data/processed/monthly-conservation/statewide-conservation-monthly.csv\", index=False)"
   ]
  },
  {
   "cell_type": "code",
   "execution_count": 143,
   "id": "fd815256-63a0-49bc-8ad5-56611b364977",
   "metadata": {},
   "outputs": [],
   "source": [
    "regions_df.to_csv(\"../data/processed/monthly-conservation/regional-conservation-monthly.csv\", index=False)"
   ]
  },
  {
   "cell_type": "code",
   "execution_count": 144,
   "id": "ab571d8a-20fd-4fd0-8991-51f7879622f3",
   "metadata": {},
   "outputs": [],
   "source": [
    "merge_df.to_csv(\"../data/processed/monthly-conservation/district-level-conservation-monthly.csv\", index=False)"
   ]
  },
  {
   "cell_type": "markdown",
   "id": "f49b44a7-4670-46ab-bdc8-6ed993199245",
   "metadata": {},
   "source": [
    "Cumulative"
   ]
  },
  {
   "cell_type": "code",
   "execution_count": 145,
   "id": "ae8b9b72-961d-4328-ac7d-f00523b9a83d",
   "metadata": {},
   "outputs": [],
   "source": [
    "statewide_cumulative_savings_df.to_csv(\"../data/processed/cumulative-conservation/statewide-conservation-cumulative.csv\", index=False)"
   ]
  },
  {
   "cell_type": "code",
   "execution_count": 146,
   "id": "b493afa0-34e8-4d36-8159-03aceb26d256",
   "metadata": {},
   "outputs": [],
   "source": [
    "regions_cumulative_savings_df.to_csv(\"../data/processed/cumulative-conservation/monthly-conservation-cumulative.csv\", index=False)"
   ]
  },
  {
   "cell_type": "code",
   "execution_count": 147,
   "id": "f37055f4-a11d-4a20-8df3-3a1d45eb0c2d",
   "metadata": {},
   "outputs": [],
   "source": [
    "district_cumulative_savings_df.to_csv(\"../data/processed/cumulative-conservation/district-level-conservation-cumulative.csv\", index=False)"
   ]
  }
 ],
 "metadata": {
  "kernelspec": {
   "display_name": "Python 3 (ipykernel)",
   "language": "python",
   "name": "python3"
  },
  "language_info": {
   "codemirror_mode": {
    "name": "ipython",
    "version": 3
   },
   "file_extension": ".py",
   "mimetype": "text/x-python",
   "name": "python",
   "nbconvert_exporter": "python",
   "pygments_lexer": "ipython3",
   "version": "3.9.16"
  }
 },
 "nbformat": 4,
 "nbformat_minor": 5
}
