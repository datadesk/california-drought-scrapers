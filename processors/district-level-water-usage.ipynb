{
 "cells": [
  {
   "cell_type": "code",
   "execution_count": 52,
   "id": "89e6bf97-56dc-449a-862e-426bda299ee5",
   "metadata": {},
   "outputs": [],
   "source": [
    "import pandas as pd\n",
    "import altair as alt\n",
    "import altair_latimes as lat"
   ]
  },
  {
   "cell_type": "code",
   "execution_count": 53,
   "id": "87ee398f-dd06-4471-90d8-74d2ad7f7a45",
   "metadata": {},
   "outputs": [
    {
     "data": {
      "text/plain": [
       "ThemeRegistry.enable('latimes')"
      ]
     },
     "execution_count": 53,
     "metadata": {},
     "output_type": "execute_result"
    }
   ],
   "source": [
    "alt.themes.register('latimes', lat.theme)\n",
    "alt.themes.enable('latimes')"
   ]
  },
  {
   "cell_type": "markdown",
   "id": "9965cc79-7807-43bb-af0e-6840e511ebeb",
   "metadata": {},
   "source": [
    "### Import"
   ]
  },
  {
   "cell_type": "markdown",
   "id": "0f45aef0-4ce6-4664-ad14-79bf4a9049d0",
   "metadata": {},
   "source": [
    "District data downloaded from portal"
   ]
  },
  {
   "cell_type": "code",
   "execution_count": 54,
   "id": "c03b3f41-de7d-4d3f-8b89-1e114979b829",
   "metadata": {},
   "outputs": [],
   "source": [
    "df = pd.read_csv(\"../data/raw/water-use-by-district-timeseries.csv\", parse_dates=[\"reporting_month\"])"
   ]
  },
  {
   "cell_type": "markdown",
   "id": "9ec88414-11c3-4b42-a023-d96797f629ab",
   "metadata": {},
   "source": [
    "Regional data scraped from dashboard "
   ]
  },
  {
   "cell_type": "code",
   "execution_count": 55,
   "id": "1d13abdd-1277-4129-bedf-2a80894bc9ff",
   "metadata": {},
   "outputs": [],
   "source": [
    "regional_usage = pd.read_csv(\"../data/raw/monthly-water-use-by-region.csv\")"
   ]
  },
  {
   "cell_type": "markdown",
   "id": "9665d9bb-75ad-481a-83e6-2e64f86ed026",
   "metadata": {},
   "source": [
    "---\n",
    "### Clean and analyze"
   ]
  },
  {
   "cell_type": "code",
   "execution_count": 58,
   "id": "4e32e287-2f05-4bc1-9121-6a05e23cb091",
   "metadata": {},
   "outputs": [],
   "source": [
    "keeps = ['supplier_name', 'reporting_month', 'county',\n",
    "       'hydrologic_region', 'total_population_served',\n",
    "       # 'county_under_drought_declaration',\n",
    "       'water_shortage_contingency_stage_invoked',\n",
    "       # 'water_shortage_level_indicator',\n",
    "        'calculated_r_gpcd']"
   ]
  },
  {
   "cell_type": "code",
   "execution_count": 59,
   "id": "50a566e7-0275-4d1c-9e96-b6a6d93bf935",
   "metadata": {},
   "outputs": [],
   "source": [
    "trim_df = df[keeps]"
   ]
  },
  {
   "cell_type": "code",
   "execution_count": 60,
   "id": "514abf5c-9f03-4154-bdf0-77600eb7c04a",
   "metadata": {},
   "outputs": [],
   "source": [
    "regional_usage[\"reporting_month\"] = pd.to_datetime(\n",
    "    regional_usage[\"year\"].astype(str) + '-' + regional_usage[\"month\"].astype(str) + '-15'\n",
    ")"
   ]
  },
  {
   "cell_type": "code",
   "execution_count": 61,
   "id": "f91b7953-4566-4eaa-82d0-42942069fa85",
   "metadata": {},
   "outputs": [],
   "source": [
    "merge_df = pd.merge(trim_df, regional_usage[[\"hydrologic_region\",\"reporting_month\",\"pop_weighted_rgpcd\"]], how=\"left\", on=[\"hydrologic_region\",\"reporting_month\"])"
   ]
  },
  {
   "cell_type": "code",
   "execution_count": 65,
   "id": "f5a82516-e58c-4ddd-97d0-9fa93960c561",
   "metadata": {},
   "outputs": [
    {
     "data": {
      "text/html": [
       "<div>\n",
       "<style scoped>\n",
       "    .dataframe tbody tr th:only-of-type {\n",
       "        vertical-align: middle;\n",
       "    }\n",
       "\n",
       "    .dataframe tbody tr th {\n",
       "        vertical-align: top;\n",
       "    }\n",
       "\n",
       "    .dataframe thead th {\n",
       "        text-align: right;\n",
       "    }\n",
       "</style>\n",
       "<table border=\"1\" class=\"dataframe\">\n",
       "  <thead>\n",
       "    <tr style=\"text-align: right;\">\n",
       "      <th></th>\n",
       "      <th>reporting_month</th>\n",
       "      <th>water_shortage_contingency_stage_invoked</th>\n",
       "      <th>supplier_name</th>\n",
       "    </tr>\n",
       "  </thead>\n",
       "  <tbody>\n",
       "    <tr>\n",
       "      <th>0</th>\n",
       "      <td>2014-06-15</td>\n",
       "      <td>Permanent Water Limitations</td>\n",
       "      <td>1</td>\n",
       "    </tr>\n",
       "    <tr>\n",
       "      <th>1</th>\n",
       "      <td>2014-06-15</td>\n",
       "      <td>0</td>\n",
       "      <td>7</td>\n",
       "    </tr>\n",
       "    <tr>\n",
       "      <th>2</th>\n",
       "      <td>2014-06-15</td>\n",
       "      <td>1</td>\n",
       "      <td>48</td>\n",
       "    </tr>\n",
       "    <tr>\n",
       "      <th>3</th>\n",
       "      <td>2014-06-15</td>\n",
       "      <td>1-A</td>\n",
       "      <td>2</td>\n",
       "    </tr>\n",
       "    <tr>\n",
       "      <th>4</th>\n",
       "      <td>2014-06-15</td>\n",
       "      <td>1B</td>\n",
       "      <td>1</td>\n",
       "    </tr>\n",
       "    <tr>\n",
       "      <th>...</th>\n",
       "      <td>...</td>\n",
       "      <td>...</td>\n",
       "      <td>...</td>\n",
       "    </tr>\n",
       "    <tr>\n",
       "      <th>8473</th>\n",
       "      <td>2022-03-15</td>\n",
       "      <td>permanent restrictions</td>\n",
       "      <td>1</td>\n",
       "    </tr>\n",
       "    <tr>\n",
       "      <th>8474</th>\n",
       "      <td>2022-03-15</td>\n",
       "      <td>stage 1</td>\n",
       "      <td>3</td>\n",
       "    </tr>\n",
       "    <tr>\n",
       "      <th>8475</th>\n",
       "      <td>2022-03-15</td>\n",
       "      <td>stage 2</td>\n",
       "      <td>2</td>\n",
       "    </tr>\n",
       "    <tr>\n",
       "      <th>8476</th>\n",
       "      <td>2022-03-15</td>\n",
       "      <td>stage II</td>\n",
       "      <td>1</td>\n",
       "    </tr>\n",
       "    <tr>\n",
       "      <th>8477</th>\n",
       "      <td>2022-03-15</td>\n",
       "      <td>stage one</td>\n",
       "      <td>1</td>\n",
       "    </tr>\n",
       "  </tbody>\n",
       "</table>\n",
       "<p>8478 rows × 3 columns</p>\n",
       "</div>"
      ],
      "text/plain": [
       "     reporting_month water_shortage_contingency_stage_invoked  supplier_name\n",
       "0         2014-06-15             Permanent Water Limitations               1\n",
       "1         2014-06-15                                        0              7\n",
       "2         2014-06-15                                        1             48\n",
       "3         2014-06-15                                      1-A              2\n",
       "4         2014-06-15                                       1B              1\n",
       "...              ...                                      ...            ...\n",
       "8473      2022-03-15                   permanent restrictions              1\n",
       "8474      2022-03-15                                  stage 1              3\n",
       "8475      2022-03-15                                  stage 2              2\n",
       "8476      2022-03-15                                 stage II              1\n",
       "8477      2022-03-15                                stage one              1\n",
       "\n",
       "[8478 rows x 3 columns]"
      ]
     },
     "execution_count": 65,
     "metadata": {},
     "output_type": "execute_result"
    }
   ],
   "source": [
    "merge_df.groupby([\"reporting_month\",\"water_shortage_contingency_stage_invoked\"])[\"supplier_name\"].count().reset_index()"
   ]
  },
  {
   "cell_type": "code",
   "execution_count": 48,
   "id": "f8ab2886-45b0-425b-ad77-cf32fc55b581",
   "metadata": {},
   "outputs": [],
   "source": [
    "melt = pd.melt(\n",
    "    merge_df, \n",
    "    id_vars=[\"supplier_name\",\"hydrologic_region\",\"reporting_month\"], \n",
    "    value_vars=[\"calculated_r_gpcd\",\"pop_weighted_rgpcd\"]\n",
    ")"
   ]
  },
  {
   "cell_type": "code",
   "execution_count": 51,
   "id": "58042a8b-1b8f-4e6a-9d09-c6bfe95f6dc9",
   "metadata": {},
   "outputs": [
    {
     "data": {
      "text/html": [
       "\n",
       "<div id=\"altair-viz-3dff8b8286534e92819ce8f8194a6f5a\"></div>\n",
       "<script type=\"text/javascript\">\n",
       "  var VEGA_DEBUG = (typeof VEGA_DEBUG == \"undefined\") ? {} : VEGA_DEBUG;\n",
       "  (function(spec, embedOpt){\n",
       "    let outputDiv = document.currentScript.previousElementSibling;\n",
       "    if (outputDiv.id !== \"altair-viz-3dff8b8286534e92819ce8f8194a6f5a\") {\n",
       "      outputDiv = document.getElementById(\"altair-viz-3dff8b8286534e92819ce8f8194a6f5a\");\n",
       "    }\n",
       "    const paths = {\n",
       "      \"vega\": \"https://cdn.jsdelivr.net/npm//vega@5?noext\",\n",
       "      \"vega-lib\": \"https://cdn.jsdelivr.net/npm//vega-lib?noext\",\n",
       "      \"vega-lite\": \"https://cdn.jsdelivr.net/npm//vega-lite@4.17.0?noext\",\n",
       "      \"vega-embed\": \"https://cdn.jsdelivr.net/npm//vega-embed@6?noext\",\n",
       "    };\n",
       "\n",
       "    function maybeLoadScript(lib, version) {\n",
       "      var key = `${lib.replace(\"-\", \"\")}_version`;\n",
       "      return (VEGA_DEBUG[key] == version) ?\n",
       "        Promise.resolve(paths[lib]) :\n",
       "        new Promise(function(resolve, reject) {\n",
       "          var s = document.createElement('script');\n",
       "          document.getElementsByTagName(\"head\")[0].appendChild(s);\n",
       "          s.async = true;\n",
       "          s.onload = () => {\n",
       "            VEGA_DEBUG[key] = version;\n",
       "            return resolve(paths[lib]);\n",
       "          };\n",
       "          s.onerror = () => reject(`Error loading script: ${paths[lib]}`);\n",
       "          s.src = paths[lib];\n",
       "        });\n",
       "    }\n",
       "\n",
       "    function showError(err) {\n",
       "      outputDiv.innerHTML = `<div class=\"error\" style=\"color:red;\">${err}</div>`;\n",
       "      throw err;\n",
       "    }\n",
       "\n",
       "    function displayChart(vegaEmbed) {\n",
       "      vegaEmbed(outputDiv, spec, embedOpt)\n",
       "        .catch(err => showError(`Javascript Error: ${err.message}<br>This usually means there's a typo in your chart specification. See the javascript console for the full traceback.`));\n",
       "    }\n",
       "\n",
       "    if(typeof define === \"function\" && define.amd) {\n",
       "      requirejs.config({paths});\n",
       "      require([\"vega-embed\"], displayChart, err => showError(`Error loading script: ${err.message}`));\n",
       "    } else {\n",
       "      maybeLoadScript(\"vega\", \"5\")\n",
       "        .then(() => maybeLoadScript(\"vega-lite\", \"4.17.0\"))\n",
       "        .then(() => maybeLoadScript(\"vega-embed\", \"6\"))\n",
       "        .catch(showError)\n",
       "        .then(() => displayChart(vegaEmbed));\n",
       "    }\n",
       "  })({\"config\": {\"view\": {\"width\": 800, \"height\": 450}, \"background\": \"#ffffff\", \"title\": {\"anchor\": \"start\", \"font\": \"BentonGothic-Bold, sans\", \"fontColor\": \"#000000\", \"fontSize\": 22, \"fontWeight\": \"normal\"}, \"arc\": {\"fill\": \"#82c6df\"}, \"area\": {\"fill\": \"#82c6df\"}, \"line\": {\"stroke\": \"#82c6df\", \"strokeWidth\": 3}, \"path\": {\"stroke\": \"#82c6df\"}, \"rect\": {\"fill\": \"#82c6df\"}, \"shape\": {\"stroke\": \"#82c6df\"}, \"bar\": {\"fill\": \"#82c6df\"}, \"point\": {\"stroke\": \"#82c6df\"}, \"symbol\": {\"fill\": \"#82c6df\", \"size\": 30}, \"axis\": {\"titleFont\": \"BentonGothic-Bold, sans\", \"titleFontSize\": 14, \"titleFontWeight\": \"normal\", \"labelFont\": \"BentonGothic, sans\", \"labelFontSize\": 12, \"labelFontWeight\": \"normal\"}, \"axisX\": {\"labelAngle\": 0, \"labelPadding\": 4, \"tickSize\": 3}, \"axisY\": {\"labelBaseline\": \"middle\", \"maxExtent\": 45, \"minExtent\": 45, \"tickSize\": 2, \"titleAlign\": \"left\", \"titleAngle\": 0, \"titleX\": -45, \"titleY\": -11}, \"legend\": {\"titleFont\": \"BentonGothic-Bold, sans\", \"titleFontSize\": 14, \"titleFontWeight\": \"normal\", \"symbolType\": \"square\", \"labelFont\": \"BentonGothic, sans\", \"labelFontSize\": 13}, \"range\": {\"category\": [\"#3580b1\", \"#ec8431\", \"#ab7fb4\", \"#c89d29\", \"#adc839\", \"#829eb1\"], \"diverging\": [\"#e68a4f\", \"#f4bb6a\", \"#f9e39c\", \"#dadfe2\", \"#a6b7c6\", \"#849eae\"], \"heatmap\": [\"#fbf2c7\", \"#f9e39c\", \"#f8d36e\", \"#f4bb6a\", \"#e68a4f\", \"#d15a40\", \"#ab4232\"], \"ordinal\": [\"#fbf2c7\", \"#f9e39c\", \"#f8d36e\", \"#f4bb6a\", \"#e68a4f\", \"#d15a40\", \"#ab4232\"], \"ramp\": [\"#fbf2c7\", \"#f9e39c\", \"#f8d36e\", \"#f4bb6a\", \"#e68a4f\", \"#d15a40\", \"#ab4232\"]}}, \"layer\": [{\"mark\": {\"type\": \"bar\", \"color\": \"#83c6e0\"}, \"encoding\": {\"x\": {\"field\": \"reporting_month\", \"timeUnit\": \"yearmonth\", \"type\": \"ordinal\"}, \"y\": {\"field\": \"calculated_r_gpcd\", \"stack\": null, \"type\": \"quantitative\"}}}, {\"mark\": {\"type\": \"line\", \"color\": \"#1281aa\", \"interpolate\": \"step\"}, \"encoding\": {\"x\": {\"field\": \"reporting_month\", \"timeUnit\": \"yearmonth\", \"type\": \"ordinal\"}, \"y\": {\"field\": \"pop_weighted_rgpcd\", \"type\": \"quantitative\"}}}, {\"data\": {\"name\": \"data-fbbb9ee2363bf5756f5e77cb136e052e\"}, \"mark\": {\"type\": \"rule\", \"color\": \"#b75a36\", \"strokeDash\": [10, 11]}, \"encoding\": {\"y\": {\"field\": \"y\", \"type\": \"quantitative\"}}}], \"data\": {\"name\": \"data-9617f110c232ab7b938b367dacc1af1d\"}, \"title\": \"LADWP residential water usage compared to regional average\", \"width\": 600, \"$schema\": \"https://vega.github.io/schema/vega-lite/v4.17.0.json\", \"datasets\": {\"data-9617f110c232ab7b938b367dacc1af1d\": [{\"supplier_name\": \"Los Angeles Department of Water and Power\", \"reporting_month\": \"2022-03-15T00:00:00\", \"county\": \"Los Angeles\", \"hydrologic_region\": \"South Coast\", \"total_population_served\": 3909230.0, \"calculated_r_gpcd\": 64.231, \"pop_weighted_rgpcd\": 76}, {\"supplier_name\": \"Los Angeles Department of Water and Power\", \"reporting_month\": \"2022-02-15T00:00:00\", \"county\": \"Los Angeles\", \"hydrologic_region\": \"South Coast\", \"total_population_served\": 3912423.0, \"calculated_r_gpcd\": 67.165, \"pop_weighted_rgpcd\": 76}, {\"supplier_name\": \"Los Angeles Department of Water and Power\", \"reporting_month\": \"2022-01-15T00:00:00\", \"county\": \"Los Angeles\", \"hydrologic_region\": \"South Coast\", \"total_population_served\": 3915617.0, \"calculated_r_gpcd\": 67.7702, \"pop_weighted_rgpcd\": 68}, {\"supplier_name\": \"Los Angeles Department of Water and Power\", \"reporting_month\": \"2021-12-15T00:00:00\", \"county\": \"Los Angeles\", \"hydrologic_region\": \"South Coast\", \"total_population_served\": 3918811.0, \"calculated_r_gpcd\": 70.432, \"pop_weighted_rgpcd\": 68}, {\"supplier_name\": \"Los Angeles Department of Water and Power\", \"reporting_month\": \"2021-11-15T00:00:00\", \"county\": \"Los Angeles\", \"hydrologic_region\": \"South Coast\", \"total_population_served\": 3922004.0, \"calculated_r_gpcd\": 74.928, \"pop_weighted_rgpcd\": 83}, {\"supplier_name\": \"Los Angeles Department of Water and Power\", \"reporting_month\": \"2021-10-15T00:00:00\", \"county\": \"Los Angeles\", \"hydrologic_region\": \"South Coast\", \"total_population_served\": 3925198.0, \"calculated_r_gpcd\": 79.0897, \"pop_weighted_rgpcd\": 86}, {\"supplier_name\": \"Los Angeles Department of Water and Power\", \"reporting_month\": \"2021-09-15T00:00:00\", \"county\": \"Los Angeles\", \"hydrologic_region\": \"South Coast\", \"total_population_served\": 3928392.0, \"calculated_r_gpcd\": 88.092, \"pop_weighted_rgpcd\": 101}, {\"supplier_name\": \"Los Angeles Department of Water and Power\", \"reporting_month\": \"2021-08-15T00:00:00\", \"county\": \"Los Angeles\", \"hydrologic_region\": \"South Coast\", \"total_population_served\": 3931585.0, \"calculated_r_gpcd\": 82.3971, \"pop_weighted_rgpcd\": 103}, {\"supplier_name\": \"Los Angeles Department of Water and Power\", \"reporting_month\": \"2021-07-15T00:00:00\", \"county\": \"Los Angeles\", \"hydrologic_region\": \"South Coast\", \"total_population_served\": 3934779.0, \"calculated_r_gpcd\": 78.4091, \"pop_weighted_rgpcd\": 103}, {\"supplier_name\": \"Los Angeles Department of Water and Power\", \"reporting_month\": \"2021-06-15T00:00:00\", \"county\": \"Los Angeles\", \"hydrologic_region\": \"South Coast\", \"total_population_served\": 4026634.0, \"calculated_r_gpcd\": 76.7075, \"pop_weighted_rgpcd\": 100}, {\"supplier_name\": \"Los Angeles Department of Water and Power\", \"reporting_month\": \"2021-05-15T00:00:00\", \"county\": \"Los Angeles\", \"hydrologic_region\": \"South Coast\", \"total_population_served\": 4027496.0, \"calculated_r_gpcd\": 70.9944, \"pop_weighted_rgpcd\": 90}, {\"supplier_name\": \"Los Angeles Department of Water and Power\", \"reporting_month\": \"2021-04-15T00:00:00\", \"county\": \"Los Angeles\", \"hydrologic_region\": \"South Coast\", \"total_population_served\": 4028358.0, \"calculated_r_gpcd\": 63.7729, \"pop_weighted_rgpcd\": 85}], \"data-fbbb9ee2363bf5756f5e77cb136e052e\": [{\"y\": 80}]}}, {\"mode\": \"vega-lite\"});\n",
       "</script>"
      ],
      "text/plain": [
       "alt.LayerChart(...)"
      ]
     },
     "execution_count": 51,
     "metadata": {},
     "output_type": "execute_result"
    }
   ],
   "source": [
    "base = alt.Chart(\n",
    "    merge_df[(merge_df.supplier_name == \"Los Angeles Department of Water and Power\") & (merge_df.reporting_month > \"2021-04-01\")]\n",
    ").encode(\n",
    "    x=alt.X(\"yearmonth(reporting_month):O\"),\n",
    ")\n",
    "\n",
    "bar = base.mark_bar(color=\"#83c6e0\").encode(\n",
    "    y=alt.Y(\"calculated_r_gpcd\", stack=None)\n",
    ")\n",
    "\n",
    "avg_line = base.mark_line(interpolate='step', color='#1281aa').encode(\n",
    "    y=alt.Y(\"pop_weighted_rgpcd\")\n",
    ")\n",
    "\n",
    "goal_line = alt.Chart(pd.DataFrame({'y': [80]})).mark_rule(color=\"#b75a36\",strokeDash=[10,11]).encode(y='y')\n",
    "\n",
    "(bar + avg_line + goal_line).properties(title=\"LADWP residential water usage compared to regional average\", width=600)"
   ]
  },
  {
   "cell_type": "code",
   "execution_count": null,
   "id": "352f77b0-041f-4e29-a14d-da64f338060f",
   "metadata": {},
   "outputs": [],
   "source": []
  },
  {
   "cell_type": "code",
   "execution_count": null,
   "id": "5bfd784b-cc8c-4c34-a887-4a69d0f87e5d",
   "metadata": {},
   "outputs": [],
   "source": []
  },
  {
   "cell_type": "code",
   "execution_count": null,
   "id": "25298276-a43c-4820-a548-aedb3733593e",
   "metadata": {},
   "outputs": [],
   "source": []
  }
 ],
 "metadata": {
  "kernelspec": {
   "display_name": "Python 3 (ipykernel)",
   "language": "python",
   "name": "python3"
  },
  "language_info": {
   "codemirror_mode": {
    "name": "ipython",
    "version": 3
   },
   "file_extension": ".py",
   "mimetype": "text/x-python",
   "name": "python",
   "nbconvert_exporter": "python",
   "pygments_lexer": "ipython3",
   "version": "3.9.6"
  }
 },
 "nbformat": 4,
 "nbformat_minor": 5
}
