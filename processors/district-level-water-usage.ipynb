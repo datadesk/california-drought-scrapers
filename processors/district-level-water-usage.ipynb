{
 "cells": [
  {
   "cell_type": "code",
   "execution_count": 53,
   "id": "89e6bf97-56dc-449a-862e-426bda299ee5",
   "metadata": {},
   "outputs": [],
   "source": [
    "import pandas as pd\n",
    "import numpy as np\n",
    "import altair as alt\n",
    "import altair_latimes as lat"
   ]
  },
  {
   "cell_type": "code",
   "execution_count": 54,
   "id": "bb80fd96-79ba-4a35-949c-95b5595a2376",
   "metadata": {},
   "outputs": [],
   "source": [
    "# import district data downloaded from portal"
   ]
  },
  {
   "cell_type": "code",
   "execution_count": 55,
   "id": "c03b3f41-de7d-4d3f-8b89-1e114979b829",
   "metadata": {},
   "outputs": [],
   "source": [
    "df = pd.read_csv(\"data/raw/water-use-by-district-timeseries.csv\", parse_dates=[\"reporting_month\"])"
   ]
  },
  {
   "cell_type": "code",
   "execution_count": 56,
   "id": "b6540ebf-b0ee-46e0-8a6c-fdb324cd71aa",
   "metadata": {},
   "outputs": [],
   "source": [
    "# import regional data scraped from dashboard "
   ]
  },
  {
   "cell_type": "code",
   "execution_count": 97,
   "id": "1d13abdd-1277-4129-bedf-2a80894bc9ff",
   "metadata": {},
   "outputs": [],
   "source": [
    "regional_usage = pd.read_csv(\"data/raw/monthly-water-use-by-region.csv\")"
   ]
  },
  {
   "cell_type": "markdown",
   "id": "9665d9bb-75ad-481a-83e6-2e64f86ed026",
   "metadata": {},
   "source": [
    "---\n",
    "### Clean and analyze"
   ]
  },
  {
   "cell_type": "code",
   "execution_count": 100,
   "id": "4e32e287-2f05-4bc1-9121-6a05e23cb091",
   "metadata": {},
   "outputs": [],
   "source": [
    "keeps = ['supplier_name', 'reporting_month', 'county',\n",
    "       'hydrologic_region', 'total_population_served',\n",
    "       # 'county_under_drought_declaration',\n",
    "       # 'water_shortage_contingency_stage_invoked',\n",
    "       # 'water_shortage_level_indicator',\n",
    "       'residential_use_pct',\n",
    "       'residential_water_use_gallons',\n",
    "        'calculated_r_gpcd']"
   ]
  },
  {
   "cell_type": "code",
   "execution_count": 101,
   "id": "50a566e7-0275-4d1c-9e96-b6a6d93bf935",
   "metadata": {},
   "outputs": [],
   "source": [
    "trim_df = df[keeps]"
   ]
  },
  {
   "cell_type": "code",
   "execution_count": 102,
   "id": "514abf5c-9f03-4154-bdf0-77600eb7c04a",
   "metadata": {},
   "outputs": [],
   "source": [
    "regional_usage[\"reporting_month\"] = pd.to_datetime(\n",
    "    regional_usage[\"year\"].astype(str) + '-' + regional_usage[\"month\"].astype(str) + '-15'\n",
    ")"
   ]
  },
  {
   "cell_type": "code",
   "execution_count": 103,
   "id": "f91b7953-4566-4eaa-82d0-42942069fa85",
   "metadata": {},
   "outputs": [],
   "source": [
    "merge_df = pd.merge(trim_df, regional_usage[[\"hydrologic_region\",\"reporting_month\",\"pop_weighted_rgpcd_region\"]], how=\"left\", on=[\"hydrologic_region\",\"reporting_month\"])"
   ]
  },
  {
   "cell_type": "code",
   "execution_count": 104,
   "id": "f8ab2886-45b0-425b-ad77-cf32fc55b581",
   "metadata": {},
   "outputs": [],
   "source": [
    "melt = pd.melt(\n",
    "    merge_df, \n",
    "    id_vars=[\"supplier_name\",\"hydrologic_region\",\"reporting_month\"], \n",
    "    value_vars=[\"calculated_r_gpcd\",\"pop_weighted_rgpcd_region\"]\n",
    ")"
   ]
  },
  {
   "cell_type": "code",
   "execution_count": 105,
   "id": "58042a8b-1b8f-4e6a-9d09-c6bfe95f6dc9",
   "metadata": {},
   "outputs": [
    {
     "data": {
      "text/html": [
       "\n",
       "<div id=\"altair-viz-3b1ec05fcb3b4f679ac021ad6cac8098\"></div>\n",
       "<script type=\"text/javascript\">\n",
       "  var VEGA_DEBUG = (typeof VEGA_DEBUG == \"undefined\") ? {} : VEGA_DEBUG;\n",
       "  (function(spec, embedOpt){\n",
       "    let outputDiv = document.currentScript.previousElementSibling;\n",
       "    if (outputDiv.id !== \"altair-viz-3b1ec05fcb3b4f679ac021ad6cac8098\") {\n",
       "      outputDiv = document.getElementById(\"altair-viz-3b1ec05fcb3b4f679ac021ad6cac8098\");\n",
       "    }\n",
       "    const paths = {\n",
       "      \"vega\": \"https://cdn.jsdelivr.net/npm//vega@5?noext\",\n",
       "      \"vega-lib\": \"https://cdn.jsdelivr.net/npm//vega-lib?noext\",\n",
       "      \"vega-lite\": \"https://cdn.jsdelivr.net/npm//vega-lite@4.17.0?noext\",\n",
       "      \"vega-embed\": \"https://cdn.jsdelivr.net/npm//vega-embed@6?noext\",\n",
       "    };\n",
       "\n",
       "    function maybeLoadScript(lib, version) {\n",
       "      var key = `${lib.replace(\"-\", \"\")}_version`;\n",
       "      return (VEGA_DEBUG[key] == version) ?\n",
       "        Promise.resolve(paths[lib]) :\n",
       "        new Promise(function(resolve, reject) {\n",
       "          var s = document.createElement('script');\n",
       "          document.getElementsByTagName(\"head\")[0].appendChild(s);\n",
       "          s.async = true;\n",
       "          s.onload = () => {\n",
       "            VEGA_DEBUG[key] = version;\n",
       "            return resolve(paths[lib]);\n",
       "          };\n",
       "          s.onerror = () => reject(`Error loading script: ${paths[lib]}`);\n",
       "          s.src = paths[lib];\n",
       "        });\n",
       "    }\n",
       "\n",
       "    function showError(err) {\n",
       "      outputDiv.innerHTML = `<div class=\"error\" style=\"color:red;\">${err}</div>`;\n",
       "      throw err;\n",
       "    }\n",
       "\n",
       "    function displayChart(vegaEmbed) {\n",
       "      vegaEmbed(outputDiv, spec, embedOpt)\n",
       "        .catch(err => showError(`Javascript Error: ${err.message}<br>This usually means there's a typo in your chart specification. See the javascript console for the full traceback.`));\n",
       "    }\n",
       "\n",
       "    if(typeof define === \"function\" && define.amd) {\n",
       "      requirejs.config({paths});\n",
       "      require([\"vega-embed\"], displayChart, err => showError(`Error loading script: ${err.message}`));\n",
       "    } else {\n",
       "      maybeLoadScript(\"vega\", \"5\")\n",
       "        .then(() => maybeLoadScript(\"vega-lite\", \"4.17.0\"))\n",
       "        .then(() => maybeLoadScript(\"vega-embed\", \"6\"))\n",
       "        .catch(showError)\n",
       "        .then(() => displayChart(vegaEmbed));\n",
       "    }\n",
       "  })({\"config\": {\"view\": {\"continuousWidth\": 400, \"continuousHeight\": 300}}, \"layer\": [{\"mark\": {\"type\": \"bar\", \"color\": \"#83c6e0\"}, \"encoding\": {\"x\": {\"field\": \"reporting_month\", \"timeUnit\": \"yearmonth\", \"type\": \"ordinal\"}, \"y\": {\"field\": \"calculated_r_gpcd\", \"stack\": null, \"type\": \"quantitative\"}}}, {\"mark\": {\"type\": \"line\", \"color\": \"#1281aa\", \"interpolate\": \"step\"}, \"encoding\": {\"x\": {\"field\": \"reporting_month\", \"timeUnit\": \"yearmonth\", \"type\": \"ordinal\"}, \"y\": {\"field\": \"pop_weighted_rgpcd_region\", \"type\": \"quantitative\"}}}, {\"data\": {\"name\": \"data-fbbb9ee2363bf5756f5e77cb136e052e\"}, \"mark\": {\"type\": \"rule\", \"color\": \"#b75a36\", \"strokeDash\": [10, 11]}, \"encoding\": {\"y\": {\"field\": \"y\", \"type\": \"quantitative\"}}}], \"data\": {\"name\": \"data-99da9f48fc26262a58670c1525e8d5c2\"}, \"title\": \"LADWP residential water usage compared to regional average\", \"width\": 600, \"$schema\": \"https://vega.github.io/schema/vega-lite/v4.17.0.json\", \"datasets\": {\"data-99da9f48fc26262a58670c1525e8d5c2\": [{\"supplier_name\": \"Los Angeles Department of Water and Power\", \"reporting_month\": \"2022-03-15T00:00:00\", \"county\": \"Los Angeles\", \"hydrologic_region\": \"South Coast\", \"total_population_served\": 3909230.0, \"residential_use_pct\": 0.5947, \"residential_water_use_gallons\": 7783899231.0696, \"calculated_r_gpcd\": 64.231, \"pop_weighted_rgpcd_region\": 76}, {\"supplier_name\": \"Los Angeles Department of Water and Power\", \"reporting_month\": \"2022-02-15T00:00:00\", \"county\": \"Los Angeles\", \"hydrologic_region\": \"South Coast\", \"total_population_served\": 3912423.0, \"residential_use_pct\": 0.6467, \"residential_water_use_gallons\": 7357773320.7972, \"calculated_r_gpcd\": 67.165, \"pop_weighted_rgpcd_region\": 76}, {\"supplier_name\": \"Los Angeles Department of Water and Power\", \"reporting_month\": \"2022-01-15T00:00:00\", \"county\": \"Los Angeles\", \"hydrologic_region\": \"South Coast\", \"total_population_served\": 3915617.0, \"residential_use_pct\": 0.7221, \"residential_water_use_gallons\": 8226218665.2231, \"calculated_r_gpcd\": 67.7702, \"pop_weighted_rgpcd_region\": 68}, {\"supplier_name\": \"Los Angeles Department of Water and Power\", \"reporting_month\": \"2021-12-15T00:00:00\", \"county\": \"Los Angeles\", \"hydrologic_region\": \"South Coast\", \"total_population_served\": 3918811.0, \"residential_use_pct\": 0.7633, \"residential_water_use_gallons\": 8556287871.5883, \"calculated_r_gpcd\": 70.432, \"pop_weighted_rgpcd_region\": 68}, {\"supplier_name\": \"Los Angeles Department of Water and Power\", \"reporting_month\": \"2021-11-15T00:00:00\", \"county\": \"Los Angeles\", \"hydrologic_region\": \"South Coast\", \"total_population_served\": 3922004.0, \"residential_use_pct\": 0.6837000000000001, \"residential_water_use_gallons\": 8816021455.3164, \"calculated_r_gpcd\": 74.928, \"pop_weighted_rgpcd_region\": 83}, {\"supplier_name\": \"Los Angeles Department of Water and Power\", \"reporting_month\": \"2021-10-15T00:00:00\", \"county\": \"Los Angeles\", \"hydrologic_region\": \"South Coast\", \"total_population_served\": 3925198.0, \"residential_use_pct\": 0.6988, \"residential_water_use_gallons\": 9623710544.8032, \"calculated_r_gpcd\": 79.0897, \"pop_weighted_rgpcd_region\": 86}, {\"supplier_name\": \"Los Angeles Department of Water and Power\", \"reporting_month\": \"2021-09-15T00:00:00\", \"county\": \"Los Angeles\", \"hydrologic_region\": \"South Coast\", \"total_population_served\": 3928392.0, \"residential_use_pct\": 0.7084999999999999, \"residential_water_use_gallons\": 10381787679.061499, \"calculated_r_gpcd\": 88.092, \"pop_weighted_rgpcd_region\": 101}, {\"supplier_name\": \"Los Angeles Department of Water and Power\", \"reporting_month\": \"2021-08-15T00:00:00\", \"county\": \"Los Angeles\", \"hydrologic_region\": \"South Coast\", \"total_population_served\": 3931585.0, \"residential_use_pct\": 0.6433, \"residential_water_use_gallons\": 10042472483.1564, \"calculated_r_gpcd\": 82.3971, \"pop_weighted_rgpcd_region\": 103}, {\"supplier_name\": \"Los Angeles Department of Water and Power\", \"reporting_month\": \"2021-07-15T00:00:00\", \"county\": \"Los Angeles\", \"hydrologic_region\": \"South Coast\", \"total_population_served\": 3934779.0, \"residential_use_pct\": 0.623, \"residential_water_use_gallons\": 9564182715.549, \"calculated_r_gpcd\": 78.4091, \"pop_weighted_rgpcd_region\": 103}, {\"supplier_name\": \"Los Angeles Department of Water and Power\", \"reporting_month\": \"2021-06-15T00:00:00\", \"county\": \"Los Angeles\", \"hydrologic_region\": \"South Coast\", \"total_population_served\": 4026634.0, \"residential_use_pct\": 0.6362, \"residential_water_use_gallons\": 9266181744.3276, \"calculated_r_gpcd\": 76.7075, \"pop_weighted_rgpcd_region\": 100}, {\"supplier_name\": \"Los Angeles Department of Water and Power\", \"reporting_month\": \"2021-05-15T00:00:00\", \"county\": \"Los Angeles\", \"hydrologic_region\": \"South Coast\", \"total_population_served\": 4027496.0, \"residential_use_pct\": 0.6227, \"residential_water_use_gallons\": 8863807634.8068, \"calculated_r_gpcd\": 70.9944, \"pop_weighted_rgpcd_region\": 90}, {\"supplier_name\": \"Los Angeles Department of Water and Power\", \"reporting_month\": \"2021-04-15T00:00:00\", \"county\": \"Los Angeles\", \"hydrologic_region\": \"South Coast\", \"total_population_served\": 4028358.0, \"residential_use_pct\": 0.5804, \"residential_water_use_gallons\": 7706988880.220401, \"calculated_r_gpcd\": 63.7729, \"pop_weighted_rgpcd_region\": 85}], \"data-fbbb9ee2363bf5756f5e77cb136e052e\": [{\"y\": 80}]}}, {\"mode\": \"vega-lite\"});\n",
       "</script>"
      ],
      "text/plain": [
       "alt.LayerChart(...)"
      ]
     },
     "execution_count": 105,
     "metadata": {},
     "output_type": "execute_result"
    }
   ],
   "source": [
    "base = alt.Chart(\n",
    "    merge_df[(merge_df.supplier_name == \"Los Angeles Department of Water and Power\") & (merge_df.reporting_month > \"2021-04-01\")]\n",
    ").encode(\n",
    "    x=alt.X(\"yearmonth(reporting_month):O\"),\n",
    ")\n",
    "\n",
    "bar = base.mark_bar(color=\"#83c6e0\").encode(\n",
    "    y=alt.Y(\"calculated_r_gpcd\", stack=None)\n",
    ")\n",
    "\n",
    "avg_line = base.mark_line(interpolate='step', color='#1281aa').encode(\n",
    "    y=alt.Y(\"pop_weighted_rgpcd_region\")\n",
    ")\n",
    "\n",
    "goal_line = alt.Chart(pd.DataFrame({'y': [80]})).mark_rule(color=\"#b75a36\",strokeDash=[10,11]).encode(y='y')\n",
    "\n",
    "(bar + avg_line + goal_line).properties(title=\"LADWP residential water usage compared to regional average\", width=600)"
   ]
  },
  {
   "cell_type": "code",
   "execution_count": null,
   "id": "352f77b0-041f-4e29-a14d-da64f338060f",
   "metadata": {},
   "outputs": [],
   "source": []
  }
 ],
 "metadata": {
  "kernelspec": {
   "display_name": "Python 3 (ipykernel)",
   "language": "python",
   "name": "python3"
  },
  "language_info": {
   "codemirror_mode": {
    "name": "ipython",
    "version": 3
   },
   "file_extension": ".py",
   "mimetype": "text/x-python",
   "name": "python",
   "nbconvert_exporter": "python",
   "pygments_lexer": "ipython3",
   "version": "3.9.6"
  }
 },
 "nbformat": 4,
 "nbformat_minor": 5
}
