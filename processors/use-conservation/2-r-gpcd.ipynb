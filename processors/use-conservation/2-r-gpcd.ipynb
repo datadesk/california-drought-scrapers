{
 "cells": [
  {
   "cell_type": "code",
   "execution_count": 2,
   "id": "89e6bf97-56dc-449a-862e-426bda299ee5",
   "metadata": {},
   "outputs": [],
   "source": [
    "import pandas as pd\n",
    "import altair as alt\n",
    "import altair_latimes as lat"
   ]
  },
  {
   "cell_type": "code",
   "execution_count": 3,
   "id": "87ee398f-dd06-4471-90d8-74d2ad7f7a45",
   "metadata": {},
   "outputs": [
    {
     "data": {
      "text/plain": [
       "ThemeRegistry.enable('latimes')"
      ]
     },
     "execution_count": 3,
     "metadata": {},
     "output_type": "execute_result"
    }
   ],
   "source": [
    "alt.themes.register('latimes', lat.theme)\n",
    "alt.themes.enable('latimes')"
   ]
  },
  {
   "cell_type": "markdown",
   "id": "9965cc79-7807-43bb-af0e-6840e511ebeb",
   "metadata": {},
   "source": [
    "### Import"
   ]
  },
  {
   "cell_type": "markdown",
   "id": "f19c51b2-d04a-43cb-ac02-bb8267917aac",
   "metadata": {},
   "source": [
    "Monthly reports timeseries"
   ]
  },
  {
   "cell_type": "code",
   "execution_count": 180,
   "id": "c03b3f41-de7d-4d3f-8b89-1e114979b829",
   "metadata": {},
   "outputs": [],
   "source": [
    "# df = pd.read_csv(\"../data/raw/uw-usage.csv\", parse_dates=[\"Reporting Month\"])\n",
    "df = pd.read_csv(\n",
    "    \"../../downloaders/use-conservation/data/latest.csv\", \n",
    "    parse_dates=[\"report_period_start_date\", \"report_period_end_date\"]\n",
    ")"
   ]
  },
  {
   "cell_type": "code",
   "execution_count": 181,
   "id": "3f26c3dc-4e93-4a61-987e-5bdc63f7758d",
   "metadata": {},
   "outputs": [],
   "source": [
    "clean_names = pd.read_csv(\"../../data/metadata/urban-water-suppliers-clean-names.csv\")"
   ]
  },
  {
   "cell_type": "markdown",
   "id": "5ee352c7-fbb1-4cdd-990f-575dcf1b4889",
   "metadata": {},
   "source": [
    "### Clean"
   ]
  },
  {
   "cell_type": "markdown",
   "id": "1a329783-20cc-4d4a-b71c-b2d4e9e984d5",
   "metadata": {},
   "source": [
    "Remove junk from column names"
   ]
  },
  {
   "cell_type": "code",
   "execution_count": 182,
   "id": "f1ed09d0-380d-4f9d-91ad-cdd52ea22fb9",
   "metadata": {
    "tags": []
   },
   "outputs": [],
   "source": [
    "df.columns = df.columns.str.strip(' ').str.replace(\"-\",\"_\")"
   ]
  },
  {
   "cell_type": "markdown",
   "id": "9b698ae0-bb21-406e-968c-3ccc8051b00b",
   "metadata": {},
   "source": [
    "Eliminate double spaces in supplier names"
   ]
  },
  {
   "cell_type": "code",
   "execution_count": 183,
   "id": "e9d8434b-11e4-4322-9f69-e8d20de3a2e1",
   "metadata": {},
   "outputs": [],
   "source": [
    "df.supplier_name = df.supplier_name.str.replace(\"  \", \" \")"
   ]
  },
  {
   "cell_type": "code",
   "execution_count": 184,
   "id": "899a1318-fc81-4ccd-a982-e3234e3bec01",
   "metadata": {
    "tags": []
   },
   "outputs": [],
   "source": [
    "df['supplier_name'] = df['supplier_name'].str.strip()"
   ]
  },
  {
   "cell_type": "markdown",
   "id": "b2bc306e-548b-47cf-9fcf-26b20a578872",
   "metadata": {},
   "source": [
    "### Merge clean names"
   ]
  },
  {
   "cell_type": "code",
   "execution_count": 185,
   "id": "5183df9a-100b-4132-9bec-90efc4a95f04",
   "metadata": {},
   "outputs": [],
   "source": [
    "merge_names_df = pd.merge(\n",
    "    df,\n",
    "    clean_names[[\"id\",\"display_name\"]],\n",
    "    how=\"left\",\n",
    "    left_on=[\"water_system_id\"],\n",
    "    right_on=[\"id\"]\n",
    ")"
   ]
  },
  {
   "cell_type": "code",
   "execution_count": 186,
   "id": "d0322f3f-335d-4205-a460-7297ff30cb05",
   "metadata": {},
   "outputs": [
    {
     "data": {
      "text/plain": [
       "array(['Amador Water Agency', 'Apple Valley Ranchos Water Company',\n",
       "       'City of Arcata', 'Bear Valley Community Services District',\n",
       "       'City of Big Bear Lake', 'City of Blythe',\n",
       "       'California American Water Company - Los Angeles Division',\n",
       "       'California American Water Company - Monterey District',\n",
       "       'California American Water Company - Sacramento District',\n",
       "       'California Water Service Company Kern River Valley',\n",
       "       'California Water Service Company Salinas District',\n",
       "       'California Water Service Company Visalia',\n",
       "       'Casitas Municipal Water District',\n",
       "       'Coachella Valley Water District', 'Crescent City',\n",
       "       'El Dorado Irrigation District',\n",
       "       'Elsinore Valley Municipal Water District', 'City of Lindsay',\n",
       "       'Los Angeles County Waterworks District 40 - Antelope Valley',\n",
       "       'City of Modesto', 'Nevada Irrigation District',\n",
       "       'North Tahoe Public Utilities District',\n",
       "       'Olivehurst Public Utilities District',\n",
       "       'Liberty Utilities (Park Water) Corp',\n",
       "       'Placer County Water Agency', 'Running Springs Water District',\n",
       "       'Sacramento County Water Agency',\n",
       "       'San Francisco Public Utilities Commission',\n",
       "       'San Lorenzo Valley Water District',\n",
       "       'Suburban Water Systems - San Jose Hills',\n",
       "       'Tahoe City Public Utilities District',\n",
       "       'Tuolumne Utilities District',\n",
       "       'Western Municipal Water District of Riverside',\n",
       "       'Santa Clarita Valley Water Agency'], dtype=object)"
      ]
     },
     "execution_count": 186,
     "metadata": {},
     "output_type": "execute_result"
    }
   ],
   "source": [
    "merge_names_df[merge_names_df.display_name.isnull()].supplier_name.unique()"
   ]
  },
  {
   "cell_type": "code",
   "execution_count": 187,
   "id": "b26df768-1398-43dc-9a84-4ee00c37f760",
   "metadata": {},
   "outputs": [],
   "source": [
    "merge_names_df.loc[merge_names_df.display_name.isnull(), \"display_name\"] = merge_names_df[\"supplier_name\"]"
   ]
  },
  {
   "cell_type": "markdown",
   "id": "76f78a3d-d908-4daa-966e-181667fc5b1b",
   "metadata": {},
   "source": [
    "### Trim"
   ]
  },
  {
   "cell_type": "markdown",
   "id": "d07ff870-11ef-4fe5-92a0-f1aeb4a8f0d2",
   "metadata": {},
   "source": [
    "Remove flagged `r-gpcd` values"
   ]
  },
  {
   "cell_type": "code",
   "execution_count": 188,
   "id": "87684038-ef51-4a8e-b2df-d080a08bc6ce",
   "metadata": {},
   "outputs": [],
   "source": [
    "remove_flagged = merge_names_df[merge_names_df.res_flag != 'Flagged']"
   ]
  },
  {
   "cell_type": "markdown",
   "id": "adcda64d-3e18-4fd7-b1a8-fa47eca21300",
   "metadata": {},
   "source": [
    "Trim this down to just the columns we need"
   ]
  },
  {
   "cell_type": "code",
   "execution_count": 189,
   "id": "255bd05a-9a48-44d8-b53a-c6123e56c1de",
   "metadata": {},
   "outputs": [],
   "source": [
    "keeps = [\n",
    "    'supplier_name', \n",
    "    'display_name',\n",
    "    'water_system_id', \n",
    "    'report_period_start_date', \n",
    "    'report_period_end_date',\n",
    "    'county',\n",
    "    'hydro_region', \n",
    "    # 'climate_zone', \n",
    "    'pop_report_period',\n",
    "    'potable_supply_minus_sold_minus_ag_gal',\n",
    "    'potable_supply_minus_sold_minus_ag_gal_flag',\n",
    "    'r_gpcd', \n",
    "    'res_flag'\n",
    "]"
   ]
  },
  {
   "cell_type": "code",
   "execution_count": 190,
   "id": "b0a6705a-00fd-4b96-98a2-e4deba47e94e",
   "metadata": {},
   "outputs": [],
   "source": [
    "trim_df = remove_flagged[keeps]"
   ]
  },
  {
   "cell_type": "markdown",
   "id": "6fab0f67-bcd7-4d7a-96cf-892e42666973",
   "metadata": {},
   "source": [
    "### Calculate"
   ]
  },
  {
   "cell_type": "markdown",
   "id": "dfaa37cd-e45d-431f-a56b-5d8c0cff3c59",
   "metadata": {},
   "source": [
    "Calculate population-weighted r-gpcd for hydrologic regions"
   ]
  },
  {
   "cell_type": "code",
   "execution_count": 191,
   "id": "58616d3c-ddb6-4e7c-9d11-f677b9a06a01",
   "metadata": {},
   "outputs": [],
   "source": [
    "def regional_calcs(df, gals, rgpcd, pop):\n",
    "    val = df[rgpcd]\n",
    "    wt = df[pop]\n",
    "    wt_avg = (val * wt).sum() / wt.sum()\n",
    "    #return (val * wt).sum() / wt.sum()\n",
    "    total_gals = df[gals].sum()\n",
    "    total_pop = df[pop].sum()\n",
    "    return pd.Series([total_pop, total_gals, wt_avg], index=['total_pop', 'total_gallons', 'pop_weighted_rgpcd'])"
   ]
  },
  {
   "cell_type": "code",
   "execution_count": 192,
   "id": "a260af2e-b9f6-44cd-85e5-730bd8aa88f3",
   "metadata": {},
   "outputs": [
    {
     "name": "stderr",
     "output_type": "stream",
     "text": [
      "/var/folders/fh/xklx_96541l_glf7cpxtt24m0000gq/T/ipykernel_67773/1025253842.py:1: DeprecationWarning: DataFrameGroupBy.apply operated on the grouping columns. This behavior is deprecated, and in a future version of pandas the grouping columns will be excluded from the operation. Either pass `include_groups=False` to exclude the groupings or explicitly select the grouping columns after groupby to silence this warning.\n",
      "  region_df = trim_df.groupby(\n"
     ]
    }
   ],
   "source": [
    "region_df = trim_df.groupby(\n",
    "    ['report_period_start_date','hydro_region']\n",
    ").apply(\n",
    "    regional_calcs,\n",
    "    \"potable_supply_minus_sold_minus_ag_gal\",\n",
    "    'r_gpcd', \n",
    "    'pop_report_period'\n",
    ").reset_index()"
   ]
  },
  {
   "cell_type": "markdown",
   "id": "344c6f73-4f27-46dc-8231-ded9c6482b19",
   "metadata": {},
   "source": [
    "Now do it for the entire state"
   ]
  },
  {
   "cell_type": "code",
   "execution_count": 193,
   "id": "4dde5b0c-fd6f-4444-a69a-e5e1316185f5",
   "metadata": {},
   "outputs": [
    {
     "name": "stderr",
     "output_type": "stream",
     "text": [
      "/var/folders/fh/xklx_96541l_glf7cpxtt24m0000gq/T/ipykernel_67773/2567205542.py:1: DeprecationWarning: DataFrameGroupBy.apply operated on the grouping columns. This behavior is deprecated, and in a future version of pandas the grouping columns will be excluded from the operation. Either pass `include_groups=False` to exclude the groupings or explicitly select the grouping columns after groupby to silence this warning.\n",
      "  statewide_df = trim_df.groupby(\n"
     ]
    }
   ],
   "source": [
    "statewide_df = trim_df.groupby(\n",
    "    ['report_period_start_date']\n",
    ").apply(\n",
    "    regional_calcs,\n",
    "    \"potable_supply_minus_sold_minus_ag_gal\",\n",
    "    'r_gpcd', \n",
    "    'pop_report_period'\n",
    ").reset_index()"
   ]
  },
  {
   "cell_type": "code",
   "execution_count": 194,
   "id": "3b95df70-7a3d-4d7e-be72-3db7edbebaae",
   "metadata": {},
   "outputs": [],
   "source": [
    "# in case we need to recalculate r-gpcd, use this dict for days per month\n",
    "# days_per_month = {\n",
    "#     \"1\": 31,\n",
    "#     \"2\": 28,\n",
    "#     \"3\": 31,\n",
    "#     \"4\": 30,\n",
    "#     \"5\": 31,\n",
    "#     \"6\": 30,\n",
    "#     \"7\": 31,\n",
    "#     \"8\": 31,\n",
    "#     \"9\": 30,\n",
    "#     \"10\": 31,\n",
    "#     \"11\": 30,\n",
    "#     \"12\": 31\n",
    "# }"
   ]
  },
  {
   "cell_type": "markdown",
   "id": "ae62cf35-d702-4622-bc74-1671ae386b4a",
   "metadata": {},
   "source": [
    "### Remove duplicates"
   ]
  },
  {
   "cell_type": "code",
   "execution_count": 195,
   "id": "e962d5f8-30c9-445f-b227-59a1f2a0624b",
   "metadata": {},
   "outputs": [
    {
     "data": {
      "text/plain": [
       "45875"
      ]
     },
     "execution_count": 195,
     "metadata": {},
     "output_type": "execute_result"
    }
   ],
   "source": [
    "len(trim_df)"
   ]
  },
  {
   "cell_type": "code",
   "execution_count": 196,
   "id": "13ef0b30-dbd8-425d-8836-cdba90269185",
   "metadata": {},
   "outputs": [],
   "source": [
    "tmp = trim_df.set_index(['supplier_name', 'report_period_start_date'])"
   ]
  },
  {
   "cell_type": "code",
   "execution_count": 197,
   "id": "a5906293-389e-4272-a692-e85e7ed0c76a",
   "metadata": {},
   "outputs": [],
   "source": [
    "remove_duplicates = tmp[~tmp.index.duplicated()].reset_index().copy()"
   ]
  },
  {
   "cell_type": "code",
   "execution_count": 198,
   "id": "395618d0-2f38-40e7-a435-3394ca4b4298",
   "metadata": {},
   "outputs": [
    {
     "data": {
      "text/plain": [
       "45875"
      ]
     },
     "execution_count": 198,
     "metadata": {},
     "output_type": "execute_result"
    }
   ],
   "source": [
    "len(remove_duplicates)"
   ]
  },
  {
   "cell_type": "markdown",
   "id": "a8fcea73-84a4-448f-9f20-330d7b185e9c",
   "metadata": {
    "tags": []
   },
   "source": [
    "### Backfill missing dates"
   ]
  },
  {
   "cell_type": "code",
   "execution_count": 199,
   "id": "e64c810c-03af-4f8c-8f9c-db59ca6fb586",
   "metadata": {},
   "outputs": [
    {
     "data": {
      "text/plain": [
       "Timestamp('2014-06-01 00:00:00')"
      ]
     },
     "execution_count": 199,
     "metadata": {},
     "output_type": "execute_result"
    }
   ],
   "source": [
    "min_date = trim_df.report_period_start_date.min()\n",
    "min_date"
   ]
  },
  {
   "cell_type": "code",
   "execution_count": 200,
   "id": "740c4b54-bce0-4abf-9f00-b070e755e246",
   "metadata": {},
   "outputs": [
    {
     "data": {
      "text/plain": [
       "Timestamp('2024-04-01 00:00:00')"
      ]
     },
     "execution_count": 200,
     "metadata": {},
     "output_type": "execute_result"
    }
   ],
   "source": [
    "max_date = trim_df.report_period_start_date.max()\n",
    "max_date"
   ]
  },
  {
   "cell_type": "code",
   "execution_count": 201,
   "id": "fb1e4aab-8d35-4e0e-8ec9-797d941846bc",
   "metadata": {},
   "outputs": [],
   "source": [
    "def backfill(agency_group):\n",
    "    \"\"\"\n",
    "    Backfills empty dates in the provided county group.\n",
    "\n",
    "    Runs from the earliest date in the group to the latest.\n",
    "\n",
    "    Filled in dates are given the previous day's case count with an `ffill` technique.\n",
    "\n",
    "    The expanded group is returned.\n",
    "    \"\"\"\n",
    "    agency_df = agency_group.sort_values([\"supplier_name\", \"report_period_start_date\"]).set_index(\n",
    "        [\"supplier_name\", \"report_period_start_date\"]\n",
    "    )\n",
    "\n",
    "    # Backfill the daterange\n",
    "    ## Get the full range of values from the extent of dates in the dataframe\n",
    "    date_range = pd.date_range(\n",
    "        min_date,\n",
    "        max_date,\n",
    "        freq=pd.DateOffset(months=1, day=1),\n",
    "    )\n",
    "    ## Get the full range of unique place names\n",
    "    name_range = agency_df.index.unique(level=\"supplier_name\")\n",
    "    ## Create a new index that has an entry for every place on every date\n",
    "    namedate_index = pd.MultiIndex.from_product(\n",
    "        iterables=[name_range, date_range], names=[\"supplier_name\", \"report_period_start_date\"]\n",
    "    )\n",
    "    ## Reindex the dataframe using that complete list of places and dates\n",
    "    backfilled_df = agency_df.reindex(namedate_index)\n",
    "\n",
    "    # Zero out missing data\n",
    "    # backfilled_df.r_gpcd.fillna(0, inplace=True)\n",
    "    backfilled_df.fillna({'r_gpcd': 0}, inplace=True)\n",
    "    # backfilled_df.potable_supply_minus_sold_minus_ag_gal.fillna(0, inplace=True)\n",
    "    backfilled_df.fillna({'potable_supply_minus_sold_minus_ag_gal': 0}, inplace=True)\n",
    "\n",
    "    # Foward-fill the other remaining columns\n",
    "    backfilled_df = backfilled_df.groupby(\"supplier_name\").ffill()\n",
    "\n",
    "    # Reset it\n",
    "    reset_df = backfilled_df.reset_index()\n",
    "\n",
    "    # Return it\n",
    "    return reset_df"
   ]
  },
  {
   "cell_type": "code",
   "execution_count": 202,
   "id": "8f6069fe-46c8-45df-a0a3-1c75544bdf51",
   "metadata": {},
   "outputs": [
    {
     "name": "stderr",
     "output_type": "stream",
     "text": [
      "/var/folders/fh/xklx_96541l_glf7cpxtt24m0000gq/T/ipykernel_67773/535621734.py:2: DeprecationWarning: DataFrameGroupBy.apply operated on the grouping columns. This behavior is deprecated, and in a future version of pandas the grouping columns will be excluded from the operation. Either pass `include_groups=False` to exclude the groupings or explicitly select the grouping columns after groupby to silence this warning.\n",
      "  remove_duplicates.groupby(\"supplier_name\").apply(backfill).reset_index(drop=True)\n"
     ]
    }
   ],
   "source": [
    "backfilled_df = (\n",
    "    remove_duplicates.groupby(\"supplier_name\").apply(backfill).reset_index(drop=True)\n",
    ")"
   ]
  },
  {
   "cell_type": "markdown",
   "id": "4455cc8f-4ed8-42ae-ab20-fd1b6737c686",
   "metadata": {},
   "source": [
    "### Merge regional r-gpcd values to district df"
   ]
  },
  {
   "cell_type": "code",
   "execution_count": 203,
   "id": "f91b7953-4566-4eaa-82d0-42942069fa85",
   "metadata": {},
   "outputs": [],
   "source": [
    "merge_regions_df = pd.merge(\n",
    "    remove_duplicates, \n",
    "    region_df[[\"hydro_region\",\"report_period_start_date\",\"pop_weighted_rgpcd\"]], \n",
    "    how=\"left\", \n",
    "    on=[\"hydro_region\",\"report_period_start_date\"]\n",
    ")"
   ]
  },
  {
   "cell_type": "markdown",
   "id": "b5537552-f28b-4635-9168-ec1e095de488",
   "metadata": {},
   "source": [
    "### Round water use figures to save space"
   ]
  },
  {
   "cell_type": "code",
   "execution_count": 204,
   "id": "77f75027-b95a-40b2-af61-81a070f2696c",
   "metadata": {},
   "outputs": [],
   "source": [
    "merge_regions_df[\"potable_supply_minus_sold_minus_ag_gal\"] = merge_regions_df[\"potable_supply_minus_sold_minus_ag_gal\"].round(0)"
   ]
  },
  {
   "cell_type": "code",
   "execution_count": 205,
   "id": "a5990e82-b3d2-443b-8028-70f4c1dfed45",
   "metadata": {},
   "outputs": [],
   "source": [
    "merge_regions_df[\"r_gpcd\"] = merge_regions_df[\"r_gpcd\"].round(1)"
   ]
  },
  {
   "cell_type": "code",
   "execution_count": 206,
   "id": "327906a7-6ccf-4581-966e-588ab7240729",
   "metadata": {},
   "outputs": [],
   "source": [
    "merge_regions_df[\"pop_weighted_rgpcd\"] = merge_regions_df[\"pop_weighted_rgpcd\"].round(1)"
   ]
  },
  {
   "cell_type": "markdown",
   "id": "6f05400a-a942-4bf6-8a79-ef6236cda6c3",
   "metadata": {},
   "source": [
    "### Rename columns for clarity and brevity"
   ]
  },
  {
   "cell_type": "code",
   "execution_count": 216,
   "id": "a7347354-69b3-4352-b8a3-06bbc7e2fd86",
   "metadata": {},
   "outputs": [],
   "source": [
    "rename_df = merge_regions_df.rename(columns={\n",
    "    \"water_system_id\": \"pwsid\",\n",
    "    \"report_period_start_date\": \"reporting_month\",\n",
    "    \"pop_report_period\": \"population\",\n",
    "    \"dwr_standard_level\": \"dwr_stage\",\n",
    "    \"potable_supply_minus_sold_minus_ag_gal\": \"total_water_production\",\n",
    "    \"r_gpcd\": \"r_gpcd\",\n",
    "    \"pop_weighted_rgpcd\": \"regional_r_gpcd\"\n",
    "})"
   ]
  },
  {
   "cell_type": "markdown",
   "id": "aa4e6755-4aa0-4349-a371-ca068512caf9",
   "metadata": {},
   "source": [
    "### Chart"
   ]
  },
  {
   "cell_type": "code",
   "execution_count": 217,
   "id": "f8ab2886-45b0-425b-ad77-cf32fc55b581",
   "metadata": {},
   "outputs": [],
   "source": [
    "melt = pd.melt(\n",
    "    rename_df, \n",
    "    id_vars=[\"display_name\",\"hydro_region\",\"reporting_month\"], \n",
    "    value_vars=[\"r_gpcd\",\"regional_r_gpcd\"]\n",
    ")"
   ]
  },
  {
   "cell_type": "code",
   "execution_count": 218,
   "id": "7c47fc97-51f6-4cf8-ab67-a18c9ad03113",
   "metadata": {},
   "outputs": [
    {
     "data": {
      "text/html": [
       "<div>\n",
       "<style scoped>\n",
       "    .dataframe tbody tr th:only-of-type {\n",
       "        vertical-align: middle;\n",
       "    }\n",
       "\n",
       "    .dataframe tbody tr th {\n",
       "        vertical-align: top;\n",
       "    }\n",
       "\n",
       "    .dataframe thead th {\n",
       "        text-align: right;\n",
       "    }\n",
       "</style>\n",
       "<table border=\"1\" class=\"dataframe\">\n",
       "  <thead>\n",
       "    <tr style=\"text-align: right;\">\n",
       "      <th></th>\n",
       "      <th>display_name</th>\n",
       "      <th>hydro_region</th>\n",
       "      <th>reporting_month</th>\n",
       "      <th>variable</th>\n",
       "      <th>value</th>\n",
       "    </tr>\n",
       "  </thead>\n",
       "  <tbody>\n",
       "    <tr>\n",
       "      <th>11398</th>\n",
       "      <td>East Bay Municipal Utilities District</td>\n",
       "      <td>San Francisco Bay</td>\n",
       "      <td>2024-03-01</td>\n",
       "      <td>r_gpcd</td>\n",
       "      <td>48.2</td>\n",
       "    </tr>\n",
       "    <tr>\n",
       "      <th>11399</th>\n",
       "      <td>East Bay Municipal Utilities District</td>\n",
       "      <td>San Francisco Bay</td>\n",
       "      <td>2023-12-01</td>\n",
       "      <td>r_gpcd</td>\n",
       "      <td>51.5</td>\n",
       "    </tr>\n",
       "    <tr>\n",
       "      <th>11400</th>\n",
       "      <td>East Bay Municipal Utilities District</td>\n",
       "      <td>San Francisco Bay</td>\n",
       "      <td>2023-11-01</td>\n",
       "      <td>r_gpcd</td>\n",
       "      <td>57.8</td>\n",
       "    </tr>\n",
       "    <tr>\n",
       "      <th>11401</th>\n",
       "      <td>East Bay Municipal Utilities District</td>\n",
       "      <td>San Francisco Bay</td>\n",
       "      <td>2023-10-01</td>\n",
       "      <td>r_gpcd</td>\n",
       "      <td>65.9</td>\n",
       "    </tr>\n",
       "    <tr>\n",
       "      <th>11402</th>\n",
       "      <td>East Bay Municipal Utilities District</td>\n",
       "      <td>San Francisco Bay</td>\n",
       "      <td>2023-09-01</td>\n",
       "      <td>r_gpcd</td>\n",
       "      <td>72.8</td>\n",
       "    </tr>\n",
       "    <tr>\n",
       "      <th>...</th>\n",
       "      <td>...</td>\n",
       "      <td>...</td>\n",
       "      <td>...</td>\n",
       "      <td>...</td>\n",
       "      <td>...</td>\n",
       "    </tr>\n",
       "    <tr>\n",
       "      <th>57587</th>\n",
       "      <td>City of East Palo Alto</td>\n",
       "      <td>San Francisco Bay</td>\n",
       "      <td>2014-10-01</td>\n",
       "      <td>regional_r_gpcd</td>\n",
       "      <td>75.6</td>\n",
       "    </tr>\n",
       "    <tr>\n",
       "      <th>57588</th>\n",
       "      <td>City of East Palo Alto</td>\n",
       "      <td>San Francisco Bay</td>\n",
       "      <td>2014-09-01</td>\n",
       "      <td>regional_r_gpcd</td>\n",
       "      <td>83.8</td>\n",
       "    </tr>\n",
       "    <tr>\n",
       "      <th>57589</th>\n",
       "      <td>City of East Palo Alto</td>\n",
       "      <td>San Francisco Bay</td>\n",
       "      <td>2014-08-01</td>\n",
       "      <td>regional_r_gpcd</td>\n",
       "      <td>90.6</td>\n",
       "    </tr>\n",
       "    <tr>\n",
       "      <th>57590</th>\n",
       "      <td>City of East Palo Alto</td>\n",
       "      <td>San Francisco Bay</td>\n",
       "      <td>2014-07-01</td>\n",
       "      <td>regional_r_gpcd</td>\n",
       "      <td>94.6</td>\n",
       "    </tr>\n",
       "    <tr>\n",
       "      <th>57591</th>\n",
       "      <td>City of East Palo Alto</td>\n",
       "      <td>San Francisco Bay</td>\n",
       "      <td>2014-06-01</td>\n",
       "      <td>regional_r_gpcd</td>\n",
       "      <td>93.8</td>\n",
       "    </tr>\n",
       "  </tbody>\n",
       "</table>\n",
       "<p>446 rows × 5 columns</p>\n",
       "</div>"
      ],
      "text/plain": [
       "                                display_name       hydro_region  \\\n",
       "11398  East Bay Municipal Utilities District  San Francisco Bay   \n",
       "11399  East Bay Municipal Utilities District  San Francisco Bay   \n",
       "11400  East Bay Municipal Utilities District  San Francisco Bay   \n",
       "11401  East Bay Municipal Utilities District  San Francisco Bay   \n",
       "11402  East Bay Municipal Utilities District  San Francisco Bay   \n",
       "...                                      ...                ...   \n",
       "57587                 City of East Palo Alto  San Francisco Bay   \n",
       "57588                 City of East Palo Alto  San Francisco Bay   \n",
       "57589                 City of East Palo Alto  San Francisco Bay   \n",
       "57590                 City of East Palo Alto  San Francisco Bay   \n",
       "57591                 City of East Palo Alto  San Francisco Bay   \n",
       "\n",
       "      reporting_month         variable  value  \n",
       "11398      2024-03-01           r_gpcd   48.2  \n",
       "11399      2023-12-01           r_gpcd   51.5  \n",
       "11400      2023-11-01           r_gpcd   57.8  \n",
       "11401      2023-10-01           r_gpcd   65.9  \n",
       "11402      2023-09-01           r_gpcd   72.8  \n",
       "...               ...              ...    ...  \n",
       "57587      2014-10-01  regional_r_gpcd   75.6  \n",
       "57588      2014-09-01  regional_r_gpcd   83.8  \n",
       "57589      2014-08-01  regional_r_gpcd   90.6  \n",
       "57590      2014-07-01  regional_r_gpcd   94.6  \n",
       "57591      2014-06-01  regional_r_gpcd   93.8  \n",
       "\n",
       "[446 rows x 5 columns]"
      ]
     },
     "execution_count": 218,
     "metadata": {},
     "output_type": "execute_result"
    }
   ],
   "source": [
    "melt[(melt.hydro_region == 'San Francisco Bay') & (melt.display_name.str.contains('East'))]"
   ]
  },
  {
   "cell_type": "code",
   "execution_count": 219,
   "id": "58042a8b-1b8f-4e6a-9d09-c6bfe95f6dc9",
   "metadata": {},
   "outputs": [
    {
     "data": {
      "text/html": [
       "\n",
       "<style>\n",
       "  #altair-viz-ccafe7317218439090fa1ddefe96f341.vega-embed {\n",
       "    width: 100%;\n",
       "    display: flex;\n",
       "  }\n",
       "\n",
       "  #altair-viz-ccafe7317218439090fa1ddefe96f341.vega-embed details,\n",
       "  #altair-viz-ccafe7317218439090fa1ddefe96f341.vega-embed details summary {\n",
       "    position: relative;\n",
       "  }\n",
       "</style>\n",
       "<div id=\"altair-viz-ccafe7317218439090fa1ddefe96f341\"></div>\n",
       "<script type=\"text/javascript\">\n",
       "  var VEGA_DEBUG = (typeof VEGA_DEBUG == \"undefined\") ? {} : VEGA_DEBUG;\n",
       "  (function(spec, embedOpt){\n",
       "    let outputDiv = document.currentScript.previousElementSibling;\n",
       "    if (outputDiv.id !== \"altair-viz-ccafe7317218439090fa1ddefe96f341\") {\n",
       "      outputDiv = document.getElementById(\"altair-viz-ccafe7317218439090fa1ddefe96f341\");\n",
       "    }\n",
       "    const paths = {\n",
       "      \"vega\": \"https://cdn.jsdelivr.net/npm/vega@5?noext\",\n",
       "      \"vega-lib\": \"https://cdn.jsdelivr.net/npm/vega-lib?noext\",\n",
       "      \"vega-lite\": \"https://cdn.jsdelivr.net/npm/vega-lite@5.16.3?noext\",\n",
       "      \"vega-embed\": \"https://cdn.jsdelivr.net/npm/vega-embed@6?noext\",\n",
       "    };\n",
       "\n",
       "    function maybeLoadScript(lib, version) {\n",
       "      var key = `${lib.replace(\"-\", \"\")}_version`;\n",
       "      return (VEGA_DEBUG[key] == version) ?\n",
       "        Promise.resolve(paths[lib]) :\n",
       "        new Promise(function(resolve, reject) {\n",
       "          var s = document.createElement('script');\n",
       "          document.getElementsByTagName(\"head\")[0].appendChild(s);\n",
       "          s.async = true;\n",
       "          s.onload = () => {\n",
       "            VEGA_DEBUG[key] = version;\n",
       "            return resolve(paths[lib]);\n",
       "          };\n",
       "          s.onerror = () => reject(`Error loading script: ${paths[lib]}`);\n",
       "          s.src = paths[lib];\n",
       "        });\n",
       "    }\n",
       "\n",
       "    function showError(err) {\n",
       "      outputDiv.innerHTML = `<div class=\"error\" style=\"color:red;\">${err}</div>`;\n",
       "      throw err;\n",
       "    }\n",
       "\n",
       "    function displayChart(vegaEmbed) {\n",
       "      vegaEmbed(outputDiv, spec, embedOpt)\n",
       "        .catch(err => showError(`Javascript Error: ${err.message}<br>This usually means there's a typo in your chart specification. See the javascript console for the full traceback.`));\n",
       "    }\n",
       "\n",
       "    if(typeof define === \"function\" && define.amd) {\n",
       "      requirejs.config({paths});\n",
       "      require([\"vega-embed\"], displayChart, err => showError(`Error loading script: ${err.message}`));\n",
       "    } else {\n",
       "      maybeLoadScript(\"vega\", \"5\")\n",
       "        .then(() => maybeLoadScript(\"vega-lite\", \"5.16.3\"))\n",
       "        .then(() => maybeLoadScript(\"vega-embed\", \"6\"))\n",
       "        .catch(showError)\n",
       "        .then(() => displayChart(vegaEmbed));\n",
       "    }\n",
       "  })({\"config\": {\"view\": {\"width\": 800, \"height\": 450}, \"background\": \"#ffffff\", \"title\": {\"anchor\": \"start\", \"font\": \"BentonGothic-Bold, sans\", \"fontColor\": \"#000000\", \"fontSize\": 22, \"fontWeight\": \"normal\"}, \"arc\": {\"fill\": \"#82c6df\"}, \"area\": {\"fill\": \"#82c6df\"}, \"line\": {\"stroke\": \"#82c6df\", \"strokeWidth\": 3}, \"path\": {\"stroke\": \"#82c6df\"}, \"rect\": {\"fill\": \"#82c6df\"}, \"shape\": {\"stroke\": \"#82c6df\"}, \"bar\": {\"fill\": \"#82c6df\"}, \"point\": {\"stroke\": \"#82c6df\"}, \"symbol\": {\"fill\": \"#82c6df\", \"size\": 30}, \"axis\": {\"titleFont\": \"BentonGothic-Bold, sans\", \"titleFontSize\": 14, \"titleFontWeight\": \"normal\", \"labelFont\": \"BentonGothic, sans\", \"labelFontSize\": 12, \"labelFontWeight\": \"normal\"}, \"axisX\": {\"labelAngle\": 0, \"labelPadding\": 4, \"tickSize\": 3}, \"axisY\": {\"labelBaseline\": \"middle\", \"maxExtent\": 45, \"minExtent\": 45, \"tickSize\": 2, \"titleAlign\": \"left\", \"titleAngle\": 0, \"titleX\": -45, \"titleY\": -11}, \"legend\": {\"titleFont\": \"BentonGothic-Bold, sans\", \"titleFontSize\": 14, \"titleFontWeight\": \"normal\", \"symbolType\": \"square\", \"labelFont\": \"BentonGothic, sans\", \"labelFontSize\": 13}, \"range\": {\"category\": [\"#3580b1\", \"#ec8431\", \"#ab7fb4\", \"#c89d29\", \"#adc839\", \"#829eb1\"], \"diverging\": [\"#e68a4f\", \"#f4bb6a\", \"#f9e39c\", \"#dadfe2\", \"#a6b7c6\", \"#849eae\"], \"heatmap\": [\"#fbf2c7\", \"#f9e39c\", \"#f8d36e\", \"#f4bb6a\", \"#e68a4f\", \"#d15a40\", \"#ab4232\"], \"ordinal\": [\"#fbf2c7\", \"#f9e39c\", \"#f8d36e\", \"#f4bb6a\", \"#e68a4f\", \"#d15a40\", \"#ab4232\"], \"ramp\": [\"#fbf2c7\", \"#f9e39c\", \"#f8d36e\", \"#f4bb6a\", \"#e68a4f\", \"#d15a40\", \"#ab4232\"]}}, \"layer\": [{\"mark\": {\"type\": \"bar\", \"color\": \"#83c6e0\"}, \"encoding\": {\"text\": {\"field\": \"r_gpcd\", \"type\": \"quantitative\"}, \"tooltip\": [{\"field\": \"r_gpcd\", \"type\": \"quantitative\"}, {\"field\": \"reporting_month\", \"type\": \"temporal\"}], \"x\": {\"axis\": {\"title\": \"\"}, \"field\": \"reporting_month\", \"timeUnit\": \"yearmonth\", \"type\": \"ordinal\"}, \"y\": {\"axis\": {\"title\": \"Residential gallons per capita per day\"}, \"field\": \"r_gpcd\", \"stack\": null, \"type\": \"quantitative\"}}}, {\"mark\": {\"type\": \"line\", \"color\": \"#1281aa\", \"interpolate\": \"step\"}, \"encoding\": {\"text\": {\"field\": \"regional_r_gpcd\", \"type\": \"quantitative\"}, \"tooltip\": [{\"field\": \"r_gpcd\", \"type\": \"quantitative\"}, {\"field\": \"reporting_month\", \"type\": \"temporal\"}], \"x\": {\"axis\": {\"title\": \"\"}, \"field\": \"reporting_month\", \"timeUnit\": \"yearmonth\", \"type\": \"ordinal\"}, \"y\": {\"field\": \"regional_r_gpcd\", \"type\": \"quantitative\"}}}, {\"mark\": {\"type\": \"text\", \"align\": \"center\", \"dy\": -7}, \"encoding\": {\"text\": {\"field\": \"r_gpcd\", \"type\": \"quantitative\"}, \"tooltip\": [{\"field\": \"r_gpcd\", \"type\": \"quantitative\"}, {\"field\": \"reporting_month\", \"type\": \"temporal\"}], \"x\": {\"axis\": {\"title\": \"\"}, \"field\": \"reporting_month\", \"timeUnit\": \"yearmonth\", \"type\": \"ordinal\"}, \"y\": {\"axis\": {\"title\": \"Residential gallons per capita per day\"}, \"field\": \"r_gpcd\", \"stack\": null, \"type\": \"quantitative\"}}}, {\"mark\": {\"type\": \"text\", \"align\": \"center\", \"dy\": -7}, \"encoding\": {\"text\": {\"field\": \"regional_r_gpcd\", \"type\": \"quantitative\"}, \"tooltip\": [{\"field\": \"r_gpcd\", \"type\": \"quantitative\"}, {\"field\": \"reporting_month\", \"type\": \"temporal\"}], \"x\": {\"axis\": {\"title\": \"\"}, \"field\": \"reporting_month\", \"timeUnit\": \"yearmonth\", \"type\": \"ordinal\"}, \"y\": {\"field\": \"regional_r_gpcd\", \"type\": \"quantitative\"}}}], \"data\": {\"name\": \"data-5830c1d0e5b401c279a0a5dbb47c18f0\"}, \"title\": \"East Bay Municipal Utilities District residential water usage compared to regional average\", \"width\": 600, \"$schema\": \"https://vega.github.io/schema/vega-lite/v5.16.3.json\", \"datasets\": {\"data-5830c1d0e5b401c279a0a5dbb47c18f0\": [{\"supplier_name\": \"East Bay Municipal Utility District\", \"reporting_month\": \"2024-03-01T00:00:00\", \"display_name\": \"East Bay Municipal Utilities District\", \"pwsid\": \"CA0110005\", \"report_period_end_date\": \"2024-03-31T00:00:00\", \"county\": \"ALAMEDA\", \"hydro_region\": \"San Francisco Bay\", \"population\": 1430200, \"total_water_production\": 6881470000.0, \"potable_supply_minus_sold_minus_ag_gal_flag\": null, \"r_gpcd\": 48.2, \"res_flag\": NaN, \"regional_r_gpcd\": 41.9}, {\"supplier_name\": \"East Bay Municipal Utility District\", \"reporting_month\": \"2023-12-01T00:00:00\", \"display_name\": \"East Bay Municipal Utilities District\", \"pwsid\": \"CA0110005\", \"report_period_end_date\": \"2023-12-31T00:00:00\", \"county\": \"ALAMEDA\", \"hydro_region\": \"San Francisco Bay\", \"population\": 1430200, \"total_water_production\": 7916500000.0, \"potable_supply_minus_sold_minus_ag_gal_flag\": \"Flagged\", \"r_gpcd\": 51.5, \"res_flag\": NaN, \"regional_r_gpcd\": 50.9}, {\"supplier_name\": \"East Bay Municipal Utility District\", \"reporting_month\": \"2023-11-01T00:00:00\", \"display_name\": \"East Bay Municipal Utilities District\", \"pwsid\": \"CA0110005\", \"report_period_end_date\": \"2023-11-30T00:00:00\", \"county\": \"ALAMEDA\", \"hydro_region\": \"San Francisco Bay\", \"population\": 1430200, \"total_water_production\": 8963900000.0, \"potable_supply_minus_sold_minus_ag_gal_flag\": null, \"r_gpcd\": 57.8, \"res_flag\": NaN, \"regional_r_gpcd\": 60.0}, {\"supplier_name\": \"East Bay Municipal Utility District\", \"reporting_month\": \"2023-10-01T00:00:00\", \"display_name\": \"East Bay Municipal Utilities District\", \"pwsid\": \"CA0110005\", \"report_period_end_date\": \"2023-10-31T00:00:00\", \"county\": \"ALAMEDA\", \"hydro_region\": \"San Francisco Bay\", \"population\": 1430200, \"total_water_production\": 10189340000.0, \"potable_supply_minus_sold_minus_ag_gal_flag\": null, \"r_gpcd\": 65.9, \"res_flag\": NaN, \"regional_r_gpcd\": 65.3}, {\"supplier_name\": \"East Bay Municipal Utility District\", \"reporting_month\": \"2023-09-01T00:00:00\", \"display_name\": \"East Bay Municipal Utilities District\", \"pwsid\": \"CA0110005\", \"report_period_end_date\": \"2023-09-30T00:00:00\", \"county\": \"ALAMEDA\", \"hydro_region\": \"San Francisco Bay\", \"population\": 1430200, \"total_water_production\": 10075980000.0, \"potable_supply_minus_sold_minus_ag_gal_flag\": null, \"r_gpcd\": 72.8, \"res_flag\": NaN, \"regional_r_gpcd\": 70.9}, {\"supplier_name\": \"East Bay Municipal Utility District\", \"reporting_month\": \"2023-08-01T00:00:00\", \"display_name\": \"East Bay Municipal Utilities District\", \"pwsid\": \"CA0110005\", \"report_period_end_date\": \"2023-08-31T00:00:00\", \"county\": \"ALAMEDA\", \"hydro_region\": \"San Francisco Bay\", \"population\": 1430200, \"total_water_production\": 10857520000.0, \"potable_supply_minus_sold_minus_ag_gal_flag\": \"Flagged\", \"r_gpcd\": 76.2, \"res_flag\": NaN, \"regional_r_gpcd\": 69.4}, {\"supplier_name\": \"East Bay Municipal Utility District\", \"reporting_month\": \"2023-07-01T00:00:00\", \"display_name\": \"East Bay Municipal Utilities District\", \"pwsid\": \"CA0110005\", \"report_period_end_date\": \"2023-07-31T00:00:00\", \"county\": \"ALAMEDA\", \"hydro_region\": \"San Francisco Bay\", \"population\": 1430200, \"total_water_production\": 10938640000.0, \"potable_supply_minus_sold_minus_ag_gal_flag\": \"Flagged\", \"r_gpcd\": 75.1, \"res_flag\": NaN, \"regional_r_gpcd\": 68.0}, {\"supplier_name\": \"East Bay Municipal Utility District\", \"reporting_month\": \"2023-06-01T00:00:00\", \"display_name\": \"East Bay Municipal Utilities District\", \"pwsid\": \"CA0110005\", \"report_period_end_date\": \"2023-06-30T00:00:00\", \"county\": \"ALAMEDA\", \"hydro_region\": \"San Francisco Bay\", \"population\": 1430200, \"total_water_production\": 9588593210.0, \"potable_supply_minus_sold_minus_ag_gal_flag\": null, \"r_gpcd\": 69.9, \"res_flag\": NaN, \"regional_r_gpcd\": 63.3}, {\"supplier_name\": \"East Bay Municipal Utility District\", \"reporting_month\": \"2023-05-01T00:00:00\", \"display_name\": \"East Bay Municipal Utilities District\", \"pwsid\": \"CA0110005\", \"report_period_end_date\": \"2023-05-31T00:00:00\", \"county\": \"ALAMEDA\", \"hydro_region\": \"San Francisco Bay\", \"population\": 1430200, \"total_water_production\": 8841595412.0, \"potable_supply_minus_sold_minus_ag_gal_flag\": null, \"r_gpcd\": 62.7, \"res_flag\": NaN, \"regional_r_gpcd\": 50.7}, {\"supplier_name\": \"East Bay Municipal Utility District\", \"reporting_month\": \"2023-04-01T00:00:00\", \"display_name\": \"East Bay Municipal Utilities District\", \"pwsid\": \"CA0110005\", \"report_period_end_date\": \"2023-04-30T00:00:00\", \"county\": \"ALAMEDA\", \"hydro_region\": \"San Francisco Bay\", \"population\": 1430200, \"total_water_production\": 7263122310.0, \"potable_supply_minus_sold_minus_ag_gal_flag\": null, \"r_gpcd\": 54.2, \"res_flag\": NaN, \"regional_r_gpcd\": 46.2}, {\"supplier_name\": \"East Bay Municipal Utility District\", \"reporting_month\": \"2023-03-01T00:00:00\", \"display_name\": \"East Bay Municipal Utilities District\", \"pwsid\": \"CA0110005\", \"report_period_end_date\": \"2023-03-31T00:00:00\", \"county\": \"ALAMEDA\", \"hydro_region\": \"San Francisco Bay\", \"population\": 1430200, \"total_water_production\": 6777040000.0, \"potable_supply_minus_sold_minus_ag_gal_flag\": null, \"r_gpcd\": 48.7, \"res_flag\": NaN, \"regional_r_gpcd\": 42.3}, {\"supplier_name\": \"East Bay Municipal Utility District\", \"reporting_month\": \"2023-02-01T00:00:00\", \"display_name\": \"East Bay Municipal Utilities District\", \"pwsid\": \"CA0110005\", \"report_period_end_date\": \"2023-02-28T00:00:00\", \"county\": \"ALAMEDA\", \"hydro_region\": \"San Francisco Bay\", \"population\": 1430200, \"total_water_production\": 6238610000.0, \"potable_supply_minus_sold_minus_ag_gal_flag\": \"Flagged\", \"r_gpcd\": 47.6, \"res_flag\": NaN, \"regional_r_gpcd\": 46.4}]}}, {\"mode\": \"vega-lite\"});\n",
       "</script>"
      ],
      "text/plain": [
       "alt.LayerChart(...)"
      ]
     },
     "execution_count": 219,
     "metadata": {},
     "output_type": "execute_result"
    }
   ],
   "source": [
    "# agency_name = \"Los Angeles Department of Water and Power\"\n",
    "agency_name = \"East Bay Municipal Utilities District\"\n",
    "\n",
    "base = alt.Chart(\n",
    "    rename_df[\n",
    "        (rename_df.display_name == agency_name)\n",
    "    ].head(12)\n",
    ").encode(\n",
    "    x=alt.X(\"yearmonth(reporting_month):O\").axis(title=\"\"),\n",
    "    tooltip=[\"r_gpcd\",\"reporting_month\"]\n",
    ")\n",
    "\n",
    "bar = base.mark_bar(color=\"#83c6e0\").encode(\n",
    "    y=alt.Y(\"r_gpcd\", stack=None).axis(title=\"Residential gallons per capita per day\"),\n",
    "    text=\"r_gpcd\"\n",
    ")\n",
    "\n",
    "avg_line = base.mark_line(interpolate='step', color='#1281aa').encode(\n",
    "    y=alt.Y(\"regional_r_gpcd\"),\n",
    "    text=\"regional_r_gpcd\"\n",
    ")\n",
    "\n",
    "# goal_line = alt.Chart(pd.DataFrame({'y': [80]})).mark_rule(color=\"#b75a36\",strokeDash=[10,11]).encode(y='y')\n",
    "\n",
    "(\n",
    "    bar + \n",
    "    avg_line + \n",
    "    bar.mark_text(align='center', dy=-7) +\n",
    "    avg_line.mark_text(align='center', dy=-7)\n",
    ").properties(title=f\"{agency_name} residential water usage compared to regional average\", width=600)"
   ]
  },
  {
   "cell_type": "markdown",
   "id": "0ba26fc7-525a-4a1d-b244-ab0d51de64c1",
   "metadata": {},
   "source": [
    "### Sort data"
   ]
  },
  {
   "cell_type": "code",
   "execution_count": 220,
   "id": "b7891244-418d-460c-b03f-8723fdfdf60b",
   "metadata": {},
   "outputs": [],
   "source": [
    "sort_district_df = rename_df.sort_values([\"reporting_month\",\"supplier_name\"])"
   ]
  },
  {
   "cell_type": "code",
   "execution_count": 222,
   "id": "e2528b46-80ad-4a8e-9906-4ec81bdfdb29",
   "metadata": {},
   "outputs": [],
   "source": [
    "sort_region_df = region_df.rename(columns={\"report_period_start_date\":\"reporting_month\"}).sort_values([\"reporting_month\",\"hydro_region\"])"
   ]
  },
  {
   "cell_type": "code",
   "execution_count": 224,
   "id": "470088cc-862a-422b-9a64-40269a67cb50",
   "metadata": {},
   "outputs": [],
   "source": [
    "sort_state_df = statewide_df.rename(columns={\"report_period_start_date\":\"reporting_month\"}).sort_values([\"reporting_month\"])"
   ]
  },
  {
   "cell_type": "markdown",
   "id": "80577211-2977-4025-ae3e-3e166ded9cbb",
   "metadata": {},
   "source": [
    "### Filter dataframe to be a bit more manageable"
   ]
  },
  {
   "cell_type": "code",
   "execution_count": 225,
   "id": "738e9911-f5cc-4f73-ab9d-c49792ee4109",
   "metadata": {},
   "outputs": [],
   "source": [
    "#filtered_district_df = sort_district_df[sort_district_df.reporting_month >= \"2021-01-15\"]"
   ]
  },
  {
   "cell_type": "code",
   "execution_count": 226,
   "id": "1f5275ce-400d-48f6-8b72-ace7f07db5af",
   "metadata": {},
   "outputs": [],
   "source": [
    "last_twelve_months_df = sort_district_df.sort_values('reporting_month').groupby('pwsid').tail(12)"
   ]
  },
  {
   "cell_type": "code",
   "execution_count": 227,
   "id": "5c94fd5f-daa3-4c03-94ac-4f81f0f92967",
   "metadata": {},
   "outputs": [],
   "source": [
    "latest_df = sort_district_df[\n",
    "    (sort_district_df.r_gpcd > 0)\n",
    "].sort_values('reporting_month').groupby('pwsid').tail(1)"
   ]
  },
  {
   "cell_type": "markdown",
   "id": "d3c9f03c-169e-4267-9c81-69ef4326c8de",
   "metadata": {},
   "source": [
    "### Export"
   ]
  },
  {
   "cell_type": "code",
   "execution_count": 228,
   "id": "5bfd784b-cc8c-4c34-a887-4a69d0f87e5d",
   "metadata": {},
   "outputs": [
    {
     "ename": "OSError",
     "evalue": "Cannot save file into a non-existent directory: '../data/processed'",
     "output_type": "error",
     "traceback": [
      "\u001b[0;31m---------------------------------------------------------------------------\u001b[0m",
      "\u001b[0;31mOSError\u001b[0m                                   Traceback (most recent call last)",
      "Cell \u001b[0;32mIn[228], line 1\u001b[0m\n\u001b[0;32m----> 1\u001b[0m \u001b[43mlast_twelve_months_df\u001b[49m\u001b[38;5;241;43m.\u001b[39;49m\u001b[43mto_csv\u001b[49m\u001b[43m(\u001b[49m\u001b[38;5;124;43m\"\u001b[39;49m\u001b[38;5;124;43m../data/processed/district-level-residential-use.csv\u001b[39;49m\u001b[38;5;124;43m\"\u001b[39;49m\u001b[43m,\u001b[49m\u001b[43m \u001b[49m\u001b[43mindex\u001b[49m\u001b[38;5;241;43m=\u001b[39;49m\u001b[38;5;28;43;01mFalse\u001b[39;49;00m\u001b[43m)\u001b[49m\n",
      "File \u001b[0;32m~/.local/share/virtualenvs/california-drought-scrapers-ZgUZUkcJ/lib/python3.9/site-packages/pandas/util/_decorators.py:333\u001b[0m, in \u001b[0;36mdeprecate_nonkeyword_arguments.<locals>.decorate.<locals>.wrapper\u001b[0;34m(*args, **kwargs)\u001b[0m\n\u001b[1;32m    327\u001b[0m \u001b[38;5;28;01mif\u001b[39;00m \u001b[38;5;28mlen\u001b[39m(args) \u001b[38;5;241m>\u001b[39m num_allow_args:\n\u001b[1;32m    328\u001b[0m     warnings\u001b[38;5;241m.\u001b[39mwarn(\n\u001b[1;32m    329\u001b[0m         msg\u001b[38;5;241m.\u001b[39mformat(arguments\u001b[38;5;241m=\u001b[39m_format_argument_list(allow_args)),\n\u001b[1;32m    330\u001b[0m         \u001b[38;5;167;01mFutureWarning\u001b[39;00m,\n\u001b[1;32m    331\u001b[0m         stacklevel\u001b[38;5;241m=\u001b[39mfind_stack_level(),\n\u001b[1;32m    332\u001b[0m     )\n\u001b[0;32m--> 333\u001b[0m \u001b[38;5;28;01mreturn\u001b[39;00m \u001b[43mfunc\u001b[49m\u001b[43m(\u001b[49m\u001b[38;5;241;43m*\u001b[39;49m\u001b[43margs\u001b[49m\u001b[43m,\u001b[49m\u001b[43m \u001b[49m\u001b[38;5;241;43m*\u001b[39;49m\u001b[38;5;241;43m*\u001b[39;49m\u001b[43mkwargs\u001b[49m\u001b[43m)\u001b[49m\n",
      "File \u001b[0;32m~/.local/share/virtualenvs/california-drought-scrapers-ZgUZUkcJ/lib/python3.9/site-packages/pandas/core/generic.py:3964\u001b[0m, in \u001b[0;36mNDFrame.to_csv\u001b[0;34m(self, path_or_buf, sep, na_rep, float_format, columns, header, index, index_label, mode, encoding, compression, quoting, quotechar, lineterminator, chunksize, date_format, doublequote, escapechar, decimal, errors, storage_options)\u001b[0m\n\u001b[1;32m   3953\u001b[0m df \u001b[38;5;241m=\u001b[39m \u001b[38;5;28mself\u001b[39m \u001b[38;5;28;01mif\u001b[39;00m \u001b[38;5;28misinstance\u001b[39m(\u001b[38;5;28mself\u001b[39m, ABCDataFrame) \u001b[38;5;28;01melse\u001b[39;00m \u001b[38;5;28mself\u001b[39m\u001b[38;5;241m.\u001b[39mto_frame()\n\u001b[1;32m   3955\u001b[0m formatter \u001b[38;5;241m=\u001b[39m DataFrameFormatter(\n\u001b[1;32m   3956\u001b[0m     frame\u001b[38;5;241m=\u001b[39mdf,\n\u001b[1;32m   3957\u001b[0m     header\u001b[38;5;241m=\u001b[39mheader,\n\u001b[0;32m   (...)\u001b[0m\n\u001b[1;32m   3961\u001b[0m     decimal\u001b[38;5;241m=\u001b[39mdecimal,\n\u001b[1;32m   3962\u001b[0m )\n\u001b[0;32m-> 3964\u001b[0m \u001b[38;5;28;01mreturn\u001b[39;00m \u001b[43mDataFrameRenderer\u001b[49m\u001b[43m(\u001b[49m\u001b[43mformatter\u001b[49m\u001b[43m)\u001b[49m\u001b[38;5;241;43m.\u001b[39;49m\u001b[43mto_csv\u001b[49m\u001b[43m(\u001b[49m\n\u001b[1;32m   3965\u001b[0m \u001b[43m    \u001b[49m\u001b[43mpath_or_buf\u001b[49m\u001b[43m,\u001b[49m\n\u001b[1;32m   3966\u001b[0m \u001b[43m    \u001b[49m\u001b[43mlineterminator\u001b[49m\u001b[38;5;241;43m=\u001b[39;49m\u001b[43mlineterminator\u001b[49m\u001b[43m,\u001b[49m\n\u001b[1;32m   3967\u001b[0m \u001b[43m    \u001b[49m\u001b[43msep\u001b[49m\u001b[38;5;241;43m=\u001b[39;49m\u001b[43msep\u001b[49m\u001b[43m,\u001b[49m\n\u001b[1;32m   3968\u001b[0m \u001b[43m    \u001b[49m\u001b[43mencoding\u001b[49m\u001b[38;5;241;43m=\u001b[39;49m\u001b[43mencoding\u001b[49m\u001b[43m,\u001b[49m\n\u001b[1;32m   3969\u001b[0m \u001b[43m    \u001b[49m\u001b[43merrors\u001b[49m\u001b[38;5;241;43m=\u001b[39;49m\u001b[43merrors\u001b[49m\u001b[43m,\u001b[49m\n\u001b[1;32m   3970\u001b[0m \u001b[43m    \u001b[49m\u001b[43mcompression\u001b[49m\u001b[38;5;241;43m=\u001b[39;49m\u001b[43mcompression\u001b[49m\u001b[43m,\u001b[49m\n\u001b[1;32m   3971\u001b[0m \u001b[43m    \u001b[49m\u001b[43mquoting\u001b[49m\u001b[38;5;241;43m=\u001b[39;49m\u001b[43mquoting\u001b[49m\u001b[43m,\u001b[49m\n\u001b[1;32m   3972\u001b[0m \u001b[43m    \u001b[49m\u001b[43mcolumns\u001b[49m\u001b[38;5;241;43m=\u001b[39;49m\u001b[43mcolumns\u001b[49m\u001b[43m,\u001b[49m\n\u001b[1;32m   3973\u001b[0m \u001b[43m    \u001b[49m\u001b[43mindex_label\u001b[49m\u001b[38;5;241;43m=\u001b[39;49m\u001b[43mindex_label\u001b[49m\u001b[43m,\u001b[49m\n\u001b[1;32m   3974\u001b[0m \u001b[43m    \u001b[49m\u001b[43mmode\u001b[49m\u001b[38;5;241;43m=\u001b[39;49m\u001b[43mmode\u001b[49m\u001b[43m,\u001b[49m\n\u001b[1;32m   3975\u001b[0m \u001b[43m    \u001b[49m\u001b[43mchunksize\u001b[49m\u001b[38;5;241;43m=\u001b[39;49m\u001b[43mchunksize\u001b[49m\u001b[43m,\u001b[49m\n\u001b[1;32m   3976\u001b[0m \u001b[43m    \u001b[49m\u001b[43mquotechar\u001b[49m\u001b[38;5;241;43m=\u001b[39;49m\u001b[43mquotechar\u001b[49m\u001b[43m,\u001b[49m\n\u001b[1;32m   3977\u001b[0m \u001b[43m    \u001b[49m\u001b[43mdate_format\u001b[49m\u001b[38;5;241;43m=\u001b[39;49m\u001b[43mdate_format\u001b[49m\u001b[43m,\u001b[49m\n\u001b[1;32m   3978\u001b[0m \u001b[43m    \u001b[49m\u001b[43mdoublequote\u001b[49m\u001b[38;5;241;43m=\u001b[39;49m\u001b[43mdoublequote\u001b[49m\u001b[43m,\u001b[49m\n\u001b[1;32m   3979\u001b[0m \u001b[43m    \u001b[49m\u001b[43mescapechar\u001b[49m\u001b[38;5;241;43m=\u001b[39;49m\u001b[43mescapechar\u001b[49m\u001b[43m,\u001b[49m\n\u001b[1;32m   3980\u001b[0m \u001b[43m    \u001b[49m\u001b[43mstorage_options\u001b[49m\u001b[38;5;241;43m=\u001b[39;49m\u001b[43mstorage_options\u001b[49m\u001b[43m,\u001b[49m\n\u001b[1;32m   3981\u001b[0m \u001b[43m\u001b[49m\u001b[43m)\u001b[49m\n",
      "File \u001b[0;32m~/.local/share/virtualenvs/california-drought-scrapers-ZgUZUkcJ/lib/python3.9/site-packages/pandas/io/formats/format.py:1014\u001b[0m, in \u001b[0;36mDataFrameRenderer.to_csv\u001b[0;34m(self, path_or_buf, encoding, sep, columns, index_label, mode, compression, quoting, quotechar, lineterminator, chunksize, date_format, doublequote, escapechar, errors, storage_options)\u001b[0m\n\u001b[1;32m    993\u001b[0m     created_buffer \u001b[38;5;241m=\u001b[39m \u001b[38;5;28;01mFalse\u001b[39;00m\n\u001b[1;32m    995\u001b[0m csv_formatter \u001b[38;5;241m=\u001b[39m CSVFormatter(\n\u001b[1;32m    996\u001b[0m     path_or_buf\u001b[38;5;241m=\u001b[39mpath_or_buf,\n\u001b[1;32m    997\u001b[0m     lineterminator\u001b[38;5;241m=\u001b[39mlineterminator,\n\u001b[0;32m   (...)\u001b[0m\n\u001b[1;32m   1012\u001b[0m     formatter\u001b[38;5;241m=\u001b[39m\u001b[38;5;28mself\u001b[39m\u001b[38;5;241m.\u001b[39mfmt,\n\u001b[1;32m   1013\u001b[0m )\n\u001b[0;32m-> 1014\u001b[0m \u001b[43mcsv_formatter\u001b[49m\u001b[38;5;241;43m.\u001b[39;49m\u001b[43msave\u001b[49m\u001b[43m(\u001b[49m\u001b[43m)\u001b[49m\n\u001b[1;32m   1016\u001b[0m \u001b[38;5;28;01mif\u001b[39;00m created_buffer:\n\u001b[1;32m   1017\u001b[0m     \u001b[38;5;28;01massert\u001b[39;00m \u001b[38;5;28misinstance\u001b[39m(path_or_buf, StringIO)\n",
      "File \u001b[0;32m~/.local/share/virtualenvs/california-drought-scrapers-ZgUZUkcJ/lib/python3.9/site-packages/pandas/io/formats/csvs.py:251\u001b[0m, in \u001b[0;36mCSVFormatter.save\u001b[0;34m(self)\u001b[0m\n\u001b[1;32m    247\u001b[0m \u001b[38;5;250m\u001b[39m\u001b[38;5;124;03m\"\"\"\u001b[39;00m\n\u001b[1;32m    248\u001b[0m \u001b[38;5;124;03mCreate the writer & save.\u001b[39;00m\n\u001b[1;32m    249\u001b[0m \u001b[38;5;124;03m\"\"\"\u001b[39;00m\n\u001b[1;32m    250\u001b[0m \u001b[38;5;66;03m# apply compression and byte/text conversion\u001b[39;00m\n\u001b[0;32m--> 251\u001b[0m \u001b[38;5;28;01mwith\u001b[39;00m \u001b[43mget_handle\u001b[49m\u001b[43m(\u001b[49m\n\u001b[1;32m    252\u001b[0m \u001b[43m    \u001b[49m\u001b[38;5;28;43mself\u001b[39;49m\u001b[38;5;241;43m.\u001b[39;49m\u001b[43mfilepath_or_buffer\u001b[49m\u001b[43m,\u001b[49m\n\u001b[1;32m    253\u001b[0m \u001b[43m    \u001b[49m\u001b[38;5;28;43mself\u001b[39;49m\u001b[38;5;241;43m.\u001b[39;49m\u001b[43mmode\u001b[49m\u001b[43m,\u001b[49m\n\u001b[1;32m    254\u001b[0m \u001b[43m    \u001b[49m\u001b[43mencoding\u001b[49m\u001b[38;5;241;43m=\u001b[39;49m\u001b[38;5;28;43mself\u001b[39;49m\u001b[38;5;241;43m.\u001b[39;49m\u001b[43mencoding\u001b[49m\u001b[43m,\u001b[49m\n\u001b[1;32m    255\u001b[0m \u001b[43m    \u001b[49m\u001b[43merrors\u001b[49m\u001b[38;5;241;43m=\u001b[39;49m\u001b[38;5;28;43mself\u001b[39;49m\u001b[38;5;241;43m.\u001b[39;49m\u001b[43merrors\u001b[49m\u001b[43m,\u001b[49m\n\u001b[1;32m    256\u001b[0m \u001b[43m    \u001b[49m\u001b[43mcompression\u001b[49m\u001b[38;5;241;43m=\u001b[39;49m\u001b[38;5;28;43mself\u001b[39;49m\u001b[38;5;241;43m.\u001b[39;49m\u001b[43mcompression\u001b[49m\u001b[43m,\u001b[49m\n\u001b[1;32m    257\u001b[0m \u001b[43m    \u001b[49m\u001b[43mstorage_options\u001b[49m\u001b[38;5;241;43m=\u001b[39;49m\u001b[38;5;28;43mself\u001b[39;49m\u001b[38;5;241;43m.\u001b[39;49m\u001b[43mstorage_options\u001b[49m\u001b[43m,\u001b[49m\n\u001b[1;32m    258\u001b[0m \u001b[43m\u001b[49m\u001b[43m)\u001b[49m \u001b[38;5;28;01mas\u001b[39;00m handles:\n\u001b[1;32m    259\u001b[0m     \u001b[38;5;66;03m# Note: self.encoding is irrelevant here\u001b[39;00m\n\u001b[1;32m    260\u001b[0m     \u001b[38;5;28mself\u001b[39m\u001b[38;5;241m.\u001b[39mwriter \u001b[38;5;241m=\u001b[39m csvlib\u001b[38;5;241m.\u001b[39mwriter(\n\u001b[1;32m    261\u001b[0m         handles\u001b[38;5;241m.\u001b[39mhandle,\n\u001b[1;32m    262\u001b[0m         lineterminator\u001b[38;5;241m=\u001b[39m\u001b[38;5;28mself\u001b[39m\u001b[38;5;241m.\u001b[39mlineterminator,\n\u001b[0;32m   (...)\u001b[0m\n\u001b[1;32m    267\u001b[0m         quotechar\u001b[38;5;241m=\u001b[39m\u001b[38;5;28mself\u001b[39m\u001b[38;5;241m.\u001b[39mquotechar,\n\u001b[1;32m    268\u001b[0m     )\n\u001b[1;32m    270\u001b[0m     \u001b[38;5;28mself\u001b[39m\u001b[38;5;241m.\u001b[39m_save()\n",
      "File \u001b[0;32m~/.local/share/virtualenvs/california-drought-scrapers-ZgUZUkcJ/lib/python3.9/site-packages/pandas/io/common.py:749\u001b[0m, in \u001b[0;36mget_handle\u001b[0;34m(path_or_buf, mode, encoding, compression, memory_map, is_text, errors, storage_options)\u001b[0m\n\u001b[1;32m    747\u001b[0m \u001b[38;5;66;03m# Only for write methods\u001b[39;00m\n\u001b[1;32m    748\u001b[0m \u001b[38;5;28;01mif\u001b[39;00m \u001b[38;5;124m\"\u001b[39m\u001b[38;5;124mr\u001b[39m\u001b[38;5;124m\"\u001b[39m \u001b[38;5;129;01mnot\u001b[39;00m \u001b[38;5;129;01min\u001b[39;00m mode \u001b[38;5;129;01mand\u001b[39;00m is_path:\n\u001b[0;32m--> 749\u001b[0m     \u001b[43mcheck_parent_directory\u001b[49m\u001b[43m(\u001b[49m\u001b[38;5;28;43mstr\u001b[39;49m\u001b[43m(\u001b[49m\u001b[43mhandle\u001b[49m\u001b[43m)\u001b[49m\u001b[43m)\u001b[49m\n\u001b[1;32m    751\u001b[0m \u001b[38;5;28;01mif\u001b[39;00m compression:\n\u001b[1;32m    752\u001b[0m     \u001b[38;5;28;01mif\u001b[39;00m compression \u001b[38;5;241m!=\u001b[39m \u001b[38;5;124m\"\u001b[39m\u001b[38;5;124mzstd\u001b[39m\u001b[38;5;124m\"\u001b[39m:\n\u001b[1;32m    753\u001b[0m         \u001b[38;5;66;03m# compression libraries do not like an explicit text-mode\u001b[39;00m\n",
      "File \u001b[0;32m~/.local/share/virtualenvs/california-drought-scrapers-ZgUZUkcJ/lib/python3.9/site-packages/pandas/io/common.py:616\u001b[0m, in \u001b[0;36mcheck_parent_directory\u001b[0;34m(path)\u001b[0m\n\u001b[1;32m    614\u001b[0m parent \u001b[38;5;241m=\u001b[39m Path(path)\u001b[38;5;241m.\u001b[39mparent\n\u001b[1;32m    615\u001b[0m \u001b[38;5;28;01mif\u001b[39;00m \u001b[38;5;129;01mnot\u001b[39;00m parent\u001b[38;5;241m.\u001b[39mis_dir():\n\u001b[0;32m--> 616\u001b[0m     \u001b[38;5;28;01mraise\u001b[39;00m \u001b[38;5;167;01mOSError\u001b[39;00m(\u001b[38;5;124mrf\u001b[39m\u001b[38;5;124m\"\u001b[39m\u001b[38;5;124mCannot save file into a non-existent directory: \u001b[39m\u001b[38;5;124m'\u001b[39m\u001b[38;5;132;01m{\u001b[39;00mparent\u001b[38;5;132;01m}\u001b[39;00m\u001b[38;5;124m'\u001b[39m\u001b[38;5;124m\"\u001b[39m)\n",
      "\u001b[0;31mOSError\u001b[0m: Cannot save file into a non-existent directory: '../data/processed'"
     ]
    }
   ],
   "source": [
    "last_twelve_months_df.to_csv(\"../data/processed/district-level-residential-use.csv\", index=False)"
   ]
  },
  {
   "cell_type": "code",
   "execution_count": 37,
   "id": "611e9f73-98a9-4b68-9c5c-5d26fa499127",
   "metadata": {},
   "outputs": [],
   "source": [
    "latest_df.to_csv(\"../data/processed/latest-district-level-residential-use.csv\", index=False)"
   ]
  },
  {
   "cell_type": "code",
   "execution_count": 38,
   "id": "57397d09-6f0d-4171-b658-6bb8ef49f758",
   "metadata": {},
   "outputs": [],
   "source": [
    "sort_region_df.to_csv(\"../data/processed/regional-residential-usage.csv\", index=False)"
   ]
  },
  {
   "cell_type": "code",
   "execution_count": 39,
   "id": "a5b34a2c-74f8-45a2-a3cd-22e90deea336",
   "metadata": {},
   "outputs": [],
   "source": [
    "sort_region_df[\n",
    "    sort_region_df.reporting_month == sort_district_df.reporting_month.max()\n",
    "].to_csv(\"../data/processed/latest-regional-residential-use.csv\", index=False)"
   ]
  },
  {
   "cell_type": "code",
   "execution_count": 40,
   "id": "fc2a1e72-ccd2-45a0-a068-48df279c6af8",
   "metadata": {},
   "outputs": [],
   "source": [
    "sort_state_df.to_csv(\"../data/processed/statewide-residential-usage.csv\", index=False)"
   ]
  },
  {
   "cell_type": "code",
   "execution_count": 41,
   "id": "f006f28e-326f-4535-806b-c995e41459ab",
   "metadata": {},
   "outputs": [],
   "source": [
    "sort_state_df[\n",
    "    sort_state_df.reporting_month == sort_district_df.reporting_month.max()\n",
    "].to_csv(\"../data/processed/latest-statewide-level-residential-use.csv\", index=False)"
   ]
  }
 ],
 "metadata": {
  "kernelspec": {
   "display_name": "Python 3 (ipykernel)",
   "language": "python",
   "name": "python3"
  },
  "language_info": {
   "codemirror_mode": {
    "name": "ipython",
    "version": 3
   },
   "file_extension": ".py",
   "mimetype": "text/x-python",
   "name": "python",
   "nbconvert_exporter": "python",
   "pygments_lexer": "ipython3",
   "version": "3.9.6"
  }
 },
 "nbformat": 4,
 "nbformat_minor": 5
}
