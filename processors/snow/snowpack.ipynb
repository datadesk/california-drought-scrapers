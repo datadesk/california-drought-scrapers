{
 "cells": [
  {
   "cell_type": "code",
   "execution_count": 1,
   "id": "ab5b2acd-007d-450b-879a-2d31e0119df6",
   "metadata": {},
   "outputs": [],
   "source": [
    "import numpy as np\n",
    "from datetime import date\n",
    "import pandas as pd\n",
    "import altair as alt\n",
    "import altair_latimes as lat"
   ]
  },
  {
   "cell_type": "code",
   "execution_count": 2,
   "id": "04b6752b-9589-4c93-a6b9-eb2c06b83e3f",
   "metadata": {},
   "outputs": [
    {
     "data": {
      "text/plain": [
       "ThemeRegistry.enable('latimes')"
      ]
     },
     "execution_count": 2,
     "metadata": {},
     "output_type": "execute_result"
    }
   ],
   "source": [
    "alt.themes.register('latimes', lat.theme)\n",
    "alt.themes.enable('latimes')"
   ]
  },
  {
   "cell_type": "markdown",
   "id": "e6259566-51e9-4352-9c04-a3ac4ce9a0de",
   "metadata": {},
   "source": [
    "### Import"
   ]
  },
  {
   "cell_type": "code",
   "execution_count": 3,
   "id": "8a399550-cd7e-40c4-a248-2baa91dc26c0",
   "metadata": {},
   "outputs": [],
   "source": [
    "state_df = pd.read_csv(\"../../data/raw/snow/statewide-timeseries.csv\", parse_dates=[\"date\"])"
   ]
  },
  {
   "cell_type": "code",
   "execution_count": 4,
   "id": "9bf83464-b084-423e-9cff-f03672c7ad42",
   "metadata": {},
   "outputs": [],
   "source": [
    "normal_df = pd.read_csv(\"../../data/processed/snow/normal-swc.csv\")"
   ]
  },
  {
   "cell_type": "markdown",
   "id": "6245133f-4148-4195-9e07-33a63fb50939",
   "metadata": {},
   "source": [
    "### Clean"
   ]
  },
  {
   "cell_type": "markdown",
   "id": "466fe60f-f46e-4835-b088-aca9c43cd811",
   "metadata": {},
   "source": [
    "Delete leap year day"
   ]
  },
  {
   "cell_type": "code",
   "execution_count": 5,
   "id": "4862eeb8-1b77-4384-829d-5a9c47a0390d",
   "metadata": {},
   "outputs": [],
   "source": [
    "normal_df = normal_df[\n",
    "    ~((normal_df.month == 2) & (normal_df.day == 29))\n",
    "]"
   ]
  },
  {
   "cell_type": "code",
   "execution_count": 6,
   "id": "78230594-0378-4cf4-93b4-595c0c9a5f70",
   "metadata": {},
   "outputs": [],
   "source": [
    "normal_df[\"month\"] = normal_df[\"month\"].astype(str).str.zfill(2)\n",
    "normal_df[\"day\"] = normal_df[\"day\"].astype(str).str.zfill(2)"
   ]
  },
  {
   "cell_type": "code",
   "execution_count": 7,
   "id": "bb3afc59-f4c1-4bdf-86ff-57ba0acc7718",
   "metadata": {},
   "outputs": [],
   "source": [
    "normal_df[\"month-day\"] = normal_df[\"month\"] + \"-\" + normal_df[\"day\"].astype(str)"
   ]
  },
  {
   "cell_type": "code",
   "execution_count": 8,
   "id": "89cc876b-366b-405c-93b8-d52165a33c85",
   "metadata": {},
   "outputs": [],
   "source": [
    "state_df[\"month-day\"] = state_df.date.dt.month.astype(str).str.zfill(2) + \"-\" + state_df.date.dt.day.astype(str).str.zfill(2)"
   ]
  },
  {
   "cell_type": "markdown",
   "id": "e0ea5998-1ea0-4514-93fc-1b6d04dd8289",
   "metadata": {
    "tags": []
   },
   "source": [
    "### Get current water year"
   ]
  },
  {
   "cell_type": "code",
   "execution_count": 9,
   "id": "dae73161-53c7-4e6e-8d43-81cbf158c50d",
   "metadata": {},
   "outputs": [],
   "source": [
    "def getWaterYear(date):\n",
    "    month = date.month\n",
    "    day = date.day\n",
    "\n",
    "    if month >= 10:\n",
    "        water_year = date.year + 1\n",
    "    else:\n",
    "        water_year = date.year\n",
    "\n",
    "    return water_year"
   ]
  },
  {
   "cell_type": "code",
   "execution_count": 10,
   "id": "7336e15b-0ec5-4736-b0c9-6b73888141d4",
   "metadata": {},
   "outputs": [],
   "source": [
    "today = date.today()"
   ]
  },
  {
   "cell_type": "code",
   "execution_count": 11,
   "id": "16c7b761-5647-450a-b9c6-d1ff160ae9e6",
   "metadata": {},
   "outputs": [
    {
     "data": {
      "text/plain": [
       "2024"
      ]
     },
     "execution_count": 11,
     "metadata": {},
     "output_type": "execute_result"
    }
   ],
   "source": [
    "current_water_year = getWaterYear(today)\n",
    "current_water_year"
   ]
  },
  {
   "cell_type": "markdown",
   "id": "791e0884-fda2-4e47-b77c-4dbbd89ce32e",
   "metadata": {},
   "source": [
    "### Merge to a series with the entire year"
   ]
  },
  {
   "cell_type": "code",
   "execution_count": 12,
   "id": "7cbb8a89-52d9-4f6b-8fce-9a3f352877e2",
   "metadata": {},
   "outputs": [],
   "source": [
    "wy_start = str(current_water_year - 1)"
   ]
  },
  {
   "cell_type": "code",
   "execution_count": 13,
   "id": "dd3e5a88-d21d-4984-9a4a-db3ed5edc598",
   "metadata": {},
   "outputs": [],
   "source": [
    "start = pd.to_datetime( wy_start + \"-10-01\")"
   ]
  },
  {
   "cell_type": "code",
   "execution_count": 14,
   "id": "deb57eeb-8fc0-469a-bd34-e5ad40c27407",
   "metadata": {},
   "outputs": [],
   "source": [
    "end = pd.to_datetime( str(current_water_year) + \"-09-30\")"
   ]
  },
  {
   "cell_type": "code",
   "execution_count": 15,
   "id": "cf82b944-01a2-4449-a3fd-33b251761882",
   "metadata": {},
   "outputs": [
    {
     "name": "stdout",
     "output_type": "stream",
     "text": [
      "2023-10-01 00:00:00 to 2024-09-30 00:00:00\n"
     ]
    }
   ],
   "source": [
    "print(start,\"to\", end)"
   ]
  },
  {
   "cell_type": "code",
   "execution_count": 16,
   "id": "fdd87d08-dd01-4c68-aca2-61e742f7ae48",
   "metadata": {},
   "outputs": [
    {
     "data": {
      "text/html": [
       "<div>\n",
       "<style scoped>\n",
       "    .dataframe tbody tr th:only-of-type {\n",
       "        vertical-align: middle;\n",
       "    }\n",
       "\n",
       "    .dataframe tbody tr th {\n",
       "        vertical-align: top;\n",
       "    }\n",
       "\n",
       "    .dataframe thead th {\n",
       "        text-align: right;\n",
       "    }\n",
       "</style>\n",
       "<table border=\"1\" class=\"dataframe\">\n",
       "  <thead>\n",
       "    <tr style=\"text-align: right;\">\n",
       "      <th></th>\n",
       "      <th>date</th>\n",
       "      <th>year</th>\n",
       "      <th>month</th>\n",
       "      <th>month-day</th>\n",
       "    </tr>\n",
       "  </thead>\n",
       "  <tbody>\n",
       "    <tr>\n",
       "      <th>0</th>\n",
       "      <td>2023-10-01</td>\n",
       "      <td>2023</td>\n",
       "      <td>10</td>\n",
       "      <td>10-01</td>\n",
       "    </tr>\n",
       "    <tr>\n",
       "      <th>1</th>\n",
       "      <td>2023-10-02</td>\n",
       "      <td>2023</td>\n",
       "      <td>10</td>\n",
       "      <td>10-02</td>\n",
       "    </tr>\n",
       "    <tr>\n",
       "      <th>2</th>\n",
       "      <td>2023-10-03</td>\n",
       "      <td>2023</td>\n",
       "      <td>10</td>\n",
       "      <td>10-03</td>\n",
       "    </tr>\n",
       "    <tr>\n",
       "      <th>3</th>\n",
       "      <td>2023-10-04</td>\n",
       "      <td>2023</td>\n",
       "      <td>10</td>\n",
       "      <td>10-04</td>\n",
       "    </tr>\n",
       "    <tr>\n",
       "      <th>4</th>\n",
       "      <td>2023-10-05</td>\n",
       "      <td>2023</td>\n",
       "      <td>10</td>\n",
       "      <td>10-05</td>\n",
       "    </tr>\n",
       "    <tr>\n",
       "      <th>...</th>\n",
       "      <td>...</td>\n",
       "      <td>...</td>\n",
       "      <td>...</td>\n",
       "      <td>...</td>\n",
       "    </tr>\n",
       "    <tr>\n",
       "      <th>361</th>\n",
       "      <td>2024-09-26</td>\n",
       "      <td>2024</td>\n",
       "      <td>9</td>\n",
       "      <td>09-26</td>\n",
       "    </tr>\n",
       "    <tr>\n",
       "      <th>362</th>\n",
       "      <td>2024-09-27</td>\n",
       "      <td>2024</td>\n",
       "      <td>9</td>\n",
       "      <td>09-27</td>\n",
       "    </tr>\n",
       "    <tr>\n",
       "      <th>363</th>\n",
       "      <td>2024-09-28</td>\n",
       "      <td>2024</td>\n",
       "      <td>9</td>\n",
       "      <td>09-28</td>\n",
       "    </tr>\n",
       "    <tr>\n",
       "      <th>364</th>\n",
       "      <td>2024-09-29</td>\n",
       "      <td>2024</td>\n",
       "      <td>9</td>\n",
       "      <td>09-29</td>\n",
       "    </tr>\n",
       "    <tr>\n",
       "      <th>365</th>\n",
       "      <td>2024-09-30</td>\n",
       "      <td>2024</td>\n",
       "      <td>9</td>\n",
       "      <td>09-30</td>\n",
       "    </tr>\n",
       "  </tbody>\n",
       "</table>\n",
       "<p>366 rows × 4 columns</p>\n",
       "</div>"
      ],
      "text/plain": [
       "          date  year  month month-day\n",
       "0   2023-10-01  2023     10     10-01\n",
       "1   2023-10-02  2023     10     10-02\n",
       "2   2023-10-03  2023     10     10-03\n",
       "3   2023-10-04  2023     10     10-04\n",
       "4   2023-10-05  2023     10     10-05\n",
       "..         ...   ...    ...       ...\n",
       "361 2024-09-26  2024      9     09-26\n",
       "362 2024-09-27  2024      9     09-27\n",
       "363 2024-09-28  2024      9     09-28\n",
       "364 2024-09-29  2024      9     09-29\n",
       "365 2024-09-30  2024      9     09-30\n",
       "\n",
       "[366 rows x 4 columns]"
      ]
     },
     "execution_count": 16,
     "metadata": {},
     "output_type": "execute_result"
    }
   ],
   "source": [
    "dates = pd.Series(pd.date_range(start, end, freq=\"D\"))\n",
    "days = dates.diff().astype(\"timedelta64[D]\").fillna(1).cumsum()\n",
    "wy_df = pd.DataFrame({\"year\": dates.dt.year, \"month\": dates.dt.month, \"month-day\": dates.dt.month.astype(str).str.zfill(2) + \"-\" + dates.dt.day.astype(str).str.zfill(2)})\n",
    "wy_df = wy_df.set_index(dates)\n",
    "wy_df = wy_df.reset_index().rename(columns={\"index\":\"date\"})\n",
    "wy_df"
   ]
  },
  {
   "cell_type": "code",
   "execution_count": 17,
   "id": "2c746f78-8a58-4b4c-b5ba-1343da75e29a",
   "metadata": {},
   "outputs": [],
   "source": [
    "merge = pd.merge(\n",
    "    wy_df,\n",
    "    state_df,\n",
    "    how=\"left\",\n",
    "    on=[\"date\",\"month-day\"]\n",
    ")"
   ]
  },
  {
   "cell_type": "code",
   "execution_count": 18,
   "id": "bf9d6925-a49d-4136-bdc6-a8f2208c3d87",
   "metadata": {},
   "outputs": [],
   "source": [
    "merge_normals = pd.merge(\n",
    "    merge,\n",
    "    normal_df.drop(columns=[\"month\",\"day\"], axis=1),\n",
    "    how=\"left\",\n",
    "    on=[\"month-day\"]\n",
    ")"
   ]
  },
  {
   "cell_type": "code",
   "execution_count": 19,
   "id": "3e4043b0-0244-41f0-b731-36150ebed27b",
   "metadata": {},
   "outputs": [
    {
     "data": {
      "text/html": [
       "<div>\n",
       "<style scoped>\n",
       "    .dataframe tbody tr th:only-of-type {\n",
       "        vertical-align: middle;\n",
       "    }\n",
       "\n",
       "    .dataframe tbody tr th {\n",
       "        vertical-align: top;\n",
       "    }\n",
       "\n",
       "    .dataframe thead th {\n",
       "        text-align: right;\n",
       "    }\n",
       "</style>\n",
       "<table border=\"1\" class=\"dataframe\">\n",
       "  <thead>\n",
       "    <tr style=\"text-align: right;\">\n",
       "      <th></th>\n",
       "      <th>date</th>\n",
       "      <th>year</th>\n",
       "      <th>month</th>\n",
       "      <th>month-day</th>\n",
       "      <th>station_id</th>\n",
       "      <th>snwcavg</th>\n",
       "      <th>pctnorm</th>\n",
       "      <th>pctapr1</th>\n",
       "      <th>avg</th>\n",
       "      <th>wmonth</th>\n",
       "      <th>norm</th>\n",
       "      <th>avgAvgSwc</th>\n",
       "    </tr>\n",
       "  </thead>\n",
       "  <tbody>\n",
       "    <tr>\n",
       "      <th>0</th>\n",
       "      <td>2023-10-01</td>\n",
       "      <td>2023</td>\n",
       "      <td>10</td>\n",
       "      <td>10-01</td>\n",
       "      <td>NaN</td>\n",
       "      <td>NaN</td>\n",
       "      <td>NaN</td>\n",
       "      <td>NaN</td>\n",
       "      <td>0.000</td>\n",
       "      <td>1.0</td>\n",
       "      <td>0.00</td>\n",
       "      <td>-0.01</td>\n",
       "    </tr>\n",
       "    <tr>\n",
       "      <th>1</th>\n",
       "      <td>2023-10-02</td>\n",
       "      <td>2023</td>\n",
       "      <td>10</td>\n",
       "      <td>10-02</td>\n",
       "      <td>NaN</td>\n",
       "      <td>NaN</td>\n",
       "      <td>NaN</td>\n",
       "      <td>NaN</td>\n",
       "      <td>0.000</td>\n",
       "      <td>1.0</td>\n",
       "      <td>0.03</td>\n",
       "      <td>0.00</td>\n",
       "    </tr>\n",
       "    <tr>\n",
       "      <th>2</th>\n",
       "      <td>2023-10-03</td>\n",
       "      <td>2023</td>\n",
       "      <td>10</td>\n",
       "      <td>10-03</td>\n",
       "      <td>NaN</td>\n",
       "      <td>NaN</td>\n",
       "      <td>NaN</td>\n",
       "      <td>NaN</td>\n",
       "      <td>0.000</td>\n",
       "      <td>1.0</td>\n",
       "      <td>0.00</td>\n",
       "      <td>-0.01</td>\n",
       "    </tr>\n",
       "    <tr>\n",
       "      <th>3</th>\n",
       "      <td>2023-10-04</td>\n",
       "      <td>2023</td>\n",
       "      <td>10</td>\n",
       "      <td>10-04</td>\n",
       "      <td>NaN</td>\n",
       "      <td>NaN</td>\n",
       "      <td>NaN</td>\n",
       "      <td>NaN</td>\n",
       "      <td>0.000</td>\n",
       "      <td>1.0</td>\n",
       "      <td>0.00</td>\n",
       "      <td>-0.01</td>\n",
       "    </tr>\n",
       "    <tr>\n",
       "      <th>4</th>\n",
       "      <td>2023-10-05</td>\n",
       "      <td>2023</td>\n",
       "      <td>10</td>\n",
       "      <td>10-05</td>\n",
       "      <td>NaN</td>\n",
       "      <td>NaN</td>\n",
       "      <td>NaN</td>\n",
       "      <td>NaN</td>\n",
       "      <td>0.001</td>\n",
       "      <td>1.0</td>\n",
       "      <td>0.00</td>\n",
       "      <td>0.00</td>\n",
       "    </tr>\n",
       "  </tbody>\n",
       "</table>\n",
       "</div>"
      ],
      "text/plain": [
       "        date  year  month month-day station_id  snwcavg  pctnorm  pctapr1  \\\n",
       "0 2023-10-01  2023     10     10-01        NaN      NaN      NaN      NaN   \n",
       "1 2023-10-02  2023     10     10-02        NaN      NaN      NaN      NaN   \n",
       "2 2023-10-03  2023     10     10-03        NaN      NaN      NaN      NaN   \n",
       "3 2023-10-04  2023     10     10-04        NaN      NaN      NaN      NaN   \n",
       "4 2023-10-05  2023     10     10-05        NaN      NaN      NaN      NaN   \n",
       "\n",
       "     avg  wmonth  norm  avgAvgSwc  \n",
       "0  0.000     1.0  0.00      -0.01  \n",
       "1  0.000     1.0  0.03       0.00  \n",
       "2  0.000     1.0  0.00      -0.01  \n",
       "3  0.000     1.0  0.00      -0.01  \n",
       "4  0.001     1.0  0.00       0.00  "
      ]
     },
     "execution_count": 19,
     "metadata": {},
     "output_type": "execute_result"
    }
   ],
   "source": [
    "merge_normals.head()"
   ]
  },
  {
   "cell_type": "code",
   "execution_count": 20,
   "id": "6cacd348-1e21-4539-a07d-8ec536aa9d35",
   "metadata": {},
   "outputs": [],
   "source": [
    "#(merge_normals.loc[ (merge_normals['month-day'] == \"1-20\") ]['avg_pct_apr1'].sum()+merge_normals.loc[ (merge_normals['month-day'] == \"1-22\") ]['avg_pct_apr1'].sum())/2"
   ]
  },
  {
   "cell_type": "code",
   "execution_count": 21,
   "id": "f7ac1ac6-5e36-43a6-9ebb-b27826768e74",
   "metadata": {},
   "outputs": [],
   "source": [
    "merge_normals[\"pctapr1\"] = merge_normals[\"pctapr1\"] * 100\n",
    "merge_normals[\"pctnorm\"] = merge_normals[\"pctnorm\"] * 100"
   ]
  },
  {
   "cell_type": "code",
   "execution_count": 22,
   "id": "e8246157-c8cf-4dad-8130-6e7a5e049b3b",
   "metadata": {},
   "outputs": [],
   "source": [
    "merge_normals[\"avg\"] = merge_normals[\"avg\"] * 100"
   ]
  },
  {
   "cell_type": "code",
   "execution_count": 23,
   "id": "79af3cc6-4c0f-4282-b7e5-f6fbaee49630",
   "metadata": {},
   "outputs": [],
   "source": [
    "melt = pd.melt(\n",
    "    merge_normals,\n",
    "    id_vars=\"date\",\n",
    "    value_vars=[\"pctapr1\",\"avg\"]\n",
    ")"
   ]
  },
  {
   "cell_type": "code",
   "execution_count": 24,
   "id": "2d8a902f-b459-4374-a53c-b82bd887819d",
   "metadata": {},
   "outputs": [
    {
     "data": {
      "text/html": [
       "\n",
       "<div id=\"altair-viz-9f2f4373aca14fcc82a1d0ef7e088c0e\"></div>\n",
       "<script type=\"text/javascript\">\n",
       "  var VEGA_DEBUG = (typeof VEGA_DEBUG == \"undefined\") ? {} : VEGA_DEBUG;\n",
       "  (function(spec, embedOpt){\n",
       "    let outputDiv = document.currentScript.previousElementSibling;\n",
       "    if (outputDiv.id !== \"altair-viz-9f2f4373aca14fcc82a1d0ef7e088c0e\") {\n",
       "      outputDiv = document.getElementById(\"altair-viz-9f2f4373aca14fcc82a1d0ef7e088c0e\");\n",
       "    }\n",
       "    const paths = {\n",
       "      \"vega\": \"https://cdn.jsdelivr.net/npm//vega@5?noext\",\n",
       "      \"vega-lib\": \"https://cdn.jsdelivr.net/npm//vega-lib?noext\",\n",
       "      \"vega-lite\": \"https://cdn.jsdelivr.net/npm//vega-lite@4.17.0?noext\",\n",
       "      \"vega-embed\": \"https://cdn.jsdelivr.net/npm//vega-embed@6?noext\",\n",
       "    };\n",
       "\n",
       "    function maybeLoadScript(lib, version) {\n",
       "      var key = `${lib.replace(\"-\", \"\")}_version`;\n",
       "      return (VEGA_DEBUG[key] == version) ?\n",
       "        Promise.resolve(paths[lib]) :\n",
       "        new Promise(function(resolve, reject) {\n",
       "          var s = document.createElement('script');\n",
       "          document.getElementsByTagName(\"head\")[0].appendChild(s);\n",
       "          s.async = true;\n",
       "          s.onload = () => {\n",
       "            VEGA_DEBUG[key] = version;\n",
       "            return resolve(paths[lib]);\n",
       "          };\n",
       "          s.onerror = () => reject(`Error loading script: ${paths[lib]}`);\n",
       "          s.src = paths[lib];\n",
       "        });\n",
       "    }\n",
       "\n",
       "    function showError(err) {\n",
       "      outputDiv.innerHTML = `<div class=\"error\" style=\"color:red;\">${err}</div>`;\n",
       "      throw err;\n",
       "    }\n",
       "\n",
       "    function displayChart(vegaEmbed) {\n",
       "      vegaEmbed(outputDiv, spec, embedOpt)\n",
       "        .catch(err => showError(`Javascript Error: ${err.message}<br>This usually means there's a typo in your chart specification. See the javascript console for the full traceback.`));\n",
       "    }\n",
       "\n",
       "    if(typeof define === \"function\" && define.amd) {\n",
       "      requirejs.config({paths});\n",
       "      require([\"vega-embed\"], displayChart, err => showError(`Error loading script: ${err.message}`));\n",
       "    } else {\n",
       "      maybeLoadScript(\"vega\", \"5\")\n",
       "        .then(() => maybeLoadScript(\"vega-lite\", \"4.17.0\"))\n",
       "        .then(() => maybeLoadScript(\"vega-embed\", \"6\"))\n",
       "        .catch(showError)\n",
       "        .then(() => displayChart(vegaEmbed));\n",
       "    }\n",
       "  })({\"config\": {\"view\": {\"width\": 800, \"height\": 450}, \"background\": \"#ffffff\", \"title\": {\"anchor\": \"start\", \"font\": \"BentonGothic-Bold, sans\", \"fontColor\": \"#000000\", \"fontSize\": 22, \"fontWeight\": \"normal\"}, \"arc\": {\"fill\": \"#82c6df\"}, \"area\": {\"fill\": \"#82c6df\"}, \"line\": {\"stroke\": \"#82c6df\", \"strokeWidth\": 3}, \"path\": {\"stroke\": \"#82c6df\"}, \"rect\": {\"fill\": \"#82c6df\"}, \"shape\": {\"stroke\": \"#82c6df\"}, \"bar\": {\"fill\": \"#82c6df\"}, \"point\": {\"stroke\": \"#82c6df\"}, \"symbol\": {\"fill\": \"#82c6df\", \"size\": 30}, \"axis\": {\"titleFont\": \"BentonGothic-Bold, sans\", \"titleFontSize\": 14, \"titleFontWeight\": \"normal\", \"labelFont\": \"BentonGothic, sans\", \"labelFontSize\": 12, \"labelFontWeight\": \"normal\"}, \"axisX\": {\"labelAngle\": 0, \"labelPadding\": 4, \"tickSize\": 3}, \"axisY\": {\"labelBaseline\": \"middle\", \"maxExtent\": 45, \"minExtent\": 45, \"tickSize\": 2, \"titleAlign\": \"left\", \"titleAngle\": 0, \"titleX\": -45, \"titleY\": -11}, \"legend\": {\"titleFont\": \"BentonGothic-Bold, sans\", \"titleFontSize\": 14, \"titleFontWeight\": \"normal\", \"symbolType\": \"square\", \"labelFont\": \"BentonGothic, sans\", \"labelFontSize\": 13}, \"range\": {\"category\": [\"#3580b1\", \"#ec8431\", \"#ab7fb4\", \"#c89d29\", \"#adc839\", \"#829eb1\"], \"diverging\": [\"#e68a4f\", \"#f4bb6a\", \"#f9e39c\", \"#dadfe2\", \"#a6b7c6\", \"#849eae\"], \"heatmap\": [\"#fbf2c7\", \"#f9e39c\", \"#f8d36e\", \"#f4bb6a\", \"#e68a4f\", \"#d15a40\", \"#ab4232\"], \"ordinal\": [\"#fbf2c7\", \"#f9e39c\", \"#f8d36e\", \"#f4bb6a\", \"#e68a4f\", \"#d15a40\", \"#ab4232\"], \"ramp\": [\"#fbf2c7\", \"#f9e39c\", \"#f8d36e\", \"#f4bb6a\", \"#e68a4f\", \"#d15a40\", \"#ab4232\"]}}, \"data\": {\"name\": \"data-e242b8dd7ce65587fbc1fc35e15c5fdd\"}, \"mark\": \"line\", \"encoding\": {\"color\": {\"field\": \"variable\", \"type\": \"nominal\"}, \"tooltip\": [{\"field\": \"date\", \"type\": \"temporal\"}, {\"field\": \"value\", \"type\": \"quantitative\"}], \"x\": {\"field\": \"date\", \"type\": \"temporal\"}, \"y\": {\"field\": \"value\", \"type\": \"quantitative\"}}, \"title\": \"Snowpack as percentage of peak\", \"width\": 600, \"$schema\": \"https://vega.github.io/schema/vega-lite/v4.17.0.json\", \"datasets\": {\"data-e242b8dd7ce65587fbc1fc35e15c5fdd\": [{\"date\": \"2023-10-01T00:00:00\", \"variable\": \"pctapr1\", \"value\": null}, {\"date\": \"2023-10-02T00:00:00\", \"variable\": \"pctapr1\", \"value\": null}, {\"date\": \"2023-10-03T00:00:00\", \"variable\": \"pctapr1\", \"value\": null}, {\"date\": \"2023-10-04T00:00:00\", \"variable\": \"pctapr1\", \"value\": null}, {\"date\": \"2023-10-05T00:00:00\", \"variable\": \"pctapr1\", \"value\": null}, {\"date\": \"2023-10-06T00:00:00\", \"variable\": \"pctapr1\", \"value\": null}, {\"date\": \"2023-10-07T00:00:00\", \"variable\": \"pctapr1\", \"value\": null}, {\"date\": \"2023-10-08T00:00:00\", \"variable\": \"pctapr1\", \"value\": null}, {\"date\": \"2023-10-09T00:00:00\", \"variable\": \"pctapr1\", \"value\": null}, {\"date\": \"2023-10-10T00:00:00\", \"variable\": \"pctapr1\", \"value\": null}, {\"date\": \"2023-10-11T00:00:00\", \"variable\": \"pctapr1\", \"value\": null}, {\"date\": \"2023-10-12T00:00:00\", \"variable\": \"pctapr1\", \"value\": null}, {\"date\": \"2023-10-13T00:00:00\", \"variable\": \"pctapr1\", \"value\": null}, {\"date\": \"2023-10-14T00:00:00\", \"variable\": \"pctapr1\", \"value\": null}, {\"date\": \"2023-10-15T00:00:00\", \"variable\": \"pctapr1\", \"value\": null}, {\"date\": \"2023-10-16T00:00:00\", \"variable\": \"pctapr1\", \"value\": null}, {\"date\": \"2023-10-17T00:00:00\", \"variable\": \"pctapr1\", \"value\": null}, {\"date\": \"2023-10-18T00:00:00\", \"variable\": \"pctapr1\", \"value\": null}, {\"date\": \"2023-10-19T00:00:00\", \"variable\": \"pctapr1\", \"value\": null}, {\"date\": \"2023-10-20T00:00:00\", \"variable\": \"pctapr1\", \"value\": null}, {\"date\": \"2023-10-21T00:00:00\", \"variable\": \"pctapr1\", \"value\": null}, {\"date\": \"2023-10-22T00:00:00\", \"variable\": \"pctapr1\", \"value\": null}, {\"date\": \"2023-10-23T00:00:00\", \"variable\": \"pctapr1\", \"value\": null}, {\"date\": \"2023-10-24T00:00:00\", \"variable\": \"pctapr1\", \"value\": null}, {\"date\": \"2023-10-25T00:00:00\", \"variable\": \"pctapr1\", \"value\": null}, {\"date\": \"2023-10-26T00:00:00\", \"variable\": \"pctapr1\", \"value\": null}, {\"date\": \"2023-10-27T00:00:00\", \"variable\": \"pctapr1\", \"value\": null}, {\"date\": \"2023-10-28T00:00:00\", \"variable\": \"pctapr1\", \"value\": null}, {\"date\": \"2023-10-29T00:00:00\", \"variable\": \"pctapr1\", \"value\": null}, {\"date\": \"2023-10-30T00:00:00\", \"variable\": \"pctapr1\", \"value\": null}, {\"date\": \"2023-10-31T00:00:00\", \"variable\": \"pctapr1\", \"value\": null}, {\"date\": \"2023-11-01T00:00:00\", \"variable\": \"pctapr1\", \"value\": null}, {\"date\": \"2023-11-02T00:00:00\", \"variable\": \"pctapr1\", \"value\": null}, {\"date\": \"2023-11-03T00:00:00\", \"variable\": \"pctapr1\", \"value\": null}, {\"date\": \"2023-11-04T00:00:00\", \"variable\": \"pctapr1\", \"value\": null}, {\"date\": \"2023-11-05T00:00:00\", \"variable\": \"pctapr1\", \"value\": null}, {\"date\": \"2023-11-06T00:00:00\", \"variable\": \"pctapr1\", \"value\": null}, {\"date\": \"2023-11-07T00:00:00\", \"variable\": \"pctapr1\", \"value\": null}, {\"date\": \"2023-11-08T00:00:00\", \"variable\": \"pctapr1\", \"value\": null}, {\"date\": \"2023-11-09T00:00:00\", \"variable\": \"pctapr1\", \"value\": null}, {\"date\": \"2023-11-10T00:00:00\", \"variable\": \"pctapr1\", \"value\": null}, {\"date\": \"2023-11-11T00:00:00\", \"variable\": \"pctapr1\", \"value\": null}, {\"date\": \"2023-11-12T00:00:00\", \"variable\": \"pctapr1\", \"value\": null}, {\"date\": \"2023-11-13T00:00:00\", \"variable\": \"pctapr1\", \"value\": null}, {\"date\": \"2023-11-14T00:00:00\", \"variable\": \"pctapr1\", \"value\": null}, {\"date\": \"2023-11-15T00:00:00\", \"variable\": \"pctapr1\", \"value\": null}, {\"date\": \"2023-11-16T00:00:00\", \"variable\": \"pctapr1\", \"value\": null}, {\"date\": \"2023-11-17T00:00:00\", \"variable\": \"pctapr1\", \"value\": null}, {\"date\": \"2023-11-18T00:00:00\", \"variable\": \"pctapr1\", \"value\": null}, {\"date\": \"2023-11-19T00:00:00\", \"variable\": \"pctapr1\", \"value\": null}, {\"date\": \"2023-11-20T00:00:00\", \"variable\": \"pctapr1\", \"value\": null}, {\"date\": \"2023-11-21T00:00:00\", \"variable\": \"pctapr1\", \"value\": null}, {\"date\": \"2023-11-22T00:00:00\", \"variable\": \"pctapr1\", \"value\": null}, {\"date\": \"2023-11-23T00:00:00\", \"variable\": \"pctapr1\", \"value\": null}, {\"date\": \"2023-11-24T00:00:00\", \"variable\": \"pctapr1\", \"value\": null}, {\"date\": \"2023-11-25T00:00:00\", \"variable\": \"pctapr1\", \"value\": null}, {\"date\": \"2023-11-26T00:00:00\", \"variable\": \"pctapr1\", \"value\": null}, {\"date\": \"2023-11-27T00:00:00\", \"variable\": \"pctapr1\", \"value\": null}, {\"date\": \"2023-11-28T00:00:00\", \"variable\": \"pctapr1\", \"value\": 3.0}, {\"date\": \"2023-11-29T00:00:00\", \"variable\": \"pctapr1\", \"value\": 3.0}, {\"date\": \"2023-11-30T00:00:00\", \"variable\": \"pctapr1\", \"value\": 3.0}, {\"date\": \"2023-12-01T00:00:00\", \"variable\": \"pctapr1\", \"value\": 4.0}, {\"date\": \"2023-12-02T00:00:00\", \"variable\": \"pctapr1\", \"value\": 4.0}, {\"date\": \"2023-12-03T00:00:00\", \"variable\": \"pctapr1\", \"value\": 4.0}, {\"date\": \"2023-12-04T00:00:00\", \"variable\": \"pctapr1\", \"value\": 4.0}, {\"date\": \"2023-12-05T00:00:00\", \"variable\": \"pctapr1\", \"value\": 4.0}, {\"date\": \"2023-12-06T00:00:00\", \"variable\": \"pctapr1\", \"value\": 4.0}, {\"date\": \"2023-12-07T00:00:00\", \"variable\": \"pctapr1\", \"value\": 6.0}, {\"date\": \"2023-12-08T00:00:00\", \"variable\": \"pctapr1\", \"value\": 6.0}, {\"date\": \"2023-12-09T00:00:00\", \"variable\": \"pctapr1\", \"value\": 6.0}, {\"date\": \"2023-12-10T00:00:00\", \"variable\": \"pctapr1\", \"value\": 6.0}, {\"date\": \"2023-12-11T00:00:00\", \"variable\": \"pctapr1\", \"value\": 6.0}, {\"date\": \"2023-12-12T00:00:00\", \"variable\": \"pctapr1\", \"value\": 6.0}, {\"date\": \"2023-12-13T00:00:00\", \"variable\": \"pctapr1\", \"value\": 6.0}, {\"date\": \"2023-12-14T00:00:00\", \"variable\": \"pctapr1\", \"value\": 6.0}, {\"date\": \"2023-12-15T00:00:00\", \"variable\": \"pctapr1\", \"value\": 6.0}, {\"date\": \"2023-12-16T00:00:00\", \"variable\": \"pctapr1\", \"value\": 6.0}, {\"date\": \"2023-12-17T00:00:00\", \"variable\": \"pctapr1\", \"value\": 6.0}, {\"date\": \"2023-12-18T00:00:00\", \"variable\": \"pctapr1\", \"value\": 6.0}, {\"date\": \"2023-12-19T00:00:00\", \"variable\": \"pctapr1\", \"value\": 8.0}, {\"date\": \"2023-12-20T00:00:00\", \"variable\": \"pctapr1\", \"value\": 9.0}, {\"date\": \"2023-12-21T00:00:00\", \"variable\": \"pctapr1\", \"value\": 9.0}, {\"date\": \"2023-12-22T00:00:00\", \"variable\": \"pctapr1\", \"value\": 9.0}, {\"date\": \"2023-12-23T00:00:00\", \"variable\": \"pctapr1\", \"value\": 9.0}, {\"date\": \"2023-12-24T00:00:00\", \"variable\": \"pctapr1\", \"value\": 9.0}, {\"date\": \"2023-12-25T00:00:00\", \"variable\": \"pctapr1\", \"value\": 9.0}, {\"date\": \"2023-12-26T00:00:00\", \"variable\": \"pctapr1\", \"value\": 9.0}, {\"date\": \"2023-12-27T00:00:00\", \"variable\": \"pctapr1\", \"value\": 9.0}, {\"date\": \"2023-12-28T00:00:00\", \"variable\": \"pctapr1\", \"value\": 9.0}, {\"date\": \"2023-12-29T00:00:00\", \"variable\": \"pctapr1\", \"value\": 9.0}, {\"date\": \"2023-12-30T00:00:00\", \"variable\": \"pctapr1\", \"value\": 9.0}, {\"date\": \"2023-12-31T00:00:00\", \"variable\": \"pctapr1\", \"value\": 9.0}, {\"date\": \"2024-01-01T00:00:00\", \"variable\": \"pctapr1\", \"value\": 10.0}, {\"date\": \"2024-01-02T00:00:00\", \"variable\": \"pctapr1\", \"value\": 10.0}, {\"date\": \"2024-01-03T00:00:00\", \"variable\": \"pctapr1\", \"value\": 12.0}, {\"date\": \"2024-01-04T00:00:00\", \"variable\": \"pctapr1\", \"value\": 13.0}, {\"date\": \"2024-01-05T00:00:00\", \"variable\": \"pctapr1\", \"value\": 13.0}, {\"date\": \"2024-01-06T00:00:00\", \"variable\": \"pctapr1\", \"value\": 13.0}, {\"date\": \"2024-01-07T00:00:00\", \"variable\": \"pctapr1\", \"value\": 15.0}, {\"date\": \"2024-01-08T00:00:00\", \"variable\": \"pctapr1\", \"value\": 15.0}, {\"date\": \"2024-01-09T00:00:00\", \"variable\": \"pctapr1\", \"value\": 15.0}, {\"date\": \"2024-01-10T00:00:00\", \"variable\": \"pctapr1\", \"value\": 16.0}, {\"date\": \"2024-01-11T00:00:00\", \"variable\": \"pctapr1\", \"value\": 19.0}, {\"date\": \"2024-01-12T00:00:00\", \"variable\": \"pctapr1\", \"value\": 20.0}, {\"date\": \"2024-01-13T00:00:00\", \"variable\": \"pctapr1\", \"value\": 20.0}, {\"date\": \"2024-01-14T00:00:00\", \"variable\": \"pctapr1\", \"value\": 23.0}, {\"date\": \"2024-01-15T00:00:00\", \"variable\": \"pctapr1\", \"value\": 24.0}, {\"date\": \"2024-01-16T00:00:00\", \"variable\": \"pctapr1\", \"value\": 24.0}, {\"date\": \"2024-01-17T00:00:00\", \"variable\": \"pctapr1\", \"value\": 26.0}, {\"date\": \"2024-01-18T00:00:00\", \"variable\": \"pctapr1\", \"value\": 26.0}, {\"date\": \"2024-01-19T00:00:00\", \"variable\": \"pctapr1\", \"value\": 26.0}, {\"date\": \"2024-01-20T00:00:00\", \"variable\": \"pctapr1\", \"value\": 27.0}, {\"date\": \"2024-01-21T00:00:00\", \"variable\": \"pctapr1\", \"value\": 28.999999999999996}, {\"date\": \"2024-01-22T00:00:00\", \"variable\": \"pctapr1\", \"value\": 30.0}, {\"date\": \"2024-01-23T00:00:00\", \"variable\": \"pctapr1\", \"value\": 31.0}, {\"date\": \"2024-01-24T00:00:00\", \"variable\": \"pctapr1\", \"value\": 31.0}, {\"date\": \"2024-01-25T00:00:00\", \"variable\": \"pctapr1\", \"value\": 32.0}, {\"date\": \"2024-01-26T00:00:00\", \"variable\": \"pctapr1\", \"value\": 32.0}, {\"date\": \"2024-01-27T00:00:00\", \"variable\": \"pctapr1\", \"value\": 32.0}, {\"date\": \"2024-01-28T00:00:00\", \"variable\": \"pctapr1\", \"value\": 32.0}, {\"date\": \"2024-01-29T00:00:00\", \"variable\": \"pctapr1\", \"value\": 32.0}, {\"date\": \"2024-01-30T00:00:00\", \"variable\": \"pctapr1\", \"value\": 32.0}, {\"date\": \"2024-01-31T00:00:00\", \"variable\": \"pctapr1\", \"value\": 31.0}, {\"date\": \"2024-02-01T00:00:00\", \"variable\": \"pctapr1\", \"value\": 33.0}, {\"date\": \"2024-02-02T00:00:00\", \"variable\": \"pctapr1\", \"value\": 36.0}, {\"date\": \"2024-02-03T00:00:00\", \"variable\": \"pctapr1\", \"value\": 38.0}, {\"date\": \"2024-02-04T00:00:00\", \"variable\": \"pctapr1\", \"value\": 39.0}, {\"date\": \"2024-02-05T00:00:00\", \"variable\": \"pctapr1\", \"value\": 47.0}, {\"date\": \"2024-02-06T00:00:00\", \"variable\": \"pctapr1\", \"value\": null}, {\"date\": \"2024-02-07T00:00:00\", \"variable\": \"pctapr1\", \"value\": null}, {\"date\": \"2024-02-08T00:00:00\", \"variable\": \"pctapr1\", \"value\": null}, {\"date\": \"2024-02-09T00:00:00\", \"variable\": \"pctapr1\", \"value\": null}, {\"date\": \"2024-02-10T00:00:00\", \"variable\": \"pctapr1\", \"value\": null}, {\"date\": \"2024-02-11T00:00:00\", \"variable\": \"pctapr1\", \"value\": null}, {\"date\": \"2024-02-12T00:00:00\", \"variable\": \"pctapr1\", \"value\": null}, {\"date\": \"2024-02-13T00:00:00\", \"variable\": \"pctapr1\", \"value\": null}, {\"date\": \"2024-02-14T00:00:00\", \"variable\": \"pctapr1\", \"value\": null}, {\"date\": \"2024-02-15T00:00:00\", \"variable\": \"pctapr1\", \"value\": null}, {\"date\": \"2024-02-16T00:00:00\", \"variable\": \"pctapr1\", \"value\": null}, {\"date\": \"2024-02-17T00:00:00\", \"variable\": \"pctapr1\", \"value\": null}, {\"date\": \"2024-02-18T00:00:00\", \"variable\": \"pctapr1\", \"value\": null}, {\"date\": \"2024-02-19T00:00:00\", \"variable\": \"pctapr1\", \"value\": null}, {\"date\": \"2024-02-20T00:00:00\", \"variable\": \"pctapr1\", \"value\": null}, {\"date\": \"2024-02-21T00:00:00\", \"variable\": \"pctapr1\", \"value\": null}, {\"date\": \"2024-02-22T00:00:00\", \"variable\": \"pctapr1\", \"value\": null}, {\"date\": \"2024-02-23T00:00:00\", \"variable\": \"pctapr1\", \"value\": null}, {\"date\": \"2024-02-24T00:00:00\", \"variable\": \"pctapr1\", \"value\": null}, {\"date\": \"2024-02-25T00:00:00\", \"variable\": \"pctapr1\", \"value\": null}, {\"date\": \"2024-02-26T00:00:00\", \"variable\": \"pctapr1\", \"value\": null}, {\"date\": \"2024-02-27T00:00:00\", \"variable\": \"pctapr1\", \"value\": null}, {\"date\": \"2024-02-28T00:00:00\", \"variable\": \"pctapr1\", \"value\": null}, {\"date\": \"2024-02-29T00:00:00\", \"variable\": \"pctapr1\", \"value\": null}, {\"date\": \"2024-03-01T00:00:00\", \"variable\": \"pctapr1\", \"value\": null}, {\"date\": \"2024-03-02T00:00:00\", \"variable\": \"pctapr1\", \"value\": null}, {\"date\": \"2024-03-03T00:00:00\", \"variable\": \"pctapr1\", \"value\": null}, {\"date\": \"2024-03-04T00:00:00\", \"variable\": \"pctapr1\", \"value\": null}, {\"date\": \"2024-03-05T00:00:00\", \"variable\": \"pctapr1\", \"value\": null}, {\"date\": \"2024-03-06T00:00:00\", \"variable\": \"pctapr1\", \"value\": null}, {\"date\": \"2024-03-07T00:00:00\", \"variable\": \"pctapr1\", \"value\": null}, {\"date\": \"2024-03-08T00:00:00\", \"variable\": \"pctapr1\", \"value\": null}, {\"date\": \"2024-03-09T00:00:00\", \"variable\": \"pctapr1\", \"value\": null}, {\"date\": \"2024-03-10T00:00:00\", \"variable\": \"pctapr1\", \"value\": null}, {\"date\": \"2024-03-11T00:00:00\", \"variable\": \"pctapr1\", \"value\": null}, {\"date\": \"2024-03-12T00:00:00\", \"variable\": \"pctapr1\", \"value\": null}, {\"date\": \"2024-03-13T00:00:00\", \"variable\": \"pctapr1\", \"value\": null}, {\"date\": \"2024-03-14T00:00:00\", \"variable\": \"pctapr1\", \"value\": null}, {\"date\": \"2024-03-15T00:00:00\", \"variable\": \"pctapr1\", \"value\": null}, {\"date\": \"2024-03-16T00:00:00\", \"variable\": \"pctapr1\", \"value\": null}, {\"date\": \"2024-03-17T00:00:00\", \"variable\": \"pctapr1\", \"value\": null}, {\"date\": \"2024-03-18T00:00:00\", \"variable\": \"pctapr1\", \"value\": null}, {\"date\": \"2024-03-19T00:00:00\", \"variable\": \"pctapr1\", \"value\": null}, {\"date\": \"2024-03-20T00:00:00\", \"variable\": \"pctapr1\", \"value\": null}, {\"date\": \"2024-03-21T00:00:00\", \"variable\": \"pctapr1\", \"value\": null}, {\"date\": \"2024-03-22T00:00:00\", \"variable\": \"pctapr1\", \"value\": null}, {\"date\": \"2024-03-23T00:00:00\", \"variable\": \"pctapr1\", \"value\": null}, {\"date\": \"2024-03-24T00:00:00\", \"variable\": \"pctapr1\", \"value\": null}, {\"date\": \"2024-03-25T00:00:00\", \"variable\": \"pctapr1\", \"value\": null}, {\"date\": \"2024-03-26T00:00:00\", \"variable\": \"pctapr1\", \"value\": null}, {\"date\": \"2024-03-27T00:00:00\", \"variable\": \"pctapr1\", \"value\": null}, {\"date\": \"2024-03-28T00:00:00\", \"variable\": \"pctapr1\", \"value\": null}, {\"date\": \"2024-03-29T00:00:00\", \"variable\": \"pctapr1\", \"value\": null}, {\"date\": \"2024-03-30T00:00:00\", \"variable\": \"pctapr1\", \"value\": null}, {\"date\": \"2024-03-31T00:00:00\", \"variable\": \"pctapr1\", \"value\": null}, {\"date\": \"2024-04-01T00:00:00\", \"variable\": \"pctapr1\", \"value\": null}, {\"date\": \"2024-04-02T00:00:00\", \"variable\": \"pctapr1\", \"value\": null}, {\"date\": \"2024-04-03T00:00:00\", \"variable\": \"pctapr1\", \"value\": null}, {\"date\": \"2024-04-04T00:00:00\", \"variable\": \"pctapr1\", \"value\": null}, {\"date\": \"2024-04-05T00:00:00\", \"variable\": \"pctapr1\", \"value\": null}, {\"date\": \"2024-04-06T00:00:00\", \"variable\": \"pctapr1\", \"value\": null}, {\"date\": \"2024-04-07T00:00:00\", \"variable\": \"pctapr1\", \"value\": null}, {\"date\": \"2024-04-08T00:00:00\", \"variable\": \"pctapr1\", \"value\": null}, {\"date\": \"2024-04-09T00:00:00\", \"variable\": \"pctapr1\", \"value\": null}, {\"date\": \"2024-04-10T00:00:00\", \"variable\": \"pctapr1\", \"value\": null}, {\"date\": \"2024-04-11T00:00:00\", \"variable\": \"pctapr1\", \"value\": null}, {\"date\": \"2024-04-12T00:00:00\", \"variable\": \"pctapr1\", \"value\": null}, {\"date\": \"2024-04-13T00:00:00\", \"variable\": \"pctapr1\", \"value\": null}, {\"date\": \"2024-04-14T00:00:00\", \"variable\": \"pctapr1\", \"value\": null}, {\"date\": \"2024-04-15T00:00:00\", \"variable\": \"pctapr1\", \"value\": null}, {\"date\": \"2024-04-16T00:00:00\", \"variable\": \"pctapr1\", \"value\": null}, {\"date\": \"2024-04-17T00:00:00\", \"variable\": \"pctapr1\", \"value\": null}, {\"date\": \"2024-04-18T00:00:00\", \"variable\": \"pctapr1\", \"value\": null}, {\"date\": \"2024-04-19T00:00:00\", \"variable\": \"pctapr1\", \"value\": null}, {\"date\": \"2024-04-20T00:00:00\", \"variable\": \"pctapr1\", \"value\": null}, {\"date\": \"2024-04-21T00:00:00\", \"variable\": \"pctapr1\", \"value\": null}, {\"date\": \"2024-04-22T00:00:00\", \"variable\": \"pctapr1\", \"value\": null}, {\"date\": \"2024-04-23T00:00:00\", \"variable\": \"pctapr1\", \"value\": null}, {\"date\": \"2024-04-24T00:00:00\", \"variable\": \"pctapr1\", \"value\": null}, {\"date\": \"2024-04-25T00:00:00\", \"variable\": \"pctapr1\", \"value\": null}, {\"date\": \"2024-04-26T00:00:00\", \"variable\": \"pctapr1\", \"value\": null}, {\"date\": \"2024-04-27T00:00:00\", \"variable\": \"pctapr1\", \"value\": null}, {\"date\": \"2024-04-28T00:00:00\", \"variable\": \"pctapr1\", \"value\": null}, {\"date\": \"2024-04-29T00:00:00\", \"variable\": \"pctapr1\", \"value\": null}, {\"date\": \"2024-04-30T00:00:00\", \"variable\": \"pctapr1\", \"value\": null}, {\"date\": \"2024-05-01T00:00:00\", \"variable\": \"pctapr1\", \"value\": null}, {\"date\": \"2024-05-02T00:00:00\", \"variable\": \"pctapr1\", \"value\": null}, {\"date\": \"2024-05-03T00:00:00\", \"variable\": \"pctapr1\", \"value\": null}, {\"date\": \"2024-05-04T00:00:00\", \"variable\": \"pctapr1\", \"value\": null}, {\"date\": \"2024-05-05T00:00:00\", \"variable\": \"pctapr1\", \"value\": null}, {\"date\": \"2024-05-06T00:00:00\", \"variable\": \"pctapr1\", \"value\": null}, {\"date\": \"2024-05-07T00:00:00\", \"variable\": \"pctapr1\", \"value\": null}, {\"date\": \"2024-05-08T00:00:00\", \"variable\": \"pctapr1\", \"value\": null}, {\"date\": \"2024-05-09T00:00:00\", \"variable\": \"pctapr1\", \"value\": null}, {\"date\": \"2024-05-10T00:00:00\", \"variable\": \"pctapr1\", \"value\": null}, {\"date\": \"2024-05-11T00:00:00\", \"variable\": \"pctapr1\", \"value\": null}, {\"date\": \"2024-05-12T00:00:00\", \"variable\": \"pctapr1\", \"value\": null}, {\"date\": \"2024-05-13T00:00:00\", \"variable\": \"pctapr1\", \"value\": null}, {\"date\": \"2024-05-14T00:00:00\", \"variable\": \"pctapr1\", \"value\": null}, {\"date\": \"2024-05-15T00:00:00\", \"variable\": \"pctapr1\", \"value\": null}, {\"date\": \"2024-05-16T00:00:00\", \"variable\": \"pctapr1\", \"value\": null}, {\"date\": \"2024-05-17T00:00:00\", \"variable\": \"pctapr1\", \"value\": null}, {\"date\": \"2024-05-18T00:00:00\", \"variable\": \"pctapr1\", \"value\": null}, {\"date\": \"2024-05-19T00:00:00\", \"variable\": \"pctapr1\", \"value\": null}, {\"date\": \"2024-05-20T00:00:00\", \"variable\": \"pctapr1\", \"value\": null}, {\"date\": \"2024-05-21T00:00:00\", \"variable\": \"pctapr1\", \"value\": null}, {\"date\": \"2024-05-22T00:00:00\", \"variable\": \"pctapr1\", \"value\": null}, {\"date\": \"2024-05-23T00:00:00\", \"variable\": \"pctapr1\", \"value\": null}, {\"date\": \"2024-05-24T00:00:00\", \"variable\": \"pctapr1\", \"value\": null}, {\"date\": \"2024-05-25T00:00:00\", \"variable\": \"pctapr1\", \"value\": null}, {\"date\": \"2024-05-26T00:00:00\", \"variable\": \"pctapr1\", \"value\": null}, {\"date\": \"2024-05-27T00:00:00\", \"variable\": \"pctapr1\", \"value\": null}, {\"date\": \"2024-05-28T00:00:00\", \"variable\": \"pctapr1\", \"value\": null}, {\"date\": \"2024-05-29T00:00:00\", \"variable\": \"pctapr1\", \"value\": null}, {\"date\": \"2024-05-30T00:00:00\", \"variable\": \"pctapr1\", \"value\": null}, {\"date\": \"2024-05-31T00:00:00\", \"variable\": \"pctapr1\", \"value\": null}, {\"date\": \"2024-06-01T00:00:00\", \"variable\": \"pctapr1\", \"value\": null}, {\"date\": \"2024-06-02T00:00:00\", \"variable\": \"pctapr1\", \"value\": null}, {\"date\": \"2024-06-03T00:00:00\", \"variable\": \"pctapr1\", \"value\": null}, {\"date\": \"2024-06-04T00:00:00\", \"variable\": \"pctapr1\", \"value\": null}, {\"date\": \"2024-06-05T00:00:00\", \"variable\": \"pctapr1\", \"value\": null}, {\"date\": \"2024-06-06T00:00:00\", \"variable\": \"pctapr1\", \"value\": null}, {\"date\": \"2024-06-07T00:00:00\", \"variable\": \"pctapr1\", \"value\": null}, {\"date\": \"2024-06-08T00:00:00\", \"variable\": \"pctapr1\", \"value\": null}, {\"date\": \"2024-06-09T00:00:00\", \"variable\": \"pctapr1\", \"value\": null}, {\"date\": \"2024-06-10T00:00:00\", \"variable\": \"pctapr1\", \"value\": null}, {\"date\": \"2024-06-11T00:00:00\", \"variable\": \"pctapr1\", \"value\": null}, {\"date\": \"2024-06-12T00:00:00\", \"variable\": \"pctapr1\", \"value\": null}, {\"date\": \"2024-06-13T00:00:00\", \"variable\": \"pctapr1\", \"value\": null}, {\"date\": \"2024-06-14T00:00:00\", \"variable\": \"pctapr1\", \"value\": null}, {\"date\": \"2024-06-15T00:00:00\", \"variable\": \"pctapr1\", \"value\": null}, {\"date\": \"2024-06-16T00:00:00\", \"variable\": \"pctapr1\", \"value\": null}, {\"date\": \"2024-06-17T00:00:00\", \"variable\": \"pctapr1\", \"value\": null}, {\"date\": \"2024-06-18T00:00:00\", \"variable\": \"pctapr1\", \"value\": null}, {\"date\": \"2024-06-19T00:00:00\", \"variable\": \"pctapr1\", \"value\": null}, {\"date\": \"2024-06-20T00:00:00\", \"variable\": \"pctapr1\", \"value\": null}, {\"date\": \"2024-06-21T00:00:00\", \"variable\": \"pctapr1\", \"value\": null}, {\"date\": \"2024-06-22T00:00:00\", \"variable\": \"pctapr1\", \"value\": null}, {\"date\": \"2024-06-23T00:00:00\", \"variable\": \"pctapr1\", \"value\": null}, {\"date\": \"2024-06-24T00:00:00\", \"variable\": \"pctapr1\", \"value\": null}, {\"date\": \"2024-06-25T00:00:00\", \"variable\": \"pctapr1\", \"value\": null}, {\"date\": \"2024-06-26T00:00:00\", \"variable\": \"pctapr1\", \"value\": null}, {\"date\": \"2024-06-27T00:00:00\", \"variable\": \"pctapr1\", \"value\": null}, {\"date\": \"2024-06-28T00:00:00\", \"variable\": \"pctapr1\", \"value\": null}, {\"date\": \"2024-06-29T00:00:00\", \"variable\": \"pctapr1\", \"value\": null}, {\"date\": \"2024-06-30T00:00:00\", \"variable\": \"pctapr1\", \"value\": null}, {\"date\": \"2024-07-01T00:00:00\", \"variable\": \"pctapr1\", \"value\": null}, {\"date\": \"2024-07-02T00:00:00\", \"variable\": \"pctapr1\", \"value\": null}, {\"date\": \"2024-07-03T00:00:00\", \"variable\": \"pctapr1\", \"value\": null}, {\"date\": \"2024-07-04T00:00:00\", \"variable\": \"pctapr1\", \"value\": null}, {\"date\": \"2024-07-05T00:00:00\", \"variable\": \"pctapr1\", \"value\": null}, {\"date\": \"2024-07-06T00:00:00\", \"variable\": \"pctapr1\", \"value\": null}, {\"date\": \"2024-07-07T00:00:00\", \"variable\": \"pctapr1\", \"value\": null}, {\"date\": \"2024-07-08T00:00:00\", \"variable\": \"pctapr1\", \"value\": null}, {\"date\": \"2024-07-09T00:00:00\", \"variable\": \"pctapr1\", \"value\": null}, {\"date\": \"2024-07-10T00:00:00\", \"variable\": \"pctapr1\", \"value\": null}, {\"date\": \"2024-07-11T00:00:00\", \"variable\": \"pctapr1\", \"value\": null}, {\"date\": \"2024-07-12T00:00:00\", \"variable\": \"pctapr1\", \"value\": null}, {\"date\": \"2024-07-13T00:00:00\", \"variable\": \"pctapr1\", \"value\": null}, {\"date\": \"2024-07-14T00:00:00\", \"variable\": \"pctapr1\", \"value\": null}, {\"date\": \"2024-07-15T00:00:00\", \"variable\": \"pctapr1\", \"value\": null}, {\"date\": \"2024-07-16T00:00:00\", \"variable\": \"pctapr1\", \"value\": null}, {\"date\": \"2024-07-17T00:00:00\", \"variable\": \"pctapr1\", \"value\": null}, {\"date\": \"2024-07-18T00:00:00\", \"variable\": \"pctapr1\", \"value\": null}, {\"date\": \"2024-07-19T00:00:00\", \"variable\": \"pctapr1\", \"value\": null}, {\"date\": \"2024-07-20T00:00:00\", \"variable\": \"pctapr1\", \"value\": null}, {\"date\": \"2024-07-21T00:00:00\", \"variable\": \"pctapr1\", \"value\": null}, {\"date\": \"2024-07-22T00:00:00\", \"variable\": \"pctapr1\", \"value\": null}, {\"date\": \"2024-07-23T00:00:00\", \"variable\": \"pctapr1\", \"value\": null}, {\"date\": \"2024-07-24T00:00:00\", \"variable\": \"pctapr1\", \"value\": null}, {\"date\": \"2024-07-25T00:00:00\", \"variable\": \"pctapr1\", \"value\": null}, {\"date\": \"2024-07-26T00:00:00\", \"variable\": \"pctapr1\", \"value\": null}, {\"date\": \"2024-07-27T00:00:00\", \"variable\": \"pctapr1\", \"value\": null}, {\"date\": \"2024-07-28T00:00:00\", \"variable\": \"pctapr1\", \"value\": null}, {\"date\": \"2024-07-29T00:00:00\", \"variable\": \"pctapr1\", \"value\": null}, {\"date\": \"2024-07-30T00:00:00\", \"variable\": \"pctapr1\", \"value\": null}, {\"date\": \"2024-07-31T00:00:00\", \"variable\": \"pctapr1\", \"value\": null}, {\"date\": \"2024-08-01T00:00:00\", \"variable\": \"pctapr1\", \"value\": null}, {\"date\": \"2024-08-02T00:00:00\", \"variable\": \"pctapr1\", \"value\": null}, {\"date\": \"2024-08-03T00:00:00\", \"variable\": \"pctapr1\", \"value\": null}, {\"date\": \"2024-08-04T00:00:00\", \"variable\": \"pctapr1\", \"value\": null}, {\"date\": \"2024-08-05T00:00:00\", \"variable\": \"pctapr1\", \"value\": null}, {\"date\": \"2024-08-06T00:00:00\", \"variable\": \"pctapr1\", \"value\": null}, {\"date\": \"2024-08-07T00:00:00\", \"variable\": \"pctapr1\", \"value\": null}, {\"date\": \"2024-08-08T00:00:00\", \"variable\": \"pctapr1\", \"value\": null}, {\"date\": \"2024-08-09T00:00:00\", \"variable\": \"pctapr1\", \"value\": null}, {\"date\": \"2024-08-10T00:00:00\", \"variable\": \"pctapr1\", \"value\": null}, {\"date\": \"2024-08-11T00:00:00\", \"variable\": \"pctapr1\", \"value\": null}, {\"date\": \"2024-08-12T00:00:00\", \"variable\": \"pctapr1\", \"value\": null}, {\"date\": \"2024-08-13T00:00:00\", \"variable\": \"pctapr1\", \"value\": null}, {\"date\": \"2024-08-14T00:00:00\", \"variable\": \"pctapr1\", \"value\": null}, {\"date\": \"2024-08-15T00:00:00\", \"variable\": \"pctapr1\", \"value\": null}, {\"date\": \"2024-08-16T00:00:00\", \"variable\": \"pctapr1\", \"value\": null}, {\"date\": \"2024-08-17T00:00:00\", \"variable\": \"pctapr1\", \"value\": null}, {\"date\": \"2024-08-18T00:00:00\", \"variable\": \"pctapr1\", \"value\": null}, {\"date\": \"2024-08-19T00:00:00\", \"variable\": \"pctapr1\", \"value\": null}, {\"date\": \"2024-08-20T00:00:00\", \"variable\": \"pctapr1\", \"value\": null}, {\"date\": \"2024-08-21T00:00:00\", \"variable\": \"pctapr1\", \"value\": null}, {\"date\": \"2024-08-22T00:00:00\", \"variable\": \"pctapr1\", \"value\": null}, {\"date\": \"2024-08-23T00:00:00\", \"variable\": \"pctapr1\", \"value\": null}, {\"date\": \"2024-08-24T00:00:00\", \"variable\": \"pctapr1\", \"value\": null}, {\"date\": \"2024-08-25T00:00:00\", \"variable\": \"pctapr1\", \"value\": null}, {\"date\": \"2024-08-26T00:00:00\", \"variable\": \"pctapr1\", \"value\": null}, {\"date\": \"2024-08-27T00:00:00\", \"variable\": \"pctapr1\", \"value\": null}, {\"date\": \"2024-08-28T00:00:00\", \"variable\": \"pctapr1\", \"value\": null}, {\"date\": \"2024-08-29T00:00:00\", \"variable\": \"pctapr1\", \"value\": null}, {\"date\": \"2024-08-30T00:00:00\", \"variable\": \"pctapr1\", \"value\": null}, {\"date\": \"2024-08-31T00:00:00\", \"variable\": \"pctapr1\", \"value\": null}, {\"date\": \"2024-09-01T00:00:00\", \"variable\": \"pctapr1\", \"value\": null}, {\"date\": \"2024-09-02T00:00:00\", \"variable\": \"pctapr1\", \"value\": null}, {\"date\": \"2024-09-03T00:00:00\", \"variable\": \"pctapr1\", \"value\": null}, {\"date\": \"2024-09-04T00:00:00\", \"variable\": \"pctapr1\", \"value\": null}, {\"date\": \"2024-09-05T00:00:00\", \"variable\": \"pctapr1\", \"value\": null}, {\"date\": \"2024-09-06T00:00:00\", \"variable\": \"pctapr1\", \"value\": null}, {\"date\": \"2024-09-07T00:00:00\", \"variable\": \"pctapr1\", \"value\": null}, {\"date\": \"2024-09-08T00:00:00\", \"variable\": \"pctapr1\", \"value\": null}, {\"date\": \"2024-09-09T00:00:00\", \"variable\": \"pctapr1\", \"value\": null}, {\"date\": \"2024-09-10T00:00:00\", \"variable\": \"pctapr1\", \"value\": null}, {\"date\": \"2024-09-11T00:00:00\", \"variable\": \"pctapr1\", \"value\": null}, {\"date\": \"2024-09-12T00:00:00\", \"variable\": \"pctapr1\", \"value\": null}, {\"date\": \"2024-09-13T00:00:00\", \"variable\": \"pctapr1\", \"value\": null}, {\"date\": \"2024-09-14T00:00:00\", \"variable\": \"pctapr1\", \"value\": null}, {\"date\": \"2024-09-15T00:00:00\", \"variable\": \"pctapr1\", \"value\": null}, {\"date\": \"2024-09-16T00:00:00\", \"variable\": \"pctapr1\", \"value\": null}, {\"date\": \"2024-09-17T00:00:00\", \"variable\": \"pctapr1\", \"value\": null}, {\"date\": \"2024-09-18T00:00:00\", \"variable\": \"pctapr1\", \"value\": null}, {\"date\": \"2024-09-19T00:00:00\", \"variable\": \"pctapr1\", \"value\": null}, {\"date\": \"2024-09-20T00:00:00\", \"variable\": \"pctapr1\", \"value\": null}, {\"date\": \"2024-09-21T00:00:00\", \"variable\": \"pctapr1\", \"value\": null}, {\"date\": \"2024-09-22T00:00:00\", \"variable\": \"pctapr1\", \"value\": null}, {\"date\": \"2024-09-23T00:00:00\", \"variable\": \"pctapr1\", \"value\": null}, {\"date\": \"2024-09-24T00:00:00\", \"variable\": \"pctapr1\", \"value\": null}, {\"date\": \"2024-09-25T00:00:00\", \"variable\": \"pctapr1\", \"value\": null}, {\"date\": \"2024-09-26T00:00:00\", \"variable\": \"pctapr1\", \"value\": null}, {\"date\": \"2024-09-27T00:00:00\", \"variable\": \"pctapr1\", \"value\": null}, {\"date\": \"2024-09-28T00:00:00\", \"variable\": \"pctapr1\", \"value\": null}, {\"date\": \"2024-09-29T00:00:00\", \"variable\": \"pctapr1\", \"value\": null}, {\"date\": \"2024-09-30T00:00:00\", \"variable\": \"pctapr1\", \"value\": null}, {\"date\": \"2023-10-01T00:00:00\", \"variable\": \"avg\", \"value\": 0.0}, {\"date\": \"2023-10-02T00:00:00\", \"variable\": \"avg\", \"value\": 0.0}, {\"date\": \"2023-10-03T00:00:00\", \"variable\": \"avg\", \"value\": 0.0}, {\"date\": \"2023-10-04T00:00:00\", \"variable\": \"avg\", \"value\": 0.0}, {\"date\": \"2023-10-05T00:00:00\", \"variable\": \"avg\", \"value\": 0.1}, {\"date\": \"2023-10-06T00:00:00\", \"variable\": \"avg\", \"value\": 0.2}, {\"date\": \"2023-10-07T00:00:00\", \"variable\": \"avg\", \"value\": 0.2}, {\"date\": \"2023-10-08T00:00:00\", \"variable\": \"avg\", \"value\": 0.2}, {\"date\": \"2023-10-09T00:00:00\", \"variable\": \"avg\", \"value\": 0.2}, {\"date\": \"2023-10-10T00:00:00\", \"variable\": \"avg\", \"value\": 0.2}, {\"date\": \"2023-10-11T00:00:00\", \"variable\": \"avg\", \"value\": 0.2}, {\"date\": \"2023-10-12T00:00:00\", \"variable\": \"avg\", \"value\": 0.2}, {\"date\": \"2023-10-13T00:00:00\", \"variable\": \"avg\", \"value\": 0.2}, {\"date\": \"2023-10-14T00:00:00\", \"variable\": \"avg\", \"value\": 0.4}, {\"date\": \"2023-10-15T00:00:00\", \"variable\": \"avg\", \"value\": 0.3}, {\"date\": \"2023-10-16T00:00:00\", \"variable\": \"avg\", \"value\": 0.3}, {\"date\": \"2023-10-17T00:00:00\", \"variable\": \"avg\", \"value\": 0.3}, {\"date\": \"2023-10-18T00:00:00\", \"variable\": \"avg\", \"value\": 0.3}, {\"date\": \"2023-10-19T00:00:00\", \"variable\": \"avg\", \"value\": 0.3}, {\"date\": \"2023-10-20T00:00:00\", \"variable\": \"avg\", \"value\": 0.5}, {\"date\": \"2023-10-21T00:00:00\", \"variable\": \"avg\", \"value\": 0.6}, {\"date\": \"2023-10-22T00:00:00\", \"variable\": \"avg\", \"value\": 0.6}, {\"date\": \"2023-10-23T00:00:00\", \"variable\": \"avg\", \"value\": 0.8}, {\"date\": \"2023-10-24T00:00:00\", \"variable\": \"avg\", \"value\": 0.8}, {\"date\": \"2023-10-25T00:00:00\", \"variable\": \"avg\", \"value\": 0.8999999999999999}, {\"date\": \"2023-10-26T00:00:00\", \"variable\": \"avg\", \"value\": 1.0}, {\"date\": \"2023-10-27T00:00:00\", \"variable\": \"avg\", \"value\": 1.2}, {\"date\": \"2023-10-28T00:00:00\", \"variable\": \"avg\", \"value\": 1.2}, {\"date\": \"2023-10-29T00:00:00\", \"variable\": \"avg\", \"value\": 1.3}, {\"date\": \"2023-10-30T00:00:00\", \"variable\": \"avg\", \"value\": 1.6}, {\"date\": \"2023-10-31T00:00:00\", \"variable\": \"avg\", \"value\": 1.7999999999999998}, {\"date\": \"2023-11-01T00:00:00\", \"variable\": \"avg\", \"value\": 1.9}, {\"date\": \"2023-11-02T00:00:00\", \"variable\": \"avg\", \"value\": 1.9}, {\"date\": \"2023-11-03T00:00:00\", \"variable\": \"avg\", \"value\": 2.0}, {\"date\": \"2023-11-04T00:00:00\", \"variable\": \"avg\", \"value\": 2.1999999999999997}, {\"date\": \"2023-11-05T00:00:00\", \"variable\": \"avg\", \"value\": 2.3}, {\"date\": \"2023-11-06T00:00:00\", \"variable\": \"avg\", \"value\": 2.3}, {\"date\": \"2023-11-07T00:00:00\", \"variable\": \"avg\", \"value\": 2.4}, {\"date\": \"2023-11-08T00:00:00\", \"variable\": \"avg\", \"value\": 2.7}, {\"date\": \"2023-11-09T00:00:00\", \"variable\": \"avg\", \"value\": 3.2}, {\"date\": \"2023-11-10T00:00:00\", \"variable\": \"avg\", \"value\": 3.5000000000000004}, {\"date\": \"2023-11-11T00:00:00\", \"variable\": \"avg\", \"value\": 3.6999999999999997}, {\"date\": \"2023-11-12T00:00:00\", \"variable\": \"avg\", \"value\": 3.8}, {\"date\": \"2023-11-13T00:00:00\", \"variable\": \"avg\", \"value\": 3.9}, {\"date\": \"2023-11-14T00:00:00\", \"variable\": \"avg\", \"value\": 4.0}, {\"date\": \"2023-11-15T00:00:00\", \"variable\": \"avg\", \"value\": 4.0}, {\"date\": \"2023-11-16T00:00:00\", \"variable\": \"avg\", \"value\": 4.3999999999999995}, {\"date\": \"2023-11-17T00:00:00\", \"variable\": \"avg\", \"value\": 4.7}, {\"date\": \"2023-11-18T00:00:00\", \"variable\": \"avg\", \"value\": 5.2}, {\"date\": \"2023-11-19T00:00:00\", \"variable\": \"avg\", \"value\": 5.4}, {\"date\": \"2023-11-20T00:00:00\", \"variable\": \"avg\", \"value\": 5.7}, {\"date\": \"2023-11-21T00:00:00\", \"variable\": \"avg\", \"value\": 6.2}, {\"date\": \"2023-11-22T00:00:00\", \"variable\": \"avg\", \"value\": 6.5}, {\"date\": \"2023-11-23T00:00:00\", \"variable\": \"avg\", \"value\": 7.000000000000001}, {\"date\": \"2023-11-24T00:00:00\", \"variable\": \"avg\", \"value\": 7.3}, {\"date\": \"2023-11-25T00:00:00\", \"variable\": \"avg\", \"value\": 7.7}, {\"date\": \"2023-11-26T00:00:00\", \"variable\": \"avg\", \"value\": 8.0}, {\"date\": \"2023-11-27T00:00:00\", \"variable\": \"avg\", \"value\": 8.6}, {\"date\": \"2023-11-28T00:00:00\", \"variable\": \"avg\", \"value\": 9.4}, {\"date\": \"2023-11-29T00:00:00\", \"variable\": \"avg\", \"value\": 10.0}, {\"date\": \"2023-11-30T00:00:00\", \"variable\": \"avg\", \"value\": 10.7}, {\"date\": \"2023-12-01T00:00:00\", \"variable\": \"avg\", \"value\": 11.3}, {\"date\": \"2023-12-02T00:00:00\", \"variable\": \"avg\", \"value\": 12.1}, {\"date\": \"2023-12-03T00:00:00\", \"variable\": \"avg\", \"value\": 12.9}, {\"date\": \"2023-12-04T00:00:00\", \"variable\": \"avg\", \"value\": 13.4}, {\"date\": \"2023-12-05T00:00:00\", \"variable\": \"avg\", \"value\": 13.700000000000001}, {\"date\": \"2023-12-06T00:00:00\", \"variable\": \"avg\", \"value\": 14.299999999999999}, {\"date\": \"2023-12-07T00:00:00\", \"variable\": \"avg\", \"value\": 15.2}, {\"date\": \"2023-12-08T00:00:00\", \"variable\": \"avg\", \"value\": 16.1}, {\"date\": \"2023-12-09T00:00:00\", \"variable\": \"avg\", \"value\": 16.7}, {\"date\": \"2023-12-10T00:00:00\", \"variable\": \"avg\", \"value\": 17.1}, {\"date\": \"2023-12-11T00:00:00\", \"variable\": \"avg\", \"value\": 17.9}, {\"date\": \"2023-12-12T00:00:00\", \"variable\": \"avg\", \"value\": 18.8}, {\"date\": \"2023-12-13T00:00:00\", \"variable\": \"avg\", \"value\": 19.7}, {\"date\": \"2023-12-14T00:00:00\", \"variable\": \"avg\", \"value\": 20.599999999999998}, {\"date\": \"2023-12-15T00:00:00\", \"variable\": \"avg\", \"value\": 21.4}, {\"date\": \"2023-12-16T00:00:00\", \"variable\": \"avg\", \"value\": 22.2}, {\"date\": \"2023-12-17T00:00:00\", \"variable\": \"avg\", \"value\": 22.8}, {\"date\": \"2023-12-18T00:00:00\", \"variable\": \"avg\", \"value\": 23.599999999999998}, {\"date\": \"2023-12-19T00:00:00\", \"variable\": \"avg\", \"value\": 24.6}, {\"date\": \"2023-12-20T00:00:00\", \"variable\": \"avg\", \"value\": 25.6}, {\"date\": \"2023-12-21T00:00:00\", \"variable\": \"avg\", \"value\": 26.400000000000002}, {\"date\": \"2023-12-22T00:00:00\", \"variable\": \"avg\", \"value\": 27.500000000000004}, {\"date\": \"2023-12-23T00:00:00\", \"variable\": \"avg\", \"value\": 28.299999999999997}, {\"date\": \"2023-12-24T00:00:00\", \"variable\": \"avg\", \"value\": 28.999999999999996}, {\"date\": \"2023-12-25T00:00:00\", \"variable\": \"avg\", \"value\": 29.7}, {\"date\": \"2023-12-26T00:00:00\", \"variable\": \"avg\", \"value\": 30.4}, {\"date\": \"2023-12-27T00:00:00\", \"variable\": \"avg\", \"value\": 31.0}, {\"date\": \"2023-12-28T00:00:00\", \"variable\": \"avg\", \"value\": 31.5}, {\"date\": \"2023-12-29T00:00:00\", \"variable\": \"avg\", \"value\": 32.6}, {\"date\": \"2023-12-30T00:00:00\", \"variable\": \"avg\", \"value\": 33.800000000000004}, {\"date\": \"2023-12-31T00:00:00\", \"variable\": \"avg\", \"value\": 34.599999999999994}, {\"date\": \"2024-01-01T00:00:00\", \"variable\": \"avg\", \"value\": 35.199999999999996}, {\"date\": \"2024-01-02T00:00:00\", \"variable\": \"avg\", \"value\": 36.1}, {\"date\": \"2024-01-03T00:00:00\", \"variable\": \"avg\", \"value\": 36.8}, {\"date\": \"2024-01-04T00:00:00\", \"variable\": \"avg\", \"value\": 37.5}, {\"date\": \"2024-01-05T00:00:00\", \"variable\": \"avg\", \"value\": 39.0}, {\"date\": \"2024-01-06T00:00:00\", \"variable\": \"avg\", \"value\": 39.800000000000004}, {\"date\": \"2024-01-07T00:00:00\", \"variable\": \"avg\", \"value\": 40.699999999999996}, {\"date\": \"2024-01-08T00:00:00\", \"variable\": \"avg\", \"value\": 41.699999999999996}, {\"date\": \"2024-01-09T00:00:00\", \"variable\": \"avg\", \"value\": 42.8}, {\"date\": \"2024-01-10T00:00:00\", \"variable\": \"avg\", \"value\": 43.8}, {\"date\": \"2024-01-11T00:00:00\", \"variable\": \"avg\", \"value\": 45.1}, {\"date\": \"2024-01-12T00:00:00\", \"variable\": \"avg\", \"value\": 45.800000000000004}, {\"date\": \"2024-01-13T00:00:00\", \"variable\": \"avg\", \"value\": 46.400000000000006}, {\"date\": \"2024-01-14T00:00:00\", \"variable\": \"avg\", \"value\": 47.0}, {\"date\": \"2024-01-15T00:00:00\", \"variable\": \"avg\", \"value\": 47.699999999999996}, {\"date\": \"2024-01-16T00:00:00\", \"variable\": \"avg\", \"value\": 48.5}, {\"date\": \"2024-01-17T00:00:00\", \"variable\": \"avg\", \"value\": 49.4}, {\"date\": \"2024-01-18T00:00:00\", \"variable\": \"avg\", \"value\": 50.1}, {\"date\": \"2024-01-19T00:00:00\", \"variable\": \"avg\", \"value\": 51.5}, {\"date\": \"2024-01-20T00:00:00\", \"variable\": \"avg\", \"value\": 52.400000000000006}, {\"date\": \"2024-01-21T00:00:00\", \"variable\": \"avg\", \"value\": 53.800000000000004}, {\"date\": \"2024-01-22T00:00:00\", \"variable\": \"avg\", \"value\": 54.7}, {\"date\": \"2024-01-23T00:00:00\", \"variable\": \"avg\", \"value\": 56.00000000000001}, {\"date\": \"2024-01-24T00:00:00\", \"variable\": \"avg\", \"value\": 57.099999999999994}, {\"date\": \"2024-01-25T00:00:00\", \"variable\": \"avg\", \"value\": 58.3}, {\"date\": \"2024-01-26T00:00:00\", \"variable\": \"avg\", \"value\": 59.199999999999996}, {\"date\": \"2024-01-27T00:00:00\", \"variable\": \"avg\", \"value\": 59.9}, {\"date\": \"2024-01-28T00:00:00\", \"variable\": \"avg\", \"value\": 60.699999999999996}, {\"date\": \"2024-01-29T00:00:00\", \"variable\": \"avg\", \"value\": 61.1}, {\"date\": \"2024-01-30T00:00:00\", \"variable\": \"avg\", \"value\": 61.5}, {\"date\": \"2024-01-31T00:00:00\", \"variable\": \"avg\", \"value\": 62.0}, {\"date\": \"2024-02-01T00:00:00\", \"variable\": \"avg\", \"value\": 62.5}, {\"date\": \"2024-02-02T00:00:00\", \"variable\": \"avg\", \"value\": 62.7}, {\"date\": \"2024-02-03T00:00:00\", \"variable\": \"avg\", \"value\": 63.800000000000004}, {\"date\": \"2024-02-04T00:00:00\", \"variable\": \"avg\", \"value\": 64.5}, {\"date\": \"2024-02-05T00:00:00\", \"variable\": \"avg\", \"value\": 65.0}, {\"date\": \"2024-02-06T00:00:00\", \"variable\": \"avg\", \"value\": 65.5}, {\"date\": \"2024-02-07T00:00:00\", \"variable\": \"avg\", \"value\": 66.7}, {\"date\": \"2024-02-08T00:00:00\", \"variable\": \"avg\", \"value\": 67.7}, {\"date\": \"2024-02-09T00:00:00\", \"variable\": \"avg\", \"value\": 68.5}, {\"date\": \"2024-02-10T00:00:00\", \"variable\": \"avg\", \"value\": 69.39999999999999}, {\"date\": \"2024-02-11T00:00:00\", \"variable\": \"avg\", \"value\": 70.39999999999999}, {\"date\": \"2024-02-12T00:00:00\", \"variable\": \"avg\", \"value\": 71.0}, {\"date\": \"2024-02-13T00:00:00\", \"variable\": \"avg\", \"value\": 71.5}, {\"date\": \"2024-02-14T00:00:00\", \"variable\": \"avg\", \"value\": 72.5}, {\"date\": \"2024-02-15T00:00:00\", \"variable\": \"avg\", \"value\": 73.2}, {\"date\": \"2024-02-16T00:00:00\", \"variable\": \"avg\", \"value\": 74.0}, {\"date\": \"2024-02-17T00:00:00\", \"variable\": \"avg\", \"value\": 75.1}, {\"date\": \"2024-02-18T00:00:00\", \"variable\": \"avg\", \"value\": 76.3}, {\"date\": \"2024-02-19T00:00:00\", \"variable\": \"avg\", \"value\": 77.3}, {\"date\": \"2024-02-20T00:00:00\", \"variable\": \"avg\", \"value\": 78.60000000000001}, {\"date\": \"2024-02-21T00:00:00\", \"variable\": \"avg\", \"value\": 79.80000000000001}, {\"date\": \"2024-02-22T00:00:00\", \"variable\": \"avg\", \"value\": 81.0}, {\"date\": \"2024-02-23T00:00:00\", \"variable\": \"avg\", \"value\": 82.0}, {\"date\": \"2024-02-24T00:00:00\", \"variable\": \"avg\", \"value\": 83.0}, {\"date\": \"2024-02-25T00:00:00\", \"variable\": \"avg\", \"value\": 83.89999999999999}, {\"date\": \"2024-02-26T00:00:00\", \"variable\": \"avg\", \"value\": 85.0}, {\"date\": \"2024-02-27T00:00:00\", \"variable\": \"avg\", \"value\": 86.2}, {\"date\": \"2024-02-28T00:00:00\", \"variable\": \"avg\", \"value\": 87.2}, {\"date\": \"2024-02-29T00:00:00\", \"variable\": \"avg\", \"value\": null}, {\"date\": \"2024-03-01T00:00:00\", \"variable\": \"avg\", \"value\": 87.8}, {\"date\": \"2024-03-02T00:00:00\", \"variable\": \"avg\", \"value\": 88.7}, {\"date\": \"2024-03-03T00:00:00\", \"variable\": \"avg\", \"value\": 89.8}, {\"date\": \"2024-03-04T00:00:00\", \"variable\": \"avg\", \"value\": 90.8}, {\"date\": \"2024-03-05T00:00:00\", \"variable\": \"avg\", \"value\": 91.7}, {\"date\": \"2024-03-06T00:00:00\", \"variable\": \"avg\", \"value\": 92.80000000000001}, {\"date\": \"2024-03-07T00:00:00\", \"variable\": \"avg\", \"value\": 93.7}, {\"date\": \"2024-03-08T00:00:00\", \"variable\": \"avg\", \"value\": 94.1}, {\"date\": \"2024-03-09T00:00:00\", \"variable\": \"avg\", \"value\": 94.39999999999999}, {\"date\": \"2024-03-10T00:00:00\", \"variable\": \"avg\", \"value\": 94.8}, {\"date\": \"2024-03-11T00:00:00\", \"variable\": \"avg\", \"value\": 95.1}, {\"date\": \"2024-03-12T00:00:00\", \"variable\": \"avg\", \"value\": 95.3}, {\"date\": \"2024-03-13T00:00:00\", \"variable\": \"avg\", \"value\": 95.6}, {\"date\": \"2024-03-14T00:00:00\", \"variable\": \"avg\", \"value\": 95.8}, {\"date\": \"2024-03-15T00:00:00\", \"variable\": \"avg\", \"value\": 96.2}, {\"date\": \"2024-03-16T00:00:00\", \"variable\": \"avg\", \"value\": 96.6}, {\"date\": \"2024-03-17T00:00:00\", \"variable\": \"avg\", \"value\": 97.0}, {\"date\": \"2024-03-18T00:00:00\", \"variable\": \"avg\", \"value\": 97.0}, {\"date\": \"2024-03-19T00:00:00\", \"variable\": \"avg\", \"value\": 96.89999999999999}, {\"date\": \"2024-03-20T00:00:00\", \"variable\": \"avg\", \"value\": 97.0}, {\"date\": \"2024-03-21T00:00:00\", \"variable\": \"avg\", \"value\": 97.5}, {\"date\": \"2024-03-22T00:00:00\", \"variable\": \"avg\", \"value\": 97.8}, {\"date\": \"2024-03-23T00:00:00\", \"variable\": \"avg\", \"value\": 98.4}, {\"date\": \"2024-03-24T00:00:00\", \"variable\": \"avg\", \"value\": 98.9}, {\"date\": \"2024-03-25T00:00:00\", \"variable\": \"avg\", \"value\": 99.5}, {\"date\": \"2024-03-26T00:00:00\", \"variable\": \"avg\", \"value\": 99.9}, {\"date\": \"2024-03-27T00:00:00\", \"variable\": \"avg\", \"value\": 100.2}, {\"date\": \"2024-03-28T00:00:00\", \"variable\": \"avg\", \"value\": 100.4}, {\"date\": \"2024-03-29T00:00:00\", \"variable\": \"avg\", \"value\": 100.49999999999999}, {\"date\": \"2024-03-30T00:00:00\", \"variable\": \"avg\", \"value\": 100.29999999999998}, {\"date\": \"2024-03-31T00:00:00\", \"variable\": \"avg\", \"value\": 100.0}, {\"date\": \"2024-04-01T00:00:00\", \"variable\": \"avg\", \"value\": 100.0}, {\"date\": \"2024-04-02T00:00:00\", \"variable\": \"avg\", \"value\": 99.4}, {\"date\": \"2024-04-03T00:00:00\", \"variable\": \"avg\", \"value\": 99.0}, {\"date\": \"2024-04-04T00:00:00\", \"variable\": \"avg\", \"value\": 98.6}, {\"date\": \"2024-04-05T00:00:00\", \"variable\": \"avg\", \"value\": 98.4}, {\"date\": \"2024-04-06T00:00:00\", \"variable\": \"avg\", \"value\": 98.1}, {\"date\": \"2024-04-07T00:00:00\", \"variable\": \"avg\", \"value\": 97.7}, {\"date\": \"2024-04-08T00:00:00\", \"variable\": \"avg\", \"value\": 97.3}, {\"date\": \"2024-04-09T00:00:00\", \"variable\": \"avg\", \"value\": 96.89999999999999}, {\"date\": \"2024-04-10T00:00:00\", \"variable\": \"avg\", \"value\": 96.3}, {\"date\": \"2024-04-11T00:00:00\", \"variable\": \"avg\", \"value\": 95.6}, {\"date\": \"2024-04-12T00:00:00\", \"variable\": \"avg\", \"value\": 95.3}, {\"date\": \"2024-04-13T00:00:00\", \"variable\": \"avg\", \"value\": 94.89999999999999}, {\"date\": \"2024-04-14T00:00:00\", \"variable\": \"avg\", \"value\": 94.39999999999999}, {\"date\": \"2024-04-15T00:00:00\", \"variable\": \"avg\", \"value\": 93.7}, {\"date\": \"2024-04-16T00:00:00\", \"variable\": \"avg\", \"value\": 93.0}, {\"date\": \"2024-04-17T00:00:00\", \"variable\": \"avg\", \"value\": 92.60000000000001}, {\"date\": \"2024-04-18T00:00:00\", \"variable\": \"avg\", \"value\": 92.10000000000001}, {\"date\": \"2024-04-19T00:00:00\", \"variable\": \"avg\", \"value\": 91.10000000000001}, {\"date\": \"2024-04-20T00:00:00\", \"variable\": \"avg\", \"value\": 90.10000000000001}, {\"date\": \"2024-04-21T00:00:00\", \"variable\": \"avg\", \"value\": 89.2}, {\"date\": \"2024-04-22T00:00:00\", \"variable\": \"avg\", \"value\": 88.0}, {\"date\": \"2024-04-23T00:00:00\", \"variable\": \"avg\", \"value\": 87.1}, {\"date\": \"2024-04-24T00:00:00\", \"variable\": \"avg\", \"value\": 85.8}, {\"date\": \"2024-04-25T00:00:00\", \"variable\": \"avg\", \"value\": 84.8}, {\"date\": \"2024-04-26T00:00:00\", \"variable\": \"avg\", \"value\": 83.5}, {\"date\": \"2024-04-27T00:00:00\", \"variable\": \"avg\", \"value\": 81.8}, {\"date\": \"2024-04-28T00:00:00\", \"variable\": \"avg\", \"value\": 80.10000000000001}, {\"date\": \"2024-04-29T00:00:00\", \"variable\": \"avg\", \"value\": 78.5}, {\"date\": \"2024-04-30T00:00:00\", \"variable\": \"avg\", \"value\": 77.0}, {\"date\": \"2024-05-01T00:00:00\", \"variable\": \"avg\", \"value\": 75.6}, {\"date\": \"2024-05-02T00:00:00\", \"variable\": \"avg\", \"value\": 73.6}, {\"date\": \"2024-05-03T00:00:00\", \"variable\": \"avg\", \"value\": 72.0}, {\"date\": \"2024-05-04T00:00:00\", \"variable\": \"avg\", \"value\": 70.3}, {\"date\": \"2024-05-05T00:00:00\", \"variable\": \"avg\", \"value\": 68.5}, {\"date\": \"2024-05-06T00:00:00\", \"variable\": \"avg\", \"value\": 66.60000000000001}, {\"date\": \"2024-05-07T00:00:00\", \"variable\": \"avg\", \"value\": 64.9}, {\"date\": \"2024-05-08T00:00:00\", \"variable\": \"avg\", \"value\": 63.2}, {\"date\": \"2024-05-09T00:00:00\", \"variable\": \"avg\", \"value\": 61.5}, {\"date\": \"2024-05-10T00:00:00\", \"variable\": \"avg\", \"value\": 59.8}, {\"date\": \"2024-05-11T00:00:00\", \"variable\": \"avg\", \"value\": 58.199999999999996}, {\"date\": \"2024-05-12T00:00:00\", \"variable\": \"avg\", \"value\": 56.49999999999999}, {\"date\": \"2024-05-13T00:00:00\", \"variable\": \"avg\", \"value\": 54.800000000000004}, {\"date\": \"2024-05-14T00:00:00\", \"variable\": \"avg\", \"value\": 53.2}, {\"date\": \"2024-05-15T00:00:00\", \"variable\": \"avg\", \"value\": 51.4}, {\"date\": \"2024-05-16T00:00:00\", \"variable\": \"avg\", \"value\": 50.0}, {\"date\": \"2024-05-17T00:00:00\", \"variable\": \"avg\", \"value\": 48.699999999999996}, {\"date\": \"2024-05-18T00:00:00\", \"variable\": \"avg\", \"value\": 47.5}, {\"date\": \"2024-05-19T00:00:00\", \"variable\": \"avg\", \"value\": 46.1}, {\"date\": \"2024-05-20T00:00:00\", \"variable\": \"avg\", \"value\": 44.6}, {\"date\": \"2024-05-21T00:00:00\", \"variable\": \"avg\", \"value\": 43.2}, {\"date\": \"2024-05-22T00:00:00\", \"variable\": \"avg\", \"value\": 41.699999999999996}, {\"date\": \"2024-05-23T00:00:00\", \"variable\": \"avg\", \"value\": 40.2}, {\"date\": \"2024-05-24T00:00:00\", \"variable\": \"avg\", \"value\": 38.7}, {\"date\": \"2024-05-25T00:00:00\", \"variable\": \"avg\", \"value\": 37.4}, {\"date\": \"2024-05-26T00:00:00\", \"variable\": \"avg\", \"value\": 36.0}, {\"date\": \"2024-05-27T00:00:00\", \"variable\": \"avg\", \"value\": 34.8}, {\"date\": \"2024-05-28T00:00:00\", \"variable\": \"avg\", \"value\": 33.5}, {\"date\": \"2024-05-29T00:00:00\", \"variable\": \"avg\", \"value\": 32.300000000000004}, {\"date\": \"2024-05-30T00:00:00\", \"variable\": \"avg\", \"value\": 31.0}, {\"date\": \"2024-05-31T00:00:00\", \"variable\": \"avg\", \"value\": 29.599999999999998}, {\"date\": \"2024-06-01T00:00:00\", \"variable\": \"avg\", \"value\": 28.000000000000004}, {\"date\": \"2024-06-02T00:00:00\", \"variable\": \"avg\", \"value\": 26.700000000000003}, {\"date\": \"2024-06-03T00:00:00\", \"variable\": \"avg\", \"value\": 25.5}, {\"date\": \"2024-06-04T00:00:00\", \"variable\": \"avg\", \"value\": 24.099999999999998}, {\"date\": \"2024-06-05T00:00:00\", \"variable\": \"avg\", \"value\": 22.900000000000002}, {\"date\": \"2024-06-06T00:00:00\", \"variable\": \"avg\", \"value\": 21.8}, {\"date\": \"2024-06-07T00:00:00\", \"variable\": \"avg\", \"value\": 20.7}, {\"date\": \"2024-06-08T00:00:00\", \"variable\": \"avg\", \"value\": 19.7}, {\"date\": \"2024-06-09T00:00:00\", \"variable\": \"avg\", \"value\": 18.7}, {\"date\": \"2024-06-10T00:00:00\", \"variable\": \"avg\", \"value\": 17.7}, {\"date\": \"2024-06-11T00:00:00\", \"variable\": \"avg\", \"value\": 16.6}, {\"date\": \"2024-06-12T00:00:00\", \"variable\": \"avg\", \"value\": 15.6}, {\"date\": \"2024-06-13T00:00:00\", \"variable\": \"avg\", \"value\": 14.7}, {\"date\": \"2024-06-14T00:00:00\", \"variable\": \"avg\", \"value\": 13.8}, {\"date\": \"2024-06-15T00:00:00\", \"variable\": \"avg\", \"value\": 12.8}, {\"date\": \"2024-06-16T00:00:00\", \"variable\": \"avg\", \"value\": 12.0}, {\"date\": \"2024-06-17T00:00:00\", \"variable\": \"avg\", \"value\": 11.3}, {\"date\": \"2024-06-18T00:00:00\", \"variable\": \"avg\", \"value\": 10.6}, {\"date\": \"2024-06-19T00:00:00\", \"variable\": \"avg\", \"value\": 9.8}, {\"date\": \"2024-06-20T00:00:00\", \"variable\": \"avg\", \"value\": 9.1}, {\"date\": \"2024-06-21T00:00:00\", \"variable\": \"avg\", \"value\": 8.4}, {\"date\": \"2024-06-22T00:00:00\", \"variable\": \"avg\", \"value\": 7.9}, {\"date\": \"2024-06-23T00:00:00\", \"variable\": \"avg\", \"value\": 7.3999999999999995}, {\"date\": \"2024-06-24T00:00:00\", \"variable\": \"avg\", \"value\": 6.800000000000001}, {\"date\": \"2024-06-25T00:00:00\", \"variable\": \"avg\", \"value\": 6.2}, {\"date\": \"2024-06-26T00:00:00\", \"variable\": \"avg\", \"value\": 5.800000000000001}, {\"date\": \"2024-06-27T00:00:00\", \"variable\": \"avg\", \"value\": 5.3}, {\"date\": \"2024-06-28T00:00:00\", \"variable\": \"avg\", \"value\": 4.8}, {\"date\": \"2024-06-29T00:00:00\", \"variable\": \"avg\", \"value\": 4.3999999999999995}, {\"date\": \"2024-06-30T00:00:00\", \"variable\": \"avg\", \"value\": 4.0}, {\"date\": \"2024-07-01T00:00:00\", \"variable\": \"avg\", \"value\": 3.6999999999999997}, {\"date\": \"2024-07-02T00:00:00\", \"variable\": \"avg\", \"value\": 3.3000000000000003}, {\"date\": \"2024-07-03T00:00:00\", \"variable\": \"avg\", \"value\": 3.1}, {\"date\": \"2024-07-04T00:00:00\", \"variable\": \"avg\", \"value\": 2.8000000000000003}, {\"date\": \"2024-07-05T00:00:00\", \"variable\": \"avg\", \"value\": 2.6}, {\"date\": \"2024-07-06T00:00:00\", \"variable\": \"avg\", \"value\": 2.3}, {\"date\": \"2024-07-07T00:00:00\", \"variable\": \"avg\", \"value\": 2.1}, {\"date\": \"2024-07-08T00:00:00\", \"variable\": \"avg\", \"value\": 1.9}, {\"date\": \"2024-07-09T00:00:00\", \"variable\": \"avg\", \"value\": 1.7999999999999998}, {\"date\": \"2024-07-10T00:00:00\", \"variable\": \"avg\", \"value\": 1.6}, {\"date\": \"2024-07-11T00:00:00\", \"variable\": \"avg\", \"value\": 1.4000000000000001}, {\"date\": \"2024-07-12T00:00:00\", \"variable\": \"avg\", \"value\": 1.3}, {\"date\": \"2024-07-13T00:00:00\", \"variable\": \"avg\", \"value\": 1.2}, {\"date\": \"2024-07-14T00:00:00\", \"variable\": \"avg\", \"value\": 1.0999999999999999}, {\"date\": \"2024-07-15T00:00:00\", \"variable\": \"avg\", \"value\": 1.0}, {\"date\": \"2024-07-16T00:00:00\", \"variable\": \"avg\", \"value\": 0.8999999999999999}, {\"date\": \"2024-07-17T00:00:00\", \"variable\": \"avg\", \"value\": 0.8}, {\"date\": \"2024-07-18T00:00:00\", \"variable\": \"avg\", \"value\": 0.7000000000000001}, {\"date\": \"2024-07-19T00:00:00\", \"variable\": \"avg\", \"value\": 0.6}, {\"date\": \"2024-07-20T00:00:00\", \"variable\": \"avg\", \"value\": 0.5}, {\"date\": \"2024-07-21T00:00:00\", \"variable\": \"avg\", \"value\": 0.4}, {\"date\": \"2024-07-22T00:00:00\", \"variable\": \"avg\", \"value\": 0.3}, {\"date\": \"2024-07-23T00:00:00\", \"variable\": \"avg\", \"value\": 0.3}, {\"date\": \"2024-07-24T00:00:00\", \"variable\": \"avg\", \"value\": 0.2}, {\"date\": \"2024-07-25T00:00:00\", \"variable\": \"avg\", \"value\": 0.2}, {\"date\": \"2024-07-26T00:00:00\", \"variable\": \"avg\", \"value\": 0.2}, {\"date\": \"2024-07-27T00:00:00\", \"variable\": \"avg\", \"value\": 0.2}, {\"date\": \"2024-07-28T00:00:00\", \"variable\": \"avg\", \"value\": 0.1}, {\"date\": \"2024-07-29T00:00:00\", \"variable\": \"avg\", \"value\": 0.1}, {\"date\": \"2024-07-30T00:00:00\", \"variable\": \"avg\", \"value\": 0.1}, {\"date\": \"2024-07-31T00:00:00\", \"variable\": \"avg\", \"value\": 0.1}, {\"date\": \"2024-08-01T00:00:00\", \"variable\": \"avg\", \"value\": 0.0}, {\"date\": \"2024-08-02T00:00:00\", \"variable\": \"avg\", \"value\": 0.0}, {\"date\": \"2024-08-03T00:00:00\", \"variable\": \"avg\", \"value\": 0.0}, {\"date\": \"2024-08-04T00:00:00\", \"variable\": \"avg\", \"value\": 0.0}, {\"date\": \"2024-08-05T00:00:00\", \"variable\": \"avg\", \"value\": 0.0}, {\"date\": \"2024-08-06T00:00:00\", \"variable\": \"avg\", \"value\": 0.0}, {\"date\": \"2024-08-07T00:00:00\", \"variable\": \"avg\", \"value\": 0.0}, {\"date\": \"2024-08-08T00:00:00\", \"variable\": \"avg\", \"value\": 0.0}, {\"date\": \"2024-08-09T00:00:00\", \"variable\": \"avg\", \"value\": 0.0}, {\"date\": \"2024-08-10T00:00:00\", \"variable\": \"avg\", \"value\": 0.0}, {\"date\": \"2024-08-11T00:00:00\", \"variable\": \"avg\", \"value\": 0.0}, {\"date\": \"2024-08-12T00:00:00\", \"variable\": \"avg\", \"value\": 0.0}, {\"date\": \"2024-08-13T00:00:00\", \"variable\": \"avg\", \"value\": 0.0}, {\"date\": \"2024-08-14T00:00:00\", \"variable\": \"avg\", \"value\": 0.0}, {\"date\": \"2024-08-15T00:00:00\", \"variable\": \"avg\", \"value\": 0.0}, {\"date\": \"2024-08-16T00:00:00\", \"variable\": \"avg\", \"value\": 0.0}, {\"date\": \"2024-08-17T00:00:00\", \"variable\": \"avg\", \"value\": 0.0}, {\"date\": \"2024-08-18T00:00:00\", \"variable\": \"avg\", \"value\": 0.0}, {\"date\": \"2024-08-19T00:00:00\", \"variable\": \"avg\", \"value\": 0.0}, {\"date\": \"2024-08-20T00:00:00\", \"variable\": \"avg\", \"value\": 0.0}, {\"date\": \"2024-08-21T00:00:00\", \"variable\": \"avg\", \"value\": 0.0}, {\"date\": \"2024-08-22T00:00:00\", \"variable\": \"avg\", \"value\": 0.0}, {\"date\": \"2024-08-23T00:00:00\", \"variable\": \"avg\", \"value\": 0.0}, {\"date\": \"2024-08-24T00:00:00\", \"variable\": \"avg\", \"value\": 0.0}, {\"date\": \"2024-08-25T00:00:00\", \"variable\": \"avg\", \"value\": 0.0}, {\"date\": \"2024-08-26T00:00:00\", \"variable\": \"avg\", \"value\": 0.0}, {\"date\": \"2024-08-27T00:00:00\", \"variable\": \"avg\", \"value\": 0.0}, {\"date\": \"2024-08-28T00:00:00\", \"variable\": \"avg\", \"value\": 0.0}, {\"date\": \"2024-08-29T00:00:00\", \"variable\": \"avg\", \"value\": 0.0}, {\"date\": \"2024-08-30T00:00:00\", \"variable\": \"avg\", \"value\": 0.0}, {\"date\": \"2024-08-31T00:00:00\", \"variable\": \"avg\", \"value\": 0.0}, {\"date\": \"2024-09-01T00:00:00\", \"variable\": \"avg\", \"value\": 0.0}, {\"date\": \"2024-09-02T00:00:00\", \"variable\": \"avg\", \"value\": 0.0}, {\"date\": \"2024-09-03T00:00:00\", \"variable\": \"avg\", \"value\": 0.0}, {\"date\": \"2024-09-04T00:00:00\", \"variable\": \"avg\", \"value\": 0.0}, {\"date\": \"2024-09-05T00:00:00\", \"variable\": \"avg\", \"value\": 0.0}, {\"date\": \"2024-09-06T00:00:00\", \"variable\": \"avg\", \"value\": 0.0}, {\"date\": \"2024-09-07T00:00:00\", \"variable\": \"avg\", \"value\": 0.0}, {\"date\": \"2024-09-08T00:00:00\", \"variable\": \"avg\", \"value\": 0.0}, {\"date\": \"2024-09-09T00:00:00\", \"variable\": \"avg\", \"value\": 0.0}, {\"date\": \"2024-09-10T00:00:00\", \"variable\": \"avg\", \"value\": 0.0}, {\"date\": \"2024-09-11T00:00:00\", \"variable\": \"avg\", \"value\": 0.0}, {\"date\": \"2024-09-12T00:00:00\", \"variable\": \"avg\", \"value\": 0.0}, {\"date\": \"2024-09-13T00:00:00\", \"variable\": \"avg\", \"value\": 0.0}, {\"date\": \"2024-09-14T00:00:00\", \"variable\": \"avg\", \"value\": 0.0}, {\"date\": \"2024-09-15T00:00:00\", \"variable\": \"avg\", \"value\": 0.0}, {\"date\": \"2024-09-16T00:00:00\", \"variable\": \"avg\", \"value\": 0.0}, {\"date\": \"2024-09-17T00:00:00\", \"variable\": \"avg\", \"value\": 0.0}, {\"date\": \"2024-09-18T00:00:00\", \"variable\": \"avg\", \"value\": 0.0}, {\"date\": \"2024-09-19T00:00:00\", \"variable\": \"avg\", \"value\": 0.0}, {\"date\": \"2024-09-20T00:00:00\", \"variable\": \"avg\", \"value\": 0.0}, {\"date\": \"2024-09-21T00:00:00\", \"variable\": \"avg\", \"value\": 0.0}, {\"date\": \"2024-09-22T00:00:00\", \"variable\": \"avg\", \"value\": 0.0}, {\"date\": \"2024-09-23T00:00:00\", \"variable\": \"avg\", \"value\": 0.0}, {\"date\": \"2024-09-24T00:00:00\", \"variable\": \"avg\", \"value\": 0.0}, {\"date\": \"2024-09-25T00:00:00\", \"variable\": \"avg\", \"value\": 0.0}, {\"date\": \"2024-09-26T00:00:00\", \"variable\": \"avg\", \"value\": 0.0}, {\"date\": \"2024-09-27T00:00:00\", \"variable\": \"avg\", \"value\": 0.0}, {\"date\": \"2024-09-28T00:00:00\", \"variable\": \"avg\", \"value\": 0.0}, {\"date\": \"2024-09-29T00:00:00\", \"variable\": \"avg\", \"value\": 0.0}, {\"date\": \"2024-09-30T00:00:00\", \"variable\": \"avg\", \"value\": 0.0}]}}, {\"mode\": \"vega-lite\"});\n",
       "</script>"
      ],
      "text/plain": [
       "alt.Chart(...)"
      ]
     },
     "execution_count": 24,
     "metadata": {},
     "output_type": "execute_result"
    }
   ],
   "source": [
    "alt.Chart(melt[melt.date >= \"2022-10-01\"]).mark_line().encode(\n",
    "    x=\"date\",\n",
    "    y=\"value\",\n",
    "    color=\"variable\",\n",
    "    tooltip=[\"date\",\"value\"]\n",
    ").properties(title=\"Snowpack as percentage of peak\",width=600)"
   ]
  },
  {
   "cell_type": "markdown",
   "id": "46f5aa40-2c54-482d-9893-a1451c8e05d5",
   "metadata": {},
   "source": [
    "### Trim and rename columns"
   ]
  },
  {
   "cell_type": "code",
   "execution_count": 25,
   "id": "efd894bb-0d80-4b2f-86a6-98f1b7b01f6b",
   "metadata": {},
   "outputs": [],
   "source": [
    "trim_df = merge_normals[[\n",
    "    \"date\",\n",
    "    \"snwcavg\",\n",
    "    \"pctnorm\",\n",
    "    \"pctapr1\",\n",
    "    \"avg\",\n",
    "    \"avgAvgSwc\"\n",
    "]]"
   ]
  },
  {
   "cell_type": "code",
   "execution_count": 26,
   "id": "d2b8272e-70eb-4861-a9e2-abc88ac07012",
   "metadata": {},
   "outputs": [],
   "source": [
    "rename_df = trim_df.rename(columns={\n",
    "    \"snwcavg\":\"swc_avg\",\n",
    "    \"pctnorm\":\"pct_normal\",\n",
    "    \"pctapr1\":\"pct_apr_1\",\n",
    "    \"avg\": \"apr_1_baseline_pct\",\n",
    "    \"avgAvgSwc\": \"apr_1_baseline_value\"\n",
    "})"
   ]
  },
  {
   "cell_type": "code",
   "execution_count": 27,
   "id": "76c4e7ab-1f43-4b3e-9fb9-9fdfee74a402",
   "metadata": {},
   "outputs": [],
   "source": [
    "rename_df.to_csv(\"../../data/processed/snow/snow-water-equivalent.csv\", index=False)"
   ]
  }
 ],
 "metadata": {
  "kernelspec": {
   "display_name": "Python 3 (ipykernel)",
   "language": "python",
   "name": "python3"
  },
  "language_info": {
   "codemirror_mode": {
    "name": "ipython",
    "version": 3
   },
   "file_extension": ".py",
   "mimetype": "text/x-python",
   "name": "python",
   "nbconvert_exporter": "python",
   "pygments_lexer": "ipython3",
   "version": "3.9.17"
  }
 },
 "nbformat": 4,
 "nbformat_minor": 5
}
