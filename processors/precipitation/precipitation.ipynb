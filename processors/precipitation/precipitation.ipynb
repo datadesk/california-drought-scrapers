{
 "cells": [
  {
   "cell_type": "code",
   "execution_count": 184,
   "id": "9f37470b-9ca2-42b8-8cf4-13de43819f1b",
   "metadata": {},
   "outputs": [],
   "source": [
    "import requests as re\n",
    "import pandas as pd\n",
    "import datetime\n",
    "import altair as alt\n",
    "import altair_latimes as lat"
   ]
  },
  {
   "cell_type": "code",
   "execution_count": 185,
   "id": "6c83ddac-e892-4772-bf2e-89e89f1bdb7b",
   "metadata": {},
   "outputs": [
    {
     "data": {
      "text/plain": [
       "ThemeRegistry.enable('latimes')"
      ]
     },
     "execution_count": 185,
     "metadata": {},
     "output_type": "execute_result"
    }
   ],
   "source": [
    "alt.themes.register('latimes', lat.theme)\n",
    "alt.themes.enable('latimes')"
   ]
  },
  {
   "cell_type": "markdown",
   "id": "a743b325-cdd6-48f1-9cfe-a2a07b7ea038",
   "metadata": {},
   "source": [
    "### Download\n",
    "Source: [California Water Watch](https://cww.water.ca.gov/), PRISM"
   ]
  },
  {
   "cell_type": "markdown",
   "id": "9c815649-adc3-4d3c-a540-e2f02452ee55",
   "metadata": {},
   "source": [
    "Some parameters"
   ]
  },
  {
   "cell_type": "code",
   "execution_count": 186,
   "id": "a5e0a0b7-0b69-4d57-bb15-79366a309ef8",
   "metadata": {},
   "outputs": [
    {
     "data": {
      "text/plain": [
       "datetime.date(2023, 6, 12)"
      ]
     },
     "execution_count": 186,
     "metadata": {},
     "output_type": "execute_result"
    }
   ],
   "source": [
    "today = datetime.date.today()\n",
    "today"
   ]
  },
  {
   "cell_type": "code",
   "execution_count": 187,
   "id": "8e5ca762-dc58-476b-b793-415c8e07ccae",
   "metadata": {},
   "outputs": [],
   "source": [
    "atlasID=\"Statewide\"\n",
    "varKey=\"PPT_YTD\""
   ]
  },
  {
   "cell_type": "markdown",
   "id": "62b357ee-f89a-4755-80c8-9c2d77406972",
   "metadata": {},
   "source": [
    "Query"
   ]
  },
  {
   "cell_type": "code",
   "execution_count": 214,
   "id": "b3ef8244-17f7-4687-b02d-10dd1f1bfad4",
   "metadata": {},
   "outputs": [],
   "source": [
    "url = f'https://cww.water.ca.gov/service/prism/huc8/precipstats?date={today}&atlasID={atlasID}&varKey={varKey}'"
   ]
  },
  {
   "cell_type": "code",
   "execution_count": 209,
   "id": "407d0a53-a4ca-43be-9a86-cd69c39ce340",
   "metadata": {},
   "outputs": [],
   "source": [
    "data = re.get(url).json()['data']"
   ]
  },
  {
   "cell_type": "markdown",
   "id": "fca38fbf-850b-486f-9d9f-c6354611a48e",
   "metadata": {},
   "source": [
    "### Parse"
   ]
  },
  {
   "cell_type": "code",
   "execution_count": 210,
   "id": "61f91a94-65e2-4c26-9dc5-bec69424b642",
   "metadata": {},
   "outputs": [
    {
     "data": {
      "text/plain": [
       "dict_keys(['seriesNames', 'series', 'val', 'min', 'avg', 'max', 'yearEndAvg', 'pavg', 'pmax'])"
      ]
     },
     "execution_count": 210,
     "metadata": {},
     "output_type": "execute_result"
    }
   ],
   "source": [
    "data.keys()"
   ]
  },
  {
   "cell_type": "code",
   "execution_count": 211,
   "id": "79dacc66-8b19-4af8-b664-6a2d11f38ae4",
   "metadata": {},
   "outputs": [
    {
     "data": {
      "text/plain": [
       "10.4"
      ]
     },
     "execution_count": 211,
     "metadata": {},
     "output_type": "execute_result"
    }
   ],
   "source": [
    "prcp_min=data['min']\n",
    "prcp_min"
   ]
  },
  {
   "cell_type": "code",
   "execution_count": 212,
   "id": "1fcebb41-0122-49ed-8d88-05f25d36ecfb",
   "metadata": {},
   "outputs": [
    {
     "data": {
      "text/plain": [
       "19.79"
      ]
     },
     "execution_count": 212,
     "metadata": {},
     "output_type": "execute_result"
    }
   ],
   "source": [
    "prcp_avg=data['avg']\n",
    "prcp_avg"
   ]
  },
  {
   "cell_type": "code",
   "execution_count": 213,
   "id": "e179b548-82e5-4cd2-a06e-4a0175c009c8",
   "metadata": {},
   "outputs": [
    {
     "data": {
      "text/plain": [
       "35.89"
      ]
     },
     "execution_count": 213,
     "metadata": {},
     "output_type": "execute_result"
    }
   ],
   "source": [
    "prcp_max=data['max']\n",
    "prcp_max"
   ]
  },
  {
   "cell_type": "code",
   "execution_count": 194,
   "id": "a8ccb6e5-c972-4233-a82a-2dd3c0c56fe1",
   "metadata": {},
   "outputs": [
    {
     "data": {
      "text/plain": [
       "23.72"
      ]
     },
     "execution_count": 194,
     "metadata": {},
     "output_type": "execute_result"
    }
   ],
   "source": [
    "year_end_avg = data['yearEndAvg']\n",
    "year_end_avg"
   ]
  },
  {
   "cell_type": "markdown",
   "id": "b95eb132-d4fb-47b7-b0d8-3df1bc360389",
   "metadata": {},
   "source": [
    "Build dataframe"
   ]
  },
  {
   "cell_type": "code",
   "execution_count": 195,
   "id": "2c0defe0-ae92-4850-b6a1-2516f667173d",
   "metadata": {},
   "outputs": [],
   "source": [
    "columns = data['seriesNames']"
   ]
  },
  {
   "cell_type": "code",
   "execution_count": 196,
   "id": "5da24948-4e8a-4634-8e85-e62acee43634",
   "metadata": {},
   "outputs": [],
   "source": [
    "columns.insert(0, \"date\")"
   ]
  },
  {
   "cell_type": "code",
   "execution_count": 197,
   "id": "63524199-61ba-49f1-9d58-88dd66bec142",
   "metadata": {},
   "outputs": [],
   "source": [
    "df = pd.DataFrame(data['series'], columns=columns)"
   ]
  },
  {
   "cell_type": "code",
   "execution_count": 198,
   "id": "f63cae8c-14fc-4117-9197-c00854e6699c",
   "metadata": {},
   "outputs": [],
   "source": [
    "df.columns = df.columns.str.lower()"
   ]
  },
  {
   "cell_type": "code",
   "execution_count": 199,
   "id": "2ce31389-2b3d-4a3a-bf1f-4f836b3e4432",
   "metadata": {},
   "outputs": [],
   "source": [
    "df['date'] = pd.to_datetime(df['date'])"
   ]
  },
  {
   "cell_type": "markdown",
   "id": "916b285b-6789-4322-8c8e-ed347f88880c",
   "metadata": {},
   "source": [
    "### Plot"
   ]
  },
  {
   "cell_type": "code",
   "execution_count": 200,
   "id": "fd9e5a91-ad15-47fb-99d4-344ef1a787bc",
   "metadata": {},
   "outputs": [],
   "source": [
    "gauge = df[\n",
    "    (~df.current.isna())\n",
    "]"
   ]
  },
  {
   "cell_type": "code",
   "execution_count": 201,
   "id": "e64c9795-4443-4e4d-bc01-848a7d309c51",
   "metadata": {},
   "outputs": [],
   "source": [
    "gauge = gauge[gauge.date == gauge.date.max()]"
   ]
  },
  {
   "cell_type": "code",
   "execution_count": 202,
   "id": "54c5ae0a-8084-4b36-b9f9-178920fdae5f",
   "metadata": {},
   "outputs": [],
   "source": [
    "gauge[\"record\"] = prcp_max"
   ]
  },
  {
   "cell_type": "code",
   "execution_count": 203,
   "id": "0bc96b18-6950-4ee7-bf33-a5e791afbb78",
   "metadata": {},
   "outputs": [],
   "source": [
    "gauge[\"pct_of_avg\"] = (gauge[\"current\"] / gauge[\"average\"]) * 100"
   ]
  },
  {
   "cell_type": "code",
   "execution_count": 204,
   "id": "d2097f6a-cb2a-4e97-b2de-e65db88aaf5a",
   "metadata": {},
   "outputs": [
    {
     "data": {
      "text/html": [
       "\n",
       "<div id=\"altair-viz-3de39f39844c464da646f3ddfed1967f\"></div>\n",
       "<script type=\"text/javascript\">\n",
       "  var VEGA_DEBUG = (typeof VEGA_DEBUG == \"undefined\") ? {} : VEGA_DEBUG;\n",
       "  (function(spec, embedOpt){\n",
       "    let outputDiv = document.currentScript.previousElementSibling;\n",
       "    if (outputDiv.id !== \"altair-viz-3de39f39844c464da646f3ddfed1967f\") {\n",
       "      outputDiv = document.getElementById(\"altair-viz-3de39f39844c464da646f3ddfed1967f\");\n",
       "    }\n",
       "    const paths = {\n",
       "      \"vega\": \"https://cdn.jsdelivr.net/npm//vega@5?noext\",\n",
       "      \"vega-lib\": \"https://cdn.jsdelivr.net/npm//vega-lib?noext\",\n",
       "      \"vega-lite\": \"https://cdn.jsdelivr.net/npm//vega-lite@4.17.0?noext\",\n",
       "      \"vega-embed\": \"https://cdn.jsdelivr.net/npm//vega-embed@6?noext\",\n",
       "    };\n",
       "\n",
       "    function maybeLoadScript(lib, version) {\n",
       "      var key = `${lib.replace(\"-\", \"\")}_version`;\n",
       "      return (VEGA_DEBUG[key] == version) ?\n",
       "        Promise.resolve(paths[lib]) :\n",
       "        new Promise(function(resolve, reject) {\n",
       "          var s = document.createElement('script');\n",
       "          document.getElementsByTagName(\"head\")[0].appendChild(s);\n",
       "          s.async = true;\n",
       "          s.onload = () => {\n",
       "            VEGA_DEBUG[key] = version;\n",
       "            return resolve(paths[lib]);\n",
       "          };\n",
       "          s.onerror = () => reject(`Error loading script: ${paths[lib]}`);\n",
       "          s.src = paths[lib];\n",
       "        });\n",
       "    }\n",
       "\n",
       "    function showError(err) {\n",
       "      outputDiv.innerHTML = `<div class=\"error\" style=\"color:red;\">${err}</div>`;\n",
       "      throw err;\n",
       "    }\n",
       "\n",
       "    function displayChart(vegaEmbed) {\n",
       "      vegaEmbed(outputDiv, spec, embedOpt)\n",
       "        .catch(err => showError(`Javascript Error: ${err.message}<br>This usually means there's a typo in your chart specification. See the javascript console for the full traceback.`));\n",
       "    }\n",
       "\n",
       "    if(typeof define === \"function\" && define.amd) {\n",
       "      requirejs.config({paths});\n",
       "      require([\"vega-embed\"], displayChart, err => showError(`Error loading script: ${err.message}`));\n",
       "    } else {\n",
       "      maybeLoadScript(\"vega\", \"5\")\n",
       "        .then(() => maybeLoadScript(\"vega-lite\", \"4.17.0\"))\n",
       "        .then(() => maybeLoadScript(\"vega-embed\", \"6\"))\n",
       "        .catch(showError)\n",
       "        .then(() => displayChart(vegaEmbed));\n",
       "    }\n",
       "  })({\"config\": {\"view\": {\"width\": 800, \"height\": 450}, \"background\": \"#ffffff\", \"title\": {\"anchor\": \"start\", \"font\": \"BentonGothic-Bold, sans\", \"fontColor\": \"#000000\", \"fontSize\": 22, \"fontWeight\": \"normal\"}, \"arc\": {\"fill\": \"#82c6df\"}, \"area\": {\"fill\": \"#82c6df\"}, \"line\": {\"stroke\": \"#82c6df\", \"strokeWidth\": 3}, \"path\": {\"stroke\": \"#82c6df\"}, \"rect\": {\"fill\": \"#82c6df\"}, \"shape\": {\"stroke\": \"#82c6df\"}, \"bar\": {\"fill\": \"#82c6df\"}, \"point\": {\"stroke\": \"#82c6df\"}, \"symbol\": {\"fill\": \"#82c6df\", \"size\": 30}, \"axis\": {\"titleFont\": \"BentonGothic-Bold, sans\", \"titleFontSize\": 14, \"titleFontWeight\": \"normal\", \"labelFont\": \"BentonGothic, sans\", \"labelFontSize\": 12, \"labelFontWeight\": \"normal\"}, \"axisX\": {\"labelAngle\": 0, \"labelPadding\": 4, \"tickSize\": 3}, \"axisY\": {\"labelBaseline\": \"middle\", \"maxExtent\": 45, \"minExtent\": 45, \"tickSize\": 2, \"titleAlign\": \"left\", \"titleAngle\": 0, \"titleX\": -45, \"titleY\": -11}, \"legend\": {\"titleFont\": \"BentonGothic-Bold, sans\", \"titleFontSize\": 14, \"titleFontWeight\": \"normal\", \"symbolType\": \"square\", \"labelFont\": \"BentonGothic, sans\", \"labelFontSize\": 13}, \"range\": {\"category\": [\"#3580b1\", \"#ec8431\", \"#ab7fb4\", \"#c89d29\", \"#adc839\", \"#829eb1\"], \"diverging\": [\"#e68a4f\", \"#f4bb6a\", \"#f9e39c\", \"#dadfe2\", \"#a6b7c6\", \"#849eae\"], \"heatmap\": [\"#fbf2c7\", \"#f9e39c\", \"#f8d36e\", \"#f4bb6a\", \"#e68a4f\", \"#d15a40\", \"#ab4232\"], \"ordinal\": [\"#fbf2c7\", \"#f9e39c\", \"#f8d36e\", \"#f4bb6a\", \"#e68a4f\", \"#d15a40\", \"#ab4232\"], \"ramp\": [\"#fbf2c7\", \"#f9e39c\", \"#f8d36e\", \"#f4bb6a\", \"#e68a4f\", \"#d15a40\", \"#ab4232\"]}}, \"data\": {\"name\": \"data-e913c7cdfbb12aaa0c05d33e04fc7b4a\"}, \"mark\": \"bar\", \"encoding\": {\"color\": {\"field\": \"variable\", \"type\": \"nominal\"}, \"x\": {\"field\": \"value\", \"type\": \"quantitative\"}, \"y\": {\"field\": \"variable\", \"sort\": \"-x\", \"type\": \"nominal\"}}, \"height\": 200, \"title\": \"Year-to-date precipitation in California compared to average\", \"width\": 600, \"$schema\": \"https://vega.github.io/schema/vega-lite/v4.17.0.json\", \"datasets\": {\"data-e913c7cdfbb12aaa0c05d33e04fc7b4a\": [{\"date\": \"2023-06-11T00:00:00\", \"variable\": \"current\", \"value\": 31.38}, {\"date\": \"2023-06-11T00:00:00\", \"variable\": \"average\", \"value\": 22.63}]}}, {\"mode\": \"vega-lite\"});\n",
       "</script>"
      ],
      "text/plain": [
       "alt.Chart(...)"
      ]
     },
     "execution_count": 204,
     "metadata": {},
     "output_type": "execute_result"
    }
   ],
   "source": [
    "alt.Chart(\n",
    "    pd.melt(gauge, id_vars=\"date\", value_vars=[\"current\",\"average\"])\n",
    ").mark_bar().encode(\n",
    "    x=\"value\",\n",
    "    y=alt.Y(\"variable\", sort=\"-x\"),\n",
    "    color=\"variable\"\n",
    ").properties(\n",
    "    title=\"Year-to-date precipitation in California compared to average\",\n",
    "    width=600,\n",
    "    height=200\n",
    ")"
   ]
  },
  {
   "cell_type": "code",
   "execution_count": 205,
   "id": "4bcd403f-512c-4de2-a295-0d83e682d900",
   "metadata": {},
   "outputs": [],
   "source": [
    "line_chart = pd.melt(df, id_vars=\"date\", value_vars=[\"current\",\"average\"])"
   ]
  },
  {
   "cell_type": "code",
   "execution_count": 206,
   "id": "1eb6e495-0c74-469a-b31a-e0bc16123b53",
   "metadata": {},
   "outputs": [
    {
     "data": {
      "text/html": [
       "\n",
       "<div id=\"altair-viz-8ec75b27ef084339a9b415d9a8262b68\"></div>\n",
       "<script type=\"text/javascript\">\n",
       "  var VEGA_DEBUG = (typeof VEGA_DEBUG == \"undefined\") ? {} : VEGA_DEBUG;\n",
       "  (function(spec, embedOpt){\n",
       "    let outputDiv = document.currentScript.previousElementSibling;\n",
       "    if (outputDiv.id !== \"altair-viz-8ec75b27ef084339a9b415d9a8262b68\") {\n",
       "      outputDiv = document.getElementById(\"altair-viz-8ec75b27ef084339a9b415d9a8262b68\");\n",
       "    }\n",
       "    const paths = {\n",
       "      \"vega\": \"https://cdn.jsdelivr.net/npm//vega@5?noext\",\n",
       "      \"vega-lib\": \"https://cdn.jsdelivr.net/npm//vega-lib?noext\",\n",
       "      \"vega-lite\": \"https://cdn.jsdelivr.net/npm//vega-lite@4.17.0?noext\",\n",
       "      \"vega-embed\": \"https://cdn.jsdelivr.net/npm//vega-embed@6?noext\",\n",
       "    };\n",
       "\n",
       "    function maybeLoadScript(lib, version) {\n",
       "      var key = `${lib.replace(\"-\", \"\")}_version`;\n",
       "      return (VEGA_DEBUG[key] == version) ?\n",
       "        Promise.resolve(paths[lib]) :\n",
       "        new Promise(function(resolve, reject) {\n",
       "          var s = document.createElement('script');\n",
       "          document.getElementsByTagName(\"head\")[0].appendChild(s);\n",
       "          s.async = true;\n",
       "          s.onload = () => {\n",
       "            VEGA_DEBUG[key] = version;\n",
       "            return resolve(paths[lib]);\n",
       "          };\n",
       "          s.onerror = () => reject(`Error loading script: ${paths[lib]}`);\n",
       "          s.src = paths[lib];\n",
       "        });\n",
       "    }\n",
       "\n",
       "    function showError(err) {\n",
       "      outputDiv.innerHTML = `<div class=\"error\" style=\"color:red;\">${err}</div>`;\n",
       "      throw err;\n",
       "    }\n",
       "\n",
       "    function displayChart(vegaEmbed) {\n",
       "      vegaEmbed(outputDiv, spec, embedOpt)\n",
       "        .catch(err => showError(`Javascript Error: ${err.message}<br>This usually means there's a typo in your chart specification. See the javascript console for the full traceback.`));\n",
       "    }\n",
       "\n",
       "    if(typeof define === \"function\" && define.amd) {\n",
       "      requirejs.config({paths});\n",
       "      require([\"vega-embed\"], displayChart, err => showError(`Error loading script: ${err.message}`));\n",
       "    } else {\n",
       "      maybeLoadScript(\"vega\", \"5\")\n",
       "        .then(() => maybeLoadScript(\"vega-lite\", \"4.17.0\"))\n",
       "        .then(() => maybeLoadScript(\"vega-embed\", \"6\"))\n",
       "        .catch(showError)\n",
       "        .then(() => displayChart(vegaEmbed));\n",
       "    }\n",
       "  })({\"config\": {\"view\": {\"width\": 800, \"height\": 450}, \"background\": \"#ffffff\", \"title\": {\"anchor\": \"start\", \"font\": \"BentonGothic-Bold, sans\", \"fontColor\": \"#000000\", \"fontSize\": 22, \"fontWeight\": \"normal\"}, \"arc\": {\"fill\": \"#82c6df\"}, \"area\": {\"fill\": \"#82c6df\"}, \"line\": {\"stroke\": \"#82c6df\", \"strokeWidth\": 3}, \"path\": {\"stroke\": \"#82c6df\"}, \"rect\": {\"fill\": \"#82c6df\"}, \"shape\": {\"stroke\": \"#82c6df\"}, \"bar\": {\"fill\": \"#82c6df\"}, \"point\": {\"stroke\": \"#82c6df\"}, \"symbol\": {\"fill\": \"#82c6df\", \"size\": 30}, \"axis\": {\"titleFont\": \"BentonGothic-Bold, sans\", \"titleFontSize\": 14, \"titleFontWeight\": \"normal\", \"labelFont\": \"BentonGothic, sans\", \"labelFontSize\": 12, \"labelFontWeight\": \"normal\"}, \"axisX\": {\"labelAngle\": 0, \"labelPadding\": 4, \"tickSize\": 3}, \"axisY\": {\"labelBaseline\": \"middle\", \"maxExtent\": 45, \"minExtent\": 45, \"tickSize\": 2, \"titleAlign\": \"left\", \"titleAngle\": 0, \"titleX\": -45, \"titleY\": -11}, \"legend\": {\"titleFont\": \"BentonGothic-Bold, sans\", \"titleFontSize\": 14, \"titleFontWeight\": \"normal\", \"symbolType\": \"square\", \"labelFont\": \"BentonGothic, sans\", \"labelFontSize\": 13}, \"range\": {\"category\": [\"#3580b1\", \"#ec8431\", \"#ab7fb4\", \"#c89d29\", \"#adc839\", \"#829eb1\"], \"diverging\": [\"#e68a4f\", \"#f4bb6a\", \"#f9e39c\", \"#dadfe2\", \"#a6b7c6\", \"#849eae\"], \"heatmap\": [\"#fbf2c7\", \"#f9e39c\", \"#f8d36e\", \"#f4bb6a\", \"#e68a4f\", \"#d15a40\", \"#ab4232\"], \"ordinal\": [\"#fbf2c7\", \"#f9e39c\", \"#f8d36e\", \"#f4bb6a\", \"#e68a4f\", \"#d15a40\", \"#ab4232\"], \"ramp\": [\"#fbf2c7\", \"#f9e39c\", \"#f8d36e\", \"#f4bb6a\", \"#e68a4f\", \"#d15a40\", \"#ab4232\"]}}, \"data\": {\"name\": \"data-77285c911fd86394d6230475e0f2bdde\"}, \"mark\": \"line\", \"encoding\": {\"color\": {\"field\": \"variable\", \"type\": \"nominal\"}, \"x\": {\"field\": \"date\", \"type\": \"temporal\"}, \"y\": {\"field\": \"value\", \"type\": \"quantitative\"}}, \"title\": \"California precipitation in 2023 compared to average\", \"width\": 600, \"$schema\": \"https://vega.github.io/schema/vega-lite/v4.17.0.json\", \"datasets\": {\"data-77285c911fd86394d6230475e0f2bdde\": [{\"date\": \"2022-10-01T00:00:00\", \"variable\": \"current\", \"value\": 0.0}, {\"date\": \"2022-10-02T00:00:00\", \"variable\": \"current\", \"value\": 0.0}, {\"date\": \"2022-10-03T00:00:00\", \"variable\": \"current\", \"value\": 0.0}, {\"date\": \"2022-10-04T00:00:00\", \"variable\": \"current\", \"value\": 0.0}, {\"date\": \"2022-10-05T00:00:00\", \"variable\": \"current\", \"value\": 0.0}, {\"date\": \"2022-10-06T00:00:00\", \"variable\": \"current\", \"value\": 0.0}, {\"date\": \"2022-10-07T00:00:00\", \"variable\": \"current\", \"value\": 0.0}, {\"date\": \"2022-10-08T00:00:00\", \"variable\": \"current\", \"value\": 0.0}, {\"date\": \"2022-10-09T00:00:00\", \"variable\": \"current\", \"value\": 0.0}, {\"date\": \"2022-10-10T00:00:00\", \"variable\": \"current\", \"value\": 0.0}, {\"date\": \"2022-10-11T00:00:00\", \"variable\": \"current\", \"value\": 0.01}, {\"date\": \"2022-10-12T00:00:00\", \"variable\": \"current\", \"value\": 0.01}, {\"date\": \"2022-10-13T00:00:00\", \"variable\": \"current\", \"value\": 0.02}, {\"date\": \"2022-10-14T00:00:00\", \"variable\": \"current\", \"value\": 0.02}, {\"date\": \"2022-10-15T00:00:00\", \"variable\": \"current\", \"value\": 0.02}, {\"date\": \"2022-10-16T00:00:00\", \"variable\": \"current\", \"value\": 0.07}, {\"date\": \"2022-10-17T00:00:00\", \"variable\": \"current\", \"value\": 0.07}, {\"date\": \"2022-10-18T00:00:00\", \"variable\": \"current\", \"value\": 0.07}, {\"date\": \"2022-10-19T00:00:00\", \"variable\": \"current\", \"value\": 0.07}, {\"date\": \"2022-10-20T00:00:00\", \"variable\": \"current\", \"value\": 0.07}, {\"date\": \"2022-10-21T00:00:00\", \"variable\": \"current\", \"value\": 0.07}, {\"date\": \"2022-10-22T00:00:00\", \"variable\": \"current\", \"value\": 0.09}, {\"date\": \"2022-10-23T00:00:00\", \"variable\": \"current\", \"value\": 0.11}, {\"date\": \"2022-10-24T00:00:00\", \"variable\": \"current\", \"value\": 0.11}, {\"date\": \"2022-10-25T00:00:00\", \"variable\": \"current\", \"value\": 0.12}, {\"date\": \"2022-10-26T00:00:00\", \"variable\": \"current\", \"value\": 0.13}, {\"date\": \"2022-10-27T00:00:00\", \"variable\": \"current\", \"value\": 0.13}, {\"date\": \"2022-10-28T00:00:00\", \"variable\": \"current\", \"value\": 0.13}, {\"date\": \"2022-10-29T00:00:00\", \"variable\": \"current\", \"value\": 0.13}, {\"date\": \"2022-10-30T00:00:00\", \"variable\": \"current\", \"value\": 0.13}, {\"date\": \"2022-10-31T00:00:00\", \"variable\": \"current\", \"value\": 0.13}, {\"date\": \"2022-11-01T00:00:00\", \"variable\": \"current\", \"value\": 0.16}, {\"date\": \"2022-11-02T00:00:00\", \"variable\": \"current\", \"value\": 0.41}, {\"date\": \"2022-11-03T00:00:00\", \"variable\": \"current\", \"value\": 0.49}, {\"date\": \"2022-11-04T00:00:00\", \"variable\": \"current\", \"value\": 0.5}, {\"date\": \"2022-11-05T00:00:00\", \"variable\": \"current\", \"value\": 0.59}, {\"date\": \"2022-11-06T00:00:00\", \"variable\": \"current\", \"value\": 0.68}, {\"date\": \"2022-11-07T00:00:00\", \"variable\": \"current\", \"value\": 0.95}, {\"date\": \"2022-11-08T00:00:00\", \"variable\": \"current\", \"value\": 1.34}, {\"date\": \"2022-11-09T00:00:00\", \"variable\": \"current\", \"value\": 2.12}, {\"date\": \"2022-11-10T00:00:00\", \"variable\": \"current\", \"value\": 2.14}, {\"date\": \"2022-11-11T00:00:00\", \"variable\": \"current\", \"value\": 2.14}, {\"date\": \"2022-11-12T00:00:00\", \"variable\": \"current\", \"value\": 2.17}, {\"date\": \"2022-11-13T00:00:00\", \"variable\": \"current\", \"value\": 2.19}, {\"date\": \"2022-11-14T00:00:00\", \"variable\": \"current\", \"value\": 2.19}, {\"date\": \"2022-11-15T00:00:00\", \"variable\": \"current\", \"value\": 2.19}, {\"date\": \"2022-11-16T00:00:00\", \"variable\": \"current\", \"value\": 2.19}, {\"date\": \"2022-11-17T00:00:00\", \"variable\": \"current\", \"value\": 2.19}, {\"date\": \"2022-11-18T00:00:00\", \"variable\": \"current\", \"value\": 2.19}, {\"date\": \"2022-11-19T00:00:00\", \"variable\": \"current\", \"value\": 2.19}, {\"date\": \"2022-11-20T00:00:00\", \"variable\": \"current\", \"value\": 2.19}, {\"date\": \"2022-11-21T00:00:00\", \"variable\": \"current\", \"value\": 2.19}, {\"date\": \"2022-11-22T00:00:00\", \"variable\": \"current\", \"value\": 2.19}, {\"date\": \"2022-11-23T00:00:00\", \"variable\": \"current\", \"value\": 2.19}, {\"date\": \"2022-11-24T00:00:00\", \"variable\": \"current\", \"value\": 2.19}, {\"date\": \"2022-11-25T00:00:00\", \"variable\": \"current\", \"value\": 2.19}, {\"date\": \"2022-11-26T00:00:00\", \"variable\": \"current\", \"value\": 2.19}, {\"date\": \"2022-11-27T00:00:00\", \"variable\": \"current\", \"value\": 2.19}, {\"date\": \"2022-11-28T00:00:00\", \"variable\": \"current\", \"value\": 2.21}, {\"date\": \"2022-11-29T00:00:00\", \"variable\": \"current\", \"value\": 2.22}, {\"date\": \"2022-11-30T00:00:00\", \"variable\": \"current\", \"value\": 2.22}, {\"date\": \"2022-12-01T00:00:00\", \"variable\": \"current\", \"value\": 2.46}, {\"date\": \"2022-12-02T00:00:00\", \"variable\": \"current\", \"value\": 2.93}, {\"date\": \"2022-12-03T00:00:00\", \"variable\": \"current\", \"value\": 3.01}, {\"date\": \"2022-12-04T00:00:00\", \"variable\": \"current\", \"value\": 3.57}, {\"date\": \"2022-12-05T00:00:00\", \"variable\": \"current\", \"value\": 3.87}, {\"date\": \"2022-12-06T00:00:00\", \"variable\": \"current\", \"value\": 3.99}, {\"date\": \"2022-12-07T00:00:00\", \"variable\": \"current\", \"value\": 4.01}, {\"date\": \"2022-12-08T00:00:00\", \"variable\": \"current\", \"value\": 4.02}, {\"date\": \"2022-12-09T00:00:00\", \"variable\": \"current\", \"value\": 4.18}, {\"date\": \"2022-12-10T00:00:00\", \"variable\": \"current\", \"value\": 4.4}, {\"date\": \"2022-12-11T00:00:00\", \"variable\": \"current\", \"value\": 5.51}, {\"date\": \"2022-12-12T00:00:00\", \"variable\": \"current\", \"value\": 5.84}, {\"date\": \"2022-12-13T00:00:00\", \"variable\": \"current\", \"value\": 5.87}, {\"date\": \"2022-12-14T00:00:00\", \"variable\": \"current\", \"value\": 5.87}, {\"date\": \"2022-12-15T00:00:00\", \"variable\": \"current\", \"value\": 5.87}, {\"date\": \"2022-12-16T00:00:00\", \"variable\": \"current\", \"value\": 5.87}, {\"date\": \"2022-12-17T00:00:00\", \"variable\": \"current\", \"value\": 5.87}, {\"date\": \"2022-12-18T00:00:00\", \"variable\": \"current\", \"value\": 5.87}, {\"date\": \"2022-12-19T00:00:00\", \"variable\": \"current\", \"value\": 5.87}, {\"date\": \"2022-12-20T00:00:00\", \"variable\": \"current\", \"value\": 5.87}, {\"date\": \"2022-12-21T00:00:00\", \"variable\": \"current\", \"value\": 5.89}, {\"date\": \"2022-12-22T00:00:00\", \"variable\": \"current\", \"value\": 5.9}, {\"date\": \"2022-12-23T00:00:00\", \"variable\": \"current\", \"value\": 5.93}, {\"date\": \"2022-12-24T00:00:00\", \"variable\": \"current\", \"value\": 5.95}, {\"date\": \"2022-12-25T00:00:00\", \"variable\": \"current\", \"value\": 5.99}, {\"date\": \"2022-12-26T00:00:00\", \"variable\": \"current\", \"value\": 6.0}, {\"date\": \"2022-12-27T00:00:00\", \"variable\": \"current\", \"value\": 6.8}, {\"date\": \"2022-12-28T00:00:00\", \"variable\": \"current\", \"value\": 7.47}, {\"date\": \"2022-12-29T00:00:00\", \"variable\": \"current\", \"value\": 7.59}, {\"date\": \"2022-12-30T00:00:00\", \"variable\": \"current\", \"value\": 8.07}, {\"date\": \"2022-12-31T00:00:00\", \"variable\": \"current\", \"value\": 9.0}, {\"date\": \"2023-01-01T00:00:00\", \"variable\": \"current\", \"value\": 10.06}, {\"date\": \"2023-01-02T00:00:00\", \"variable\": \"current\", \"value\": 10.13}, {\"date\": \"2023-01-03T00:00:00\", \"variable\": \"current\", \"value\": 10.34}, {\"date\": \"2023-01-04T00:00:00\", \"variable\": \"current\", \"value\": 10.42}, {\"date\": \"2023-01-05T00:00:00\", \"variable\": \"current\", \"value\": 11.27}, {\"date\": \"2023-01-06T00:00:00\", \"variable\": \"current\", \"value\": 11.84}, {\"date\": \"2023-01-07T00:00:00\", \"variable\": \"current\", \"value\": 11.98}, {\"date\": \"2023-01-08T00:00:00\", \"variable\": \"current\", \"value\": 12.56}, {\"date\": \"2023-01-09T00:00:00\", \"variable\": \"current\", \"value\": 13.2}, {\"date\": \"2023-01-10T00:00:00\", \"variable\": \"current\", \"value\": 14.48}, {\"date\": \"2023-01-11T00:00:00\", \"variable\": \"current\", \"value\": 15.1}, {\"date\": \"2023-01-12T00:00:00\", \"variable\": \"current\", \"value\": 15.5}, {\"date\": \"2023-01-13T00:00:00\", \"variable\": \"current\", \"value\": 15.63}, {\"date\": \"2023-01-14T00:00:00\", \"variable\": \"current\", \"value\": 16.17}, {\"date\": \"2023-01-15T00:00:00\", \"variable\": \"current\", \"value\": 17.17}, {\"date\": \"2023-01-16T00:00:00\", \"variable\": \"current\", \"value\": 17.61}, {\"date\": \"2023-01-17T00:00:00\", \"variable\": \"current\", \"value\": 17.85}, {\"date\": \"2023-01-18T00:00:00\", \"variable\": \"current\", \"value\": 17.85}, {\"date\": \"2023-01-19T00:00:00\", \"variable\": \"current\", \"value\": 18.06}, {\"date\": \"2023-01-20T00:00:00\", \"variable\": \"current\", \"value\": 18.07}, {\"date\": \"2023-01-21T00:00:00\", \"variable\": \"current\", \"value\": 18.08}, {\"date\": \"2023-01-22T00:00:00\", \"variable\": \"current\", \"value\": 18.08}, {\"date\": \"2023-01-23T00:00:00\", \"variable\": \"current\", \"value\": 18.08}, {\"date\": \"2023-01-24T00:00:00\", \"variable\": \"current\", \"value\": 18.08}, {\"date\": \"2023-01-25T00:00:00\", \"variable\": \"current\", \"value\": 18.08}, {\"date\": \"2023-01-26T00:00:00\", \"variable\": \"current\", \"value\": 18.08}, {\"date\": \"2023-01-27T00:00:00\", \"variable\": \"current\", \"value\": 18.08}, {\"date\": \"2023-01-28T00:00:00\", \"variable\": \"current\", \"value\": 18.08}, {\"date\": \"2023-01-29T00:00:00\", \"variable\": \"current\", \"value\": 18.08}, {\"date\": \"2023-01-30T00:00:00\", \"variable\": \"current\", \"value\": 18.15}, {\"date\": \"2023-01-31T00:00:00\", \"variable\": \"current\", \"value\": 18.17}, {\"date\": \"2023-02-01T00:00:00\", \"variable\": \"current\", \"value\": 18.17}, {\"date\": \"2023-02-02T00:00:00\", \"variable\": \"current\", \"value\": 18.17}, {\"date\": \"2023-02-03T00:00:00\", \"variable\": \"current\", \"value\": 18.23}, {\"date\": \"2023-02-04T00:00:00\", \"variable\": \"current\", \"value\": 18.27}, {\"date\": \"2023-02-05T00:00:00\", \"variable\": \"current\", \"value\": 18.65}, {\"date\": \"2023-02-06T00:00:00\", \"variable\": \"current\", \"value\": 18.8}, {\"date\": \"2023-02-07T00:00:00\", \"variable\": \"current\", \"value\": 18.8}, {\"date\": \"2023-02-08T00:00:00\", \"variable\": \"current\", \"value\": 18.8}, {\"date\": \"2023-02-09T00:00:00\", \"variable\": \"current\", \"value\": 18.8}, {\"date\": \"2023-02-10T00:00:00\", \"variable\": \"current\", \"value\": 18.81}, {\"date\": \"2023-02-11T00:00:00\", \"variable\": \"current\", \"value\": 18.84}, {\"date\": \"2023-02-12T00:00:00\", \"variable\": \"current\", \"value\": 18.86}, {\"date\": \"2023-02-13T00:00:00\", \"variable\": \"current\", \"value\": 18.87}, {\"date\": \"2023-02-14T00:00:00\", \"variable\": \"current\", \"value\": 18.88}, {\"date\": \"2023-02-15T00:00:00\", \"variable\": \"current\", \"value\": 18.91}, {\"date\": \"2023-02-16T00:00:00\", \"variable\": \"current\", \"value\": 18.91}, {\"date\": \"2023-02-17T00:00:00\", \"variable\": \"current\", \"value\": 18.91}, {\"date\": \"2023-02-18T00:00:00\", \"variable\": \"current\", \"value\": 18.91}, {\"date\": \"2023-02-19T00:00:00\", \"variable\": \"current\", \"value\": 18.91}, {\"date\": \"2023-02-20T00:00:00\", \"variable\": \"current\", \"value\": 18.91}, {\"date\": \"2023-02-21T00:00:00\", \"variable\": \"current\", \"value\": 18.91}, {\"date\": \"2023-02-22T00:00:00\", \"variable\": \"current\", \"value\": 18.99}, {\"date\": \"2023-02-23T00:00:00\", \"variable\": \"current\", \"value\": 19.09}, {\"date\": \"2023-02-24T00:00:00\", \"variable\": \"current\", \"value\": 19.52}, {\"date\": \"2023-02-25T00:00:00\", \"variable\": \"current\", \"value\": 20.49}, {\"date\": \"2023-02-26T00:00:00\", \"variable\": \"current\", \"value\": 20.78}, {\"date\": \"2023-02-27T00:00:00\", \"variable\": \"current\", \"value\": 21.05}, {\"date\": \"2023-02-28T00:00:00\", \"variable\": \"current\", \"value\": 21.5}, {\"date\": \"2023-03-01T00:00:00\", \"variable\": \"current\", \"value\": 22.07}, {\"date\": \"2023-03-02T00:00:00\", \"variable\": \"current\", \"value\": 22.15}, {\"date\": \"2023-03-03T00:00:00\", \"variable\": \"current\", \"value\": 22.16}, {\"date\": \"2023-03-04T00:00:00\", \"variable\": \"current\", \"value\": 22.18}, {\"date\": \"2023-03-05T00:00:00\", \"variable\": \"current\", \"value\": 22.5}, {\"date\": \"2023-03-06T00:00:00\", \"variable\": \"current\", \"value\": 22.7}, {\"date\": \"2023-03-07T00:00:00\", \"variable\": \"current\", \"value\": 22.83}, {\"date\": \"2023-03-08T00:00:00\", \"variable\": \"current\", \"value\": 22.98}, {\"date\": \"2023-03-09T00:00:00\", \"variable\": \"current\", \"value\": 23.05}, {\"date\": \"2023-03-10T00:00:00\", \"variable\": \"current\", \"value\": 24.16}, {\"date\": \"2023-03-11T00:00:00\", \"variable\": \"current\", \"value\": 24.8}, {\"date\": \"2023-03-12T00:00:00\", \"variable\": \"current\", \"value\": 25.1}, {\"date\": \"2023-03-13T00:00:00\", \"variable\": \"current\", \"value\": 25.54}, {\"date\": \"2023-03-14T00:00:00\", \"variable\": \"current\", \"value\": 25.96}, {\"date\": \"2023-03-15T00:00:00\", \"variable\": \"current\", \"value\": 27.04}, {\"date\": \"2023-03-16T00:00:00\", \"variable\": \"current\", \"value\": 27.11}, {\"date\": \"2023-03-17T00:00:00\", \"variable\": \"current\", \"value\": 27.11}, {\"date\": \"2023-03-18T00:00:00\", \"variable\": \"current\", \"value\": 27.11}, {\"date\": \"2023-03-19T00:00:00\", \"variable\": \"current\", \"value\": 27.21}, {\"date\": \"2023-03-20T00:00:00\", \"variable\": \"current\", \"value\": 27.57}, {\"date\": \"2023-03-21T00:00:00\", \"variable\": \"current\", \"value\": 27.69}, {\"date\": \"2023-03-22T00:00:00\", \"variable\": \"current\", \"value\": 28.25}, {\"date\": \"2023-03-23T00:00:00\", \"variable\": \"current\", \"value\": 28.43}, {\"date\": \"2023-03-24T00:00:00\", \"variable\": \"current\", \"value\": 28.55}, {\"date\": \"2023-03-25T00:00:00\", \"variable\": \"current\", \"value\": 28.57}, {\"date\": \"2023-03-26T00:00:00\", \"variable\": \"current\", \"value\": 28.58}, {\"date\": \"2023-03-27T00:00:00\", \"variable\": \"current\", \"value\": 28.58}, {\"date\": \"2023-03-28T00:00:00\", \"variable\": \"current\", \"value\": 28.74}, {\"date\": \"2023-03-29T00:00:00\", \"variable\": \"current\", \"value\": 29.32}, {\"date\": \"2023-03-30T00:00:00\", \"variable\": \"current\", \"value\": 29.59}, {\"date\": \"2023-03-31T00:00:00\", \"variable\": \"current\", \"value\": 29.64}, {\"date\": \"2023-04-01T00:00:00\", \"variable\": \"current\", \"value\": 29.66}, {\"date\": \"2023-04-02T00:00:00\", \"variable\": \"current\", \"value\": 29.69}, {\"date\": \"2023-04-03T00:00:00\", \"variable\": \"current\", \"value\": 29.75}, {\"date\": \"2023-04-04T00:00:00\", \"variable\": \"current\", \"value\": 29.77}, {\"date\": \"2023-04-05T00:00:00\", \"variable\": \"current\", \"value\": 29.78}, {\"date\": \"2023-04-06T00:00:00\", \"variable\": \"current\", \"value\": 29.78}, {\"date\": \"2023-04-07T00:00:00\", \"variable\": \"current\", \"value\": 29.94}, {\"date\": \"2023-04-08T00:00:00\", \"variable\": \"current\", \"value\": 30.03}, {\"date\": \"2023-04-09T00:00:00\", \"variable\": \"current\", \"value\": 30.03}, {\"date\": \"2023-04-10T00:00:00\", \"variable\": \"current\", \"value\": 30.04}, {\"date\": \"2023-04-11T00:00:00\", \"variable\": \"current\", \"value\": 30.1}, {\"date\": \"2023-04-12T00:00:00\", \"variable\": \"current\", \"value\": 30.1}, {\"date\": \"2023-04-13T00:00:00\", \"variable\": \"current\", \"value\": 30.11}, {\"date\": \"2023-04-14T00:00:00\", \"variable\": \"current\", \"value\": 30.11}, {\"date\": \"2023-04-15T00:00:00\", \"variable\": \"current\", \"value\": 30.11}, {\"date\": \"2023-04-16T00:00:00\", \"variable\": \"current\", \"value\": 30.12}, {\"date\": \"2023-04-17T00:00:00\", \"variable\": \"current\", \"value\": 30.12}, {\"date\": \"2023-04-18T00:00:00\", \"variable\": \"current\", \"value\": 30.22}, {\"date\": \"2023-04-19T00:00:00\", \"variable\": \"current\", \"value\": 30.24}, {\"date\": \"2023-04-20T00:00:00\", \"variable\": \"current\", \"value\": 30.25}, {\"date\": \"2023-04-21T00:00:00\", \"variable\": \"current\", \"value\": 30.25}, {\"date\": \"2023-04-22T00:00:00\", \"variable\": \"current\", \"value\": 30.25}, {\"date\": \"2023-04-23T00:00:00\", \"variable\": \"current\", \"value\": 30.26}, {\"date\": \"2023-04-24T00:00:00\", \"variable\": \"current\", \"value\": 30.26}, {\"date\": \"2023-04-25T00:00:00\", \"variable\": \"current\", \"value\": 30.26}, {\"date\": \"2023-04-26T00:00:00\", \"variable\": \"current\", \"value\": 30.26}, {\"date\": \"2023-04-27T00:00:00\", \"variable\": \"current\", \"value\": 30.26}, {\"date\": \"2023-04-28T00:00:00\", \"variable\": \"current\", \"value\": 30.26}, {\"date\": \"2023-04-29T00:00:00\", \"variable\": \"current\", \"value\": 30.26}, {\"date\": \"2023-04-30T00:00:00\", \"variable\": \"current\", \"value\": 30.26}, {\"date\": \"2023-05-01T00:00:00\", \"variable\": \"current\", \"value\": 30.26}, {\"date\": \"2023-05-02T00:00:00\", \"variable\": \"current\", \"value\": 30.33}, {\"date\": \"2023-05-03T00:00:00\", \"variable\": \"current\", \"value\": 30.47}, {\"date\": \"2023-05-04T00:00:00\", \"variable\": \"current\", \"value\": 30.56}, {\"date\": \"2023-05-05T00:00:00\", \"variable\": \"current\", \"value\": 30.66}, {\"date\": \"2023-05-06T00:00:00\", \"variable\": \"current\", \"value\": 30.8}, {\"date\": \"2023-05-07T00:00:00\", \"variable\": \"current\", \"value\": 30.9}, {\"date\": \"2023-05-08T00:00:00\", \"variable\": \"current\", \"value\": 30.96}, {\"date\": \"2023-05-09T00:00:00\", \"variable\": \"current\", \"value\": 31.02}, {\"date\": \"2023-05-10T00:00:00\", \"variable\": \"current\", \"value\": 31.03}, {\"date\": \"2023-05-11T00:00:00\", \"variable\": \"current\", \"value\": 31.03}, {\"date\": \"2023-05-12T00:00:00\", \"variable\": \"current\", \"value\": 31.03}, {\"date\": \"2023-05-13T00:00:00\", \"variable\": \"current\", \"value\": 31.03}, {\"date\": \"2023-05-14T00:00:00\", \"variable\": \"current\", \"value\": 31.03}, {\"date\": \"2023-05-15T00:00:00\", \"variable\": \"current\", \"value\": 31.04}, {\"date\": \"2023-05-16T00:00:00\", \"variable\": \"current\", \"value\": 31.04}, {\"date\": \"2023-05-17T00:00:00\", \"variable\": \"current\", \"value\": 31.04}, {\"date\": \"2023-05-18T00:00:00\", \"variable\": \"current\", \"value\": 31.04}, {\"date\": \"2023-05-19T00:00:00\", \"variable\": \"current\", \"value\": 31.04}, {\"date\": \"2023-05-20T00:00:00\", \"variable\": \"current\", \"value\": 31.05}, {\"date\": \"2023-05-21T00:00:00\", \"variable\": \"current\", \"value\": 31.06}, {\"date\": \"2023-05-22T00:00:00\", \"variable\": \"current\", \"value\": 31.07}, {\"date\": \"2023-05-23T00:00:00\", \"variable\": \"current\", \"value\": 31.07}, {\"date\": \"2023-05-24T00:00:00\", \"variable\": \"current\", \"value\": 31.08}, {\"date\": \"2023-05-25T00:00:00\", \"variable\": \"current\", \"value\": 31.08}, {\"date\": \"2023-05-26T00:00:00\", \"variable\": \"current\", \"value\": 31.1}, {\"date\": \"2023-05-27T00:00:00\", \"variable\": \"current\", \"value\": 31.1}, {\"date\": \"2023-05-28T00:00:00\", \"variable\": \"current\", \"value\": 31.13}, {\"date\": \"2023-05-29T00:00:00\", \"variable\": \"current\", \"value\": 31.14}, {\"date\": \"2023-05-30T00:00:00\", \"variable\": \"current\", \"value\": 31.16}, {\"date\": \"2023-05-31T00:00:00\", \"variable\": \"current\", \"value\": 31.18}, {\"date\": \"2023-06-01T00:00:00\", \"variable\": \"current\", \"value\": 31.18}, {\"date\": \"2023-06-02T00:00:00\", \"variable\": \"current\", \"value\": 31.19}, {\"date\": \"2023-06-03T00:00:00\", \"variable\": \"current\", \"value\": 31.19}, {\"date\": \"2023-06-04T00:00:00\", \"variable\": \"current\", \"value\": 31.19}, {\"date\": \"2023-06-05T00:00:00\", \"variable\": \"current\", \"value\": 31.2}, {\"date\": \"2023-06-06T00:00:00\", \"variable\": \"current\", \"value\": 31.22}, {\"date\": \"2023-06-07T00:00:00\", \"variable\": \"current\", \"value\": 31.27}, {\"date\": \"2023-06-08T00:00:00\", \"variable\": \"current\", \"value\": 31.29}, {\"date\": \"2023-06-09T00:00:00\", \"variable\": \"current\", \"value\": 31.31}, {\"date\": \"2023-06-10T00:00:00\", \"variable\": \"current\", \"value\": 31.33}, {\"date\": \"2023-06-11T00:00:00\", \"variable\": \"current\", \"value\": 31.38}, {\"date\": \"2023-06-12T00:00:00\", \"variable\": \"current\", \"value\": null}, {\"date\": \"2023-06-13T00:00:00\", \"variable\": \"current\", \"value\": null}, {\"date\": \"2023-06-14T00:00:00\", \"variable\": \"current\", \"value\": null}, {\"date\": \"2023-06-15T00:00:00\", \"variable\": \"current\", \"value\": null}, {\"date\": \"2023-06-16T00:00:00\", \"variable\": \"current\", \"value\": null}, {\"date\": \"2023-06-17T00:00:00\", \"variable\": \"current\", \"value\": null}, {\"date\": \"2023-06-18T00:00:00\", \"variable\": \"current\", \"value\": null}, {\"date\": \"2023-06-19T00:00:00\", \"variable\": \"current\", \"value\": null}, {\"date\": \"2023-06-20T00:00:00\", \"variable\": \"current\", \"value\": null}, {\"date\": \"2023-06-21T00:00:00\", \"variable\": \"current\", \"value\": null}, {\"date\": \"2023-06-22T00:00:00\", \"variable\": \"current\", \"value\": null}, {\"date\": \"2023-06-23T00:00:00\", \"variable\": \"current\", \"value\": null}, {\"date\": \"2023-06-24T00:00:00\", \"variable\": \"current\", \"value\": null}, {\"date\": \"2023-06-25T00:00:00\", \"variable\": \"current\", \"value\": null}, {\"date\": \"2023-06-26T00:00:00\", \"variable\": \"current\", \"value\": null}, {\"date\": \"2023-06-27T00:00:00\", \"variable\": \"current\", \"value\": null}, {\"date\": \"2023-06-28T00:00:00\", \"variable\": \"current\", \"value\": null}, {\"date\": \"2023-06-29T00:00:00\", \"variable\": \"current\", \"value\": null}, {\"date\": \"2023-06-30T00:00:00\", \"variable\": \"current\", \"value\": null}, {\"date\": \"2023-07-01T00:00:00\", \"variable\": \"current\", \"value\": null}, {\"date\": \"2023-07-02T00:00:00\", \"variable\": \"current\", \"value\": null}, {\"date\": \"2023-07-03T00:00:00\", \"variable\": \"current\", \"value\": null}, {\"date\": \"2023-07-04T00:00:00\", \"variable\": \"current\", \"value\": null}, {\"date\": \"2023-07-05T00:00:00\", \"variable\": \"current\", \"value\": null}, {\"date\": \"2023-07-06T00:00:00\", \"variable\": \"current\", \"value\": null}, {\"date\": \"2023-07-07T00:00:00\", \"variable\": \"current\", \"value\": null}, {\"date\": \"2023-07-08T00:00:00\", \"variable\": \"current\", \"value\": null}, {\"date\": \"2023-07-09T00:00:00\", \"variable\": \"current\", \"value\": null}, {\"date\": \"2023-07-10T00:00:00\", \"variable\": \"current\", \"value\": null}, {\"date\": \"2023-07-11T00:00:00\", \"variable\": \"current\", \"value\": null}, {\"date\": \"2023-07-12T00:00:00\", \"variable\": \"current\", \"value\": null}, {\"date\": \"2023-07-13T00:00:00\", \"variable\": \"current\", \"value\": null}, {\"date\": \"2023-07-14T00:00:00\", \"variable\": \"current\", \"value\": null}, {\"date\": \"2023-07-15T00:00:00\", \"variable\": \"current\", \"value\": null}, {\"date\": \"2023-07-16T00:00:00\", \"variable\": \"current\", \"value\": null}, {\"date\": \"2023-07-17T00:00:00\", \"variable\": \"current\", \"value\": null}, {\"date\": \"2023-07-18T00:00:00\", \"variable\": \"current\", \"value\": null}, {\"date\": \"2023-07-19T00:00:00\", \"variable\": \"current\", \"value\": null}, {\"date\": \"2023-07-20T00:00:00\", \"variable\": \"current\", \"value\": null}, {\"date\": \"2023-07-21T00:00:00\", \"variable\": \"current\", \"value\": null}, {\"date\": \"2023-07-22T00:00:00\", \"variable\": \"current\", \"value\": null}, {\"date\": \"2023-07-23T00:00:00\", \"variable\": \"current\", \"value\": null}, {\"date\": \"2023-07-24T00:00:00\", \"variable\": \"current\", \"value\": null}, {\"date\": \"2023-07-25T00:00:00\", \"variable\": \"current\", \"value\": null}, {\"date\": \"2023-07-26T00:00:00\", \"variable\": \"current\", \"value\": null}, {\"date\": \"2023-07-27T00:00:00\", \"variable\": \"current\", \"value\": null}, {\"date\": \"2023-07-28T00:00:00\", \"variable\": \"current\", \"value\": null}, {\"date\": \"2023-07-29T00:00:00\", \"variable\": \"current\", \"value\": null}, {\"date\": \"2023-07-30T00:00:00\", \"variable\": \"current\", \"value\": null}, {\"date\": \"2023-07-31T00:00:00\", \"variable\": \"current\", \"value\": null}, {\"date\": \"2023-08-01T00:00:00\", \"variable\": \"current\", \"value\": null}, {\"date\": \"2023-08-02T00:00:00\", \"variable\": \"current\", \"value\": null}, {\"date\": \"2023-08-03T00:00:00\", \"variable\": \"current\", \"value\": null}, {\"date\": \"2023-08-04T00:00:00\", \"variable\": \"current\", \"value\": null}, {\"date\": \"2023-08-05T00:00:00\", \"variable\": \"current\", \"value\": null}, {\"date\": \"2023-08-06T00:00:00\", \"variable\": \"current\", \"value\": null}, {\"date\": \"2023-08-07T00:00:00\", \"variable\": \"current\", \"value\": null}, {\"date\": \"2023-08-08T00:00:00\", \"variable\": \"current\", \"value\": null}, {\"date\": \"2023-08-09T00:00:00\", \"variable\": \"current\", \"value\": null}, {\"date\": \"2023-08-10T00:00:00\", \"variable\": \"current\", \"value\": null}, {\"date\": \"2023-08-11T00:00:00\", \"variable\": \"current\", \"value\": null}, {\"date\": \"2023-08-12T00:00:00\", \"variable\": \"current\", \"value\": null}, {\"date\": \"2023-08-13T00:00:00\", \"variable\": \"current\", \"value\": null}, {\"date\": \"2023-08-14T00:00:00\", \"variable\": \"current\", \"value\": null}, {\"date\": \"2023-08-15T00:00:00\", \"variable\": \"current\", \"value\": null}, {\"date\": \"2023-08-16T00:00:00\", \"variable\": \"current\", \"value\": null}, {\"date\": \"2023-08-17T00:00:00\", \"variable\": \"current\", \"value\": null}, {\"date\": \"2023-08-18T00:00:00\", \"variable\": \"current\", \"value\": null}, {\"date\": \"2023-08-19T00:00:00\", \"variable\": \"current\", \"value\": null}, {\"date\": \"2023-08-20T00:00:00\", \"variable\": \"current\", \"value\": null}, {\"date\": \"2023-08-21T00:00:00\", \"variable\": \"current\", \"value\": null}, {\"date\": \"2023-08-22T00:00:00\", \"variable\": \"current\", \"value\": null}, {\"date\": \"2023-08-23T00:00:00\", \"variable\": \"current\", \"value\": null}, {\"date\": \"2023-08-24T00:00:00\", \"variable\": \"current\", \"value\": null}, {\"date\": \"2023-08-25T00:00:00\", \"variable\": \"current\", \"value\": null}, {\"date\": \"2023-08-26T00:00:00\", \"variable\": \"current\", \"value\": null}, {\"date\": \"2023-08-27T00:00:00\", \"variable\": \"current\", \"value\": null}, {\"date\": \"2023-08-28T00:00:00\", \"variable\": \"current\", \"value\": null}, {\"date\": \"2023-08-29T00:00:00\", \"variable\": \"current\", \"value\": null}, {\"date\": \"2023-08-30T00:00:00\", \"variable\": \"current\", \"value\": null}, {\"date\": \"2023-08-31T00:00:00\", \"variable\": \"current\", \"value\": null}, {\"date\": \"2023-09-01T00:00:00\", \"variable\": \"current\", \"value\": null}, {\"date\": \"2023-09-02T00:00:00\", \"variable\": \"current\", \"value\": null}, {\"date\": \"2023-09-03T00:00:00\", \"variable\": \"current\", \"value\": null}, {\"date\": \"2023-09-04T00:00:00\", \"variable\": \"current\", \"value\": null}, {\"date\": \"2023-09-05T00:00:00\", \"variable\": \"current\", \"value\": null}, {\"date\": \"2023-09-06T00:00:00\", \"variable\": \"current\", \"value\": null}, {\"date\": \"2023-09-07T00:00:00\", \"variable\": \"current\", \"value\": null}, {\"date\": \"2023-09-08T00:00:00\", \"variable\": \"current\", \"value\": null}, {\"date\": \"2023-09-09T00:00:00\", \"variable\": \"current\", \"value\": null}, {\"date\": \"2023-09-10T00:00:00\", \"variable\": \"current\", \"value\": null}, {\"date\": \"2023-09-11T00:00:00\", \"variable\": \"current\", \"value\": null}, {\"date\": \"2023-09-12T00:00:00\", \"variable\": \"current\", \"value\": null}, {\"date\": \"2023-09-13T00:00:00\", \"variable\": \"current\", \"value\": null}, {\"date\": \"2023-09-14T00:00:00\", \"variable\": \"current\", \"value\": null}, {\"date\": \"2023-09-15T00:00:00\", \"variable\": \"current\", \"value\": null}, {\"date\": \"2023-09-16T00:00:00\", \"variable\": \"current\", \"value\": null}, {\"date\": \"2023-09-17T00:00:00\", \"variable\": \"current\", \"value\": null}, {\"date\": \"2023-09-18T00:00:00\", \"variable\": \"current\", \"value\": null}, {\"date\": \"2023-09-19T00:00:00\", \"variable\": \"current\", \"value\": null}, {\"date\": \"2023-09-20T00:00:00\", \"variable\": \"current\", \"value\": null}, {\"date\": \"2023-09-21T00:00:00\", \"variable\": \"current\", \"value\": null}, {\"date\": \"2023-09-22T00:00:00\", \"variable\": \"current\", \"value\": null}, {\"date\": \"2023-09-23T00:00:00\", \"variable\": \"current\", \"value\": null}, {\"date\": \"2023-09-24T00:00:00\", \"variable\": \"current\", \"value\": null}, {\"date\": \"2023-09-25T00:00:00\", \"variable\": \"current\", \"value\": null}, {\"date\": \"2023-09-26T00:00:00\", \"variable\": \"current\", \"value\": null}, {\"date\": \"2023-09-27T00:00:00\", \"variable\": \"current\", \"value\": null}, {\"date\": \"2023-09-28T00:00:00\", \"variable\": \"current\", \"value\": null}, {\"date\": \"2023-09-29T00:00:00\", \"variable\": \"current\", \"value\": null}, {\"date\": \"2023-09-30T00:00:00\", \"variable\": \"current\", \"value\": null}, {\"date\": \"2022-10-01T00:00:00\", \"variable\": \"average\", \"value\": 0.02}, {\"date\": \"2022-10-02T00:00:00\", \"variable\": \"average\", \"value\": 0.04}, {\"date\": \"2022-10-03T00:00:00\", \"variable\": \"average\", \"value\": 0.05}, {\"date\": \"2022-10-04T00:00:00\", \"variable\": \"average\", \"value\": 0.07}, {\"date\": \"2022-10-05T00:00:00\", \"variable\": \"average\", \"value\": 0.12}, {\"date\": \"2022-10-06T00:00:00\", \"variable\": \"average\", \"value\": 0.14}, {\"date\": \"2022-10-07T00:00:00\", \"variable\": \"average\", \"value\": 0.16}, {\"date\": \"2022-10-08T00:00:00\", \"variable\": \"average\", \"value\": 0.17}, {\"date\": \"2022-10-09T00:00:00\", \"variable\": \"average\", \"value\": 0.18}, {\"date\": \"2022-10-10T00:00:00\", \"variable\": \"average\", \"value\": 0.21}, {\"date\": \"2022-10-11T00:00:00\", \"variable\": \"average\", \"value\": 0.25}, {\"date\": \"2022-10-12T00:00:00\", \"variable\": \"average\", \"value\": 0.27}, {\"date\": \"2022-10-13T00:00:00\", \"variable\": \"average\", \"value\": 0.29}, {\"date\": \"2022-10-14T00:00:00\", \"variable\": \"average\", \"value\": 0.35}, {\"date\": \"2022-10-15T00:00:00\", \"variable\": \"average\", \"value\": 0.37}, {\"date\": \"2022-10-16T00:00:00\", \"variable\": \"average\", \"value\": 0.4}, {\"date\": \"2022-10-17T00:00:00\", \"variable\": \"average\", \"value\": 0.44}, {\"date\": \"2022-10-18T00:00:00\", \"variable\": \"average\", \"value\": 0.48}, {\"date\": \"2022-10-19T00:00:00\", \"variable\": \"average\", \"value\": 0.51}, {\"date\": \"2022-10-20T00:00:00\", \"variable\": \"average\", \"value\": 0.57}, {\"date\": \"2022-10-21T00:00:00\", \"variable\": \"average\", \"value\": 0.61}, {\"date\": \"2022-10-22T00:00:00\", \"variable\": \"average\", \"value\": 0.65}, {\"date\": \"2022-10-23T00:00:00\", \"variable\": \"average\", \"value\": 0.71}, {\"date\": \"2022-10-24T00:00:00\", \"variable\": \"average\", \"value\": 0.79}, {\"date\": \"2022-10-25T00:00:00\", \"variable\": \"average\", \"value\": 0.9}, {\"date\": \"2022-10-26T00:00:00\", \"variable\": \"average\", \"value\": 0.98}, {\"date\": \"2022-10-27T00:00:00\", \"variable\": \"average\", \"value\": 1.03}, {\"date\": \"2022-10-28T00:00:00\", \"variable\": \"average\", \"value\": 1.1}, {\"date\": \"2022-10-29T00:00:00\", \"variable\": \"average\", \"value\": 1.18}, {\"date\": \"2022-10-30T00:00:00\", \"variable\": \"average\", \"value\": 1.26}, {\"date\": \"2022-10-31T00:00:00\", \"variable\": \"average\", \"value\": 1.33}, {\"date\": \"2022-11-01T00:00:00\", \"variable\": \"average\", \"value\": 1.39}, {\"date\": \"2022-11-02T00:00:00\", \"variable\": \"average\", \"value\": 1.45}, {\"date\": \"2022-11-03T00:00:00\", \"variable\": \"average\", \"value\": 1.5}, {\"date\": \"2022-11-04T00:00:00\", \"variable\": \"average\", \"value\": 1.54}, {\"date\": \"2022-11-05T00:00:00\", \"variable\": \"average\", \"value\": 1.57}, {\"date\": \"2022-11-06T00:00:00\", \"variable\": \"average\", \"value\": 1.62}, {\"date\": \"2022-11-07T00:00:00\", \"variable\": \"average\", \"value\": 1.67}, {\"date\": \"2022-11-08T00:00:00\", \"variable\": \"average\", \"value\": 1.77}, {\"date\": \"2022-11-09T00:00:00\", \"variable\": \"average\", \"value\": 1.9}, {\"date\": \"2022-11-10T00:00:00\", \"variable\": \"average\", \"value\": 2.0}, {\"date\": \"2022-11-11T00:00:00\", \"variable\": \"average\", \"value\": 2.1}, {\"date\": \"2022-11-12T00:00:00\", \"variable\": \"average\", \"value\": 2.17}, {\"date\": \"2022-11-13T00:00:00\", \"variable\": \"average\", \"value\": 2.26}, {\"date\": \"2022-11-14T00:00:00\", \"variable\": \"average\", \"value\": 2.35}, {\"date\": \"2022-11-15T00:00:00\", \"variable\": \"average\", \"value\": 2.39}, {\"date\": \"2022-11-16T00:00:00\", \"variable\": \"average\", \"value\": 2.47}, {\"date\": \"2022-11-17T00:00:00\", \"variable\": \"average\", \"value\": 2.59}, {\"date\": \"2022-11-18T00:00:00\", \"variable\": \"average\", \"value\": 2.7}, {\"date\": \"2022-11-19T00:00:00\", \"variable\": \"average\", \"value\": 2.77}, {\"date\": \"2022-11-20T00:00:00\", \"variable\": \"average\", \"value\": 2.87}, {\"date\": \"2022-11-21T00:00:00\", \"variable\": \"average\", \"value\": 2.99}, {\"date\": \"2022-11-22T00:00:00\", \"variable\": \"average\", \"value\": 3.11}, {\"date\": \"2022-11-23T00:00:00\", \"variable\": \"average\", \"value\": 3.21}, {\"date\": \"2022-11-24T00:00:00\", \"variable\": \"average\", \"value\": 3.31}, {\"date\": \"2022-11-25T00:00:00\", \"variable\": \"average\", \"value\": 3.41}, {\"date\": \"2022-11-26T00:00:00\", \"variable\": \"average\", \"value\": 3.49}, {\"date\": \"2022-11-27T00:00:00\", \"variable\": \"average\", \"value\": 3.59}, {\"date\": \"2022-11-28T00:00:00\", \"variable\": \"average\", \"value\": 3.69}, {\"date\": \"2022-11-29T00:00:00\", \"variable\": \"average\", \"value\": 3.81}, {\"date\": \"2022-11-30T00:00:00\", \"variable\": \"average\", \"value\": 3.96}, {\"date\": \"2022-12-01T00:00:00\", \"variable\": \"average\", \"value\": 4.09}, {\"date\": \"2022-12-02T00:00:00\", \"variable\": \"average\", \"value\": 4.24}, {\"date\": \"2022-12-03T00:00:00\", \"variable\": \"average\", \"value\": 4.36}, {\"date\": \"2022-12-04T00:00:00\", \"variable\": \"average\", \"value\": 4.46}, {\"date\": \"2022-12-05T00:00:00\", \"variable\": \"average\", \"value\": 4.56}, {\"date\": \"2022-12-06T00:00:00\", \"variable\": \"average\", \"value\": 4.67}, {\"date\": \"2022-12-07T00:00:00\", \"variable\": \"average\", \"value\": 4.82}, {\"date\": \"2022-12-08T00:00:00\", \"variable\": \"average\", \"value\": 4.96}, {\"date\": \"2022-12-09T00:00:00\", \"variable\": \"average\", \"value\": 5.07}, {\"date\": \"2022-12-10T00:00:00\", \"variable\": \"average\", \"value\": 5.21}, {\"date\": \"2022-12-11T00:00:00\", \"variable\": \"average\", \"value\": 5.37}, {\"date\": \"2022-12-12T00:00:00\", \"variable\": \"average\", \"value\": 5.54}, {\"date\": \"2022-12-13T00:00:00\", \"variable\": \"average\", \"value\": 5.68}, {\"date\": \"2022-12-14T00:00:00\", \"variable\": \"average\", \"value\": 5.85}, {\"date\": \"2022-12-15T00:00:00\", \"variable\": \"average\", \"value\": 5.98}, {\"date\": \"2022-12-16T00:00:00\", \"variable\": \"average\", \"value\": 6.12}, {\"date\": \"2022-12-17T00:00:00\", \"variable\": \"average\", \"value\": 6.23}, {\"date\": \"2022-12-18T00:00:00\", \"variable\": \"average\", \"value\": 6.32}, {\"date\": \"2022-12-19T00:00:00\", \"variable\": \"average\", \"value\": 6.46}, {\"date\": \"2022-12-20T00:00:00\", \"variable\": \"average\", \"value\": 6.6}, {\"date\": \"2022-12-21T00:00:00\", \"variable\": \"average\", \"value\": 6.74}, {\"date\": \"2022-12-22T00:00:00\", \"variable\": \"average\", \"value\": 6.91}, {\"date\": \"2022-12-23T00:00:00\", \"variable\": \"average\", \"value\": 7.05}, {\"date\": \"2022-12-24T00:00:00\", \"variable\": \"average\", \"value\": 7.16}, {\"date\": \"2022-12-25T00:00:00\", \"variable\": \"average\", \"value\": 7.27}, {\"date\": \"2022-12-26T00:00:00\", \"variable\": \"average\", \"value\": 7.39}, {\"date\": \"2022-12-27T00:00:00\", \"variable\": \"average\", \"value\": 7.52}, {\"date\": \"2022-12-28T00:00:00\", \"variable\": \"average\", \"value\": 7.66}, {\"date\": \"2022-12-29T00:00:00\", \"variable\": \"average\", \"value\": 7.83}, {\"date\": \"2022-12-30T00:00:00\", \"variable\": \"average\", \"value\": 8.01}, {\"date\": \"2022-12-31T00:00:00\", \"variable\": \"average\", \"value\": 8.17}, {\"date\": \"2023-01-01T00:00:00\", \"variable\": \"average\", \"value\": 8.31}, {\"date\": \"2023-01-02T00:00:00\", \"variable\": \"average\", \"value\": 8.45}, {\"date\": \"2023-01-03T00:00:00\", \"variable\": \"average\", \"value\": 8.57}, {\"date\": \"2023-01-04T00:00:00\", \"variable\": \"average\", \"value\": 8.72}, {\"date\": \"2023-01-05T00:00:00\", \"variable\": \"average\", \"value\": 8.93}, {\"date\": \"2023-01-06T00:00:00\", \"variable\": \"average\", \"value\": 9.06}, {\"date\": \"2023-01-07T00:00:00\", \"variable\": \"average\", \"value\": 9.2}, {\"date\": \"2023-01-08T00:00:00\", \"variable\": \"average\", \"value\": 9.35}, {\"date\": \"2023-01-09T00:00:00\", \"variable\": \"average\", \"value\": 9.52}, {\"date\": \"2023-01-10T00:00:00\", \"variable\": \"average\", \"value\": 9.69}, {\"date\": \"2023-01-11T00:00:00\", \"variable\": \"average\", \"value\": 9.85}, {\"date\": \"2023-01-12T00:00:00\", \"variable\": \"average\", \"value\": 9.95}, {\"date\": \"2023-01-13T00:00:00\", \"variable\": \"average\", \"value\": 10.07}, {\"date\": \"2023-01-14T00:00:00\", \"variable\": \"average\", \"value\": 10.19}, {\"date\": \"2023-01-15T00:00:00\", \"variable\": \"average\", \"value\": 10.31}, {\"date\": \"2023-01-16T00:00:00\", \"variable\": \"average\", \"value\": 10.43}, {\"date\": \"2023-01-17T00:00:00\", \"variable\": \"average\", \"value\": 10.57}, {\"date\": \"2023-01-18T00:00:00\", \"variable\": \"average\", \"value\": 10.69}, {\"date\": \"2023-01-19T00:00:00\", \"variable\": \"average\", \"value\": 10.84}, {\"date\": \"2023-01-20T00:00:00\", \"variable\": \"average\", \"value\": 10.97}, {\"date\": \"2023-01-21T00:00:00\", \"variable\": \"average\", \"value\": 11.13}, {\"date\": \"2023-01-22T00:00:00\", \"variable\": \"average\", \"value\": 11.25}, {\"date\": \"2023-01-23T00:00:00\", \"variable\": \"average\", \"value\": 11.41}, {\"date\": \"2023-01-24T00:00:00\", \"variable\": \"average\", \"value\": 11.56}, {\"date\": \"2023-01-25T00:00:00\", \"variable\": \"average\", \"value\": 11.7}, {\"date\": \"2023-01-26T00:00:00\", \"variable\": \"average\", \"value\": 11.84}, {\"date\": \"2023-01-27T00:00:00\", \"variable\": \"average\", \"value\": 11.97}, {\"date\": \"2023-01-28T00:00:00\", \"variable\": \"average\", \"value\": 12.08}, {\"date\": \"2023-01-29T00:00:00\", \"variable\": \"average\", \"value\": 12.17}, {\"date\": \"2023-01-30T00:00:00\", \"variable\": \"average\", \"value\": 12.26}, {\"date\": \"2023-01-31T00:00:00\", \"variable\": \"average\", \"value\": 12.34}, {\"date\": \"2023-02-01T00:00:00\", \"variable\": \"average\", \"value\": 12.42}, {\"date\": \"2023-02-02T00:00:00\", \"variable\": \"average\", \"value\": 12.51}, {\"date\": \"2023-02-03T00:00:00\", \"variable\": \"average\", \"value\": 12.65}, {\"date\": \"2023-02-04T00:00:00\", \"variable\": \"average\", \"value\": 12.76}, {\"date\": \"2023-02-05T00:00:00\", \"variable\": \"average\", \"value\": 12.84}, {\"date\": \"2023-02-06T00:00:00\", \"variable\": \"average\", \"value\": 12.93}, {\"date\": \"2023-02-07T00:00:00\", \"variable\": \"average\", \"value\": 13.09}, {\"date\": \"2023-02-08T00:00:00\", \"variable\": \"average\", \"value\": 13.25}, {\"date\": \"2023-02-09T00:00:00\", \"variable\": \"average\", \"value\": 13.41}, {\"date\": \"2023-02-10T00:00:00\", \"variable\": \"average\", \"value\": 13.53}, {\"date\": \"2023-02-11T00:00:00\", \"variable\": \"average\", \"value\": 13.64}, {\"date\": \"2023-02-12T00:00:00\", \"variable\": \"average\", \"value\": 13.75}, {\"date\": \"2023-02-13T00:00:00\", \"variable\": \"average\", \"value\": 13.92}, {\"date\": \"2023-02-14T00:00:00\", \"variable\": \"average\", \"value\": 14.09}, {\"date\": \"2023-02-15T00:00:00\", \"variable\": \"average\", \"value\": 14.24}, {\"date\": \"2023-02-16T00:00:00\", \"variable\": \"average\", \"value\": 14.41}, {\"date\": \"2023-02-17T00:00:00\", \"variable\": \"average\", \"value\": 14.58}, {\"date\": \"2023-02-18T00:00:00\", \"variable\": \"average\", \"value\": 14.76}, {\"date\": \"2023-02-19T00:00:00\", \"variable\": \"average\", \"value\": 14.92}, {\"date\": \"2023-02-20T00:00:00\", \"variable\": \"average\", \"value\": 15.08}, {\"date\": \"2023-02-21T00:00:00\", \"variable\": \"average\", \"value\": 15.22}, {\"date\": \"2023-02-22T00:00:00\", \"variable\": \"average\", \"value\": 15.33}, {\"date\": \"2023-02-23T00:00:00\", \"variable\": \"average\", \"value\": 15.45}, {\"date\": \"2023-02-24T00:00:00\", \"variable\": \"average\", \"value\": 15.56}, {\"date\": \"2023-02-25T00:00:00\", \"variable\": \"average\", \"value\": 15.67}, {\"date\": \"2023-02-26T00:00:00\", \"variable\": \"average\", \"value\": 15.8}, {\"date\": \"2023-02-27T00:00:00\", \"variable\": \"average\", \"value\": 15.95}, {\"date\": \"2023-02-28T00:00:00\", \"variable\": \"average\", \"value\": 16.11}, {\"date\": \"2023-03-01T00:00:00\", \"variable\": \"average\", \"value\": 16.28}, {\"date\": \"2023-03-02T00:00:00\", \"variable\": \"average\", \"value\": 16.45}, {\"date\": \"2023-03-03T00:00:00\", \"variable\": \"average\", \"value\": 16.61}, {\"date\": \"2023-03-04T00:00:00\", \"variable\": \"average\", \"value\": 16.71}, {\"date\": \"2023-03-05T00:00:00\", \"variable\": \"average\", \"value\": 16.85}, {\"date\": \"2023-03-06T00:00:00\", \"variable\": \"average\", \"value\": 17.03}, {\"date\": \"2023-03-07T00:00:00\", \"variable\": \"average\", \"value\": 17.14}, {\"date\": \"2023-03-08T00:00:00\", \"variable\": \"average\", \"value\": 17.23}, {\"date\": \"2023-03-09T00:00:00\", \"variable\": \"average\", \"value\": 17.32}, {\"date\": \"2023-03-10T00:00:00\", \"variable\": \"average\", \"value\": 17.45}, {\"date\": \"2023-03-11T00:00:00\", \"variable\": \"average\", \"value\": 17.6}, {\"date\": \"2023-03-12T00:00:00\", \"variable\": \"average\", \"value\": 17.69}, {\"date\": \"2023-03-13T00:00:00\", \"variable\": \"average\", \"value\": 17.82}, {\"date\": \"2023-03-14T00:00:00\", \"variable\": \"average\", \"value\": 17.96}, {\"date\": \"2023-03-15T00:00:00\", \"variable\": \"average\", \"value\": 18.1}, {\"date\": \"2023-03-16T00:00:00\", \"variable\": \"average\", \"value\": 18.21}, {\"date\": \"2023-03-17T00:00:00\", \"variable\": \"average\", \"value\": 18.33}, {\"date\": \"2023-03-18T00:00:00\", \"variable\": \"average\", \"value\": 18.41}, {\"date\": \"2023-03-19T00:00:00\", \"variable\": \"average\", \"value\": 18.48}, {\"date\": \"2023-03-20T00:00:00\", \"variable\": \"average\", \"value\": 18.57}, {\"date\": \"2023-03-21T00:00:00\", \"variable\": \"average\", \"value\": 18.69}, {\"date\": \"2023-03-22T00:00:00\", \"variable\": \"average\", \"value\": 18.82}, {\"date\": \"2023-03-23T00:00:00\", \"variable\": \"average\", \"value\": 18.95}, {\"date\": \"2023-03-24T00:00:00\", \"variable\": \"average\", \"value\": 19.08}, {\"date\": \"2023-03-25T00:00:00\", \"variable\": \"average\", \"value\": 19.2}, {\"date\": \"2023-03-26T00:00:00\", \"variable\": \"average\", \"value\": 19.3}, {\"date\": \"2023-03-27T00:00:00\", \"variable\": \"average\", \"value\": 19.39}, {\"date\": \"2023-03-28T00:00:00\", \"variable\": \"average\", \"value\": 19.49}, {\"date\": \"2023-03-29T00:00:00\", \"variable\": \"average\", \"value\": 19.57}, {\"date\": \"2023-03-30T00:00:00\", \"variable\": \"average\", \"value\": 19.63}, {\"date\": \"2023-03-31T00:00:00\", \"variable\": \"average\", \"value\": 19.71}, {\"date\": \"2023-04-01T00:00:00\", \"variable\": \"average\", \"value\": 19.79}, {\"date\": \"2023-04-02T00:00:00\", \"variable\": \"average\", \"value\": 19.85}, {\"date\": \"2023-04-03T00:00:00\", \"variable\": \"average\", \"value\": 19.9}, {\"date\": \"2023-04-04T00:00:00\", \"variable\": \"average\", \"value\": 19.96}, {\"date\": \"2023-04-05T00:00:00\", \"variable\": \"average\", \"value\": 20.01}, {\"date\": \"2023-04-06T00:00:00\", \"variable\": \"average\", \"value\": 20.09}, {\"date\": \"2023-04-07T00:00:00\", \"variable\": \"average\", \"value\": 20.18}, {\"date\": \"2023-04-08T00:00:00\", \"variable\": \"average\", \"value\": 20.26}, {\"date\": \"2023-04-09T00:00:00\", \"variable\": \"average\", \"value\": 20.32}, {\"date\": \"2023-04-10T00:00:00\", \"variable\": \"average\", \"value\": 20.37}, {\"date\": \"2023-04-11T00:00:00\", \"variable\": \"average\", \"value\": 20.42}, {\"date\": \"2023-04-12T00:00:00\", \"variable\": \"average\", \"value\": 20.51}, {\"date\": \"2023-04-13T00:00:00\", \"variable\": \"average\", \"value\": 20.59}, {\"date\": \"2023-04-14T00:00:00\", \"variable\": \"average\", \"value\": 20.65}, {\"date\": \"2023-04-15T00:00:00\", \"variable\": \"average\", \"value\": 20.7}, {\"date\": \"2023-04-16T00:00:00\", \"variable\": \"average\", \"value\": 20.75}, {\"date\": \"2023-04-17T00:00:00\", \"variable\": \"average\", \"value\": 20.81}, {\"date\": \"2023-04-18T00:00:00\", \"variable\": \"average\", \"value\": 20.88}, {\"date\": \"2023-04-19T00:00:00\", \"variable\": \"average\", \"value\": 20.93}, {\"date\": \"2023-04-20T00:00:00\", \"variable\": \"average\", \"value\": 20.98}, {\"date\": \"2023-04-21T00:00:00\", \"variable\": \"average\", \"value\": 21.04}, {\"date\": \"2023-04-22T00:00:00\", \"variable\": \"average\", \"value\": 21.09}, {\"date\": \"2023-04-23T00:00:00\", \"variable\": \"average\", \"value\": 21.14}, {\"date\": \"2023-04-24T00:00:00\", \"variable\": \"average\", \"value\": 21.2}, {\"date\": \"2023-04-25T00:00:00\", \"variable\": \"average\", \"value\": 21.24}, {\"date\": \"2023-04-26T00:00:00\", \"variable\": \"average\", \"value\": 21.29}, {\"date\": \"2023-04-27T00:00:00\", \"variable\": \"average\", \"value\": 21.31}, {\"date\": \"2023-04-28T00:00:00\", \"variable\": \"average\", \"value\": 21.35}, {\"date\": \"2023-04-29T00:00:00\", \"variable\": \"average\", \"value\": 21.39}, {\"date\": \"2023-04-30T00:00:00\", \"variable\": \"average\", \"value\": 21.43}, {\"date\": \"2023-05-01T00:00:00\", \"variable\": \"average\", \"value\": 21.46}, {\"date\": \"2023-05-02T00:00:00\", \"variable\": \"average\", \"value\": 21.5}, {\"date\": \"2023-05-03T00:00:00\", \"variable\": \"average\", \"value\": 21.54}, {\"date\": \"2023-05-04T00:00:00\", \"variable\": \"average\", \"value\": 21.58}, {\"date\": \"2023-05-05T00:00:00\", \"variable\": \"average\", \"value\": 21.62}, {\"date\": \"2023-05-06T00:00:00\", \"variable\": \"average\", \"value\": 21.66}, {\"date\": \"2023-05-07T00:00:00\", \"variable\": \"average\", \"value\": 21.7}, {\"date\": \"2023-05-08T00:00:00\", \"variable\": \"average\", \"value\": 21.73}, {\"date\": \"2023-05-09T00:00:00\", \"variable\": \"average\", \"value\": 21.76}, {\"date\": \"2023-05-10T00:00:00\", \"variable\": \"average\", \"value\": 21.79}, {\"date\": \"2023-05-11T00:00:00\", \"variable\": \"average\", \"value\": 21.81}, {\"date\": \"2023-05-12T00:00:00\", \"variable\": \"average\", \"value\": 21.82}, {\"date\": \"2023-05-13T00:00:00\", \"variable\": \"average\", \"value\": 21.85}, {\"date\": \"2023-05-14T00:00:00\", \"variable\": \"average\", \"value\": 21.86}, {\"date\": \"2023-05-15T00:00:00\", \"variable\": \"average\", \"value\": 21.89}, {\"date\": \"2023-05-16T00:00:00\", \"variable\": \"average\", \"value\": 21.95}, {\"date\": \"2023-05-17T00:00:00\", \"variable\": \"average\", \"value\": 22.0}, {\"date\": \"2023-05-18T00:00:00\", \"variable\": \"average\", \"value\": 22.04}, {\"date\": \"2023-05-19T00:00:00\", \"variable\": \"average\", \"value\": 22.08}, {\"date\": \"2023-05-20T00:00:00\", \"variable\": \"average\", \"value\": 22.11}, {\"date\": \"2023-05-21T00:00:00\", \"variable\": \"average\", \"value\": 22.14}, {\"date\": \"2023-05-22T00:00:00\", \"variable\": \"average\", \"value\": 22.17}, {\"date\": \"2023-05-23T00:00:00\", \"variable\": \"average\", \"value\": 22.2}, {\"date\": \"2023-05-24T00:00:00\", \"variable\": \"average\", \"value\": 22.22}, {\"date\": \"2023-05-25T00:00:00\", \"variable\": \"average\", \"value\": 22.24}, {\"date\": \"2023-05-26T00:00:00\", \"variable\": \"average\", \"value\": 22.27}, {\"date\": \"2023-05-27T00:00:00\", \"variable\": \"average\", \"value\": 22.3}, {\"date\": \"2023-05-28T00:00:00\", \"variable\": \"average\", \"value\": 22.34}, {\"date\": \"2023-05-29T00:00:00\", \"variable\": \"average\", \"value\": 22.37}, {\"date\": \"2023-05-30T00:00:00\", \"variable\": \"average\", \"value\": 22.39}, {\"date\": \"2023-05-31T00:00:00\", \"variable\": \"average\", \"value\": 22.42}, {\"date\": \"2023-06-01T00:00:00\", \"variable\": \"average\", \"value\": 22.43}, {\"date\": \"2023-06-02T00:00:00\", \"variable\": \"average\", \"value\": 22.45}, {\"date\": \"2023-06-03T00:00:00\", \"variable\": \"average\", \"value\": 22.46}, {\"date\": \"2023-06-04T00:00:00\", \"variable\": \"average\", \"value\": 22.49}, {\"date\": \"2023-06-05T00:00:00\", \"variable\": \"average\", \"value\": 22.52}, {\"date\": \"2023-06-06T00:00:00\", \"variable\": \"average\", \"value\": 22.56}, {\"date\": \"2023-06-07T00:00:00\", \"variable\": \"average\", \"value\": 22.58}, {\"date\": \"2023-06-08T00:00:00\", \"variable\": \"average\", \"value\": 22.59}, {\"date\": \"2023-06-09T00:00:00\", \"variable\": \"average\", \"value\": 22.61}, {\"date\": \"2023-06-10T00:00:00\", \"variable\": \"average\", \"value\": 22.62}, {\"date\": \"2023-06-11T00:00:00\", \"variable\": \"average\", \"value\": 22.63}, {\"date\": \"2023-06-12T00:00:00\", \"variable\": \"average\", \"value\": 22.64}, {\"date\": \"2023-06-13T00:00:00\", \"variable\": \"average\", \"value\": 22.65}, {\"date\": \"2023-06-14T00:00:00\", \"variable\": \"average\", \"value\": 22.66}, {\"date\": \"2023-06-15T00:00:00\", \"variable\": \"average\", \"value\": 22.67}, {\"date\": \"2023-06-16T00:00:00\", \"variable\": \"average\", \"value\": 22.68}, {\"date\": \"2023-06-17T00:00:00\", \"variable\": \"average\", \"value\": 22.69}, {\"date\": \"2023-06-18T00:00:00\", \"variable\": \"average\", \"value\": 22.7}, {\"date\": \"2023-06-19T00:00:00\", \"variable\": \"average\", \"value\": 22.71}, {\"date\": \"2023-06-20T00:00:00\", \"variable\": \"average\", \"value\": 22.71}, {\"date\": \"2023-06-21T00:00:00\", \"variable\": \"average\", \"value\": 22.72}, {\"date\": \"2023-06-22T00:00:00\", \"variable\": \"average\", \"value\": 22.72}, {\"date\": \"2023-06-23T00:00:00\", \"variable\": \"average\", \"value\": 22.72}, {\"date\": \"2023-06-24T00:00:00\", \"variable\": \"average\", \"value\": 22.73}, {\"date\": \"2023-06-25T00:00:00\", \"variable\": \"average\", \"value\": 22.73}, {\"date\": \"2023-06-26T00:00:00\", \"variable\": \"average\", \"value\": 22.75}, {\"date\": \"2023-06-27T00:00:00\", \"variable\": \"average\", \"value\": 22.76}, {\"date\": \"2023-06-28T00:00:00\", \"variable\": \"average\", \"value\": 22.76}, {\"date\": \"2023-06-29T00:00:00\", \"variable\": \"average\", \"value\": 22.79}, {\"date\": \"2023-06-30T00:00:00\", \"variable\": \"average\", \"value\": 22.8}, {\"date\": \"2023-07-01T00:00:00\", \"variable\": \"average\", \"value\": 22.81}, {\"date\": \"2023-07-02T00:00:00\", \"variable\": \"average\", \"value\": 22.82}, {\"date\": \"2023-07-03T00:00:00\", \"variable\": \"average\", \"value\": 22.82}, {\"date\": \"2023-07-04T00:00:00\", \"variable\": \"average\", \"value\": 22.82}, {\"date\": \"2023-07-05T00:00:00\", \"variable\": \"average\", \"value\": 22.82}, {\"date\": \"2023-07-06T00:00:00\", \"variable\": \"average\", \"value\": 22.83}, {\"date\": \"2023-07-07T00:00:00\", \"variable\": \"average\", \"value\": 22.83}, {\"date\": \"2023-07-08T00:00:00\", \"variable\": \"average\", \"value\": 22.84}, {\"date\": \"2023-07-09T00:00:00\", \"variable\": \"average\", \"value\": 22.84}, {\"date\": \"2023-07-10T00:00:00\", \"variable\": \"average\", \"value\": 22.85}, {\"date\": \"2023-07-11T00:00:00\", \"variable\": \"average\", \"value\": 22.85}, {\"date\": \"2023-07-12T00:00:00\", \"variable\": \"average\", \"value\": 22.86}, {\"date\": \"2023-07-13T00:00:00\", \"variable\": \"average\", \"value\": 22.87}, {\"date\": \"2023-07-14T00:00:00\", \"variable\": \"average\", \"value\": 22.88}, {\"date\": \"2023-07-15T00:00:00\", \"variable\": \"average\", \"value\": 22.88}, {\"date\": \"2023-07-16T00:00:00\", \"variable\": \"average\", \"value\": 22.89}, {\"date\": \"2023-07-17T00:00:00\", \"variable\": \"average\", \"value\": 22.89}, {\"date\": \"2023-07-18T00:00:00\", \"variable\": \"average\", \"value\": 22.91}, {\"date\": \"2023-07-19T00:00:00\", \"variable\": \"average\", \"value\": 22.92}, {\"date\": \"2023-07-20T00:00:00\", \"variable\": \"average\", \"value\": 22.93}, {\"date\": \"2023-07-21T00:00:00\", \"variable\": \"average\", \"value\": 22.94}, {\"date\": \"2023-07-22T00:00:00\", \"variable\": \"average\", \"value\": 22.95}, {\"date\": \"2023-07-23T00:00:00\", \"variable\": \"average\", \"value\": 22.96}, {\"date\": \"2023-07-24T00:00:00\", \"variable\": \"average\", \"value\": 22.97}, {\"date\": \"2023-07-25T00:00:00\", \"variable\": \"average\", \"value\": 22.97}, {\"date\": \"2023-07-26T00:00:00\", \"variable\": \"average\", \"value\": 22.98}, {\"date\": \"2023-07-27T00:00:00\", \"variable\": \"average\", \"value\": 22.99}, {\"date\": \"2023-07-28T00:00:00\", \"variable\": \"average\", \"value\": 23.0}, {\"date\": \"2023-07-29T00:00:00\", \"variable\": \"average\", \"value\": 23.0}, {\"date\": \"2023-07-30T00:00:00\", \"variable\": \"average\", \"value\": 23.01}, {\"date\": \"2023-07-31T00:00:00\", \"variable\": \"average\", \"value\": 23.01}, {\"date\": \"2023-08-01T00:00:00\", \"variable\": \"average\", \"value\": 23.02}, {\"date\": \"2023-08-02T00:00:00\", \"variable\": \"average\", \"value\": 23.03}, {\"date\": \"2023-08-03T00:00:00\", \"variable\": \"average\", \"value\": 23.04}, {\"date\": \"2023-08-04T00:00:00\", \"variable\": \"average\", \"value\": 23.04}, {\"date\": \"2023-08-05T00:00:00\", \"variable\": \"average\", \"value\": 23.05}, {\"date\": \"2023-08-06T00:00:00\", \"variable\": \"average\", \"value\": 23.05}, {\"date\": \"2023-08-07T00:00:00\", \"variable\": \"average\", \"value\": 23.06}, {\"date\": \"2023-08-08T00:00:00\", \"variable\": \"average\", \"value\": 23.07}, {\"date\": \"2023-08-09T00:00:00\", \"variable\": \"average\", \"value\": 23.07}, {\"date\": \"2023-08-10T00:00:00\", \"variable\": \"average\", \"value\": 23.08}, {\"date\": \"2023-08-11T00:00:00\", \"variable\": \"average\", \"value\": 23.09}, {\"date\": \"2023-08-12T00:00:00\", \"variable\": \"average\", \"value\": 23.09}, {\"date\": \"2023-08-13T00:00:00\", \"variable\": \"average\", \"value\": 23.1}, {\"date\": \"2023-08-14T00:00:00\", \"variable\": \"average\", \"value\": 23.1}, {\"date\": \"2023-08-15T00:00:00\", \"variable\": \"average\", \"value\": 23.12}, {\"date\": \"2023-08-16T00:00:00\", \"variable\": \"average\", \"value\": 23.13}, {\"date\": \"2023-08-17T00:00:00\", \"variable\": \"average\", \"value\": 23.13}, {\"date\": \"2023-08-18T00:00:00\", \"variable\": \"average\", \"value\": 23.15}, {\"date\": \"2023-08-19T00:00:00\", \"variable\": \"average\", \"value\": 23.16}, {\"date\": \"2023-08-20T00:00:00\", \"variable\": \"average\", \"value\": 23.17}, {\"date\": \"2023-08-21T00:00:00\", \"variable\": \"average\", \"value\": 23.18}, {\"date\": \"2023-08-22T00:00:00\", \"variable\": \"average\", \"value\": 23.19}, {\"date\": \"2023-08-23T00:00:00\", \"variable\": \"average\", \"value\": 23.2}, {\"date\": \"2023-08-24T00:00:00\", \"variable\": \"average\", \"value\": 23.2}, {\"date\": \"2023-08-25T00:00:00\", \"variable\": \"average\", \"value\": 23.21}, {\"date\": \"2023-08-26T00:00:00\", \"variable\": \"average\", \"value\": 23.22}, {\"date\": \"2023-08-27T00:00:00\", \"variable\": \"average\", \"value\": 23.23}, {\"date\": \"2023-08-28T00:00:00\", \"variable\": \"average\", \"value\": 23.23}, {\"date\": \"2023-08-29T00:00:00\", \"variable\": \"average\", \"value\": 23.24}, {\"date\": \"2023-08-30T00:00:00\", \"variable\": \"average\", \"value\": 23.25}, {\"date\": \"2023-08-31T00:00:00\", \"variable\": \"average\", \"value\": 23.27}, {\"date\": \"2023-09-01T00:00:00\", \"variable\": \"average\", \"value\": 23.27}, {\"date\": \"2023-09-02T00:00:00\", \"variable\": \"average\", \"value\": 23.28}, {\"date\": \"2023-09-03T00:00:00\", \"variable\": \"average\", \"value\": 23.29}, {\"date\": \"2023-09-04T00:00:00\", \"variable\": \"average\", \"value\": 23.3}, {\"date\": \"2023-09-05T00:00:00\", \"variable\": \"average\", \"value\": 23.31}, {\"date\": \"2023-09-06T00:00:00\", \"variable\": \"average\", \"value\": 23.31}, {\"date\": \"2023-09-07T00:00:00\", \"variable\": \"average\", \"value\": 23.32}, {\"date\": \"2023-09-08T00:00:00\", \"variable\": \"average\", \"value\": 23.33}, {\"date\": \"2023-09-09T00:00:00\", \"variable\": \"average\", \"value\": 23.34}, {\"date\": \"2023-09-10T00:00:00\", \"variable\": \"average\", \"value\": 23.36}, {\"date\": \"2023-09-11T00:00:00\", \"variable\": \"average\", \"value\": 23.36}, {\"date\": \"2023-09-12T00:00:00\", \"variable\": \"average\", \"value\": 23.37}, {\"date\": \"2023-09-13T00:00:00\", \"variable\": \"average\", \"value\": 23.37}, {\"date\": \"2023-09-14T00:00:00\", \"variable\": \"average\", \"value\": 23.38}, {\"date\": \"2023-09-15T00:00:00\", \"variable\": \"average\", \"value\": 23.39}, {\"date\": \"2023-09-16T00:00:00\", \"variable\": \"average\", \"value\": 23.41}, {\"date\": \"2023-09-17T00:00:00\", \"variable\": \"average\", \"value\": 23.44}, {\"date\": \"2023-09-18T00:00:00\", \"variable\": \"average\", \"value\": 23.47}, {\"date\": \"2023-09-19T00:00:00\", \"variable\": \"average\", \"value\": 23.5}, {\"date\": \"2023-09-20T00:00:00\", \"variable\": \"average\", \"value\": 23.52}, {\"date\": \"2023-09-21T00:00:00\", \"variable\": \"average\", \"value\": 23.53}, {\"date\": \"2023-09-22T00:00:00\", \"variable\": \"average\", \"value\": 23.55}, {\"date\": \"2023-09-23T00:00:00\", \"variable\": \"average\", \"value\": 23.57}, {\"date\": \"2023-09-24T00:00:00\", \"variable\": \"average\", \"value\": 23.58}, {\"date\": \"2023-09-25T00:00:00\", \"variable\": \"average\", \"value\": 23.62}, {\"date\": \"2023-09-26T00:00:00\", \"variable\": \"average\", \"value\": 23.65}, {\"date\": \"2023-09-27T00:00:00\", \"variable\": \"average\", \"value\": 23.67}, {\"date\": \"2023-09-28T00:00:00\", \"variable\": \"average\", \"value\": 23.68}, {\"date\": \"2023-09-29T00:00:00\", \"variable\": \"average\", \"value\": 23.69}, {\"date\": \"2023-09-30T00:00:00\", \"variable\": \"average\", \"value\": 23.72}]}}, {\"mode\": \"vega-lite\"});\n",
       "</script>"
      ],
      "text/plain": [
       "alt.Chart(...)"
      ]
     },
     "execution_count": 206,
     "metadata": {},
     "output_type": "execute_result"
    }
   ],
   "source": [
    "alt.Chart(line_chart).mark_line().encode(\n",
    "    x=\"date:T\",\n",
    "    y=\"value\",\n",
    "    color=\"variable\",\n",
    ").properties(\n",
    "    title=f\"California precipitation in {today.year} compared to average\",\n",
    "    width=600\n",
    ")"
   ]
  },
  {
   "cell_type": "markdown",
   "id": "0a4242e0-5067-4897-a2a1-0de60c86f895",
   "metadata": {},
   "source": [
    "### Export"
   ]
  },
  {
   "cell_type": "code",
   "execution_count": 207,
   "id": "d1638d26-239b-4dad-a0a0-2b674c4103b5",
   "metadata": {},
   "outputs": [],
   "source": [
    "gauge.to_csv(\"../../data/processed/precipitation/latest.csv\", index=False)"
   ]
  }
 ],
 "metadata": {
  "kernelspec": {
   "display_name": "Python 3 (ipykernel)",
   "language": "python",
   "name": "python3"
  },
  "language_info": {
   "codemirror_mode": {
    "name": "ipython",
    "version": 3
   },
   "file_extension": ".py",
   "mimetype": "text/x-python",
   "name": "python",
   "nbconvert_exporter": "python",
   "pygments_lexer": "ipython3",
   "version": "3.9.16"
  }
 },
 "nbformat": 4,
 "nbformat_minor": 5
}
