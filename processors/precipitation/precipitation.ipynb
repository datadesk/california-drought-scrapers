{
 "cells": [
  {
   "cell_type": "code",
   "execution_count": 346,
   "id": "9f37470b-9ca2-42b8-8cf4-13de43819f1b",
   "metadata": {},
   "outputs": [],
   "source": [
    "import requests as re\n",
    "import pandas as pd\n",
    "import datetime\n",
    "import altair as alt\n",
    "import altair_latimes as lat"
   ]
  },
  {
   "cell_type": "code",
   "execution_count": 347,
   "id": "6c83ddac-e892-4772-bf2e-89e89f1bdb7b",
   "metadata": {},
   "outputs": [
    {
     "data": {
      "text/plain": [
       "ThemeRegistry.enable('latimes')"
      ]
     },
     "execution_count": 347,
     "metadata": {},
     "output_type": "execute_result"
    }
   ],
   "source": [
    "alt.themes.register('latimes', lat.theme)\n",
    "alt.themes.enable('latimes')"
   ]
  },
  {
   "cell_type": "markdown",
   "id": "a743b325-cdd6-48f1-9cfe-a2a07b7ea038",
   "metadata": {},
   "source": [
    "### Download\n",
    "Source: [California Water Watch](https://cww.water.ca.gov/), PRISM"
   ]
  },
  {
   "cell_type": "markdown",
   "id": "9c815649-adc3-4d3c-a540-e2f02452ee55",
   "metadata": {},
   "source": [
    "Some parameters"
   ]
  },
  {
   "cell_type": "code",
   "execution_count": 348,
   "id": "a5e0a0b7-0b69-4d57-bb15-79366a309ef8",
   "metadata": {},
   "outputs": [
    {
     "data": {
      "text/plain": [
       "datetime.date(2024, 2, 8)"
      ]
     },
     "execution_count": 348,
     "metadata": {},
     "output_type": "execute_result"
    }
   ],
   "source": [
    "today = datetime.date.today()\n",
    "today"
   ]
  },
  {
   "cell_type": "code",
   "execution_count": 349,
   "id": "07dff571-aff2-43c7-ba19-9a189ef565f4",
   "metadata": {},
   "outputs": [
    {
     "data": {
      "text/plain": [
       "datetime.datetime(2023, 2, 8, 12, 28, 50, 705787)"
      ]
     },
     "execution_count": 349,
     "metadata": {},
     "output_type": "execute_result"
    }
   ],
   "source": [
    "one_year_ago = datetime.datetime.today() - datetime.timedelta(days=365)\n",
    "one_year_ago"
   ]
  },
  {
   "cell_type": "code",
   "execution_count": 350,
   "id": "8e5ca762-dc58-476b-b793-415c8e07ccae",
   "metadata": {},
   "outputs": [],
   "source": [
    "atlasID=\"Statewide\"\n",
    "varKey=\"PPT_YTD\""
   ]
  },
  {
   "cell_type": "markdown",
   "id": "62b357ee-f89a-4755-80c8-9c2d77406972",
   "metadata": {},
   "source": [
    "Query"
   ]
  },
  {
   "cell_type": "code",
   "execution_count": 351,
   "id": "b3ef8244-17f7-4687-b02d-10dd1f1bfad4",
   "metadata": {},
   "outputs": [],
   "source": [
    "url = f'https://cww.water.ca.gov/service/prism/huc8/precipstats?date={today}&atlasID={atlasID}&varKey={varKey}'"
   ]
  },
  {
   "cell_type": "code",
   "execution_count": 352,
   "id": "407d0a53-a4ca-43be-9a86-cd69c39ce340",
   "metadata": {},
   "outputs": [],
   "source": [
    "data = re.get(url).json()['data']"
   ]
  },
  {
   "cell_type": "markdown",
   "id": "7eee845f-3bdb-4b90-9cc2-073d6dbb07a5",
   "metadata": {},
   "source": [
    "Query one year ago"
   ]
  },
  {
   "cell_type": "code",
   "execution_count": 353,
   "id": "8f0663d8-6843-4547-a322-8cddcba5dce2",
   "metadata": {},
   "outputs": [],
   "source": [
    "last_year_url = f'https://cww.water.ca.gov/service/prism/huc8/precipstats?date={one_year_ago}&atlasID={atlasID}&varKey={varKey}'"
   ]
  },
  {
   "cell_type": "code",
   "execution_count": 354,
   "id": "00fe4667-47b8-4306-bfe5-adbca4ecd73b",
   "metadata": {},
   "outputs": [],
   "source": [
    "last_year_data = re.get(last_year_url).json()['data']"
   ]
  },
  {
   "cell_type": "markdown",
   "id": "fca38fbf-850b-486f-9d9f-c6354611a48e",
   "metadata": {},
   "source": [
    "### Parse"
   ]
  },
  {
   "cell_type": "code",
   "execution_count": 355,
   "id": "efd2da6a-2466-4194-a065-f2ba999ac229",
   "metadata": {},
   "outputs": [],
   "source": [
    "def parsePrecipStats(data):\n",
    "    columns = data['seriesNames']\n",
    "    columns.insert(0, \"date\")\n",
    "    \n",
    "    df = pd.DataFrame(data['series'], columns=columns)\n",
    "    df.columns = df.columns.str.lower()\n",
    "    df['date'] = pd.to_datetime(df['date'])\n",
    "    \n",
    "    return df"
   ]
  },
  {
   "cell_type": "code",
   "execution_count": 356,
   "id": "2f51fd8b-7999-4b91-a1a9-0204dacebad7",
   "metadata": {},
   "outputs": [],
   "source": [
    "df = parsePrecipStats(data)"
   ]
  },
  {
   "cell_type": "code",
   "execution_count": 357,
   "id": "c7ba3e7c-5d00-41bd-acb3-ee2b35ff8de0",
   "metadata": {},
   "outputs": [],
   "source": [
    "last_year_df = parsePrecipStats(last_year_data)"
   ]
  },
  {
   "cell_type": "markdown",
   "id": "aff95d46-3fc0-446e-89f3-38573f9b642e",
   "metadata": {},
   "source": [
    "## Get toplines"
   ]
  },
  {
   "cell_type": "code",
   "execution_count": 358,
   "id": "4b1a854a-b022-4bd8-b8b6-fdd83de730bd",
   "metadata": {},
   "outputs": [
    {
     "data": {
      "text/plain": [
       "3.15"
      ]
     },
     "execution_count": 358,
     "metadata": {},
     "output_type": "execute_result"
    }
   ],
   "source": [
    "prcp_min=data['min']\n",
    "prcp_min"
   ]
  },
  {
   "cell_type": "code",
   "execution_count": 359,
   "id": "ff25d8b7-abcf-44e7-a93a-f75651aee56e",
   "metadata": {},
   "outputs": [
    {
     "data": {
      "text/plain": [
       "13.26"
      ]
     },
     "execution_count": 359,
     "metadata": {},
     "output_type": "execute_result"
    }
   ],
   "source": [
    "prcp_avg=data['avg']\n",
    "prcp_avg"
   ]
  },
  {
   "cell_type": "code",
   "execution_count": 360,
   "id": "8178f4fc-d458-45b2-8fc4-1d0ef45cc5b6",
   "metadata": {},
   "outputs": [
    {
     "data": {
      "text/plain": [
       "25.39"
      ]
     },
     "execution_count": 360,
     "metadata": {},
     "output_type": "execute_result"
    }
   ],
   "source": [
    "prcp_max=data['max']\n",
    "prcp_max"
   ]
  },
  {
   "cell_type": "code",
   "execution_count": 361,
   "id": "5077c349-e63e-4f8a-92ae-f9288af1f26c",
   "metadata": {},
   "outputs": [
    {
     "data": {
      "text/plain": [
       "23.75"
      ]
     },
     "execution_count": 361,
     "metadata": {},
     "output_type": "execute_result"
    }
   ],
   "source": [
    "year_end_avg = data['yearEndAvg']\n",
    "year_end_avg"
   ]
  },
  {
   "cell_type": "markdown",
   "id": "916b285b-6789-4322-8c8e-ed347f88880c",
   "metadata": {},
   "source": [
    "### Plot"
   ]
  },
  {
   "cell_type": "code",
   "execution_count": 362,
   "id": "fd9e5a91-ad15-47fb-99d4-344ef1a787bc",
   "metadata": {},
   "outputs": [],
   "source": [
    "gauge = df[\n",
    "    (~df.current.isna())\n",
    "]"
   ]
  },
  {
   "cell_type": "code",
   "execution_count": 363,
   "id": "e64c9795-4443-4e4d-bc01-848a7d309c51",
   "metadata": {},
   "outputs": [],
   "source": [
    "gauge = gauge[gauge.date == gauge.date.max()]"
   ]
  },
  {
   "cell_type": "code",
   "execution_count": 364,
   "id": "54c5ae0a-8084-4b36-b9f9-178920fdae5f",
   "metadata": {},
   "outputs": [],
   "source": [
    "gauge[\"record\"] = prcp_max"
   ]
  },
  {
   "cell_type": "code",
   "execution_count": 365,
   "id": "0bc96b18-6950-4ee7-bf33-a5e791afbb78",
   "metadata": {},
   "outputs": [],
   "source": [
    "gauge[\"pct_of_avg\"] = (gauge[\"current\"] / gauge[\"average\"]) * 100"
   ]
  },
  {
   "cell_type": "markdown",
   "id": "7b94bf9e-5232-4a1a-bd6f-6d9eed0c8067",
   "metadata": {},
   "source": [
    "Last year"
   ]
  },
  {
   "cell_type": "code",
   "execution_count": 366,
   "id": "416eeafc-6ed4-44dd-b29b-4907eb803c20",
   "metadata": {},
   "outputs": [],
   "source": [
    "total_last_year = last_year_df[ last_year_df.date == gauge.date.max() ].iloc[0][\"current\"]"
   ]
  },
  {
   "cell_type": "code",
   "execution_count": 367,
   "id": "296156a7-e946-4cb2-a080-ba627ce5036f",
   "metadata": {},
   "outputs": [],
   "source": [
    "gauge[\"one_year_ago\"] = total_last_year"
   ]
  },
  {
   "cell_type": "code",
   "execution_count": 368,
   "id": "9319b5b2-9af1-45d6-84f5-fbc61748fb48",
   "metadata": {},
   "outputs": [
    {
     "data": {
      "text/html": [
       "<div>\n",
       "<style scoped>\n",
       "    .dataframe tbody tr th:only-of-type {\n",
       "        vertical-align: middle;\n",
       "    }\n",
       "\n",
       "    .dataframe tbody tr th {\n",
       "        vertical-align: top;\n",
       "    }\n",
       "\n",
       "    .dataframe thead th {\n",
       "        text-align: right;\n",
       "    }\n",
       "</style>\n",
       "<table border=\"1\" class=\"dataframe\">\n",
       "  <thead>\n",
       "    <tr style=\"text-align: right;\">\n",
       "      <th></th>\n",
       "      <th>date</th>\n",
       "      <th>current</th>\n",
       "      <th>average</th>\n",
       "      <th>record</th>\n",
       "      <th>pct_of_avg</th>\n",
       "      <th>one_year_ago</th>\n",
       "    </tr>\n",
       "  </thead>\n",
       "  <tbody>\n",
       "    <tr>\n",
       "      <th>129</th>\n",
       "      <td>2024-02-07</td>\n",
       "      <td>13.37</td>\n",
       "      <td>13.1</td>\n",
       "      <td>25.39</td>\n",
       "      <td>102.061069</td>\n",
       "      <td>18.8</td>\n",
       "    </tr>\n",
       "  </tbody>\n",
       "</table>\n",
       "</div>"
      ],
      "text/plain": [
       "          date  current  average  record  pct_of_avg  one_year_ago\n",
       "129 2024-02-07    13.37     13.1   25.39  102.061069          18.8"
      ]
     },
     "execution_count": 368,
     "metadata": {},
     "output_type": "execute_result"
    }
   ],
   "source": [
    "gauge"
   ]
  },
  {
   "cell_type": "code",
   "execution_count": 369,
   "id": "d2097f6a-cb2a-4e97-b2de-e65db88aaf5a",
   "metadata": {},
   "outputs": [
    {
     "data": {
      "text/html": [
       "\n",
       "<div id=\"altair-viz-620fa87695c04eb493121ba6c4267f75\"></div>\n",
       "<script type=\"text/javascript\">\n",
       "  var VEGA_DEBUG = (typeof VEGA_DEBUG == \"undefined\") ? {} : VEGA_DEBUG;\n",
       "  (function(spec, embedOpt){\n",
       "    let outputDiv = document.currentScript.previousElementSibling;\n",
       "    if (outputDiv.id !== \"altair-viz-620fa87695c04eb493121ba6c4267f75\") {\n",
       "      outputDiv = document.getElementById(\"altair-viz-620fa87695c04eb493121ba6c4267f75\");\n",
       "    }\n",
       "    const paths = {\n",
       "      \"vega\": \"https://cdn.jsdelivr.net/npm//vega@5?noext\",\n",
       "      \"vega-lib\": \"https://cdn.jsdelivr.net/npm//vega-lib?noext\",\n",
       "      \"vega-lite\": \"https://cdn.jsdelivr.net/npm//vega-lite@4.17.0?noext\",\n",
       "      \"vega-embed\": \"https://cdn.jsdelivr.net/npm//vega-embed@6?noext\",\n",
       "    };\n",
       "\n",
       "    function maybeLoadScript(lib, version) {\n",
       "      var key = `${lib.replace(\"-\", \"\")}_version`;\n",
       "      return (VEGA_DEBUG[key] == version) ?\n",
       "        Promise.resolve(paths[lib]) :\n",
       "        new Promise(function(resolve, reject) {\n",
       "          var s = document.createElement('script');\n",
       "          document.getElementsByTagName(\"head\")[0].appendChild(s);\n",
       "          s.async = true;\n",
       "          s.onload = () => {\n",
       "            VEGA_DEBUG[key] = version;\n",
       "            return resolve(paths[lib]);\n",
       "          };\n",
       "          s.onerror = () => reject(`Error loading script: ${paths[lib]}`);\n",
       "          s.src = paths[lib];\n",
       "        });\n",
       "    }\n",
       "\n",
       "    function showError(err) {\n",
       "      outputDiv.innerHTML = `<div class=\"error\" style=\"color:red;\">${err}</div>`;\n",
       "      throw err;\n",
       "    }\n",
       "\n",
       "    function displayChart(vegaEmbed) {\n",
       "      vegaEmbed(outputDiv, spec, embedOpt)\n",
       "        .catch(err => showError(`Javascript Error: ${err.message}<br>This usually means there's a typo in your chart specification. See the javascript console for the full traceback.`));\n",
       "    }\n",
       "\n",
       "    if(typeof define === \"function\" && define.amd) {\n",
       "      requirejs.config({paths});\n",
       "      require([\"vega-embed\"], displayChart, err => showError(`Error loading script: ${err.message}`));\n",
       "    } else {\n",
       "      maybeLoadScript(\"vega\", \"5\")\n",
       "        .then(() => maybeLoadScript(\"vega-lite\", \"4.17.0\"))\n",
       "        .then(() => maybeLoadScript(\"vega-embed\", \"6\"))\n",
       "        .catch(showError)\n",
       "        .then(() => displayChart(vegaEmbed));\n",
       "    }\n",
       "  })({\"config\": {\"view\": {\"width\": 800, \"height\": 450}, \"background\": \"#ffffff\", \"title\": {\"anchor\": \"start\", \"font\": \"BentonGothic-Bold, sans\", \"fontColor\": \"#000000\", \"fontSize\": 22, \"fontWeight\": \"normal\"}, \"arc\": {\"fill\": \"#82c6df\"}, \"area\": {\"fill\": \"#82c6df\"}, \"line\": {\"stroke\": \"#82c6df\", \"strokeWidth\": 3}, \"path\": {\"stroke\": \"#82c6df\"}, \"rect\": {\"fill\": \"#82c6df\"}, \"shape\": {\"stroke\": \"#82c6df\"}, \"bar\": {\"fill\": \"#82c6df\"}, \"point\": {\"stroke\": \"#82c6df\"}, \"symbol\": {\"fill\": \"#82c6df\", \"size\": 30}, \"axis\": {\"titleFont\": \"BentonGothic-Bold, sans\", \"titleFontSize\": 14, \"titleFontWeight\": \"normal\", \"labelFont\": \"BentonGothic, sans\", \"labelFontSize\": 12, \"labelFontWeight\": \"normal\"}, \"axisX\": {\"labelAngle\": 0, \"labelPadding\": 4, \"tickSize\": 3}, \"axisY\": {\"labelBaseline\": \"middle\", \"maxExtent\": 45, \"minExtent\": 45, \"tickSize\": 2, \"titleAlign\": \"left\", \"titleAngle\": 0, \"titleX\": -45, \"titleY\": -11}, \"legend\": {\"titleFont\": \"BentonGothic-Bold, sans\", \"titleFontSize\": 14, \"titleFontWeight\": \"normal\", \"symbolType\": \"square\", \"labelFont\": \"BentonGothic, sans\", \"labelFontSize\": 13}, \"range\": {\"category\": [\"#3580b1\", \"#ec8431\", \"#ab7fb4\", \"#c89d29\", \"#adc839\", \"#829eb1\"], \"diverging\": [\"#e68a4f\", \"#f4bb6a\", \"#f9e39c\", \"#dadfe2\", \"#a6b7c6\", \"#849eae\"], \"heatmap\": [\"#fbf2c7\", \"#f9e39c\", \"#f8d36e\", \"#f4bb6a\", \"#e68a4f\", \"#d15a40\", \"#ab4232\"], \"ordinal\": [\"#fbf2c7\", \"#f9e39c\", \"#f8d36e\", \"#f4bb6a\", \"#e68a4f\", \"#d15a40\", \"#ab4232\"], \"ramp\": [\"#fbf2c7\", \"#f9e39c\", \"#f8d36e\", \"#f4bb6a\", \"#e68a4f\", \"#d15a40\", \"#ab4232\"]}}, \"data\": {\"name\": \"data-bfb5274274156b5ae03da2a29ff58606\"}, \"mark\": \"bar\", \"encoding\": {\"color\": {\"field\": \"variable\", \"type\": \"nominal\"}, \"x\": {\"field\": \"value\", \"type\": \"quantitative\"}, \"y\": {\"field\": \"variable\", \"sort\": \"-x\", \"type\": \"nominal\"}}, \"height\": 200, \"title\": \"Year-to-date precipitation in California compared to average\", \"width\": 600, \"$schema\": \"https://vega.github.io/schema/vega-lite/v4.17.0.json\", \"datasets\": {\"data-bfb5274274156b5ae03da2a29ff58606\": [{\"date\": \"2024-02-07T00:00:00\", \"variable\": \"current\", \"value\": 13.37}, {\"date\": \"2024-02-07T00:00:00\", \"variable\": \"average\", \"value\": 13.1}, {\"date\": \"2024-02-07T00:00:00\", \"variable\": \"one_year_ago\", \"value\": 18.8}]}}, {\"mode\": \"vega-lite\"});\n",
       "</script>"
      ],
      "text/plain": [
       "alt.Chart(...)"
      ]
     },
     "execution_count": 369,
     "metadata": {},
     "output_type": "execute_result"
    }
   ],
   "source": [
    "alt.Chart(\n",
    "    pd.melt(gauge, id_vars=\"date\", value_vars=[\"current\",\"average\",\"one_year_ago\"])\n",
    ").mark_bar().encode(\n",
    "    x=\"value\",\n",
    "    y=alt.Y(\"variable\", sort=\"-x\"),\n",
    "    color=\"variable\"\n",
    ").properties(\n",
    "    title=\"Year-to-date precipitation in California compared to average\",\n",
    "    width=600,\n",
    "    height=200\n",
    ")"
   ]
  },
  {
   "cell_type": "code",
   "execution_count": 370,
   "id": "4bcd403f-512c-4de2-a295-0d83e682d900",
   "metadata": {},
   "outputs": [],
   "source": [
    "line_chart = pd.melt(df, id_vars=\"date\", value_vars=[\"current\",\"average\"])"
   ]
  },
  {
   "cell_type": "code",
   "execution_count": 371,
   "id": "1eb6e495-0c74-469a-b31a-e0bc16123b53",
   "metadata": {},
   "outputs": [
    {
     "data": {
      "text/html": [
       "\n",
       "<div id=\"altair-viz-aff0d71facd94f9d888763e045b59ac2\"></div>\n",
       "<script type=\"text/javascript\">\n",
       "  var VEGA_DEBUG = (typeof VEGA_DEBUG == \"undefined\") ? {} : VEGA_DEBUG;\n",
       "  (function(spec, embedOpt){\n",
       "    let outputDiv = document.currentScript.previousElementSibling;\n",
       "    if (outputDiv.id !== \"altair-viz-aff0d71facd94f9d888763e045b59ac2\") {\n",
       "      outputDiv = document.getElementById(\"altair-viz-aff0d71facd94f9d888763e045b59ac2\");\n",
       "    }\n",
       "    const paths = {\n",
       "      \"vega\": \"https://cdn.jsdelivr.net/npm//vega@5?noext\",\n",
       "      \"vega-lib\": \"https://cdn.jsdelivr.net/npm//vega-lib?noext\",\n",
       "      \"vega-lite\": \"https://cdn.jsdelivr.net/npm//vega-lite@4.17.0?noext\",\n",
       "      \"vega-embed\": \"https://cdn.jsdelivr.net/npm//vega-embed@6?noext\",\n",
       "    };\n",
       "\n",
       "    function maybeLoadScript(lib, version) {\n",
       "      var key = `${lib.replace(\"-\", \"\")}_version`;\n",
       "      return (VEGA_DEBUG[key] == version) ?\n",
       "        Promise.resolve(paths[lib]) :\n",
       "        new Promise(function(resolve, reject) {\n",
       "          var s = document.createElement('script');\n",
       "          document.getElementsByTagName(\"head\")[0].appendChild(s);\n",
       "          s.async = true;\n",
       "          s.onload = () => {\n",
       "            VEGA_DEBUG[key] = version;\n",
       "            return resolve(paths[lib]);\n",
       "          };\n",
       "          s.onerror = () => reject(`Error loading script: ${paths[lib]}`);\n",
       "          s.src = paths[lib];\n",
       "        });\n",
       "    }\n",
       "\n",
       "    function showError(err) {\n",
       "      outputDiv.innerHTML = `<div class=\"error\" style=\"color:red;\">${err}</div>`;\n",
       "      throw err;\n",
       "    }\n",
       "\n",
       "    function displayChart(vegaEmbed) {\n",
       "      vegaEmbed(outputDiv, spec, embedOpt)\n",
       "        .catch(err => showError(`Javascript Error: ${err.message}<br>This usually means there's a typo in your chart specification. See the javascript console for the full traceback.`));\n",
       "    }\n",
       "\n",
       "    if(typeof define === \"function\" && define.amd) {\n",
       "      requirejs.config({paths});\n",
       "      require([\"vega-embed\"], displayChart, err => showError(`Error loading script: ${err.message}`));\n",
       "    } else {\n",
       "      maybeLoadScript(\"vega\", \"5\")\n",
       "        .then(() => maybeLoadScript(\"vega-lite\", \"4.17.0\"))\n",
       "        .then(() => maybeLoadScript(\"vega-embed\", \"6\"))\n",
       "        .catch(showError)\n",
       "        .then(() => displayChart(vegaEmbed));\n",
       "    }\n",
       "  })({\"config\": {\"view\": {\"width\": 800, \"height\": 450}, \"background\": \"#ffffff\", \"title\": {\"anchor\": \"start\", \"font\": \"BentonGothic-Bold, sans\", \"fontColor\": \"#000000\", \"fontSize\": 22, \"fontWeight\": \"normal\"}, \"arc\": {\"fill\": \"#82c6df\"}, \"area\": {\"fill\": \"#82c6df\"}, \"line\": {\"stroke\": \"#82c6df\", \"strokeWidth\": 3}, \"path\": {\"stroke\": \"#82c6df\"}, \"rect\": {\"fill\": \"#82c6df\"}, \"shape\": {\"stroke\": \"#82c6df\"}, \"bar\": {\"fill\": \"#82c6df\"}, \"point\": {\"stroke\": \"#82c6df\"}, \"symbol\": {\"fill\": \"#82c6df\", \"size\": 30}, \"axis\": {\"titleFont\": \"BentonGothic-Bold, sans\", \"titleFontSize\": 14, \"titleFontWeight\": \"normal\", \"labelFont\": \"BentonGothic, sans\", \"labelFontSize\": 12, \"labelFontWeight\": \"normal\"}, \"axisX\": {\"labelAngle\": 0, \"labelPadding\": 4, \"tickSize\": 3}, \"axisY\": {\"labelBaseline\": \"middle\", \"maxExtent\": 45, \"minExtent\": 45, \"tickSize\": 2, \"titleAlign\": \"left\", \"titleAngle\": 0, \"titleX\": -45, \"titleY\": -11}, \"legend\": {\"titleFont\": \"BentonGothic-Bold, sans\", \"titleFontSize\": 14, \"titleFontWeight\": \"normal\", \"symbolType\": \"square\", \"labelFont\": \"BentonGothic, sans\", \"labelFontSize\": 13}, \"range\": {\"category\": [\"#3580b1\", \"#ec8431\", \"#ab7fb4\", \"#c89d29\", \"#adc839\", \"#829eb1\"], \"diverging\": [\"#e68a4f\", \"#f4bb6a\", \"#f9e39c\", \"#dadfe2\", \"#a6b7c6\", \"#849eae\"], \"heatmap\": [\"#fbf2c7\", \"#f9e39c\", \"#f8d36e\", \"#f4bb6a\", \"#e68a4f\", \"#d15a40\", \"#ab4232\"], \"ordinal\": [\"#fbf2c7\", \"#f9e39c\", \"#f8d36e\", \"#f4bb6a\", \"#e68a4f\", \"#d15a40\", \"#ab4232\"], \"ramp\": [\"#fbf2c7\", \"#f9e39c\", \"#f8d36e\", \"#f4bb6a\", \"#e68a4f\", \"#d15a40\", \"#ab4232\"]}}, \"data\": {\"name\": \"data-8bda42502a544a2258601aa5a84929d1\"}, \"mark\": \"line\", \"encoding\": {\"color\": {\"field\": \"variable\", \"type\": \"nominal\"}, \"x\": {\"field\": \"date\", \"type\": \"temporal\"}, \"y\": {\"field\": \"value\", \"type\": \"quantitative\"}}, \"title\": \"California precipitation in 2024 compared to average\", \"width\": 600, \"$schema\": \"https://vega.github.io/schema/vega-lite/v4.17.0.json\", \"datasets\": {\"data-8bda42502a544a2258601aa5a84929d1\": [{\"date\": \"2023-10-01T00:00:00\", \"variable\": \"current\", \"value\": 0.08}, {\"date\": \"2023-10-02T00:00:00\", \"variable\": \"current\", \"value\": 0.1}, {\"date\": \"2023-10-03T00:00:00\", \"variable\": \"current\", \"value\": 0.1}, {\"date\": \"2023-10-04T00:00:00\", \"variable\": \"current\", \"value\": 0.1}, {\"date\": \"2023-10-05T00:00:00\", \"variable\": \"current\", \"value\": 0.1}, {\"date\": \"2023-10-06T00:00:00\", \"variable\": \"current\", \"value\": 0.1}, {\"date\": \"2023-10-07T00:00:00\", \"variable\": \"current\", \"value\": 0.11}, {\"date\": \"2023-10-08T00:00:00\", \"variable\": \"current\", \"value\": 0.11}, {\"date\": \"2023-10-09T00:00:00\", \"variable\": \"current\", \"value\": 0.11}, {\"date\": \"2023-10-10T00:00:00\", \"variable\": \"current\", \"value\": 0.16}, {\"date\": \"2023-10-11T00:00:00\", \"variable\": \"current\", \"value\": 0.27}, {\"date\": \"2023-10-12T00:00:00\", \"variable\": \"current\", \"value\": 0.27}, {\"date\": \"2023-10-13T00:00:00\", \"variable\": \"current\", \"value\": 0.28}, {\"date\": \"2023-10-14T00:00:00\", \"variable\": \"current\", \"value\": 0.29}, {\"date\": \"2023-10-15T00:00:00\", \"variable\": \"current\", \"value\": 0.29}, {\"date\": \"2023-10-16T00:00:00\", \"variable\": \"current\", \"value\": 0.29}, {\"date\": \"2023-10-17T00:00:00\", \"variable\": \"current\", \"value\": 0.33}, {\"date\": \"2023-10-18T00:00:00\", \"variable\": \"current\", \"value\": 0.33}, {\"date\": \"2023-10-19T00:00:00\", \"variable\": \"current\", \"value\": 0.33}, {\"date\": \"2023-10-20T00:00:00\", \"variable\": \"current\", \"value\": 0.33}, {\"date\": \"2023-10-21T00:00:00\", \"variable\": \"current\", \"value\": 0.33}, {\"date\": \"2023-10-22T00:00:00\", \"variable\": \"current\", \"value\": 0.35}, {\"date\": \"2023-10-23T00:00:00\", \"variable\": \"current\", \"value\": 0.48}, {\"date\": \"2023-10-24T00:00:00\", \"variable\": \"current\", \"value\": 0.48}, {\"date\": \"2023-10-25T00:00:00\", \"variable\": \"current\", \"value\": 0.49}, {\"date\": \"2023-10-26T00:00:00\", \"variable\": \"current\", \"value\": 0.52}, {\"date\": \"2023-10-27T00:00:00\", \"variable\": \"current\", \"value\": 0.52}, {\"date\": \"2023-10-28T00:00:00\", \"variable\": \"current\", \"value\": 0.53}, {\"date\": \"2023-10-29T00:00:00\", \"variable\": \"current\", \"value\": 0.53}, {\"date\": \"2023-10-30T00:00:00\", \"variable\": \"current\", \"value\": 0.53}, {\"date\": \"2023-10-31T00:00:00\", \"variable\": \"current\", \"value\": 0.53}, {\"date\": \"2023-11-01T00:00:00\", \"variable\": \"current\", \"value\": 0.53}, {\"date\": \"2023-11-02T00:00:00\", \"variable\": \"current\", \"value\": 0.53}, {\"date\": \"2023-11-03T00:00:00\", \"variable\": \"current\", \"value\": 0.56}, {\"date\": \"2023-11-04T00:00:00\", \"variable\": \"current\", \"value\": 0.57}, {\"date\": \"2023-11-05T00:00:00\", \"variable\": \"current\", \"value\": 0.62}, {\"date\": \"2023-11-06T00:00:00\", \"variable\": \"current\", \"value\": 0.79}, {\"date\": \"2023-11-07T00:00:00\", \"variable\": \"current\", \"value\": 0.96}, {\"date\": \"2023-11-08T00:00:00\", \"variable\": \"current\", \"value\": 0.97}, {\"date\": \"2023-11-09T00:00:00\", \"variable\": \"current\", \"value\": 0.97}, {\"date\": \"2023-11-10T00:00:00\", \"variable\": \"current\", \"value\": 0.98}, {\"date\": \"2023-11-11T00:00:00\", \"variable\": \"current\", \"value\": 0.98}, {\"date\": \"2023-11-12T00:00:00\", \"variable\": \"current\", \"value\": 0.98}, {\"date\": \"2023-11-13T00:00:00\", \"variable\": \"current\", \"value\": 1.0}, {\"date\": \"2023-11-14T00:00:00\", \"variable\": \"current\", \"value\": 1.01}, {\"date\": \"2023-11-15T00:00:00\", \"variable\": \"current\", \"value\": 1.07}, {\"date\": \"2023-11-16T00:00:00\", \"variable\": \"current\", \"value\": 1.22}, {\"date\": \"2023-11-17T00:00:00\", \"variable\": \"current\", \"value\": 1.24}, {\"date\": \"2023-11-18T00:00:00\", \"variable\": \"current\", \"value\": 1.4}, {\"date\": \"2023-11-19T00:00:00\", \"variable\": \"current\", \"value\": 1.84}, {\"date\": \"2023-11-20T00:00:00\", \"variable\": \"current\", \"value\": 1.85}, {\"date\": \"2023-11-21T00:00:00\", \"variable\": \"current\", \"value\": 1.85}, {\"date\": \"2023-11-22T00:00:00\", \"variable\": \"current\", \"value\": 1.85}, {\"date\": \"2023-11-23T00:00:00\", \"variable\": \"current\", \"value\": 1.85}, {\"date\": \"2023-11-24T00:00:00\", \"variable\": \"current\", \"value\": 1.86}, {\"date\": \"2023-11-25T00:00:00\", \"variable\": \"current\", \"value\": 1.86}, {\"date\": \"2023-11-26T00:00:00\", \"variable\": \"current\", \"value\": 1.86}, {\"date\": \"2023-11-27T00:00:00\", \"variable\": \"current\", \"value\": 1.86}, {\"date\": \"2023-11-28T00:00:00\", \"variable\": \"current\", \"value\": 1.86}, {\"date\": \"2023-11-29T00:00:00\", \"variable\": \"current\", \"value\": 1.87}, {\"date\": \"2023-11-30T00:00:00\", \"variable\": \"current\", \"value\": 1.88}, {\"date\": \"2023-12-01T00:00:00\", \"variable\": \"current\", \"value\": 1.94}, {\"date\": \"2023-12-02T00:00:00\", \"variable\": \"current\", \"value\": 2.0}, {\"date\": \"2023-12-03T00:00:00\", \"variable\": \"current\", \"value\": 2.28}, {\"date\": \"2023-12-04T00:00:00\", \"variable\": \"current\", \"value\": 2.33}, {\"date\": \"2023-12-05T00:00:00\", \"variable\": \"current\", \"value\": 2.34}, {\"date\": \"2023-12-06T00:00:00\", \"variable\": \"current\", \"value\": 2.34}, {\"date\": \"2023-12-07T00:00:00\", \"variable\": \"current\", \"value\": 2.58}, {\"date\": \"2023-12-08T00:00:00\", \"variable\": \"current\", \"value\": 2.67}, {\"date\": \"2023-12-09T00:00:00\", \"variable\": \"current\", \"value\": 2.67}, {\"date\": \"2023-12-10T00:00:00\", \"variable\": \"current\", \"value\": 2.67}, {\"date\": \"2023-12-11T00:00:00\", \"variable\": \"current\", \"value\": 2.68}, {\"date\": \"2023-12-12T00:00:00\", \"variable\": \"current\", \"value\": 2.68}, {\"date\": \"2023-12-13T00:00:00\", \"variable\": \"current\", \"value\": 2.68}, {\"date\": \"2023-12-14T00:00:00\", \"variable\": \"current\", \"value\": 2.68}, {\"date\": \"2023-12-15T00:00:00\", \"variable\": \"current\", \"value\": 2.68}, {\"date\": \"2023-12-16T00:00:00\", \"variable\": \"current\", \"value\": 2.68}, {\"date\": \"2023-12-17T00:00:00\", \"variable\": \"current\", \"value\": 2.68}, {\"date\": \"2023-12-18T00:00:00\", \"variable\": \"current\", \"value\": 2.88}, {\"date\": \"2023-12-19T00:00:00\", \"variable\": \"current\", \"value\": 3.52}, {\"date\": \"2023-12-20T00:00:00\", \"variable\": \"current\", \"value\": 3.99}, {\"date\": \"2023-12-21T00:00:00\", \"variable\": \"current\", \"value\": 4.3}, {\"date\": \"2023-12-22T00:00:00\", \"variable\": \"current\", \"value\": 4.43}, {\"date\": \"2023-12-23T00:00:00\", \"variable\": \"current\", \"value\": 4.5}, {\"date\": \"2023-12-24T00:00:00\", \"variable\": \"current\", \"value\": 4.5}, {\"date\": \"2023-12-25T00:00:00\", \"variable\": \"current\", \"value\": 4.51}, {\"date\": \"2023-12-26T00:00:00\", \"variable\": \"current\", \"value\": 4.51}, {\"date\": \"2023-12-27T00:00:00\", \"variable\": \"current\", \"value\": 4.53}, {\"date\": \"2023-12-28T00:00:00\", \"variable\": \"current\", \"value\": 4.74}, {\"date\": \"2023-12-29T00:00:00\", \"variable\": \"current\", \"value\": 4.79}, {\"date\": \"2023-12-30T00:00:00\", \"variable\": \"current\", \"value\": 5.2}, {\"date\": \"2023-12-31T00:00:00\", \"variable\": \"current\", \"value\": 5.31}, {\"date\": \"2024-01-01T00:00:00\", \"variable\": \"current\", \"value\": 5.32}, {\"date\": \"2024-01-02T00:00:00\", \"variable\": \"current\", \"value\": 5.32}, {\"date\": \"2024-01-03T00:00:00\", \"variable\": \"current\", \"value\": 5.75}, {\"date\": \"2024-01-04T00:00:00\", \"variable\": \"current\", \"value\": 5.84}, {\"date\": \"2024-01-05T00:00:00\", \"variable\": \"current\", \"value\": 5.85}, {\"date\": \"2024-01-06T00:00:00\", \"variable\": \"current\", \"value\": 5.88}, {\"date\": \"2024-01-07T00:00:00\", \"variable\": \"current\", \"value\": 6.07}, {\"date\": \"2024-01-08T00:00:00\", \"variable\": \"current\", \"value\": 6.08}, {\"date\": \"2024-01-09T00:00:00\", \"variable\": \"current\", \"value\": 6.13}, {\"date\": \"2024-01-10T00:00:00\", \"variable\": \"current\", \"value\": 6.26}, {\"date\": \"2024-01-11T00:00:00\", \"variable\": \"current\", \"value\": 6.52}, {\"date\": \"2024-01-12T00:00:00\", \"variable\": \"current\", \"value\": 6.54}, {\"date\": \"2024-01-13T00:00:00\", \"variable\": \"current\", \"value\": 6.66}, {\"date\": \"2024-01-14T00:00:00\", \"variable\": \"current\", \"value\": 7.3}, {\"date\": \"2024-01-15T00:00:00\", \"variable\": \"current\", \"value\": 7.32}, {\"date\": \"2024-01-16T00:00:00\", \"variable\": \"current\", \"value\": 7.32}, {\"date\": \"2024-01-17T00:00:00\", \"variable\": \"current\", \"value\": 7.59}, {\"date\": \"2024-01-18T00:00:00\", \"variable\": \"current\", \"value\": 7.63}, {\"date\": \"2024-01-19T00:00:00\", \"variable\": \"current\", \"value\": 7.63}, {\"date\": \"2024-01-20T00:00:00\", \"variable\": \"current\", \"value\": 7.85}, {\"date\": \"2024-01-21T00:00:00\", \"variable\": \"current\", \"value\": 8.35}, {\"date\": \"2024-01-22T00:00:00\", \"variable\": \"current\", \"value\": 8.9}, {\"date\": \"2024-01-23T00:00:00\", \"variable\": \"current\", \"value\": 9.34}, {\"date\": \"2024-01-24T00:00:00\", \"variable\": \"current\", \"value\": 9.46}, {\"date\": \"2024-01-25T00:00:00\", \"variable\": \"current\", \"value\": 9.65}, {\"date\": \"2024-01-26T00:00:00\", \"variable\": \"current\", \"value\": 9.67}, {\"date\": \"2024-01-27T00:00:00\", \"variable\": \"current\", \"value\": 9.71}, {\"date\": \"2024-01-28T00:00:00\", \"variable\": \"current\", \"value\": 9.78}, {\"date\": \"2024-01-29T00:00:00\", \"variable\": \"current\", \"value\": 9.78}, {\"date\": \"2024-01-30T00:00:00\", \"variable\": \"current\", \"value\": 9.78}, {\"date\": \"2024-01-31T00:00:00\", \"variable\": \"current\", \"value\": 9.84}, {\"date\": \"2024-02-01T00:00:00\", \"variable\": \"current\", \"value\": 10.59}, {\"date\": \"2024-02-02T00:00:00\", \"variable\": \"current\", \"value\": 11.08}, {\"date\": \"2024-02-03T00:00:00\", \"variable\": \"current\", \"value\": 11.25}, {\"date\": \"2024-02-04T00:00:00\", \"variable\": \"current\", \"value\": 11.47}, {\"date\": \"2024-02-05T00:00:00\", \"variable\": \"current\", \"value\": 12.58}, {\"date\": \"2024-02-06T00:00:00\", \"variable\": \"current\", \"value\": 13.13}, {\"date\": \"2024-02-07T00:00:00\", \"variable\": \"current\", \"value\": 13.37}, {\"date\": \"2024-02-08T00:00:00\", \"variable\": \"current\", \"value\": null}, {\"date\": \"2024-02-09T00:00:00\", \"variable\": \"current\", \"value\": null}, {\"date\": \"2024-02-10T00:00:00\", \"variable\": \"current\", \"value\": null}, {\"date\": \"2024-02-11T00:00:00\", \"variable\": \"current\", \"value\": null}, {\"date\": \"2024-02-12T00:00:00\", \"variable\": \"current\", \"value\": null}, {\"date\": \"2024-02-13T00:00:00\", \"variable\": \"current\", \"value\": null}, {\"date\": \"2024-02-14T00:00:00\", \"variable\": \"current\", \"value\": null}, {\"date\": \"2024-02-15T00:00:00\", \"variable\": \"current\", \"value\": null}, {\"date\": \"2024-02-16T00:00:00\", \"variable\": \"current\", \"value\": null}, {\"date\": \"2024-02-17T00:00:00\", \"variable\": \"current\", \"value\": null}, {\"date\": \"2024-02-18T00:00:00\", \"variable\": \"current\", \"value\": null}, {\"date\": \"2024-02-19T00:00:00\", \"variable\": \"current\", \"value\": null}, {\"date\": \"2024-02-20T00:00:00\", \"variable\": \"current\", \"value\": null}, {\"date\": \"2024-02-21T00:00:00\", \"variable\": \"current\", \"value\": null}, {\"date\": \"2024-02-22T00:00:00\", \"variable\": \"current\", \"value\": null}, {\"date\": \"2024-02-23T00:00:00\", \"variable\": \"current\", \"value\": null}, {\"date\": \"2024-02-24T00:00:00\", \"variable\": \"current\", \"value\": null}, {\"date\": \"2024-02-25T00:00:00\", \"variable\": \"current\", \"value\": null}, {\"date\": \"2024-02-26T00:00:00\", \"variable\": \"current\", \"value\": null}, {\"date\": \"2024-02-27T00:00:00\", \"variable\": \"current\", \"value\": null}, {\"date\": \"2024-02-28T00:00:00\", \"variable\": \"current\", \"value\": null}, {\"date\": \"2024-02-29T00:00:00\", \"variable\": \"current\", \"value\": null}, {\"date\": \"2024-03-01T00:00:00\", \"variable\": \"current\", \"value\": null}, {\"date\": \"2024-03-02T00:00:00\", \"variable\": \"current\", \"value\": null}, {\"date\": \"2024-03-03T00:00:00\", \"variable\": \"current\", \"value\": null}, {\"date\": \"2024-03-04T00:00:00\", \"variable\": \"current\", \"value\": null}, {\"date\": \"2024-03-05T00:00:00\", \"variable\": \"current\", \"value\": null}, {\"date\": \"2024-03-06T00:00:00\", \"variable\": \"current\", \"value\": null}, {\"date\": \"2024-03-07T00:00:00\", \"variable\": \"current\", \"value\": null}, {\"date\": \"2024-03-08T00:00:00\", \"variable\": \"current\", \"value\": null}, {\"date\": \"2024-03-09T00:00:00\", \"variable\": \"current\", \"value\": null}, {\"date\": \"2024-03-10T00:00:00\", \"variable\": \"current\", \"value\": null}, {\"date\": \"2024-03-11T00:00:00\", \"variable\": \"current\", \"value\": null}, {\"date\": \"2024-03-12T00:00:00\", \"variable\": \"current\", \"value\": null}, {\"date\": \"2024-03-13T00:00:00\", \"variable\": \"current\", \"value\": null}, {\"date\": \"2024-03-14T00:00:00\", \"variable\": \"current\", \"value\": null}, {\"date\": \"2024-03-15T00:00:00\", \"variable\": \"current\", \"value\": null}, {\"date\": \"2024-03-16T00:00:00\", \"variable\": \"current\", \"value\": null}, {\"date\": \"2024-03-17T00:00:00\", \"variable\": \"current\", \"value\": null}, {\"date\": \"2024-03-18T00:00:00\", \"variable\": \"current\", \"value\": null}, {\"date\": \"2024-03-19T00:00:00\", \"variable\": \"current\", \"value\": null}, {\"date\": \"2024-03-20T00:00:00\", \"variable\": \"current\", \"value\": null}, {\"date\": \"2024-03-21T00:00:00\", \"variable\": \"current\", \"value\": null}, {\"date\": \"2024-03-22T00:00:00\", \"variable\": \"current\", \"value\": null}, {\"date\": \"2024-03-23T00:00:00\", \"variable\": \"current\", \"value\": null}, {\"date\": \"2024-03-24T00:00:00\", \"variable\": \"current\", \"value\": null}, {\"date\": \"2024-03-25T00:00:00\", \"variable\": \"current\", \"value\": null}, {\"date\": \"2024-03-26T00:00:00\", \"variable\": \"current\", \"value\": null}, {\"date\": \"2024-03-27T00:00:00\", \"variable\": \"current\", \"value\": null}, {\"date\": \"2024-03-28T00:00:00\", \"variable\": \"current\", \"value\": null}, {\"date\": \"2024-03-29T00:00:00\", \"variable\": \"current\", \"value\": null}, {\"date\": \"2024-03-30T00:00:00\", \"variable\": \"current\", \"value\": null}, {\"date\": \"2024-03-31T00:00:00\", \"variable\": \"current\", \"value\": null}, {\"date\": \"2024-04-01T00:00:00\", \"variable\": \"current\", \"value\": null}, {\"date\": \"2024-04-02T00:00:00\", \"variable\": \"current\", \"value\": null}, {\"date\": \"2024-04-03T00:00:00\", \"variable\": \"current\", \"value\": null}, {\"date\": \"2024-04-04T00:00:00\", \"variable\": \"current\", \"value\": null}, {\"date\": \"2024-04-05T00:00:00\", \"variable\": \"current\", \"value\": null}, {\"date\": \"2024-04-06T00:00:00\", \"variable\": \"current\", \"value\": null}, {\"date\": \"2024-04-07T00:00:00\", \"variable\": \"current\", \"value\": null}, {\"date\": \"2024-04-08T00:00:00\", \"variable\": \"current\", \"value\": null}, {\"date\": \"2024-04-09T00:00:00\", \"variable\": \"current\", \"value\": null}, {\"date\": \"2024-04-10T00:00:00\", \"variable\": \"current\", \"value\": null}, {\"date\": \"2024-04-11T00:00:00\", \"variable\": \"current\", \"value\": null}, {\"date\": \"2024-04-12T00:00:00\", \"variable\": \"current\", \"value\": null}, {\"date\": \"2024-04-13T00:00:00\", \"variable\": \"current\", \"value\": null}, {\"date\": \"2024-04-14T00:00:00\", \"variable\": \"current\", \"value\": null}, {\"date\": \"2024-04-15T00:00:00\", \"variable\": \"current\", \"value\": null}, {\"date\": \"2024-04-16T00:00:00\", \"variable\": \"current\", \"value\": null}, {\"date\": \"2024-04-17T00:00:00\", \"variable\": \"current\", \"value\": null}, {\"date\": \"2024-04-18T00:00:00\", \"variable\": \"current\", \"value\": null}, {\"date\": \"2024-04-19T00:00:00\", \"variable\": \"current\", \"value\": null}, {\"date\": \"2024-04-20T00:00:00\", \"variable\": \"current\", \"value\": null}, {\"date\": \"2024-04-21T00:00:00\", \"variable\": \"current\", \"value\": null}, {\"date\": \"2024-04-22T00:00:00\", \"variable\": \"current\", \"value\": null}, {\"date\": \"2024-04-23T00:00:00\", \"variable\": \"current\", \"value\": null}, {\"date\": \"2024-04-24T00:00:00\", \"variable\": \"current\", \"value\": null}, {\"date\": \"2024-04-25T00:00:00\", \"variable\": \"current\", \"value\": null}, {\"date\": \"2024-04-26T00:00:00\", \"variable\": \"current\", \"value\": null}, {\"date\": \"2024-04-27T00:00:00\", \"variable\": \"current\", \"value\": null}, {\"date\": \"2024-04-28T00:00:00\", \"variable\": \"current\", \"value\": null}, {\"date\": \"2024-04-29T00:00:00\", \"variable\": \"current\", \"value\": null}, {\"date\": \"2024-04-30T00:00:00\", \"variable\": \"current\", \"value\": null}, {\"date\": \"2024-05-01T00:00:00\", \"variable\": \"current\", \"value\": null}, {\"date\": \"2024-05-02T00:00:00\", \"variable\": \"current\", \"value\": null}, {\"date\": \"2024-05-03T00:00:00\", \"variable\": \"current\", \"value\": null}, {\"date\": \"2024-05-04T00:00:00\", \"variable\": \"current\", \"value\": null}, {\"date\": \"2024-05-05T00:00:00\", \"variable\": \"current\", \"value\": null}, {\"date\": \"2024-05-06T00:00:00\", \"variable\": \"current\", \"value\": null}, {\"date\": \"2024-05-07T00:00:00\", \"variable\": \"current\", \"value\": null}, {\"date\": \"2024-05-08T00:00:00\", \"variable\": \"current\", \"value\": null}, {\"date\": \"2024-05-09T00:00:00\", \"variable\": \"current\", \"value\": null}, {\"date\": \"2024-05-10T00:00:00\", \"variable\": \"current\", \"value\": null}, {\"date\": \"2024-05-11T00:00:00\", \"variable\": \"current\", \"value\": null}, {\"date\": \"2024-05-12T00:00:00\", \"variable\": \"current\", \"value\": null}, {\"date\": \"2024-05-13T00:00:00\", \"variable\": \"current\", \"value\": null}, {\"date\": \"2024-05-14T00:00:00\", \"variable\": \"current\", \"value\": null}, {\"date\": \"2024-05-15T00:00:00\", \"variable\": \"current\", \"value\": null}, {\"date\": \"2024-05-16T00:00:00\", \"variable\": \"current\", \"value\": null}, {\"date\": \"2024-05-17T00:00:00\", \"variable\": \"current\", \"value\": null}, {\"date\": \"2024-05-18T00:00:00\", \"variable\": \"current\", \"value\": null}, {\"date\": \"2024-05-19T00:00:00\", \"variable\": \"current\", \"value\": null}, {\"date\": \"2024-05-20T00:00:00\", \"variable\": \"current\", \"value\": null}, {\"date\": \"2024-05-21T00:00:00\", \"variable\": \"current\", \"value\": null}, {\"date\": \"2024-05-22T00:00:00\", \"variable\": \"current\", \"value\": null}, {\"date\": \"2024-05-23T00:00:00\", \"variable\": \"current\", \"value\": null}, {\"date\": \"2024-05-24T00:00:00\", \"variable\": \"current\", \"value\": null}, {\"date\": \"2024-05-25T00:00:00\", \"variable\": \"current\", \"value\": null}, {\"date\": \"2024-05-26T00:00:00\", \"variable\": \"current\", \"value\": null}, {\"date\": \"2024-05-27T00:00:00\", \"variable\": \"current\", \"value\": null}, {\"date\": \"2024-05-28T00:00:00\", \"variable\": \"current\", \"value\": null}, {\"date\": \"2024-05-29T00:00:00\", \"variable\": \"current\", \"value\": null}, {\"date\": \"2024-05-30T00:00:00\", \"variable\": \"current\", \"value\": null}, {\"date\": \"2024-05-31T00:00:00\", \"variable\": \"current\", \"value\": null}, {\"date\": \"2024-06-01T00:00:00\", \"variable\": \"current\", \"value\": null}, {\"date\": \"2024-06-02T00:00:00\", \"variable\": \"current\", \"value\": null}, {\"date\": \"2024-06-03T00:00:00\", \"variable\": \"current\", \"value\": null}, {\"date\": \"2024-06-04T00:00:00\", \"variable\": \"current\", \"value\": null}, {\"date\": \"2024-06-05T00:00:00\", \"variable\": \"current\", \"value\": null}, {\"date\": \"2024-06-06T00:00:00\", \"variable\": \"current\", \"value\": null}, {\"date\": \"2024-06-07T00:00:00\", \"variable\": \"current\", \"value\": null}, {\"date\": \"2024-06-08T00:00:00\", \"variable\": \"current\", \"value\": null}, {\"date\": \"2024-06-09T00:00:00\", \"variable\": \"current\", \"value\": null}, {\"date\": \"2024-06-10T00:00:00\", \"variable\": \"current\", \"value\": null}, {\"date\": \"2024-06-11T00:00:00\", \"variable\": \"current\", \"value\": null}, {\"date\": \"2024-06-12T00:00:00\", \"variable\": \"current\", \"value\": null}, {\"date\": \"2024-06-13T00:00:00\", \"variable\": \"current\", \"value\": null}, {\"date\": \"2024-06-14T00:00:00\", \"variable\": \"current\", \"value\": null}, {\"date\": \"2024-06-15T00:00:00\", \"variable\": \"current\", \"value\": null}, {\"date\": \"2024-06-16T00:00:00\", \"variable\": \"current\", \"value\": null}, {\"date\": \"2024-06-17T00:00:00\", \"variable\": \"current\", \"value\": null}, {\"date\": \"2024-06-18T00:00:00\", \"variable\": \"current\", \"value\": null}, {\"date\": \"2024-06-19T00:00:00\", \"variable\": \"current\", \"value\": null}, {\"date\": \"2024-06-20T00:00:00\", \"variable\": \"current\", \"value\": null}, {\"date\": \"2024-06-21T00:00:00\", \"variable\": \"current\", \"value\": null}, {\"date\": \"2024-06-22T00:00:00\", \"variable\": \"current\", \"value\": null}, {\"date\": \"2024-06-23T00:00:00\", \"variable\": \"current\", \"value\": null}, {\"date\": \"2024-06-24T00:00:00\", \"variable\": \"current\", \"value\": null}, {\"date\": \"2024-06-25T00:00:00\", \"variable\": \"current\", \"value\": null}, {\"date\": \"2024-06-26T00:00:00\", \"variable\": \"current\", \"value\": null}, {\"date\": \"2024-06-27T00:00:00\", \"variable\": \"current\", \"value\": null}, {\"date\": \"2024-06-28T00:00:00\", \"variable\": \"current\", \"value\": null}, {\"date\": \"2024-06-29T00:00:00\", \"variable\": \"current\", \"value\": null}, {\"date\": \"2024-06-30T00:00:00\", \"variable\": \"current\", \"value\": null}, {\"date\": \"2024-07-01T00:00:00\", \"variable\": \"current\", \"value\": null}, {\"date\": \"2024-07-02T00:00:00\", \"variable\": \"current\", \"value\": null}, {\"date\": \"2024-07-03T00:00:00\", \"variable\": \"current\", \"value\": null}, {\"date\": \"2024-07-04T00:00:00\", \"variable\": \"current\", \"value\": null}, {\"date\": \"2024-07-05T00:00:00\", \"variable\": \"current\", \"value\": null}, {\"date\": \"2024-07-06T00:00:00\", \"variable\": \"current\", \"value\": null}, {\"date\": \"2024-07-07T00:00:00\", \"variable\": \"current\", \"value\": null}, {\"date\": \"2024-07-08T00:00:00\", \"variable\": \"current\", \"value\": null}, {\"date\": \"2024-07-09T00:00:00\", \"variable\": \"current\", \"value\": null}, {\"date\": \"2024-07-10T00:00:00\", \"variable\": \"current\", \"value\": null}, {\"date\": \"2024-07-11T00:00:00\", \"variable\": \"current\", \"value\": null}, {\"date\": \"2024-07-12T00:00:00\", \"variable\": \"current\", \"value\": null}, {\"date\": \"2024-07-13T00:00:00\", \"variable\": \"current\", \"value\": null}, {\"date\": \"2024-07-14T00:00:00\", \"variable\": \"current\", \"value\": null}, {\"date\": \"2024-07-15T00:00:00\", \"variable\": \"current\", \"value\": null}, {\"date\": \"2024-07-16T00:00:00\", \"variable\": \"current\", \"value\": null}, {\"date\": \"2024-07-17T00:00:00\", \"variable\": \"current\", \"value\": null}, {\"date\": \"2024-07-18T00:00:00\", \"variable\": \"current\", \"value\": null}, {\"date\": \"2024-07-19T00:00:00\", \"variable\": \"current\", \"value\": null}, {\"date\": \"2024-07-20T00:00:00\", \"variable\": \"current\", \"value\": null}, {\"date\": \"2024-07-21T00:00:00\", \"variable\": \"current\", \"value\": null}, {\"date\": \"2024-07-22T00:00:00\", \"variable\": \"current\", \"value\": null}, {\"date\": \"2024-07-23T00:00:00\", \"variable\": \"current\", \"value\": null}, {\"date\": \"2024-07-24T00:00:00\", \"variable\": \"current\", \"value\": null}, {\"date\": \"2024-07-25T00:00:00\", \"variable\": \"current\", \"value\": null}, {\"date\": \"2024-07-26T00:00:00\", \"variable\": \"current\", \"value\": null}, {\"date\": \"2024-07-27T00:00:00\", \"variable\": \"current\", \"value\": null}, {\"date\": \"2024-07-28T00:00:00\", \"variable\": \"current\", \"value\": null}, {\"date\": \"2024-07-29T00:00:00\", \"variable\": \"current\", \"value\": null}, {\"date\": \"2024-07-30T00:00:00\", \"variable\": \"current\", \"value\": null}, {\"date\": \"2024-07-31T00:00:00\", \"variable\": \"current\", \"value\": null}, {\"date\": \"2024-08-01T00:00:00\", \"variable\": \"current\", \"value\": null}, {\"date\": \"2024-08-02T00:00:00\", \"variable\": \"current\", \"value\": null}, {\"date\": \"2024-08-03T00:00:00\", \"variable\": \"current\", \"value\": null}, {\"date\": \"2024-08-04T00:00:00\", \"variable\": \"current\", \"value\": null}, {\"date\": \"2024-08-05T00:00:00\", \"variable\": \"current\", \"value\": null}, {\"date\": \"2024-08-06T00:00:00\", \"variable\": \"current\", \"value\": null}, {\"date\": \"2024-08-07T00:00:00\", \"variable\": \"current\", \"value\": null}, {\"date\": \"2024-08-08T00:00:00\", \"variable\": \"current\", \"value\": null}, {\"date\": \"2024-08-09T00:00:00\", \"variable\": \"current\", \"value\": null}, {\"date\": \"2024-08-10T00:00:00\", \"variable\": \"current\", \"value\": null}, {\"date\": \"2024-08-11T00:00:00\", \"variable\": \"current\", \"value\": null}, {\"date\": \"2024-08-12T00:00:00\", \"variable\": \"current\", \"value\": null}, {\"date\": \"2024-08-13T00:00:00\", \"variable\": \"current\", \"value\": null}, {\"date\": \"2024-08-14T00:00:00\", \"variable\": \"current\", \"value\": null}, {\"date\": \"2024-08-15T00:00:00\", \"variable\": \"current\", \"value\": null}, {\"date\": \"2024-08-16T00:00:00\", \"variable\": \"current\", \"value\": null}, {\"date\": \"2024-08-17T00:00:00\", \"variable\": \"current\", \"value\": null}, {\"date\": \"2024-08-18T00:00:00\", \"variable\": \"current\", \"value\": null}, {\"date\": \"2024-08-19T00:00:00\", \"variable\": \"current\", \"value\": null}, {\"date\": \"2024-08-20T00:00:00\", \"variable\": \"current\", \"value\": null}, {\"date\": \"2024-08-21T00:00:00\", \"variable\": \"current\", \"value\": null}, {\"date\": \"2024-08-22T00:00:00\", \"variable\": \"current\", \"value\": null}, {\"date\": \"2024-08-23T00:00:00\", \"variable\": \"current\", \"value\": null}, {\"date\": \"2024-08-24T00:00:00\", \"variable\": \"current\", \"value\": null}, {\"date\": \"2024-08-25T00:00:00\", \"variable\": \"current\", \"value\": null}, {\"date\": \"2024-08-26T00:00:00\", \"variable\": \"current\", \"value\": null}, {\"date\": \"2024-08-27T00:00:00\", \"variable\": \"current\", \"value\": null}, {\"date\": \"2024-08-28T00:00:00\", \"variable\": \"current\", \"value\": null}, {\"date\": \"2024-08-29T00:00:00\", \"variable\": \"current\", \"value\": null}, {\"date\": \"2024-08-30T00:00:00\", \"variable\": \"current\", \"value\": null}, {\"date\": \"2024-08-31T00:00:00\", \"variable\": \"current\", \"value\": null}, {\"date\": \"2024-09-01T00:00:00\", \"variable\": \"current\", \"value\": null}, {\"date\": \"2024-09-02T00:00:00\", \"variable\": \"current\", \"value\": null}, {\"date\": \"2024-09-03T00:00:00\", \"variable\": \"current\", \"value\": null}, {\"date\": \"2024-09-04T00:00:00\", \"variable\": \"current\", \"value\": null}, {\"date\": \"2024-09-05T00:00:00\", \"variable\": \"current\", \"value\": null}, {\"date\": \"2024-09-06T00:00:00\", \"variable\": \"current\", \"value\": null}, {\"date\": \"2024-09-07T00:00:00\", \"variable\": \"current\", \"value\": null}, {\"date\": \"2024-09-08T00:00:00\", \"variable\": \"current\", \"value\": null}, {\"date\": \"2024-09-09T00:00:00\", \"variable\": \"current\", \"value\": null}, {\"date\": \"2024-09-10T00:00:00\", \"variable\": \"current\", \"value\": null}, {\"date\": \"2024-09-11T00:00:00\", \"variable\": \"current\", \"value\": null}, {\"date\": \"2024-09-12T00:00:00\", \"variable\": \"current\", \"value\": null}, {\"date\": \"2024-09-13T00:00:00\", \"variable\": \"current\", \"value\": null}, {\"date\": \"2024-09-14T00:00:00\", \"variable\": \"current\", \"value\": null}, {\"date\": \"2024-09-15T00:00:00\", \"variable\": \"current\", \"value\": null}, {\"date\": \"2024-09-16T00:00:00\", \"variable\": \"current\", \"value\": null}, {\"date\": \"2024-09-17T00:00:00\", \"variable\": \"current\", \"value\": null}, {\"date\": \"2024-09-18T00:00:00\", \"variable\": \"current\", \"value\": null}, {\"date\": \"2024-09-19T00:00:00\", \"variable\": \"current\", \"value\": null}, {\"date\": \"2024-09-20T00:00:00\", \"variable\": \"current\", \"value\": null}, {\"date\": \"2024-09-21T00:00:00\", \"variable\": \"current\", \"value\": null}, {\"date\": \"2024-09-22T00:00:00\", \"variable\": \"current\", \"value\": null}, {\"date\": \"2024-09-23T00:00:00\", \"variable\": \"current\", \"value\": null}, {\"date\": \"2024-09-24T00:00:00\", \"variable\": \"current\", \"value\": null}, {\"date\": \"2024-09-25T00:00:00\", \"variable\": \"current\", \"value\": null}, {\"date\": \"2024-09-26T00:00:00\", \"variable\": \"current\", \"value\": null}, {\"date\": \"2024-09-27T00:00:00\", \"variable\": \"current\", \"value\": null}, {\"date\": \"2024-09-28T00:00:00\", \"variable\": \"current\", \"value\": null}, {\"date\": \"2024-09-29T00:00:00\", \"variable\": \"current\", \"value\": null}, {\"date\": \"2024-09-30T00:00:00\", \"variable\": \"current\", \"value\": null}, {\"date\": \"2023-10-01T00:00:00\", \"variable\": \"average\", \"value\": 0.02}, {\"date\": \"2023-10-02T00:00:00\", \"variable\": \"average\", \"value\": 0.04}, {\"date\": \"2023-10-03T00:00:00\", \"variable\": \"average\", \"value\": 0.05}, {\"date\": \"2023-10-04T00:00:00\", \"variable\": \"average\", \"value\": 0.08}, {\"date\": \"2023-10-05T00:00:00\", \"variable\": \"average\", \"value\": 0.12}, {\"date\": \"2023-10-06T00:00:00\", \"variable\": \"average\", \"value\": 0.14}, {\"date\": \"2023-10-07T00:00:00\", \"variable\": \"average\", \"value\": 0.16}, {\"date\": \"2023-10-08T00:00:00\", \"variable\": \"average\", \"value\": 0.17}, {\"date\": \"2023-10-09T00:00:00\", \"variable\": \"average\", \"value\": 0.18}, {\"date\": \"2023-10-10T00:00:00\", \"variable\": \"average\", \"value\": 0.21}, {\"date\": \"2023-10-11T00:00:00\", \"variable\": \"average\", \"value\": 0.25}, {\"date\": \"2023-10-12T00:00:00\", \"variable\": \"average\", \"value\": 0.27}, {\"date\": \"2023-10-13T00:00:00\", \"variable\": \"average\", \"value\": 0.29}, {\"date\": \"2023-10-14T00:00:00\", \"variable\": \"average\", \"value\": 0.35}, {\"date\": \"2023-10-15T00:00:00\", \"variable\": \"average\", \"value\": 0.37}, {\"date\": \"2023-10-16T00:00:00\", \"variable\": \"average\", \"value\": 0.4}, {\"date\": \"2023-10-17T00:00:00\", \"variable\": \"average\", \"value\": 0.44}, {\"date\": \"2023-10-18T00:00:00\", \"variable\": \"average\", \"value\": 0.48}, {\"date\": \"2023-10-19T00:00:00\", \"variable\": \"average\", \"value\": 0.51}, {\"date\": \"2023-10-20T00:00:00\", \"variable\": \"average\", \"value\": 0.56}, {\"date\": \"2023-10-21T00:00:00\", \"variable\": \"average\", \"value\": 0.6}, {\"date\": \"2023-10-22T00:00:00\", \"variable\": \"average\", \"value\": 0.65}, {\"date\": \"2023-10-23T00:00:00\", \"variable\": \"average\", \"value\": 0.71}, {\"date\": \"2023-10-24T00:00:00\", \"variable\": \"average\", \"value\": 0.78}, {\"date\": \"2023-10-25T00:00:00\", \"variable\": \"average\", \"value\": 0.89}, {\"date\": \"2023-10-26T00:00:00\", \"variable\": \"average\", \"value\": 0.97}, {\"date\": \"2023-10-27T00:00:00\", \"variable\": \"average\", \"value\": 1.02}, {\"date\": \"2023-10-28T00:00:00\", \"variable\": \"average\", \"value\": 1.09}, {\"date\": \"2023-10-29T00:00:00\", \"variable\": \"average\", \"value\": 1.16}, {\"date\": \"2023-10-30T00:00:00\", \"variable\": \"average\", \"value\": 1.24}, {\"date\": \"2023-10-31T00:00:00\", \"variable\": \"average\", \"value\": 1.31}, {\"date\": \"2023-11-01T00:00:00\", \"variable\": \"average\", \"value\": 1.37}, {\"date\": \"2023-11-02T00:00:00\", \"variable\": \"average\", \"value\": 1.43}, {\"date\": \"2023-11-03T00:00:00\", \"variable\": \"average\", \"value\": 1.48}, {\"date\": \"2023-11-04T00:00:00\", \"variable\": \"average\", \"value\": 1.52}, {\"date\": \"2023-11-05T00:00:00\", \"variable\": \"average\", \"value\": 1.55}, {\"date\": \"2023-11-06T00:00:00\", \"variable\": \"average\", \"value\": 1.6}, {\"date\": \"2023-11-07T00:00:00\", \"variable\": \"average\", \"value\": 1.65}, {\"date\": \"2023-11-08T00:00:00\", \"variable\": \"average\", \"value\": 1.76}, {\"date\": \"2023-11-09T00:00:00\", \"variable\": \"average\", \"value\": 1.88}, {\"date\": \"2023-11-10T00:00:00\", \"variable\": \"average\", \"value\": 1.97}, {\"date\": \"2023-11-11T00:00:00\", \"variable\": \"average\", \"value\": 2.07}, {\"date\": \"2023-11-12T00:00:00\", \"variable\": \"average\", \"value\": 2.14}, {\"date\": \"2023-11-13T00:00:00\", \"variable\": \"average\", \"value\": 2.23}, {\"date\": \"2023-11-14T00:00:00\", \"variable\": \"average\", \"value\": 2.32}, {\"date\": \"2023-11-15T00:00:00\", \"variable\": \"average\", \"value\": 2.36}, {\"date\": \"2023-11-16T00:00:00\", \"variable\": \"average\", \"value\": 2.45}, {\"date\": \"2023-11-17T00:00:00\", \"variable\": \"average\", \"value\": 2.56}, {\"date\": \"2023-11-18T00:00:00\", \"variable\": \"average\", \"value\": 2.67}, {\"date\": \"2023-11-19T00:00:00\", \"variable\": \"average\", \"value\": 2.75}, {\"date\": \"2023-11-20T00:00:00\", \"variable\": \"average\", \"value\": 2.85}, {\"date\": \"2023-11-21T00:00:00\", \"variable\": \"average\", \"value\": 2.96}, {\"date\": \"2023-11-22T00:00:00\", \"variable\": \"average\", \"value\": 3.08}, {\"date\": \"2023-11-23T00:00:00\", \"variable\": \"average\", \"value\": 3.17}, {\"date\": \"2023-11-24T00:00:00\", \"variable\": \"average\", \"value\": 3.27}, {\"date\": \"2023-11-25T00:00:00\", \"variable\": \"average\", \"value\": 3.37}, {\"date\": \"2023-11-26T00:00:00\", \"variable\": \"average\", \"value\": 3.45}, {\"date\": \"2023-11-27T00:00:00\", \"variable\": \"average\", \"value\": 3.55}, {\"date\": \"2023-11-28T00:00:00\", \"variable\": \"average\", \"value\": 3.64}, {\"date\": \"2023-11-29T00:00:00\", \"variable\": \"average\", \"value\": 3.76}, {\"date\": \"2023-11-30T00:00:00\", \"variable\": \"average\", \"value\": 3.91}, {\"date\": \"2023-12-01T00:00:00\", \"variable\": \"average\", \"value\": 4.04}, {\"date\": \"2023-12-02T00:00:00\", \"variable\": \"average\", \"value\": 4.18}, {\"date\": \"2023-12-03T00:00:00\", \"variable\": \"average\", \"value\": 4.31}, {\"date\": \"2023-12-04T00:00:00\", \"variable\": \"average\", \"value\": 4.41}, {\"date\": \"2023-12-05T00:00:00\", \"variable\": \"average\", \"value\": 4.51}, {\"date\": \"2023-12-06T00:00:00\", \"variable\": \"average\", \"value\": 4.61}, {\"date\": \"2023-12-07T00:00:00\", \"variable\": \"average\", \"value\": 4.76}, {\"date\": \"2023-12-08T00:00:00\", \"variable\": \"average\", \"value\": 4.91}, {\"date\": \"2023-12-09T00:00:00\", \"variable\": \"average\", \"value\": 5.01}, {\"date\": \"2023-12-10T00:00:00\", \"variable\": \"average\", \"value\": 5.15}, {\"date\": \"2023-12-11T00:00:00\", \"variable\": \"average\", \"value\": 5.31}, {\"date\": \"2023-12-12T00:00:00\", \"variable\": \"average\", \"value\": 5.47}, {\"date\": \"2023-12-13T00:00:00\", \"variable\": \"average\", \"value\": 5.61}, {\"date\": \"2023-12-14T00:00:00\", \"variable\": \"average\", \"value\": 5.78}, {\"date\": \"2023-12-15T00:00:00\", \"variable\": \"average\", \"value\": 5.9}, {\"date\": \"2023-12-16T00:00:00\", \"variable\": \"average\", \"value\": 6.04}, {\"date\": \"2023-12-17T00:00:00\", \"variable\": \"average\", \"value\": 6.15}, {\"date\": \"2023-12-18T00:00:00\", \"variable\": \"average\", \"value\": 6.24}, {\"date\": \"2023-12-19T00:00:00\", \"variable\": \"average\", \"value\": 6.39}, {\"date\": \"2023-12-20T00:00:00\", \"variable\": \"average\", \"value\": 6.54}, {\"date\": \"2023-12-21T00:00:00\", \"variable\": \"average\", \"value\": 6.69}, {\"date\": \"2023-12-22T00:00:00\", \"variable\": \"average\", \"value\": 6.85}, {\"date\": \"2023-12-23T00:00:00\", \"variable\": \"average\", \"value\": 6.99}, {\"date\": \"2023-12-24T00:00:00\", \"variable\": \"average\", \"value\": 7.1}, {\"date\": \"2023-12-25T00:00:00\", \"variable\": \"average\", \"value\": 7.21}, {\"date\": \"2023-12-26T00:00:00\", \"variable\": \"average\", \"value\": 7.33}, {\"date\": \"2023-12-27T00:00:00\", \"variable\": \"average\", \"value\": 7.45}, {\"date\": \"2023-12-28T00:00:00\", \"variable\": \"average\", \"value\": 7.59}, {\"date\": \"2023-12-29T00:00:00\", \"variable\": \"average\", \"value\": 7.76}, {\"date\": \"2023-12-30T00:00:00\", \"variable\": \"average\", \"value\": 7.94}, {\"date\": \"2023-12-31T00:00:00\", \"variable\": \"average\", \"value\": 8.1}, {\"date\": \"2024-01-01T00:00:00\", \"variable\": \"average\", \"value\": 8.24}, {\"date\": \"2024-01-02T00:00:00\", \"variable\": \"average\", \"value\": 8.38}, {\"date\": \"2024-01-03T00:00:00\", \"variable\": \"average\", \"value\": 8.5}, {\"date\": \"2024-01-04T00:00:00\", \"variable\": \"average\", \"value\": 8.65}, {\"date\": \"2024-01-05T00:00:00\", \"variable\": \"average\", \"value\": 8.86}, {\"date\": \"2024-01-06T00:00:00\", \"variable\": \"average\", \"value\": 8.99}, {\"date\": \"2024-01-07T00:00:00\", \"variable\": \"average\", \"value\": 9.12}, {\"date\": \"2024-01-08T00:00:00\", \"variable\": \"average\", \"value\": 9.27}, {\"date\": \"2024-01-09T00:00:00\", \"variable\": \"average\", \"value\": 9.45}, {\"date\": \"2024-01-10T00:00:00\", \"variable\": \"average\", \"value\": 9.61}, {\"date\": \"2024-01-11T00:00:00\", \"variable\": \"average\", \"value\": 9.78}, {\"date\": \"2024-01-12T00:00:00\", \"variable\": \"average\", \"value\": 9.87}, {\"date\": \"2024-01-13T00:00:00\", \"variable\": \"average\", \"value\": 9.99}, {\"date\": \"2024-01-14T00:00:00\", \"variable\": \"average\", \"value\": 10.12}, {\"date\": \"2024-01-15T00:00:00\", \"variable\": \"average\", \"value\": 10.24}, {\"date\": \"2024-01-16T00:00:00\", \"variable\": \"average\", \"value\": 10.36}, {\"date\": \"2024-01-17T00:00:00\", \"variable\": \"average\", \"value\": 10.5}, {\"date\": \"2024-01-18T00:00:00\", \"variable\": \"average\", \"value\": 10.61}, {\"date\": \"2024-01-19T00:00:00\", \"variable\": \"average\", \"value\": 10.77}, {\"date\": \"2024-01-20T00:00:00\", \"variable\": \"average\", \"value\": 10.9}, {\"date\": \"2024-01-21T00:00:00\", \"variable\": \"average\", \"value\": 11.06}, {\"date\": \"2024-01-22T00:00:00\", \"variable\": \"average\", \"value\": 11.19}, {\"date\": \"2024-01-23T00:00:00\", \"variable\": \"average\", \"value\": 11.36}, {\"date\": \"2024-01-24T00:00:00\", \"variable\": \"average\", \"value\": 11.51}, {\"date\": \"2024-01-25T00:00:00\", \"variable\": \"average\", \"value\": 11.65}, {\"date\": \"2024-01-26T00:00:00\", \"variable\": \"average\", \"value\": 11.79}, {\"date\": \"2024-01-27T00:00:00\", \"variable\": \"average\", \"value\": 11.92}, {\"date\": \"2024-01-28T00:00:00\", \"variable\": \"average\", \"value\": 12.03}, {\"date\": \"2024-01-29T00:00:00\", \"variable\": \"average\", \"value\": 12.12}, {\"date\": \"2024-01-30T00:00:00\", \"variable\": \"average\", \"value\": 12.2}, {\"date\": \"2024-01-31T00:00:00\", \"variable\": \"average\", \"value\": 12.28}, {\"date\": \"2024-02-01T00:00:00\", \"variable\": \"average\", \"value\": 12.38}, {\"date\": \"2024-02-02T00:00:00\", \"variable\": \"average\", \"value\": 12.47}, {\"date\": \"2024-02-03T00:00:00\", \"variable\": \"average\", \"value\": 12.62}, {\"date\": \"2024-02-04T00:00:00\", \"variable\": \"average\", \"value\": 12.73}, {\"date\": \"2024-02-05T00:00:00\", \"variable\": \"average\", \"value\": 12.84}, {\"date\": \"2024-02-06T00:00:00\", \"variable\": \"average\", \"value\": 12.93}, {\"date\": \"2024-02-07T00:00:00\", \"variable\": \"average\", \"value\": 13.1}, {\"date\": \"2024-02-08T00:00:00\", \"variable\": \"average\", \"value\": 13.26}, {\"date\": \"2024-02-09T00:00:00\", \"variable\": \"average\", \"value\": 13.41}, {\"date\": \"2024-02-10T00:00:00\", \"variable\": \"average\", \"value\": 13.54}, {\"date\": \"2024-02-11T00:00:00\", \"variable\": \"average\", \"value\": 13.65}, {\"date\": \"2024-02-12T00:00:00\", \"variable\": \"average\", \"value\": 13.75}, {\"date\": \"2024-02-13T00:00:00\", \"variable\": \"average\", \"value\": 13.92}, {\"date\": \"2024-02-14T00:00:00\", \"variable\": \"average\", \"value\": 14.09}, {\"date\": \"2024-02-15T00:00:00\", \"variable\": \"average\", \"value\": 14.25}, {\"date\": \"2024-02-16T00:00:00\", \"variable\": \"average\", \"value\": 14.42}, {\"date\": \"2024-02-17T00:00:00\", \"variable\": \"average\", \"value\": 14.59}, {\"date\": \"2024-02-18T00:00:00\", \"variable\": \"average\", \"value\": 14.77}, {\"date\": \"2024-02-19T00:00:00\", \"variable\": \"average\", \"value\": 14.92}, {\"date\": \"2024-02-20T00:00:00\", \"variable\": \"average\", \"value\": 15.09}, {\"date\": \"2024-02-21T00:00:00\", \"variable\": \"average\", \"value\": 15.22}, {\"date\": \"2024-02-22T00:00:00\", \"variable\": \"average\", \"value\": 15.34}, {\"date\": \"2024-02-23T00:00:00\", \"variable\": \"average\", \"value\": 15.46}, {\"date\": \"2024-02-24T00:00:00\", \"variable\": \"average\", \"value\": 15.57}, {\"date\": \"2024-02-25T00:00:00\", \"variable\": \"average\", \"value\": 15.68}, {\"date\": \"2024-02-26T00:00:00\", \"variable\": \"average\", \"value\": 15.8}, {\"date\": \"2024-02-27T00:00:00\", \"variable\": \"average\", \"value\": 15.96}, {\"date\": \"2024-02-28T00:00:00\", \"variable\": \"average\", \"value\": 16.11}, {\"date\": \"2024-02-29T00:00:00\", \"variable\": \"average\", \"value\": 16.14}, {\"date\": \"2024-03-01T00:00:00\", \"variable\": \"average\", \"value\": 16.29}, {\"date\": \"2024-03-02T00:00:00\", \"variable\": \"average\", \"value\": 16.46}, {\"date\": \"2024-03-03T00:00:00\", \"variable\": \"average\", \"value\": 16.61}, {\"date\": \"2024-03-04T00:00:00\", \"variable\": \"average\", \"value\": 16.72}, {\"date\": \"2024-03-05T00:00:00\", \"variable\": \"average\", \"value\": 16.86}, {\"date\": \"2024-03-06T00:00:00\", \"variable\": \"average\", \"value\": 17.04}, {\"date\": \"2024-03-07T00:00:00\", \"variable\": \"average\", \"value\": 17.15}, {\"date\": \"2024-03-08T00:00:00\", \"variable\": \"average\", \"value\": 17.24}, {\"date\": \"2024-03-09T00:00:00\", \"variable\": \"average\", \"value\": 17.33}, {\"date\": \"2024-03-10T00:00:00\", \"variable\": \"average\", \"value\": 17.46}, {\"date\": \"2024-03-11T00:00:00\", \"variable\": \"average\", \"value\": 17.6}, {\"date\": \"2024-03-12T00:00:00\", \"variable\": \"average\", \"value\": 17.69}, {\"date\": \"2024-03-13T00:00:00\", \"variable\": \"average\", \"value\": 17.83}, {\"date\": \"2024-03-14T00:00:00\", \"variable\": \"average\", \"value\": 17.97}, {\"date\": \"2024-03-15T00:00:00\", \"variable\": \"average\", \"value\": 18.11}, {\"date\": \"2024-03-16T00:00:00\", \"variable\": \"average\", \"value\": 18.22}, {\"date\": \"2024-03-17T00:00:00\", \"variable\": \"average\", \"value\": 18.34}, {\"date\": \"2024-03-18T00:00:00\", \"variable\": \"average\", \"value\": 18.42}, {\"date\": \"2024-03-19T00:00:00\", \"variable\": \"average\", \"value\": 18.49}, {\"date\": \"2024-03-20T00:00:00\", \"variable\": \"average\", \"value\": 18.58}, {\"date\": \"2024-03-21T00:00:00\", \"variable\": \"average\", \"value\": 18.7}, {\"date\": \"2024-03-22T00:00:00\", \"variable\": \"average\", \"value\": 18.83}, {\"date\": \"2024-03-23T00:00:00\", \"variable\": \"average\", \"value\": 18.96}, {\"date\": \"2024-03-24T00:00:00\", \"variable\": \"average\", \"value\": 19.08}, {\"date\": \"2024-03-25T00:00:00\", \"variable\": \"average\", \"value\": 19.2}, {\"date\": \"2024-03-26T00:00:00\", \"variable\": \"average\", \"value\": 19.31}, {\"date\": \"2024-03-27T00:00:00\", \"variable\": \"average\", \"value\": 19.4}, {\"date\": \"2024-03-28T00:00:00\", \"variable\": \"average\", \"value\": 19.5}, {\"date\": \"2024-03-29T00:00:00\", \"variable\": \"average\", \"value\": 19.58}, {\"date\": \"2024-03-30T00:00:00\", \"variable\": \"average\", \"value\": 19.64}, {\"date\": \"2024-03-31T00:00:00\", \"variable\": \"average\", \"value\": 19.71}, {\"date\": \"2024-04-01T00:00:00\", \"variable\": \"average\", \"value\": 19.8}, {\"date\": \"2024-04-02T00:00:00\", \"variable\": \"average\", \"value\": 19.85}, {\"date\": \"2024-04-03T00:00:00\", \"variable\": \"average\", \"value\": 19.91}, {\"date\": \"2024-04-04T00:00:00\", \"variable\": \"average\", \"value\": 19.96}, {\"date\": \"2024-04-05T00:00:00\", \"variable\": \"average\", \"value\": 20.02}, {\"date\": \"2024-04-06T00:00:00\", \"variable\": \"average\", \"value\": 20.09}, {\"date\": \"2024-04-07T00:00:00\", \"variable\": \"average\", \"value\": 20.18}, {\"date\": \"2024-04-08T00:00:00\", \"variable\": \"average\", \"value\": 20.27}, {\"date\": \"2024-04-09T00:00:00\", \"variable\": \"average\", \"value\": 20.33}, {\"date\": \"2024-04-10T00:00:00\", \"variable\": \"average\", \"value\": 20.37}, {\"date\": \"2024-04-11T00:00:00\", \"variable\": \"average\", \"value\": 20.43}, {\"date\": \"2024-04-12T00:00:00\", \"variable\": \"average\", \"value\": 20.52}, {\"date\": \"2024-04-13T00:00:00\", \"variable\": \"average\", \"value\": 20.6}, {\"date\": \"2024-04-14T00:00:00\", \"variable\": \"average\", \"value\": 20.66}, {\"date\": \"2024-04-15T00:00:00\", \"variable\": \"average\", \"value\": 20.7}, {\"date\": \"2024-04-16T00:00:00\", \"variable\": \"average\", \"value\": 20.75}, {\"date\": \"2024-04-17T00:00:00\", \"variable\": \"average\", \"value\": 20.82}, {\"date\": \"2024-04-18T00:00:00\", \"variable\": \"average\", \"value\": 20.88}, {\"date\": \"2024-04-19T00:00:00\", \"variable\": \"average\", \"value\": 20.94}, {\"date\": \"2024-04-20T00:00:00\", \"variable\": \"average\", \"value\": 20.99}, {\"date\": \"2024-04-21T00:00:00\", \"variable\": \"average\", \"value\": 21.05}, {\"date\": \"2024-04-22T00:00:00\", \"variable\": \"average\", \"value\": 21.1}, {\"date\": \"2024-04-23T00:00:00\", \"variable\": \"average\", \"value\": 21.15}, {\"date\": \"2024-04-24T00:00:00\", \"variable\": \"average\", \"value\": 21.21}, {\"date\": \"2024-04-25T00:00:00\", \"variable\": \"average\", \"value\": 21.25}, {\"date\": \"2024-04-26T00:00:00\", \"variable\": \"average\", \"value\": 21.3}, {\"date\": \"2024-04-27T00:00:00\", \"variable\": \"average\", \"value\": 21.32}, {\"date\": \"2024-04-28T00:00:00\", \"variable\": \"average\", \"value\": 21.36}, {\"date\": \"2024-04-29T00:00:00\", \"variable\": \"average\", \"value\": 21.4}, {\"date\": \"2024-04-30T00:00:00\", \"variable\": \"average\", \"value\": 21.43}, {\"date\": \"2024-05-01T00:00:00\", \"variable\": \"average\", \"value\": 21.47}, {\"date\": \"2024-05-02T00:00:00\", \"variable\": \"average\", \"value\": 21.51}, {\"date\": \"2024-05-03T00:00:00\", \"variable\": \"average\", \"value\": 21.55}, {\"date\": \"2024-05-04T00:00:00\", \"variable\": \"average\", \"value\": 21.58}, {\"date\": \"2024-05-05T00:00:00\", \"variable\": \"average\", \"value\": 21.62}, {\"date\": \"2024-05-06T00:00:00\", \"variable\": \"average\", \"value\": 21.67}, {\"date\": \"2024-05-07T00:00:00\", \"variable\": \"average\", \"value\": 21.71}, {\"date\": \"2024-05-08T00:00:00\", \"variable\": \"average\", \"value\": 21.74}, {\"date\": \"2024-05-09T00:00:00\", \"variable\": \"average\", \"value\": 21.77}, {\"date\": \"2024-05-10T00:00:00\", \"variable\": \"average\", \"value\": 21.8}, {\"date\": \"2024-05-11T00:00:00\", \"variable\": \"average\", \"value\": 21.82}, {\"date\": \"2024-05-12T00:00:00\", \"variable\": \"average\", \"value\": 21.83}, {\"date\": \"2024-05-13T00:00:00\", \"variable\": \"average\", \"value\": 21.85}, {\"date\": \"2024-05-14T00:00:00\", \"variable\": \"average\", \"value\": 21.87}, {\"date\": \"2024-05-15T00:00:00\", \"variable\": \"average\", \"value\": 21.89}, {\"date\": \"2024-05-16T00:00:00\", \"variable\": \"average\", \"value\": 21.95}, {\"date\": \"2024-05-17T00:00:00\", \"variable\": \"average\", \"value\": 22.0}, {\"date\": \"2024-05-18T00:00:00\", \"variable\": \"average\", \"value\": 22.05}, {\"date\": \"2024-05-19T00:00:00\", \"variable\": \"average\", \"value\": 22.09}, {\"date\": \"2024-05-20T00:00:00\", \"variable\": \"average\", \"value\": 22.12}, {\"date\": \"2024-05-21T00:00:00\", \"variable\": \"average\", \"value\": 22.14}, {\"date\": \"2024-05-22T00:00:00\", \"variable\": \"average\", \"value\": 22.18}, {\"date\": \"2024-05-23T00:00:00\", \"variable\": \"average\", \"value\": 22.2}, {\"date\": \"2024-05-24T00:00:00\", \"variable\": \"average\", \"value\": 22.22}, {\"date\": \"2024-05-25T00:00:00\", \"variable\": \"average\", \"value\": 22.24}, {\"date\": \"2024-05-26T00:00:00\", \"variable\": \"average\", \"value\": 22.28}, {\"date\": \"2024-05-27T00:00:00\", \"variable\": \"average\", \"value\": 22.31}, {\"date\": \"2024-05-28T00:00:00\", \"variable\": \"average\", \"value\": 22.35}, {\"date\": \"2024-05-29T00:00:00\", \"variable\": \"average\", \"value\": 22.38}, {\"date\": \"2024-05-30T00:00:00\", \"variable\": \"average\", \"value\": 22.39}, {\"date\": \"2024-05-31T00:00:00\", \"variable\": \"average\", \"value\": 22.42}, {\"date\": \"2024-06-01T00:00:00\", \"variable\": \"average\", \"value\": 22.44}, {\"date\": \"2024-06-02T00:00:00\", \"variable\": \"average\", \"value\": 22.45}, {\"date\": \"2024-06-03T00:00:00\", \"variable\": \"average\", \"value\": 22.47}, {\"date\": \"2024-06-04T00:00:00\", \"variable\": \"average\", \"value\": 22.49}, {\"date\": \"2024-06-05T00:00:00\", \"variable\": \"average\", \"value\": 22.53}, {\"date\": \"2024-06-06T00:00:00\", \"variable\": \"average\", \"value\": 22.56}, {\"date\": \"2024-06-07T00:00:00\", \"variable\": \"average\", \"value\": 22.58}, {\"date\": \"2024-06-08T00:00:00\", \"variable\": \"average\", \"value\": 22.6}, {\"date\": \"2024-06-09T00:00:00\", \"variable\": \"average\", \"value\": 22.61}, {\"date\": \"2024-06-10T00:00:00\", \"variable\": \"average\", \"value\": 22.62}, {\"date\": \"2024-06-11T00:00:00\", \"variable\": \"average\", \"value\": 22.64}, {\"date\": \"2024-06-12T00:00:00\", \"variable\": \"average\", \"value\": 22.65}, {\"date\": \"2024-06-13T00:00:00\", \"variable\": \"average\", \"value\": 22.66}, {\"date\": \"2024-06-14T00:00:00\", \"variable\": \"average\", \"value\": 22.67}, {\"date\": \"2024-06-15T00:00:00\", \"variable\": \"average\", \"value\": 22.68}, {\"date\": \"2024-06-16T00:00:00\", \"variable\": \"average\", \"value\": 22.69}, {\"date\": \"2024-06-17T00:00:00\", \"variable\": \"average\", \"value\": 22.7}, {\"date\": \"2024-06-18T00:00:00\", \"variable\": \"average\", \"value\": 22.71}, {\"date\": \"2024-06-19T00:00:00\", \"variable\": \"average\", \"value\": 22.72}, {\"date\": \"2024-06-20T00:00:00\", \"variable\": \"average\", \"value\": 22.72}, {\"date\": \"2024-06-21T00:00:00\", \"variable\": \"average\", \"value\": 22.72}, {\"date\": \"2024-06-22T00:00:00\", \"variable\": \"average\", \"value\": 22.73}, {\"date\": \"2024-06-23T00:00:00\", \"variable\": \"average\", \"value\": 22.73}, {\"date\": \"2024-06-24T00:00:00\", \"variable\": \"average\", \"value\": 22.73}, {\"date\": \"2024-06-25T00:00:00\", \"variable\": \"average\", \"value\": 22.74}, {\"date\": \"2024-06-26T00:00:00\", \"variable\": \"average\", \"value\": 22.75}, {\"date\": \"2024-06-27T00:00:00\", \"variable\": \"average\", \"value\": 22.76}, {\"date\": \"2024-06-28T00:00:00\", \"variable\": \"average\", \"value\": 22.77}, {\"date\": \"2024-06-29T00:00:00\", \"variable\": \"average\", \"value\": 22.79}, {\"date\": \"2024-06-30T00:00:00\", \"variable\": \"average\", \"value\": 22.81}, {\"date\": \"2024-07-01T00:00:00\", \"variable\": \"average\", \"value\": 22.82}, {\"date\": \"2024-07-02T00:00:00\", \"variable\": \"average\", \"value\": 22.82}, {\"date\": \"2024-07-03T00:00:00\", \"variable\": \"average\", \"value\": 22.83}, {\"date\": \"2024-07-04T00:00:00\", \"variable\": \"average\", \"value\": 22.83}, {\"date\": \"2024-07-05T00:00:00\", \"variable\": \"average\", \"value\": 22.83}, {\"date\": \"2024-07-06T00:00:00\", \"variable\": \"average\", \"value\": 22.84}, {\"date\": \"2024-07-07T00:00:00\", \"variable\": \"average\", \"value\": 22.84}, {\"date\": \"2024-07-08T00:00:00\", \"variable\": \"average\", \"value\": 22.84}, {\"date\": \"2024-07-09T00:00:00\", \"variable\": \"average\", \"value\": 22.85}, {\"date\": \"2024-07-10T00:00:00\", \"variable\": \"average\", \"value\": 22.86}, {\"date\": \"2024-07-11T00:00:00\", \"variable\": \"average\", \"value\": 22.86}, {\"date\": \"2024-07-12T00:00:00\", \"variable\": \"average\", \"value\": 22.86}, {\"date\": \"2024-07-13T00:00:00\", \"variable\": \"average\", \"value\": 22.87}, {\"date\": \"2024-07-14T00:00:00\", \"variable\": \"average\", \"value\": 22.88}, {\"date\": \"2024-07-15T00:00:00\", \"variable\": \"average\", \"value\": 22.89}, {\"date\": \"2024-07-16T00:00:00\", \"variable\": \"average\", \"value\": 22.89}, {\"date\": \"2024-07-17T00:00:00\", \"variable\": \"average\", \"value\": 22.9}, {\"date\": \"2024-07-18T00:00:00\", \"variable\": \"average\", \"value\": 22.91}, {\"date\": \"2024-07-19T00:00:00\", \"variable\": \"average\", \"value\": 22.92}, {\"date\": \"2024-07-20T00:00:00\", \"variable\": \"average\", \"value\": 22.93}, {\"date\": \"2024-07-21T00:00:00\", \"variable\": \"average\", \"value\": 22.94}, {\"date\": \"2024-07-22T00:00:00\", \"variable\": \"average\", \"value\": 22.95}, {\"date\": \"2024-07-23T00:00:00\", \"variable\": \"average\", \"value\": 22.96}, {\"date\": \"2024-07-24T00:00:00\", \"variable\": \"average\", \"value\": 22.97}, {\"date\": \"2024-07-25T00:00:00\", \"variable\": \"average\", \"value\": 22.98}, {\"date\": \"2024-07-26T00:00:00\", \"variable\": \"average\", \"value\": 22.98}, {\"date\": \"2024-07-27T00:00:00\", \"variable\": \"average\", \"value\": 22.99}, {\"date\": \"2024-07-28T00:00:00\", \"variable\": \"average\", \"value\": 23.0}, {\"date\": \"2024-07-29T00:00:00\", \"variable\": \"average\", \"value\": 23.0}, {\"date\": \"2024-07-30T00:00:00\", \"variable\": \"average\", \"value\": 23.01}, {\"date\": \"2024-07-31T00:00:00\", \"variable\": \"average\", \"value\": 23.02}, {\"date\": \"2024-08-01T00:00:00\", \"variable\": \"average\", \"value\": 23.03}, {\"date\": \"2024-08-02T00:00:00\", \"variable\": \"average\", \"value\": 23.03}, {\"date\": \"2024-08-03T00:00:00\", \"variable\": \"average\", \"value\": 23.04}, {\"date\": \"2024-08-04T00:00:00\", \"variable\": \"average\", \"value\": 23.04}, {\"date\": \"2024-08-05T00:00:00\", \"variable\": \"average\", \"value\": 23.05}, {\"date\": \"2024-08-06T00:00:00\", \"variable\": \"average\", \"value\": 23.06}, {\"date\": \"2024-08-07T00:00:00\", \"variable\": \"average\", \"value\": 23.06}, {\"date\": \"2024-08-08T00:00:00\", \"variable\": \"average\", \"value\": 23.07}, {\"date\": \"2024-08-09T00:00:00\", \"variable\": \"average\", \"value\": 23.07}, {\"date\": \"2024-08-10T00:00:00\", \"variable\": \"average\", \"value\": 23.08}, {\"date\": \"2024-08-11T00:00:00\", \"variable\": \"average\", \"value\": 23.09}, {\"date\": \"2024-08-12T00:00:00\", \"variable\": \"average\", \"value\": 23.09}, {\"date\": \"2024-08-13T00:00:00\", \"variable\": \"average\", \"value\": 23.1}, {\"date\": \"2024-08-14T00:00:00\", \"variable\": \"average\", \"value\": 23.11}, {\"date\": \"2024-08-15T00:00:00\", \"variable\": \"average\", \"value\": 23.12}, {\"date\": \"2024-08-16T00:00:00\", \"variable\": \"average\", \"value\": 23.13}, {\"date\": \"2024-08-17T00:00:00\", \"variable\": \"average\", \"value\": 23.14}, {\"date\": \"2024-08-18T00:00:00\", \"variable\": \"average\", \"value\": 23.15}, {\"date\": \"2024-08-19T00:00:00\", \"variable\": \"average\", \"value\": 23.16}, {\"date\": \"2024-08-20T00:00:00\", \"variable\": \"average\", \"value\": 23.18}, {\"date\": \"2024-08-21T00:00:00\", \"variable\": \"average\", \"value\": 23.21}, {\"date\": \"2024-08-22T00:00:00\", \"variable\": \"average\", \"value\": 23.22}, {\"date\": \"2024-08-23T00:00:00\", \"variable\": \"average\", \"value\": 23.23}, {\"date\": \"2024-08-24T00:00:00\", \"variable\": \"average\", \"value\": 23.24}, {\"date\": \"2024-08-25T00:00:00\", \"variable\": \"average\", \"value\": 23.24}, {\"date\": \"2024-08-26T00:00:00\", \"variable\": \"average\", \"value\": 23.25}, {\"date\": \"2024-08-27T00:00:00\", \"variable\": \"average\", \"value\": 23.26}, {\"date\": \"2024-08-28T00:00:00\", \"variable\": \"average\", \"value\": 23.26}, {\"date\": \"2024-08-29T00:00:00\", \"variable\": \"average\", \"value\": 23.27}, {\"date\": \"2024-08-30T00:00:00\", \"variable\": \"average\", \"value\": 23.28}, {\"date\": \"2024-08-31T00:00:00\", \"variable\": \"average\", \"value\": 23.3}, {\"date\": \"2024-09-01T00:00:00\", \"variable\": \"average\", \"value\": 23.3}, {\"date\": \"2024-09-02T00:00:00\", \"variable\": \"average\", \"value\": 23.32}, {\"date\": \"2024-09-03T00:00:00\", \"variable\": \"average\", \"value\": 23.33}, {\"date\": \"2024-09-04T00:00:00\", \"variable\": \"average\", \"value\": 23.33}, {\"date\": \"2024-09-05T00:00:00\", \"variable\": \"average\", \"value\": 23.34}, {\"date\": \"2024-09-06T00:00:00\", \"variable\": \"average\", \"value\": 23.35}, {\"date\": \"2024-09-07T00:00:00\", \"variable\": \"average\", \"value\": 23.35}, {\"date\": \"2024-09-08T00:00:00\", \"variable\": \"average\", \"value\": 23.36}, {\"date\": \"2024-09-09T00:00:00\", \"variable\": \"average\", \"value\": 23.38}, {\"date\": \"2024-09-10T00:00:00\", \"variable\": \"average\", \"value\": 23.39}, {\"date\": \"2024-09-11T00:00:00\", \"variable\": \"average\", \"value\": 23.4}, {\"date\": \"2024-09-12T00:00:00\", \"variable\": \"average\", \"value\": 23.41}, {\"date\": \"2024-09-13T00:00:00\", \"variable\": \"average\", \"value\": 23.41}, {\"date\": \"2024-09-14T00:00:00\", \"variable\": \"average\", \"value\": 23.42}, {\"date\": \"2024-09-15T00:00:00\", \"variable\": \"average\", \"value\": 23.43}, {\"date\": \"2024-09-16T00:00:00\", \"variable\": \"average\", \"value\": 23.44}, {\"date\": \"2024-09-17T00:00:00\", \"variable\": \"average\", \"value\": 23.48}, {\"date\": \"2024-09-18T00:00:00\", \"variable\": \"average\", \"value\": 23.5}, {\"date\": \"2024-09-19T00:00:00\", \"variable\": \"average\", \"value\": 23.53}, {\"date\": \"2024-09-20T00:00:00\", \"variable\": \"average\", \"value\": 23.55}, {\"date\": \"2024-09-21T00:00:00\", \"variable\": \"average\", \"value\": 23.57}, {\"date\": \"2024-09-22T00:00:00\", \"variable\": \"average\", \"value\": 23.58}, {\"date\": \"2024-09-23T00:00:00\", \"variable\": \"average\", \"value\": 23.6}, {\"date\": \"2024-09-24T00:00:00\", \"variable\": \"average\", \"value\": 23.61}, {\"date\": \"2024-09-25T00:00:00\", \"variable\": \"average\", \"value\": 23.65}, {\"date\": \"2024-09-26T00:00:00\", \"variable\": \"average\", \"value\": 23.68}, {\"date\": \"2024-09-27T00:00:00\", \"variable\": \"average\", \"value\": 23.7}, {\"date\": \"2024-09-28T00:00:00\", \"variable\": \"average\", \"value\": 23.71}, {\"date\": \"2024-09-29T00:00:00\", \"variable\": \"average\", \"value\": 23.72}, {\"date\": \"2024-09-30T00:00:00\", \"variable\": \"average\", \"value\": 23.75}]}}, {\"mode\": \"vega-lite\"});\n",
       "</script>"
      ],
      "text/plain": [
       "alt.Chart(...)"
      ]
     },
     "execution_count": 371,
     "metadata": {},
     "output_type": "execute_result"
    }
   ],
   "source": [
    "alt.Chart(line_chart).mark_line().encode(\n",
    "    x=\"date:T\",\n",
    "    y=\"value\",\n",
    "    color=\"variable\",\n",
    ").properties(\n",
    "    title=f\"California precipitation in {today.year} compared to average\",\n",
    "    width=600\n",
    ")"
   ]
  },
  {
   "cell_type": "markdown",
   "id": "0a4242e0-5067-4897-a2a1-0de60c86f895",
   "metadata": {},
   "source": [
    "### Export"
   ]
  },
  {
   "cell_type": "code",
   "execution_count": 372,
   "id": "d1638d26-239b-4dad-a0a0-2b674c4103b5",
   "metadata": {},
   "outputs": [],
   "source": [
    "gauge.to_csv(\"../../data/processed/precipitation/latest.csv\", index=False)"
   ]
  }
 ],
 "metadata": {
  "kernelspec": {
   "display_name": "Python 3 (ipykernel)",
   "language": "python",
   "name": "python3"
  },
  "language_info": {
   "codemirror_mode": {
    "name": "ipython",
    "version": 3
   },
   "file_extension": ".py",
   "mimetype": "text/x-python",
   "name": "python",
   "nbconvert_exporter": "python",
   "pygments_lexer": "ipython3",
   "version": "3.9.17"
  }
 },
 "nbformat": 4,
 "nbformat_minor": 5
}
