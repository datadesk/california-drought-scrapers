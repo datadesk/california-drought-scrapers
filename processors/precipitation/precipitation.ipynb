{
 "cells": [
  {
   "cell_type": "code",
   "execution_count": 70,
   "id": "9f37470b-9ca2-42b8-8cf4-13de43819f1b",
   "metadata": {},
   "outputs": [],
   "source": [
    "import requests as re\n",
    "import pandas as pd\n",
    "import datetime\n",
    "import altair as alt\n",
    "import altair_latimes as lat"
   ]
  },
  {
   "cell_type": "code",
   "execution_count": 71,
   "id": "6c83ddac-e892-4772-bf2e-89e89f1bdb7b",
   "metadata": {},
   "outputs": [
    {
     "data": {
      "text/plain": [
       "ThemeRegistry.enable('latimes')"
      ]
     },
     "execution_count": 71,
     "metadata": {},
     "output_type": "execute_result"
    }
   ],
   "source": [
    "alt.themes.register('latimes', lat.theme)\n",
    "alt.themes.enable('latimes')"
   ]
  },
  {
   "cell_type": "markdown",
   "id": "a743b325-cdd6-48f1-9cfe-a2a07b7ea038",
   "metadata": {},
   "source": [
    "### Download\n",
    "Source: [California Water Watch](https://cww.water.ca.gov/), PRISM"
   ]
  },
  {
   "cell_type": "markdown",
   "id": "9c815649-adc3-4d3c-a540-e2f02452ee55",
   "metadata": {},
   "source": [
    "Some parameters"
   ]
  },
  {
   "cell_type": "code",
   "execution_count": 72,
   "id": "a5e0a0b7-0b69-4d57-bb15-79366a309ef8",
   "metadata": {},
   "outputs": [
    {
     "data": {
      "text/plain": [
       "datetime.date(2024, 2, 1)"
      ]
     },
     "execution_count": 72,
     "metadata": {},
     "output_type": "execute_result"
    }
   ],
   "source": [
    "today = datetime.date.today()\n",
    "today"
   ]
  },
  {
   "cell_type": "code",
   "execution_count": 73,
   "id": "07dff571-aff2-43c7-ba19-9a189ef565f4",
   "metadata": {},
   "outputs": [],
   "source": [
    "one_year_ago = datetime.datetime.today() - datetime.timedelta(days=365)"
   ]
  },
  {
   "cell_type": "code",
   "execution_count": 74,
   "id": "8e5ca762-dc58-476b-b793-415c8e07ccae",
   "metadata": {},
   "outputs": [],
   "source": [
    "atlasID=\"Statewide\"\n",
    "varKey=\"PPT_YTD\""
   ]
  },
  {
   "cell_type": "markdown",
   "id": "62b357ee-f89a-4755-80c8-9c2d77406972",
   "metadata": {},
   "source": [
    "Query"
   ]
  },
  {
   "cell_type": "code",
   "execution_count": 75,
   "id": "b3ef8244-17f7-4687-b02d-10dd1f1bfad4",
   "metadata": {},
   "outputs": [],
   "source": [
    "url = f'https://cww.water.ca.gov/service/prism/huc8/precipstats?date={today}&atlasID={atlasID}&varKey={varKey}'"
   ]
  },
  {
   "cell_type": "code",
   "execution_count": 76,
   "id": "407d0a53-a4ca-43be-9a86-cd69c39ce340",
   "metadata": {},
   "outputs": [],
   "source": [
    "data = re.get(url).json()['data']"
   ]
  },
  {
   "cell_type": "markdown",
   "id": "7eee845f-3bdb-4b90-9cc2-073d6dbb07a5",
   "metadata": {},
   "source": [
    "Query one year ago"
   ]
  },
  {
   "cell_type": "code",
   "execution_count": 77,
   "id": "8f0663d8-6843-4547-a322-8cddcba5dce2",
   "metadata": {},
   "outputs": [],
   "source": [
    "last_year_url = f'https://cww.water.ca.gov/service/prism/huc8/precipstats?date={one_year_ago}&atlasID={atlasID}&varKey={varKey}'"
   ]
  },
  {
   "cell_type": "code",
   "execution_count": 78,
   "id": "00fe4667-47b8-4306-bfe5-adbca4ecd73b",
   "metadata": {},
   "outputs": [],
   "source": [
    "last_year_data = re.get(last_year_url).json()['data']"
   ]
  },
  {
   "cell_type": "markdown",
   "id": "fca38fbf-850b-486f-9d9f-c6354611a48e",
   "metadata": {},
   "source": [
    "### Parse"
   ]
  },
  {
   "cell_type": "code",
   "execution_count": 79,
   "id": "efd2da6a-2466-4194-a065-f2ba999ac229",
   "metadata": {},
   "outputs": [],
   "source": [
    "def parsePrecipStats(data):\n",
    "    columns = data['seriesNames']\n",
    "    columns.insert(0, \"date\")\n",
    "    \n",
    "    df = pd.DataFrame(data['series'], columns=columns)\n",
    "    df.columns = df.columns.str.lower()\n",
    "    df['date'] = pd.to_datetime(df['date'])\n",
    "    \n",
    "    return df"
   ]
  },
  {
   "cell_type": "code",
   "execution_count": 80,
   "id": "2f51fd8b-7999-4b91-a1a9-0204dacebad7",
   "metadata": {},
   "outputs": [],
   "source": [
    "df = parsePrecipStats(data)"
   ]
  },
  {
   "cell_type": "code",
   "execution_count": 81,
   "id": "c7ba3e7c-5d00-41bd-acb3-ee2b35ff8de0",
   "metadata": {},
   "outputs": [],
   "source": [
    "last_year_df = parsePrecipStats(last_year_data)"
   ]
  },
  {
   "cell_type": "markdown",
   "id": "aff95d46-3fc0-446e-89f3-38573f9b642e",
   "metadata": {},
   "source": [
    "## Get toplines"
   ]
  },
  {
   "cell_type": "code",
   "execution_count": 82,
   "id": "4b1a854a-b022-4bd8-b8b6-fdd83de730bd",
   "metadata": {},
   "outputs": [
    {
     "data": {
      "text/plain": [
       "2.31"
      ]
     },
     "execution_count": 82,
     "metadata": {},
     "output_type": "execute_result"
    }
   ],
   "source": [
    "prcp_min=data['min']\n",
    "prcp_min"
   ]
  },
  {
   "cell_type": "code",
   "execution_count": 83,
   "id": "ff25d8b7-abcf-44e7-a93a-f75651aee56e",
   "metadata": {},
   "outputs": [
    {
     "data": {
      "text/plain": [
       "12.36"
      ]
     },
     "execution_count": 83,
     "metadata": {},
     "output_type": "execute_result"
    }
   ],
   "source": [
    "prcp_avg=data['avg']\n",
    "prcp_avg"
   ]
  },
  {
   "cell_type": "code",
   "execution_count": 84,
   "id": "8178f4fc-d458-45b2-8fc4-1d0ef45cc5b6",
   "metadata": {},
   "outputs": [
    {
     "data": {
      "text/plain": [
       "23.54"
      ]
     },
     "execution_count": 84,
     "metadata": {},
     "output_type": "execute_result"
    }
   ],
   "source": [
    "prcp_max=data['max']\n",
    "prcp_max"
   ]
  },
  {
   "cell_type": "code",
   "execution_count": 85,
   "id": "5077c349-e63e-4f8a-92ae-f9288af1f26c",
   "metadata": {},
   "outputs": [
    {
     "data": {
      "text/plain": [
       "23.68"
      ]
     },
     "execution_count": 85,
     "metadata": {},
     "output_type": "execute_result"
    }
   ],
   "source": [
    "year_end_avg = data['yearEndAvg']\n",
    "year_end_avg"
   ]
  },
  {
   "cell_type": "markdown",
   "id": "916b285b-6789-4322-8c8e-ed347f88880c",
   "metadata": {},
   "source": [
    "### Plot"
   ]
  },
  {
   "cell_type": "code",
   "execution_count": 86,
   "id": "fd9e5a91-ad15-47fb-99d4-344ef1a787bc",
   "metadata": {},
   "outputs": [],
   "source": [
    "gauge = df[\n",
    "    (~df.current.isna())\n",
    "]"
   ]
  },
  {
   "cell_type": "code",
   "execution_count": 87,
   "id": "e64c9795-4443-4e4d-bc01-848a7d309c51",
   "metadata": {},
   "outputs": [],
   "source": [
    "gauge = gauge[gauge.date == gauge.date.max()]"
   ]
  },
  {
   "cell_type": "code",
   "execution_count": 88,
   "id": "54c5ae0a-8084-4b36-b9f9-178920fdae5f",
   "metadata": {},
   "outputs": [],
   "source": [
    "gauge[\"record\"] = prcp_max"
   ]
  },
  {
   "cell_type": "code",
   "execution_count": 89,
   "id": "0bc96b18-6950-4ee7-bf33-a5e791afbb78",
   "metadata": {},
   "outputs": [],
   "source": [
    "gauge[\"pct_of_avg\"] = (gauge[\"current\"] / gauge[\"average\"]) * 100"
   ]
  },
  {
   "cell_type": "markdown",
   "id": "7b94bf9e-5232-4a1a-bd6f-6d9eed0c8067",
   "metadata": {},
   "source": [
    "Last year"
   ]
  },
  {
   "cell_type": "code",
   "execution_count": 90,
   "id": "416eeafc-6ed4-44dd-b29b-4907eb803c20",
   "metadata": {},
   "outputs": [],
   "source": [
    "total_last_year = last_year_df[ last_year_df.date == gauge.date.max() ].iloc[0][\"current\"]"
   ]
  },
  {
   "cell_type": "code",
   "execution_count": 91,
   "id": "296156a7-e946-4cb2-a080-ba627ce5036f",
   "metadata": {},
   "outputs": [],
   "source": [
    "gauge[\"one_year_ago\"] = total_last_year"
   ]
  },
  {
   "cell_type": "code",
   "execution_count": 93,
   "id": "d2097f6a-cb2a-4e97-b2de-e65db88aaf5a",
   "metadata": {},
   "outputs": [
    {
     "data": {
      "text/html": [
       "\n",
       "<div id=\"altair-viz-1cb814c10ea54386a24d76f022c4c97d\"></div>\n",
       "<script type=\"text/javascript\">\n",
       "  var VEGA_DEBUG = (typeof VEGA_DEBUG == \"undefined\") ? {} : VEGA_DEBUG;\n",
       "  (function(spec, embedOpt){\n",
       "    let outputDiv = document.currentScript.previousElementSibling;\n",
       "    if (outputDiv.id !== \"altair-viz-1cb814c10ea54386a24d76f022c4c97d\") {\n",
       "      outputDiv = document.getElementById(\"altair-viz-1cb814c10ea54386a24d76f022c4c97d\");\n",
       "    }\n",
       "    const paths = {\n",
       "      \"vega\": \"https://cdn.jsdelivr.net/npm//vega@5?noext\",\n",
       "      \"vega-lib\": \"https://cdn.jsdelivr.net/npm//vega-lib?noext\",\n",
       "      \"vega-lite\": \"https://cdn.jsdelivr.net/npm//vega-lite@4.17.0?noext\",\n",
       "      \"vega-embed\": \"https://cdn.jsdelivr.net/npm//vega-embed@6?noext\",\n",
       "    };\n",
       "\n",
       "    function maybeLoadScript(lib, version) {\n",
       "      var key = `${lib.replace(\"-\", \"\")}_version`;\n",
       "      return (VEGA_DEBUG[key] == version) ?\n",
       "        Promise.resolve(paths[lib]) :\n",
       "        new Promise(function(resolve, reject) {\n",
       "          var s = document.createElement('script');\n",
       "          document.getElementsByTagName(\"head\")[0].appendChild(s);\n",
       "          s.async = true;\n",
       "          s.onload = () => {\n",
       "            VEGA_DEBUG[key] = version;\n",
       "            return resolve(paths[lib]);\n",
       "          };\n",
       "          s.onerror = () => reject(`Error loading script: ${paths[lib]}`);\n",
       "          s.src = paths[lib];\n",
       "        });\n",
       "    }\n",
       "\n",
       "    function showError(err) {\n",
       "      outputDiv.innerHTML = `<div class=\"error\" style=\"color:red;\">${err}</div>`;\n",
       "      throw err;\n",
       "    }\n",
       "\n",
       "    function displayChart(vegaEmbed) {\n",
       "      vegaEmbed(outputDiv, spec, embedOpt)\n",
       "        .catch(err => showError(`Javascript Error: ${err.message}<br>This usually means there's a typo in your chart specification. See the javascript console for the full traceback.`));\n",
       "    }\n",
       "\n",
       "    if(typeof define === \"function\" && define.amd) {\n",
       "      requirejs.config({paths});\n",
       "      require([\"vega-embed\"], displayChart, err => showError(`Error loading script: ${err.message}`));\n",
       "    } else {\n",
       "      maybeLoadScript(\"vega\", \"5\")\n",
       "        .then(() => maybeLoadScript(\"vega-lite\", \"4.17.0\"))\n",
       "        .then(() => maybeLoadScript(\"vega-embed\", \"6\"))\n",
       "        .catch(showError)\n",
       "        .then(() => displayChart(vegaEmbed));\n",
       "    }\n",
       "  })({\"config\": {\"view\": {\"width\": 800, \"height\": 450}, \"background\": \"#ffffff\", \"title\": {\"anchor\": \"start\", \"font\": \"BentonGothic-Bold, sans\", \"fontColor\": \"#000000\", \"fontSize\": 22, \"fontWeight\": \"normal\"}, \"arc\": {\"fill\": \"#82c6df\"}, \"area\": {\"fill\": \"#82c6df\"}, \"line\": {\"stroke\": \"#82c6df\", \"strokeWidth\": 3}, \"path\": {\"stroke\": \"#82c6df\"}, \"rect\": {\"fill\": \"#82c6df\"}, \"shape\": {\"stroke\": \"#82c6df\"}, \"bar\": {\"fill\": \"#82c6df\"}, \"point\": {\"stroke\": \"#82c6df\"}, \"symbol\": {\"fill\": \"#82c6df\", \"size\": 30}, \"axis\": {\"titleFont\": \"BentonGothic-Bold, sans\", \"titleFontSize\": 14, \"titleFontWeight\": \"normal\", \"labelFont\": \"BentonGothic, sans\", \"labelFontSize\": 12, \"labelFontWeight\": \"normal\"}, \"axisX\": {\"labelAngle\": 0, \"labelPadding\": 4, \"tickSize\": 3}, \"axisY\": {\"labelBaseline\": \"middle\", \"maxExtent\": 45, \"minExtent\": 45, \"tickSize\": 2, \"titleAlign\": \"left\", \"titleAngle\": 0, \"titleX\": -45, \"titleY\": -11}, \"legend\": {\"titleFont\": \"BentonGothic-Bold, sans\", \"titleFontSize\": 14, \"titleFontWeight\": \"normal\", \"symbolType\": \"square\", \"labelFont\": \"BentonGothic, sans\", \"labelFontSize\": 13}, \"range\": {\"category\": [\"#3580b1\", \"#ec8431\", \"#ab7fb4\", \"#c89d29\", \"#adc839\", \"#829eb1\"], \"diverging\": [\"#e68a4f\", \"#f4bb6a\", \"#f9e39c\", \"#dadfe2\", \"#a6b7c6\", \"#849eae\"], \"heatmap\": [\"#fbf2c7\", \"#f9e39c\", \"#f8d36e\", \"#f4bb6a\", \"#e68a4f\", \"#d15a40\", \"#ab4232\"], \"ordinal\": [\"#fbf2c7\", \"#f9e39c\", \"#f8d36e\", \"#f4bb6a\", \"#e68a4f\", \"#d15a40\", \"#ab4232\"], \"ramp\": [\"#fbf2c7\", \"#f9e39c\", \"#f8d36e\", \"#f4bb6a\", \"#e68a4f\", \"#d15a40\", \"#ab4232\"]}}, \"data\": {\"name\": \"data-cce66dc79de0005d683173dba5644c11\"}, \"mark\": \"bar\", \"encoding\": {\"color\": {\"field\": \"variable\", \"type\": \"nominal\"}, \"x\": {\"field\": \"value\", \"type\": \"quantitative\"}, \"y\": {\"field\": \"variable\", \"sort\": \"-x\", \"type\": \"nominal\"}}, \"height\": 200, \"title\": \"Year-to-date precipitation in California compared to average\", \"width\": 600, \"$schema\": \"https://vega.github.io/schema/vega-lite/v4.17.0.json\", \"datasets\": {\"data-cce66dc79de0005d683173dba5644c11\": [{\"date\": \"2024-01-31T00:00:00\", \"variable\": \"current\", \"value\": 9.84}, {\"date\": \"2024-01-31T00:00:00\", \"variable\": \"average\", \"value\": 12.28}, {\"date\": \"2024-01-31T00:00:00\", \"variable\": \"one_year_ago\", \"value\": 18.17}]}}, {\"mode\": \"vega-lite\"});\n",
       "</script>"
      ],
      "text/plain": [
       "alt.Chart(...)"
      ]
     },
     "execution_count": 93,
     "metadata": {},
     "output_type": "execute_result"
    }
   ],
   "source": [
    "alt.Chart(\n",
    "    pd.melt(gauge, id_vars=\"date\", value_vars=[\"current\",\"average\",\"one_year_ago\"])\n",
    ").mark_bar().encode(\n",
    "    x=\"value\",\n",
    "    y=alt.Y(\"variable\", sort=\"-x\"),\n",
    "    color=\"variable\"\n",
    ").properties(\n",
    "    title=\"Year-to-date precipitation in California compared to average\",\n",
    "    width=600,\n",
    "    height=200\n",
    ")"
   ]
  },
  {
   "cell_type": "code",
   "execution_count": null,
   "id": "4bcd403f-512c-4de2-a295-0d83e682d900",
   "metadata": {},
   "outputs": [],
   "source": [
    "line_chart = pd.melt(df, id_vars=\"date\", value_vars=[\"current\",\"average\"])"
   ]
  },
  {
   "cell_type": "code",
   "execution_count": null,
   "id": "1eb6e495-0c74-469a-b31a-e0bc16123b53",
   "metadata": {},
   "outputs": [],
   "source": [
    "alt.Chart(line_chart).mark_line().encode(\n",
    "    x=\"date:T\",\n",
    "    y=\"value\",\n",
    "    color=\"variable\",\n",
    ").properties(\n",
    "    title=f\"California precipitation in {today.year} compared to average\",\n",
    "    width=600\n",
    ")"
   ]
  },
  {
   "cell_type": "markdown",
   "id": "0a4242e0-5067-4897-a2a1-0de60c86f895",
   "metadata": {},
   "source": [
    "### Export"
   ]
  },
  {
   "cell_type": "code",
   "execution_count": null,
   "id": "d1638d26-239b-4dad-a0a0-2b674c4103b5",
   "metadata": {},
   "outputs": [],
   "source": [
    "gauge.to_csv(\"../../data/processed/precipitation/latest.csv\", index=False)"
   ]
  }
 ],
 "metadata": {
  "kernelspec": {
   "display_name": "Python 3 (ipykernel)",
   "language": "python",
   "name": "python3"
  },
  "language_info": {
   "codemirror_mode": {
    "name": "ipython",
    "version": 3
   },
   "file_extension": ".py",
   "mimetype": "text/x-python",
   "name": "python",
   "nbconvert_exporter": "python",
   "pygments_lexer": "ipython3",
   "version": "3.9.17"
  }
 },
 "nbformat": 4,
 "nbformat_minor": 5
}
