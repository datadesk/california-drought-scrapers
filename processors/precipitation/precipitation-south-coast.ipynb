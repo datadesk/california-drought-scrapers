{
 "cells": [
  {
   "cell_type": "code",
   "execution_count": 1,
   "id": "9f37470b-9ca2-42b8-8cf4-13de43819f1b",
   "metadata": {},
   "outputs": [],
   "source": [
    "import requests as re\n",
    "import pandas as pd\n",
    "import datetime\n",
    "import altair as alt\n",
    "import altair_latimes as lat"
   ]
  },
  {
   "cell_type": "code",
   "execution_count": 2,
   "id": "6c83ddac-e892-4772-bf2e-89e89f1bdb7b",
   "metadata": {},
   "outputs": [
    {
     "data": {
      "text/plain": [
       "ThemeRegistry.enable('latimes')"
      ]
     },
     "execution_count": 2,
     "metadata": {},
     "output_type": "execute_result"
    }
   ],
   "source": [
    "alt.themes.register('latimes', lat.theme)\n",
    "alt.themes.enable('latimes')"
   ]
  },
  {
   "cell_type": "markdown",
   "id": "a743b325-cdd6-48f1-9cfe-a2a07b7ea038",
   "metadata": {},
   "source": [
    "### Download\n",
    "Source: [California Water Watch](https://cww.water.ca.gov/), PRISM"
   ]
  },
  {
   "cell_type": "markdown",
   "id": "9c815649-adc3-4d3c-a540-e2f02452ee55",
   "metadata": {},
   "source": [
    "Some parameters"
   ]
  },
  {
   "cell_type": "code",
   "execution_count": 3,
   "id": "a5e0a0b7-0b69-4d57-bb15-79366a309ef8",
   "metadata": {},
   "outputs": [
    {
     "data": {
      "text/plain": [
       "datetime.date(2024, 1, 24)"
      ]
     },
     "execution_count": 3,
     "metadata": {},
     "output_type": "execute_result"
    }
   ],
   "source": [
    "today = datetime.date.today()\n",
    "today"
   ]
  },
  {
   "cell_type": "code",
   "execution_count": 4,
   "id": "8e5ca762-dc58-476b-b793-415c8e07ccae",
   "metadata": {},
   "outputs": [],
   "source": [
    "atlasID=\"South Coast\"\n",
    "varKey=\"PPT_YTD\""
   ]
  },
  {
   "cell_type": "markdown",
   "id": "62b357ee-f89a-4755-80c8-9c2d77406972",
   "metadata": {},
   "source": [
    "Query"
   ]
  },
  {
   "cell_type": "code",
   "execution_count": 5,
   "id": "b3ef8244-17f7-4687-b02d-10dd1f1bfad4",
   "metadata": {},
   "outputs": [],
   "source": [
    "url = f'https://cww.water.ca.gov/service/prism/huc8/precipstats?date={today}&atlasID={atlasID}&varKey={varKey}'"
   ]
  },
  {
   "cell_type": "code",
   "execution_count": 6,
   "id": "407d0a53-a4ca-43be-9a86-cd69c39ce340",
   "metadata": {},
   "outputs": [],
   "source": [
    "data = re.get(url).json()['data']"
   ]
  },
  {
   "cell_type": "markdown",
   "id": "fca38fbf-850b-486f-9d9f-c6354611a48e",
   "metadata": {},
   "source": [
    "### Parse"
   ]
  },
  {
   "cell_type": "code",
   "execution_count": 7,
   "id": "61f91a94-65e2-4c26-9dc5-bec69424b642",
   "metadata": {},
   "outputs": [
    {
     "data": {
      "text/plain": [
       "dict_keys(['seriesNames', 'series', 'min', 'avg', 'max', 'yearEndAvg'])"
      ]
     },
     "execution_count": 7,
     "metadata": {},
     "output_type": "execute_result"
    }
   ],
   "source": [
    "data.keys()"
   ]
  },
  {
   "cell_type": "code",
   "execution_count": 8,
   "id": "79dacc66-8b19-4af8-b664-6a2d11f38ae4",
   "metadata": {},
   "outputs": [
    {
     "data": {
      "text/plain": [
       "0.67"
      ]
     },
     "execution_count": 8,
     "metadata": {},
     "output_type": "execute_result"
    }
   ],
   "source": [
    "prcp_min=data['min']\n",
    "prcp_min"
   ]
  },
  {
   "cell_type": "code",
   "execution_count": 9,
   "id": "1fcebb41-0122-49ed-8d88-05f25d36ecfb",
   "metadata": {},
   "outputs": [
    {
     "data": {
      "text/plain": [
       "7.84"
      ]
     },
     "execution_count": 9,
     "metadata": {},
     "output_type": "execute_result"
    }
   ],
   "source": [
    "prcp_avg=data['avg']\n",
    "prcp_avg"
   ]
  },
  {
   "cell_type": "code",
   "execution_count": 10,
   "id": "e179b548-82e5-4cd2-a06e-4a0175c009c8",
   "metadata": {},
   "outputs": [
    {
     "data": {
      "text/plain": [
       "25.18"
      ]
     },
     "execution_count": 10,
     "metadata": {},
     "output_type": "execute_result"
    }
   ],
   "source": [
    "prcp_max=data['max']\n",
    "prcp_max"
   ]
  },
  {
   "cell_type": "code",
   "execution_count": 11,
   "id": "a8ccb6e5-c972-4233-a82a-2dd3c0c56fe1",
   "metadata": {},
   "outputs": [
    {
     "data": {
      "text/plain": [
       "17.48"
      ]
     },
     "execution_count": 11,
     "metadata": {},
     "output_type": "execute_result"
    }
   ],
   "source": [
    "year_end_avg = data['yearEndAvg']\n",
    "year_end_avg"
   ]
  },
  {
   "cell_type": "markdown",
   "id": "b95eb132-d4fb-47b7-b0d8-3df1bc360389",
   "metadata": {},
   "source": [
    "Build dataframe"
   ]
  },
  {
   "cell_type": "code",
   "execution_count": 12,
   "id": "2c0defe0-ae92-4850-b6a1-2516f667173d",
   "metadata": {},
   "outputs": [],
   "source": [
    "columns = data['seriesNames']"
   ]
  },
  {
   "cell_type": "code",
   "execution_count": 13,
   "id": "5da24948-4e8a-4634-8e85-e62acee43634",
   "metadata": {},
   "outputs": [],
   "source": [
    "columns.insert(0, \"date\")"
   ]
  },
  {
   "cell_type": "code",
   "execution_count": 14,
   "id": "63524199-61ba-49f1-9d58-88dd66bec142",
   "metadata": {},
   "outputs": [],
   "source": [
    "df = pd.DataFrame(data['series'], columns=columns)"
   ]
  },
  {
   "cell_type": "code",
   "execution_count": 15,
   "id": "f63cae8c-14fc-4117-9197-c00854e6699c",
   "metadata": {},
   "outputs": [],
   "source": [
    "df.columns = df.columns.str.lower()"
   ]
  },
  {
   "cell_type": "code",
   "execution_count": 16,
   "id": "2ce31389-2b3d-4a3a-bf1f-4f836b3e4432",
   "metadata": {},
   "outputs": [],
   "source": [
    "df['date'] = pd.to_datetime(df['date'])"
   ]
  },
  {
   "cell_type": "code",
   "execution_count": 29,
   "id": "556979b0-c417-4496-9b68-9eb22439db4f",
   "metadata": {},
   "outputs": [
    {
     "data": {
      "text/html": [
       "<div>\n",
       "<style scoped>\n",
       "    .dataframe tbody tr th:only-of-type {\n",
       "        vertical-align: middle;\n",
       "    }\n",
       "\n",
       "    .dataframe tbody tr th {\n",
       "        vertical-align: top;\n",
       "    }\n",
       "\n",
       "    .dataframe thead th {\n",
       "        text-align: right;\n",
       "    }\n",
       "</style>\n",
       "<table border=\"1\" class=\"dataframe\">\n",
       "  <thead>\n",
       "    <tr style=\"text-align: right;\">\n",
       "      <th></th>\n",
       "      <th>date</th>\n",
       "      <th>current</th>\n",
       "      <th>average</th>\n",
       "    </tr>\n",
       "  </thead>\n",
       "  <tbody>\n",
       "    <tr>\n",
       "      <th>113</th>\n",
       "      <td>2024-01-22</td>\n",
       "      <td>4.58</td>\n",
       "      <td>7.63</td>\n",
       "    </tr>\n",
       "  </tbody>\n",
       "</table>\n",
       "</div>"
      ],
      "text/plain": [
       "          date  current  average\n",
       "113 2024-01-22     4.58     7.63"
      ]
     },
     "execution_count": 29,
     "metadata": {},
     "output_type": "execute_result"
    }
   ],
   "source": [
    "df[ df.date == \"2024-01-22\" ]"
   ]
  },
  {
   "cell_type": "markdown",
   "id": "916b285b-6789-4322-8c8e-ed347f88880c",
   "metadata": {},
   "source": [
    "### Plot"
   ]
  },
  {
   "cell_type": "code",
   "execution_count": 17,
   "id": "fd9e5a91-ad15-47fb-99d4-344ef1a787bc",
   "metadata": {},
   "outputs": [],
   "source": [
    "gauge = df[\n",
    "    (~df.current.isna())\n",
    "]"
   ]
  },
  {
   "cell_type": "code",
   "execution_count": 18,
   "id": "e64c9795-4443-4e4d-bc01-848a7d309c51",
   "metadata": {},
   "outputs": [],
   "source": [
    "gauge = gauge[gauge.date == gauge.date.max()]"
   ]
  },
  {
   "cell_type": "code",
   "execution_count": 19,
   "id": "54c5ae0a-8084-4b36-b9f9-178920fdae5f",
   "metadata": {},
   "outputs": [],
   "source": [
    "gauge[\"record\"] = prcp_max"
   ]
  },
  {
   "cell_type": "code",
   "execution_count": 20,
   "id": "0bc96b18-6950-4ee7-bf33-a5e791afbb78",
   "metadata": {},
   "outputs": [],
   "source": [
    "gauge[\"pct_of_avg\"] = (gauge[\"current\"] / gauge[\"average\"]) * 100"
   ]
  },
  {
   "cell_type": "code",
   "execution_count": 21,
   "id": "d2097f6a-cb2a-4e97-b2de-e65db88aaf5a",
   "metadata": {},
   "outputs": [
    {
     "data": {
      "text/html": [
       "\n",
       "<div id=\"altair-viz-3e0169e940894908a297ebec2eeb6107\"></div>\n",
       "<script type=\"text/javascript\">\n",
       "  var VEGA_DEBUG = (typeof VEGA_DEBUG == \"undefined\") ? {} : VEGA_DEBUG;\n",
       "  (function(spec, embedOpt){\n",
       "    let outputDiv = document.currentScript.previousElementSibling;\n",
       "    if (outputDiv.id !== \"altair-viz-3e0169e940894908a297ebec2eeb6107\") {\n",
       "      outputDiv = document.getElementById(\"altair-viz-3e0169e940894908a297ebec2eeb6107\");\n",
       "    }\n",
       "    const paths = {\n",
       "      \"vega\": \"https://cdn.jsdelivr.net/npm//vega@5?noext\",\n",
       "      \"vega-lib\": \"https://cdn.jsdelivr.net/npm//vega-lib?noext\",\n",
       "      \"vega-lite\": \"https://cdn.jsdelivr.net/npm//vega-lite@4.17.0?noext\",\n",
       "      \"vega-embed\": \"https://cdn.jsdelivr.net/npm//vega-embed@6?noext\",\n",
       "    };\n",
       "\n",
       "    function maybeLoadScript(lib, version) {\n",
       "      var key = `${lib.replace(\"-\", \"\")}_version`;\n",
       "      return (VEGA_DEBUG[key] == version) ?\n",
       "        Promise.resolve(paths[lib]) :\n",
       "        new Promise(function(resolve, reject) {\n",
       "          var s = document.createElement('script');\n",
       "          document.getElementsByTagName(\"head\")[0].appendChild(s);\n",
       "          s.async = true;\n",
       "          s.onload = () => {\n",
       "            VEGA_DEBUG[key] = version;\n",
       "            return resolve(paths[lib]);\n",
       "          };\n",
       "          s.onerror = () => reject(`Error loading script: ${paths[lib]}`);\n",
       "          s.src = paths[lib];\n",
       "        });\n",
       "    }\n",
       "\n",
       "    function showError(err) {\n",
       "      outputDiv.innerHTML = `<div class=\"error\" style=\"color:red;\">${err}</div>`;\n",
       "      throw err;\n",
       "    }\n",
       "\n",
       "    function displayChart(vegaEmbed) {\n",
       "      vegaEmbed(outputDiv, spec, embedOpt)\n",
       "        .catch(err => showError(`Javascript Error: ${err.message}<br>This usually means there's a typo in your chart specification. See the javascript console for the full traceback.`));\n",
       "    }\n",
       "\n",
       "    if(typeof define === \"function\" && define.amd) {\n",
       "      requirejs.config({paths});\n",
       "      require([\"vega-embed\"], displayChart, err => showError(`Error loading script: ${err.message}`));\n",
       "    } else {\n",
       "      maybeLoadScript(\"vega\", \"5\")\n",
       "        .then(() => maybeLoadScript(\"vega-lite\", \"4.17.0\"))\n",
       "        .then(() => maybeLoadScript(\"vega-embed\", \"6\"))\n",
       "        .catch(showError)\n",
       "        .then(() => displayChart(vegaEmbed));\n",
       "    }\n",
       "  })({\"config\": {\"view\": {\"width\": 800, \"height\": 450}, \"background\": \"#ffffff\", \"title\": {\"anchor\": \"start\", \"font\": \"BentonGothic-Bold, sans\", \"fontColor\": \"#000000\", \"fontSize\": 22, \"fontWeight\": \"normal\"}, \"arc\": {\"fill\": \"#82c6df\"}, \"area\": {\"fill\": \"#82c6df\"}, \"line\": {\"stroke\": \"#82c6df\", \"strokeWidth\": 3}, \"path\": {\"stroke\": \"#82c6df\"}, \"rect\": {\"fill\": \"#82c6df\"}, \"shape\": {\"stroke\": \"#82c6df\"}, \"bar\": {\"fill\": \"#82c6df\"}, \"point\": {\"stroke\": \"#82c6df\"}, \"symbol\": {\"fill\": \"#82c6df\", \"size\": 30}, \"axis\": {\"titleFont\": \"BentonGothic-Bold, sans\", \"titleFontSize\": 14, \"titleFontWeight\": \"normal\", \"labelFont\": \"BentonGothic, sans\", \"labelFontSize\": 12, \"labelFontWeight\": \"normal\"}, \"axisX\": {\"labelAngle\": 0, \"labelPadding\": 4, \"tickSize\": 3}, \"axisY\": {\"labelBaseline\": \"middle\", \"maxExtent\": 45, \"minExtent\": 45, \"tickSize\": 2, \"titleAlign\": \"left\", \"titleAngle\": 0, \"titleX\": -45, \"titleY\": -11}, \"legend\": {\"titleFont\": \"BentonGothic-Bold, sans\", \"titleFontSize\": 14, \"titleFontWeight\": \"normal\", \"symbolType\": \"square\", \"labelFont\": \"BentonGothic, sans\", \"labelFontSize\": 13}, \"range\": {\"category\": [\"#3580b1\", \"#ec8431\", \"#ab7fb4\", \"#c89d29\", \"#adc839\", \"#829eb1\"], \"diverging\": [\"#e68a4f\", \"#f4bb6a\", \"#f9e39c\", \"#dadfe2\", \"#a6b7c6\", \"#849eae\"], \"heatmap\": [\"#fbf2c7\", \"#f9e39c\", \"#f8d36e\", \"#f4bb6a\", \"#e68a4f\", \"#d15a40\", \"#ab4232\"], \"ordinal\": [\"#fbf2c7\", \"#f9e39c\", \"#f8d36e\", \"#f4bb6a\", \"#e68a4f\", \"#d15a40\", \"#ab4232\"], \"ramp\": [\"#fbf2c7\", \"#f9e39c\", \"#f8d36e\", \"#f4bb6a\", \"#e68a4f\", \"#d15a40\", \"#ab4232\"]}}, \"data\": {\"name\": \"data-eebfc9ef3fb6c51782740df0770ca3de\"}, \"mark\": \"bar\", \"encoding\": {\"color\": {\"field\": \"variable\", \"type\": \"nominal\"}, \"x\": {\"field\": \"value\", \"type\": \"quantitative\"}, \"y\": {\"field\": \"variable\", \"sort\": \"-x\", \"type\": \"nominal\"}}, \"height\": 200, \"title\": \"Year-to-date precipitation in California compared to average\", \"width\": 600, \"$schema\": \"https://vega.github.io/schema/vega-lite/v4.17.0.json\", \"datasets\": {\"data-eebfc9ef3fb6c51782740df0770ca3de\": [{\"date\": \"2024-01-22T00:00:00\", \"variable\": \"current\", \"value\": 4.58}, {\"date\": \"2024-01-22T00:00:00\", \"variable\": \"average\", \"value\": 7.63}]}}, {\"mode\": \"vega-lite\"});\n",
       "</script>"
      ],
      "text/plain": [
       "alt.Chart(...)"
      ]
     },
     "execution_count": 21,
     "metadata": {},
     "output_type": "execute_result"
    }
   ],
   "source": [
    "alt.Chart(\n",
    "    pd.melt(gauge, id_vars=\"date\", value_vars=[\"current\",\"average\"])\n",
    ").mark_bar().encode(\n",
    "    x=\"value\",\n",
    "    y=alt.Y(\"variable\", sort=\"-x\"),\n",
    "    color=\"variable\"\n",
    ").properties(\n",
    "    title=\"Year-to-date precipitation in California compared to average\",\n",
    "    width=600,\n",
    "    height=200\n",
    ")"
   ]
  },
  {
   "cell_type": "code",
   "execution_count": 22,
   "id": "4bcd403f-512c-4de2-a295-0d83e682d900",
   "metadata": {},
   "outputs": [],
   "source": [
    "line_chart = pd.melt(df, id_vars=\"date\", value_vars=[\"current\",\"average\"])"
   ]
  },
  {
   "cell_type": "code",
   "execution_count": 23,
   "id": "1eb6e495-0c74-469a-b31a-e0bc16123b53",
   "metadata": {},
   "outputs": [
    {
     "data": {
      "text/html": [
       "\n",
       "<div id=\"altair-viz-ce0b04bc43f24b36af7197bb364631a4\"></div>\n",
       "<script type=\"text/javascript\">\n",
       "  var VEGA_DEBUG = (typeof VEGA_DEBUG == \"undefined\") ? {} : VEGA_DEBUG;\n",
       "  (function(spec, embedOpt){\n",
       "    let outputDiv = document.currentScript.previousElementSibling;\n",
       "    if (outputDiv.id !== \"altair-viz-ce0b04bc43f24b36af7197bb364631a4\") {\n",
       "      outputDiv = document.getElementById(\"altair-viz-ce0b04bc43f24b36af7197bb364631a4\");\n",
       "    }\n",
       "    const paths = {\n",
       "      \"vega\": \"https://cdn.jsdelivr.net/npm//vega@5?noext\",\n",
       "      \"vega-lib\": \"https://cdn.jsdelivr.net/npm//vega-lib?noext\",\n",
       "      \"vega-lite\": \"https://cdn.jsdelivr.net/npm//vega-lite@4.17.0?noext\",\n",
       "      \"vega-embed\": \"https://cdn.jsdelivr.net/npm//vega-embed@6?noext\",\n",
       "    };\n",
       "\n",
       "    function maybeLoadScript(lib, version) {\n",
       "      var key = `${lib.replace(\"-\", \"\")}_version`;\n",
       "      return (VEGA_DEBUG[key] == version) ?\n",
       "        Promise.resolve(paths[lib]) :\n",
       "        new Promise(function(resolve, reject) {\n",
       "          var s = document.createElement('script');\n",
       "          document.getElementsByTagName(\"head\")[0].appendChild(s);\n",
       "          s.async = true;\n",
       "          s.onload = () => {\n",
       "            VEGA_DEBUG[key] = version;\n",
       "            return resolve(paths[lib]);\n",
       "          };\n",
       "          s.onerror = () => reject(`Error loading script: ${paths[lib]}`);\n",
       "          s.src = paths[lib];\n",
       "        });\n",
       "    }\n",
       "\n",
       "    function showError(err) {\n",
       "      outputDiv.innerHTML = `<div class=\"error\" style=\"color:red;\">${err}</div>`;\n",
       "      throw err;\n",
       "    }\n",
       "\n",
       "    function displayChart(vegaEmbed) {\n",
       "      vegaEmbed(outputDiv, spec, embedOpt)\n",
       "        .catch(err => showError(`Javascript Error: ${err.message}<br>This usually means there's a typo in your chart specification. See the javascript console for the full traceback.`));\n",
       "    }\n",
       "\n",
       "    if(typeof define === \"function\" && define.amd) {\n",
       "      requirejs.config({paths});\n",
       "      require([\"vega-embed\"], displayChart, err => showError(`Error loading script: ${err.message}`));\n",
       "    } else {\n",
       "      maybeLoadScript(\"vega\", \"5\")\n",
       "        .then(() => maybeLoadScript(\"vega-lite\", \"4.17.0\"))\n",
       "        .then(() => maybeLoadScript(\"vega-embed\", \"6\"))\n",
       "        .catch(showError)\n",
       "        .then(() => displayChart(vegaEmbed));\n",
       "    }\n",
       "  })({\"config\": {\"view\": {\"width\": 800, \"height\": 450}, \"background\": \"#ffffff\", \"title\": {\"anchor\": \"start\", \"font\": \"BentonGothic-Bold, sans\", \"fontColor\": \"#000000\", \"fontSize\": 22, \"fontWeight\": \"normal\"}, \"arc\": {\"fill\": \"#82c6df\"}, \"area\": {\"fill\": \"#82c6df\"}, \"line\": {\"stroke\": \"#82c6df\", \"strokeWidth\": 3}, \"path\": {\"stroke\": \"#82c6df\"}, \"rect\": {\"fill\": \"#82c6df\"}, \"shape\": {\"stroke\": \"#82c6df\"}, \"bar\": {\"fill\": \"#82c6df\"}, \"point\": {\"stroke\": \"#82c6df\"}, \"symbol\": {\"fill\": \"#82c6df\", \"size\": 30}, \"axis\": {\"titleFont\": \"BentonGothic-Bold, sans\", \"titleFontSize\": 14, \"titleFontWeight\": \"normal\", \"labelFont\": \"BentonGothic, sans\", \"labelFontSize\": 12, \"labelFontWeight\": \"normal\"}, \"axisX\": {\"labelAngle\": 0, \"labelPadding\": 4, \"tickSize\": 3}, \"axisY\": {\"labelBaseline\": \"middle\", \"maxExtent\": 45, \"minExtent\": 45, \"tickSize\": 2, \"titleAlign\": \"left\", \"titleAngle\": 0, \"titleX\": -45, \"titleY\": -11}, \"legend\": {\"titleFont\": \"BentonGothic-Bold, sans\", \"titleFontSize\": 14, \"titleFontWeight\": \"normal\", \"symbolType\": \"square\", \"labelFont\": \"BentonGothic, sans\", \"labelFontSize\": 13}, \"range\": {\"category\": [\"#3580b1\", \"#ec8431\", \"#ab7fb4\", \"#c89d29\", \"#adc839\", \"#829eb1\"], \"diverging\": [\"#e68a4f\", \"#f4bb6a\", \"#f9e39c\", \"#dadfe2\", \"#a6b7c6\", \"#849eae\"], \"heatmap\": [\"#fbf2c7\", \"#f9e39c\", \"#f8d36e\", \"#f4bb6a\", \"#e68a4f\", \"#d15a40\", \"#ab4232\"], \"ordinal\": [\"#fbf2c7\", \"#f9e39c\", \"#f8d36e\", \"#f4bb6a\", \"#e68a4f\", \"#d15a40\", \"#ab4232\"], \"ramp\": [\"#fbf2c7\", \"#f9e39c\", \"#f8d36e\", \"#f4bb6a\", \"#e68a4f\", \"#d15a40\", \"#ab4232\"]}}, \"data\": {\"name\": \"data-3903d4df7c42be468889f273d9f9c9af\"}, \"mark\": \"line\", \"encoding\": {\"color\": {\"field\": \"variable\", \"type\": \"nominal\"}, \"x\": {\"field\": \"date\", \"type\": \"temporal\"}, \"y\": {\"field\": \"value\", \"type\": \"quantitative\"}}, \"title\": \"California precipitation in 2024 compared to average\", \"width\": 600, \"$schema\": \"https://vega.github.io/schema/vega-lite/v4.17.0.json\", \"datasets\": {\"data-3903d4df7c42be468889f273d9f9c9af\": [{\"date\": \"2023-10-01T00:00:00\", \"variable\": \"current\", \"value\": 0.1}, {\"date\": \"2023-10-02T00:00:00\", \"variable\": \"current\", \"value\": 0.11}, {\"date\": \"2023-10-03T00:00:00\", \"variable\": \"current\", \"value\": 0.11}, {\"date\": \"2023-10-04T00:00:00\", \"variable\": \"current\", \"value\": 0.11}, {\"date\": \"2023-10-05T00:00:00\", \"variable\": \"current\", \"value\": 0.11}, {\"date\": \"2023-10-06T00:00:00\", \"variable\": \"current\", \"value\": 0.11}, {\"date\": \"2023-10-07T00:00:00\", \"variable\": \"current\", \"value\": 0.11}, {\"date\": \"2023-10-08T00:00:00\", \"variable\": \"current\", \"value\": 0.11}, {\"date\": \"2023-10-09T00:00:00\", \"variable\": \"current\", \"value\": 0.11}, {\"date\": \"2023-10-10T00:00:00\", \"variable\": \"current\", \"value\": 0.11}, {\"date\": \"2023-10-11T00:00:00\", \"variable\": \"current\", \"value\": 0.12}, {\"date\": \"2023-10-12T00:00:00\", \"variable\": \"current\", \"value\": 0.12}, {\"date\": \"2023-10-13T00:00:00\", \"variable\": \"current\", \"value\": 0.12}, {\"date\": \"2023-10-14T00:00:00\", \"variable\": \"current\", \"value\": 0.12}, {\"date\": \"2023-10-15T00:00:00\", \"variable\": \"current\", \"value\": 0.12}, {\"date\": \"2023-10-16T00:00:00\", \"variable\": \"current\", \"value\": 0.12}, {\"date\": \"2023-10-17T00:00:00\", \"variable\": \"current\", \"value\": 0.12}, {\"date\": \"2023-10-18T00:00:00\", \"variable\": \"current\", \"value\": 0.12}, {\"date\": \"2023-10-19T00:00:00\", \"variable\": \"current\", \"value\": 0.12}, {\"date\": \"2023-10-20T00:00:00\", \"variable\": \"current\", \"value\": 0.12}, {\"date\": \"2023-10-21T00:00:00\", \"variable\": \"current\", \"value\": 0.12}, {\"date\": \"2023-10-22T00:00:00\", \"variable\": \"current\", \"value\": 0.12}, {\"date\": \"2023-10-23T00:00:00\", \"variable\": \"current\", \"value\": 0.13}, {\"date\": \"2023-10-24T00:00:00\", \"variable\": \"current\", \"value\": 0.14}, {\"date\": \"2023-10-25T00:00:00\", \"variable\": \"current\", \"value\": 0.14}, {\"date\": \"2023-10-26T00:00:00\", \"variable\": \"current\", \"value\": 0.15}, {\"date\": \"2023-10-27T00:00:00\", \"variable\": \"current\", \"value\": 0.15}, {\"date\": \"2023-10-28T00:00:00\", \"variable\": \"current\", \"value\": 0.15}, {\"date\": \"2023-10-29T00:00:00\", \"variable\": \"current\", \"value\": 0.15}, {\"date\": \"2023-10-30T00:00:00\", \"variable\": \"current\", \"value\": 0.15}, {\"date\": \"2023-10-31T00:00:00\", \"variable\": \"current\", \"value\": 0.15}, {\"date\": \"2023-11-01T00:00:00\", \"variable\": \"current\", \"value\": 0.15}, {\"date\": \"2023-11-02T00:00:00\", \"variable\": \"current\", \"value\": 0.15}, {\"date\": \"2023-11-03T00:00:00\", \"variable\": \"current\", \"value\": 0.15}, {\"date\": \"2023-11-04T00:00:00\", \"variable\": \"current\", \"value\": 0.15}, {\"date\": \"2023-11-05T00:00:00\", \"variable\": \"current\", \"value\": 0.15}, {\"date\": \"2023-11-06T00:00:00\", \"variable\": \"current\", \"value\": 0.15}, {\"date\": \"2023-11-07T00:00:00\", \"variable\": \"current\", \"value\": 0.15}, {\"date\": \"2023-11-08T00:00:00\", \"variable\": \"current\", \"value\": 0.15}, {\"date\": \"2023-11-09T00:00:00\", \"variable\": \"current\", \"value\": 0.15}, {\"date\": \"2023-11-10T00:00:00\", \"variable\": \"current\", \"value\": 0.15}, {\"date\": \"2023-11-11T00:00:00\", \"variable\": \"current\", \"value\": 0.15}, {\"date\": \"2023-11-12T00:00:00\", \"variable\": \"current\", \"value\": 0.15}, {\"date\": \"2023-11-13T00:00:00\", \"variable\": \"current\", \"value\": 0.15}, {\"date\": \"2023-11-14T00:00:00\", \"variable\": \"current\", \"value\": 0.15}, {\"date\": \"2023-11-15T00:00:00\", \"variable\": \"current\", \"value\": 0.15}, {\"date\": \"2023-11-16T00:00:00\", \"variable\": \"current\", \"value\": 0.72}, {\"date\": \"2023-11-17T00:00:00\", \"variable\": \"current\", \"value\": 0.72}, {\"date\": \"2023-11-18T00:00:00\", \"variable\": \"current\", \"value\": 0.81}, {\"date\": \"2023-11-19T00:00:00\", \"variable\": \"current\", \"value\": 0.84}, {\"date\": \"2023-11-20T00:00:00\", \"variable\": \"current\", \"value\": 0.85}, {\"date\": \"2023-11-21T00:00:00\", \"variable\": \"current\", \"value\": 0.85}, {\"date\": \"2023-11-22T00:00:00\", \"variable\": \"current\", \"value\": 0.85}, {\"date\": \"2023-11-23T00:00:00\", \"variable\": \"current\", \"value\": 0.85}, {\"date\": \"2023-11-24T00:00:00\", \"variable\": \"current\", \"value\": 0.85}, {\"date\": \"2023-11-25T00:00:00\", \"variable\": \"current\", \"value\": 0.87}, {\"date\": \"2023-11-26T00:00:00\", \"variable\": \"current\", \"value\": 0.87}, {\"date\": \"2023-11-27T00:00:00\", \"variable\": \"current\", \"value\": 0.87}, {\"date\": \"2023-11-28T00:00:00\", \"variable\": \"current\", \"value\": 0.87}, {\"date\": \"2023-11-29T00:00:00\", \"variable\": \"current\", \"value\": 0.87}, {\"date\": \"2023-11-30T00:00:00\", \"variable\": \"current\", \"value\": 0.92}, {\"date\": \"2023-12-01T00:00:00\", \"variable\": \"current\", \"value\": 0.98}, {\"date\": \"2023-12-02T00:00:00\", \"variable\": \"current\", \"value\": 0.98}, {\"date\": \"2023-12-03T00:00:00\", \"variable\": \"current\", \"value\": 0.98}, {\"date\": \"2023-12-04T00:00:00\", \"variable\": \"current\", \"value\": 0.98}, {\"date\": \"2023-12-05T00:00:00\", \"variable\": \"current\", \"value\": 0.98}, {\"date\": \"2023-12-06T00:00:00\", \"variable\": \"current\", \"value\": 0.98}, {\"date\": \"2023-12-07T00:00:00\", \"variable\": \"current\", \"value\": 0.98}, {\"date\": \"2023-12-08T00:00:00\", \"variable\": \"current\", \"value\": 0.98}, {\"date\": \"2023-12-09T00:00:00\", \"variable\": \"current\", \"value\": 0.98}, {\"date\": \"2023-12-10T00:00:00\", \"variable\": \"current\", \"value\": 0.98}, {\"date\": \"2023-12-11T00:00:00\", \"variable\": \"current\", \"value\": 0.98}, {\"date\": \"2023-12-12T00:00:00\", \"variable\": \"current\", \"value\": 0.98}, {\"date\": \"2023-12-13T00:00:00\", \"variable\": \"current\", \"value\": 0.98}, {\"date\": \"2023-12-14T00:00:00\", \"variable\": \"current\", \"value\": 0.98}, {\"date\": \"2023-12-15T00:00:00\", \"variable\": \"current\", \"value\": 0.98}, {\"date\": \"2023-12-16T00:00:00\", \"variable\": \"current\", \"value\": 0.98}, {\"date\": \"2023-12-17T00:00:00\", \"variable\": \"current\", \"value\": 0.98}, {\"date\": \"2023-12-18T00:00:00\", \"variable\": \"current\", \"value\": 0.98}, {\"date\": \"2023-12-19T00:00:00\", \"variable\": \"current\", \"value\": 1.06}, {\"date\": \"2023-12-20T00:00:00\", \"variable\": \"current\", \"value\": 1.3}, {\"date\": \"2023-12-21T00:00:00\", \"variable\": \"current\", \"value\": 1.95}, {\"date\": \"2023-12-22T00:00:00\", \"variable\": \"current\", \"value\": 2.68}, {\"date\": \"2023-12-23T00:00:00\", \"variable\": \"current\", \"value\": 2.78}, {\"date\": \"2023-12-24T00:00:00\", \"variable\": \"current\", \"value\": 2.78}, {\"date\": \"2023-12-25T00:00:00\", \"variable\": \"current\", \"value\": 2.78}, {\"date\": \"2023-12-26T00:00:00\", \"variable\": \"current\", \"value\": 2.78}, {\"date\": \"2023-12-27T00:00:00\", \"variable\": \"current\", \"value\": 2.78}, {\"date\": \"2023-12-28T00:00:00\", \"variable\": \"current\", \"value\": 2.78}, {\"date\": \"2023-12-29T00:00:00\", \"variable\": \"current\", \"value\": 2.78}, {\"date\": \"2023-12-30T00:00:00\", \"variable\": \"current\", \"value\": 2.88}, {\"date\": \"2023-12-31T00:00:00\", \"variable\": \"current\", \"value\": 3.11}, {\"date\": \"2024-01-01T00:00:00\", \"variable\": \"current\", \"value\": 3.11}, {\"date\": \"2024-01-02T00:00:00\", \"variable\": \"current\", \"value\": 3.11}, {\"date\": \"2024-01-03T00:00:00\", \"variable\": \"current\", \"value\": 3.19}, {\"date\": \"2024-01-04T00:00:00\", \"variable\": \"current\", \"value\": 3.42}, {\"date\": \"2024-01-05T00:00:00\", \"variable\": \"current\", \"value\": 3.42}, {\"date\": \"2024-01-06T00:00:00\", \"variable\": \"current\", \"value\": 3.42}, {\"date\": \"2024-01-07T00:00:00\", \"variable\": \"current\", \"value\": 3.49}, {\"date\": \"2024-01-08T00:00:00\", \"variable\": \"current\", \"value\": 3.5}, {\"date\": \"2024-01-09T00:00:00\", \"variable\": \"current\", \"value\": 3.5}, {\"date\": \"2024-01-10T00:00:00\", \"variable\": \"current\", \"value\": 3.5}, {\"date\": \"2024-01-11T00:00:00\", \"variable\": \"current\", \"value\": 3.55}, {\"date\": \"2024-01-12T00:00:00\", \"variable\": \"current\", \"value\": 3.59}, {\"date\": \"2024-01-13T00:00:00\", \"variable\": \"current\", \"value\": 3.59}, {\"date\": \"2024-01-14T00:00:00\", \"variable\": \"current\", \"value\": 3.59}, {\"date\": \"2024-01-15T00:00:00\", \"variable\": \"current\", \"value\": 3.59}, {\"date\": \"2024-01-16T00:00:00\", \"variable\": \"current\", \"value\": 3.59}, {\"date\": \"2024-01-17T00:00:00\", \"variable\": \"current\", \"value\": 3.59}, {\"date\": \"2024-01-18T00:00:00\", \"variable\": \"current\", \"value\": 3.59}, {\"date\": \"2024-01-19T00:00:00\", \"variable\": \"current\", \"value\": 3.59}, {\"date\": \"2024-01-20T00:00:00\", \"variable\": \"current\", \"value\": 3.6}, {\"date\": \"2024-01-21T00:00:00\", \"variable\": \"current\", \"value\": 4.16}, {\"date\": \"2024-01-22T00:00:00\", \"variable\": \"current\", \"value\": 4.58}, {\"date\": \"2024-01-23T00:00:00\", \"variable\": \"current\", \"value\": null}, {\"date\": \"2024-01-24T00:00:00\", \"variable\": \"current\", \"value\": null}, {\"date\": \"2024-01-25T00:00:00\", \"variable\": \"current\", \"value\": null}, {\"date\": \"2024-01-26T00:00:00\", \"variable\": \"current\", \"value\": null}, {\"date\": \"2024-01-27T00:00:00\", \"variable\": \"current\", \"value\": null}, {\"date\": \"2024-01-28T00:00:00\", \"variable\": \"current\", \"value\": null}, {\"date\": \"2024-01-29T00:00:00\", \"variable\": \"current\", \"value\": null}, {\"date\": \"2024-01-30T00:00:00\", \"variable\": \"current\", \"value\": null}, {\"date\": \"2024-01-31T00:00:00\", \"variable\": \"current\", \"value\": null}, {\"date\": \"2024-02-01T00:00:00\", \"variable\": \"current\", \"value\": null}, {\"date\": \"2024-02-02T00:00:00\", \"variable\": \"current\", \"value\": null}, {\"date\": \"2024-02-03T00:00:00\", \"variable\": \"current\", \"value\": null}, {\"date\": \"2024-02-04T00:00:00\", \"variable\": \"current\", \"value\": null}, {\"date\": \"2024-02-05T00:00:00\", \"variable\": \"current\", \"value\": null}, {\"date\": \"2024-02-06T00:00:00\", \"variable\": \"current\", \"value\": null}, {\"date\": \"2024-02-07T00:00:00\", \"variable\": \"current\", \"value\": null}, {\"date\": \"2024-02-08T00:00:00\", \"variable\": \"current\", \"value\": null}, {\"date\": \"2024-02-09T00:00:00\", \"variable\": \"current\", \"value\": null}, {\"date\": \"2024-02-10T00:00:00\", \"variable\": \"current\", \"value\": null}, {\"date\": \"2024-02-11T00:00:00\", \"variable\": \"current\", \"value\": null}, {\"date\": \"2024-02-12T00:00:00\", \"variable\": \"current\", \"value\": null}, {\"date\": \"2024-02-13T00:00:00\", \"variable\": \"current\", \"value\": null}, {\"date\": \"2024-02-14T00:00:00\", \"variable\": \"current\", \"value\": null}, {\"date\": \"2024-02-15T00:00:00\", \"variable\": \"current\", \"value\": null}, {\"date\": \"2024-02-16T00:00:00\", \"variable\": \"current\", \"value\": null}, {\"date\": \"2024-02-17T00:00:00\", \"variable\": \"current\", \"value\": null}, {\"date\": \"2024-02-18T00:00:00\", \"variable\": \"current\", \"value\": null}, {\"date\": \"2024-02-19T00:00:00\", \"variable\": \"current\", \"value\": null}, {\"date\": \"2024-02-20T00:00:00\", \"variable\": \"current\", \"value\": null}, {\"date\": \"2024-02-21T00:00:00\", \"variable\": \"current\", \"value\": null}, {\"date\": \"2024-02-22T00:00:00\", \"variable\": \"current\", \"value\": null}, {\"date\": \"2024-02-23T00:00:00\", \"variable\": \"current\", \"value\": null}, {\"date\": \"2024-02-24T00:00:00\", \"variable\": \"current\", \"value\": null}, {\"date\": \"2024-02-25T00:00:00\", \"variable\": \"current\", \"value\": null}, {\"date\": \"2024-02-26T00:00:00\", \"variable\": \"current\", \"value\": null}, {\"date\": \"2024-02-27T00:00:00\", \"variable\": \"current\", \"value\": null}, {\"date\": \"2024-02-28T00:00:00\", \"variable\": \"current\", \"value\": null}, {\"date\": \"2024-02-29T00:00:00\", \"variable\": \"current\", \"value\": null}, {\"date\": \"2024-03-01T00:00:00\", \"variable\": \"current\", \"value\": null}, {\"date\": \"2024-03-02T00:00:00\", \"variable\": \"current\", \"value\": null}, {\"date\": \"2024-03-03T00:00:00\", \"variable\": \"current\", \"value\": null}, {\"date\": \"2024-03-04T00:00:00\", \"variable\": \"current\", \"value\": null}, {\"date\": \"2024-03-05T00:00:00\", \"variable\": \"current\", \"value\": null}, {\"date\": \"2024-03-06T00:00:00\", \"variable\": \"current\", \"value\": null}, {\"date\": \"2024-03-07T00:00:00\", \"variable\": \"current\", \"value\": null}, {\"date\": \"2024-03-08T00:00:00\", \"variable\": \"current\", \"value\": null}, {\"date\": \"2024-03-09T00:00:00\", \"variable\": \"current\", \"value\": null}, {\"date\": \"2024-03-10T00:00:00\", \"variable\": \"current\", \"value\": null}, {\"date\": \"2024-03-11T00:00:00\", \"variable\": \"current\", \"value\": null}, {\"date\": \"2024-03-12T00:00:00\", \"variable\": \"current\", \"value\": null}, {\"date\": \"2024-03-13T00:00:00\", \"variable\": \"current\", \"value\": null}, {\"date\": \"2024-03-14T00:00:00\", \"variable\": \"current\", \"value\": null}, {\"date\": \"2024-03-15T00:00:00\", \"variable\": \"current\", \"value\": null}, {\"date\": \"2024-03-16T00:00:00\", \"variable\": \"current\", \"value\": null}, {\"date\": \"2024-03-17T00:00:00\", \"variable\": \"current\", \"value\": null}, {\"date\": \"2024-03-18T00:00:00\", \"variable\": \"current\", \"value\": null}, {\"date\": \"2024-03-19T00:00:00\", \"variable\": \"current\", \"value\": null}, {\"date\": \"2024-03-20T00:00:00\", \"variable\": \"current\", \"value\": null}, {\"date\": \"2024-03-21T00:00:00\", \"variable\": \"current\", \"value\": null}, {\"date\": \"2024-03-22T00:00:00\", \"variable\": \"current\", \"value\": null}, {\"date\": \"2024-03-23T00:00:00\", \"variable\": \"current\", \"value\": null}, {\"date\": \"2024-03-24T00:00:00\", \"variable\": \"current\", \"value\": null}, {\"date\": \"2024-03-25T00:00:00\", \"variable\": \"current\", \"value\": null}, {\"date\": \"2024-03-26T00:00:00\", \"variable\": \"current\", \"value\": null}, {\"date\": \"2024-03-27T00:00:00\", \"variable\": \"current\", \"value\": null}, {\"date\": \"2024-03-28T00:00:00\", \"variable\": \"current\", \"value\": null}, {\"date\": \"2024-03-29T00:00:00\", \"variable\": \"current\", \"value\": null}, {\"date\": \"2024-03-30T00:00:00\", \"variable\": \"current\", \"value\": null}, {\"date\": \"2024-03-31T00:00:00\", \"variable\": \"current\", \"value\": null}, {\"date\": \"2024-04-01T00:00:00\", \"variable\": \"current\", \"value\": null}, {\"date\": \"2024-04-02T00:00:00\", \"variable\": \"current\", \"value\": null}, {\"date\": \"2024-04-03T00:00:00\", \"variable\": \"current\", \"value\": null}, {\"date\": \"2024-04-04T00:00:00\", \"variable\": \"current\", \"value\": null}, {\"date\": \"2024-04-05T00:00:00\", \"variable\": \"current\", \"value\": null}, {\"date\": \"2024-04-06T00:00:00\", \"variable\": \"current\", \"value\": null}, {\"date\": \"2024-04-07T00:00:00\", \"variable\": \"current\", \"value\": null}, {\"date\": \"2024-04-08T00:00:00\", \"variable\": \"current\", \"value\": null}, {\"date\": \"2024-04-09T00:00:00\", \"variable\": \"current\", \"value\": null}, {\"date\": \"2024-04-10T00:00:00\", \"variable\": \"current\", \"value\": null}, {\"date\": \"2024-04-11T00:00:00\", \"variable\": \"current\", \"value\": null}, {\"date\": \"2024-04-12T00:00:00\", \"variable\": \"current\", \"value\": null}, {\"date\": \"2024-04-13T00:00:00\", \"variable\": \"current\", \"value\": null}, {\"date\": \"2024-04-14T00:00:00\", \"variable\": \"current\", \"value\": null}, {\"date\": \"2024-04-15T00:00:00\", \"variable\": \"current\", \"value\": null}, {\"date\": \"2024-04-16T00:00:00\", \"variable\": \"current\", \"value\": null}, {\"date\": \"2024-04-17T00:00:00\", \"variable\": \"current\", \"value\": null}, {\"date\": \"2024-04-18T00:00:00\", \"variable\": \"current\", \"value\": null}, {\"date\": \"2024-04-19T00:00:00\", \"variable\": \"current\", \"value\": null}, {\"date\": \"2024-04-20T00:00:00\", \"variable\": \"current\", \"value\": null}, {\"date\": \"2024-04-21T00:00:00\", \"variable\": \"current\", \"value\": null}, {\"date\": \"2024-04-22T00:00:00\", \"variable\": \"current\", \"value\": null}, {\"date\": \"2024-04-23T00:00:00\", \"variable\": \"current\", \"value\": null}, {\"date\": \"2024-04-24T00:00:00\", \"variable\": \"current\", \"value\": null}, {\"date\": \"2024-04-25T00:00:00\", \"variable\": \"current\", \"value\": null}, {\"date\": \"2024-04-26T00:00:00\", \"variable\": \"current\", \"value\": null}, {\"date\": \"2024-04-27T00:00:00\", \"variable\": \"current\", \"value\": null}, {\"date\": \"2024-04-28T00:00:00\", \"variable\": \"current\", \"value\": null}, {\"date\": \"2024-04-29T00:00:00\", \"variable\": \"current\", \"value\": null}, {\"date\": \"2024-04-30T00:00:00\", \"variable\": \"current\", \"value\": null}, {\"date\": \"2024-05-01T00:00:00\", \"variable\": \"current\", \"value\": null}, {\"date\": \"2024-05-02T00:00:00\", \"variable\": \"current\", \"value\": null}, {\"date\": \"2024-05-03T00:00:00\", \"variable\": \"current\", \"value\": null}, {\"date\": \"2024-05-04T00:00:00\", \"variable\": \"current\", \"value\": null}, {\"date\": \"2024-05-05T00:00:00\", \"variable\": \"current\", \"value\": null}, {\"date\": \"2024-05-06T00:00:00\", \"variable\": \"current\", \"value\": null}, {\"date\": \"2024-05-07T00:00:00\", \"variable\": \"current\", \"value\": null}, {\"date\": \"2024-05-08T00:00:00\", \"variable\": \"current\", \"value\": null}, {\"date\": \"2024-05-09T00:00:00\", \"variable\": \"current\", \"value\": null}, {\"date\": \"2024-05-10T00:00:00\", \"variable\": \"current\", \"value\": null}, {\"date\": \"2024-05-11T00:00:00\", \"variable\": \"current\", \"value\": null}, {\"date\": \"2024-05-12T00:00:00\", \"variable\": \"current\", \"value\": null}, {\"date\": \"2024-05-13T00:00:00\", \"variable\": \"current\", \"value\": null}, {\"date\": \"2024-05-14T00:00:00\", \"variable\": \"current\", \"value\": null}, {\"date\": \"2024-05-15T00:00:00\", \"variable\": \"current\", \"value\": null}, {\"date\": \"2024-05-16T00:00:00\", \"variable\": \"current\", \"value\": null}, {\"date\": \"2024-05-17T00:00:00\", \"variable\": \"current\", \"value\": null}, {\"date\": \"2024-05-18T00:00:00\", \"variable\": \"current\", \"value\": null}, {\"date\": \"2024-05-19T00:00:00\", \"variable\": \"current\", \"value\": null}, {\"date\": \"2024-05-20T00:00:00\", \"variable\": \"current\", \"value\": null}, {\"date\": \"2024-05-21T00:00:00\", \"variable\": \"current\", \"value\": null}, {\"date\": \"2024-05-22T00:00:00\", \"variable\": \"current\", \"value\": null}, {\"date\": \"2024-05-23T00:00:00\", \"variable\": \"current\", \"value\": null}, {\"date\": \"2024-05-24T00:00:00\", \"variable\": \"current\", \"value\": null}, {\"date\": \"2024-05-25T00:00:00\", \"variable\": \"current\", \"value\": null}, {\"date\": \"2024-05-26T00:00:00\", \"variable\": \"current\", \"value\": null}, {\"date\": \"2024-05-27T00:00:00\", \"variable\": \"current\", \"value\": null}, {\"date\": \"2024-05-28T00:00:00\", \"variable\": \"current\", \"value\": null}, {\"date\": \"2024-05-29T00:00:00\", \"variable\": \"current\", \"value\": null}, {\"date\": \"2024-05-30T00:00:00\", \"variable\": \"current\", \"value\": null}, {\"date\": \"2024-05-31T00:00:00\", \"variable\": \"current\", \"value\": null}, {\"date\": \"2024-06-01T00:00:00\", \"variable\": \"current\", \"value\": null}, {\"date\": \"2024-06-02T00:00:00\", \"variable\": \"current\", \"value\": null}, {\"date\": \"2024-06-03T00:00:00\", \"variable\": \"current\", \"value\": null}, {\"date\": \"2024-06-04T00:00:00\", \"variable\": \"current\", \"value\": null}, {\"date\": \"2024-06-05T00:00:00\", \"variable\": \"current\", \"value\": null}, {\"date\": \"2024-06-06T00:00:00\", \"variable\": \"current\", \"value\": null}, {\"date\": \"2024-06-07T00:00:00\", \"variable\": \"current\", \"value\": null}, {\"date\": \"2024-06-08T00:00:00\", \"variable\": \"current\", \"value\": null}, {\"date\": \"2024-06-09T00:00:00\", \"variable\": \"current\", \"value\": null}, {\"date\": \"2024-06-10T00:00:00\", \"variable\": \"current\", \"value\": null}, {\"date\": \"2024-06-11T00:00:00\", \"variable\": \"current\", \"value\": null}, {\"date\": \"2024-06-12T00:00:00\", \"variable\": \"current\", \"value\": null}, {\"date\": \"2024-06-13T00:00:00\", \"variable\": \"current\", \"value\": null}, {\"date\": \"2024-06-14T00:00:00\", \"variable\": \"current\", \"value\": null}, {\"date\": \"2024-06-15T00:00:00\", \"variable\": \"current\", \"value\": null}, {\"date\": \"2024-06-16T00:00:00\", \"variable\": \"current\", \"value\": null}, {\"date\": \"2024-06-17T00:00:00\", \"variable\": \"current\", \"value\": null}, {\"date\": \"2024-06-18T00:00:00\", \"variable\": \"current\", \"value\": null}, {\"date\": \"2024-06-19T00:00:00\", \"variable\": \"current\", \"value\": null}, {\"date\": \"2024-06-20T00:00:00\", \"variable\": \"current\", \"value\": null}, {\"date\": \"2024-06-21T00:00:00\", \"variable\": \"current\", \"value\": null}, {\"date\": \"2024-06-22T00:00:00\", \"variable\": \"current\", \"value\": null}, {\"date\": \"2024-06-23T00:00:00\", \"variable\": \"current\", \"value\": null}, {\"date\": \"2024-06-24T00:00:00\", \"variable\": \"current\", \"value\": null}, {\"date\": \"2024-06-25T00:00:00\", \"variable\": \"current\", \"value\": null}, {\"date\": \"2024-06-26T00:00:00\", \"variable\": \"current\", \"value\": null}, {\"date\": \"2024-06-27T00:00:00\", \"variable\": \"current\", \"value\": null}, {\"date\": \"2024-06-28T00:00:00\", \"variable\": \"current\", \"value\": null}, {\"date\": \"2024-06-29T00:00:00\", \"variable\": \"current\", \"value\": null}, {\"date\": \"2024-06-30T00:00:00\", \"variable\": \"current\", \"value\": null}, {\"date\": \"2024-07-01T00:00:00\", \"variable\": \"current\", \"value\": null}, {\"date\": \"2024-07-02T00:00:00\", \"variable\": \"current\", \"value\": null}, {\"date\": \"2024-07-03T00:00:00\", \"variable\": \"current\", \"value\": null}, {\"date\": \"2024-07-04T00:00:00\", \"variable\": \"current\", \"value\": null}, {\"date\": \"2024-07-05T00:00:00\", \"variable\": \"current\", \"value\": null}, {\"date\": \"2024-07-06T00:00:00\", \"variable\": \"current\", \"value\": null}, {\"date\": \"2024-07-07T00:00:00\", \"variable\": \"current\", \"value\": null}, {\"date\": \"2024-07-08T00:00:00\", \"variable\": \"current\", \"value\": null}, {\"date\": \"2024-07-09T00:00:00\", \"variable\": \"current\", \"value\": null}, {\"date\": \"2024-07-10T00:00:00\", \"variable\": \"current\", \"value\": null}, {\"date\": \"2024-07-11T00:00:00\", \"variable\": \"current\", \"value\": null}, {\"date\": \"2024-07-12T00:00:00\", \"variable\": \"current\", \"value\": null}, {\"date\": \"2024-07-13T00:00:00\", \"variable\": \"current\", \"value\": null}, {\"date\": \"2024-07-14T00:00:00\", \"variable\": \"current\", \"value\": null}, {\"date\": \"2024-07-15T00:00:00\", \"variable\": \"current\", \"value\": null}, {\"date\": \"2024-07-16T00:00:00\", \"variable\": \"current\", \"value\": null}, {\"date\": \"2024-07-17T00:00:00\", \"variable\": \"current\", \"value\": null}, {\"date\": \"2024-07-18T00:00:00\", \"variable\": \"current\", \"value\": null}, {\"date\": \"2024-07-19T00:00:00\", \"variable\": \"current\", \"value\": null}, {\"date\": \"2024-07-20T00:00:00\", \"variable\": \"current\", \"value\": null}, {\"date\": \"2024-07-21T00:00:00\", \"variable\": \"current\", \"value\": null}, {\"date\": \"2024-07-22T00:00:00\", \"variable\": \"current\", \"value\": null}, {\"date\": \"2024-07-23T00:00:00\", \"variable\": \"current\", \"value\": null}, {\"date\": \"2024-07-24T00:00:00\", \"variable\": \"current\", \"value\": null}, {\"date\": \"2024-07-25T00:00:00\", \"variable\": \"current\", \"value\": null}, {\"date\": \"2024-07-26T00:00:00\", \"variable\": \"current\", \"value\": null}, {\"date\": \"2024-07-27T00:00:00\", \"variable\": \"current\", \"value\": null}, {\"date\": \"2024-07-28T00:00:00\", \"variable\": \"current\", \"value\": null}, {\"date\": \"2024-07-29T00:00:00\", \"variable\": \"current\", \"value\": null}, {\"date\": \"2024-07-30T00:00:00\", \"variable\": \"current\", \"value\": null}, {\"date\": \"2024-07-31T00:00:00\", \"variable\": \"current\", \"value\": null}, {\"date\": \"2024-08-01T00:00:00\", \"variable\": \"current\", \"value\": null}, {\"date\": \"2024-08-02T00:00:00\", \"variable\": \"current\", \"value\": null}, {\"date\": \"2024-08-03T00:00:00\", \"variable\": \"current\", \"value\": null}, {\"date\": \"2024-08-04T00:00:00\", \"variable\": \"current\", \"value\": null}, {\"date\": \"2024-08-05T00:00:00\", \"variable\": \"current\", \"value\": null}, {\"date\": \"2024-08-06T00:00:00\", \"variable\": \"current\", \"value\": null}, {\"date\": \"2024-08-07T00:00:00\", \"variable\": \"current\", \"value\": null}, {\"date\": \"2024-08-08T00:00:00\", \"variable\": \"current\", \"value\": null}, {\"date\": \"2024-08-09T00:00:00\", \"variable\": \"current\", \"value\": null}, {\"date\": \"2024-08-10T00:00:00\", \"variable\": \"current\", \"value\": null}, {\"date\": \"2024-08-11T00:00:00\", \"variable\": \"current\", \"value\": null}, {\"date\": \"2024-08-12T00:00:00\", \"variable\": \"current\", \"value\": null}, {\"date\": \"2024-08-13T00:00:00\", \"variable\": \"current\", \"value\": null}, {\"date\": \"2024-08-14T00:00:00\", \"variable\": \"current\", \"value\": null}, {\"date\": \"2024-08-15T00:00:00\", \"variable\": \"current\", \"value\": null}, {\"date\": \"2024-08-16T00:00:00\", \"variable\": \"current\", \"value\": null}, {\"date\": \"2024-08-17T00:00:00\", \"variable\": \"current\", \"value\": null}, {\"date\": \"2024-08-18T00:00:00\", \"variable\": \"current\", \"value\": null}, {\"date\": \"2024-08-19T00:00:00\", \"variable\": \"current\", \"value\": null}, {\"date\": \"2024-08-20T00:00:00\", \"variable\": \"current\", \"value\": null}, {\"date\": \"2024-08-21T00:00:00\", \"variable\": \"current\", \"value\": null}, {\"date\": \"2024-08-22T00:00:00\", \"variable\": \"current\", \"value\": null}, {\"date\": \"2024-08-23T00:00:00\", \"variable\": \"current\", \"value\": null}, {\"date\": \"2024-08-24T00:00:00\", \"variable\": \"current\", \"value\": null}, {\"date\": \"2024-08-25T00:00:00\", \"variable\": \"current\", \"value\": null}, {\"date\": \"2024-08-26T00:00:00\", \"variable\": \"current\", \"value\": null}, {\"date\": \"2024-08-27T00:00:00\", \"variable\": \"current\", \"value\": null}, {\"date\": \"2024-08-28T00:00:00\", \"variable\": \"current\", \"value\": null}, {\"date\": \"2024-08-29T00:00:00\", \"variable\": \"current\", \"value\": null}, {\"date\": \"2024-08-30T00:00:00\", \"variable\": \"current\", \"value\": null}, {\"date\": \"2024-08-31T00:00:00\", \"variable\": \"current\", \"value\": null}, {\"date\": \"2024-09-01T00:00:00\", \"variable\": \"current\", \"value\": null}, {\"date\": \"2024-09-02T00:00:00\", \"variable\": \"current\", \"value\": null}, {\"date\": \"2024-09-03T00:00:00\", \"variable\": \"current\", \"value\": null}, {\"date\": \"2024-09-04T00:00:00\", \"variable\": \"current\", \"value\": null}, {\"date\": \"2024-09-05T00:00:00\", \"variable\": \"current\", \"value\": null}, {\"date\": \"2024-09-06T00:00:00\", \"variable\": \"current\", \"value\": null}, {\"date\": \"2024-09-07T00:00:00\", \"variable\": \"current\", \"value\": null}, {\"date\": \"2024-09-08T00:00:00\", \"variable\": \"current\", \"value\": null}, {\"date\": \"2024-09-09T00:00:00\", \"variable\": \"current\", \"value\": null}, {\"date\": \"2024-09-10T00:00:00\", \"variable\": \"current\", \"value\": null}, {\"date\": \"2024-09-11T00:00:00\", \"variable\": \"current\", \"value\": null}, {\"date\": \"2024-09-12T00:00:00\", \"variable\": \"current\", \"value\": null}, {\"date\": \"2024-09-13T00:00:00\", \"variable\": \"current\", \"value\": null}, {\"date\": \"2024-09-14T00:00:00\", \"variable\": \"current\", \"value\": null}, {\"date\": \"2024-09-15T00:00:00\", \"variable\": \"current\", \"value\": null}, {\"date\": \"2024-09-16T00:00:00\", \"variable\": \"current\", \"value\": null}, {\"date\": \"2024-09-17T00:00:00\", \"variable\": \"current\", \"value\": null}, {\"date\": \"2024-09-18T00:00:00\", \"variable\": \"current\", \"value\": null}, {\"date\": \"2024-09-19T00:00:00\", \"variable\": \"current\", \"value\": null}, {\"date\": \"2024-09-20T00:00:00\", \"variable\": \"current\", \"value\": null}, {\"date\": \"2024-09-21T00:00:00\", \"variable\": \"current\", \"value\": null}, {\"date\": \"2024-09-22T00:00:00\", \"variable\": \"current\", \"value\": null}, {\"date\": \"2024-09-23T00:00:00\", \"variable\": \"current\", \"value\": null}, {\"date\": \"2024-09-24T00:00:00\", \"variable\": \"current\", \"value\": null}, {\"date\": \"2024-09-25T00:00:00\", \"variable\": \"current\", \"value\": null}, {\"date\": \"2024-09-26T00:00:00\", \"variable\": \"current\", \"value\": null}, {\"date\": \"2024-09-27T00:00:00\", \"variable\": \"current\", \"value\": null}, {\"date\": \"2024-09-28T00:00:00\", \"variable\": \"current\", \"value\": null}, {\"date\": \"2024-09-29T00:00:00\", \"variable\": \"current\", \"value\": null}, {\"date\": \"2024-09-30T00:00:00\", \"variable\": \"current\", \"value\": null}, {\"date\": \"2023-10-01T00:00:00\", \"variable\": \"average\", \"value\": 0.03}, {\"date\": \"2023-10-02T00:00:00\", \"variable\": \"average\", \"value\": 0.05}, {\"date\": \"2023-10-03T00:00:00\", \"variable\": \"average\", \"value\": 0.06}, {\"date\": \"2023-10-04T00:00:00\", \"variable\": \"average\", \"value\": 0.06}, {\"date\": \"2023-10-05T00:00:00\", \"variable\": \"average\", \"value\": 0.09}, {\"date\": \"2023-10-06T00:00:00\", \"variable\": \"average\", \"value\": 0.13}, {\"date\": \"2023-10-07T00:00:00\", \"variable\": \"average\", \"value\": 0.14}, {\"date\": \"2023-10-08T00:00:00\", \"variable\": \"average\", \"value\": 0.15}, {\"date\": \"2023-10-09T00:00:00\", \"variable\": \"average\", \"value\": 0.15}, {\"date\": \"2023-10-10T00:00:00\", \"variable\": \"average\", \"value\": 0.17}, {\"date\": \"2023-10-11T00:00:00\", \"variable\": \"average\", \"value\": 0.18}, {\"date\": \"2023-10-12T00:00:00\", \"variable\": \"average\", \"value\": 0.2}, {\"date\": \"2023-10-13T00:00:00\", \"variable\": \"average\", \"value\": 0.22}, {\"date\": \"2023-10-14T00:00:00\", \"variable\": \"average\", \"value\": 0.25}, {\"date\": \"2023-10-15T00:00:00\", \"variable\": \"average\", \"value\": 0.26}, {\"date\": \"2023-10-16T00:00:00\", \"variable\": \"average\", \"value\": 0.27}, {\"date\": \"2023-10-17T00:00:00\", \"variable\": \"average\", \"value\": 0.28}, {\"date\": \"2023-10-18T00:00:00\", \"variable\": \"average\", \"value\": 0.32}, {\"date\": \"2023-10-19T00:00:00\", \"variable\": \"average\", \"value\": 0.35}, {\"date\": \"2023-10-20T00:00:00\", \"variable\": \"average\", \"value\": 0.4}, {\"date\": \"2023-10-21T00:00:00\", \"variable\": \"average\", \"value\": 0.46}, {\"date\": \"2023-10-22T00:00:00\", \"variable\": \"average\", \"value\": 0.47}, {\"date\": \"2023-10-23T00:00:00\", \"variable\": \"average\", \"value\": 0.5}, {\"date\": \"2023-10-24T00:00:00\", \"variable\": \"average\", \"value\": 0.52}, {\"date\": \"2023-10-25T00:00:00\", \"variable\": \"average\", \"value\": 0.53}, {\"date\": \"2023-10-26T00:00:00\", \"variable\": \"average\", \"value\": 0.55}, {\"date\": \"2023-10-27T00:00:00\", \"variable\": \"average\", \"value\": 0.59}, {\"date\": \"2023-10-28T00:00:00\", \"variable\": \"average\", \"value\": 0.64}, {\"date\": \"2023-10-29T00:00:00\", \"variable\": \"average\", \"value\": 0.66}, {\"date\": \"2023-10-30T00:00:00\", \"variable\": \"average\", \"value\": 0.69}, {\"date\": \"2023-10-31T00:00:00\", \"variable\": \"average\", \"value\": 0.74}, {\"date\": \"2023-11-01T00:00:00\", \"variable\": \"average\", \"value\": 0.78}, {\"date\": \"2023-11-02T00:00:00\", \"variable\": \"average\", \"value\": 0.82}, {\"date\": \"2023-11-03T00:00:00\", \"variable\": \"average\", \"value\": 0.83}, {\"date\": \"2023-11-04T00:00:00\", \"variable\": \"average\", \"value\": 0.84}, {\"date\": \"2023-11-05T00:00:00\", \"variable\": \"average\", \"value\": 0.87}, {\"date\": \"2023-11-06T00:00:00\", \"variable\": \"average\", \"value\": 0.88}, {\"date\": \"2023-11-07T00:00:00\", \"variable\": \"average\", \"value\": 0.89}, {\"date\": \"2023-11-08T00:00:00\", \"variable\": \"average\", \"value\": 0.92}, {\"date\": \"2023-11-09T00:00:00\", \"variable\": \"average\", \"value\": 1.03}, {\"date\": \"2023-11-10T00:00:00\", \"variable\": \"average\", \"value\": 1.09}, {\"date\": \"2023-11-11T00:00:00\", \"variable\": \"average\", \"value\": 1.15}, {\"date\": \"2023-11-12T00:00:00\", \"variable\": \"average\", \"value\": 1.22}, {\"date\": \"2023-11-13T00:00:00\", \"variable\": \"average\", \"value\": 1.28}, {\"date\": \"2023-11-14T00:00:00\", \"variable\": \"average\", \"value\": 1.31}, {\"date\": \"2023-11-15T00:00:00\", \"variable\": \"average\", \"value\": 1.33}, {\"date\": \"2023-11-16T00:00:00\", \"variable\": \"average\", \"value\": 1.35}, {\"date\": \"2023-11-17T00:00:00\", \"variable\": \"average\", \"value\": 1.35}, {\"date\": \"2023-11-18T00:00:00\", \"variable\": \"average\", \"value\": 1.38}, {\"date\": \"2023-11-19T00:00:00\", \"variable\": \"average\", \"value\": 1.41}, {\"date\": \"2023-11-20T00:00:00\", \"variable\": \"average\", \"value\": 1.43}, {\"date\": \"2023-11-21T00:00:00\", \"variable\": \"average\", \"value\": 1.53}, {\"date\": \"2023-11-22T00:00:00\", \"variable\": \"average\", \"value\": 1.61}, {\"date\": \"2023-11-23T00:00:00\", \"variable\": \"average\", \"value\": 1.64}, {\"date\": \"2023-11-24T00:00:00\", \"variable\": \"average\", \"value\": 1.65}, {\"date\": \"2023-11-25T00:00:00\", \"variable\": \"average\", \"value\": 1.71}, {\"date\": \"2023-11-26T00:00:00\", \"variable\": \"average\", \"value\": 1.8}, {\"date\": \"2023-11-27T00:00:00\", \"variable\": \"average\", \"value\": 1.86}, {\"date\": \"2023-11-28T00:00:00\", \"variable\": \"average\", \"value\": 1.93}, {\"date\": \"2023-11-29T00:00:00\", \"variable\": \"average\", \"value\": 2.02}, {\"date\": \"2023-11-30T00:00:00\", \"variable\": \"average\", \"value\": 2.12}, {\"date\": \"2023-12-01T00:00:00\", \"variable\": \"average\", \"value\": 2.23}, {\"date\": \"2023-12-02T00:00:00\", \"variable\": \"average\", \"value\": 2.25}, {\"date\": \"2023-12-03T00:00:00\", \"variable\": \"average\", \"value\": 2.31}, {\"date\": \"2023-12-04T00:00:00\", \"variable\": \"average\", \"value\": 2.36}, {\"date\": \"2023-12-05T00:00:00\", \"variable\": \"average\", \"value\": 2.42}, {\"date\": \"2023-12-06T00:00:00\", \"variable\": \"average\", \"value\": 2.49}, {\"date\": \"2023-12-07T00:00:00\", \"variable\": \"average\", \"value\": 2.6}, {\"date\": \"2023-12-08T00:00:00\", \"variable\": \"average\", \"value\": 2.73}, {\"date\": \"2023-12-09T00:00:00\", \"variable\": \"average\", \"value\": 2.77}, {\"date\": \"2023-12-10T00:00:00\", \"variable\": \"average\", \"value\": 2.81}, {\"date\": \"2023-12-11T00:00:00\", \"variable\": \"average\", \"value\": 2.89}, {\"date\": \"2023-12-12T00:00:00\", \"variable\": \"average\", \"value\": 2.98}, {\"date\": \"2023-12-13T00:00:00\", \"variable\": \"average\", \"value\": 3.08}, {\"date\": \"2023-12-14T00:00:00\", \"variable\": \"average\", \"value\": 3.14}, {\"date\": \"2023-12-15T00:00:00\", \"variable\": \"average\", \"value\": 3.2}, {\"date\": \"2023-12-16T00:00:00\", \"variable\": \"average\", \"value\": 3.29}, {\"date\": \"2023-12-17T00:00:00\", \"variable\": \"average\", \"value\": 3.4}, {\"date\": \"2023-12-18T00:00:00\", \"variable\": \"average\", \"value\": 3.49}, {\"date\": \"2023-12-19T00:00:00\", \"variable\": \"average\", \"value\": 3.58}, {\"date\": \"2023-12-20T00:00:00\", \"variable\": \"average\", \"value\": 3.7}, {\"date\": \"2023-12-21T00:00:00\", \"variable\": \"average\", \"value\": 3.82}, {\"date\": \"2023-12-22T00:00:00\", \"variable\": \"average\", \"value\": 3.95}, {\"date\": \"2023-12-23T00:00:00\", \"variable\": \"average\", \"value\": 4.08}, {\"date\": \"2023-12-24T00:00:00\", \"variable\": \"average\", \"value\": 4.21}, {\"date\": \"2023-12-25T00:00:00\", \"variable\": \"average\", \"value\": 4.28}, {\"date\": \"2023-12-26T00:00:00\", \"variable\": \"average\", \"value\": 4.43}, {\"date\": \"2023-12-27T00:00:00\", \"variable\": \"average\", \"value\": 4.48}, {\"date\": \"2023-12-28T00:00:00\", \"variable\": \"average\", \"value\": 4.57}, {\"date\": \"2023-12-29T00:00:00\", \"variable\": \"average\", \"value\": 4.7}, {\"date\": \"2023-12-30T00:00:00\", \"variable\": \"average\", \"value\": 4.84}, {\"date\": \"2023-12-31T00:00:00\", \"variable\": \"average\", \"value\": 4.93}, {\"date\": \"2024-01-01T00:00:00\", \"variable\": \"average\", \"value\": 5.01}, {\"date\": \"2024-01-02T00:00:00\", \"variable\": \"average\", \"value\": 5.06}, {\"date\": \"2024-01-03T00:00:00\", \"variable\": \"average\", \"value\": 5.15}, {\"date\": \"2024-01-04T00:00:00\", \"variable\": \"average\", \"value\": 5.26}, {\"date\": \"2024-01-05T00:00:00\", \"variable\": \"average\", \"value\": 5.44}, {\"date\": \"2024-01-06T00:00:00\", \"variable\": \"average\", \"value\": 5.65}, {\"date\": \"2024-01-07T00:00:00\", \"variable\": \"average\", \"value\": 5.8}, {\"date\": \"2024-01-08T00:00:00\", \"variable\": \"average\", \"value\": 5.93}, {\"date\": \"2024-01-09T00:00:00\", \"variable\": \"average\", \"value\": 6.06}, {\"date\": \"2024-01-10T00:00:00\", \"variable\": \"average\", \"value\": 6.27}, {\"date\": \"2024-01-11T00:00:00\", \"variable\": \"average\", \"value\": 6.47}, {\"date\": \"2024-01-12T00:00:00\", \"variable\": \"average\", \"value\": 6.61}, {\"date\": \"2024-01-13T00:00:00\", \"variable\": \"average\", \"value\": 6.71}, {\"date\": \"2024-01-14T00:00:00\", \"variable\": \"average\", \"value\": 6.79}, {\"date\": \"2024-01-15T00:00:00\", \"variable\": \"average\", \"value\": 6.9}, {\"date\": \"2024-01-16T00:00:00\", \"variable\": \"average\", \"value\": 7.01}, {\"date\": \"2024-01-17T00:00:00\", \"variable\": \"average\", \"value\": 7.11}, {\"date\": \"2024-01-18T00:00:00\", \"variable\": \"average\", \"value\": 7.23}, {\"date\": \"2024-01-19T00:00:00\", \"variable\": \"average\", \"value\": 7.33}, {\"date\": \"2024-01-20T00:00:00\", \"variable\": \"average\", \"value\": 7.4}, {\"date\": \"2024-01-21T00:00:00\", \"variable\": \"average\", \"value\": 7.52}, {\"date\": \"2024-01-22T00:00:00\", \"variable\": \"average\", \"value\": 7.63}, {\"date\": \"2024-01-23T00:00:00\", \"variable\": \"average\", \"value\": 7.74}, {\"date\": \"2024-01-24T00:00:00\", \"variable\": \"average\", \"value\": 7.84}, {\"date\": \"2024-01-25T00:00:00\", \"variable\": \"average\", \"value\": 7.94}, {\"date\": \"2024-01-26T00:00:00\", \"variable\": \"average\", \"value\": 8.05}, {\"date\": \"2024-01-27T00:00:00\", \"variable\": \"average\", \"value\": 8.15}, {\"date\": \"2024-01-28T00:00:00\", \"variable\": \"average\", \"value\": 8.24}, {\"date\": \"2024-01-29T00:00:00\", \"variable\": \"average\", \"value\": 8.33}, {\"date\": \"2024-01-30T00:00:00\", \"variable\": \"average\", \"value\": 8.39}, {\"date\": \"2024-01-31T00:00:00\", \"variable\": \"average\", \"value\": 8.46}, {\"date\": \"2024-02-01T00:00:00\", \"variable\": \"average\", \"value\": 8.56}, {\"date\": \"2024-02-02T00:00:00\", \"variable\": \"average\", \"value\": 8.6}, {\"date\": \"2024-02-03T00:00:00\", \"variable\": \"average\", \"value\": 8.71}, {\"date\": \"2024-02-04T00:00:00\", \"variable\": \"average\", \"value\": 8.82}, {\"date\": \"2024-02-05T00:00:00\", \"variable\": \"average\", \"value\": 8.91}, {\"date\": \"2024-02-06T00:00:00\", \"variable\": \"average\", \"value\": 8.98}, {\"date\": \"2024-02-07T00:00:00\", \"variable\": \"average\", \"value\": 9.1}, {\"date\": \"2024-02-08T00:00:00\", \"variable\": \"average\", \"value\": 9.24}, {\"date\": \"2024-02-09T00:00:00\", \"variable\": \"average\", \"value\": 9.4}, {\"date\": \"2024-02-10T00:00:00\", \"variable\": \"average\", \"value\": 9.5}, {\"date\": \"2024-02-11T00:00:00\", \"variable\": \"average\", \"value\": 9.6}, {\"date\": \"2024-02-12T00:00:00\", \"variable\": \"average\", \"value\": 9.72}, {\"date\": \"2024-02-13T00:00:00\", \"variable\": \"average\", \"value\": 9.88}, {\"date\": \"2024-02-14T00:00:00\", \"variable\": \"average\", \"value\": 10.06}, {\"date\": \"2024-02-15T00:00:00\", \"variable\": \"average\", \"value\": 10.24}, {\"date\": \"2024-02-16T00:00:00\", \"variable\": \"average\", \"value\": 10.36}, {\"date\": \"2024-02-17T00:00:00\", \"variable\": \"average\", \"value\": 10.44}, {\"date\": \"2024-02-18T00:00:00\", \"variable\": \"average\", \"value\": 10.59}, {\"date\": \"2024-02-19T00:00:00\", \"variable\": \"average\", \"value\": 10.74}, {\"date\": \"2024-02-20T00:00:00\", \"variable\": \"average\", \"value\": 10.91}, {\"date\": \"2024-02-21T00:00:00\", \"variable\": \"average\", \"value\": 11.07}, {\"date\": \"2024-02-22T00:00:00\", \"variable\": \"average\", \"value\": 11.22}, {\"date\": \"2024-02-23T00:00:00\", \"variable\": \"average\", \"value\": 11.38}, {\"date\": \"2024-02-24T00:00:00\", \"variable\": \"average\", \"value\": 11.52}, {\"date\": \"2024-02-25T00:00:00\", \"variable\": \"average\", \"value\": 11.66}, {\"date\": \"2024-02-26T00:00:00\", \"variable\": \"average\", \"value\": 11.8}, {\"date\": \"2024-02-27T00:00:00\", \"variable\": \"average\", \"value\": 11.95}, {\"date\": \"2024-02-28T00:00:00\", \"variable\": \"average\", \"value\": 12.19}, {\"date\": \"2024-02-29T00:00:00\", \"variable\": \"average\", \"value\": 12.21}, {\"date\": \"2024-03-01T00:00:00\", \"variable\": \"average\", \"value\": 12.44}, {\"date\": \"2024-03-02T00:00:00\", \"variable\": \"average\", \"value\": 12.64}, {\"date\": \"2024-03-03T00:00:00\", \"variable\": \"average\", \"value\": 12.78}, {\"date\": \"2024-03-04T00:00:00\", \"variable\": \"average\", \"value\": 12.87}, {\"date\": \"2024-03-05T00:00:00\", \"variable\": \"average\", \"value\": 12.92}, {\"date\": \"2024-03-06T00:00:00\", \"variable\": \"average\", \"value\": 13.06}, {\"date\": \"2024-03-07T00:00:00\", \"variable\": \"average\", \"value\": 13.2}, {\"date\": \"2024-03-08T00:00:00\", \"variable\": \"average\", \"value\": 13.26}, {\"date\": \"2024-03-09T00:00:00\", \"variable\": \"average\", \"value\": 13.31}, {\"date\": \"2024-03-10T00:00:00\", \"variable\": \"average\", \"value\": 13.35}, {\"date\": \"2024-03-11T00:00:00\", \"variable\": \"average\", \"value\": 13.47}, {\"date\": \"2024-03-12T00:00:00\", \"variable\": \"average\", \"value\": 13.57}, {\"date\": \"2024-03-13T00:00:00\", \"variable\": \"average\", \"value\": 13.65}, {\"date\": \"2024-03-14T00:00:00\", \"variable\": \"average\", \"value\": 13.71}, {\"date\": \"2024-03-15T00:00:00\", \"variable\": \"average\", \"value\": 13.83}, {\"date\": \"2024-03-16T00:00:00\", \"variable\": \"average\", \"value\": 13.93}, {\"date\": \"2024-03-17T00:00:00\", \"variable\": \"average\", \"value\": 14.03}, {\"date\": \"2024-03-18T00:00:00\", \"variable\": \"average\", \"value\": 14.15}, {\"date\": \"2024-03-19T00:00:00\", \"variable\": \"average\", \"value\": 14.23}, {\"date\": \"2024-03-20T00:00:00\", \"variable\": \"average\", \"value\": 14.31}, {\"date\": \"2024-03-21T00:00:00\", \"variable\": \"average\", \"value\": 14.46}, {\"date\": \"2024-03-22T00:00:00\", \"variable\": \"average\", \"value\": 14.59}, {\"date\": \"2024-03-23T00:00:00\", \"variable\": \"average\", \"value\": 14.69}, {\"date\": \"2024-03-24T00:00:00\", \"variable\": \"average\", \"value\": 14.76}, {\"date\": \"2024-03-25T00:00:00\", \"variable\": \"average\", \"value\": 14.82}, {\"date\": \"2024-03-26T00:00:00\", \"variable\": \"average\", \"value\": 14.95}, {\"date\": \"2024-03-27T00:00:00\", \"variable\": \"average\", \"value\": 15.05}, {\"date\": \"2024-03-28T00:00:00\", \"variable\": \"average\", \"value\": 15.11}, {\"date\": \"2024-03-29T00:00:00\", \"variable\": \"average\", \"value\": 15.2}, {\"date\": \"2024-03-30T00:00:00\", \"variable\": \"average\", \"value\": 15.25}, {\"date\": \"2024-03-31T00:00:00\", \"variable\": \"average\", \"value\": 15.26}, {\"date\": \"2024-04-01T00:00:00\", \"variable\": \"average\", \"value\": 15.3}, {\"date\": \"2024-04-02T00:00:00\", \"variable\": \"average\", \"value\": 15.36}, {\"date\": \"2024-04-03T00:00:00\", \"variable\": \"average\", \"value\": 15.38}, {\"date\": \"2024-04-04T00:00:00\", \"variable\": \"average\", \"value\": 15.39}, {\"date\": \"2024-04-05T00:00:00\", \"variable\": \"average\", \"value\": 15.44}, {\"date\": \"2024-04-06T00:00:00\", \"variable\": \"average\", \"value\": 15.49}, {\"date\": \"2024-04-07T00:00:00\", \"variable\": \"average\", \"value\": 15.55}, {\"date\": \"2024-04-08T00:00:00\", \"variable\": \"average\", \"value\": 15.6}, {\"date\": \"2024-04-09T00:00:00\", \"variable\": \"average\", \"value\": 15.63}, {\"date\": \"2024-04-10T00:00:00\", \"variable\": \"average\", \"value\": 15.66}, {\"date\": \"2024-04-11T00:00:00\", \"variable\": \"average\", \"value\": 15.7}, {\"date\": \"2024-04-12T00:00:00\", \"variable\": \"average\", \"value\": 15.75}, {\"date\": \"2024-04-13T00:00:00\", \"variable\": \"average\", \"value\": 15.79}, {\"date\": \"2024-04-14T00:00:00\", \"variable\": \"average\", \"value\": 15.82}, {\"date\": \"2024-04-15T00:00:00\", \"variable\": \"average\", \"value\": 15.88}, {\"date\": \"2024-04-16T00:00:00\", \"variable\": \"average\", \"value\": 15.91}, {\"date\": \"2024-04-17T00:00:00\", \"variable\": \"average\", \"value\": 15.93}, {\"date\": \"2024-04-18T00:00:00\", \"variable\": \"average\", \"value\": 15.98}, {\"date\": \"2024-04-19T00:00:00\", \"variable\": \"average\", \"value\": 16.03}, {\"date\": \"2024-04-20T00:00:00\", \"variable\": \"average\", \"value\": 16.06}, {\"date\": \"2024-04-21T00:00:00\", \"variable\": \"average\", \"value\": 16.13}, {\"date\": \"2024-04-22T00:00:00\", \"variable\": \"average\", \"value\": 16.17}, {\"date\": \"2024-04-23T00:00:00\", \"variable\": \"average\", \"value\": 16.19}, {\"date\": \"2024-04-24T00:00:00\", \"variable\": \"average\", \"value\": 16.2}, {\"date\": \"2024-04-25T00:00:00\", \"variable\": \"average\", \"value\": 16.21}, {\"date\": \"2024-04-26T00:00:00\", \"variable\": \"average\", \"value\": 16.24}, {\"date\": \"2024-04-27T00:00:00\", \"variable\": \"average\", \"value\": 16.26}, {\"date\": \"2024-04-28T00:00:00\", \"variable\": \"average\", \"value\": 16.27}, {\"date\": \"2024-04-29T00:00:00\", \"variable\": \"average\", \"value\": 16.3}, {\"date\": \"2024-04-30T00:00:00\", \"variable\": \"average\", \"value\": 16.32}, {\"date\": \"2024-05-01T00:00:00\", \"variable\": \"average\", \"value\": 16.33}, {\"date\": \"2024-05-02T00:00:00\", \"variable\": \"average\", \"value\": 16.34}, {\"date\": \"2024-05-03T00:00:00\", \"variable\": \"average\", \"value\": 16.35}, {\"date\": \"2024-05-04T00:00:00\", \"variable\": \"average\", \"value\": 16.38}, {\"date\": \"2024-05-05T00:00:00\", \"variable\": \"average\", \"value\": 16.4}, {\"date\": \"2024-05-06T00:00:00\", \"variable\": \"average\", \"value\": 16.44}, {\"date\": \"2024-05-07T00:00:00\", \"variable\": \"average\", \"value\": 16.48}, {\"date\": \"2024-05-08T00:00:00\", \"variable\": \"average\", \"value\": 16.51}, {\"date\": \"2024-05-09T00:00:00\", \"variable\": \"average\", \"value\": 16.52}, {\"date\": \"2024-05-10T00:00:00\", \"variable\": \"average\", \"value\": 16.52}, {\"date\": \"2024-05-11T00:00:00\", \"variable\": \"average\", \"value\": 16.53}, {\"date\": \"2024-05-12T00:00:00\", \"variable\": \"average\", \"value\": 16.53}, {\"date\": \"2024-05-13T00:00:00\", \"variable\": \"average\", \"value\": 16.55}, {\"date\": \"2024-05-14T00:00:00\", \"variable\": \"average\", \"value\": 16.57}, {\"date\": \"2024-05-15T00:00:00\", \"variable\": \"average\", \"value\": 16.59}, {\"date\": \"2024-05-16T00:00:00\", \"variable\": \"average\", \"value\": 16.61}, {\"date\": \"2024-05-17T00:00:00\", \"variable\": \"average\", \"value\": 16.62}, {\"date\": \"2024-05-18T00:00:00\", \"variable\": \"average\", \"value\": 16.63}, {\"date\": \"2024-05-19T00:00:00\", \"variable\": \"average\", \"value\": 16.64}, {\"date\": \"2024-05-20T00:00:00\", \"variable\": \"average\", \"value\": 16.65}, {\"date\": \"2024-05-21T00:00:00\", \"variable\": \"average\", \"value\": 16.66}, {\"date\": \"2024-05-22T00:00:00\", \"variable\": \"average\", \"value\": 16.66}, {\"date\": \"2024-05-23T00:00:00\", \"variable\": \"average\", \"value\": 16.69}, {\"date\": \"2024-05-24T00:00:00\", \"variable\": \"average\", \"value\": 16.7}, {\"date\": \"2024-05-25T00:00:00\", \"variable\": \"average\", \"value\": 16.7}, {\"date\": \"2024-05-26T00:00:00\", \"variable\": \"average\", \"value\": 16.71}, {\"date\": \"2024-05-27T00:00:00\", \"variable\": \"average\", \"value\": 16.71}, {\"date\": \"2024-05-28T00:00:00\", \"variable\": \"average\", \"value\": 16.72}, {\"date\": \"2024-05-29T00:00:00\", \"variable\": \"average\", \"value\": 16.74}, {\"date\": \"2024-05-30T00:00:00\", \"variable\": \"average\", \"value\": 16.74}, {\"date\": \"2024-05-31T00:00:00\", \"variable\": \"average\", \"value\": 16.74}, {\"date\": \"2024-06-01T00:00:00\", \"variable\": \"average\", \"value\": 16.74}, {\"date\": \"2024-06-02T00:00:00\", \"variable\": \"average\", \"value\": 16.74}, {\"date\": \"2024-06-03T00:00:00\", \"variable\": \"average\", \"value\": 16.75}, {\"date\": \"2024-06-04T00:00:00\", \"variable\": \"average\", \"value\": 16.75}, {\"date\": \"2024-06-05T00:00:00\", \"variable\": \"average\", \"value\": 16.76}, {\"date\": \"2024-06-06T00:00:00\", \"variable\": \"average\", \"value\": 16.78}, {\"date\": \"2024-06-07T00:00:00\", \"variable\": \"average\", \"value\": 16.79}, {\"date\": \"2024-06-08T00:00:00\", \"variable\": \"average\", \"value\": 16.79}, {\"date\": \"2024-06-09T00:00:00\", \"variable\": \"average\", \"value\": 16.79}, {\"date\": \"2024-06-10T00:00:00\", \"variable\": \"average\", \"value\": 16.79}, {\"date\": \"2024-06-11T00:00:00\", \"variable\": \"average\", \"value\": 16.8}, {\"date\": \"2024-06-12T00:00:00\", \"variable\": \"average\", \"value\": 16.8}, {\"date\": \"2024-06-13T00:00:00\", \"variable\": \"average\", \"value\": 16.8}, {\"date\": \"2024-06-14T00:00:00\", \"variable\": \"average\", \"value\": 16.8}, {\"date\": \"2024-06-15T00:00:00\", \"variable\": \"average\", \"value\": 16.8}, {\"date\": \"2024-06-16T00:00:00\", \"variable\": \"average\", \"value\": 16.81}, {\"date\": \"2024-06-17T00:00:00\", \"variable\": \"average\", \"value\": 16.82}, {\"date\": \"2024-06-18T00:00:00\", \"variable\": \"average\", \"value\": 16.82}, {\"date\": \"2024-06-19T00:00:00\", \"variable\": \"average\", \"value\": 16.82}, {\"date\": \"2024-06-20T00:00:00\", \"variable\": \"average\", \"value\": 16.82}, {\"date\": \"2024-06-21T00:00:00\", \"variable\": \"average\", \"value\": 16.82}, {\"date\": \"2024-06-22T00:00:00\", \"variable\": \"average\", \"value\": 16.83}, {\"date\": \"2024-06-23T00:00:00\", \"variable\": \"average\", \"value\": 16.83}, {\"date\": \"2024-06-24T00:00:00\", \"variable\": \"average\", \"value\": 16.83}, {\"date\": \"2024-06-25T00:00:00\", \"variable\": \"average\", \"value\": 16.83}, {\"date\": \"2024-06-26T00:00:00\", \"variable\": \"average\", \"value\": 16.83}, {\"date\": \"2024-06-27T00:00:00\", \"variable\": \"average\", \"value\": 16.83}, {\"date\": \"2024-06-28T00:00:00\", \"variable\": \"average\", \"value\": 16.83}, {\"date\": \"2024-06-29T00:00:00\", \"variable\": \"average\", \"value\": 16.83}, {\"date\": \"2024-06-30T00:00:00\", \"variable\": \"average\", \"value\": 16.83}, {\"date\": \"2024-07-01T00:00:00\", \"variable\": \"average\", \"value\": 16.83}, {\"date\": \"2024-07-02T00:00:00\", \"variable\": \"average\", \"value\": 16.83}, {\"date\": \"2024-07-03T00:00:00\", \"variable\": \"average\", \"value\": 16.83}, {\"date\": \"2024-07-04T00:00:00\", \"variable\": \"average\", \"value\": 16.83}, {\"date\": \"2024-07-05T00:00:00\", \"variable\": \"average\", \"value\": 16.83}, {\"date\": \"2024-07-06T00:00:00\", \"variable\": \"average\", \"value\": 16.84}, {\"date\": \"2024-07-07T00:00:00\", \"variable\": \"average\", \"value\": 16.84}, {\"date\": \"2024-07-08T00:00:00\", \"variable\": \"average\", \"value\": 16.84}, {\"date\": \"2024-07-09T00:00:00\", \"variable\": \"average\", \"value\": 16.85}, {\"date\": \"2024-07-10T00:00:00\", \"variable\": \"average\", \"value\": 16.85}, {\"date\": \"2024-07-11T00:00:00\", \"variable\": \"average\", \"value\": 16.85}, {\"date\": \"2024-07-12T00:00:00\", \"variable\": \"average\", \"value\": 16.85}, {\"date\": \"2024-07-13T00:00:00\", \"variable\": \"average\", \"value\": 16.86}, {\"date\": \"2024-07-14T00:00:00\", \"variable\": \"average\", \"value\": 16.87}, {\"date\": \"2024-07-15T00:00:00\", \"variable\": \"average\", \"value\": 16.87}, {\"date\": \"2024-07-16T00:00:00\", \"variable\": \"average\", \"value\": 16.87}, {\"date\": \"2024-07-17T00:00:00\", \"variable\": \"average\", \"value\": 16.88}, {\"date\": \"2024-07-18T00:00:00\", \"variable\": \"average\", \"value\": 16.88}, {\"date\": \"2024-07-19T00:00:00\", \"variable\": \"average\", \"value\": 16.9}, {\"date\": \"2024-07-20T00:00:00\", \"variable\": \"average\", \"value\": 16.92}, {\"date\": \"2024-07-21T00:00:00\", \"variable\": \"average\", \"value\": 16.92}, {\"date\": \"2024-07-22T00:00:00\", \"variable\": \"average\", \"value\": 16.92}, {\"date\": \"2024-07-23T00:00:00\", \"variable\": \"average\", \"value\": 16.93}, {\"date\": \"2024-07-24T00:00:00\", \"variable\": \"average\", \"value\": 16.93}, {\"date\": \"2024-07-25T00:00:00\", \"variable\": \"average\", \"value\": 16.94}, {\"date\": \"2024-07-26T00:00:00\", \"variable\": \"average\", \"value\": 16.94}, {\"date\": \"2024-07-27T00:00:00\", \"variable\": \"average\", \"value\": 16.94}, {\"date\": \"2024-07-28T00:00:00\", \"variable\": \"average\", \"value\": 16.95}, {\"date\": \"2024-07-29T00:00:00\", \"variable\": \"average\", \"value\": 16.95}, {\"date\": \"2024-07-30T00:00:00\", \"variable\": \"average\", \"value\": 16.95}, {\"date\": \"2024-07-31T00:00:00\", \"variable\": \"average\", \"value\": 16.96}, {\"date\": \"2024-08-01T00:00:00\", \"variable\": \"average\", \"value\": 16.97}, {\"date\": \"2024-08-02T00:00:00\", \"variable\": \"average\", \"value\": 16.98}, {\"date\": \"2024-08-03T00:00:00\", \"variable\": \"average\", \"value\": 16.98}, {\"date\": \"2024-08-04T00:00:00\", \"variable\": \"average\", \"value\": 16.99}, {\"date\": \"2024-08-05T00:00:00\", \"variable\": \"average\", \"value\": 16.99}, {\"date\": \"2024-08-06T00:00:00\", \"variable\": \"average\", \"value\": 16.99}, {\"date\": \"2024-08-07T00:00:00\", \"variable\": \"average\", \"value\": 17.0}, {\"date\": \"2024-08-08T00:00:00\", \"variable\": \"average\", \"value\": 17.0}, {\"date\": \"2024-08-09T00:00:00\", \"variable\": \"average\", \"value\": 17.0}, {\"date\": \"2024-08-10T00:00:00\", \"variable\": \"average\", \"value\": 17.01}, {\"date\": \"2024-08-11T00:00:00\", \"variable\": \"average\", \"value\": 17.01}, {\"date\": \"2024-08-12T00:00:00\", \"variable\": \"average\", \"value\": 17.02}, {\"date\": \"2024-08-13T00:00:00\", \"variable\": \"average\", \"value\": 17.02}, {\"date\": \"2024-08-14T00:00:00\", \"variable\": \"average\", \"value\": 17.03}, {\"date\": \"2024-08-15T00:00:00\", \"variable\": \"average\", \"value\": 17.03}, {\"date\": \"2024-08-16T00:00:00\", \"variable\": \"average\", \"value\": 17.04}, {\"date\": \"2024-08-17T00:00:00\", \"variable\": \"average\", \"value\": 17.05}, {\"date\": \"2024-08-18T00:00:00\", \"variable\": \"average\", \"value\": 17.06}, {\"date\": \"2024-08-19T00:00:00\", \"variable\": \"average\", \"value\": 17.07}, {\"date\": \"2024-08-20T00:00:00\", \"variable\": \"average\", \"value\": 17.09}, {\"date\": \"2024-08-21T00:00:00\", \"variable\": \"average\", \"value\": 17.16}, {\"date\": \"2024-08-22T00:00:00\", \"variable\": \"average\", \"value\": 17.16}, {\"date\": \"2024-08-23T00:00:00\", \"variable\": \"average\", \"value\": 17.16}, {\"date\": \"2024-08-24T00:00:00\", \"variable\": \"average\", \"value\": 17.17}, {\"date\": \"2024-08-25T00:00:00\", \"variable\": \"average\", \"value\": 17.17}, {\"date\": \"2024-08-26T00:00:00\", \"variable\": \"average\", \"value\": 17.18}, {\"date\": \"2024-08-27T00:00:00\", \"variable\": \"average\", \"value\": 17.18}, {\"date\": \"2024-08-28T00:00:00\", \"variable\": \"average\", \"value\": 17.19}, {\"date\": \"2024-08-29T00:00:00\", \"variable\": \"average\", \"value\": 17.19}, {\"date\": \"2024-08-30T00:00:00\", \"variable\": \"average\", \"value\": 17.19}, {\"date\": \"2024-08-31T00:00:00\", \"variable\": \"average\", \"value\": 17.2}, {\"date\": \"2024-09-01T00:00:00\", \"variable\": \"average\", \"value\": 17.2}, {\"date\": \"2024-09-02T00:00:00\", \"variable\": \"average\", \"value\": 17.21}, {\"date\": \"2024-09-03T00:00:00\", \"variable\": \"average\", \"value\": 17.22}, {\"date\": \"2024-09-04T00:00:00\", \"variable\": \"average\", \"value\": 17.22}, {\"date\": \"2024-09-05T00:00:00\", \"variable\": \"average\", \"value\": 17.23}, {\"date\": \"2024-09-06T00:00:00\", \"variable\": \"average\", \"value\": 17.24}, {\"date\": \"2024-09-07T00:00:00\", \"variable\": \"average\", \"value\": 17.24}, {\"date\": \"2024-09-08T00:00:00\", \"variable\": \"average\", \"value\": 17.25}, {\"date\": \"2024-09-09T00:00:00\", \"variable\": \"average\", \"value\": 17.25}, {\"date\": \"2024-09-10T00:00:00\", \"variable\": \"average\", \"value\": 17.26}, {\"date\": \"2024-09-11T00:00:00\", \"variable\": \"average\", \"value\": 17.27}, {\"date\": \"2024-09-12T00:00:00\", \"variable\": \"average\", \"value\": 17.27}, {\"date\": \"2024-09-13T00:00:00\", \"variable\": \"average\", \"value\": 17.28}, {\"date\": \"2024-09-14T00:00:00\", \"variable\": \"average\", \"value\": 17.28}, {\"date\": \"2024-09-15T00:00:00\", \"variable\": \"average\", \"value\": 17.29}, {\"date\": \"2024-09-16T00:00:00\", \"variable\": \"average\", \"value\": 17.31}, {\"date\": \"2024-09-17T00:00:00\", \"variable\": \"average\", \"value\": 17.32}, {\"date\": \"2024-09-18T00:00:00\", \"variable\": \"average\", \"value\": 17.32}, {\"date\": \"2024-09-19T00:00:00\", \"variable\": \"average\", \"value\": 17.33}, {\"date\": \"2024-09-20T00:00:00\", \"variable\": \"average\", \"value\": 17.34}, {\"date\": \"2024-09-21T00:00:00\", \"variable\": \"average\", \"value\": 17.35}, {\"date\": \"2024-09-22T00:00:00\", \"variable\": \"average\", \"value\": 17.36}, {\"date\": \"2024-09-23T00:00:00\", \"variable\": \"average\", \"value\": 17.38}, {\"date\": \"2024-09-24T00:00:00\", \"variable\": \"average\", \"value\": 17.38}, {\"date\": \"2024-09-25T00:00:00\", \"variable\": \"average\", \"value\": 17.4}, {\"date\": \"2024-09-26T00:00:00\", \"variable\": \"average\", \"value\": 17.44}, {\"date\": \"2024-09-27T00:00:00\", \"variable\": \"average\", \"value\": 17.46}, {\"date\": \"2024-09-28T00:00:00\", \"variable\": \"average\", \"value\": 17.46}, {\"date\": \"2024-09-29T00:00:00\", \"variable\": \"average\", \"value\": 17.47}, {\"date\": \"2024-09-30T00:00:00\", \"variable\": \"average\", \"value\": 17.48}]}}, {\"mode\": \"vega-lite\"});\n",
       "</script>"
      ],
      "text/plain": [
       "alt.Chart(...)"
      ]
     },
     "execution_count": 23,
     "metadata": {},
     "output_type": "execute_result"
    }
   ],
   "source": [
    "alt.Chart(line_chart).mark_line().encode(\n",
    "    x=\"date:T\",\n",
    "    y=\"value\",\n",
    "    color=\"variable\",\n",
    ").properties(\n",
    "    title=f\"California precipitation in {today.year} compared to average\",\n",
    "    width=600\n",
    ")"
   ]
  },
  {
   "cell_type": "markdown",
   "id": "0a4242e0-5067-4897-a2a1-0de60c86f895",
   "metadata": {},
   "source": [
    "### Export"
   ]
  },
  {
   "cell_type": "code",
   "execution_count": 32,
   "id": "d1638d26-239b-4dad-a0a0-2b674c4103b5",
   "metadata": {},
   "outputs": [],
   "source": [
    "df.to_csv(\"../../data/processed/precipitation/south-coast-timeseries.csv\", index=False)"
   ]
  },
  {
   "cell_type": "code",
   "execution_count": null,
   "id": "01c65834-c28e-43eb-ab00-7686e4795ecf",
   "metadata": {},
   "outputs": [],
   "source": []
  }
 ],
 "metadata": {
  "kernelspec": {
   "display_name": "Python 3 (ipykernel)",
   "language": "python",
   "name": "python3"
  },
  "language_info": {
   "codemirror_mode": {
    "name": "ipython",
    "version": 3
   },
   "file_extension": ".py",
   "mimetype": "text/x-python",
   "name": "python",
   "nbconvert_exporter": "python",
   "pygments_lexer": "ipython3",
   "version": "3.9.17"
  }
 },
 "nbformat": 4,
 "nbformat_minor": 5
}
