{
 "cells": [
  {
   "cell_type": "code",
   "execution_count": 265,
   "id": "edcca902-4c31-4ea8-be78-a0a396409eec",
   "metadata": {},
   "outputs": [],
   "source": [
    "import pandas as pd\n",
    "import altair as alt\n",
    "import altair_latimes as lat"
   ]
  },
  {
   "cell_type": "code",
   "execution_count": 266,
   "id": "36ffc5e1-1fe9-412f-b7ec-d4a3a1f2ef11",
   "metadata": {},
   "outputs": [
    {
     "data": {
      "text/plain": [
       "ThemeRegistry.enable('latimes')"
      ]
     },
     "execution_count": 266,
     "metadata": {},
     "output_type": "execute_result"
    }
   ],
   "source": [
    "alt.themes.register('latimes', lat.theme)\n",
    "alt.themes.enable('latimes')"
   ]
  },
  {
   "cell_type": "code",
   "execution_count": 267,
   "id": "197b1bdf-b1ba-444a-8b9a-6345bb12fcdf",
   "metadata": {},
   "outputs": [],
   "source": [
    "pd.set_option('display.float_format', lambda x: '%.3f' % x)"
   ]
  },
  {
   "cell_type": "markdown",
   "id": "0aab5e92-9ad5-4110-8c24-5508ac230fcb",
   "metadata": {},
   "source": [
    "### Import"
   ]
  },
  {
   "cell_type": "code",
   "execution_count": 268,
   "id": "eada2996-4a8c-4bbb-8c34-1738cd882bb3",
   "metadata": {},
   "outputs": [],
   "source": [
    "df = pd.read_csv(\"../data/processed/district-level-residential-use.csv\", parse_dates=[\"reporting_month\"])"
   ]
  },
  {
   "cell_type": "code",
   "execution_count": 269,
   "id": "f31f3525-724e-455f-97f3-09c8c4a9019b",
   "metadata": {},
   "outputs": [],
   "source": [
    "baselines_df = pd.read_csv(\"../data/raw/uw-2020-baseline-values.csv\")"
   ]
  },
  {
   "cell_type": "markdown",
   "id": "b8acda33-a463-4231-9f17-554021e6b131",
   "metadata": {},
   "source": [
    "### Clean"
   ]
  },
  {
   "cell_type": "markdown",
   "id": "86e2c103-e0e3-4b56-9cd0-710bebd4e584",
   "metadata": {},
   "source": [
    "Clean up baselines column names as we did in the previous notebook"
   ]
  },
  {
   "cell_type": "code",
   "execution_count": 270,
   "id": "c6693671-6764-4568-89e2-941aa3c4aee8",
   "metadata": {},
   "outputs": [],
   "source": [
    "baselines_df.columns = baselines_df.columns.str.replace(\" \",\"_\").str.replace(\"-\",\"_\").str.replace(r'[#,@,&,(,)]', '', regex=True).str.lower()"
   ]
  },
  {
   "cell_type": "code",
   "execution_count": 271,
   "id": "8f4ac90a-fa77-4297-bed0-600c9d4946b8",
   "metadata": {},
   "outputs": [],
   "source": [
    "baselines_df.supplier_name = baselines_df.supplier_name.str.replace(\"  \", \" \")"
   ]
  },
  {
   "cell_type": "code",
   "execution_count": 272,
   "id": "c5ee2af5-4037-409d-8b11-7aca8ab0142e",
   "metadata": {},
   "outputs": [],
   "source": [
    "baselines_trimmed_df = baselines_df[[\n",
    "    'supplier_name', \n",
    "    'public_water_system_id', \n",
    "    'month', \n",
    "    #'original_units',\n",
    "    # 'total_potable_production_original_units',\n",
    "    # 'potable_commercial_agriculture_original_units',\n",
    "    'total_potable_production_minus_ag_gallons', \n",
    "    # 'staff_notes'\n",
    "]].copy()"
   ]
  },
  {
   "cell_type": "markdown",
   "id": "313fe135-d3dd-4401-9f07-21db0dbd95e1",
   "metadata": {},
   "source": [
    "Get rid of some unnecessary columns"
   ]
  },
  {
   "cell_type": "code",
   "execution_count": 273,
   "id": "19d3208a-ce06-4087-be21-7258221ba9cf",
   "metadata": {},
   "outputs": [],
   "source": [
    "trim_df = df[[\n",
    "    'supplier_name', \n",
    "    'public_water_system_id', \n",
    "    'reporting_month', \n",
    "    'county',\n",
    "    'hydrologic_region', \n",
    "    # 'climate_zone', \n",
    "    'total_population_served',\n",
    "    'calculated_total_potable_water_production_gallons_ag_excluded',\n",
    "    # 'calculated_r_gpcd', \n",
    "    # 'pop_weighted_rgpcd', \n",
    "    # 'month'\n",
    "]].copy()"
   ]
  },
  {
   "cell_type": "markdown",
   "id": "e243cc84-9ae7-477a-8fda-552735e50641",
   "metadata": {},
   "source": [
    "### Merge"
   ]
  },
  {
   "cell_type": "markdown",
   "id": "d818f238-e884-4919-b63c-54132e7736a6",
   "metadata": {},
   "source": [
    "Filter df to July 2021 and later"
   ]
  },
  {
   "cell_type": "code",
   "execution_count": 307,
   "id": "2e8b7b2d-8d14-4c13-a91d-d84b563583f2",
   "metadata": {},
   "outputs": [],
   "source": [
    "filter_df = trim_df[trim_df.reporting_month >= \"2021-06-15\"].copy()"
   ]
  },
  {
   "cell_type": "markdown",
   "id": "cd5f1dca-1f9d-4a4f-a4bd-feb4703a1dbb",
   "metadata": {},
   "source": [
    "Make a month column to merge with baselines"
   ]
  },
  {
   "cell_type": "code",
   "execution_count": 308,
   "id": "6a81a262-3a0e-4e43-82dd-c6bfb07d733e",
   "metadata": {},
   "outputs": [],
   "source": [
    "filter_df[\"month\"] = filter_df[\"reporting_month\"].dt.month"
   ]
  },
  {
   "cell_type": "code",
   "execution_count": 309,
   "id": "1a6d11a1-8664-4426-ac53-4b3d6f794a19",
   "metadata": {},
   "outputs": [],
   "source": [
    "merge_df = pd.merge(\n",
    "    filter_df, \n",
    "    baselines_trimmed_df, \n",
    "    how=\"left\", \n",
    "    on=[\"supplier_name\", \"public_water_system_id\", \"month\"]\n",
    ").rename(\n",
    "    columns={\n",
    "        \"calculated_total_potable_water_production_gallons_ag_excluded\": \"total_gallons_current\",\n",
    "        \"total_potable_production_minus_ag_gallons\": \"total_gallons_baseline\"\n",
    "    }\n",
    ").drop(\"month\", axis=1)"
   ]
  },
  {
   "cell_type": "markdown",
   "id": "477ee8c6-0628-4afc-9507-1fcf667cb2ad",
   "metadata": {},
   "source": [
    "### Calculate percent changes by month"
   ]
  },
  {
   "cell_type": "code",
   "execution_count": 310,
   "id": "547a5c98-1953-4b25-8e5a-f0d74096468e",
   "metadata": {},
   "outputs": [],
   "source": [
    "def pct_change(new, old):\n",
    "    return (new - old) / old"
   ]
  },
  {
   "cell_type": "markdown",
   "id": "73f58d13-7448-4883-bc4b-7c300bfac1b7",
   "metadata": {},
   "source": [
    "By district"
   ]
  },
  {
   "cell_type": "code",
   "execution_count": 311,
   "id": "6d7c46a4-610b-46c8-a6d1-be000255b9d5",
   "metadata": {},
   "outputs": [],
   "source": [
    "merge_df[\"gallons_pct_change\"] = merge_df.apply(lambda x: pct_change(x.total_gallons_current, x.total_gallons_baseline), axis=1)"
   ]
  },
  {
   "cell_type": "markdown",
   "id": "840ec757-a50c-47fd-a191-c2738ac8f830",
   "metadata": {},
   "source": [
    "By region"
   ]
  },
  {
   "cell_type": "code",
   "execution_count": 312,
   "id": "b3fdf17e-2b00-4cf6-8ec3-71eb75c5ff5a",
   "metadata": {},
   "outputs": [],
   "source": [
    "regions_df = merge_df.groupby([\"hydrologic_region\", \"reporting_month\"])[[\"total_gallons_current\",\"total_gallons_baseline\"]].sum().reset_index()"
   ]
  },
  {
   "cell_type": "code",
   "execution_count": 313,
   "id": "530710c3-aa12-4277-8a76-e7ee2d799122",
   "metadata": {},
   "outputs": [],
   "source": [
    "regions_df[\"gallons_pct_change\"] = regions_df.apply(lambda x: pct_change(x.total_gallons_current, x.total_gallons_baseline), axis=1)"
   ]
  },
  {
   "cell_type": "code",
   "execution_count": 317,
   "id": "f0a059a4-fd40-4d25-9af1-b91a30bd335f",
   "metadata": {},
   "outputs": [
    {
     "data": {
      "text/html": [
       "<div>\n",
       "<style scoped>\n",
       "    .dataframe tbody tr th:only-of-type {\n",
       "        vertical-align: middle;\n",
       "    }\n",
       "\n",
       "    .dataframe tbody tr th {\n",
       "        vertical-align: top;\n",
       "    }\n",
       "\n",
       "    .dataframe thead th {\n",
       "        text-align: right;\n",
       "    }\n",
       "</style>\n",
       "<table border=\"1\" class=\"dataframe\">\n",
       "  <thead>\n",
       "    <tr style=\"text-align: right;\">\n",
       "      <th></th>\n",
       "      <th>hydrologic_region</th>\n",
       "      <th>reporting_month</th>\n",
       "      <th>total_gallons_current</th>\n",
       "      <th>total_gallons_baseline</th>\n",
       "      <th>gallons_pct_change</th>\n",
       "    </tr>\n",
       "  </thead>\n",
       "  <tbody>\n",
       "    <tr>\n",
       "      <th>71</th>\n",
       "      <td>South Coast</td>\n",
       "      <td>2021-07-15</td>\n",
       "      <td>98840547682.225</td>\n",
       "      <td>98231994555.628</td>\n",
       "      <td>0.006</td>\n",
       "    </tr>\n",
       "    <tr>\n",
       "      <th>72</th>\n",
       "      <td>South Coast</td>\n",
       "      <td>2021-08-15</td>\n",
       "      <td>99534276774.714</td>\n",
       "      <td>101674411259.822</td>\n",
       "      <td>-0.021</td>\n",
       "    </tr>\n",
       "    <tr>\n",
       "      <th>73</th>\n",
       "      <td>South Coast</td>\n",
       "      <td>2021-09-15</td>\n",
       "      <td>91814533261.595</td>\n",
       "      <td>94897438912.390</td>\n",
       "      <td>-0.032</td>\n",
       "    </tr>\n",
       "    <tr>\n",
       "      <th>74</th>\n",
       "      <td>South Coast</td>\n",
       "      <td>2021-10-15</td>\n",
       "      <td>80644440759.798</td>\n",
       "      <td>90861162006.982</td>\n",
       "      <td>-0.112</td>\n",
       "    </tr>\n",
       "    <tr>\n",
       "      <th>75</th>\n",
       "      <td>South Coast</td>\n",
       "      <td>2021-11-15</td>\n",
       "      <td>76030984586.050</td>\n",
       "      <td>74797486800.110</td>\n",
       "      <td>0.016</td>\n",
       "    </tr>\n",
       "    <tr>\n",
       "      <th>76</th>\n",
       "      <td>South Coast</td>\n",
       "      <td>2021-12-15</td>\n",
       "      <td>60816667800.139</td>\n",
       "      <td>74019981000.887</td>\n",
       "      <td>-0.178</td>\n",
       "    </tr>\n",
       "    <tr>\n",
       "      <th>77</th>\n",
       "      <td>South Coast</td>\n",
       "      <td>2022-01-15</td>\n",
       "      <td>61447605343.398</td>\n",
       "      <td>59998217456.723</td>\n",
       "      <td>0.024</td>\n",
       "    </tr>\n",
       "    <tr>\n",
       "      <th>78</th>\n",
       "      <td>South Coast</td>\n",
       "      <td>2022-02-15</td>\n",
       "      <td>63965355832.248</td>\n",
       "      <td>63116859652.232</td>\n",
       "      <td>0.013</td>\n",
       "    </tr>\n",
       "    <tr>\n",
       "      <th>79</th>\n",
       "      <td>South Coast</td>\n",
       "      <td>2022-03-15</td>\n",
       "      <td>72247093556.118</td>\n",
       "      <td>56449514888.188</td>\n",
       "      <td>0.280</td>\n",
       "    </tr>\n",
       "  </tbody>\n",
       "</table>\n",
       "</div>"
      ],
      "text/plain": [
       "   hydrologic_region reporting_month  total_gallons_current  \\\n",
       "71       South Coast      2021-07-15        98840547682.225   \n",
       "72       South Coast      2021-08-15        99534276774.714   \n",
       "73       South Coast      2021-09-15        91814533261.595   \n",
       "74       South Coast      2021-10-15        80644440759.798   \n",
       "75       South Coast      2021-11-15        76030984586.050   \n",
       "76       South Coast      2021-12-15        60816667800.139   \n",
       "77       South Coast      2022-01-15        61447605343.398   \n",
       "78       South Coast      2022-02-15        63965355832.248   \n",
       "79       South Coast      2022-03-15        72247093556.118   \n",
       "\n",
       "    total_gallons_baseline  gallons_pct_change  \n",
       "71         98231994555.628               0.006  \n",
       "72        101674411259.822              -0.021  \n",
       "73         94897438912.390              -0.032  \n",
       "74         90861162006.982              -0.112  \n",
       "75         74797486800.110               0.016  \n",
       "76         74019981000.887              -0.178  \n",
       "77         59998217456.723               0.024  \n",
       "78         63116859652.232               0.013  \n",
       "79         56449514888.188               0.280  "
      ]
     },
     "execution_count": 317,
     "metadata": {},
     "output_type": "execute_result"
    }
   ],
   "source": [
    "regions_df[(regions_df.hydrologic_region == \"South Coast\")&(regions_df.reporting_month>=\"2021-07-15\")]"
   ]
  },
  {
   "cell_type": "markdown",
   "id": "6cf4c99e-6d33-4c60-b6c9-4afe709878dc",
   "metadata": {},
   "source": [
    "Statewide"
   ]
  },
  {
   "cell_type": "code",
   "execution_count": 318,
   "id": "01e16002-172a-4deb-9462-4e2e59456279",
   "metadata": {},
   "outputs": [],
   "source": [
    "statewide_df = merge_df.groupby([\"hydrologic_region\"])[[\"total_gallons_current\",\"total_gallons_baseline\"]].sum().reset_index()"
   ]
  },
  {
   "cell_type": "code",
   "execution_count": 319,
   "id": "929ddd2e-3ec5-4c35-a0a9-55656fade625",
   "metadata": {},
   "outputs": [],
   "source": [
    "statewide_df[\"gallons_pct_change\"] = statewide_df.apply(lambda x: pct_change(x.total_gallons_current, x.total_gallons_baseline), axis=1)"
   ]
  },
  {
   "cell_type": "markdown",
   "id": "7be6d8d0-0069-4c62-826d-3a39b54469c6",
   "metadata": {},
   "source": [
    "### Calculate cumulative savings since July 2021"
   ]
  },
  {
   "cell_type": "markdown",
   "id": "c0af84a1-c724-478e-b3f4-e65084cd6106",
   "metadata": {},
   "source": [
    "Drop suppliers with missing data"
   ]
  },
  {
   "cell_type": "code",
   "execution_count": 320,
   "id": "91ad7df8-1947-49e0-b51a-9a53eef5476c",
   "metadata": {},
   "outputs": [],
   "source": [
    "counts = merge_df.groupby(\"supplier_name\")[\"reporting_month\"].count().reset_index()"
   ]
  },
  {
   "cell_type": "code",
   "execution_count": 321,
   "id": "4742cbb7-c054-4a53-8967-a4236fe775af",
   "metadata": {},
   "outputs": [],
   "source": [
    "max_count = max(counts.reporting_month)"
   ]
  },
  {
   "cell_type": "code",
   "execution_count": 322,
   "id": "46c6f88e-0e3e-46cc-b9d8-534daea8dc0e",
   "metadata": {},
   "outputs": [],
   "source": [
    "suppliers_with_complete_data = list(counts[counts.reporting_month == max_count].supplier_name)"
   ]
  },
  {
   "cell_type": "code",
   "execution_count": 344,
   "id": "f7944f71-e872-47af-bc3b-db052dded625",
   "metadata": {},
   "outputs": [],
   "source": [
    "complete_data = merge_df[merge_df.supplier_name.isin(suppliers_with_complete_data)].copy()"
   ]
  },
  {
   "cell_type": "markdown",
   "id": "e5625ab4-9fab-412a-a7a3-9dba0b865b8a",
   "metadata": {},
   "source": [
    "By district"
   ]
  },
  {
   "cell_type": "code",
   "execution_count": 345,
   "id": "74c85995-7aad-4faf-9812-6d49ec99d2a5",
   "metadata": {},
   "outputs": [],
   "source": [
    "district_cumulative_savings_df = complete_data.groupby([\"supplier_name\",\"hydrologic_region\"])[[\"total_gallons_current\",\"total_gallons_baseline\"]].sum().reset_index()"
   ]
  },
  {
   "cell_type": "code",
   "execution_count": 346,
   "id": "93ee251c-3781-43f5-892d-dc0366612a43",
   "metadata": {},
   "outputs": [],
   "source": [
    "district_cumulative_savings_df[\"cumulative_pct_change\"] = complete_data.apply(lambda x: pct_change(x.total_gallons_current, x.total_gallons_baseline), axis=1)"
   ]
  },
  {
   "cell_type": "code",
   "execution_count": 347,
   "id": "9e615ba4-e4fa-47ee-b25e-0df84fa7431e",
   "metadata": {},
   "outputs": [
    {
     "data": {
      "text/html": [
       "<div>\n",
       "<style scoped>\n",
       "    .dataframe tbody tr th:only-of-type {\n",
       "        vertical-align: middle;\n",
       "    }\n",
       "\n",
       "    .dataframe tbody tr th {\n",
       "        vertical-align: top;\n",
       "    }\n",
       "\n",
       "    .dataframe thead th {\n",
       "        text-align: right;\n",
       "    }\n",
       "</style>\n",
       "<table border=\"1\" class=\"dataframe\">\n",
       "  <thead>\n",
       "    <tr style=\"text-align: right;\">\n",
       "      <th></th>\n",
       "      <th>supplier_name</th>\n",
       "      <th>hydrologic_region</th>\n",
       "      <th>total_gallons_current</th>\n",
       "      <th>total_gallons_baseline</th>\n",
       "      <th>cumulative_pct_change</th>\n",
       "    </tr>\n",
       "  </thead>\n",
       "  <tbody>\n",
       "    <tr>\n",
       "      <th>0</th>\n",
       "      <td>Adelanto City of</td>\n",
       "      <td>South Lahontan</td>\n",
       "      <td>1223905830.448</td>\n",
       "      <td>1263786920.057</td>\n",
       "      <td>-0.110</td>\n",
       "    </tr>\n",
       "    <tr>\n",
       "      <th>1</th>\n",
       "      <td>Alameda County Water District</td>\n",
       "      <td>San Francisco Bay</td>\n",
       "      <td>11331000000.000</td>\n",
       "      <td>12150200000.000</td>\n",
       "      <td>-0.031</td>\n",
       "    </tr>\n",
       "    <tr>\n",
       "      <th>2</th>\n",
       "      <td>Alco Water Service</td>\n",
       "      <td>Central Coast</td>\n",
       "      <td>1083142000.000</td>\n",
       "      <td>1114537000.000</td>\n",
       "      <td>-0.066</td>\n",
       "    </tr>\n",
       "    <tr>\n",
       "      <th>3</th>\n",
       "      <td>Alhambra City of</td>\n",
       "      <td>South Coast</td>\n",
       "      <td>2520769577.593</td>\n",
       "      <td>2583428317.598</td>\n",
       "      <td>0.066</td>\n",
       "    </tr>\n",
       "    <tr>\n",
       "      <th>4</th>\n",
       "      <td>Amador Water Agency</td>\n",
       "      <td>San Joaquin River</td>\n",
       "      <td>1029370000.000</td>\n",
       "      <td>1061830000.000</td>\n",
       "      <td>0.079</td>\n",
       "    </tr>\n",
       "    <tr>\n",
       "      <th>...</th>\n",
       "      <td>...</td>\n",
       "      <td>...</td>\n",
       "      <td>...</td>\n",
       "      <td>...</td>\n",
       "      <td>...</td>\n",
       "    </tr>\n",
       "    <tr>\n",
       "      <th>347</th>\n",
       "      <td>Westminster City of</td>\n",
       "      <td>South Coast</td>\n",
       "      <td>2946898688.700</td>\n",
       "      <td>2957069114.882</td>\n",
       "      <td>-0.122</td>\n",
       "    </tr>\n",
       "    <tr>\n",
       "      <th>348</th>\n",
       "      <td>Windsor, Town of</td>\n",
       "      <td>North Coast</td>\n",
       "      <td>798709352.799</td>\n",
       "      <td>1029971067.399</td>\n",
       "      <td>-0.011</td>\n",
       "    </tr>\n",
       "    <tr>\n",
       "      <th>349</th>\n",
       "      <td>Woodland City of</td>\n",
       "      <td>Sacramento River</td>\n",
       "      <td>2672098974.000</td>\n",
       "      <td>2836923315.000</td>\n",
       "      <td>-0.020</td>\n",
       "    </tr>\n",
       "    <tr>\n",
       "      <th>350</th>\n",
       "      <td>Yorba Linda Water District</td>\n",
       "      <td>South Coast</td>\n",
       "      <td>5329889412.330</td>\n",
       "      <td>5538838107.570</td>\n",
       "      <td>0.133</td>\n",
       "    </tr>\n",
       "    <tr>\n",
       "      <th>351</th>\n",
       "      <td>Yuba City City of</td>\n",
       "      <td>Sacramento River</td>\n",
       "      <td>3958850000.000</td>\n",
       "      <td>3849070000.000</td>\n",
       "      <td>0.020</td>\n",
       "    </tr>\n",
       "  </tbody>\n",
       "</table>\n",
       "<p>352 rows × 5 columns</p>\n",
       "</div>"
      ],
      "text/plain": [
       "                     supplier_name  hydrologic_region  total_gallons_current  \\\n",
       "0                 Adelanto City of     South Lahontan         1223905830.448   \n",
       "1    Alameda County Water District  San Francisco Bay        11331000000.000   \n",
       "2               Alco Water Service      Central Coast         1083142000.000   \n",
       "3                 Alhambra City of        South Coast         2520769577.593   \n",
       "4              Amador Water Agency  San Joaquin River         1029370000.000   \n",
       "..                             ...                ...                    ...   \n",
       "347            Westminster City of        South Coast         2946898688.700   \n",
       "348               Windsor, Town of        North Coast          798709352.799   \n",
       "349               Woodland City of   Sacramento River         2672098974.000   \n",
       "350     Yorba Linda Water District        South Coast         5329889412.330   \n",
       "351              Yuba City City of   Sacramento River         3958850000.000   \n",
       "\n",
       "     total_gallons_baseline  cumulative_pct_change  \n",
       "0            1263786920.057                 -0.110  \n",
       "1           12150200000.000                 -0.031  \n",
       "2            1114537000.000                 -0.066  \n",
       "3            2583428317.598                  0.066  \n",
       "4            1061830000.000                  0.079  \n",
       "..                      ...                    ...  \n",
       "347          2957069114.882                 -0.122  \n",
       "348          1029971067.399                 -0.011  \n",
       "349          2836923315.000                 -0.020  \n",
       "350          5538838107.570                  0.133  \n",
       "351          3849070000.000                  0.020  \n",
       "\n",
       "[352 rows x 5 columns]"
      ]
     },
     "execution_count": 347,
     "metadata": {},
     "output_type": "execute_result"
    }
   ],
   "source": [
    "district_cumulative_savings_df"
   ]
  },
  {
   "cell_type": "markdown",
   "id": "a02ff471-69b1-40f8-b729-918135f67ec7",
   "metadata": {},
   "source": [
    "By region"
   ]
  },
  {
   "cell_type": "code",
   "execution_count": 348,
   "id": "93332cfd-62e7-4160-849e-0c720a405410",
   "metadata": {},
   "outputs": [],
   "source": [
    "regions_cumulative_savings_df = district_cumulative_savings_df.groupby(\n",
    "    [\"hydrologic_region\"]\n",
    ")[\n",
    "    [\"total_gallons_current\",\"total_gallons_baseline\",\"supplier_name\"]\n",
    "].agg(\n",
    "    {\"total_gallons_current\":\"sum\",\"total_gallons_baseline\":\"sum\",\"supplier_name\":\"size\"}\n",
    ").reset_index().rename(\n",
    "    columns={\"supplier_name\": \"total_reports\"}\n",
    ")"
   ]
  },
  {
   "cell_type": "code",
   "execution_count": 349,
   "id": "eb5ece03-d99a-4134-9b46-aa0d3ecd042d",
   "metadata": {},
   "outputs": [],
   "source": [
    "regions_cumulative_savings_df[\"cumulative_pct_change\"] = regions_cumulative_savings_df.apply(lambda x: pct_change(x.total_gallons_current, x.total_gallons_baseline), axis=1)"
   ]
  },
  {
   "cell_type": "code",
   "execution_count": 350,
   "id": "f84062e3-c56f-4ddd-8b24-53a8ffc443af",
   "metadata": {},
   "outputs": [
    {
     "data": {
      "text/html": [
       "<div>\n",
       "<style scoped>\n",
       "    .dataframe tbody tr th:only-of-type {\n",
       "        vertical-align: middle;\n",
       "    }\n",
       "\n",
       "    .dataframe tbody tr th {\n",
       "        vertical-align: top;\n",
       "    }\n",
       "\n",
       "    .dataframe thead th {\n",
       "        text-align: right;\n",
       "    }\n",
       "</style>\n",
       "<table border=\"1\" class=\"dataframe\">\n",
       "  <thead>\n",
       "    <tr style=\"text-align: right;\">\n",
       "      <th></th>\n",
       "      <th>hydrologic_region</th>\n",
       "      <th>total_gallons_current</th>\n",
       "      <th>total_gallons_baseline</th>\n",
       "      <th>total_reports</th>\n",
       "      <th>cumulative_pct_change</th>\n",
       "    </tr>\n",
       "  </thead>\n",
       "  <tbody>\n",
       "    <tr>\n",
       "      <th>0</th>\n",
       "      <td>Central Coast</td>\n",
       "      <td>37252334773.580</td>\n",
       "      <td>38397097468.589</td>\n",
       "      <td>25</td>\n",
       "      <td>-0.030</td>\n",
       "    </tr>\n",
       "    <tr>\n",
       "      <th>1</th>\n",
       "      <td>Colorado River</td>\n",
       "      <td>49285274361.661</td>\n",
       "      <td>48672475614.415</td>\n",
       "      <td>9</td>\n",
       "      <td>0.013</td>\n",
       "    </tr>\n",
       "    <tr>\n",
       "      <th>2</th>\n",
       "      <td>North Coast</td>\n",
       "      <td>11299322827.318</td>\n",
       "      <td>13107817474.506</td>\n",
       "      <td>15</td>\n",
       "      <td>-0.138</td>\n",
       "    </tr>\n",
       "    <tr>\n",
       "      <th>3</th>\n",
       "      <td>North Lahontan</td>\n",
       "      <td>3356302137.000</td>\n",
       "      <td>3579635596.000</td>\n",
       "      <td>4</td>\n",
       "      <td>-0.062</td>\n",
       "    </tr>\n",
       "    <tr>\n",
       "      <th>4</th>\n",
       "      <td>Sacramento River</td>\n",
       "      <td>149466369876.494</td>\n",
       "      <td>156500560874.047</td>\n",
       "      <td>41</td>\n",
       "      <td>-0.045</td>\n",
       "    </tr>\n",
       "    <tr>\n",
       "      <th>5</th>\n",
       "      <td>San Francisco Bay</td>\n",
       "      <td>196853066534.531</td>\n",
       "      <td>215987302424.975</td>\n",
       "      <td>42</td>\n",
       "      <td>-0.089</td>\n",
       "    </tr>\n",
       "    <tr>\n",
       "      <th>6</th>\n",
       "      <td>San Joaquin River</td>\n",
       "      <td>76789875686.876</td>\n",
       "      <td>78671372670.795</td>\n",
       "      <td>22</td>\n",
       "      <td>-0.024</td>\n",
       "    </tr>\n",
       "    <tr>\n",
       "      <th>7</th>\n",
       "      <td>South Coast</td>\n",
       "      <td>751253092705.079</td>\n",
       "      <td>755545242320.251</td>\n",
       "      <td>153</td>\n",
       "      <td>-0.006</td>\n",
       "    </tr>\n",
       "    <tr>\n",
       "      <th>8</th>\n",
       "      <td>South Lahontan</td>\n",
       "      <td>34199157481.151</td>\n",
       "      <td>34504752311.420</td>\n",
       "      <td>13</td>\n",
       "      <td>-0.009</td>\n",
       "    </tr>\n",
       "    <tr>\n",
       "      <th>9</th>\n",
       "      <td>Tulare Lake</td>\n",
       "      <td>114404152725.043</td>\n",
       "      <td>117113914983.965</td>\n",
       "      <td>28</td>\n",
       "      <td>-0.023</td>\n",
       "    </tr>\n",
       "  </tbody>\n",
       "</table>\n",
       "</div>"
      ],
      "text/plain": [
       "   hydrologic_region  total_gallons_current  total_gallons_baseline  \\\n",
       "0      Central Coast        37252334773.580         38397097468.589   \n",
       "1     Colorado River        49285274361.661         48672475614.415   \n",
       "2        North Coast        11299322827.318         13107817474.506   \n",
       "3     North Lahontan         3356302137.000          3579635596.000   \n",
       "4   Sacramento River       149466369876.494        156500560874.047   \n",
       "5  San Francisco Bay       196853066534.531        215987302424.975   \n",
       "6  San Joaquin River        76789875686.876         78671372670.795   \n",
       "7        South Coast       751253092705.079        755545242320.251   \n",
       "8     South Lahontan        34199157481.151         34504752311.420   \n",
       "9        Tulare Lake       114404152725.043        117113914983.965   \n",
       "\n",
       "   total_reports  cumulative_pct_change  \n",
       "0             25                 -0.030  \n",
       "1              9                  0.013  \n",
       "2             15                 -0.138  \n",
       "3              4                 -0.062  \n",
       "4             41                 -0.045  \n",
       "5             42                 -0.089  \n",
       "6             22                 -0.024  \n",
       "7            153                 -0.006  \n",
       "8             13                 -0.009  \n",
       "9             28                 -0.023  "
      ]
     },
     "execution_count": 350,
     "metadata": {},
     "output_type": "execute_result"
    }
   ],
   "source": [
    "regions_cumulative_savings_df"
   ]
  },
  {
   "cell_type": "markdown",
   "id": "8b1f50c9-e21c-4553-8771-c08b37a6cec3",
   "metadata": {},
   "source": [
    "Statewide"
   ]
  },
  {
   "cell_type": "code",
   "execution_count": 351,
   "id": "2eab363e-5dff-42f2-96e1-2cec18e8377c",
   "metadata": {},
   "outputs": [],
   "source": [
    "complete_data[\"state\"] = \"California\""
   ]
  },
  {
   "cell_type": "code",
   "execution_count": 352,
   "id": "74cea2d2-d886-4851-8511-83bfeb60969a",
   "metadata": {},
   "outputs": [],
   "source": [
    "statewide_cumulative_savings_df = district_cumulative_savings_df.groupby(\n",
    "    [\"state\"]\n",
    ")[\n",
    "    [\"total_gallons_current\",\"total_gallons_baseline\", \"supplier_name\"]\n",
    "].agg({\n",
    "    \"total_gallons_current\": \"sum\",\n",
    "    \"total_gallons_baseline\": \"sum\",\n",
    "    \"supplier_name\": \"size\"\n",
    "}).reset_index().rename(\n",
    "    columns={\"supplier_name\": \"total_reports\"}\n",
    ")"
   ]
  },
  {
   "cell_type": "code",
   "execution_count": 353,
   "id": "7e2cc8ce-7220-421b-ae45-62af7f44d16e",
   "metadata": {},
   "outputs": [],
   "source": [
    "#statewide_cumulative_savings_df[\"total_reports\"] = statewide_cumulative_savings_df[\"total_reports\"]"
   ]
  },
  {
   "cell_type": "code",
   "execution_count": 354,
   "id": "15d9b1b2-1343-4f51-87fa-aa28a3fa9ab6",
   "metadata": {},
   "outputs": [],
   "source": [
    "statewide_cumulative_savings_df[\"cumulative_pct_change\"] = statewide_cumulative_savings_df.apply(lambda x: pct_change(x.total_gallons_current, x.total_gallons_baseline), axis=1)"
   ]
  },
  {
   "cell_type": "code",
   "execution_count": 355,
   "id": "b5f23a2b-ad48-4fe9-a494-94c7f4977769",
   "metadata": {},
   "outputs": [
    {
     "data": {
      "text/html": [
       "<div>\n",
       "<style scoped>\n",
       "    .dataframe tbody tr th:only-of-type {\n",
       "        vertical-align: middle;\n",
       "    }\n",
       "\n",
       "    .dataframe tbody tr th {\n",
       "        vertical-align: top;\n",
       "    }\n",
       "\n",
       "    .dataframe thead th {\n",
       "        text-align: right;\n",
       "    }\n",
       "</style>\n",
       "<table border=\"1\" class=\"dataframe\">\n",
       "  <thead>\n",
       "    <tr style=\"text-align: right;\">\n",
       "      <th></th>\n",
       "      <th>state</th>\n",
       "      <th>total_gallons_current</th>\n",
       "      <th>total_gallons_baseline</th>\n",
       "      <th>total_reports</th>\n",
       "      <th>cumulative_pct_change</th>\n",
       "    </tr>\n",
       "  </thead>\n",
       "  <tbody>\n",
       "    <tr>\n",
       "      <th>0</th>\n",
       "      <td>California</td>\n",
       "      <td>1424158949108.733</td>\n",
       "      <td>1462080171738.963</td>\n",
       "      <td>3520</td>\n",
       "      <td>-0.026</td>\n",
       "    </tr>\n",
       "  </tbody>\n",
       "</table>\n",
       "</div>"
      ],
      "text/plain": [
       "        state  total_gallons_current  total_gallons_baseline  total_reports  \\\n",
       "0  California      1424158949108.733       1462080171738.963           3520   \n",
       "\n",
       "   cumulative_pct_change  \n",
       "0                 -0.026  "
      ]
     },
     "execution_count": 355,
     "metadata": {},
     "output_type": "execute_result"
    }
   ],
   "source": [
    "statewide_cumulative_savings_df"
   ]
  },
  {
   "cell_type": "markdown",
   "id": "794aa6ba-4ecf-4f6e-aef9-0988a1774d1e",
   "metadata": {},
   "source": [
    "### Charts"
   ]
  },
  {
   "cell_type": "code",
   "execution_count": 300,
   "id": "ef29a75e-dfec-4147-94cb-2930318b78b7",
   "metadata": {},
   "outputs": [
    {
     "data": {
      "text/html": [
       "\n",
       "<div id=\"altair-viz-7599fb42ff2b4a038b6328d52250140f\"></div>\n",
       "<script type=\"text/javascript\">\n",
       "  var VEGA_DEBUG = (typeof VEGA_DEBUG == \"undefined\") ? {} : VEGA_DEBUG;\n",
       "  (function(spec, embedOpt){\n",
       "    let outputDiv = document.currentScript.previousElementSibling;\n",
       "    if (outputDiv.id !== \"altair-viz-7599fb42ff2b4a038b6328d52250140f\") {\n",
       "      outputDiv = document.getElementById(\"altair-viz-7599fb42ff2b4a038b6328d52250140f\");\n",
       "    }\n",
       "    const paths = {\n",
       "      \"vega\": \"https://cdn.jsdelivr.net/npm//vega@5?noext\",\n",
       "      \"vega-lib\": \"https://cdn.jsdelivr.net/npm//vega-lib?noext\",\n",
       "      \"vega-lite\": \"https://cdn.jsdelivr.net/npm//vega-lite@4.17.0?noext\",\n",
       "      \"vega-embed\": \"https://cdn.jsdelivr.net/npm//vega-embed@6?noext\",\n",
       "    };\n",
       "\n",
       "    function maybeLoadScript(lib, version) {\n",
       "      var key = `${lib.replace(\"-\", \"\")}_version`;\n",
       "      return (VEGA_DEBUG[key] == version) ?\n",
       "        Promise.resolve(paths[lib]) :\n",
       "        new Promise(function(resolve, reject) {\n",
       "          var s = document.createElement('script');\n",
       "          document.getElementsByTagName(\"head\")[0].appendChild(s);\n",
       "          s.async = true;\n",
       "          s.onload = () => {\n",
       "            VEGA_DEBUG[key] = version;\n",
       "            return resolve(paths[lib]);\n",
       "          };\n",
       "          s.onerror = () => reject(`Error loading script: ${paths[lib]}`);\n",
       "          s.src = paths[lib];\n",
       "        });\n",
       "    }\n",
       "\n",
       "    function showError(err) {\n",
       "      outputDiv.innerHTML = `<div class=\"error\" style=\"color:red;\">${err}</div>`;\n",
       "      throw err;\n",
       "    }\n",
       "\n",
       "    function displayChart(vegaEmbed) {\n",
       "      vegaEmbed(outputDiv, spec, embedOpt)\n",
       "        .catch(err => showError(`Javascript Error: ${err.message}<br>This usually means there's a typo in your chart specification. See the javascript console for the full traceback.`));\n",
       "    }\n",
       "\n",
       "    if(typeof define === \"function\" && define.amd) {\n",
       "      requirejs.config({paths});\n",
       "      require([\"vega-embed\"], displayChart, err => showError(`Error loading script: ${err.message}`));\n",
       "    } else {\n",
       "      maybeLoadScript(\"vega\", \"5\")\n",
       "        .then(() => maybeLoadScript(\"vega-lite\", \"4.17.0\"))\n",
       "        .then(() => maybeLoadScript(\"vega-embed\", \"6\"))\n",
       "        .catch(showError)\n",
       "        .then(() => displayChart(vegaEmbed));\n",
       "    }\n",
       "  })({\"config\": {\"view\": {\"width\": 800, \"height\": 450}, \"background\": \"#ffffff\", \"title\": {\"anchor\": \"start\", \"font\": \"BentonGothic-Bold, sans\", \"fontColor\": \"#000000\", \"fontSize\": 22, \"fontWeight\": \"normal\"}, \"arc\": {\"fill\": \"#82c6df\"}, \"area\": {\"fill\": \"#82c6df\"}, \"line\": {\"stroke\": \"#82c6df\", \"strokeWidth\": 3}, \"path\": {\"stroke\": \"#82c6df\"}, \"rect\": {\"fill\": \"#82c6df\"}, \"shape\": {\"stroke\": \"#82c6df\"}, \"bar\": {\"fill\": \"#82c6df\"}, \"point\": {\"stroke\": \"#82c6df\"}, \"symbol\": {\"fill\": \"#82c6df\", \"size\": 30}, \"axis\": {\"titleFont\": \"BentonGothic-Bold, sans\", \"titleFontSize\": 14, \"titleFontWeight\": \"normal\", \"labelFont\": \"BentonGothic, sans\", \"labelFontSize\": 12, \"labelFontWeight\": \"normal\"}, \"axisX\": {\"labelAngle\": 0, \"labelPadding\": 4, \"tickSize\": 3}, \"axisY\": {\"labelBaseline\": \"middle\", \"maxExtent\": 45, \"minExtent\": 45, \"tickSize\": 2, \"titleAlign\": \"left\", \"titleAngle\": 0, \"titleX\": -45, \"titleY\": -11}, \"legend\": {\"titleFont\": \"BentonGothic-Bold, sans\", \"titleFontSize\": 14, \"titleFontWeight\": \"normal\", \"symbolType\": \"square\", \"labelFont\": \"BentonGothic, sans\", \"labelFontSize\": 13}, \"range\": {\"category\": [\"#3580b1\", \"#ec8431\", \"#ab7fb4\", \"#c89d29\", \"#adc839\", \"#829eb1\"], \"diverging\": [\"#e68a4f\", \"#f4bb6a\", \"#f9e39c\", \"#dadfe2\", \"#a6b7c6\", \"#849eae\"], \"heatmap\": [\"#fbf2c7\", \"#f9e39c\", \"#f8d36e\", \"#f4bb6a\", \"#e68a4f\", \"#d15a40\", \"#ab4232\"], \"ordinal\": [\"#fbf2c7\", \"#f9e39c\", \"#f8d36e\", \"#f4bb6a\", \"#e68a4f\", \"#d15a40\", \"#ab4232\"], \"ramp\": [\"#fbf2c7\", \"#f9e39c\", \"#f8d36e\", \"#f4bb6a\", \"#e68a4f\", \"#d15a40\", \"#ab4232\"]}}, \"data\": {\"name\": \"data-c78edfd7b5a9196c78adea0468f7858c\"}, \"mark\": \"bar\", \"encoding\": {\"color\": {\"condition\": {\"value\": \"#e6ae56\", \"test\": \"(datum.gallons_pct_change > 0)\"}, \"value\": \"#83c6e0\"}, \"tooltip\": [{\"field\": \"gallons_pct_change\", \"type\": \"quantitative\"}], \"x\": {\"field\": \"reporting_month\", \"type\": \"ordinal\"}, \"y\": {\"field\": \"gallons_pct_change\", \"type\": \"quantitative\"}}, \"title\": \"Monthly water conservation in the South Coast\", \"width\": 600, \"$schema\": \"https://vega.github.io/schema/vega-lite/v4.17.0.json\", \"datasets\": {\"data-c78edfd7b5a9196c78adea0468f7858c\": [{\"hydrologic_region\": \"South Coast\", \"reporting_month\": \"2014-06-15T00:00:00\", \"total_gallons_current\": 108312604767.071, \"total_gallons_baseline\": 89044876703.03049, \"gallons_pct_change\": 0.2163822195891116}, {\"hydrologic_region\": \"South Coast\", \"reporting_month\": \"2014-07-15T00:00:00\", \"total_gallons_current\": 114060640683.253, \"total_gallons_baseline\": 98502842340.6599, \"gallons_pct_change\": 0.15794263366318292}, {\"hydrologic_region\": \"South Coast\", \"reporting_month\": \"2014-08-15T00:00:00\", \"total_gallons_current\": 107414444500.208, \"total_gallons_baseline\": 101612955761.2224, \"gallons_pct_change\": 0.057093986642986365}, {\"hydrologic_region\": \"South Coast\", \"reporting_month\": \"2014-09-15T00:00:00\", \"total_gallons_current\": 103223952882.022, \"total_gallons_baseline\": 94839144168.49028, \"gallons_pct_change\": 0.08841084329731355}, {\"hydrologic_region\": \"South Coast\", \"reporting_month\": \"2014-10-15T00:00:00\", \"total_gallons_current\": 98084604714.429, \"total_gallons_baseline\": 90947121680.54872, \"gallons_pct_change\": 0.07847948238483732}, {\"hydrologic_region\": \"South Coast\", \"reporting_month\": \"2014-11-15T00:00:00\", \"total_gallons_current\": 80487028599.336, \"total_gallons_baseline\": 75438175934.97426, \"gallons_pct_change\": 0.06692702470316514}, {\"hydrologic_region\": \"South Coast\", \"reporting_month\": \"2014-12-15T00:00:00\", \"total_gallons_current\": 59012712719.4362, \"total_gallons_baseline\": 74332697517.78407, \"gallons_pct_change\": -0.20610021309508603}, {\"hydrologic_region\": \"South Coast\", \"reporting_month\": \"2015-01-15T00:00:00\", \"total_gallons_current\": 66827972757.74685, \"total_gallons_baseline\": 61280626681.02257, \"gallons_pct_change\": 0.09052365122829574}, {\"hydrologic_region\": \"South Coast\", \"reporting_month\": \"2015-02-15T00:00:00\", \"total_gallons_current\": 65641739056.57264, \"total_gallons_baseline\": 65025500627.7818, \"gallons_pct_change\": 0.009476873270354423}, {\"hydrologic_region\": \"South Coast\", \"reporting_month\": \"2015-03-15T00:00:00\", \"total_gallons_current\": 79455962526.20146, \"total_gallons_baseline\": 58619397428.85499, \"gallons_pct_change\": 0.3554551225579439}, {\"hydrologic_region\": \"South Coast\", \"reporting_month\": \"2015-04-15T00:00:00\", \"total_gallons_current\": 82730158954.081, \"total_gallons_baseline\": 60295893005.31907, \"gallons_pct_change\": 0.3720695528430578}, {\"hydrologic_region\": \"South Coast\", \"reporting_month\": \"2015-05-15T00:00:00\", \"total_gallons_current\": 76274171056.029, \"total_gallons_baseline\": 85404548481.10933, \"gallons_pct_change\": -0.10690739061866096}, {\"hydrologic_region\": \"South Coast\", \"reporting_month\": \"2015-06-15T00:00:00\", \"total_gallons_current\": 83201494445.257, \"total_gallons_baseline\": 90129800855.71844, \"gallons_pct_change\": -0.0768703175274115}, {\"hydrologic_region\": \"South Coast\", \"reporting_month\": \"2015-07-15T00:00:00\", \"total_gallons_current\": 82695107632.848, \"total_gallons_baseline\": 98502842340.6599, \"gallons_pct_change\": -0.1604799854723257}, {\"hydrologic_region\": \"South Coast\", \"reporting_month\": \"2015-08-15T00:00:00\", \"total_gallons_current\": 88780839992.896, \"total_gallons_baseline\": 101612955761.2224, \"gallons_pct_change\": -0.12628424861963716}, {\"hydrologic_region\": \"South Coast\", \"reporting_month\": \"2015-09-15T00:00:00\", \"total_gallons_current\": 80675601509.49, \"total_gallons_baseline\": 94839144168.49028, \"gallons_pct_change\": -0.14934279282231255}, {\"hydrologic_region\": \"South Coast\", \"reporting_month\": \"2015-10-15T00:00:00\", \"total_gallons_current\": 77990882526.166, \"total_gallons_baseline\": 90947121680.54872, \"gallons_pct_change\": -0.14245903460135265}, {\"hydrologic_region\": \"South Coast\", \"reporting_month\": \"2015-11-15T00:00:00\", \"total_gallons_current\": 70378173489.754, \"total_gallons_baseline\": 75438175934.97426, \"gallons_pct_change\": -0.06707482494780694}, {\"hydrologic_region\": \"South Coast\", \"reporting_month\": \"2015-12-15T00:00:00\", \"total_gallons_current\": 64225163636.9968, \"total_gallons_baseline\": 74429475391.60307, \"gallons_pct_change\": -0.13710041218102542}, {\"hydrologic_region\": \"South Coast\", \"reporting_month\": \"2016-01-15T00:00:00\", \"total_gallons_current\": 56096030776.31, \"total_gallons_baseline\": 61280626681.02257, \"gallons_pct_change\": -0.08460415934875123}, {\"hydrologic_region\": \"South Coast\", \"reporting_month\": \"2016-02-15T00:00:00\", \"total_gallons_current\": 61305416409.547, \"total_gallons_baseline\": 65025500627.7818, \"gallons_pct_change\": -0.05720962056915585}, {\"hydrologic_region\": \"South Coast\", \"reporting_month\": \"2016-03-15T00:00:00\", \"total_gallons_current\": 63299288490.289, \"total_gallons_baseline\": 58619397428.85499, \"gallons_pct_change\": 0.07983519562980648}, {\"hydrologic_region\": \"South Coast\", \"reporting_month\": \"2016-04-15T00:00:00\", \"total_gallons_current\": 69827930500.657, \"total_gallons_baseline\": 60343346748.63308, \"gallons_pct_change\": 0.15717695923517477}, {\"hydrologic_region\": \"South Coast\", \"reporting_month\": \"2016-05-15T00:00:00\", \"total_gallons_current\": 77509605834.811, \"total_gallons_baseline\": 85404548481.10933, \"gallons_pct_change\": -0.09244171167352533}, {\"hydrologic_region\": \"South Coast\", \"reporting_month\": \"2016-06-15T00:00:00\", \"total_gallons_current\": 86308212379.907, \"total_gallons_baseline\": 90129800855.71844, \"gallons_pct_change\": -0.042400942191463634}, {\"hydrologic_region\": \"South Coast\", \"reporting_month\": \"2016-07-15T00:00:00\", \"total_gallons_current\": 95913447928.631, \"total_gallons_baseline\": 98502842340.6599, \"gallons_pct_change\": -0.02628750958346765}, {\"hydrologic_region\": \"South Coast\", \"reporting_month\": \"2016-08-15T00:00:00\", \"total_gallons_current\": 98193054946.34341, \"total_gallons_baseline\": 101612955761.2224, \"gallons_pct_change\": -0.03365614934886175}, {\"hydrologic_region\": \"South Coast\", \"reporting_month\": \"2016-09-15T00:00:00\", \"total_gallons_current\": 88670123402.008, \"total_gallons_baseline\": 94839144168.49028, \"gallons_pct_change\": -0.06504719987268615}, {\"hydrologic_region\": \"South Coast\", \"reporting_month\": \"2016-10-15T00:00:00\", \"total_gallons_current\": 83073402253.001, \"total_gallons_baseline\": 90947121680.54872, \"gallons_pct_change\": -0.0865746961756977}, {\"hydrologic_region\": \"South Coast\", \"reporting_month\": \"2016-11-15T00:00:00\", \"total_gallons_current\": 71583999891.406, \"total_gallons_baseline\": 75309102926.22528, \"gallons_pct_change\": -0.04946418015984709}, {\"hydrologic_region\": \"South Coast\", \"reporting_month\": \"2016-12-15T00:00:00\", \"total_gallons_current\": 60819504324.992004, \"total_gallons_baseline\": 74429475391.60307, \"gallons_pct_change\": -0.18285727522602568}, {\"hydrologic_region\": \"South Coast\", \"reporting_month\": \"2017-01-15T00:00:00\", \"total_gallons_current\": 51650883877.161, \"total_gallons_baseline\": 61280626681.02257, \"gallons_pct_change\": -0.15714171550474224}, {\"hydrologic_region\": \"South Coast\", \"reporting_month\": \"2017-02-15T00:00:00\", \"total_gallons_current\": 46332834731.13, \"total_gallons_baseline\": 65025500627.7818, \"gallons_pct_change\": -0.2874666971601209}, {\"hydrologic_region\": \"South Coast\", \"reporting_month\": \"2017-03-15T00:00:00\", \"total_gallons_current\": 65768143293.117, \"total_gallons_baseline\": 58619397428.85499, \"gallons_pct_change\": 0.12195188244536763}, {\"hydrologic_region\": \"South Coast\", \"reporting_month\": \"2017-04-15T00:00:00\", \"total_gallons_current\": 78870713041.569, \"total_gallons_baseline\": 60343346748.63308, \"gallons_pct_change\": 0.30703246159205794}, {\"hydrologic_region\": \"South Coast\", \"reporting_month\": \"2017-05-15T00:00:00\", \"total_gallons_current\": 85162084026.822, \"total_gallons_baseline\": 85223114406.55574, \"gallons_pct_change\": -0.0007161247292910408}, {\"hydrologic_region\": \"South Coast\", \"reporting_month\": \"2017-06-15T00:00:00\", \"total_gallons_current\": 90488323323.649, \"total_gallons_baseline\": 89851776673.90118, \"gallons_pct_change\": 0.007084408047467275}, {\"hydrologic_region\": \"South Coast\", \"reporting_month\": \"2017-07-15T00:00:00\", \"total_gallons_current\": 99965544761.313, \"total_gallons_baseline\": 98264860009.46472, \"gallons_pct_change\": 0.01730715081346958}, {\"hydrologic_region\": \"South Coast\", \"reporting_month\": \"2017-08-15T00:00:00\", \"total_gallons_current\": 98884061202.489, \"total_gallons_baseline\": 101375146131.28352, \"gallons_pct_change\": -0.02457293551585616}, {\"hydrologic_region\": \"South Coast\", \"reporting_month\": \"2017-09-15T00:00:00\", \"total_gallons_current\": 90949272217.082, \"total_gallons_baseline\": 94616486629.9069, \"gallons_pct_change\": -0.03875872528610412}, {\"hydrologic_region\": \"South Coast\", \"reporting_month\": \"2017-10-15T00:00:00\", \"total_gallons_current\": 90722865714.175, \"total_gallons_baseline\": 89990242672.59186, \"gallons_pct_change\": 0.008141138637092248}, {\"hydrologic_region\": \"South Coast\", \"reporting_month\": \"2017-11-15T00:00:00\", \"total_gallons_current\": 75975937531.35931, \"total_gallons_baseline\": 73623923540.5499, \"gallons_pct_change\": 0.03194632773834714}, {\"hydrologic_region\": \"South Coast\", \"reporting_month\": \"2017-12-15T00:00:00\", \"total_gallons_current\": 75635824732.429, \"total_gallons_baseline\": 71544992407.89182, \"gallons_pct_change\": 0.05717845773488326}, {\"hydrologic_region\": \"South Coast\", \"reporting_month\": \"2018-01-15T00:00:00\", \"total_gallons_current\": 66092384393.773, \"total_gallons_baseline\": 59084457418.42598, \"gallons_pct_change\": 0.11860863722108994}, {\"hydrologic_region\": \"South Coast\", \"reporting_month\": \"2018-02-15T00:00:00\", \"total_gallons_current\": 64608945476.392, \"total_gallons_baseline\": 62512377493.55374, \"gallons_pct_change\": 0.033538445775069974}, {\"hydrologic_region\": \"South Coast\", \"reporting_month\": \"2018-03-15T00:00:00\", \"total_gallons_current\": 58220318778.85, \"total_gallons_baseline\": 56248395542.103134, \"gallons_pct_change\": 0.03505741306471288}, {\"hydrologic_region\": \"South Coast\", \"reporting_month\": \"2018-04-15T00:00:00\", \"total_gallons_current\": 75005687826.546, \"total_gallons_baseline\": 57537110111.18368, \"gallons_pct_change\": 0.3036054066950245}, {\"hydrologic_region\": \"South Coast\", \"reporting_month\": \"2018-05-15T00:00:00\", \"total_gallons_current\": 80968433616.298, \"total_gallons_baseline\": 81879412771.37288, \"gallons_pct_change\": -0.011125863318274509}, {\"hydrologic_region\": \"South Coast\", \"reporting_month\": \"2018-06-15T00:00:00\", \"total_gallons_current\": 87276337532.653, \"total_gallons_baseline\": 86826570726.64786, \"gallons_pct_change\": 0.005180059539851258}, {\"hydrologic_region\": \"South Coast\", \"reporting_month\": \"2018-07-15T00:00:00\", \"total_gallons_current\": 100874664083.158, \"total_gallons_baseline\": 95777308775.44992, \"gallons_pct_change\": 0.05322090767510333}, {\"hydrologic_region\": \"South Coast\", \"reporting_month\": \"2018-08-15T00:00:00\", \"total_gallons_current\": 100468788516.215, \"total_gallons_baseline\": 97701781644.01349, \"gallons_pct_change\": 0.0283209458992609}, {\"hydrologic_region\": \"South Coast\", \"reporting_month\": \"2018-09-15T00:00:00\", \"total_gallons_current\": 90251413665.099, \"total_gallons_baseline\": 91804202715.1437, \"gallons_pct_change\": -0.01691413904941593}, {\"hydrologic_region\": \"South Coast\", \"reporting_month\": \"2018-10-15T00:00:00\", \"total_gallons_current\": 82479579322.447, \"total_gallons_baseline\": 87540906031.13045, \"gallons_pct_change\": -0.057816704648722524}, {\"hydrologic_region\": \"South Coast\", \"reporting_month\": \"2018-11-15T00:00:00\", \"total_gallons_current\": 74348021259.717, \"total_gallons_baseline\": 72739894181.01488, \"gallons_pct_change\": 0.022107910615050623}, {\"hydrologic_region\": \"South Coast\", \"reporting_month\": \"2018-12-15T00:00:00\", \"total_gallons_current\": 58860876864.54, \"total_gallons_baseline\": 71448575267.70526, \"gallons_pct_change\": -0.17617843821239773}, {\"hydrologic_region\": \"South Coast\", \"reporting_month\": \"2019-01-15T00:00:00\", \"total_gallons_current\": 54552126298.929, \"total_gallons_baseline\": 58054932803.23716, \"gallons_pct_change\": -0.06033607025573615}, {\"hydrologic_region\": \"South Coast\", \"reporting_month\": \"2019-02-15T00:00:00\", \"total_gallons_current\": 45803062073.93, \"total_gallons_baseline\": 62050029821.029465, \"gallons_pct_change\": -0.2618365824151978}, {\"hydrologic_region\": \"South Coast\", \"reporting_month\": \"2019-03-15T00:00:00\", \"total_gallons_current\": 54407959249.084, \"total_gallons_baseline\": 55604330845.33772, \"gallons_pct_change\": -0.02151579882476071}, {\"hydrologic_region\": \"South Coast\", \"reporting_month\": \"2019-04-15T00:00:00\", \"total_gallons_current\": 72918962842.615, \"total_gallons_baseline\": 57485839563.13295, \"gallons_pct_change\": 0.2684682592577058}, {\"hydrologic_region\": \"South Coast\", \"reporting_month\": \"2019-05-15T00:00:00\", \"total_gallons_current\": 69317021599.639, \"total_gallons_baseline\": 81104056367.89072, \"gallons_pct_change\": -0.14533224719100762}, {\"hydrologic_region\": \"South Coast\", \"reporting_month\": \"2019-06-15T00:00:00\", \"total_gallons_current\": 77539975737.138, \"total_gallons_baseline\": 83182551766.88531, \"gallons_pct_change\": -0.06783364912344038}, {\"hydrologic_region\": \"South Coast\", \"reporting_month\": \"2019-07-15T00:00:00\", \"total_gallons_current\": 88961439785.977, \"total_gallons_baseline\": 90918329345.06798, \"gallons_pct_change\": -0.021523597861811433}, {\"hydrologic_region\": \"South Coast\", \"reporting_month\": \"2019-08-15T00:00:00\", \"total_gallons_current\": 92646210501.211, \"total_gallons_baseline\": 94039093622.57117, \"gallons_pct_change\": -0.014811745495448395}, {\"hydrologic_region\": \"South Coast\", \"reporting_month\": \"2019-09-15T00:00:00\", \"total_gallons_current\": 85760585582.915, \"total_gallons_baseline\": 87282796342.26459, \"gallons_pct_change\": -0.017439986150082822}, {\"hydrologic_region\": \"South Coast\", \"reporting_month\": \"2019-10-15T00:00:00\", \"total_gallons_current\": 83767005144.239, \"total_gallons_baseline\": 84433846019.07925, \"gallons_pct_change\": -0.00789779106698008}, {\"hydrologic_region\": \"South Coast\", \"reporting_month\": \"2019-11-15T00:00:00\", \"total_gallons_current\": 69719339208.221, \"total_gallons_baseline\": 70122304887.71086, \"gallons_pct_change\": -0.0057466120107596335}, {\"hydrologic_region\": \"South Coast\", \"reporting_month\": \"2019-12-15T00:00:00\", \"total_gallons_current\": 52075880154.582, \"total_gallons_baseline\": 69036445340.28432, \"gallons_pct_change\": -0.24567552836915033}, {\"hydrologic_region\": \"South Coast\", \"reporting_month\": \"2020-01-15T00:00:00\", \"total_gallons_current\": 58758710706.261284, \"total_gallons_baseline\": 58339157899.61326, \"gallons_pct_change\": 0.007191615747521902}, {\"hydrologic_region\": \"South Coast\", \"reporting_month\": \"2020-02-15T00:00:00\", \"total_gallons_current\": 62655064929.41744, \"total_gallons_baseline\": 62143911136.56824, \"gallons_pct_change\": 0.008225323824982419}, {\"hydrologic_region\": \"South Coast\", \"reporting_month\": \"2020-03-15T00:00:00\", \"total_gallons_current\": 56524461758.55848, \"total_gallons_baseline\": 56123648453.68478, \"gallons_pct_change\": 0.007141611707664877}, {\"hydrologic_region\": \"South Coast\", \"reporting_month\": \"2020-04-15T00:00:00\", \"total_gallons_current\": 58132856322.84628, \"total_gallons_baseline\": 57716685690.587524, \"gallons_pct_change\": 0.0072105774487780045}, {\"hydrologic_region\": \"South Coast\", \"reporting_month\": \"2020-05-15T00:00:00\", \"total_gallons_current\": 82374906620.83723, \"total_gallons_baseline\": 81649817533.75716, \"gallons_pct_change\": 0.008880474065729524}, {\"hydrologic_region\": \"South Coast\", \"reporting_month\": \"2020-06-15T00:00:00\", \"total_gallons_current\": 86903050451.47664, \"total_gallons_baseline\": 86221968844.64139, \"gallons_pct_change\": 0.007899165560258247}, {\"hydrologic_region\": \"South Coast\", \"reporting_month\": \"2020-07-15T00:00:00\", \"total_gallons_current\": 95097876988.92912, \"total_gallons_baseline\": 94296087667.70097, \"gallons_pct_change\": 0.008502890640104304}, {\"hydrologic_region\": \"South Coast\", \"reporting_month\": \"2020-08-15T00:00:00\", \"total_gallons_current\": 97914689313.62848, \"total_gallons_baseline\": 97056770833.68817, \"gallons_pct_change\": 0.008839347039583622}, {\"hydrologic_region\": \"South Coast\", \"reporting_month\": \"2020-09-15T00:00:00\", \"total_gallons_current\": 95480820717.38448, \"total_gallons_baseline\": 94769047101.37029, \"gallons_pct_change\": 0.007510612776900012}, {\"hydrologic_region\": \"South Coast\", \"reporting_month\": \"2020-10-15T00:00:00\", \"total_gallons_current\": 91708342154.6944, \"total_gallons_baseline\": 90998345457.74872, \"gallons_pct_change\": 0.007802303364684098}, {\"hydrologic_region\": \"South Coast\", \"reporting_month\": \"2020-11-15T00:00:00\", \"total_gallons_current\": 75800670260.34312, \"total_gallons_baseline\": 75386958674.79425, \"gallons_pct_change\": 0.005487840242150517}, {\"hydrologic_region\": \"South Coast\", \"reporting_month\": \"2020-12-15T00:00:00\", \"total_gallons_current\": 75028925915.7854, \"total_gallons_baseline\": 74432214382.00307, \"gallons_pct_change\": 0.008016845108488563}, {\"hydrologic_region\": \"South Coast\", \"reporting_month\": \"2021-01-15T00:00:00\", \"total_gallons_current\": 65099592988.628845, \"total_gallons_baseline\": 61175933023.32257, \"gallons_pct_change\": 0.0641373130150778}, {\"hydrologic_region\": \"South Coast\", \"reporting_month\": \"2021-02-15T00:00:00\", \"total_gallons_current\": 59941853269.044, \"total_gallons_baseline\": 65051415532.8878, \"gallons_pct_change\": -0.07854651927229134}, {\"hydrologic_region\": \"South Coast\", \"reporting_month\": \"2021-03-15T00:00:00\", \"total_gallons_current\": 66886483916.1644, \"total_gallons_baseline\": 58328548905.77933, \"gallons_pct_change\": 0.14671949107132906}, {\"hydrologic_region\": \"South Coast\", \"reporting_month\": \"2021-04-15T00:00:00\", \"total_gallons_current\": 78609636915.67532, \"total_gallons_baseline\": 60186742496.11128, \"gallons_pct_change\": 0.3060955561892116}, {\"hydrologic_region\": \"South Coast\", \"reporting_month\": \"2021-05-15T00:00:00\", \"total_gallons_current\": 86813806777.231, \"total_gallons_baseline\": 84999337859.47021, \"gallons_pct_change\": 0.021346859439783608}, {\"hydrologic_region\": \"South Coast\", \"reporting_month\": \"2021-06-15T00:00:00\", \"total_gallons_current\": 91520654296.2348, \"total_gallons_baseline\": 89077932821.54492, \"gallons_pct_change\": 0.02742229637932358}, {\"hydrologic_region\": \"South Coast\", \"reporting_month\": \"2021-07-15T00:00:00\", \"total_gallons_current\": 98840547682.22488, \"total_gallons_baseline\": 98231994555.6279, \"gallons_pct_change\": 0.0061950602688044445}, {\"hydrologic_region\": \"South Coast\", \"reporting_month\": \"2021-08-15T00:00:00\", \"total_gallons_current\": 99534276774.71368, \"total_gallons_baseline\": 101674411259.82239, \"gallons_pct_change\": -0.021048899704368372}, {\"hydrologic_region\": \"South Coast\", \"reporting_month\": \"2021-09-15T00:00:00\", \"total_gallons_current\": 91814533261.59473, \"total_gallons_baseline\": 94897438912.39027, \"gallons_pct_change\": -0.032486710770368625}, {\"hydrologic_region\": \"South Coast\", \"reporting_month\": \"2021-10-15T00:00:00\", \"total_gallons_current\": 80644440759.798, \"total_gallons_baseline\": 90861162006.98172, \"gallons_pct_change\": -0.11244321579773181}, {\"hydrologic_region\": \"South Coast\", \"reporting_month\": \"2021-11-15T00:00:00\", \"total_gallons_current\": 76030984586.05008, \"total_gallons_baseline\": 74797486800.11005, \"gallons_pct_change\": 0.016491166197020114}, {\"hydrologic_region\": \"South Coast\", \"reporting_month\": \"2021-12-15T00:00:00\", \"total_gallons_current\": 60816667800.13908, \"total_gallons_baseline\": 74019981000.88707, \"gallons_pct_change\": -0.17837498770216872}, {\"hydrologic_region\": \"South Coast\", \"reporting_month\": \"2022-01-15T00:00:00\", \"total_gallons_current\": 61447605343.39824, \"total_gallons_baseline\": 59998217456.72261, \"gallons_pct_change\": 0.02415718246498054}, {\"hydrologic_region\": \"South Coast\", \"reporting_month\": \"2022-02-15T00:00:00\", \"total_gallons_current\": 63965355832.248344, \"total_gallons_baseline\": 63116859652.23186, \"gallons_pct_change\": 0.013443257232562325}, {\"hydrologic_region\": \"South Coast\", \"reporting_month\": \"2022-03-15T00:00:00\", \"total_gallons_current\": 72247093556.11844, \"total_gallons_baseline\": 56449514888.18767, \"gallons_pct_change\": 0.27985322281726976}]}}, {\"mode\": \"vega-lite\"});\n",
       "</script>"
      ],
      "text/plain": [
       "alt.Chart(...)"
      ]
     },
     "execution_count": 300,
     "metadata": {},
     "output_type": "execute_result"
    }
   ],
   "source": [
    "alt.Chart(\n",
    "    regions_df[regions_df.hydrologic_region==\"South Coast\"]\n",
    ").mark_bar().encode(\n",
    "    x=\"reporting_month:O\",\n",
    "    y=\"gallons_pct_change:Q\",\n",
    "    color=alt.condition(\n",
    "        alt.datum.gallons_pct_change > 0,\n",
    "        alt.value(\"#e6ae56\"),  # The positive color\n",
    "        alt.value(\"#83c6e0\")  # The negative color\n",
    "    ),\n",
    "    tooltip=[\"gallons_pct_change\"]\n",
    ").properties(title=\"Monthly water conservation in the South Coast\", width=600)"
   ]
  },
  {
   "cell_type": "markdown",
   "id": "975529b7-c7e6-48ea-864c-e53c686552ea",
   "metadata": {},
   "source": [
    "### Export"
   ]
  },
  {
   "cell_type": "markdown",
   "id": "82949d34-32b2-48c4-be3b-abb99e823a89",
   "metadata": {},
   "source": [
    "Monthly"
   ]
  },
  {
   "cell_type": "code",
   "execution_count": 301,
   "id": "49b42cb4-fa6d-43d6-8ffe-ec35149c48aa",
   "metadata": {},
   "outputs": [],
   "source": [
    "statewide_df.to_csv(\"../data/processed/monthly-conservation/statewide-conservation-monthly.csv\", index=False)"
   ]
  },
  {
   "cell_type": "code",
   "execution_count": 302,
   "id": "fd815256-63a0-49bc-8ad5-56611b364977",
   "metadata": {},
   "outputs": [],
   "source": [
    "regions_df.to_csv(\"../data/processed/monthly-conservation/regional-conservation-monthly.csv\", index=False)"
   ]
  },
  {
   "cell_type": "code",
   "execution_count": 303,
   "id": "ab571d8a-20fd-4fd0-8991-51f7879622f3",
   "metadata": {},
   "outputs": [],
   "source": [
    "merge_df.to_csv(\"../data/processed/monthly-conservation/district-level-conservation-monthly.csv\", index=False)"
   ]
  },
  {
   "cell_type": "markdown",
   "id": "f49b44a7-4670-46ab-bdc8-6ed993199245",
   "metadata": {},
   "source": [
    "Cumulative"
   ]
  },
  {
   "cell_type": "code",
   "execution_count": 304,
   "id": "ae8b9b72-961d-4328-ac7d-f00523b9a83d",
   "metadata": {},
   "outputs": [],
   "source": [
    "statewide_cumulative_savings_df.to_csv(\"../data/processed/cumulative-conservation/statewide-conservation-cumulative.csv\", index=False)"
   ]
  },
  {
   "cell_type": "code",
   "execution_count": 305,
   "id": "b493afa0-34e8-4d36-8159-03aceb26d256",
   "metadata": {},
   "outputs": [],
   "source": [
    "regions_cumulative_savings_df.to_csv(\"../data/processed/cumulative-conservation/monthly-conservation-cumulative.csv\", index=False)"
   ]
  },
  {
   "cell_type": "code",
   "execution_count": 306,
   "id": "f37055f4-a11d-4a20-8df3-3a1d45eb0c2d",
   "metadata": {},
   "outputs": [],
   "source": [
    "district_cumulative_savings_df.to_csv(\"../data/processed/cumulative-conservation/district-level-conservation-cumulative.csv\", index=False)"
   ]
  }
 ],
 "metadata": {
  "kernelspec": {
   "display_name": "Python 3 (ipykernel)",
   "language": "python",
   "name": "python3"
  },
  "language_info": {
   "codemirror_mode": {
    "name": "ipython",
    "version": 3
   },
   "file_extension": ".py",
   "mimetype": "text/x-python",
   "name": "python",
   "nbconvert_exporter": "python",
   "pygments_lexer": "ipython3",
   "version": "3.9.6"
  }
 },
 "nbformat": 4,
 "nbformat_minor": 5
}
