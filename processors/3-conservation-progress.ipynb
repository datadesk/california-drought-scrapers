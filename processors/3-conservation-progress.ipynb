{
 "cells": [
  {
   "cell_type": "code",
   "execution_count": 191,
   "id": "edcca902-4c31-4ea8-be78-a0a396409eec",
   "metadata": {},
   "outputs": [],
   "source": [
    "import pandas as pd\n",
    "import altair as alt\n",
    "import altair_latimes as lat"
   ]
  },
  {
   "cell_type": "code",
   "execution_count": 192,
   "id": "36ffc5e1-1fe9-412f-b7ec-d4a3a1f2ef11",
   "metadata": {},
   "outputs": [
    {
     "data": {
      "text/plain": [
       "ThemeRegistry.enable('latimes')"
      ]
     },
     "execution_count": 192,
     "metadata": {},
     "output_type": "execute_result"
    }
   ],
   "source": [
    "alt.themes.register('latimes', lat.theme)\n",
    "alt.themes.enable('latimes')"
   ]
  },
  {
   "cell_type": "code",
   "execution_count": 193,
   "id": "197b1bdf-b1ba-444a-8b9a-6345bb12fcdf",
   "metadata": {},
   "outputs": [],
   "source": [
    "pd.set_option('display.float_format', lambda x: '%.3f' % x)"
   ]
  },
  {
   "cell_type": "markdown",
   "id": "0aab5e92-9ad5-4110-8c24-5508ac230fcb",
   "metadata": {},
   "source": [
    "### Import"
   ]
  },
  {
   "cell_type": "code",
   "execution_count": 194,
   "id": "eada2996-4a8c-4bbb-8c34-1738cd882bb3",
   "metadata": {},
   "outputs": [],
   "source": [
    "df = pd.read_csv(\"../data/processed/district-level-residential-use.csv\", parse_dates=[\"reporting_month\"])"
   ]
  },
  {
   "cell_type": "code",
   "execution_count": 195,
   "id": "f31f3525-724e-455f-97f3-09c8c4a9019b",
   "metadata": {},
   "outputs": [],
   "source": [
    "baselines_df = pd.read_csv(\"../data/raw/uw-2020-baseline-values.csv\")"
   ]
  },
  {
   "cell_type": "markdown",
   "id": "b8acda33-a463-4231-9f17-554021e6b131",
   "metadata": {},
   "source": [
    "### Clean"
   ]
  },
  {
   "cell_type": "markdown",
   "id": "86e2c103-e0e3-4b56-9cd0-710bebd4e584",
   "metadata": {},
   "source": [
    "Clean up baselines column names as we did in the previous notebook"
   ]
  },
  {
   "cell_type": "code",
   "execution_count": 197,
   "id": "c6693671-6764-4568-89e2-941aa3c4aee8",
   "metadata": {},
   "outputs": [],
   "source": [
    "baselines_df.columns = baselines_df.columns.str.replace(\" \",\"_\").str.replace(\"-\",\"_\").str.replace(r'[#,@,&,(,)]', '', regex=True).str.lower()"
   ]
  },
  {
   "cell_type": "code",
   "execution_count": 198,
   "id": "8f4ac90a-fa77-4297-bed0-600c9d4946b8",
   "metadata": {},
   "outputs": [],
   "source": [
    "baselines_df.supplier_name = baselines_df.supplier_name.str.replace(\"  \", \" \")"
   ]
  },
  {
   "cell_type": "code",
   "execution_count": 199,
   "id": "c5ee2af5-4037-409d-8b11-7aca8ab0142e",
   "metadata": {},
   "outputs": [],
   "source": [
    "baselines_trimmed_df = baselines_df[[\n",
    "    'supplier_name', \n",
    "    'public_water_system_id', \n",
    "    'month', \n",
    "    #'original_units',\n",
    "    # 'total_potable_production_original_units',\n",
    "    # 'potable_commercial_agriculture_original_units',\n",
    "    'total_potable_production_minus_ag_gallons', \n",
    "    # 'staff_notes'\n",
    "]].copy()"
   ]
  },
  {
   "cell_type": "markdown",
   "id": "313fe135-d3dd-4401-9f07-21db0dbd95e1",
   "metadata": {},
   "source": [
    "Get rid of some unnecessary columns"
   ]
  },
  {
   "cell_type": "code",
   "execution_count": 200,
   "id": "19d3208a-ce06-4087-be21-7258221ba9cf",
   "metadata": {},
   "outputs": [],
   "source": [
    "trim_df = df[[\n",
    "    'supplier_name', \n",
    "    'public_water_system_id', \n",
    "    'reporting_month', \n",
    "    'county',\n",
    "    'hydrologic_region', \n",
    "    # 'climate_zone', \n",
    "    'total_population_served',\n",
    "    'calculated_total_potable_water_production_gallons_ag_excluded',\n",
    "    'calculated_r_gpcd', \n",
    "    'pop_weighted_rgpcd', \n",
    "    # 'month'\n",
    "]].copy()"
   ]
  },
  {
   "cell_type": "markdown",
   "id": "e243cc84-9ae7-477a-8fda-552735e50641",
   "metadata": {},
   "source": [
    "### Merge"
   ]
  },
  {
   "cell_type": "markdown",
   "id": "d818f238-e884-4919-b63c-54132e7736a6",
   "metadata": {},
   "source": [
    "Filter df to July 2021 and later"
   ]
  },
  {
   "cell_type": "code",
   "execution_count": 201,
   "id": "2e8b7b2d-8d14-4c13-a91d-d84b563583f2",
   "metadata": {},
   "outputs": [],
   "source": [
    "filter_df = trim_df[trim_df.reporting_month >= \"2021-06-15\"].copy()"
   ]
  },
  {
   "cell_type": "markdown",
   "id": "cd5f1dca-1f9d-4a4f-a4bd-feb4703a1dbb",
   "metadata": {},
   "source": [
    "Make a month column to merge with baselines"
   ]
  },
  {
   "cell_type": "code",
   "execution_count": 202,
   "id": "6a81a262-3a0e-4e43-82dd-c6bfb07d733e",
   "metadata": {},
   "outputs": [],
   "source": [
    "filter_df[\"month\"] = filter_df[\"reporting_month\"].dt.month"
   ]
  },
  {
   "cell_type": "code",
   "execution_count": 203,
   "id": "1a6d11a1-8664-4426-ac53-4b3d6f794a19",
   "metadata": {},
   "outputs": [],
   "source": [
    "merge_df = pd.merge(\n",
    "    filter_df, \n",
    "    baselines_trimmed_df, \n",
    "    how=\"left\", \n",
    "    on=[\"supplier_name\", \"month\"]\n",
    ").rename(\n",
    "    columns={\n",
    "        \"calculated_total_potable_water_production_gallons_ag_excluded\": \"total_gallons_current\",\n",
    "        \"total_potable_production_minus_ag_gallons\": \"total_gallons_baseline\"\n",
    "    }\n",
    ").drop(\"month\", axis=1)"
   ]
  },
  {
   "cell_type": "markdown",
   "id": "477ee8c6-0628-4afc-9507-1fcf667cb2ad",
   "metadata": {},
   "source": [
    "### Calculate percent changes by month"
   ]
  },
  {
   "cell_type": "code",
   "execution_count": 204,
   "id": "547a5c98-1953-4b25-8e5a-f0d74096468e",
   "metadata": {},
   "outputs": [],
   "source": [
    "def pct_change(new, old):\n",
    "    return (new - old) / old"
   ]
  },
  {
   "cell_type": "markdown",
   "id": "73f58d13-7448-4883-bc4b-7c300bfac1b7",
   "metadata": {},
   "source": [
    "By district"
   ]
  },
  {
   "cell_type": "code",
   "execution_count": 205,
   "id": "6d7c46a4-610b-46c8-a6d1-be000255b9d5",
   "metadata": {},
   "outputs": [],
   "source": [
    "merge_df[\"gallons_pct_change\"] = merge_df.apply(lambda x: pct_change(x.total_gallons_current, x.total_gallons_baseline), axis=1)"
   ]
  },
  {
   "cell_type": "markdown",
   "id": "840ec757-a50c-47fd-a191-c2738ac8f830",
   "metadata": {},
   "source": [
    "By region"
   ]
  },
  {
   "cell_type": "code",
   "execution_count": 206,
   "id": "b3fdf17e-2b00-4cf6-8ec3-71eb75c5ff5a",
   "metadata": {},
   "outputs": [],
   "source": [
    "regions_df = merge_df.groupby(\n",
    "    [\"hydrologic_region\", \"reporting_month\"]\n",
    ")[[\"total_gallons_current\",\"total_gallons_baseline\", \"supplier_name\"]].agg({\n",
    "    \"total_gallons_current\":\"sum\",\n",
    "    \"total_gallons_baseline\":\"sum\",\n",
    "    \"supplier_name\":\"size\"\n",
    "}).reset_index()"
   ]
  },
  {
   "cell_type": "code",
   "execution_count": 207,
   "id": "530710c3-aa12-4277-8a76-e7ee2d799122",
   "metadata": {},
   "outputs": [],
   "source": [
    "regions_df[\"gallons_pct_change\"] = regions_df.apply(lambda x: pct_change(x.total_gallons_current, x.total_gallons_baseline), axis=1)"
   ]
  },
  {
   "cell_type": "code",
   "execution_count": 208,
   "id": "f0a059a4-fd40-4d25-9af1-b91a30bd335f",
   "metadata": {},
   "outputs": [
    {
     "data": {
      "text/html": [
       "<div>\n",
       "<style scoped>\n",
       "    .dataframe tbody tr th:only-of-type {\n",
       "        vertical-align: middle;\n",
       "    }\n",
       "\n",
       "    .dataframe tbody tr th {\n",
       "        vertical-align: top;\n",
       "    }\n",
       "\n",
       "    .dataframe thead th {\n",
       "        text-align: right;\n",
       "    }\n",
       "</style>\n",
       "<table border=\"1\" class=\"dataframe\">\n",
       "  <thead>\n",
       "    <tr style=\"text-align: right;\">\n",
       "      <th></th>\n",
       "      <th>hydrologic_region</th>\n",
       "      <th>reporting_month</th>\n",
       "      <th>total_gallons_current</th>\n",
       "      <th>total_gallons_baseline</th>\n",
       "      <th>supplier_name</th>\n",
       "      <th>gallons_pct_change</th>\n",
       "    </tr>\n",
       "  </thead>\n",
       "  <tbody>\n",
       "  </tbody>\n",
       "</table>\n",
       "</div>"
      ],
      "text/plain": [
       "Empty DataFrame\n",
       "Columns: [hydrologic_region, reporting_month, total_gallons_current, total_gallons_baseline, supplier_name, gallons_pct_change]\n",
       "Index: []"
      ]
     },
     "execution_count": 208,
     "metadata": {},
     "output_type": "execute_result"
    }
   ],
   "source": [
    "regions_df[\n",
    "    #(regions_df.hydrologic_region == \"South Coast\")&\n",
    "    (regions_df.reporting_month==\"2022-04-15\")\n",
    "]"
   ]
  },
  {
   "cell_type": "markdown",
   "id": "6cf4c99e-6d33-4c60-b6c9-4afe709878dc",
   "metadata": {},
   "source": [
    "Statewide"
   ]
  },
  {
   "cell_type": "code",
   "execution_count": 209,
   "id": "01e16002-172a-4deb-9462-4e2e59456279",
   "metadata": {},
   "outputs": [],
   "source": [
    "statewide_df = merge_df.groupby([\"hydrologic_region\"])[[\"total_gallons_current\",\"total_gallons_baseline\"]].sum().reset_index()"
   ]
  },
  {
   "cell_type": "code",
   "execution_count": 210,
   "id": "929ddd2e-3ec5-4c35-a0a9-55656fade625",
   "metadata": {},
   "outputs": [],
   "source": [
    "statewide_df[\"gallons_pct_change\"] = statewide_df.apply(lambda x: pct_change(x.total_gallons_current, x.total_gallons_baseline), axis=1)"
   ]
  },
  {
   "cell_type": "markdown",
   "id": "7be6d8d0-0069-4c62-826d-3a39b54469c6",
   "metadata": {},
   "source": [
    "### Calculate cumulative savings since July 2021"
   ]
  },
  {
   "cell_type": "markdown",
   "id": "c0af84a1-c724-478e-b3f4-e65084cd6106",
   "metadata": {},
   "source": [
    "Drop suppliers with missing data"
   ]
  },
  {
   "cell_type": "code",
   "execution_count": 211,
   "id": "91ad7df8-1947-49e0-b51a-9a53eef5476c",
   "metadata": {},
   "outputs": [],
   "source": [
    "counts = merge_df.groupby(\"supplier_name\")[\"reporting_month\"].count().reset_index()"
   ]
  },
  {
   "cell_type": "code",
   "execution_count": 212,
   "id": "4742cbb7-c054-4a53-8967-a4236fe775af",
   "metadata": {},
   "outputs": [],
   "source": [
    "max_count = max(counts.reporting_month)"
   ]
  },
  {
   "cell_type": "code",
   "execution_count": 213,
   "id": "46c6f88e-0e3e-46cc-b9d8-534daea8dc0e",
   "metadata": {},
   "outputs": [],
   "source": [
    "suppliers_with_complete_data = list(counts[counts.reporting_month == max_count].supplier_name)"
   ]
  },
  {
   "cell_type": "code",
   "execution_count": 214,
   "id": "f7944f71-e872-47af-bc3b-db052dded625",
   "metadata": {},
   "outputs": [],
   "source": [
    "complete_data = merge_df[merge_df.supplier_name.isin(suppliers_with_complete_data)].copy()"
   ]
  },
  {
   "cell_type": "markdown",
   "id": "e5625ab4-9fab-412a-a7a3-9dba0b865b8a",
   "metadata": {},
   "source": [
    "By district"
   ]
  },
  {
   "cell_type": "code",
   "execution_count": 215,
   "id": "74c85995-7aad-4faf-9812-6d49ec99d2a5",
   "metadata": {},
   "outputs": [],
   "source": [
    "district_cumulative_savings_df = complete_data.groupby([\"supplier_name\",\"hydrologic_region\"])[[\"total_gallons_current\",\"total_gallons_baseline\"]].sum().reset_index()"
   ]
  },
  {
   "cell_type": "code",
   "execution_count": 216,
   "id": "93ee251c-3781-43f5-892d-dc0366612a43",
   "metadata": {},
   "outputs": [],
   "source": [
    "district_cumulative_savings_df[\"cumulative_pct_change\"] = complete_data.apply(lambda x: pct_change(x.total_gallons_current, x.total_gallons_baseline), axis=1)"
   ]
  },
  {
   "cell_type": "code",
   "execution_count": 217,
   "id": "9e615ba4-e4fa-47ee-b25e-0df84fa7431e",
   "metadata": {},
   "outputs": [
    {
     "data": {
      "text/html": [
       "<div>\n",
       "<style scoped>\n",
       "    .dataframe tbody tr th:only-of-type {\n",
       "        vertical-align: middle;\n",
       "    }\n",
       "\n",
       "    .dataframe tbody tr th {\n",
       "        vertical-align: top;\n",
       "    }\n",
       "\n",
       "    .dataframe thead th {\n",
       "        text-align: right;\n",
       "    }\n",
       "</style>\n",
       "<table border=\"1\" class=\"dataframe\">\n",
       "  <thead>\n",
       "    <tr style=\"text-align: right;\">\n",
       "      <th></th>\n",
       "      <th>supplier_name</th>\n",
       "      <th>hydrologic_region</th>\n",
       "      <th>total_gallons_current</th>\n",
       "      <th>total_gallons_baseline</th>\n",
       "      <th>cumulative_pct_change</th>\n",
       "    </tr>\n",
       "  </thead>\n",
       "  <tbody>\n",
       "    <tr>\n",
       "      <th>0</th>\n",
       "      <td>Adelanto City of</td>\n",
       "      <td>South Lahontan</td>\n",
       "      <td>1223905830.448</td>\n",
       "      <td>1263786920.057</td>\n",
       "      <td>-0.110</td>\n",
       "    </tr>\n",
       "    <tr>\n",
       "      <th>1</th>\n",
       "      <td>Alameda County Water District</td>\n",
       "      <td>San Francisco Bay</td>\n",
       "      <td>11331000000.000</td>\n",
       "      <td>12150200000.000</td>\n",
       "      <td>-0.031</td>\n",
       "    </tr>\n",
       "    <tr>\n",
       "      <th>2</th>\n",
       "      <td>Alco Water Service</td>\n",
       "      <td>Central Coast</td>\n",
       "      <td>1083142000.000</td>\n",
       "      <td>1114537000.000</td>\n",
       "      <td>-0.066</td>\n",
       "    </tr>\n",
       "    <tr>\n",
       "      <th>3</th>\n",
       "      <td>Alhambra City of</td>\n",
       "      <td>South Coast</td>\n",
       "      <td>2520769577.593</td>\n",
       "      <td>2583428317.598</td>\n",
       "      <td>0.066</td>\n",
       "    </tr>\n",
       "    <tr>\n",
       "      <th>4</th>\n",
       "      <td>Amador Water Agency</td>\n",
       "      <td>San Joaquin River</td>\n",
       "      <td>1029370000.000</td>\n",
       "      <td>1061830000.000</td>\n",
       "      <td>0.079</td>\n",
       "    </tr>\n",
       "    <tr>\n",
       "      <th>...</th>\n",
       "      <td>...</td>\n",
       "      <td>...</td>\n",
       "      <td>...</td>\n",
       "      <td>...</td>\n",
       "      <td>...</td>\n",
       "    </tr>\n",
       "    <tr>\n",
       "      <th>347</th>\n",
       "      <td>Westminster City of</td>\n",
       "      <td>South Coast</td>\n",
       "      <td>2946898688.700</td>\n",
       "      <td>2957069114.882</td>\n",
       "      <td>-0.122</td>\n",
       "    </tr>\n",
       "    <tr>\n",
       "      <th>348</th>\n",
       "      <td>Windsor, Town of</td>\n",
       "      <td>North Coast</td>\n",
       "      <td>798709352.799</td>\n",
       "      <td>1029971067.399</td>\n",
       "      <td>-0.011</td>\n",
       "    </tr>\n",
       "    <tr>\n",
       "      <th>349</th>\n",
       "      <td>Woodland City of</td>\n",
       "      <td>Sacramento River</td>\n",
       "      <td>2672098974.000</td>\n",
       "      <td>2836923315.000</td>\n",
       "      <td>-0.020</td>\n",
       "    </tr>\n",
       "    <tr>\n",
       "      <th>350</th>\n",
       "      <td>Yorba Linda Water District</td>\n",
       "      <td>South Coast</td>\n",
       "      <td>5329889412.330</td>\n",
       "      <td>5538838107.570</td>\n",
       "      <td>0.133</td>\n",
       "    </tr>\n",
       "    <tr>\n",
       "      <th>351</th>\n",
       "      <td>Yuba City City of</td>\n",
       "      <td>Sacramento River</td>\n",
       "      <td>3958850000.000</td>\n",
       "      <td>3849070000.000</td>\n",
       "      <td>0.020</td>\n",
       "    </tr>\n",
       "  </tbody>\n",
       "</table>\n",
       "<p>352 rows × 5 columns</p>\n",
       "</div>"
      ],
      "text/plain": [
       "                     supplier_name  hydrologic_region  total_gallons_current  \\\n",
       "0                 Adelanto City of     South Lahontan         1223905830.448   \n",
       "1    Alameda County Water District  San Francisco Bay        11331000000.000   \n",
       "2               Alco Water Service      Central Coast         1083142000.000   \n",
       "3                 Alhambra City of        South Coast         2520769577.593   \n",
       "4              Amador Water Agency  San Joaquin River         1029370000.000   \n",
       "..                             ...                ...                    ...   \n",
       "347            Westminster City of        South Coast         2946898688.700   \n",
       "348               Windsor, Town of        North Coast          798709352.799   \n",
       "349               Woodland City of   Sacramento River         2672098974.000   \n",
       "350     Yorba Linda Water District        South Coast         5329889412.330   \n",
       "351              Yuba City City of   Sacramento River         3958850000.000   \n",
       "\n",
       "     total_gallons_baseline  cumulative_pct_change  \n",
       "0            1263786920.057                 -0.110  \n",
       "1           12150200000.000                 -0.031  \n",
       "2            1114537000.000                 -0.066  \n",
       "3            2583428317.598                  0.066  \n",
       "4            1061830000.000                  0.079  \n",
       "..                      ...                    ...  \n",
       "347          2957069114.882                 -0.122  \n",
       "348          1029971067.399                 -0.011  \n",
       "349          2836923315.000                 -0.020  \n",
       "350          5538838107.570                  0.133  \n",
       "351          3849070000.000                  0.020  \n",
       "\n",
       "[352 rows x 5 columns]"
      ]
     },
     "execution_count": 217,
     "metadata": {},
     "output_type": "execute_result"
    }
   ],
   "source": [
    "district_cumulative_savings_df"
   ]
  },
  {
   "cell_type": "markdown",
   "id": "a02ff471-69b1-40f8-b729-918135f67ec7",
   "metadata": {},
   "source": [
    "By region"
   ]
  },
  {
   "cell_type": "code",
   "execution_count": 218,
   "id": "93332cfd-62e7-4160-849e-0c720a405410",
   "metadata": {},
   "outputs": [],
   "source": [
    "regions_cumulative_savings_df = district_cumulative_savings_df.groupby(\n",
    "    [\"hydrologic_region\"]\n",
    ")[\n",
    "    [\"total_gallons_current\",\"total_gallons_baseline\",\"supplier_name\"]\n",
    "].agg(\n",
    "    {\"total_gallons_current\":\"sum\",\"total_gallons_baseline\":\"sum\",\"supplier_name\":\"size\"}\n",
    ").reset_index().rename(\n",
    "    columns={\"supplier_name\": \"total_reports\"}\n",
    ")"
   ]
  },
  {
   "cell_type": "code",
   "execution_count": 219,
   "id": "eb5ece03-d99a-4134-9b46-aa0d3ecd042d",
   "metadata": {},
   "outputs": [],
   "source": [
    "regions_cumulative_savings_df[\"cumulative_pct_change\"] = regions_cumulative_savings_df.apply(lambda x: pct_change(x.total_gallons_current, x.total_gallons_baseline), axis=1)"
   ]
  },
  {
   "cell_type": "code",
   "execution_count": 220,
   "id": "f84062e3-c56f-4ddd-8b24-53a8ffc443af",
   "metadata": {},
   "outputs": [
    {
     "data": {
      "text/html": [
       "<div>\n",
       "<style scoped>\n",
       "    .dataframe tbody tr th:only-of-type {\n",
       "        vertical-align: middle;\n",
       "    }\n",
       "\n",
       "    .dataframe tbody tr th {\n",
       "        vertical-align: top;\n",
       "    }\n",
       "\n",
       "    .dataframe thead th {\n",
       "        text-align: right;\n",
       "    }\n",
       "</style>\n",
       "<table border=\"1\" class=\"dataframe\">\n",
       "  <thead>\n",
       "    <tr style=\"text-align: right;\">\n",
       "      <th></th>\n",
       "      <th>hydrologic_region</th>\n",
       "      <th>total_gallons_current</th>\n",
       "      <th>total_gallons_baseline</th>\n",
       "      <th>total_reports</th>\n",
       "      <th>cumulative_pct_change</th>\n",
       "    </tr>\n",
       "  </thead>\n",
       "  <tbody>\n",
       "    <tr>\n",
       "      <th>0</th>\n",
       "      <td>Central Coast</td>\n",
       "      <td>37252334773.580</td>\n",
       "      <td>38397097468.589</td>\n",
       "      <td>25</td>\n",
       "      <td>-0.030</td>\n",
       "    </tr>\n",
       "    <tr>\n",
       "      <th>1</th>\n",
       "      <td>Colorado River</td>\n",
       "      <td>49285274361.661</td>\n",
       "      <td>48672475614.415</td>\n",
       "      <td>9</td>\n",
       "      <td>0.013</td>\n",
       "    </tr>\n",
       "    <tr>\n",
       "      <th>2</th>\n",
       "      <td>North Coast</td>\n",
       "      <td>11299322827.318</td>\n",
       "      <td>13107817474.506</td>\n",
       "      <td>15</td>\n",
       "      <td>-0.138</td>\n",
       "    </tr>\n",
       "    <tr>\n",
       "      <th>3</th>\n",
       "      <td>North Lahontan</td>\n",
       "      <td>3356302137.000</td>\n",
       "      <td>3579635596.000</td>\n",
       "      <td>4</td>\n",
       "      <td>-0.062</td>\n",
       "    </tr>\n",
       "    <tr>\n",
       "      <th>4</th>\n",
       "      <td>Sacramento River</td>\n",
       "      <td>149466369876.494</td>\n",
       "      <td>156500560874.047</td>\n",
       "      <td>41</td>\n",
       "      <td>-0.045</td>\n",
       "    </tr>\n",
       "    <tr>\n",
       "      <th>5</th>\n",
       "      <td>San Francisco Bay</td>\n",
       "      <td>196853066534.531</td>\n",
       "      <td>215987302424.975</td>\n",
       "      <td>42</td>\n",
       "      <td>-0.089</td>\n",
       "    </tr>\n",
       "    <tr>\n",
       "      <th>6</th>\n",
       "      <td>San Joaquin River</td>\n",
       "      <td>76789875686.876</td>\n",
       "      <td>78671372670.795</td>\n",
       "      <td>22</td>\n",
       "      <td>-0.024</td>\n",
       "    </tr>\n",
       "    <tr>\n",
       "      <th>7</th>\n",
       "      <td>South Coast</td>\n",
       "      <td>751253092705.079</td>\n",
       "      <td>762342437917.186</td>\n",
       "      <td>153</td>\n",
       "      <td>-0.015</td>\n",
       "    </tr>\n",
       "    <tr>\n",
       "      <th>8</th>\n",
       "      <td>South Lahontan</td>\n",
       "      <td>34199157481.151</td>\n",
       "      <td>34504752311.420</td>\n",
       "      <td>13</td>\n",
       "      <td>-0.009</td>\n",
       "    </tr>\n",
       "    <tr>\n",
       "      <th>9</th>\n",
       "      <td>Tulare Lake</td>\n",
       "      <td>114404152725.043</td>\n",
       "      <td>117113914983.965</td>\n",
       "      <td>28</td>\n",
       "      <td>-0.023</td>\n",
       "    </tr>\n",
       "  </tbody>\n",
       "</table>\n",
       "</div>"
      ],
      "text/plain": [
       "   hydrologic_region  total_gallons_current  total_gallons_baseline  \\\n",
       "0      Central Coast        37252334773.580         38397097468.589   \n",
       "1     Colorado River        49285274361.661         48672475614.415   \n",
       "2        North Coast        11299322827.318         13107817474.506   \n",
       "3     North Lahontan         3356302137.000          3579635596.000   \n",
       "4   Sacramento River       149466369876.494        156500560874.047   \n",
       "5  San Francisco Bay       196853066534.531        215987302424.975   \n",
       "6  San Joaquin River        76789875686.876         78671372670.795   \n",
       "7        South Coast       751253092705.079        762342437917.186   \n",
       "8     South Lahontan        34199157481.151         34504752311.420   \n",
       "9        Tulare Lake       114404152725.043        117113914983.965   \n",
       "\n",
       "   total_reports  cumulative_pct_change  \n",
       "0             25                 -0.030  \n",
       "1              9                  0.013  \n",
       "2             15                 -0.138  \n",
       "3              4                 -0.062  \n",
       "4             41                 -0.045  \n",
       "5             42                 -0.089  \n",
       "6             22                 -0.024  \n",
       "7            153                 -0.015  \n",
       "8             13                 -0.009  \n",
       "9             28                 -0.023  "
      ]
     },
     "execution_count": 220,
     "metadata": {},
     "output_type": "execute_result"
    }
   ],
   "source": [
    "regions_cumulative_savings_df"
   ]
  },
  {
   "cell_type": "markdown",
   "id": "8b1f50c9-e21c-4553-8771-c08b37a6cec3",
   "metadata": {},
   "source": [
    "Statewide"
   ]
  },
  {
   "cell_type": "code",
   "execution_count": 221,
   "id": "2eab363e-5dff-42f2-96e1-2cec18e8377c",
   "metadata": {},
   "outputs": [],
   "source": [
    "district_cumulative_savings_df[\"state\"] = \"California\""
   ]
  },
  {
   "cell_type": "code",
   "execution_count": 222,
   "id": "74cea2d2-d886-4851-8511-83bfeb60969a",
   "metadata": {},
   "outputs": [],
   "source": [
    "statewide_cumulative_savings_df = district_cumulative_savings_df.groupby(\n",
    "    [\"state\"]\n",
    ")[\n",
    "    [\"total_gallons_current\",\"total_gallons_baseline\", \"supplier_name\"]\n",
    "].agg({\n",
    "    \"total_gallons_current\": \"sum\",\n",
    "    \"total_gallons_baseline\": \"sum\",\n",
    "    \"supplier_name\": \"size\"\n",
    "}).reset_index().rename(\n",
    "    columns={\"supplier_name\": \"total_reports\"}\n",
    ")"
   ]
  },
  {
   "cell_type": "code",
   "execution_count": 223,
   "id": "7e2cc8ce-7220-421b-ae45-62af7f44d16e",
   "metadata": {},
   "outputs": [],
   "source": [
    "#statewide_cumulative_savings_df[\"total_reports\"] = statewide_cumulative_savings_df[\"total_reports\"]"
   ]
  },
  {
   "cell_type": "code",
   "execution_count": 224,
   "id": "15d9b1b2-1343-4f51-87fa-aa28a3fa9ab6",
   "metadata": {},
   "outputs": [],
   "source": [
    "statewide_cumulative_savings_df[\"cumulative_pct_change\"] = statewide_cumulative_savings_df.apply(lambda x: pct_change(x.total_gallons_current, x.total_gallons_baseline), axis=1)"
   ]
  },
  {
   "cell_type": "code",
   "execution_count": 225,
   "id": "b5f23a2b-ad48-4fe9-a494-94c7f4977769",
   "metadata": {},
   "outputs": [
    {
     "data": {
      "text/html": [
       "<div>\n",
       "<style scoped>\n",
       "    .dataframe tbody tr th:only-of-type {\n",
       "        vertical-align: middle;\n",
       "    }\n",
       "\n",
       "    .dataframe tbody tr th {\n",
       "        vertical-align: top;\n",
       "    }\n",
       "\n",
       "    .dataframe thead th {\n",
       "        text-align: right;\n",
       "    }\n",
       "</style>\n",
       "<table border=\"1\" class=\"dataframe\">\n",
       "  <thead>\n",
       "    <tr style=\"text-align: right;\">\n",
       "      <th></th>\n",
       "      <th>state</th>\n",
       "      <th>total_gallons_current</th>\n",
       "      <th>total_gallons_baseline</th>\n",
       "      <th>total_reports</th>\n",
       "      <th>cumulative_pct_change</th>\n",
       "    </tr>\n",
       "  </thead>\n",
       "  <tbody>\n",
       "    <tr>\n",
       "      <th>0</th>\n",
       "      <td>California</td>\n",
       "      <td>1424158949108.733</td>\n",
       "      <td>1468877367335.897</td>\n",
       "      <td>352</td>\n",
       "      <td>-0.030</td>\n",
       "    </tr>\n",
       "  </tbody>\n",
       "</table>\n",
       "</div>"
      ],
      "text/plain": [
       "        state  total_gallons_current  total_gallons_baseline  total_reports  \\\n",
       "0  California      1424158949108.733       1468877367335.897            352   \n",
       "\n",
       "   cumulative_pct_change  \n",
       "0                 -0.030  "
      ]
     },
     "execution_count": 225,
     "metadata": {},
     "output_type": "execute_result"
    }
   ],
   "source": [
    "statewide_cumulative_savings_df"
   ]
  },
  {
   "cell_type": "markdown",
   "id": "794aa6ba-4ecf-4f6e-aef9-0988a1774d1e",
   "metadata": {},
   "source": [
    "### Charts"
   ]
  },
  {
   "cell_type": "code",
   "execution_count": 226,
   "id": "ef29a75e-dfec-4147-94cb-2930318b78b7",
   "metadata": {},
   "outputs": [
    {
     "data": {
      "text/html": [
       "\n",
       "<div id=\"altair-viz-a3945f1c08cb43be86ed2534433cff04\"></div>\n",
       "<script type=\"text/javascript\">\n",
       "  var VEGA_DEBUG = (typeof VEGA_DEBUG == \"undefined\") ? {} : VEGA_DEBUG;\n",
       "  (function(spec, embedOpt){\n",
       "    let outputDiv = document.currentScript.previousElementSibling;\n",
       "    if (outputDiv.id !== \"altair-viz-a3945f1c08cb43be86ed2534433cff04\") {\n",
       "      outputDiv = document.getElementById(\"altair-viz-a3945f1c08cb43be86ed2534433cff04\");\n",
       "    }\n",
       "    const paths = {\n",
       "      \"vega\": \"https://cdn.jsdelivr.net/npm//vega@5?noext\",\n",
       "      \"vega-lib\": \"https://cdn.jsdelivr.net/npm//vega-lib?noext\",\n",
       "      \"vega-lite\": \"https://cdn.jsdelivr.net/npm//vega-lite@4.17.0?noext\",\n",
       "      \"vega-embed\": \"https://cdn.jsdelivr.net/npm//vega-embed@6?noext\",\n",
       "    };\n",
       "\n",
       "    function maybeLoadScript(lib, version) {\n",
       "      var key = `${lib.replace(\"-\", \"\")}_version`;\n",
       "      return (VEGA_DEBUG[key] == version) ?\n",
       "        Promise.resolve(paths[lib]) :\n",
       "        new Promise(function(resolve, reject) {\n",
       "          var s = document.createElement('script');\n",
       "          document.getElementsByTagName(\"head\")[0].appendChild(s);\n",
       "          s.async = true;\n",
       "          s.onload = () => {\n",
       "            VEGA_DEBUG[key] = version;\n",
       "            return resolve(paths[lib]);\n",
       "          };\n",
       "          s.onerror = () => reject(`Error loading script: ${paths[lib]}`);\n",
       "          s.src = paths[lib];\n",
       "        });\n",
       "    }\n",
       "\n",
       "    function showError(err) {\n",
       "      outputDiv.innerHTML = `<div class=\"error\" style=\"color:red;\">${err}</div>`;\n",
       "      throw err;\n",
       "    }\n",
       "\n",
       "    function displayChart(vegaEmbed) {\n",
       "      vegaEmbed(outputDiv, spec, embedOpt)\n",
       "        .catch(err => showError(`Javascript Error: ${err.message}<br>This usually means there's a typo in your chart specification. See the javascript console for the full traceback.`));\n",
       "    }\n",
       "\n",
       "    if(typeof define === \"function\" && define.amd) {\n",
       "      requirejs.config({paths});\n",
       "      require([\"vega-embed\"], displayChart, err => showError(`Error loading script: ${err.message}`));\n",
       "    } else {\n",
       "      maybeLoadScript(\"vega\", \"5\")\n",
       "        .then(() => maybeLoadScript(\"vega-lite\", \"4.17.0\"))\n",
       "        .then(() => maybeLoadScript(\"vega-embed\", \"6\"))\n",
       "        .catch(showError)\n",
       "        .then(() => displayChart(vegaEmbed));\n",
       "    }\n",
       "  })({\"config\": {\"view\": {\"width\": 800, \"height\": 450}, \"background\": \"#ffffff\", \"title\": {\"anchor\": \"start\", \"font\": \"BentonGothic-Bold, sans\", \"fontColor\": \"#000000\", \"fontSize\": 22, \"fontWeight\": \"normal\"}, \"arc\": {\"fill\": \"#82c6df\"}, \"area\": {\"fill\": \"#82c6df\"}, \"line\": {\"stroke\": \"#82c6df\", \"strokeWidth\": 3}, \"path\": {\"stroke\": \"#82c6df\"}, \"rect\": {\"fill\": \"#82c6df\"}, \"shape\": {\"stroke\": \"#82c6df\"}, \"bar\": {\"fill\": \"#82c6df\"}, \"point\": {\"stroke\": \"#82c6df\"}, \"symbol\": {\"fill\": \"#82c6df\", \"size\": 30}, \"axis\": {\"titleFont\": \"BentonGothic-Bold, sans\", \"titleFontSize\": 14, \"titleFontWeight\": \"normal\", \"labelFont\": \"BentonGothic, sans\", \"labelFontSize\": 12, \"labelFontWeight\": \"normal\"}, \"axisX\": {\"labelAngle\": 0, \"labelPadding\": 4, \"tickSize\": 3}, \"axisY\": {\"labelBaseline\": \"middle\", \"maxExtent\": 45, \"minExtent\": 45, \"tickSize\": 2, \"titleAlign\": \"left\", \"titleAngle\": 0, \"titleX\": -45, \"titleY\": -11}, \"legend\": {\"titleFont\": \"BentonGothic-Bold, sans\", \"titleFontSize\": 14, \"titleFontWeight\": \"normal\", \"symbolType\": \"square\", \"labelFont\": \"BentonGothic, sans\", \"labelFontSize\": 13}, \"range\": {\"category\": [\"#3580b1\", \"#ec8431\", \"#ab7fb4\", \"#c89d29\", \"#adc839\", \"#829eb1\"], \"diverging\": [\"#e68a4f\", \"#f4bb6a\", \"#f9e39c\", \"#dadfe2\", \"#a6b7c6\", \"#849eae\"], \"heatmap\": [\"#fbf2c7\", \"#f9e39c\", \"#f8d36e\", \"#f4bb6a\", \"#e68a4f\", \"#d15a40\", \"#ab4232\"], \"ordinal\": [\"#fbf2c7\", \"#f9e39c\", \"#f8d36e\", \"#f4bb6a\", \"#e68a4f\", \"#d15a40\", \"#ab4232\"], \"ramp\": [\"#fbf2c7\", \"#f9e39c\", \"#f8d36e\", \"#f4bb6a\", \"#e68a4f\", \"#d15a40\", \"#ab4232\"]}}, \"data\": {\"name\": \"data-61fa96dc4eb559d6fcdcfe7400dcab21\"}, \"mark\": \"bar\", \"encoding\": {\"color\": {\"condition\": {\"value\": \"#e6ae56\", \"test\": \"(datum.gallons_pct_change > 0)\"}, \"value\": \"#83c6e0\"}, \"tooltip\": [{\"field\": \"gallons_pct_change\", \"type\": \"quantitative\"}], \"x\": {\"field\": \"reporting_month\", \"type\": \"ordinal\"}, \"y\": {\"field\": \"gallons_pct_change\", \"type\": \"quantitative\"}}, \"title\": \"Monthly water conservation in the South Coast\", \"width\": 600, \"$schema\": \"https://vega.github.io/schema/vega-lite/v4.17.0.json\", \"datasets\": {\"data-61fa96dc4eb559d6fcdcfe7400dcab21\": [{\"hydrologic_region\": \"South Coast\", \"reporting_month\": \"2021-06-15T00:00:00\", \"total_gallons_current\": 91520654296.2348, \"total_gallons_baseline\": 89855186230.36803, \"supplier_name\": 172, \"gallons_pct_change\": 0.018535024362387926}, {\"hydrologic_region\": \"South Coast\", \"reporting_month\": \"2021-07-15T00:00:00\", \"total_gallons_current\": 98840547682.22488, \"total_gallons_baseline\": 99078328466.97499, \"supplier_name\": 175, \"gallons_pct_change\": -0.0023999272941848675}, {\"hydrologic_region\": \"South Coast\", \"reporting_month\": \"2021-08-15T00:00:00\", \"total_gallons_current\": 99534276774.71368, \"total_gallons_baseline\": 102567602606.37209, \"supplier_name\": 176, \"gallons_pct_change\": -0.02957391763654183}, {\"hydrologic_region\": \"South Coast\", \"reporting_month\": \"2021-09-15T00:00:00\", \"total_gallons_current\": 91814533261.59473, \"total_gallons_baseline\": 95735431027.20618, \"supplier_name\": 176, \"gallons_pct_change\": -0.040955555571658794}, {\"hydrologic_region\": \"South Coast\", \"reporting_month\": \"2021-10-15T00:00:00\", \"total_gallons_current\": 80644440759.798, \"total_gallons_baseline\": 91660247461.41382, \"supplier_name\": 175, \"gallons_pct_change\": -0.12018085273283965}, {\"hydrologic_region\": \"South Coast\", \"reporting_month\": \"2021-11-15T00:00:00\", \"total_gallons_current\": 76030984586.05008, \"total_gallons_baseline\": 75423903583.37485, \"supplier_name\": 175, \"gallons_pct_change\": 0.008048920485853062}, {\"hydrologic_region\": \"South Coast\", \"reporting_month\": \"2021-12-15T00:00:00\", \"total_gallons_current\": 60816667800.13908, \"total_gallons_baseline\": 74634797473.35066, \"supplier_name\": 173, \"gallons_pct_change\": -0.18514325945810373}, {\"hydrologic_region\": \"South Coast\", \"reporting_month\": \"2022-01-15T00:00:00\", \"total_gallons_current\": 61447605343.39824, \"total_gallons_baseline\": 60433815644.336205, \"supplier_name\": 168, \"gallons_pct_change\": 0.016775205871963603}, {\"hydrologic_region\": \"South Coast\", \"reporting_month\": \"2022-02-15T00:00:00\", \"total_gallons_current\": 63965355832.248344, \"total_gallons_baseline\": 63633431919.454956, \"supplier_name\": 167, \"gallons_pct_change\": 0.005216187509948017}, {\"hydrologic_region\": \"South Coast\", \"reporting_month\": \"2022-03-15T00:00:00\", \"total_gallons_current\": 72247093556.11844, \"total_gallons_baseline\": 56899450538.589264, \"supplier_name\": 164, \"gallons_pct_change\": 0.26973271046124403}]}}, {\"mode\": \"vega-lite\"});\n",
       "</script>"
      ],
      "text/plain": [
       "alt.Chart(...)"
      ]
     },
     "execution_count": 226,
     "metadata": {},
     "output_type": "execute_result"
    }
   ],
   "source": [
    "alt.Chart(\n",
    "    regions_df[regions_df.hydrologic_region==\"South Coast\"]\n",
    ").mark_bar().encode(\n",
    "    x=\"reporting_month:O\",\n",
    "    y=\"gallons_pct_change:Q\",\n",
    "    color=alt.condition(\n",
    "        alt.datum.gallons_pct_change > 0,\n",
    "        alt.value(\"#e6ae56\"),  # The positive color\n",
    "        alt.value(\"#83c6e0\")  # The negative color\n",
    "    ),\n",
    "    tooltip=[\"gallons_pct_change\"]\n",
    ").properties(title=\"Monthly water conservation in the South Coast\", width=600)"
   ]
  },
  {
   "cell_type": "markdown",
   "id": "975529b7-c7e6-48ea-864c-e53c686552ea",
   "metadata": {},
   "source": [
    "### Export"
   ]
  },
  {
   "cell_type": "markdown",
   "id": "82949d34-32b2-48c4-be3b-abb99e823a89",
   "metadata": {},
   "source": [
    "Monthly"
   ]
  },
  {
   "cell_type": "code",
   "execution_count": 227,
   "id": "49b42cb4-fa6d-43d6-8ffe-ec35149c48aa",
   "metadata": {},
   "outputs": [],
   "source": [
    "statewide_df.to_csv(\"../data/processed/monthly-conservation/statewide-conservation-monthly.csv\", index=False)"
   ]
  },
  {
   "cell_type": "code",
   "execution_count": 228,
   "id": "fd815256-63a0-49bc-8ad5-56611b364977",
   "metadata": {},
   "outputs": [],
   "source": [
    "regions_df.to_csv(\"../data/processed/monthly-conservation/regional-conservation-monthly.csv\", index=False)"
   ]
  },
  {
   "cell_type": "code",
   "execution_count": 229,
   "id": "ab571d8a-20fd-4fd0-8991-51f7879622f3",
   "metadata": {},
   "outputs": [],
   "source": [
    "merge_df.to_csv(\"../data/processed/monthly-conservation/district-level-conservation-monthly.csv\", index=False)"
   ]
  },
  {
   "cell_type": "markdown",
   "id": "f49b44a7-4670-46ab-bdc8-6ed993199245",
   "metadata": {},
   "source": [
    "Cumulative"
   ]
  },
  {
   "cell_type": "code",
   "execution_count": 230,
   "id": "ae8b9b72-961d-4328-ac7d-f00523b9a83d",
   "metadata": {},
   "outputs": [],
   "source": [
    "statewide_cumulative_savings_df.to_csv(\"../data/processed/cumulative-conservation/statewide-conservation-cumulative.csv\", index=False)"
   ]
  },
  {
   "cell_type": "code",
   "execution_count": 231,
   "id": "b493afa0-34e8-4d36-8159-03aceb26d256",
   "metadata": {},
   "outputs": [],
   "source": [
    "regions_cumulative_savings_df.to_csv(\"../data/processed/cumulative-conservation/monthly-conservation-cumulative.csv\", index=False)"
   ]
  },
  {
   "cell_type": "code",
   "execution_count": 232,
   "id": "f37055f4-a11d-4a20-8df3-3a1d45eb0c2d",
   "metadata": {},
   "outputs": [],
   "source": [
    "district_cumulative_savings_df.to_csv(\"../data/processed/cumulative-conservation/district-level-conservation-cumulative.csv\", index=False)"
   ]
  }
 ],
 "metadata": {
  "kernelspec": {
   "display_name": "Python 3 (ipykernel)",
   "language": "python",
   "name": "python3"
  },
  "language_info": {
   "codemirror_mode": {
    "name": "ipython",
    "version": 3
   },
   "file_extension": ".py",
   "mimetype": "text/x-python",
   "name": "python",
   "nbconvert_exporter": "python",
   "pygments_lexer": "ipython3",
   "version": "3.9.6"
  }
 },
 "nbformat": 4,
 "nbformat_minor": 5
}
