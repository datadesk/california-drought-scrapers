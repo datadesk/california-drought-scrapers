{
 "cells": [
  {
   "cell_type": "code",
   "execution_count": 1,
   "id": "a8f68e43-feaa-4996-8d5a-ecc52ce8bf66",
   "metadata": {},
   "outputs": [],
   "source": [
    "import pytz\n",
    "from datetime import datetime, date, timedelta\n",
    "import pandas as pd\n",
    "import altair as alt\n",
    "import altair_latimes as lat"
   ]
  },
  {
   "cell_type": "code",
   "execution_count": 2,
   "id": "7f08691a-275f-4165-b2a5-dc7a70e2c3a6",
   "metadata": {},
   "outputs": [
    {
     "data": {
      "text/plain": [
       "ThemeRegistry.enable('latimes')"
      ]
     },
     "execution_count": 2,
     "metadata": {},
     "output_type": "execute_result"
    }
   ],
   "source": [
    "alt.themes.register('latimes', lat.theme)\n",
    "alt.themes.enable('latimes')"
   ]
  },
  {
   "cell_type": "code",
   "execution_count": 3,
   "id": "154fda82-e6f3-4a42-86c8-578b4fc0d2cb",
   "metadata": {},
   "outputs": [],
   "source": [
    "pd.set_option('display.float_format', lambda x: '%.3f' % x)"
   ]
  },
  {
   "cell_type": "markdown",
   "id": "0cfcb7f3-6169-489d-a054-1b801988d626",
   "metadata": {},
   "source": [
    "### Import"
   ]
  },
  {
   "cell_type": "code",
   "execution_count": 4,
   "id": "81973009-6e4c-4b44-8db8-17ec118ecd88",
   "metadata": {},
   "outputs": [],
   "source": [
    "df = pd.read_csv(\n",
    "    \"../data/raw/reservoirs/major-reservoir-scrape-latest.csv\", \n",
    "    parse_dates=[\"DATE TIME\", \"OBS DATE\"]\n",
    ")"
   ]
  },
  {
   "cell_type": "code",
   "execution_count": 5,
   "id": "592ce46b-5c36-44bb-94cd-4a2ad733a55c",
   "metadata": {},
   "outputs": [],
   "source": [
    "hist_df = pd.read_csv(\n",
    "    \"../data/metadata/reservoirs-historical-averages.csv\"\n",
    ")"
   ]
  },
  {
   "cell_type": "code",
   "execution_count": 6,
   "id": "284a5f3e-4391-4685-808d-f40e64511e7b",
   "metadata": {},
   "outputs": [],
   "source": [
    "details_df = pd.read_csv(\n",
    "    \"../data/metadata/reservoirs-metadata-details.csv\"\n",
    ")"
   ]
  },
  {
   "cell_type": "markdown",
   "id": "66364b79-8a94-4d02-abfa-9a83aabf5d27",
   "metadata": {},
   "source": [
    "### Clean"
   ]
  },
  {
   "cell_type": "code",
   "execution_count": 7,
   "id": "3bcf2dc4-c020-41b4-becf-3e4c43c425d1",
   "metadata": {},
   "outputs": [],
   "source": [
    "df.columns = df.columns.str.lower()"
   ]
  },
  {
   "cell_type": "code",
   "execution_count": 8,
   "id": "2e0088a1-012e-474f-b5da-fb9fdfe75b78",
   "metadata": {},
   "outputs": [],
   "source": [
    "df.columns = df.columns.str.replace(\" \",\"_\")"
   ]
  },
  {
   "cell_type": "code",
   "execution_count": 9,
   "id": "5b1ca206-03bd-4d33-b39b-689a4c971190",
   "metadata": {},
   "outputs": [],
   "source": [
    "df = df.rename(columns={\n",
    "    \"station_id\": \"reservoir_id\",\n",
    "    \"date_time\": \"date\",\n",
    "    \"value\": \"storage_af\"\n",
    "})"
   ]
  },
  {
   "cell_type": "code",
   "execution_count": 10,
   "id": "db224586-5249-46ab-b4e6-f8a6d10d340f",
   "metadata": {},
   "outputs": [],
   "source": [
    "df[\"storage_af\"] = df[\"storage_af\"].str.replace(\"---\",\"\")"
   ]
  },
  {
   "cell_type": "code",
   "execution_count": 11,
   "id": "69e887d1-7a69-461c-95a6-7fa88ff67e2f",
   "metadata": {},
   "outputs": [],
   "source": [
    "df[\"storage_af\"] = pd.to_numeric(df[\"storage_af\"])"
   ]
  },
  {
   "cell_type": "code",
   "execution_count": 12,
   "id": "a9b37e95-700c-49fa-8ef5-de64598105d1",
   "metadata": {},
   "outputs": [],
   "source": [
    "details_df[\"lat\"] = details_df[\"lat\"].str.replace(\"°\",\"\")\n",
    "details_df[\"lon\"] = details_df[\"lon\"].str.replace(\"°\",\"\")"
   ]
  },
  {
   "cell_type": "markdown",
   "id": "45bdc35a-8e5f-43e8-9b3a-9078e6a1158a",
   "metadata": {},
   "source": [
    "### Merge historical average"
   ]
  },
  {
   "cell_type": "markdown",
   "id": "f193e506-35eb-49d8-8110-43ac386fe12b",
   "metadata": {},
   "source": [
    "Create month column for merging"
   ]
  },
  {
   "cell_type": "code",
   "execution_count": 13,
   "id": "5c5019e6-921a-43a1-a610-16c64e9840a5",
   "metadata": {},
   "outputs": [],
   "source": [
    "df[\"month\"] = pd.DatetimeIndex(df.date).month"
   ]
  },
  {
   "cell_type": "code",
   "execution_count": 14,
   "id": "3b4a73bb-fbba-44e8-97be-90512bc13bf7",
   "metadata": {},
   "outputs": [],
   "source": [
    "hist_df[\"month\"] = pd.to_datetime(hist_df[\"month\"], format='%B').dt.month"
   ]
  },
  {
   "cell_type": "code",
   "execution_count": 15,
   "id": "2aa5e555-78f7-46d7-ae10-a480eb8b1cfe",
   "metadata": {},
   "outputs": [],
   "source": [
    "merge_historical = pd.merge(\n",
    "    df[[\"reservoir_id\",\"date\",\"month\",\"storage_af\",\"units\"]],\n",
    "    hist_df[[\"reservoir_id\", \"month\", \"average_storage_value\", \"average_storage_unit\"]],\n",
    "    how=\"left\",\n",
    "    on=[\"reservoir_id\",\"month\"]\n",
    ")"
   ]
  },
  {
   "cell_type": "code",
   "execution_count": 16,
   "id": "c84fe492-1e78-4498-a85b-88380620fa20",
   "metadata": {},
   "outputs": [],
   "source": [
    "merge_details = pd.merge(\n",
    "    merge_historical,\n",
    "    details_df[[\"id\", \"lake\", \"capacity\", \"lat\", \"lon\"]],\n",
    "    how=\"left\",\n",
    "    left_on=[\"reservoir_id\"],\n",
    "    right_on=[\"id\"]\n",
    ").drop([\"id\", \"units\", \"average_storage_unit\"], axis=1)"
   ]
  },
  {
   "cell_type": "markdown",
   "id": "a9200178-e440-4545-99ea-0fc81e7182b4",
   "metadata": {},
   "source": [
    "### Calculate percentages"
   ]
  },
  {
   "cell_type": "code",
   "execution_count": 17,
   "id": "425b72be-98c0-4b15-9222-664b29588e2c",
   "metadata": {},
   "outputs": [],
   "source": [
    "merge_details[\"current_level_pct_of_total\"] = merge_details[\"storage_af\"] / merge_details[\"capacity\"]"
   ]
  },
  {
   "cell_type": "code",
   "execution_count": 18,
   "id": "86c5850e-6f00-4087-8ea7-d9dbae910a39",
   "metadata": {},
   "outputs": [],
   "source": [
    "merge_details[\"average_level_pct_of_total\"] = merge_details[\"average_storage_value\"] / merge_details[\"capacity\"]"
   ]
  },
  {
   "cell_type": "code",
   "execution_count": 19,
   "id": "787733db-9e5d-445d-a4db-a4f4f558c77d",
   "metadata": {},
   "outputs": [],
   "source": [
    "merge_details[\"current_level_pct_of_avg\"] = merge_details[\"storage_af\"] / merge_details[\"average_storage_value\"]"
   ]
  },
  {
   "cell_type": "markdown",
   "id": "67a57e25-29f6-4b9d-af3e-b90cc6ce33de",
   "metadata": {
    "tags": []
   },
   "source": [
    "### Filter to just \"major\" reservoirs"
   ]
  },
  {
   "cell_type": "code",
   "execution_count": 20,
   "id": "a683f0de-416f-4a42-985a-cc5362a0b7a4",
   "metadata": {},
   "outputs": [],
   "source": [
    "# src: https://cdec.water.ca.gov/resapp/RescondMain\n",
    "major_reservoirs_list = [\n",
    "    'SHA', # Shasta\n",
    "    'ORO', # Oroville\n",
    "    'CLE', # Trinity Lake\n",
    "    'NML', # New Melones Reservoir\n",
    "    'SNL', # San Luis\n",
    "    'DNP', # New Don Pedro\n",
    "    'BER', # Berryessa\n",
    "    'ALM', # Lake Almanor\n",
    "    # 'LUS', # San Luis Reservoir\n",
    "    'FOL', # Folsom    \n",
    "    # 'BUL',\n",
    "    # 'CMN', \n",
    "    # 'NML',\n",
    "    # 'DNP', # New Don Pedro Reservoir\n",
    "    # 'EXC', # Lake McClure\n",
    "    # 'WRS',\n",
    "    # 'SNL',\n",
    "    # 'CCH',\n",
    "    # 'CAS',\n",
    "    # 'CSI',\n",
    "    # 'DMV',\n",
    "    # 'MIL',\n",
    "    # 'PNF',\n",
    "]"
   ]
  },
  {
   "cell_type": "code",
   "execution_count": 21,
   "id": "e3125780-94ea-49a3-ae88-b9119646602c",
   "metadata": {},
   "outputs": [],
   "source": [
    "major_reservoirs = merge_details[merge_details.reservoir_id.isin(major_reservoirs_list)]"
   ]
  },
  {
   "cell_type": "markdown",
   "id": "b47722e1-1ba9-4a6c-ae48-c5cb740c3390",
   "metadata": {},
   "source": [
    "### Check out latest data"
   ]
  },
  {
   "cell_type": "markdown",
   "id": "1952af18-30a8-4b41-af69-a43c69e99a65",
   "metadata": {},
   "source": [
    "First drop na rows"
   ]
  },
  {
   "cell_type": "code",
   "execution_count": 22,
   "id": "1cdf9850-82e7-480e-adc9-3d42d2ccc815",
   "metadata": {},
   "outputs": [],
   "source": [
    "drop_na_df = major_reservoirs.dropna(subset=[\"storage_af\"])"
   ]
  },
  {
   "cell_type": "code",
   "execution_count": 23,
   "id": "32704e71-8892-48fa-86ba-6a0c5c455c8b",
   "metadata": {},
   "outputs": [],
   "source": [
    "latest_df = drop_na_df.sort_values('date').groupby('reservoir_id').tail(1)"
   ]
  },
  {
   "cell_type": "code",
   "execution_count": 24,
   "id": "de433cd6-6e3e-4d0f-8d02-63c40c1f8c16",
   "metadata": {},
   "outputs": [],
   "source": [
    "latest_date = latest_df.date.max()"
   ]
  },
  {
   "cell_type": "code",
   "execution_count": 25,
   "id": "26a5c29c-4b8a-4165-9741-3853275feb00",
   "metadata": {},
   "outputs": [],
   "source": [
    "latest_df[\"flag\"] = False"
   ]
  },
  {
   "cell_type": "code",
   "execution_count": 26,
   "id": "d957f60e-ab7c-4dae-bcc7-610d2c35da96",
   "metadata": {},
   "outputs": [],
   "source": [
    "latest_df.loc[\n",
    "    (latest_df.date < latest_date),\n",
    "    \"flag\"\n",
    "] = True"
   ]
  },
  {
   "cell_type": "code",
   "execution_count": 27,
   "id": "efeb8317-91ec-4ed1-8803-122f94ae8d38",
   "metadata": {},
   "outputs": [
    {
     "data": {
      "text/html": [
       "<div>\n",
       "<style scoped>\n",
       "    .dataframe tbody tr th:only-of-type {\n",
       "        vertical-align: middle;\n",
       "    }\n",
       "\n",
       "    .dataframe tbody tr th {\n",
       "        vertical-align: top;\n",
       "    }\n",
       "\n",
       "    .dataframe thead th {\n",
       "        text-align: right;\n",
       "    }\n",
       "</style>\n",
       "<table border=\"1\" class=\"dataframe\">\n",
       "  <thead>\n",
       "    <tr style=\"text-align: right;\">\n",
       "      <th></th>\n",
       "      <th>reservoir_id</th>\n",
       "      <th>date</th>\n",
       "      <th>month</th>\n",
       "      <th>storage_af</th>\n",
       "      <th>average_storage_value</th>\n",
       "      <th>lake</th>\n",
       "      <th>capacity</th>\n",
       "      <th>lat</th>\n",
       "      <th>lon</th>\n",
       "      <th>current_level_pct_of_total</th>\n",
       "      <th>average_level_pct_of_total</th>\n",
       "      <th>current_level_pct_of_avg</th>\n",
       "      <th>flag</th>\n",
       "    </tr>\n",
       "  </thead>\n",
       "  <tbody>\n",
       "    <tr>\n",
       "      <th>4118</th>\n",
       "      <td>BER</td>\n",
       "      <td>2022-07-10</td>\n",
       "      <td>7</td>\n",
       "      <td>916916.000</td>\n",
       "      <td>1236209.000</td>\n",
       "      <td>Lake Berryessa</td>\n",
       "      <td>1602000.000</td>\n",
       "      <td>38.513000</td>\n",
       "      <td>-122.104000</td>\n",
       "      <td>0.572</td>\n",
       "      <td>0.772</td>\n",
       "      <td>0.742</td>\n",
       "      <td>True</td>\n",
       "    </tr>\n",
       "    <tr>\n",
       "      <th>60</th>\n",
       "      <td>CLE</td>\n",
       "      <td>2022-07-13</td>\n",
       "      <td>7</td>\n",
       "      <td>696053.000</td>\n",
       "      <td>1752490.000</td>\n",
       "      <td>Trinity Lake</td>\n",
       "      <td>2447650.000</td>\n",
       "      <td>40.801000</td>\n",
       "      <td>-122.762000</td>\n",
       "      <td>0.284</td>\n",
       "      <td>0.716</td>\n",
       "      <td>0.397</td>\n",
       "      <td>False</td>\n",
       "    </tr>\n",
       "    <tr>\n",
       "      <th>4679</th>\n",
       "      <td>NML</td>\n",
       "      <td>2022-07-13</td>\n",
       "      <td>7</td>\n",
       "      <td>755275.000</td>\n",
       "      <td>1448580.000</td>\n",
       "      <td>New Melones Reservoir</td>\n",
       "      <td>2400000.000</td>\n",
       "      <td>37.948100</td>\n",
       "      <td>-120.525000</td>\n",
       "      <td>0.315</td>\n",
       "      <td>0.604</td>\n",
       "      <td>0.521</td>\n",
       "      <td>False</td>\n",
       "    </tr>\n",
       "    <tr>\n",
       "      <th>3005</th>\n",
       "      <td>ORO</td>\n",
       "      <td>2022-07-13</td>\n",
       "      <td>7</td>\n",
       "      <td>1589314.000</td>\n",
       "      <td>2349829.000</td>\n",
       "      <td>Lake Oroville</td>\n",
       "      <td>3537577.000</td>\n",
       "      <td>39.540000</td>\n",
       "      <td>-121.493000</td>\n",
       "      <td>0.449</td>\n",
       "      <td>0.664</td>\n",
       "      <td>0.676</td>\n",
       "      <td>False</td>\n",
       "    </tr>\n",
       "    <tr>\n",
       "      <th>2323</th>\n",
       "      <td>SHA</td>\n",
       "      <td>2022-07-13</td>\n",
       "      <td>7</td>\n",
       "      <td>1738098.000</td>\n",
       "      <td>3102099.000</td>\n",
       "      <td>Lake Shasta</td>\n",
       "      <td>4552000.000</td>\n",
       "      <td>40.718000</td>\n",
       "      <td>-122.420000</td>\n",
       "      <td>0.382</td>\n",
       "      <td>0.681</td>\n",
       "      <td>0.560</td>\n",
       "      <td>False</td>\n",
       "    </tr>\n",
       "    <tr>\n",
       "      <th>2757</th>\n",
       "      <td>ALM</td>\n",
       "      <td>2022-07-13</td>\n",
       "      <td>7</td>\n",
       "      <td>850236.000</td>\n",
       "      <td>956255.000</td>\n",
       "      <td>Lake Almanor</td>\n",
       "      <td>1308000.000</td>\n",
       "      <td>40.218000</td>\n",
       "      <td>-121.173000</td>\n",
       "      <td>0.650</td>\n",
       "      <td>0.731</td>\n",
       "      <td>0.889</td>\n",
       "      <td>False</td>\n",
       "    </tr>\n",
       "    <tr>\n",
       "      <th>3966</th>\n",
       "      <td>FOL</td>\n",
       "      <td>2022-07-13</td>\n",
       "      <td>7</td>\n",
       "      <td>706938.000</td>\n",
       "      <td>623348.000</td>\n",
       "      <td>Folsom Lake</td>\n",
       "      <td>977000.000</td>\n",
       "      <td>38.683000</td>\n",
       "      <td>-121.183000</td>\n",
       "      <td>0.724</td>\n",
       "      <td>0.638</td>\n",
       "      <td>1.134</td>\n",
       "      <td>False</td>\n",
       "    </tr>\n",
       "    <tr>\n",
       "      <th>4865</th>\n",
       "      <td>DNP</td>\n",
       "      <td>2022-07-13</td>\n",
       "      <td>7</td>\n",
       "      <td>1270922.000</td>\n",
       "      <td>1594269.000</td>\n",
       "      <td>New Don Pedro Reservoir</td>\n",
       "      <td>2030000.000</td>\n",
       "      <td>37.702000</td>\n",
       "      <td>-120.421000</td>\n",
       "      <td>0.626</td>\n",
       "      <td>0.785</td>\n",
       "      <td>0.797</td>\n",
       "      <td>False</td>\n",
       "    </tr>\n",
       "    <tr>\n",
       "      <th>5485</th>\n",
       "      <td>SNL</td>\n",
       "      <td>2022-07-13</td>\n",
       "      <td>7</td>\n",
       "      <td>726712.000</td>\n",
       "      <td>876375.000</td>\n",
       "      <td>San Luis Reservoir</td>\n",
       "      <td>2041000.000</td>\n",
       "      <td>37.033000</td>\n",
       "      <td>-121.133000</td>\n",
       "      <td>0.356</td>\n",
       "      <td>0.429</td>\n",
       "      <td>0.829</td>\n",
       "      <td>False</td>\n",
       "    </tr>\n",
       "  </tbody>\n",
       "</table>\n",
       "</div>"
      ],
      "text/plain": [
       "     reservoir_id       date  month  storage_af  average_storage_value  \\\n",
       "4118          BER 2022-07-10      7  916916.000            1236209.000   \n",
       "60            CLE 2022-07-13      7  696053.000            1752490.000   \n",
       "4679          NML 2022-07-13      7  755275.000            1448580.000   \n",
       "3005          ORO 2022-07-13      7 1589314.000            2349829.000   \n",
       "2323          SHA 2022-07-13      7 1738098.000            3102099.000   \n",
       "2757          ALM 2022-07-13      7  850236.000             956255.000   \n",
       "3966          FOL 2022-07-13      7  706938.000             623348.000   \n",
       "4865          DNP 2022-07-13      7 1270922.000            1594269.000   \n",
       "5485          SNL 2022-07-13      7  726712.000             876375.000   \n",
       "\n",
       "                         lake    capacity        lat          lon  \\\n",
       "4118           Lake Berryessa 1602000.000  38.513000  -122.104000   \n",
       "60               Trinity Lake 2447650.000  40.801000  -122.762000   \n",
       "4679    New Melones Reservoir 2400000.000  37.948100  -120.525000   \n",
       "3005            Lake Oroville 3537577.000  39.540000  -121.493000   \n",
       "2323              Lake Shasta 4552000.000  40.718000  -122.420000   \n",
       "2757             Lake Almanor 1308000.000  40.218000  -121.173000   \n",
       "3966              Folsom Lake  977000.000  38.683000  -121.183000   \n",
       "4865  New Don Pedro Reservoir 2030000.000  37.702000  -120.421000   \n",
       "5485       San Luis Reservoir 2041000.000  37.033000  -121.133000   \n",
       "\n",
       "      current_level_pct_of_total  average_level_pct_of_total  \\\n",
       "4118                       0.572                       0.772   \n",
       "60                         0.284                       0.716   \n",
       "4679                       0.315                       0.604   \n",
       "3005                       0.449                       0.664   \n",
       "2323                       0.382                       0.681   \n",
       "2757                       0.650                       0.731   \n",
       "3966                       0.724                       0.638   \n",
       "4865                       0.626                       0.785   \n",
       "5485                       0.356                       0.429   \n",
       "\n",
       "      current_level_pct_of_avg   flag  \n",
       "4118                     0.742   True  \n",
       "60                       0.397  False  \n",
       "4679                     0.521  False  \n",
       "3005                     0.676  False  \n",
       "2323                     0.560  False  \n",
       "2757                     0.889  False  \n",
       "3966                     1.134  False  \n",
       "4865                     0.797  False  \n",
       "5485                     0.829  False  "
      ]
     },
     "execution_count": 27,
     "metadata": {},
     "output_type": "execute_result"
    }
   ],
   "source": [
    "latest_df"
   ]
  },
  {
   "cell_type": "code",
   "execution_count": 28,
   "id": "14bf9f50-3ddc-47d3-b8e8-69a95a49b4af",
   "metadata": {},
   "outputs": [
    {
     "data": {
      "text/plain": [
       "9250464.0"
      ]
     },
     "execution_count": 28,
     "metadata": {},
     "output_type": "execute_result"
    }
   ],
   "source": [
    "latest_df.storage_af.sum()"
   ]
  },
  {
   "cell_type": "code",
   "execution_count": 29,
   "id": "7e181eeb-82c6-49e4-a6d4-e398860fb852",
   "metadata": {},
   "outputs": [],
   "source": [
    "melt=pd.melt(latest_df, id_vars=\"reservoir_id\", value_vars=[\"storage_af\", \"average_storage_value\", \"capacity\"])"
   ]
  },
  {
   "cell_type": "code",
   "execution_count": 30,
   "id": "683e57e6-d902-42c8-b8ed-90daff0e22da",
   "metadata": {},
   "outputs": [],
   "source": [
    "bar_order = {\n",
    "    \"storage_af\": 1, \n",
    "    \"average_storage_value\": 2, \n",
    "    \"capacity\":3            \n",
    "}"
   ]
  },
  {
   "cell_type": "code",
   "execution_count": 31,
   "id": "2d535d8f-5141-47bd-b988-f02e435c128a",
   "metadata": {},
   "outputs": [],
   "source": [
    "melt[\"bar_order\"] = melt.variable.map(bar_order)"
   ]
  },
  {
   "cell_type": "code",
   "execution_count": 32,
   "id": "d2af6d05-c390-4a8b-9f53-a9e0d272da79",
   "metadata": {},
   "outputs": [
    {
     "data": {
      "text/html": [
       "\n",
       "<div id=\"altair-viz-04a0b7a93556472b92129e5112ed4502\"></div>\n",
       "<script type=\"text/javascript\">\n",
       "  var VEGA_DEBUG = (typeof VEGA_DEBUG == \"undefined\") ? {} : VEGA_DEBUG;\n",
       "  (function(spec, embedOpt){\n",
       "    let outputDiv = document.currentScript.previousElementSibling;\n",
       "    if (outputDiv.id !== \"altair-viz-04a0b7a93556472b92129e5112ed4502\") {\n",
       "      outputDiv = document.getElementById(\"altair-viz-04a0b7a93556472b92129e5112ed4502\");\n",
       "    }\n",
       "    const paths = {\n",
       "      \"vega\": \"https://cdn.jsdelivr.net/npm//vega@5?noext\",\n",
       "      \"vega-lib\": \"https://cdn.jsdelivr.net/npm//vega-lib?noext\",\n",
       "      \"vega-lite\": \"https://cdn.jsdelivr.net/npm//vega-lite@4.17.0?noext\",\n",
       "      \"vega-embed\": \"https://cdn.jsdelivr.net/npm//vega-embed@6?noext\",\n",
       "    };\n",
       "\n",
       "    function maybeLoadScript(lib, version) {\n",
       "      var key = `${lib.replace(\"-\", \"\")}_version`;\n",
       "      return (VEGA_DEBUG[key] == version) ?\n",
       "        Promise.resolve(paths[lib]) :\n",
       "        new Promise(function(resolve, reject) {\n",
       "          var s = document.createElement('script');\n",
       "          document.getElementsByTagName(\"head\")[0].appendChild(s);\n",
       "          s.async = true;\n",
       "          s.onload = () => {\n",
       "            VEGA_DEBUG[key] = version;\n",
       "            return resolve(paths[lib]);\n",
       "          };\n",
       "          s.onerror = () => reject(`Error loading script: ${paths[lib]}`);\n",
       "          s.src = paths[lib];\n",
       "        });\n",
       "    }\n",
       "\n",
       "    function showError(err) {\n",
       "      outputDiv.innerHTML = `<div class=\"error\" style=\"color:red;\">${err}</div>`;\n",
       "      throw err;\n",
       "    }\n",
       "\n",
       "    function displayChart(vegaEmbed) {\n",
       "      vegaEmbed(outputDiv, spec, embedOpt)\n",
       "        .catch(err => showError(`Javascript Error: ${err.message}<br>This usually means there's a typo in your chart specification. See the javascript console for the full traceback.`));\n",
       "    }\n",
       "\n",
       "    if(typeof define === \"function\" && define.amd) {\n",
       "      requirejs.config({paths});\n",
       "      require([\"vega-embed\"], displayChart, err => showError(`Error loading script: ${err.message}`));\n",
       "    } else {\n",
       "      maybeLoadScript(\"vega\", \"5\")\n",
       "        .then(() => maybeLoadScript(\"vega-lite\", \"4.17.0\"))\n",
       "        .then(() => maybeLoadScript(\"vega-embed\", \"6\"))\n",
       "        .catch(showError)\n",
       "        .then(() => displayChart(vegaEmbed));\n",
       "    }\n",
       "  })({\"config\": {\"view\": {\"width\": 800, \"height\": 450}, \"background\": \"#ffffff\", \"title\": {\"anchor\": \"start\", \"font\": \"BentonGothic-Bold, sans\", \"fontColor\": \"#000000\", \"fontSize\": 22, \"fontWeight\": \"normal\"}, \"arc\": {\"fill\": \"#82c6df\"}, \"area\": {\"fill\": \"#82c6df\"}, \"line\": {\"stroke\": \"#82c6df\", \"strokeWidth\": 3}, \"path\": {\"stroke\": \"#82c6df\"}, \"rect\": {\"fill\": \"#82c6df\"}, \"shape\": {\"stroke\": \"#82c6df\"}, \"bar\": {\"fill\": \"#82c6df\"}, \"point\": {\"stroke\": \"#82c6df\"}, \"symbol\": {\"fill\": \"#82c6df\", \"size\": 30}, \"axis\": {\"titleFont\": \"BentonGothic-Bold, sans\", \"titleFontSize\": 14, \"titleFontWeight\": \"normal\", \"labelFont\": \"BentonGothic, sans\", \"labelFontSize\": 12, \"labelFontWeight\": \"normal\"}, \"axisX\": {\"labelAngle\": 0, \"labelPadding\": 4, \"tickSize\": 3}, \"axisY\": {\"labelBaseline\": \"middle\", \"maxExtent\": 45, \"minExtent\": 45, \"tickSize\": 2, \"titleAlign\": \"left\", \"titleAngle\": 0, \"titleX\": -45, \"titleY\": -11}, \"legend\": {\"titleFont\": \"BentonGothic-Bold, sans\", \"titleFontSize\": 14, \"titleFontWeight\": \"normal\", \"symbolType\": \"square\", \"labelFont\": \"BentonGothic, sans\", \"labelFontSize\": 13}, \"range\": {\"category\": [\"#3580b1\", \"#ec8431\", \"#ab7fb4\", \"#c89d29\", \"#adc839\", \"#829eb1\"], \"diverging\": [\"#e68a4f\", \"#f4bb6a\", \"#f9e39c\", \"#dadfe2\", \"#a6b7c6\", \"#849eae\"], \"heatmap\": [\"#fbf2c7\", \"#f9e39c\", \"#f8d36e\", \"#f4bb6a\", \"#e68a4f\", \"#d15a40\", \"#ab4232\"], \"ordinal\": [\"#fbf2c7\", \"#f9e39c\", \"#f8d36e\", \"#f4bb6a\", \"#e68a4f\", \"#d15a40\", \"#ab4232\"], \"ramp\": [\"#fbf2c7\", \"#f9e39c\", \"#f8d36e\", \"#f4bb6a\", \"#e68a4f\", \"#d15a40\", \"#ab4232\"]}}, \"data\": {\"name\": \"data-26935bcec14cd6d2375829f5806eea09\"}, \"mark\": \"bar\", \"encoding\": {\"color\": {\"field\": \"variable\", \"scale\": {\"domain\": [\"capacity\", \"average_storage_value\", \"storage_af\"], \"range\": [\"#ddd\", \"#83c6e0\", \"#1281aa\"]}, \"type\": \"nominal\"}, \"order\": {\"field\": \"bar_order\", \"type\": \"quantitative\"}, \"tooltip\": [{\"field\": \"reservoir_id\", \"type\": \"nominal\"}], \"x\": {\"axis\": {\"labels\": false}, \"field\": \"reservoir_id\", \"type\": \"nominal\"}, \"y\": {\"field\": \"value\", \"stack\": \"normalize\", \"type\": \"quantitative\"}}, \"title\": \"California's largest reservoirs\", \"$schema\": \"https://vega.github.io/schema/vega-lite/v4.17.0.json\", \"datasets\": {\"data-26935bcec14cd6d2375829f5806eea09\": [{\"reservoir_id\": \"BER\", \"variable\": \"storage_af\", \"value\": 916916.0, \"bar_order\": 1}, {\"reservoir_id\": \"CLE\", \"variable\": \"storage_af\", \"value\": 696053.0, \"bar_order\": 1}, {\"reservoir_id\": \"NML\", \"variable\": \"storage_af\", \"value\": 755275.0, \"bar_order\": 1}, {\"reservoir_id\": \"ORO\", \"variable\": \"storage_af\", \"value\": 1589314.0, \"bar_order\": 1}, {\"reservoir_id\": \"SHA\", \"variable\": \"storage_af\", \"value\": 1738098.0, \"bar_order\": 1}, {\"reservoir_id\": \"ALM\", \"variable\": \"storage_af\", \"value\": 850236.0, \"bar_order\": 1}, {\"reservoir_id\": \"FOL\", \"variable\": \"storage_af\", \"value\": 706938.0, \"bar_order\": 1}, {\"reservoir_id\": \"DNP\", \"variable\": \"storage_af\", \"value\": 1270922.0, \"bar_order\": 1}, {\"reservoir_id\": \"SNL\", \"variable\": \"storage_af\", \"value\": 726712.0, \"bar_order\": 1}, {\"reservoir_id\": \"BER\", \"variable\": \"average_storage_value\", \"value\": 1236209.0, \"bar_order\": 2}, {\"reservoir_id\": \"CLE\", \"variable\": \"average_storage_value\", \"value\": 1752490.0, \"bar_order\": 2}, {\"reservoir_id\": \"NML\", \"variable\": \"average_storage_value\", \"value\": 1448580.0, \"bar_order\": 2}, {\"reservoir_id\": \"ORO\", \"variable\": \"average_storage_value\", \"value\": 2349829.0, \"bar_order\": 2}, {\"reservoir_id\": \"SHA\", \"variable\": \"average_storage_value\", \"value\": 3102099.0, \"bar_order\": 2}, {\"reservoir_id\": \"ALM\", \"variable\": \"average_storage_value\", \"value\": 956255.0, \"bar_order\": 2}, {\"reservoir_id\": \"FOL\", \"variable\": \"average_storage_value\", \"value\": 623348.0, \"bar_order\": 2}, {\"reservoir_id\": \"DNP\", \"variable\": \"average_storage_value\", \"value\": 1594269.0, \"bar_order\": 2}, {\"reservoir_id\": \"SNL\", \"variable\": \"average_storage_value\", \"value\": 876375.0, \"bar_order\": 2}, {\"reservoir_id\": \"BER\", \"variable\": \"capacity\", \"value\": 1602000.0, \"bar_order\": 3}, {\"reservoir_id\": \"CLE\", \"variable\": \"capacity\", \"value\": 2447650.0, \"bar_order\": 3}, {\"reservoir_id\": \"NML\", \"variable\": \"capacity\", \"value\": 2400000.0, \"bar_order\": 3}, {\"reservoir_id\": \"ORO\", \"variable\": \"capacity\", \"value\": 3537577.0, \"bar_order\": 3}, {\"reservoir_id\": \"SHA\", \"variable\": \"capacity\", \"value\": 4552000.0, \"bar_order\": 3}, {\"reservoir_id\": \"ALM\", \"variable\": \"capacity\", \"value\": 1308000.0, \"bar_order\": 3}, {\"reservoir_id\": \"FOL\", \"variable\": \"capacity\", \"value\": 977000.0, \"bar_order\": 3}, {\"reservoir_id\": \"DNP\", \"variable\": \"capacity\", \"value\": 2030000.0, \"bar_order\": 3}, {\"reservoir_id\": \"SNL\", \"variable\": \"capacity\", \"value\": 2041000.0, \"bar_order\": 3}]}}, {\"mode\": \"vega-lite\"});\n",
       "</script>"
      ],
      "text/plain": [
       "alt.Chart(...)"
      ]
     },
     "execution_count": 32,
     "metadata": {},
     "output_type": "execute_result"
    }
   ],
   "source": [
    "domain = [\"capacity\", \"average_storage_value\", \"storage_af\", ]\n",
    "range_ = ['#ddd', '#83c6e0', '#1281aa', ]\n",
    "\n",
    "alt.Chart(melt).mark_bar().encode(\n",
    "    x=alt.X('reservoir_id', axis=alt.Axis(labels=False)),\n",
    "    y=alt.Y('value',stack=\"normalize\"),\n",
    "    order=\"bar_order\",\n",
    "    color=alt.Color(\n",
    "        'variable', \n",
    "        scale=alt.Scale(domain=domain, range=range_), \n",
    "        #sort='descending'\n",
    "    ),\n",
    "    tooltip=[\"reservoir_id\"]\n",
    ").properties(title=\"California's largest reservoirs\")"
   ]
  },
  {
   "cell_type": "markdown",
   "id": "6609fded-c565-490f-b1da-7142a4cdb7ab",
   "metadata": {},
   "source": [
    "### Export"
   ]
  },
  {
   "cell_type": "markdown",
   "id": "1b8ba812-b32b-427a-b12c-d2e69e29a121",
   "metadata": {},
   "source": [
    "Trim and rename for export"
   ]
  },
  {
   "cell_type": "code",
   "execution_count": 33,
   "id": "0382b468-1563-44a0-b6f9-8e90848aa966",
   "metadata": {},
   "outputs": [],
   "source": [
    "export_df = latest_df[\n",
    "    ['reservoir_id','lake', 'date', 'storage_af', 'average_storage_value', 'capacity', 'current_level_pct_of_total',\n",
    "       'average_level_pct_of_total', 'current_level_pct_of_avg', 'lat', 'lon', 'flag' ]\n",
    "].rename(columns={\n",
    "    'lake': 'reservoir_name',\n",
    "    'average_storage_value': 'historical_average',\n",
    "    'capacity': 'total_capacity'\n",
    "}).sort_values(\"total_capacity\", ascending=False)"
   ]
  },
  {
   "cell_type": "code",
   "execution_count": 34,
   "id": "c1a87530-4991-454d-a5a1-28940376182d",
   "metadata": {},
   "outputs": [],
   "source": [
    "export_df.to_csv(\"../data/processed/reservoirs/reservoirs-latest.csv\", index=False)"
   ]
  }
 ],
 "metadata": {
  "kernelspec": {
   "display_name": "Python 3 (ipykernel)",
   "language": "python",
   "name": "python3"
  },
  "language_info": {
   "codemirror_mode": {
    "name": "ipython",
    "version": 3
   },
   "file_extension": ".py",
   "mimetype": "text/x-python",
   "name": "python",
   "nbconvert_exporter": "python",
   "pygments_lexer": "ipython3",
   "version": "3.9.6"
  }
 },
 "nbformat": 4,
 "nbformat_minor": 5
}
