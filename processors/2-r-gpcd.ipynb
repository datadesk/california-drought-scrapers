{
 "cells": [
  {
   "cell_type": "code",
   "execution_count": 344,
   "id": "89e6bf97-56dc-449a-862e-426bda299ee5",
   "metadata": {},
   "outputs": [],
   "source": [
    "import pandas as pd\n",
    "import altair as alt\n",
    "import altair_latimes as lat"
   ]
  },
  {
   "cell_type": "code",
   "execution_count": 345,
   "id": "87ee398f-dd06-4471-90d8-74d2ad7f7a45",
   "metadata": {},
   "outputs": [
    {
     "data": {
      "text/plain": [
       "ThemeRegistry.enable('latimes')"
      ]
     },
     "execution_count": 345,
     "metadata": {},
     "output_type": "execute_result"
    }
   ],
   "source": [
    "alt.themes.register('latimes', lat.theme)\n",
    "alt.themes.enable('latimes')"
   ]
  },
  {
   "cell_type": "markdown",
   "id": "9965cc79-7807-43bb-af0e-6840e511ebeb",
   "metadata": {},
   "source": [
    "### Import"
   ]
  },
  {
   "cell_type": "markdown",
   "id": "f19c51b2-d04a-43cb-ac02-bb8267917aac",
   "metadata": {},
   "source": [
    "Monthly reports timeseries"
   ]
  },
  {
   "cell_type": "code",
   "execution_count": 346,
   "id": "c03b3f41-de7d-4d3f-8b89-1e114979b829",
   "metadata": {},
   "outputs": [],
   "source": [
    "df = pd.read_csv(\"../data/raw/uw-usage.csv\", parse_dates=[\"Reporting Month\"])"
   ]
  },
  {
   "cell_type": "code",
   "execution_count": 347,
   "id": "3f26c3dc-4e93-4a61-987e-5bdc63f7758d",
   "metadata": {},
   "outputs": [],
   "source": [
    "clean_names = pd.read_csv(\"../data/metadata/urban-water-suppliers-clean-names.csv\")"
   ]
  },
  {
   "cell_type": "markdown",
   "id": "5ee352c7-fbb1-4cdd-990f-575dcf1b4889",
   "metadata": {},
   "source": [
    "### Clean"
   ]
  },
  {
   "cell_type": "markdown",
   "id": "1a329783-20cc-4d4a-b71c-b2d4e9e984d5",
   "metadata": {},
   "source": [
    "Remove junk from column names"
   ]
  },
  {
   "cell_type": "code",
   "execution_count": 348,
   "id": "f1ed09d0-380d-4f9d-91ad-cdd52ea22fb9",
   "metadata": {},
   "outputs": [],
   "source": [
    "df.columns = df.columns.str.replace(\" \",\"_\").str.replace(\"-\",\"_\").str.replace(r'[#,@,&,(,)]', '', regex=True).str.lower()"
   ]
  },
  {
   "cell_type": "markdown",
   "id": "9b698ae0-bb21-406e-968c-3ccc8051b00b",
   "metadata": {},
   "source": [
    "Eliminate double spaces in supplier names"
   ]
  },
  {
   "cell_type": "code",
   "execution_count": 349,
   "id": "e9d8434b-11e4-4322-9f69-e8d20de3a2e1",
   "metadata": {},
   "outputs": [],
   "source": [
    "df.supplier_name = df.supplier_name.str.replace(\"  \", \" \")"
   ]
  },
  {
   "cell_type": "code",
   "execution_count": 350,
   "id": "899a1318-fc81-4ccd-a982-e3234e3bec01",
   "metadata": {},
   "outputs": [],
   "source": [
    "df['supplier_name'] = df['supplier_name'].str.strip()"
   ]
  },
  {
   "cell_type": "markdown",
   "id": "adcda64d-3e18-4fd7-b1a8-fa47eca21300",
   "metadata": {},
   "source": [
    "Trim this downn to just the columns we need"
   ]
  },
  {
   "cell_type": "markdown",
   "id": "b2bc306e-548b-47cf-9fcf-26b20a578872",
   "metadata": {},
   "source": [
    "### Merge clean names"
   ]
  },
  {
   "cell_type": "code",
   "execution_count": 351,
   "id": "5183df9a-100b-4132-9bec-90efc4a95f04",
   "metadata": {},
   "outputs": [],
   "source": [
    "merge_names_df = pd.merge(\n",
    "    df,\n",
    "    clean_names,\n",
    "    how=\"left\",\n",
    "    left_on=[\"public_water_system_id\" , \"supplier_name\"],\n",
    "    right_on=[\"id\" , \"supplier_name\"]\n",
    ")"
   ]
  },
  {
   "cell_type": "markdown",
   "id": "76f78a3d-d908-4daa-966e-181667fc5b1b",
   "metadata": {},
   "source": [
    "### Trim"
   ]
  },
  {
   "cell_type": "code",
   "execution_count": 352,
   "id": "255bd05a-9a48-44d8-b53a-c6123e56c1de",
   "metadata": {},
   "outputs": [],
   "source": [
    "keeps = [\n",
    "    'supplier_name', \n",
    "    'display_name',\n",
    "    'public_water_system_id', \n",
    "    'reporting_month', \n",
    "    'county',\n",
    "    'hydrologic_region', \n",
    "    # 'climate_zone', \n",
    "    'total_population_served',\n",
    "    ### MAYBE PILE\n",
    "        # 'county_under_drought_declaration',\n",
    "        # 'water_shortage_contingency_stage_invoked',\n",
    "        # 'water_shortage_level_indicator',\n",
    "        'dwr_state_standard_level_corresponding_to_stage',\n",
    "    ### NEED THIS IF YOU WANT TO RECALCULATE R-GPCD BY DISTRICT\n",
    "        # 'water_production_units',\n",
    "        # 'reported_preliminary_total_potable_water_production',\n",
    "        # 'reported_final_total_potable_water_production',\n",
    "        # 'preliminary_percent_residential_use', \n",
    "        # 'final_percent_residential_use',\n",
    "    ### THESE COLUMNS ARE OPTIONAL FOR SUPPLIERS TO FILL OUT\n",
    "        # 'reported_preliminary_commercial_agricultural_water',\n",
    "        # 'reported_final_commercial_agricultural_water',\n",
    "        # 'reported_preliminary_commercial,_industrial_and_institutional_water',\n",
    "        # 'reported_final_commercial_industrial_and_institutional_water',\n",
    "        # 'reported_recycled_water', \n",
    "        # 'reported_non_revenue_water',\n",
    "    'calculated_total_potable_water_production_gallons_ag_excluded',\n",
    "    # 'calculated_total_potable_water_production_gallons_2013_ag_excluded',\n",
    "    # 'calculated_commercial_agricultural_water_gallons',\n",
    "    # 'calculated_commercial_agricultural_water_gallons_2013',\n",
    "    'calculated_r_gpcd', \n",
    "    # 'qualification'\n",
    "]"
   ]
  },
  {
   "cell_type": "code",
   "execution_count": 353,
   "id": "b0a6705a-00fd-4b96-98a2-e4deba47e94e",
   "metadata": {},
   "outputs": [],
   "source": [
    "trim_df = merge_names_df[keeps]"
   ]
  },
  {
   "cell_type": "markdown",
   "id": "6fab0f67-bcd7-4d7a-96cf-892e42666973",
   "metadata": {},
   "source": [
    "### Calculate"
   ]
  },
  {
   "cell_type": "markdown",
   "id": "dfaa37cd-e45d-431f-a56b-5d8c0cff3c59",
   "metadata": {},
   "source": [
    "Calculate population-weighted r-gpcd for hydrologic regions"
   ]
  },
  {
   "cell_type": "code",
   "execution_count": 354,
   "id": "58616d3c-ddb6-4e7c-9d11-f677b9a06a01",
   "metadata": {},
   "outputs": [],
   "source": [
    "def regional_calcs(df, gals, rgpcd, pop):\n",
    "    val = df[rgpcd]\n",
    "    wt = df[pop]\n",
    "    wt_avg = (val * wt).sum() / wt.sum()\n",
    "    #return (val * wt).sum() / wt.sum()\n",
    "    total_gals = df[gals].sum()\n",
    "    total_pop = df[pop].sum()\n",
    "    return pd.Series([total_pop, total_gals, wt_avg], index=['total_pop', 'total_gallons', 'pop_weighted_rgpcd'])"
   ]
  },
  {
   "cell_type": "code",
   "execution_count": 355,
   "id": "9ef70670-21be-48cf-a310-fb4f32c9defd",
   "metadata": {},
   "outputs": [],
   "source": [
    "region_df = trim_df.groupby(\n",
    "    ['reporting_month','hydrologic_region']\n",
    ").apply(\n",
    "    regional_calcs,\n",
    "    \"calculated_total_potable_water_production_gallons_ag_excluded\",\n",
    "    'calculated_r_gpcd', \n",
    "    'total_population_served'\n",
    ").reset_index()"
   ]
  },
  {
   "cell_type": "markdown",
   "id": "344c6f73-4f27-46dc-8231-ded9c6482b19",
   "metadata": {},
   "source": [
    "Now do it for the entire state"
   ]
  },
  {
   "cell_type": "code",
   "execution_count": 356,
   "id": "4dde5b0c-fd6f-4444-a69a-e5e1316185f5",
   "metadata": {},
   "outputs": [],
   "source": [
    "statewide_df = trim_df.groupby(\n",
    "    ['reporting_month']\n",
    ").apply(\n",
    "    regional_calcs,\n",
    "    \"calculated_total_potable_water_production_gallons_ag_excluded\",\n",
    "    'calculated_r_gpcd', \n",
    "    'total_population_served'\n",
    ").reset_index()"
   ]
  },
  {
   "cell_type": "code",
   "execution_count": 357,
   "id": "3b95df70-7a3d-4d7e-be72-3db7edbebaae",
   "metadata": {},
   "outputs": [],
   "source": [
    "# in case we need to recalculate r-gpcd, use this dict for days per month\n",
    "# days_per_month = {\n",
    "#     \"1\": 31,\n",
    "#     \"2\": 28,\n",
    "#     \"3\": 31,\n",
    "#     \"4\": 30,\n",
    "#     \"5\": 31,\n",
    "#     \"6\": 30,\n",
    "#     \"7\": 31,\n",
    "#     \"8\": 31,\n",
    "#     \"9\": 30,\n",
    "#     \"10\": 31,\n",
    "#     \"11\": 30,\n",
    "#     \"12\": 31\n",
    "# }"
   ]
  },
  {
   "cell_type": "markdown",
   "id": "a8fcea73-84a4-448f-9f20-330d7b185e9c",
   "metadata": {
    "tags": []
   },
   "source": [
    "### Backfill missing dates"
   ]
  },
  {
   "cell_type": "code",
   "execution_count": 358,
   "id": "e64c810c-03af-4f8c-8f9c-db59ca6fb586",
   "metadata": {},
   "outputs": [
    {
     "data": {
      "text/plain": [
       "Timestamp('2014-06-15 00:00:00')"
      ]
     },
     "execution_count": 358,
     "metadata": {},
     "output_type": "execute_result"
    }
   ],
   "source": [
    "min_date = trim_df.reporting_month.min()\n",
    "min_date"
   ]
  },
  {
   "cell_type": "code",
   "execution_count": 359,
   "id": "740c4b54-bce0-4abf-9f00-b070e755e246",
   "metadata": {},
   "outputs": [
    {
     "data": {
      "text/plain": [
       "Timestamp('2022-05-15 00:00:00')"
      ]
     },
     "execution_count": 359,
     "metadata": {},
     "output_type": "execute_result"
    }
   ],
   "source": [
    "max_date = trim_df.reporting_month.max()\n",
    "max_date"
   ]
  },
  {
   "cell_type": "code",
   "execution_count": 360,
   "id": "fb1e4aab-8d35-4e0e-8ec9-797d941846bc",
   "metadata": {},
   "outputs": [],
   "source": [
    "def backfill(agency_group):\n",
    "    \"\"\"\n",
    "    Backfills empty dates in the provided county group.\n",
    "\n",
    "    Runs from the earliest date in the group to the latest.\n",
    "\n",
    "    Filled in dates are given the previous day's case count with an `ffill` technique.\n",
    "\n",
    "    The expanded group is returned.\n",
    "    \"\"\"\n",
    "    agency_df = agency_group.sort_values([\"supplier_name\", \"reporting_month\"]).set_index(\n",
    "        [\"supplier_name\", \"reporting_month\"]\n",
    "    )\n",
    "\n",
    "    # Backfill the daterange\n",
    "    ## Get the full range of values from the extent of dates in the dataframe\n",
    "    date_range = pd.date_range(\n",
    "        min_date,\n",
    "        max_date,\n",
    "        freq=pd.DateOffset(months=1, day=15),\n",
    "    )\n",
    "    ## Get the full range of unique place names\n",
    "    name_range = agency_df.index.unique(level=\"supplier_name\")\n",
    "    ## Create a new index that has an entry for every place on every date\n",
    "    namedate_index = pd.MultiIndex.from_product(\n",
    "        iterables=[name_range, date_range], names=[\"supplier_name\", \"reporting_month\"]\n",
    "    )\n",
    "    ## Reindex the dataframe using that complete list of places and dates\n",
    "    backfilled_df = agency_df.reindex(namedate_index)\n",
    "\n",
    "    # Zero out missing data\n",
    "    backfilled_df.calculated_r_gpcd.fillna(0, inplace=True)\n",
    "    backfilled_df.calculated_total_potable_water_production_gallons_ag_excluded.fillna(0, inplace=True)\n",
    "\n",
    "    # Foward-fill the other remaining columns\n",
    "    backfilled_df = backfilled_df.groupby(\"supplier_name\").ffill()\n",
    "\n",
    "    # Reset it\n",
    "    reset_df = backfilled_df.reset_index()\n",
    "\n",
    "    # Return it\n",
    "    return reset_df"
   ]
  },
  {
   "cell_type": "code",
   "execution_count": null,
   "id": "8f6069fe-46c8-45df-a0a3-1c75544bdf51",
   "metadata": {},
   "outputs": [],
   "source": [
    "backfilled_df = (\n",
    "    trim_df.groupby(\"supplier_name\").apply(backfill).reset_index(drop=True)\n",
    ")"
   ]
  },
  {
   "cell_type": "markdown",
   "id": "4455cc8f-4ed8-42ae-ab20-fd1b6737c686",
   "metadata": {},
   "source": [
    "### Merge regional r-gpcd values to district df"
   ]
  },
  {
   "cell_type": "code",
   "execution_count": null,
   "id": "f91b7953-4566-4eaa-82d0-42942069fa85",
   "metadata": {},
   "outputs": [],
   "source": [
    "merge_regions_df = pd.merge(\n",
    "    backfilled_df, \n",
    "    region_df[[\"hydrologic_region\",\"reporting_month\",\"pop_weighted_rgpcd\"]], \n",
    "    how=\"left\", \n",
    "    on=[\"hydrologic_region\",\"reporting_month\"]\n",
    ")"
   ]
  },
  {
   "cell_type": "markdown",
   "id": "6f05400a-a942-4bf6-8a79-ef6236cda6c3",
   "metadata": {},
   "source": [
    "### Rename columns for clarity and brevity"
   ]
  },
  {
   "cell_type": "code",
   "execution_count": null,
   "id": "eb52cbc0-8cd2-4005-99a6-c60a730efd6c",
   "metadata": {},
   "outputs": [],
   "source": [
    "merge_regions_df.head()"
   ]
  },
  {
   "cell_type": "code",
   "execution_count": null,
   "id": "a7347354-69b3-4352-b8a3-06bbc7e2fd86",
   "metadata": {},
   "outputs": [],
   "source": [
    "rename_df = merge_regions_df.rename(columns={\n",
    "    \"public_water_system_id\": \"pwsid\",\n",
    "    \"total_population_served\": \"population\",\n",
    "    \"dwr_state_standard_level_corresponding_to_stage\": \"dwr_stage\",\n",
    "    \"calculated_total_potable_water_production_gallons_ag_excluded\": \"total_water_production\",\n",
    "    \"calculated_r_gpcd\": \"r_gpcd\",\n",
    "    \"pop_weighted_rgpcd\": \"regional_r_gpcd\"\n",
    "})"
   ]
  },
  {
   "cell_type": "markdown",
   "id": "aa4e6755-4aa0-4349-a371-ca068512caf9",
   "metadata": {},
   "source": [
    "### Chart"
   ]
  },
  {
   "cell_type": "code",
   "execution_count": null,
   "id": "f8ab2886-45b0-425b-ad77-cf32fc55b581",
   "metadata": {},
   "outputs": [],
   "source": [
    "melt = pd.melt(\n",
    "    rename_df, \n",
    "    id_vars=[\"display_name\",\"hydrologic_region\",\"reporting_month\"], \n",
    "    value_vars=[\"r_gpcd\",\"regional_r_gpcd\"]\n",
    ")"
   ]
  },
  {
   "cell_type": "code",
   "execution_count": null,
   "id": "58042a8b-1b8f-4e6a-9d09-c6bfe95f6dc9",
   "metadata": {},
   "outputs": [],
   "source": [
    "agency_name = \"City of Pismo Beach\"\n",
    "\n",
    "base = alt.Chart(\n",
    "    rename_df[\n",
    "        (rename_df.display_name == agency_name)\n",
    "    ].tail(12)\n",
    ").encode(\n",
    "    x=alt.X(\"yearmonth(reporting_month):O\"),\n",
    "    tooltip=[\"reporting_month\"]\n",
    ")\n",
    "\n",
    "bar = base.mark_bar(color=\"#83c6e0\").encode(\n",
    "    y=alt.Y(\"r_gpcd\", stack=None)\n",
    ")\n",
    "\n",
    "avg_line = base.mark_line(interpolate='step', color='#1281aa').encode(\n",
    "    y=alt.Y(\"regional_r_gpcd\")\n",
    ")\n",
    "\n",
    "goal_line = alt.Chart(pd.DataFrame({'y': [80]})).mark_rule(color=\"#b75a36\",strokeDash=[10,11]).encode(y='y')\n",
    "\n",
    "(bar + avg_line + goal_line).properties(title=f\"{agency_name} residential water usage compared to regional average\", width=600)"
   ]
  },
  {
   "cell_type": "markdown",
   "id": "0ba26fc7-525a-4a1d-b244-ab0d51de64c1",
   "metadata": {},
   "source": [
    "### Sort data"
   ]
  },
  {
   "cell_type": "code",
   "execution_count": null,
   "id": "b7891244-418d-460c-b03f-8723fdfdf60b",
   "metadata": {},
   "outputs": [],
   "source": [
    "sort_district_df = rename_df.sort_values([\"reporting_month\",\"supplier_name\"])"
   ]
  },
  {
   "cell_type": "code",
   "execution_count": null,
   "id": "e2528b46-80ad-4a8e-9906-4ec81bdfdb29",
   "metadata": {},
   "outputs": [],
   "source": [
    "sort_region_df = region_df.sort_values([\"reporting_month\",\"hydrologic_region\"])"
   ]
  },
  {
   "cell_type": "code",
   "execution_count": null,
   "id": "470088cc-862a-422b-9a64-40269a67cb50",
   "metadata": {},
   "outputs": [],
   "source": [
    "sort_state_df = statewide_df.sort_values([\"reporting_month\"])"
   ]
  },
  {
   "cell_type": "markdown",
   "id": "80577211-2977-4025-ae3e-3e166ded9cbb",
   "metadata": {},
   "source": [
    "### Filter dataframe to be a bit more manageable"
   ]
  },
  {
   "cell_type": "code",
   "execution_count": null,
   "id": "738e9911-f5cc-4f73-ab9d-c49792ee4109",
   "metadata": {},
   "outputs": [],
   "source": [
    "#filtered_district_df = sort_district_df[sort_district_df.reporting_month >= \"2021-01-15\"]"
   ]
  },
  {
   "cell_type": "code",
   "execution_count": null,
   "id": "1f5275ce-400d-48f6-8b72-ace7f07db5af",
   "metadata": {},
   "outputs": [],
   "source": [
    "last_twelve_months_df = sort_district_df.sort_values('reporting_month').groupby('pwsid').tail(12)"
   ]
  },
  {
   "cell_type": "code",
   "execution_count": null,
   "id": "5c94fd5f-daa3-4c03-94ac-4f81f0f92967",
   "metadata": {},
   "outputs": [],
   "source": [
    "latest_df = sort_district_df[\n",
    "    (sort_district_df.r_gpcd > 0)\n",
    "].sort_values('reporting_month').groupby('pwsid').tail(1)"
   ]
  },
  {
   "cell_type": "markdown",
   "id": "d3c9f03c-169e-4267-9c81-69ef4326c8de",
   "metadata": {},
   "source": [
    "### Export"
   ]
  },
  {
   "cell_type": "code",
   "execution_count": null,
   "id": "5bfd784b-cc8c-4c34-a887-4a69d0f87e5d",
   "metadata": {},
   "outputs": [],
   "source": [
    "last_twelve_months_df.to_csv(\"../data/processed/district-level-residential-use.csv\", index=False)"
   ]
  },
  {
   "cell_type": "code",
   "execution_count": null,
   "id": "611e9f73-98a9-4b68-9c5c-5d26fa499127",
   "metadata": {},
   "outputs": [],
   "source": [
    "latest_df.to_csv(\"../data/processed/latest-district-level-residential-use.csv\", index=False)"
   ]
  },
  {
   "cell_type": "code",
   "execution_count": null,
   "id": "57397d09-6f0d-4171-b658-6bb8ef49f758",
   "metadata": {},
   "outputs": [],
   "source": [
    "sort_region_df.to_csv(\"../data/processed/regional-residential-usage.csv\", index=False)"
   ]
  },
  {
   "cell_type": "code",
   "execution_count": null,
   "id": "a5b34a2c-74f8-45a2-a3cd-22e90deea336",
   "metadata": {},
   "outputs": [],
   "source": [
    "sort_region_df[\n",
    "    sort_region_df.reporting_month == sort_district_df.reporting_month.max()\n",
    "].to_csv(\"../data/processed/latest-regional-residential-use.csv\", index=False)"
   ]
  },
  {
   "cell_type": "code",
   "execution_count": null,
   "id": "fc2a1e72-ccd2-45a0-a068-48df279c6af8",
   "metadata": {},
   "outputs": [],
   "source": [
    "sort_state_df.to_csv(\"../data/processed/statewide-residential-usage.csv\", index=False)"
   ]
  },
  {
   "cell_type": "code",
   "execution_count": null,
   "id": "f006f28e-326f-4535-806b-c995e41459ab",
   "metadata": {},
   "outputs": [],
   "source": [
    "sort_state_df[\n",
    "    sort_state_df.reporting_month == sort_district_df.reporting_month.max()\n",
    "].to_csv(\"../data/processed/latest-statewide-level-residential-use.csv\", index=False)"
   ]
  }
 ],
 "metadata": {
  "kernelspec": {
   "display_name": "Python 3 (ipykernel)",
   "language": "python",
   "name": "python3"
  },
  "language_info": {
   "codemirror_mode": {
    "name": "ipython",
    "version": 3
   },
   "file_extension": ".py",
   "mimetype": "text/x-python",
   "name": "python",
   "nbconvert_exporter": "python",
   "pygments_lexer": "ipython3",
   "version": "3.9.6"
  }
 },
 "nbformat": 4,
 "nbformat_minor": 5
}
