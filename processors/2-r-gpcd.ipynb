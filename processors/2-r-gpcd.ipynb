{
 "cells": [
  {
   "cell_type": "code",
   "execution_count": 452,
   "id": "89e6bf97-56dc-449a-862e-426bda299ee5",
   "metadata": {},
   "outputs": [],
   "source": [
    "import pandas as pd\n",
    "import altair as alt\n",
    "import altair_latimes as lat"
   ]
  },
  {
   "cell_type": "code",
   "execution_count": 453,
   "id": "87ee398f-dd06-4471-90d8-74d2ad7f7a45",
   "metadata": {},
   "outputs": [
    {
     "data": {
      "text/plain": [
       "ThemeRegistry.enable('latimes')"
      ]
     },
     "execution_count": 453,
     "metadata": {},
     "output_type": "execute_result"
    }
   ],
   "source": [
    "alt.themes.register('latimes', lat.theme)\n",
    "alt.themes.enable('latimes')"
   ]
  },
  {
   "cell_type": "markdown",
   "id": "9965cc79-7807-43bb-af0e-6840e511ebeb",
   "metadata": {},
   "source": [
    "### Import"
   ]
  },
  {
   "cell_type": "markdown",
   "id": "f19c51b2-d04a-43cb-ac02-bb8267917aac",
   "metadata": {},
   "source": [
    "Monthly reports timeseries"
   ]
  },
  {
   "cell_type": "code",
   "execution_count": 454,
   "id": "c03b3f41-de7d-4d3f-8b89-1e114979b829",
   "metadata": {},
   "outputs": [],
   "source": [
    "df = pd.read_csv(\"../data/raw/uw-usage.csv\", parse_dates=[\"Reporting Month\"])"
   ]
  },
  {
   "cell_type": "code",
   "execution_count": 455,
   "id": "3f26c3dc-4e93-4a61-987e-5bdc63f7758d",
   "metadata": {},
   "outputs": [],
   "source": [
    "clean_names = pd.read_csv(\"../data/metadata/urban-water-suppliers-clean-names.csv\")"
   ]
  },
  {
   "cell_type": "markdown",
   "id": "5ee352c7-fbb1-4cdd-990f-575dcf1b4889",
   "metadata": {},
   "source": [
    "### Clean"
   ]
  },
  {
   "cell_type": "markdown",
   "id": "1a329783-20cc-4d4a-b71c-b2d4e9e984d5",
   "metadata": {},
   "source": [
    "Remove junk from column names"
   ]
  },
  {
   "cell_type": "code",
   "execution_count": 456,
   "id": "f1ed09d0-380d-4f9d-91ad-cdd52ea22fb9",
   "metadata": {},
   "outputs": [],
   "source": [
    "df.columns = df.columns.str.replace(\" \",\"_\").str.replace(\"-\",\"_\").str.replace(r'[#,@,&,(,)]', '', regex=True).str.lower()"
   ]
  },
  {
   "cell_type": "markdown",
   "id": "9b698ae0-bb21-406e-968c-3ccc8051b00b",
   "metadata": {},
   "source": [
    "Eliminate double spaces in supplier names"
   ]
  },
  {
   "cell_type": "code",
   "execution_count": 457,
   "id": "e9d8434b-11e4-4322-9f69-e8d20de3a2e1",
   "metadata": {},
   "outputs": [],
   "source": [
    "df.supplier_name = df.supplier_name.str.replace(\"  \", \" \")"
   ]
  },
  {
   "cell_type": "code",
   "execution_count": 458,
   "id": "e26e1ad6-9c92-4545-a5f0-8385173ed18e",
   "metadata": {},
   "outputs": [
    {
     "data": {
      "text/plain": [
       "35007792"
      ]
     },
     "execution_count": 458,
     "metadata": {},
     "output_type": "execute_result"
    }
   ],
   "source": [
    "df[\n",
    "    df.reporting_month == df.reporting_month.max()\n",
    "].total_population_served.sum()"
   ]
  },
  {
   "cell_type": "markdown",
   "id": "adcda64d-3e18-4fd7-b1a8-fa47eca21300",
   "metadata": {},
   "source": [
    "Trim this downn to just the columns we need"
   ]
  },
  {
   "cell_type": "markdown",
   "id": "b2bc306e-548b-47cf-9fcf-26b20a578872",
   "metadata": {},
   "source": [
    "### Merge clean names"
   ]
  },
  {
   "cell_type": "code",
   "execution_count": 459,
   "id": "5183df9a-100b-4132-9bec-90efc4a95f04",
   "metadata": {},
   "outputs": [],
   "source": [
    "merge_df = pd.merge(\n",
    "    df,\n",
    "    clean_names,\n",
    "    how=\"left\",\n",
    "    left_on=[\"public_water_system_id\" , \"supplier_name\"],\n",
    "    right_on=[\"id\" , \"supplier_name\"]\n",
    ")"
   ]
  },
  {
   "cell_type": "markdown",
   "id": "76f78a3d-d908-4daa-966e-181667fc5b1b",
   "metadata": {},
   "source": [
    "### Trim"
   ]
  },
  {
   "cell_type": "code",
   "execution_count": 460,
   "id": "255bd05a-9a48-44d8-b53a-c6123e56c1de",
   "metadata": {},
   "outputs": [],
   "source": [
    "keeps = [\n",
    "    'supplier_name', \n",
    "    'display_name',\n",
    "    'public_water_system_id', \n",
    "    'reporting_month', \n",
    "    'county',\n",
    "    'hydrologic_region', \n",
    "    'climate_zone', \n",
    "    'total_population_served',\n",
    "    ### MAYBE PILE\n",
    "        # 'county_under_drought_declaration',\n",
    "        # 'water_shortage_contingency_stage_invoked',\n",
    "        # 'water_shortage_level_indicator',\n",
    "        'dwr_state_standard_level_corresponding_to_stage',\n",
    "    ### NEED THIS IF YOU WANT TO RECALCULATE R-GPCD BY DISTRICT\n",
    "        # 'water_production_units',\n",
    "        # 'reported_preliminary_total_potable_water_production',\n",
    "        # 'reported_final_total_potable_water_production',\n",
    "        'preliminary_percent_residential_use', \n",
    "        'final_percent_residential_use',\n",
    "    ### THESE COLUMNS ARE OPTIONAL FOR SUPPLIERS TO FILL OUT\n",
    "        # 'reported_preliminary_commercial_agricultural_water',\n",
    "        # 'reported_final_commercial_agricultural_water',\n",
    "        # 'reported_preliminary_commercial,_industrial_and_institutional_water',\n",
    "        # 'reported_final_commercial_industrial_and_institutional_water',\n",
    "        # 'reported_recycled_water', \n",
    "        # 'reported_non_revenue_water',\n",
    "    'calculated_total_potable_water_production_gallons_ag_excluded',\n",
    "    # 'calculated_total_potable_water_production_gallons_2013_ag_excluded',\n",
    "    # 'calculated_commercial_agricultural_water_gallons',\n",
    "    # 'calculated_commercial_agricultural_water_gallons_2013',\n",
    "    'calculated_r_gpcd', \n",
    "    # 'qualification'\n",
    "]"
   ]
  },
  {
   "cell_type": "code",
   "execution_count": 461,
   "id": "b0a6705a-00fd-4b96-98a2-e4deba47e94e",
   "metadata": {},
   "outputs": [],
   "source": [
    "trim_df = merge_df[keeps]"
   ]
  },
  {
   "cell_type": "markdown",
   "id": "6fab0f67-bcd7-4d7a-96cf-892e42666973",
   "metadata": {},
   "source": [
    "### Calculate"
   ]
  },
  {
   "cell_type": "markdown",
   "id": "dfaa37cd-e45d-431f-a56b-5d8c0cff3c59",
   "metadata": {},
   "source": [
    "Calculate population-weighted r-gpcd for hydrologic regions"
   ]
  },
  {
   "cell_type": "code",
   "execution_count": 462,
   "id": "58616d3c-ddb6-4e7c-9d11-f677b9a06a01",
   "metadata": {},
   "outputs": [],
   "source": [
    "def regional_calcs(df, gals, rgpcd, pop):\n",
    "    val = df[rgpcd]\n",
    "    wt = df[pop]\n",
    "    wt_avg = (val * wt).sum() / wt.sum()\n",
    "    #return (val * wt).sum() / wt.sum()\n",
    "    total_gals = df[gals].sum()\n",
    "    total_pop = df[pop].sum()\n",
    "    return pd.Series([total_pop, total_gals, wt_avg], index=['total_pop', 'total_gallons', 'pop_weighted_rgpcd'])"
   ]
  },
  {
   "cell_type": "code",
   "execution_count": 463,
   "id": "9ef70670-21be-48cf-a310-fb4f32c9defd",
   "metadata": {},
   "outputs": [],
   "source": [
    "region_df = trim_df.groupby(\n",
    "    ['reporting_month','hydrologic_region']\n",
    ").apply(\n",
    "    regional_calcs,\n",
    "    \"calculated_total_potable_water_production_gallons_ag_excluded\",\n",
    "    'calculated_r_gpcd', \n",
    "    'total_population_served'\n",
    ").reset_index()"
   ]
  },
  {
   "cell_type": "markdown",
   "id": "344c6f73-4f27-46dc-8231-ded9c6482b19",
   "metadata": {},
   "source": [
    "Now do it for the entire state"
   ]
  },
  {
   "cell_type": "code",
   "execution_count": 464,
   "id": "4dde5b0c-fd6f-4444-a69a-e5e1316185f5",
   "metadata": {},
   "outputs": [],
   "source": [
    "statewide_df = trim_df.groupby(\n",
    "    ['reporting_month']\n",
    ").apply(\n",
    "    regional_calcs,\n",
    "    \"calculated_total_potable_water_production_gallons_ag_excluded\",\n",
    "    'calculated_r_gpcd', \n",
    "    'total_population_served'\n",
    ").reset_index()"
   ]
  },
  {
   "cell_type": "code",
   "execution_count": 465,
   "id": "3b95df70-7a3d-4d7e-be72-3db7edbebaae",
   "metadata": {},
   "outputs": [],
   "source": [
    "# in case we need to recalculate r-gpcd, use this dict for days per month\n",
    "# days_per_month = {\n",
    "#     \"1\": 31,\n",
    "#     \"2\": 28,\n",
    "#     \"3\": 31,\n",
    "#     \"4\": 30,\n",
    "#     \"5\": 31,\n",
    "#     \"6\": 30,\n",
    "#     \"7\": 31,\n",
    "#     \"8\": 31,\n",
    "#     \"9\": 30,\n",
    "#     \"10\": 31,\n",
    "#     \"11\": 30,\n",
    "#     \"12\": 31\n",
    "# }"
   ]
  },
  {
   "cell_type": "markdown",
   "id": "4455cc8f-4ed8-42ae-ab20-fd1b6737c686",
   "metadata": {},
   "source": [
    "### Merge regional r-gpcd values to district df"
   ]
  },
  {
   "cell_type": "code",
   "execution_count": 466,
   "id": "f91b7953-4566-4eaa-82d0-42942069fa85",
   "metadata": {},
   "outputs": [],
   "source": [
    "merge_df = pd.merge(\n",
    "    trim_df, \n",
    "    region_df[[\"hydrologic_region\",\"reporting_month\",\"pop_weighted_rgpcd\"]], \n",
    "    how=\"left\", \n",
    "    on=[\"hydrologic_region\",\"reporting_month\"]\n",
    ")"
   ]
  },
  {
   "cell_type": "markdown",
   "id": "6f05400a-a942-4bf6-8a79-ef6236cda6c3",
   "metadata": {},
   "source": [
    "### Rename r-gpcd columns for clarity"
   ]
  },
  {
   "cell_type": "code",
   "execution_count": 467,
   "id": "a7347354-69b3-4352-b8a3-06bbc7e2fd86",
   "metadata": {},
   "outputs": [],
   "source": [
    "rename_df = merge_df.rename(columns={\n",
    "    \"calculated_r_gpcd\": \"r_gpcd\",\n",
    "    \"pop_weighted_rgpcd\": \"regional_r_gpcd\"\n",
    "})"
   ]
  },
  {
   "cell_type": "markdown",
   "id": "aa4e6755-4aa0-4349-a371-ca068512caf9",
   "metadata": {},
   "source": [
    "### Chart"
   ]
  },
  {
   "cell_type": "code",
   "execution_count": 468,
   "id": "f8ab2886-45b0-425b-ad77-cf32fc55b581",
   "metadata": {},
   "outputs": [],
   "source": [
    "melt = pd.melt(\n",
    "    rename_df, \n",
    "    id_vars=[\"supplier_name\",\"hydrologic_region\",\"reporting_month\"], \n",
    "    value_vars=[\"r_gpcd\",\"regional_r_gpcd\"]\n",
    ")"
   ]
  },
  {
   "cell_type": "code",
   "execution_count": 469,
   "id": "58042a8b-1b8f-4e6a-9d09-c6bfe95f6dc9",
   "metadata": {},
   "outputs": [
    {
     "data": {
      "text/html": [
       "\n",
       "<div id=\"altair-viz-846958744e8e4dc48177f0571042e444\"></div>\n",
       "<script type=\"text/javascript\">\n",
       "  var VEGA_DEBUG = (typeof VEGA_DEBUG == \"undefined\") ? {} : VEGA_DEBUG;\n",
       "  (function(spec, embedOpt){\n",
       "    let outputDiv = document.currentScript.previousElementSibling;\n",
       "    if (outputDiv.id !== \"altair-viz-846958744e8e4dc48177f0571042e444\") {\n",
       "      outputDiv = document.getElementById(\"altair-viz-846958744e8e4dc48177f0571042e444\");\n",
       "    }\n",
       "    const paths = {\n",
       "      \"vega\": \"https://cdn.jsdelivr.net/npm//vega@5?noext\",\n",
       "      \"vega-lib\": \"https://cdn.jsdelivr.net/npm//vega-lib?noext\",\n",
       "      \"vega-lite\": \"https://cdn.jsdelivr.net/npm//vega-lite@4.17.0?noext\",\n",
       "      \"vega-embed\": \"https://cdn.jsdelivr.net/npm//vega-embed@6?noext\",\n",
       "    };\n",
       "\n",
       "    function maybeLoadScript(lib, version) {\n",
       "      var key = `${lib.replace(\"-\", \"\")}_version`;\n",
       "      return (VEGA_DEBUG[key] == version) ?\n",
       "        Promise.resolve(paths[lib]) :\n",
       "        new Promise(function(resolve, reject) {\n",
       "          var s = document.createElement('script');\n",
       "          document.getElementsByTagName(\"head\")[0].appendChild(s);\n",
       "          s.async = true;\n",
       "          s.onload = () => {\n",
       "            VEGA_DEBUG[key] = version;\n",
       "            return resolve(paths[lib]);\n",
       "          };\n",
       "          s.onerror = () => reject(`Error loading script: ${paths[lib]}`);\n",
       "          s.src = paths[lib];\n",
       "        });\n",
       "    }\n",
       "\n",
       "    function showError(err) {\n",
       "      outputDiv.innerHTML = `<div class=\"error\" style=\"color:red;\">${err}</div>`;\n",
       "      throw err;\n",
       "    }\n",
       "\n",
       "    function displayChart(vegaEmbed) {\n",
       "      vegaEmbed(outputDiv, spec, embedOpt)\n",
       "        .catch(err => showError(`Javascript Error: ${err.message}<br>This usually means there's a typo in your chart specification. See the javascript console for the full traceback.`));\n",
       "    }\n",
       "\n",
       "    if(typeof define === \"function\" && define.amd) {\n",
       "      requirejs.config({paths});\n",
       "      require([\"vega-embed\"], displayChart, err => showError(`Error loading script: ${err.message}`));\n",
       "    } else {\n",
       "      maybeLoadScript(\"vega\", \"5\")\n",
       "        .then(() => maybeLoadScript(\"vega-lite\", \"4.17.0\"))\n",
       "        .then(() => maybeLoadScript(\"vega-embed\", \"6\"))\n",
       "        .catch(showError)\n",
       "        .then(() => displayChart(vegaEmbed));\n",
       "    }\n",
       "  })({\"config\": {\"view\": {\"width\": 800, \"height\": 450}, \"background\": \"#ffffff\", \"title\": {\"anchor\": \"start\", \"font\": \"BentonGothic-Bold, sans\", \"fontColor\": \"#000000\", \"fontSize\": 22, \"fontWeight\": \"normal\"}, \"arc\": {\"fill\": \"#82c6df\"}, \"area\": {\"fill\": \"#82c6df\"}, \"line\": {\"stroke\": \"#82c6df\", \"strokeWidth\": 3}, \"path\": {\"stroke\": \"#82c6df\"}, \"rect\": {\"fill\": \"#82c6df\"}, \"shape\": {\"stroke\": \"#82c6df\"}, \"bar\": {\"fill\": \"#82c6df\"}, \"point\": {\"stroke\": \"#82c6df\"}, \"symbol\": {\"fill\": \"#82c6df\", \"size\": 30}, \"axis\": {\"titleFont\": \"BentonGothic-Bold, sans\", \"titleFontSize\": 14, \"titleFontWeight\": \"normal\", \"labelFont\": \"BentonGothic, sans\", \"labelFontSize\": 12, \"labelFontWeight\": \"normal\"}, \"axisX\": {\"labelAngle\": 0, \"labelPadding\": 4, \"tickSize\": 3}, \"axisY\": {\"labelBaseline\": \"middle\", \"maxExtent\": 45, \"minExtent\": 45, \"tickSize\": 2, \"titleAlign\": \"left\", \"titleAngle\": 0, \"titleX\": -45, \"titleY\": -11}, \"legend\": {\"titleFont\": \"BentonGothic-Bold, sans\", \"titleFontSize\": 14, \"titleFontWeight\": \"normal\", \"symbolType\": \"square\", \"labelFont\": \"BentonGothic, sans\", \"labelFontSize\": 13}, \"range\": {\"category\": [\"#3580b1\", \"#ec8431\", \"#ab7fb4\", \"#c89d29\", \"#adc839\", \"#829eb1\"], \"diverging\": [\"#e68a4f\", \"#f4bb6a\", \"#f9e39c\", \"#dadfe2\", \"#a6b7c6\", \"#849eae\"], \"heatmap\": [\"#fbf2c7\", \"#f9e39c\", \"#f8d36e\", \"#f4bb6a\", \"#e68a4f\", \"#d15a40\", \"#ab4232\"], \"ordinal\": [\"#fbf2c7\", \"#f9e39c\", \"#f8d36e\", \"#f4bb6a\", \"#e68a4f\", \"#d15a40\", \"#ab4232\"], \"ramp\": [\"#fbf2c7\", \"#f9e39c\", \"#f8d36e\", \"#f4bb6a\", \"#e68a4f\", \"#d15a40\", \"#ab4232\"]}}, \"layer\": [{\"mark\": {\"type\": \"bar\", \"color\": \"#83c6e0\"}, \"encoding\": {\"x\": {\"field\": \"reporting_month\", \"timeUnit\": \"yearmonth\", \"type\": \"ordinal\"}, \"y\": {\"field\": \"r_gpcd\", \"stack\": null, \"type\": \"quantitative\"}}}, {\"mark\": {\"type\": \"line\", \"color\": \"#1281aa\", \"interpolate\": \"step\"}, \"encoding\": {\"x\": {\"field\": \"reporting_month\", \"timeUnit\": \"yearmonth\", \"type\": \"ordinal\"}, \"y\": {\"field\": \"regional_r_gpcd\", \"type\": \"quantitative\"}}}, {\"data\": {\"name\": \"data-fbbb9ee2363bf5756f5e77cb136e052e\"}, \"mark\": {\"type\": \"rule\", \"color\": \"#b75a36\", \"strokeDash\": [10, 11]}, \"encoding\": {\"y\": {\"field\": \"y\", \"type\": \"quantitative\"}}}], \"data\": {\"name\": \"data-b682e973f3255f75b2bb7d2668453838\"}, \"title\": \"LADWP residential water usage compared to regional average\", \"width\": 600, \"$schema\": \"https://vega.github.io/schema/vega-lite/v4.17.0.json\", \"datasets\": {\"data-b682e973f3255f75b2bb7d2668453838\": [{\"supplier_name\": \"Los Angeles Department of Water and Power\", \"display_name\": \"Los Angeles Department of Water and Power\", \"public_water_system_id\": \"CA1910067\", \"reporting_month\": \"2022-04-15T00:00:00\", \"county\": \"Los Angeles\", \"hydrologic_region\": \"South Coast\", \"climate_zone\": 9, \"total_population_served\": 3906036, \"dwr_state_standard_level_corresponding_to_stage\": 2.0, \"preliminary_percent_residential_use\": 59.52, \"final_percent_residential_use\": null, \"calculated_total_potable_water_production_gallons_ag_excluded\": 13366733871.0, \"r_gpcd\": 67.894, \"regional_r_gpcd\": 79.00165184695136}, {\"supplier_name\": \"Los Angeles Department of Water and Power\", \"display_name\": \"Los Angeles Department of Water and Power\", \"public_water_system_id\": \"CA1910067\", \"reporting_month\": \"2022-03-15T00:00:00\", \"county\": \"Los Angeles\", \"hydrologic_region\": \"South Coast\", \"climate_zone\": 9, \"total_population_served\": 3909230, \"dwr_state_standard_level_corresponding_to_stage\": 2.0, \"preliminary_percent_residential_use\": 59.47, \"final_percent_residential_use\": null, \"calculated_total_potable_water_production_gallons_ag_excluded\": 13088782968.0, \"r_gpcd\": 64.231, \"regional_r_gpcd\": 76.63219163069733}, {\"supplier_name\": \"Los Angeles Department of Water and Power\", \"display_name\": \"Los Angeles Department of Water and Power\", \"public_water_system_id\": \"CA1910067\", \"reporting_month\": \"2022-02-15T00:00:00\", \"county\": \"Los Angeles\", \"hydrologic_region\": \"South Coast\", \"climate_zone\": 9, \"total_population_served\": 3912423, \"dwr_state_standard_level_corresponding_to_stage\": null, \"preliminary_percent_residential_use\": 64.67, \"final_percent_residential_use\": null, \"calculated_total_potable_water_production_gallons_ag_excluded\": 11377413516.0, \"r_gpcd\": 67.165, \"regional_r_gpcd\": 76.57288192381321}, {\"supplier_name\": \"Los Angeles Department of Water and Power\", \"display_name\": \"Los Angeles Department of Water and Power\", \"public_water_system_id\": \"CA1910067\", \"reporting_month\": \"2022-01-15T00:00:00\", \"county\": \"Los Angeles\", \"hydrologic_region\": \"South Coast\", \"climate_zone\": 9, \"total_population_served\": 3915617, \"dwr_state_standard_level_corresponding_to_stage\": null, \"preliminary_percent_residential_use\": 72.21, \"final_percent_residential_use\": null, \"calculated_total_potable_water_production_gallons_ag_excluded\": 11392076811.0, \"r_gpcd\": 67.7702, \"regional_r_gpcd\": 68.29302187996484}, {\"supplier_name\": \"Los Angeles Department of Water and Power\", \"display_name\": \"Los Angeles Department of Water and Power\", \"public_water_system_id\": \"CA1910067\", \"reporting_month\": \"2021-12-15T00:00:00\", \"county\": \"Los Angeles\", \"hydrologic_region\": \"South Coast\", \"climate_zone\": 9, \"total_population_served\": 3918811, \"dwr_state_standard_level_corresponding_to_stage\": null, \"preliminary_percent_residential_use\": 76.33, \"final_percent_residential_use\": null, \"calculated_total_potable_water_production_gallons_ag_excluded\": 11209600251.0, \"r_gpcd\": 70.432, \"regional_r_gpcd\": 68.31109682537887}, {\"supplier_name\": \"Los Angeles Department of Water and Power\", \"display_name\": \"Los Angeles Department of Water and Power\", \"public_water_system_id\": \"CA1910067\", \"reporting_month\": \"2021-11-15T00:00:00\", \"county\": \"Los Angeles\", \"hydrologic_region\": \"South Coast\", \"climate_zone\": 9, \"total_population_served\": 3922004, \"dwr_state_standard_level_corresponding_to_stage\": null, \"preliminary_percent_residential_use\": 68.37, \"final_percent_residential_use\": null, \"calculated_total_potable_water_production_gallons_ag_excluded\": 12894575772.0, \"r_gpcd\": 74.928, \"regional_r_gpcd\": 83.26417258574983}, {\"supplier_name\": \"Los Angeles Department of Water and Power\", \"display_name\": \"Los Angeles Department of Water and Power\", \"public_water_system_id\": \"CA1910067\", \"reporting_month\": \"2021-10-15T00:00:00\", \"county\": \"Los Angeles\", \"hydrologic_region\": \"South Coast\", \"climate_zone\": 9, \"total_population_served\": 3925198, \"dwr_state_standard_level_corresponding_to_stage\": null, \"preliminary_percent_residential_use\": 69.88, \"final_percent_residential_use\": null, \"calculated_total_potable_water_production_gallons_ag_excluded\": 13771766664.0, \"r_gpcd\": 79.0897, \"regional_r_gpcd\": 85.61745537203159}, {\"supplier_name\": \"Los Angeles Department of Water and Power\", \"display_name\": \"Los Angeles Department of Water and Power\", \"public_water_system_id\": \"CA1910067\", \"reporting_month\": \"2021-09-15T00:00:00\", \"county\": \"Los Angeles\", \"hydrologic_region\": \"South Coast\", \"climate_zone\": 9, \"total_population_served\": 3928392, \"dwr_state_standard_level_corresponding_to_stage\": null, \"preliminary_percent_residential_use\": 70.85, \"final_percent_residential_use\": null, \"calculated_total_potable_water_production_gallons_ag_excluded\": 14653193619.0, \"r_gpcd\": 88.092, \"regional_r_gpcd\": 100.76038704984848}, {\"supplier_name\": \"Los Angeles Department of Water and Power\", \"display_name\": \"Los Angeles Department of Water and Power\", \"public_water_system_id\": \"CA1910067\", \"reporting_month\": \"2021-08-15T00:00:00\", \"county\": \"Los Angeles\", \"hydrologic_region\": \"South Coast\", \"climate_zone\": 9, \"total_population_served\": 3931585, \"dwr_state_standard_level_corresponding_to_stage\": null, \"preliminary_percent_residential_use\": 64.33, \"final_percent_residential_use\": null, \"calculated_total_potable_water_production_gallons_ag_excluded\": 15610869708.0, \"r_gpcd\": 82.3971, \"regional_r_gpcd\": 103.03822900043632}, {\"supplier_name\": \"Los Angeles Department of Water and Power\", \"display_name\": \"Los Angeles Department of Water and Power\", \"public_water_system_id\": \"CA1910067\", \"reporting_month\": \"2021-07-15T00:00:00\", \"county\": \"Los Angeles\", \"hydrologic_region\": \"South Coast\", \"climate_zone\": 9, \"total_population_served\": 3934779, \"dwr_state_standard_level_corresponding_to_stage\": null, \"preliminary_percent_residential_use\": 62.3, \"final_percent_residential_use\": null, \"calculated_total_potable_water_production_gallons_ag_excluded\": 15351818163.0, \"r_gpcd\": 78.4091, \"regional_r_gpcd\": 102.97091306589765}, {\"supplier_name\": \"Los Angeles Department of Water and Power\", \"display_name\": \"Los Angeles Department of Water and Power\", \"public_water_system_id\": \"CA1910067\", \"reporting_month\": \"2021-06-15T00:00:00\", \"county\": \"Los Angeles\", \"hydrologic_region\": \"South Coast\", \"climate_zone\": 9, \"total_population_served\": 4026634, \"dwr_state_standard_level_corresponding_to_stage\": null, \"preliminary_percent_residential_use\": 63.62, \"final_percent_residential_use\": null, \"calculated_total_potable_water_production_gallons_ag_excluded\": 14564887998.0, \"r_gpcd\": 76.7075, \"regional_r_gpcd\": 99.85117716579798}, {\"supplier_name\": \"Los Angeles Department of Water and Power\", \"display_name\": \"Los Angeles Department of Water and Power\", \"public_water_system_id\": \"CA1910067\", \"reporting_month\": \"2021-05-15T00:00:00\", \"county\": \"Los Angeles\", \"hydrologic_region\": \"South Coast\", \"climate_zone\": 9, \"total_population_served\": 4027496, \"dwr_state_standard_level_corresponding_to_stage\": null, \"preliminary_percent_residential_use\": 62.27, \"final_percent_residential_use\": null, \"calculated_total_potable_water_production_gallons_ag_excluded\": 14234475084.0, \"r_gpcd\": 70.9944, \"regional_r_gpcd\": 90.29538837369762}, {\"supplier_name\": \"Los Angeles Department of Water and Power\", \"display_name\": \"Los Angeles Department of Water and Power\", \"public_water_system_id\": \"CA1910067\", \"reporting_month\": \"2021-04-15T00:00:00\", \"county\": \"Los Angeles\", \"hydrologic_region\": \"South Coast\", \"climate_zone\": 9, \"total_population_served\": 4028358, \"dwr_state_standard_level_corresponding_to_stage\": null, \"preliminary_percent_residential_use\": 58.04, \"final_percent_residential_use\": null, \"calculated_total_potable_water_production_gallons_ag_excluded\": 13278754101.0, \"r_gpcd\": 63.7729, \"regional_r_gpcd\": 84.56646453082823}, {\"supplier_name\": \"Los Angeles Department of Water and Power\", \"display_name\": \"Los Angeles Department of Water and Power\", \"public_water_system_id\": \"CA1910067\", \"reporting_month\": \"2021-03-15T00:00:00\", \"county\": \"Los Angeles\", \"hydrologic_region\": \"South Coast\", \"climate_zone\": 9, \"total_population_served\": 4029220, \"dwr_state_standard_level_corresponding_to_stage\": null, \"preliminary_percent_residential_use\": 67.8, \"final_percent_residential_use\": null, \"calculated_total_potable_water_production_gallons_ag_excluded\": 12098521779.0, \"r_gpcd\": 65.6719, \"regional_r_gpcd\": 71.98534494699754}, {\"supplier_name\": \"Los Angeles Department of Water and Power\", \"display_name\": \"Los Angeles Department of Water and Power\", \"public_water_system_id\": \"CA1910067\", \"reporting_month\": \"2021-02-15T00:00:00\", \"county\": \"Los Angeles\", \"hydrologic_region\": \"South Coast\", \"climate_zone\": 9, \"total_population_served\": 4030081, \"dwr_state_standard_level_corresponding_to_stage\": null, \"preliminary_percent_residential_use\": 73.89, \"final_percent_residential_use\": null, \"calculated_total_potable_water_production_gallons_ag_excluded\": 10666406634.0, \"r_gpcd\": 69.8446, \"regional_r_gpcd\": 72.98209532103596}, {\"supplier_name\": \"Los Angeles Department of Water and Power\", \"display_name\": \"Los Angeles Department of Water and Power\", \"public_water_system_id\": \"CA1910067\", \"reporting_month\": \"2021-01-15T00:00:00\", \"county\": \"Los Angeles\", \"hydrologic_region\": \"South Coast\", \"climate_zone\": 9, \"total_population_served\": 4030943, \"dwr_state_standard_level_corresponding_to_stage\": null, \"preliminary_percent_residential_use\": 75.33, \"final_percent_residential_use\": null, \"calculated_total_potable_water_production_gallons_ag_excluded\": 11696747496.0, \"r_gpcd\": 70.5124, \"regional_r_gpcd\": 72.24445023594991}, {\"supplier_name\": \"Los Angeles Department of Water and Power\", \"display_name\": \"Los Angeles Department of Water and Power\", \"public_water_system_id\": \"CA1910067\", \"reporting_month\": \"2020-12-15T00:00:00\", \"county\": \"Los Angeles\", \"hydrologic_region\": \"South Coast\", \"climate_zone\": 9, \"total_population_served\": 4031805, \"dwr_state_standard_level_corresponding_to_stage\": null, \"preliminary_percent_residential_use\": 73.86, \"final_percent_residential_use\": null, \"calculated_total_potable_water_production_gallons_ag_excluded\": 12717964530.0, \"r_gpcd\": 75.1565, \"regional_r_gpcd\": 82.34262388423858}, {\"supplier_name\": \"Los Angeles Department of Water and Power\", \"display_name\": \"Los Angeles Department of Water and Power\", \"public_water_system_id\": \"CA1910067\", \"reporting_month\": \"2020-11-15T00:00:00\", \"county\": \"Los Angeles\", \"hydrologic_region\": \"South Coast\", \"climate_zone\": 9, \"total_population_served\": 4032667, \"dwr_state_standard_level_corresponding_to_stage\": null, \"preliminary_percent_residential_use\": 77.03, \"final_percent_residential_use\": null, \"calculated_total_potable_water_production_gallons_ag_excluded\": 13125604131.0, \"r_gpcd\": 83.573, \"regional_r_gpcd\": 85.69845285386188}, {\"supplier_name\": \"Los Angeles Department of Water and Power\", \"display_name\": \"Los Angeles Department of Water and Power\", \"public_water_system_id\": \"CA1910067\", \"reporting_month\": \"2020-10-15T00:00:00\", \"county\": \"Los Angeles\", \"hydrologic_region\": \"South Coast\", \"climate_zone\": 9, \"total_population_served\": 4033528, \"dwr_state_standard_level_corresponding_to_stage\": null, \"preliminary_percent_residential_use\": 70.65, \"final_percent_residential_use\": null, \"calculated_total_potable_water_production_gallons_ag_excluded\": 14749645515.0, \"r_gpcd\": 83.3389, \"regional_r_gpcd\": 97.30985975279205}, {\"supplier_name\": \"Los Angeles Department of Water and Power\", \"display_name\": \"Los Angeles Department of Water and Power\", \"public_water_system_id\": \"CA1910067\", \"reporting_month\": \"2020-09-15T00:00:00\", \"county\": \"Los Angeles\", \"hydrologic_region\": \"South Coast\", \"climate_zone\": 9, \"total_population_served\": 4034390, \"dwr_state_standard_level_corresponding_to_stage\": null, \"preliminary_percent_residential_use\": 69.44, \"final_percent_residential_use\": null, \"calculated_total_potable_water_production_gallons_ag_excluded\": 14951021433.0, \"r_gpcd\": 85.7792, \"regional_r_gpcd\": 105.18229165555596}, {\"supplier_name\": \"Los Angeles Department of Water and Power\", \"display_name\": \"Los Angeles Department of Water and Power\", \"public_water_system_id\": \"CA1910067\", \"reporting_month\": \"2020-08-15T00:00:00\", \"county\": \"Los Angeles\", \"hydrologic_region\": \"South Coast\", \"climate_zone\": 9, \"total_population_served\": 4035252, \"dwr_state_standard_level_corresponding_to_stage\": null, \"preliminary_percent_residential_use\": null, \"final_percent_residential_use\": 69.0, \"calculated_total_potable_water_production_gallons_ag_excluded\": 15705366498.0, \"r_gpcd\": 86.6294, \"regional_r_gpcd\": 107.21088154092104}, {\"supplier_name\": \"Los Angeles Department of Water and Power\", \"display_name\": \"Los Angeles Department of Water and Power\", \"public_water_system_id\": \"CA1910067\", \"reporting_month\": \"2020-07-15T00:00:00\", \"county\": \"Los Angeles\", \"hydrologic_region\": \"South Coast\", \"climate_zone\": 9, \"total_population_served\": 4000414, \"dwr_state_standard_level_corresponding_to_stage\": null, \"preliminary_percent_residential_use\": null, \"final_percent_residential_use\": 63.0, \"calculated_total_potable_water_production_gallons_ag_excluded\": 15248523396.0, \"r_gpcd\": 77.4644, \"regional_r_gpcd\": 103.28399023395123}, {\"supplier_name\": \"Los Angeles Department of Water and Power\", \"display_name\": \"Los Angeles Department of Water and Power\", \"public_water_system_id\": \"CA1910067\", \"reporting_month\": \"2020-06-15T00:00:00\", \"county\": \"Los Angeles\", \"hydrologic_region\": \"South Coast\", \"climate_zone\": 9, \"total_population_served\": 4089966, \"dwr_state_standard_level_corresponding_to_stage\": null, \"preliminary_percent_residential_use\": null, \"final_percent_residential_use\": 64.0, \"calculated_total_potable_water_production_gallons_ag_excluded\": 14122056489.0, \"r_gpcd\": 73.661, \"regional_r_gpcd\": 98.3778421513394}, {\"supplier_name\": \"Los Angeles Department of Water and Power\", \"display_name\": \"Los Angeles Department of Water and Power\", \"public_water_system_id\": \"CA1910067\", \"reporting_month\": \"2020-05-15T00:00:00\", \"county\": \"Los Angeles\", \"hydrologic_region\": \"South Coast\", \"climate_zone\": 9, \"total_population_served\": 4088831, \"dwr_state_standard_level_corresponding_to_stage\": null, \"preliminary_percent_residential_use\": null, \"final_percent_residential_use\": 58.0, \"calculated_total_potable_water_production_gallons_ag_excluded\": 13683461043.0, \"r_gpcd\": 62.6129, \"regional_r_gpcd\": 87.94126148728074}, {\"supplier_name\": \"Los Angeles Department of Water and Power\", \"display_name\": \"Los Angeles Department of Water and Power\", \"public_water_system_id\": \"CA1910067\", \"reporting_month\": \"2020-04-15T00:00:00\", \"county\": \"Los Angeles\", \"hydrologic_region\": \"South Coast\", \"climate_zone\": 9, \"total_population_served\": 4087697, \"dwr_state_standard_level_corresponding_to_stage\": null, \"preliminary_percent_residential_use\": null, \"final_percent_residential_use\": 67.0, \"calculated_total_potable_water_production_gallons_ag_excluded\": 10929042540.0, \"r_gpcd\": 59.7114, \"regional_r_gpcd\": 67.58466753263478}, {\"supplier_name\": \"Los Angeles Department of Water and Power\", \"display_name\": \"Los Angeles Department of Water and Power\", \"public_water_system_id\": \"CA1910067\", \"reporting_month\": \"2020-03-15T00:00:00\", \"county\": \"Los Angeles\", \"hydrologic_region\": \"South Coast\", \"climate_zone\": 9, \"total_population_served\": 4086562, \"dwr_state_standard_level_corresponding_to_stage\": null, \"preliminary_percent_residential_use\": null, \"final_percent_residential_use\": 72.0, \"calculated_total_potable_water_production_gallons_ag_excluded\": 10716587688.0, \"r_gpcd\": 60.9074, \"regional_r_gpcd\": 63.270359540356246}, {\"supplier_name\": \"Los Angeles Department of Water and Power\", \"display_name\": \"Los Angeles Department of Water and Power\", \"public_water_system_id\": \"CA1910067\", \"reporting_month\": \"2020-02-15T00:00:00\", \"county\": \"Los Angeles\", \"hydrologic_region\": \"South Coast\", \"climate_zone\": 9, \"total_population_served\": 4085428, \"dwr_state_standard_level_corresponding_to_stage\": null, \"preliminary_percent_residential_use\": null, \"final_percent_residential_use\": 64.0, \"calculated_total_potable_water_production_gallons_ag_excluded\": 11483966793.0, \"r_gpcd\": 62.035, \"regional_r_gpcd\": 73.01701086290554}, {\"supplier_name\": \"Los Angeles Department of Water and Power\", \"display_name\": \"Los Angeles Department of Water and Power\", \"public_water_system_id\": \"CA1910067\", \"reporting_month\": \"2020-01-15T00:00:00\", \"county\": \"Los Angeles\", \"hydrologic_region\": \"South Coast\", \"climate_zone\": 9, \"total_population_served\": 4084293, \"dwr_state_standard_level_corresponding_to_stage\": null, \"preliminary_percent_residential_use\": null, \"final_percent_residential_use\": 72.0, \"calculated_total_potable_water_production_gallons_ag_excluded\": 11076327192.0, \"r_gpcd\": 62.9869, \"regional_r_gpcd\": 67.20985103057048}, {\"supplier_name\": \"Los Angeles Department of Water and Power\", \"display_name\": \"Los Angeles Department of Water and Power\", \"public_water_system_id\": \"CA1910067\", \"reporting_month\": \"2019-12-15T00:00:00\", \"county\": \"Los Angeles\", \"hydrologic_region\": \"South Coast\", \"climate_zone\": 9, \"total_population_served\": 4083159, \"dwr_state_standard_level_corresponding_to_stage\": null, \"preliminary_percent_residential_use\": null, \"final_percent_residential_use\": 71.0, \"calculated_total_potable_water_production_gallons_ag_excluded\": 10600258881.0, \"r_gpcd\": 59.459, \"regional_r_gpcd\": 60.735381152660004}, {\"supplier_name\": \"Los Angeles Department of Water and Power\", \"display_name\": \"Los Angeles Department of Water and Power\", \"public_water_system_id\": \"CA1910067\", \"reporting_month\": \"2019-11-15T00:00:00\", \"county\": \"Los Angeles\", \"hydrologic_region\": \"South Coast\", \"climate_zone\": 9, \"total_population_served\": 4082024, \"dwr_state_standard_level_corresponding_to_stage\": null, \"preliminary_percent_residential_use\": null, \"final_percent_residential_use\": 71.0, \"calculated_total_potable_water_production_gallons_ag_excluded\": 12787370793.0, \"r_gpcd\": 74.1384, \"regional_r_gpcd\": 81.1308867977751}, {\"supplier_name\": \"Los Angeles Department of Water and Power\", \"display_name\": \"Los Angeles Department of Water and Power\", \"public_water_system_id\": \"CA1910067\", \"reporting_month\": \"2019-10-15T00:00:00\", \"county\": \"Los Angeles\", \"hydrologic_region\": \"South Coast\", \"climate_zone\": 9, \"total_population_served\": 4080890, \"dwr_state_standard_level_corresponding_to_stage\": null, \"preliminary_percent_residential_use\": null, \"final_percent_residential_use\": 71.0, \"calculated_total_potable_water_production_gallons_ag_excluded\": 14709891693.0, \"r_gpcd\": 82.5566, \"regional_r_gpcd\": 93.63621802146358}, {\"supplier_name\": \"Los Angeles Department of Water and Power\", \"display_name\": \"Los Angeles Department of Water and Power\", \"public_water_system_id\": \"CA1910067\", \"reporting_month\": \"2019-09-15T00:00:00\", \"county\": \"Los Angeles\", \"hydrologic_region\": \"South Coast\", \"climate_zone\": 9, \"total_population_served\": 4079755, \"dwr_state_standard_level_corresponding_to_stage\": null, \"preliminary_percent_residential_use\": null, \"final_percent_residential_use\": 70.0, \"calculated_total_potable_water_production_gallons_ag_excluded\": 14728465200.0, \"r_gpcd\": 84.2366, \"regional_r_gpcd\": 98.48379053371326}, {\"supplier_name\": \"Los Angeles Department of Water and Power\", \"display_name\": \"Los Angeles Department of Water and Power\", \"public_water_system_id\": \"CA1910067\", \"reporting_month\": \"2019-08-15T00:00:00\", \"county\": \"Los Angeles\", \"hydrologic_region\": \"South Coast\", \"climate_zone\": 9, \"total_population_served\": 4078621, \"dwr_state_standard_level_corresponding_to_stage\": null, \"preliminary_percent_residential_use\": null, \"final_percent_residential_use\": 65.0, \"calculated_total_potable_water_production_gallons_ag_excluded\": 15572419290.0, \"r_gpcd\": 80.0562, \"regional_r_gpcd\": 101.37430048688289}, {\"supplier_name\": \"Los Angeles Department of Water and Power\", \"display_name\": \"Los Angeles Department of Water and Power\", \"public_water_system_id\": \"CA1910067\", \"reporting_month\": \"2019-07-15T00:00:00\", \"county\": \"Los Angeles\", \"hydrologic_region\": \"South Coast\", \"climate_zone\": 9, \"total_population_served\": 4077486, \"dwr_state_standard_level_corresponding_to_stage\": null, \"preliminary_percent_residential_use\": null, \"final_percent_residential_use\": 68.0, \"calculated_total_potable_water_production_gallons_ag_excluded\": 15239725419.0, \"r_gpcd\": 81.9846, \"regional_r_gpcd\": 98.5121494549507}, {\"supplier_name\": \"Los Angeles Department of Water and Power\", \"display_name\": \"Los Angeles Department of Water and Power\", \"public_water_system_id\": \"CA1910067\", \"reporting_month\": \"2019-06-15T00:00:00\", \"county\": \"Los Angeles\", \"hydrologic_region\": \"South Coast\", \"climate_zone\": 9, \"total_population_served\": 4076352, \"dwr_state_standard_level_corresponding_to_stage\": null, \"preliminary_percent_residential_use\": null, \"final_percent_residential_use\": 60.0, \"calculated_total_potable_water_production_gallons_ag_excluded\": 13598739783.0, \"r_gpcd\": 66.7202, \"regional_r_gpcd\": 87.74532826746332}, {\"supplier_name\": \"Los Angeles Department of Water and Power\", \"display_name\": \"Los Angeles Department of Water and Power\", \"public_water_system_id\": \"CA1910067\", \"reporting_month\": \"2019-05-15T00:00:00\", \"county\": \"Los Angeles\", \"hydrologic_region\": \"South Coast\", \"climate_zone\": 9, \"total_population_served\": 4075219, \"dwr_state_standard_level_corresponding_to_stage\": null, \"preliminary_percent_residential_use\": null, \"final_percent_residential_use\": 60.0, \"calculated_total_potable_water_production_gallons_ag_excluded\": 12777595263.0, \"r_gpcd\": 60.686, \"regional_r_gpcd\": 75.09031888634387}, {\"supplier_name\": \"Los Angeles Department of Water and Power\", \"display_name\": \"Los Angeles Department of Water and Power\", \"public_water_system_id\": \"CA1910067\", \"reporting_month\": \"2019-04-15T00:00:00\", \"county\": \"Los Angeles\", \"hydrologic_region\": \"South Coast\", \"climate_zone\": 9, \"total_population_served\": 4113769, \"dwr_state_standard_level_corresponding_to_stage\": null, \"preliminary_percent_residential_use\": null, \"final_percent_residential_use\": 54.0, \"calculated_total_potable_water_production_gallons_ag_excluded\": 12647254863.0, \"r_gpcd\": 55.3388, \"regional_r_gpcd\": 79.19152742251198}, {\"supplier_name\": \"Los Angeles Department of Water and Power\", \"display_name\": \"Los Angeles Department of Water and Power\", \"public_water_system_id\": \"CA1910067\", \"reporting_month\": \"2019-03-15T00:00:00\", \"county\": \"Los Angeles\", \"hydrologic_region\": \"South Coast\", \"climate_zone\": 9, \"total_population_served\": 4113769, \"dwr_state_standard_level_corresponding_to_stage\": null, \"preliminary_percent_residential_use\": null, \"final_percent_residential_use\": 59.0, \"calculated_total_potable_water_production_gallons_ag_excluded\": 10904603715.0, \"r_gpcd\": 50.45, \"regional_r_gpcd\": 58.8662424096919}, {\"supplier_name\": \"Los Angeles Department of Water and Power\", \"display_name\": \"Los Angeles Department of Water and Power\", \"public_water_system_id\": \"CA1910067\", \"reporting_month\": \"2019-02-15T00:00:00\", \"county\": \"Los Angeles\", \"hydrologic_region\": \"South Coast\", \"climate_zone\": 9, \"total_population_served\": 4111714, \"dwr_state_standard_level_corresponding_to_stage\": null, \"preliminary_percent_residential_use\": null, \"final_percent_residential_use\": 71.0, \"calculated_total_potable_water_production_gallons_ag_excluded\": 9696022356.0, \"r_gpcd\": 59.7959, \"regional_r_gpcd\": 58.44079416934324}, {\"supplier_name\": \"Los Angeles Department of Water and Power\", \"display_name\": \"Los Angeles Department of Water and Power\", \"public_water_system_id\": \"CA1910067\", \"reporting_month\": \"2019-01-15T00:00:00\", \"county\": \"Los Angeles\", \"hydrologic_region\": \"South Coast\", \"climate_zone\": 9, \"total_population_served\": 4109659, \"dwr_state_standard_level_corresponding_to_stage\": null, \"preliminary_percent_residential_use\": null, \"final_percent_residential_use\": 79.0, \"calculated_total_potable_water_production_gallons_ag_excluded\": 10396276155.0, \"r_gpcd\": 64.4671, \"regional_r_gpcd\": 64.06683702193256}, {\"supplier_name\": \"Los Angeles Department of Water and Power\", \"display_name\": \"Los Angeles Department of Water and Power\", \"public_water_system_id\": \"CA1910067\", \"reporting_month\": \"2018-12-15T00:00:00\", \"county\": \"Los Angeles\", \"hydrologic_region\": \"South Coast\", \"climate_zone\": 9, \"total_population_served\": 4107604, \"dwr_state_standard_level_corresponding_to_stage\": null, \"preliminary_percent_residential_use\": null, \"final_percent_residential_use\": 70.0, \"calculated_total_potable_water_production_gallons_ag_excluded\": 11569991457.0, \"r_gpcd\": 63.6036, \"regional_r_gpcd\": 65.95936676567017}, {\"supplier_name\": \"Los Angeles Department of Water and Power\", \"display_name\": \"Los Angeles Department of Water and Power\", \"public_water_system_id\": \"CA1910067\", \"reporting_month\": \"2018-11-15T00:00:00\", \"county\": \"Los Angeles\", \"hydrologic_region\": \"South Coast\", \"climate_zone\": 9, \"total_population_served\": 4105549, \"dwr_state_standard_level_corresponding_to_stage\": null, \"preliminary_percent_residential_use\": null, \"final_percent_residential_use\": 78.0, \"calculated_total_potable_water_production_gallons_ag_excluded\": 13095299988.0, \"r_gpcd\": 82.9312, \"regional_r_gpcd\": 85.1861801167866}, {\"supplier_name\": \"Los Angeles Department of Water and Power\", \"display_name\": \"Los Angeles Department of Water and Power\", \"public_water_system_id\": \"CA1910067\", \"reporting_month\": \"2018-10-15T00:00:00\", \"county\": \"Los Angeles\", \"hydrologic_region\": \"South Coast\", \"climate_zone\": 9, \"total_population_served\": 4103494, \"dwr_state_standard_level_corresponding_to_stage\": null, \"preliminary_percent_residential_use\": null, \"final_percent_residential_use\": 69.0, \"calculated_total_potable_water_production_gallons_ag_excluded\": 14355365805.0, \"r_gpcd\": 77.8661, \"regional_r_gpcd\": 89.47244473274836}, {\"supplier_name\": \"Los Angeles Department of Water and Power\", \"display_name\": \"Los Angeles Department of Water and Power\", \"public_water_system_id\": \"CA1910067\", \"reporting_month\": \"2018-09-15T00:00:00\", \"county\": \"Los Angeles\", \"hydrologic_region\": \"South Coast\", \"climate_zone\": 9, \"total_population_served\": 4101439, \"dwr_state_standard_level_corresponding_to_stage\": null, \"preliminary_percent_residential_use\": null, \"final_percent_residential_use\": 65.0, \"calculated_total_potable_water_production_gallons_ag_excluded\": 15076474068.0, \"r_gpcd\": 79.6446, \"regional_r_gpcd\": 98.54203354163393}, {\"supplier_name\": \"Los Angeles Department of Water and Power\", \"display_name\": \"Los Angeles Department of Water and Power\", \"public_water_system_id\": \"CA1910067\", \"reporting_month\": \"2018-08-15T00:00:00\", \"county\": \"Los Angeles\", \"hydrologic_region\": \"South Coast\", \"climate_zone\": 9, \"total_population_served\": 4099384, \"dwr_state_standard_level_corresponding_to_stage\": null, \"preliminary_percent_residential_use\": null, \"final_percent_residential_use\": 60.0, \"calculated_total_potable_water_production_gallons_ag_excluded\": 16467531987.0, \"r_gpcd\": 77.7499, \"regional_r_gpcd\": 105.91829663205722}, {\"supplier_name\": \"Los Angeles Department of Water and Power\", \"display_name\": \"Los Angeles Department of Water and Power\", \"public_water_system_id\": \"CA1910067\", \"reporting_month\": \"2018-07-15T00:00:00\", \"county\": \"Los Angeles\", \"hydrologic_region\": \"South Coast\", \"climate_zone\": 9, \"total_population_served\": 4085000, \"dwr_state_standard_level_corresponding_to_stage\": null, \"preliminary_percent_residential_use\": null, \"final_percent_residential_use\": 56.0, \"calculated_total_potable_water_production_gallons_ag_excluded\": 16549320588.0, \"r_gpcd\": 73.1838, \"regional_r_gpcd\": 103.17832700565162}, {\"supplier_name\": \"Los Angeles Department of Water and Power\", \"display_name\": \"Los Angeles Department of Water and Power\", \"public_water_system_id\": \"CA1910067\", \"reporting_month\": \"2018-06-15T00:00:00\", \"county\": \"Los Angeles\", \"hydrologic_region\": \"South Coast\", \"climate_zone\": 9, \"total_population_served\": 4085000, \"dwr_state_standard_level_corresponding_to_stage\": null, \"preliminary_percent_residential_use\": null, \"final_percent_residential_use\": 60.0, \"calculated_total_potable_water_production_gallons_ag_excluded\": 14401962498.0, \"r_gpcd\": 70.5115, \"regional_r_gpcd\": 95.4448079304882}, {\"supplier_name\": \"Los Angeles Department of Water and Power\", \"display_name\": \"Los Angeles Department of Water and Power\", \"public_water_system_id\": \"CA1910067\", \"reporting_month\": \"2018-05-15T00:00:00\", \"county\": \"Los Angeles\", \"hydrologic_region\": \"South Coast\", \"climate_zone\": 9, \"total_population_served\": 4085000, \"dwr_state_standard_level_corresponding_to_stage\": null, \"preliminary_percent_residential_use\": null, \"final_percent_residential_use\": 58.0, \"calculated_total_potable_water_production_gallons_ag_excluded\": 13742765925.0, \"r_gpcd\": 62.9432, \"regional_r_gpcd\": 84.67996651489933}, {\"supplier_name\": \"Los Angeles Department of Water and Power\", \"display_name\": \"Los Angeles Department of Water and Power\", \"public_water_system_id\": \"CA1910067\", \"reporting_month\": \"2018-04-15T00:00:00\", \"county\": \"Los Angeles\", \"hydrologic_region\": \"South Coast\", \"climate_zone\": 9, \"total_population_served\": 4124338, \"dwr_state_standard_level_corresponding_to_stage\": null, \"preliminary_percent_residential_use\": null, \"final_percent_residential_use\": 57.0, \"calculated_total_potable_water_production_gallons_ag_excluded\": 12937913955.0, \"r_gpcd\": 59.6025, \"regional_r_gpcd\": 82.21812430885008}, {\"supplier_name\": \"Los Angeles Department of Water and Power\", \"display_name\": \"Los Angeles Department of Water and Power\", \"public_water_system_id\": \"CA1910067\", \"reporting_month\": \"2018-03-15T00:00:00\", \"county\": \"Los Angeles\", \"hydrologic_region\": \"South Coast\", \"climate_zone\": 9, \"total_population_served\": 4120870, \"dwr_state_standard_level_corresponding_to_stage\": null, \"preliminary_percent_residential_use\": null, \"final_percent_residential_use\": 68.0, \"calculated_total_potable_water_production_gallons_ag_excluded\": 11125856544.0, \"r_gpcd\": 59.2233, \"regional_r_gpcd\": 64.1225252635587}, {\"supplier_name\": \"Los Angeles Department of Water and Power\", \"display_name\": \"Los Angeles Department of Water and Power\", \"public_water_system_id\": \"CA1910067\", \"reporting_month\": \"2018-02-15T00:00:00\", \"county\": \"Los Angeles\", \"hydrologic_region\": \"South Coast\", \"climate_zone\": 9, \"total_population_served\": 4117401, \"dwr_state_standard_level_corresponding_to_stage\": null, \"preliminary_percent_residential_use\": null, \"final_percent_residential_use\": 66.0, \"calculated_total_potable_water_production_gallons_ag_excluded\": 12112207521.0, \"r_gpcd\": 69.3404, \"regional_r_gpcd\": 78.74238423009876}, {\"supplier_name\": \"Los Angeles Department of Water and Power\", \"display_name\": \"Los Angeles Department of Water and Power\", \"public_water_system_id\": \"CA1910067\", \"reporting_month\": \"2018-01-15T00:00:00\", \"county\": \"Los Angeles\", \"hydrologic_region\": \"South Coast\", \"climate_zone\": 9, \"total_population_served\": 4083110, \"dwr_state_standard_level_corresponding_to_stage\": null, \"preliminary_percent_residential_use\": null, \"final_percent_residential_use\": 62.0, \"calculated_total_potable_water_production_gallons_ag_excluded\": 12607826892.0, \"r_gpcd\": 61.7561, \"regional_r_gpcd\": 72.8638390715696}, {\"supplier_name\": \"Los Angeles Department of Water and Power\", \"display_name\": \"Los Angeles Department of Water and Power\", \"public_water_system_id\": \"CA1910067\", \"reporting_month\": \"2017-12-15T00:00:00\", \"county\": \"Los Angeles\", \"hydrologic_region\": \"South Coast\", \"climate_zone\": 9, \"total_population_served\": 4082210, \"dwr_state_standard_level_corresponding_to_stage\": null, \"preliminary_percent_residential_use\": null, \"final_percent_residential_use\": 65.0, \"calculated_total_potable_water_production_gallons_ag_excluded\": 13836285162.0, \"r_gpcd\": 71.0684, \"regional_r_gpcd\": 82.704648195064}, {\"supplier_name\": \"Los Angeles Department of Water and Power\", \"display_name\": \"Los Angeles Department of Water and Power\", \"public_water_system_id\": \"CA1910067\", \"reporting_month\": \"2017-11-15T00:00:00\", \"county\": \"Los Angeles\", \"hydrologic_region\": \"South Coast\", \"climate_zone\": 9, \"total_population_served\": 4081310, \"dwr_state_standard_level_corresponding_to_stage\": null, \"preliminary_percent_residential_use\": null, \"final_percent_residential_use\": 69.0, \"calculated_total_potable_water_production_gallons_ag_excluded\": 13427342157.0, \"r_gpcd\": 75.6692, \"regional_r_gpcd\": 85.377647747923}, {\"supplier_name\": \"Los Angeles Department of Water and Power\", \"display_name\": \"Los Angeles Department of Water and Power\", \"public_water_system_id\": \"CA1910067\", \"reporting_month\": \"2017-10-15T00:00:00\", \"county\": \"Los Angeles\", \"hydrologic_region\": \"South Coast\", \"climate_zone\": 9, \"total_population_served\": 4080409, \"dwr_state_standard_level_corresponding_to_stage\": null, \"preliminary_percent_residential_use\": null, \"final_percent_residential_use\": 72.0, \"calculated_total_potable_water_production_gallons_ag_excluded\": 15359964438.0, \"r_gpcd\": 87.4295, \"regional_r_gpcd\": 96.89221545679608}, {\"supplier_name\": \"Los Angeles Department of Water and Power\", \"display_name\": \"Los Angeles Department of Water and Power\", \"public_water_system_id\": \"CA1910067\", \"reporting_month\": \"2017-09-15T00:00:00\", \"county\": \"Los Angeles\", \"hydrologic_region\": \"South Coast\", \"climate_zone\": 9, \"total_population_served\": 4079509, \"dwr_state_standard_level_corresponding_to_stage\": null, \"preliminary_percent_residential_use\": null, \"final_percent_residential_use\": 67.0, \"calculated_total_potable_water_production_gallons_ag_excluded\": 14935706436.0, \"r_gpcd\": 81.7659, \"regional_r_gpcd\": 97.98616549806356}, {\"supplier_name\": \"Los Angeles Department of Water and Power\", \"display_name\": \"Los Angeles Department of Water and Power\", \"public_water_system_id\": \"CA1910067\", \"reporting_month\": \"2017-08-15T00:00:00\", \"county\": \"Los Angeles\", \"hydrologic_region\": \"South Coast\", \"climate_zone\": 9, \"total_population_served\": 4078609, \"dwr_state_standard_level_corresponding_to_stage\": null, \"preliminary_percent_residential_use\": null, \"final_percent_residential_use\": 72.0, \"calculated_total_potable_water_production_gallons_ag_excluded\": 16189255233.0, \"r_gpcd\": 92.1905, \"regional_r_gpcd\": 104.14257135227481}, {\"supplier_name\": \"Los Angeles Department of Water and Power\", \"display_name\": \"Los Angeles Department of Water and Power\", \"public_water_system_id\": \"CA1910067\", \"reporting_month\": \"2017-07-15T00:00:00\", \"county\": \"Los Angeles\", \"hydrologic_region\": \"South Coast\", \"climate_zone\": 9, \"total_population_served\": 4077709, \"dwr_state_standard_level_corresponding_to_stage\": null, \"preliminary_percent_residential_use\": null, \"final_percent_residential_use\": 69.0, \"calculated_total_potable_water_production_gallons_ag_excluded\": 16094106741.0, \"r_gpcd\": 87.8494, \"regional_r_gpcd\": 104.10761029484266}, {\"supplier_name\": \"Los Angeles Department of Water and Power\", \"display_name\": \"Los Angeles Department of Water and Power\", \"public_water_system_id\": \"CA1910067\", \"reporting_month\": \"2017-06-15T00:00:00\", \"county\": \"Los Angeles\", \"hydrologic_region\": \"South Coast\", \"climate_zone\": 9, \"total_population_served\": 4133849, \"dwr_state_standard_level_corresponding_to_stage\": null, \"preliminary_percent_residential_use\": null, \"final_percent_residential_use\": 66.0, \"calculated_total_potable_water_production_gallons_ag_excluded\": 14283352734.0, \"r_gpcd\": 76.0149, \"regional_r_gpcd\": 97.53600027968383}, {\"supplier_name\": \"Los Angeles Department of Water and Power\", \"display_name\": \"Los Angeles Department of Water and Power\", \"public_water_system_id\": \"CA1910067\", \"reporting_month\": \"2017-05-15T00:00:00\", \"county\": \"Los Angeles\", \"hydrologic_region\": \"South Coast\", \"climate_zone\": 9, \"total_population_served\": 4129594, \"dwr_state_standard_level_corresponding_to_stage\": null, \"preliminary_percent_residential_use\": null, \"final_percent_residential_use\": 66.0, \"calculated_total_potable_water_production_gallons_ag_excluded\": 13766878899.0, \"r_gpcd\": 70.9759, \"regional_r_gpcd\": 87.95506978527976}, {\"supplier_name\": \"Los Angeles Department of Water and Power\", \"display_name\": \"Los Angeles Department of Water and Power\", \"public_water_system_id\": \"CA1910067\", \"reporting_month\": \"2017-04-15T00:00:00\", \"county\": \"Los Angeles\", \"hydrologic_region\": \"South Coast\", \"climate_zone\": 9, \"total_population_served\": 4125338, \"dwr_state_standard_level_corresponding_to_stage\": null, \"preliminary_percent_residential_use\": null, \"final_percent_residential_use\": 66.0, \"calculated_total_potable_water_production_gallons_ag_excluded\": 12760325160.0, \"r_gpcd\": 68.0496, \"regional_r_gpcd\": 84.18785396858175}, {\"supplier_name\": \"Los Angeles Department of Water and Power\", \"display_name\": \"Los Angeles Department of Water and Power\", \"public_water_system_id\": \"CA1910067\", \"reporting_month\": \"2017-03-15T00:00:00\", \"county\": \"Los Angeles\", \"hydrologic_region\": \"South Coast\", \"climate_zone\": 9, \"total_population_served\": 4121082, \"dwr_state_standard_level_corresponding_to_stage\": null, \"preliminary_percent_residential_use\": null, \"final_percent_residential_use\": 66.0, \"calculated_total_potable_water_production_gallons_ag_excluded\": 11774300034.0, \"r_gpcd\": 60.8284, \"regional_r_gpcd\": 68.63388984586963}, {\"supplier_name\": \"Los Angeles Department of Water and Power\", \"display_name\": \"Los Angeles Department of Water and Power\", \"public_water_system_id\": \"CA1910067\", \"reporting_month\": \"2017-02-15T00:00:00\", \"county\": \"Los Angeles\", \"hydrologic_region\": \"South Coast\", \"climate_zone\": 9, \"total_population_served\": 4116778, \"dwr_state_standard_level_corresponding_to_stage\": null, \"preliminary_percent_residential_use\": null, \"final_percent_residential_use\": 66.0, \"calculated_total_potable_water_production_gallons_ag_excluded\": 8802213063.0, \"r_gpcd\": 50.3989, \"regional_r_gpcd\": 56.05167237937526}, {\"supplier_name\": \"Los Angeles Department of Water and Power\", \"display_name\": \"Los Angeles Department of Water and Power\", \"public_water_system_id\": \"CA1910067\", \"reporting_month\": \"2017-01-15T00:00:00\", \"county\": \"Los Angeles\", \"hydrologic_region\": \"South Coast\", \"climate_zone\": 9, \"total_population_served\": 4112571, \"dwr_state_standard_level_corresponding_to_stage\": null, \"preliminary_percent_residential_use\": null, \"final_percent_residential_use\": 66.0, \"calculated_total_potable_water_production_gallons_ag_excluded\": 10270823520.0, \"r_gpcd\": 53.171, \"regional_r_gpcd\": 56.36043479464405}, {\"supplier_name\": \"Los Angeles Department of Water and Power\", \"display_name\": \"Los Angeles Department of Water and Power\", \"public_water_system_id\": \"CA1910067\", \"reporting_month\": \"2016-12-15T00:00:00\", \"county\": \"Los Angeles\", \"hydrologic_region\": \"South Coast\", \"climate_zone\": 9, \"total_population_served\": 4107778, \"dwr_state_standard_level_corresponding_to_stage\": null, \"preliminary_percent_residential_use\": null, \"final_percent_residential_use\": 68.0, \"calculated_total_potable_water_production_gallons_ag_excluded\": 11107283037.0, \"r_gpcd\": 59.3128, \"regional_r_gpcd\": 65.77154369805854}, {\"supplier_name\": \"Los Angeles Department of Water and Power\", \"display_name\": \"Los Angeles Department of Water and Power\", \"public_water_system_id\": \"CA1910067\", \"reporting_month\": \"2016-11-15T00:00:00\", \"county\": \"Los Angeles\", \"hydrologic_region\": \"South Coast\", \"climate_zone\": 9, \"total_population_served\": 4103572, \"dwr_state_standard_level_corresponding_to_stage\": null, \"preliminary_percent_residential_use\": null, \"final_percent_residential_use\": 68.0, \"calculated_total_potable_water_production_gallons_ag_excluded\": 12334112052.0, \"r_gpcd\": 68.1293, \"regional_r_gpcd\": 78.21156046186039}, {\"supplier_name\": \"Los Angeles Department of Water and Power\", \"display_name\": \"Los Angeles Department of Water and Power\", \"public_water_system_id\": \"CA1910067\", \"reporting_month\": \"2016-10-15T00:00:00\", \"county\": \"Los Angeles\", \"hydrologic_region\": \"South Coast\", \"climate_zone\": 9, \"total_population_served\": 4099365, \"dwr_state_standard_level_corresponding_to_stage\": null, \"preliminary_percent_residential_use\": null, \"final_percent_residential_use\": 68.0, \"calculated_total_potable_water_production_gallons_ag_excluded\": 13784800704.0, \"r_gpcd\": 73.7618, \"regional_r_gpcd\": 86.47145952483375}, {\"supplier_name\": \"Los Angeles Department of Water and Power\", \"display_name\": \"Los Angeles Department of Water and Power\", \"public_water_system_id\": \"CA1910067\", \"reporting_month\": \"2016-09-15T00:00:00\", \"county\": \"Los Angeles\", \"hydrologic_region\": \"South Coast\", \"climate_zone\": 9, \"total_population_served\": 4095158, \"dwr_state_standard_level_corresponding_to_stage\": null, \"preliminary_percent_residential_use\": null, \"final_percent_residential_use\": 68.0, \"calculated_total_potable_water_production_gallons_ag_excluded\": 14124337446.0, \"r_gpcd\": 78.1782, \"regional_r_gpcd\": 94.96289682256977}, {\"supplier_name\": \"Los Angeles Department of Water and Power\", \"display_name\": \"Los Angeles Department of Water and Power\", \"public_water_system_id\": \"CA1910067\", \"reporting_month\": \"2016-08-15T00:00:00\", \"county\": \"Los Angeles\", \"hydrologic_region\": \"South Coast\", \"climate_zone\": 9, \"total_population_served\": 4061504, \"dwr_state_standard_level_corresponding_to_stage\": null, \"preliminary_percent_residential_use\": null, \"final_percent_residential_use\": 68.0, \"calculated_total_potable_water_production_gallons_ag_excluded\": 15574374396.0, \"r_gpcd\": 84.1146, \"regional_r_gpcd\": 101.83317620032578}, {\"supplier_name\": \"Los Angeles Department of Water and Power\", \"display_name\": \"Los Angeles Department of Water and Power\", \"public_water_system_id\": \"CA1910067\", \"reporting_month\": \"2016-07-15T00:00:00\", \"county\": \"Los Angeles\", \"hydrologic_region\": \"South Coast\", \"climate_zone\": 9, \"total_population_served\": 4061504, \"dwr_state_standard_level_corresponding_to_stage\": null, \"preliminary_percent_residential_use\": null, \"final_percent_residential_use\": 68.0, \"calculated_total_potable_water_production_gallons_ag_excluded\": 15148161288.0, \"r_gpcd\": 81.8127, \"regional_r_gpcd\": 99.56648808226709}, {\"supplier_name\": \"Los Angeles Department of Water and Power\", \"display_name\": \"Los Angeles Department of Water and Power\", \"public_water_system_id\": \"CA1910067\", \"reporting_month\": \"2016-06-15T00:00:00\", \"county\": \"Los Angeles\", \"hydrologic_region\": \"South Coast\", \"climate_zone\": 9, \"total_population_served\": 4061504, \"dwr_state_standard_level_corresponding_to_stage\": null, \"preliminary_percent_residential_use\": null, \"final_percent_residential_use\": 68.0, \"calculated_total_potable_water_production_gallons_ag_excluded\": 13940557482.0, \"r_gpcd\": 77.8003, \"regional_r_gpcd\": 92.93998403386924}, {\"supplier_name\": \"Los Angeles Department of Water and Power\", \"display_name\": \"Los Angeles Department of Water and Power\", \"public_water_system_id\": \"CA1910067\", \"reporting_month\": \"2016-05-15T00:00:00\", \"county\": \"Los Angeles\", \"hydrologic_region\": \"South Coast\", \"climate_zone\": 9, \"total_population_served\": 4061504, \"dwr_state_standard_level_corresponding_to_stage\": null, \"preliminary_percent_residential_use\": null, \"final_percent_residential_use\": 68.0, \"calculated_total_potable_water_production_gallons_ag_excluded\": 13279079952.0, \"r_gpcd\": 71.7181, \"regional_r_gpcd\": 80.40451560787392}, {\"supplier_name\": \"Los Angeles Department of Water and Power\", \"display_name\": \"Los Angeles Department of Water and Power\", \"public_water_system_id\": \"CA1910067\", \"reporting_month\": \"2016-04-15T00:00:00\", \"county\": \"Los Angeles\", \"hydrologic_region\": \"South Coast\", \"climate_zone\": 9, \"total_population_served\": 4074124, \"dwr_state_standard_level_corresponding_to_stage\": null, \"preliminary_percent_residential_use\": null, \"final_percent_residential_use\": 68.0, \"calculated_total_potable_water_production_gallons_ag_excluded\": 12107645607.0, \"r_gpcd\": 67.3618, \"regional_r_gpcd\": 75.74524991848601}, {\"supplier_name\": \"Los Angeles Department of Water and Power\", \"display_name\": \"Los Angeles Department of Water and Power\", \"public_water_system_id\": \"CA1910067\", \"reporting_month\": \"2016-03-15T00:00:00\", \"county\": \"Los Angeles\", \"hydrologic_region\": \"South Coast\", \"climate_zone\": 9, \"total_population_served\": 4037395, \"dwr_state_standard_level_corresponding_to_stage\": null, \"preliminary_percent_residential_use\": null, \"final_percent_residential_use\": 68.0, \"calculated_total_potable_water_production_gallons_ag_excluded\": 11677522287.0, \"r_gpcd\": 63.445, \"regional_r_gpcd\": 67.33147675005554}, {\"supplier_name\": \"Los Angeles Department of Water and Power\", \"display_name\": \"Los Angeles Department of Water and Power\", \"public_water_system_id\": \"CA1910067\", \"reporting_month\": \"2016-02-15T00:00:00\", \"county\": \"Los Angeles\", \"hydrologic_region\": \"South Coast\", \"climate_zone\": 9, \"total_population_served\": 4033840, \"dwr_state_standard_level_corresponding_to_stage\": null, \"preliminary_percent_residential_use\": null, \"final_percent_residential_use\": 68.0, \"calculated_total_potable_water_production_gallons_ag_excluded\": 11347435224.0, \"r_gpcd\": 65.9615, \"regional_r_gpcd\": 70.67510926001142}, {\"supplier_name\": \"Los Angeles Department of Water and Power\", \"display_name\": \"Los Angeles Department of Water and Power\", \"public_water_system_id\": \"CA1910067\", \"reporting_month\": \"2016-01-15T00:00:00\", \"county\": \"Los Angeles\", \"hydrologic_region\": \"South Coast\", \"climate_zone\": 9, \"total_population_served\": 4030285, \"dwr_state_standard_level_corresponding_to_stage\": null, \"preliminary_percent_residential_use\": null, \"final_percent_residential_use\": 68.0, \"calculated_total_potable_water_production_gallons_ag_excluded\": 10919267010.0, \"r_gpcd\": 59.43, \"regional_r_gpcd\": 61.86715997317808}, {\"supplier_name\": \"Los Angeles Department of Water and Power\", \"display_name\": \"Los Angeles Department of Water and Power\", \"public_water_system_id\": \"CA1910067\", \"reporting_month\": \"2015-12-15T00:00:00\", \"county\": \"Los Angeles\", \"hydrologic_region\": \"South Coast\", \"climate_zone\": 9, \"total_population_served\": 4026730, \"dwr_state_standard_level_corresponding_to_stage\": null, \"preliminary_percent_residential_use\": null, \"final_percent_residential_use\": 68.0, \"calculated_total_potable_water_production_gallons_ag_excluded\": 11942439150.0, \"r_gpcd\": 65.0561, \"regional_r_gpcd\": 69.46698333949547}, {\"supplier_name\": \"Los Angeles Department of Water and Power\", \"display_name\": \"Los Angeles Department of Water and Power\", \"public_water_system_id\": \"CA1910067\", \"reporting_month\": \"2015-11-15T00:00:00\", \"county\": \"Los Angeles\", \"hydrologic_region\": \"South Coast\", \"climate_zone\": 9, \"total_population_served\": 4023175, \"dwr_state_standard_level_corresponding_to_stage\": null, \"preliminary_percent_residential_use\": null, \"final_percent_residential_use\": 68.0, \"calculated_total_potable_water_production_gallons_ag_excluded\": 12796494621.0, \"r_gpcd\": 72.0959, \"regional_r_gpcd\": 77.31508301239407}, {\"supplier_name\": \"Los Angeles Department of Water and Power\", \"display_name\": \"Los Angeles Department of Water and Power\", \"public_water_system_id\": \"CA1910067\", \"reporting_month\": \"2015-10-15T00:00:00\", \"county\": \"Los Angeles\", \"hydrologic_region\": \"South Coast\", \"climate_zone\": 9, \"total_population_served\": 4019619, \"dwr_state_standard_level_corresponding_to_stage\": null, \"preliminary_percent_residential_use\": null, \"final_percent_residential_use\": 68.0, \"calculated_total_potable_water_production_gallons_ag_excluded\": 13763294538.0, \"r_gpcd\": 75.1078, \"regional_r_gpcd\": 82.25406294592186}, {\"supplier_name\": \"Los Angeles Department of Water and Power\", \"display_name\": \"Los Angeles Department of Water and Power\", \"public_water_system_id\": \"CA1910067\", \"reporting_month\": \"2015-09-15T00:00:00\", \"county\": \"Los Angeles\", \"hydrologic_region\": \"South Coast\", \"climate_zone\": 9, \"total_population_served\": 4016064, \"dwr_state_standard_level_corresponding_to_stage\": null, \"preliminary_percent_residential_use\": null, \"final_percent_residential_use\": 68.0, \"calculated_total_potable_water_production_gallons_ag_excluded\": 13648269135.0, \"r_gpcd\": 77.0309, \"regional_r_gpcd\": 87.7431327122515}, {\"supplier_name\": \"Los Angeles Department of Water and Power\", \"display_name\": \"Los Angeles Department of Water and Power\", \"public_water_system_id\": \"CA1910067\", \"reporting_month\": \"2015-08-15T00:00:00\", \"county\": \"Los Angeles\", \"hydrologic_region\": \"South Coast\", \"climate_zone\": 9, \"total_population_served\": 4012509, \"dwr_state_standard_level_corresponding_to_stage\": null, \"preliminary_percent_residential_use\": null, \"final_percent_residential_use\": 68.0, \"calculated_total_potable_water_production_gallons_ag_excluded\": 14827523904.0, \"r_gpcd\": 81.0588, \"regional_r_gpcd\": 93.10769900708993}, {\"supplier_name\": \"Los Angeles Department of Water and Power\", \"display_name\": \"Los Angeles Department of Water and Power\", \"public_water_system_id\": \"CA1910067\", \"reporting_month\": \"2015-07-15T00:00:00\", \"county\": \"Los Angeles\", \"hydrologic_region\": \"South Coast\", \"climate_zone\": 9, \"total_population_served\": 4008954, \"dwr_state_standard_level_corresponding_to_stage\": null, \"preliminary_percent_residential_use\": null, \"final_percent_residential_use\": 68.0, \"calculated_total_potable_water_production_gallons_ag_excluded\": 14086864581.0, \"r_gpcd\": 77.0781, \"regional_r_gpcd\": 87.11719375280299}, {\"supplier_name\": \"Los Angeles Department of Water and Power\", \"display_name\": \"Los Angeles Department of Water and Power\", \"public_water_system_id\": \"CA1910067\", \"reporting_month\": \"2015-06-15T00:00:00\", \"county\": \"Los Angeles\", \"hydrologic_region\": \"South Coast\", \"climate_zone\": 9, \"total_population_served\": 4005398, \"dwr_state_standard_level_corresponding_to_stage\": null, \"preliminary_percent_residential_use\": null, \"final_percent_residential_use\": 68.0, \"calculated_total_potable_water_production_gallons_ag_excluded\": 13633605840.0, \"r_gpcd\": 77.1531, \"regional_r_gpcd\": 89.85229893876404}, {\"supplier_name\": \"Los Angeles Department of Water and Power\", \"display_name\": \"Los Angeles Department of Water and Power\", \"public_water_system_id\": \"CA1910067\", \"reporting_month\": \"2015-05-15T00:00:00\", \"county\": \"Los Angeles\", \"hydrologic_region\": \"South Coast\", \"climate_zone\": 9, \"total_population_served\": 4001843, \"dwr_state_standard_level_corresponding_to_stage\": null, \"preliminary_percent_residential_use\": null, \"final_percent_residential_use\": 68.0, \"calculated_total_potable_water_production_gallons_ag_excluded\": 13152649764.0, \"r_gpcd\": 72.0943, \"regional_r_gpcd\": 80.36632134839464}, {\"supplier_name\": \"Los Angeles Department of Water and Power\", \"display_name\": \"Los Angeles Department of Water and Power\", \"public_water_system_id\": \"CA1910067\", \"reporting_month\": \"2015-04-15T00:00:00\", \"county\": \"Los Angeles\", \"hydrologic_region\": \"South Coast\", \"climate_zone\": 9, \"total_population_served\": 3998288, \"dwr_state_standard_level_corresponding_to_stage\": null, \"preliminary_percent_residential_use\": null, \"final_percent_residential_use\": 68.0, \"calculated_total_potable_water_production_gallons_ag_excluded\": 13204134222.0, \"r_gpcd\": 74.8556, \"regional_r_gpcd\": 89.2212395478468}, {\"supplier_name\": \"Los Angeles Department of Water and Power\", \"display_name\": \"Los Angeles Department of Water and Power\", \"public_water_system_id\": \"CA1910067\", \"reporting_month\": \"2015-03-15T00:00:00\", \"county\": \"Los Angeles\", \"hydrologic_region\": \"South Coast\", \"climate_zone\": 9, \"total_population_served\": 3980202, \"dwr_state_standard_level_corresponding_to_stage\": null, \"preliminary_percent_residential_use\": null, \"final_percent_residential_use\": 68.0, \"calculated_total_potable_water_production_gallons_ag_excluded\": 13266045912.0, \"r_gpcd\": 73.1112, \"regional_r_gpcd\": 82.5500269776882}, {\"supplier_name\": \"Los Angeles Department of Water and Power\", \"display_name\": \"Los Angeles Department of Water and Power\", \"public_water_system_id\": \"CA1910067\", \"reporting_month\": \"2015-02-15T00:00:00\", \"county\": \"Los Angeles\", \"hydrologic_region\": \"South Coast\", \"climate_zone\": 9, \"total_population_served\": 3976991, \"dwr_state_standard_level_corresponding_to_stage\": null, \"preliminary_percent_residential_use\": null, \"final_percent_residential_use\": 68.0, \"calculated_total_potable_water_production_gallons_ag_excluded\": 11250331626.0, \"r_gpcd\": 68.7009, \"regional_r_gpcd\": 78.70407740216258}, {\"supplier_name\": \"Los Angeles Department of Water and Power\", \"display_name\": \"Los Angeles Department of Water and Power\", \"public_water_system_id\": \"CA1910067\", \"reporting_month\": \"2015-01-15T00:00:00\", \"county\": \"Los Angeles\", \"hydrologic_region\": \"South Coast\", \"climate_zone\": 9, \"total_population_served\": 3973781, \"dwr_state_standard_level_corresponding_to_stage\": null, \"preliminary_percent_residential_use\": null, \"final_percent_residential_use\": 68.0, \"calculated_total_potable_water_production_gallons_ag_excluded\": 12524083185.0, \"r_gpcd\": 69.1337, \"regional_r_gpcd\": 73.0106764608852}, {\"supplier_name\": \"Los Angeles Department of Water and Power\", \"display_name\": \"Los Angeles Department of Water and Power\", \"public_water_system_id\": \"CA1910067\", \"reporting_month\": \"2014-12-15T00:00:00\", \"county\": \"Los Angeles\", \"hydrologic_region\": \"South Coast\", \"climate_zone\": 9, \"total_population_served\": 3970571, \"dwr_state_standard_level_corresponding_to_stage\": null, \"preliminary_percent_residential_use\": null, \"final_percent_residential_use\": 68.0, \"calculated_total_potable_water_production_gallons_ag_excluded\": 10999100505.0, \"r_gpcd\": 60.7648, \"regional_r_gpcd\": 64.49779492157208}, {\"supplier_name\": \"Los Angeles Department of Water and Power\", \"display_name\": \"Los Angeles Department of Water and Power\", \"public_water_system_id\": \"CA1910067\", \"reporting_month\": \"2014-11-15T00:00:00\", \"county\": \"Los Angeles\", \"hydrologic_region\": \"South Coast\", \"climate_zone\": 9, \"total_population_served\": 3967360, \"dwr_state_standard_level_corresponding_to_stage\": null, \"preliminary_percent_residential_use\": null, \"final_percent_residential_use\": 68.0, \"calculated_total_potable_water_production_gallons_ag_excluded\": 13223685282.0, \"r_gpcd\": 75.5508, \"regional_r_gpcd\": 87.89445223249287}, {\"supplier_name\": \"Los Angeles Department of Water and Power\", \"display_name\": \"Los Angeles Department of Water and Power\", \"public_water_system_id\": \"CA1910067\", \"reporting_month\": \"2014-10-15T00:00:00\", \"county\": \"Los Angeles\", \"hydrologic_region\": \"South Coast\", \"climate_zone\": 9, \"total_population_served\": 3964150, \"dwr_state_standard_level_corresponding_to_stage\": null, \"preliminary_percent_residential_use\": null, \"final_percent_residential_use\": 68.0, \"calculated_total_potable_water_production_gallons_ag_excluded\": 15654859593.0, \"r_gpcd\": 86.6257, \"regional_r_gpcd\": 102.59858552172611}, {\"supplier_name\": \"Los Angeles Department of Water and Power\", \"display_name\": \"Los Angeles Department of Water and Power\", \"public_water_system_id\": \"CA1910067\", \"reporting_month\": \"2014-09-15T00:00:00\", \"county\": \"Los Angeles\", \"hydrologic_region\": \"South Coast\", \"climate_zone\": 9, \"total_population_served\": 3960940, \"dwr_state_standard_level_corresponding_to_stage\": null, \"preliminary_percent_residential_use\": null, \"final_percent_residential_use\": 68.0, \"calculated_total_potable_water_production_gallons_ag_excluded\": 15587734287.0, \"r_gpcd\": 89.2017, \"regional_r_gpcd\": 110.50127224956974}, {\"supplier_name\": \"Los Angeles Department of Water and Power\", \"display_name\": \"Los Angeles Department of Water and Power\", \"public_water_system_id\": \"CA1910067\", \"reporting_month\": \"2014-08-15T00:00:00\", \"county\": \"Los Angeles\", \"hydrologic_region\": \"South Coast\", \"climate_zone\": 9, \"total_population_served\": 3957729, \"dwr_state_standard_level_corresponding_to_stage\": null, \"preliminary_percent_residential_use\": null, \"final_percent_residential_use\": 68.0, \"calculated_total_potable_water_production_gallons_ag_excluded\": 16021116117.0, \"r_gpcd\": 88.7962, \"regional_r_gpcd\": 111.4888320865187}, {\"supplier_name\": \"Los Angeles Department of Water and Power\", \"display_name\": \"Los Angeles Department of Water and Power\", \"public_water_system_id\": \"CA1910067\", \"reporting_month\": \"2014-07-15T00:00:00\", \"county\": \"Los Angeles\", \"hydrologic_region\": \"South Coast\", \"climate_zone\": 9, \"total_population_served\": 3954519, \"dwr_state_standard_level_corresponding_to_stage\": null, \"preliminary_percent_residential_use\": null, \"final_percent_residential_use\": 68.0, \"calculated_total_potable_water_production_gallons_ag_excluded\": 16581253986.0, \"r_gpcd\": 91.9754, \"regional_r_gpcd\": 118.76061817814107}, {\"supplier_name\": \"Los Angeles Department of Water and Power\", \"display_name\": \"Los Angeles Department of Water and Power\", \"public_water_system_id\": \"CA1910067\", \"reporting_month\": \"2014-06-15T00:00:00\", \"county\": \"Los Angeles\", \"hydrologic_region\": \"South Coast\", \"climate_zone\": 9, \"total_population_served\": 3951309, \"dwr_state_standard_level_corresponding_to_stage\": null, \"preliminary_percent_residential_use\": null, \"final_percent_residential_use\": 68.0, \"calculated_total_potable_water_production_gallons_ag_excluded\": 16217604270.0, \"r_gpcd\": 93.0323, \"regional_r_gpcd\": 120.31265768787225}], \"data-fbbb9ee2363bf5756f5e77cb136e052e\": [{\"y\": 80}]}}, {\"mode\": \"vega-lite\"});\n",
       "</script>"
      ],
      "text/plain": [
       "alt.LayerChart(...)"
      ]
     },
     "execution_count": 469,
     "metadata": {},
     "output_type": "execute_result"
    }
   ],
   "source": [
    "base = alt.Chart(\n",
    "    rename_df[\n",
    "        (rename_df.supplier_name == \"Los Angeles Department of Water and Power\")\n",
    "    ]\n",
    ").encode(\n",
    "    x=alt.X(\"yearmonth(reporting_month):O\"),\n",
    ")\n",
    "\n",
    "bar = base.mark_bar(color=\"#83c6e0\").encode(\n",
    "    y=alt.Y(\"r_gpcd\", stack=None)\n",
    ")\n",
    "\n",
    "avg_line = base.mark_line(interpolate='step', color='#1281aa').encode(\n",
    "    y=alt.Y(\"regional_r_gpcd\")\n",
    ")\n",
    "\n",
    "goal_line = alt.Chart(pd.DataFrame({'y': [80]})).mark_rule(color=\"#b75a36\",strokeDash=[10,11]).encode(y='y')\n",
    "\n",
    "(bar + avg_line + goal_line).properties(title=\"LADWP residential water usage compared to regional average\", width=600)"
   ]
  },
  {
   "cell_type": "markdown",
   "id": "0ba26fc7-525a-4a1d-b244-ab0d51de64c1",
   "metadata": {},
   "source": [
    "### Sort data"
   ]
  },
  {
   "cell_type": "code",
   "execution_count": 470,
   "id": "b7891244-418d-460c-b03f-8723fdfdf60b",
   "metadata": {},
   "outputs": [],
   "source": [
    "sort_district_df = merge_df.sort_values([\"reporting_month\",\"supplier_name\"])"
   ]
  },
  {
   "cell_type": "code",
   "execution_count": 471,
   "id": "e2528b46-80ad-4a8e-9906-4ec81bdfdb29",
   "metadata": {},
   "outputs": [],
   "source": [
    "sort_region_df = region_df.sort_values([\"reporting_month\",\"hydrologic_region\"])"
   ]
  },
  {
   "cell_type": "code",
   "execution_count": 472,
   "id": "470088cc-862a-422b-9a64-40269a67cb50",
   "metadata": {},
   "outputs": [],
   "source": [
    "sort_state_df = statewide_df.sort_values([\"reporting_month\"])"
   ]
  },
  {
   "cell_type": "markdown",
   "id": "d3c9f03c-169e-4267-9c81-69ef4326c8de",
   "metadata": {},
   "source": [
    "### Export"
   ]
  },
  {
   "cell_type": "code",
   "execution_count": 473,
   "id": "5bfd784b-cc8c-4c34-a887-4a69d0f87e5d",
   "metadata": {},
   "outputs": [],
   "source": [
    "sort_district_df.to_csv(\"../data/processed/district-level-residential-use.csv\", index=False)"
   ]
  },
  {
   "cell_type": "code",
   "execution_count": 474,
   "id": "611e9f73-98a9-4b68-9c5c-5d26fa499127",
   "metadata": {},
   "outputs": [],
   "source": [
    "sort_district_df[\n",
    "    sort_district_df.reporting_month == sort_district_df.reporting_month.max()\n",
    "].to_csv(\"../data/processed/latest-district-level-residential-use.csv\", index=False)"
   ]
  },
  {
   "cell_type": "code",
   "execution_count": 475,
   "id": "57397d09-6f0d-4171-b658-6bb8ef49f758",
   "metadata": {},
   "outputs": [],
   "source": [
    "sort_region_df.to_csv(\"../data/processed/regional-residential-usage.csv\", index=False)"
   ]
  },
  {
   "cell_type": "code",
   "execution_count": 476,
   "id": "a5b34a2c-74f8-45a2-a3cd-22e90deea336",
   "metadata": {},
   "outputs": [],
   "source": [
    "sort_region_df[\n",
    "    sort_region_df.reporting_month == sort_district_df.reporting_month.max()\n",
    "].to_csv(\"../data/processed/latest-regional-residential-use.csv\", index=False)"
   ]
  },
  {
   "cell_type": "code",
   "execution_count": 477,
   "id": "fc2a1e72-ccd2-45a0-a068-48df279c6af8",
   "metadata": {},
   "outputs": [],
   "source": [
    "sort_state_df.to_csv(\"../data/processed/statewide-residential-usage.csv\", index=False)"
   ]
  },
  {
   "cell_type": "code",
   "execution_count": 478,
   "id": "f006f28e-326f-4535-806b-c995e41459ab",
   "metadata": {},
   "outputs": [],
   "source": [
    "sort_state_df[\n",
    "    sort_state_df.reporting_month == sort_district_df.reporting_month.max()\n",
    "].to_csv(\"../data/processed/latest-statewide-level-residential-use.csv\", index=False)"
   ]
  }
 ],
 "metadata": {
  "kernelspec": {
   "display_name": "Python 3 (ipykernel)",
   "language": "python",
   "name": "python3"
  },
  "language_info": {
   "codemirror_mode": {
    "name": "ipython",
    "version": 3
   },
   "file_extension": ".py",
   "mimetype": "text/x-python",
   "name": "python",
   "nbconvert_exporter": "python",
   "pygments_lexer": "ipython3",
   "version": "3.9.6"
  }
 },
 "nbformat": 4,
 "nbformat_minor": 5
}
