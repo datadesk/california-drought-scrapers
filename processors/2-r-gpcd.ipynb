{
 "cells": [
  {
   "cell_type": "code",
   "execution_count": 377,
   "id": "89e6bf97-56dc-449a-862e-426bda299ee5",
   "metadata": {},
   "outputs": [],
   "source": [
    "import pandas as pd\n",
    "import altair as alt\n",
    "import altair_latimes as lat"
   ]
  },
  {
   "cell_type": "code",
   "execution_count": 378,
   "id": "87ee398f-dd06-4471-90d8-74d2ad7f7a45",
   "metadata": {},
   "outputs": [
    {
     "data": {
      "text/plain": [
       "ThemeRegistry.enable('latimes')"
      ]
     },
     "execution_count": 378,
     "metadata": {},
     "output_type": "execute_result"
    }
   ],
   "source": [
    "alt.themes.register('latimes', lat.theme)\n",
    "alt.themes.enable('latimes')"
   ]
  },
  {
   "cell_type": "markdown",
   "id": "9965cc79-7807-43bb-af0e-6840e511ebeb",
   "metadata": {},
   "source": [
    "### Import"
   ]
  },
  {
   "cell_type": "markdown",
   "id": "f19c51b2-d04a-43cb-ac02-bb8267917aac",
   "metadata": {},
   "source": [
    "Monthly reports timeseries"
   ]
  },
  {
   "cell_type": "code",
   "execution_count": 379,
   "id": "c03b3f41-de7d-4d3f-8b89-1e114979b829",
   "metadata": {},
   "outputs": [],
   "source": [
    "df = pd.read_csv(\"../data/raw/uw-usage.csv\", parse_dates=[\"Reporting Month\"])"
   ]
  },
  {
   "cell_type": "code",
   "execution_count": 380,
   "id": "3f26c3dc-4e93-4a61-987e-5bdc63f7758d",
   "metadata": {},
   "outputs": [],
   "source": [
    "clean_names = pd.read_csv(\"../data/metadata/urban-water-suppliers-clean-names.csv\")"
   ]
  },
  {
   "cell_type": "markdown",
   "id": "5ee352c7-fbb1-4cdd-990f-575dcf1b4889",
   "metadata": {},
   "source": [
    "### Clean"
   ]
  },
  {
   "cell_type": "markdown",
   "id": "1a329783-20cc-4d4a-b71c-b2d4e9e984d5",
   "metadata": {},
   "source": [
    "Remove junk from column names"
   ]
  },
  {
   "cell_type": "code",
   "execution_count": 381,
   "id": "f1ed09d0-380d-4f9d-91ad-cdd52ea22fb9",
   "metadata": {},
   "outputs": [],
   "source": [
    "df.columns = df.columns.str.replace(\" \",\"_\").str.replace(\"-\",\"_\").str.replace(r'[#,@,&,(,)]', '', regex=True).str.lower()"
   ]
  },
  {
   "cell_type": "markdown",
   "id": "9b698ae0-bb21-406e-968c-3ccc8051b00b",
   "metadata": {},
   "source": [
    "Eliminate double spaces in supplier names"
   ]
  },
  {
   "cell_type": "code",
   "execution_count": 382,
   "id": "e9d8434b-11e4-4322-9f69-e8d20de3a2e1",
   "metadata": {},
   "outputs": [],
   "source": [
    "df.supplier_name = df.supplier_name.str.replace(\"  \", \" \")"
   ]
  },
  {
   "cell_type": "code",
   "execution_count": 383,
   "id": "e26e1ad6-9c92-4545-a5f0-8385173ed18e",
   "metadata": {},
   "outputs": [
    {
     "data": {
      "text/plain": [
       "35007792"
      ]
     },
     "execution_count": 383,
     "metadata": {},
     "output_type": "execute_result"
    }
   ],
   "source": [
    "df[\n",
    "    df.reporting_month == df.reporting_month.max()\n",
    "].total_population_served.sum()"
   ]
  },
  {
   "cell_type": "markdown",
   "id": "adcda64d-3e18-4fd7-b1a8-fa47eca21300",
   "metadata": {},
   "source": [
    "Trim this downn to just the columns we need"
   ]
  },
  {
   "cell_type": "markdown",
   "id": "b2bc306e-548b-47cf-9fcf-26b20a578872",
   "metadata": {},
   "source": [
    "### Merge clean names"
   ]
  },
  {
   "cell_type": "code",
   "execution_count": 384,
   "id": "5183df9a-100b-4132-9bec-90efc4a95f04",
   "metadata": {},
   "outputs": [],
   "source": [
    "merge_df = pd.merge(\n",
    "    df,\n",
    "    clean_names,\n",
    "    how=\"left\",\n",
    "    left_on=[\"public_water_system_id\" , \"supplier_name\"],\n",
    "    right_on=[\"id\" , \"supplier_name\"]\n",
    ")"
   ]
  },
  {
   "cell_type": "markdown",
   "id": "76f78a3d-d908-4daa-966e-181667fc5b1b",
   "metadata": {},
   "source": [
    "### Trim"
   ]
  },
  {
   "cell_type": "code",
   "execution_count": 385,
   "id": "255bd05a-9a48-44d8-b53a-c6123e56c1de",
   "metadata": {},
   "outputs": [],
   "source": [
    "keeps = [\n",
    "    'supplier_name', \n",
    "    'display_name',\n",
    "    'public_water_system_id', \n",
    "    'reporting_month', \n",
    "    'county',\n",
    "    'hydrologic_region', \n",
    "    # 'climate_zone', \n",
    "    'total_population_served',\n",
    "    ### MAYBE PILE\n",
    "        'county_under_drought_declaration',\n",
    "        'water_shortage_contingency_stage_invoked',\n",
    "        'water_shortage_level_indicator',\n",
    "        'dwr_state_standard_level_corresponding_to_stage',\n",
    "    ### NEED THIS IF YOU WANT TO RECALCULATE R-GPCD BY DISTRICT\n",
    "        # 'water_production_units',\n",
    "        # 'reported_preliminary_total_potable_water_production',\n",
    "        # 'reported_final_total_potable_water_production',\n",
    "        # 'preliminary_percent_residential_use', \n",
    "        # 'final_percent_residential_use',\n",
    "    ### THESE COLUMNS ARE OPTIONAL FOR SUPPLIERS TO FILL OUT\n",
    "        # 'reported_preliminary_commercial_agricultural_water',\n",
    "        # 'reported_final_commercial_agricultural_water',\n",
    "        # 'reported_preliminary_commercial,_industrial_and_institutional_water',\n",
    "        # 'reported_final_commercial_industrial_and_institutional_water',\n",
    "        # 'reported_recycled_water', \n",
    "        # 'reported_non_revenue_water',\n",
    "    'calculated_total_potable_water_production_gallons_ag_excluded',\n",
    "    # 'calculated_total_potable_water_production_gallons_2013_ag_excluded',\n",
    "    # 'calculated_commercial_agricultural_water_gallons',\n",
    "    # 'calculated_commercial_agricultural_water_gallons_2013',\n",
    "    'calculated_r_gpcd', \n",
    "    # 'qualification'\n",
    "]"
   ]
  },
  {
   "cell_type": "code",
   "execution_count": 386,
   "id": "b0a6705a-00fd-4b96-98a2-e4deba47e94e",
   "metadata": {},
   "outputs": [],
   "source": [
    "trim_df = merge_df[keeps]"
   ]
  },
  {
   "cell_type": "code",
   "execution_count": 387,
   "id": "e2fafe15-f49f-4b2a-958a-dbe8e2496d51",
   "metadata": {},
   "outputs": [
    {
     "data": {
      "text/plain": [
       "array([ 5., nan,  2.,  3.,  0.,  1.,  4.])"
      ]
     },
     "execution_count": 387,
     "metadata": {},
     "output_type": "execute_result"
    }
   ],
   "source": [
    "trim_df.dwr_state_standard_level_corresponding_to_stage.unique()"
   ]
  },
  {
   "cell_type": "markdown",
   "id": "a8fcea73-84a4-448f-9f20-330d7b185e9c",
   "metadata": {},
   "source": [
    "### Backfill missing dates"
   ]
  },
  {
   "cell_type": "code",
   "execution_count": 388,
   "id": "e64c810c-03af-4f8c-8f9c-db59ca6fb586",
   "metadata": {},
   "outputs": [
    {
     "data": {
      "text/plain": [
       "Timestamp('2014-06-15 00:00:00')"
      ]
     },
     "execution_count": 388,
     "metadata": {},
     "output_type": "execute_result"
    }
   ],
   "source": [
    "min_date = trim_df.reporting_month.min()\n",
    "min_date"
   ]
  },
  {
   "cell_type": "code",
   "execution_count": 389,
   "id": "740c4b54-bce0-4abf-9f00-b070e755e246",
   "metadata": {},
   "outputs": [
    {
     "data": {
      "text/plain": [
       "Timestamp('2022-04-15 00:00:00')"
      ]
     },
     "execution_count": 389,
     "metadata": {},
     "output_type": "execute_result"
    }
   ],
   "source": [
    "max_date = trim_df.reporting_month.max()\n",
    "max_date"
   ]
  },
  {
   "cell_type": "code",
   "execution_count": 390,
   "id": "fb1e4aab-8d35-4e0e-8ec9-797d941846bc",
   "metadata": {},
   "outputs": [],
   "source": [
    "def backfill(agency_group):\n",
    "    \"\"\"\n",
    "    Backfills empty dates in the provided county group.\n",
    "\n",
    "    Runs from the earliest date in the group to the latest.\n",
    "\n",
    "    Filled in dates are given the previous day's case count with an `ffill` technique.\n",
    "\n",
    "    The expanded group is returned.\n",
    "    \"\"\"\n",
    "    agency_df = agency_group.sort_values([\"supplier_name\", \"reporting_month\"]).set_index(\n",
    "        [\"supplier_name\", \"reporting_month\"]\n",
    "    )\n",
    "\n",
    "    # Backfill the daterange\n",
    "    ## Get the full range of values from the extent of dates in the dataframe\n",
    "    date_range = pd.date_range(\n",
    "        min_date,\n",
    "        max_date,\n",
    "        freq=pd.DateOffset(months=1, day=15),\n",
    "    )\n",
    "    ## Get the full range of unique place names\n",
    "    name_range = agency_df.index.unique(level=\"supplier_name\")\n",
    "    ## Create a new index that has an entry for every place on every date\n",
    "    namedate_index = pd.MultiIndex.from_product(\n",
    "        iterables=[name_range, date_range], names=[\"supplier_name\", \"reporting_month\"]\n",
    "    )\n",
    "    ## Reindex the dataframe using that complete list of places and dates\n",
    "    backfilled_df = agency_df.reindex(namedate_index)\n",
    "\n",
    "    # Zero out missing data\n",
    "    backfilled_df.calculated_r_gpcd.fillna(-999999999, inplace=True)\n",
    "    backfilled_df.calculated_total_potable_water_production_gallons_ag_excluded.fillna(-999999999, inplace=True)\n",
    "\n",
    "    # Foward-fill the other remaining columns\n",
    "    backfilled_df = backfilled_df.groupby(\"supplier_name\").ffill()\n",
    "\n",
    "    # Reset it\n",
    "    reset_df = backfilled_df.reset_index()\n",
    "\n",
    "    # Return it\n",
    "    return reset_df"
   ]
  },
  {
   "cell_type": "code",
   "execution_count": 391,
   "id": "8f6069fe-46c8-45df-a0a3-1c75544bdf51",
   "metadata": {},
   "outputs": [],
   "source": [
    "backfilled_df = (\n",
    "    trim_df.groupby(\"supplier_name\").apply(backfill).reset_index(drop=True)\n",
    ")"
   ]
  },
  {
   "cell_type": "code",
   "execution_count": 392,
   "id": "84af4569-6416-4646-91b6-4cf5af90e904",
   "metadata": {},
   "outputs": [
    {
     "data": {
      "text/html": [
       "<div>\n",
       "<style scoped>\n",
       "    .dataframe tbody tr th:only-of-type {\n",
       "        vertical-align: middle;\n",
       "    }\n",
       "\n",
       "    .dataframe tbody tr th {\n",
       "        vertical-align: top;\n",
       "    }\n",
       "\n",
       "    .dataframe thead th {\n",
       "        text-align: right;\n",
       "    }\n",
       "</style>\n",
       "<table border=\"1\" class=\"dataframe\">\n",
       "  <thead>\n",
       "    <tr style=\"text-align: right;\">\n",
       "      <th></th>\n",
       "      <th>supplier_name</th>\n",
       "      <th>reporting_month</th>\n",
       "      <th>display_name</th>\n",
       "      <th>public_water_system_id</th>\n",
       "      <th>county</th>\n",
       "      <th>hydrologic_region</th>\n",
       "      <th>total_population_served</th>\n",
       "      <th>county_under_drought_declaration</th>\n",
       "      <th>water_shortage_contingency_stage_invoked</th>\n",
       "      <th>water_shortage_level_indicator</th>\n",
       "      <th>dwr_state_standard_level_corresponding_to_stage</th>\n",
       "      <th>calculated_total_potable_water_production_gallons_ag_excluded</th>\n",
       "      <th>calculated_r_gpcd</th>\n",
       "    </tr>\n",
       "  </thead>\n",
       "  <tbody>\n",
       "    <tr>\n",
       "      <th>26315</th>\n",
       "      <td>Pismo Beach City of</td>\n",
       "      <td>2014-06-15</td>\n",
       "      <td>City of Pismo Beach</td>\n",
       "      <td>CA4010008</td>\n",
       "      <td>San Luis Obispo</td>\n",
       "      <td>Central Coast</td>\n",
       "      <td>7705.0</td>\n",
       "      <td>NaN</td>\n",
       "      <td>3rd</td>\n",
       "      <td>NaN</td>\n",
       "      <td>NaN</td>\n",
       "      <td>6.328678e+07</td>\n",
       "      <td>1.258010e+02</td>\n",
       "    </tr>\n",
       "    <tr>\n",
       "      <th>26316</th>\n",
       "      <td>Pismo Beach City of</td>\n",
       "      <td>2014-07-15</td>\n",
       "      <td>City of Pismo Beach</td>\n",
       "      <td>CA4010008</td>\n",
       "      <td>San Luis Obispo</td>\n",
       "      <td>Central Coast</td>\n",
       "      <td>7705.0</td>\n",
       "      <td>NaN</td>\n",
       "      <td>3rd</td>\n",
       "      <td>NaN</td>\n",
       "      <td>NaN</td>\n",
       "      <td>6.685159e+07</td>\n",
       "      <td>1.286460e+02</td>\n",
       "    </tr>\n",
       "    <tr>\n",
       "      <th>26317</th>\n",
       "      <td>Pismo Beach City of</td>\n",
       "      <td>2014-08-15</td>\n",
       "      <td>City of Pismo Beach</td>\n",
       "      <td>CA4010008</td>\n",
       "      <td>San Luis Obispo</td>\n",
       "      <td>Central Coast</td>\n",
       "      <td>7705.0</td>\n",
       "      <td>NaN</td>\n",
       "      <td>3rd</td>\n",
       "      <td>NaN</td>\n",
       "      <td>NaN</td>\n",
       "      <td>5.372957e+07</td>\n",
       "      <td>1.035450e+02</td>\n",
       "    </tr>\n",
       "    <tr>\n",
       "      <th>26318</th>\n",
       "      <td>Pismo Beach City of</td>\n",
       "      <td>2014-09-15</td>\n",
       "      <td>City of Pismo Beach</td>\n",
       "      <td>CA4010008</td>\n",
       "      <td>San Luis Obispo</td>\n",
       "      <td>Central Coast</td>\n",
       "      <td>7705.0</td>\n",
       "      <td>NaN</td>\n",
       "      <td>3rd</td>\n",
       "      <td>NaN</td>\n",
       "      <td>NaN</td>\n",
       "      <td>5.375890e+07</td>\n",
       "      <td>1.069960e+02</td>\n",
       "    </tr>\n",
       "    <tr>\n",
       "      <th>26319</th>\n",
       "      <td>Pismo Beach City of</td>\n",
       "      <td>2014-10-15</td>\n",
       "      <td>City of Pismo Beach</td>\n",
       "      <td>CA4010008</td>\n",
       "      <td>San Luis Obispo</td>\n",
       "      <td>Central Coast</td>\n",
       "      <td>7705.0</td>\n",
       "      <td>NaN</td>\n",
       "      <td>3rd</td>\n",
       "      <td>NaN</td>\n",
       "      <td>NaN</td>\n",
       "      <td>5.493848e+07</td>\n",
       "      <td>1.060550e+02</td>\n",
       "    </tr>\n",
       "    <tr>\n",
       "      <th>...</th>\n",
       "      <td>...</td>\n",
       "      <td>...</td>\n",
       "      <td>...</td>\n",
       "      <td>...</td>\n",
       "      <td>...</td>\n",
       "      <td>...</td>\n",
       "      <td>...</td>\n",
       "      <td>...</td>\n",
       "      <td>...</td>\n",
       "      <td>...</td>\n",
       "      <td>...</td>\n",
       "      <td>...</td>\n",
       "      <td>...</td>\n",
       "    </tr>\n",
       "    <tr>\n",
       "      <th>26405</th>\n",
       "      <td>Pismo Beach City of</td>\n",
       "      <td>2021-12-15</td>\n",
       "      <td>City of Pismo Beach</td>\n",
       "      <td>CA4010008</td>\n",
       "      <td>San Luis Obispo</td>\n",
       "      <td>Central Coast</td>\n",
       "      <td>8233.0</td>\n",
       "      <td>Yes</td>\n",
       "      <td>2nd of 4</td>\n",
       "      <td>No</td>\n",
       "      <td>NaN</td>\n",
       "      <td>3.880885e+07</td>\n",
       "      <td>6.988830e+01</td>\n",
       "    </tr>\n",
       "    <tr>\n",
       "      <th>26406</th>\n",
       "      <td>Pismo Beach City of</td>\n",
       "      <td>2022-01-15</td>\n",
       "      <td>City of Pismo Beach</td>\n",
       "      <td>CA4010008</td>\n",
       "      <td>San Luis Obispo</td>\n",
       "      <td>Central Coast</td>\n",
       "      <td>8233.0</td>\n",
       "      <td>Yes</td>\n",
       "      <td>3rd of 4</td>\n",
       "      <td>Yes</td>\n",
       "      <td>NaN</td>\n",
       "      <td>3.497359e+07</td>\n",
       "      <td>6.284080e+01</td>\n",
       "    </tr>\n",
       "    <tr>\n",
       "      <th>26407</th>\n",
       "      <td>Pismo Beach City of</td>\n",
       "      <td>2022-02-15</td>\n",
       "      <td>City of Pismo Beach</td>\n",
       "      <td>CA4010008</td>\n",
       "      <td>San Luis Obispo</td>\n",
       "      <td>Central Coast</td>\n",
       "      <td>8233.0</td>\n",
       "      <td>Yes</td>\n",
       "      <td>3rd of 4</td>\n",
       "      <td>Yes</td>\n",
       "      <td>NaN</td>\n",
       "      <td>-1.000000e+09</td>\n",
       "      <td>-1.000000e+09</td>\n",
       "    </tr>\n",
       "    <tr>\n",
       "      <th>26408</th>\n",
       "      <td>Pismo Beach City of</td>\n",
       "      <td>2022-03-15</td>\n",
       "      <td>City of Pismo Beach</td>\n",
       "      <td>CA4010008</td>\n",
       "      <td>San Luis Obispo</td>\n",
       "      <td>Central Coast</td>\n",
       "      <td>8233.0</td>\n",
       "      <td>Yes</td>\n",
       "      <td>3rd of 4</td>\n",
       "      <td>Yes</td>\n",
       "      <td>NaN</td>\n",
       "      <td>-1.000000e+09</td>\n",
       "      <td>-1.000000e+09</td>\n",
       "    </tr>\n",
       "    <tr>\n",
       "      <th>26409</th>\n",
       "      <td>Pismo Beach City of</td>\n",
       "      <td>2022-04-15</td>\n",
       "      <td>City of Pismo Beach</td>\n",
       "      <td>CA4010008</td>\n",
       "      <td>San Luis Obispo</td>\n",
       "      <td>Central Coast</td>\n",
       "      <td>8233.0</td>\n",
       "      <td>Yes</td>\n",
       "      <td>3rd of 4</td>\n",
       "      <td>Yes</td>\n",
       "      <td>NaN</td>\n",
       "      <td>-1.000000e+09</td>\n",
       "      <td>-1.000000e+09</td>\n",
       "    </tr>\n",
       "  </tbody>\n",
       "</table>\n",
       "<p>95 rows × 13 columns</p>\n",
       "</div>"
      ],
      "text/plain": [
       "             supplier_name reporting_month         display_name  \\\n",
       "26315  Pismo Beach City of      2014-06-15  City of Pismo Beach   \n",
       "26316  Pismo Beach City of      2014-07-15  City of Pismo Beach   \n",
       "26317  Pismo Beach City of      2014-08-15  City of Pismo Beach   \n",
       "26318  Pismo Beach City of      2014-09-15  City of Pismo Beach   \n",
       "26319  Pismo Beach City of      2014-10-15  City of Pismo Beach   \n",
       "...                    ...             ...                  ...   \n",
       "26405  Pismo Beach City of      2021-12-15  City of Pismo Beach   \n",
       "26406  Pismo Beach City of      2022-01-15  City of Pismo Beach   \n",
       "26407  Pismo Beach City of      2022-02-15  City of Pismo Beach   \n",
       "26408  Pismo Beach City of      2022-03-15  City of Pismo Beach   \n",
       "26409  Pismo Beach City of      2022-04-15  City of Pismo Beach   \n",
       "\n",
       "      public_water_system_id           county hydrologic_region  \\\n",
       "26315              CA4010008  San Luis Obispo     Central Coast   \n",
       "26316              CA4010008  San Luis Obispo     Central Coast   \n",
       "26317              CA4010008  San Luis Obispo     Central Coast   \n",
       "26318              CA4010008  San Luis Obispo     Central Coast   \n",
       "26319              CA4010008  San Luis Obispo     Central Coast   \n",
       "...                      ...              ...               ...   \n",
       "26405              CA4010008  San Luis Obispo     Central Coast   \n",
       "26406              CA4010008  San Luis Obispo     Central Coast   \n",
       "26407              CA4010008  San Luis Obispo     Central Coast   \n",
       "26408              CA4010008  San Luis Obispo     Central Coast   \n",
       "26409              CA4010008  San Luis Obispo     Central Coast   \n",
       "\n",
       "       total_population_served county_under_drought_declaration  \\\n",
       "26315                   7705.0                              NaN   \n",
       "26316                   7705.0                              NaN   \n",
       "26317                   7705.0                              NaN   \n",
       "26318                   7705.0                              NaN   \n",
       "26319                   7705.0                              NaN   \n",
       "...                        ...                              ...   \n",
       "26405                   8233.0                              Yes   \n",
       "26406                   8233.0                              Yes   \n",
       "26407                   8233.0                              Yes   \n",
       "26408                   8233.0                              Yes   \n",
       "26409                   8233.0                              Yes   \n",
       "\n",
       "      water_shortage_contingency_stage_invoked water_shortage_level_indicator  \\\n",
       "26315                                      3rd                            NaN   \n",
       "26316                                      3rd                            NaN   \n",
       "26317                                      3rd                            NaN   \n",
       "26318                                      3rd                            NaN   \n",
       "26319                                      3rd                            NaN   \n",
       "...                                        ...                            ...   \n",
       "26405                                 2nd of 4                             No   \n",
       "26406                                 3rd of 4                            Yes   \n",
       "26407                                 3rd of 4                            Yes   \n",
       "26408                                 3rd of 4                            Yes   \n",
       "26409                                 3rd of 4                            Yes   \n",
       "\n",
       "       dwr_state_standard_level_corresponding_to_stage  \\\n",
       "26315                                              NaN   \n",
       "26316                                              NaN   \n",
       "26317                                              NaN   \n",
       "26318                                              NaN   \n",
       "26319                                              NaN   \n",
       "...                                                ...   \n",
       "26405                                              NaN   \n",
       "26406                                              NaN   \n",
       "26407                                              NaN   \n",
       "26408                                              NaN   \n",
       "26409                                              NaN   \n",
       "\n",
       "       calculated_total_potable_water_production_gallons_ag_excluded  \\\n",
       "26315                                       6.328678e+07               \n",
       "26316                                       6.685159e+07               \n",
       "26317                                       5.372957e+07               \n",
       "26318                                       5.375890e+07               \n",
       "26319                                       5.493848e+07               \n",
       "...                                                  ...               \n",
       "26405                                       3.880885e+07               \n",
       "26406                                       3.497359e+07               \n",
       "26407                                      -1.000000e+09               \n",
       "26408                                      -1.000000e+09               \n",
       "26409                                      -1.000000e+09               \n",
       "\n",
       "       calculated_r_gpcd  \n",
       "26315       1.258010e+02  \n",
       "26316       1.286460e+02  \n",
       "26317       1.035450e+02  \n",
       "26318       1.069960e+02  \n",
       "26319       1.060550e+02  \n",
       "...                  ...  \n",
       "26405       6.988830e+01  \n",
       "26406       6.284080e+01  \n",
       "26407      -1.000000e+09  \n",
       "26408      -1.000000e+09  \n",
       "26409      -1.000000e+09  \n",
       "\n",
       "[95 rows x 13 columns]"
      ]
     },
     "execution_count": 392,
     "metadata": {},
     "output_type": "execute_result"
    }
   ],
   "source": [
    "backfilled_df[backfilled_df.display_name==\"City of Pismo Beach\"]"
   ]
  },
  {
   "cell_type": "markdown",
   "id": "6fab0f67-bcd7-4d7a-96cf-892e42666973",
   "metadata": {},
   "source": [
    "### Calculate"
   ]
  },
  {
   "cell_type": "markdown",
   "id": "dfaa37cd-e45d-431f-a56b-5d8c0cff3c59",
   "metadata": {},
   "source": [
    "Calculate population-weighted r-gpcd for hydrologic regions"
   ]
  },
  {
   "cell_type": "code",
   "execution_count": 393,
   "id": "58616d3c-ddb6-4e7c-9d11-f677b9a06a01",
   "metadata": {},
   "outputs": [],
   "source": [
    "def regional_calcs(df, gals, rgpcd, pop):\n",
    "    val = df[rgpcd]\n",
    "    wt = df[pop]\n",
    "    wt_avg = (val * wt).sum() / wt.sum()\n",
    "    #return (val * wt).sum() / wt.sum()\n",
    "    total_gals = df[gals].sum()\n",
    "    total_pop = df[pop].sum()\n",
    "    return pd.Series([total_pop, total_gals, wt_avg], index=['total_pop', 'total_gallons', 'pop_weighted_rgpcd'])"
   ]
  },
  {
   "cell_type": "code",
   "execution_count": 394,
   "id": "9ef70670-21be-48cf-a310-fb4f32c9defd",
   "metadata": {},
   "outputs": [],
   "source": [
    "region_df = backfilled_df.groupby(\n",
    "    ['reporting_month','hydrologic_region']\n",
    ").apply(\n",
    "    regional_calcs,\n",
    "    \"calculated_total_potable_water_production_gallons_ag_excluded\",\n",
    "    'calculated_r_gpcd', \n",
    "    'total_population_served'\n",
    ").reset_index()"
   ]
  },
  {
   "cell_type": "markdown",
   "id": "344c6f73-4f27-46dc-8231-ded9c6482b19",
   "metadata": {},
   "source": [
    "Now do it for the entire state"
   ]
  },
  {
   "cell_type": "code",
   "execution_count": 395,
   "id": "4dde5b0c-fd6f-4444-a69a-e5e1316185f5",
   "metadata": {},
   "outputs": [],
   "source": [
    "statewide_df = backfilled_df.groupby(\n",
    "    ['reporting_month']\n",
    ").apply(\n",
    "    regional_calcs,\n",
    "    \"calculated_total_potable_water_production_gallons_ag_excluded\",\n",
    "    'calculated_r_gpcd', \n",
    "    'total_population_served'\n",
    ").reset_index()"
   ]
  },
  {
   "cell_type": "code",
   "execution_count": 396,
   "id": "3b95df70-7a3d-4d7e-be72-3db7edbebaae",
   "metadata": {},
   "outputs": [],
   "source": [
    "# in case we need to recalculate r-gpcd, use this dict for days per month\n",
    "# days_per_month = {\n",
    "#     \"1\": 31,\n",
    "#     \"2\": 28,\n",
    "#     \"3\": 31,\n",
    "#     \"4\": 30,\n",
    "#     \"5\": 31,\n",
    "#     \"6\": 30,\n",
    "#     \"7\": 31,\n",
    "#     \"8\": 31,\n",
    "#     \"9\": 30,\n",
    "#     \"10\": 31,\n",
    "#     \"11\": 30,\n",
    "#     \"12\": 31\n",
    "# }"
   ]
  },
  {
   "cell_type": "markdown",
   "id": "4455cc8f-4ed8-42ae-ab20-fd1b6737c686",
   "metadata": {},
   "source": [
    "### Merge regional r-gpcd values to district df"
   ]
  },
  {
   "cell_type": "code",
   "execution_count": 397,
   "id": "f91b7953-4566-4eaa-82d0-42942069fa85",
   "metadata": {},
   "outputs": [],
   "source": [
    "merge_df = pd.merge(\n",
    "    backfilled_df, \n",
    "    region_df[[\"hydrologic_region\",\"reporting_month\",\"pop_weighted_rgpcd\"]], \n",
    "    how=\"left\", \n",
    "    on=[\"hydrologic_region\",\"reporting_month\"]\n",
    ")"
   ]
  },
  {
   "cell_type": "markdown",
   "id": "6f05400a-a942-4bf6-8a79-ef6236cda6c3",
   "metadata": {},
   "source": [
    "### Rename r-gpcd columns for clarity"
   ]
  },
  {
   "cell_type": "code",
   "execution_count": 398,
   "id": "a7347354-69b3-4352-b8a3-06bbc7e2fd86",
   "metadata": {},
   "outputs": [],
   "source": [
    "rename_df = merge_df.rename(columns={\n",
    "    \"calculated_r_gpcd\": \"r_gpcd\",\n",
    "    \"pop_weighted_rgpcd\": \"regional_r_gpcd\"\n",
    "})"
   ]
  },
  {
   "cell_type": "markdown",
   "id": "aa4e6755-4aa0-4349-a371-ca068512caf9",
   "metadata": {},
   "source": [
    "### Chart"
   ]
  },
  {
   "cell_type": "code",
   "execution_count": 399,
   "id": "f8ab2886-45b0-425b-ad77-cf32fc55b581",
   "metadata": {},
   "outputs": [],
   "source": [
    "melt = pd.melt(\n",
    "    rename_df, \n",
    "    id_vars=[\"display_name\",\"hydrologic_region\",\"reporting_month\"], \n",
    "    value_vars=[\"r_gpcd\",\"regional_r_gpcd\"]\n",
    ")"
   ]
  },
  {
   "cell_type": "code",
   "execution_count": 400,
   "id": "58042a8b-1b8f-4e6a-9d09-c6bfe95f6dc9",
   "metadata": {},
   "outputs": [
    {
     "data": {
      "text/html": [
       "\n",
       "<div id=\"altair-viz-9df727876f5b4b5d91343882d0bffdb5\"></div>\n",
       "<script type=\"text/javascript\">\n",
       "  var VEGA_DEBUG = (typeof VEGA_DEBUG == \"undefined\") ? {} : VEGA_DEBUG;\n",
       "  (function(spec, embedOpt){\n",
       "    let outputDiv = document.currentScript.previousElementSibling;\n",
       "    if (outputDiv.id !== \"altair-viz-9df727876f5b4b5d91343882d0bffdb5\") {\n",
       "      outputDiv = document.getElementById(\"altair-viz-9df727876f5b4b5d91343882d0bffdb5\");\n",
       "    }\n",
       "    const paths = {\n",
       "      \"vega\": \"https://cdn.jsdelivr.net/npm//vega@5?noext\",\n",
       "      \"vega-lib\": \"https://cdn.jsdelivr.net/npm//vega-lib?noext\",\n",
       "      \"vega-lite\": \"https://cdn.jsdelivr.net/npm//vega-lite@4.17.0?noext\",\n",
       "      \"vega-embed\": \"https://cdn.jsdelivr.net/npm//vega-embed@6?noext\",\n",
       "    };\n",
       "\n",
       "    function maybeLoadScript(lib, version) {\n",
       "      var key = `${lib.replace(\"-\", \"\")}_version`;\n",
       "      return (VEGA_DEBUG[key] == version) ?\n",
       "        Promise.resolve(paths[lib]) :\n",
       "        new Promise(function(resolve, reject) {\n",
       "          var s = document.createElement('script');\n",
       "          document.getElementsByTagName(\"head\")[0].appendChild(s);\n",
       "          s.async = true;\n",
       "          s.onload = () => {\n",
       "            VEGA_DEBUG[key] = version;\n",
       "            return resolve(paths[lib]);\n",
       "          };\n",
       "          s.onerror = () => reject(`Error loading script: ${paths[lib]}`);\n",
       "          s.src = paths[lib];\n",
       "        });\n",
       "    }\n",
       "\n",
       "    function showError(err) {\n",
       "      outputDiv.innerHTML = `<div class=\"error\" style=\"color:red;\">${err}</div>`;\n",
       "      throw err;\n",
       "    }\n",
       "\n",
       "    function displayChart(vegaEmbed) {\n",
       "      vegaEmbed(outputDiv, spec, embedOpt)\n",
       "        .catch(err => showError(`Javascript Error: ${err.message}<br>This usually means there's a typo in your chart specification. See the javascript console for the full traceback.`));\n",
       "    }\n",
       "\n",
       "    if(typeof define === \"function\" && define.amd) {\n",
       "      requirejs.config({paths});\n",
       "      require([\"vega-embed\"], displayChart, err => showError(`Error loading script: ${err.message}`));\n",
       "    } else {\n",
       "      maybeLoadScript(\"vega\", \"5\")\n",
       "        .then(() => maybeLoadScript(\"vega-lite\", \"4.17.0\"))\n",
       "        .then(() => maybeLoadScript(\"vega-embed\", \"6\"))\n",
       "        .catch(showError)\n",
       "        .then(() => displayChart(vegaEmbed));\n",
       "    }\n",
       "  })({\"config\": {\"view\": {\"width\": 800, \"height\": 450}, \"background\": \"#ffffff\", \"title\": {\"anchor\": \"start\", \"font\": \"BentonGothic-Bold, sans\", \"fontColor\": \"#000000\", \"fontSize\": 22, \"fontWeight\": \"normal\"}, \"arc\": {\"fill\": \"#82c6df\"}, \"area\": {\"fill\": \"#82c6df\"}, \"line\": {\"stroke\": \"#82c6df\", \"strokeWidth\": 3}, \"path\": {\"stroke\": \"#82c6df\"}, \"rect\": {\"fill\": \"#82c6df\"}, \"shape\": {\"stroke\": \"#82c6df\"}, \"bar\": {\"fill\": \"#82c6df\"}, \"point\": {\"stroke\": \"#82c6df\"}, \"symbol\": {\"fill\": \"#82c6df\", \"size\": 30}, \"axis\": {\"titleFont\": \"BentonGothic-Bold, sans\", \"titleFontSize\": 14, \"titleFontWeight\": \"normal\", \"labelFont\": \"BentonGothic, sans\", \"labelFontSize\": 12, \"labelFontWeight\": \"normal\"}, \"axisX\": {\"labelAngle\": 0, \"labelPadding\": 4, \"tickSize\": 3}, \"axisY\": {\"labelBaseline\": \"middle\", \"maxExtent\": 45, \"minExtent\": 45, \"tickSize\": 2, \"titleAlign\": \"left\", \"titleAngle\": 0, \"titleX\": -45, \"titleY\": -11}, \"legend\": {\"titleFont\": \"BentonGothic-Bold, sans\", \"titleFontSize\": 14, \"titleFontWeight\": \"normal\", \"symbolType\": \"square\", \"labelFont\": \"BentonGothic, sans\", \"labelFontSize\": 13}, \"range\": {\"category\": [\"#3580b1\", \"#ec8431\", \"#ab7fb4\", \"#c89d29\", \"#adc839\", \"#829eb1\"], \"diverging\": [\"#e68a4f\", \"#f4bb6a\", \"#f9e39c\", \"#dadfe2\", \"#a6b7c6\", \"#849eae\"], \"heatmap\": [\"#fbf2c7\", \"#f9e39c\", \"#f8d36e\", \"#f4bb6a\", \"#e68a4f\", \"#d15a40\", \"#ab4232\"], \"ordinal\": [\"#fbf2c7\", \"#f9e39c\", \"#f8d36e\", \"#f4bb6a\", \"#e68a4f\", \"#d15a40\", \"#ab4232\"], \"ramp\": [\"#fbf2c7\", \"#f9e39c\", \"#f8d36e\", \"#f4bb6a\", \"#e68a4f\", \"#d15a40\", \"#ab4232\"]}}, \"layer\": [{\"mark\": {\"type\": \"bar\", \"color\": \"#83c6e0\"}, \"encoding\": {\"tooltip\": [{\"field\": \"reporting_month\", \"type\": \"temporal\"}], \"x\": {\"field\": \"reporting_month\", \"timeUnit\": \"yearmonth\", \"type\": \"ordinal\"}, \"y\": {\"field\": \"r_gpcd\", \"stack\": null, \"type\": \"quantitative\"}}}, {\"mark\": {\"type\": \"line\", \"color\": \"#1281aa\", \"interpolate\": \"step\"}, \"encoding\": {\"tooltip\": [{\"field\": \"reporting_month\", \"type\": \"temporal\"}], \"x\": {\"field\": \"reporting_month\", \"timeUnit\": \"yearmonth\", \"type\": \"ordinal\"}, \"y\": {\"field\": \"regional_r_gpcd\", \"type\": \"quantitative\"}}}, {\"data\": {\"name\": \"data-fbbb9ee2363bf5756f5e77cb136e052e\"}, \"mark\": {\"type\": \"rule\", \"color\": \"#b75a36\", \"strokeDash\": [10, 11]}, \"encoding\": {\"y\": {\"field\": \"y\", \"type\": \"quantitative\"}}}], \"data\": {\"name\": \"data-9c64cc03d7fe45fa4c77499b26313062\"}, \"title\": \"City of Pismo Beach residential water usage compared to regional average\", \"width\": 600, \"$schema\": \"https://vega.github.io/schema/vega-lite/v4.17.0.json\", \"datasets\": {\"data-9c64cc03d7fe45fa4c77499b26313062\": [{\"supplier_name\": \"Pismo Beach City of\", \"reporting_month\": \"2021-05-15T00:00:00\", \"display_name\": \"City of Pismo Beach\", \"public_water_system_id\": \"CA4010008\", \"county\": \"San Luis Obispo\", \"hydrologic_region\": \"Central Coast\", \"total_population_served\": 8233.0, \"county_under_drought_declaration\": null, \"water_shortage_contingency_stage_invoked\": \"2nd\", \"water_shortage_level_indicator\": \"No\", \"dwr_state_standard_level_corresponding_to_stage\": null, \"calculated_total_potable_water_production_gallons_ag_excluded\": 54567008.46, \"r_gpcd\": 98.0786, \"regional_r_gpcd\": 80.7840474993748}, {\"supplier_name\": \"Pismo Beach City of\", \"reporting_month\": \"2021-06-15T00:00:00\", \"display_name\": \"City of Pismo Beach\", \"public_water_system_id\": \"CA4010008\", \"county\": \"San Luis Obispo\", \"hydrologic_region\": \"Central Coast\", \"total_population_served\": 8233.0, \"county_under_drought_declaration\": null, \"water_shortage_contingency_stage_invoked\": \"2nd of 4\", \"water_shortage_level_indicator\": \"No\", \"dwr_state_standard_level_corresponding_to_stage\": null, \"calculated_total_potable_water_production_gallons_ag_excluded\": 54834206.28, \"r_gpcd\": 101.955, \"regional_r_gpcd\": 88.27350331992852}, {\"supplier_name\": \"Pismo Beach City of\", \"reporting_month\": \"2021-07-15T00:00:00\", \"display_name\": \"City of Pismo Beach\", \"public_water_system_id\": \"CA4010008\", \"county\": \"San Luis Obispo\", \"hydrologic_region\": \"Central Coast\", \"total_population_served\": 8233.0, \"county_under_drought_declaration\": \"Yes\", \"water_shortage_contingency_stage_invoked\": \"2nd of 4\", \"water_shortage_level_indicator\": \"No\", \"dwr_state_standard_level_corresponding_to_stage\": null, \"calculated_total_potable_water_production_gallons_ag_excluded\": 60618061.53, \"r_gpcd\": 109.237, \"regional_r_gpcd\": 85.90811191463196}, {\"supplier_name\": \"Pismo Beach City of\", \"reporting_month\": \"2021-08-15T00:00:00\", \"display_name\": \"City of Pismo Beach\", \"public_water_system_id\": \"CA4010008\", \"county\": \"San Luis Obispo\", \"hydrologic_region\": \"Central Coast\", \"total_population_served\": 8233.0, \"county_under_drought_declaration\": \"No\", \"water_shortage_contingency_stage_invoked\": \"1st of 4\", \"water_shortage_level_indicator\": \"No\", \"dwr_state_standard_level_corresponding_to_stage\": null, \"calculated_total_potable_water_production_gallons_ag_excluded\": 52644487.56, \"r_gpcd\": 95.1421, \"regional_r_gpcd\": 85.8242146725384}, {\"supplier_name\": \"Pismo Beach City of\", \"reporting_month\": \"2021-09-15T00:00:00\", \"display_name\": \"City of Pismo Beach\", \"public_water_system_id\": \"CA4010008\", \"county\": \"San Luis Obispo\", \"hydrologic_region\": \"Central Coast\", \"total_population_served\": 8233.0, \"county_under_drought_declaration\": \"Yes\", \"water_shortage_contingency_stage_invoked\": \"2nd of 4\", \"water_shortage_level_indicator\": \"No\", \"dwr_state_standard_level_corresponding_to_stage\": null, \"calculated_total_potable_water_production_gallons_ag_excluded\": 39297630.6, \"r_gpcd\": 73.4317, \"regional_r_gpcd\": -31170694.323671207}, {\"supplier_name\": \"Pismo Beach City of\", \"reporting_month\": \"2021-10-15T00:00:00\", \"display_name\": \"City of Pismo Beach\", \"public_water_system_id\": \"CA4010008\", \"county\": \"San Luis Obispo\", \"hydrologic_region\": \"Central Coast\", \"total_population_served\": 8233.0, \"county_under_drought_declaration\": \"Yes\", \"water_shortage_contingency_stage_invoked\": \"2nd of 4\", \"water_shortage_level_indicator\": \"No\", \"dwr_state_standard_level_corresponding_to_stage\": null, \"calculated_total_potable_water_production_gallons_ag_excluded\": -999999999.0, \"r_gpcd\": -999999999.0, \"regional_r_gpcd\": -6352756.468533897}, {\"supplier_name\": \"Pismo Beach City of\", \"reporting_month\": \"2021-11-15T00:00:00\", \"display_name\": \"City of Pismo Beach\", \"public_water_system_id\": \"CA4010008\", \"county\": \"San Luis Obispo\", \"hydrologic_region\": \"Central Coast\", \"total_population_served\": 8233.0, \"county_under_drought_declaration\": \"No\", \"water_shortage_contingency_stage_invoked\": \"1st of 4\", \"water_shortage_level_indicator\": \"No\", \"dwr_state_standard_level_corresponding_to_stage\": null, \"calculated_total_potable_water_production_gallons_ag_excluded\": 42370405.53, \"r_gpcd\": 78.8935, \"regional_r_gpcd\": 63.671440979547484}, {\"supplier_name\": \"Pismo Beach City of\", \"reporting_month\": \"2021-12-15T00:00:00\", \"display_name\": \"City of Pismo Beach\", \"public_water_system_id\": \"CA4010008\", \"county\": \"San Luis Obispo\", \"hydrologic_region\": \"Central Coast\", \"total_population_served\": 8233.0, \"county_under_drought_declaration\": \"Yes\", \"water_shortage_contingency_stage_invoked\": \"2nd of 4\", \"water_shortage_level_indicator\": \"No\", \"dwr_state_standard_level_corresponding_to_stage\": null, \"calculated_total_potable_water_production_gallons_ag_excluded\": 38808854.1, \"r_gpcd\": 69.8883, \"regional_r_gpcd\": 56.101092196106116}, {\"supplier_name\": \"Pismo Beach City of\", \"reporting_month\": \"2022-01-15T00:00:00\", \"display_name\": \"City of Pismo Beach\", \"public_water_system_id\": \"CA4010008\", \"county\": \"San Luis Obispo\", \"hydrologic_region\": \"Central Coast\", \"total_population_served\": 8233.0, \"county_under_drought_declaration\": \"Yes\", \"water_shortage_contingency_stage_invoked\": \"3rd of 4\", \"water_shortage_level_indicator\": \"Yes\", \"dwr_state_standard_level_corresponding_to_stage\": null, \"calculated_total_potable_water_production_gallons_ag_excluded\": 34973587.83, \"r_gpcd\": 62.8408, \"regional_r_gpcd\": -40259722.06937507}, {\"supplier_name\": \"Pismo Beach City of\", \"reporting_month\": \"2022-02-15T00:00:00\", \"display_name\": \"City of Pismo Beach\", \"public_water_system_id\": \"CA4010008\", \"county\": \"San Luis Obispo\", \"hydrologic_region\": \"Central Coast\", \"total_population_served\": 8233.0, \"county_under_drought_declaration\": \"Yes\", \"water_shortage_contingency_stage_invoked\": \"3rd of 4\", \"water_shortage_level_indicator\": \"Yes\", \"dwr_state_standard_level_corresponding_to_stage\": null, \"calculated_total_potable_water_production_gallons_ag_excluded\": -999999999.0, \"r_gpcd\": -999999999.0, \"regional_r_gpcd\": -67125733.19929624}, {\"supplier_name\": \"Pismo Beach City of\", \"reporting_month\": \"2022-03-15T00:00:00\", \"display_name\": \"City of Pismo Beach\", \"public_water_system_id\": \"CA4010008\", \"county\": \"San Luis Obispo\", \"hydrologic_region\": \"Central Coast\", \"total_population_served\": 8233.0, \"county_under_drought_declaration\": \"Yes\", \"water_shortage_contingency_stage_invoked\": \"3rd of 4\", \"water_shortage_level_indicator\": \"Yes\", \"dwr_state_standard_level_corresponding_to_stage\": null, \"calculated_total_potable_water_production_gallons_ag_excluded\": -999999999.0, \"r_gpcd\": -999999999.0, \"regional_r_gpcd\": -51273963.70327672}, {\"supplier_name\": \"Pismo Beach City of\", \"reporting_month\": \"2022-04-15T00:00:00\", \"display_name\": \"City of Pismo Beach\", \"public_water_system_id\": \"CA4010008\", \"county\": \"San Luis Obispo\", \"hydrologic_region\": \"Central Coast\", \"total_population_served\": 8233.0, \"county_under_drought_declaration\": \"Yes\", \"water_shortage_contingency_stage_invoked\": \"3rd of 4\", \"water_shortage_level_indicator\": \"Yes\", \"dwr_state_standard_level_corresponding_to_stage\": null, \"calculated_total_potable_water_production_gallons_ag_excluded\": -999999999.0, \"r_gpcd\": -999999999.0, \"regional_r_gpcd\": -133729892.18400429}], \"data-fbbb9ee2363bf5756f5e77cb136e052e\": [{\"y\": 80}]}}, {\"mode\": \"vega-lite\"});\n",
       "</script>"
      ],
      "text/plain": [
       "alt.LayerChart(...)"
      ]
     },
     "execution_count": 400,
     "metadata": {},
     "output_type": "execute_result"
    }
   ],
   "source": [
    "agency_name = \"City of Pismo Beach\"\n",
    "\n",
    "base = alt.Chart(\n",
    "    rename_df[\n",
    "        (rename_df.display_name == agency_name)\n",
    "    ].tail(12)\n",
    ").encode(\n",
    "    x=alt.X(\"yearmonth(reporting_month):O\"),\n",
    "    tooltip=[\"reporting_month\"]\n",
    ")\n",
    "\n",
    "bar = base.mark_bar(color=\"#83c6e0\").encode(\n",
    "    y=alt.Y(\"r_gpcd\", stack=None)\n",
    ")\n",
    "\n",
    "avg_line = base.mark_line(interpolate='step', color='#1281aa').encode(\n",
    "    y=alt.Y(\"regional_r_gpcd\")\n",
    ")\n",
    "\n",
    "goal_line = alt.Chart(pd.DataFrame({'y': [80]})).mark_rule(color=\"#b75a36\",strokeDash=[10,11]).encode(y='y')\n",
    "\n",
    "(bar + avg_line + goal_line).properties(title=f\"{agency_name} residential water usage compared to regional average\", width=600)"
   ]
  },
  {
   "cell_type": "markdown",
   "id": "0ba26fc7-525a-4a1d-b244-ab0d51de64c1",
   "metadata": {},
   "source": [
    "### Sort data"
   ]
  },
  {
   "cell_type": "code",
   "execution_count": 401,
   "id": "b7891244-418d-460c-b03f-8723fdfdf60b",
   "metadata": {},
   "outputs": [],
   "source": [
    "sort_district_df = merge_df.sort_values([\"reporting_month\",\"supplier_name\"])"
   ]
  },
  {
   "cell_type": "code",
   "execution_count": 402,
   "id": "e2528b46-80ad-4a8e-9906-4ec81bdfdb29",
   "metadata": {},
   "outputs": [],
   "source": [
    "sort_region_df = region_df.sort_values([\"reporting_month\",\"hydrologic_region\"])"
   ]
  },
  {
   "cell_type": "code",
   "execution_count": 403,
   "id": "470088cc-862a-422b-9a64-40269a67cb50",
   "metadata": {},
   "outputs": [],
   "source": [
    "sort_state_df = statewide_df.sort_values([\"reporting_month\"])"
   ]
  },
  {
   "cell_type": "markdown",
   "id": "80577211-2977-4025-ae3e-3e166ded9cbb",
   "metadata": {},
   "source": [
    "### Filter dataframe to be a bit more manageable"
   ]
  },
  {
   "cell_type": "code",
   "execution_count": 404,
   "id": "738e9911-f5cc-4f73-ab9d-c49792ee4109",
   "metadata": {},
   "outputs": [],
   "source": [
    "filtered_district_df = sort_district_df[sort_district_df.reporting_month >= min_date]"
   ]
  },
  {
   "cell_type": "markdown",
   "id": "d3c9f03c-169e-4267-9c81-69ef4326c8de",
   "metadata": {},
   "source": [
    "### Export"
   ]
  },
  {
   "cell_type": "code",
   "execution_count": 405,
   "id": "5bfd784b-cc8c-4c34-a887-4a69d0f87e5d",
   "metadata": {},
   "outputs": [],
   "source": [
    "filtered_district_df.to_csv(\"../data/processed/district-level-residential-use.csv\", index=False)"
   ]
  },
  {
   "cell_type": "code",
   "execution_count": 406,
   "id": "611e9f73-98a9-4b68-9c5c-5d26fa499127",
   "metadata": {},
   "outputs": [],
   "source": [
    "filtered_district_df[\n",
    "    filtered_district_df.reporting_month == filtered_district_df.reporting_month.max()\n",
    "].to_csv(\"../data/processed/latest-district-level-residential-use.csv\", index=False)"
   ]
  },
  {
   "cell_type": "code",
   "execution_count": 407,
   "id": "57397d09-6f0d-4171-b658-6bb8ef49f758",
   "metadata": {},
   "outputs": [],
   "source": [
    "sort_region_df.to_csv(\"../data/processed/regional-residential-usage.csv\", index=False)"
   ]
  },
  {
   "cell_type": "code",
   "execution_count": 408,
   "id": "a5b34a2c-74f8-45a2-a3cd-22e90deea336",
   "metadata": {},
   "outputs": [],
   "source": [
    "sort_region_df[\n",
    "    sort_region_df.reporting_month == sort_district_df.reporting_month.max()\n",
    "].to_csv(\"../data/processed/latest-regional-residential-use.csv\", index=False)"
   ]
  },
  {
   "cell_type": "code",
   "execution_count": 409,
   "id": "fc2a1e72-ccd2-45a0-a068-48df279c6af8",
   "metadata": {},
   "outputs": [],
   "source": [
    "sort_state_df.to_csv(\"../data/processed/statewide-residential-usage.csv\", index=False)"
   ]
  },
  {
   "cell_type": "code",
   "execution_count": 410,
   "id": "f006f28e-326f-4535-806b-c995e41459ab",
   "metadata": {},
   "outputs": [],
   "source": [
    "sort_state_df[\n",
    "    sort_state_df.reporting_month == sort_district_df.reporting_month.max()\n",
    "].to_csv(\"../data/processed/latest-statewide-level-residential-use.csv\", index=False)"
   ]
  }
 ],
 "metadata": {
  "kernelspec": {
   "display_name": "Python 3 (ipykernel)",
   "language": "python",
   "name": "python3"
  },
  "language_info": {
   "codemirror_mode": {
    "name": "ipython",
    "version": 3
   },
   "file_extension": ".py",
   "mimetype": "text/x-python",
   "name": "python",
   "nbconvert_exporter": "python",
   "pygments_lexer": "ipython3",
   "version": "3.9.6"
  }
 },
 "nbformat": 4,
 "nbformat_minor": 5
}
