{
 "cells": [
  {
   "cell_type": "code",
   "execution_count": 42,
   "id": "a8f68e43-feaa-4996-8d5a-ecc52ce8bf66",
   "metadata": {},
   "outputs": [],
   "source": [
    "import pytz\n",
    "from datetime import datetime, date, timedelta\n",
    "import pandas as pd\n",
    "import altair as alt\n",
    "import altair_latimes as lat"
   ]
  },
  {
   "cell_type": "code",
   "execution_count": 43,
   "id": "7f08691a-275f-4165-b2a5-dc7a70e2c3a6",
   "metadata": {},
   "outputs": [
    {
     "data": {
      "text/plain": [
       "ThemeRegistry.enable('latimes')"
      ]
     },
     "execution_count": 43,
     "metadata": {},
     "output_type": "execute_result"
    }
   ],
   "source": [
    "alt.themes.register('latimes', lat.theme)\n",
    "alt.themes.enable('latimes')"
   ]
  },
  {
   "cell_type": "code",
   "execution_count": 44,
   "id": "154fda82-e6f3-4a42-86c8-578b4fc0d2cb",
   "metadata": {},
   "outputs": [],
   "source": [
    "pd.set_option('display.float_format', lambda x: '%.3f' % x)"
   ]
  },
  {
   "cell_type": "markdown",
   "id": "0cfcb7f3-6169-489d-a054-1b801988d626",
   "metadata": {},
   "source": [
    "### Import"
   ]
  },
  {
   "cell_type": "code",
   "execution_count": 45,
   "id": "81973009-6e4c-4b44-8db8-17ec118ecd88",
   "metadata": {},
   "outputs": [],
   "source": [
    "df = pd.read_csv(\n",
    "    \"../data/raw/reservoirs/major-reservoir-scrape-latest.csv\", \n",
    "    parse_dates=[\"DATE TIME\", \"OBS DATE\"]\n",
    ")"
   ]
  },
  {
   "cell_type": "code",
   "execution_count": 46,
   "id": "592ce46b-5c36-44bb-94cd-4a2ad733a55c",
   "metadata": {},
   "outputs": [],
   "source": [
    "hist_df = pd.read_csv(\n",
    "    \"../data/metadata/reservoirs-historical-averages.csv\"\n",
    ")"
   ]
  },
  {
   "cell_type": "code",
   "execution_count": 47,
   "id": "284a5f3e-4391-4685-808d-f40e64511e7b",
   "metadata": {},
   "outputs": [],
   "source": [
    "details_df = pd.read_csv(\n",
    "    \"../data/metadata/reservoirs-details.csv\"\n",
    ")"
   ]
  },
  {
   "cell_type": "markdown",
   "id": "66364b79-8a94-4d02-abfa-9a83aabf5d27",
   "metadata": {},
   "source": [
    "### Clean"
   ]
  },
  {
   "cell_type": "code",
   "execution_count": 48,
   "id": "7b763bc7-8495-424c-8e82-916bdde9e4b3",
   "metadata": {},
   "outputs": [
    {
     "name": "stdout",
     "output_type": "stream",
     "text": [
      "<class 'pandas.core.frame.DataFrame'>\n",
      "RangeIndex: 6496 entries, 0 to 6495\n",
      "Data columns (total 9 columns):\n",
      " #   Column         Non-Null Count  Dtype         \n",
      "---  ------         --------------  -----         \n",
      " 0   STATION_ID     6496 non-null   object        \n",
      " 1   DURATION       6496 non-null   object        \n",
      " 2   SENSOR_NUMBER  6496 non-null   int64         \n",
      " 3   SENSOR_TYPE    6496 non-null   object        \n",
      " 4   DATE TIME      6496 non-null   datetime64[ns]\n",
      " 5   OBS DATE       6496 non-null   datetime64[ns]\n",
      " 6   VALUE          6496 non-null   object        \n",
      " 7   DATA_FLAG      6496 non-null   object        \n",
      " 8   UNITS          6496 non-null   object        \n",
      "dtypes: datetime64[ns](2), int64(1), object(6)\n",
      "memory usage: 456.9+ KB\n"
     ]
    }
   ],
   "source": [
    "df.info()"
   ]
  },
  {
   "cell_type": "code",
   "execution_count": 49,
   "id": "3bcf2dc4-c020-41b4-becf-3e4c43c425d1",
   "metadata": {},
   "outputs": [],
   "source": [
    "df.columns = df.columns.str.lower()"
   ]
  },
  {
   "cell_type": "code",
   "execution_count": 50,
   "id": "2e0088a1-012e-474f-b5da-fb9fdfe75b78",
   "metadata": {},
   "outputs": [],
   "source": [
    "df.columns = df.columns.str.replace(\" \",\"_\")"
   ]
  },
  {
   "cell_type": "code",
   "execution_count": 51,
   "id": "5b1ca206-03bd-4d33-b39b-689a4c971190",
   "metadata": {},
   "outputs": [],
   "source": [
    "df = df.rename(columns={\n",
    "    \"station_id\": \"reservoir_id\",\n",
    "    \"date_time\": \"date\",\n",
    "    \"value\": \"storage_af\"\n",
    "})"
   ]
  },
  {
   "cell_type": "code",
   "execution_count": 52,
   "id": "64908a28-1883-49a9-8c73-2a7570d381e3",
   "metadata": {},
   "outputs": [
    {
     "data": {
      "text/html": [
       "<div>\n",
       "<style scoped>\n",
       "    .dataframe tbody tr th:only-of-type {\n",
       "        vertical-align: middle;\n",
       "    }\n",
       "\n",
       "    .dataframe tbody tr th {\n",
       "        vertical-align: top;\n",
       "    }\n",
       "\n",
       "    .dataframe thead th {\n",
       "        text-align: right;\n",
       "    }\n",
       "</style>\n",
       "<table border=\"1\" class=\"dataframe\">\n",
       "  <thead>\n",
       "    <tr style=\"text-align: right;\">\n",
       "      <th></th>\n",
       "      <th>reservoir_id</th>\n",
       "      <th>duration</th>\n",
       "      <th>sensor_number</th>\n",
       "      <th>sensor_type</th>\n",
       "      <th>date</th>\n",
       "      <th>obs_date</th>\n",
       "      <th>storage_af</th>\n",
       "      <th>data_flag</th>\n",
       "      <th>units</th>\n",
       "    </tr>\n",
       "  </thead>\n",
       "  <tbody>\n",
       "    <tr>\n",
       "      <th>0</th>\n",
       "      <td>DRE</td>\n",
       "      <td>D</td>\n",
       "      <td>15</td>\n",
       "      <td>STORAGE</td>\n",
       "      <td>2022-05-17</td>\n",
       "      <td>2022-05-18</td>\n",
       "      <td>5705</td>\n",
       "      <td></td>\n",
       "      <td>AF</td>\n",
       "    </tr>\n",
       "    <tr>\n",
       "      <th>1</th>\n",
       "      <td>DRE</td>\n",
       "      <td>D</td>\n",
       "      <td>15</td>\n",
       "      <td>STORAGE</td>\n",
       "      <td>2022-05-18</td>\n",
       "      <td>2022-05-19</td>\n",
       "      <td>5657</td>\n",
       "      <td></td>\n",
       "      <td>AF</td>\n",
       "    </tr>\n",
       "    <tr>\n",
       "      <th>2</th>\n",
       "      <td>DRE</td>\n",
       "      <td>D</td>\n",
       "      <td>15</td>\n",
       "      <td>STORAGE</td>\n",
       "      <td>2022-05-19</td>\n",
       "      <td>2022-05-20</td>\n",
       "      <td>5645</td>\n",
       "      <td></td>\n",
       "      <td>AF</td>\n",
       "    </tr>\n",
       "    <tr>\n",
       "      <th>3</th>\n",
       "      <td>DRE</td>\n",
       "      <td>D</td>\n",
       "      <td>15</td>\n",
       "      <td>STORAGE</td>\n",
       "      <td>2022-05-20</td>\n",
       "      <td>2022-05-21</td>\n",
       "      <td>5613</td>\n",
       "      <td></td>\n",
       "      <td>AF</td>\n",
       "    </tr>\n",
       "    <tr>\n",
       "      <th>4</th>\n",
       "      <td>DRE</td>\n",
       "      <td>D</td>\n",
       "      <td>15</td>\n",
       "      <td>STORAGE</td>\n",
       "      <td>2022-05-21</td>\n",
       "      <td>2022-05-22</td>\n",
       "      <td>5578</td>\n",
       "      <td></td>\n",
       "      <td>AF</td>\n",
       "    </tr>\n",
       "    <tr>\n",
       "      <th>...</th>\n",
       "      <td>...</td>\n",
       "      <td>...</td>\n",
       "      <td>...</td>\n",
       "      <td>...</td>\n",
       "      <td>...</td>\n",
       "      <td>...</td>\n",
       "      <td>...</td>\n",
       "      <td>...</td>\n",
       "      <td>...</td>\n",
       "    </tr>\n",
       "    <tr>\n",
       "      <th>6491</th>\n",
       "      <td>SLW</td>\n",
       "      <td>D</td>\n",
       "      <td>15</td>\n",
       "      <td>STORAGE</td>\n",
       "      <td>2022-06-13</td>\n",
       "      <td>2022-06-14</td>\n",
       "      <td>67983</td>\n",
       "      <td></td>\n",
       "      <td>AF</td>\n",
       "    </tr>\n",
       "    <tr>\n",
       "      <th>6492</th>\n",
       "      <td>SLW</td>\n",
       "      <td>D</td>\n",
       "      <td>15</td>\n",
       "      <td>STORAGE</td>\n",
       "      <td>2022-06-14</td>\n",
       "      <td>2022-06-15</td>\n",
       "      <td>68020</td>\n",
       "      <td></td>\n",
       "      <td>AF</td>\n",
       "    </tr>\n",
       "    <tr>\n",
       "      <th>6493</th>\n",
       "      <td>SLW</td>\n",
       "      <td>D</td>\n",
       "      <td>15</td>\n",
       "      <td>STORAGE</td>\n",
       "      <td>2022-06-15</td>\n",
       "      <td>2022-06-16</td>\n",
       "      <td>68039</td>\n",
       "      <td></td>\n",
       "      <td>AF</td>\n",
       "    </tr>\n",
       "    <tr>\n",
       "      <th>6494</th>\n",
       "      <td>SLW</td>\n",
       "      <td>D</td>\n",
       "      <td>15</td>\n",
       "      <td>STORAGE</td>\n",
       "      <td>2022-06-16</td>\n",
       "      <td>2022-06-17</td>\n",
       "      <td>68076</td>\n",
       "      <td></td>\n",
       "      <td>AF</td>\n",
       "    </tr>\n",
       "    <tr>\n",
       "      <th>6495</th>\n",
       "      <td>SLW</td>\n",
       "      <td>D</td>\n",
       "      <td>15</td>\n",
       "      <td>STORAGE</td>\n",
       "      <td>2022-06-17</td>\n",
       "      <td>2022-06-17</td>\n",
       "      <td>---</td>\n",
       "      <td></td>\n",
       "      <td>AF</td>\n",
       "    </tr>\n",
       "  </tbody>\n",
       "</table>\n",
       "<p>6496 rows × 9 columns</p>\n",
       "</div>"
      ],
      "text/plain": [
       "     reservoir_id duration  sensor_number sensor_type       date   obs_date  \\\n",
       "0             DRE        D             15     STORAGE 2022-05-17 2022-05-18   \n",
       "1             DRE        D             15     STORAGE 2022-05-18 2022-05-19   \n",
       "2             DRE        D             15     STORAGE 2022-05-19 2022-05-20   \n",
       "3             DRE        D             15     STORAGE 2022-05-20 2022-05-21   \n",
       "4             DRE        D             15     STORAGE 2022-05-21 2022-05-22   \n",
       "...           ...      ...            ...         ...        ...        ...   \n",
       "6491          SLW        D             15     STORAGE 2022-06-13 2022-06-14   \n",
       "6492          SLW        D             15     STORAGE 2022-06-14 2022-06-15   \n",
       "6493          SLW        D             15     STORAGE 2022-06-15 2022-06-16   \n",
       "6494          SLW        D             15     STORAGE 2022-06-16 2022-06-17   \n",
       "6495          SLW        D             15     STORAGE 2022-06-17 2022-06-17   \n",
       "\n",
       "     storage_af data_flag units  \n",
       "0          5705              AF  \n",
       "1          5657              AF  \n",
       "2          5645              AF  \n",
       "3          5613              AF  \n",
       "4          5578              AF  \n",
       "...         ...       ...   ...  \n",
       "6491      67983              AF  \n",
       "6492      68020              AF  \n",
       "6493      68039              AF  \n",
       "6494      68076              AF  \n",
       "6495        ---              AF  \n",
       "\n",
       "[6496 rows x 9 columns]"
      ]
     },
     "execution_count": 52,
     "metadata": {},
     "output_type": "execute_result"
    }
   ],
   "source": [
    "df#[df[\"reservoir_id\"] == \"CLA\"]"
   ]
  },
  {
   "cell_type": "code",
   "execution_count": 53,
   "id": "db224586-5249-46ab-b4e6-f8a6d10d340f",
   "metadata": {},
   "outputs": [],
   "source": [
    "df[\"storage_af\"] = df[\"storage_af\"].str.replace(\"---\",\"\")"
   ]
  },
  {
   "cell_type": "code",
   "execution_count": 54,
   "id": "69e887d1-7a69-461c-95a6-7fa88ff67e2f",
   "metadata": {},
   "outputs": [],
   "source": [
    "df[\"storage_af\"] = pd.to_numeric(df[\"storage_af\"])"
   ]
  },
  {
   "cell_type": "code",
   "execution_count": 55,
   "id": "2bd306aa-4f49-49f7-a640-f660c0181f9f",
   "metadata": {},
   "outputs": [],
   "source": [
    "#df = df.dropna(subset=\"storage_af\")"
   ]
  },
  {
   "cell_type": "markdown",
   "id": "b47722e1-1ba9-4a6c-ae48-c5cb740c3390",
   "metadata": {},
   "source": [
    "### Check out latest data"
   ]
  },
  {
   "cell_type": "code",
   "execution_count": 56,
   "id": "ab88d8d6-dd9e-4710-b3c0-d78a666b7453",
   "metadata": {},
   "outputs": [],
   "source": [
    "tz = pytz.timezone(\"America/Los_Angeles\")"
   ]
  },
  {
   "cell_type": "code",
   "execution_count": 57,
   "id": "440c84d0-3fa3-4188-b51f-9a13d62499ab",
   "metadata": {},
   "outputs": [
    {
     "data": {
      "text/plain": [
       "datetime.date(2022, 6, 17)"
      ]
     },
     "execution_count": 57,
     "metadata": {},
     "output_type": "execute_result"
    }
   ],
   "source": [
    "today = datetime.now(tz).date()\n",
    "today"
   ]
  },
  {
   "cell_type": "code",
   "execution_count": 58,
   "id": "7a44016c-b20d-471d-b261-c254eef5bd5d",
   "metadata": {},
   "outputs": [
    {
     "data": {
      "text/plain": [
       "datetime.date(2022, 6, 16)"
      ]
     },
     "execution_count": 58,
     "metadata": {},
     "output_type": "execute_result"
    }
   ],
   "source": [
    "yesterday = (today - pd.DateOffset(days=1)).date()\n",
    "yesterday"
   ]
  },
  {
   "cell_type": "code",
   "execution_count": 59,
   "id": "390653d1-395b-46e2-ae3f-ed594f229b1a",
   "metadata": {},
   "outputs": [],
   "source": [
    "latest_df = df[df.date == pd.to_datetime(yesterday)].copy()"
   ]
  },
  {
   "cell_type": "code",
   "execution_count": 60,
   "id": "6d72c3f2-c99d-4b30-9058-23099672c5e7",
   "metadata": {},
   "outputs": [
    {
     "data": {
      "text/plain": [
       "203"
      ]
     },
     "execution_count": 60,
     "metadata": {},
     "output_type": "execute_result"
    }
   ],
   "source": [
    "len(latest_df)"
   ]
  },
  {
   "cell_type": "code",
   "execution_count": 61,
   "id": "14bf9f50-3ddc-47d3-b8e8-69a95a49b4af",
   "metadata": {},
   "outputs": [
    {
     "data": {
      "text/plain": [
       "18821910.0"
      ]
     },
     "execution_count": 61,
     "metadata": {},
     "output_type": "execute_result"
    }
   ],
   "source": [
    "latest_df.storage_af.sum()"
   ]
  },
  {
   "cell_type": "markdown",
   "id": "45bdc35a-8e5f-43e8-9b3a-9078e6a1158a",
   "metadata": {},
   "source": [
    "### Merge historical average"
   ]
  },
  {
   "cell_type": "markdown",
   "id": "f193e506-35eb-49d8-8110-43ac386fe12b",
   "metadata": {},
   "source": [
    "Create month column for merging"
   ]
  },
  {
   "cell_type": "code",
   "execution_count": 62,
   "id": "5c5019e6-921a-43a1-a610-16c64e9840a5",
   "metadata": {},
   "outputs": [],
   "source": [
    "latest_df[\"month\"] = pd.DatetimeIndex(latest_df.date).month"
   ]
  },
  {
   "cell_type": "code",
   "execution_count": 63,
   "id": "3b4a73bb-fbba-44e8-97be-90512bc13bf7",
   "metadata": {},
   "outputs": [],
   "source": [
    "hist_df[\"month\"] = pd.to_datetime(hist_df[\"month\"], format='%B').dt.month"
   ]
  },
  {
   "cell_type": "code",
   "execution_count": 64,
   "id": "2aa5e555-78f7-46d7-ae10-a480eb8b1cfe",
   "metadata": {},
   "outputs": [],
   "source": [
    "merge_historical = pd.merge(\n",
    "    latest_df[[\"reservoir_id\",\"date\",\"month\",\"storage_af\",\"units\"]],\n",
    "    hist_df[[\"reservoir_id\", \"month\", \"average_storage_value\", \"average_storage_unit\"]],\n",
    "    how=\"left\",\n",
    "    on=[\"reservoir_id\",\"month\"]\n",
    ")"
   ]
  },
  {
   "cell_type": "code",
   "execution_count": 65,
   "id": "c84fe492-1e78-4498-a85b-88380620fa20",
   "metadata": {},
   "outputs": [],
   "source": [
    "merge_details = pd.merge(\n",
    "    merge_historical,\n",
    "    details_df[[\"reservoir_id\", \"lake_name\", \"capacity_value\", \"capacity_unit\"]],\n",
    "    how=\"left\",\n",
    "    on=[\"reservoir_id\"]               \n",
    ")"
   ]
  },
  {
   "cell_type": "markdown",
   "id": "a9200178-e440-4545-99ea-0fc81e7182b4",
   "metadata": {},
   "source": [
    "### Calculate percentages"
   ]
  },
  {
   "cell_type": "code",
   "execution_count": 66,
   "id": "425b72be-98c0-4b15-9222-664b29588e2c",
   "metadata": {},
   "outputs": [],
   "source": [
    "merge_details[\"current_level_pct_of_total\"] = merge_details[\"storage_af\"] / merge_details[\"capacity_value\"]"
   ]
  },
  {
   "cell_type": "code",
   "execution_count": 67,
   "id": "86c5850e-6f00-4087-8ea7-d9dbae910a39",
   "metadata": {},
   "outputs": [],
   "source": [
    "merge_details[\"average_level_pct_of_total\"] = merge_details[\"average_storage_value\"] / merge_details[\"capacity_value\"]"
   ]
  },
  {
   "cell_type": "code",
   "execution_count": 68,
   "id": "787733db-9e5d-445d-a4db-a4f4f558c77d",
   "metadata": {},
   "outputs": [],
   "source": [
    "merge_details[\"current_level_pct_of_avg\"] = merge_details[\"storage_af\"] / merge_details[\"average_storage_value\"]"
   ]
  },
  {
   "cell_type": "markdown",
   "id": "67a57e25-29f6-4b9d-af3e-b90cc6ce33de",
   "metadata": {},
   "source": [
    "### Filter to just \"major\" reservoirs"
   ]
  },
  {
   "cell_type": "code",
   "execution_count": 69,
   "id": "a683f0de-416f-4a42-985a-cc5362a0b7a4",
   "metadata": {},
   "outputs": [],
   "source": [
    "# src: https://cdec.water.ca.gov/resapp/RescondMain\n",
    "major_reservoirs_list = [\n",
    "    'SHA',\n",
    "    'ORO',\n",
    "    'BUL',\n",
    "    'FOL',\n",
    "    'CMN',\n",
    "    'NML',\n",
    "    'DNP',\n",
    "    'EXC',\n",
    "    'CLE',\n",
    "    'WRS',\n",
    "    'SNL',\n",
    "    'CCH',\n",
    "    'CAS',\n",
    "    'CSI',\n",
    "    'DMV',\n",
    "    'MIL',\n",
    "    'PNF',\n",
    "]"
   ]
  },
  {
   "cell_type": "code",
   "execution_count": 70,
   "id": "e3125780-94ea-49a3-ae88-b9119646602c",
   "metadata": {},
   "outputs": [],
   "source": [
    "major_reservoirs = merge_details[merge_details.reservoir_id.isin(major_reservoirs_list)]"
   ]
  },
  {
   "cell_type": "markdown",
   "id": "245a2e31-efcd-48bf-9ac1-73d56f22190c",
   "metadata": {},
   "source": [
    "Drop missing values"
   ]
  },
  {
   "cell_type": "code",
   "execution_count": 71,
   "id": "84f0e900-824e-4cd3-8593-90f6b6b23159",
   "metadata": {},
   "outputs": [],
   "source": [
    "drop_na = major_reservoirs.dropna(subset=[\"storage_af\",\"average_storage_value\"])"
   ]
  },
  {
   "cell_type": "code",
   "execution_count": 72,
   "id": "ffdd0e72-a387-41a4-8fb5-bc6fe196d66f",
   "metadata": {},
   "outputs": [
    {
     "data": {
      "text/plain": [
       "16"
      ]
     },
     "execution_count": 72,
     "metadata": {},
     "output_type": "execute_result"
    }
   ],
   "source": [
    "len(drop_na)"
   ]
  },
  {
   "cell_type": "code",
   "execution_count": 73,
   "id": "7e181eeb-82c6-49e4-a6d4-e398860fb852",
   "metadata": {},
   "outputs": [],
   "source": [
    "melt=pd.melt(drop_na, id_vars=\"reservoir_id\", value_vars=[\"storage_af\", \"average_storage_value\", \"capacity_value\"])"
   ]
  },
  {
   "cell_type": "code",
   "execution_count": 74,
   "id": "683e57e6-d902-42c8-b8ed-90daff0e22da",
   "metadata": {},
   "outputs": [],
   "source": [
    "bar_order = {\n",
    "    \"storage_af\": 1, \n",
    "    \"average_storage_value\": 2, \n",
    "    \"capacity_value\":3            \n",
    "}"
   ]
  },
  {
   "cell_type": "code",
   "execution_count": 76,
   "id": "2d535d8f-5141-47bd-b988-f02e435c128a",
   "metadata": {},
   "outputs": [],
   "source": [
    "melt[\"bar_order\"] = melt.variable.map(bar_order)"
   ]
  },
  {
   "cell_type": "code",
   "execution_count": 77,
   "id": "d2af6d05-c390-4a8b-9f53-a9e0d272da79",
   "metadata": {},
   "outputs": [
    {
     "data": {
      "text/html": [
       "\n",
       "<div id=\"altair-viz-e127f6602ac847f1b2704a83a066a4f5\"></div>\n",
       "<script type=\"text/javascript\">\n",
       "  var VEGA_DEBUG = (typeof VEGA_DEBUG == \"undefined\") ? {} : VEGA_DEBUG;\n",
       "  (function(spec, embedOpt){\n",
       "    let outputDiv = document.currentScript.previousElementSibling;\n",
       "    if (outputDiv.id !== \"altair-viz-e127f6602ac847f1b2704a83a066a4f5\") {\n",
       "      outputDiv = document.getElementById(\"altair-viz-e127f6602ac847f1b2704a83a066a4f5\");\n",
       "    }\n",
       "    const paths = {\n",
       "      \"vega\": \"https://cdn.jsdelivr.net/npm//vega@5?noext\",\n",
       "      \"vega-lib\": \"https://cdn.jsdelivr.net/npm//vega-lib?noext\",\n",
       "      \"vega-lite\": \"https://cdn.jsdelivr.net/npm//vega-lite@4.17.0?noext\",\n",
       "      \"vega-embed\": \"https://cdn.jsdelivr.net/npm//vega-embed@6?noext\",\n",
       "    };\n",
       "\n",
       "    function maybeLoadScript(lib, version) {\n",
       "      var key = `${lib.replace(\"-\", \"\")}_version`;\n",
       "      return (VEGA_DEBUG[key] == version) ?\n",
       "        Promise.resolve(paths[lib]) :\n",
       "        new Promise(function(resolve, reject) {\n",
       "          var s = document.createElement('script');\n",
       "          document.getElementsByTagName(\"head\")[0].appendChild(s);\n",
       "          s.async = true;\n",
       "          s.onload = () => {\n",
       "            VEGA_DEBUG[key] = version;\n",
       "            return resolve(paths[lib]);\n",
       "          };\n",
       "          s.onerror = () => reject(`Error loading script: ${paths[lib]}`);\n",
       "          s.src = paths[lib];\n",
       "        });\n",
       "    }\n",
       "\n",
       "    function showError(err) {\n",
       "      outputDiv.innerHTML = `<div class=\"error\" style=\"color:red;\">${err}</div>`;\n",
       "      throw err;\n",
       "    }\n",
       "\n",
       "    function displayChart(vegaEmbed) {\n",
       "      vegaEmbed(outputDiv, spec, embedOpt)\n",
       "        .catch(err => showError(`Javascript Error: ${err.message}<br>This usually means there's a typo in your chart specification. See the javascript console for the full traceback.`));\n",
       "    }\n",
       "\n",
       "    if(typeof define === \"function\" && define.amd) {\n",
       "      requirejs.config({paths});\n",
       "      require([\"vega-embed\"], displayChart, err => showError(`Error loading script: ${err.message}`));\n",
       "    } else {\n",
       "      maybeLoadScript(\"vega\", \"5\")\n",
       "        .then(() => maybeLoadScript(\"vega-lite\", \"4.17.0\"))\n",
       "        .then(() => maybeLoadScript(\"vega-embed\", \"6\"))\n",
       "        .catch(showError)\n",
       "        .then(() => displayChart(vegaEmbed));\n",
       "    }\n",
       "  })({\"config\": {\"view\": {\"width\": 800, \"height\": 450}, \"background\": \"#ffffff\", \"title\": {\"anchor\": \"start\", \"font\": \"BentonGothic-Bold, sans\", \"fontColor\": \"#000000\", \"fontSize\": 22, \"fontWeight\": \"normal\"}, \"arc\": {\"fill\": \"#82c6df\"}, \"area\": {\"fill\": \"#82c6df\"}, \"line\": {\"stroke\": \"#82c6df\", \"strokeWidth\": 3}, \"path\": {\"stroke\": \"#82c6df\"}, \"rect\": {\"fill\": \"#82c6df\"}, \"shape\": {\"stroke\": \"#82c6df\"}, \"bar\": {\"fill\": \"#82c6df\"}, \"point\": {\"stroke\": \"#82c6df\"}, \"symbol\": {\"fill\": \"#82c6df\", \"size\": 30}, \"axis\": {\"titleFont\": \"BentonGothic-Bold, sans\", \"titleFontSize\": 14, \"titleFontWeight\": \"normal\", \"labelFont\": \"BentonGothic, sans\", \"labelFontSize\": 12, \"labelFontWeight\": \"normal\"}, \"axisX\": {\"labelAngle\": 0, \"labelPadding\": 4, \"tickSize\": 3}, \"axisY\": {\"labelBaseline\": \"middle\", \"maxExtent\": 45, \"minExtent\": 45, \"tickSize\": 2, \"titleAlign\": \"left\", \"titleAngle\": 0, \"titleX\": -45, \"titleY\": -11}, \"legend\": {\"titleFont\": \"BentonGothic-Bold, sans\", \"titleFontSize\": 14, \"titleFontWeight\": \"normal\", \"symbolType\": \"square\", \"labelFont\": \"BentonGothic, sans\", \"labelFontSize\": 13}, \"range\": {\"category\": [\"#3580b1\", \"#ec8431\", \"#ab7fb4\", \"#c89d29\", \"#adc839\", \"#829eb1\"], \"diverging\": [\"#e68a4f\", \"#f4bb6a\", \"#f9e39c\", \"#dadfe2\", \"#a6b7c6\", \"#849eae\"], \"heatmap\": [\"#fbf2c7\", \"#f9e39c\", \"#f8d36e\", \"#f4bb6a\", \"#e68a4f\", \"#d15a40\", \"#ab4232\"], \"ordinal\": [\"#fbf2c7\", \"#f9e39c\", \"#f8d36e\", \"#f4bb6a\", \"#e68a4f\", \"#d15a40\", \"#ab4232\"], \"ramp\": [\"#fbf2c7\", \"#f9e39c\", \"#f8d36e\", \"#f4bb6a\", \"#e68a4f\", \"#d15a40\", \"#ab4232\"]}}, \"data\": {\"name\": \"data-e57d05e981e0113aafa9525e82818231\"}, \"mark\": \"bar\", \"encoding\": {\"color\": {\"field\": \"variable\", \"scale\": {\"domain\": [\"capacity_value\", \"average_storage_value\", \"storage_af\"], \"range\": [\"#ddd\", \"#83c6e0\", \"#1281aa\"]}, \"type\": \"nominal\"}, \"order\": {\"field\": \"bar_order\", \"type\": \"quantitative\"}, \"tooltip\": [{\"field\": \"reservoir_id\", \"type\": \"nominal\"}], \"x\": {\"axis\": {\"labels\": false}, \"field\": \"reservoir_id\", \"type\": \"nominal\"}, \"y\": {\"field\": \"value\", \"stack\": \"normalize\", \"type\": \"quantitative\"}}, \"title\": \"California's largest reservoirs\", \"$schema\": \"https://vega.github.io/schema/vega-lite/v4.17.0.json\", \"datasets\": {\"data-e57d05e981e0113aafa9525e82818231\": [{\"reservoir_id\": \"CLE\", \"variable\": \"storage_af\", \"value\": 730476.0, \"bar_order\": 1}, {\"reservoir_id\": \"WRS\", \"variable\": \"storage_af\", \"value\": 134904.0, \"bar_order\": 1}, {\"reservoir_id\": \"CCH\", \"variable\": \"storage_af\", \"value\": 83515.0, \"bar_order\": 1}, {\"reservoir_id\": \"CSI\", \"variable\": \"storage_af\", \"value\": 79021.0, \"bar_order\": 1}, {\"reservoir_id\": \"CAS\", \"variable\": \"storage_af\", \"value\": 124353.0, \"bar_order\": 1}, {\"reservoir_id\": \"SHA\", \"variable\": \"storage_af\", \"value\": 1805176.0, \"bar_order\": 1}, {\"reservoir_id\": \"ORO\", \"variable\": \"storage_af\", \"value\": 1837379.0, \"bar_order\": 1}, {\"reservoir_id\": \"BUL\", \"variable\": \"storage_af\", \"value\": 866610.0, \"bar_order\": 1}, {\"reservoir_id\": \"FOL\", \"variable\": \"storage_af\", \"value\": 861301.0, \"bar_order\": 1}, {\"reservoir_id\": \"CMN\", \"variable\": \"storage_af\", \"value\": 216790.0, \"bar_order\": 1}, {\"reservoir_id\": \"NML\", \"variable\": \"storage_af\", \"value\": 819184.0, \"bar_order\": 1}, {\"reservoir_id\": \"DNP\", \"variable\": \"storage_af\", \"value\": 1346844.0, \"bar_order\": 1}, {\"reservoir_id\": \"EXC\", \"variable\": \"storage_af\", \"value\": 430879.0, \"bar_order\": 1}, {\"reservoir_id\": \"MIL\", \"variable\": \"storage_af\", \"value\": 366146.0, \"bar_order\": 1}, {\"reservoir_id\": \"SNL\", \"variable\": \"storage_af\", \"value\": 854908.0, \"bar_order\": 1}, {\"reservoir_id\": \"PNF\", \"variable\": \"storage_af\", \"value\": 594789.0, \"bar_order\": 1}, {\"reservoir_id\": \"CLE\", \"variable\": \"average_storage_value\", \"value\": 1882223.0, \"bar_order\": 2}, {\"reservoir_id\": \"WRS\", \"variable\": \"average_storage_value\", \"value\": 228117.0, \"bar_order\": 2}, {\"reservoir_id\": \"CCH\", \"variable\": \"average_storage_value\", \"value\": 144299.0, \"bar_order\": 2}, {\"reservoir_id\": \"CSI\", \"variable\": \"average_storage_value\", \"value\": 192450.0, \"bar_order\": 2}, {\"reservoir_id\": \"CAS\", \"variable\": \"average_storage_value\", \"value\": 280108.0, \"bar_order\": 2}, {\"reservoir_id\": \"SHA\", \"variable\": \"average_storage_value\", \"value\": 3539810.0, \"bar_order\": 2}, {\"reservoir_id\": \"ORO\", \"variable\": \"average_storage_value\", \"value\": 2687874.0, \"bar_order\": 2}, {\"reservoir_id\": \"BUL\", \"variable\": \"average_storage_value\", \"value\": 831313.0, \"bar_order\": 2}, {\"reservoir_id\": \"FOL\", \"variable\": \"average_storage_value\", \"value\": 756266.0, \"bar_order\": 2}, {\"reservoir_id\": \"CMN\", \"variable\": \"average_storage_value\", \"value\": 305377.0, \"bar_order\": 2}, {\"reservoir_id\": \"NML\", \"variable\": \"average_storage_value\", \"value\": 1507818.0, \"bar_order\": 2}, {\"reservoir_id\": \"DNP\", \"variable\": \"average_storage_value\", \"value\": 1671693.0, \"bar_order\": 2}, {\"reservoir_id\": \"EXC\", \"variable\": \"average_storage_value\", \"value\": 729672.0, \"bar_order\": 2}, {\"reservoir_id\": \"MIL\", \"variable\": \"average_storage_value\", \"value\": 432481.0, \"bar_order\": 2}, {\"reservoir_id\": \"SNL\", \"variable\": \"average_storage_value\", \"value\": 1105632.0, \"bar_order\": 2}, {\"reservoir_id\": \"PNF\", \"variable\": \"average_storage_value\", \"value\": 670674.0, \"bar_order\": 2}, {\"reservoir_id\": \"CLE\", \"variable\": \"capacity_value\", \"value\": 2447650.0, \"bar_order\": 3}, {\"reservoir_id\": \"WRS\", \"variable\": \"capacity_value\", \"value\": 381000.0, \"bar_order\": 3}, {\"reservoir_id\": \"CCH\", \"variable\": \"capacity_value\", \"value\": 193305.0, \"bar_order\": 3}, {\"reservoir_id\": \"CSI\", \"variable\": \"capacity_value\", \"value\": 254000.0, \"bar_order\": 3}, {\"reservoir_id\": \"CAS\", \"variable\": \"capacity_value\", \"value\": 325000.0, \"bar_order\": 3}, {\"reservoir_id\": \"SHA\", \"variable\": \"capacity_value\", \"value\": 4552000.0, \"bar_order\": 3}, {\"reservoir_id\": \"ORO\", \"variable\": \"capacity_value\", \"value\": 3537577.0, \"bar_order\": 3}, {\"reservoir_id\": \"BUL\", \"variable\": \"capacity_value\", \"value\": 966000.0, \"bar_order\": 3}, {\"reservoir_id\": \"FOL\", \"variable\": \"capacity_value\", \"value\": 977000.0, \"bar_order\": 3}, {\"reservoir_id\": \"CMN\", \"variable\": \"capacity_value\", \"value\": 417120.0, \"bar_order\": 3}, {\"reservoir_id\": \"NML\", \"variable\": \"capacity_value\", \"value\": 2400000.0, \"bar_order\": 3}, {\"reservoir_id\": \"DNP\", \"variable\": \"capacity_value\", \"value\": 2030000.0, \"bar_order\": 3}, {\"reservoir_id\": \"EXC\", \"variable\": \"capacity_value\", \"value\": 1024600.0, \"bar_order\": 3}, {\"reservoir_id\": \"MIL\", \"variable\": \"capacity_value\", \"value\": 520500.0, \"bar_order\": 3}, {\"reservoir_id\": \"SNL\", \"variable\": \"capacity_value\", \"value\": 2041000.0, \"bar_order\": 3}, {\"reservoir_id\": \"PNF\", \"variable\": \"capacity_value\", \"value\": 1000000.0, \"bar_order\": 3}]}}, {\"mode\": \"vega-lite\"});\n",
       "</script>"
      ],
      "text/plain": [
       "alt.Chart(...)"
      ]
     },
     "execution_count": 77,
     "metadata": {},
     "output_type": "execute_result"
    }
   ],
   "source": [
    "domain = [\"capacity_value\", \"average_storage_value\", \"storage_af\", ]\n",
    "range_ = ['#ddd', '#83c6e0', '#1281aa', ]\n",
    "\n",
    "alt.Chart(melt).mark_bar().encode(\n",
    "    x=alt.X('reservoir_id', axis=alt.Axis(labels=False)),\n",
    "    y=alt.Y('value',stack=\"normalize\"),\n",
    "    order=\"bar_order\",\n",
    "    color=alt.Color(\n",
    "        'variable', \n",
    "        scale=alt.Scale(domain=domain, range=range_), \n",
    "        #sort='descending'\n",
    "    ),\n",
    "    tooltip=[\"reservoir_id\"]\n",
    ").properties(title=\"California's largest reservoirs\")"
   ]
  },
  {
   "cell_type": "code",
   "execution_count": 78,
   "id": "4509bf84-6855-443c-9ec1-01c63d2ffc8d",
   "metadata": {},
   "outputs": [
    {
     "data": {
      "text/html": [
       "\n",
       "<div id=\"altair-viz-b216f00ff82c4549a2fd60a0450653ea\"></div>\n",
       "<script type=\"text/javascript\">\n",
       "  var VEGA_DEBUG = (typeof VEGA_DEBUG == \"undefined\") ? {} : VEGA_DEBUG;\n",
       "  (function(spec, embedOpt){\n",
       "    let outputDiv = document.currentScript.previousElementSibling;\n",
       "    if (outputDiv.id !== \"altair-viz-b216f00ff82c4549a2fd60a0450653ea\") {\n",
       "      outputDiv = document.getElementById(\"altair-viz-b216f00ff82c4549a2fd60a0450653ea\");\n",
       "    }\n",
       "    const paths = {\n",
       "      \"vega\": \"https://cdn.jsdelivr.net/npm//vega@5?noext\",\n",
       "      \"vega-lib\": \"https://cdn.jsdelivr.net/npm//vega-lib?noext\",\n",
       "      \"vega-lite\": \"https://cdn.jsdelivr.net/npm//vega-lite@4.17.0?noext\",\n",
       "      \"vega-embed\": \"https://cdn.jsdelivr.net/npm//vega-embed@6?noext\",\n",
       "    };\n",
       "\n",
       "    function maybeLoadScript(lib, version) {\n",
       "      var key = `${lib.replace(\"-\", \"\")}_version`;\n",
       "      return (VEGA_DEBUG[key] == version) ?\n",
       "        Promise.resolve(paths[lib]) :\n",
       "        new Promise(function(resolve, reject) {\n",
       "          var s = document.createElement('script');\n",
       "          document.getElementsByTagName(\"head\")[0].appendChild(s);\n",
       "          s.async = true;\n",
       "          s.onload = () => {\n",
       "            VEGA_DEBUG[key] = version;\n",
       "            return resolve(paths[lib]);\n",
       "          };\n",
       "          s.onerror = () => reject(`Error loading script: ${paths[lib]}`);\n",
       "          s.src = paths[lib];\n",
       "        });\n",
       "    }\n",
       "\n",
       "    function showError(err) {\n",
       "      outputDiv.innerHTML = `<div class=\"error\" style=\"color:red;\">${err}</div>`;\n",
       "      throw err;\n",
       "    }\n",
       "\n",
       "    function displayChart(vegaEmbed) {\n",
       "      vegaEmbed(outputDiv, spec, embedOpt)\n",
       "        .catch(err => showError(`Javascript Error: ${err.message}<br>This usually means there's a typo in your chart specification. See the javascript console for the full traceback.`));\n",
       "    }\n",
       "\n",
       "    if(typeof define === \"function\" && define.amd) {\n",
       "      requirejs.config({paths});\n",
       "      require([\"vega-embed\"], displayChart, err => showError(`Error loading script: ${err.message}`));\n",
       "    } else {\n",
       "      maybeLoadScript(\"vega\", \"5\")\n",
       "        .then(() => maybeLoadScript(\"vega-lite\", \"4.17.0\"))\n",
       "        .then(() => maybeLoadScript(\"vega-embed\", \"6\"))\n",
       "        .catch(showError)\n",
       "        .then(() => displayChart(vegaEmbed));\n",
       "    }\n",
       "  })({\"config\": {\"view\": {\"width\": 800, \"height\": 450}, \"background\": \"#ffffff\", \"title\": {\"anchor\": \"start\", \"font\": \"BentonGothic-Bold, sans\", \"fontColor\": \"#000000\", \"fontSize\": 22, \"fontWeight\": \"normal\"}, \"arc\": {\"fill\": \"#82c6df\"}, \"area\": {\"fill\": \"#82c6df\"}, \"line\": {\"stroke\": \"#82c6df\", \"strokeWidth\": 3}, \"path\": {\"stroke\": \"#82c6df\"}, \"rect\": {\"fill\": \"#82c6df\"}, \"shape\": {\"stroke\": \"#82c6df\"}, \"bar\": {\"fill\": \"#82c6df\"}, \"point\": {\"stroke\": \"#82c6df\"}, \"symbol\": {\"fill\": \"#82c6df\", \"size\": 30}, \"axis\": {\"titleFont\": \"BentonGothic-Bold, sans\", \"titleFontSize\": 14, \"titleFontWeight\": \"normal\", \"labelFont\": \"BentonGothic, sans\", \"labelFontSize\": 12, \"labelFontWeight\": \"normal\"}, \"axisX\": {\"labelAngle\": 0, \"labelPadding\": 4, \"tickSize\": 3}, \"axisY\": {\"labelBaseline\": \"middle\", \"maxExtent\": 45, \"minExtent\": 45, \"tickSize\": 2, \"titleAlign\": \"left\", \"titleAngle\": 0, \"titleX\": -45, \"titleY\": -11}, \"legend\": {\"titleFont\": \"BentonGothic-Bold, sans\", \"titleFontSize\": 14, \"titleFontWeight\": \"normal\", \"symbolType\": \"square\", \"labelFont\": \"BentonGothic, sans\", \"labelFontSize\": 13}, \"range\": {\"category\": [\"#3580b1\", \"#ec8431\", \"#ab7fb4\", \"#c89d29\", \"#adc839\", \"#829eb1\"], \"diverging\": [\"#e68a4f\", \"#f4bb6a\", \"#f9e39c\", \"#dadfe2\", \"#a6b7c6\", \"#849eae\"], \"heatmap\": [\"#fbf2c7\", \"#f9e39c\", \"#f8d36e\", \"#f4bb6a\", \"#e68a4f\", \"#d15a40\", \"#ab4232\"], \"ordinal\": [\"#fbf2c7\", \"#f9e39c\", \"#f8d36e\", \"#f4bb6a\", \"#e68a4f\", \"#d15a40\", \"#ab4232\"], \"ramp\": [\"#fbf2c7\", \"#f9e39c\", \"#f8d36e\", \"#f4bb6a\", \"#e68a4f\", \"#d15a40\", \"#ab4232\"]}}, \"data\": {\"name\": \"data-99833b38c231c2dd2f8569d4b885e1fb\"}, \"mark\": \"bar\", \"encoding\": {\"color\": {\"field\": \"variable\", \"scale\": {\"domain\": [\"capacity_value\", \"average_storage_value\", \"storage_af\"], \"range\": [\"#ddd\", \"#83c6e0\", \"#1281aa\"]}, \"type\": \"nominal\"}, \"order\": {\"field\": \"bar_order\", \"type\": \"quantitative\"}, \"tooltip\": [{\"field\": \"reservoir_id\", \"type\": \"nominal\"}], \"x\": {\"axis\": {\"labels\": false}, \"field\": \"reservoir_id\", \"type\": \"nominal\"}, \"y\": {\"field\": \"value\", \"stack\": \"normalize\", \"type\": \"quantitative\"}}, \"title\": \"California's largest reservoirs\", \"$schema\": \"https://vega.github.io/schema/vega-lite/v4.17.0.json\", \"datasets\": {\"data-99833b38c231c2dd2f8569d4b885e1fb\": [{\"reservoir_id\": \"CLE\", \"variable\": \"storage_af\", \"value\": 730476.0, \"bar_order\": 1}, {\"reservoir_id\": \"WRS\", \"variable\": \"storage_af\", \"value\": 134904.0, \"bar_order\": 1}, {\"reservoir_id\": \"CCH\", \"variable\": \"storage_af\", \"value\": 83515.0, \"bar_order\": 1}, {\"reservoir_id\": \"CSI\", \"variable\": \"storage_af\", \"value\": 79021.0, \"bar_order\": 1}, {\"reservoir_id\": \"CAS\", \"variable\": \"storage_af\", \"value\": 124353.0, \"bar_order\": 1}, {\"reservoir_id\": \"SHA\", \"variable\": \"storage_af\", \"value\": 1805176.0, \"bar_order\": 1}, {\"reservoir_id\": \"ORO\", \"variable\": \"storage_af\", \"value\": 1837379.0, \"bar_order\": 1}, {\"reservoir_id\": \"BUL\", \"variable\": \"storage_af\", \"value\": 866610.0, \"bar_order\": 1}, {\"reservoir_id\": \"FOL\", \"variable\": \"storage_af\", \"value\": 861301.0, \"bar_order\": 1}, {\"reservoir_id\": \"CMN\", \"variable\": \"storage_af\", \"value\": 216790.0, \"bar_order\": 1}, {\"reservoir_id\": \"NML\", \"variable\": \"storage_af\", \"value\": 819184.0, \"bar_order\": 1}, {\"reservoir_id\": \"DNP\", \"variable\": \"storage_af\", \"value\": 1346844.0, \"bar_order\": 1}, {\"reservoir_id\": \"EXC\", \"variable\": \"storage_af\", \"value\": 430879.0, \"bar_order\": 1}, {\"reservoir_id\": \"MIL\", \"variable\": \"storage_af\", \"value\": 366146.0, \"bar_order\": 1}, {\"reservoir_id\": \"SNL\", \"variable\": \"storage_af\", \"value\": 854908.0, \"bar_order\": 1}, {\"reservoir_id\": \"PNF\", \"variable\": \"storage_af\", \"value\": 594789.0, \"bar_order\": 1}, {\"reservoir_id\": \"CLE\", \"variable\": \"average_storage_value\", \"value\": 1882223.0, \"bar_order\": 2}, {\"reservoir_id\": \"WRS\", \"variable\": \"average_storage_value\", \"value\": 228117.0, \"bar_order\": 2}, {\"reservoir_id\": \"CCH\", \"variable\": \"average_storage_value\", \"value\": 144299.0, \"bar_order\": 2}, {\"reservoir_id\": \"CSI\", \"variable\": \"average_storage_value\", \"value\": 192450.0, \"bar_order\": 2}, {\"reservoir_id\": \"CAS\", \"variable\": \"average_storage_value\", \"value\": 280108.0, \"bar_order\": 2}, {\"reservoir_id\": \"SHA\", \"variable\": \"average_storage_value\", \"value\": 3539810.0, \"bar_order\": 2}, {\"reservoir_id\": \"ORO\", \"variable\": \"average_storage_value\", \"value\": 2687874.0, \"bar_order\": 2}, {\"reservoir_id\": \"BUL\", \"variable\": \"average_storage_value\", \"value\": 831313.0, \"bar_order\": 2}, {\"reservoir_id\": \"FOL\", \"variable\": \"average_storage_value\", \"value\": 756266.0, \"bar_order\": 2}, {\"reservoir_id\": \"CMN\", \"variable\": \"average_storage_value\", \"value\": 305377.0, \"bar_order\": 2}, {\"reservoir_id\": \"NML\", \"variable\": \"average_storage_value\", \"value\": 1507818.0, \"bar_order\": 2}, {\"reservoir_id\": \"DNP\", \"variable\": \"average_storage_value\", \"value\": 1671693.0, \"bar_order\": 2}, {\"reservoir_id\": \"EXC\", \"variable\": \"average_storage_value\", \"value\": 729672.0, \"bar_order\": 2}, {\"reservoir_id\": \"MIL\", \"variable\": \"average_storage_value\", \"value\": 432481.0, \"bar_order\": 2}, {\"reservoir_id\": \"SNL\", \"variable\": \"average_storage_value\", \"value\": 1105632.0, \"bar_order\": 2}, {\"reservoir_id\": \"PNF\", \"variable\": \"average_storage_value\", \"value\": 670674.0, \"bar_order\": 2}]}}, {\"mode\": \"vega-lite\"});\n",
       "</script>"
      ],
      "text/plain": [
       "alt.Chart(...)"
      ]
     },
     "execution_count": 78,
     "metadata": {},
     "output_type": "execute_result"
    }
   ],
   "source": [
    "domain = [\"capacity_value\", \"average_storage_value\", \"storage_af\", ]\n",
    "range_ = ['#ddd', '#83c6e0', '#1281aa', ]\n",
    "\n",
    "alt.Chart(melt[melt.variable != \"capacity_value\"]).mark_bar().encode(\n",
    "    x=alt.X('reservoir_id', axis=alt.Axis(labels=False)),\n",
    "    y=alt.Y('value',stack=\"normalize\"),\n",
    "    order=\"bar_order\",\n",
    "    color=alt.Color(\n",
    "        'variable', \n",
    "        scale=alt.Scale(domain=domain, range=range_), \n",
    "        #sort='descending'\n",
    "    ),\n",
    "    tooltip=[\"reservoir_id\"]\n",
    ").properties(title=\"California's largest reservoirs\")"
   ]
  },
  {
   "cell_type": "code",
   "execution_count": 79,
   "id": "dfe87068-cfd2-4a93-b3d8-9650000607f5",
   "metadata": {},
   "outputs": [
    {
     "data": {
      "text/html": [
       "\n",
       "<div id=\"altair-viz-1d3ea030cc494e158eeee358953ec9b2\"></div>\n",
       "<script type=\"text/javascript\">\n",
       "  var VEGA_DEBUG = (typeof VEGA_DEBUG == \"undefined\") ? {} : VEGA_DEBUG;\n",
       "  (function(spec, embedOpt){\n",
       "    let outputDiv = document.currentScript.previousElementSibling;\n",
       "    if (outputDiv.id !== \"altair-viz-1d3ea030cc494e158eeee358953ec9b2\") {\n",
       "      outputDiv = document.getElementById(\"altair-viz-1d3ea030cc494e158eeee358953ec9b2\");\n",
       "    }\n",
       "    const paths = {\n",
       "      \"vega\": \"https://cdn.jsdelivr.net/npm//vega@5?noext\",\n",
       "      \"vega-lib\": \"https://cdn.jsdelivr.net/npm//vega-lib?noext\",\n",
       "      \"vega-lite\": \"https://cdn.jsdelivr.net/npm//vega-lite@4.17.0?noext\",\n",
       "      \"vega-embed\": \"https://cdn.jsdelivr.net/npm//vega-embed@6?noext\",\n",
       "    };\n",
       "\n",
       "    function maybeLoadScript(lib, version) {\n",
       "      var key = `${lib.replace(\"-\", \"\")}_version`;\n",
       "      return (VEGA_DEBUG[key] == version) ?\n",
       "        Promise.resolve(paths[lib]) :\n",
       "        new Promise(function(resolve, reject) {\n",
       "          var s = document.createElement('script');\n",
       "          document.getElementsByTagName(\"head\")[0].appendChild(s);\n",
       "          s.async = true;\n",
       "          s.onload = () => {\n",
       "            VEGA_DEBUG[key] = version;\n",
       "            return resolve(paths[lib]);\n",
       "          };\n",
       "          s.onerror = () => reject(`Error loading script: ${paths[lib]}`);\n",
       "          s.src = paths[lib];\n",
       "        });\n",
       "    }\n",
       "\n",
       "    function showError(err) {\n",
       "      outputDiv.innerHTML = `<div class=\"error\" style=\"color:red;\">${err}</div>`;\n",
       "      throw err;\n",
       "    }\n",
       "\n",
       "    function displayChart(vegaEmbed) {\n",
       "      vegaEmbed(outputDiv, spec, embedOpt)\n",
       "        .catch(err => showError(`Javascript Error: ${err.message}<br>This usually means there's a typo in your chart specification. See the javascript console for the full traceback.`));\n",
       "    }\n",
       "\n",
       "    if(typeof define === \"function\" && define.amd) {\n",
       "      requirejs.config({paths});\n",
       "      require([\"vega-embed\"], displayChart, err => showError(`Error loading script: ${err.message}`));\n",
       "    } else {\n",
       "      maybeLoadScript(\"vega\", \"5\")\n",
       "        .then(() => maybeLoadScript(\"vega-lite\", \"4.17.0\"))\n",
       "        .then(() => maybeLoadScript(\"vega-embed\", \"6\"))\n",
       "        .catch(showError)\n",
       "        .then(() => displayChart(vegaEmbed));\n",
       "    }\n",
       "  })({\"config\": {\"view\": {\"width\": 800, \"height\": 450}, \"background\": \"#ffffff\", \"title\": {\"anchor\": \"start\", \"font\": \"BentonGothic-Bold, sans\", \"fontColor\": \"#000000\", \"fontSize\": 22, \"fontWeight\": \"normal\"}, \"arc\": {\"fill\": \"#82c6df\"}, \"area\": {\"fill\": \"#82c6df\"}, \"line\": {\"stroke\": \"#82c6df\", \"strokeWidth\": 3}, \"path\": {\"stroke\": \"#82c6df\"}, \"rect\": {\"fill\": \"#82c6df\"}, \"shape\": {\"stroke\": \"#82c6df\"}, \"bar\": {\"fill\": \"#82c6df\"}, \"point\": {\"stroke\": \"#82c6df\"}, \"symbol\": {\"fill\": \"#82c6df\", \"size\": 30}, \"axis\": {\"titleFont\": \"BentonGothic-Bold, sans\", \"titleFontSize\": 14, \"titleFontWeight\": \"normal\", \"labelFont\": \"BentonGothic, sans\", \"labelFontSize\": 12, \"labelFontWeight\": \"normal\"}, \"axisX\": {\"labelAngle\": 0, \"labelPadding\": 4, \"tickSize\": 3}, \"axisY\": {\"labelBaseline\": \"middle\", \"maxExtent\": 45, \"minExtent\": 45, \"tickSize\": 2, \"titleAlign\": \"left\", \"titleAngle\": 0, \"titleX\": -45, \"titleY\": -11}, \"legend\": {\"titleFont\": \"BentonGothic-Bold, sans\", \"titleFontSize\": 14, \"titleFontWeight\": \"normal\", \"symbolType\": \"square\", \"labelFont\": \"BentonGothic, sans\", \"labelFontSize\": 13}, \"range\": {\"category\": [\"#3580b1\", \"#ec8431\", \"#ab7fb4\", \"#c89d29\", \"#adc839\", \"#829eb1\"], \"diverging\": [\"#e68a4f\", \"#f4bb6a\", \"#f9e39c\", \"#dadfe2\", \"#a6b7c6\", \"#849eae\"], \"heatmap\": [\"#fbf2c7\", \"#f9e39c\", \"#f8d36e\", \"#f4bb6a\", \"#e68a4f\", \"#d15a40\", \"#ab4232\"], \"ordinal\": [\"#fbf2c7\", \"#f9e39c\", \"#f8d36e\", \"#f4bb6a\", \"#e68a4f\", \"#d15a40\", \"#ab4232\"], \"ramp\": [\"#fbf2c7\", \"#f9e39c\", \"#f8d36e\", \"#f4bb6a\", \"#e68a4f\", \"#d15a40\", \"#ab4232\"]}}, \"data\": {\"name\": \"data-31401fbddf9c1e91d32533faa98f92ec\"}, \"mark\": \"bar\", \"encoding\": {\"color\": {\"field\": \"variable\", \"scale\": {\"domain\": [\"capacity_value\", \"average_storage_value\", \"storage_af\"], \"range\": [\"#ddd\", \"#83c6e0\", \"#1281aa\"]}, \"type\": \"nominal\"}, \"order\": {\"field\": \"bar_order\", \"type\": \"quantitative\"}, \"tooltip\": [{\"field\": \"reservoir_id\", \"type\": \"nominal\"}], \"x\": {\"axis\": {\"labels\": false}, \"field\": \"reservoir_id\", \"type\": \"nominal\"}, \"y\": {\"field\": \"value\", \"stack\": \"normalize\", \"type\": \"quantitative\"}}, \"title\": \"Lake Oroville\", \"width\": 150, \"$schema\": \"https://vega.github.io/schema/vega-lite/v4.17.0.json\", \"datasets\": {\"data-31401fbddf9c1e91d32533faa98f92ec\": [{\"reservoir_id\": \"ORO\", \"variable\": \"storage_af\", \"value\": 1837379.0, \"bar_order\": 1}, {\"reservoir_id\": \"ORO\", \"variable\": \"average_storage_value\", \"value\": 2687874.0, \"bar_order\": 2}, {\"reservoir_id\": \"ORO\", \"variable\": \"capacity_value\", \"value\": 3537577.0, \"bar_order\": 3}]}}, {\"mode\": \"vega-lite\"});\n",
       "</script>"
      ],
      "text/plain": [
       "alt.Chart(...)"
      ]
     },
     "execution_count": 79,
     "metadata": {},
     "output_type": "execute_result"
    }
   ],
   "source": [
    "domain = [\"capacity_value\", \"average_storage_value\", \"storage_af\", ]\n",
    "range_ = ['#ddd', '#83c6e0', '#1281aa', ]\n",
    "\n",
    "alt.Chart(melt[melt.reservoir_id==\"ORO\"]).mark_bar().encode(\n",
    "    x=alt.X('reservoir_id', axis=alt.Axis(labels=False)),\n",
    "    y=alt.Y('value',stack=\"normalize\"),\n",
    "    order=\"bar_order\",\n",
    "    color=alt.Color(\n",
    "        'variable', \n",
    "        scale=alt.Scale(domain=domain, range=range_), \n",
    "        #sort='descending'\n",
    "    ),\n",
    "    tooltip=[\"reservoir_id\"]\n",
    ").properties(title=\"Lake Oroville\", width=150)"
   ]
  },
  {
   "cell_type": "markdown",
   "id": "6609fded-c565-490f-b1da-7142a4cdb7ab",
   "metadata": {},
   "source": [
    "### Export"
   ]
  },
  {
   "cell_type": "markdown",
   "id": "5507842a-f54d-46b2-a3bf-2574b38b7d91",
   "metadata": {},
   "source": [
    "Assertion tests to make sure no data comes through with mixed units"
   ]
  },
  {
   "cell_type": "code",
   "execution_count": 80,
   "id": "e83423e3-1336-4e8e-9c1d-022ee77222af",
   "metadata": {},
   "outputs": [],
   "source": [
    "assert len(drop_na.units.unique()) == 1"
   ]
  },
  {
   "cell_type": "code",
   "execution_count": 81,
   "id": "03dc8028-ed7b-41a5-9117-722d865c3d0f",
   "metadata": {},
   "outputs": [],
   "source": [
    "assert len(drop_na.average_storage_unit.unique()) == 1"
   ]
  },
  {
   "cell_type": "code",
   "execution_count": 82,
   "id": "5abb5ecb-8a2f-43fc-94cf-85718390df45",
   "metadata": {},
   "outputs": [],
   "source": [
    "assert len(drop_na.capacity_unit.unique()) == 1"
   ]
  },
  {
   "cell_type": "markdown",
   "id": "1b8ba812-b32b-427a-b12c-d2e69e29a121",
   "metadata": {},
   "source": [
    "Trim and rename for export"
   ]
  },
  {
   "cell_type": "code",
   "execution_count": 83,
   "id": "0382b468-1563-44a0-b6f9-8e90848aa966",
   "metadata": {},
   "outputs": [],
   "source": [
    "export_df = drop_na[\n",
    "    ['reservoir_id','lake_name', 'date', 'storage_af', 'average_storage_value', 'capacity_value', 'current_level_pct_of_total',\n",
    "       'average_level_pct_of_total', 'current_level_pct_of_avg' ]\n",
    "].rename(columns={\n",
    "    'lake_name': 'reservoir_name',\n",
    "    'average_storage_value': 'historical_average',\n",
    "    'capacity_value': 'total_capacity'\n",
    "})"
   ]
  },
  {
   "cell_type": "code",
   "execution_count": 84,
   "id": "c1a87530-4991-454d-a5a1-28940376182d",
   "metadata": {},
   "outputs": [],
   "source": [
    "export_df.to_csv(\"../data/processed/reservoirs/reservoirs-latest.csv\", index=False)"
   ]
  },
  {
   "cell_type": "code",
   "execution_count": 85,
   "id": "5a6a888e-55bc-47d7-9152-bf1ef0f680e3",
   "metadata": {},
   "outputs": [],
   "source": [
    "export_df.to_csv(f\"../data/processed/reservoirs/reservoirs-{today}.csv\", index=False)"
   ]
  },
  {
   "cell_type": "markdown",
   "id": "02e056ca-7d5b-4abc-90f2-d89868ede9e0",
   "metadata": {},
   "source": [
    "---"
   ]
  },
  {
   "cell_type": "markdown",
   "id": "29c21bc6-3264-4006-ac55-d01a3811894e",
   "metadata": {},
   "source": [
    "### Merge geo data"
   ]
  },
  {
   "cell_type": "code",
   "execution_count": 108,
   "id": "65a5d7c1-6b06-4702-ac29-36910f27cf22",
   "metadata": {},
   "outputs": [],
   "source": [
    "metadata_df = pd.read_csv(\"../data/metadata/reservoirs-metadata-details.csv\")"
   ]
  },
  {
   "cell_type": "code",
   "execution_count": 111,
   "id": "b8d4832e-3eb4-47ed-be82-c273e80f80ea",
   "metadata": {},
   "outputs": [],
   "source": [
    "metadata_df[\"lat\"] = metadata_df[\"lat\"].str.replace(\"°\",\"\")\n",
    "metadata_df[\"lon\"] = metadata_df[\"lon\"].str.replace(\"°\",\"\")"
   ]
  },
  {
   "cell_type": "code",
   "execution_count": 147,
   "id": "197054bb-f69a-4fe9-aaab-16cb4f554296",
   "metadata": {},
   "outputs": [],
   "source": [
    "merge_coords = pd.merge(\n",
    "    drop_na,\n",
    "    metadata_df[[\"id\",\"lat\",\"lon\"]],\n",
    "    how=\"left\",\n",
    "    left_on=[\"reservoir_id\"],\n",
    "    right_on=[\"id\"]\n",
    ").drop([\"id\",\"month\",\"units\",\"average_storage_unit\",\"capacity_unit\"], axis=1)"
   ]
  },
  {
   "cell_type": "code",
   "execution_count": 148,
   "id": "6836210d-fb2c-4866-9729-169134b5eea0",
   "metadata": {},
   "outputs": [],
   "source": [
    "merge_coords.lake_name = merge_coords.lake_name.str.strip()"
   ]
  },
  {
   "cell_type": "code",
   "execution_count": 151,
   "id": "894bc0af-34b0-484f-a37a-9ba6c6a46fce",
   "metadata": {},
   "outputs": [
    {
     "data": {
      "text/html": [
       "<div>\n",
       "<style scoped>\n",
       "    .dataframe tbody tr th:only-of-type {\n",
       "        vertical-align: middle;\n",
       "    }\n",
       "\n",
       "    .dataframe tbody tr th {\n",
       "        vertical-align: top;\n",
       "    }\n",
       "\n",
       "    .dataframe thead th {\n",
       "        text-align: right;\n",
       "    }\n",
       "</style>\n",
       "<table border=\"1\" class=\"dataframe\">\n",
       "  <thead>\n",
       "    <tr style=\"text-align: right;\">\n",
       "      <th></th>\n",
       "      <th>reservoir_id</th>\n",
       "      <th>date</th>\n",
       "      <th>storage_af</th>\n",
       "      <th>average_storage_value</th>\n",
       "      <th>lake_name</th>\n",
       "      <th>capacity_value</th>\n",
       "      <th>current_level_pct_of_total</th>\n",
       "      <th>average_level_pct_of_total</th>\n",
       "      <th>current_level_pct_of_avg</th>\n",
       "      <th>lat</th>\n",
       "      <th>lon</th>\n",
       "    </tr>\n",
       "  </thead>\n",
       "  <tbody>\n",
       "    <tr>\n",
       "      <th>0</th>\n",
       "      <td>CLE</td>\n",
       "      <td>2022-06-16</td>\n",
       "      <td>730476.000</td>\n",
       "      <td>1882223.000</td>\n",
       "      <td>Trinity Lake</td>\n",
       "      <td>2447650.000</td>\n",
       "      <td>0.298</td>\n",
       "      <td>0.769</td>\n",
       "      <td>0.388</td>\n",
       "      <td>40.801000</td>\n",
       "      <td>-122.762000</td>\n",
       "    </tr>\n",
       "    <tr>\n",
       "      <th>1</th>\n",
       "      <td>WRS</td>\n",
       "      <td>2022-06-16</td>\n",
       "      <td>134904.000</td>\n",
       "      <td>228117.000</td>\n",
       "      <td>Warm Springs Reservoir</td>\n",
       "      <td>381000.000</td>\n",
       "      <td>0.354</td>\n",
       "      <td>0.599</td>\n",
       "      <td>0.591</td>\n",
       "      <td>38.723000</td>\n",
       "      <td>-123.010000</td>\n",
       "    </tr>\n",
       "    <tr>\n",
       "      <th>2</th>\n",
       "      <td>CCH</td>\n",
       "      <td>2022-06-16</td>\n",
       "      <td>83515.000</td>\n",
       "      <td>144299.000</td>\n",
       "      <td>Cachuma Lake</td>\n",
       "      <td>193305.000</td>\n",
       "      <td>0.432</td>\n",
       "      <td>0.746</td>\n",
       "      <td>0.579</td>\n",
       "      <td>34.583000</td>\n",
       "      <td>-119.980000</td>\n",
       "    </tr>\n",
       "    <tr>\n",
       "      <th>3</th>\n",
       "      <td>CSI</td>\n",
       "      <td>2022-06-16</td>\n",
       "      <td>79021.000</td>\n",
       "      <td>192450.000</td>\n",
       "      <td>Lake Casitas</td>\n",
       "      <td>254000.000</td>\n",
       "      <td>0.311</td>\n",
       "      <td>0.758</td>\n",
       "      <td>0.411</td>\n",
       "      <td>34.373000</td>\n",
       "      <td>-119.332000</td>\n",
       "    </tr>\n",
       "    <tr>\n",
       "      <th>4</th>\n",
       "      <td>CAS</td>\n",
       "      <td>2022-06-16</td>\n",
       "      <td>124353.000</td>\n",
       "      <td>280108.000</td>\n",
       "      <td>Castaic Lake</td>\n",
       "      <td>325000.000</td>\n",
       "      <td>0.383</td>\n",
       "      <td>0.862</td>\n",
       "      <td>0.444</td>\n",
       "      <td>34.515200</td>\n",
       "      <td>-118.610100</td>\n",
       "    </tr>\n",
       "    <tr>\n",
       "      <th>5</th>\n",
       "      <td>SHA</td>\n",
       "      <td>2022-06-16</td>\n",
       "      <td>1805176.000</td>\n",
       "      <td>3539810.000</td>\n",
       "      <td>Lake Shasta</td>\n",
       "      <td>4552000.000</td>\n",
       "      <td>0.397</td>\n",
       "      <td>0.778</td>\n",
       "      <td>0.510</td>\n",
       "      <td>40.718000</td>\n",
       "      <td>-122.420000</td>\n",
       "    </tr>\n",
       "    <tr>\n",
       "      <th>6</th>\n",
       "      <td>ORO</td>\n",
       "      <td>2022-06-16</td>\n",
       "      <td>1837379.000</td>\n",
       "      <td>2687874.000</td>\n",
       "      <td>Lake Oroville</td>\n",
       "      <td>3537577.000</td>\n",
       "      <td>0.519</td>\n",
       "      <td>0.760</td>\n",
       "      <td>0.684</td>\n",
       "      <td>39.540000</td>\n",
       "      <td>-121.493000</td>\n",
       "    </tr>\n",
       "    <tr>\n",
       "      <th>7</th>\n",
       "      <td>BUL</td>\n",
       "      <td>2022-06-16</td>\n",
       "      <td>866610.000</td>\n",
       "      <td>831313.000</td>\n",
       "      <td>Bullards Bar Reservoir</td>\n",
       "      <td>966000.000</td>\n",
       "      <td>0.897</td>\n",
       "      <td>0.861</td>\n",
       "      <td>1.042</td>\n",
       "      <td>39.393000</td>\n",
       "      <td>-121.140000</td>\n",
       "    </tr>\n",
       "    <tr>\n",
       "      <th>8</th>\n",
       "      <td>FOL</td>\n",
       "      <td>2022-06-16</td>\n",
       "      <td>861301.000</td>\n",
       "      <td>756266.000</td>\n",
       "      <td>Folsom Lake</td>\n",
       "      <td>977000.000</td>\n",
       "      <td>0.882</td>\n",
       "      <td>0.774</td>\n",
       "      <td>1.139</td>\n",
       "      <td>38.683000</td>\n",
       "      <td>-121.183000</td>\n",
       "    </tr>\n",
       "    <tr>\n",
       "      <th>9</th>\n",
       "      <td>CMN</td>\n",
       "      <td>2022-06-16</td>\n",
       "      <td>216790.000</td>\n",
       "      <td>305377.000</td>\n",
       "      <td>Camanche Reservoir</td>\n",
       "      <td>417120.000</td>\n",
       "      <td>0.520</td>\n",
       "      <td>0.732</td>\n",
       "      <td>0.710</td>\n",
       "      <td>38.225000</td>\n",
       "      <td>-121.021000</td>\n",
       "    </tr>\n",
       "    <tr>\n",
       "      <th>10</th>\n",
       "      <td>NML</td>\n",
       "      <td>2022-06-16</td>\n",
       "      <td>819184.000</td>\n",
       "      <td>1507818.000</td>\n",
       "      <td>New Melones Reservoir</td>\n",
       "      <td>2400000.000</td>\n",
       "      <td>0.341</td>\n",
       "      <td>0.628</td>\n",
       "      <td>0.543</td>\n",
       "      <td>37.948100</td>\n",
       "      <td>-120.525000</td>\n",
       "    </tr>\n",
       "    <tr>\n",
       "      <th>11</th>\n",
       "      <td>DNP</td>\n",
       "      <td>2022-06-16</td>\n",
       "      <td>1346844.000</td>\n",
       "      <td>1671693.000</td>\n",
       "      <td>New Don Pedro Reservoir</td>\n",
       "      <td>2030000.000</td>\n",
       "      <td>0.663</td>\n",
       "      <td>0.823</td>\n",
       "      <td>0.806</td>\n",
       "      <td>37.702000</td>\n",
       "      <td>-120.421000</td>\n",
       "    </tr>\n",
       "    <tr>\n",
       "      <th>12</th>\n",
       "      <td>EXC</td>\n",
       "      <td>2022-06-16</td>\n",
       "      <td>430879.000</td>\n",
       "      <td>729672.000</td>\n",
       "      <td>Lake McClure</td>\n",
       "      <td>1024600.000</td>\n",
       "      <td>0.421</td>\n",
       "      <td>0.712</td>\n",
       "      <td>0.591</td>\n",
       "      <td>37.585000</td>\n",
       "      <td>-120.270000</td>\n",
       "    </tr>\n",
       "    <tr>\n",
       "      <th>13</th>\n",
       "      <td>MIL</td>\n",
       "      <td>2022-06-16</td>\n",
       "      <td>366146.000</td>\n",
       "      <td>432481.000</td>\n",
       "      <td>Millerton Lake</td>\n",
       "      <td>520500.000</td>\n",
       "      <td>0.703</td>\n",
       "      <td>0.831</td>\n",
       "      <td>0.847</td>\n",
       "      <td>37.001000</td>\n",
       "      <td>-119.705000</td>\n",
       "    </tr>\n",
       "    <tr>\n",
       "      <th>14</th>\n",
       "      <td>SNL</td>\n",
       "      <td>2022-06-16</td>\n",
       "      <td>854908.000</td>\n",
       "      <td>1105632.000</td>\n",
       "      <td>San Luis Reservoir</td>\n",
       "      <td>2041000.000</td>\n",
       "      <td>0.419</td>\n",
       "      <td>0.542</td>\n",
       "      <td>0.773</td>\n",
       "      <td>37.033000</td>\n",
       "      <td>-121.133000</td>\n",
       "    </tr>\n",
       "    <tr>\n",
       "      <th>15</th>\n",
       "      <td>PNF</td>\n",
       "      <td>2022-06-16</td>\n",
       "      <td>594789.000</td>\n",
       "      <td>670674.000</td>\n",
       "      <td>Pine Flat Dam</td>\n",
       "      <td>1000000.000</td>\n",
       "      <td>0.595</td>\n",
       "      <td>0.671</td>\n",
       "      <td>0.887</td>\n",
       "      <td>36.833000</td>\n",
       "      <td>-119.325000</td>\n",
       "    </tr>\n",
       "  </tbody>\n",
       "</table>\n",
       "</div>"
      ],
      "text/plain": [
       "   reservoir_id       date  storage_af  average_storage_value  \\\n",
       "0           CLE 2022-06-16  730476.000            1882223.000   \n",
       "1           WRS 2022-06-16  134904.000             228117.000   \n",
       "2           CCH 2022-06-16   83515.000             144299.000   \n",
       "3           CSI 2022-06-16   79021.000             192450.000   \n",
       "4           CAS 2022-06-16  124353.000             280108.000   \n",
       "5           SHA 2022-06-16 1805176.000            3539810.000   \n",
       "6           ORO 2022-06-16 1837379.000            2687874.000   \n",
       "7           BUL 2022-06-16  866610.000             831313.000   \n",
       "8           FOL 2022-06-16  861301.000             756266.000   \n",
       "9           CMN 2022-06-16  216790.000             305377.000   \n",
       "10          NML 2022-06-16  819184.000            1507818.000   \n",
       "11          DNP 2022-06-16 1346844.000            1671693.000   \n",
       "12          EXC 2022-06-16  430879.000             729672.000   \n",
       "13          MIL 2022-06-16  366146.000             432481.000   \n",
       "14          SNL 2022-06-16  854908.000            1105632.000   \n",
       "15          PNF 2022-06-16  594789.000             670674.000   \n",
       "\n",
       "                  lake_name  capacity_value  current_level_pct_of_total  \\\n",
       "0              Trinity Lake     2447650.000                       0.298   \n",
       "1    Warm Springs Reservoir      381000.000                       0.354   \n",
       "2              Cachuma Lake      193305.000                       0.432   \n",
       "3              Lake Casitas      254000.000                       0.311   \n",
       "4              Castaic Lake      325000.000                       0.383   \n",
       "5               Lake Shasta     4552000.000                       0.397   \n",
       "6             Lake Oroville     3537577.000                       0.519   \n",
       "7    Bullards Bar Reservoir      966000.000                       0.897   \n",
       "8               Folsom Lake      977000.000                       0.882   \n",
       "9        Camanche Reservoir      417120.000                       0.520   \n",
       "10    New Melones Reservoir     2400000.000                       0.341   \n",
       "11  New Don Pedro Reservoir     2030000.000                       0.663   \n",
       "12             Lake McClure     1024600.000                       0.421   \n",
       "13           Millerton Lake      520500.000                       0.703   \n",
       "14       San Luis Reservoir     2041000.000                       0.419   \n",
       "15            Pine Flat Dam     1000000.000                       0.595   \n",
       "\n",
       "    average_level_pct_of_total  current_level_pct_of_avg        lat  \\\n",
       "0                        0.769                     0.388  40.801000   \n",
       "1                        0.599                     0.591  38.723000   \n",
       "2                        0.746                     0.579  34.583000   \n",
       "3                        0.758                     0.411  34.373000   \n",
       "4                        0.862                     0.444  34.515200   \n",
       "5                        0.778                     0.510  40.718000   \n",
       "6                        0.760                     0.684  39.540000   \n",
       "7                        0.861                     1.042  39.393000   \n",
       "8                        0.774                     1.139  38.683000   \n",
       "9                        0.732                     0.710  38.225000   \n",
       "10                       0.628                     0.543  37.948100   \n",
       "11                       0.823                     0.806  37.702000   \n",
       "12                       0.712                     0.591  37.585000   \n",
       "13                       0.831                     0.847  37.001000   \n",
       "14                       0.542                     0.773  37.033000   \n",
       "15                       0.671                     0.887  36.833000   \n",
       "\n",
       "            lon  \n",
       "0   -122.762000  \n",
       "1   -123.010000  \n",
       "2   -119.980000  \n",
       "3   -119.332000  \n",
       "4   -118.610100  \n",
       "5   -122.420000  \n",
       "6   -121.493000  \n",
       "7   -121.140000  \n",
       "8   -121.183000  \n",
       "9   -121.021000  \n",
       "10  -120.525000  \n",
       "11  -120.421000  \n",
       "12  -120.270000  \n",
       "13  -119.705000  \n",
       "14  -121.133000  \n",
       "15  -119.325000  "
      ]
     },
     "execution_count": 151,
     "metadata": {},
     "output_type": "execute_result"
    }
   ],
   "source": [
    "merge_coords#[merge_coords.lake_name==\"Lake Shasta\"]"
   ]
  },
  {
   "cell_type": "code",
   "execution_count": 150,
   "id": "7c0f24de-72b1-4fcf-807e-b23806090549",
   "metadata": {},
   "outputs": [],
   "source": [
    "merge_coords.to_csv(\"../data/processed/reservoirs/reservoirs-with-points.csv\", index=False)"
   ]
  }
 ],
 "metadata": {
  "kernelspec": {
   "display_name": "Python 3 (ipykernel)",
   "language": "python",
   "name": "python3"
  },
  "language_info": {
   "codemirror_mode": {
    "name": "ipython",
    "version": 3
   },
   "file_extension": ".py",
   "mimetype": "text/x-python",
   "name": "python",
   "nbconvert_exporter": "python",
   "pygments_lexer": "ipython3",
   "version": "3.9.6"
  }
 },
 "nbformat": 4,
 "nbformat_minor": 5
}
