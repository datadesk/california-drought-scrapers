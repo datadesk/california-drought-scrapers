{
 "cells": [
  {
   "cell_type": "code",
   "execution_count": 1,
   "id": "480864fb-e03f-49df-ad44-40f37a11de27",
   "metadata": {},
   "outputs": [],
   "source": [
    "import glob\n",
    "import datetime\n",
    "import pandas as pd\n",
    "import altair as alt\n",
    "import altair_latimes as lat"
   ]
  },
  {
   "cell_type": "code",
   "execution_count": 2,
   "id": "6b497284-fefa-4829-a51f-455aec841ade",
   "metadata": {},
   "outputs": [
    {
     "data": {
      "text/plain": [
       "ThemeRegistry.enable('latimes')"
      ]
     },
     "execution_count": 2,
     "metadata": {},
     "output_type": "execute_result"
    }
   ],
   "source": [
    "alt.themes.register('latimes', lat.theme)\n",
    "alt.themes.enable('latimes')"
   ]
  },
  {
   "cell_type": "code",
   "execution_count": 3,
   "id": "20dba8ae-6768-4c41-ab4e-fe479a4dc173",
   "metadata": {},
   "outputs": [],
   "source": [
    "pd.set_option('display.max_columns', 50)\n",
    "#pd.set_option('display.max_colwidth', None)"
   ]
  },
  {
   "cell_type": "markdown",
   "id": "57536c6d-1072-4579-a8f2-83f7ef7f2138",
   "metadata": {},
   "source": [
    "### Get latest file from directory"
   ]
  },
  {
   "cell_type": "code",
   "execution_count": 4,
   "id": "10c2dd58-7382-4e89-8e92-565311349439",
   "metadata": {},
   "outputs": [],
   "source": [
    "file_list = glob.glob(\"../data/raw/uw_drought_response_actions/*.xlsx\")"
   ]
  },
  {
   "cell_type": "code",
   "execution_count": 5,
   "id": "bf8efc53-29b8-42b6-87d8-8b1e535f09dc",
   "metadata": {},
   "outputs": [
    {
     "name": "stdout",
     "output_type": "stream",
     "text": [
      "070822\n",
      "2022-07-08 00:00:00\n"
     ]
    }
   ],
   "source": [
    "date_list = []\n",
    "for f in file_list:\n",
    "    raw_name = f.replace(\"../data/raw/uw_drought_response_actions/uw-drought-response\",\"\").replace(\".xlsx\",\"\")\n",
    "    clean_name = raw_name.replace(\"_\",\"-\")\n",
    "    # ignore revision notes\n",
    "    #trim_name = clean_name.split(\"-rev\")[0]\n",
    "    # get file date\n",
    "    #file_date = clean_name.split(\"data\")[1]\n",
    "    print(clean_name)\n",
    "    try:\n",
    "        parsed_date = datetime.datetime.strptime(clean_name, '%m%d%y')\n",
    "        print(parsed_date)\n",
    "    except ValueError:\n",
    "        print(f\"skip ```{raw_name}``` invalid date\")\n",
    "    date_list.append(parsed_date)"
   ]
  },
  {
   "cell_type": "code",
   "execution_count": 6,
   "id": "0be5d734-b75e-478f-b581-5e92045b4f05",
   "metadata": {},
   "outputs": [],
   "source": [
    "latest = max(date_list)"
   ]
  },
  {
   "cell_type": "code",
   "execution_count": 7,
   "id": "a7ba3c02-e0f6-4838-bc7f-63bcdfe9b185",
   "metadata": {},
   "outputs": [],
   "source": [
    "latest_xl_file = f\"../data/raw/uw_drought_response_actions/uw-drought-response{latest.strftime('%m%d%y')}.xlsx\""
   ]
  },
  {
   "cell_type": "code",
   "execution_count": 8,
   "id": "36f2cd41-d434-4c36-8dcb-e68d45d3084c",
   "metadata": {},
   "outputs": [],
   "source": [
    "#file = \"../data/raw/uw_drought_response_actions/uw-drought-response070822.xlsx\""
   ]
  },
  {
   "cell_type": "code",
   "execution_count": 9,
   "id": "e0fc19e5-702c-4533-9d87-565b324c1aaf",
   "metadata": {},
   "outputs": [
    {
     "data": {
      "text/plain": [
       "['Listed responses', 'Machine readable']"
      ]
     },
     "execution_count": 9,
     "metadata": {},
     "output_type": "execute_result"
    }
   ],
   "source": [
    "pd.ExcelFile(latest_xl_file).sheet_names"
   ]
  },
  {
   "cell_type": "code",
   "execution_count": 10,
   "id": "9d6ea703-dfe8-45b8-ba73-49737bc87325",
   "metadata": {},
   "outputs": [],
   "source": [
    "df = pd.read_excel(latest_xl_file, sheet_name='Machine readable', parse_dates=[\"Reporting Month\"])"
   ]
  },
  {
   "cell_type": "markdown",
   "id": "847a24dd-bfda-436a-8c68-7dac4b2c95ab",
   "metadata": {},
   "source": [
    "Import clean names"
   ]
  },
  {
   "cell_type": "code",
   "execution_count": 11,
   "id": "e5707284-1608-4d11-8bc7-91445727c3c3",
   "metadata": {},
   "outputs": [],
   "source": [
    "clean_names = pd.read_csv(\"../data/metadata/urban-water-suppliers-clean-names.csv\")"
   ]
  },
  {
   "cell_type": "markdown",
   "id": "a9a43742-6bab-48a4-bd35-56f9baf42df3",
   "metadata": {},
   "source": [
    "### Prep data"
   ]
  },
  {
   "cell_type": "markdown",
   "id": "a28727ba-a5a1-4266-a564-88ec4e77bb85",
   "metadata": {},
   "source": [
    "Take latest month"
   ]
  },
  {
   "cell_type": "code",
   "execution_count": 12,
   "id": "8bdae8cd-4eb5-4b40-a2d5-c902b940b206",
   "metadata": {},
   "outputs": [],
   "source": [
    "latest_df = df[df[\"Reporting Month\"] == df[\"Reporting Month\"].max()]"
   ]
  },
  {
   "cell_type": "code",
   "execution_count": 13,
   "id": "38ead114-79f7-4a85-b204-689c2037e66f",
   "metadata": {},
   "outputs": [],
   "source": [
    "df[\"Supplier Name\"] = df[\"Supplier Name\"].str.replace(\"  \", \" \")"
   ]
  },
  {
   "cell_type": "code",
   "execution_count": 14,
   "id": "a09e673c-42a8-4088-a310-cbce4a7ea3bd",
   "metadata": {},
   "outputs": [],
   "source": [
    "df[\"Supplier Name\"] = df[\"Supplier Name\"].str.strip()"
   ]
  },
  {
   "cell_type": "code",
   "execution_count": 122,
   "id": "08dc8605-b3c8-4b7f-ac3f-f782bdf436f4",
   "metadata": {},
   "outputs": [],
   "source": [
    "merge_df = pd.merge(\n",
    "    latest_df,\n",
    "    clean_names[[\"id\",\"display_name\"]],\n",
    "    how=\"left\",\n",
    "    left_on=[\"Public Water System ID\"],\n",
    "    right_on=[\"id\"]\n",
    ")"
   ]
  },
  {
   "cell_type": "code",
   "execution_count": 123,
   "id": "1394accb-e83c-4932-a92e-d6e909ac7c20",
   "metadata": {},
   "outputs": [
    {
     "data": {
      "text/plain": [
       "0"
      ]
     },
     "execution_count": 123,
     "metadata": {},
     "output_type": "execute_result"
    }
   ],
   "source": [
    "len(\n",
    "    merge_df[merge_df[\"display_name\"].isna()]\n",
    ")"
   ]
  },
  {
   "cell_type": "markdown",
   "id": "38f1268e-e541-4d6e-aaea-2a7d4b6e14d1",
   "metadata": {},
   "source": [
    "### List the main identifying columns"
   ]
  },
  {
   "cell_type": "code",
   "execution_count": 124,
   "id": "9faaeb0b-c4d4-4613-ab8b-f855e83b4275",
   "metadata": {},
   "outputs": [],
   "source": [
    "global_columns = [\n",
    "    'Supplier Name', \n",
    "    'display_name',\n",
    "    'Public Water System ID', \n",
    "    'Reporting Month',\n",
    "    'Total Population Served', \n",
    "    'County', \n",
    "    'Hydrologic Region',\n",
    "    'Climate Zone', \n",
    "]"
   ]
  },
  {
   "cell_type": "code",
   "execution_count": 125,
   "id": "166b7495-2d95-4fd0-91e2-54c4f86d5a34",
   "metadata": {},
   "outputs": [],
   "source": [
    "drought_stage_columns = [\n",
    "    # 'Water Shortage Contingency Stage Invoked', # junk\n",
    "    'DWR State Standard Level corresponding to Stage',\n",
    "    'Enacted any measures', 'Not experiencing local shortage',\n",
    "    \"Don't have the resources to enact any of the listed Response Activities\",\n",
    "    'Not Enacted Other'\n",
    "]"
   ]
  },
  {
   "cell_type": "code",
   "execution_count": 126,
   "id": "3ce113a3-a3c0-4d81-9e04-ddd943b1c37a",
   "metadata": {},
   "outputs": [
    {
     "name": "stdout",
     "output_type": "stream",
     "text": [
      "\u001b[1mDWR State Standard Level corresponding to Stage\u001b[0m\n",
      "    1. 5.0\n",
      "    2. nan\n",
      "    3. 2.0\n",
      "    4. 3.0\n",
      "    5. 0.0\n",
      "    6. 1.0\n",
      "    7. 4.0\n",
      "\u001b[1mEnacted any measures\u001b[0m\n",
      "    1. Yes\n",
      "    2. nan\n",
      "    3. No\n",
      "\u001b[1mNot experiencing local shortage\u001b[0m\n",
      "    1. nan\n",
      "    2. Y\n",
      "\u001b[1mDon't have the resources to enact any of the listed Response Activities\u001b[0m\n",
      "    1. nan\n",
      "    2. Y\n",
      "\u001b[1mNot Enacted Other\u001b[0m\n",
      "    1. nan\n",
      "    2. Y\n"
     ]
    }
   ],
   "source": [
    "for c in drought_stage_columns:\n",
    "    responses = df[c].unique()\n",
    "    print('\\033[1m' + c + '\\033[0m')\n",
    "    for n, r in enumerate(responses):\n",
    "        print(f'    {(n+1)}. {r}')"
   ]
  },
  {
   "cell_type": "markdown",
   "id": "e6b1427f-8a5a-4d3c-8536-7e899ee909bb",
   "metadata": {},
   "source": [
    "### Assign columns to \"conservation action categories,\" such as water restrictions and water waste"
   ]
  },
  {
   "cell_type": "code",
   "execution_count": 127,
   "id": "7b2560ac-e9a9-4d94-a282-60ba682c04c9",
   "metadata": {},
   "outputs": [],
   "source": [
    "cats = {\n",
    "    # \"Enhanced outreach and communication\": \"Demand\", # not in data\n",
    "    \"Raising rates\": \"Demand\",\n",
    "    \"Apply drought surcharges\": \"Demand\",\n",
    "    \"Reduced allocations (for agencies with budget-based rates)\": \"Demand\",\n",
    "    \"Residential water audits\": \"Demand\",\n",
    "    \"CII water audits\": \"Demand\",\n",
    "    \"Expanded existing rebate program\": \"Demand\",\n",
    "    \"Rationing\": \"Demand\",\n",
    "    \"Turf replacement/rebate\": \"Demand\",\n",
    "    \"Demand Reduction Other\": \"Demand\",\n",
    "    \"Greywater\": \"Supply\",\n",
    "    \"On-site treatment and reuse\": \"Supply\",\n",
    "    \"Desalination\": \"Supply\",\n",
    "    \"Recycled Water\": \"Supply\",\n",
    "    \"Remediated Groundwater\": \"Supply\",\n",
    "    \"Supply Augmentation Other\": \"Supply\",\n",
    "    \"Weekly watering restrictions\": \"Water Restrictions\",\n",
    "    \"Excessive irrigation of outdoor landscapes\": \"Water Restrictions\",\n",
    "    \"Washing a motor vehicle with a hose not fitted with a shut-off nozzle\": \"Water Restrictions\",\n",
    "    \"Application of potable water directly to driveways or sidewalks\": \"Water Restrictions\",\n",
    "    \"Use of potable water in decorative water features\": \"Water Restrictions\",\n",
    "    \"The application of water to irrigate turf and ornamental landscapes during and within 48 hours after measurable rainfall\": \"Water Restrictions\",\n",
    "    \"Restrictions Other\": \"Water Restrictions\",\n",
    "    \"Not serving drinking water other than upon request in eating or drinking establishments\": \"Industry-Specific\",\n",
    "    \"Operators of hotels and motels providing guests with the option of choosing not to have towels and linens laundered daily\": \"Industry-Specific\",\n",
    "    \"Industry Other\": \"Industry-Specific\",\n",
    "    \"E-mails\": \"Communication\",\n",
    "    \"Paper mail\": \"Communication\",\n",
    "    \"Notifications via Customer App\": \"Communication\",\n",
    "    \"Website\": \"Communication\",\n",
    "    \"Articles/News releases\": \"Communication\",\n",
    "    \"Youtube\": \"Communication\",\n",
    "    \"Facebook\": \"Communication\",\n",
    "    \"Instagram\": \"Communication\",\n",
    "    \"Other Social Media\": \"Communication\",\n",
    "    \"Community events\": \"Communication\",\n",
    "    \"Door hanger\": \"Communication\",\n",
    "    \"Workshops\": \"Communication\",\n",
    "    \"Television\": \"Communication\",\n",
    "    \"Radio\": \"Communication\",\n",
    "    \"Billboard\": \"Communication\",\n",
    "    \"Paid Media Advertising\": \"Communication\",\n",
    "    \"Bus shelter\": \"Communication\",\n",
    "    \"Communication Other (Fill-in)\": \"Communication\",\n",
    "    \"Notification via customer app\": \"Water Waste\",\n",
    "    \"Notification via Phone call\": \"Water Waste\",\n",
    "    \"Notification via Letter\": \"Water Waste\",\n",
    "    \"Notification via Door hanger\": \"Water Waste\",\n",
    "    \"Notification via Other\": \"Water Waste\",\n",
    "    \"Fine\": \"Water Waste\",\n",
    "    \"Assigned a different rate tier\": \"Water Waste\",\n",
    "    \"Penalty Other\": \"Water Waste\"\n",
    "}"
   ]
  },
  {
   "cell_type": "code",
   "execution_count": 128,
   "id": "7eff70dd-ae43-439a-873f-fab918661910",
   "metadata": {},
   "outputs": [],
   "source": [
    "demand_cols = [k for k,v in cats.items() if v == \"Demand\"]"
   ]
  },
  {
   "cell_type": "code",
   "execution_count": 129,
   "id": "51836ec6-401b-4a69-becc-00acdac56657",
   "metadata": {},
   "outputs": [],
   "source": [
    "supply_cols = [k for k,v in cats.items() if v == \"Supply\"]"
   ]
  },
  {
   "cell_type": "code",
   "execution_count": 130,
   "id": "9cceb968-2168-42e8-b4e7-519952e18fc9",
   "metadata": {},
   "outputs": [],
   "source": [
    "restrictions_cols = [k for k,v in cats.items() if v == \"Water Restrictions\"]"
   ]
  },
  {
   "cell_type": "code",
   "execution_count": 131,
   "id": "a22497ed-31b7-47ec-af2d-b702ca52e90a",
   "metadata": {},
   "outputs": [],
   "source": [
    "comms_cols = [k for k,v in cats.items() if v == \"Communications\"]"
   ]
  },
  {
   "cell_type": "code",
   "execution_count": 132,
   "id": "2325f80e-4cf4-468a-9138-8d74d303432f",
   "metadata": {},
   "outputs": [],
   "source": [
    "waste_cols = [k for k,v in cats.items() if v == \"Water Waste\"]"
   ]
  },
  {
   "cell_type": "markdown",
   "id": "a1eae5a7-055d-4e6b-bf22-8bec530e41c9",
   "metadata": {},
   "source": [
    "### Restrictions"
   ]
  },
  {
   "cell_type": "code",
   "execution_count": 147,
   "id": "c17b7096-2373-41d0-886d-f9d7a4dba948",
   "metadata": {},
   "outputs": [],
   "source": [
    "restrictions_df = merge_df[global_columns + ['Enacted any measures', 'Not experiencing local shortage',\n",
    "    \"Don't have the resources to enact any of the listed Response Activities\"] + restrictions_cols]"
   ]
  },
  {
   "cell_type": "code",
   "execution_count": 153,
   "id": "dbd2bc72-41e3-423f-8542-c1290025f35a",
   "metadata": {},
   "outputs": [
    {
     "data": {
      "text/plain": [
       "0    Alameda,Contra Costa\n",
       "1                  Orange\n",
       "2             Los Angeles\n",
       "3                  Merced\n",
       "4              Stanislaus\n",
       "Name: County, dtype: object"
      ]
     },
     "execution_count": 153,
     "metadata": {},
     "output_type": "execute_result"
    }
   ],
   "source": [
    "restrictions_df.head()[\"County\"]"
   ]
  },
  {
   "cell_type": "code",
   "execution_count": 150,
   "id": "00a6f8dc-6edf-4d14-8d5b-57c2af3735ce",
   "metadata": {},
   "outputs": [],
   "source": [
    "renamed_restrictions = restrictions_df.rename(columns={\n",
    "    \"Supplier Name\": \"supplier_name\",\n",
    "    \"Public Water System ID\": \"pwsid\",\n",
    "    \"Reporting Month\": \"reporting_month\",\n",
    "    \"Enacted any measures\": \"enacted_measures\",\n",
    "    \"Not experiencing local shortage\": \"no_local_shortage\",\n",
    "    \"Don't have the resources to enact any of the listed Response Activities\": \"no_resources\"\n",
    "})"
   ]
  },
  {
   "cell_type": "code",
   "execution_count": 151,
   "id": "53a58493-2fc5-4ee4-be0c-14007061f905",
   "metadata": {},
   "outputs": [],
   "source": [
    "restrictions_trimmed = renamed_restrictions[\n",
    "    ['supplier_name', 'display_name', 'pwsid', 'reporting_month',\n",
    "    'enacted_measures', 'no_local_shortage', 'no_resources',\n",
    "    'Weekly watering restrictions',\n",
    "    'Excessive irrigation of outdoor landscapes',\n",
    "    'Washing a motor vehicle with a hose not fitted with a shut-off nozzle',\n",
    "    'Application of potable water directly to driveways or sidewalks',\n",
    "    'Use of potable water in decorative water features',\n",
    "    'The application of water to irrigate turf and ornamental landscapes during and within 48 hours after measurable rainfall',\n",
    "    'Restrictions Other']\n",
    "]"
   ]
  },
  {
   "cell_type": "code",
   "execution_count": 152,
   "id": "f420cc9c-89df-4f3d-853d-7dbbfba25aaf",
   "metadata": {},
   "outputs": [],
   "source": [
    "restrictions_trimmed.to_csv(\"../data/processed/restrictions/latest.csv\",\n",
    "    index=False\n",
    ")"
   ]
  },
  {
   "cell_type": "markdown",
   "id": "8c1c2bc0-10a1-4975-bf05-306b966547de",
   "metadata": {},
   "source": [
    "### Water waste"
   ]
  },
  {
   "cell_type": "code",
   "execution_count": 137,
   "id": "b534b5a4-f73f-4c56-b6d9-2af1205168bd",
   "metadata": {},
   "outputs": [],
   "source": [
    "#waste_df = merge_df[global_columns + waste_cols]"
   ]
  },
  {
   "cell_type": "code",
   "execution_count": 138,
   "id": "20718ed5-5629-4943-a25d-514ca3961aca",
   "metadata": {},
   "outputs": [],
   "source": [
    "#waste_long = pd.melt(waste_df, id_vars=global_columns)"
   ]
  },
  {
   "cell_type": "code",
   "execution_count": 139,
   "id": "de21d6b5-2537-4a07-a6fe-ad36cb0b831a",
   "metadata": {},
   "outputs": [],
   "source": [
    "# waste_list = waste_long[\n",
    "#     (waste_long[\"display_name\"] == supplier)\n",
    "# ]"
   ]
  },
  {
   "cell_type": "code",
   "execution_count": 140,
   "id": "f9562386-8e95-454b-b80b-db3facfe6534",
   "metadata": {},
   "outputs": [],
   "source": [
    "#rdf = pd.read_excel(file, sheet_name='Listed responses', parse_dates=[\"Reporting Month\"])"
   ]
  },
  {
   "cell_type": "code",
   "execution_count": 141,
   "id": "15ab81b9-f5a6-44a8-a54b-4f0f873c6f73",
   "metadata": {},
   "outputs": [],
   "source": [
    "# rdf[ \n",
    "#     (rdf[\"Supplier Name\"] == supplier) & \n",
    "#     (rdf[\"Reporting Month\"] == rdf[\"Reporting Month\"].max()) \n",
    "# ]['Type of water waste']"
   ]
  },
  {
   "cell_type": "code",
   "execution_count": 142,
   "id": "d3252a12-f3e1-4069-99b1-36f10fcb3412",
   "metadata": {},
   "outputs": [],
   "source": [
    "# latest_rdf = rdf[ \n",
    "#     (rdf[\"Reporting Month\"] == rdf[\"Reporting Month\"].max()) \n",
    "# ]"
   ]
  },
  {
   "cell_type": "code",
   "execution_count": 143,
   "id": "f8d8240c-365e-46d8-a5ba-d5d76345798c",
   "metadata": {},
   "outputs": [],
   "source": [
    "# waste_df = rdf[\n",
    "#        ['Supplier Name', 'Public Water System ID', 'Reporting Month', 'Waste Actions', 'Water waste comments',\n",
    "#        'Type of water waste',\n",
    "#        'Number of Water Waste incidents identified or reported',\n",
    "#        'Number of water waste complaints investigated',\n",
    "#        'Number of water wasters notified',\n",
    "#        'Number of water waste incidents resulting in penalties']\n",
    "# ].rename(columns={\n",
    "#     'Supplier Name': 'supplier_name', \n",
    "#     'Public Water System ID': 'pswid', \n",
    "#     'Reporting Month': 'reporting_month',\n",
    "#     'Waste Actions': 'actions', \n",
    "#     'Water waste comments': 'comments', \n",
    "#     'Type of water waste': 'type',\n",
    "#     'Number of Water Waste incidents identified or reported': 'incidents_reported',\n",
    "#     'Number of water waste complaints investigated': 'complaints_investigated',\n",
    "#     'Number of water wasters notified': 'wasters_notified',\n",
    "#     'Number of water waste incidents resulting in penalties': 'penalties'\n",
    "# })"
   ]
  },
  {
   "cell_type": "code",
   "execution_count": 144,
   "id": "7669f667-2350-4bf3-afa2-502668464a0e",
   "metadata": {},
   "outputs": [],
   "source": [
    "# waste_grouped = waste_df.groupby('reporting_month')[['incidents_reported','complaints_investigated','wasters_notified', 'penalties']].sum().reset_index()"
   ]
  },
  {
   "cell_type": "code",
   "execution_count": 145,
   "id": "e28847eb-8bb5-4d8b-9262-43bf78fa7dbd",
   "metadata": {},
   "outputs": [],
   "source": [
    "# alt.Chart(\n",
    "#     waste_df[waste_df.supplier_name == \"Los Angeles Department of Water and Power\"]\n",
    "#     #waste_grouped\n",
    "# ).mark_bar().encode(\n",
    "#     x=\"yearmonthdate(reporting_month):O\",\n",
    "#     y=\"incidents_reported\",\n",
    "#     tooltip=[\"reporting_month\",\"incidents_reported\"]\n",
    "# ).properties(\n",
    "#     width=600\n",
    "# )"
   ]
  },
  {
   "cell_type": "code",
   "execution_count": null,
   "id": "f23ade37-6233-43cf-a9b9-27c98bee2001",
   "metadata": {},
   "outputs": [],
   "source": []
  }
 ],
 "metadata": {
  "kernelspec": {
   "display_name": "Python 3 (ipykernel)",
   "language": "python",
   "name": "python3"
  },
  "language_info": {
   "codemirror_mode": {
    "name": "ipython",
    "version": 3
   },
   "file_extension": ".py",
   "mimetype": "text/x-python",
   "name": "python",
   "nbconvert_exporter": "python",
   "pygments_lexer": "ipython3",
   "version": "3.9.6"
  }
 },
 "nbformat": 4,
 "nbformat_minor": 5
}
