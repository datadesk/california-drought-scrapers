{
 "cells": [
  {
   "cell_type": "code",
   "execution_count": 61,
   "id": "a8f68e43-feaa-4996-8d5a-ecc52ce8bf66",
   "metadata": {},
   "outputs": [],
   "source": [
    "import pytz\n",
    "from datetime import datetime, date, timedelta\n",
    "import pandas as pd\n",
    "import altair as alt\n",
    "import altair_latimes as lat"
   ]
  },
  {
   "cell_type": "code",
   "execution_count": 62,
   "id": "7f08691a-275f-4165-b2a5-dc7a70e2c3a6",
   "metadata": {},
   "outputs": [
    {
     "data": {
      "text/plain": [
       "ThemeRegistry.enable('latimes')"
      ]
     },
     "execution_count": 62,
     "metadata": {},
     "output_type": "execute_result"
    }
   ],
   "source": [
    "alt.themes.register('latimes', lat.theme)\n",
    "alt.themes.enable('latimes')"
   ]
  },
  {
   "cell_type": "code",
   "execution_count": 63,
   "id": "154fda82-e6f3-4a42-86c8-578b4fc0d2cb",
   "metadata": {},
   "outputs": [],
   "source": [
    "pd.set_option('display.float_format', lambda x: '%.3f' % x)"
   ]
  },
  {
   "cell_type": "markdown",
   "id": "0cfcb7f3-6169-489d-a054-1b801988d626",
   "metadata": {},
   "source": [
    "### Import"
   ]
  },
  {
   "cell_type": "code",
   "execution_count": 64,
   "id": "f38f17f5-bb72-4268-9072-fc16ce65af26",
   "metadata": {},
   "outputs": [],
   "source": [
    "df = pd.read_csv(\n",
    "    \"../../data/raw/reservoirs/colorado-river-reservoir-bor-timeseries.csv\", \n",
    "    parse_dates=[\"date\"]\n",
    ")"
   ]
  },
  {
   "cell_type": "code",
   "execution_count": 65,
   "id": "592ce46b-5c36-44bb-94cd-4a2ad733a55c",
   "metadata": {},
   "outputs": [],
   "source": [
    "hist_df = pd.read_csv(\n",
    "    \"../../data/metadata/reservoirs-historical-averages.csv\"\n",
    ")"
   ]
  },
  {
   "cell_type": "code",
   "execution_count": 66,
   "id": "284a5f3e-4391-4685-808d-f40e64511e7b",
   "metadata": {},
   "outputs": [],
   "source": [
    "details_df = pd.read_csv(\n",
    "    \"../../data/metadata/reservoirs-metadata-details.csv\"\n",
    ")"
   ]
  },
  {
   "cell_type": "markdown",
   "id": "66364b79-8a94-4d02-abfa-9a83aabf5d27",
   "metadata": {},
   "source": [
    "### Clean"
   ]
  },
  {
   "cell_type": "code",
   "execution_count": 67,
   "id": "3bcf2dc4-c020-41b4-becf-3e4c43c425d1",
   "metadata": {},
   "outputs": [],
   "source": [
    "df.columns = df.columns.str.lower()"
   ]
  },
  {
   "cell_type": "code",
   "execution_count": 68,
   "id": "2e0088a1-012e-474f-b5da-fb9fdfe75b78",
   "metadata": {},
   "outputs": [],
   "source": [
    "df.columns = df.columns.str.replace(\" \",\"_\")"
   ]
  },
  {
   "cell_type": "code",
   "execution_count": 69,
   "id": "5b1ca206-03bd-4d33-b39b-689a4c971190",
   "metadata": {},
   "outputs": [],
   "source": [
    "df = df.rename(columns={\n",
    "    \"station_id\": \"reservoir_id\",\n",
    "    \"date_time\": \"date\",\n",
    "    \"storage\": \"storage_af\"\n",
    "})"
   ]
  },
  {
   "cell_type": "markdown",
   "id": "fcad0f7c-cf0a-4282-b093-77af21574bf5",
   "metadata": {},
   "source": [
    "### Filter to last 365 days from today"
   ]
  },
  {
   "cell_type": "code",
   "execution_count": 70,
   "id": "4e6a14c2-d68d-493f-b1dc-d661daf767a0",
   "metadata": {},
   "outputs": [
    {
     "data": {
      "text/plain": [
       "datetime.date(2023, 5, 15)"
      ]
     },
     "execution_count": 70,
     "metadata": {},
     "output_type": "execute_result"
    }
   ],
   "source": [
    "today = datetime.today().date()\n",
    "today"
   ]
  },
  {
   "cell_type": "code",
   "execution_count": 71,
   "id": "d4251a60-17aa-4800-a264-ac4aa12108e8",
   "metadata": {},
   "outputs": [
    {
     "data": {
      "text/plain": [
       "datetime.date(2022, 5, 15)"
      ]
     },
     "execution_count": 71,
     "metadata": {},
     "output_type": "execute_result"
    }
   ],
   "source": [
    "last_year = (today - pd.DateOffset(days=365)).date()\n",
    "last_year"
   ]
  },
  {
   "cell_type": "markdown",
   "id": "b19e26d6-d682-4ff5-a616-9f3dce7bda5a",
   "metadata": {},
   "source": [
    "Trim to last 365 days and remove invalid values"
   ]
  },
  {
   "cell_type": "code",
   "execution_count": 72,
   "id": "960d3458-da8d-451b-9839-f238fdc9c9f6",
   "metadata": {},
   "outputs": [],
   "source": [
    "trim_df = df[\n",
    "    (df.date >= pd.to_datetime(last_year))\n",
    "].copy()"
   ]
  },
  {
   "cell_type": "markdown",
   "id": "45bdc35a-8e5f-43e8-9b3a-9078e6a1158a",
   "metadata": {},
   "source": [
    "### Merge historical average"
   ]
  },
  {
   "cell_type": "markdown",
   "id": "f193e506-35eb-49d8-8110-43ac386fe12b",
   "metadata": {},
   "source": [
    "Create month column for merging"
   ]
  },
  {
   "cell_type": "code",
   "execution_count": 73,
   "id": "5c5019e6-921a-43a1-a610-16c64e9840a5",
   "metadata": {},
   "outputs": [],
   "source": [
    "trim_df[\"month\"] = pd.DatetimeIndex(trim_df.date).month"
   ]
  },
  {
   "cell_type": "code",
   "execution_count": 74,
   "id": "77e3dc44-6319-4713-9ab6-088e7223304c",
   "metadata": {},
   "outputs": [],
   "source": [
    "month_names = {\n",
    "    \"January\": 1,\n",
    "    \"February\": 2,\n",
    "    \"March\": 3,\n",
    "    \"April\": 4,\n",
    "    \"May\": 5,\n",
    "    \"June\": 6,\n",
    "    \"July\": 7,\n",
    "    \"August\": 8,\n",
    "    \"September\": 9,\n",
    "    \"October\": 10,\n",
    "    \"November\": 11,\n",
    "    \"December\": 12,\n",
    "}"
   ]
  },
  {
   "cell_type": "code",
   "execution_count": 75,
   "id": "3b4a73bb-fbba-44e8-97be-90512bc13bf7",
   "metadata": {},
   "outputs": [],
   "source": [
    "hist_df[\"month\"] = hist_df[\"month\"].map(month_names)"
   ]
  },
  {
   "cell_type": "code",
   "execution_count": 76,
   "id": "2aa5e555-78f7-46d7-ae10-a480eb8b1cfe",
   "metadata": {},
   "outputs": [],
   "source": [
    "merge_historical = pd.merge(\n",
    "    trim_df[[\"reservoir_id\",\"date\",\"month\",\"storage_af\"]],\n",
    "    hist_df[[\"reservoir_id\", \"month\", \"average_storage_value\", \"average_storage_unit\"]],\n",
    "    how=\"left\",\n",
    "    on=[\"reservoir_id\",\"month\"]\n",
    ")"
   ]
  },
  {
   "cell_type": "code",
   "execution_count": 77,
   "id": "c84fe492-1e78-4498-a85b-88380620fa20",
   "metadata": {},
   "outputs": [],
   "source": [
    "merge_details = pd.merge(\n",
    "    merge_historical,\n",
    "    details_df[[\"id\", \"lake\", \"capacity\", \"lat\", \"lon\"]],\n",
    "    how=\"left\",\n",
    "    left_on=[\"reservoir_id\"],\n",
    "    right_on=[\"id\"]\n",
    ").drop([\"id\", \"average_storage_unit\"], axis=1)"
   ]
  },
  {
   "cell_type": "markdown",
   "id": "a9200178-e440-4545-99ea-0fc81e7182b4",
   "metadata": {},
   "source": [
    "### Calculate percentages"
   ]
  },
  {
   "cell_type": "code",
   "execution_count": 78,
   "id": "425b72be-98c0-4b15-9222-664b29588e2c",
   "metadata": {},
   "outputs": [],
   "source": [
    "merge_details[\"current_level_pct_of_total\"] = merge_details[\"storage_af\"] / merge_details[\"capacity\"]"
   ]
  },
  {
   "cell_type": "code",
   "execution_count": 79,
   "id": "86c5850e-6f00-4087-8ea7-d9dbae910a39",
   "metadata": {},
   "outputs": [],
   "source": [
    "merge_details[\"average_level_pct_of_total\"] = merge_details[\"average_storage_value\"] / merge_details[\"capacity\"]"
   ]
  },
  {
   "cell_type": "code",
   "execution_count": 80,
   "id": "787733db-9e5d-445d-a4db-a4f4f558c77d",
   "metadata": {},
   "outputs": [],
   "source": [
    "merge_details[\"current_level_pct_of_avg\"] = merge_details[\"storage_af\"] / merge_details[\"average_storage_value\"]"
   ]
  },
  {
   "cell_type": "code",
   "execution_count": 81,
   "id": "8dc5cb23-12d1-411b-84ab-394acf7061b3",
   "metadata": {},
   "outputs": [
    {
     "data": {
      "text/html": [
       "<div>\n",
       "<style scoped>\n",
       "    .dataframe tbody tr th:only-of-type {\n",
       "        vertical-align: middle;\n",
       "    }\n",
       "\n",
       "    .dataframe tbody tr th {\n",
       "        vertical-align: top;\n",
       "    }\n",
       "\n",
       "    .dataframe thead th {\n",
       "        text-align: right;\n",
       "    }\n",
       "</style>\n",
       "<table border=\"1\" class=\"dataframe\">\n",
       "  <thead>\n",
       "    <tr style=\"text-align: right;\">\n",
       "      <th></th>\n",
       "      <th>reservoir_id</th>\n",
       "      <th>date</th>\n",
       "      <th>month</th>\n",
       "      <th>storage_af</th>\n",
       "      <th>average_storage_value</th>\n",
       "      <th>lake</th>\n",
       "      <th>capacity</th>\n",
       "      <th>lat</th>\n",
       "      <th>lon</th>\n",
       "      <th>current_level_pct_of_total</th>\n",
       "      <th>average_level_pct_of_total</th>\n",
       "      <th>current_level_pct_of_avg</th>\n",
       "    </tr>\n",
       "  </thead>\n",
       "  <tbody>\n",
       "    <tr>\n",
       "      <th>0</th>\n",
       "      <td>MHV</td>\n",
       "      <td>2022-05-15</td>\n",
       "      <td>5</td>\n",
       "      <td>1711295.000</td>\n",
       "      <td>1715533</td>\n",
       "      <td>Lake Mohave</td>\n",
       "      <td>1810000.000</td>\n",
       "      <td>35.197000°</td>\n",
       "      <td>-114.567000°</td>\n",
       "      <td>0.945</td>\n",
       "      <td>0.948</td>\n",
       "      <td>0.998</td>\n",
       "    </tr>\n",
       "    <tr>\n",
       "      <th>1</th>\n",
       "      <td>MHV</td>\n",
       "      <td>2022-05-16</td>\n",
       "      <td>5</td>\n",
       "      <td>1719407.500</td>\n",
       "      <td>1715533</td>\n",
       "      <td>Lake Mohave</td>\n",
       "      <td>1810000.000</td>\n",
       "      <td>35.197000°</td>\n",
       "      <td>-114.567000°</td>\n",
       "      <td>0.950</td>\n",
       "      <td>0.948</td>\n",
       "      <td>1.002</td>\n",
       "    </tr>\n",
       "    <tr>\n",
       "      <th>2</th>\n",
       "      <td>MHV</td>\n",
       "      <td>2022-05-17</td>\n",
       "      <td>5</td>\n",
       "      <td>1726837.100</td>\n",
       "      <td>1715533</td>\n",
       "      <td>Lake Mohave</td>\n",
       "      <td>1810000.000</td>\n",
       "      <td>35.197000°</td>\n",
       "      <td>-114.567000°</td>\n",
       "      <td>0.954</td>\n",
       "      <td>0.948</td>\n",
       "      <td>1.007</td>\n",
       "    </tr>\n",
       "    <tr>\n",
       "      <th>3</th>\n",
       "      <td>MHV</td>\n",
       "      <td>2022-05-18</td>\n",
       "      <td>5</td>\n",
       "      <td>1721800.000</td>\n",
       "      <td>1715533</td>\n",
       "      <td>Lake Mohave</td>\n",
       "      <td>1810000.000</td>\n",
       "      <td>35.197000°</td>\n",
       "      <td>-114.567000°</td>\n",
       "      <td>0.951</td>\n",
       "      <td>0.948</td>\n",
       "      <td>1.004</td>\n",
       "    </tr>\n",
       "    <tr>\n",
       "      <th>4</th>\n",
       "      <td>MHV</td>\n",
       "      <td>2022-05-19</td>\n",
       "      <td>5</td>\n",
       "      <td>1721085.000</td>\n",
       "      <td>1715533</td>\n",
       "      <td>Lake Mohave</td>\n",
       "      <td>1810000.000</td>\n",
       "      <td>35.197000°</td>\n",
       "      <td>-114.567000°</td>\n",
       "      <td>0.951</td>\n",
       "      <td>0.948</td>\n",
       "      <td>1.003</td>\n",
       "    </tr>\n",
       "    <tr>\n",
       "      <th>...</th>\n",
       "      <td>...</td>\n",
       "      <td>...</td>\n",
       "      <td>...</td>\n",
       "      <td>...</td>\n",
       "      <td>...</td>\n",
       "      <td>...</td>\n",
       "      <td>...</td>\n",
       "      <td>...</td>\n",
       "      <td>...</td>\n",
       "      <td>...</td>\n",
       "      <td>...</td>\n",
       "      <td>...</td>\n",
       "    </tr>\n",
       "    <tr>\n",
       "      <th>1443</th>\n",
       "      <td>HVS</td>\n",
       "      <td>2023-05-07</td>\n",
       "      <td>5</td>\n",
       "      <td>584772.400</td>\n",
       "      <td>593833</td>\n",
       "      <td>Lake Havasu</td>\n",
       "      <td>648000.000</td>\n",
       "      <td>34.317000°</td>\n",
       "      <td>-114.156000°</td>\n",
       "      <td>0.902</td>\n",
       "      <td>0.916</td>\n",
       "      <td>0.985</td>\n",
       "    </tr>\n",
       "    <tr>\n",
       "      <th>1444</th>\n",
       "      <td>HVS</td>\n",
       "      <td>2023-05-08</td>\n",
       "      <td>5</td>\n",
       "      <td>589118.000</td>\n",
       "      <td>593833</td>\n",
       "      <td>Lake Havasu</td>\n",
       "      <td>648000.000</td>\n",
       "      <td>34.317000°</td>\n",
       "      <td>-114.156000°</td>\n",
       "      <td>0.909</td>\n",
       "      <td>0.916</td>\n",
       "      <td>0.992</td>\n",
       "    </tr>\n",
       "    <tr>\n",
       "      <th>1445</th>\n",
       "      <td>HVS</td>\n",
       "      <td>2023-05-09</td>\n",
       "      <td>5</td>\n",
       "      <td>589350.800</td>\n",
       "      <td>593833</td>\n",
       "      <td>Lake Havasu</td>\n",
       "      <td>648000.000</td>\n",
       "      <td>34.317000°</td>\n",
       "      <td>-114.156000°</td>\n",
       "      <td>0.909</td>\n",
       "      <td>0.916</td>\n",
       "      <td>0.992</td>\n",
       "    </tr>\n",
       "    <tr>\n",
       "      <th>1446</th>\n",
       "      <td>HVS</td>\n",
       "      <td>2023-05-10</td>\n",
       "      <td>5</td>\n",
       "      <td>587895.800</td>\n",
       "      <td>593833</td>\n",
       "      <td>Lake Havasu</td>\n",
       "      <td>648000.000</td>\n",
       "      <td>34.317000°</td>\n",
       "      <td>-114.156000°</td>\n",
       "      <td>0.907</td>\n",
       "      <td>0.916</td>\n",
       "      <td>0.990</td>\n",
       "    </tr>\n",
       "    <tr>\n",
       "      <th>1447</th>\n",
       "      <td>HVS</td>\n",
       "      <td>2023-05-11</td>\n",
       "      <td>5</td>\n",
       "      <td>591523.600</td>\n",
       "      <td>593833</td>\n",
       "      <td>Lake Havasu</td>\n",
       "      <td>648000.000</td>\n",
       "      <td>34.317000°</td>\n",
       "      <td>-114.156000°</td>\n",
       "      <td>0.913</td>\n",
       "      <td>0.916</td>\n",
       "      <td>0.996</td>\n",
       "    </tr>\n",
       "  </tbody>\n",
       "</table>\n",
       "<p>1448 rows × 12 columns</p>\n",
       "</div>"
      ],
      "text/plain": [
       "     reservoir_id       date  month  storage_af  average_storage_value  \\\n",
       "0             MHV 2022-05-15      5 1711295.000                1715533   \n",
       "1             MHV 2022-05-16      5 1719407.500                1715533   \n",
       "2             MHV 2022-05-17      5 1726837.100                1715533   \n",
       "3             MHV 2022-05-18      5 1721800.000                1715533   \n",
       "4             MHV 2022-05-19      5 1721085.000                1715533   \n",
       "...           ...        ...    ...         ...                    ...   \n",
       "1443          HVS 2023-05-07      5  584772.400                 593833   \n",
       "1444          HVS 2023-05-08      5  589118.000                 593833   \n",
       "1445          HVS 2023-05-09      5  589350.800                 593833   \n",
       "1446          HVS 2023-05-10      5  587895.800                 593833   \n",
       "1447          HVS 2023-05-11      5  591523.600                 593833   \n",
       "\n",
       "             lake    capacity         lat           lon  \\\n",
       "0     Lake Mohave 1810000.000  35.197000°  -114.567000°   \n",
       "1     Lake Mohave 1810000.000  35.197000°  -114.567000°   \n",
       "2     Lake Mohave 1810000.000  35.197000°  -114.567000°   \n",
       "3     Lake Mohave 1810000.000  35.197000°  -114.567000°   \n",
       "4     Lake Mohave 1810000.000  35.197000°  -114.567000°   \n",
       "...           ...         ...         ...           ...   \n",
       "1443  Lake Havasu  648000.000  34.317000°  -114.156000°   \n",
       "1444  Lake Havasu  648000.000  34.317000°  -114.156000°   \n",
       "1445  Lake Havasu  648000.000  34.317000°  -114.156000°   \n",
       "1446  Lake Havasu  648000.000  34.317000°  -114.156000°   \n",
       "1447  Lake Havasu  648000.000  34.317000°  -114.156000°   \n",
       "\n",
       "      current_level_pct_of_total  average_level_pct_of_total  \\\n",
       "0                          0.945                       0.948   \n",
       "1                          0.950                       0.948   \n",
       "2                          0.954                       0.948   \n",
       "3                          0.951                       0.948   \n",
       "4                          0.951                       0.948   \n",
       "...                          ...                         ...   \n",
       "1443                       0.902                       0.916   \n",
       "1444                       0.909                       0.916   \n",
       "1445                       0.909                       0.916   \n",
       "1446                       0.907                       0.916   \n",
       "1447                       0.913                       0.916   \n",
       "\n",
       "      current_level_pct_of_avg  \n",
       "0                        0.998  \n",
       "1                        1.002  \n",
       "2                        1.007  \n",
       "3                        1.004  \n",
       "4                        1.003  \n",
       "...                        ...  \n",
       "1443                     0.985  \n",
       "1444                     0.992  \n",
       "1445                     0.992  \n",
       "1446                     0.990  \n",
       "1447                     0.996  \n",
       "\n",
       "[1448 rows x 12 columns]"
      ]
     },
     "execution_count": 81,
     "metadata": {},
     "output_type": "execute_result"
    }
   ],
   "source": [
    "merge_details"
   ]
  },
  {
   "cell_type": "markdown",
   "id": "b47722e1-1ba9-4a6c-ae48-c5cb740c3390",
   "metadata": {},
   "source": [
    "### Drop missing values"
   ]
  },
  {
   "cell_type": "code",
   "execution_count": 82,
   "id": "ead8f51c-ec41-4335-97c5-f90c82b7edc9",
   "metadata": {},
   "outputs": [],
   "source": [
    "drop_na_df = merge_details.dropna(subset=[\"storage_af\"])"
   ]
  },
  {
   "cell_type": "markdown",
   "id": "b6cc0223-99d3-40e0-afd8-ba831a066924",
   "metadata": {},
   "source": [
    "### Chart"
   ]
  },
  {
   "cell_type": "code",
   "execution_count": 83,
   "id": "7e181eeb-82c6-49e4-a6d4-e398860fb852",
   "metadata": {},
   "outputs": [],
   "source": [
    "melt = pd.melt(\n",
    "    drop_na_df,\n",
    "    id_vars=[\"date\",\"lake\"],\n",
    "    value_vars=[\"current_level_pct_of_total\", \"average_level_pct_of_total\"]\n",
    ")"
   ]
  },
  {
   "cell_type": "code",
   "execution_count": 84,
   "id": "d2af6d05-c390-4a8b-9f53-a9e0d272da79",
   "metadata": {},
   "outputs": [],
   "source": [
    "# alt.data_transformers.disable_max_rows()\n",
    "\n",
    "# alt.Chart(melt).mark_line().encode(\n",
    "#     x='date:T',\n",
    "#     y='value',\n",
    "#     color='variable',\n",
    "#     column='lake'\n",
    "# ).properties(\n",
    "#     width=180,\n",
    "#     height=180\n",
    "# )"
   ]
  },
  {
   "cell_type": "markdown",
   "id": "6609fded-c565-490f-b1da-7142a4cdb7ab",
   "metadata": {},
   "source": [
    "### Export"
   ]
  },
  {
   "cell_type": "markdown",
   "id": "1b8ba812-b32b-427a-b12c-d2e69e29a121",
   "metadata": {},
   "source": [
    "Trim and rename for export"
   ]
  },
  {
   "cell_type": "code",
   "execution_count": 85,
   "id": "0382b468-1563-44a0-b6f9-8e90848aa966",
   "metadata": {},
   "outputs": [],
   "source": [
    "export_df = drop_na_df[\n",
    "    ['reservoir_id',\n",
    "     'lake', \n",
    "     'date', \n",
    "     'storage_af', \n",
    "     'average_storage_value', \n",
    "     'capacity', \n",
    "     'current_level_pct_of_total',\n",
    "     'average_level_pct_of_total', \n",
    "     'current_level_pct_of_avg', \n",
    "     'lat', \n",
    "     'lon' ]\n",
    "].rename(columns={\n",
    "    'lake': 'reservoir_name',\n",
    "    'average_storage_value': 'historical_average',\n",
    "    'capacity': 'total_capacity'\n",
    "}).sort_values(\"total_capacity\", ascending=False)"
   ]
  },
  {
   "cell_type": "code",
   "execution_count": 86,
   "id": "c1a87530-4991-454d-a5a1-28940376182d",
   "metadata": {},
   "outputs": [],
   "source": [
    "export_df.to_csv(\"../../data/processed/reservoirs/colorado-river-reservoirs-timeseries.csv\", index=False)"
   ]
  },
  {
   "cell_type": "code",
   "execution_count": 87,
   "id": "309f4327-4565-4b28-bfe8-1bd8686310a0",
   "metadata": {},
   "outputs": [],
   "source": [
    "export_df[export_df.date == export_df.date.max()].to_csv(f\"../../data/processed/reservoirs/colorado-latest.csv\", index=False)"
   ]
  }
 ],
 "metadata": {
  "kernelspec": {
   "display_name": "Python 3 (ipykernel)",
   "language": "python",
   "name": "python3"
  },
  "language_info": {
   "codemirror_mode": {
    "name": "ipython",
    "version": 3
   },
   "file_extension": ".py",
   "mimetype": "text/x-python",
   "name": "python",
   "nbconvert_exporter": "python",
   "pygments_lexer": "ipython3",
   "version": "3.9.16"
  }
 },
 "nbformat": 4,
 "nbformat_minor": 5
}
