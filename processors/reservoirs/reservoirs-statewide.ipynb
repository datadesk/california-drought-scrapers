{
 "cells": [
  {
   "cell_type": "code",
   "execution_count": 1,
   "id": "a8f68e43-feaa-4996-8d5a-ecc52ce8bf66",
   "metadata": {},
   "outputs": [],
   "source": [
    "import pytz\n",
    "from datetime import datetime, date, timedelta\n",
    "from time import strptime\n",
    "import pandas as pd\n",
    "import altair as alt\n",
    "import altair_latimes as lat"
   ]
  },
  {
   "cell_type": "code",
   "execution_count": 2,
   "id": "7f08691a-275f-4165-b2a5-dc7a70e2c3a6",
   "metadata": {},
   "outputs": [
    {
     "data": {
      "text/plain": [
       "ThemeRegistry.enable('latimes')"
      ]
     },
     "execution_count": 2,
     "metadata": {},
     "output_type": "execute_result"
    }
   ],
   "source": [
    "alt.themes.register('latimes', lat.theme)\n",
    "alt.themes.enable('latimes')"
   ]
  },
  {
   "cell_type": "code",
   "execution_count": 3,
   "id": "154fda82-e6f3-4a42-86c8-578b4fc0d2cb",
   "metadata": {},
   "outputs": [],
   "source": [
    "pd.set_option('display.float_format', lambda x: '%.3f' % x)"
   ]
  },
  {
   "cell_type": "markdown",
   "id": "0cfcb7f3-6169-489d-a054-1b801988d626",
   "metadata": {},
   "source": [
    "### Import"
   ]
  },
  {
   "cell_type": "code",
   "execution_count": 4,
   "id": "81973009-6e4c-4b44-8db8-17ec118ecd88",
   "metadata": {},
   "outputs": [],
   "source": [
    "df = pd.read_csv(\n",
    "    \"../../data/raw/reservoirs/statewide/timeseries.csv\", \n",
    "    parse_dates=[\"DATE TIME\", \"OBS DATE\"]\n",
    ")"
   ]
  },
  {
   "cell_type": "code",
   "execution_count": 5,
   "id": "592ce46b-5c36-44bb-94cd-4a2ad733a55c",
   "metadata": {},
   "outputs": [],
   "source": [
    "hist_df = pd.read_csv(\n",
    "    \"../../data/metadata/reservoirs-statewide-historical-averages.csv\",\n",
    "    dtype={\"month\":str}\n",
    ")"
   ]
  },
  {
   "cell_type": "code",
   "execution_count": 6,
   "id": "284a5f3e-4391-4685-808d-f40e64511e7b",
   "metadata": {},
   "outputs": [],
   "source": [
    "details_df = pd.read_csv(\n",
    "    \"../../data/metadata/reservoirs-statewide-details.csv\"\n",
    ")"
   ]
  },
  {
   "cell_type": "markdown",
   "id": "66364b79-8a94-4d02-abfa-9a83aabf5d27",
   "metadata": {},
   "source": [
    "### Clean"
   ]
  },
  {
   "cell_type": "code",
   "execution_count": 7,
   "id": "3bcf2dc4-c020-41b4-becf-3e4c43c425d1",
   "metadata": {},
   "outputs": [],
   "source": [
    "df.columns = df.columns.str.lower()"
   ]
  },
  {
   "cell_type": "code",
   "execution_count": 8,
   "id": "2e0088a1-012e-474f-b5da-fb9fdfe75b78",
   "metadata": {},
   "outputs": [],
   "source": [
    "df.columns = df.columns.str.replace(\" \",\"_\")"
   ]
  },
  {
   "cell_type": "code",
   "execution_count": 9,
   "id": "5b1ca206-03bd-4d33-b39b-689a4c971190",
   "metadata": {},
   "outputs": [],
   "source": [
    "df = df.rename(columns={\n",
    "    \"station_id\": \"reservoir_id\",\n",
    "    \"date_time\": \"date\",\n",
    "    \"value\": \"storage_af\"\n",
    "})"
   ]
  },
  {
   "cell_type": "markdown",
   "id": "6a658cee-a2f0-450d-83be-41e66b2ab45f",
   "metadata": {},
   "source": [
    "### Filter to last 365 days from today"
   ]
  },
  {
   "cell_type": "code",
   "execution_count": 10,
   "id": "4e6a14c2-d68d-493f-b1dc-d661daf767a0",
   "metadata": {},
   "outputs": [
    {
     "data": {
      "text/plain": [
       "datetime.date(2024, 3, 12)"
      ]
     },
     "execution_count": 10,
     "metadata": {},
     "output_type": "execute_result"
    }
   ],
   "source": [
    "today = datetime.today().date()\n",
    "today"
   ]
  },
  {
   "cell_type": "code",
   "execution_count": 11,
   "id": "d4251a60-17aa-4800-a264-ac4aa12108e8",
   "metadata": {},
   "outputs": [
    {
     "data": {
      "text/plain": [
       "datetime.date(2023, 3, 13)"
      ]
     },
     "execution_count": 11,
     "metadata": {},
     "output_type": "execute_result"
    }
   ],
   "source": [
    "last_year = (today - pd.DateOffset(days=365)).date()\n",
    "last_year"
   ]
  },
  {
   "cell_type": "markdown",
   "id": "6e2b1339-0073-4694-aadc-bbf8fc9ecad9",
   "metadata": {},
   "source": [
    "Trim to last 365 days and remove invalid values"
   ]
  },
  {
   "cell_type": "code",
   "execution_count": 12,
   "id": "960d3458-da8d-451b-9839-f238fdc9c9f6",
   "metadata": {},
   "outputs": [
    {
     "name": "stderr",
     "output_type": "stream",
     "text": [
      "/var/folders/fh/xklx_96541l_glf7cpxtt24m0000gq/T/ipykernel_99474/3093786607.py:1: UserWarning: Boolean Series key will be reindexed to match DataFrame index.\n",
      "  trim_df = df[\n"
     ]
    }
   ],
   "source": [
    "trim_df = df[\n",
    "    (df.date >= pd.to_datetime(last_year))\n",
    "][ (df.storage_af != \"---\") ].copy()"
   ]
  },
  {
   "cell_type": "markdown",
   "id": "45bdc35a-8e5f-43e8-9b3a-9078e6a1158a",
   "metadata": {},
   "source": [
    "### Merge historical average"
   ]
  },
  {
   "cell_type": "markdown",
   "id": "f193e506-35eb-49d8-8110-43ac386fe12b",
   "metadata": {},
   "source": [
    "Create month column for merging"
   ]
  },
  {
   "cell_type": "code",
   "execution_count": 13,
   "id": "5c5019e6-921a-43a1-a610-16c64e9840a5",
   "metadata": {},
   "outputs": [],
   "source": [
    "trim_df[\"month\"] = pd.DatetimeIndex(trim_df.date).month"
   ]
  },
  {
   "cell_type": "code",
   "execution_count": 14,
   "id": "001eb303-aa04-4f9e-bb21-bb2f0b2a4f0f",
   "metadata": {},
   "outputs": [],
   "source": [
    "hist_df = hist_df.drop(columns=\"month\", axis=1).rename(columns={\"month_int\":\"month\"})"
   ]
  },
  {
   "cell_type": "code",
   "execution_count": 15,
   "id": "2aa5e555-78f7-46d7-ae10-a480eb8b1cfe",
   "metadata": {},
   "outputs": [],
   "source": [
    "merge_historical = pd.merge(\n",
    "    trim_df[[\"reservoir_id\",\"date\",\"month\",\"storage_af\"]],\n",
    "    hist_df[[\"reservoir_id\", \"month\", \"average_storage\"]],\n",
    "    how=\"left\",\n",
    "    left_on=[\"reservoir_id\",\"month\"],\n",
    "    right_on=[\"reservoir_id\",\"month\"]\n",
    ")"
   ]
  },
  {
   "cell_type": "markdown",
   "id": "0ebb70b8-fdb2-44f8-b010-9f27a5b35c9c",
   "metadata": {},
   "source": [
    "Merge details"
   ]
  },
  {
   "cell_type": "code",
   "execution_count": 16,
   "id": "c84fe492-1e78-4498-a85b-88380620fa20",
   "metadata": {},
   "outputs": [],
   "source": [
    "merge_details = pd.merge(\n",
    "    merge_historical,\n",
    "    details_df[[\"reservoir_id\", \"lake_name\", \"capacity\", \"number_of_dams\"]],\n",
    "    how=\"left\",\n",
    "    on=[\"reservoir_id\"]               \n",
    ")"
   ]
  },
  {
   "cell_type": "code",
   "execution_count": 17,
   "id": "e572ba7c-95e1-4bf4-ab94-7c96b6577770",
   "metadata": {},
   "outputs": [],
   "source": [
    "merge_details.loc[merge_details.lake_name == \"Total\", \"lake_name\"] = \"Statewide\""
   ]
  },
  {
   "cell_type": "markdown",
   "id": "a9200178-e440-4545-99ea-0fc81e7182b4",
   "metadata": {},
   "source": [
    "### Calculate percentages"
   ]
  },
  {
   "cell_type": "code",
   "execution_count": 18,
   "id": "742b435b-f02e-4e94-b813-5ba454f97340",
   "metadata": {},
   "outputs": [],
   "source": [
    "merge_details[\"storage_af\"] = merge_details[\"storage_af\"].astype(int)"
   ]
  },
  {
   "cell_type": "code",
   "execution_count": 19,
   "id": "425b72be-98c0-4b15-9222-664b29588e2c",
   "metadata": {},
   "outputs": [],
   "source": [
    "merge_details[\"current_level_pct_of_total\"] = merge_details[\"storage_af\"] / merge_details[\"capacity\"]"
   ]
  },
  {
   "cell_type": "code",
   "execution_count": 20,
   "id": "86c5850e-6f00-4087-8ea7-d9dbae910a39",
   "metadata": {},
   "outputs": [],
   "source": [
    "merge_details[\"average_level_pct_of_total\"] = merge_details[\"average_storage\"] / merge_details[\"capacity\"]"
   ]
  },
  {
   "cell_type": "code",
   "execution_count": 21,
   "id": "787733db-9e5d-445d-a4db-a4f4f558c77d",
   "metadata": {},
   "outputs": [],
   "source": [
    "merge_details[\"current_level_pct_of_avg\"] = merge_details[\"storage_af\"] / merge_details[\"average_storage\"]"
   ]
  },
  {
   "cell_type": "markdown",
   "id": "5d5f0cec-efcd-489c-9256-e7e29046de1d",
   "metadata": {},
   "source": [
    "### Chart"
   ]
  },
  {
   "cell_type": "code",
   "execution_count": 22,
   "id": "7e181eeb-82c6-49e4-a6d4-e398860fb852",
   "metadata": {},
   "outputs": [],
   "source": [
    "melt=pd.melt(\n",
    "    merge_details, \n",
    "    id_vars=\"date\", \n",
    "    value_vars=[\"current_level_pct_of_total\", \"average_level_pct_of_total\"]\n",
    ")"
   ]
  },
  {
   "cell_type": "code",
   "execution_count": 23,
   "id": "59d3b8cd-770e-45f6-990b-e2183ad1526e",
   "metadata": {},
   "outputs": [
    {
     "data": {
      "text/html": [
       "<div>\n",
       "<style scoped>\n",
       "    .dataframe tbody tr th:only-of-type {\n",
       "        vertical-align: middle;\n",
       "    }\n",
       "\n",
       "    .dataframe tbody tr th {\n",
       "        vertical-align: top;\n",
       "    }\n",
       "\n",
       "    .dataframe thead th {\n",
       "        text-align: right;\n",
       "    }\n",
       "</style>\n",
       "<table border=\"1\" class=\"dataframe\">\n",
       "  <thead>\n",
       "    <tr style=\"text-align: right;\">\n",
       "      <th></th>\n",
       "      <th>date</th>\n",
       "      <th>variable</th>\n",
       "      <th>value</th>\n",
       "    </tr>\n",
       "  </thead>\n",
       "  <tbody>\n",
       "    <tr>\n",
       "      <th>0</th>\n",
       "      <td>2023-03-13</td>\n",
       "      <td>current_level_pct_of_total</td>\n",
       "      <td>0.664</td>\n",
       "    </tr>\n",
       "  </tbody>\n",
       "</table>\n",
       "</div>"
      ],
      "text/plain": [
       "        date                    variable  value\n",
       "0 2023-03-13  current_level_pct_of_total  0.664"
      ]
     },
     "execution_count": 23,
     "metadata": {},
     "output_type": "execute_result"
    }
   ],
   "source": [
    "melt.head(1)"
   ]
  },
  {
   "cell_type": "code",
   "execution_count": 24,
   "id": "8f0e1478-cfcd-4249-b7fc-1885942d80cd",
   "metadata": {},
   "outputs": [
    {
     "data": {
      "text/html": [
       "\n",
       "<style>\n",
       "  #altair-viz-d4b714a9873f4dbeb144a129655d98cb.vega-embed {\n",
       "    width: 100%;\n",
       "    display: flex;\n",
       "  }\n",
       "\n",
       "  #altair-viz-d4b714a9873f4dbeb144a129655d98cb.vega-embed details,\n",
       "  #altair-viz-d4b714a9873f4dbeb144a129655d98cb.vega-embed details summary {\n",
       "    position: relative;\n",
       "  }\n",
       "</style>\n",
       "<div id=\"altair-viz-d4b714a9873f4dbeb144a129655d98cb\"></div>\n",
       "<script type=\"text/javascript\">\n",
       "  var VEGA_DEBUG = (typeof VEGA_DEBUG == \"undefined\") ? {} : VEGA_DEBUG;\n",
       "  (function(spec, embedOpt){\n",
       "    let outputDiv = document.currentScript.previousElementSibling;\n",
       "    if (outputDiv.id !== \"altair-viz-d4b714a9873f4dbeb144a129655d98cb\") {\n",
       "      outputDiv = document.getElementById(\"altair-viz-d4b714a9873f4dbeb144a129655d98cb\");\n",
       "    }\n",
       "    const paths = {\n",
       "      \"vega\": \"https://cdn.jsdelivr.net/npm/vega@5?noext\",\n",
       "      \"vega-lib\": \"https://cdn.jsdelivr.net/npm/vega-lib?noext\",\n",
       "      \"vega-lite\": \"https://cdn.jsdelivr.net/npm/vega-lite@5.16.3?noext\",\n",
       "      \"vega-embed\": \"https://cdn.jsdelivr.net/npm/vega-embed@6?noext\",\n",
       "    };\n",
       "\n",
       "    function maybeLoadScript(lib, version) {\n",
       "      var key = `${lib.replace(\"-\", \"\")}_version`;\n",
       "      return (VEGA_DEBUG[key] == version) ?\n",
       "        Promise.resolve(paths[lib]) :\n",
       "        new Promise(function(resolve, reject) {\n",
       "          var s = document.createElement('script');\n",
       "          document.getElementsByTagName(\"head\")[0].appendChild(s);\n",
       "          s.async = true;\n",
       "          s.onload = () => {\n",
       "            VEGA_DEBUG[key] = version;\n",
       "            return resolve(paths[lib]);\n",
       "          };\n",
       "          s.onerror = () => reject(`Error loading script: ${paths[lib]}`);\n",
       "          s.src = paths[lib];\n",
       "        });\n",
       "    }\n",
       "\n",
       "    function showError(err) {\n",
       "      outputDiv.innerHTML = `<div class=\"error\" style=\"color:red;\">${err}</div>`;\n",
       "      throw err;\n",
       "    }\n",
       "\n",
       "    function displayChart(vegaEmbed) {\n",
       "      vegaEmbed(outputDiv, spec, embedOpt)\n",
       "        .catch(err => showError(`Javascript Error: ${err.message}<br>This usually means there's a typo in your chart specification. See the javascript console for the full traceback.`));\n",
       "    }\n",
       "\n",
       "    if(typeof define === \"function\" && define.amd) {\n",
       "      requirejs.config({paths});\n",
       "      require([\"vega-embed\"], displayChart, err => showError(`Error loading script: ${err.message}`));\n",
       "    } else {\n",
       "      maybeLoadScript(\"vega\", \"5\")\n",
       "        .then(() => maybeLoadScript(\"vega-lite\", \"5.16.3\"))\n",
       "        .then(() => maybeLoadScript(\"vega-embed\", \"6\"))\n",
       "        .catch(showError)\n",
       "        .then(() => displayChart(vegaEmbed));\n",
       "    }\n",
       "  })({\"config\": {\"view\": {\"width\": 800, \"height\": 450}, \"background\": \"#ffffff\", \"title\": {\"anchor\": \"start\", \"font\": \"BentonGothic-Bold, sans\", \"fontColor\": \"#000000\", \"fontSize\": 22, \"fontWeight\": \"normal\"}, \"arc\": {\"fill\": \"#82c6df\"}, \"area\": {\"fill\": \"#82c6df\"}, \"line\": {\"stroke\": \"#82c6df\", \"strokeWidth\": 3}, \"path\": {\"stroke\": \"#82c6df\"}, \"rect\": {\"fill\": \"#82c6df\"}, \"shape\": {\"stroke\": \"#82c6df\"}, \"bar\": {\"fill\": \"#82c6df\"}, \"point\": {\"stroke\": \"#82c6df\"}, \"symbol\": {\"fill\": \"#82c6df\", \"size\": 30}, \"axis\": {\"titleFont\": \"BentonGothic-Bold, sans\", \"titleFontSize\": 14, \"titleFontWeight\": \"normal\", \"labelFont\": \"BentonGothic, sans\", \"labelFontSize\": 12, \"labelFontWeight\": \"normal\"}, \"axisX\": {\"labelAngle\": 0, \"labelPadding\": 4, \"tickSize\": 3}, \"axisY\": {\"labelBaseline\": \"middle\", \"maxExtent\": 45, \"minExtent\": 45, \"tickSize\": 2, \"titleAlign\": \"left\", \"titleAngle\": 0, \"titleX\": -45, \"titleY\": -11}, \"legend\": {\"titleFont\": \"BentonGothic-Bold, sans\", \"titleFontSize\": 14, \"titleFontWeight\": \"normal\", \"symbolType\": \"square\", \"labelFont\": \"BentonGothic, sans\", \"labelFontSize\": 13}, \"range\": {\"category\": [\"#3580b1\", \"#ec8431\", \"#ab7fb4\", \"#c89d29\", \"#adc839\", \"#829eb1\"], \"diverging\": [\"#e68a4f\", \"#f4bb6a\", \"#f9e39c\", \"#dadfe2\", \"#a6b7c6\", \"#849eae\"], \"heatmap\": [\"#fbf2c7\", \"#f9e39c\", \"#f8d36e\", \"#f4bb6a\", \"#e68a4f\", \"#d15a40\", \"#ab4232\"], \"ordinal\": [\"#fbf2c7\", \"#f9e39c\", \"#f8d36e\", \"#f4bb6a\", \"#e68a4f\", \"#d15a40\", \"#ab4232\"], \"ramp\": [\"#fbf2c7\", \"#f9e39c\", \"#f8d36e\", \"#f4bb6a\", \"#e68a4f\", \"#d15a40\", \"#ab4232\"]}}, \"data\": {\"name\": \"data-fb6b184c1e47f99b02c0ef4e1e8bc83b\"}, \"mark\": {\"type\": \"line\"}, \"encoding\": {\"color\": {\"field\": \"variable\", \"type\": \"nominal\"}, \"tooltip\": {\"field\": \"date\", \"type\": \"temporal\"}, \"x\": {\"field\": \"date\", \"type\": \"temporal\"}, \"y\": {\"field\": \"value\", \"type\": \"quantitative\"}}, \"width\": 600, \"$schema\": \"https://vega.github.io/schema/vega-lite/v5.16.3.json\", \"datasets\": {\"data-fb6b184c1e47f99b02c0ef4e1e8bc83b\": [{\"date\": \"2023-03-13T00:00:00\", \"variable\": \"current_level_pct_of_total\", \"value\": 0.6636605205931498}, {\"date\": \"2023-03-14T00:00:00\", \"variable\": \"current_level_pct_of_total\", \"value\": 0.6767763411582319}, {\"date\": \"2023-03-15T00:00:00\", \"variable\": \"current_level_pct_of_total\", \"value\": 0.6898921617233139}, {\"date\": \"2023-03-16T00:00:00\", \"variable\": \"current_level_pct_of_total\", \"value\": 0.7056311464014123}, {\"date\": \"2023-03-17T00:00:00\", \"variable\": \"current_level_pct_of_total\", \"value\": 0.7135006387404615}, {\"date\": \"2023-03-18T00:00:00\", \"variable\": \"current_level_pct_of_total\", \"value\": 0.7161238028534779}, {\"date\": \"2023-03-19T00:00:00\", \"variable\": \"current_level_pct_of_total\", \"value\": 0.7187469669664943}, {\"date\": \"2023-03-20T00:00:00\", \"variable\": \"current_level_pct_of_total\", \"value\": 0.7187469669664943}, {\"date\": \"2023-03-21T00:00:00\", \"variable\": \"current_level_pct_of_total\", \"value\": 0.7213701310795108}, {\"date\": \"2023-03-22T00:00:00\", \"variable\": \"current_level_pct_of_total\", \"value\": 0.7239932951925271}, {\"date\": \"2023-03-23T00:00:00\", \"variable\": \"current_level_pct_of_total\", \"value\": 0.7266164593055435}, {\"date\": \"2023-03-24T00:00:00\", \"variable\": \"current_level_pct_of_total\", \"value\": 0.72923962341856}, {\"date\": \"2023-03-25T00:00:00\", \"variable\": \"current_level_pct_of_total\", \"value\": 0.7318627875315763}, {\"date\": \"2023-03-26T00:00:00\", \"variable\": \"current_level_pct_of_total\", \"value\": 0.7318627875315763}, {\"date\": \"2023-03-27T00:00:00\", \"variable\": \"current_level_pct_of_total\", \"value\": 0.7318627875315763}, {\"date\": \"2023-03-28T00:00:00\", \"variable\": \"current_level_pct_of_total\", \"value\": 0.7318627875315763}, {\"date\": \"2023-03-29T00:00:00\", \"variable\": \"current_level_pct_of_total\", \"value\": 0.7318627875315763}, {\"date\": \"2023-03-30T00:00:00\", \"variable\": \"current_level_pct_of_total\", \"value\": 0.7344859516445927}, {\"date\": \"2023-03-31T00:00:00\", \"variable\": \"current_level_pct_of_total\", \"value\": 0.7344859516445927}, {\"date\": \"2023-04-01T00:00:00\", \"variable\": \"current_level_pct_of_total\", \"value\": 0.7344859516445927}, {\"date\": \"2023-04-02T00:00:00\", \"variable\": \"current_level_pct_of_total\", \"value\": 0.7344859516445927}, {\"date\": \"2023-04-03T00:00:00\", \"variable\": \"current_level_pct_of_total\", \"value\": 0.7344859516445927}, {\"date\": \"2023-04-04T00:00:00\", \"variable\": \"current_level_pct_of_total\", \"value\": 0.7318627875315763}, {\"date\": \"2023-04-05T00:00:00\", \"variable\": \"current_level_pct_of_total\", \"value\": 0.72923962341856}, {\"date\": \"2023-04-06T00:00:00\", \"variable\": \"current_level_pct_of_total\", \"value\": 0.72923962341856}, {\"date\": \"2023-04-07T00:00:00\", \"variable\": \"current_level_pct_of_total\", \"value\": 0.72923962341856}, {\"date\": \"2023-04-08T00:00:00\", \"variable\": \"current_level_pct_of_total\", \"value\": 0.7266164593055435}, {\"date\": \"2023-04-09T00:00:00\", \"variable\": \"current_level_pct_of_total\", \"value\": 0.72923962341856}, {\"date\": \"2023-04-10T00:00:00\", \"variable\": \"current_level_pct_of_total\", \"value\": 0.72923962341856}, {\"date\": \"2023-04-11T00:00:00\", \"variable\": \"current_level_pct_of_total\", \"value\": 0.7318627875315763}, {\"date\": \"2023-04-12T00:00:00\", \"variable\": \"current_level_pct_of_total\", \"value\": 0.7318627875315763}, {\"date\": \"2023-04-13T00:00:00\", \"variable\": \"current_level_pct_of_total\", \"value\": 0.7344859516445927}, {\"date\": \"2023-04-14T00:00:00\", \"variable\": \"current_level_pct_of_total\", \"value\": 0.7371091157576092}, {\"date\": \"2023-04-15T00:00:00\", \"variable\": \"current_level_pct_of_total\", \"value\": 0.7371091157576092}, {\"date\": \"2023-04-16T00:00:00\", \"variable\": \"current_level_pct_of_total\", \"value\": 0.7397322798706255}, {\"date\": \"2023-04-17T00:00:00\", \"variable\": \"current_level_pct_of_total\", \"value\": 0.7397322798706255}, {\"date\": \"2023-04-18T00:00:00\", \"variable\": \"current_level_pct_of_total\", \"value\": 0.7397322798706255}, {\"date\": \"2023-04-19T00:00:00\", \"variable\": \"current_level_pct_of_total\", \"value\": 0.7397322798706255}, {\"date\": \"2023-04-20T00:00:00\", \"variable\": \"current_level_pct_of_total\", \"value\": 0.7397322798706255}, {\"date\": \"2023-04-21T00:00:00\", \"variable\": \"current_level_pct_of_total\", \"value\": 0.7397322798706255}, {\"date\": \"2023-04-22T00:00:00\", \"variable\": \"current_level_pct_of_total\", \"value\": 0.7397322798706255}, {\"date\": \"2023-04-23T00:00:00\", \"variable\": \"current_level_pct_of_total\", \"value\": 0.7397322798706255}, {\"date\": \"2023-04-24T00:00:00\", \"variable\": \"current_level_pct_of_total\", \"value\": 0.742355443983642}, {\"date\": \"2023-04-25T00:00:00\", \"variable\": \"current_level_pct_of_total\", \"value\": 0.7449786080966584}, {\"date\": \"2023-04-26T00:00:00\", \"variable\": \"current_level_pct_of_total\", \"value\": 0.7476017722096747}, {\"date\": \"2023-04-27T00:00:00\", \"variable\": \"current_level_pct_of_total\", \"value\": 0.7502249363226912}, {\"date\": \"2023-04-28T00:00:00\", \"variable\": \"current_level_pct_of_total\", \"value\": 0.7502249363226912}, {\"date\": \"2023-04-29T00:00:00\", \"variable\": \"current_level_pct_of_total\", \"value\": 0.7554712645487239}, {\"date\": \"2023-04-30T00:00:00\", \"variable\": \"current_level_pct_of_total\", \"value\": 0.7580944286617404}, {\"date\": \"2023-05-01T00:00:00\", \"variable\": \"current_level_pct_of_total\", \"value\": 0.7633407568877731}, {\"date\": \"2023-05-02T00:00:00\", \"variable\": \"current_level_pct_of_total\", \"value\": 0.7633407568877731}, {\"date\": \"2023-05-03T00:00:00\", \"variable\": \"current_level_pct_of_total\", \"value\": 0.7659639210007896}, {\"date\": \"2023-05-04T00:00:00\", \"variable\": \"current_level_pct_of_total\", \"value\": 0.768587085113806}, {\"date\": \"2023-05-05T00:00:00\", \"variable\": \"current_level_pct_of_total\", \"value\": 0.768587085113806}, {\"date\": \"2023-05-06T00:00:00\", \"variable\": \"current_level_pct_of_total\", \"value\": 0.768587085113806}, {\"date\": \"2023-05-07T00:00:00\", \"variable\": \"current_level_pct_of_total\", \"value\": 0.768587085113806}, {\"date\": \"2023-05-08T00:00:00\", \"variable\": \"current_level_pct_of_total\", \"value\": 0.7712102492268224}, {\"date\": \"2023-05-09T00:00:00\", \"variable\": \"current_level_pct_of_total\", \"value\": 0.768587085113806}, {\"date\": \"2023-05-10T00:00:00\", \"variable\": \"current_level_pct_of_total\", \"value\": 0.768587085113806}, {\"date\": \"2023-05-11T00:00:00\", \"variable\": \"current_level_pct_of_total\", \"value\": 0.768587085113806}, {\"date\": \"2023-05-12T00:00:00\", \"variable\": \"current_level_pct_of_total\", \"value\": 0.768587085113806}, {\"date\": \"2023-05-13T00:00:00\", \"variable\": \"current_level_pct_of_total\", \"value\": 0.768587085113806}, {\"date\": \"2023-05-14T00:00:00\", \"variable\": \"current_level_pct_of_total\", \"value\": 0.7712102492268224}, {\"date\": \"2023-05-15T00:00:00\", \"variable\": \"current_level_pct_of_total\", \"value\": 0.7738334133398388}, {\"date\": \"2023-05-16T00:00:00\", \"variable\": \"current_level_pct_of_total\", \"value\": 0.7764565774528552}, {\"date\": \"2023-05-17T00:00:00\", \"variable\": \"current_level_pct_of_total\", \"value\": 0.7790797415658716}, {\"date\": \"2023-05-18T00:00:00\", \"variable\": \"current_level_pct_of_total\", \"value\": 0.781702905678888}, {\"date\": \"2023-05-19T00:00:00\", \"variable\": \"current_level_pct_of_total\", \"value\": 0.7843260697919044}, {\"date\": \"2023-05-20T00:00:00\", \"variable\": \"current_level_pct_of_total\", \"value\": 0.7895723980179372}, {\"date\": \"2023-05-21T00:00:00\", \"variable\": \"current_level_pct_of_total\", \"value\": 0.79481872624397}, {\"date\": \"2023-05-22T00:00:00\", \"variable\": \"current_level_pct_of_total\", \"value\": 0.7974418903569864}, {\"date\": \"2023-05-23T00:00:00\", \"variable\": \"current_level_pct_of_total\", \"value\": 0.8026882185830192}, {\"date\": \"2023-05-24T00:00:00\", \"variable\": \"current_level_pct_of_total\", \"value\": 0.8026882185830192}, {\"date\": \"2023-05-25T00:00:00\", \"variable\": \"current_level_pct_of_total\", \"value\": 0.807934546809052}, {\"date\": \"2023-05-26T00:00:00\", \"variable\": \"current_level_pct_of_total\", \"value\": 0.8105577109220684}, {\"date\": \"2023-05-27T00:00:00\", \"variable\": \"current_level_pct_of_total\", \"value\": 0.8131808750350848}, {\"date\": \"2023-05-28T00:00:00\", \"variable\": \"current_level_pct_of_total\", \"value\": 0.8158040391481012}, {\"date\": \"2023-05-29T00:00:00\", \"variable\": \"current_level_pct_of_total\", \"value\": 0.8158040391481012}, {\"date\": \"2023-05-30T00:00:00\", \"variable\": \"current_level_pct_of_total\", \"value\": 0.8184272032611176}, {\"date\": \"2023-05-31T00:00:00\", \"variable\": \"current_level_pct_of_total\", \"value\": 0.8210503673741341}, {\"date\": \"2023-06-01T00:00:00\", \"variable\": \"current_level_pct_of_total\", \"value\": 0.8236735314871504}, {\"date\": \"2023-06-02T00:00:00\", \"variable\": \"current_level_pct_of_total\", \"value\": 0.8262966956001668}, {\"date\": \"2023-06-03T00:00:00\", \"variable\": \"current_level_pct_of_total\", \"value\": 0.8289198597131833}, {\"date\": \"2023-06-04T00:00:00\", \"variable\": \"current_level_pct_of_total\", \"value\": 0.8315430238261996}, {\"date\": \"2023-06-05T00:00:00\", \"variable\": \"current_level_pct_of_total\", \"value\": 0.834166187939216}, {\"date\": \"2023-06-06T00:00:00\", \"variable\": \"current_level_pct_of_total\", \"value\": 0.8367893520522325}, {\"date\": \"2023-06-07T00:00:00\", \"variable\": \"current_level_pct_of_total\", \"value\": 0.8367893520522325}, {\"date\": \"2023-06-08T00:00:00\", \"variable\": \"current_level_pct_of_total\", \"value\": 0.8394125161652488}, {\"date\": \"2023-06-09T00:00:00\", \"variable\": \"current_level_pct_of_total\", \"value\": 0.8420356802782653}, {\"date\": \"2023-06-10T00:00:00\", \"variable\": \"current_level_pct_of_total\", \"value\": 0.8420356802782653}, {\"date\": \"2023-06-11T00:00:00\", \"variable\": \"current_level_pct_of_total\", \"value\": 0.8446588443912817}, {\"date\": \"2023-06-12T00:00:00\", \"variable\": \"current_level_pct_of_total\", \"value\": 0.8446588443912817}, {\"date\": \"2023-06-13T00:00:00\", \"variable\": \"current_level_pct_of_total\", \"value\": 0.847282008504298}, {\"date\": \"2023-06-14T00:00:00\", \"variable\": \"current_level_pct_of_total\", \"value\": 0.847282008504298}, {\"date\": \"2023-06-15T00:00:00\", \"variable\": \"current_level_pct_of_total\", \"value\": 0.8499051726173145}, {\"date\": \"2023-06-16T00:00:00\", \"variable\": \"current_level_pct_of_total\", \"value\": 0.8499051726173145}, {\"date\": \"2023-06-17T00:00:00\", \"variable\": \"current_level_pct_of_total\", \"value\": 0.8525283367303309}, {\"date\": \"2023-06-18T00:00:00\", \"variable\": \"current_level_pct_of_total\", \"value\": 0.8551515008433472}, {\"date\": \"2023-06-19T00:00:00\", \"variable\": \"current_level_pct_of_total\", \"value\": 0.8577746649563637}, {\"date\": \"2023-06-20T00:00:00\", \"variable\": \"current_level_pct_of_total\", \"value\": 0.8603978290693801}, {\"date\": \"2023-06-21T00:00:00\", \"variable\": \"current_level_pct_of_total\", \"value\": 0.8603978290693801}, {\"date\": \"2023-06-23T00:00:00\", \"variable\": \"current_level_pct_of_total\", \"value\": 0.8630209931823964}, {\"date\": \"2023-06-24T00:00:00\", \"variable\": \"current_level_pct_of_total\", \"value\": 0.8630209931823964}, {\"date\": \"2023-06-25T00:00:00\", \"variable\": \"current_level_pct_of_total\", \"value\": 0.8630209931823964}, {\"date\": \"2023-06-26T00:00:00\", \"variable\": \"current_level_pct_of_total\", \"value\": 0.8656441572954129}, {\"date\": \"2023-06-27T00:00:00\", \"variable\": \"current_level_pct_of_total\", \"value\": 0.8656441572954129}, {\"date\": \"2023-06-28T00:00:00\", \"variable\": \"current_level_pct_of_total\", \"value\": 0.8682673214084293}, {\"date\": \"2023-06-29T00:00:00\", \"variable\": \"current_level_pct_of_total\", \"value\": 0.8682673214084293}, {\"date\": \"2023-06-30T00:00:00\", \"variable\": \"current_level_pct_of_total\", \"value\": 0.8682673214084293}, {\"date\": \"2023-07-01T00:00:00\", \"variable\": \"current_level_pct_of_total\", \"value\": 0.8682673214084293}, {\"date\": \"2023-07-02T00:00:00\", \"variable\": \"current_level_pct_of_total\", \"value\": 0.8682673214084293}, {\"date\": \"2023-07-03T00:00:00\", \"variable\": \"current_level_pct_of_total\", \"value\": 0.8708904855214457}, {\"date\": \"2023-07-04T00:00:00\", \"variable\": \"current_level_pct_of_total\", \"value\": 0.8708904855214457}, {\"date\": \"2023-07-05T00:00:00\", \"variable\": \"current_level_pct_of_total\", \"value\": 0.8708904855214457}, {\"date\": \"2023-07-06T00:00:00\", \"variable\": \"current_level_pct_of_total\", \"value\": 0.8735136496344621}, {\"date\": \"2023-07-07T00:00:00\", \"variable\": \"current_level_pct_of_total\", \"value\": 0.8735136496344621}, {\"date\": \"2023-07-08T00:00:00\", \"variable\": \"current_level_pct_of_total\", \"value\": 0.8735136496344621}, {\"date\": \"2023-07-09T00:00:00\", \"variable\": \"current_level_pct_of_total\", \"value\": 0.8735136496344621}, {\"date\": \"2023-07-10T00:00:00\", \"variable\": \"current_level_pct_of_total\", \"value\": 0.8735136496344621}, {\"date\": \"2023-07-11T00:00:00\", \"variable\": \"current_level_pct_of_total\", \"value\": 0.8735136496344621}, {\"date\": \"2023-07-12T00:00:00\", \"variable\": \"current_level_pct_of_total\", \"value\": 0.8735136496344621}, {\"date\": \"2023-07-13T00:00:00\", \"variable\": \"current_level_pct_of_total\", \"value\": 0.8735136496344621}, {\"date\": \"2023-07-14T00:00:00\", \"variable\": \"current_level_pct_of_total\", \"value\": 0.8708904855214457}, {\"date\": \"2023-07-15T00:00:00\", \"variable\": \"current_level_pct_of_total\", \"value\": 0.8708904855214457}, {\"date\": \"2023-07-16T00:00:00\", \"variable\": \"current_level_pct_of_total\", \"value\": 0.8708904855214457}, {\"date\": \"2023-07-17T00:00:00\", \"variable\": \"current_level_pct_of_total\", \"value\": 0.8682673214084293}, {\"date\": \"2023-07-18T00:00:00\", \"variable\": \"current_level_pct_of_total\", \"value\": 0.8682673214084293}, {\"date\": \"2023-07-19T00:00:00\", \"variable\": \"current_level_pct_of_total\", \"value\": 0.8656441572954129}, {\"date\": \"2023-07-20T00:00:00\", \"variable\": \"current_level_pct_of_total\", \"value\": 0.8656441572954129}, {\"date\": \"2023-07-21T00:00:00\", \"variable\": \"current_level_pct_of_total\", \"value\": 0.8656441572954129}, {\"date\": \"2023-07-22T00:00:00\", \"variable\": \"current_level_pct_of_total\", \"value\": 0.8630209931823964}, {\"date\": \"2023-07-23T00:00:00\", \"variable\": \"current_level_pct_of_total\", \"value\": 0.8630209931823964}, {\"date\": \"2023-07-24T00:00:00\", \"variable\": \"current_level_pct_of_total\", \"value\": 0.8603978290693801}, {\"date\": \"2023-07-25T00:00:00\", \"variable\": \"current_level_pct_of_total\", \"value\": 0.8577746649563637}, {\"date\": \"2023-07-26T00:00:00\", \"variable\": \"current_level_pct_of_total\", \"value\": 0.8577746649563637}, {\"date\": \"2023-07-27T00:00:00\", \"variable\": \"current_level_pct_of_total\", \"value\": 0.8551515008433472}, {\"date\": \"2023-07-28T00:00:00\", \"variable\": \"current_level_pct_of_total\", \"value\": 0.8525283367303309}, {\"date\": \"2023-07-29T00:00:00\", \"variable\": \"current_level_pct_of_total\", \"value\": 0.8499051726173145}, {\"date\": \"2023-07-30T00:00:00\", \"variable\": \"current_level_pct_of_total\", \"value\": 0.847282008504298}, {\"date\": \"2023-07-31T00:00:00\", \"variable\": \"current_level_pct_of_total\", \"value\": 0.8446588443912817}, {\"date\": \"2023-08-01T00:00:00\", \"variable\": \"current_level_pct_of_total\", \"value\": 0.8420356802782653}, {\"date\": \"2023-08-02T00:00:00\", \"variable\": \"current_level_pct_of_total\", \"value\": 0.8394125161652488}, {\"date\": \"2023-08-03T00:00:00\", \"variable\": \"current_level_pct_of_total\", \"value\": 0.8367893520522325}, {\"date\": \"2023-08-04T00:00:00\", \"variable\": \"current_level_pct_of_total\", \"value\": 0.834166187939216}, {\"date\": \"2023-08-05T00:00:00\", \"variable\": \"current_level_pct_of_total\", \"value\": 0.8315430238261996}, {\"date\": \"2023-08-06T00:00:00\", \"variable\": \"current_level_pct_of_total\", \"value\": 0.8289198597131833}, {\"date\": \"2023-08-07T00:00:00\", \"variable\": \"current_level_pct_of_total\", \"value\": 0.8262966956001668}, {\"date\": \"2023-08-08T00:00:00\", \"variable\": \"current_level_pct_of_total\", \"value\": 0.8236735314871504}, {\"date\": \"2023-08-09T00:00:00\", \"variable\": \"current_level_pct_of_total\", \"value\": 0.8210503673741341}, {\"date\": \"2023-08-10T00:00:00\", \"variable\": \"current_level_pct_of_total\", \"value\": 0.8184272032611176}, {\"date\": \"2023-08-11T00:00:00\", \"variable\": \"current_level_pct_of_total\", \"value\": 0.8158040391481012}, {\"date\": \"2023-08-12T00:00:00\", \"variable\": \"current_level_pct_of_total\", \"value\": 0.8131808750350848}, {\"date\": \"2023-08-13T00:00:00\", \"variable\": \"current_level_pct_of_total\", \"value\": 0.8131808750350848}, {\"date\": \"2023-08-14T00:00:00\", \"variable\": \"current_level_pct_of_total\", \"value\": 0.8105577109220684}, {\"date\": \"2023-08-15T00:00:00\", \"variable\": \"current_level_pct_of_total\", \"value\": 0.807934546809052}, {\"date\": \"2023-08-16T00:00:00\", \"variable\": \"current_level_pct_of_total\", \"value\": 0.8053113826960356}, {\"date\": \"2023-08-17T00:00:00\", \"variable\": \"current_level_pct_of_total\", \"value\": 0.8026882185830192}, {\"date\": \"2023-08-18T00:00:00\", \"variable\": \"current_level_pct_of_total\", \"value\": 0.8000650544700028}, {\"date\": \"2023-08-19T00:00:00\", \"variable\": \"current_level_pct_of_total\", \"value\": 0.7974418903569864}, {\"date\": \"2023-08-20T00:00:00\", \"variable\": \"current_level_pct_of_total\", \"value\": 0.79481872624397}, {\"date\": \"2023-08-21T00:00:00\", \"variable\": \"current_level_pct_of_total\", \"value\": 0.79481872624397}, {\"date\": \"2023-08-22T00:00:00\", \"variable\": \"current_level_pct_of_total\", \"value\": 0.7921955621309535}, {\"date\": \"2023-08-23T00:00:00\", \"variable\": \"current_level_pct_of_total\", \"value\": 0.7895723980179372}, {\"date\": \"2023-08-24T00:00:00\", \"variable\": \"current_level_pct_of_total\", \"value\": 0.7895723980179372}, {\"date\": \"2023-08-25T00:00:00\", \"variable\": \"current_level_pct_of_total\", \"value\": 0.7843260697919044}, {\"date\": \"2023-08-26T00:00:00\", \"variable\": \"current_level_pct_of_total\", \"value\": 0.781702905678888}, {\"date\": \"2023-08-27T00:00:00\", \"variable\": \"current_level_pct_of_total\", \"value\": 0.7790797415658716}, {\"date\": \"2023-08-28T00:00:00\", \"variable\": \"current_level_pct_of_total\", \"value\": 0.7790797415658716}, {\"date\": \"2023-08-29T00:00:00\", \"variable\": \"current_level_pct_of_total\", \"value\": 0.7764565774528552}, {\"date\": \"2023-08-30T00:00:00\", \"variable\": \"current_level_pct_of_total\", \"value\": 0.7764565774528552}, {\"date\": \"2023-08-31T00:00:00\", \"variable\": \"current_level_pct_of_total\", \"value\": 0.7738334133398388}, {\"date\": \"2023-09-01T00:00:00\", \"variable\": \"current_level_pct_of_total\", \"value\": 0.7712102492268224}, {\"date\": \"2023-09-02T00:00:00\", \"variable\": \"current_level_pct_of_total\", \"value\": 0.768587085113806}, {\"date\": \"2023-09-03T00:00:00\", \"variable\": \"current_level_pct_of_total\", \"value\": 0.768587085113806}, {\"date\": \"2023-09-04T00:00:00\", \"variable\": \"current_level_pct_of_total\", \"value\": 0.7659639210007896}, {\"date\": \"2023-09-05T00:00:00\", \"variable\": \"current_level_pct_of_total\", \"value\": 0.7659639210007896}, {\"date\": \"2023-09-06T00:00:00\", \"variable\": \"current_level_pct_of_total\", \"value\": 0.7633407568877731}, {\"date\": \"2023-09-07T00:00:00\", \"variable\": \"current_level_pct_of_total\", \"value\": 0.7607175927747568}, {\"date\": \"2023-09-08T00:00:00\", \"variable\": \"current_level_pct_of_total\", \"value\": 0.7554712645487239}, {\"date\": \"2023-09-09T00:00:00\", \"variable\": \"current_level_pct_of_total\", \"value\": 0.7554712645487239}, {\"date\": \"2023-09-10T00:00:00\", \"variable\": \"current_level_pct_of_total\", \"value\": 0.7528481004357076}, {\"date\": \"2023-09-11T00:00:00\", \"variable\": \"current_level_pct_of_total\", \"value\": 0.7502249363226912}, {\"date\": \"2023-09-12T00:00:00\", \"variable\": \"current_level_pct_of_total\", \"value\": 0.7476017722096747}, {\"date\": \"2023-09-13T00:00:00\", \"variable\": \"current_level_pct_of_total\", \"value\": 0.7476017722096747}, {\"date\": \"2023-09-14T00:00:00\", \"variable\": \"current_level_pct_of_total\", \"value\": 0.7449786080966584}, {\"date\": \"2023-09-15T00:00:00\", \"variable\": \"current_level_pct_of_total\", \"value\": 0.742355443983642}, {\"date\": \"2023-09-16T00:00:00\", \"variable\": \"current_level_pct_of_total\", \"value\": 0.742355443983642}, {\"date\": \"2023-09-17T00:00:00\", \"variable\": \"current_level_pct_of_total\", \"value\": 0.7397322798706255}, {\"date\": \"2023-09-18T00:00:00\", \"variable\": \"current_level_pct_of_total\", \"value\": 0.7371091157576092}, {\"date\": \"2023-09-19T00:00:00\", \"variable\": \"current_level_pct_of_total\", \"value\": 0.7344859516445927}, {\"date\": \"2023-09-20T00:00:00\", \"variable\": \"current_level_pct_of_total\", \"value\": 0.7318627875315763}, {\"date\": \"2023-09-21T00:00:00\", \"variable\": \"current_level_pct_of_total\", \"value\": 0.7318627875315763}, {\"date\": \"2023-09-22T00:00:00\", \"variable\": \"current_level_pct_of_total\", \"value\": 0.72923962341856}, {\"date\": \"2023-09-23T00:00:00\", \"variable\": \"current_level_pct_of_total\", \"value\": 0.7266164593055435}, {\"date\": \"2023-09-24T00:00:00\", \"variable\": \"current_level_pct_of_total\", \"value\": 0.7239932951925271}, {\"date\": \"2023-09-25T00:00:00\", \"variable\": \"current_level_pct_of_total\", \"value\": 0.7213701310795108}, {\"date\": \"2023-09-26T00:00:00\", \"variable\": \"current_level_pct_of_total\", \"value\": 0.7187469669664943}, {\"date\": \"2023-09-27T00:00:00\", \"variable\": \"current_level_pct_of_total\", \"value\": 0.7161238028534779}, {\"date\": \"2023-09-28T00:00:00\", \"variable\": \"current_level_pct_of_total\", \"value\": 0.7161238028534779}, {\"date\": \"2023-09-29T00:00:00\", \"variable\": \"current_level_pct_of_total\", \"value\": 0.7135006387404615}, {\"date\": \"2023-09-30T00:00:00\", \"variable\": \"current_level_pct_of_total\", \"value\": 0.7135006387404615}, {\"date\": \"2023-10-01T00:00:00\", \"variable\": \"current_level_pct_of_total\", \"value\": 0.7056311464014123}, {\"date\": \"2023-10-02T00:00:00\", \"variable\": \"current_level_pct_of_total\", \"value\": 0.7056311464014123}, {\"date\": \"2023-10-03T00:00:00\", \"variable\": \"current_level_pct_of_total\", \"value\": 0.7056311464014123}, {\"date\": \"2023-10-04T00:00:00\", \"variable\": \"current_level_pct_of_total\", \"value\": 0.7056311464014123}, {\"date\": \"2023-10-05T00:00:00\", \"variable\": \"current_level_pct_of_total\", \"value\": 0.7030079822883959}, {\"date\": \"2023-10-06T00:00:00\", \"variable\": \"current_level_pct_of_total\", \"value\": 0.7030079822883959}, {\"date\": \"2023-10-07T00:00:00\", \"variable\": \"current_level_pct_of_total\", \"value\": 0.7003848181753795}, {\"date\": \"2023-10-08T00:00:00\", \"variable\": \"current_level_pct_of_total\", \"value\": 0.6977616540623631}, {\"date\": \"2023-10-09T00:00:00\", \"variable\": \"current_level_pct_of_total\", \"value\": 0.6951384899493467}, {\"date\": \"2023-10-10T00:00:00\", \"variable\": \"current_level_pct_of_total\", \"value\": 0.6951384899493467}, {\"date\": \"2023-10-11T00:00:00\", \"variable\": \"current_level_pct_of_total\", \"value\": 0.6925153258363304}, {\"date\": \"2023-10-12T00:00:00\", \"variable\": \"current_level_pct_of_total\", \"value\": 0.6925153258363304}, {\"date\": \"2023-10-13T00:00:00\", \"variable\": \"current_level_pct_of_total\", \"value\": 0.6898921617233139}, {\"date\": \"2023-10-14T00:00:00\", \"variable\": \"current_level_pct_of_total\", \"value\": 0.6872689976102975}, {\"date\": \"2023-10-15T00:00:00\", \"variable\": \"current_level_pct_of_total\", \"value\": 0.6846458334972811}, {\"date\": \"2023-10-16T00:00:00\", \"variable\": \"current_level_pct_of_total\", \"value\": 0.6846458334972811}, {\"date\": \"2023-10-17T00:00:00\", \"variable\": \"current_level_pct_of_total\", \"value\": 0.6820226693842647}, {\"date\": \"2023-10-18T00:00:00\", \"variable\": \"current_level_pct_of_total\", \"value\": 0.6820226693842647}, {\"date\": \"2023-10-19T00:00:00\", \"variable\": \"current_level_pct_of_total\", \"value\": 0.6793995052712483}, {\"date\": \"2023-10-20T00:00:00\", \"variable\": \"current_level_pct_of_total\", \"value\": 0.6767763411582319}, {\"date\": \"2023-10-21T00:00:00\", \"variable\": \"current_level_pct_of_total\", \"value\": 0.6741531770452155}, {\"date\": \"2023-10-22T00:00:00\", \"variable\": \"current_level_pct_of_total\", \"value\": 0.6741531770452155}, {\"date\": \"2023-10-23T00:00:00\", \"variable\": \"current_level_pct_of_total\", \"value\": 0.671530012932199}, {\"date\": \"2023-10-24T00:00:00\", \"variable\": \"current_level_pct_of_total\", \"value\": 0.671530012932199}, {\"date\": \"2023-10-25T00:00:00\", \"variable\": \"current_level_pct_of_total\", \"value\": 0.6689068488191827}, {\"date\": \"2023-10-26T00:00:00\", \"variable\": \"current_level_pct_of_total\", \"value\": 0.6662836847061663}, {\"date\": \"2023-10-27T00:00:00\", \"variable\": \"current_level_pct_of_total\", \"value\": 0.6662836847061663}, {\"date\": \"2023-10-28T00:00:00\", \"variable\": \"current_level_pct_of_total\", \"value\": 0.6636605205931498}, {\"date\": \"2023-10-29T00:00:00\", \"variable\": \"current_level_pct_of_total\", \"value\": 0.6610373564801335}, {\"date\": \"2023-10-30T00:00:00\", \"variable\": \"current_level_pct_of_total\", \"value\": 0.6584141923671171}, {\"date\": \"2023-10-31T00:00:00\", \"variable\": \"current_level_pct_of_total\", \"value\": 0.6584141923671171}, {\"date\": \"2023-11-01T00:00:00\", \"variable\": \"current_level_pct_of_total\", \"value\": 0.6557910282541006}, {\"date\": \"2023-11-02T00:00:00\", \"variable\": \"current_level_pct_of_total\", \"value\": 0.6557910282541006}, {\"date\": \"2023-11-03T00:00:00\", \"variable\": \"current_level_pct_of_total\", \"value\": 0.6557910282541006}, {\"date\": \"2023-11-04T00:00:00\", \"variable\": \"current_level_pct_of_total\", \"value\": 0.6531678641410843}, {\"date\": \"2023-11-05T00:00:00\", \"variable\": \"current_level_pct_of_total\", \"value\": 0.6531678641410843}, {\"date\": \"2023-11-06T00:00:00\", \"variable\": \"current_level_pct_of_total\", \"value\": 0.6531678641410843}, {\"date\": \"2023-11-07T00:00:00\", \"variable\": \"current_level_pct_of_total\", \"value\": 0.6531678641410843}, {\"date\": \"2023-11-08T00:00:00\", \"variable\": \"current_level_pct_of_total\", \"value\": 0.6505447000280679}, {\"date\": \"2023-11-09T00:00:00\", \"variable\": \"current_level_pct_of_total\", \"value\": 0.6505447000280679}, {\"date\": \"2023-11-10T00:00:00\", \"variable\": \"current_level_pct_of_total\", \"value\": 0.6505447000280679}, {\"date\": \"2023-11-11T00:00:00\", \"variable\": \"current_level_pct_of_total\", \"value\": 0.6479215359150514}, {\"date\": \"2023-11-12T00:00:00\", \"variable\": \"current_level_pct_of_total\", \"value\": 0.6479215359150514}, {\"date\": \"2023-11-13T00:00:00\", \"variable\": \"current_level_pct_of_total\", \"value\": 0.6479215359150514}, {\"date\": \"2023-11-14T00:00:00\", \"variable\": \"current_level_pct_of_total\", \"value\": 0.6452983718020351}, {\"date\": \"2023-11-15T00:00:00\", \"variable\": \"current_level_pct_of_total\", \"value\": 0.6452983718020351}, {\"date\": \"2023-11-16T00:00:00\", \"variable\": \"current_level_pct_of_total\", \"value\": 0.6452983718020351}, {\"date\": \"2023-11-17T00:00:00\", \"variable\": \"current_level_pct_of_total\", \"value\": 0.6426752076890186}, {\"date\": \"2023-11-18T00:00:00\", \"variable\": \"current_level_pct_of_total\", \"value\": 0.6426752076890186}, {\"date\": \"2023-11-19T00:00:00\", \"variable\": \"current_level_pct_of_total\", \"value\": 0.6426752076890186}, {\"date\": \"2023-11-20T00:00:00\", \"variable\": \"current_level_pct_of_total\", \"value\": 0.6452983718020351}, {\"date\": \"2023-11-21T00:00:00\", \"variable\": \"current_level_pct_of_total\", \"value\": 0.6452983718020351}, {\"date\": \"2023-11-22T00:00:00\", \"variable\": \"current_level_pct_of_total\", \"value\": 0.6452983718020351}, {\"date\": \"2023-11-23T00:00:00\", \"variable\": \"current_level_pct_of_total\", \"value\": 0.6452983718020351}, {\"date\": \"2023-11-24T00:00:00\", \"variable\": \"current_level_pct_of_total\", \"value\": 0.6452983718020351}, {\"date\": \"2023-11-25T00:00:00\", \"variable\": \"current_level_pct_of_total\", \"value\": 0.6452983718020351}, {\"date\": \"2023-11-26T00:00:00\", \"variable\": \"current_level_pct_of_total\", \"value\": 0.6452983718020351}, {\"date\": \"2023-11-27T00:00:00\", \"variable\": \"current_level_pct_of_total\", \"value\": 0.6452983718020351}, {\"date\": \"2023-11-28T00:00:00\", \"variable\": \"current_level_pct_of_total\", \"value\": 0.6426752076890186}, {\"date\": \"2023-11-29T00:00:00\", \"variable\": \"current_level_pct_of_total\", \"value\": 0.6400520435760022}, {\"date\": \"2023-11-30T00:00:00\", \"variable\": \"current_level_pct_of_total\", \"value\": 0.6400520435760022}, {\"date\": \"2023-12-01T00:00:00\", \"variable\": \"current_level_pct_of_total\", \"value\": 0.6400520435760022}, {\"date\": \"2023-12-02T00:00:00\", \"variable\": \"current_level_pct_of_total\", \"value\": 0.6374288794629859}, {\"date\": \"2023-12-03T00:00:00\", \"variable\": \"current_level_pct_of_total\", \"value\": 0.6348057153499694}, {\"date\": \"2023-12-04T00:00:00\", \"variable\": \"current_level_pct_of_total\", \"value\": 0.6374288794629859}, {\"date\": \"2023-12-05T00:00:00\", \"variable\": \"current_level_pct_of_total\", \"value\": 0.6400520435760022}, {\"date\": \"2023-12-06T00:00:00\", \"variable\": \"current_level_pct_of_total\", \"value\": 0.6400520435760022}, {\"date\": \"2023-12-07T00:00:00\", \"variable\": \"current_level_pct_of_total\", \"value\": 0.6400520435760022}, {\"date\": \"2023-12-08T00:00:00\", \"variable\": \"current_level_pct_of_total\", \"value\": 0.6400520435760022}, {\"date\": \"2023-12-09T00:00:00\", \"variable\": \"current_level_pct_of_total\", \"value\": 0.6374288794629859}, {\"date\": \"2023-12-10T00:00:00\", \"variable\": \"current_level_pct_of_total\", \"value\": 0.6374288794629859}, {\"date\": \"2023-12-11T00:00:00\", \"variable\": \"current_level_pct_of_total\", \"value\": 0.6348057153499694}, {\"date\": \"2023-12-12T00:00:00\", \"variable\": \"current_level_pct_of_total\", \"value\": 0.6348057153499694}, {\"date\": \"2023-12-13T00:00:00\", \"variable\": \"current_level_pct_of_total\", \"value\": 0.632182551236953}, {\"date\": \"2023-12-14T00:00:00\", \"variable\": \"current_level_pct_of_total\", \"value\": 0.632182551236953}, {\"date\": \"2023-12-15T00:00:00\", \"variable\": \"current_level_pct_of_total\", \"value\": 0.632182551236953}, {\"date\": \"2023-12-16T00:00:00\", \"variable\": \"current_level_pct_of_total\", \"value\": 0.632182551236953}, {\"date\": \"2023-12-17T00:00:00\", \"variable\": \"current_level_pct_of_total\", \"value\": 0.6295593871239367}, {\"date\": \"2023-12-18T00:00:00\", \"variable\": \"current_level_pct_of_total\", \"value\": 0.6295593871239367}, {\"date\": \"2023-12-19T00:00:00\", \"variable\": \"current_level_pct_of_total\", \"value\": 0.632182551236953}, {\"date\": \"2023-12-20T00:00:00\", \"variable\": \"current_level_pct_of_total\", \"value\": 0.6348057153499694}, {\"date\": \"2023-12-21T00:00:00\", \"variable\": \"current_level_pct_of_total\", \"value\": 0.6374288794629859}, {\"date\": \"2023-12-22T00:00:00\", \"variable\": \"current_level_pct_of_total\", \"value\": 0.6400520435760022}, {\"date\": \"2023-12-23T00:00:00\", \"variable\": \"current_level_pct_of_total\", \"value\": 0.6400520435760022}, {\"date\": \"2023-12-24T00:00:00\", \"variable\": \"current_level_pct_of_total\", \"value\": 0.6400520435760022}, {\"date\": \"2023-12-25T00:00:00\", \"variable\": \"current_level_pct_of_total\", \"value\": 0.6400520435760022}, {\"date\": \"2023-12-26T00:00:00\", \"variable\": \"current_level_pct_of_total\", \"value\": 0.6400520435760022}, {\"date\": \"2023-12-27T00:00:00\", \"variable\": \"current_level_pct_of_total\", \"value\": 0.6400520435760022}, {\"date\": \"2023-12-28T00:00:00\", \"variable\": \"current_level_pct_of_total\", \"value\": 0.6400520435760022}, {\"date\": \"2023-12-29T00:00:00\", \"variable\": \"current_level_pct_of_total\", \"value\": 0.6400520435760022}, {\"date\": \"2023-12-30T00:00:00\", \"variable\": \"current_level_pct_of_total\", \"value\": 0.6400520435760022}, {\"date\": \"2023-12-31T00:00:00\", \"variable\": \"current_level_pct_of_total\", \"value\": 0.6426752076890186}, {\"date\": \"2024-01-01T00:00:00\", \"variable\": \"current_level_pct_of_total\", \"value\": 0.6426752076890186}, {\"date\": \"2024-01-02T00:00:00\", \"variable\": \"current_level_pct_of_total\", \"value\": 0.6426752076890186}, {\"date\": \"2024-01-03T00:00:00\", \"variable\": \"current_level_pct_of_total\", \"value\": 0.6452983718020351}, {\"date\": \"2024-01-04T00:00:00\", \"variable\": \"current_level_pct_of_total\", \"value\": 0.6479215359150514}, {\"date\": \"2024-01-05T00:00:00\", \"variable\": \"current_level_pct_of_total\", \"value\": 0.6479215359150514}, {\"date\": \"2024-01-06T00:00:00\", \"variable\": \"current_level_pct_of_total\", \"value\": 0.6452983718020351}, {\"date\": \"2024-01-07T00:00:00\", \"variable\": \"current_level_pct_of_total\", \"value\": 0.6479215359150514}, {\"date\": \"2024-01-08T00:00:00\", \"variable\": \"current_level_pct_of_total\", \"value\": 0.6479215359150514}, {\"date\": \"2024-01-09T00:00:00\", \"variable\": \"current_level_pct_of_total\", \"value\": 0.6479215359150514}, {\"date\": \"2024-01-10T00:00:00\", \"variable\": \"current_level_pct_of_total\", \"value\": 0.6479215359150514}, {\"date\": \"2024-01-11T00:00:00\", \"variable\": \"current_level_pct_of_total\", \"value\": 0.6479215359150514}, {\"date\": \"2024-01-12T00:00:00\", \"variable\": \"current_level_pct_of_total\", \"value\": 0.6505447000280679}, {\"date\": \"2024-01-13T00:00:00\", \"variable\": \"current_level_pct_of_total\", \"value\": 0.6531678641410843}, {\"date\": \"2024-01-14T00:00:00\", \"variable\": \"current_level_pct_of_total\", \"value\": 0.6505447000280679}, {\"date\": \"2024-01-15T00:00:00\", \"variable\": \"current_level_pct_of_total\", \"value\": 0.6505447000280679}, {\"date\": \"2024-01-16T00:00:00\", \"variable\": \"current_level_pct_of_total\", \"value\": 0.6531678641410843}, {\"date\": \"2024-01-17T00:00:00\", \"variable\": \"current_level_pct_of_total\", \"value\": 0.6557910282541006}, {\"date\": \"2024-01-18T00:00:00\", \"variable\": \"current_level_pct_of_total\", \"value\": 0.6584141923671171}, {\"date\": \"2024-01-19T00:00:00\", \"variable\": \"current_level_pct_of_total\", \"value\": 0.6610373564801335}, {\"date\": \"2024-01-20T00:00:00\", \"variable\": \"current_level_pct_of_total\", \"value\": 0.6610373564801335}, {\"date\": \"2024-01-21T00:00:00\", \"variable\": \"current_level_pct_of_total\", \"value\": 0.6636605205931498}, {\"date\": \"2024-01-22T00:00:00\", \"variable\": \"current_level_pct_of_total\", \"value\": 0.6662836847061663}, {\"date\": \"2024-01-23T00:00:00\", \"variable\": \"current_level_pct_of_total\", \"value\": 0.671530012932199}, {\"date\": \"2024-01-24T00:00:00\", \"variable\": \"current_level_pct_of_total\", \"value\": 0.6767763411582319}, {\"date\": \"2024-01-25T00:00:00\", \"variable\": \"current_level_pct_of_total\", \"value\": 0.6820226693842647}, {\"date\": \"2024-01-26T00:00:00\", \"variable\": \"current_level_pct_of_total\", \"value\": 0.6846458334972811}, {\"date\": \"2024-01-27T00:00:00\", \"variable\": \"current_level_pct_of_total\", \"value\": 0.6846458334972811}, {\"date\": \"2024-01-28T00:00:00\", \"variable\": \"current_level_pct_of_total\", \"value\": 0.6872689976102975}, {\"date\": \"2024-01-29T00:00:00\", \"variable\": \"current_level_pct_of_total\", \"value\": 0.6872689976102975}, {\"date\": \"2024-01-30T00:00:00\", \"variable\": \"current_level_pct_of_total\", \"value\": 0.6898921617233139}, {\"date\": \"2024-01-31T00:00:00\", \"variable\": \"current_level_pct_of_total\", \"value\": 0.6872689976102975}, {\"date\": \"2024-02-01T00:00:00\", \"variable\": \"current_level_pct_of_total\", \"value\": 0.6898921617233139}, {\"date\": \"2024-02-02T00:00:00\", \"variable\": \"current_level_pct_of_total\", \"value\": 0.6925153258363304}, {\"date\": \"2024-02-03T00:00:00\", \"variable\": \"current_level_pct_of_total\", \"value\": 0.6951384899493467}, {\"date\": \"2024-02-04T00:00:00\", \"variable\": \"current_level_pct_of_total\", \"value\": 0.6977616540623631}, {\"date\": \"2024-02-05T00:00:00\", \"variable\": \"current_level_pct_of_total\", \"value\": 0.7056311464014123}, {\"date\": \"2024-02-06T00:00:00\", \"variable\": \"current_level_pct_of_total\", \"value\": 0.7108774746274451}, {\"date\": \"2024-02-07T00:00:00\", \"variable\": \"current_level_pct_of_total\", \"value\": 0.7161238028534779}, {\"date\": \"2024-02-08T00:00:00\", \"variable\": \"current_level_pct_of_total\", \"value\": 0.7187469669664943}, {\"date\": \"2024-02-09T00:00:00\", \"variable\": \"current_level_pct_of_total\", \"value\": 0.7187469669664943}, {\"date\": \"2024-02-10T00:00:00\", \"variable\": \"current_level_pct_of_total\", \"value\": 0.7187469669664943}, {\"date\": \"2024-02-11T00:00:00\", \"variable\": \"current_level_pct_of_total\", \"value\": 0.7213701310795108}, {\"date\": \"2024-02-12T00:00:00\", \"variable\": \"current_level_pct_of_total\", \"value\": 0.7213701310795108}, {\"date\": \"2024-02-13T00:00:00\", \"variable\": \"current_level_pct_of_total\", \"value\": 0.7239932951925271}, {\"date\": \"2024-02-14T00:00:00\", \"variable\": \"current_level_pct_of_total\", \"value\": 0.7213701310795108}, {\"date\": \"2024-02-15T00:00:00\", \"variable\": \"current_level_pct_of_total\", \"value\": 0.7239932951925271}, {\"date\": \"2024-02-16T00:00:00\", \"variable\": \"current_level_pct_of_total\", \"value\": 0.7239932951925271}, {\"date\": \"2024-02-17T00:00:00\", \"variable\": \"current_level_pct_of_total\", \"value\": 0.7239932951925271}, {\"date\": \"2024-02-18T00:00:00\", \"variable\": \"current_level_pct_of_total\", \"value\": 0.7213701310795108}, {\"date\": \"2024-02-19T00:00:00\", \"variable\": \"current_level_pct_of_total\", \"value\": 0.72923962341856}, {\"date\": \"2024-02-20T00:00:00\", \"variable\": \"current_level_pct_of_total\", \"value\": 0.7371091157576092}, {\"date\": \"2024-02-21T00:00:00\", \"variable\": \"current_level_pct_of_total\", \"value\": 0.7476017722096747}, {\"date\": \"2024-02-22T00:00:00\", \"variable\": \"current_level_pct_of_total\", \"value\": 0.7502249363226912}, {\"date\": \"2024-02-23T00:00:00\", \"variable\": \"current_level_pct_of_total\", \"value\": 0.7528481004357076}, {\"date\": \"2024-02-24T00:00:00\", \"variable\": \"current_level_pct_of_total\", \"value\": 0.7528481004357076}, {\"date\": \"2024-02-25T00:00:00\", \"variable\": \"current_level_pct_of_total\", \"value\": 0.7528481004357076}, {\"date\": \"2024-02-26T00:00:00\", \"variable\": \"current_level_pct_of_total\", \"value\": 0.7502249363226912}, {\"date\": \"2024-02-27T00:00:00\", \"variable\": \"current_level_pct_of_total\", \"value\": 0.7502249363226912}, {\"date\": \"2024-02-28T00:00:00\", \"variable\": \"current_level_pct_of_total\", \"value\": 0.7476017722096747}, {\"date\": \"2024-02-29T00:00:00\", \"variable\": \"current_level_pct_of_total\", \"value\": 0.7476017722096747}, {\"date\": \"2024-03-01T00:00:00\", \"variable\": \"current_level_pct_of_total\", \"value\": 0.7502249363226912}, {\"date\": \"2024-03-02T00:00:00\", \"variable\": \"current_level_pct_of_total\", \"value\": 0.7528481004357076}, {\"date\": \"2024-03-03T00:00:00\", \"variable\": \"current_level_pct_of_total\", \"value\": 0.7554712645487239}, {\"date\": \"2024-03-04T00:00:00\", \"variable\": \"current_level_pct_of_total\", \"value\": 0.7580944286617404}, {\"date\": \"2024-03-05T00:00:00\", \"variable\": \"current_level_pct_of_total\", \"value\": 0.7607175927747568}, {\"date\": \"2024-03-06T00:00:00\", \"variable\": \"current_level_pct_of_total\", \"value\": 0.7633407568877731}, {\"date\": \"2024-03-07T00:00:00\", \"variable\": \"current_level_pct_of_total\", \"value\": 0.7659639210007896}, {\"date\": \"2024-03-08T00:00:00\", \"variable\": \"current_level_pct_of_total\", \"value\": 0.7659639210007896}, {\"date\": \"2024-03-09T00:00:00\", \"variable\": \"current_level_pct_of_total\", \"value\": 0.7659639210007896}, {\"date\": \"2024-03-10T00:00:00\", \"variable\": \"current_level_pct_of_total\", \"value\": 0.7659639210007896}, {\"date\": \"2023-03-13T00:00:00\", \"variable\": \"average_level_pct_of_total\", \"value\": 0.6854026425755274}, {\"date\": \"2023-03-14T00:00:00\", \"variable\": \"average_level_pct_of_total\", \"value\": 0.6854026425755274}, {\"date\": \"2023-03-15T00:00:00\", \"variable\": \"average_level_pct_of_total\", \"value\": 0.6854026425755274}, {\"date\": \"2023-03-16T00:00:00\", \"variable\": \"average_level_pct_of_total\", \"value\": 0.6854026425755274}, {\"date\": \"2023-03-17T00:00:00\", \"variable\": \"average_level_pct_of_total\", \"value\": 0.6854026425755274}, {\"date\": \"2023-03-18T00:00:00\", \"variable\": \"average_level_pct_of_total\", \"value\": 0.6854026425755274}, {\"date\": \"2023-03-19T00:00:00\", \"variable\": \"average_level_pct_of_total\", \"value\": 0.6854026425755274}, {\"date\": \"2023-03-20T00:00:00\", \"variable\": \"average_level_pct_of_total\", \"value\": 0.6854026425755274}, {\"date\": \"2023-03-21T00:00:00\", \"variable\": \"average_level_pct_of_total\", \"value\": 0.6854026425755274}, {\"date\": \"2023-03-22T00:00:00\", \"variable\": \"average_level_pct_of_total\", \"value\": 0.6854026425755274}, {\"date\": \"2023-03-23T00:00:00\", \"variable\": \"average_level_pct_of_total\", \"value\": 0.6854026425755274}, {\"date\": \"2023-03-24T00:00:00\", \"variable\": \"average_level_pct_of_total\", \"value\": 0.6854026425755274}, {\"date\": \"2023-03-25T00:00:00\", \"variable\": \"average_level_pct_of_total\", \"value\": 0.6854026425755274}, {\"date\": \"2023-03-26T00:00:00\", \"variable\": \"average_level_pct_of_total\", \"value\": 0.6854026425755274}, {\"date\": \"2023-03-27T00:00:00\", \"variable\": \"average_level_pct_of_total\", \"value\": 0.6854026425755274}, {\"date\": \"2023-03-28T00:00:00\", \"variable\": \"average_level_pct_of_total\", \"value\": 0.6854026425755274}, {\"date\": \"2023-03-29T00:00:00\", \"variable\": \"average_level_pct_of_total\", \"value\": 0.6854026425755274}, {\"date\": \"2023-03-30T00:00:00\", \"variable\": \"average_level_pct_of_total\", \"value\": 0.6854026425755274}, {\"date\": \"2023-03-31T00:00:00\", \"variable\": \"average_level_pct_of_total\", \"value\": 0.6854026425755274}, {\"date\": \"2023-04-01T00:00:00\", \"variable\": \"average_level_pct_of_total\", \"value\": 0.724822346210446}, {\"date\": \"2023-04-02T00:00:00\", \"variable\": \"average_level_pct_of_total\", \"value\": 0.724822346210446}, {\"date\": \"2023-04-03T00:00:00\", \"variable\": \"average_level_pct_of_total\", \"value\": 0.724822346210446}, {\"date\": \"2023-04-04T00:00:00\", \"variable\": \"average_level_pct_of_total\", \"value\": 0.724822346210446}, {\"date\": \"2023-04-05T00:00:00\", \"variable\": \"average_level_pct_of_total\", \"value\": 0.724822346210446}, {\"date\": \"2023-04-06T00:00:00\", \"variable\": \"average_level_pct_of_total\", \"value\": 0.724822346210446}, {\"date\": \"2023-04-07T00:00:00\", \"variable\": \"average_level_pct_of_total\", \"value\": 0.724822346210446}, {\"date\": \"2023-04-08T00:00:00\", \"variable\": \"average_level_pct_of_total\", \"value\": 0.724822346210446}, {\"date\": \"2023-04-09T00:00:00\", \"variable\": \"average_level_pct_of_total\", \"value\": 0.724822346210446}, {\"date\": \"2023-04-10T00:00:00\", \"variable\": \"average_level_pct_of_total\", \"value\": 0.724822346210446}, {\"date\": \"2023-04-11T00:00:00\", \"variable\": \"average_level_pct_of_total\", \"value\": 0.724822346210446}, {\"date\": \"2023-04-12T00:00:00\", \"variable\": \"average_level_pct_of_total\", \"value\": 0.724822346210446}, {\"date\": \"2023-04-13T00:00:00\", \"variable\": \"average_level_pct_of_total\", \"value\": 0.724822346210446}, {\"date\": \"2023-04-14T00:00:00\", \"variable\": \"average_level_pct_of_total\", \"value\": 0.724822346210446}, {\"date\": \"2023-04-15T00:00:00\", \"variable\": \"average_level_pct_of_total\", \"value\": 0.724822346210446}, {\"date\": \"2023-04-16T00:00:00\", \"variable\": \"average_level_pct_of_total\", \"value\": 0.724822346210446}, {\"date\": \"2023-04-17T00:00:00\", \"variable\": \"average_level_pct_of_total\", \"value\": 0.724822346210446}, {\"date\": \"2023-04-18T00:00:00\", \"variable\": \"average_level_pct_of_total\", \"value\": 0.724822346210446}, {\"date\": \"2023-04-19T00:00:00\", \"variable\": \"average_level_pct_of_total\", \"value\": 0.724822346210446}, {\"date\": \"2023-04-20T00:00:00\", \"variable\": \"average_level_pct_of_total\", \"value\": 0.724822346210446}, {\"date\": \"2023-04-21T00:00:00\", \"variable\": \"average_level_pct_of_total\", \"value\": 0.724822346210446}, {\"date\": \"2023-04-22T00:00:00\", \"variable\": \"average_level_pct_of_total\", \"value\": 0.724822346210446}, {\"date\": \"2023-04-23T00:00:00\", \"variable\": \"average_level_pct_of_total\", \"value\": 0.724822346210446}, {\"date\": \"2023-04-24T00:00:00\", \"variable\": \"average_level_pct_of_total\", \"value\": 0.724822346210446}, {\"date\": \"2023-04-25T00:00:00\", \"variable\": \"average_level_pct_of_total\", \"value\": 0.724822346210446}, {\"date\": \"2023-04-26T00:00:00\", \"variable\": \"average_level_pct_of_total\", \"value\": 0.724822346210446}, {\"date\": \"2023-04-27T00:00:00\", \"variable\": \"average_level_pct_of_total\", \"value\": 0.724822346210446}, {\"date\": \"2023-04-28T00:00:00\", \"variable\": \"average_level_pct_of_total\", \"value\": 0.724822346210446}, {\"date\": \"2023-04-29T00:00:00\", \"variable\": \"average_level_pct_of_total\", \"value\": 0.724822346210446}, {\"date\": \"2023-04-30T00:00:00\", \"variable\": \"average_level_pct_of_total\", \"value\": 0.724822346210446}, {\"date\": \"2023-05-01T00:00:00\", \"variable\": \"average_level_pct_of_total\", \"value\": 0.7570756179518859}, {\"date\": \"2023-05-02T00:00:00\", \"variable\": \"average_level_pct_of_total\", \"value\": 0.7570756179518859}, {\"date\": \"2023-05-03T00:00:00\", \"variable\": \"average_level_pct_of_total\", \"value\": 0.7570756179518859}, {\"date\": \"2023-05-04T00:00:00\", \"variable\": \"average_level_pct_of_total\", \"value\": 0.7570756179518859}, {\"date\": \"2023-05-05T00:00:00\", \"variable\": \"average_level_pct_of_total\", \"value\": 0.7570756179518859}, {\"date\": \"2023-05-06T00:00:00\", \"variable\": \"average_level_pct_of_total\", \"value\": 0.7570756179518859}, {\"date\": \"2023-05-07T00:00:00\", \"variable\": \"average_level_pct_of_total\", \"value\": 0.7570756179518859}, {\"date\": \"2023-05-08T00:00:00\", \"variable\": \"average_level_pct_of_total\", \"value\": 0.7570756179518859}, {\"date\": \"2023-05-09T00:00:00\", \"variable\": \"average_level_pct_of_total\", \"value\": 0.7570756179518859}, {\"date\": \"2023-05-10T00:00:00\", \"variable\": \"average_level_pct_of_total\", \"value\": 0.7570756179518859}, {\"date\": \"2023-05-11T00:00:00\", \"variable\": \"average_level_pct_of_total\", \"value\": 0.7570756179518859}, {\"date\": \"2023-05-12T00:00:00\", \"variable\": \"average_level_pct_of_total\", \"value\": 0.7570756179518859}, {\"date\": \"2023-05-13T00:00:00\", \"variable\": \"average_level_pct_of_total\", \"value\": 0.7570756179518859}, {\"date\": \"2023-05-14T00:00:00\", \"variable\": \"average_level_pct_of_total\", \"value\": 0.7570756179518859}, {\"date\": \"2023-05-15T00:00:00\", \"variable\": \"average_level_pct_of_total\", \"value\": 0.7570756179518859}, {\"date\": \"2023-05-16T00:00:00\", \"variable\": \"average_level_pct_of_total\", \"value\": 0.7570756179518859}, {\"date\": \"2023-05-17T00:00:00\", \"variable\": \"average_level_pct_of_total\", \"value\": 0.7570756179518859}, {\"date\": \"2023-05-18T00:00:00\", \"variable\": \"average_level_pct_of_total\", \"value\": 0.7570756179518859}, {\"date\": \"2023-05-19T00:00:00\", \"variable\": \"average_level_pct_of_total\", \"value\": 0.7570756179518859}, {\"date\": \"2023-05-20T00:00:00\", \"variable\": \"average_level_pct_of_total\", \"value\": 0.7570756179518859}, {\"date\": \"2023-05-21T00:00:00\", \"variable\": \"average_level_pct_of_total\", \"value\": 0.7570756179518859}, {\"date\": \"2023-05-22T00:00:00\", \"variable\": \"average_level_pct_of_total\", \"value\": 0.7570756179518859}, {\"date\": \"2023-05-23T00:00:00\", \"variable\": \"average_level_pct_of_total\", \"value\": 0.7570756179518859}, {\"date\": \"2023-05-24T00:00:00\", \"variable\": \"average_level_pct_of_total\", \"value\": 0.7570756179518859}, {\"date\": \"2023-05-25T00:00:00\", \"variable\": \"average_level_pct_of_total\", \"value\": 0.7570756179518859}, {\"date\": \"2023-05-26T00:00:00\", \"variable\": \"average_level_pct_of_total\", \"value\": 0.7570756179518859}, {\"date\": \"2023-05-27T00:00:00\", \"variable\": \"average_level_pct_of_total\", \"value\": 0.7570756179518859}, {\"date\": \"2023-05-28T00:00:00\", \"variable\": \"average_level_pct_of_total\", \"value\": 0.7570756179518859}, {\"date\": \"2023-05-29T00:00:00\", \"variable\": \"average_level_pct_of_total\", \"value\": 0.7570756179518859}, {\"date\": \"2023-05-30T00:00:00\", \"variable\": \"average_level_pct_of_total\", \"value\": 0.7570756179518859}, {\"date\": \"2023-05-31T00:00:00\", \"variable\": \"average_level_pct_of_total\", \"value\": 0.7570756179518859}, {\"date\": \"2023-06-01T00:00:00\", \"variable\": \"average_level_pct_of_total\", \"value\": 0.7319412201385556}, {\"date\": \"2023-06-02T00:00:00\", \"variable\": \"average_level_pct_of_total\", \"value\": 0.7319412201385556}, {\"date\": \"2023-06-03T00:00:00\", \"variable\": \"average_level_pct_of_total\", \"value\": 0.7319412201385556}, {\"date\": \"2023-06-04T00:00:00\", \"variable\": \"average_level_pct_of_total\", \"value\": 0.7319412201385556}, {\"date\": \"2023-06-05T00:00:00\", \"variable\": \"average_level_pct_of_total\", \"value\": 0.7319412201385556}, {\"date\": \"2023-06-06T00:00:00\", \"variable\": \"average_level_pct_of_total\", \"value\": 0.7319412201385556}, {\"date\": \"2023-06-07T00:00:00\", \"variable\": \"average_level_pct_of_total\", \"value\": 0.7319412201385556}, {\"date\": \"2023-06-08T00:00:00\", \"variable\": \"average_level_pct_of_total\", \"value\": 0.7319412201385556}, {\"date\": \"2023-06-09T00:00:00\", \"variable\": \"average_level_pct_of_total\", \"value\": 0.7319412201385556}, {\"date\": \"2023-06-10T00:00:00\", \"variable\": \"average_level_pct_of_total\", \"value\": 0.7319412201385556}, {\"date\": \"2023-06-11T00:00:00\", \"variable\": \"average_level_pct_of_total\", \"value\": 0.7319412201385556}, {\"date\": \"2023-06-12T00:00:00\", \"variable\": \"average_level_pct_of_total\", \"value\": 0.7319412201385556}, {\"date\": \"2023-06-13T00:00:00\", \"variable\": \"average_level_pct_of_total\", \"value\": 0.7319412201385556}, {\"date\": \"2023-06-14T00:00:00\", \"variable\": \"average_level_pct_of_total\", \"value\": 0.7319412201385556}, {\"date\": \"2023-06-15T00:00:00\", \"variable\": \"average_level_pct_of_total\", \"value\": 0.7319412201385556}, {\"date\": \"2023-06-16T00:00:00\", \"variable\": \"average_level_pct_of_total\", \"value\": 0.7319412201385556}, {\"date\": \"2023-06-17T00:00:00\", \"variable\": \"average_level_pct_of_total\", \"value\": 0.7319412201385556}, {\"date\": \"2023-06-18T00:00:00\", \"variable\": \"average_level_pct_of_total\", \"value\": 0.7319412201385556}, {\"date\": \"2023-06-19T00:00:00\", \"variable\": \"average_level_pct_of_total\", \"value\": 0.7319412201385556}, {\"date\": \"2023-06-20T00:00:00\", \"variable\": \"average_level_pct_of_total\", \"value\": 0.7319412201385556}, {\"date\": \"2023-06-21T00:00:00\", \"variable\": \"average_level_pct_of_total\", \"value\": 0.7319412201385556}, {\"date\": \"2023-06-23T00:00:00\", \"variable\": \"average_level_pct_of_total\", \"value\": 0.7319412201385556}, {\"date\": \"2023-06-24T00:00:00\", \"variable\": \"average_level_pct_of_total\", \"value\": 0.7319412201385556}, {\"date\": \"2023-06-25T00:00:00\", \"variable\": \"average_level_pct_of_total\", \"value\": 0.7319412201385556}, {\"date\": \"2023-06-26T00:00:00\", \"variable\": \"average_level_pct_of_total\", \"value\": 0.7319412201385556}, {\"date\": \"2023-06-27T00:00:00\", \"variable\": \"average_level_pct_of_total\", \"value\": 0.7319412201385556}, {\"date\": \"2023-06-28T00:00:00\", \"variable\": \"average_level_pct_of_total\", \"value\": 0.7319412201385556}, {\"date\": \"2023-06-29T00:00:00\", \"variable\": \"average_level_pct_of_total\", \"value\": 0.7319412201385556}, {\"date\": \"2023-06-30T00:00:00\", \"variable\": \"average_level_pct_of_total\", \"value\": 0.7319412201385556}, {\"date\": \"2023-07-01T00:00:00\", \"variable\": \"average_level_pct_of_total\", \"value\": 0.663451349486778}, {\"date\": \"2023-07-02T00:00:00\", \"variable\": \"average_level_pct_of_total\", \"value\": 0.663451349486778}, {\"date\": \"2023-07-03T00:00:00\", \"variable\": \"average_level_pct_of_total\", \"value\": 0.663451349486778}, {\"date\": \"2023-07-04T00:00:00\", \"variable\": \"average_level_pct_of_total\", \"value\": 0.663451349486778}, {\"date\": \"2023-07-05T00:00:00\", \"variable\": \"average_level_pct_of_total\", \"value\": 0.663451349486778}, {\"date\": \"2023-07-06T00:00:00\", \"variable\": \"average_level_pct_of_total\", \"value\": 0.663451349486778}, {\"date\": \"2023-07-07T00:00:00\", \"variable\": \"average_level_pct_of_total\", \"value\": 0.663451349486778}, {\"date\": \"2023-07-08T00:00:00\", \"variable\": \"average_level_pct_of_total\", \"value\": 0.663451349486778}, {\"date\": \"2023-07-09T00:00:00\", \"variable\": \"average_level_pct_of_total\", \"value\": 0.663451349486778}, {\"date\": \"2023-07-10T00:00:00\", \"variable\": \"average_level_pct_of_total\", \"value\": 0.663451349486778}, {\"date\": \"2023-07-11T00:00:00\", \"variable\": \"average_level_pct_of_total\", \"value\": 0.663451349486778}, {\"date\": \"2023-07-12T00:00:00\", \"variable\": \"average_level_pct_of_total\", \"value\": 0.663451349486778}, {\"date\": \"2023-07-13T00:00:00\", \"variable\": \"average_level_pct_of_total\", \"value\": 0.663451349486778}, {\"date\": \"2023-07-14T00:00:00\", \"variable\": \"average_level_pct_of_total\", \"value\": 0.663451349486778}, {\"date\": \"2023-07-15T00:00:00\", \"variable\": \"average_level_pct_of_total\", \"value\": 0.663451349486778}, {\"date\": \"2023-07-16T00:00:00\", \"variable\": \"average_level_pct_of_total\", \"value\": 0.663451349486778}, {\"date\": \"2023-07-17T00:00:00\", \"variable\": \"average_level_pct_of_total\", \"value\": 0.663451349486778}, {\"date\": \"2023-07-18T00:00:00\", \"variable\": \"average_level_pct_of_total\", \"value\": 0.663451349486778}, {\"date\": \"2023-07-19T00:00:00\", \"variable\": \"average_level_pct_of_total\", \"value\": 0.663451349486778}, {\"date\": \"2023-07-20T00:00:00\", \"variable\": \"average_level_pct_of_total\", \"value\": 0.663451349486778}, {\"date\": \"2023-07-21T00:00:00\", \"variable\": \"average_level_pct_of_total\", \"value\": 0.663451349486778}, {\"date\": \"2023-07-22T00:00:00\", \"variable\": \"average_level_pct_of_total\", \"value\": 0.663451349486778}, {\"date\": \"2023-07-23T00:00:00\", \"variable\": \"average_level_pct_of_total\", \"value\": 0.663451349486778}, {\"date\": \"2023-07-24T00:00:00\", \"variable\": \"average_level_pct_of_total\", \"value\": 0.663451349486778}, {\"date\": \"2023-07-25T00:00:00\", \"variable\": \"average_level_pct_of_total\", \"value\": 0.663451349486778}, {\"date\": \"2023-07-26T00:00:00\", \"variable\": \"average_level_pct_of_total\", \"value\": 0.663451349486778}, {\"date\": \"2023-07-27T00:00:00\", \"variable\": \"average_level_pct_of_total\", \"value\": 0.663451349486778}, {\"date\": \"2023-07-28T00:00:00\", \"variable\": \"average_level_pct_of_total\", \"value\": 0.663451349486778}, {\"date\": \"2023-07-29T00:00:00\", \"variable\": \"average_level_pct_of_total\", \"value\": 0.663451349486778}, {\"date\": \"2023-07-30T00:00:00\", \"variable\": \"average_level_pct_of_total\", \"value\": 0.663451349486778}, {\"date\": \"2023-07-31T00:00:00\", \"variable\": \"average_level_pct_of_total\", \"value\": 0.663451349486778}, {\"date\": \"2023-08-01T00:00:00\", \"variable\": \"average_level_pct_of_total\", \"value\": 0.5970034284754957}, {\"date\": \"2023-08-02T00:00:00\", \"variable\": \"average_level_pct_of_total\", \"value\": 0.5970034284754957}, {\"date\": \"2023-08-03T00:00:00\", \"variable\": \"average_level_pct_of_total\", \"value\": 0.5970034284754957}, {\"date\": \"2023-08-04T00:00:00\", \"variable\": \"average_level_pct_of_total\", \"value\": 0.5970034284754957}, {\"date\": \"2023-08-05T00:00:00\", \"variable\": \"average_level_pct_of_total\", \"value\": 0.5970034284754957}, {\"date\": \"2023-08-06T00:00:00\", \"variable\": \"average_level_pct_of_total\", \"value\": 0.5970034284754957}, {\"date\": \"2023-08-07T00:00:00\", \"variable\": \"average_level_pct_of_total\", \"value\": 0.5970034284754957}, {\"date\": \"2023-08-08T00:00:00\", \"variable\": \"average_level_pct_of_total\", \"value\": 0.5970034284754957}, {\"date\": \"2023-08-09T00:00:00\", \"variable\": \"average_level_pct_of_total\", \"value\": 0.5970034284754957}, {\"date\": \"2023-08-10T00:00:00\", \"variable\": \"average_level_pct_of_total\", \"value\": 0.5970034284754957}, {\"date\": \"2023-08-11T00:00:00\", \"variable\": \"average_level_pct_of_total\", \"value\": 0.5970034284754957}, {\"date\": \"2023-08-12T00:00:00\", \"variable\": \"average_level_pct_of_total\", \"value\": 0.5970034284754957}, {\"date\": \"2023-08-13T00:00:00\", \"variable\": \"average_level_pct_of_total\", \"value\": 0.5970034284754957}, {\"date\": \"2023-08-14T00:00:00\", \"variable\": \"average_level_pct_of_total\", \"value\": 0.5970034284754957}, {\"date\": \"2023-08-15T00:00:00\", \"variable\": \"average_level_pct_of_total\", \"value\": 0.5970034284754957}, {\"date\": \"2023-08-16T00:00:00\", \"variable\": \"average_level_pct_of_total\", \"value\": 0.5970034284754957}, {\"date\": \"2023-08-17T00:00:00\", \"variable\": \"average_level_pct_of_total\", \"value\": 0.5970034284754957}, {\"date\": \"2023-08-18T00:00:00\", \"variable\": \"average_level_pct_of_total\", \"value\": 0.5970034284754957}, {\"date\": \"2023-08-19T00:00:00\", \"variable\": \"average_level_pct_of_total\", \"value\": 0.5970034284754957}, {\"date\": \"2023-08-20T00:00:00\", \"variable\": \"average_level_pct_of_total\", \"value\": 0.5970034284754957}, {\"date\": \"2023-08-21T00:00:00\", \"variable\": \"average_level_pct_of_total\", \"value\": 0.5970034284754957}, {\"date\": \"2023-08-22T00:00:00\", \"variable\": \"average_level_pct_of_total\", \"value\": 0.5970034284754957}, {\"date\": \"2023-08-23T00:00:00\", \"variable\": \"average_level_pct_of_total\", \"value\": 0.5970034284754957}, {\"date\": \"2023-08-24T00:00:00\", \"variable\": \"average_level_pct_of_total\", \"value\": 0.5970034284754957}, {\"date\": \"2023-08-25T00:00:00\", \"variable\": \"average_level_pct_of_total\", \"value\": 0.5970034284754957}, {\"date\": \"2023-08-26T00:00:00\", \"variable\": \"average_level_pct_of_total\", \"value\": 0.5970034284754957}, {\"date\": \"2023-08-27T00:00:00\", \"variable\": \"average_level_pct_of_total\", \"value\": 0.5970034284754957}, {\"date\": \"2023-08-28T00:00:00\", \"variable\": \"average_level_pct_of_total\", \"value\": 0.5970034284754957}, {\"date\": \"2023-08-29T00:00:00\", \"variable\": \"average_level_pct_of_total\", \"value\": 0.5970034284754957}, {\"date\": \"2023-08-30T00:00:00\", \"variable\": \"average_level_pct_of_total\", \"value\": 0.5970034284754957}, {\"date\": \"2023-08-31T00:00:00\", \"variable\": \"average_level_pct_of_total\", \"value\": 0.5970034284754957}, {\"date\": \"2023-09-01T00:00:00\", \"variable\": \"average_level_pct_of_total\", \"value\": 0.5568789855699742}, {\"date\": \"2023-09-02T00:00:00\", \"variable\": \"average_level_pct_of_total\", \"value\": 0.5568789855699742}, {\"date\": \"2023-09-03T00:00:00\", \"variable\": \"average_level_pct_of_total\", \"value\": 0.5568789855699742}, {\"date\": \"2023-09-04T00:00:00\", \"variable\": \"average_level_pct_of_total\", \"value\": 0.5568789855699742}, {\"date\": \"2023-09-05T00:00:00\", \"variable\": \"average_level_pct_of_total\", \"value\": 0.5568789855699742}, {\"date\": \"2023-09-06T00:00:00\", \"variable\": \"average_level_pct_of_total\", \"value\": 0.5568789855699742}, {\"date\": \"2023-09-07T00:00:00\", \"variable\": \"average_level_pct_of_total\", \"value\": 0.5568789855699742}, {\"date\": \"2023-09-08T00:00:00\", \"variable\": \"average_level_pct_of_total\", \"value\": 0.5568789855699742}, {\"date\": \"2023-09-09T00:00:00\", \"variable\": \"average_level_pct_of_total\", \"value\": 0.5568789855699742}, {\"date\": \"2023-09-10T00:00:00\", \"variable\": \"average_level_pct_of_total\", \"value\": 0.5568789855699742}, {\"date\": \"2023-09-11T00:00:00\", \"variable\": \"average_level_pct_of_total\", \"value\": 0.5568789855699742}, {\"date\": \"2023-09-12T00:00:00\", \"variable\": \"average_level_pct_of_total\", \"value\": 0.5568789855699742}, {\"date\": \"2023-09-13T00:00:00\", \"variable\": \"average_level_pct_of_total\", \"value\": 0.5568789855699742}, {\"date\": \"2023-09-14T00:00:00\", \"variable\": \"average_level_pct_of_total\", \"value\": 0.5568789855699742}, {\"date\": \"2023-09-15T00:00:00\", \"variable\": \"average_level_pct_of_total\", \"value\": 0.5568789855699742}, {\"date\": \"2023-09-16T00:00:00\", \"variable\": \"average_level_pct_of_total\", \"value\": 0.5568789855699742}, {\"date\": \"2023-09-17T00:00:00\", \"variable\": \"average_level_pct_of_total\", \"value\": 0.5568789855699742}, {\"date\": \"2023-09-18T00:00:00\", \"variable\": \"average_level_pct_of_total\", \"value\": 0.5568789855699742}, {\"date\": \"2023-09-19T00:00:00\", \"variable\": \"average_level_pct_of_total\", \"value\": 0.5568789855699742}, {\"date\": \"2023-09-20T00:00:00\", \"variable\": \"average_level_pct_of_total\", \"value\": 0.5568789855699742}, {\"date\": \"2023-09-21T00:00:00\", \"variable\": \"average_level_pct_of_total\", \"value\": 0.5568789855699742}, {\"date\": \"2023-09-22T00:00:00\", \"variable\": \"average_level_pct_of_total\", \"value\": 0.5568789855699742}, {\"date\": \"2023-09-23T00:00:00\", \"variable\": \"average_level_pct_of_total\", \"value\": 0.5568789855699742}, {\"date\": \"2023-09-24T00:00:00\", \"variable\": \"average_level_pct_of_total\", \"value\": 0.5568789855699742}, {\"date\": \"2023-09-25T00:00:00\", \"variable\": \"average_level_pct_of_total\", \"value\": 0.5568789855699742}, {\"date\": \"2023-09-26T00:00:00\", \"variable\": \"average_level_pct_of_total\", \"value\": 0.5568789855699742}, {\"date\": \"2023-09-27T00:00:00\", \"variable\": \"average_level_pct_of_total\", \"value\": 0.5568789855699742}, {\"date\": \"2023-09-28T00:00:00\", \"variable\": \"average_level_pct_of_total\", \"value\": 0.5568789855699742}, {\"date\": \"2023-09-29T00:00:00\", \"variable\": \"average_level_pct_of_total\", \"value\": 0.5568789855699742}, {\"date\": \"2023-09-30T00:00:00\", \"variable\": \"average_level_pct_of_total\", \"value\": 0.5568789855699742}, {\"date\": \"2023-10-01T00:00:00\", \"variable\": \"average_level_pct_of_total\", \"value\": 0.5258166041042026}, {\"date\": \"2023-10-02T00:00:00\", \"variable\": \"average_level_pct_of_total\", \"value\": 0.5258166041042026}, {\"date\": \"2023-10-03T00:00:00\", \"variable\": \"average_level_pct_of_total\", \"value\": 0.5258166041042026}, {\"date\": \"2023-10-04T00:00:00\", \"variable\": \"average_level_pct_of_total\", \"value\": 0.5258166041042026}, {\"date\": \"2023-10-05T00:00:00\", \"variable\": \"average_level_pct_of_total\", \"value\": 0.5258166041042026}, {\"date\": \"2023-10-06T00:00:00\", \"variable\": \"average_level_pct_of_total\", \"value\": 0.5258166041042026}, {\"date\": \"2023-10-07T00:00:00\", \"variable\": \"average_level_pct_of_total\", \"value\": 0.5258166041042026}, {\"date\": \"2023-10-08T00:00:00\", \"variable\": \"average_level_pct_of_total\", \"value\": 0.5258166041042026}, {\"date\": \"2023-10-09T00:00:00\", \"variable\": \"average_level_pct_of_total\", \"value\": 0.5258166041042026}, {\"date\": \"2023-10-10T00:00:00\", \"variable\": \"average_level_pct_of_total\", \"value\": 0.5258166041042026}, {\"date\": \"2023-10-11T00:00:00\", \"variable\": \"average_level_pct_of_total\", \"value\": 0.5258166041042026}, {\"date\": \"2023-10-12T00:00:00\", \"variable\": \"average_level_pct_of_total\", \"value\": 0.5258166041042026}, {\"date\": \"2023-10-13T00:00:00\", \"variable\": \"average_level_pct_of_total\", \"value\": 0.5258166041042026}, {\"date\": \"2023-10-14T00:00:00\", \"variable\": \"average_level_pct_of_total\", \"value\": 0.5258166041042026}, {\"date\": \"2023-10-15T00:00:00\", \"variable\": \"average_level_pct_of_total\", \"value\": 0.5258166041042026}, {\"date\": \"2023-10-16T00:00:00\", \"variable\": \"average_level_pct_of_total\", \"value\": 0.5258166041042026}, {\"date\": \"2023-10-17T00:00:00\", \"variable\": \"average_level_pct_of_total\", \"value\": 0.5258166041042026}, {\"date\": \"2023-10-18T00:00:00\", \"variable\": \"average_level_pct_of_total\", \"value\": 0.5258166041042026}, {\"date\": \"2023-10-19T00:00:00\", \"variable\": \"average_level_pct_of_total\", \"value\": 0.5258166041042026}, {\"date\": \"2023-10-20T00:00:00\", \"variable\": \"average_level_pct_of_total\", \"value\": 0.5258166041042026}, {\"date\": \"2023-10-21T00:00:00\", \"variable\": \"average_level_pct_of_total\", \"value\": 0.5258166041042026}, {\"date\": \"2023-10-22T00:00:00\", \"variable\": \"average_level_pct_of_total\", \"value\": 0.5258166041042026}, {\"date\": \"2023-10-23T00:00:00\", \"variable\": \"average_level_pct_of_total\", \"value\": 0.5258166041042026}, {\"date\": \"2023-10-24T00:00:00\", \"variable\": \"average_level_pct_of_total\", \"value\": 0.5258166041042026}, {\"date\": \"2023-10-25T00:00:00\", \"variable\": \"average_level_pct_of_total\", \"value\": 0.5258166041042026}, {\"date\": \"2023-10-26T00:00:00\", \"variable\": \"average_level_pct_of_total\", \"value\": 0.5258166041042026}, {\"date\": \"2023-10-27T00:00:00\", \"variable\": \"average_level_pct_of_total\", \"value\": 0.5258166041042026}, {\"date\": \"2023-10-28T00:00:00\", \"variable\": \"average_level_pct_of_total\", \"value\": 0.5258166041042026}, {\"date\": \"2023-10-29T00:00:00\", \"variable\": \"average_level_pct_of_total\", \"value\": 0.5258166041042026}, {\"date\": \"2023-10-30T00:00:00\", \"variable\": \"average_level_pct_of_total\", \"value\": 0.5258166041042026}, {\"date\": \"2023-10-31T00:00:00\", \"variable\": \"average_level_pct_of_total\", \"value\": 0.5258166041042026}, {\"date\": \"2023-11-01T00:00:00\", \"variable\": \"average_level_pct_of_total\", \"value\": 0.5221060335397764}, {\"date\": \"2023-11-02T00:00:00\", \"variable\": \"average_level_pct_of_total\", \"value\": 0.5221060335397764}, {\"date\": \"2023-11-03T00:00:00\", \"variable\": \"average_level_pct_of_total\", \"value\": 0.5221060335397764}, {\"date\": \"2023-11-04T00:00:00\", \"variable\": \"average_level_pct_of_total\", \"value\": 0.5221060335397764}, {\"date\": \"2023-11-05T00:00:00\", \"variable\": \"average_level_pct_of_total\", \"value\": 0.5221060335397764}, {\"date\": \"2023-11-06T00:00:00\", \"variable\": \"average_level_pct_of_total\", \"value\": 0.5221060335397764}, {\"date\": \"2023-11-07T00:00:00\", \"variable\": \"average_level_pct_of_total\", \"value\": 0.5221060335397764}, {\"date\": \"2023-11-08T00:00:00\", \"variable\": \"average_level_pct_of_total\", \"value\": 0.5221060335397764}, {\"date\": \"2023-11-09T00:00:00\", \"variable\": \"average_level_pct_of_total\", \"value\": 0.5221060335397764}, {\"date\": \"2023-11-10T00:00:00\", \"variable\": \"average_level_pct_of_total\", \"value\": 0.5221060335397764}, {\"date\": \"2023-11-11T00:00:00\", \"variable\": \"average_level_pct_of_total\", \"value\": 0.5221060335397764}, {\"date\": \"2023-11-12T00:00:00\", \"variable\": \"average_level_pct_of_total\", \"value\": 0.5221060335397764}, {\"date\": \"2023-11-13T00:00:00\", \"variable\": \"average_level_pct_of_total\", \"value\": 0.5221060335397764}, {\"date\": \"2023-11-14T00:00:00\", \"variable\": \"average_level_pct_of_total\", \"value\": 0.5221060335397764}, {\"date\": \"2023-11-15T00:00:00\", \"variable\": \"average_level_pct_of_total\", \"value\": 0.5221060335397764}, {\"date\": \"2023-11-16T00:00:00\", \"variable\": \"average_level_pct_of_total\", \"value\": 0.5221060335397764}, {\"date\": \"2023-11-17T00:00:00\", \"variable\": \"average_level_pct_of_total\", \"value\": 0.5221060335397764}, {\"date\": \"2023-11-18T00:00:00\", \"variable\": \"average_level_pct_of_total\", \"value\": 0.5221060335397764}, {\"date\": \"2023-11-19T00:00:00\", \"variable\": \"average_level_pct_of_total\", \"value\": 0.5221060335397764}, {\"date\": \"2023-11-20T00:00:00\", \"variable\": \"average_level_pct_of_total\", \"value\": 0.5221060335397764}, {\"date\": \"2023-11-21T00:00:00\", \"variable\": \"average_level_pct_of_total\", \"value\": 0.5221060335397764}, {\"date\": \"2023-11-22T00:00:00\", \"variable\": \"average_level_pct_of_total\", \"value\": 0.5221060335397764}, {\"date\": \"2023-11-23T00:00:00\", \"variable\": \"average_level_pct_of_total\", \"value\": 0.5221060335397764}, {\"date\": \"2023-11-24T00:00:00\", \"variable\": \"average_level_pct_of_total\", \"value\": 0.5221060335397764}, {\"date\": \"2023-11-25T00:00:00\", \"variable\": \"average_level_pct_of_total\", \"value\": 0.5221060335397764}, {\"date\": \"2023-11-26T00:00:00\", \"variable\": \"average_level_pct_of_total\", \"value\": 0.5221060335397764}, {\"date\": \"2023-11-27T00:00:00\", \"variable\": \"average_level_pct_of_total\", \"value\": 0.5221060335397764}, {\"date\": \"2023-11-28T00:00:00\", \"variable\": \"average_level_pct_of_total\", \"value\": 0.5221060335397764}, {\"date\": \"2023-11-29T00:00:00\", \"variable\": \"average_level_pct_of_total\", \"value\": 0.5221060335397764}, {\"date\": \"2023-11-30T00:00:00\", \"variable\": \"average_level_pct_of_total\", \"value\": 0.5221060335397764}, {\"date\": \"2023-12-01T00:00:00\", \"variable\": \"average_level_pct_of_total\", \"value\": 0.5507348269629793}, {\"date\": \"2023-12-02T00:00:00\", \"variable\": \"average_level_pct_of_total\", \"value\": 0.5507348269629793}, {\"date\": \"2023-12-03T00:00:00\", \"variable\": \"average_level_pct_of_total\", \"value\": 0.5507348269629793}, {\"date\": \"2023-12-04T00:00:00\", \"variable\": \"average_level_pct_of_total\", \"value\": 0.5507348269629793}, {\"date\": \"2023-12-05T00:00:00\", \"variable\": \"average_level_pct_of_total\", \"value\": 0.5507348269629793}, {\"date\": \"2023-12-06T00:00:00\", \"variable\": \"average_level_pct_of_total\", \"value\": 0.5507348269629793}, {\"date\": \"2023-12-07T00:00:00\", \"variable\": \"average_level_pct_of_total\", \"value\": 0.5507348269629793}, {\"date\": \"2023-12-08T00:00:00\", \"variable\": \"average_level_pct_of_total\", \"value\": 0.5507348269629793}, {\"date\": \"2023-12-09T00:00:00\", \"variable\": \"average_level_pct_of_total\", \"value\": 0.5507348269629793}, {\"date\": \"2023-12-10T00:00:00\", \"variable\": \"average_level_pct_of_total\", \"value\": 0.5507348269629793}, {\"date\": \"2023-12-11T00:00:00\", \"variable\": \"average_level_pct_of_total\", \"value\": 0.5507348269629793}, {\"date\": \"2023-12-12T00:00:00\", \"variable\": \"average_level_pct_of_total\", \"value\": 0.5507348269629793}, {\"date\": \"2023-12-13T00:00:00\", \"variable\": \"average_level_pct_of_total\", \"value\": 0.5507348269629793}, {\"date\": \"2023-12-14T00:00:00\", \"variable\": \"average_level_pct_of_total\", \"value\": 0.5507348269629793}, {\"date\": \"2023-12-15T00:00:00\", \"variable\": \"average_level_pct_of_total\", \"value\": 0.5507348269629793}, {\"date\": \"2023-12-16T00:00:00\", \"variable\": \"average_level_pct_of_total\", \"value\": 0.5507348269629793}, {\"date\": \"2023-12-17T00:00:00\", \"variable\": \"average_level_pct_of_total\", \"value\": 0.5507348269629793}, {\"date\": \"2023-12-18T00:00:00\", \"variable\": \"average_level_pct_of_total\", \"value\": 0.5507348269629793}, {\"date\": \"2023-12-19T00:00:00\", \"variable\": \"average_level_pct_of_total\", \"value\": 0.5507348269629793}, {\"date\": \"2023-12-20T00:00:00\", \"variable\": \"average_level_pct_of_total\", \"value\": 0.5507348269629793}, {\"date\": \"2023-12-21T00:00:00\", \"variable\": \"average_level_pct_of_total\", \"value\": 0.5507348269629793}, {\"date\": \"2023-12-22T00:00:00\", \"variable\": \"average_level_pct_of_total\", \"value\": 0.5507348269629793}, {\"date\": \"2023-12-23T00:00:00\", \"variable\": \"average_level_pct_of_total\", \"value\": 0.5507348269629793}, {\"date\": \"2023-12-24T00:00:00\", \"variable\": \"average_level_pct_of_total\", \"value\": 0.5507348269629793}, {\"date\": \"2023-12-25T00:00:00\", \"variable\": \"average_level_pct_of_total\", \"value\": 0.5507348269629793}, {\"date\": \"2023-12-26T00:00:00\", \"variable\": \"average_level_pct_of_total\", \"value\": 0.5507348269629793}, {\"date\": \"2023-12-27T00:00:00\", \"variable\": \"average_level_pct_of_total\", \"value\": 0.5507348269629793}, {\"date\": \"2023-12-28T00:00:00\", \"variable\": \"average_level_pct_of_total\", \"value\": 0.5507348269629793}, {\"date\": \"2023-12-29T00:00:00\", \"variable\": \"average_level_pct_of_total\", \"value\": 0.5507348269629793}, {\"date\": \"2023-12-30T00:00:00\", \"variable\": \"average_level_pct_of_total\", \"value\": 0.5507348269629793}, {\"date\": \"2023-12-31T00:00:00\", \"variable\": \"average_level_pct_of_total\", \"value\": 0.5507348269629793}, {\"date\": \"2024-01-01T00:00:00\", \"variable\": \"average_level_pct_of_total\", \"value\": 0.5967454665166216}, {\"date\": \"2024-01-02T00:00:00\", \"variable\": \"average_level_pct_of_total\", \"value\": 0.5967454665166216}, {\"date\": \"2024-01-03T00:00:00\", \"variable\": \"average_level_pct_of_total\", \"value\": 0.5967454665166216}, {\"date\": \"2024-01-04T00:00:00\", \"variable\": \"average_level_pct_of_total\", \"value\": 0.5967454665166216}, {\"date\": \"2024-01-05T00:00:00\", \"variable\": \"average_level_pct_of_total\", \"value\": 0.5967454665166216}, {\"date\": \"2024-01-06T00:00:00\", \"variable\": \"average_level_pct_of_total\", \"value\": 0.5967454665166216}, {\"date\": \"2024-01-07T00:00:00\", \"variable\": \"average_level_pct_of_total\", \"value\": 0.5967454665166216}, {\"date\": \"2024-01-08T00:00:00\", \"variable\": \"average_level_pct_of_total\", \"value\": 0.5967454665166216}, {\"date\": \"2024-01-09T00:00:00\", \"variable\": \"average_level_pct_of_total\", \"value\": 0.5967454665166216}, {\"date\": \"2024-01-10T00:00:00\", \"variable\": \"average_level_pct_of_total\", \"value\": 0.5967454665166216}, {\"date\": \"2024-01-11T00:00:00\", \"variable\": \"average_level_pct_of_total\", \"value\": 0.5967454665166216}, {\"date\": \"2024-01-12T00:00:00\", \"variable\": \"average_level_pct_of_total\", \"value\": 0.5967454665166216}, {\"date\": \"2024-01-13T00:00:00\", \"variable\": \"average_level_pct_of_total\", \"value\": 0.5967454665166216}, {\"date\": \"2024-01-14T00:00:00\", \"variable\": \"average_level_pct_of_total\", \"value\": 0.5967454665166216}, {\"date\": \"2024-01-15T00:00:00\", \"variable\": \"average_level_pct_of_total\", \"value\": 0.5967454665166216}, {\"date\": \"2024-01-16T00:00:00\", \"variable\": \"average_level_pct_of_total\", \"value\": 0.5967454665166216}, {\"date\": \"2024-01-17T00:00:00\", \"variable\": \"average_level_pct_of_total\", \"value\": 0.5967454665166216}, {\"date\": \"2024-01-18T00:00:00\", \"variable\": \"average_level_pct_of_total\", \"value\": 0.5967454665166216}, {\"date\": \"2024-01-19T00:00:00\", \"variable\": \"average_level_pct_of_total\", \"value\": 0.5967454665166216}, {\"date\": \"2024-01-20T00:00:00\", \"variable\": \"average_level_pct_of_total\", \"value\": 0.5967454665166216}, {\"date\": \"2024-01-21T00:00:00\", \"variable\": \"average_level_pct_of_total\", \"value\": 0.5967454665166216}, {\"date\": \"2024-01-22T00:00:00\", \"variable\": \"average_level_pct_of_total\", \"value\": 0.5967454665166216}, {\"date\": \"2024-01-23T00:00:00\", \"variable\": \"average_level_pct_of_total\", \"value\": 0.5967454665166216}, {\"date\": \"2024-01-24T00:00:00\", \"variable\": \"average_level_pct_of_total\", \"value\": 0.5967454665166216}, {\"date\": \"2024-01-25T00:00:00\", \"variable\": \"average_level_pct_of_total\", \"value\": 0.5967454665166216}, {\"date\": \"2024-01-26T00:00:00\", \"variable\": \"average_level_pct_of_total\", \"value\": 0.5967454665166216}, {\"date\": \"2024-01-27T00:00:00\", \"variable\": \"average_level_pct_of_total\", \"value\": 0.5967454665166216}, {\"date\": \"2024-01-28T00:00:00\", \"variable\": \"average_level_pct_of_total\", \"value\": 0.5967454665166216}, {\"date\": \"2024-01-29T00:00:00\", \"variable\": \"average_level_pct_of_total\", \"value\": 0.5967454665166216}, {\"date\": \"2024-01-30T00:00:00\", \"variable\": \"average_level_pct_of_total\", \"value\": 0.5967454665166216}, {\"date\": \"2024-01-31T00:00:00\", \"variable\": \"average_level_pct_of_total\", \"value\": 0.5967454665166216}, {\"date\": \"2024-02-01T00:00:00\", \"variable\": \"average_level_pct_of_total\", \"value\": 0.6356025801442216}, {\"date\": \"2024-02-02T00:00:00\", \"variable\": \"average_level_pct_of_total\", \"value\": 0.6356025801442216}, {\"date\": \"2024-02-03T00:00:00\", \"variable\": \"average_level_pct_of_total\", \"value\": 0.6356025801442216}, {\"date\": \"2024-02-04T00:00:00\", \"variable\": \"average_level_pct_of_total\", \"value\": 0.6356025801442216}, {\"date\": \"2024-02-05T00:00:00\", \"variable\": \"average_level_pct_of_total\", \"value\": 0.6356025801442216}, {\"date\": \"2024-02-06T00:00:00\", \"variable\": \"average_level_pct_of_total\", \"value\": 0.6356025801442216}, {\"date\": \"2024-02-07T00:00:00\", \"variable\": \"average_level_pct_of_total\", \"value\": 0.6356025801442216}, {\"date\": \"2024-02-08T00:00:00\", \"variable\": \"average_level_pct_of_total\", \"value\": 0.6356025801442216}, {\"date\": \"2024-02-09T00:00:00\", \"variable\": \"average_level_pct_of_total\", \"value\": 0.6356025801442216}, {\"date\": \"2024-02-10T00:00:00\", \"variable\": \"average_level_pct_of_total\", \"value\": 0.6356025801442216}, {\"date\": \"2024-02-11T00:00:00\", \"variable\": \"average_level_pct_of_total\", \"value\": 0.6356025801442216}, {\"date\": \"2024-02-12T00:00:00\", \"variable\": \"average_level_pct_of_total\", \"value\": 0.6356025801442216}, {\"date\": \"2024-02-13T00:00:00\", \"variable\": \"average_level_pct_of_total\", \"value\": 0.6356025801442216}, {\"date\": \"2024-02-14T00:00:00\", \"variable\": \"average_level_pct_of_total\", \"value\": 0.6356025801442216}, {\"date\": \"2024-02-15T00:00:00\", \"variable\": \"average_level_pct_of_total\", \"value\": 0.6356025801442216}, {\"date\": \"2024-02-16T00:00:00\", \"variable\": \"average_level_pct_of_total\", \"value\": 0.6356025801442216}, {\"date\": \"2024-02-17T00:00:00\", \"variable\": \"average_level_pct_of_total\", \"value\": 0.6356025801442216}, {\"date\": \"2024-02-18T00:00:00\", \"variable\": \"average_level_pct_of_total\", \"value\": 0.6356025801442216}, {\"date\": \"2024-02-19T00:00:00\", \"variable\": \"average_level_pct_of_total\", \"value\": 0.6356025801442216}, {\"date\": \"2024-02-20T00:00:00\", \"variable\": \"average_level_pct_of_total\", \"value\": 0.6356025801442216}, {\"date\": \"2024-02-21T00:00:00\", \"variable\": \"average_level_pct_of_total\", \"value\": 0.6356025801442216}, {\"date\": \"2024-02-22T00:00:00\", \"variable\": \"average_level_pct_of_total\", \"value\": 0.6356025801442216}, {\"date\": \"2024-02-23T00:00:00\", \"variable\": \"average_level_pct_of_total\", \"value\": 0.6356025801442216}, {\"date\": \"2024-02-24T00:00:00\", \"variable\": \"average_level_pct_of_total\", \"value\": 0.6356025801442216}, {\"date\": \"2024-02-25T00:00:00\", \"variable\": \"average_level_pct_of_total\", \"value\": 0.6356025801442216}, {\"date\": \"2024-02-26T00:00:00\", \"variable\": \"average_level_pct_of_total\", \"value\": 0.6356025801442216}, {\"date\": \"2024-02-27T00:00:00\", \"variable\": \"average_level_pct_of_total\", \"value\": 0.6356025801442216}, {\"date\": \"2024-02-28T00:00:00\", \"variable\": \"average_level_pct_of_total\", \"value\": 0.6356025801442216}, {\"date\": \"2024-02-29T00:00:00\", \"variable\": \"average_level_pct_of_total\", \"value\": 0.6356025801442216}, {\"date\": \"2024-03-01T00:00:00\", \"variable\": \"average_level_pct_of_total\", \"value\": 0.6854026425755274}, {\"date\": \"2024-03-02T00:00:00\", \"variable\": \"average_level_pct_of_total\", \"value\": 0.6854026425755274}, {\"date\": \"2024-03-03T00:00:00\", \"variable\": \"average_level_pct_of_total\", \"value\": 0.6854026425755274}, {\"date\": \"2024-03-04T00:00:00\", \"variable\": \"average_level_pct_of_total\", \"value\": 0.6854026425755274}, {\"date\": \"2024-03-05T00:00:00\", \"variable\": \"average_level_pct_of_total\", \"value\": 0.6854026425755274}, {\"date\": \"2024-03-06T00:00:00\", \"variable\": \"average_level_pct_of_total\", \"value\": 0.6854026425755274}, {\"date\": \"2024-03-07T00:00:00\", \"variable\": \"average_level_pct_of_total\", \"value\": 0.6854026425755274}, {\"date\": \"2024-03-08T00:00:00\", \"variable\": \"average_level_pct_of_total\", \"value\": 0.6854026425755274}, {\"date\": \"2024-03-09T00:00:00\", \"variable\": \"average_level_pct_of_total\", \"value\": 0.6854026425755274}, {\"date\": \"2024-03-10T00:00:00\", \"variable\": \"average_level_pct_of_total\", \"value\": 0.6854026425755274}]}}, {\"mode\": \"vega-lite\"});\n",
       "</script>"
      ],
      "text/plain": [
       "alt.Chart(...)"
      ]
     },
     "execution_count": 24,
     "metadata": {},
     "output_type": "execute_result"
    }
   ],
   "source": [
    "alt.Chart(melt).mark_line().encode(\n",
    "    x=\"date\",\n",
    "    y=\"value\",\n",
    "    color=\"variable\",\n",
    "    tooltip=\"date\"\n",
    ").properties(width=600)"
   ]
  },
  {
   "cell_type": "markdown",
   "id": "6609fded-c565-490f-b1da-7142a4cdb7ab",
   "metadata": {},
   "source": [
    "### Export"
   ]
  },
  {
   "cell_type": "markdown",
   "id": "1b8ba812-b32b-427a-b12c-d2e69e29a121",
   "metadata": {},
   "source": [
    "Trim and rename for export"
   ]
  },
  {
   "cell_type": "code",
   "execution_count": 25,
   "id": "0382b468-1563-44a0-b6f9-8e90848aa966",
   "metadata": {},
   "outputs": [],
   "source": [
    "export_df = merge_details[\n",
    "    [\n",
    "         'date', \n",
    "         'storage_af', \n",
    "         'average_storage', \n",
    "         'capacity', \n",
    "         'current_level_pct_of_total',\n",
    "         'average_level_pct_of_total', \n",
    "         'current_level_pct_of_avg' \n",
    "    ]\n",
    "].rename(columns={\"lake_name\": \"reservoir_name\"})"
   ]
  },
  {
   "cell_type": "code",
   "execution_count": 26,
   "id": "5a6a888e-55bc-47d7-9152-bf1ef0f680e3",
   "metadata": {},
   "outputs": [],
   "source": [
    "export_df.to_csv(f\"../../data/processed/reservoirs/statewide-timeseries.csv\", index=False)"
   ]
  },
  {
   "cell_type": "code",
   "execution_count": 27,
   "id": "4199a4ad-7e00-43ec-8121-c799157d851c",
   "metadata": {},
   "outputs": [],
   "source": [
    "export_df[export_df.date == export_df.date.max()].to_csv(f\"../../data/processed/reservoirs/statewide-latest.csv\", index=False)"
   ]
  }
 ],
 "metadata": {
  "kernelspec": {
   "display_name": "Python 3 (ipykernel)",
   "language": "python",
   "name": "python3"
  },
  "language_info": {
   "codemirror_mode": {
    "name": "ipython",
    "version": 3
   },
   "file_extension": ".py",
   "mimetype": "text/x-python",
   "name": "python",
   "nbconvert_exporter": "python",
   "pygments_lexer": "ipython3",
   "version": "3.9.6"
  }
 },
 "nbformat": 4,
 "nbformat_minor": 5
}
