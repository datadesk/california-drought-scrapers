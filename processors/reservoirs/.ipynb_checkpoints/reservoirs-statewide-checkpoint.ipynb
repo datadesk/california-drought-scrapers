{
 "cells": [
  {
   "cell_type": "code",
   "execution_count": 141,
   "id": "a8f68e43-feaa-4996-8d5a-ecc52ce8bf66",
   "metadata": {},
   "outputs": [],
   "source": [
    "import pytz\n",
    "from datetime import datetime, date, timedelta\n",
    "from time import strptime\n",
    "import pandas as pd\n",
    "import altair as alt\n",
    "import altair_latimes as lat"
   ]
  },
  {
   "cell_type": "code",
   "execution_count": 112,
   "id": "7f08691a-275f-4165-b2a5-dc7a70e2c3a6",
   "metadata": {},
   "outputs": [
    {
     "data": {
      "text/plain": [
       "ThemeRegistry.enable('latimes')"
      ]
     },
     "execution_count": 112,
     "metadata": {},
     "output_type": "execute_result"
    }
   ],
   "source": [
    "alt.themes.register('latimes', lat.theme)\n",
    "alt.themes.enable('latimes')"
   ]
  },
  {
   "cell_type": "code",
   "execution_count": 113,
   "id": "154fda82-e6f3-4a42-86c8-578b4fc0d2cb",
   "metadata": {},
   "outputs": [],
   "source": [
    "pd.set_option('display.float_format', lambda x: '%.3f' % x)"
   ]
  },
  {
   "cell_type": "markdown",
   "id": "0cfcb7f3-6169-489d-a054-1b801988d626",
   "metadata": {},
   "source": [
    "### Import"
   ]
  },
  {
   "cell_type": "code",
   "execution_count": 114,
   "id": "81973009-6e4c-4b44-8db8-17ec118ecd88",
   "metadata": {},
   "outputs": [],
   "source": [
    "df = pd.read_csv(\n",
    "    \"../../data/raw/reservoirs/statewide/timeseries.csv\", \n",
    "    parse_dates=[\"DATE TIME\", \"OBS DATE\"]\n",
    ")"
   ]
  },
  {
   "cell_type": "code",
   "execution_count": 134,
   "id": "592ce46b-5c36-44bb-94cd-4a2ad733a55c",
   "metadata": {},
   "outputs": [],
   "source": [
    "hist_df = pd.read_csv(\n",
    "    \"../../data/metadata/reservoirs-statewide-historical-averages.csv\",\n",
    "    dtype={\"month\":str}\n",
    ")"
   ]
  },
  {
   "cell_type": "code",
   "execution_count": 116,
   "id": "284a5f3e-4391-4685-808d-f40e64511e7b",
   "metadata": {},
   "outputs": [],
   "source": [
    "details_df = pd.read_csv(\n",
    "    \"../../data/metadata/reservoirs-statewide-details.csv\"\n",
    ")"
   ]
  },
  {
   "cell_type": "markdown",
   "id": "66364b79-8a94-4d02-abfa-9a83aabf5d27",
   "metadata": {},
   "source": [
    "### Clean"
   ]
  },
  {
   "cell_type": "code",
   "execution_count": 117,
   "id": "7b763bc7-8495-424c-8e82-916bdde9e4b3",
   "metadata": {},
   "outputs": [
    {
     "name": "stdout",
     "output_type": "stream",
     "text": [
      "<class 'pandas.core.frame.DataFrame'>\n",
      "RangeIndex: 589 entries, 0 to 588\n",
      "Data columns (total 9 columns):\n",
      " #   Column         Non-Null Count  Dtype         \n",
      "---  ------         --------------  -----         \n",
      " 0   STATION_ID     589 non-null    object        \n",
      " 1   DURATION       589 non-null    object        \n",
      " 2   SENSOR_NUMBER  589 non-null    int64         \n",
      " 3   SENSOR_TYPE    589 non-null    object        \n",
      " 4   DATE TIME      589 non-null    datetime64[ns]\n",
      " 5   OBS DATE       589 non-null    datetime64[ns]\n",
      " 6   VALUE          589 non-null    object        \n",
      " 7   DATA_FLAG      589 non-null    object        \n",
      " 8   UNITS          589 non-null    object        \n",
      "dtypes: datetime64[ns](2), int64(1), object(6)\n",
      "memory usage: 41.5+ KB\n"
     ]
    }
   ],
   "source": [
    "df.info()"
   ]
  },
  {
   "cell_type": "code",
   "execution_count": 118,
   "id": "3bcf2dc4-c020-41b4-becf-3e4c43c425d1",
   "metadata": {},
   "outputs": [],
   "source": [
    "df.columns = df.columns.str.lower()"
   ]
  },
  {
   "cell_type": "code",
   "execution_count": 119,
   "id": "2e0088a1-012e-474f-b5da-fb9fdfe75b78",
   "metadata": {},
   "outputs": [],
   "source": [
    "df.columns = df.columns.str.replace(\" \",\"_\")"
   ]
  },
  {
   "cell_type": "code",
   "execution_count": 120,
   "id": "5b1ca206-03bd-4d33-b39b-689a4c971190",
   "metadata": {},
   "outputs": [],
   "source": [
    "df = df.rename(columns={\n",
    "    \"station_id\": \"reservoir_id\",\n",
    "    \"date_time\": \"date\",\n",
    "    \"value\": \"storage_af\"\n",
    "})"
   ]
  },
  {
   "cell_type": "code",
   "execution_count": 121,
   "id": "4e6a14c2-d68d-493f-b1dc-d661daf767a0",
   "metadata": {},
   "outputs": [
    {
     "data": {
      "text/plain": [
       "datetime.date(2023, 5, 12)"
      ]
     },
     "execution_count": 121,
     "metadata": {},
     "output_type": "execute_result"
    }
   ],
   "source": [
    "today = datetime.today().date()\n",
    "today"
   ]
  },
  {
   "cell_type": "code",
   "execution_count": 122,
   "id": "d4251a60-17aa-4800-a264-ac4aa12108e8",
   "metadata": {},
   "outputs": [
    {
     "data": {
      "text/plain": [
       "datetime.date(2022, 5, 12)"
      ]
     },
     "execution_count": 122,
     "metadata": {},
     "output_type": "execute_result"
    }
   ],
   "source": [
    "last_year = (today - pd.DateOffset(days=365)).date()\n",
    "last_year"
   ]
  },
  {
   "cell_type": "markdown",
   "id": "6e2b1339-0073-4694-aadc-bbf8fc9ecad9",
   "metadata": {},
   "source": [
    "Trim to last 365 days and remove invalid values"
   ]
  },
  {
   "cell_type": "code",
   "execution_count": 123,
   "id": "960d3458-da8d-451b-9839-f238fdc9c9f6",
   "metadata": {},
   "outputs": [
    {
     "name": "stderr",
     "output_type": "stream",
     "text": [
      "/var/folders/7p/v902smb50m50mm_swb_lj1rh0000gn/T/ipykernel_72887/3093786607.py:1: UserWarning: Boolean Series key will be reindexed to match DataFrame index.\n",
      "  trim_df = df[\n"
     ]
    }
   ],
   "source": [
    "trim_df = df[\n",
    "    (df.date >= pd.to_datetime(last_year))\n",
    "][ (df.storage_af != \"---\") ].copy()"
   ]
  },
  {
   "cell_type": "markdown",
   "id": "45bdc35a-8e5f-43e8-9b3a-9078e6a1158a",
   "metadata": {},
   "source": [
    "### Merge historical average"
   ]
  },
  {
   "cell_type": "markdown",
   "id": "f193e506-35eb-49d8-8110-43ac386fe12b",
   "metadata": {},
   "source": [
    "Create month column for merging"
   ]
  },
  {
   "cell_type": "code",
   "execution_count": 125,
   "id": "5c5019e6-921a-43a1-a610-16c64e9840a5",
   "metadata": {},
   "outputs": [],
   "source": [
    "trim_df[\"month\"] = pd.DatetimeIndex(trim_df.date).month"
   ]
  },
  {
   "cell_type": "code",
   "execution_count": 191,
   "id": "001eb303-aa04-4f9e-bb21-bb2f0b2a4f0f",
   "metadata": {},
   "outputs": [],
   "source": [
    "hist_df = hist_df.drop(columns=\"month\", axis=1).rename(columns={\"month_int\":\"month\"})"
   ]
  },
  {
   "cell_type": "code",
   "execution_count": 193,
   "id": "95736606-342f-46c9-857b-0b6ce266382a",
   "metadata": {},
   "outputs": [
    {
     "data": {
      "text/html": [
       "<div>\n",
       "<style scoped>\n",
       "    .dataframe tbody tr th:only-of-type {\n",
       "        vertical-align: middle;\n",
       "    }\n",
       "\n",
       "    .dataframe tbody tr th {\n",
       "        vertical-align: top;\n",
       "    }\n",
       "\n",
       "    .dataframe thead th {\n",
       "        text-align: right;\n",
       "    }\n",
       "</style>\n",
       "<table border=\"1\" class=\"dataframe\">\n",
       "  <thead>\n",
       "    <tr style=\"text-align: right;\">\n",
       "      <th></th>\n",
       "      <th>average_storage</th>\n",
       "      <th>reservoir_id</th>\n",
       "      <th>month</th>\n",
       "    </tr>\n",
       "  </thead>\n",
       "  <tbody>\n",
       "    <tr>\n",
       "      <th>0</th>\n",
       "      <td>22749071.000</td>\n",
       "      <td>SWV</td>\n",
       "      <td>1</td>\n",
       "    </tr>\n",
       "    <tr>\n",
       "      <th>1</th>\n",
       "      <td>24230378.000</td>\n",
       "      <td>SWV</td>\n",
       "      <td>2</td>\n",
       "    </tr>\n",
       "    <tr>\n",
       "      <th>2</th>\n",
       "      <td>26128851.000</td>\n",
       "      <td>SWV</td>\n",
       "      <td>3</td>\n",
       "    </tr>\n",
       "    <tr>\n",
       "      <th>3</th>\n",
       "      <td>27631605.000</td>\n",
       "      <td>SWV</td>\n",
       "      <td>4</td>\n",
       "    </tr>\n",
       "    <tr>\n",
       "      <th>4</th>\n",
       "      <td>28861161.000</td>\n",
       "      <td>SWV</td>\n",
       "      <td>5</td>\n",
       "    </tr>\n",
       "    <tr>\n",
       "      <th>5</th>\n",
       "      <td>27902990.000</td>\n",
       "      <td>SWV</td>\n",
       "      <td>6</td>\n",
       "    </tr>\n",
       "    <tr>\n",
       "      <th>6</th>\n",
       "      <td>25292026.000</td>\n",
       "      <td>SWV</td>\n",
       "      <td>7</td>\n",
       "    </tr>\n",
       "    <tr>\n",
       "      <th>7</th>\n",
       "      <td>22758905.000</td>\n",
       "      <td>SWV</td>\n",
       "      <td>8</td>\n",
       "    </tr>\n",
       "    <tr>\n",
       "      <th>8</th>\n",
       "      <td>21229285.000</td>\n",
       "      <td>SWV</td>\n",
       "      <td>9</td>\n",
       "    </tr>\n",
       "    <tr>\n",
       "      <th>9</th>\n",
       "      <td>20045128.000</td>\n",
       "      <td>SWV</td>\n",
       "      <td>10</td>\n",
       "    </tr>\n",
       "    <tr>\n",
       "      <th>10</th>\n",
       "      <td>19903674.000</td>\n",
       "      <td>SWV</td>\n",
       "      <td>11</td>\n",
       "    </tr>\n",
       "    <tr>\n",
       "      <th>11</th>\n",
       "      <td>20995058.000</td>\n",
       "      <td>SWV</td>\n",
       "      <td>12</td>\n",
       "    </tr>\n",
       "  </tbody>\n",
       "</table>\n",
       "</div>"
      ],
      "text/plain": [
       "    average_storage reservoir_id  month\n",
       "0      22749071.000          SWV      1\n",
       "1      24230378.000          SWV      2\n",
       "2      26128851.000          SWV      3\n",
       "3      27631605.000          SWV      4\n",
       "4      28861161.000          SWV      5\n",
       "5      27902990.000          SWV      6\n",
       "6      25292026.000          SWV      7\n",
       "7      22758905.000          SWV      8\n",
       "8      21229285.000          SWV      9\n",
       "9      20045128.000          SWV     10\n",
       "10     19903674.000          SWV     11\n",
       "11     20995058.000          SWV     12"
      ]
     },
     "execution_count": 193,
     "metadata": {},
     "output_type": "execute_result"
    }
   ],
   "source": [
    "hist_df"
   ]
  },
  {
   "cell_type": "code",
   "execution_count": 194,
   "id": "2aa5e555-78f7-46d7-ae10-a480eb8b1cfe",
   "metadata": {},
   "outputs": [],
   "source": [
    "merge_historical = pd.merge(\n",
    "    trim_df[[\"reservoir_id\",\"date\",\"month\",\"storage_af\"]],\n",
    "    hist_df[[\"reservoir_id\", \"month\", \"average_storage\"]],\n",
    "    how=\"left\",\n",
    "    left_on=[\"reservoir_id\",\"month\"],\n",
    "    right_on=[\"reservoir_id\",\"month\"]\n",
    ")"
   ]
  },
  {
   "cell_type": "code",
   "execution_count": 195,
   "id": "c84fe492-1e78-4498-a85b-88380620fa20",
   "metadata": {},
   "outputs": [],
   "source": [
    "merge_details = pd.merge(\n",
    "    merge_historical,\n",
    "    details_df[[\"reservoir_id\", \"lake_name\", \"capacity\", \"number_of_dams\"]],\n",
    "    how=\"left\",\n",
    "    on=[\"reservoir_id\"]               \n",
    ")"
   ]
  },
  {
   "cell_type": "code",
   "execution_count": 196,
   "id": "e572ba7c-95e1-4bf4-ab94-7c96b6577770",
   "metadata": {},
   "outputs": [],
   "source": [
    "merge_details.loc[merge_details.lake_name == \"Total\", \"lake_name\"] = \"Statewide\""
   ]
  },
  {
   "cell_type": "markdown",
   "id": "a9200178-e440-4545-99ea-0fc81e7182b4",
   "metadata": {},
   "source": [
    "### Calculate percentages"
   ]
  },
  {
   "cell_type": "code",
   "execution_count": 197,
   "id": "742b435b-f02e-4e94-b813-5ba454f97340",
   "metadata": {},
   "outputs": [],
   "source": [
    "merge_details[\"storage_af\"] = merge_details[\"storage_af\"].astype(int)"
   ]
  },
  {
   "cell_type": "code",
   "execution_count": 198,
   "id": "425b72be-98c0-4b15-9222-664b29588e2c",
   "metadata": {},
   "outputs": [],
   "source": [
    "merge_details[\"current_level_pct_of_total\"] = merge_details[\"storage_af\"] / merge_details[\"capacity\"]"
   ]
  },
  {
   "cell_type": "code",
   "execution_count": 199,
   "id": "86c5850e-6f00-4087-8ea7-d9dbae910a39",
   "metadata": {},
   "outputs": [],
   "source": [
    "merge_details[\"average_level_pct_of_total\"] = merge_details[\"average_storage\"] / merge_details[\"capacity\"]"
   ]
  },
  {
   "cell_type": "code",
   "execution_count": 200,
   "id": "787733db-9e5d-445d-a4db-a4f4f558c77d",
   "metadata": {},
   "outputs": [],
   "source": [
    "merge_details[\"current_level_pct_of_avg\"] = merge_details[\"storage_af\"] / merge_details[\"average_storage\"]"
   ]
  },
  {
   "cell_type": "code",
   "execution_count": 226,
   "id": "7eabd514-0b49-4abb-b65f-aeca360c544a",
   "metadata": {},
   "outputs": [
    {
     "data": {
      "text/html": [
       "<div>\n",
       "<style scoped>\n",
       "    .dataframe tbody tr th:only-of-type {\n",
       "        vertical-align: middle;\n",
       "    }\n",
       "\n",
       "    .dataframe tbody tr th {\n",
       "        vertical-align: top;\n",
       "    }\n",
       "\n",
       "    .dataframe thead th {\n",
       "        text-align: right;\n",
       "    }\n",
       "</style>\n",
       "<table border=\"1\" class=\"dataframe\">\n",
       "  <thead>\n",
       "    <tr style=\"text-align: right;\">\n",
       "      <th></th>\n",
       "      <th>reservoir_id</th>\n",
       "      <th>date</th>\n",
       "      <th>month</th>\n",
       "      <th>storage_af</th>\n",
       "      <th>average_storage</th>\n",
       "      <th>lake_name</th>\n",
       "      <th>capacity</th>\n",
       "      <th>number_of_dams</th>\n",
       "      <th>current_level_pct_of_total</th>\n",
       "      <th>average_level_pct_of_total</th>\n",
       "      <th>current_level_pct_of_avg</th>\n",
       "    </tr>\n",
       "  </thead>\n",
       "  <tbody>\n",
       "    <tr>\n",
       "      <th>0</th>\n",
       "      <td>SWV</td>\n",
       "      <td>2022-05-12</td>\n",
       "      <td>5</td>\n",
       "      <td>20100000</td>\n",
       "      <td>28861161.000</td>\n",
       "      <td>Statewide</td>\n",
       "      <td>38121900</td>\n",
       "      <td>154</td>\n",
       "      <td>0.527</td>\n",
       "      <td>0.757</td>\n",
       "      <td>0.696</td>\n",
       "    </tr>\n",
       "    <tr>\n",
       "      <th>1</th>\n",
       "      <td>SWV</td>\n",
       "      <td>2022-05-13</td>\n",
       "      <td>5</td>\n",
       "      <td>20100000</td>\n",
       "      <td>28861161.000</td>\n",
       "      <td>Statewide</td>\n",
       "      <td>38121900</td>\n",
       "      <td>154</td>\n",
       "      <td>0.527</td>\n",
       "      <td>0.757</td>\n",
       "      <td>0.696</td>\n",
       "    </tr>\n",
       "    <tr>\n",
       "      <th>2</th>\n",
       "      <td>SWV</td>\n",
       "      <td>2022-05-14</td>\n",
       "      <td>5</td>\n",
       "      <td>20100000</td>\n",
       "      <td>28861161.000</td>\n",
       "      <td>Statewide</td>\n",
       "      <td>38121900</td>\n",
       "      <td>154</td>\n",
       "      <td>0.527</td>\n",
       "      <td>0.757</td>\n",
       "      <td>0.696</td>\n",
       "    </tr>\n",
       "    <tr>\n",
       "      <th>3</th>\n",
       "      <td>SWV</td>\n",
       "      <td>2022-05-15</td>\n",
       "      <td>5</td>\n",
       "      <td>20100000</td>\n",
       "      <td>28861161.000</td>\n",
       "      <td>Statewide</td>\n",
       "      <td>38121900</td>\n",
       "      <td>154</td>\n",
       "      <td>0.527</td>\n",
       "      <td>0.757</td>\n",
       "      <td>0.696</td>\n",
       "    </tr>\n",
       "    <tr>\n",
       "      <th>4</th>\n",
       "      <td>SWV</td>\n",
       "      <td>2022-05-16</td>\n",
       "      <td>5</td>\n",
       "      <td>20100000</td>\n",
       "      <td>28861161.000</td>\n",
       "      <td>Statewide</td>\n",
       "      <td>38121900</td>\n",
       "      <td>154</td>\n",
       "      <td>0.527</td>\n",
       "      <td>0.757</td>\n",
       "      <td>0.696</td>\n",
       "    </tr>\n",
       "    <tr>\n",
       "      <th>...</th>\n",
       "      <td>...</td>\n",
       "      <td>...</td>\n",
       "      <td>...</td>\n",
       "      <td>...</td>\n",
       "      <td>...</td>\n",
       "      <td>...</td>\n",
       "      <td>...</td>\n",
       "      <td>...</td>\n",
       "      <td>...</td>\n",
       "      <td>...</td>\n",
       "      <td>...</td>\n",
       "    </tr>\n",
       "    <tr>\n",
       "      <th>359</th>\n",
       "      <td>SWV</td>\n",
       "      <td>2023-05-06</td>\n",
       "      <td>5</td>\n",
       "      <td>29300000</td>\n",
       "      <td>28861161.000</td>\n",
       "      <td>Statewide</td>\n",
       "      <td>38121900</td>\n",
       "      <td>154</td>\n",
       "      <td>0.769</td>\n",
       "      <td>0.757</td>\n",
       "      <td>1.015</td>\n",
       "    </tr>\n",
       "    <tr>\n",
       "      <th>360</th>\n",
       "      <td>SWV</td>\n",
       "      <td>2023-05-07</td>\n",
       "      <td>5</td>\n",
       "      <td>29300000</td>\n",
       "      <td>28861161.000</td>\n",
       "      <td>Statewide</td>\n",
       "      <td>38121900</td>\n",
       "      <td>154</td>\n",
       "      <td>0.769</td>\n",
       "      <td>0.757</td>\n",
       "      <td>1.015</td>\n",
       "    </tr>\n",
       "    <tr>\n",
       "      <th>361</th>\n",
       "      <td>SWV</td>\n",
       "      <td>2023-05-08</td>\n",
       "      <td>5</td>\n",
       "      <td>29400000</td>\n",
       "      <td>28861161.000</td>\n",
       "      <td>Statewide</td>\n",
       "      <td>38121900</td>\n",
       "      <td>154</td>\n",
       "      <td>0.771</td>\n",
       "      <td>0.757</td>\n",
       "      <td>1.019</td>\n",
       "    </tr>\n",
       "    <tr>\n",
       "      <th>362</th>\n",
       "      <td>SWV</td>\n",
       "      <td>2023-05-09</td>\n",
       "      <td>5</td>\n",
       "      <td>29300000</td>\n",
       "      <td>28861161.000</td>\n",
       "      <td>Statewide</td>\n",
       "      <td>38121900</td>\n",
       "      <td>154</td>\n",
       "      <td>0.769</td>\n",
       "      <td>0.757</td>\n",
       "      <td>1.015</td>\n",
       "    </tr>\n",
       "    <tr>\n",
       "      <th>363</th>\n",
       "      <td>SWV</td>\n",
       "      <td>2023-05-10</td>\n",
       "      <td>5</td>\n",
       "      <td>29300000</td>\n",
       "      <td>28861161.000</td>\n",
       "      <td>Statewide</td>\n",
       "      <td>38121900</td>\n",
       "      <td>154</td>\n",
       "      <td>0.769</td>\n",
       "      <td>0.757</td>\n",
       "      <td>1.015</td>\n",
       "    </tr>\n",
       "  </tbody>\n",
       "</table>\n",
       "<p>364 rows × 11 columns</p>\n",
       "</div>"
      ],
      "text/plain": [
       "    reservoir_id       date  month  storage_af  average_storage  lake_name  \\\n",
       "0            SWV 2022-05-12      5    20100000     28861161.000  Statewide   \n",
       "1            SWV 2022-05-13      5    20100000     28861161.000  Statewide   \n",
       "2            SWV 2022-05-14      5    20100000     28861161.000  Statewide   \n",
       "3            SWV 2022-05-15      5    20100000     28861161.000  Statewide   \n",
       "4            SWV 2022-05-16      5    20100000     28861161.000  Statewide   \n",
       "..           ...        ...    ...         ...              ...        ...   \n",
       "359          SWV 2023-05-06      5    29300000     28861161.000  Statewide   \n",
       "360          SWV 2023-05-07      5    29300000     28861161.000  Statewide   \n",
       "361          SWV 2023-05-08      5    29400000     28861161.000  Statewide   \n",
       "362          SWV 2023-05-09      5    29300000     28861161.000  Statewide   \n",
       "363          SWV 2023-05-10      5    29300000     28861161.000  Statewide   \n",
       "\n",
       "     capacity  number_of_dams  current_level_pct_of_total  \\\n",
       "0    38121900             154                       0.527   \n",
       "1    38121900             154                       0.527   \n",
       "2    38121900             154                       0.527   \n",
       "3    38121900             154                       0.527   \n",
       "4    38121900             154                       0.527   \n",
       "..        ...             ...                         ...   \n",
       "359  38121900             154                       0.769   \n",
       "360  38121900             154                       0.769   \n",
       "361  38121900             154                       0.771   \n",
       "362  38121900             154                       0.769   \n",
       "363  38121900             154                       0.769   \n",
       "\n",
       "     average_level_pct_of_total  current_level_pct_of_avg  \n",
       "0                         0.757                     0.696  \n",
       "1                         0.757                     0.696  \n",
       "2                         0.757                     0.696  \n",
       "3                         0.757                     0.696  \n",
       "4                         0.757                     0.696  \n",
       "..                          ...                       ...  \n",
       "359                       0.757                     1.015  \n",
       "360                       0.757                     1.015  \n",
       "361                       0.757                     1.019  \n",
       "362                       0.757                     1.015  \n",
       "363                       0.757                     1.015  \n",
       "\n",
       "[364 rows x 11 columns]"
      ]
     },
     "execution_count": 226,
     "metadata": {},
     "output_type": "execute_result"
    }
   ],
   "source": [
    "merge_details"
   ]
  },
  {
   "cell_type": "code",
   "execution_count": 231,
   "id": "7e181eeb-82c6-49e4-a6d4-e398860fb852",
   "metadata": {},
   "outputs": [],
   "source": [
    "melt=pd.melt(\n",
    "    merge_details, \n",
    "    id_vars=\"date\", \n",
    "    value_vars=[\"current_level_pct_of_total\", \"average_level_pct_of_total\"]\n",
    ")"
   ]
  },
  {
   "cell_type": "code",
   "execution_count": 234,
   "id": "8f0e1478-cfcd-4249-b7fc-1885942d80cd",
   "metadata": {},
   "outputs": [
    {
     "data": {
      "text/html": [
       "\n",
       "<div id=\"altair-viz-6215799ea2464c57a39d96f1487631db\"></div>\n",
       "<script type=\"text/javascript\">\n",
       "  var VEGA_DEBUG = (typeof VEGA_DEBUG == \"undefined\") ? {} : VEGA_DEBUG;\n",
       "  (function(spec, embedOpt){\n",
       "    let outputDiv = document.currentScript.previousElementSibling;\n",
       "    if (outputDiv.id !== \"altair-viz-6215799ea2464c57a39d96f1487631db\") {\n",
       "      outputDiv = document.getElementById(\"altair-viz-6215799ea2464c57a39d96f1487631db\");\n",
       "    }\n",
       "    const paths = {\n",
       "      \"vega\": \"https://cdn.jsdelivr.net/npm//vega@5?noext\",\n",
       "      \"vega-lib\": \"https://cdn.jsdelivr.net/npm//vega-lib?noext\",\n",
       "      \"vega-lite\": \"https://cdn.jsdelivr.net/npm//vega-lite@4.17.0?noext\",\n",
       "      \"vega-embed\": \"https://cdn.jsdelivr.net/npm//vega-embed@6?noext\",\n",
       "    };\n",
       "\n",
       "    function maybeLoadScript(lib, version) {\n",
       "      var key = `${lib.replace(\"-\", \"\")}_version`;\n",
       "      return (VEGA_DEBUG[key] == version) ?\n",
       "        Promise.resolve(paths[lib]) :\n",
       "        new Promise(function(resolve, reject) {\n",
       "          var s = document.createElement('script');\n",
       "          document.getElementsByTagName(\"head\")[0].appendChild(s);\n",
       "          s.async = true;\n",
       "          s.onload = () => {\n",
       "            VEGA_DEBUG[key] = version;\n",
       "            return resolve(paths[lib]);\n",
       "          };\n",
       "          s.onerror = () => reject(`Error loading script: ${paths[lib]}`);\n",
       "          s.src = paths[lib];\n",
       "        });\n",
       "    }\n",
       "\n",
       "    function showError(err) {\n",
       "      outputDiv.innerHTML = `<div class=\"error\" style=\"color:red;\">${err}</div>`;\n",
       "      throw err;\n",
       "    }\n",
       "\n",
       "    function displayChart(vegaEmbed) {\n",
       "      vegaEmbed(outputDiv, spec, embedOpt)\n",
       "        .catch(err => showError(`Javascript Error: ${err.message}<br>This usually means there's a typo in your chart specification. See the javascript console for the full traceback.`));\n",
       "    }\n",
       "\n",
       "    if(typeof define === \"function\" && define.amd) {\n",
       "      requirejs.config({paths});\n",
       "      require([\"vega-embed\"], displayChart, err => showError(`Error loading script: ${err.message}`));\n",
       "    } else {\n",
       "      maybeLoadScript(\"vega\", \"5\")\n",
       "        .then(() => maybeLoadScript(\"vega-lite\", \"4.17.0\"))\n",
       "        .then(() => maybeLoadScript(\"vega-embed\", \"6\"))\n",
       "        .catch(showError)\n",
       "        .then(() => displayChart(vegaEmbed));\n",
       "    }\n",
       "  })({\"config\": {\"view\": {\"width\": 800, \"height\": 450}, \"background\": \"#ffffff\", \"title\": {\"anchor\": \"start\", \"font\": \"BentonGothic-Bold, sans\", \"fontColor\": \"#000000\", \"fontSize\": 22, \"fontWeight\": \"normal\"}, \"arc\": {\"fill\": \"#82c6df\"}, \"area\": {\"fill\": \"#82c6df\"}, \"line\": {\"stroke\": \"#82c6df\", \"strokeWidth\": 3}, \"path\": {\"stroke\": \"#82c6df\"}, \"rect\": {\"fill\": \"#82c6df\"}, \"shape\": {\"stroke\": \"#82c6df\"}, \"bar\": {\"fill\": \"#82c6df\"}, \"point\": {\"stroke\": \"#82c6df\"}, \"symbol\": {\"fill\": \"#82c6df\", \"size\": 30}, \"axis\": {\"titleFont\": \"BentonGothic-Bold, sans\", \"titleFontSize\": 14, \"titleFontWeight\": \"normal\", \"labelFont\": \"BentonGothic, sans\", \"labelFontSize\": 12, \"labelFontWeight\": \"normal\"}, \"axisX\": {\"labelAngle\": 0, \"labelPadding\": 4, \"tickSize\": 3}, \"axisY\": {\"labelBaseline\": \"middle\", \"maxExtent\": 45, \"minExtent\": 45, \"tickSize\": 2, \"titleAlign\": \"left\", \"titleAngle\": 0, \"titleX\": -45, \"titleY\": -11}, \"legend\": {\"titleFont\": \"BentonGothic-Bold, sans\", \"titleFontSize\": 14, \"titleFontWeight\": \"normal\", \"symbolType\": \"square\", \"labelFont\": \"BentonGothic, sans\", \"labelFontSize\": 13}, \"range\": {\"category\": [\"#3580b1\", \"#ec8431\", \"#ab7fb4\", \"#c89d29\", \"#adc839\", \"#829eb1\"], \"diverging\": [\"#e68a4f\", \"#f4bb6a\", \"#f9e39c\", \"#dadfe2\", \"#a6b7c6\", \"#849eae\"], \"heatmap\": [\"#fbf2c7\", \"#f9e39c\", \"#f8d36e\", \"#f4bb6a\", \"#e68a4f\", \"#d15a40\", \"#ab4232\"], \"ordinal\": [\"#fbf2c7\", \"#f9e39c\", \"#f8d36e\", \"#f4bb6a\", \"#e68a4f\", \"#d15a40\", \"#ab4232\"], \"ramp\": [\"#fbf2c7\", \"#f9e39c\", \"#f8d36e\", \"#f4bb6a\", \"#e68a4f\", \"#d15a40\", \"#ab4232\"]}}, \"data\": {\"name\": \"data-b25bb8ec91f0df9c23583dcb25a00733\"}, \"mark\": \"line\", \"encoding\": {\"color\": {\"field\": \"variable\", \"type\": \"nominal\"}, \"x\": {\"field\": \"date\", \"type\": \"temporal\"}, \"y\": {\"field\": \"value\", \"type\": \"quantitative\"}}, \"width\": 600, \"$schema\": \"https://vega.github.io/schema/vega-lite/v4.17.0.json\", \"datasets\": {\"data-b25bb8ec91f0df9c23583dcb25a00733\": [{\"date\": \"2022-05-12T00:00:00\", \"variable\": \"current_level_pct_of_total\", \"value\": 0.5272559867162969}, {\"date\": \"2022-05-13T00:00:00\", \"variable\": \"current_level_pct_of_total\", \"value\": 0.5272559867162969}, {\"date\": \"2022-05-14T00:00:00\", \"variable\": \"current_level_pct_of_total\", \"value\": 0.5272559867162969}, {\"date\": \"2022-05-15T00:00:00\", \"variable\": \"current_level_pct_of_total\", \"value\": 0.5272559867162969}, {\"date\": \"2022-05-16T00:00:00\", \"variable\": \"current_level_pct_of_total\", \"value\": 0.5272559867162969}, {\"date\": \"2022-05-17T00:00:00\", \"variable\": \"current_level_pct_of_total\", \"value\": 0.5272559867162969}, {\"date\": \"2022-05-18T00:00:00\", \"variable\": \"current_level_pct_of_total\", \"value\": 0.5298791508293134}, {\"date\": \"2022-05-19T00:00:00\", \"variable\": \"current_level_pct_of_total\", \"value\": 0.5298791508293134}, {\"date\": \"2022-05-20T00:00:00\", \"variable\": \"current_level_pct_of_total\", \"value\": 0.5298791508293134}, {\"date\": \"2022-05-21T00:00:00\", \"variable\": \"current_level_pct_of_total\", \"value\": 0.5325023149423297}, {\"date\": \"2022-05-22T00:00:00\", \"variable\": \"current_level_pct_of_total\", \"value\": 0.5325023149423297}, {\"date\": \"2022-05-23T00:00:00\", \"variable\": \"current_level_pct_of_total\", \"value\": 0.5325023149423297}, {\"date\": \"2022-05-24T00:00:00\", \"variable\": \"current_level_pct_of_total\", \"value\": 0.5325023149423297}, {\"date\": \"2022-05-25T00:00:00\", \"variable\": \"current_level_pct_of_total\", \"value\": 0.5325023149423297}, {\"date\": \"2022-05-26T00:00:00\", \"variable\": \"current_level_pct_of_total\", \"value\": 0.5325023149423297}, {\"date\": \"2022-05-27T00:00:00\", \"variable\": \"current_level_pct_of_total\", \"value\": 0.5351254790553461}, {\"date\": \"2022-05-28T00:00:00\", \"variable\": \"current_level_pct_of_total\", \"value\": 0.5351254790553461}, {\"date\": \"2022-05-29T00:00:00\", \"variable\": \"current_level_pct_of_total\", \"value\": 0.5351254790553461}, {\"date\": \"2022-05-30T00:00:00\", \"variable\": \"current_level_pct_of_total\", \"value\": 0.5351254790553461}, {\"date\": \"2022-05-31T00:00:00\", \"variable\": \"current_level_pct_of_total\", \"value\": 0.5325023149423297}, {\"date\": \"2022-06-01T00:00:00\", \"variable\": \"current_level_pct_of_total\", \"value\": 0.5325023149423297}, {\"date\": \"2022-06-02T00:00:00\", \"variable\": \"current_level_pct_of_total\", \"value\": 0.5325023149423297}, {\"date\": \"2022-06-03T00:00:00\", \"variable\": \"current_level_pct_of_total\", \"value\": 0.5325023149423297}, {\"date\": \"2022-06-04T00:00:00\", \"variable\": \"current_level_pct_of_total\", \"value\": 0.5325023149423297}, {\"date\": \"2022-06-05T00:00:00\", \"variable\": \"current_level_pct_of_total\", \"value\": 0.5325023149423297}, {\"date\": \"2022-06-06T00:00:00\", \"variable\": \"current_level_pct_of_total\", \"value\": 0.5325023149423297}, {\"date\": \"2022-06-07T00:00:00\", \"variable\": \"current_level_pct_of_total\", \"value\": 0.5325023149423297}, {\"date\": \"2022-06-08T00:00:00\", \"variable\": \"current_level_pct_of_total\", \"value\": 0.5325023149423297}, {\"date\": \"2022-06-09T00:00:00\", \"variable\": \"current_level_pct_of_total\", \"value\": 0.5298791508293134}, {\"date\": \"2022-06-10T00:00:00\", \"variable\": \"current_level_pct_of_total\", \"value\": 0.5298791508293134}, {\"date\": \"2022-06-11T00:00:00\", \"variable\": \"current_level_pct_of_total\", \"value\": 0.5298791508293134}, {\"date\": \"2022-06-12T00:00:00\", \"variable\": \"current_level_pct_of_total\", \"value\": 0.5298791508293134}, {\"date\": \"2022-06-13T00:00:00\", \"variable\": \"current_level_pct_of_total\", \"value\": 0.5298791508293134}, {\"date\": \"2022-06-14T00:00:00\", \"variable\": \"current_level_pct_of_total\", \"value\": 0.5272559867162969}, {\"date\": \"2022-06-15T00:00:00\", \"variable\": \"current_level_pct_of_total\", \"value\": 0.5272559867162969}, {\"date\": \"2022-06-16T00:00:00\", \"variable\": \"current_level_pct_of_total\", \"value\": 0.5272559867162969}, {\"date\": \"2022-06-17T00:00:00\", \"variable\": \"current_level_pct_of_total\", \"value\": 0.5246328226032805}, {\"date\": \"2022-06-18T00:00:00\", \"variable\": \"current_level_pct_of_total\", \"value\": 0.5246328226032805}, {\"date\": \"2022-06-19T00:00:00\", \"variable\": \"current_level_pct_of_total\", \"value\": 0.5220096584902642}, {\"date\": \"2022-06-20T00:00:00\", \"variable\": \"current_level_pct_of_total\", \"value\": 0.5193864943772477}, {\"date\": \"2022-06-21T00:00:00\", \"variable\": \"current_level_pct_of_total\", \"value\": 0.5193864943772477}, {\"date\": \"2022-06-22T00:00:00\", \"variable\": \"current_level_pct_of_total\", \"value\": 0.5193864943772477}, {\"date\": \"2022-06-23T00:00:00\", \"variable\": \"current_level_pct_of_total\", \"value\": 0.5167633302642313}, {\"date\": \"2022-06-24T00:00:00\", \"variable\": \"current_level_pct_of_total\", \"value\": 0.5167633302642313}, {\"date\": \"2022-06-25T00:00:00\", \"variable\": \"current_level_pct_of_total\", \"value\": 0.5141401661512149}, {\"date\": \"2022-06-26T00:00:00\", \"variable\": \"current_level_pct_of_total\", \"value\": 0.5141401661512149}, {\"date\": \"2022-06-27T00:00:00\", \"variable\": \"current_level_pct_of_total\", \"value\": 0.5115170020381985}, {\"date\": \"2022-06-28T00:00:00\", \"variable\": \"current_level_pct_of_total\", \"value\": 0.5088938379251822}, {\"date\": \"2022-06-29T00:00:00\", \"variable\": \"current_level_pct_of_total\", \"value\": 0.5088938379251822}, {\"date\": \"2022-06-30T00:00:00\", \"variable\": \"current_level_pct_of_total\", \"value\": 0.5062706738121657}, {\"date\": \"2022-07-01T00:00:00\", \"variable\": \"current_level_pct_of_total\", \"value\": 0.5036475096991493}, {\"date\": \"2022-07-02T00:00:00\", \"variable\": \"current_level_pct_of_total\", \"value\": 0.5036475096991493}, {\"date\": \"2022-07-03T00:00:00\", \"variable\": \"current_level_pct_of_total\", \"value\": 0.501024345586133}, {\"date\": \"2022-07-04T00:00:00\", \"variable\": \"current_level_pct_of_total\", \"value\": 0.4984011814731165}, {\"date\": \"2022-07-05T00:00:00\", \"variable\": \"current_level_pct_of_total\", \"value\": 0.4957780173601001}, {\"date\": \"2022-07-06T00:00:00\", \"variable\": \"current_level_pct_of_total\", \"value\": 0.4957780173601001}, {\"date\": \"2022-07-07T00:00:00\", \"variable\": \"current_level_pct_of_total\", \"value\": 0.4931548532470837}, {\"date\": \"2022-07-08T00:00:00\", \"variable\": \"current_level_pct_of_total\", \"value\": 0.4905316891340673}, {\"date\": \"2022-07-09T00:00:00\", \"variable\": \"current_level_pct_of_total\", \"value\": 0.4905316891340673}, {\"date\": \"2022-07-10T00:00:00\", \"variable\": \"current_level_pct_of_total\", \"value\": 0.48790852502105087}, {\"date\": \"2022-07-11T00:00:00\", \"variable\": \"current_level_pct_of_total\", \"value\": 0.4852853609080345}, {\"date\": \"2022-07-12T00:00:00\", \"variable\": \"current_level_pct_of_total\", \"value\": 0.4852853609080345}, {\"date\": \"2022-07-13T00:00:00\", \"variable\": \"current_level_pct_of_total\", \"value\": 0.4826621967950181}, {\"date\": \"2022-07-14T00:00:00\", \"variable\": \"current_level_pct_of_total\", \"value\": 0.4800390326820017}, {\"date\": \"2022-07-15T00:00:00\", \"variable\": \"current_level_pct_of_total\", \"value\": 0.4800390326820017}, {\"date\": \"2022-07-16T00:00:00\", \"variable\": \"current_level_pct_of_total\", \"value\": 0.47741586856898527}, {\"date\": \"2022-07-17T00:00:00\", \"variable\": \"current_level_pct_of_total\", \"value\": 0.4747927044559689}, {\"date\": \"2022-07-18T00:00:00\", \"variable\": \"current_level_pct_of_total\", \"value\": 0.4747927044559689}, {\"date\": \"2022-07-19T00:00:00\", \"variable\": \"current_level_pct_of_total\", \"value\": 0.4721695403429525}, {\"date\": \"2022-07-20T00:00:00\", \"variable\": \"current_level_pct_of_total\", \"value\": 0.46954637622993606}, {\"date\": \"2022-07-21T00:00:00\", \"variable\": \"current_level_pct_of_total\", \"value\": 0.46954637622993606}, {\"date\": \"2022-07-22T00:00:00\", \"variable\": \"current_level_pct_of_total\", \"value\": 0.4669232121169197}, {\"date\": \"2022-07-23T00:00:00\", \"variable\": \"current_level_pct_of_total\", \"value\": 0.4669232121169197}, {\"date\": \"2022-07-24T00:00:00\", \"variable\": \"current_level_pct_of_total\", \"value\": 0.4643000480039033}, {\"date\": \"2022-07-25T00:00:00\", \"variable\": \"current_level_pct_of_total\", \"value\": 0.46167688389088685}, {\"date\": \"2022-07-26T00:00:00\", \"variable\": \"current_level_pct_of_total\", \"value\": 0.45905371977787046}, {\"date\": \"2022-07-27T00:00:00\", \"variable\": \"current_level_pct_of_total\", \"value\": 0.4564305556648541}, {\"date\": \"2022-07-28T00:00:00\", \"variable\": \"current_level_pct_of_total\", \"value\": 0.4564305556648541}, {\"date\": \"2022-07-29T00:00:00\", \"variable\": \"current_level_pct_of_total\", \"value\": 0.45380739155183764}, {\"date\": \"2022-07-30T00:00:00\", \"variable\": \"current_level_pct_of_total\", \"value\": 0.45380739155183764}, {\"date\": \"2022-07-31T00:00:00\", \"variable\": \"current_level_pct_of_total\", \"value\": 0.45118422743882125}, {\"date\": \"2022-08-01T00:00:00\", \"variable\": \"current_level_pct_of_total\", \"value\": 0.45118422743882125}, {\"date\": \"2022-08-02T00:00:00\", \"variable\": \"current_level_pct_of_total\", \"value\": 0.44856106332580487}, {\"date\": \"2022-08-03T00:00:00\", \"variable\": \"current_level_pct_of_total\", \"value\": 0.44856106332580487}, {\"date\": \"2022-08-04T00:00:00\", \"variable\": \"current_level_pct_of_total\", \"value\": 0.4459378992127884}, {\"date\": \"2022-08-05T00:00:00\", \"variable\": \"current_level_pct_of_total\", \"value\": 0.4459378992127884}, {\"date\": \"2022-08-06T00:00:00\", \"variable\": \"current_level_pct_of_total\", \"value\": 0.44331473509977204}, {\"date\": \"2022-08-07T00:00:00\", \"variable\": \"current_level_pct_of_total\", \"value\": 0.44331473509977204}, {\"date\": \"2022-08-08T00:00:00\", \"variable\": \"current_level_pct_of_total\", \"value\": 0.44069157098675565}, {\"date\": \"2022-08-09T00:00:00\", \"variable\": \"current_level_pct_of_total\", \"value\": 0.44069157098675565}, {\"date\": \"2022-08-10T00:00:00\", \"variable\": \"current_level_pct_of_total\", \"value\": 0.43806840687373927}, {\"date\": \"2022-08-11T00:00:00\", \"variable\": \"current_level_pct_of_total\", \"value\": 0.43544524276072283}, {\"date\": \"2022-08-12T00:00:00\", \"variable\": \"current_level_pct_of_total\", \"value\": 0.43544524276072283}, {\"date\": \"2022-08-13T00:00:00\", \"variable\": \"current_level_pct_of_total\", \"value\": 0.43544524276072283}, {\"date\": \"2022-08-14T00:00:00\", \"variable\": \"current_level_pct_of_total\", \"value\": 0.43282207864770644}, {\"date\": \"2022-08-15T00:00:00\", \"variable\": \"current_level_pct_of_total\", \"value\": 0.43282207864770644}, {\"date\": \"2022-08-16T00:00:00\", \"variable\": \"current_level_pct_of_total\", \"value\": 0.4275757504216736}, {\"date\": \"2022-08-17T00:00:00\", \"variable\": \"current_level_pct_of_total\", \"value\": 0.42495258630865723}, {\"date\": \"2022-08-18T00:00:00\", \"variable\": \"current_level_pct_of_total\", \"value\": 0.42495258630865723}, {\"date\": \"2022-08-19T00:00:00\", \"variable\": \"current_level_pct_of_total\", \"value\": 0.42232942219564085}, {\"date\": \"2022-08-20T00:00:00\", \"variable\": \"current_level_pct_of_total\", \"value\": 0.42232942219564085}, {\"date\": \"2022-08-21T00:00:00\", \"variable\": \"current_level_pct_of_total\", \"value\": 0.42232942219564085}, {\"date\": \"2022-08-22T00:00:00\", \"variable\": \"current_level_pct_of_total\", \"value\": 0.4197062580826244}, {\"date\": \"2022-08-23T00:00:00\", \"variable\": \"current_level_pct_of_total\", \"value\": 0.4197062580826244}, {\"date\": \"2022-08-24T00:00:00\", \"variable\": \"current_level_pct_of_total\", \"value\": 0.4197062580826244}, {\"date\": \"2022-08-25T00:00:00\", \"variable\": \"current_level_pct_of_total\", \"value\": 0.417083093969608}, {\"date\": \"2022-08-26T00:00:00\", \"variable\": \"current_level_pct_of_total\", \"value\": 0.417083093969608}, {\"date\": \"2022-08-27T00:00:00\", \"variable\": \"current_level_pct_of_total\", \"value\": 0.41445992985659164}, {\"date\": \"2022-08-28T00:00:00\", \"variable\": \"current_level_pct_of_total\", \"value\": 0.41445992985659164}, {\"date\": \"2022-08-29T00:00:00\", \"variable\": \"current_level_pct_of_total\", \"value\": 0.4118367657435752}, {\"date\": \"2022-08-30T00:00:00\", \"variable\": \"current_level_pct_of_total\", \"value\": 0.4118367657435752}, {\"date\": \"2022-08-31T00:00:00\", \"variable\": \"current_level_pct_of_total\", \"value\": 0.4092136016305588}, {\"date\": \"2022-09-01T00:00:00\", \"variable\": \"current_level_pct_of_total\", \"value\": 0.4092136016305588}, {\"date\": \"2022-09-02T00:00:00\", \"variable\": \"current_level_pct_of_total\", \"value\": 0.4065904375175424}, {\"date\": \"2022-09-03T00:00:00\", \"variable\": \"current_level_pct_of_total\", \"value\": 0.4065904375175424}, {\"date\": \"2022-09-04T00:00:00\", \"variable\": \"current_level_pct_of_total\", \"value\": 0.403967273404526}, {\"date\": \"2022-09-05T00:00:00\", \"variable\": \"current_level_pct_of_total\", \"value\": 0.403967273404526}, {\"date\": \"2022-09-06T00:00:00\", \"variable\": \"current_level_pct_of_total\", \"value\": 0.4013441092915096}, {\"date\": \"2022-09-07T00:00:00\", \"variable\": \"current_level_pct_of_total\", \"value\": 0.4013441092915096}, {\"date\": \"2022-09-08T00:00:00\", \"variable\": \"current_level_pct_of_total\", \"value\": 0.4013441092915096}, {\"date\": \"2022-09-09T00:00:00\", \"variable\": \"current_level_pct_of_total\", \"value\": 0.3987209451784932}, {\"date\": \"2022-09-10T00:00:00\", \"variable\": \"current_level_pct_of_total\", \"value\": 0.3987209451784932}, {\"date\": \"2022-09-11T00:00:00\", \"variable\": \"current_level_pct_of_total\", \"value\": 0.3960977810654768}, {\"date\": \"2022-09-12T00:00:00\", \"variable\": \"current_level_pct_of_total\", \"value\": 0.3960977810654768}, {\"date\": \"2022-09-13T00:00:00\", \"variable\": \"current_level_pct_of_total\", \"value\": 0.3960977810654768}, {\"date\": \"2022-09-14T00:00:00\", \"variable\": \"current_level_pct_of_total\", \"value\": 0.3934746169524604}, {\"date\": \"2022-09-15T00:00:00\", \"variable\": \"current_level_pct_of_total\", \"value\": 0.3934746169524604}, {\"date\": \"2022-09-16T00:00:00\", \"variable\": \"current_level_pct_of_total\", \"value\": 0.3934746169524604}, {\"date\": \"2022-09-17T00:00:00\", \"variable\": \"current_level_pct_of_total\", \"value\": 0.390851452839444}, {\"date\": \"2022-09-18T00:00:00\", \"variable\": \"current_level_pct_of_total\", \"value\": 0.390851452839444}, {\"date\": \"2022-09-19T00:00:00\", \"variable\": \"current_level_pct_of_total\", \"value\": 0.3934746169524604}, {\"date\": \"2022-09-20T00:00:00\", \"variable\": \"current_level_pct_of_total\", \"value\": 0.3934746169524604}, {\"date\": \"2022-09-21T00:00:00\", \"variable\": \"current_level_pct_of_total\", \"value\": 0.390851452839444}, {\"date\": \"2022-09-22T00:00:00\", \"variable\": \"current_level_pct_of_total\", \"value\": 0.390851452839444}, {\"date\": \"2022-09-23T00:00:00\", \"variable\": \"current_level_pct_of_total\", \"value\": 0.390851452839444}, {\"date\": \"2022-09-24T00:00:00\", \"variable\": \"current_level_pct_of_total\", \"value\": 0.390851452839444}, {\"date\": \"2022-09-25T00:00:00\", \"variable\": \"current_level_pct_of_total\", \"value\": 0.390851452839444}, {\"date\": \"2022-09-26T00:00:00\", \"variable\": \"current_level_pct_of_total\", \"value\": 0.3882282887264276}, {\"date\": \"2022-09-27T00:00:00\", \"variable\": \"current_level_pct_of_total\", \"value\": 0.3882282887264276}, {\"date\": \"2022-09-28T00:00:00\", \"variable\": \"current_level_pct_of_total\", \"value\": 0.3882282887264276}, {\"date\": \"2022-09-29T00:00:00\", \"variable\": \"current_level_pct_of_total\", \"value\": 0.3856051246134112}, {\"date\": \"2022-09-30T00:00:00\", \"variable\": \"current_level_pct_of_total\", \"value\": 0.3829819605003948}, {\"date\": \"2022-10-01T00:00:00\", \"variable\": \"current_level_pct_of_total\", \"value\": 0.3829819605003948}, {\"date\": \"2022-10-02T00:00:00\", \"variable\": \"current_level_pct_of_total\", \"value\": 0.3829819605003948}, {\"date\": \"2022-10-03T00:00:00\", \"variable\": \"current_level_pct_of_total\", \"value\": 0.3829819605003948}, {\"date\": \"2022-10-04T00:00:00\", \"variable\": \"current_level_pct_of_total\", \"value\": 0.3803587963873784}, {\"date\": \"2022-10-05T00:00:00\", \"variable\": \"current_level_pct_of_total\", \"value\": 0.3829819605003948}, {\"date\": \"2022-10-06T00:00:00\", \"variable\": \"current_level_pct_of_total\", \"value\": 0.3829819605003948}, {\"date\": \"2022-10-07T00:00:00\", \"variable\": \"current_level_pct_of_total\", \"value\": 0.3803587963873784}, {\"date\": \"2022-10-08T00:00:00\", \"variable\": \"current_level_pct_of_total\", \"value\": 0.3803587963873784}, {\"date\": \"2022-10-09T00:00:00\", \"variable\": \"current_level_pct_of_total\", \"value\": 0.3803587963873784}, {\"date\": \"2022-10-10T00:00:00\", \"variable\": \"current_level_pct_of_total\", \"value\": 0.37773563227436197}, {\"date\": \"2022-10-11T00:00:00\", \"variable\": \"current_level_pct_of_total\", \"value\": 0.37773563227436197}, {\"date\": \"2022-10-12T00:00:00\", \"variable\": \"current_level_pct_of_total\", \"value\": 0.3724893040483292}, {\"date\": \"2022-10-13T00:00:00\", \"variable\": \"current_level_pct_of_total\", \"value\": 0.36986613993531275}, {\"date\": \"2022-10-14T00:00:00\", \"variable\": \"current_level_pct_of_total\", \"value\": 0.36986613993531275}, {\"date\": \"2022-10-15T00:00:00\", \"variable\": \"current_level_pct_of_total\", \"value\": 0.36986613993531275}, {\"date\": \"2022-10-16T00:00:00\", \"variable\": \"current_level_pct_of_total\", \"value\": 0.36724297582229637}, {\"date\": \"2022-10-17T00:00:00\", \"variable\": \"current_level_pct_of_total\", \"value\": 0.36724297582229637}, {\"date\": \"2022-10-18T00:00:00\", \"variable\": \"current_level_pct_of_total\", \"value\": 0.36461981170928}, {\"date\": \"2022-10-19T00:00:00\", \"variable\": \"current_level_pct_of_total\", \"value\": 0.36461981170928}, {\"date\": \"2022-10-20T00:00:00\", \"variable\": \"current_level_pct_of_total\", \"value\": 0.36199664759626354}, {\"date\": \"2022-10-21T00:00:00\", \"variable\": \"current_level_pct_of_total\", \"value\": 0.36199664759626354}, {\"date\": \"2022-10-22T00:00:00\", \"variable\": \"current_level_pct_of_total\", \"value\": 0.36199664759626354}, {\"date\": \"2022-10-23T00:00:00\", \"variable\": \"current_level_pct_of_total\", \"value\": 0.35937348348324716}, {\"date\": \"2022-10-24T00:00:00\", \"variable\": \"current_level_pct_of_total\", \"value\": 0.35937348348324716}, {\"date\": \"2022-10-25T00:00:00\", \"variable\": \"current_level_pct_of_total\", \"value\": 0.35937348348324716}, {\"date\": \"2022-10-26T00:00:00\", \"variable\": \"current_level_pct_of_total\", \"value\": 0.35937348348324716}, {\"date\": \"2022-10-27T00:00:00\", \"variable\": \"current_level_pct_of_total\", \"value\": 0.35937348348324716}, {\"date\": \"2022-10-28T00:00:00\", \"variable\": \"current_level_pct_of_total\", \"value\": 0.35937348348324716}, {\"date\": \"2022-10-29T00:00:00\", \"variable\": \"current_level_pct_of_total\", \"value\": 0.3567503193702308}, {\"date\": \"2022-10-30T00:00:00\", \"variable\": \"current_level_pct_of_total\", \"value\": 0.3567503193702308}, {\"date\": \"2022-10-31T00:00:00\", \"variable\": \"current_level_pct_of_total\", \"value\": 0.3567503193702308}, {\"date\": \"2022-11-01T00:00:00\", \"variable\": \"current_level_pct_of_total\", \"value\": 0.3567503193702308}, {\"date\": \"2022-11-02T00:00:00\", \"variable\": \"current_level_pct_of_total\", \"value\": 0.35412715525721433}, {\"date\": \"2022-11-03T00:00:00\", \"variable\": \"current_level_pct_of_total\", \"value\": 0.35412715525721433}, {\"date\": \"2022-11-04T00:00:00\", \"variable\": \"current_level_pct_of_total\", \"value\": 0.35412715525721433}, {\"date\": \"2022-11-05T00:00:00\", \"variable\": \"current_level_pct_of_total\", \"value\": 0.35412715525721433}, {\"date\": \"2022-11-06T00:00:00\", \"variable\": \"current_level_pct_of_total\", \"value\": 0.35412715525721433}, {\"date\": \"2022-11-07T00:00:00\", \"variable\": \"current_level_pct_of_total\", \"value\": 0.35412715525721433}, {\"date\": \"2022-11-08T00:00:00\", \"variable\": \"current_level_pct_of_total\", \"value\": 0.35412715525721433}, {\"date\": \"2022-11-09T00:00:00\", \"variable\": \"current_level_pct_of_total\", \"value\": 0.3567503193702308}, {\"date\": \"2022-11-10T00:00:00\", \"variable\": \"current_level_pct_of_total\", \"value\": 0.3567503193702308}, {\"date\": \"2022-11-11T00:00:00\", \"variable\": \"current_level_pct_of_total\", \"value\": 0.3567503193702308}, {\"date\": \"2022-11-12T00:00:00\", \"variable\": \"current_level_pct_of_total\", \"value\": 0.3567503193702308}, {\"date\": \"2022-11-13T00:00:00\", \"variable\": \"current_level_pct_of_total\", \"value\": 0.3567503193702308}, {\"date\": \"2022-11-14T00:00:00\", \"variable\": \"current_level_pct_of_total\", \"value\": 0.3567503193702308}, {\"date\": \"2022-11-15T00:00:00\", \"variable\": \"current_level_pct_of_total\", \"value\": 0.35412715525721433}, {\"date\": \"2022-11-16T00:00:00\", \"variable\": \"current_level_pct_of_total\", \"value\": 0.35412715525721433}, {\"date\": \"2022-11-17T00:00:00\", \"variable\": \"current_level_pct_of_total\", \"value\": 0.35150399114419795}, {\"date\": \"2022-11-18T00:00:00\", \"variable\": \"current_level_pct_of_total\", \"value\": 0.35412715525721433}, {\"date\": \"2022-11-19T00:00:00\", \"variable\": \"current_level_pct_of_total\", \"value\": 0.35412715525721433}, {\"date\": \"2022-11-20T00:00:00\", \"variable\": \"current_level_pct_of_total\", \"value\": 0.3567503193702308}, {\"date\": \"2022-11-21T00:00:00\", \"variable\": \"current_level_pct_of_total\", \"value\": 0.3567503193702308}, {\"date\": \"2022-11-22T00:00:00\", \"variable\": \"current_level_pct_of_total\", \"value\": 0.35412715525721433}, {\"date\": \"2022-11-23T00:00:00\", \"variable\": \"current_level_pct_of_total\", \"value\": 0.35150399114419795}, {\"date\": \"2022-11-24T00:00:00\", \"variable\": \"current_level_pct_of_total\", \"value\": 0.35150399114419795}, {\"date\": \"2022-11-25T00:00:00\", \"variable\": \"current_level_pct_of_total\", \"value\": 0.35150399114419795}, {\"date\": \"2022-11-26T00:00:00\", \"variable\": \"current_level_pct_of_total\", \"value\": 0.35150399114419795}, {\"date\": \"2022-11-27T00:00:00\", \"variable\": \"current_level_pct_of_total\", \"value\": 0.35150399114419795}, {\"date\": \"2022-11-28T00:00:00\", \"variable\": \"current_level_pct_of_total\", \"value\": 0.35150399114419795}, {\"date\": \"2022-11-29T00:00:00\", \"variable\": \"current_level_pct_of_total\", \"value\": 0.35150399114419795}, {\"date\": \"2022-11-30T00:00:00\", \"variable\": \"current_level_pct_of_total\", \"value\": 0.34888082703118156}, {\"date\": \"2022-12-01T00:00:00\", \"variable\": \"current_level_pct_of_total\", \"value\": 0.34888082703118156}, {\"date\": \"2022-12-02T00:00:00\", \"variable\": \"current_level_pct_of_total\", \"value\": 0.34888082703118156}, {\"date\": \"2022-12-03T00:00:00\", \"variable\": \"current_level_pct_of_total\", \"value\": 0.34888082703118156}, {\"date\": \"2022-12-04T00:00:00\", \"variable\": \"current_level_pct_of_total\", \"value\": 0.35150399114419795}, {\"date\": \"2022-12-05T00:00:00\", \"variable\": \"current_level_pct_of_total\", \"value\": 0.35150399114419795}, {\"date\": \"2022-12-06T00:00:00\", \"variable\": \"current_level_pct_of_total\", \"value\": 0.35150399114419795}, {\"date\": \"2022-12-07T00:00:00\", \"variable\": \"current_level_pct_of_total\", \"value\": 0.35150399114419795}, {\"date\": \"2022-12-08T00:00:00\", \"variable\": \"current_level_pct_of_total\", \"value\": 0.35150399114419795}, {\"date\": \"2022-12-09T00:00:00\", \"variable\": \"current_level_pct_of_total\", \"value\": 0.35412715525721433}, {\"date\": \"2022-12-10T00:00:00\", \"variable\": \"current_level_pct_of_total\", \"value\": 0.35412715525721433}, {\"date\": \"2022-12-11T00:00:00\", \"variable\": \"current_level_pct_of_total\", \"value\": 0.3567503193702308}, {\"date\": \"2022-12-12T00:00:00\", \"variable\": \"current_level_pct_of_total\", \"value\": 0.35937348348324716}, {\"date\": \"2022-12-13T00:00:00\", \"variable\": \"current_level_pct_of_total\", \"value\": 0.35937348348324716}, {\"date\": \"2022-12-14T00:00:00\", \"variable\": \"current_level_pct_of_total\", \"value\": 0.36199664759626354}, {\"date\": \"2022-12-15T00:00:00\", \"variable\": \"current_level_pct_of_total\", \"value\": 0.36199664759626354}, {\"date\": \"2022-12-16T00:00:00\", \"variable\": \"current_level_pct_of_total\", \"value\": 0.36199664759626354}, {\"date\": \"2022-12-17T00:00:00\", \"variable\": \"current_level_pct_of_total\", \"value\": 0.36461981170928}, {\"date\": \"2022-12-18T00:00:00\", \"variable\": \"current_level_pct_of_total\", \"value\": 0.36461981170928}, {\"date\": \"2022-12-19T00:00:00\", \"variable\": \"current_level_pct_of_total\", \"value\": 0.36461981170928}, {\"date\": \"2022-12-20T00:00:00\", \"variable\": \"current_level_pct_of_total\", \"value\": 0.36461981170928}, {\"date\": \"2022-12-21T00:00:00\", \"variable\": \"current_level_pct_of_total\", \"value\": 0.36461981170928}, {\"date\": \"2022-12-22T00:00:00\", \"variable\": \"current_level_pct_of_total\", \"value\": 0.36461981170928}, {\"date\": \"2022-12-23T00:00:00\", \"variable\": \"current_level_pct_of_total\", \"value\": 0.36461981170928}, {\"date\": \"2022-12-24T00:00:00\", \"variable\": \"current_level_pct_of_total\", \"value\": 0.36461981170928}, {\"date\": \"2022-12-25T00:00:00\", \"variable\": \"current_level_pct_of_total\", \"value\": 0.36461981170928}, {\"date\": \"2022-12-26T00:00:00\", \"variable\": \"current_level_pct_of_total\", \"value\": 0.36724297582229637}, {\"date\": \"2022-12-27T00:00:00\", \"variable\": \"current_level_pct_of_total\", \"value\": 0.36986613993531275}, {\"date\": \"2022-12-28T00:00:00\", \"variable\": \"current_level_pct_of_total\", \"value\": 0.3751124681613456}, {\"date\": \"2022-12-29T00:00:00\", \"variable\": \"current_level_pct_of_total\", \"value\": 0.37773563227436197}, {\"date\": \"2022-12-30T00:00:00\", \"variable\": \"current_level_pct_of_total\", \"value\": 0.3829819605003948}, {\"date\": \"2022-12-31T00:00:00\", \"variable\": \"current_level_pct_of_total\", \"value\": 0.3960977810654768}, {\"date\": \"2023-01-01T00:00:00\", \"variable\": \"current_level_pct_of_total\", \"value\": 0.41445992985659164}, {\"date\": \"2023-01-02T00:00:00\", \"variable\": \"current_level_pct_of_total\", \"value\": 0.4275757504216736}, {\"date\": \"2023-01-03T00:00:00\", \"variable\": \"current_level_pct_of_total\", \"value\": 0.43282207864770644}, {\"date\": \"2023-01-04T00:00:00\", \"variable\": \"current_level_pct_of_total\", \"value\": 0.43544524276072283}, {\"date\": \"2023-01-05T00:00:00\", \"variable\": \"current_level_pct_of_total\", \"value\": 0.43806840687373927}, {\"date\": \"2023-01-06T00:00:00\", \"variable\": \"current_level_pct_of_total\", \"value\": 0.44331473509977204}, {\"date\": \"2023-01-07T00:00:00\", \"variable\": \"current_level_pct_of_total\", \"value\": 0.44856106332580487}, {\"date\": \"2023-01-08T00:00:00\", \"variable\": \"current_level_pct_of_total\", \"value\": 0.45380739155183764}, {\"date\": \"2023-01-09T00:00:00\", \"variable\": \"current_level_pct_of_total\", \"value\": 0.4643000480039033}, {\"date\": \"2023-01-10T00:00:00\", \"variable\": \"current_level_pct_of_total\", \"value\": 0.4747927044559689}, {\"date\": \"2023-01-11T00:00:00\", \"variable\": \"current_level_pct_of_total\", \"value\": 0.4931548532470837}, {\"date\": \"2023-01-12T00:00:00\", \"variable\": \"current_level_pct_of_total\", \"value\": 0.5088938379251822}, {\"date\": \"2023-01-13T00:00:00\", \"variable\": \"current_level_pct_of_total\", \"value\": 0.5167633302642313}, {\"date\": \"2023-01-14T00:00:00\", \"variable\": \"current_level_pct_of_total\", \"value\": 0.5220096584902642}, {\"date\": \"2023-01-15T00:00:00\", \"variable\": \"current_level_pct_of_total\", \"value\": 0.5403718072813789}, {\"date\": \"2023-01-16T00:00:00\", \"variable\": \"current_level_pct_of_total\", \"value\": 0.5508644637334446}, {\"date\": \"2023-01-17T00:00:00\", \"variable\": \"current_level_pct_of_total\", \"value\": 0.5613571201855102}, {\"date\": \"2023-01-18T00:00:00\", \"variable\": \"current_level_pct_of_total\", \"value\": 0.566603448411543}, {\"date\": \"2023-01-19T00:00:00\", \"variable\": \"current_level_pct_of_total\", \"value\": 0.5692266125245594}, {\"date\": \"2023-01-20T00:00:00\", \"variable\": \"current_level_pct_of_total\", \"value\": 0.5692266125245594}, {\"date\": \"2023-01-21T00:00:00\", \"variable\": \"current_level_pct_of_total\", \"value\": 0.5718497766375757}, {\"date\": \"2023-01-22T00:00:00\", \"variable\": \"current_level_pct_of_total\", \"value\": 0.5718497766375757}, {\"date\": \"2023-01-23T00:00:00\", \"variable\": \"current_level_pct_of_total\", \"value\": 0.5718497766375757}, {\"date\": \"2023-01-24T00:00:00\", \"variable\": \"current_level_pct_of_total\", \"value\": 0.5718497766375757}, {\"date\": \"2023-01-25T00:00:00\", \"variable\": \"current_level_pct_of_total\", \"value\": 0.5744729407505922}, {\"date\": \"2023-01-26T00:00:00\", \"variable\": \"current_level_pct_of_total\", \"value\": 0.5744729407505922}, {\"date\": \"2023-01-27T00:00:00\", \"variable\": \"current_level_pct_of_total\", \"value\": 0.5770961048636086}, {\"date\": \"2023-01-28T00:00:00\", \"variable\": \"current_level_pct_of_total\", \"value\": 0.5770961048636086}, {\"date\": \"2023-01-29T00:00:00\", \"variable\": \"current_level_pct_of_total\", \"value\": 0.5770961048636086}, {\"date\": \"2023-01-30T00:00:00\", \"variable\": \"current_level_pct_of_total\", \"value\": 0.5770961048636086}, {\"date\": \"2023-01-31T00:00:00\", \"variable\": \"current_level_pct_of_total\", \"value\": 0.5770961048636086}, {\"date\": \"2023-02-01T00:00:00\", \"variable\": \"current_level_pct_of_total\", \"value\": 0.579719268976625}, {\"date\": \"2023-02-02T00:00:00\", \"variable\": \"current_level_pct_of_total\", \"value\": 0.5823424330896414}, {\"date\": \"2023-02-03T00:00:00\", \"variable\": \"current_level_pct_of_total\", \"value\": 0.5849655972026578}, {\"date\": \"2023-02-04T00:00:00\", \"variable\": \"current_level_pct_of_total\", \"value\": 0.5849655972026578}, {\"date\": \"2023-02-05T00:00:00\", \"variable\": \"current_level_pct_of_total\", \"value\": 0.5849655972026578}, {\"date\": \"2023-02-06T00:00:00\", \"variable\": \"current_level_pct_of_total\", \"value\": 0.5875887613156742}, {\"date\": \"2023-02-07T00:00:00\", \"variable\": \"current_level_pct_of_total\", \"value\": 0.5875887613156742}, {\"date\": \"2023-02-08T00:00:00\", \"variable\": \"current_level_pct_of_total\", \"value\": 0.5902119254286906}, {\"date\": \"2023-02-09T00:00:00\", \"variable\": \"current_level_pct_of_total\", \"value\": 0.5902119254286906}, {\"date\": \"2023-02-10T00:00:00\", \"variable\": \"current_level_pct_of_total\", \"value\": 0.5902119254286906}, {\"date\": \"2023-02-11T00:00:00\", \"variable\": \"current_level_pct_of_total\", \"value\": 0.5902119254286906}, {\"date\": \"2023-02-12T00:00:00\", \"variable\": \"current_level_pct_of_total\", \"value\": 0.5902119254286906}, {\"date\": \"2023-02-13T00:00:00\", \"variable\": \"current_level_pct_of_total\", \"value\": 0.592835089541707}, {\"date\": \"2023-02-14T00:00:00\", \"variable\": \"current_level_pct_of_total\", \"value\": 0.592835089541707}, {\"date\": \"2023-02-15T00:00:00\", \"variable\": \"current_level_pct_of_total\", \"value\": 0.592835089541707}, {\"date\": \"2023-02-16T00:00:00\", \"variable\": \"current_level_pct_of_total\", \"value\": 0.592835089541707}, {\"date\": \"2023-02-17T00:00:00\", \"variable\": \"current_level_pct_of_total\", \"value\": 0.5954582536547234}, {\"date\": \"2023-02-18T00:00:00\", \"variable\": \"current_level_pct_of_total\", \"value\": 0.5954582536547234}, {\"date\": \"2023-02-19T00:00:00\", \"variable\": \"current_level_pct_of_total\", \"value\": 0.5954582536547234}, {\"date\": \"2023-02-20T00:00:00\", \"variable\": \"current_level_pct_of_total\", \"value\": 0.5954582536547234}, {\"date\": \"2023-02-21T00:00:00\", \"variable\": \"current_level_pct_of_total\", \"value\": 0.5980814177677398}, {\"date\": \"2023-02-22T00:00:00\", \"variable\": \"current_level_pct_of_total\", \"value\": 0.5980814177677398}, {\"date\": \"2023-02-23T00:00:00\", \"variable\": \"current_level_pct_of_total\", \"value\": 0.5980814177677398}, {\"date\": \"2023-02-24T00:00:00\", \"variable\": \"current_level_pct_of_total\", \"value\": 0.5980814177677398}, {\"date\": \"2023-02-25T00:00:00\", \"variable\": \"current_level_pct_of_total\", \"value\": 0.6007045818807563}, {\"date\": \"2023-02-26T00:00:00\", \"variable\": \"current_level_pct_of_total\", \"value\": 0.6033277459937726}, {\"date\": \"2023-02-27T00:00:00\", \"variable\": \"current_level_pct_of_total\", \"value\": 0.605950910106789}, {\"date\": \"2023-02-28T00:00:00\", \"variable\": \"current_level_pct_of_total\", \"value\": 0.6085740742198054}, {\"date\": \"2023-03-01T00:00:00\", \"variable\": \"current_level_pct_of_total\", \"value\": 0.6111972383328218}, {\"date\": \"2023-03-02T00:00:00\", \"variable\": \"current_level_pct_of_total\", \"value\": 0.6138204024458382}, {\"date\": \"2023-03-03T00:00:00\", \"variable\": \"current_level_pct_of_total\", \"value\": 0.6164435665588546}, {\"date\": \"2023-03-04T00:00:00\", \"variable\": \"current_level_pct_of_total\", \"value\": 0.619066730671871}, {\"date\": \"2023-03-05T00:00:00\", \"variable\": \"current_level_pct_of_total\", \"value\": 0.6216898947848875}, {\"date\": \"2023-03-06T00:00:00\", \"variable\": \"current_level_pct_of_total\", \"value\": 0.6216898947848875}, {\"date\": \"2023-03-07T00:00:00\", \"variable\": \"current_level_pct_of_total\", \"value\": 0.6230014768413956}, {\"date\": \"2023-03-08T00:00:00\", \"variable\": \"current_level_pct_of_total\", \"value\": 0.6243130588979038}, {\"date\": \"2023-03-09T00:00:00\", \"variable\": \"current_level_pct_of_total\", \"value\": 0.6269362230109202}, {\"date\": \"2023-03-10T00:00:00\", \"variable\": \"current_level_pct_of_total\", \"value\": 0.632182551236953}, {\"date\": \"2023-03-11T00:00:00\", \"variable\": \"current_level_pct_of_total\", \"value\": 0.6426752076890186}, {\"date\": \"2023-03-12T00:00:00\", \"variable\": \"current_level_pct_of_total\", \"value\": 0.6557910282541006}, {\"date\": \"2023-03-13T00:00:00\", \"variable\": \"current_level_pct_of_total\", \"value\": 0.6636605205931498}, {\"date\": \"2023-03-14T00:00:00\", \"variable\": \"current_level_pct_of_total\", \"value\": 0.6767763411582319}, {\"date\": \"2023-03-15T00:00:00\", \"variable\": \"current_level_pct_of_total\", \"value\": 0.6898921617233139}, {\"date\": \"2023-03-16T00:00:00\", \"variable\": \"current_level_pct_of_total\", \"value\": 0.7056311464014123}, {\"date\": \"2023-03-17T00:00:00\", \"variable\": \"current_level_pct_of_total\", \"value\": 0.7135006387404615}, {\"date\": \"2023-03-18T00:00:00\", \"variable\": \"current_level_pct_of_total\", \"value\": 0.7161238028534779}, {\"date\": \"2023-03-19T00:00:00\", \"variable\": \"current_level_pct_of_total\", \"value\": 0.7187469669664943}, {\"date\": \"2023-03-20T00:00:00\", \"variable\": \"current_level_pct_of_total\", \"value\": 0.7187469669664943}, {\"date\": \"2023-03-21T00:00:00\", \"variable\": \"current_level_pct_of_total\", \"value\": 0.7213701310795108}, {\"date\": \"2023-03-22T00:00:00\", \"variable\": \"current_level_pct_of_total\", \"value\": 0.7239932951925271}, {\"date\": \"2023-03-23T00:00:00\", \"variable\": \"current_level_pct_of_total\", \"value\": 0.7266164593055435}, {\"date\": \"2023-03-24T00:00:00\", \"variable\": \"current_level_pct_of_total\", \"value\": 0.72923962341856}, {\"date\": \"2023-03-25T00:00:00\", \"variable\": \"current_level_pct_of_total\", \"value\": 0.7318627875315763}, {\"date\": \"2023-03-26T00:00:00\", \"variable\": \"current_level_pct_of_total\", \"value\": 0.7318627875315763}, {\"date\": \"2023-03-27T00:00:00\", \"variable\": \"current_level_pct_of_total\", \"value\": 0.7318627875315763}, {\"date\": \"2023-03-28T00:00:00\", \"variable\": \"current_level_pct_of_total\", \"value\": 0.7318627875315763}, {\"date\": \"2023-03-29T00:00:00\", \"variable\": \"current_level_pct_of_total\", \"value\": 0.7318627875315763}, {\"date\": \"2023-03-30T00:00:00\", \"variable\": \"current_level_pct_of_total\", \"value\": 0.7344859516445927}, {\"date\": \"2023-03-31T00:00:00\", \"variable\": \"current_level_pct_of_total\", \"value\": 0.7344859516445927}, {\"date\": \"2023-04-01T00:00:00\", \"variable\": \"current_level_pct_of_total\", \"value\": 0.7344859516445927}, {\"date\": \"2023-04-02T00:00:00\", \"variable\": \"current_level_pct_of_total\", \"value\": 0.7344859516445927}, {\"date\": \"2023-04-03T00:00:00\", \"variable\": \"current_level_pct_of_total\", \"value\": 0.7344859516445927}, {\"date\": \"2023-04-04T00:00:00\", \"variable\": \"current_level_pct_of_total\", \"value\": 0.7318627875315763}, {\"date\": \"2023-04-05T00:00:00\", \"variable\": \"current_level_pct_of_total\", \"value\": 0.72923962341856}, {\"date\": \"2023-04-06T00:00:00\", \"variable\": \"current_level_pct_of_total\", \"value\": 0.72923962341856}, {\"date\": \"2023-04-07T00:00:00\", \"variable\": \"current_level_pct_of_total\", \"value\": 0.72923962341856}, {\"date\": \"2023-04-08T00:00:00\", \"variable\": \"current_level_pct_of_total\", \"value\": 0.7266164593055435}, {\"date\": \"2023-04-09T00:00:00\", \"variable\": \"current_level_pct_of_total\", \"value\": 0.72923962341856}, {\"date\": \"2023-04-10T00:00:00\", \"variable\": \"current_level_pct_of_total\", \"value\": 0.72923962341856}, {\"date\": \"2023-04-11T00:00:00\", \"variable\": \"current_level_pct_of_total\", \"value\": 0.7318627875315763}, {\"date\": \"2023-04-12T00:00:00\", \"variable\": \"current_level_pct_of_total\", \"value\": 0.7318627875315763}, {\"date\": \"2023-04-13T00:00:00\", \"variable\": \"current_level_pct_of_total\", \"value\": 0.7344859516445927}, {\"date\": \"2023-04-14T00:00:00\", \"variable\": \"current_level_pct_of_total\", \"value\": 0.7371091157576092}, {\"date\": \"2023-04-15T00:00:00\", \"variable\": \"current_level_pct_of_total\", \"value\": 0.7371091157576092}, {\"date\": \"2023-04-16T00:00:00\", \"variable\": \"current_level_pct_of_total\", \"value\": 0.7397322798706255}, {\"date\": \"2023-04-17T00:00:00\", \"variable\": \"current_level_pct_of_total\", \"value\": 0.7397322798706255}, {\"date\": \"2023-04-18T00:00:00\", \"variable\": \"current_level_pct_of_total\", \"value\": 0.7397322798706255}, {\"date\": \"2023-04-19T00:00:00\", \"variable\": \"current_level_pct_of_total\", \"value\": 0.7397322798706255}, {\"date\": \"2023-04-20T00:00:00\", \"variable\": \"current_level_pct_of_total\", \"value\": 0.7397322798706255}, {\"date\": \"2023-04-21T00:00:00\", \"variable\": \"current_level_pct_of_total\", \"value\": 0.7397322798706255}, {\"date\": \"2023-04-22T00:00:00\", \"variable\": \"current_level_pct_of_total\", \"value\": 0.7397322798706255}, {\"date\": \"2023-04-23T00:00:00\", \"variable\": \"current_level_pct_of_total\", \"value\": 0.7397322798706255}, {\"date\": \"2023-04-24T00:00:00\", \"variable\": \"current_level_pct_of_total\", \"value\": 0.742355443983642}, {\"date\": \"2023-04-25T00:00:00\", \"variable\": \"current_level_pct_of_total\", \"value\": 0.7449786080966584}, {\"date\": \"2023-04-26T00:00:00\", \"variable\": \"current_level_pct_of_total\", \"value\": 0.7476017722096747}, {\"date\": \"2023-04-27T00:00:00\", \"variable\": \"current_level_pct_of_total\", \"value\": 0.7502249363226912}, {\"date\": \"2023-04-28T00:00:00\", \"variable\": \"current_level_pct_of_total\", \"value\": 0.7502249363226912}, {\"date\": \"2023-04-29T00:00:00\", \"variable\": \"current_level_pct_of_total\", \"value\": 0.7554712645487239}, {\"date\": \"2023-04-30T00:00:00\", \"variable\": \"current_level_pct_of_total\", \"value\": 0.7580944286617404}, {\"date\": \"2023-05-01T00:00:00\", \"variable\": \"current_level_pct_of_total\", \"value\": 0.7633407568877731}, {\"date\": \"2023-05-02T00:00:00\", \"variable\": \"current_level_pct_of_total\", \"value\": 0.7633407568877731}, {\"date\": \"2023-05-03T00:00:00\", \"variable\": \"current_level_pct_of_total\", \"value\": 0.7659639210007896}, {\"date\": \"2023-05-04T00:00:00\", \"variable\": \"current_level_pct_of_total\", \"value\": 0.768587085113806}, {\"date\": \"2023-05-05T00:00:00\", \"variable\": \"current_level_pct_of_total\", \"value\": 0.768587085113806}, {\"date\": \"2023-05-06T00:00:00\", \"variable\": \"current_level_pct_of_total\", \"value\": 0.768587085113806}, {\"date\": \"2023-05-07T00:00:00\", \"variable\": \"current_level_pct_of_total\", \"value\": 0.768587085113806}, {\"date\": \"2023-05-08T00:00:00\", \"variable\": \"current_level_pct_of_total\", \"value\": 0.7712102492268224}, {\"date\": \"2023-05-09T00:00:00\", \"variable\": \"current_level_pct_of_total\", \"value\": 0.768587085113806}, {\"date\": \"2023-05-10T00:00:00\", \"variable\": \"current_level_pct_of_total\", \"value\": 0.768587085113806}, {\"date\": \"2022-05-12T00:00:00\", \"variable\": \"average_level_pct_of_total\", \"value\": 0.7570756179518859}, {\"date\": \"2022-05-13T00:00:00\", \"variable\": \"average_level_pct_of_total\", \"value\": 0.7570756179518859}, {\"date\": \"2022-05-14T00:00:00\", \"variable\": \"average_level_pct_of_total\", \"value\": 0.7570756179518859}, {\"date\": \"2022-05-15T00:00:00\", \"variable\": \"average_level_pct_of_total\", \"value\": 0.7570756179518859}, {\"date\": \"2022-05-16T00:00:00\", \"variable\": \"average_level_pct_of_total\", \"value\": 0.7570756179518859}, {\"date\": \"2022-05-17T00:00:00\", \"variable\": \"average_level_pct_of_total\", \"value\": 0.7570756179518859}, {\"date\": \"2022-05-18T00:00:00\", \"variable\": \"average_level_pct_of_total\", \"value\": 0.7570756179518859}, {\"date\": \"2022-05-19T00:00:00\", \"variable\": \"average_level_pct_of_total\", \"value\": 0.7570756179518859}, {\"date\": \"2022-05-20T00:00:00\", \"variable\": \"average_level_pct_of_total\", \"value\": 0.7570756179518859}, {\"date\": \"2022-05-21T00:00:00\", \"variable\": \"average_level_pct_of_total\", \"value\": 0.7570756179518859}, {\"date\": \"2022-05-22T00:00:00\", \"variable\": \"average_level_pct_of_total\", \"value\": 0.7570756179518859}, {\"date\": \"2022-05-23T00:00:00\", \"variable\": \"average_level_pct_of_total\", \"value\": 0.7570756179518859}, {\"date\": \"2022-05-24T00:00:00\", \"variable\": \"average_level_pct_of_total\", \"value\": 0.7570756179518859}, {\"date\": \"2022-05-25T00:00:00\", \"variable\": \"average_level_pct_of_total\", \"value\": 0.7570756179518859}, {\"date\": \"2022-05-26T00:00:00\", \"variable\": \"average_level_pct_of_total\", \"value\": 0.7570756179518859}, {\"date\": \"2022-05-27T00:00:00\", \"variable\": \"average_level_pct_of_total\", \"value\": 0.7570756179518859}, {\"date\": \"2022-05-28T00:00:00\", \"variable\": \"average_level_pct_of_total\", \"value\": 0.7570756179518859}, {\"date\": \"2022-05-29T00:00:00\", \"variable\": \"average_level_pct_of_total\", \"value\": 0.7570756179518859}, {\"date\": \"2022-05-30T00:00:00\", \"variable\": \"average_level_pct_of_total\", \"value\": 0.7570756179518859}, {\"date\": \"2022-05-31T00:00:00\", \"variable\": \"average_level_pct_of_total\", \"value\": 0.7570756179518859}, {\"date\": \"2022-06-01T00:00:00\", \"variable\": \"average_level_pct_of_total\", \"value\": 0.7319412201385556}, {\"date\": \"2022-06-02T00:00:00\", \"variable\": \"average_level_pct_of_total\", \"value\": 0.7319412201385556}, {\"date\": \"2022-06-03T00:00:00\", \"variable\": \"average_level_pct_of_total\", \"value\": 0.7319412201385556}, {\"date\": \"2022-06-04T00:00:00\", \"variable\": \"average_level_pct_of_total\", \"value\": 0.7319412201385556}, {\"date\": \"2022-06-05T00:00:00\", \"variable\": \"average_level_pct_of_total\", \"value\": 0.7319412201385556}, {\"date\": \"2022-06-06T00:00:00\", \"variable\": \"average_level_pct_of_total\", \"value\": 0.7319412201385556}, {\"date\": \"2022-06-07T00:00:00\", \"variable\": \"average_level_pct_of_total\", \"value\": 0.7319412201385556}, {\"date\": \"2022-06-08T00:00:00\", \"variable\": \"average_level_pct_of_total\", \"value\": 0.7319412201385556}, {\"date\": \"2022-06-09T00:00:00\", \"variable\": \"average_level_pct_of_total\", \"value\": 0.7319412201385556}, {\"date\": \"2022-06-10T00:00:00\", \"variable\": \"average_level_pct_of_total\", \"value\": 0.7319412201385556}, {\"date\": \"2022-06-11T00:00:00\", \"variable\": \"average_level_pct_of_total\", \"value\": 0.7319412201385556}, {\"date\": \"2022-06-12T00:00:00\", \"variable\": \"average_level_pct_of_total\", \"value\": 0.7319412201385556}, {\"date\": \"2022-06-13T00:00:00\", \"variable\": \"average_level_pct_of_total\", \"value\": 0.7319412201385556}, {\"date\": \"2022-06-14T00:00:00\", \"variable\": \"average_level_pct_of_total\", \"value\": 0.7319412201385556}, {\"date\": \"2022-06-15T00:00:00\", \"variable\": \"average_level_pct_of_total\", \"value\": 0.7319412201385556}, {\"date\": \"2022-06-16T00:00:00\", \"variable\": \"average_level_pct_of_total\", \"value\": 0.7319412201385556}, {\"date\": \"2022-06-17T00:00:00\", \"variable\": \"average_level_pct_of_total\", \"value\": 0.7319412201385556}, {\"date\": \"2022-06-18T00:00:00\", \"variable\": \"average_level_pct_of_total\", \"value\": 0.7319412201385556}, {\"date\": \"2022-06-19T00:00:00\", \"variable\": \"average_level_pct_of_total\", \"value\": 0.7319412201385556}, {\"date\": \"2022-06-20T00:00:00\", \"variable\": \"average_level_pct_of_total\", \"value\": 0.7319412201385556}, {\"date\": \"2022-06-21T00:00:00\", \"variable\": \"average_level_pct_of_total\", \"value\": 0.7319412201385556}, {\"date\": \"2022-06-22T00:00:00\", \"variable\": \"average_level_pct_of_total\", \"value\": 0.7319412201385556}, {\"date\": \"2022-06-23T00:00:00\", \"variable\": \"average_level_pct_of_total\", \"value\": 0.7319412201385556}, {\"date\": \"2022-06-24T00:00:00\", \"variable\": \"average_level_pct_of_total\", \"value\": 0.7319412201385556}, {\"date\": \"2022-06-25T00:00:00\", \"variable\": \"average_level_pct_of_total\", \"value\": 0.7319412201385556}, {\"date\": \"2022-06-26T00:00:00\", \"variable\": \"average_level_pct_of_total\", \"value\": 0.7319412201385556}, {\"date\": \"2022-06-27T00:00:00\", \"variable\": \"average_level_pct_of_total\", \"value\": 0.7319412201385556}, {\"date\": \"2022-06-28T00:00:00\", \"variable\": \"average_level_pct_of_total\", \"value\": 0.7319412201385556}, {\"date\": \"2022-06-29T00:00:00\", \"variable\": \"average_level_pct_of_total\", \"value\": 0.7319412201385556}, {\"date\": \"2022-06-30T00:00:00\", \"variable\": \"average_level_pct_of_total\", \"value\": 0.7319412201385556}, {\"date\": \"2022-07-01T00:00:00\", \"variable\": \"average_level_pct_of_total\", \"value\": 0.663451349486778}, {\"date\": \"2022-07-02T00:00:00\", \"variable\": \"average_level_pct_of_total\", \"value\": 0.663451349486778}, {\"date\": \"2022-07-03T00:00:00\", \"variable\": \"average_level_pct_of_total\", \"value\": 0.663451349486778}, {\"date\": \"2022-07-04T00:00:00\", \"variable\": \"average_level_pct_of_total\", \"value\": 0.663451349486778}, {\"date\": \"2022-07-05T00:00:00\", \"variable\": \"average_level_pct_of_total\", \"value\": 0.663451349486778}, {\"date\": \"2022-07-06T00:00:00\", \"variable\": \"average_level_pct_of_total\", \"value\": 0.663451349486778}, {\"date\": \"2022-07-07T00:00:00\", \"variable\": \"average_level_pct_of_total\", \"value\": 0.663451349486778}, {\"date\": \"2022-07-08T00:00:00\", \"variable\": \"average_level_pct_of_total\", \"value\": 0.663451349486778}, {\"date\": \"2022-07-09T00:00:00\", \"variable\": \"average_level_pct_of_total\", \"value\": 0.663451349486778}, {\"date\": \"2022-07-10T00:00:00\", \"variable\": \"average_level_pct_of_total\", \"value\": 0.663451349486778}, {\"date\": \"2022-07-11T00:00:00\", \"variable\": \"average_level_pct_of_total\", \"value\": 0.663451349486778}, {\"date\": \"2022-07-12T00:00:00\", \"variable\": \"average_level_pct_of_total\", \"value\": 0.663451349486778}, {\"date\": \"2022-07-13T00:00:00\", \"variable\": \"average_level_pct_of_total\", \"value\": 0.663451349486778}, {\"date\": \"2022-07-14T00:00:00\", \"variable\": \"average_level_pct_of_total\", \"value\": 0.663451349486778}, {\"date\": \"2022-07-15T00:00:00\", \"variable\": \"average_level_pct_of_total\", \"value\": 0.663451349486778}, {\"date\": \"2022-07-16T00:00:00\", \"variable\": \"average_level_pct_of_total\", \"value\": 0.663451349486778}, {\"date\": \"2022-07-17T00:00:00\", \"variable\": \"average_level_pct_of_total\", \"value\": 0.663451349486778}, {\"date\": \"2022-07-18T00:00:00\", \"variable\": \"average_level_pct_of_total\", \"value\": 0.663451349486778}, {\"date\": \"2022-07-19T00:00:00\", \"variable\": \"average_level_pct_of_total\", \"value\": 0.663451349486778}, {\"date\": \"2022-07-20T00:00:00\", \"variable\": \"average_level_pct_of_total\", \"value\": 0.663451349486778}, {\"date\": \"2022-07-21T00:00:00\", \"variable\": \"average_level_pct_of_total\", \"value\": 0.663451349486778}, {\"date\": \"2022-07-22T00:00:00\", \"variable\": \"average_level_pct_of_total\", \"value\": 0.663451349486778}, {\"date\": \"2022-07-23T00:00:00\", \"variable\": \"average_level_pct_of_total\", \"value\": 0.663451349486778}, {\"date\": \"2022-07-24T00:00:00\", \"variable\": \"average_level_pct_of_total\", \"value\": 0.663451349486778}, {\"date\": \"2022-07-25T00:00:00\", \"variable\": \"average_level_pct_of_total\", \"value\": 0.663451349486778}, {\"date\": \"2022-07-26T00:00:00\", \"variable\": \"average_level_pct_of_total\", \"value\": 0.663451349486778}, {\"date\": \"2022-07-27T00:00:00\", \"variable\": \"average_level_pct_of_total\", \"value\": 0.663451349486778}, {\"date\": \"2022-07-28T00:00:00\", \"variable\": \"average_level_pct_of_total\", \"value\": 0.663451349486778}, {\"date\": \"2022-07-29T00:00:00\", \"variable\": \"average_level_pct_of_total\", \"value\": 0.663451349486778}, {\"date\": \"2022-07-30T00:00:00\", \"variable\": \"average_level_pct_of_total\", \"value\": 0.663451349486778}, {\"date\": \"2022-07-31T00:00:00\", \"variable\": \"average_level_pct_of_total\", \"value\": 0.663451349486778}, {\"date\": \"2022-08-01T00:00:00\", \"variable\": \"average_level_pct_of_total\", \"value\": 0.5970034284754957}, {\"date\": \"2022-08-02T00:00:00\", \"variable\": \"average_level_pct_of_total\", \"value\": 0.5970034284754957}, {\"date\": \"2022-08-03T00:00:00\", \"variable\": \"average_level_pct_of_total\", \"value\": 0.5970034284754957}, {\"date\": \"2022-08-04T00:00:00\", \"variable\": \"average_level_pct_of_total\", \"value\": 0.5970034284754957}, {\"date\": \"2022-08-05T00:00:00\", \"variable\": \"average_level_pct_of_total\", \"value\": 0.5970034284754957}, {\"date\": \"2022-08-06T00:00:00\", \"variable\": \"average_level_pct_of_total\", \"value\": 0.5970034284754957}, {\"date\": \"2022-08-07T00:00:00\", \"variable\": \"average_level_pct_of_total\", \"value\": 0.5970034284754957}, {\"date\": \"2022-08-08T00:00:00\", \"variable\": \"average_level_pct_of_total\", \"value\": 0.5970034284754957}, {\"date\": \"2022-08-09T00:00:00\", \"variable\": \"average_level_pct_of_total\", \"value\": 0.5970034284754957}, {\"date\": \"2022-08-10T00:00:00\", \"variable\": \"average_level_pct_of_total\", \"value\": 0.5970034284754957}, {\"date\": \"2022-08-11T00:00:00\", \"variable\": \"average_level_pct_of_total\", \"value\": 0.5970034284754957}, {\"date\": \"2022-08-12T00:00:00\", \"variable\": \"average_level_pct_of_total\", \"value\": 0.5970034284754957}, {\"date\": \"2022-08-13T00:00:00\", \"variable\": \"average_level_pct_of_total\", \"value\": 0.5970034284754957}, {\"date\": \"2022-08-14T00:00:00\", \"variable\": \"average_level_pct_of_total\", \"value\": 0.5970034284754957}, {\"date\": \"2022-08-15T00:00:00\", \"variable\": \"average_level_pct_of_total\", \"value\": 0.5970034284754957}, {\"date\": \"2022-08-16T00:00:00\", \"variable\": \"average_level_pct_of_total\", \"value\": 0.5970034284754957}, {\"date\": \"2022-08-17T00:00:00\", \"variable\": \"average_level_pct_of_total\", \"value\": 0.5970034284754957}, {\"date\": \"2022-08-18T00:00:00\", \"variable\": \"average_level_pct_of_total\", \"value\": 0.5970034284754957}, {\"date\": \"2022-08-19T00:00:00\", \"variable\": \"average_level_pct_of_total\", \"value\": 0.5970034284754957}, {\"date\": \"2022-08-20T00:00:00\", \"variable\": \"average_level_pct_of_total\", \"value\": 0.5970034284754957}, {\"date\": \"2022-08-21T00:00:00\", \"variable\": \"average_level_pct_of_total\", \"value\": 0.5970034284754957}, {\"date\": \"2022-08-22T00:00:00\", \"variable\": \"average_level_pct_of_total\", \"value\": 0.5970034284754957}, {\"date\": \"2022-08-23T00:00:00\", \"variable\": \"average_level_pct_of_total\", \"value\": 0.5970034284754957}, {\"date\": \"2022-08-24T00:00:00\", \"variable\": \"average_level_pct_of_total\", \"value\": 0.5970034284754957}, {\"date\": \"2022-08-25T00:00:00\", \"variable\": \"average_level_pct_of_total\", \"value\": 0.5970034284754957}, {\"date\": \"2022-08-26T00:00:00\", \"variable\": \"average_level_pct_of_total\", \"value\": 0.5970034284754957}, {\"date\": \"2022-08-27T00:00:00\", \"variable\": \"average_level_pct_of_total\", \"value\": 0.5970034284754957}, {\"date\": \"2022-08-28T00:00:00\", \"variable\": \"average_level_pct_of_total\", \"value\": 0.5970034284754957}, {\"date\": \"2022-08-29T00:00:00\", \"variable\": \"average_level_pct_of_total\", \"value\": 0.5970034284754957}, {\"date\": \"2022-08-30T00:00:00\", \"variable\": \"average_level_pct_of_total\", \"value\": 0.5970034284754957}, {\"date\": \"2022-08-31T00:00:00\", \"variable\": \"average_level_pct_of_total\", \"value\": 0.5970034284754957}, {\"date\": \"2022-09-01T00:00:00\", \"variable\": \"average_level_pct_of_total\", \"value\": 0.5568789855699742}, {\"date\": \"2022-09-02T00:00:00\", \"variable\": \"average_level_pct_of_total\", \"value\": 0.5568789855699742}, {\"date\": \"2022-09-03T00:00:00\", \"variable\": \"average_level_pct_of_total\", \"value\": 0.5568789855699742}, {\"date\": \"2022-09-04T00:00:00\", \"variable\": \"average_level_pct_of_total\", \"value\": 0.5568789855699742}, {\"date\": \"2022-09-05T00:00:00\", \"variable\": \"average_level_pct_of_total\", \"value\": 0.5568789855699742}, {\"date\": \"2022-09-06T00:00:00\", \"variable\": \"average_level_pct_of_total\", \"value\": 0.5568789855699742}, {\"date\": \"2022-09-07T00:00:00\", \"variable\": \"average_level_pct_of_total\", \"value\": 0.5568789855699742}, {\"date\": \"2022-09-08T00:00:00\", \"variable\": \"average_level_pct_of_total\", \"value\": 0.5568789855699742}, {\"date\": \"2022-09-09T00:00:00\", \"variable\": \"average_level_pct_of_total\", \"value\": 0.5568789855699742}, {\"date\": \"2022-09-10T00:00:00\", \"variable\": \"average_level_pct_of_total\", \"value\": 0.5568789855699742}, {\"date\": \"2022-09-11T00:00:00\", \"variable\": \"average_level_pct_of_total\", \"value\": 0.5568789855699742}, {\"date\": \"2022-09-12T00:00:00\", \"variable\": \"average_level_pct_of_total\", \"value\": 0.5568789855699742}, {\"date\": \"2022-09-13T00:00:00\", \"variable\": \"average_level_pct_of_total\", \"value\": 0.5568789855699742}, {\"date\": \"2022-09-14T00:00:00\", \"variable\": \"average_level_pct_of_total\", \"value\": 0.5568789855699742}, {\"date\": \"2022-09-15T00:00:00\", \"variable\": \"average_level_pct_of_total\", \"value\": 0.5568789855699742}, {\"date\": \"2022-09-16T00:00:00\", \"variable\": \"average_level_pct_of_total\", \"value\": 0.5568789855699742}, {\"date\": \"2022-09-17T00:00:00\", \"variable\": \"average_level_pct_of_total\", \"value\": 0.5568789855699742}, {\"date\": \"2022-09-18T00:00:00\", \"variable\": \"average_level_pct_of_total\", \"value\": 0.5568789855699742}, {\"date\": \"2022-09-19T00:00:00\", \"variable\": \"average_level_pct_of_total\", \"value\": 0.5568789855699742}, {\"date\": \"2022-09-20T00:00:00\", \"variable\": \"average_level_pct_of_total\", \"value\": 0.5568789855699742}, {\"date\": \"2022-09-21T00:00:00\", \"variable\": \"average_level_pct_of_total\", \"value\": 0.5568789855699742}, {\"date\": \"2022-09-22T00:00:00\", \"variable\": \"average_level_pct_of_total\", \"value\": 0.5568789855699742}, {\"date\": \"2022-09-23T00:00:00\", \"variable\": \"average_level_pct_of_total\", \"value\": 0.5568789855699742}, {\"date\": \"2022-09-24T00:00:00\", \"variable\": \"average_level_pct_of_total\", \"value\": 0.5568789855699742}, {\"date\": \"2022-09-25T00:00:00\", \"variable\": \"average_level_pct_of_total\", \"value\": 0.5568789855699742}, {\"date\": \"2022-09-26T00:00:00\", \"variable\": \"average_level_pct_of_total\", \"value\": 0.5568789855699742}, {\"date\": \"2022-09-27T00:00:00\", \"variable\": \"average_level_pct_of_total\", \"value\": 0.5568789855699742}, {\"date\": \"2022-09-28T00:00:00\", \"variable\": \"average_level_pct_of_total\", \"value\": 0.5568789855699742}, {\"date\": \"2022-09-29T00:00:00\", \"variable\": \"average_level_pct_of_total\", \"value\": 0.5568789855699742}, {\"date\": \"2022-09-30T00:00:00\", \"variable\": \"average_level_pct_of_total\", \"value\": 0.5568789855699742}, {\"date\": \"2022-10-01T00:00:00\", \"variable\": \"average_level_pct_of_total\", \"value\": 0.5258166041042026}, {\"date\": \"2022-10-02T00:00:00\", \"variable\": \"average_level_pct_of_total\", \"value\": 0.5258166041042026}, {\"date\": \"2022-10-03T00:00:00\", \"variable\": \"average_level_pct_of_total\", \"value\": 0.5258166041042026}, {\"date\": \"2022-10-04T00:00:00\", \"variable\": \"average_level_pct_of_total\", \"value\": 0.5258166041042026}, {\"date\": \"2022-10-05T00:00:00\", \"variable\": \"average_level_pct_of_total\", \"value\": 0.5258166041042026}, {\"date\": \"2022-10-06T00:00:00\", \"variable\": \"average_level_pct_of_total\", \"value\": 0.5258166041042026}, {\"date\": \"2022-10-07T00:00:00\", \"variable\": \"average_level_pct_of_total\", \"value\": 0.5258166041042026}, {\"date\": \"2022-10-08T00:00:00\", \"variable\": \"average_level_pct_of_total\", \"value\": 0.5258166041042026}, {\"date\": \"2022-10-09T00:00:00\", \"variable\": \"average_level_pct_of_total\", \"value\": 0.5258166041042026}, {\"date\": \"2022-10-10T00:00:00\", \"variable\": \"average_level_pct_of_total\", \"value\": 0.5258166041042026}, {\"date\": \"2022-10-11T00:00:00\", \"variable\": \"average_level_pct_of_total\", \"value\": 0.5258166041042026}, {\"date\": \"2022-10-12T00:00:00\", \"variable\": \"average_level_pct_of_total\", \"value\": 0.5258166041042026}, {\"date\": \"2022-10-13T00:00:00\", \"variable\": \"average_level_pct_of_total\", \"value\": 0.5258166041042026}, {\"date\": \"2022-10-14T00:00:00\", \"variable\": \"average_level_pct_of_total\", \"value\": 0.5258166041042026}, {\"date\": \"2022-10-15T00:00:00\", \"variable\": \"average_level_pct_of_total\", \"value\": 0.5258166041042026}, {\"date\": \"2022-10-16T00:00:00\", \"variable\": \"average_level_pct_of_total\", \"value\": 0.5258166041042026}, {\"date\": \"2022-10-17T00:00:00\", \"variable\": \"average_level_pct_of_total\", \"value\": 0.5258166041042026}, {\"date\": \"2022-10-18T00:00:00\", \"variable\": \"average_level_pct_of_total\", \"value\": 0.5258166041042026}, {\"date\": \"2022-10-19T00:00:00\", \"variable\": \"average_level_pct_of_total\", \"value\": 0.5258166041042026}, {\"date\": \"2022-10-20T00:00:00\", \"variable\": \"average_level_pct_of_total\", \"value\": 0.5258166041042026}, {\"date\": \"2022-10-21T00:00:00\", \"variable\": \"average_level_pct_of_total\", \"value\": 0.5258166041042026}, {\"date\": \"2022-10-22T00:00:00\", \"variable\": \"average_level_pct_of_total\", \"value\": 0.5258166041042026}, {\"date\": \"2022-10-23T00:00:00\", \"variable\": \"average_level_pct_of_total\", \"value\": 0.5258166041042026}, {\"date\": \"2022-10-24T00:00:00\", \"variable\": \"average_level_pct_of_total\", \"value\": 0.5258166041042026}, {\"date\": \"2022-10-25T00:00:00\", \"variable\": \"average_level_pct_of_total\", \"value\": 0.5258166041042026}, {\"date\": \"2022-10-26T00:00:00\", \"variable\": \"average_level_pct_of_total\", \"value\": 0.5258166041042026}, {\"date\": \"2022-10-27T00:00:00\", \"variable\": \"average_level_pct_of_total\", \"value\": 0.5258166041042026}, {\"date\": \"2022-10-28T00:00:00\", \"variable\": \"average_level_pct_of_total\", \"value\": 0.5258166041042026}, {\"date\": \"2022-10-29T00:00:00\", \"variable\": \"average_level_pct_of_total\", \"value\": 0.5258166041042026}, {\"date\": \"2022-10-30T00:00:00\", \"variable\": \"average_level_pct_of_total\", \"value\": 0.5258166041042026}, {\"date\": \"2022-10-31T00:00:00\", \"variable\": \"average_level_pct_of_total\", \"value\": 0.5258166041042026}, {\"date\": \"2022-11-01T00:00:00\", \"variable\": \"average_level_pct_of_total\", \"value\": 0.5221060335397764}, {\"date\": \"2022-11-02T00:00:00\", \"variable\": \"average_level_pct_of_total\", \"value\": 0.5221060335397764}, {\"date\": \"2022-11-03T00:00:00\", \"variable\": \"average_level_pct_of_total\", \"value\": 0.5221060335397764}, {\"date\": \"2022-11-04T00:00:00\", \"variable\": \"average_level_pct_of_total\", \"value\": 0.5221060335397764}, {\"date\": \"2022-11-05T00:00:00\", \"variable\": \"average_level_pct_of_total\", \"value\": 0.5221060335397764}, {\"date\": \"2022-11-06T00:00:00\", \"variable\": \"average_level_pct_of_total\", \"value\": 0.5221060335397764}, {\"date\": \"2022-11-07T00:00:00\", \"variable\": \"average_level_pct_of_total\", \"value\": 0.5221060335397764}, {\"date\": \"2022-11-08T00:00:00\", \"variable\": \"average_level_pct_of_total\", \"value\": 0.5221060335397764}, {\"date\": \"2022-11-09T00:00:00\", \"variable\": \"average_level_pct_of_total\", \"value\": 0.5221060335397764}, {\"date\": \"2022-11-10T00:00:00\", \"variable\": \"average_level_pct_of_total\", \"value\": 0.5221060335397764}, {\"date\": \"2022-11-11T00:00:00\", \"variable\": \"average_level_pct_of_total\", \"value\": 0.5221060335397764}, {\"date\": \"2022-11-12T00:00:00\", \"variable\": \"average_level_pct_of_total\", \"value\": 0.5221060335397764}, {\"date\": \"2022-11-13T00:00:00\", \"variable\": \"average_level_pct_of_total\", \"value\": 0.5221060335397764}, {\"date\": \"2022-11-14T00:00:00\", \"variable\": \"average_level_pct_of_total\", \"value\": 0.5221060335397764}, {\"date\": \"2022-11-15T00:00:00\", \"variable\": \"average_level_pct_of_total\", \"value\": 0.5221060335397764}, {\"date\": \"2022-11-16T00:00:00\", \"variable\": \"average_level_pct_of_total\", \"value\": 0.5221060335397764}, {\"date\": \"2022-11-17T00:00:00\", \"variable\": \"average_level_pct_of_total\", \"value\": 0.5221060335397764}, {\"date\": \"2022-11-18T00:00:00\", \"variable\": \"average_level_pct_of_total\", \"value\": 0.5221060335397764}, {\"date\": \"2022-11-19T00:00:00\", \"variable\": \"average_level_pct_of_total\", \"value\": 0.5221060335397764}, {\"date\": \"2022-11-20T00:00:00\", \"variable\": \"average_level_pct_of_total\", \"value\": 0.5221060335397764}, {\"date\": \"2022-11-21T00:00:00\", \"variable\": \"average_level_pct_of_total\", \"value\": 0.5221060335397764}, {\"date\": \"2022-11-22T00:00:00\", \"variable\": \"average_level_pct_of_total\", \"value\": 0.5221060335397764}, {\"date\": \"2022-11-23T00:00:00\", \"variable\": \"average_level_pct_of_total\", \"value\": 0.5221060335397764}, {\"date\": \"2022-11-24T00:00:00\", \"variable\": \"average_level_pct_of_total\", \"value\": 0.5221060335397764}, {\"date\": \"2022-11-25T00:00:00\", \"variable\": \"average_level_pct_of_total\", \"value\": 0.5221060335397764}, {\"date\": \"2022-11-26T00:00:00\", \"variable\": \"average_level_pct_of_total\", \"value\": 0.5221060335397764}, {\"date\": \"2022-11-27T00:00:00\", \"variable\": \"average_level_pct_of_total\", \"value\": 0.5221060335397764}, {\"date\": \"2022-11-28T00:00:00\", \"variable\": \"average_level_pct_of_total\", \"value\": 0.5221060335397764}, {\"date\": \"2022-11-29T00:00:00\", \"variable\": \"average_level_pct_of_total\", \"value\": 0.5221060335397764}, {\"date\": \"2022-11-30T00:00:00\", \"variable\": \"average_level_pct_of_total\", \"value\": 0.5221060335397764}, {\"date\": \"2022-12-01T00:00:00\", \"variable\": \"average_level_pct_of_total\", \"value\": 0.5507348269629793}, {\"date\": \"2022-12-02T00:00:00\", \"variable\": \"average_level_pct_of_total\", \"value\": 0.5507348269629793}, {\"date\": \"2022-12-03T00:00:00\", \"variable\": \"average_level_pct_of_total\", \"value\": 0.5507348269629793}, {\"date\": \"2022-12-04T00:00:00\", \"variable\": \"average_level_pct_of_total\", \"value\": 0.5507348269629793}, {\"date\": \"2022-12-05T00:00:00\", \"variable\": \"average_level_pct_of_total\", \"value\": 0.5507348269629793}, {\"date\": \"2022-12-06T00:00:00\", \"variable\": \"average_level_pct_of_total\", \"value\": 0.5507348269629793}, {\"date\": \"2022-12-07T00:00:00\", \"variable\": \"average_level_pct_of_total\", \"value\": 0.5507348269629793}, {\"date\": \"2022-12-08T00:00:00\", \"variable\": \"average_level_pct_of_total\", \"value\": 0.5507348269629793}, {\"date\": \"2022-12-09T00:00:00\", \"variable\": \"average_level_pct_of_total\", \"value\": 0.5507348269629793}, {\"date\": \"2022-12-10T00:00:00\", \"variable\": \"average_level_pct_of_total\", \"value\": 0.5507348269629793}, {\"date\": \"2022-12-11T00:00:00\", \"variable\": \"average_level_pct_of_total\", \"value\": 0.5507348269629793}, {\"date\": \"2022-12-12T00:00:00\", \"variable\": \"average_level_pct_of_total\", \"value\": 0.5507348269629793}, {\"date\": \"2022-12-13T00:00:00\", \"variable\": \"average_level_pct_of_total\", \"value\": 0.5507348269629793}, {\"date\": \"2022-12-14T00:00:00\", \"variable\": \"average_level_pct_of_total\", \"value\": 0.5507348269629793}, {\"date\": \"2022-12-15T00:00:00\", \"variable\": \"average_level_pct_of_total\", \"value\": 0.5507348269629793}, {\"date\": \"2022-12-16T00:00:00\", \"variable\": \"average_level_pct_of_total\", \"value\": 0.5507348269629793}, {\"date\": \"2022-12-17T00:00:00\", \"variable\": \"average_level_pct_of_total\", \"value\": 0.5507348269629793}, {\"date\": \"2022-12-18T00:00:00\", \"variable\": \"average_level_pct_of_total\", \"value\": 0.5507348269629793}, {\"date\": \"2022-12-19T00:00:00\", \"variable\": \"average_level_pct_of_total\", \"value\": 0.5507348269629793}, {\"date\": \"2022-12-20T00:00:00\", \"variable\": \"average_level_pct_of_total\", \"value\": 0.5507348269629793}, {\"date\": \"2022-12-21T00:00:00\", \"variable\": \"average_level_pct_of_total\", \"value\": 0.5507348269629793}, {\"date\": \"2022-12-22T00:00:00\", \"variable\": \"average_level_pct_of_total\", \"value\": 0.5507348269629793}, {\"date\": \"2022-12-23T00:00:00\", \"variable\": \"average_level_pct_of_total\", \"value\": 0.5507348269629793}, {\"date\": \"2022-12-24T00:00:00\", \"variable\": \"average_level_pct_of_total\", \"value\": 0.5507348269629793}, {\"date\": \"2022-12-25T00:00:00\", \"variable\": \"average_level_pct_of_total\", \"value\": 0.5507348269629793}, {\"date\": \"2022-12-26T00:00:00\", \"variable\": \"average_level_pct_of_total\", \"value\": 0.5507348269629793}, {\"date\": \"2022-12-27T00:00:00\", \"variable\": \"average_level_pct_of_total\", \"value\": 0.5507348269629793}, {\"date\": \"2022-12-28T00:00:00\", \"variable\": \"average_level_pct_of_total\", \"value\": 0.5507348269629793}, {\"date\": \"2022-12-29T00:00:00\", \"variable\": \"average_level_pct_of_total\", \"value\": 0.5507348269629793}, {\"date\": \"2022-12-30T00:00:00\", \"variable\": \"average_level_pct_of_total\", \"value\": 0.5507348269629793}, {\"date\": \"2022-12-31T00:00:00\", \"variable\": \"average_level_pct_of_total\", \"value\": 0.5507348269629793}, {\"date\": \"2023-01-01T00:00:00\", \"variable\": \"average_level_pct_of_total\", \"value\": 0.5967454665166216}, {\"date\": \"2023-01-02T00:00:00\", \"variable\": \"average_level_pct_of_total\", \"value\": 0.5967454665166216}, {\"date\": \"2023-01-03T00:00:00\", \"variable\": \"average_level_pct_of_total\", \"value\": 0.5967454665166216}, {\"date\": \"2023-01-04T00:00:00\", \"variable\": \"average_level_pct_of_total\", \"value\": 0.5967454665166216}, {\"date\": \"2023-01-05T00:00:00\", \"variable\": \"average_level_pct_of_total\", \"value\": 0.5967454665166216}, {\"date\": \"2023-01-06T00:00:00\", \"variable\": \"average_level_pct_of_total\", \"value\": 0.5967454665166216}, {\"date\": \"2023-01-07T00:00:00\", \"variable\": \"average_level_pct_of_total\", \"value\": 0.5967454665166216}, {\"date\": \"2023-01-08T00:00:00\", \"variable\": \"average_level_pct_of_total\", \"value\": 0.5967454665166216}, {\"date\": \"2023-01-09T00:00:00\", \"variable\": \"average_level_pct_of_total\", \"value\": 0.5967454665166216}, {\"date\": \"2023-01-10T00:00:00\", \"variable\": \"average_level_pct_of_total\", \"value\": 0.5967454665166216}, {\"date\": \"2023-01-11T00:00:00\", \"variable\": \"average_level_pct_of_total\", \"value\": 0.5967454665166216}, {\"date\": \"2023-01-12T00:00:00\", \"variable\": \"average_level_pct_of_total\", \"value\": 0.5967454665166216}, {\"date\": \"2023-01-13T00:00:00\", \"variable\": \"average_level_pct_of_total\", \"value\": 0.5967454665166216}, {\"date\": \"2023-01-14T00:00:00\", \"variable\": \"average_level_pct_of_total\", \"value\": 0.5967454665166216}, {\"date\": \"2023-01-15T00:00:00\", \"variable\": \"average_level_pct_of_total\", \"value\": 0.5967454665166216}, {\"date\": \"2023-01-16T00:00:00\", \"variable\": \"average_level_pct_of_total\", \"value\": 0.5967454665166216}, {\"date\": \"2023-01-17T00:00:00\", \"variable\": \"average_level_pct_of_total\", \"value\": 0.5967454665166216}, {\"date\": \"2023-01-18T00:00:00\", \"variable\": \"average_level_pct_of_total\", \"value\": 0.5967454665166216}, {\"date\": \"2023-01-19T00:00:00\", \"variable\": \"average_level_pct_of_total\", \"value\": 0.5967454665166216}, {\"date\": \"2023-01-20T00:00:00\", \"variable\": \"average_level_pct_of_total\", \"value\": 0.5967454665166216}, {\"date\": \"2023-01-21T00:00:00\", \"variable\": \"average_level_pct_of_total\", \"value\": 0.5967454665166216}, {\"date\": \"2023-01-22T00:00:00\", \"variable\": \"average_level_pct_of_total\", \"value\": 0.5967454665166216}, {\"date\": \"2023-01-23T00:00:00\", \"variable\": \"average_level_pct_of_total\", \"value\": 0.5967454665166216}, {\"date\": \"2023-01-24T00:00:00\", \"variable\": \"average_level_pct_of_total\", \"value\": 0.5967454665166216}, {\"date\": \"2023-01-25T00:00:00\", \"variable\": \"average_level_pct_of_total\", \"value\": 0.5967454665166216}, {\"date\": \"2023-01-26T00:00:00\", \"variable\": \"average_level_pct_of_total\", \"value\": 0.5967454665166216}, {\"date\": \"2023-01-27T00:00:00\", \"variable\": \"average_level_pct_of_total\", \"value\": 0.5967454665166216}, {\"date\": \"2023-01-28T00:00:00\", \"variable\": \"average_level_pct_of_total\", \"value\": 0.5967454665166216}, {\"date\": \"2023-01-29T00:00:00\", \"variable\": \"average_level_pct_of_total\", \"value\": 0.5967454665166216}, {\"date\": \"2023-01-30T00:00:00\", \"variable\": \"average_level_pct_of_total\", \"value\": 0.5967454665166216}, {\"date\": \"2023-01-31T00:00:00\", \"variable\": \"average_level_pct_of_total\", \"value\": 0.5967454665166216}, {\"date\": \"2023-02-01T00:00:00\", \"variable\": \"average_level_pct_of_total\", \"value\": 0.6356025801442216}, {\"date\": \"2023-02-02T00:00:00\", \"variable\": \"average_level_pct_of_total\", \"value\": 0.6356025801442216}, {\"date\": \"2023-02-03T00:00:00\", \"variable\": \"average_level_pct_of_total\", \"value\": 0.6356025801442216}, {\"date\": \"2023-02-04T00:00:00\", \"variable\": \"average_level_pct_of_total\", \"value\": 0.6356025801442216}, {\"date\": \"2023-02-05T00:00:00\", \"variable\": \"average_level_pct_of_total\", \"value\": 0.6356025801442216}, {\"date\": \"2023-02-06T00:00:00\", \"variable\": \"average_level_pct_of_total\", \"value\": 0.6356025801442216}, {\"date\": \"2023-02-07T00:00:00\", \"variable\": \"average_level_pct_of_total\", \"value\": 0.6356025801442216}, {\"date\": \"2023-02-08T00:00:00\", \"variable\": \"average_level_pct_of_total\", \"value\": 0.6356025801442216}, {\"date\": \"2023-02-09T00:00:00\", \"variable\": \"average_level_pct_of_total\", \"value\": 0.6356025801442216}, {\"date\": \"2023-02-10T00:00:00\", \"variable\": \"average_level_pct_of_total\", \"value\": 0.6356025801442216}, {\"date\": \"2023-02-11T00:00:00\", \"variable\": \"average_level_pct_of_total\", \"value\": 0.6356025801442216}, {\"date\": \"2023-02-12T00:00:00\", \"variable\": \"average_level_pct_of_total\", \"value\": 0.6356025801442216}, {\"date\": \"2023-02-13T00:00:00\", \"variable\": \"average_level_pct_of_total\", \"value\": 0.6356025801442216}, {\"date\": \"2023-02-14T00:00:00\", \"variable\": \"average_level_pct_of_total\", \"value\": 0.6356025801442216}, {\"date\": \"2023-02-15T00:00:00\", \"variable\": \"average_level_pct_of_total\", \"value\": 0.6356025801442216}, {\"date\": \"2023-02-16T00:00:00\", \"variable\": \"average_level_pct_of_total\", \"value\": 0.6356025801442216}, {\"date\": \"2023-02-17T00:00:00\", \"variable\": \"average_level_pct_of_total\", \"value\": 0.6356025801442216}, {\"date\": \"2023-02-18T00:00:00\", \"variable\": \"average_level_pct_of_total\", \"value\": 0.6356025801442216}, {\"date\": \"2023-02-19T00:00:00\", \"variable\": \"average_level_pct_of_total\", \"value\": 0.6356025801442216}, {\"date\": \"2023-02-20T00:00:00\", \"variable\": \"average_level_pct_of_total\", \"value\": 0.6356025801442216}, {\"date\": \"2023-02-21T00:00:00\", \"variable\": \"average_level_pct_of_total\", \"value\": 0.6356025801442216}, {\"date\": \"2023-02-22T00:00:00\", \"variable\": \"average_level_pct_of_total\", \"value\": 0.6356025801442216}, {\"date\": \"2023-02-23T00:00:00\", \"variable\": \"average_level_pct_of_total\", \"value\": 0.6356025801442216}, {\"date\": \"2023-02-24T00:00:00\", \"variable\": \"average_level_pct_of_total\", \"value\": 0.6356025801442216}, {\"date\": \"2023-02-25T00:00:00\", \"variable\": \"average_level_pct_of_total\", \"value\": 0.6356025801442216}, {\"date\": \"2023-02-26T00:00:00\", \"variable\": \"average_level_pct_of_total\", \"value\": 0.6356025801442216}, {\"date\": \"2023-02-27T00:00:00\", \"variable\": \"average_level_pct_of_total\", \"value\": 0.6356025801442216}, {\"date\": \"2023-02-28T00:00:00\", \"variable\": \"average_level_pct_of_total\", \"value\": 0.6356025801442216}, {\"date\": \"2023-03-01T00:00:00\", \"variable\": \"average_level_pct_of_total\", \"value\": 0.6854026425755274}, {\"date\": \"2023-03-02T00:00:00\", \"variable\": \"average_level_pct_of_total\", \"value\": 0.6854026425755274}, {\"date\": \"2023-03-03T00:00:00\", \"variable\": \"average_level_pct_of_total\", \"value\": 0.6854026425755274}, {\"date\": \"2023-03-04T00:00:00\", \"variable\": \"average_level_pct_of_total\", \"value\": 0.6854026425755274}, {\"date\": \"2023-03-05T00:00:00\", \"variable\": \"average_level_pct_of_total\", \"value\": 0.6854026425755274}, {\"date\": \"2023-03-06T00:00:00\", \"variable\": \"average_level_pct_of_total\", \"value\": 0.6854026425755274}, {\"date\": \"2023-03-07T00:00:00\", \"variable\": \"average_level_pct_of_total\", \"value\": 0.6854026425755274}, {\"date\": \"2023-03-08T00:00:00\", \"variable\": \"average_level_pct_of_total\", \"value\": 0.6854026425755274}, {\"date\": \"2023-03-09T00:00:00\", \"variable\": \"average_level_pct_of_total\", \"value\": 0.6854026425755274}, {\"date\": \"2023-03-10T00:00:00\", \"variable\": \"average_level_pct_of_total\", \"value\": 0.6854026425755274}, {\"date\": \"2023-03-11T00:00:00\", \"variable\": \"average_level_pct_of_total\", \"value\": 0.6854026425755274}, {\"date\": \"2023-03-12T00:00:00\", \"variable\": \"average_level_pct_of_total\", \"value\": 0.6854026425755274}, {\"date\": \"2023-03-13T00:00:00\", \"variable\": \"average_level_pct_of_total\", \"value\": 0.6854026425755274}, {\"date\": \"2023-03-14T00:00:00\", \"variable\": \"average_level_pct_of_total\", \"value\": 0.6854026425755274}, {\"date\": \"2023-03-15T00:00:00\", \"variable\": \"average_level_pct_of_total\", \"value\": 0.6854026425755274}, {\"date\": \"2023-03-16T00:00:00\", \"variable\": \"average_level_pct_of_total\", \"value\": 0.6854026425755274}, {\"date\": \"2023-03-17T00:00:00\", \"variable\": \"average_level_pct_of_total\", \"value\": 0.6854026425755274}, {\"date\": \"2023-03-18T00:00:00\", \"variable\": \"average_level_pct_of_total\", \"value\": 0.6854026425755274}, {\"date\": \"2023-03-19T00:00:00\", \"variable\": \"average_level_pct_of_total\", \"value\": 0.6854026425755274}, {\"date\": \"2023-03-20T00:00:00\", \"variable\": \"average_level_pct_of_total\", \"value\": 0.6854026425755274}, {\"date\": \"2023-03-21T00:00:00\", \"variable\": \"average_level_pct_of_total\", \"value\": 0.6854026425755274}, {\"date\": \"2023-03-22T00:00:00\", \"variable\": \"average_level_pct_of_total\", \"value\": 0.6854026425755274}, {\"date\": \"2023-03-23T00:00:00\", \"variable\": \"average_level_pct_of_total\", \"value\": 0.6854026425755274}, {\"date\": \"2023-03-24T00:00:00\", \"variable\": \"average_level_pct_of_total\", \"value\": 0.6854026425755274}, {\"date\": \"2023-03-25T00:00:00\", \"variable\": \"average_level_pct_of_total\", \"value\": 0.6854026425755274}, {\"date\": \"2023-03-26T00:00:00\", \"variable\": \"average_level_pct_of_total\", \"value\": 0.6854026425755274}, {\"date\": \"2023-03-27T00:00:00\", \"variable\": \"average_level_pct_of_total\", \"value\": 0.6854026425755274}, {\"date\": \"2023-03-28T00:00:00\", \"variable\": \"average_level_pct_of_total\", \"value\": 0.6854026425755274}, {\"date\": \"2023-03-29T00:00:00\", \"variable\": \"average_level_pct_of_total\", \"value\": 0.6854026425755274}, {\"date\": \"2023-03-30T00:00:00\", \"variable\": \"average_level_pct_of_total\", \"value\": 0.6854026425755274}, {\"date\": \"2023-03-31T00:00:00\", \"variable\": \"average_level_pct_of_total\", \"value\": 0.6854026425755274}, {\"date\": \"2023-04-01T00:00:00\", \"variable\": \"average_level_pct_of_total\", \"value\": 0.724822346210446}, {\"date\": \"2023-04-02T00:00:00\", \"variable\": \"average_level_pct_of_total\", \"value\": 0.724822346210446}, {\"date\": \"2023-04-03T00:00:00\", \"variable\": \"average_level_pct_of_total\", \"value\": 0.724822346210446}, {\"date\": \"2023-04-04T00:00:00\", \"variable\": \"average_level_pct_of_total\", \"value\": 0.724822346210446}, {\"date\": \"2023-04-05T00:00:00\", \"variable\": \"average_level_pct_of_total\", \"value\": 0.724822346210446}, {\"date\": \"2023-04-06T00:00:00\", \"variable\": \"average_level_pct_of_total\", \"value\": 0.724822346210446}, {\"date\": \"2023-04-07T00:00:00\", \"variable\": \"average_level_pct_of_total\", \"value\": 0.724822346210446}, {\"date\": \"2023-04-08T00:00:00\", \"variable\": \"average_level_pct_of_total\", \"value\": 0.724822346210446}, {\"date\": \"2023-04-09T00:00:00\", \"variable\": \"average_level_pct_of_total\", \"value\": 0.724822346210446}, {\"date\": \"2023-04-10T00:00:00\", \"variable\": \"average_level_pct_of_total\", \"value\": 0.724822346210446}, {\"date\": \"2023-04-11T00:00:00\", \"variable\": \"average_level_pct_of_total\", \"value\": 0.724822346210446}, {\"date\": \"2023-04-12T00:00:00\", \"variable\": \"average_level_pct_of_total\", \"value\": 0.724822346210446}, {\"date\": \"2023-04-13T00:00:00\", \"variable\": \"average_level_pct_of_total\", \"value\": 0.724822346210446}, {\"date\": \"2023-04-14T00:00:00\", \"variable\": \"average_level_pct_of_total\", \"value\": 0.724822346210446}, {\"date\": \"2023-04-15T00:00:00\", \"variable\": \"average_level_pct_of_total\", \"value\": 0.724822346210446}, {\"date\": \"2023-04-16T00:00:00\", \"variable\": \"average_level_pct_of_total\", \"value\": 0.724822346210446}, {\"date\": \"2023-04-17T00:00:00\", \"variable\": \"average_level_pct_of_total\", \"value\": 0.724822346210446}, {\"date\": \"2023-04-18T00:00:00\", \"variable\": \"average_level_pct_of_total\", \"value\": 0.724822346210446}, {\"date\": \"2023-04-19T00:00:00\", \"variable\": \"average_level_pct_of_total\", \"value\": 0.724822346210446}, {\"date\": \"2023-04-20T00:00:00\", \"variable\": \"average_level_pct_of_total\", \"value\": 0.724822346210446}, {\"date\": \"2023-04-21T00:00:00\", \"variable\": \"average_level_pct_of_total\", \"value\": 0.724822346210446}, {\"date\": \"2023-04-22T00:00:00\", \"variable\": \"average_level_pct_of_total\", \"value\": 0.724822346210446}, {\"date\": \"2023-04-23T00:00:00\", \"variable\": \"average_level_pct_of_total\", \"value\": 0.724822346210446}, {\"date\": \"2023-04-24T00:00:00\", \"variable\": \"average_level_pct_of_total\", \"value\": 0.724822346210446}, {\"date\": \"2023-04-25T00:00:00\", \"variable\": \"average_level_pct_of_total\", \"value\": 0.724822346210446}, {\"date\": \"2023-04-26T00:00:00\", \"variable\": \"average_level_pct_of_total\", \"value\": 0.724822346210446}, {\"date\": \"2023-04-27T00:00:00\", \"variable\": \"average_level_pct_of_total\", \"value\": 0.724822346210446}, {\"date\": \"2023-04-28T00:00:00\", \"variable\": \"average_level_pct_of_total\", \"value\": 0.724822346210446}, {\"date\": \"2023-04-29T00:00:00\", \"variable\": \"average_level_pct_of_total\", \"value\": 0.724822346210446}, {\"date\": \"2023-04-30T00:00:00\", \"variable\": \"average_level_pct_of_total\", \"value\": 0.724822346210446}, {\"date\": \"2023-05-01T00:00:00\", \"variable\": \"average_level_pct_of_total\", \"value\": 0.7570756179518859}, {\"date\": \"2023-05-02T00:00:00\", \"variable\": \"average_level_pct_of_total\", \"value\": 0.7570756179518859}, {\"date\": \"2023-05-03T00:00:00\", \"variable\": \"average_level_pct_of_total\", \"value\": 0.7570756179518859}, {\"date\": \"2023-05-04T00:00:00\", \"variable\": \"average_level_pct_of_total\", \"value\": 0.7570756179518859}, {\"date\": \"2023-05-05T00:00:00\", \"variable\": \"average_level_pct_of_total\", \"value\": 0.7570756179518859}, {\"date\": \"2023-05-06T00:00:00\", \"variable\": \"average_level_pct_of_total\", \"value\": 0.7570756179518859}, {\"date\": \"2023-05-07T00:00:00\", \"variable\": \"average_level_pct_of_total\", \"value\": 0.7570756179518859}, {\"date\": \"2023-05-08T00:00:00\", \"variable\": \"average_level_pct_of_total\", \"value\": 0.7570756179518859}, {\"date\": \"2023-05-09T00:00:00\", \"variable\": \"average_level_pct_of_total\", \"value\": 0.7570756179518859}, {\"date\": \"2023-05-10T00:00:00\", \"variable\": \"average_level_pct_of_total\", \"value\": 0.7570756179518859}]}}, {\"mode\": \"vega-lite\"});\n",
       "</script>"
      ],
      "text/plain": [
       "alt.Chart(...)"
      ]
     },
     "execution_count": 234,
     "metadata": {},
     "output_type": "execute_result"
    }
   ],
   "source": [
    "alt.Chart(melt).mark_line().encode(\n",
    "    x=\"date\",\n",
    "    y=\"value\",\n",
    "    color=\"variable\"\n",
    ").properties(width=600)"
   ]
  },
  {
   "cell_type": "markdown",
   "id": "6609fded-c565-490f-b1da-7142a4cdb7ab",
   "metadata": {},
   "source": [
    "### Export"
   ]
  },
  {
   "cell_type": "markdown",
   "id": "1b8ba812-b32b-427a-b12c-d2e69e29a121",
   "metadata": {},
   "source": [
    "Trim and rename for export"
   ]
  },
  {
   "cell_type": "code",
   "execution_count": 235,
   "id": "0382b468-1563-44a0-b6f9-8e90848aa966",
   "metadata": {},
   "outputs": [],
   "source": [
    "export_df = merge_details[\n",
    "    [\n",
    "         'date', \n",
    "         'storage_af', \n",
    "         'average_storage', \n",
    "         'capacity', \n",
    "         'current_level_pct_of_total',\n",
    "         'average_level_pct_of_total', \n",
    "         'current_level_pct_of_avg' \n",
    "    ]\n",
    "].rename(columns={\"lake_name\": \"reservoir_name\"})"
   ]
  },
  {
   "cell_type": "code",
   "execution_count": 236,
   "id": "5a6a888e-55bc-47d7-9152-bf1ef0f680e3",
   "metadata": {},
   "outputs": [],
   "source": [
    "export_df.to_csv(f\"../../data/processed/reservoirs/reservoirs-statewide-latest.csv\", index=False)"
   ]
  }
 ],
 "metadata": {
  "kernelspec": {
   "display_name": "Python 3 (ipykernel)",
   "language": "python",
   "name": "python3"
  },
  "language_info": {
   "codemirror_mode": {
    "name": "ipython",
    "version": 3
   },
   "file_extension": ".py",
   "mimetype": "text/x-python",
   "name": "python",
   "nbconvert_exporter": "python",
   "pygments_lexer": "ipython3",
   "version": "3.9.16"
  }
 },
 "nbformat": 4,
 "nbformat_minor": 5
}
