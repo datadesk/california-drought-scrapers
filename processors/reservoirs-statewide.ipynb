{
 "cells": [
  {
   "cell_type": "code",
   "execution_count": 36,
   "id": "a8f68e43-feaa-4996-8d5a-ecc52ce8bf66",
   "metadata": {},
   "outputs": [],
   "source": [
    "import pytz\n",
    "from datetime import datetime, date, timedelta\n",
    "import pandas as pd\n",
    "import altair as alt\n",
    "import altair_latimes as lat"
   ]
  },
  {
   "cell_type": "code",
   "execution_count": 37,
   "id": "7f08691a-275f-4165-b2a5-dc7a70e2c3a6",
   "metadata": {},
   "outputs": [
    {
     "data": {
      "text/plain": [
       "ThemeRegistry.enable('latimes')"
      ]
     },
     "execution_count": 37,
     "metadata": {},
     "output_type": "execute_result"
    }
   ],
   "source": [
    "alt.themes.register('latimes', lat.theme)\n",
    "alt.themes.enable('latimes')"
   ]
  },
  {
   "cell_type": "code",
   "execution_count": 38,
   "id": "154fda82-e6f3-4a42-86c8-578b4fc0d2cb",
   "metadata": {},
   "outputs": [],
   "source": [
    "pd.set_option('display.float_format', lambda x: '%.3f' % x)"
   ]
  },
  {
   "cell_type": "markdown",
   "id": "0cfcb7f3-6169-489d-a054-1b801988d626",
   "metadata": {},
   "source": [
    "### Import"
   ]
  },
  {
   "cell_type": "code",
   "execution_count": 39,
   "id": "81973009-6e4c-4b44-8db8-17ec118ecd88",
   "metadata": {},
   "outputs": [],
   "source": [
    "df = pd.read_csv(\n",
    "    \"../data/raw/reservoirs/statewide/timeseries.csv\", \n",
    "    parse_dates=[\"DATE TIME\", \"OBS DATE\"]\n",
    ")"
   ]
  },
  {
   "cell_type": "code",
   "execution_count": 40,
   "id": "592ce46b-5c36-44bb-94cd-4a2ad733a55c",
   "metadata": {},
   "outputs": [],
   "source": [
    "hist_df = pd.read_csv(\n",
    "    \"../data/metadata/reservoirs-statewide-historical-averages.csv\"\n",
    ")"
   ]
  },
  {
   "cell_type": "code",
   "execution_count": 41,
   "id": "284a5f3e-4391-4685-808d-f40e64511e7b",
   "metadata": {},
   "outputs": [],
   "source": [
    "details_df = pd.read_csv(\n",
    "    \"../data/metadata/reservoirs-statewide-details.csv\"\n",
    ")"
   ]
  },
  {
   "cell_type": "markdown",
   "id": "66364b79-8a94-4d02-abfa-9a83aabf5d27",
   "metadata": {},
   "source": [
    "### Clean"
   ]
  },
  {
   "cell_type": "code",
   "execution_count": 42,
   "id": "7b763bc7-8495-424c-8e82-916bdde9e4b3",
   "metadata": {},
   "outputs": [
    {
     "name": "stdout",
     "output_type": "stream",
     "text": [
      "<class 'pandas.core.frame.DataFrame'>\n",
      "RangeIndex: 357 entries, 0 to 356\n",
      "Data columns (total 9 columns):\n",
      " #   Column         Non-Null Count  Dtype         \n",
      "---  ------         --------------  -----         \n",
      " 0   STATION_ID     357 non-null    object        \n",
      " 1   DURATION       357 non-null    object        \n",
      " 2   SENSOR_NUMBER  357 non-null    int64         \n",
      " 3   SENSOR_TYPE    357 non-null    object        \n",
      " 4   DATE TIME      357 non-null    datetime64[ns]\n",
      " 5   OBS DATE       357 non-null    datetime64[ns]\n",
      " 6   VALUE          357 non-null    object        \n",
      " 7   DATA_FLAG      357 non-null    object        \n",
      " 8   UNITS          357 non-null    object        \n",
      "dtypes: datetime64[ns](2), int64(1), object(6)\n",
      "memory usage: 25.2+ KB\n"
     ]
    }
   ],
   "source": [
    "df.info()"
   ]
  },
  {
   "cell_type": "code",
   "execution_count": 43,
   "id": "3bcf2dc4-c020-41b4-becf-3e4c43c425d1",
   "metadata": {},
   "outputs": [],
   "source": [
    "df.columns = df.columns.str.lower()"
   ]
  },
  {
   "cell_type": "code",
   "execution_count": 44,
   "id": "2e0088a1-012e-474f-b5da-fb9fdfe75b78",
   "metadata": {},
   "outputs": [],
   "source": [
    "df.columns = df.columns.str.replace(\" \",\"_\")"
   ]
  },
  {
   "cell_type": "code",
   "execution_count": 45,
   "id": "5b1ca206-03bd-4d33-b39b-689a4c971190",
   "metadata": {},
   "outputs": [],
   "source": [
    "df = df.rename(columns={\n",
    "    \"station_id\": \"reservoir_id\",\n",
    "    \"date_time\": \"date\",\n",
    "    \"value\": \"storage_af\"\n",
    "})"
   ]
  },
  {
   "cell_type": "markdown",
   "id": "b47722e1-1ba9-4a6c-ae48-c5cb740c3390",
   "metadata": {},
   "source": [
    "### Check out latest data"
   ]
  },
  {
   "cell_type": "code",
   "execution_count": 46,
   "id": "2db707c7-b51f-467a-b0e2-6093a8693cf2",
   "metadata": {},
   "outputs": [],
   "source": [
    "valid_entries = df[ (df.storage_af != \"---\") ]"
   ]
  },
  {
   "cell_type": "code",
   "execution_count": 47,
   "id": "9df59efa-cc90-4657-88ff-0bb177ca2752",
   "metadata": {},
   "outputs": [],
   "source": [
    "latest_df = valid_entries[valid_entries.date == valid_entries.date.max()].copy()"
   ]
  },
  {
   "cell_type": "code",
   "execution_count": 48,
   "id": "db224586-5249-46ab-b4e6-f8a6d10d340f",
   "metadata": {},
   "outputs": [],
   "source": [
    "#df[\"storage_af\"] = df[\"storage_af\"].str.replace(\"---\",\"\")"
   ]
  },
  {
   "cell_type": "code",
   "execution_count": 49,
   "id": "69e887d1-7a69-461c-95a6-7fa88ff67e2f",
   "metadata": {},
   "outputs": [],
   "source": [
    "latest_df[\"storage_af\"] = pd.to_numeric(latest_df[\"storage_af\"])"
   ]
  },
  {
   "cell_type": "code",
   "execution_count": 50,
   "id": "2bd306aa-4f49-49f7-a640-f660c0181f9f",
   "metadata": {},
   "outputs": [],
   "source": [
    "#df = df.dropna(subset=\"storage_af\")"
   ]
  },
  {
   "cell_type": "code",
   "execution_count": 51,
   "id": "ab88d8d6-dd9e-4710-b3c0-d78a666b7453",
   "metadata": {},
   "outputs": [],
   "source": [
    "# tz = pytz.timezone(\"America/Los_Angeles\")"
   ]
  },
  {
   "cell_type": "code",
   "execution_count": 52,
   "id": "440c84d0-3fa3-4188-b51f-9a13d62499ab",
   "metadata": {},
   "outputs": [],
   "source": [
    "# today = datetime.now(tz).date()\n",
    "# today"
   ]
  },
  {
   "cell_type": "code",
   "execution_count": 53,
   "id": "7a44016c-b20d-471d-b261-c254eef5bd5d",
   "metadata": {},
   "outputs": [],
   "source": [
    "# yesterday = (today - pd.DateOffset(days=1)).date()\n",
    "# yesterday"
   ]
  },
  {
   "cell_type": "code",
   "execution_count": 54,
   "id": "390653d1-395b-46e2-ae3f-ed594f229b1a",
   "metadata": {},
   "outputs": [],
   "source": [
    "# latest_df = df[df.date == pd.to_datetime(yesterday)].copy()"
   ]
  },
  {
   "cell_type": "code",
   "execution_count": 55,
   "id": "6d72c3f2-c99d-4b30-9058-23099672c5e7",
   "metadata": {},
   "outputs": [
    {
     "data": {
      "text/plain": [
       "1"
      ]
     },
     "execution_count": 55,
     "metadata": {},
     "output_type": "execute_result"
    }
   ],
   "source": [
    "len(latest_df)"
   ]
  },
  {
   "cell_type": "code",
   "execution_count": 56,
   "id": "14bf9f50-3ddc-47d3-b8e8-69a95a49b4af",
   "metadata": {},
   "outputs": [
    {
     "data": {
      "text/plain": [
       "15000000"
      ]
     },
     "execution_count": 56,
     "metadata": {},
     "output_type": "execute_result"
    }
   ],
   "source": [
    "latest_df.storage_af.sum()"
   ]
  },
  {
   "cell_type": "markdown",
   "id": "45bdc35a-8e5f-43e8-9b3a-9078e6a1158a",
   "metadata": {},
   "source": [
    "### Merge historical average"
   ]
  },
  {
   "cell_type": "markdown",
   "id": "f193e506-35eb-49d8-8110-43ac386fe12b",
   "metadata": {},
   "source": [
    "Create month column for merging"
   ]
  },
  {
   "cell_type": "code",
   "execution_count": 57,
   "id": "5c5019e6-921a-43a1-a610-16c64e9840a5",
   "metadata": {},
   "outputs": [],
   "source": [
    "latest_df[\"month\"] = pd.DatetimeIndex(latest_df.date).month"
   ]
  },
  {
   "cell_type": "code",
   "execution_count": 58,
   "id": "3b4a73bb-fbba-44e8-97be-90512bc13bf7",
   "metadata": {},
   "outputs": [],
   "source": [
    "hist_df[\"month\"] = pd.to_datetime(hist_df[\"month\"], format='%B').dt.month"
   ]
  },
  {
   "cell_type": "code",
   "execution_count": 59,
   "id": "2aa5e555-78f7-46d7-ae10-a480eb8b1cfe",
   "metadata": {},
   "outputs": [],
   "source": [
    "merge_historical = pd.merge(\n",
    "    latest_df[[\"reservoir_id\",\"date\",\"month\",\"storage_af\"]],\n",
    "    hist_df[[\"reservoir_id\", \"month\", \"average_storage\"]],\n",
    "    how=\"left\",\n",
    "    on=[\"reservoir_id\",\"month\"]\n",
    ")"
   ]
  },
  {
   "cell_type": "code",
   "execution_count": 60,
   "id": "c84fe492-1e78-4498-a85b-88380620fa20",
   "metadata": {},
   "outputs": [],
   "source": [
    "merge_details = pd.merge(\n",
    "    merge_historical,\n",
    "    details_df[[\"reservoir_id\", \"lake_name\", \"capacity\", \"number_of_dams\"]],\n",
    "    how=\"left\",\n",
    "    on=[\"reservoir_id\"]               \n",
    ")"
   ]
  },
  {
   "cell_type": "code",
   "execution_count": 61,
   "id": "e572ba7c-95e1-4bf4-ab94-7c96b6577770",
   "metadata": {},
   "outputs": [],
   "source": [
    "merge_details.loc[merge_details.lake_name == \"Total\", \"lake_name\"] = \"Statewide\""
   ]
  },
  {
   "cell_type": "markdown",
   "id": "a9200178-e440-4545-99ea-0fc81e7182b4",
   "metadata": {},
   "source": [
    "### Calculate percentages"
   ]
  },
  {
   "cell_type": "code",
   "execution_count": 62,
   "id": "425b72be-98c0-4b15-9222-664b29588e2c",
   "metadata": {},
   "outputs": [],
   "source": [
    "merge_details[\"current_level_pct_of_total\"] = merge_details[\"storage_af\"] / merge_details[\"capacity\"]"
   ]
  },
  {
   "cell_type": "code",
   "execution_count": 63,
   "id": "86c5850e-6f00-4087-8ea7-d9dbae910a39",
   "metadata": {},
   "outputs": [],
   "source": [
    "merge_details[\"average_level_pct_of_total\"] = merge_details[\"average_storage\"] / merge_details[\"capacity\"]"
   ]
  },
  {
   "cell_type": "code",
   "execution_count": 64,
   "id": "787733db-9e5d-445d-a4db-a4f4f558c77d",
   "metadata": {},
   "outputs": [],
   "source": [
    "merge_details[\"current_level_pct_of_avg\"] = merge_details[\"storage_af\"] / merge_details[\"average_storage\"]"
   ]
  },
  {
   "cell_type": "code",
   "execution_count": 65,
   "id": "7e181eeb-82c6-49e4-a6d4-e398860fb852",
   "metadata": {},
   "outputs": [],
   "source": [
    "melt=pd.melt(\n",
    "    merge_details, \n",
    "    id_vars=\"reservoir_id\", \n",
    "    value_vars=[\"storage_af\", \"average_storage\", \"capacity\"]\n",
    ")"
   ]
  },
  {
   "cell_type": "code",
   "execution_count": 66,
   "id": "683e57e6-d902-42c8-b8ed-90daff0e22da",
   "metadata": {},
   "outputs": [],
   "source": [
    "bar_order = {\n",
    "    \"storage_af\": 1, \n",
    "    \"average_storage\": 2, \n",
    "    \"capacity\":3            \n",
    "}"
   ]
  },
  {
   "cell_type": "code",
   "execution_count": 67,
   "id": "2d535d8f-5141-47bd-b988-f02e435c128a",
   "metadata": {},
   "outputs": [],
   "source": [
    "melt[\"bar_order\"] = melt.variable.map(bar_order)"
   ]
  },
  {
   "cell_type": "code",
   "execution_count": 68,
   "id": "dfe87068-cfd2-4a93-b3d8-9650000607f5",
   "metadata": {},
   "outputs": [
    {
     "data": {
      "text/html": [
       "\n",
       "<div id=\"altair-viz-c4c2e81c07b94bb5b306fa493de00849\"></div>\n",
       "<script type=\"text/javascript\">\n",
       "  var VEGA_DEBUG = (typeof VEGA_DEBUG == \"undefined\") ? {} : VEGA_DEBUG;\n",
       "  (function(spec, embedOpt){\n",
       "    let outputDiv = document.currentScript.previousElementSibling;\n",
       "    if (outputDiv.id !== \"altair-viz-c4c2e81c07b94bb5b306fa493de00849\") {\n",
       "      outputDiv = document.getElementById(\"altair-viz-c4c2e81c07b94bb5b306fa493de00849\");\n",
       "    }\n",
       "    const paths = {\n",
       "      \"vega\": \"https://cdn.jsdelivr.net/npm//vega@5?noext\",\n",
       "      \"vega-lib\": \"https://cdn.jsdelivr.net/npm//vega-lib?noext\",\n",
       "      \"vega-lite\": \"https://cdn.jsdelivr.net/npm//vega-lite@4.17.0?noext\",\n",
       "      \"vega-embed\": \"https://cdn.jsdelivr.net/npm//vega-embed@6?noext\",\n",
       "    };\n",
       "\n",
       "    function maybeLoadScript(lib, version) {\n",
       "      var key = `${lib.replace(\"-\", \"\")}_version`;\n",
       "      return (VEGA_DEBUG[key] == version) ?\n",
       "        Promise.resolve(paths[lib]) :\n",
       "        new Promise(function(resolve, reject) {\n",
       "          var s = document.createElement('script');\n",
       "          document.getElementsByTagName(\"head\")[0].appendChild(s);\n",
       "          s.async = true;\n",
       "          s.onload = () => {\n",
       "            VEGA_DEBUG[key] = version;\n",
       "            return resolve(paths[lib]);\n",
       "          };\n",
       "          s.onerror = () => reject(`Error loading script: ${paths[lib]}`);\n",
       "          s.src = paths[lib];\n",
       "        });\n",
       "    }\n",
       "\n",
       "    function showError(err) {\n",
       "      outputDiv.innerHTML = `<div class=\"error\" style=\"color:red;\">${err}</div>`;\n",
       "      throw err;\n",
       "    }\n",
       "\n",
       "    function displayChart(vegaEmbed) {\n",
       "      vegaEmbed(outputDiv, spec, embedOpt)\n",
       "        .catch(err => showError(`Javascript Error: ${err.message}<br>This usually means there's a typo in your chart specification. See the javascript console for the full traceback.`));\n",
       "    }\n",
       "\n",
       "    if(typeof define === \"function\" && define.amd) {\n",
       "      requirejs.config({paths});\n",
       "      require([\"vega-embed\"], displayChart, err => showError(`Error loading script: ${err.message}`));\n",
       "    } else {\n",
       "      maybeLoadScript(\"vega\", \"5\")\n",
       "        .then(() => maybeLoadScript(\"vega-lite\", \"4.17.0\"))\n",
       "        .then(() => maybeLoadScript(\"vega-embed\", \"6\"))\n",
       "        .catch(showError)\n",
       "        .then(() => displayChart(vegaEmbed));\n",
       "    }\n",
       "  })({\"config\": {\"view\": {\"width\": 800, \"height\": 450}, \"background\": \"#ffffff\", \"title\": {\"anchor\": \"start\", \"font\": \"BentonGothic-Bold, sans\", \"fontColor\": \"#000000\", \"fontSize\": 22, \"fontWeight\": \"normal\"}, \"arc\": {\"fill\": \"#82c6df\"}, \"area\": {\"fill\": \"#82c6df\"}, \"line\": {\"stroke\": \"#82c6df\", \"strokeWidth\": 3}, \"path\": {\"stroke\": \"#82c6df\"}, \"rect\": {\"fill\": \"#82c6df\"}, \"shape\": {\"stroke\": \"#82c6df\"}, \"bar\": {\"fill\": \"#82c6df\"}, \"point\": {\"stroke\": \"#82c6df\"}, \"symbol\": {\"fill\": \"#82c6df\", \"size\": 30}, \"axis\": {\"titleFont\": \"BentonGothic-Bold, sans\", \"titleFontSize\": 14, \"titleFontWeight\": \"normal\", \"labelFont\": \"BentonGothic, sans\", \"labelFontSize\": 12, \"labelFontWeight\": \"normal\"}, \"axisX\": {\"labelAngle\": 0, \"labelPadding\": 4, \"tickSize\": 3}, \"axisY\": {\"labelBaseline\": \"middle\", \"maxExtent\": 45, \"minExtent\": 45, \"tickSize\": 2, \"titleAlign\": \"left\", \"titleAngle\": 0, \"titleX\": -45, \"titleY\": -11}, \"legend\": {\"titleFont\": \"BentonGothic-Bold, sans\", \"titleFontSize\": 14, \"titleFontWeight\": \"normal\", \"symbolType\": \"square\", \"labelFont\": \"BentonGothic, sans\", \"labelFontSize\": 13}, \"range\": {\"category\": [\"#3580b1\", \"#ec8431\", \"#ab7fb4\", \"#c89d29\", \"#adc839\", \"#829eb1\"], \"diverging\": [\"#e68a4f\", \"#f4bb6a\", \"#f9e39c\", \"#dadfe2\", \"#a6b7c6\", \"#849eae\"], \"heatmap\": [\"#fbf2c7\", \"#f9e39c\", \"#f8d36e\", \"#f4bb6a\", \"#e68a4f\", \"#d15a40\", \"#ab4232\"], \"ordinal\": [\"#fbf2c7\", \"#f9e39c\", \"#f8d36e\", \"#f4bb6a\", \"#e68a4f\", \"#d15a40\", \"#ab4232\"], \"ramp\": [\"#fbf2c7\", \"#f9e39c\", \"#f8d36e\", \"#f4bb6a\", \"#e68a4f\", \"#d15a40\", \"#ab4232\"]}}, \"data\": {\"name\": \"data-1f2a262d47148360375d8ea596eb5497\"}, \"mark\": \"bar\", \"encoding\": {\"color\": {\"field\": \"variable\", \"scale\": {\"domain\": [\"capacity\", \"average_storage\", \"storage_af\"], \"range\": [\"#ddd\", \"#83c6e0\", \"#1281aa\"]}, \"type\": \"nominal\"}, \"order\": {\"field\": \"bar_order\", \"type\": \"quantitative\"}, \"tooltip\": [{\"field\": \"reservoir_id\", \"type\": \"nominal\"}], \"x\": {\"axis\": {\"labels\": false}, \"field\": \"reservoir_id\", \"type\": \"nominal\"}, \"y\": {\"field\": \"value\", \"stack\": \"normalize\", \"type\": \"quantitative\"}}, \"title\": \"Statewide water storage\", \"width\": 150, \"$schema\": \"https://vega.github.io/schema/vega-lite/v4.17.0.json\", \"datasets\": {\"data-1f2a262d47148360375d8ea596eb5497\": [{\"reservoir_id\": \"SWV\", \"variable\": \"storage_af\", \"value\": 15000000.0, \"bar_order\": 1}, {\"reservoir_id\": \"SWV\", \"variable\": \"average_storage\", \"value\": 21229285.0, \"bar_order\": 2}, {\"reservoir_id\": \"SWV\", \"variable\": \"capacity\", \"value\": 38121900.0, \"bar_order\": 3}]}}, {\"mode\": \"vega-lite\"});\n",
       "</script>"
      ],
      "text/plain": [
       "alt.Chart(...)"
      ]
     },
     "execution_count": 68,
     "metadata": {},
     "output_type": "execute_result"
    }
   ],
   "source": [
    "domain = [\"capacity\", \"average_storage\", \"storage_af\", ]\n",
    "range_ = ['#ddd', '#83c6e0', '#1281aa', ]\n",
    "\n",
    "alt.Chart(melt).mark_bar().encode(\n",
    "    x=alt.X('reservoir_id', axis=alt.Axis(labels=False)),\n",
    "    y=alt.Y('value',stack=\"normalize\"),\n",
    "    order=\"bar_order\",\n",
    "    color=alt.Color(\n",
    "        'variable', \n",
    "        scale=alt.Scale(domain=domain, range=range_), \n",
    "        #sort='descending'\n",
    "    ),\n",
    "    tooltip=[\"reservoir_id\"]\n",
    ").properties(title=\"Statewide water storage\", width=150)"
   ]
  },
  {
   "cell_type": "markdown",
   "id": "6609fded-c565-490f-b1da-7142a4cdb7ab",
   "metadata": {},
   "source": [
    "### Export"
   ]
  },
  {
   "cell_type": "markdown",
   "id": "1b8ba812-b32b-427a-b12c-d2e69e29a121",
   "metadata": {},
   "source": [
    "Trim and rename for export"
   ]
  },
  {
   "cell_type": "code",
   "execution_count": 69,
   "id": "0382b468-1563-44a0-b6f9-8e90848aa966",
   "metadata": {},
   "outputs": [],
   "source": [
    "export_df = merge_details[\n",
    "    ['reservoir_id',\n",
    "     'lake_name', \n",
    "     'number_of_dams',\n",
    "     'date', \n",
    "     'storage_af', \n",
    "     'average_storage', \n",
    "     'capacity', \n",
    "     'current_level_pct_of_total',\n",
    "     'average_level_pct_of_total', \n",
    "     'current_level_pct_of_avg' ]\n",
    "].rename(columns={\"lake_name\": \"reservoir_name\"})"
   ]
  },
  {
   "cell_type": "code",
   "execution_count": 70,
   "id": "5a6a888e-55bc-47d7-9152-bf1ef0f680e3",
   "metadata": {},
   "outputs": [],
   "source": [
    "export_df.to_csv(f\"../data/processed/reservoirs/reservoirs-statewide-latest.csv\", index=False)"
   ]
  }
 ],
 "metadata": {
  "kernelspec": {
   "display_name": "Python 3 (ipykernel)",
   "language": "python",
   "name": "python3"
  },
  "language_info": {
   "codemirror_mode": {
    "name": "ipython",
    "version": 3
   },
   "file_extension": ".py",
   "mimetype": "text/x-python",
   "name": "python",
   "nbconvert_exporter": "python",
   "pygments_lexer": "ipython3",
   "version": "3.9.6"
  }
 },
 "nbformat": 4,
 "nbformat_minor": 5
}
