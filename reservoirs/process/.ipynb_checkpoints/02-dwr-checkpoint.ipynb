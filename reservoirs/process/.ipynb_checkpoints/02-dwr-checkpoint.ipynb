{
 "cells": [
  {
   "cell_type": "code",
   "execution_count": 1,
   "id": "a8f68e43-feaa-4996-8d5a-ecc52ce8bf66",
   "metadata": {},
   "outputs": [],
   "source": [
    "import pytz\n",
    "from datetime import datetime, date, timedelta\n",
    "import pandas as pd\n",
    "import altair as alt\n",
    "import altair_latimes as lat"
   ]
  },
  {
   "cell_type": "code",
   "execution_count": 2,
   "id": "7f08691a-275f-4165-b2a5-dc7a70e2c3a6",
   "metadata": {},
   "outputs": [
    {
     "data": {
      "text/plain": [
       "ThemeRegistry.enable('latimes')"
      ]
     },
     "execution_count": 2,
     "metadata": {},
     "output_type": "execute_result"
    }
   ],
   "source": [
    "alt.themes.register('latimes', lat.theme)\n",
    "alt.themes.enable('latimes')"
   ]
  },
  {
   "cell_type": "code",
   "execution_count": 3,
   "id": "154fda82-e6f3-4a42-86c8-578b4fc0d2cb",
   "metadata": {},
   "outputs": [],
   "source": [
    "pd.set_option('display.float_format', lambda x: '%.3f' % x)"
   ]
  },
  {
   "cell_type": "markdown",
   "id": "0cfcb7f3-6169-489d-a054-1b801988d626",
   "metadata": {},
   "source": [
    "### Import"
   ]
  },
  {
   "cell_type": "code",
   "execution_count": 4,
   "id": "81973009-6e4c-4b44-8db8-17ec118ecd88",
   "metadata": {},
   "outputs": [],
   "source": [
    "df = pd.read_csv(\n",
    "    \"../data/raw/dwr/major-reservoir-timeseries.csv\", \n",
    "    parse_dates=[\"DATE TIME\", \"OBS DATE\"]\n",
    ")"
   ]
  },
  {
   "cell_type": "code",
   "execution_count": 5,
   "id": "592ce46b-5c36-44bb-94cd-4a2ad733a55c",
   "metadata": {},
   "outputs": [],
   "source": [
    "hist_df = pd.read_csv(\n",
    "    \"../data/metadata/reservoirs-historical-averages.csv\"\n",
    ")"
   ]
  },
  {
   "cell_type": "code",
   "execution_count": 6,
   "id": "15e67489-0fe7-4f16-9b31-78d5b18c9e77",
   "metadata": {},
   "outputs": [
    {
     "data": {
      "text/html": [
       "<div>\n",
       "<style scoped>\n",
       "    .dataframe tbody tr th:only-of-type {\n",
       "        vertical-align: middle;\n",
       "    }\n",
       "\n",
       "    .dataframe tbody tr th {\n",
       "        vertical-align: top;\n",
       "    }\n",
       "\n",
       "    .dataframe thead th {\n",
       "        text-align: right;\n",
       "    }\n",
       "</style>\n",
       "<table border=\"1\" class=\"dataframe\">\n",
       "  <thead>\n",
       "    <tr style=\"text-align: right;\">\n",
       "      <th></th>\n",
       "      <th>month</th>\n",
       "      <th>average_storage</th>\n",
       "      <th>reservoir_id</th>\n",
       "      <th>average_storage_value</th>\n",
       "      <th>average_storage_unit</th>\n",
       "    </tr>\n",
       "  </thead>\n",
       "  <tbody>\n",
       "    <tr>\n",
       "      <th>0</th>\n",
       "      <td>January</td>\n",
       "      <td>165,874 af</td>\n",
       "      <td>ATN</td>\n",
       "      <td>165874</td>\n",
       "      <td>af</td>\n",
       "    </tr>\n",
       "    <tr>\n",
       "      <th>1</th>\n",
       "      <td>February</td>\n",
       "      <td>180,481 af</td>\n",
       "      <td>ATN</td>\n",
       "      <td>180481</td>\n",
       "      <td>af</td>\n",
       "    </tr>\n",
       "    <tr>\n",
       "      <th>2</th>\n",
       "      <td>March</td>\n",
       "      <td>194,157 af</td>\n",
       "      <td>ATN</td>\n",
       "      <td>194157</td>\n",
       "      <td>af</td>\n",
       "    </tr>\n",
       "    <tr>\n",
       "      <th>3</th>\n",
       "      <td>April</td>\n",
       "      <td>197,293 af</td>\n",
       "      <td>ATN</td>\n",
       "      <td>197293</td>\n",
       "      <td>af</td>\n",
       "    </tr>\n",
       "    <tr>\n",
       "      <th>4</th>\n",
       "      <td>May</td>\n",
       "      <td>193,537 af</td>\n",
       "      <td>ATN</td>\n",
       "      <td>193537</td>\n",
       "      <td>af</td>\n",
       "    </tr>\n",
       "    <tr>\n",
       "      <th>...</th>\n",
       "      <td>...</td>\n",
       "      <td>...</td>\n",
       "      <td>...</td>\n",
       "      <td>...</td>\n",
       "      <td>...</td>\n",
       "    </tr>\n",
       "    <tr>\n",
       "      <th>1927</th>\n",
       "      <td>August</td>\n",
       "      <td>212,098 af</td>\n",
       "      <td>KLM</td>\n",
       "      <td>212098</td>\n",
       "      <td>af</td>\n",
       "    </tr>\n",
       "    <tr>\n",
       "      <th>1928</th>\n",
       "      <td>September</td>\n",
       "      <td>171,318 af</td>\n",
       "      <td>KLM</td>\n",
       "      <td>171318</td>\n",
       "      <td>af</td>\n",
       "    </tr>\n",
       "    <tr>\n",
       "      <th>1929</th>\n",
       "      <td>October</td>\n",
       "      <td>177,005 af</td>\n",
       "      <td>KLM</td>\n",
       "      <td>177005</td>\n",
       "      <td>af</td>\n",
       "    </tr>\n",
       "    <tr>\n",
       "      <th>1930</th>\n",
       "      <td>November</td>\n",
       "      <td>212,214 af</td>\n",
       "      <td>KLM</td>\n",
       "      <td>212214</td>\n",
       "      <td>af</td>\n",
       "    </tr>\n",
       "    <tr>\n",
       "      <th>1931</th>\n",
       "      <td>December</td>\n",
       "      <td>270,005 af</td>\n",
       "      <td>KLM</td>\n",
       "      <td>270005</td>\n",
       "      <td>af</td>\n",
       "    </tr>\n",
       "  </tbody>\n",
       "</table>\n",
       "<p>1932 rows × 5 columns</p>\n",
       "</div>"
      ],
      "text/plain": [
       "          month average_storage reservoir_id  average_storage_value  \\\n",
       "0       January      165,874 af          ATN                 165874   \n",
       "1      February      180,481 af          ATN                 180481   \n",
       "2         March      194,157 af          ATN                 194157   \n",
       "3         April      197,293 af          ATN                 197293   \n",
       "4           May      193,537 af          ATN                 193537   \n",
       "...         ...             ...          ...                    ...   \n",
       "1927     August      212,098 af          KLM                 212098   \n",
       "1928  September      171,318 af          KLM                 171318   \n",
       "1929    October      177,005 af          KLM                 177005   \n",
       "1930   November      212,214 af          KLM                 212214   \n",
       "1931   December      270,005 af          KLM                 270005   \n",
       "\n",
       "     average_storage_unit  \n",
       "0                      af  \n",
       "1                      af  \n",
       "2                      af  \n",
       "3                      af  \n",
       "4                      af  \n",
       "...                   ...  \n",
       "1927                   af  \n",
       "1928                   af  \n",
       "1929                   af  \n",
       "1930                   af  \n",
       "1931                   af  \n",
       "\n",
       "[1932 rows x 5 columns]"
      ]
     },
     "execution_count": 6,
     "metadata": {},
     "output_type": "execute_result"
    }
   ],
   "source": [
    "hist_df"
   ]
  },
  {
   "cell_type": "code",
   "execution_count": 7,
   "id": "284a5f3e-4391-4685-808d-f40e64511e7b",
   "metadata": {},
   "outputs": [],
   "source": [
    "details_df = pd.read_csv(\n",
    "    \"../data/metadata/reservoirs-metadata-details.csv\"\n",
    ")"
   ]
  },
  {
   "cell_type": "markdown",
   "id": "66364b79-8a94-4d02-abfa-9a83aabf5d27",
   "metadata": {},
   "source": [
    "### Clean"
   ]
  },
  {
   "cell_type": "code",
   "execution_count": 8,
   "id": "3bcf2dc4-c020-41b4-becf-3e4c43c425d1",
   "metadata": {},
   "outputs": [],
   "source": [
    "df.columns = df.columns.str.lower()"
   ]
  },
  {
   "cell_type": "code",
   "execution_count": 9,
   "id": "2e0088a1-012e-474f-b5da-fb9fdfe75b78",
   "metadata": {},
   "outputs": [],
   "source": [
    "df.columns = df.columns.str.replace(\" \",\"_\")"
   ]
  },
  {
   "cell_type": "code",
   "execution_count": 10,
   "id": "5b1ca206-03bd-4d33-b39b-689a4c971190",
   "metadata": {},
   "outputs": [],
   "source": [
    "df = df.rename(columns={\n",
    "    \"station_id\": \"reservoir_id\",\n",
    "    \"date_time\": \"date\",\n",
    "    \"value\": \"storage_af\"\n",
    "})"
   ]
  },
  {
   "cell_type": "code",
   "execution_count": 11,
   "id": "db224586-5249-46ab-b4e6-f8a6d10d340f",
   "metadata": {},
   "outputs": [],
   "source": [
    "df[\"storage_af\"] = df[\"storage_af\"].str.replace(\"---\",\"\")\n",
    "df[\"storage_af\"] = df[\"storage_af\"].str.replace(\"ART\",\"\")"
   ]
  },
  {
   "cell_type": "code",
   "execution_count": 12,
   "id": "69e887d1-7a69-461c-95a6-7fa88ff67e2f",
   "metadata": {},
   "outputs": [],
   "source": [
    "df[\"storage_af\"] = pd.to_numeric(df[\"storage_af\"])"
   ]
  },
  {
   "cell_type": "markdown",
   "id": "1660770a-e840-4d72-b314-161312c012de",
   "metadata": {},
   "source": [
    "### Filter to last 365 days from today"
   ]
  },
  {
   "cell_type": "code",
   "execution_count": 13,
   "id": "4e6a14c2-d68d-493f-b1dc-d661daf767a0",
   "metadata": {},
   "outputs": [
    {
     "data": {
      "text/plain": [
       "datetime.date(2024, 7, 2)"
      ]
     },
     "execution_count": 13,
     "metadata": {},
     "output_type": "execute_result"
    }
   ],
   "source": [
    "today = datetime.today().date()\n",
    "today"
   ]
  },
  {
   "cell_type": "code",
   "execution_count": 14,
   "id": "d4251a60-17aa-4800-a264-ac4aa12108e8",
   "metadata": {},
   "outputs": [
    {
     "data": {
      "text/plain": [
       "datetime.date(2023, 7, 3)"
      ]
     },
     "execution_count": 14,
     "metadata": {},
     "output_type": "execute_result"
    }
   ],
   "source": [
    "last_year = (today - pd.DateOffset(days=365)).date()\n",
    "last_year"
   ]
  },
  {
   "cell_type": "markdown",
   "id": "caf5326f-3081-448f-aa2c-a73a9d938c9e",
   "metadata": {},
   "source": [
    "Trim to last 365 days and remove invalid values"
   ]
  },
  {
   "cell_type": "code",
   "execution_count": 15,
   "id": "960d3458-da8d-451b-9839-f238fdc9c9f6",
   "metadata": {},
   "outputs": [],
   "source": [
    "trim_df = df[\n",
    "    (df.date >= pd.to_datetime(last_year))\n",
    "]"
   ]
  },
  {
   "cell_type": "markdown",
   "id": "45bdc35a-8e5f-43e8-9b3a-9078e6a1158a",
   "metadata": {},
   "source": [
    "### Merge historical average"
   ]
  },
  {
   "cell_type": "markdown",
   "id": "f193e506-35eb-49d8-8110-43ac386fe12b",
   "metadata": {},
   "source": [
    "Create month column for merging"
   ]
  },
  {
   "cell_type": "code",
   "execution_count": 16,
   "id": "5c5019e6-921a-43a1-a610-16c64e9840a5",
   "metadata": {},
   "outputs": [
    {
     "name": "stderr",
     "output_type": "stream",
     "text": [
      "/var/folders/fh/xklx_96541l_glf7cpxtt24m0000gq/T/ipykernel_7307/1124926174.py:1: SettingWithCopyWarning: \n",
      "A value is trying to be set on a copy of a slice from a DataFrame.\n",
      "Try using .loc[row_indexer,col_indexer] = value instead\n",
      "\n",
      "See the caveats in the documentation: https://pandas.pydata.org/pandas-docs/stable/user_guide/indexing.html#returning-a-view-versus-a-copy\n",
      "  trim_df[\"month\"] = pd.DatetimeIndex(trim_df.date).month\n"
     ]
    }
   ],
   "source": [
    "trim_df[\"month\"] = pd.DatetimeIndex(trim_df.date).month"
   ]
  },
  {
   "cell_type": "code",
   "execution_count": 17,
   "id": "3e349a33-816d-40dc-a11d-b38d31ed7891",
   "metadata": {},
   "outputs": [],
   "source": [
    "month_names = {\n",
    "    \"January\": 1,\n",
    "    \"February\": 2,\n",
    "    \"March\": 3,\n",
    "    \"April\": 4,\n",
    "    \"May\": 5,\n",
    "    \"June\": 6,\n",
    "    \"July\": 7,\n",
    "    \"August\": 8,\n",
    "    \"September\": 9,\n",
    "    \"October\": 10,\n",
    "    \"November\": 11,\n",
    "    \"December\": 12,\n",
    "}"
   ]
  },
  {
   "cell_type": "code",
   "execution_count": 18,
   "id": "c6ad5ddd-c89f-4273-b400-545c5789886d",
   "metadata": {},
   "outputs": [],
   "source": [
    "hist_df[\"month\"] = hist_df[\"month\"].map(month_names)"
   ]
  },
  {
   "cell_type": "code",
   "execution_count": 19,
   "id": "2aa5e555-78f7-46d7-ae10-a480eb8b1cfe",
   "metadata": {},
   "outputs": [],
   "source": [
    "merge_historical = pd.merge(\n",
    "    trim_df[[\"reservoir_id\",\"date\",\"month\",\"storage_af\",\"units\"]],\n",
    "    hist_df[[\"reservoir_id\", \"month\", \"average_storage_value\", \"average_storage_unit\"]],\n",
    "    how=\"left\",\n",
    "    on=[\"reservoir_id\",\"month\"]\n",
    ")"
   ]
  },
  {
   "cell_type": "code",
   "execution_count": 20,
   "id": "c84fe492-1e78-4498-a85b-88380620fa20",
   "metadata": {},
   "outputs": [],
   "source": [
    "merge_details = pd.merge(\n",
    "    merge_historical,\n",
    "    details_df[[\"id\", \"lake\", \"capacity\", \"lat\", \"lon\"]],\n",
    "    how=\"left\",\n",
    "    left_on=[\"reservoir_id\"],\n",
    "    right_on=[\"id\"]\n",
    ").drop([\"id\", \"units\", \"average_storage_unit\"], axis=1)"
   ]
  },
  {
   "cell_type": "markdown",
   "id": "a9200178-e440-4545-99ea-0fc81e7182b4",
   "metadata": {},
   "source": [
    "### Calculate percentages"
   ]
  },
  {
   "cell_type": "code",
   "execution_count": 21,
   "id": "425b72be-98c0-4b15-9222-664b29588e2c",
   "metadata": {},
   "outputs": [],
   "source": [
    "merge_details[\"current_level_pct_of_total\"] = merge_details[\"storage_af\"] / merge_details[\"capacity\"]"
   ]
  },
  {
   "cell_type": "code",
   "execution_count": 22,
   "id": "86c5850e-6f00-4087-8ea7-d9dbae910a39",
   "metadata": {},
   "outputs": [],
   "source": [
    "merge_details[\"average_level_pct_of_total\"] = merge_details[\"average_storage_value\"] / merge_details[\"capacity\"]"
   ]
  },
  {
   "cell_type": "code",
   "execution_count": 23,
   "id": "787733db-9e5d-445d-a4db-a4f4f558c77d",
   "metadata": {},
   "outputs": [],
   "source": [
    "merge_details[\"current_level_pct_of_avg\"] = merge_details[\"storage_af\"] / merge_details[\"average_storage_value\"]"
   ]
  },
  {
   "cell_type": "markdown",
   "id": "1952af18-30a8-4b41-af69-a43c69e99a65",
   "metadata": {},
   "source": [
    "### Remove bad data"
   ]
  },
  {
   "cell_type": "code",
   "execution_count": 24,
   "id": "1cdf9850-82e7-480e-adc9-3d42d2ccc815",
   "metadata": {},
   "outputs": [],
   "source": [
    "drop_na_df = merge_details.dropna(subset=[\"storage_af\"])"
   ]
  },
  {
   "cell_type": "markdown",
   "id": "291454d9-dc90-462a-9ea1-54e7c19c8ca6",
   "metadata": {},
   "source": [
    "### Chart"
   ]
  },
  {
   "cell_type": "code",
   "execution_count": 25,
   "id": "725a4605-7363-4a12-8547-b8097ef81c49",
   "metadata": {},
   "outputs": [],
   "source": [
    "melt = pd.melt(\n",
    "    drop_na_df,\n",
    "    id_vars=[\"date\",\"lake\"],\n",
    "    value_vars=[\"current_level_pct_of_total\", \"average_level_pct_of_total\"]\n",
    ")"
   ]
  },
  {
   "cell_type": "code",
   "execution_count": 26,
   "id": "ccfcbe7d-8d5c-4ad7-bdde-c9ec63b0f297",
   "metadata": {},
   "outputs": [],
   "source": [
    "# alt.data_transformers.disable_max_rows()\n",
    "\n",
    "# alt.Chart(melt).mark_line().encode(\n",
    "#     x='date:T',\n",
    "#     y='value',\n",
    "#     color='variable',\n",
    "#     column='lake'\n",
    "# ).properties(\n",
    "#     width=180,\n",
    "#     height=180\n",
    "# )"
   ]
  },
  {
   "cell_type": "markdown",
   "id": "6609fded-c565-490f-b1da-7142a4cdb7ab",
   "metadata": {},
   "source": [
    "### Export"
   ]
  },
  {
   "cell_type": "markdown",
   "id": "1b8ba812-b32b-427a-b12c-d2e69e29a121",
   "metadata": {},
   "source": [
    "Trim and rename for export"
   ]
  },
  {
   "cell_type": "code",
   "execution_count": 27,
   "id": "0382b468-1563-44a0-b6f9-8e90848aa966",
   "metadata": {},
   "outputs": [],
   "source": [
    "export_df = drop_na_df[\n",
    "    ['reservoir_id',\n",
    "     'lake',\n",
    "     'date', \n",
    "     'storage_af', \n",
    "     'average_storage_value', \n",
    "     'capacity', \n",
    "     'current_level_pct_of_total',\n",
    "     'average_level_pct_of_total', \n",
    "     'current_level_pct_of_avg', \n",
    "     'lat', \n",
    "     'lon'\n",
    "    ]\n",
    "].rename(columns={\n",
    "    'lake': 'reservoir_name',\n",
    "    'average_storage_value': 'historical_average',\n",
    "    'capacity': 'total_capacity'\n",
    "}).sort_values(\"total_capacity\", ascending=False)"
   ]
  },
  {
   "cell_type": "code",
   "execution_count": 28,
   "id": "c1a87530-4991-454d-a5a1-28940376182d",
   "metadata": {},
   "outputs": [],
   "source": [
    "export_df.to_csv(\"../data/processed/dwr/major-reservoirs-timeseries.csv\", index=False)"
   ]
  },
  {
   "cell_type": "code",
   "execution_count": 29,
   "id": "6ca212e3-2651-4d50-80ac-f9e8600cbe74",
   "metadata": {},
   "outputs": [],
   "source": [
    "export_df[export_df.date == export_df.date.max()].to_csv(f\"../data/processed/dwr/major-reservoirs-latest.csv\", index=False)"
   ]
  }
 ],
 "metadata": {
  "kernelspec": {
   "display_name": "Python 3 (ipykernel)",
   "language": "python",
   "name": "python3"
  },
  "language_info": {
   "codemirror_mode": {
    "name": "ipython",
    "version": 3
   },
   "file_extension": ".py",
   "mimetype": "text/x-python",
   "name": "python",
   "nbconvert_exporter": "python",
   "pygments_lexer": "ipython3",
   "version": "3.9.6"
  }
 },
 "nbformat": 4,
 "nbformat_minor": 5
}
