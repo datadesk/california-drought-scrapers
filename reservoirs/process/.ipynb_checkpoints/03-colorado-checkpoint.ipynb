{
 "cells": [
  {
   "cell_type": "code",
   "execution_count": 5,
   "id": "a8f68e43-feaa-4996-8d5a-ecc52ce8bf66",
   "metadata": {},
   "outputs": [],
   "source": [
    "import pytz\n",
    "from datetime import datetime, date, timedelta\n",
    "import pandas as pd\n",
    "import altair as alt\n",
    "import altair_latimes as lat"
   ]
  },
  {
   "cell_type": "code",
   "execution_count": 6,
   "id": "7f08691a-275f-4165-b2a5-dc7a70e2c3a6",
   "metadata": {},
   "outputs": [
    {
     "data": {
      "text/plain": [
       "ThemeRegistry.enable('latimes')"
      ]
     },
     "execution_count": 6,
     "metadata": {},
     "output_type": "execute_result"
    }
   ],
   "source": [
    "alt.themes.register('latimes', lat.theme)\n",
    "alt.themes.enable('latimes')"
   ]
  },
  {
   "cell_type": "code",
   "execution_count": 7,
   "id": "154fda82-e6f3-4a42-86c8-578b4fc0d2cb",
   "metadata": {},
   "outputs": [],
   "source": [
    "pd.set_option('display.float_format', lambda x: '%.3f' % x)"
   ]
  },
  {
   "cell_type": "markdown",
   "id": "0cfcb7f3-6169-489d-a054-1b801988d626",
   "metadata": {},
   "source": [
    "### Import"
   ]
  },
  {
   "cell_type": "code",
   "execution_count": 8,
   "id": "f38f17f5-bb72-4268-9072-fc16ce65af26",
   "metadata": {},
   "outputs": [],
   "source": [
    "df = pd.read_csv(\n",
    "    \"../data/raw/bor/colorado-river-reservoir-bor-timeseries.csv\", \n",
    "    parse_dates=[\"date\"]\n",
    ")"
   ]
  },
  {
   "cell_type": "code",
   "execution_count": 9,
   "id": "592ce46b-5c36-44bb-94cd-4a2ad733a55c",
   "metadata": {},
   "outputs": [],
   "source": [
    "hist_df = pd.read_csv(\n",
    "    \"../data/metadata/reservoirs-historical-averages.csv\"\n",
    ")"
   ]
  },
  {
   "cell_type": "code",
   "execution_count": 10,
   "id": "284a5f3e-4391-4685-808d-f40e64511e7b",
   "metadata": {},
   "outputs": [],
   "source": [
    "details_df = pd.read_csv(\n",
    "    \"../data/metadata/reservoirs-metadata-details.csv\"\n",
    ")"
   ]
  },
  {
   "cell_type": "markdown",
   "id": "66364b79-8a94-4d02-abfa-9a83aabf5d27",
   "metadata": {},
   "source": [
    "### Clean"
   ]
  },
  {
   "cell_type": "code",
   "execution_count": 11,
   "id": "3bcf2dc4-c020-41b4-becf-3e4c43c425d1",
   "metadata": {},
   "outputs": [],
   "source": [
    "df.columns = df.columns.str.lower()"
   ]
  },
  {
   "cell_type": "code",
   "execution_count": 12,
   "id": "2e0088a1-012e-474f-b5da-fb9fdfe75b78",
   "metadata": {},
   "outputs": [],
   "source": [
    "df.columns = df.columns.str.replace(\" \",\"_\")"
   ]
  },
  {
   "cell_type": "code",
   "execution_count": 13,
   "id": "5b1ca206-03bd-4d33-b39b-689a4c971190",
   "metadata": {},
   "outputs": [],
   "source": [
    "df = df.rename(columns={\n",
    "    \"station_id\": \"reservoir_id\",\n",
    "    \"date_time\": \"date\",\n",
    "    \"storage\": \"storage_af\"\n",
    "})"
   ]
  },
  {
   "cell_type": "markdown",
   "id": "fcad0f7c-cf0a-4282-b093-77af21574bf5",
   "metadata": {},
   "source": [
    "### Filter to last 365 days from today"
   ]
  },
  {
   "cell_type": "code",
   "execution_count": 14,
   "id": "4e6a14c2-d68d-493f-b1dc-d661daf767a0",
   "metadata": {},
   "outputs": [
    {
     "data": {
      "text/plain": [
       "datetime.date(2024, 7, 2)"
      ]
     },
     "execution_count": 14,
     "metadata": {},
     "output_type": "execute_result"
    }
   ],
   "source": [
    "today = datetime.today().date()\n",
    "today"
   ]
  },
  {
   "cell_type": "code",
   "execution_count": 15,
   "id": "d4251a60-17aa-4800-a264-ac4aa12108e8",
   "metadata": {},
   "outputs": [
    {
     "data": {
      "text/plain": [
       "datetime.date(2023, 7, 3)"
      ]
     },
     "execution_count": 15,
     "metadata": {},
     "output_type": "execute_result"
    }
   ],
   "source": [
    "last_year = (today - pd.DateOffset(days=365)).date()\n",
    "last_year"
   ]
  },
  {
   "cell_type": "markdown",
   "id": "b19e26d6-d682-4ff5-a616-9f3dce7bda5a",
   "metadata": {},
   "source": [
    "Trim to last 365 days and remove invalid values"
   ]
  },
  {
   "cell_type": "code",
   "execution_count": 16,
   "id": "960d3458-da8d-451b-9839-f238fdc9c9f6",
   "metadata": {},
   "outputs": [],
   "source": [
    "trim_df = df[\n",
    "    (df.date >= pd.to_datetime(last_year))\n",
    "].copy()"
   ]
  },
  {
   "cell_type": "markdown",
   "id": "45bdc35a-8e5f-43e8-9b3a-9078e6a1158a",
   "metadata": {},
   "source": [
    "### Merge historical average"
   ]
  },
  {
   "cell_type": "markdown",
   "id": "f193e506-35eb-49d8-8110-43ac386fe12b",
   "metadata": {},
   "source": [
    "Create month column for merging"
   ]
  },
  {
   "cell_type": "code",
   "execution_count": 17,
   "id": "5c5019e6-921a-43a1-a610-16c64e9840a5",
   "metadata": {},
   "outputs": [],
   "source": [
    "trim_df[\"month\"] = pd.DatetimeIndex(trim_df.date).month"
   ]
  },
  {
   "cell_type": "code",
   "execution_count": 19,
   "id": "77e3dc44-6319-4713-9ab6-088e7223304c",
   "metadata": {},
   "outputs": [],
   "source": [
    "month_names = {\n",
    "    \"January\": 1,\n",
    "    \"February\": 2,\n",
    "    \"March\": 3,\n",
    "    \"April\": 4,\n",
    "    \"May\": 5,\n",
    "    \"June\": 6,\n",
    "    \"July\": 7,\n",
    "    \"August\": 8,\n",
    "    \"September\": 9,\n",
    "    \"October\": 10,\n",
    "    \"November\": 11,\n",
    "    \"December\": 12,\n",
    "}"
   ]
  },
  {
   "cell_type": "code",
   "execution_count": 20,
   "id": "3b4a73bb-fbba-44e8-97be-90512bc13bf7",
   "metadata": {},
   "outputs": [],
   "source": [
    "hist_df[\"month\"] = hist_df[\"month\"].map(month_names)"
   ]
  },
  {
   "cell_type": "code",
   "execution_count": 21,
   "id": "2aa5e555-78f7-46d7-ae10-a480eb8b1cfe",
   "metadata": {},
   "outputs": [],
   "source": [
    "merge_historical = pd.merge(\n",
    "    trim_df[[\"reservoir_id\",\"date\",\"month\",\"storage_af\"]],\n",
    "    hist_df[[\"reservoir_id\", \"month\", \"average_storage_value\", \"average_storage_unit\"]],\n",
    "    how=\"left\",\n",
    "    on=[\"reservoir_id\",\"month\"]\n",
    ")"
   ]
  },
  {
   "cell_type": "code",
   "execution_count": 22,
   "id": "c84fe492-1e78-4498-a85b-88380620fa20",
   "metadata": {},
   "outputs": [],
   "source": [
    "merge_details = pd.merge(\n",
    "    merge_historical,\n",
    "    details_df[[\"id\", \"lake\", \"capacity\", \"lat\", \"lon\"]],\n",
    "    how=\"left\",\n",
    "    left_on=[\"reservoir_id\"],\n",
    "    right_on=[\"id\"]\n",
    ").drop([\"id\", \"average_storage_unit\"], axis=1)"
   ]
  },
  {
   "cell_type": "markdown",
   "id": "a9200178-e440-4545-99ea-0fc81e7182b4",
   "metadata": {},
   "source": [
    "### Calculate percentages"
   ]
  },
  {
   "cell_type": "code",
   "execution_count": 23,
   "id": "425b72be-98c0-4b15-9222-664b29588e2c",
   "metadata": {},
   "outputs": [],
   "source": [
    "merge_details[\"current_level_pct_of_total\"] = merge_details[\"storage_af\"] / merge_details[\"capacity\"]"
   ]
  },
  {
   "cell_type": "code",
   "execution_count": 24,
   "id": "86c5850e-6f00-4087-8ea7-d9dbae910a39",
   "metadata": {},
   "outputs": [],
   "source": [
    "merge_details[\"average_level_pct_of_total\"] = merge_details[\"average_storage_value\"] / merge_details[\"capacity\"]"
   ]
  },
  {
   "cell_type": "code",
   "execution_count": 25,
   "id": "787733db-9e5d-445d-a4db-a4f4f558c77d",
   "metadata": {},
   "outputs": [],
   "source": [
    "merge_details[\"current_level_pct_of_avg\"] = merge_details[\"storage_af\"] / merge_details[\"average_storage_value\"]"
   ]
  },
  {
   "cell_type": "code",
   "execution_count": 26,
   "id": "8dc5cb23-12d1-411b-84ab-394acf7061b3",
   "metadata": {},
   "outputs": [
    {
     "data": {
      "text/html": [
       "<div>\n",
       "<style scoped>\n",
       "    .dataframe tbody tr th:only-of-type {\n",
       "        vertical-align: middle;\n",
       "    }\n",
       "\n",
       "    .dataframe tbody tr th {\n",
       "        vertical-align: top;\n",
       "    }\n",
       "\n",
       "    .dataframe thead th {\n",
       "        text-align: right;\n",
       "    }\n",
       "</style>\n",
       "<table border=\"1\" class=\"dataframe\">\n",
       "  <thead>\n",
       "    <tr style=\"text-align: right;\">\n",
       "      <th></th>\n",
       "      <th>reservoir_id</th>\n",
       "      <th>date</th>\n",
       "      <th>month</th>\n",
       "      <th>storage_af</th>\n",
       "      <th>average_storage_value</th>\n",
       "      <th>lake</th>\n",
       "      <th>capacity</th>\n",
       "      <th>lat</th>\n",
       "      <th>lon</th>\n",
       "      <th>current_level_pct_of_total</th>\n",
       "      <th>average_level_pct_of_total</th>\n",
       "      <th>current_level_pct_of_avg</th>\n",
       "    </tr>\n",
       "  </thead>\n",
       "  <tbody>\n",
       "    <tr>\n",
       "      <th>0</th>\n",
       "      <td>MHV</td>\n",
       "      <td>2023-07-03</td>\n",
       "      <td>7</td>\n",
       "      <td>1699277.500</td>\n",
       "      <td>1664313</td>\n",
       "      <td>Lake Mohave</td>\n",
       "      <td>1810000.000</td>\n",
       "      <td>35.197000°</td>\n",
       "      <td>-114.567000°</td>\n",
       "      <td>0.939</td>\n",
       "      <td>0.920</td>\n",
       "      <td>1.021</td>\n",
       "    </tr>\n",
       "    <tr>\n",
       "      <th>1</th>\n",
       "      <td>MHV</td>\n",
       "      <td>2023-07-04</td>\n",
       "      <td>7</td>\n",
       "      <td>1703292.500</td>\n",
       "      <td>1664313</td>\n",
       "      <td>Lake Mohave</td>\n",
       "      <td>1810000.000</td>\n",
       "      <td>35.197000°</td>\n",
       "      <td>-114.567000°</td>\n",
       "      <td>0.941</td>\n",
       "      <td>0.920</td>\n",
       "      <td>1.023</td>\n",
       "    </tr>\n",
       "    <tr>\n",
       "      <th>2</th>\n",
       "      <td>MHV</td>\n",
       "      <td>2023-07-05</td>\n",
       "      <td>7</td>\n",
       "      <td>1707527.500</td>\n",
       "      <td>1664313</td>\n",
       "      <td>Lake Mohave</td>\n",
       "      <td>1810000.000</td>\n",
       "      <td>35.197000°</td>\n",
       "      <td>-114.567000°</td>\n",
       "      <td>0.943</td>\n",
       "      <td>0.920</td>\n",
       "      <td>1.026</td>\n",
       "    </tr>\n",
       "    <tr>\n",
       "      <th>3</th>\n",
       "      <td>MHV</td>\n",
       "      <td>2023-07-06</td>\n",
       "      <td>7</td>\n",
       "      <td>1714787.500</td>\n",
       "      <td>1664313</td>\n",
       "      <td>Lake Mohave</td>\n",
       "      <td>1810000.000</td>\n",
       "      <td>35.197000°</td>\n",
       "      <td>-114.567000°</td>\n",
       "      <td>0.947</td>\n",
       "      <td>0.920</td>\n",
       "      <td>1.030</td>\n",
       "    </tr>\n",
       "    <tr>\n",
       "      <th>4</th>\n",
       "      <td>MHV</td>\n",
       "      <td>2023-07-07</td>\n",
       "      <td>7</td>\n",
       "      <td>1716245.000</td>\n",
       "      <td>1664313</td>\n",
       "      <td>Lake Mohave</td>\n",
       "      <td>1810000.000</td>\n",
       "      <td>35.197000°</td>\n",
       "      <td>-114.567000°</td>\n",
       "      <td>0.948</td>\n",
       "      <td>0.920</td>\n",
       "      <td>1.031</td>\n",
       "    </tr>\n",
       "    <tr>\n",
       "      <th>...</th>\n",
       "      <td>...</td>\n",
       "      <td>...</td>\n",
       "      <td>...</td>\n",
       "      <td>...</td>\n",
       "      <td>...</td>\n",
       "      <td>...</td>\n",
       "      <td>...</td>\n",
       "      <td>...</td>\n",
       "      <td>...</td>\n",
       "      <td>...</td>\n",
       "      <td>...</td>\n",
       "      <td>...</td>\n",
       "    </tr>\n",
       "    <tr>\n",
       "      <th>1455</th>\n",
       "      <td>HVS</td>\n",
       "      <td>2024-06-27</td>\n",
       "      <td>6</td>\n",
       "      <td>601760.000</td>\n",
       "      <td>588950</td>\n",
       "      <td>Lake Havasu</td>\n",
       "      <td>648000.000</td>\n",
       "      <td>34.317000°</td>\n",
       "      <td>-114.156000°</td>\n",
       "      <td>0.929</td>\n",
       "      <td>0.909</td>\n",
       "      <td>1.022</td>\n",
       "    </tr>\n",
       "    <tr>\n",
       "      <th>1456</th>\n",
       "      <td>HVS</td>\n",
       "      <td>2024-06-28</td>\n",
       "      <td>6</td>\n",
       "      <td>597285.400</td>\n",
       "      <td>588950</td>\n",
       "      <td>Lake Havasu</td>\n",
       "      <td>648000.000</td>\n",
       "      <td>34.317000°</td>\n",
       "      <td>-114.156000°</td>\n",
       "      <td>0.922</td>\n",
       "      <td>0.909</td>\n",
       "      <td>1.014</td>\n",
       "    </tr>\n",
       "    <tr>\n",
       "      <th>1457</th>\n",
       "      <td>HVS</td>\n",
       "      <td>2024-06-29</td>\n",
       "      <td>6</td>\n",
       "      <td>596354.200</td>\n",
       "      <td>588950</td>\n",
       "      <td>Lake Havasu</td>\n",
       "      <td>648000.000</td>\n",
       "      <td>34.317000°</td>\n",
       "      <td>-114.156000°</td>\n",
       "      <td>0.920</td>\n",
       "      <td>0.909</td>\n",
       "      <td>1.013</td>\n",
       "    </tr>\n",
       "    <tr>\n",
       "      <th>1458</th>\n",
       "      <td>HVS</td>\n",
       "      <td>2024-06-30</td>\n",
       "      <td>6</td>\n",
       "      <td>594938.000</td>\n",
       "      <td>588950</td>\n",
       "      <td>Lake Havasu</td>\n",
       "      <td>648000.000</td>\n",
       "      <td>34.317000°</td>\n",
       "      <td>-114.156000°</td>\n",
       "      <td>0.918</td>\n",
       "      <td>0.909</td>\n",
       "      <td>1.010</td>\n",
       "    </tr>\n",
       "    <tr>\n",
       "      <th>1459</th>\n",
       "      <td>HVS</td>\n",
       "      <td>2024-07-01</td>\n",
       "      <td>7</td>\n",
       "      <td>593948.600</td>\n",
       "      <td>582876</td>\n",
       "      <td>Lake Havasu</td>\n",
       "      <td>648000.000</td>\n",
       "      <td>34.317000°</td>\n",
       "      <td>-114.156000°</td>\n",
       "      <td>0.917</td>\n",
       "      <td>0.899</td>\n",
       "      <td>1.019</td>\n",
       "    </tr>\n",
       "  </tbody>\n",
       "</table>\n",
       "<p>1460 rows × 12 columns</p>\n",
       "</div>"
      ],
      "text/plain": [
       "     reservoir_id       date  month  storage_af  average_storage_value  \\\n",
       "0             MHV 2023-07-03      7 1699277.500                1664313   \n",
       "1             MHV 2023-07-04      7 1703292.500                1664313   \n",
       "2             MHV 2023-07-05      7 1707527.500                1664313   \n",
       "3             MHV 2023-07-06      7 1714787.500                1664313   \n",
       "4             MHV 2023-07-07      7 1716245.000                1664313   \n",
       "...           ...        ...    ...         ...                    ...   \n",
       "1455          HVS 2024-06-27      6  601760.000                 588950   \n",
       "1456          HVS 2024-06-28      6  597285.400                 588950   \n",
       "1457          HVS 2024-06-29      6  596354.200                 588950   \n",
       "1458          HVS 2024-06-30      6  594938.000                 588950   \n",
       "1459          HVS 2024-07-01      7  593948.600                 582876   \n",
       "\n",
       "             lake    capacity         lat           lon  \\\n",
       "0     Lake Mohave 1810000.000  35.197000°  -114.567000°   \n",
       "1     Lake Mohave 1810000.000  35.197000°  -114.567000°   \n",
       "2     Lake Mohave 1810000.000  35.197000°  -114.567000°   \n",
       "3     Lake Mohave 1810000.000  35.197000°  -114.567000°   \n",
       "4     Lake Mohave 1810000.000  35.197000°  -114.567000°   \n",
       "...           ...         ...         ...           ...   \n",
       "1455  Lake Havasu  648000.000  34.317000°  -114.156000°   \n",
       "1456  Lake Havasu  648000.000  34.317000°  -114.156000°   \n",
       "1457  Lake Havasu  648000.000  34.317000°  -114.156000°   \n",
       "1458  Lake Havasu  648000.000  34.317000°  -114.156000°   \n",
       "1459  Lake Havasu  648000.000  34.317000°  -114.156000°   \n",
       "\n",
       "      current_level_pct_of_total  average_level_pct_of_total  \\\n",
       "0                          0.939                       0.920   \n",
       "1                          0.941                       0.920   \n",
       "2                          0.943                       0.920   \n",
       "3                          0.947                       0.920   \n",
       "4                          0.948                       0.920   \n",
       "...                          ...                         ...   \n",
       "1455                       0.929                       0.909   \n",
       "1456                       0.922                       0.909   \n",
       "1457                       0.920                       0.909   \n",
       "1458                       0.918                       0.909   \n",
       "1459                       0.917                       0.899   \n",
       "\n",
       "      current_level_pct_of_avg  \n",
       "0                        1.021  \n",
       "1                        1.023  \n",
       "2                        1.026  \n",
       "3                        1.030  \n",
       "4                        1.031  \n",
       "...                        ...  \n",
       "1455                     1.022  \n",
       "1456                     1.014  \n",
       "1457                     1.013  \n",
       "1458                     1.010  \n",
       "1459                     1.019  \n",
       "\n",
       "[1460 rows x 12 columns]"
      ]
     },
     "execution_count": 26,
     "metadata": {},
     "output_type": "execute_result"
    }
   ],
   "source": [
    "merge_details"
   ]
  },
  {
   "cell_type": "markdown",
   "id": "b47722e1-1ba9-4a6c-ae48-c5cb740c3390",
   "metadata": {},
   "source": [
    "### Drop missing values"
   ]
  },
  {
   "cell_type": "code",
   "execution_count": 27,
   "id": "ead8f51c-ec41-4335-97c5-f90c82b7edc9",
   "metadata": {},
   "outputs": [],
   "source": [
    "drop_na_df = merge_details.dropna(subset=[\"storage_af\"])"
   ]
  },
  {
   "cell_type": "markdown",
   "id": "b6cc0223-99d3-40e0-afd8-ba831a066924",
   "metadata": {},
   "source": [
    "### Chart"
   ]
  },
  {
   "cell_type": "code",
   "execution_count": 28,
   "id": "7e181eeb-82c6-49e4-a6d4-e398860fb852",
   "metadata": {},
   "outputs": [],
   "source": [
    "melt = pd.melt(\n",
    "    drop_na_df,\n",
    "    id_vars=[\"date\",\"lake\"],\n",
    "    value_vars=[\"current_level_pct_of_total\", \"average_level_pct_of_total\"]\n",
    ")"
   ]
  },
  {
   "cell_type": "code",
   "execution_count": 29,
   "id": "d2af6d05-c390-4a8b-9f53-a9e0d272da79",
   "metadata": {},
   "outputs": [],
   "source": [
    "# alt.data_transformers.disable_max_rows()\n",
    "\n",
    "# alt.Chart(melt).mark_line().encode(\n",
    "#     x='date:T',\n",
    "#     y='value',\n",
    "#     color='variable',\n",
    "#     column='lake'\n",
    "# ).properties(\n",
    "#     width=180,\n",
    "#     height=180\n",
    "# )"
   ]
  },
  {
   "cell_type": "markdown",
   "id": "6609fded-c565-490f-b1da-7142a4cdb7ab",
   "metadata": {},
   "source": [
    "### Export"
   ]
  },
  {
   "cell_type": "markdown",
   "id": "1b8ba812-b32b-427a-b12c-d2e69e29a121",
   "metadata": {},
   "source": [
    "Trim and rename for export"
   ]
  },
  {
   "cell_type": "code",
   "execution_count": 30,
   "id": "0382b468-1563-44a0-b6f9-8e90848aa966",
   "metadata": {},
   "outputs": [],
   "source": [
    "export_df = drop_na_df[\n",
    "    ['reservoir_id',\n",
    "     'lake', \n",
    "     'date', \n",
    "     'storage_af', \n",
    "     'average_storage_value', \n",
    "     'capacity', \n",
    "     'current_level_pct_of_total',\n",
    "     'average_level_pct_of_total', \n",
    "     'current_level_pct_of_avg', \n",
    "     'lat', \n",
    "     'lon' ]\n",
    "].rename(columns={\n",
    "    'lake': 'reservoir_name',\n",
    "    'average_storage_value': 'historical_average',\n",
    "    'capacity': 'total_capacity'\n",
    "}).sort_values(\"total_capacity\", ascending=False)"
   ]
  },
  {
   "cell_type": "code",
   "execution_count": 31,
   "id": "c1a87530-4991-454d-a5a1-28940376182d",
   "metadata": {},
   "outputs": [],
   "source": [
    "export_df.to_csv(\"../data/processed/bor/colorado-river-reservoirs-timeseries.csv\", index=False)"
   ]
  },
  {
   "cell_type": "code",
   "execution_count": 32,
   "id": "309f4327-4565-4b28-bfe8-1bd8686310a0",
   "metadata": {},
   "outputs": [],
   "source": [
    "export_df[export_df.date == export_df.date.max()].to_csv(f\"../data/processed/bor/colorado-latest.csv\", index=False)"
   ]
  }
 ],
 "metadata": {
  "kernelspec": {
   "display_name": "Python 3 (ipykernel)",
   "language": "python",
   "name": "python3"
  },
  "language_info": {
   "codemirror_mode": {
    "name": "ipython",
    "version": 3
   },
   "file_extension": ".py",
   "mimetype": "text/x-python",
   "name": "python",
   "nbconvert_exporter": "python",
   "pygments_lexer": "ipython3",
   "version": "3.9.6"
  }
 },
 "nbformat": 4,
 "nbformat_minor": 5
}
