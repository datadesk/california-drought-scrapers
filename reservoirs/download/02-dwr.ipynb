{
 "cells": [
  {
   "cell_type": "code",
   "execution_count": 1,
   "id": "66826526-4ecc-429b-b8db-bef7ef39e7d6",
   "metadata": {},
   "outputs": [
    {
     "name": "stderr",
     "output_type": "stream",
     "text": [
      "/Users/sgreene/.local/share/virtualenvs/california-drought-scrapers-ZgUZUkcJ/lib/python3.9/site-packages/urllib3/__init__.py:35: NotOpenSSLWarning: urllib3 v2 only supports OpenSSL 1.1.1+, currently the 'ssl' module is compiled with 'LibreSSL 2.8.3'. See: https://github.com/urllib3/urllib3/issues/3020\n",
      "  warnings.warn(\n"
     ]
    }
   ],
   "source": [
    "import pytz\n",
    "import requests\n",
    "import pandas as pd\n",
    "from datetime import datetime, date, timedelta"
   ]
  },
  {
   "cell_type": "markdown",
   "id": "0debe4c7-63f1-4ef2-9486-7a706c355362",
   "metadata": {},
   "source": [
    "List of major reservoir IDs"
   ]
  },
  {
   "cell_type": "code",
   "execution_count": 2,
   "id": "99e15286-f694-4c39-bdfd-b609bca5e18f",
   "metadata": {},
   "outputs": [],
   "source": [
    "# src: https://cdec.water.ca.gov/resapp/RescondMain\n",
    "major_reservoirs_list = [\n",
    "    'SHA', # Shasta\n",
    "    'ORO', # Oroville\n",
    "    'CLE', # Trinity Lake\n",
    "    'NML', # New Melones Reservoir\n",
    "    'SNL', # San Luis\n",
    "    'DNP', # New Don Pedro\n",
    "    'BER', # Berryessa\n",
    "    'ALM', # Lake Almanor\n",
    "    # 'LUS', # San Luis Reservoir\n",
    "    'FOL', # Folsom    \n",
    "    # 'BUL',\n",
    "    # 'CMN', \n",
    "    # 'NML',\n",
    "    # 'DNP', # New Don Pedro Reservoir\n",
    "    # 'EXC', # Lake McClure\n",
    "    # 'WRS',\n",
    "    # 'SNL',\n",
    "    # 'CCH',\n",
    "    # 'CAS',\n",
    "    # 'CSI',\n",
    "    # 'DMV',\n",
    "    # 'MIL',\n",
    "    # 'PNF',\n",
    "]"
   ]
  },
  {
   "cell_type": "code",
   "execution_count": 3,
   "id": "184aa79a-2a57-43a2-9c9c-1402b4c6ec5e",
   "metadata": {},
   "outputs": [
    {
     "data": {
      "text/plain": [
       "9"
      ]
     },
     "execution_count": 3,
     "metadata": {},
     "output_type": "execute_result"
    }
   ],
   "source": [
    "len(major_reservoirs_list)"
   ]
  },
  {
   "cell_type": "markdown",
   "id": "a7212506-1e62-49bc-b8a9-a48a678a7b2b",
   "metadata": {},
   "source": [
    "Get current date"
   ]
  },
  {
   "cell_type": "code",
   "execution_count": 4,
   "id": "b8dac93a-1a9d-46f0-b252-a9384a540c6b",
   "metadata": {},
   "outputs": [],
   "source": [
    "tz = pytz.timezone(\"America/Los_Angeles\")"
   ]
  },
  {
   "cell_type": "code",
   "execution_count": 5,
   "id": "96ef4f6f-8b05-4fbd-bcd9-a74ba57cc02d",
   "metadata": {},
   "outputs": [
    {
     "data": {
      "text/plain": [
       "datetime.date(2024, 7, 2)"
      ]
     },
     "execution_count": 5,
     "metadata": {},
     "output_type": "execute_result"
    }
   ],
   "source": [
    "today = datetime.now(tz).date()\n",
    "today"
   ]
  },
  {
   "cell_type": "code",
   "execution_count": 6,
   "id": "27f5a687-372c-4d29-8a23-2fa4ba6abe98",
   "metadata": {},
   "outputs": [
    {
     "data": {
      "text/plain": [
       "datetime.date(2023, 7, 2)"
      ]
     },
     "execution_count": 6,
     "metadata": {},
     "output_type": "execute_result"
    }
   ],
   "source": [
    "last_year = (today - pd.DateOffset(months=12)).date()\n",
    "last_year"
   ]
  },
  {
   "cell_type": "code",
   "execution_count": 7,
   "id": "03a4ded1-1f1d-4409-92c8-3f54aa95487a",
   "metadata": {},
   "outputs": [],
   "source": [
    "class bcolors:\n",
    "    OKGREEN = '\\033[92m'\n",
    "    FAIL = '\\033[91m'\n",
    "    ENDC = '\\033[0m'\n",
    "    BOLD = '\\033[1m'"
   ]
  },
  {
   "cell_type": "code",
   "execution_count": 8,
   "id": "606ddde5-9868-4025-83cb-f17b2a211ab7",
   "metadata": {},
   "outputs": [
    {
     "name": "stdout",
     "output_type": "stream",
     "text": [
      "Downloading data for SHA...\n",
      "\u001b[1m\u001b[92mSuccess!\u001b[0m\n",
      "Downloading data for ORO...\n",
      "\u001b[1m\u001b[92mSuccess!\u001b[0m\n",
      "Downloading data for CLE...\n",
      "\u001b[1m\u001b[92mSuccess!\u001b[0m\n",
      "Downloading data for NML...\n",
      "\u001b[1m\u001b[92mSuccess!\u001b[0m\n",
      "Downloading data for SNL...\n",
      "\u001b[1m\u001b[92mSuccess!\u001b[0m\n",
      "Downloading data for DNP...\n",
      "\u001b[1m\u001b[92mSuccess!\u001b[0m\n",
      "Downloading data for BER...\n",
      "\u001b[1m\u001b[92mSuccess!\u001b[0m\n",
      "Downloading data for ALM...\n",
      "\u001b[1m\u001b[92mSuccess!\u001b[0m\n",
      "Downloading data for FOL...\n",
      "\u001b[1m\u001b[92mSuccess!\u001b[0m\n"
     ]
    }
   ],
   "source": [
    "df_list = []\n",
    "for res in major_reservoirs_list:\n",
    "    url = f\"https://cdec.water.ca.gov/dynamicapp/req/CSVDataServlet?Stations={res}&SensorNums=15&dur_code=D&Start={last_year}&End={today}\"\n",
    "    print(f\"Downloading data for {res}...\")\n",
    "    try:\n",
    "\n",
    "        df = pd.read_csv(url)\n",
    "        df_list.append(df)\n",
    "        print(f\"{bcolors.BOLD}{bcolors.OKGREEN}Success!{bcolors.ENDC}\")\n",
    "    except:\n",
    "        print(f\"{bcolors.FAIL}{bcolors.OKGREEN}Success!{bcolors.ENDC}\")"
   ]
  },
  {
   "cell_type": "code",
   "execution_count": 9,
   "id": "e310206b-a165-461c-9f2a-f44d0fb2e4ae",
   "metadata": {},
   "outputs": [],
   "source": [
    "concat = pd.concat(df_list)"
   ]
  },
  {
   "cell_type": "code",
   "execution_count": 10,
   "id": "e337f16d-32d0-430a-a1f8-72ba616f2623",
   "metadata": {},
   "outputs": [],
   "source": [
    "concat.to_csv(f\"../data/raw/dwr/major-reservoir-timeseries.csv\", index=False)"
   ]
  }
 ],
 "metadata": {
  "kernelspec": {
   "display_name": "Python 3 (ipykernel)",
   "language": "python",
   "name": "python3"
  },
  "language_info": {
   "codemirror_mode": {
    "name": "ipython",
    "version": 3
   },
   "file_extension": ".py",
   "mimetype": "text/x-python",
   "name": "python",
   "nbconvert_exporter": "python",
   "pygments_lexer": "ipython3",
   "version": "3.9.6"
  }
 },
 "nbformat": 4,
 "nbformat_minor": 5
}
