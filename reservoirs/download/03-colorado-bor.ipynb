{
 "cells": [
  {
   "cell_type": "code",
   "execution_count": 2,
   "id": "66826526-4ecc-429b-b8db-bef7ef39e7d6",
   "metadata": {},
   "outputs": [
    {
     "name": "stderr",
     "output_type": "stream",
     "text": [
      "/Users/sgreene/.local/share/virtualenvs/california-drought-scrapers-ZgUZUkcJ/lib/python3.9/site-packages/urllib3/__init__.py:35: NotOpenSSLWarning: urllib3 v2 only supports OpenSSL 1.1.1+, currently the 'ssl' module is compiled with 'LibreSSL 2.8.3'. See: https://github.com/urllib3/urllib3/issues/3020\n",
      "  warnings.warn(\n"
     ]
    }
   ],
   "source": [
    "import pytz\n",
    "import requests\n",
    "import pandas as pd\n",
    "from datetime import datetime, date, timedelta"
   ]
  },
  {
   "cell_type": "markdown",
   "id": "b504ca98-4bee-41ff-8657-08c8667c6921",
   "metadata": {},
   "source": [
    "Download daily reservoir data from Bureau of Reclamation"
   ]
  },
  {
   "cell_type": "markdown",
   "id": "0debe4c7-63f1-4ef2-9486-7a706c355362",
   "metadata": {},
   "source": [
    "List of reservoir IDs"
   ]
  },
  {
   "cell_type": "code",
   "execution_count": 3,
   "id": "99e15286-f694-4c39-bdfd-b609bca5e18f",
   "metadata": {},
   "outputs": [],
   "source": [
    "colorado_river_ids = [\n",
    "    '922', # mohave\n",
    "    '919', # powell\n",
    "    '921', # mead\n",
    "    '923' # havasu\n",
    "]"
   ]
  },
  {
   "cell_type": "code",
   "execution_count": 4,
   "id": "03a4ded1-1f1d-4409-92c8-3f54aa95487a",
   "metadata": {},
   "outputs": [],
   "source": [
    "class bcolors:\n",
    "    OKGREEN = '\\033[92m'\n",
    "    FAIL = '\\033[91m'\n",
    "    ENDC = '\\033[0m'\n",
    "    BOLD = '\\033[1m'"
   ]
  },
  {
   "cell_type": "code",
   "execution_count": 5,
   "id": "606ddde5-9868-4025-83cb-f17b2a211ab7",
   "metadata": {},
   "outputs": [
    {
     "name": "stdout",
     "output_type": "stream",
     "text": [
      "Downloading data for 922...\n",
      "https://www.usbr.gov/uc/water/hydrodata/reservoir_data/922/csv/17.csv\n",
      "\u001b[1m\u001b[92mSuccess!\u001b[0m\n",
      "Downloading data for 919...\n",
      "https://www.usbr.gov/uc/water/hydrodata/reservoir_data/919/csv/17.csv\n",
      "\u001b[1m\u001b[92mSuccess!\u001b[0m\n",
      "Downloading data for 921...\n",
      "https://www.usbr.gov/uc/water/hydrodata/reservoir_data/921/csv/17.csv\n",
      "\u001b[1m\u001b[92mSuccess!\u001b[0m\n",
      "Downloading data for 923...\n",
      "https://www.usbr.gov/uc/water/hydrodata/reservoir_data/923/csv/17.csv\n",
      "\u001b[1m\u001b[92mSuccess!\u001b[0m\n"
     ]
    }
   ],
   "source": [
    "df_list = []\n",
    "for res in colorado_river_ids:\n",
    "    url = f\"https://www.usbr.gov/uc/water/hydrodata/reservoir_data/{res}/csv/17.csv\"\n",
    "    print(f\"Downloading data for {res}...\")\n",
    "    print(url)\n",
    "    try:\n",
    "\n",
    "        df = pd.read_csv(url)\n",
    "        df[\"bor_id\"] = res\n",
    "        df_list.append(df)\n",
    "        print(f\"{bcolors.BOLD}{bcolors.OKGREEN}Success!{bcolors.ENDC}\")\n",
    "    except:\n",
    "        print(f\"{bcolors.FAIL}{bcolors.OKGREEN}Success!{bcolors.ENDC}\")"
   ]
  },
  {
   "cell_type": "code",
   "execution_count": 6,
   "id": "e310206b-a165-461c-9f2a-f44d0fb2e4ae",
   "metadata": {},
   "outputs": [],
   "source": [
    "concat = pd.concat(df_list)"
   ]
  },
  {
   "cell_type": "markdown",
   "id": "60051680-70b5-4907-a0ef-7815a73d1096",
   "metadata": {},
   "source": [
    "Match names to IDs"
   ]
  },
  {
   "cell_type": "code",
   "execution_count": 7,
   "id": "35f286a0-b828-41e9-9216-7aabe2365afb",
   "metadata": {},
   "outputs": [],
   "source": [
    "res_names_dict = {\n",
    "    '922' : 'Lake Mohave', \n",
    "    '919' : 'Lake Powell',\n",
    "    '921' : 'Lake Mead', \n",
    "    '923' : 'Lake Havasu'\n",
    "}"
   ]
  },
  {
   "cell_type": "code",
   "execution_count": 8,
   "id": "9d98c50a-9605-4acd-ba2d-add49c84e167",
   "metadata": {},
   "outputs": [],
   "source": [
    "concat[\"reservoir_name\"] = concat[\"bor_id\"].map(res_names_dict)"
   ]
  },
  {
   "cell_type": "code",
   "execution_count": 9,
   "id": "27aa6026-bca4-4cf8-b6e6-ff45f9d3a54b",
   "metadata": {},
   "outputs": [],
   "source": [
    "res_id_dict = {\n",
    "    '922' : 'MHV', \n",
    "    '919' : 'PWL',\n",
    "    '921' : 'MEA', \n",
    "    '923' : 'HVS'\n",
    "}"
   ]
  },
  {
   "cell_type": "code",
   "execution_count": 10,
   "id": "abfe2711-4dfc-4795-b734-30c142f9db5f",
   "metadata": {},
   "outputs": [],
   "source": [
    "concat[\"reservoir_id\"] = concat[\"bor_id\"].map(res_id_dict)"
   ]
  },
  {
   "cell_type": "code",
   "execution_count": 11,
   "id": "af92ff65-7e8a-4336-af3a-df24f4f30cab",
   "metadata": {},
   "outputs": [],
   "source": [
    "concat[\"date\"] = pd.to_datetime(concat[\"datetime\"])"
   ]
  },
  {
   "cell_type": "markdown",
   "id": "a7cfd02e-4c5f-48b0-9100-e9f6320904dd",
   "metadata": {},
   "source": [
    "Trim dataframe"
   ]
  },
  {
   "cell_type": "code",
   "execution_count": 12,
   "id": "a6d135eb-6dc0-4d27-a5e5-ac593d95240b",
   "metadata": {},
   "outputs": [],
   "source": [
    "trim_df = concat[[\"reservoir_id\", \"reservoir_name\", \"date\", \"storage\"]]"
   ]
  },
  {
   "cell_type": "code",
   "execution_count": 13,
   "id": "e337f16d-32d0-430a-a1f8-72ba616f2623",
   "metadata": {},
   "outputs": [],
   "source": [
    "trim_df.to_csv(f\"../data/raw/bor/colorado-river-reservoir-bor-timeseries.csv\", index=False)"
   ]
  }
 ],
 "metadata": {
  "kernelspec": {
   "display_name": "Python 3 (ipykernel)",
   "language": "python",
   "name": "python3"
  },
  "language_info": {
   "codemirror_mode": {
    "name": "ipython",
    "version": 3
   },
   "file_extension": ".py",
   "mimetype": "text/x-python",
   "name": "python",
   "nbconvert_exporter": "python",
   "pygments_lexer": "ipython3",
   "version": "3.9.6"
  }
 },
 "nbformat": 4,
 "nbformat_minor": 5
}
